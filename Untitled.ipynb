{
 "cells": [
  {
   "cell_type": "code",
   "execution_count": 1,
   "id": "652d6140",
   "metadata": {},
   "outputs": [
    {
     "name": "stderr",
     "output_type": "stream",
     "text": [
      "REJECTED ERRONEOUS\n",
      "!scala\n",
      "cannot find symbol\n",
      "  symbol:   variable scala\n",
      "  location: class \n"
     ]
    }
   ],
   "source": [
    "!scala"
   ]
  },
  {
   "cell_type": "code",
   "execution_count": 2,
   "id": "d894b415",
   "metadata": {},
   "outputs": [
    {
     "name": "stderr",
     "output_type": "stream",
     "text": [
      "REJECTED ERRONEOUS\n",
      "scala\n",
      "cannot find symbol\n",
      "  symbol:   variable scala\n",
      "  location: class \n"
     ]
    }
   ],
   "source": [
    "scala"
   ]
  },
  {
   "cell_type": "code",
   "execution_count": 3,
   "id": "6e138d8d",
   "metadata": {},
   "outputs": [
    {
     "name": "stderr",
     "output_type": "stream",
     "text": [
      "No scala REPL available\n"
     ]
    }
   ],
   "source": [
    "%%scala"
   ]
  },
  {
   "cell_type": "code",
   "execution_count": 4,
   "id": "0bd7c3df",
   "metadata": {},
   "outputs": [
    {
     "name": "stderr",
     "output_type": "stream",
     "text": [
      "No scala REPL available\n"
     ]
    }
   ],
   "source": [
    "%%scala\n",
    "val i <- 5"
   ]
  },
  {
   "cell_type": "code",
   "execution_count": null,
   "id": "1df3c609",
   "metadata": {},
   "outputs": [],
   "source": []
  }
 ],
 "metadata": {
  "kernelspec": {
   "display_name": "Ganymede 1.1.0.20210614 (Java 11)",
   "language": "java",
   "name": "ganymede-1.1.0.20210614-java-11"
  },
  "language_info": {
   "file_extension": ".java",
   "mimetype": "text/x-java",
   "name": "java",
   "version": "11"
  }
 },
 "nbformat": 4,
 "nbformat_minor": 5
}
