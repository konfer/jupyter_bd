{
 "cells": [
  {
   "cell_type": "markdown",
   "metadata": {},
   "source": [
    "## Facebook FastText\n",
    "by @寒小阳\n",
    "\n",
    "fasttext是facebook开源的一个词向量与文本分类工具，在学术上没有太多创新点，好处是模型简单，训练速度非常快。简单尝试可以发现，用起来还是非常顺手的，做出来的结果也不错，可以达到上线使用的标准。\n",
    "\n",
    "简单说来，fastText做的事情，就是把文档中所有词通过lookup table变成向量，取平均后直接用线性分类器得到分类结果。fastText和ACL-15上的deep averaging network(DAN，如下图)比较相似，是一个简化的版本，去掉了中间的隐层。论文指出了对一些简单的分类任务，没有必要使用太复杂的网络结构就可以取得差不多的结果。\n",
    "![](fast_text.png)\n",
    "\n",
    "\n",
    "### fastText结构\n",
    "\n",
    "\n",
    "fastText论文中提到了两个tricks\n",
    "\n",
    "- hierarchical softmax\n",
    "\n",
    "类别数较多时，通过构建一个霍夫曼编码树来加速softmax layer的计算，和之前word2vec中的trick相同\n",
    "\n",
    "- N-gram features\n",
    "\n",
    "只用unigram的话会丢掉word order信息，所以通过加入N-gram features进行补充用hashing来减少N-gram的存储\n",
    "\n",
    "## fastText有监督学习(分类)示例\n",
    "\n",
    "可以通过pip install fasttext安装包含fasttext python的接口的package\n",
    "\n",
    "fastText做文本分类要求文本是如下的存储形式：\n",
    "\n",
    "__label__2 , birchas chaim , yeshiva birchas chaim is a orthodox jewish mesivta high school in lakewood township new jersey . it was founded by rabbi shmuel zalmen stein in 2001 after his father rabbi chaim stein asked him to open a branch of telshe yeshiva in lakewood . as of the 2009-10 school year the school had an enrollment of 76 students and 6 . 6 classroom teachers ( on a fte basis ) for a student–teacher ratio of 11 . 5 1 . \n",
    "\n",
    "__label__6 , motor torpedo boat pt-41 , motor torpedo boat pt-41 was a pt-20-class motor torpedo boat of the united states navy built by the electric launch company of bayonne new jersey . the boat was laid down as motor boat submarine chaser ptc-21 but was reclassified as pt-41 prior to its launch on 8 july 1941 and was completed on 23 july 1941 . \n",
    "\n",
    "__label__11 , passiflora picturata , passiflora picturata is a species of passion flower in the passifloraceae family . \n",
    "\n",
    "__label__13 , naya din nai raat , naya din nai raat is a 1974 bollywood drama film directed by a . bhimsingh . the film is famous as sanjeev kumar reprised the nine-role epic performance by sivaji ganesan in navarathri ( 1964 ) which was also previously reprised by akkineni nageswara rao in navarathri ( telugu 1966 ) . this film had enhanced his status and reputation as an actor in hindi cinema .\n",
    "\n",
    "其中前面的__label__是前缀，也可以自己定义，__label__后接的为类别。\n",
    "\n",
    "我们定义我们的5个类别分别为：\n",
    "\n",
    "- 1:technology\n",
    "- 2:car\n",
    "- 3:entertainment\n",
    "- 4:military\n",
    "- 5:sports"
   ]
  },
  {
   "cell_type": "markdown",
   "metadata": {},
   "source": [
    "### 生成文本格式"
   ]
  },
  {
   "cell_type": "code",
   "execution_count": 1,
   "metadata": {
    "ExecuteTime": {
     "end_time": "2022-09-02T04:40:05.307267Z",
     "start_time": "2022-09-02T04:40:01.634586Z"
    }
   },
   "outputs": [],
   "source": [
    "import jieba\n",
    "import pandas as pd\n",
    "import random\n",
    "\n",
    "cate_dic = {'technology':1, 'car':2, 'entertainment':3, 'military':4, 'sports':5}\n",
    "\n",
    "df_technology = pd.read_csv(\"/usr/local/codeData/jupyterData/jupyter-bd/textCategorization/data/technology_news.csv\", encoding='utf-8')\n",
    "df_technology = df_technology.dropna()\n",
    "\n",
    "df_car = pd.read_csv(\"/usr/local/codeData/jupyterData/jupyter-bd/textCategorization/data/car_news.csv\", encoding='utf-8')\n",
    "df_car = df_car.dropna()\n",
    "\n",
    "df_entertainment = pd.read_csv(\"/usr/local/codeData/jupyterData/jupyter-bd/textCategorization/data/entertainment_news.csv\", encoding='utf-8')\n",
    "df_entertainment = df_entertainment.dropna()\n",
    "\n",
    "df_military = pd.read_csv(\"/usr/local/codeData/jupyterData/jupyter-bd/textCategorization/data/military_news.csv\", encoding='utf-8')\n",
    "df_military = df_military.dropna()\n",
    "\n",
    "df_sports = pd.read_csv(\"/usr/local/codeData/jupyterData/jupyter-bd/textCategorization/data/sports_news.csv\", encoding='utf-8')\n",
    "df_sports = df_sports.dropna()\n",
    "\n",
    "technology = df_technology.content.values.tolist()[1000:21000]\n",
    "car = df_car.content.values.tolist()[1000:21000]\n",
    "entertainment = df_entertainment.content.values.tolist()[:20000]\n",
    "military = df_military.content.values.tolist()[:20000]\n",
    "sports = df_sports.content.values.tolist()[:20000]"
   ]
  },
  {
   "cell_type": "code",
   "execution_count": 2,
   "metadata": {
    "ExecuteTime": {
     "end_time": "2022-09-02T04:40:05.321590Z",
     "start_time": "2022-09-02T04:40:05.309809Z"
    }
   },
   "outputs": [],
   "source": [
    "stopwords=pd.read_csv(\"/usr/local/codeData/jupyterData/jupyter-bd/textCategorization/data/stopwords.txt\",index_col=False,quoting=3,sep=\"\\t\",names=['stopword'], encoding='utf-8')\n",
    "stopwords=stopwords['stopword'].values\n",
    "\n",
    "def preprocess_text(content_lines, sentences, category):\n",
    "    for line in content_lines:\n",
    "        try:\n",
    "            segs=jieba.lcut(line)\n",
    "            segs = filter(lambda x:len(x)>1, segs)\n",
    "            segs = filter(lambda x:x not in stopwords, segs)\n",
    "            sentences.append(\"__label__\"+str(category)+\" , \"+\" \".join(segs))\n",
    "        except Exception:\n",
    "            print (line)\n",
    "            continue "
   ]
  },
  {
   "cell_type": "code",
   "execution_count": 3,
   "metadata": {
    "ExecuteTime": {
     "end_time": "2022-09-02T04:43:20.429130Z",
     "start_time": "2022-09-02T04:40:05.323528Z"
    }
   },
   "outputs": [
    {
     "name": "stderr",
     "output_type": "stream",
     "text": [
      "Building prefix dict from the default dictionary ...\n",
      "Loading model from cache /tmp/jieba.cache\n",
      "Loading model cost 0.761 seconds.\n",
      "Prefix dict has been built successfully.\n"
     ]
    }
   ],
   "source": [
    "#生成训练数据\n",
    "sentences = []\n",
    "\n",
    "preprocess_text(technology, sentences, cate_dic['technology'])\n",
    "preprocess_text(car, sentences, cate_dic['car'])\n",
    "preprocess_text(entertainment, sentences, cate_dic['entertainment'])\n",
    "preprocess_text(military, sentences, cate_dic['military'])\n",
    "preprocess_text(sports, sentences, cate_dic['sports'])\n",
    "\n",
    "random.shuffle(sentences)"
   ]
  },
  {
   "cell_type": "code",
   "execution_count": 4,
   "metadata": {
    "ExecuteTime": {
     "end_time": "2022-09-02T04:43:20.441894Z",
     "start_time": "2022-09-02T04:43:20.432525Z"
    }
   },
   "outputs": [
    {
     "data": {
      "text/plain": [
       "'__label__3 , 指引 一言以蔽之 遏制 天价 片酬 思路 明星 中心 编剧 中心 收入 激励 核心 要素 打破 利益 分配 格局'"
      ]
     },
     "execution_count": 4,
     "metadata": {},
     "output_type": "execute_result"
    }
   ],
   "source": [
    "sentences[0]"
   ]
  },
  {
   "cell_type": "code",
   "execution_count": 5,
   "metadata": {
    "ExecuteTime": {
     "end_time": "2022-09-02T04:43:20.562187Z",
     "start_time": "2022-09-02T04:43:20.444719Z"
    }
   },
   "outputs": [
    {
     "name": "stdout",
     "output_type": "stream",
     "text": [
      "writing data to fasttext format...\n",
      "done!\n"
     ]
    }
   ],
   "source": [
    "print (\"writing data to fasttext format...\")\n",
    "out = open('train_data.txt', 'w')\n",
    "for sentence in sentences:\n",
    "    out.write(sentence+\"\\n\")\n",
    "print (\"done!\")"
   ]
  },
  {
   "cell_type": "markdown",
   "metadata": {},
   "source": [
    "### 调用fastText训练生成模型"
   ]
  },
  {
   "cell_type": "code",
   "execution_count": 6,
   "metadata": {
    "ExecuteTime": {
     "end_time": "2022-09-02T04:43:46.422677Z",
     "start_time": "2022-09-02T04:43:20.566291Z"
    }
   },
   "outputs": [
    {
     "name": "stderr",
     "output_type": "stream",
     "text": [
      "Read 2M words\n",
      "Number of words:  138518\n",
      "Number of labels: 5\n",
      "Progress: 100.0% words/sec/thread: 1067180 lr:  0.000000 avg.loss:  0.353969 ETA:   0h 0m 0s\n"
     ]
    }
   ],
   "source": [
    "import fasttext\n",
    "#https://fasttext.cc/blog/2019/06/25/blog-post.html#2-you-were-using-the-unofficial-fasttext-module\n",
    "\n",
    "classifier = fasttext.train_supervised(\"train_data.txt\", lr=0.1, dim=100, epoch=5 ,word_ngrams=2, loss='softmax')\n",
    "classifier.save_model(\"model_file.bin\")\n",
    "\n",
    "# classifier = fasttext.supervised('train_data.txt', \n",
    "#                                        model='classifier.model', \n",
    "#                                        label_prefix='__label__')"
   ]
  },
  {
   "cell_type": "markdown",
   "metadata": {},
   "source": [
    "### 对模型效果进行评估"
   ]
  },
  {
   "cell_type": "code",
   "execution_count": 7,
   "metadata": {
    "ExecuteTime": {
     "end_time": "2022-09-02T04:43:51.291524Z",
     "start_time": "2022-09-02T04:43:46.456021Z"
    }
   },
   "outputs": [],
   "source": [
    "result = classifier.test('train_data.txt')"
   ]
  },
  {
   "cell_type": "code",
   "execution_count": 8,
   "metadata": {
    "ExecuteTime": {
     "end_time": "2022-09-02T04:43:51.336424Z",
     "start_time": "2022-09-02T04:43:51.302705Z"
    }
   },
   "outputs": [
    {
     "data": {
      "text/plain": [
       "(87573, 0.9829399472440136, 0.9829399472440136)"
      ]
     },
     "execution_count": 8,
     "metadata": {},
     "output_type": "execute_result"
    }
   ],
   "source": [
    "result"
   ]
  },
  {
   "cell_type": "code",
   "execution_count": 9,
   "metadata": {
    "ExecuteTime": {
     "end_time": "2022-09-02T04:43:51.342206Z",
     "start_time": "2022-09-02T04:43:51.338629Z"
    }
   },
   "outputs": [
    {
     "name": "stdout",
     "output_type": "stream",
     "text": [
      "P@1: 0.9829399472440136\n",
      "R@1: 0.9829399472440136\n",
      "Number of examples: 87573\n"
     ]
    }
   ],
   "source": [
    "print ('P@1:', result[1])\n",
    "print ('R@1:', result[2])\n",
    "print ('Number of examples:', result[0])"
   ]
  },
  {
   "cell_type": "markdown",
   "metadata": {},
   "source": [
    "### 实际预测"
   ]
  },
  {
   "cell_type": "code",
   "execution_count": 10,
   "metadata": {
    "ExecuteTime": {
     "end_time": "2022-09-02T04:43:51.450219Z",
     "start_time": "2022-09-02T04:43:51.345682Z"
    }
   },
   "outputs": [
    {
     "name": "stdout",
     "output_type": "stream",
     "text": [
      "([['__label__5']], [array([0.9999566], dtype=float32)])\n",
      "sports\n"
     ]
    }
   ],
   "source": [
    "label_to_cate = {1:'technology', 2:'car', 3:'entertainment', 4:'military', 5:'sports'}\n",
    "\n",
    "texts = ['中新网 日电 2018 预赛 亚洲区 强赛 中国队 韩国队 较量 比赛 上半场 分钟 主场 作战 中国队 率先 打破 场上 僵局 利用 角球 机会 大宝 前点 攻门 得手 中国队 领先']\n",
    "labels = classifier.predict(texts)\n",
    "print (labels)\n",
    "print (label_to_cate[int(labels[0][0][0][-1])])"
   ]
  },
  {
   "cell_type": "code",
   "execution_count": 11,
   "metadata": {
    "ExecuteTime": {
     "end_time": "2022-09-02T04:43:51.455103Z",
     "start_time": "2022-09-02T04:43:51.452654Z"
    }
   },
   "outputs": [],
   "source": [
    "# labels = classifier.predict_proba(texts) .predict可以直接得到概率\n",
    "# print (labels)"
   ]
  },
  {
   "cell_type": "markdown",
   "metadata": {},
   "source": [
    "### TopK个预测结果"
   ]
  },
  {
   "cell_type": "code",
   "execution_count": 12,
   "metadata": {
    "ExecuteTime": {
     "end_time": "2022-09-02T04:43:51.463448Z",
     "start_time": "2022-09-02T04:43:51.457322Z"
    }
   },
   "outputs": [
    {
     "name": "stdout",
     "output_type": "stream",
     "text": [
      "([['__label__5', '__label__4', '__label__3']], [array([9.9995661e-01, 4.5699966e-05, 2.1432630e-05], dtype=float32)])\n"
     ]
    }
   ],
   "source": [
    "labels = classifier.predict(texts, k=3)\n",
    "print (labels)\n",
    "# labels = classifier.predict_proba(texts, k=3)\n",
    "# print (labels)"
   ]
  },
  {
   "cell_type": "markdown",
   "metadata": {},
   "source": [
    "## Fasttext文本无监督学习"
   ]
  },
  {
   "cell_type": "code",
   "execution_count": 13,
   "metadata": {
    "ExecuteTime": {
     "end_time": "2022-09-02T04:44:39.711453Z",
     "start_time": "2022-09-02T04:43:51.465573Z"
    }
   },
   "outputs": [],
   "source": [
    "def preprocess_text_unsupervised(content_lines, sentences, category):\n",
    "    for line in content_lines:\n",
    "        try:\n",
    "            segs=jieba.lcut(line)\n",
    "            segs = filter(lambda x:len(x)>1 and x not in stopwords, segs)\n",
    "#             segs = filter(lambda x:, segs)\n",
    "            sentences.append(\" \".join(segs))\n",
    "        except Exception:\n",
    "            print (line)\n",
    "            continue\n",
    "#生成无监督训练数据\n",
    "sentences = []\n",
    "\n",
    "preprocess_text_unsupervised(technology, sentences, cate_dic['technology'])"
   ]
  },
  {
   "cell_type": "code",
   "execution_count": 14,
   "metadata": {
    "ExecuteTime": {
     "end_time": "2022-09-02T04:45:05.358983Z",
     "start_time": "2022-09-02T04:44:39.713527Z"
    }
   },
   "outputs": [],
   "source": [
    "preprocess_text_unsupervised(car, sentences, cate_dic['car'])"
   ]
  },
  {
   "cell_type": "code",
   "execution_count": 15,
   "metadata": {
    "ExecuteTime": {
     "end_time": "2022-09-02T04:45:50.931050Z",
     "start_time": "2022-09-02T04:45:05.361337Z"
    }
   },
   "outputs": [],
   "source": [
    "preprocess_text_unsupervised(entertainment, sentences, cate_dic['entertainment'])"
   ]
  },
  {
   "cell_type": "code",
   "execution_count": 16,
   "metadata": {
    "ExecuteTime": {
     "end_time": "2022-09-02T04:46:23.918421Z",
     "start_time": "2022-09-02T04:45:50.933222Z"
    }
   },
   "outputs": [],
   "source": [
    "preprocess_text_unsupervised(military, sentences, cate_dic['military'])"
   ]
  },
  {
   "cell_type": "code",
   "execution_count": 17,
   "metadata": {
    "ExecuteTime": {
     "end_time": "2022-09-02T04:47:04.890691Z",
     "start_time": "2022-09-02T04:46:23.920399Z"
    }
   },
   "outputs": [
    {
     "name": "stdout",
     "output_type": "stream",
     "text": [
      "writing data to fasttext unsupervised learning format...\n",
      "done!\n"
     ]
    }
   ],
   "source": [
    "preprocess_text(sports, sentences, cate_dic['sports'])\n",
    "\n",
    "print (\"writing data to fasttext unsupervised learning format...\")\n",
    "out = open('unsupervised_train_data.txt', 'w')\n",
    "for sentence in sentences:\n",
    "    out.write(sentence+\"\\n\")\n",
    "print (\"done!\" )  "
   ]
  },
  {
   "cell_type": "code",
   "execution_count": 18,
   "metadata": {
    "ExecuteTime": {
     "end_time": "2022-09-02T04:48:33.402405Z",
     "start_time": "2022-09-02T04:47:04.892519Z"
    }
   },
   "outputs": [
    {
     "name": "stderr",
     "output_type": "stream",
     "text": [
      "Read 2M words\n",
      "Number of words:  41643\n",
      "Number of labels: 1\n",
      "Progress: 100.0% words/sec/thread:   51988 lr:  0.000000 avg.loss:  1.810080 ETA:   0h 0m 0s100.0% words/sec/thread:   51988 lr: -0.000000 avg.loss:  1.810080 ETA:   0h 0m 0s\n"
     ]
    }
   ],
   "source": [
    "import fasttext\n",
    "model = fasttext.train_unsupervised(\"unsupervised_train_data.txt\", model='skipgram', lr=0.05, dim=100, ws=5, epoch=5)\n",
    "model.save_model(\"skipgram_file.bin\")\n",
    "# Skipgram model\n",
    "\n",
    "# model = fasttext.skipgram('unsupervised_train_data.txt', 'model')\n",
    "# print (model.words) # list of words in dictionary\n",
    "\n",
    "# # CBOW model\n",
    "# model = fasttext.cbow('unsupervised_train_data.txt', 'model')\n",
    "# print (model.words) # list of words in dictionary"
   ]
  },
  {
   "cell_type": "code",
   "execution_count": 19,
   "metadata": {
    "ExecuteTime": {
     "end_time": "2022-09-02T04:48:33.418242Z",
     "start_time": "2022-09-02T04:48:33.404342Z"
    }
   },
   "outputs": [
    {
     "name": "stdout",
     "output_type": "stream",
     "text": [
      "['</s>', ',', '中国', '发展', '汽车', '用户', '技术', '比赛', '市场', '平台', '服务', '电影', '产品', '2017', '企业', '数据', '北京', '公司', '互联网', '行业', '手机', '提供', '内容', '美国', '未来', '时间', '工作', '品牌', '日电', '网络', '智能', '国家', '合作', '观众', '能力', '系统', '世界', '全球', '领域', '球员', '直播', '创新', '训练', '提升', '中新网', '国际', '足球', '希望', '国内', '信息', '战略', '节目', '方式', '情况', '活动', '媒体', '生活', '去年', '球队', '视频', '项目', '带来', '科技', '发布', '包括', '消费者', '现场', '产业', '相关', '体验', '俱乐部', '建设', '增长', '体育', '显示', '超过', '全国', '需求', '设计', '人工智能', '百度', '城市', '模式', '赛事', '关注', '打造', '新能源', '上海', '参加', '推出', '文化', '业务', '表现', '功能', '选择', '集团', '导演', '海军', '拥有', '发现']\n",
      "[ 0.38464445  0.5256937   0.16470358  0.283395   -0.23804471 -0.48227912\n",
      " -0.20009351  0.45830518 -0.09409188  0.39611045 -0.23909107 -0.25167876\n",
      " -0.09522913  0.11575998 -0.00747415 -0.11214487 -0.4335881  -0.57697177\n",
      " -0.5558986   0.0837727  -0.12260437  0.70339715 -0.24817887  0.5360349\n",
      " -0.27602118  0.10558875 -0.52715206  0.5204655   0.07781375  0.24900925\n",
      " -0.20513883 -0.03990277 -0.10823186 -0.20643654  0.7072339  -0.43358773\n",
      " -0.6836169  -0.08503126 -0.18071195 -0.06391443 -0.3317004  -0.07944929\n",
      "  0.263545   -0.37491816 -0.14695117  0.80211556 -0.0730887   0.25549906\n",
      " -0.14932926 -0.69349396 -0.31472787  0.42486376 -0.37721795  0.30686176\n",
      "  0.18735956 -0.00802784  0.65200543  0.21542752  0.01236407  0.5657805\n",
      "  0.78077835  0.69362193  0.516481   -0.23889938  0.2509577   0.21142563\n",
      " -0.21868843  0.28343952 -0.60648155 -0.338475   -0.9183168   0.7176627\n",
      "  0.15890431 -0.6024783   0.58334583 -0.7256826   0.541166   -0.07634766\n",
      "  0.5972779   0.36322284  0.04654599  0.38772905 -0.30302697  1.0960066\n",
      "  0.66293854  0.421305    0.48888683 -0.03373676  0.53946185 -0.11902003\n",
      " -0.5133447  -0.11566834  0.3887849   0.40542644  0.43570197  0.42421293\n",
      " -0.5439183   1.073919   -0.45899552  0.3346822 ]\n"
     ]
    }
   ],
   "source": [
    "print(model.words[0:100])\n",
    "print (model['赛季'])"
   ]
  },
  {
   "cell_type": "markdown",
   "metadata": {},
   "source": [
    "## 对比gensim的word2vec"
   ]
  },
  {
   "cell_type": "code",
   "execution_count": 21,
   "metadata": {
    "ExecuteTime": {
     "end_time": "2022-09-02T04:49:28.810537Z",
     "start_time": "2022-09-02T04:49:28.163801Z"
    }
   },
   "outputs": [],
   "source": [
    "import jieba\n",
    "import pandas as pd\n",
    "import random\n",
    "\n",
    "cate_dic = {'technology':1, 'car':2, 'entertainment':3, 'military':4, 'sports':5}\n",
    "\n",
    "df_technology = pd.read_csv(\"/usr/local/codeData/jupyterData/jupyter-bd/textCategorization/data/technology_news.csv\", encoding='utf-8')\n",
    "df_technology = df_technology.dropna()\n",
    "\n",
    "df_car = pd.read_csv(\"/usr/local/codeData/jupyterData/jupyter-bd/textCategorization/data/car_news.csv\", encoding='utf-8')\n",
    "df_car = df_car.dropna()\n",
    "\n",
    "df_entertainment = pd.read_csv(\"/usr/local/codeData/jupyterData/jupyter-bd/textCategorization/data/entertainment_news.csv\", encoding='utf-8')\n",
    "df_entertainment = df_entertainment.dropna()\n",
    "\n",
    "df_military = pd.read_csv(\"/usr/local/codeData/jupyterData/jupyter-bd/textCategorization/data/military_news.csv\", encoding='utf-8')\n",
    "df_military = df_military.dropna()\n",
    "\n",
    "df_sports = pd.read_csv(\"/usr/local/codeData/jupyterData/jupyter-bd/textCategorization/data/sports_news.csv\", encoding='utf-8')\n",
    "df_sports = df_sports.dropna()\n",
    "\n",
    "technology = df_technology.content.values.tolist()[1000:21000]\n",
    "car = df_car.content.values.tolist()[1000:21000]\n",
    "entertainment = df_entertainment.content.values.tolist()[:20000]\n",
    "military = df_military.content.values.tolist()[:20000]\n",
    "sports = df_sports.content.values.tolist()[:20000]\n",
    "\n",
    "stopwords=pd.read_csv(\"/usr/local/codeData/jupyterData/jupyter-bd/textCategorization/data/stopwords.txt\",index_col=False,quoting=3,sep=\"\\t\",names=['stopword'], encoding='utf-8')\n",
    "stopwords=stopwords['stopword'].values"
   ]
  },
  {
   "cell_type": "code",
   "execution_count": 22,
   "metadata": {
    "ExecuteTime": {
     "end_time": "2022-09-02T04:49:28.816576Z",
     "start_time": "2022-09-02T04:49:28.812678Z"
    }
   },
   "outputs": [
    {
     "data": {
      "text/plain": [
       "'\\u3000\\u3000去年年中，周星驰、徐克的《西游伏妖篇》电影刚刚公布上线日期，完美世界在众多版权争夺方中脱颖而出，拿下了《西游伏妖篇》电影的独家手游开发版权，并计划同名手游将与电影同期发布。1月24日，由《西游伏妖篇》电影版权方正版授权，完美世界、聚力互娱联合发行的手游《西游伏妖篇》正式在iOS开放公测。然而，就在该作上架苹果商店的同时，苹果商店内却已有数款以“西游伏妖篇”或近似字样为名的无授权游戏产品横行肆意。'"
      ]
     },
     "execution_count": 22,
     "metadata": {},
     "output_type": "execute_result"
    }
   ],
   "source": [
    "technology[0]"
   ]
  },
  {
   "cell_type": "code",
   "execution_count": 23,
   "metadata": {
    "ExecuteTime": {
     "end_time": "2022-09-02T04:52:42.533290Z",
     "start_time": "2022-09-02T04:49:28.818254Z"
    }
   },
   "outputs": [],
   "source": [
    "def preprocess_text_unsupervised(content_lines, sentences, category):\n",
    "    for line in content_lines:\n",
    "        try:\n",
    "            segs=jieba.lcut(line)\n",
    "            segs = filter(lambda x:len(x)>1 and x not in stopwords, segs)\n",
    "#             segs = filter(lambda x:len(x)>1, segs)\n",
    "#             segs = filter(lambda x:x not in stopwords, segs)\n",
    "            sentences.append(list(segs))\n",
    "        except Exception:\n",
    "            print (line)\n",
    "            continue\n",
    "#生成无监督训练数据\n",
    "sentences = []\n",
    "\n",
    "preprocess_text_unsupervised(technology, sentences, cate_dic['technology'])\n",
    "\n",
    "preprocess_text_unsupervised(car, sentences, cate_dic['car'])\n",
    "preprocess_text_unsupervised(entertainment, sentences, cate_dic['entertainment'])\n",
    "preprocess_text_unsupervised(military, sentences, cate_dic['military'])\n",
    "preprocess_text_unsupervised(sports, sentences, cate_dic['sports'])"
   ]
  },
  {
   "cell_type": "code",
   "execution_count": 24,
   "metadata": {
    "ExecuteTime": {
     "end_time": "2022-09-02T04:53:06.879141Z",
     "start_time": "2022-09-02T04:52:42.536179Z"
    }
   },
   "outputs": [],
   "source": [
    "from gensim.models import Word2Vec\n",
    "model = Word2Vec(sentences, size=100, window=5, min_count=5, workers=4)\n",
    "model.save(\"gensim_word2vec.model\")"
   ]
  },
  {
   "cell_type": "code",
   "execution_count": 25,
   "metadata": {
    "ExecuteTime": {
     "end_time": "2022-09-02T04:53:06.887358Z",
     "start_time": "2022-09-02T04:53:06.881425Z"
    }
   },
   "outputs": [
    {
     "data": {
      "text/plain": [
       "array([ 1.34200644e+00,  1.33819652e+00, -8.88573587e-01,  1.07016146e+00,\n",
       "       -1.63786304e+00, -1.00203626e-01, -8.65577579e-01,  9.92751300e-01,\n",
       "        6.39973819e-01,  7.53422976e-01,  1.93136215e-01,  4.39125568e-01,\n",
       "       -1.42659056e+00,  1.98122300e-03,  5.18594801e-01, -1.07973099e+00,\n",
       "        1.23641300e+00,  7.67392755e-01,  9.01606143e-01,  7.35682189e-01,\n",
       "        1.39535522e+00,  1.38254046e+00, -3.41796994e-01,  1.65568507e+00,\n",
       "        2.05397153e+00,  2.41655130e-02, -2.17170358e-01,  1.02553163e-02,\n",
       "       -2.21165705e+00, -1.29946005e+00, -6.98596597e-01,  8.50975811e-01,\n",
       "        1.29141903e+00,  1.62934586e-01,  1.08236182e+00,  9.67248917e-01,\n",
       "       -1.19605029e+00, -1.53455043e+00, -1.40964997e+00, -6.85151935e-01,\n",
       "       -9.69715774e-01, -2.48186179e-02, -3.69338065e-01,  3.51844914e-02,\n",
       "       -1.84719825e+00, -1.90779552e-01,  9.79875922e-01, -1.17010140e+00,\n",
       "       -1.41697556e-01,  1.41309559e+00,  3.65389079e-01,  1.05244970e+00,\n",
       "       -1.11130261e+00, -1.38889182e+00, -2.97826558e-01, -1.39958894e+00,\n",
       "       -5.59851468e-01, -2.79395550e-01, -2.38984022e-02,  9.20594409e-02,\n",
       "        6.00740671e-01, -8.32259297e-01, -5.28691150e-03, -1.50476456e-01,\n",
       "       -6.92641079e-01, -4.48002607e-01, -5.32775342e-01,  1.23078473e-01,\n",
       "        7.06477284e-01,  1.52993858e+00, -1.01941490e+00,  3.97728235e-01,\n",
       "       -1.01393580e+00,  1.04705846e+00,  1.54817952e-02, -6.10923707e-01,\n",
       "        1.09982049e+00,  1.19609833e+00,  8.64918351e-01, -8.43439102e-01,\n",
       "        4.38825756e-01, -2.42765814e-01, -1.31774336e-01,  2.09696960e+00,\n",
       "       -7.90172935e-01, -5.66008426e-02,  2.86194056e-01,  3.31440181e-01,\n",
       "       -1.74680397e-01, -1.68535799e-01, -5.02238274e-01,  1.62209535e+00,\n",
       "       -9.83757436e-01, -1.82629958e-01,  1.34933293e+00, -2.78264582e-02,\n",
       "       -1.02869678e+00,  9.42856312e-01,  4.55044687e-01,  1.58481646e+00],\n",
       "      dtype=float32)"
      ]
     },
     "execution_count": 25,
     "metadata": {},
     "output_type": "execute_result"
    }
   ],
   "source": [
    "model.wv[\"西游\"]"
   ]
  },
  {
   "cell_type": "code",
   "execution_count": 26,
   "metadata": {
    "ExecuteTime": {
     "end_time": "2022-09-02T04:53:06.961866Z",
     "start_time": "2022-09-02T04:53:06.889624Z"
    }
   },
   "outputs": [
    {
     "data": {
      "text/plain": [
       "[('亚冠', 0.8700935244560242),\n",
       " ('OL3', 0.8449038863182068),\n",
       " ('国安', 0.8443719148635864),\n",
       " ('本赛季', 0.8385491371154785),\n",
       " ('中甲', 0.8265472650527954),\n",
       " ('辽足', 0.8256725072860718),\n",
       " ('延后', 0.8246681690216064),\n",
       " ('中超联赛', 0.8166651725769043),\n",
       " ('国奥队', 0.8166406154632568),\n",
       " ('BIG4', 0.8158341646194458)]"
      ]
     },
     "execution_count": 26,
     "metadata": {},
     "output_type": "execute_result"
    }
   ],
   "source": [
    "model.wv.most_similar('赛季')"
   ]
  }
 ],
 "metadata": {
  "hide_input": false,
  "kernelspec": {
   "display_name": "Python 3 (ipykernel)",
   "language": "python",
   "name": "python3"
  },
  "language_info": {
   "codemirror_mode": {
    "name": "ipython",
    "version": 3
   },
   "file_extension": ".py",
   "mimetype": "text/x-python",
   "name": "python",
   "nbconvert_exporter": "python",
   "pygments_lexer": "ipython3",
   "version": "3.8.10"
  },
  "toc": {
   "base_numbering": 1,
   "nav_menu": {},
   "number_sections": true,
   "sideBar": true,
   "skip_h1_title": false,
   "title_cell": "Table of Contents",
   "title_sidebar": "Contents",
   "toc_cell": false,
   "toc_position": {},
   "toc_section_display": true,
   "toc_window_display": false
  }
 },
 "nbformat": 4,
 "nbformat_minor": 2
}
