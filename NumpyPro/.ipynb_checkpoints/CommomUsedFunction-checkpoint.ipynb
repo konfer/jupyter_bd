{
 "cells": [
  {
   "cell_type": "code",
   "execution_count": 92,
   "metadata": {},
   "outputs": [],
   "source": [
    "import numpy as np\n",
    "import sys\n",
    "from datetime import datetime\n",
    "from matplotlib.pyplot import plot\n",
    "from matplotlib.pyplot import show"
   ]
  },
  {
   "cell_type": "code",
   "execution_count": 93,
   "metadata": {
    "scrolled": true
   },
   "outputs": [],
   "source": [
    "i2=np.eye(2)"
   ]
  },
  {
   "cell_type": "code",
   "execution_count": 94,
   "metadata": {
    "scrolled": true
   },
   "outputs": [
    {
     "data": {
      "text/plain": [
       "array([[1., 0.],\n",
       "       [0., 1.]])"
      ]
     },
     "execution_count": 94,
     "metadata": {},
     "output_type": "execute_result"
    }
   ],
   "source": [
    "i2"
   ]
  },
  {
   "cell_type": "markdown",
   "metadata": {},
   "source": [
    "# 1 use the function savetxt() to sava the data to the txt files"
   ]
  },
  {
   "cell_type": "code",
   "execution_count": 95,
   "metadata": {},
   "outputs": [],
   "source": [
    "np.savetxt(\"eye.txt\",i2)"
   ]
  },
  {
   "cell_type": "markdown",
   "metadata": {},
   "source": [
    "# 2 csv"
   ]
  },
  {
   "cell_type": "code",
   "execution_count": 96,
   "metadata": {},
   "outputs": [],
   "source": [
    "c,v=np.loadtxt('/usr/local/konfer/jupyterPro/numpyProCode/Code/ch3code/data.csv',delimiter=',', usecols=(6,7),unpack=True)"
   ]
  },
  {
   "cell_type": "code",
   "execution_count": 97,
   "metadata": {},
   "outputs": [
    {
     "data": {
      "text/plain": [
       "array([336.1 , 339.32, 345.03, 344.32, 343.44, 346.5 , 351.88, 355.2 ,\n",
       "       358.16, 354.54, 356.85, 359.18, 359.9 , 363.13, 358.3 , 350.56,\n",
       "       338.61, 342.62, 342.88, 348.16, 353.21, 349.31, 352.12, 359.56,\n",
       "       360.  , 355.36, 355.76, 352.47, 346.67, 351.99])"
      ]
     },
     "execution_count": 97,
     "metadata": {},
     "output_type": "execute_result"
    }
   ],
   "source": [
    "c"
   ]
  },
  {
   "cell_type": "code",
   "execution_count": 98,
   "metadata": {},
   "outputs": [
    {
     "data": {
      "text/plain": [
       "array([21144800., 13473000., 15236800.,  9242600., 14064100., 11494200.,\n",
       "       17322100., 13608500., 17240800., 33162400., 13127500., 11086200.,\n",
       "       10149000., 17184100., 18949000., 29144500., 31162200., 23994700.,\n",
       "       17853500., 13572000., 14395400., 16290300., 21521000., 17885200.,\n",
       "       16188000., 19504300., 12718000., 16192700., 18138800., 16824200.])"
      ]
     },
     "execution_count": 98,
     "metadata": {},
     "output_type": "execute_result"
    }
   ],
   "source": [
    "v"
   ]
  },
  {
   "cell_type": "code",
   "execution_count": 99,
   "metadata": {},
   "outputs": [],
   "source": [
    "vwap=np.average(c,weights=v)"
   ]
  },
  {
   "cell_type": "code",
   "execution_count": 100,
   "metadata": {},
   "outputs": [
    {
     "data": {
      "text/plain": [
       "350.5895493532009"
      ]
     },
     "execution_count": 100,
     "metadata": {},
     "output_type": "execute_result"
    }
   ],
   "source": [
    "vwap"
   ]
  },
  {
   "cell_type": "code",
   "execution_count": 101,
   "metadata": {},
   "outputs": [],
   "source": [
    "vwap=np.mean(c)"
   ]
  },
  {
   "cell_type": "code",
   "execution_count": 102,
   "metadata": {},
   "outputs": [
    {
     "data": {
      "text/plain": [
       "351.0376666666667"
      ]
     },
     "execution_count": 102,
     "metadata": {},
     "output_type": "execute_result"
    }
   ],
   "source": [
    "vwap"
   ]
  },
  {
   "cell_type": "code",
   "execution_count": 103,
   "metadata": {},
   "outputs": [],
   "source": [
    "dataCvsPath='/usr/local/konfer/jupyterPro/numpyProCode/Code/ch3code/data.csv'"
   ]
  },
  {
   "cell_type": "code",
   "execution_count": 104,
   "metadata": {},
   "outputs": [],
   "source": [
    "h,l=np.loadtxt(dataCvsPath,delimiter=\",\",usecols=(4,5),unpack=True)"
   ]
  },
  {
   "cell_type": "code",
   "execution_count": 105,
   "metadata": {},
   "outputs": [
    {
     "name": "stdout",
     "output_type": "stream",
     "text": [
      "highest = 364.9\n"
     ]
    }
   ],
   "source": [
    "print(\"highest =\",np.max(h))"
   ]
  },
  {
   "cell_type": "code",
   "execution_count": 106,
   "metadata": {},
   "outputs": [
    {
     "name": "stdout",
     "output_type": "stream",
     "text": [
      "lowest = 333.53\n"
     ]
    }
   ],
   "source": [
    "print(\"lowest =\",np.min(l))"
   ]
  },
  {
   "cell_type": "code",
   "execution_count": 107,
   "metadata": {},
   "outputs": [
    {
     "data": {
      "text/plain": [
       "numpy.ndarray"
      ]
     },
     "execution_count": 107,
     "metadata": {},
     "output_type": "execute_result"
    }
   ],
   "source": [
    "type(l)"
   ]
  },
  {
   "cell_type": "code",
   "execution_count": 108,
   "metadata": {},
   "outputs": [],
   "source": [
    "midNdarray=np.hstack((h,l))"
   ]
  },
  {
   "cell_type": "code",
   "execution_count": 109,
   "metadata": {},
   "outputs": [],
   "source": [
    "# ? middle of the arange\n",
    "#midNdarray.m"
   ]
  },
  {
   "cell_type": "markdown",
   "metadata": {},
   "source": [
    "### range value by the function ptp()"
   ]
  },
  {
   "cell_type": "code",
   "execution_count": 110,
   "metadata": {},
   "outputs": [
    {
     "name": "stdout",
     "output_type": "stream",
     "text": [
      "24.859999999999957\n"
     ]
    }
   ],
   "source": [
    "print(np.ptp(h))"
   ]
  },
  {
   "cell_type": "code",
   "execution_count": 111,
   "metadata": {},
   "outputs": [
    {
     "name": "stdout",
     "output_type": "stream",
     "text": [
      "26.970000000000027\n"
     ]
    }
   ],
   "source": [
    "print(np.ptp(l))"
   ]
  },
  {
   "cell_type": "markdown",
   "metadata": {},
   "source": [
    "### get the median in the analysing work"
   ]
  },
  {
   "cell_type": "code",
   "execution_count": 112,
   "metadata": {},
   "outputs": [],
   "source": [
    "medianRow=np.loadtxt(dataCvsPath,delimiter=',',usecols=6,unpack=True)"
   ]
  },
  {
   "cell_type": "code",
   "execution_count": 113,
   "metadata": {},
   "outputs": [
    {
     "name": "stdout",
     "output_type": "stream",
     "text": [
      "352.055\n"
     ]
    }
   ],
   "source": [
    "print(np.median(medianRow))"
   ]
  },
  {
   "cell_type": "markdown",
   "metadata": {},
   "source": [
    "### get the variance in the analysing work"
   ]
  },
  {
   "cell_type": "code",
   "execution_count": 114,
   "metadata": {},
   "outputs": [
    {
     "data": {
      "text/plain": [
       "50.126517888888884"
      ]
     },
     "execution_count": 114,
     "metadata": {},
     "output_type": "execute_result"
    }
   ],
   "source": [
    "np.var(medianRow)"
   ]
  },
  {
   "cell_type": "markdown",
   "metadata": {},
   "source": [
    "### example of the rate of returns,use the diff of two-day returns  divide the return of the first day"
   ]
  },
  {
   "cell_type": "code",
   "execution_count": 115,
   "metadata": {},
   "outputs": [],
   "source": [
    "diffRows=np.loadtxt(dataCvsPath,delimiter=',',usecols=(6,),unpack=True)"
   ]
  },
  {
   "cell_type": "code",
   "execution_count": 116,
   "metadata": {},
   "outputs": [
    {
     "data": {
      "text/plain": [
       "array([336.1 , 339.32, 345.03, 344.32, 343.44, 346.5 , 351.88, 355.2 ,\n",
       "       358.16, 354.54, 356.85, 359.18, 359.9 , 363.13, 358.3 , 350.56,\n",
       "       338.61, 342.62, 342.88, 348.16, 353.21, 349.31, 352.12, 359.56,\n",
       "       360.  , 355.36, 355.76, 352.47, 346.67, 351.99])"
      ]
     },
     "execution_count": 116,
     "metadata": {},
     "output_type": "execute_result"
    }
   ],
   "source": [
    "diffRows"
   ]
  },
  {
   "cell_type": "code",
   "execution_count": 117,
   "metadata": {},
   "outputs": [
    {
     "data": {
      "text/plain": [
       "array([  3.22,   5.71,  -0.71,  -0.88,   3.06,   5.38,   3.32,   2.96,\n",
       "        -3.62,   2.31,   2.33,   0.72,   3.23,  -4.83,  -7.74, -11.95,\n",
       "         4.01,   0.26,   5.28,   5.05,  -3.9 ,   2.81,   7.44,   0.44,\n",
       "        -4.64,   0.4 ,  -3.29,  -5.8 ,   5.32])"
      ]
     },
     "execution_count": 117,
     "metadata": {},
     "output_type": "execute_result"
    }
   ],
   "source": [
    "np.diff(diffRows)"
   ]
  },
  {
   "cell_type": "code",
   "execution_count": 118,
   "metadata": {},
   "outputs": [
    {
     "data": {
      "text/plain": [
       "array([336.1 , 339.32, 345.03, 344.32, 343.44, 346.5 , 351.88, 355.2 ,\n",
       "       358.16, 354.54, 356.85, 359.18, 359.9 , 363.13, 358.3 , 350.56,\n",
       "       338.61, 342.62, 342.88, 348.16, 353.21, 349.31, 352.12, 359.56,\n",
       "       360.  , 355.36, 355.76, 352.47, 346.67])"
      ]
     },
     "execution_count": 118,
     "metadata": {},
     "output_type": "execute_result"
    }
   ],
   "source": [
    "diffRows[:-1]"
   ]
  },
  {
   "cell_type": "code",
   "execution_count": 119,
   "metadata": {},
   "outputs": [],
   "source": [
    "rateOfReturns=np.diff(diffRows)/diffRows[:-1]"
   ]
  },
  {
   "cell_type": "code",
   "execution_count": 120,
   "metadata": {},
   "outputs": [
    {
     "data": {
      "text/plain": [
       "array([ 0.00958048,  0.01682777, -0.00205779, -0.00255576,  0.00890985,\n",
       "        0.0155267 ,  0.00943503,  0.00833333, -0.01010721,  0.00651548,\n",
       "        0.00652935,  0.00200457,  0.00897472, -0.01330102, -0.02160201,\n",
       "       -0.03408832,  0.01184253,  0.00075886,  0.01539897,  0.01450483,\n",
       "       -0.01104159,  0.00804443,  0.02112916,  0.00122372, -0.01288889,\n",
       "        0.00112562, -0.00924781, -0.0164553 ,  0.01534601])"
      ]
     },
     "execution_count": 120,
     "metadata": {},
     "output_type": "execute_result"
    }
   ],
   "source": [
    "rateOfReturns"
   ]
  },
  {
   "cell_type": "code",
   "execution_count": 121,
   "metadata": {},
   "outputs": [
    {
     "data": {
      "text/plain": [
       "(array([ 0,  1,  4,  5,  6,  7,  9, 10, 11, 12, 16, 17, 18, 19, 21, 22, 23,\n",
       "        25, 28]),)"
      ]
     },
     "execution_count": 121,
     "metadata": {},
     "output_type": "execute_result"
    }
   ],
   "source": [
    "np.where(rateOfReturns > 0)"
   ]
  },
  {
   "cell_type": "code",
   "execution_count": 122,
   "metadata": {},
   "outputs": [
    {
     "data": {
      "text/plain": [
       "0.012922134436826306"
      ]
     },
     "execution_count": 122,
     "metadata": {},
     "output_type": "execute_result"
    }
   ],
   "source": [
    "np.std(rateOfReturns)"
   ]
  },
  {
   "cell_type": "code",
   "execution_count": 123,
   "metadata": {},
   "outputs": [],
   "source": [
    "logReturns=np.diff(np.log(diffRows))"
   ]
  },
  {
   "cell_type": "code",
   "execution_count": 124,
   "metadata": {},
   "outputs": [
    {
     "data": {
      "text/plain": [
       "array([ 0.00953488,  0.01668775, -0.00205991, -0.00255903,  0.00887039,\n",
       "        0.01540739,  0.0093908 ,  0.0082988 , -0.01015864,  0.00649435,\n",
       "        0.00650813,  0.00200256,  0.00893468, -0.01339027, -0.02183875,\n",
       "       -0.03468287,  0.01177296,  0.00075857,  0.01528161,  0.01440064,\n",
       "       -0.011103  ,  0.00801225,  0.02090904,  0.00122297, -0.01297267,\n",
       "        0.00112499, -0.00929083, -0.01659219,  0.01522945])"
      ]
     },
     "execution_count": 124,
     "metadata": {},
     "output_type": "execute_result"
    }
   ],
   "source": [
    "logReturns"
   ]
  },
  {
   "cell_type": "code",
   "execution_count": 125,
   "metadata": {},
   "outputs": [],
   "source": [
    "annual_volatility=np.std(logReturns)/np.mean(logReturns)"
   ]
  },
  {
   "cell_type": "code",
   "execution_count": 126,
   "metadata": {},
   "outputs": [],
   "source": [
    "annual_volatility=annual_volatility/np.sqrt(1./252.)"
   ]
  },
  {
   "cell_type": "code",
   "execution_count": 127,
   "metadata": {},
   "outputs": [
    {
     "data": {
      "text/plain": [
       "129.27478991115132"
      ]
     },
     "execution_count": 127,
     "metadata": {},
     "output_type": "execute_result"
    }
   ],
   "source": [
    "annual_volatility"
   ]
  },
  {
   "cell_type": "code",
   "execution_count": 128,
   "metadata": {},
   "outputs": [],
   "source": [
    "h,l,c=np.loadtxt(dataCvsPath,delimiter=',',usecols=(4,5,6,),unpack=True)"
   ]
  },
  {
   "cell_type": "code",
   "execution_count": 129,
   "metadata": {},
   "outputs": [],
   "source": [
    "N=20"
   ]
  },
  {
   "cell_type": "code",
   "execution_count": 130,
   "metadata": {},
   "outputs": [],
   "source": [
    "h_N=h[-N:]"
   ]
  },
  {
   "cell_type": "code",
   "execution_count": 131,
   "metadata": {},
   "outputs": [
    {
     "data": {
      "text/plain": [
       "array([357.8 , 359.48, 359.97, 364.9 , 360.27, 359.5 , 345.4 , 344.64,\n",
       "       345.15, 348.43, 355.05, 355.72, 354.35, 359.79, 360.29, 361.67,\n",
       "       357.4 , 354.76, 349.77, 352.32])"
      ]
     },
     "execution_count": 131,
     "metadata": {},
     "output_type": "execute_result"
    }
   ],
   "source": [
    "h_N"
   ]
  },
  {
   "cell_type": "code",
   "execution_count": 132,
   "metadata": {},
   "outputs": [],
   "source": [
    "l_N=l[-N:]"
   ]
  },
  {
   "cell_type": "code",
   "execution_count": 133,
   "metadata": {},
   "outputs": [
    {
     "data": {
      "text/plain": [
       "array([353.54, 356.71, 357.55, 360.5 , 356.52, 349.52, 337.72, 338.61,\n",
       "       338.37, 344.8 , 351.12, 347.68, 348.4 , 355.92, 357.75, 351.31,\n",
       "       352.25, 350.6 , 344.9 , 345.  ])"
      ]
     },
     "execution_count": 133,
     "metadata": {},
     "output_type": "execute_result"
    }
   ],
   "source": [
    "l_N"
   ]
  },
  {
   "cell_type": "code",
   "execution_count": 134,
   "metadata": {},
   "outputs": [],
   "source": [
    "previousClose=c[-20 -1: -1]"
   ]
  },
  {
   "cell_type": "code",
   "execution_count": 135,
   "metadata": {},
   "outputs": [
    {
     "data": {
      "text/plain": [
       "array([354.54, 356.85, 359.18, 359.9 , 363.13, 358.3 , 350.56, 338.61,\n",
       "       342.62, 342.88, 348.16, 353.21, 349.31, 352.12, 359.56, 360.  ,\n",
       "       355.36, 355.76, 352.47, 346.67])"
      ]
     },
     "execution_count": 135,
     "metadata": {},
     "output_type": "execute_result"
    }
   ],
   "source": [
    "previousClose"
   ]
  },
  {
   "cell_type": "code",
   "execution_count": 136,
   "metadata": {
    "scrolled": true
   },
   "outputs": [
    {
     "ename": "ValueError",
     "evalue": "operands could not be broadcast together with shapes (30,) (20,) ",
     "output_type": "error",
     "traceback": [
      "\u001b[0;31m---------------------------------------------------------------------------\u001b[0m",
      "\u001b[0;31mValueError\u001b[0m                                Traceback (most recent call last)",
      "\u001b[0;32m<ipython-input-136-b8956db1a379>\u001b[0m in \u001b[0;36m<module>\u001b[0;34m()\u001b[0m\n\u001b[0;32m----> 1\u001b[0;31m \u001b[0mtureRange\u001b[0m\u001b[0;34m=\u001b[0m\u001b[0mnp\u001b[0m\u001b[0;34m.\u001b[0m\u001b[0mmaximum\u001b[0m\u001b[0;34m(\u001b[0m\u001b[0mh\u001b[0m\u001b[0;34m-\u001b[0m\u001b[0;36m1\u001b[0m\u001b[0;34m,\u001b[0m\u001b[0mh\u001b[0m\u001b[0;34m-\u001b[0m\u001b[0mpreviousClose\u001b[0m\u001b[0;34m,\u001b[0m\u001b[0mprevisousClose\u001b[0m\u001b[0;34m-\u001b[0m\u001b[0;36m1\u001b[0m\u001b[0;34m)\u001b[0m\u001b[0;34m\u001b[0m\u001b[0m\n\u001b[0m",
      "\u001b[0;31mValueError\u001b[0m: operands could not be broadcast together with shapes (30,) (20,) "
     ]
    }
   ],
   "source": [
    "tureRange=np.maximum(h-1,h-previousClose,previsousClose-1)"
   ]
  },
  {
   "cell_type": "markdown",
   "metadata": {},
   "source": [
    "## SimpleMovingAverage"
   ]
  },
  {
   "cell_type": "code",
   "execution_count": 137,
   "metadata": {},
   "outputs": [],
   "source": [
    "N=5"
   ]
  },
  {
   "cell_type": "code",
   "execution_count": 138,
   "metadata": {},
   "outputs": [],
   "source": [
    "weights=np.ones(N)/N"
   ]
  },
  {
   "cell_type": "code",
   "execution_count": 139,
   "metadata": {},
   "outputs": [
    {
     "name": "stdout",
     "output_type": "stream",
     "text": [
      "[0.2 0.2 0.2 0.2 0.2]\n"
     ]
    }
   ],
   "source": [
    "print(weights)"
   ]
  },
  {
   "cell_type": "code",
   "execution_count": 140,
   "metadata": {},
   "outputs": [],
   "source": [
    "c=np.loadtxt(dataCvsPath,delimiter=',',usecols=(6,),unpack=True)"
   ]
  },
  {
   "cell_type": "code",
   "execution_count": 141,
   "metadata": {},
   "outputs": [],
   "source": [
    "sma=np.convolve(weights,c)[N-1:-N+1]"
   ]
  },
  {
   "cell_type": "code",
   "execution_count": 142,
   "metadata": {},
   "outputs": [
    {
     "data": {
      "text/plain": [
       "array([341.642, 343.722, 346.234, 348.268, 351.036, 353.256, 355.326,\n",
       "       356.786, 357.726, 358.72 , 359.472, 358.214, 354.1  , 350.644,\n",
       "       346.594, 344.566, 345.096, 347.236, 349.136, 352.472, 354.84 ,\n",
       "       355.27 , 356.56 , 356.63 , 354.052, 352.45 ])"
      ]
     },
     "execution_count": 142,
     "metadata": {},
     "output_type": "execute_result"
    }
   ],
   "source": [
    "sma"
   ]
  },
  {
   "cell_type": "code",
   "execution_count": 143,
   "metadata": {},
   "outputs": [],
   "source": [
    "t=np.arange(N-1,len(c))"
   ]
  },
  {
   "cell_type": "code",
   "execution_count": 144,
   "metadata": {},
   "outputs": [
    {
     "data": {
      "text/plain": [
       "array([ 4,  5,  6,  7,  8,  9, 10, 11, 12, 13, 14, 15, 16, 17, 18, 19, 20,\n",
       "       21, 22, 23, 24, 25, 26, 27, 28, 29])"
      ]
     },
     "execution_count": 144,
     "metadata": {},
     "output_type": "execute_result"
    }
   ],
   "source": [
    "t"
   ]
  },
  {
   "cell_type": "code",
   "execution_count": 145,
   "metadata": {},
   "outputs": [
    {
     "data": {
      "image/png": "[encoded data removed]",
      "text/plain": [
       "<Figure size 432x288 with 1 Axes>"
      ]
     },
     "metadata": {},
     "output_type": "display_data"
    }
   ],
   "source": [
    "plot(t,c[N-1:],lw=1.0)\n",
    "plot(t,sma,lw=2.0)\n",
    "show()"
   ]
  },
  {
   "cell_type": "code",
   "execution_count": 146,
   "metadata": {},
   "outputs": [],
   "source": [
    "x=np.arange(5)"
   ]
  },
  {
   "cell_type": "code",
   "execution_count": 147,
   "metadata": {},
   "outputs": [
    {
     "name": "stdout",
     "output_type": "stream",
     "text": [
      "Exp [ 1.          2.71828183  7.3890561  20.08553692 54.59815003]\n"
     ]
    }
   ],
   "source": [
    "print(\"Exp\",np.exp(x))"
   ]
  },
  {
   "cell_type": "code",
   "execution_count": 148,
   "metadata": {},
   "outputs": [
    {
     "data": {
      "text/plain": [
       "array([0, 1, 2, 3, 4])"
      ]
     },
     "execution_count": 148,
     "metadata": {},
     "output_type": "execute_result"
    }
   ],
   "source": [
    "x"
   ]
  },
  {
   "cell_type": "code",
   "execution_count": 149,
   "metadata": {},
   "outputs": [
    {
     "name": "stdout",
     "output_type": "stream",
     "text": [
      "Linspace [-1.   -0.75 -0.5  -0.25  0.  ]\n"
     ]
    }
   ],
   "source": [
    "print(\"Linspace\",np.linspace(-1,0,5))"
   ]
  },
  {
   "cell_type": "code",
   "execution_count": 150,
   "metadata": {},
   "outputs": [],
   "source": [
    "weights=np.exp(np.linspace(-1,0,5))"
   ]
  },
  {
   "cell_type": "code",
   "execution_count": 151,
   "metadata": {},
   "outputs": [
    {
     "data": {
      "text/plain": [
       "array([0.36787944, 0.47236655, 0.60653066, 0.77880078, 1.        ])"
      ]
     },
     "execution_count": 151,
     "metadata": {},
     "output_type": "execute_result"
    }
   ],
   "source": [
    "weights\n"
   ]
  },
  {
   "cell_type": "code",
   "execution_count": 152,
   "metadata": {},
   "outputs": [],
   "source": [
    "weights /= weights.sum()"
   ]
  },
  {
   "cell_type": "code",
   "execution_count": 153,
   "metadata": {},
   "outputs": [
    {
     "data": {
      "text/plain": [
       "array([0.11405072, 0.14644403, 0.18803785, 0.24144538, 0.31002201])"
      ]
     },
     "execution_count": 153,
     "metadata": {},
     "output_type": "execute_result"
    }
   ],
   "source": [
    "weights"
   ]
  },
  {
   "cell_type": "code",
   "execution_count": 154,
   "metadata": {},
   "outputs": [
    {
     "data": {
      "image/png": "[encoded data removed]",
      "text/plain": [
       "<Figure size 432x288 with 1 Axes>"
      ]
     },
     "metadata": {},
     "output_type": "display_data"
    }
   ],
   "source": [
    "plot(t,c[N-1:],lw=1.0)\n",
    "plot(t,sma,lw=2.0)\n",
    "show()"
   ]
  },
  {
   "cell_type": "markdown",
   "metadata": {},
   "source": [
    "### Bollinger band"
   ]
  },
  {
   "cell_type": "code",
   "execution_count": 155,
   "metadata": {},
   "outputs": [],
   "source": [
    "deviation=[]"
   ]
  },
  {
   "cell_type": "code",
   "execution_count": 156,
   "metadata": {},
   "outputs": [],
   "source": [
    "C=len(c)"
   ]
  },
  {
   "cell_type": "code",
   "execution_count": 157,
   "metadata": {},
   "outputs": [
    {
     "data": {
      "text/plain": [
       "30"
      ]
     },
     "execution_count": 157,
     "metadata": {},
     "output_type": "execute_result"
    }
   ],
   "source": [
    "C"
   ]
  },
  {
   "cell_type": "code",
   "execution_count": 158,
   "metadata": {},
   "outputs": [],
   "source": [
    "for i in range(N-1,C):\n",
    "    if i+N<C:\n",
    "        dev=c[i:i+N]\n",
    "    else:\n",
    "        dev=c[-N:]\n",
    "        \n",
    "    averages=np.zeros(N)\n",
    "    averages.fill(sma[i-N-1])\n",
    "    dev=dev-averages\n",
    "    dev=dev**2\n",
    "    dev=np.sqrt(np.mean(dev))\n",
    "    deviation.append(dev)"
   ]
  },
  {
   "cell_type": "code",
   "execution_count": 159,
   "metadata": {},
   "outputs": [],
   "source": [
    "deviation=2*np.array(deviation)"
   ]
  },
  {
   "cell_type": "code",
   "execution_count": 160,
   "metadata": {},
   "outputs": [],
   "source": [
    "upperBB=sma+deviation\n"
   ]
  },
  {
   "cell_type": "code",
   "execution_count": 161,
   "metadata": {},
   "outputs": [],
   "source": [
    "lowerBB=sma-deviation"
   ]
  },
  {
   "cell_type": "code",
   "execution_count": 162,
   "metadata": {},
   "outputs": [
    {
     "data": {
      "text/plain": [
       "array([356.63, 356.63, 356.63, 356.63, 356.63])"
      ]
     },
     "execution_count": 162,
     "metadata": {},
     "output_type": "execute_result"
    }
   ],
   "source": [
    "averages"
   ]
  },
  {
   "cell_type": "code",
   "execution_count": 163,
   "metadata": {},
   "outputs": [],
   "source": [
    "c_slice=c[N-1:]"
   ]
  },
  {
   "cell_type": "code",
   "execution_count": 164,
   "metadata": {},
   "outputs": [
    {
     "data": {
      "text/plain": [
       "array([343.44, 346.5 , 351.88, 355.2 , 358.16, 354.54, 356.85, 359.18,\n",
       "       359.9 , 363.13, 358.3 , 350.56, 338.61, 342.62, 342.88, 348.16,\n",
       "       353.21, 349.31, 352.12, 359.56, 360.  , 355.36, 355.76, 352.47,\n",
       "       346.67, 351.99])"
      ]
     },
     "execution_count": 164,
     "metadata": {},
     "output_type": "execute_result"
    }
   ],
   "source": [
    "c_slice"
   ]
  },
  {
   "cell_type": "code",
   "execution_count": 165,
   "metadata": {},
   "outputs": [],
   "source": [
    "between_bands=np.where((c_slice<upperBB)&(c_slice>lowerBB))"
   ]
  },
  {
   "cell_type": "code",
   "execution_count": 166,
   "metadata": {},
   "outputs": [
    {
     "name": "stdout",
     "output_type": "stream",
     "text": [
      "[329.23044409 335.70890572 318.53386282 321.90858271 327.74175968\n",
      " 331.5628136  337.94259734 343.84172744 339.99900409 336.58687297\n",
      " 333.15550418 328.64879207 323.61483771 327.25667796 334.30323599\n",
      " 335.79295948 326.55905786 324.27329493 325.47601386 332.85867025\n",
      " 341.63882551 348.75558399 348.48014357 348.01342992 343.56371701\n",
      " 341.85163786]\n"
     ]
    }
   ],
   "source": [
    "print(lowerBB[between_bands])"
   ]
  },
  {
   "cell_type": "code",
   "execution_count": 167,
   "metadata": {},
   "outputs": [
    {
     "name": "stdout",
     "output_type": "stream",
     "text": [
      "[336.1  339.32 345.03 344.32 343.44 346.5  351.88 355.2  358.16 354.54\n",
      " 356.85 359.18 359.9  363.13 358.3  350.56 338.61 342.62 342.88 348.16\n",
      " 353.21 349.31 352.12 359.56 360.   355.36]\n"
     ]
    }
   ],
   "source": [
    "print(c[between_bands])"
   ]
  },
  {
   "cell_type": "code",
   "execution_count": 168,
   "metadata": {},
   "outputs": [
    {
     "name": "stdout",
     "output_type": "stream",
     "text": [
      "[354.05355591 351.73509428 373.93413718 374.62741729 374.33024032\n",
      " 374.9491864  372.70940266 369.73027256 375.45299591 380.85312703\n",
      " 385.78849582 387.77920793 384.58516229 374.03132204 358.88476401\n",
      " 353.33904052 363.63294214 370.19870507 372.79598614 372.08532975\n",
      " 368.04117449 361.78441601 364.63985643 365.24657008 364.54028299\n",
      " 363.04836214]\n"
     ]
    }
   ],
   "source": [
    "print(upperBB[between_bands])"
   ]
  },
  {
   "cell_type": "code",
   "execution_count": 169,
   "metadata": {},
   "outputs": [],
   "source": [
    "between_bands=len(np.ravel(between_bands))"
   ]
  },
  {
   "cell_type": "code",
   "execution_count": 170,
   "metadata": {},
   "outputs": [
    {
     "data": {
      "text/plain": [
       "26"
      ]
     },
     "execution_count": 170,
     "metadata": {},
     "output_type": "execute_result"
    }
   ],
   "source": [
    "between_bands"
   ]
  },
  {
   "cell_type": "markdown",
   "metadata": {},
   "source": [
    "### linear model"
   ]
  },
  {
   "cell_type": "code",
   "execution_count": 171,
   "metadata": {},
   "outputs": [],
   "source": [
    "b=c[-N:]"
   ]
  },
  {
   "cell_type": "code",
   "execution_count": 172,
   "metadata": {},
   "outputs": [
    {
     "data": {
      "text/plain": [
       "array([355.36, 355.76, 352.47, 346.67, 351.99])"
      ]
     },
     "execution_count": 172,
     "metadata": {},
     "output_type": "execute_result"
    }
   ],
   "source": [
    "b"
   ]
  },
  {
   "cell_type": "code",
   "execution_count": 173,
   "metadata": {},
   "outputs": [],
   "source": [
    "b=b[::-1]"
   ]
  },
  {
   "cell_type": "code",
   "execution_count": 174,
   "metadata": {},
   "outputs": [
    {
     "data": {
      "text/plain": [
       "array([351.99, 346.67, 352.47, 355.76, 355.36])"
      ]
     },
     "execution_count": 174,
     "metadata": {},
     "output_type": "execute_result"
    }
   ],
   "source": [
    "b"
   ]
  },
  {
   "cell_type": "code",
   "execution_count": 175,
   "metadata": {},
   "outputs": [],
   "source": [
    "A=np.zeros((N,N),float)"
   ]
  },
  {
   "cell_type": "code",
   "execution_count": 176,
   "metadata": {},
   "outputs": [
    {
     "data": {
      "text/plain": [
       "array([[0., 0., 0., 0., 0.],\n",
       "       [0., 0., 0., 0., 0.],\n",
       "       [0., 0., 0., 0., 0.],\n",
       "       [0., 0., 0., 0., 0.],\n",
       "       [0., 0., 0., 0., 0.]])"
      ]
     },
     "execution_count": 176,
     "metadata": {},
     "output_type": "execute_result"
    }
   ],
   "source": [
    "A"
   ]
  },
  {
   "cell_type": "code",
   "execution_count": 177,
   "metadata": {},
   "outputs": [
    {
     "name": "stdout",
     "output_type": "stream",
     "text": [
      "0\n",
      "1\n",
      "2\n",
      "3\n",
      "4\n"
     ]
    }
   ],
   "source": [
    "for i in range(N):\n",
    "    print(i)\n",
    "    A[i, ]=c[-N -1 -i:-1 -i]"
   ]
  },
  {
   "cell_type": "code",
   "execution_count": 178,
   "metadata": {},
   "outputs": [
    {
     "data": {
      "text/plain": [
       "array([360.  , 355.36, 355.76, 352.47, 346.67])"
      ]
     },
     "execution_count": 178,
     "metadata": {},
     "output_type": "execute_result"
    }
   ],
   "source": [
    "c[-6:-1]"
   ]
  },
  {
   "cell_type": "code",
   "execution_count": 179,
   "metadata": {
    "scrolled": false
   },
   "outputs": [
    {
     "data": {
      "text/plain": [
       "array([[360.  , 355.36, 355.76, 352.47, 346.67],\n",
       "       [359.56, 360.  , 355.36, 355.76, 352.47],\n",
       "       [352.12, 359.56, 360.  , 355.36, 355.76],\n",
       "       [349.31, 352.12, 359.56, 360.  , 355.36],\n",
       "       [353.21, 349.31, 352.12, 359.56, 360.  ]])"
      ]
     },
     "execution_count": 179,
     "metadata": {},
     "output_type": "execute_result"
    }
   ],
   "source": [
    "A"
   ]
  },
  {
   "cell_type": "code",
   "execution_count": 180,
   "metadata": {},
   "outputs": [
    {
     "data": {
      "text/plain": [
       "array([336.1 , 339.32, 345.03, 344.32, 343.44, 346.5 , 351.88, 355.2 ,\n",
       "       358.16, 354.54, 356.85, 359.18, 359.9 , 363.13, 358.3 , 350.56,\n",
       "       338.61, 342.62, 342.88, 348.16, 353.21, 349.31, 352.12, 359.56,\n",
       "       360.  , 355.36, 355.76, 352.47, 346.67, 351.99])"
      ]
     },
     "execution_count": 180,
     "metadata": {},
     "output_type": "execute_result"
    }
   ],
   "source": [
    "c"
   ]
  },
  {
   "cell_type": "markdown",
   "metadata": {},
   "source": [
    "## ?"
   ]
  },
  {
   "cell_type": "code",
   "execution_count": 181,
   "metadata": {},
   "outputs": [
    {
     "name": "stderr",
     "output_type": "stream",
     "text": [
      "/usr/local/lib/python3.5/dist-packages/ipykernel_launcher.py:1: FutureWarning: `rcond` parameter will change to the default of machine precision times ``max(M, N)`` where M and N are the input matrix dimensions.\n",
      "To use the future default and silence this warning we advise to pass `rcond=None`, to keep using the old, explicitly pass `rcond=-1`.\n",
      "  \"\"\"Entry point for launching an IPython kernel.\n"
     ]
    }
   ],
   "source": [
    "(x,residuals,rank,s)=np.linalg.lstsq(A,b)"
   ]
  },
  {
   "cell_type": "code",
   "execution_count": 184,
   "metadata": {},
   "outputs": [
    {
     "data": {
      "text/plain": [
       "(array([ 0.78111069, -1.44411737,  1.63563225, -0.89905126,  0.92009049]),\n",
       " array([], dtype=float64),\n",
       " 5,\n",
       " array([1.77736601e+03, 1.49622969e+01, 8.75528492e+00, 5.15099261e+00,\n",
       "        1.75199608e+00]))"
      ]
     },
     "execution_count": 184,
     "metadata": {},
     "output_type": "execute_result"
    }
   ],
   "source": [
    "x,residuals,rank,s"
   ]
  },
  {
   "cell_type": "code",
   "execution_count": 186,
   "metadata": {
    "scrolled": true
   },
   "outputs": [
    {
     "name": "stdout",
     "output_type": "stream",
     "text": [
      "357.9391610152337\n"
     ]
    }
   ],
   "source": [
    "print(np.dot(b,x))"
   ]
  },
  {
   "cell_type": "markdown",
   "metadata": {},
   "source": [
    "## ?"
   ]
  },
  {
   "cell_type": "markdown",
   "metadata": {},
   "source": [
    "### trend line"
   ]
  },
  {
   "cell_type": "code",
   "execution_count": 187,
   "metadata": {},
   "outputs": [],
   "source": [
    "h,l,c=np.loadtxt(dataCvsPath,delimiter=',',usecols=(4,5,6),unpack=True)"
   ]
  },
  {
   "cell_type": "code",
   "execution_count": 189,
   "metadata": {},
   "outputs": [
    {
     "data": {
      "text/plain": [
       "(array([344.4 , 340.04, 345.65, 345.25, 344.24, 346.7 , 353.25, 355.52,\n",
       "        359.  , 360.  , 357.8 , 359.48, 359.97, 364.9 , 360.27, 359.5 ,\n",
       "        345.4 , 344.64, 345.15, 348.43, 355.05, 355.72, 354.35, 359.79,\n",
       "        360.29, 361.67, 357.4 , 354.76, 349.77, 352.32]),\n",
       " array([333.53, 334.3 , 340.98, 343.55, 338.55, 343.51, 347.64, 352.15,\n",
       "        354.87, 348.  , 353.54, 356.71, 357.55, 360.5 , 356.52, 349.52,\n",
       "        337.72, 338.61, 338.37, 344.8 , 351.12, 347.68, 348.4 , 355.92,\n",
       "        357.75, 351.31, 352.25, 350.6 , 344.9 , 345.  ]),\n",
       " array([336.1 , 339.32, 345.03, 344.32, 343.44, 346.5 , 351.88, 355.2 ,\n",
       "        358.16, 354.54, 356.85, 359.18, 359.9 , 363.13, 358.3 , 350.56,\n",
       "        338.61, 342.62, 342.88, 348.16, 353.21, 349.31, 352.12, 359.56,\n",
       "        360.  , 355.36, 355.76, 352.47, 346.67, 351.99]))"
      ]
     },
     "execution_count": 189,
     "metadata": {},
     "output_type": "execute_result"
    }
   ],
   "source": [
    "h,l,c"
   ]
  },
  {
   "cell_type": "code",
   "execution_count": 190,
   "metadata": {},
   "outputs": [
    {
     "data": {
      "text/plain": [
       "array([333.53, 334.3 , 340.98, 343.55, 338.55, 343.51, 347.64, 352.15,\n",
       "       354.87, 348.  , 353.54, 356.71, 357.55, 360.5 , 356.52, 349.52,\n",
       "       337.72, 338.61, 338.37, 344.8 , 351.12, 347.68, 348.4 , 355.92,\n",
       "       357.75, 351.31, 352.25, 350.6 , 344.9 , 345.  ])"
      ]
     },
     "execution_count": 190,
     "metadata": {},
     "output_type": "execute_result"
    }
   ],
   "source": [
    "l"
   ]
  },
  {
   "cell_type": "code",
   "execution_count": 191,
   "metadata": {},
   "outputs": [],
   "source": [
    "pivots=(h+l+c)/3"
   ]
  },
  {
   "cell_type": "code",
   "execution_count": 192,
   "metadata": {},
   "outputs": [
    {
     "data": {
      "text/plain": [
       "array([338.01      , 337.88666667, 343.88666667, 344.37333333,\n",
       "       342.07666667, 345.57      , 350.92333333, 354.29      ,\n",
       "       357.34333333, 354.18      , 356.06333333, 358.45666667,\n",
       "       359.14      , 362.84333333, 358.36333333, 353.19333333,\n",
       "       340.57666667, 341.95666667, 342.13333333, 347.13      ,\n",
       "       353.12666667, 350.90333333, 351.62333333, 358.42333333,\n",
       "       359.34666667, 356.11333333, 355.13666667, 352.61      ,\n",
       "       347.11333333, 349.77      ])"
      ]
     },
     "execution_count": 192,
     "metadata": {},
     "output_type": "execute_result"
    }
   ],
   "source": [
    "pivots"
   ]
  },
  {
   "cell_type": "markdown",
   "metadata": {},
   "source": [
    "## ??????"
   ]
  },
  {
   "cell_type": "markdown",
   "metadata": {},
   "source": [
    "### ndarray"
   ]
  },
  {
   "cell_type": "code",
   "execution_count": 193,
   "metadata": {},
   "outputs": [],
   "source": [
    "a=np.arange(5)"
   ]
  },
  {
   "cell_type": "code",
   "execution_count": 194,
   "metadata": {},
   "outputs": [
    {
     "data": {
      "text/plain": [
       "array([0, 1, 2, 3, 4])"
      ]
     },
     "execution_count": 194,
     "metadata": {},
     "output_type": "execute_result"
    }
   ],
   "source": [
    "a"
   ]
  },
  {
   "cell_type": "code",
   "execution_count": 195,
   "metadata": {},
   "outputs": [
    {
     "name": "stdout",
     "output_type": "stream",
     "text": [
      "[1 1 2 2 2]\n"
     ]
    }
   ],
   "source": [
    "print(a.clip(1,2))"
   ]
  },
  {
   "cell_type": "code",
   "execution_count": 196,
   "metadata": {},
   "outputs": [
    {
     "name": "stdout",
     "output_type": "stream",
     "text": [
      "[3 4]\n"
     ]
    }
   ],
   "source": [
    "print(a.compress(a>2))"
   ]
  },
  {
   "cell_type": "markdown",
   "metadata": {},
   "source": [
    "### Factorials----np.prod"
   ]
  },
  {
   "cell_type": "code",
   "execution_count": 197,
   "metadata": {},
   "outputs": [],
   "source": [
    "b=np.arange(1,9)"
   ]
  },
  {
   "cell_type": "code",
   "execution_count": 198,
   "metadata": {},
   "outputs": [
    {
     "data": {
      "text/plain": [
       "array([1, 2, 3, 4, 5, 6, 7, 8])"
      ]
     },
     "execution_count": 198,
     "metadata": {},
     "output_type": "execute_result"
    }
   ],
   "source": [
    "b"
   ]
  },
  {
   "cell_type": "code",
   "execution_count": 199,
   "metadata": {},
   "outputs": [
    {
     "name": "stdout",
     "output_type": "stream",
     "text": [
      "40320\n"
     ]
    }
   ],
   "source": [
    "print(b.prod())"
   ]
  },
  {
   "cell_type": "markdown",
   "metadata": {},
   "source": [
    "### all the Factorial value of the array ---np.cumprod()"
   ]
  },
  {
   "cell_type": "code",
   "execution_count": 200,
   "metadata": {},
   "outputs": [
    {
     "name": "stdout",
     "output_type": "stream",
     "text": [
      "[    1     2     6    24   120   720  5040 40320]\n"
     ]
    }
   ],
   "source": [
    "print(b.cumprod())"
   ]
  },
  {
   "cell_type": "code",
   "execution_count": null,
   "metadata": {},
   "outputs": [],
   "source": []
  },
  {
   "cell_type": "code",
   "execution_count": null,
   "metadata": {},
   "outputs": [],
   "source": []
  },
  {
   "cell_type": "code",
   "execution_count": null,
   "metadata": {},
   "outputs": [],
   "source": []
  },
  {
   "cell_type": "code",
   "execution_count": null,
   "metadata": {},
   "outputs": [],
   "source": []
  },
  {
   "cell_type": "code",
   "execution_count": null,
   "metadata": {},
   "outputs": [],
   "source": []
  },
  {
   "cell_type": "code",
   "execution_count": null,
   "metadata": {},
   "outputs": [],
   "source": []
  },
  {
   "cell_type": "code",
   "execution_count": null,
   "metadata": {},
   "outputs": [],
   "source": []
  },
  {
   "cell_type": "code",
   "execution_count": null,
   "metadata": {},
   "outputs": [],
   "source": []
  },
  {
   "cell_type": "code",
   "execution_count": null,
   "metadata": {},
   "outputs": [],
   "source": []
  },
  {
   "cell_type": "code",
   "execution_count": null,
   "metadata": {},
   "outputs": [],
   "source": []
  },
  {
   "cell_type": "code",
   "execution_count": null,
   "metadata": {},
   "outputs": [],
   "source": []
  },
  {
   "cell_type": "code",
   "execution_count": null,
   "metadata": {},
   "outputs": [],
   "source": []
  },
  {
   "cell_type": "code",
   "execution_count": null,
   "metadata": {},
   "outputs": [],
   "source": []
  },
  {
   "cell_type": "code",
   "execution_count": null,
   "metadata": {},
   "outputs": [],
   "source": []
  },
  {
   "cell_type": "code",
   "execution_count": null,
   "metadata": {},
   "outputs": [],
   "source": []
  },
  {
   "cell_type": "code",
   "execution_count": null,
   "metadata": {},
   "outputs": [],
   "source": []
  }
 ],
 "metadata": {
  "kernelspec": {
   "display_name": "Python 3",
   "language": "python",
   "name": "python3"
  },
  "language_info": {
   "codemirror_mode": {
    "name": "ipython",
    "version": 3
   },
   "file_extension": ".py",
   "mimetype": "text/x-python",
   "name": "python",
   "nbconvert_exporter": "python",
   "pygments_lexer": "ipython3",
   "version": "3.5.2"
  }
 },
 "nbformat": 4,
 "nbformat_minor": 2
}
