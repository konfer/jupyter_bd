{
 "cells": [
  {
   "cell_type": "code",
   "execution_count": 5,
   "metadata": {},
   "outputs": [],
   "source": [
    "from collections import deque"
   ]
  },
  {
   "cell_type": "code",
   "execution_count": 1,
   "metadata": {},
   "outputs": [],
   "source": [
    "graph={}"
   ]
  },
  {
   "cell_type": "code",
   "execution_count": 3,
   "metadata": {},
   "outputs": [],
   "source": [
    "graph[\"you\"] = [\"alice\", \"bob\", \"claire\"]"
   ]
  },
  {
   "cell_type": "code",
   "execution_count": 4,
   "metadata": {},
   "outputs": [],
   "source": [
    "graph[\"bob\"] = [\"anuj\", \"peggy\"]\n",
    "graph[\"alice\"] = [\"peggy\"]\n",
    "graph[\"claire\"] = [\"thom\", \"jonny\"]\n",
    "graph[\"anuj\"] = []\n",
    "graph[\"peggy\"] = []\n",
    "graph[\"thom\"] = []\n",
    "graph[\"jonny\"] = []"
   ]
  },
  {
   "cell_type": "code",
   "execution_count": 7,
   "metadata": {},
   "outputs": [],
   "source": [
    "search_queue+=graph[\"you\"]"
   ]
  },
  {
   "cell_type": "code",
   "execution_count": 8,
   "metadata": {},
   "outputs": [],
   "source": [
    "def person_is_seller(name):\n",
    "    return name[-1]==\"m\""
   ]
  },
  {
   "cell_type": "code",
   "execution_count": 18,
   "metadata": {},
   "outputs": [],
   "source": [
    "def search(name):\n",
    "    search_queue = deque()\n",
    "    search_queue+=graph[\"you\"]\n",
    "    searched=[]\n",
    "    while search_queue:\n",
    "        person=search_queue.popleft()\n",
    "        if person_is_seller(person):\n",
    "            print(person+\"is a mango seller!\")\n",
    "            return True\n",
    "        else:\n",
    "            search_queue+=graph[person]\n",
    "            searched.append(person)\n",
    "    return False"
   ]
  },
  {
   "cell_type": "code",
   "execution_count": 19,
   "metadata": {},
   "outputs": [
    {
     "name": "stdout",
     "output_type": "stream",
     "text": [
      "thomis a mango seller!\n"
     ]
    },
    {
     "data": {
      "text/plain": [
       "True"
      ]
     },
     "execution_count": 19,
     "metadata": {},
     "output_type": "execute_result"
    }
   ],
   "source": [
    "search(\"you\")"
   ]
  },
  {
   "cell_type": "code",
   "execution_count": null,
   "metadata": {},
   "outputs": [],
   "source": []
  }
 ],
 "metadata": {
  "kernelspec": {
   "display_name": "Python 3",
   "language": "python",
   "name": "python3"
  },
  "language_info": {
   "codemirror_mode": {
    "name": "ipython",
    "version": 3
   },
   "file_extension": ".py",
   "mimetype": "text/x-python",
   "name": "python",
   "nbconvert_exporter": "python",
   "pygments_lexer": "ipython3",
   "version": "3.5.2"
  }
 },
 "nbformat": 4,
 "nbformat_minor": 2
}
