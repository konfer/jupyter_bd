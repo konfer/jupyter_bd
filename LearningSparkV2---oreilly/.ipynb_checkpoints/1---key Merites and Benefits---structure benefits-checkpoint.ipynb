{
 "cells": [
  {
   "cell_type": "code",
   "execution_count": 1,
   "metadata": {},
   "outputs": [],
   "source": [
    "import org.apache.spark.sql.functions.avg\n",
    "import org.apache.spark.sql.SparkSession"
   ]
  },
  {
   "cell_type": "code",
   "execution_count": null,
   "metadata": {},
   "outputs": [],
   "source": [
    "data_df = sc.create"
   ]
  },
  {
   "cell_type": "code",
   "execution_count": 2,
   "metadata": {},
   "outputs": [
    {
     "data": {
      "text/plain": [
       "org.apache.spark.SparkContext@9f2b7fd"
      ]
     },
     "execution_count": 2,
     "metadata": {},
     "output_type": "execute_result"
    }
   ],
   "source": [
    "sc"
   ]
  },
  {
   "cell_type": "code",
   "execution_count": 3,
   "metadata": {},
   "outputs": [
    {
     "data": {
      "text/plain": [
       "org.apache.spark.sql.SparkSession@4f116821"
      ]
     },
     "execution_count": 3,
     "metadata": {},
     "output_type": "execute_result"
    }
   ],
   "source": [
    "spark"
   ]
  },
  {
   "cell_type": "code",
   "execution_count": 4,
   "metadata": {},
   "outputs": [
    {
     "ename": "Compile Error",
     "evalue": "<console>:30: error: value buider is not a member of org.apache.spark.sql.SparkSession\n       spark.buider.appName(\"AuthorsAges\").getOrCreate()\n             ^\n",
     "output_type": "error",
     "traceback": []
    }
   ],
   "source": [
    "spark.buider.appName(\"AuthorsAges\").getOrCreate()"
   ]
  },
  {
   "cell_type": "code",
   "execution_count": 5,
   "metadata": {},
   "outputs": [
    {
     "ename": "Compile Error",
     "evalue": "<console>:29: error: not found: value spark_\n       spark_ = spark.buider.appName(\"AuthorsAges\").getOrCreate()\n       ^\n<console>:30: error: not found: value spark_\n       val $ires27 = spark_\n                     ^\n",
     "output_type": "error",
     "traceback": []
    }
   ],
   "source": [
    "spark_ = spark.buider.appName(\"AuthorsAges\").getOrCreate()"
   ]
  },
  {
   "cell_type": "code",
   "execution_count": 6,
   "metadata": {},
   "outputs": [
    {
     "ename": "Compile Error",
     "evalue": "<console>:1: error: illegal start of simple expression\n       data_df = spark_.createDataFrame([(\"Brooke\", 20), (\"Denny\", 31), (\"Jules\", 30),(\"TD\", 35), (\"Brooke\", 25)],\n                                        ^\n",
     "output_type": "error",
     "traceback": []
    }
   ],
   "source": [
    "data_df = spark_.createDataFrame([(\"Brooke\", 20), (\"Denny\", 31), (\"Jules\", 30),(\"TD\", 35), (\"Brooke\", 25)], \n",
    "                                 [\"name\", \"age\"])"
   ]
  },
  {
   "cell_type": "code",
   "execution_count": 7,
   "metadata": {},
   "outputs": [
    {
     "ename": "Compile Error",
     "evalue": "<console>:28: error: not found: value data_df\n       data_df\n       ^\n",
     "output_type": "error",
     "traceback": []
    }
   ],
   "source": [
    "data_df"
   ]
  },
  {
   "cell_type": "code",
   "execution_count": 9,
   "metadata": {},
   "outputs": [
    {
     "ename": "Compile Error",
     "evalue": "<console>:27: error: not found: value avg_df\n       avg_df = data_df.groupby(\"name\").agg(avg(\"age\"))\n       ^\n<console>:28: error: not found: value avg_df\n       val $ires54 = avg_df\n                     ^\n",
     "output_type": "error",
     "traceback": []
    }
   ],
   "source": [
    "avg_df = data_df.groupby(\"name\").agg(avg(\"age\"))"
   ]
  },
  {
   "cell_type": "code",
   "execution_count": 11,
   "metadata": {},
   "outputs": [
    {
     "ename": "Compile Error",
     "evalue": "<console>:28: error: ambiguous reference to overloaded definition,\nboth method avg in object functions of type (columnName: String)org.apache.spark.sql.Column\nand  method avg in object functions of type (e: org.apache.spark.sql.Column)org.apache.spark.sql.Column\nmatch expected type ?\n       avg.df.show()\n       ^\n",
     "output_type": "error",
     "traceback": []
    }
   ],
   "source": [
    "avg.df.show()"
   ]
  },
  {
   "cell_type": "code",
   "execution_count": 12,
   "metadata": {},
   "outputs": [
    {
     "ename": "Compile Error",
     "evalue": "<console>:1: error: illegal start of simple expression\n       dataRDD = sc.parallelize([(\"Brooke\", 20), (\"Denny\", 31), (\"Jules\", 30),\n                                ^\n",
     "output_type": "error",
     "traceback": []
    }
   ],
   "source": [
    "dataRDD = sc.parallelize([(\"Brooke\", 20), (\"Denny\", 31), (\"Jules\", 30),\n",
    "(\"TD\", 35), (\"Brooke\", 25)])"
   ]
  },
  {
   "cell_type": "code",
   "execution_count": 13,
   "metadata": {},
   "outputs": [
    {
     "ename": "Compile Error",
     "evalue": "<console>:2: error: identifier expected but integer literal found.\n       .map(lambda x: (x[0], (x[1], 1)))\n                         ^\n",
     "output_type": "error",
     "traceback": []
    }
   ],
   "source": [
    "agesRDD = (dataRDD\n",
    ".map(lambda x: (x[0], (x[1], 1)))\n",
    ".reduceByKey(lambda x, y: (x[0] + y[0], x[1] + y[1])) .map(lambda x: (x[0], x[1][0]/x[1][1])))"
   ]
  },
  {
   "cell_type": "code",
   "execution_count": null,
   "metadata": {},
   "outputs": [],
   "source": []
  }
 ],
 "metadata": {
  "kernelspec": {
   "display_name": "Apache Toree - Scala",
   "language": "scala",
   "name": "apache_toree_scala"
  },
  "language_info": {
   "codemirror_mode": "text/x-scala",
   "file_extension": ".scala",
   "mimetype": "text/x-scala",
   "name": "scala",
   "pygments_lexer": "scala",
   "version": "2.12.12"
  }
 },
 "nbformat": 4,
 "nbformat_minor": 4
}
