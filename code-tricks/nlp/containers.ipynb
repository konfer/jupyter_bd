{
 "cells": [
  {
   "cell_type": "code",
   "execution_count": 1,
   "id": "58a5e7e6-da41-496c-9052-98b5fa7dd4be",
   "metadata": {},
   "outputs": [],
   "source": [
    "in_f = open('/usr/local/codeData/jupyterData/jupyter-bd/nlp-tricks/DetectorData.csv')"
   ]
  },
  {
   "cell_type": "code",
   "execution_count": 2,
   "id": "01b09823-538d-4eca-b81b-18b1418db4f0",
   "metadata": {},
   "outputs": [],
   "source": [
    "lines = in_f.readlines()\n",
    "in_f.close()"
   ]
  },
  {
   "cell_type": "markdown",
   "id": "67eeed8a-f358-4e2e-9893-e5f966b945bb",
   "metadata": {},
   "source": [
    "#### 0. 数据构成---line：‘文本特征，目标分类’"
   ]
  },
  {
   "cell_type": "code",
   "execution_count": 5,
   "id": "f9cc79bc-da50-4fa3-a1ff-c793506e1810",
   "metadata": {},
   "outputs": [
    {
     "data": {
      "text/plain": [
       "'1 december wereld aids dag voorlichting in zuidafrika over bieten taboes en optimisme,nl\\n'"
      ]
     },
     "execution_count": 5,
     "metadata": {},
     "output_type": "execute_result"
    }
   ],
   "source": [
    "lines[0]"
   ]
  },
  {
   "cell_type": "markdown",
   "id": "01023700-0c3d-4486-aad6-d38518dbb8cd",
   "metadata": {},
   "source": [
    "### 1. 按数据原格式存入容器再分别提取"
   ]
  },
  {
   "cell_type": "markdown",
   "id": "b41aa45b-b955-4324-a1d4-a562e3b54223",
   "metadata": {},
   "source": [
    "#### 1.1 构造以(‘文本特征’, ‘目标分类’)元组为元素的列表存储数据"
   ]
  },
  {
   "cell_type": "code",
   "execution_count": 3,
   "id": "0e06ccc5-6fa4-437c-b7f0-837926fbe112",
   "metadata": {},
   "outputs": [],
   "source": [
    "dataset = [(line.strip()[:-3], line.strip()[-2:]) for line in lines]"
   ]
  },
  {
   "cell_type": "code",
   "execution_count": 4,
   "id": "05ab7d5a-005a-4c21-90be-0c8d9befe5df",
   "metadata": {},
   "outputs": [
    {
     "data": {
      "text/plain": [
       "[('1 december wereld aids dag voorlichting in zuidafrika over bieten taboes en optimisme',\n",
       "  'nl'),\n",
       " ('1 millón de afectados ante las inundaciones en sri lanka unicef está distribuyendo ayuda de emergencia srilanka',\n",
       "  'es'),\n",
       " ('1 millón de fans en facebook antes del 14 de febrero y paty miki dani y berta se tiran en paracaídas qué harías tú porunmillondefans',\n",
       "  'es'),\n",
       " ('1 satellite galileo sottoposto ai test presso lesaestec nl galileo navigation space in inglese',\n",
       "  'it'),\n",
       " ('10 der welt sind bei', 'de')]"
      ]
     },
     "execution_count": 4,
     "metadata": {},
     "output_type": "execute_result"
    }
   ],
   "source": [
    "dataset[:5]"
   ]
  },
  {
   "cell_type": "markdown",
   "id": "ee6b4a34-b86b-4ab5-a607-5ff58985e76a",
   "metadata": {},
   "source": [
    "#### 1.2 将以元组为存储单元的列表解压缩，用两个变量分别存储"
   ]
  },
  {
   "cell_type": "code",
   "execution_count": 6,
   "id": "d5d1b75d-c84e-47cc-933a-1170e70dbfcf",
   "metadata": {},
   "outputs": [],
   "source": [
    "x, y = zip(*dataset)"
   ]
  },
  {
   "cell_type": "code",
   "execution_count": 7,
   "id": "64ca0bce-ca2e-4aa6-b26d-5b1b3c2296e0",
   "metadata": {},
   "outputs": [
    {
     "data": {
      "text/plain": [
       "('1 december wereld aids dag voorlichting in zuidafrika over bieten taboes en optimisme',\n",
       " '1 millón de afectados ante las inundaciones en sri lanka unicef está distribuyendo ayuda de emergencia srilanka',\n",
       " '1 millón de fans en facebook antes del 14 de febrero y paty miki dani y berta se tiran en paracaídas qué harías tú porunmillondefans',\n",
       " '1 satellite galileo sottoposto ai test presso lesaestec nl galileo navigation space in inglese',\n",
       " '10 der welt sind bei')"
      ]
     },
     "execution_count": 7,
     "metadata": {},
     "output_type": "execute_result"
    }
   ],
   "source": [
    "x[:5]"
   ]
  },
  {
   "cell_type": "code",
   "execution_count": 8,
   "id": "dc96153d-f14b-4e3b-b86c-bc2e082915e3",
   "metadata": {},
   "outputs": [
    {
     "data": {
      "text/plain": [
       "('nl', 'es', 'es', 'it', 'de')"
      ]
     },
     "execution_count": 8,
     "metadata": {},
     "output_type": "execute_result"
    }
   ],
   "source": [
    "y[:5]"
   ]
  },
  {
   "cell_type": "code",
   "execution_count": null,
   "id": "0fdaea30-ece8-44cb-a077-48c6142d9192",
   "metadata": {},
   "outputs": [],
   "source": []
  }
 ],
 "metadata": {
  "kernelspec": {
   "display_name": "Python 3 (ipykernel)",
   "language": "python",
   "name": "python3"
  },
  "language_info": {
   "codemirror_mode": {
    "name": "ipython",
    "version": 3
   },
   "file_extension": ".py",
   "mimetype": "text/x-python",
   "name": "python",
   "nbconvert_exporter": "python",
   "pygments_lexer": "ipython3",
   "version": "3.8.10"
  }
 },
 "nbformat": 4,
 "nbformat_minor": 5
}
