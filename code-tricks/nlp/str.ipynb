{
 "cells": [
  {
   "cell_type": "code",
   "execution_count": 1,
   "id": "ba81bfc4-e0fd-4b09-b51f-b1758e8b4366",
   "metadata": {},
   "outputs": [],
   "source": [
    "noisyStr = \" 1 millón de fans en facebook antes del 14 de febrero y paty miki dani y berta se tiran en paracaídas qué harías tú porunmillondefans,es  \""
   ]
  },
  {
   "cell_type": "markdown",
   "id": "69f0ce4b-bc56-4730-8641-3da91d5a22ad",
   "metadata": {},
   "source": [
    "### 0 去除句子前后空格"
   ]
  },
  {
   "cell_type": "code",
   "execution_count": 2,
   "id": "3b6f78fe-5e37-40cb-ad2d-ec096198630c",
   "metadata": {},
   "outputs": [],
   "source": [
    "Str =  noisyStr.strip()"
   ]
  },
  {
   "cell_type": "code",
   "execution_count": 3,
   "id": "c91b881d-abe0-4d23-b597-18d7a832d92b",
   "metadata": {},
   "outputs": [
    {
     "data": {
      "text/plain": [
       "'1 millón de fans en facebook antes del 14 de febrero y paty miki dani y berta se tiran en paracaídas qué harías tú porunmillondefans,es'"
      ]
     },
     "execution_count": 3,
     "metadata": {},
     "output_type": "execute_result"
    }
   ],
   "source": [
    "Str"
   ]
  },
  {
   "cell_type": "markdown",
   "id": "4208ee30-eb8c-41cf-8c55-ebae3d9eb004",
   "metadata": {},
   "source": [
    "### 1 字符串句子内部截取"
   ]
  },
  {
   "cell_type": "markdown",
   "id": "579f7214-2263-4c7f-9e06-33916513140d",
   "metadata": {},
   "source": [
    "#### 1.1 句子后部索引"
   ]
  },
  {
   "cell_type": "code",
   "execution_count": 5,
   "id": "0a90e338-a835-4a7b-a3d0-ff9cbc70e33c",
   "metadata": {},
   "outputs": [],
   "source": [
    "Str = noisyStr.strip()[:-3]"
   ]
  },
  {
   "cell_type": "code",
   "execution_count": 6,
   "id": "2881b044-2533-4073-b870-00a248a31e5f",
   "metadata": {},
   "outputs": [
    {
     "data": {
      "text/plain": [
       "'1 millón de fans en facebook antes del 14 de febrero y paty miki dani y berta se tiran en paracaídas qué harías tú porunmillondefans'"
      ]
     },
     "execution_count": 6,
     "metadata": {},
     "output_type": "execute_result"
    }
   ],
   "source": [
    "Str"
   ]
  },
  {
   "cell_type": "markdown",
   "id": "a7c0d549-cb62-43fb-b9c6-cfc12673f739",
   "metadata": {},
   "source": [
    "#### 1.2 保留后部"
   ]
  },
  {
   "cell_type": "code",
   "execution_count": 7,
   "id": "6c661afa-bd3e-4312-9039-474459a6e09c",
   "metadata": {},
   "outputs": [],
   "source": [
    "Str = noisyStr.strip()[-2:]"
   ]
  },
  {
   "cell_type": "code",
   "execution_count": 8,
   "id": "00157c90-73d1-4014-8e8c-31d85a7b3102",
   "metadata": {},
   "outputs": [
    {
     "data": {
      "text/plain": [
       "'es'"
      ]
     },
     "execution_count": 8,
     "metadata": {},
     "output_type": "execute_result"
    }
   ],
   "source": [
    "Str"
   ]
  },
  {
   "cell_type": "code",
   "execution_count": null,
   "id": "b698a282-6c74-40e7-ada6-b66b9bc8a07f",
   "metadata": {},
   "outputs": [],
   "source": []
  }
 ],
 "metadata": {
  "kernelspec": {
   "display_name": "Python 3 (ipykernel)",
   "language": "python",
   "name": "python3"
  },
  "language_info": {
   "codemirror_mode": {
    "name": "ipython",
    "version": 3
   },
   "file_extension": ".py",
   "mimetype": "text/x-python",
   "name": "python",
   "nbconvert_exporter": "python",
   "pygments_lexer": "ipython3",
   "version": "3.8.10"
  }
 },
 "nbformat": 4,
 "nbformat_minor": 5
}
