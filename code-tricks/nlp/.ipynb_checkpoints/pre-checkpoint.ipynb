{
 "cells": [
  {
   "cell_type": "markdown",
   "id": "edd7d445-7566-45cd-9072-07f1c4d57bf7",
   "metadata": {},
   "source": [
    "## 1.单词去重"
   ]
  },
  {
   "cell_type": "code",
   "execution_count": 1,
   "id": "360f1f9e-b5c7-410a-b824-df53e58e3e92",
   "metadata": {},
   "outputs": [],
   "source": [
    "def make_word_set(words_file):\n",
    "    words_set = set()\n",
    "    with open(words_file, 'r') as fp:\n",
    "        for line in fp.readlines():\n",
    "            word = line.strip()\n",
    "            if len(word)>0 and word not in words_set: # 去重\n",
    "                words_set.add(word)\n",
    "    return words_set"
   ]
  },
  {
   "cell_type": "markdown",
   "id": "89633deb-f8e1-44ef-94ee-1b175f7cb428",
   "metadata": {},
   "source": [
    "## 2.两层文件夹遍历处理"
   ]
  },
  {
   "cell_type": "markdown",
   "id": "c9b6d703-2e38-4ae1-842b-c983790c0974",
   "metadata": {},
   "source": [
    "### 2.1 遍历文件夹后按处理函数操作"
   ]
  },
  {
   "cell_type": "code",
   "execution_count": 2,
   "id": "ad955f4e-151f-4014-96ad-23847d2bb517",
   "metadata": {},
   "outputs": [],
   "source": [
    "def traversingFolds(data_folder_path, filesFunc):\n",
    "    folder_list = os.listdir(data_folder_path)\n",
    "    #print(\"follder_list: \"+  str(folder_list))\n",
    "    for folder in folder_list:\n",
    "        current_folder_path  = os.path.join(data_folder_path, folder)\n",
    "        #print(\"new_folder_path: \"+ str(new_folder_path))\n",
    "        files = os.listdir(current_folder_path )\n",
    "        filesFunc(files, current_folder_path)"
   ]
  },
  {
   "cell_type": "markdown",
   "id": "8cf0da55-596a-4295-8445-c076bd395374",
   "metadata": {},
   "source": [
    "### 2.2 文件操作函数"
   ]
  },
  {
   "cell_type": "code",
   "execution_count": 3,
   "id": "50205cb7-afef-4f14-a658-bdd23c4dec27",
   "metadata": {},
   "outputs": [],
   "source": [
    "def filesFunc(files):\n",
    "    for file in files:\n",
    "        with open(os.path.join(current_folder_path, file), 'r') as fp:\n",
    "            raw = fp.read()\n",
    "            #print(\"filePath: \" + current_folder_path + \"/\" + str(file))\n",
    "            #print(\"raw\"+raw)"
   ]
  },
  {
   "cell_type": "markdown",
   "id": "bb49c1f4-373e-451d-a8f4-927ca341db22",
   "metadata": {},
   "source": [
    "## 3 统计特征文本中出现词语的词频"
   ]
  },
  {
   "cell_type": "code",
   "execution_count": 1,
   "id": "2b550dc5-c41e-49a5-be4b-6bde9990c2fe",
   "metadata": {},
   "outputs": [],
   "source": [
    "def wordCountList(train_data_list):\n",
    "    for word_list in train_data_list:\n",
    "        for word in word_list:\n",
    "            if word in all_words_dict :\n",
    "                all_words_dict[word] += 1\n",
    "            else:\n",
    "                all_words_dict[word] = 1    "
   ]
  }
 ],
 "metadata": {
  "kernelspec": {
   "display_name": "Python 3 (ipykernel)",
   "language": "python",
   "name": "python3"
  },
  "language_info": {
   "codemirror_mode": {
    "name": "ipython",
    "version": 3
   },
   "file_extension": ".py",
   "mimetype": "text/x-python",
   "name": "python",
   "nbconvert_exporter": "python",
   "pygments_lexer": "ipython3",
   "version": "3.8.10"
  }
 },
 "nbformat": 4,
 "nbformat_minor": 5
}
