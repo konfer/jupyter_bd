{
 "cells": [
  {
   "cell_type": "markdown",
   "id": "17491b01-aa93-4661-ad0d-dc90c411a7b2",
   "metadata": {},
   "source": [
    "# 单词去重"
   ]
  },
  {
   "cell_type": "code",
   "execution_count": 1,
   "id": "360f1f9e-b5c7-410a-b824-df53e58e3e92",
   "metadata": {},
   "outputs": [],
   "source": [
    "def make_word_set(words_file):\n",
    "    words_set = set()\n",
    "    with open(words_file, 'r') as fp:\n",
    "        for line in fp.readlines():\n",
    "            word = line.strip()\n",
    "            if len(word)>0 and word not in words_set: # 去重\n",
    "                words_set.add(word)\n",
    "    return words_set"
   ]
  },
  {
   "cell_type": "code",
   "execution_count": null,
   "id": "3f87ca0a-bba3-4798-abdf-d76e39f02bf3",
   "metadata": {},
   "outputs": [],
   "source": []
  }
 ],
 "metadata": {
  "kernelspec": {
   "display_name": "Python 3 (ipykernel)",
   "language": "python",
   "name": "python3"
  },
  "language_info": {
   "codemirror_mode": {
    "name": "ipython",
    "version": 3
   },
   "file_extension": ".py",
   "mimetype": "text/x-python",
   "name": "python",
   "nbconvert_exporter": "python",
   "pygments_lexer": "ipython3",
   "version": "3.8.10"
  }
 },
 "nbformat": 4,
 "nbformat_minor": 5
}
