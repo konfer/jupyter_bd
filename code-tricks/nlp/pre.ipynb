{
 "cells": [
  {
   "cell_type": "markdown",
   "id": "41e49685-a0ca-45dc-bbc0-84739b6a1027",
   "metadata": {},
   "source": [
    "## 1.单词去重"
   ]
  },
  {
   "cell_type": "code",
   "execution_count": 1,
   "id": "360f1f9e-b5c7-410a-b824-df53e58e3e92",
   "metadata": {},
   "outputs": [],
   "source": [
    "def make_word_set(words_file):\n",
    "    words_set = set()\n",
    "    with open(words_file, 'r') as fp:\n",
    "        for line in fp.readlines():\n",
    "            word = line.strip()\n",
    "            if len(word)>0 and word not in words_set: # 去重\n",
    "                words_set.add(word)\n",
    "    return words_set"
   ]
  },
  {
   "cell_type": "markdown",
   "id": "89633deb-f8e1-44ef-94ee-1b175f7cb428",
   "metadata": {},
   "source": [
    "## 2.两层文件夹遍历处理"
   ]
  },
  {
   "cell_type": "markdown",
   "id": "c9b6d703-2e38-4ae1-842b-c983790c0974",
   "metadata": {},
   "source": [
    "### 2.1 遍历文件夹后按处理函数操作"
   ]
  },
  {
   "cell_type": "code",
   "execution_count": 2,
   "id": "ad955f4e-151f-4014-96ad-23847d2bb517",
   "metadata": {},
   "outputs": [],
   "source": [
    "def traversingFolds(data_folder_path, filesFunc):\n",
    "    folder_list = os.listdir(data_folder_path)\n",
    "    #print(\"follder_list: \"+  str(folder_list))\n",
    "    for folder in folder_list:\n",
    "        current_folder_path  = os.path.join(data_folder_path, folder)\n",
    "        #print(\"new_folder_path: \"+ str(new_folder_path))\n",
    "        files = os.listdir(current_folder_path )\n",
    "        filesFunc(files, current_folder_path)"
   ]
  },
  {
   "cell_type": "markdown",
   "id": "8cf0da55-596a-4295-8445-c076bd395374",
   "metadata": {},
   "source": [
    "### 2.2 文件操作函数"
   ]
  },
  {
   "cell_type": "code",
   "execution_count": 3,
   "id": "50205cb7-afef-4f14-a658-bdd23c4dec27",
   "metadata": {},
   "outputs": [],
   "source": [
    "def filesFunc(files):\n",
    "    for file in files:\n",
    "        with open(os.path.join(current_folder_path, file), 'r') as fp:\n",
    "            raw = fp.read()\n",
    "            #print(\"filePath: \" + current_folder_path + \"/\" + str(file))\n",
    "            #print(\"raw\"+raw)"
   ]
  },
  {
   "cell_type": "markdown",
   "id": "bad19b1d-5134-4516-b2d9-3a35d6356b54",
   "metadata": {},
   "source": [
    "## 3 词频"
   ]
  },
  {
   "cell_type": "markdown",
   "id": "dfe759ba-ad7a-4963-b01e-e043f75c6011",
   "metadata": {},
   "source": [
    "### 3.1 统计特征文本中词语的词频"
   ]
  },
  {
   "cell_type": "code",
   "execution_count": 1,
   "id": "2b550dc5-c41e-49a5-be4b-6bde9990c2fe",
   "metadata": {},
   "outputs": [],
   "source": [
    "def wordCountList(train_data_list):\n",
    "    for word_list in train_data_list:\n",
    "        for word in word_list:\n",
    "            if word in all_words_dict :\n",
    "                all_words_dict[word] += 1\n",
    "            else:\n",
    "                all_words_dict[word] = 1    "
   ]
  },
  {
   "cell_type": "markdown",
   "id": "022b4539-d2b1-4d94-9302-be5b48f3f9ed",
   "metadata": {},
   "source": [
    "### 3.2 对词频字典排序---对字典按key进行升序或降序"
   ]
  },
  {
   "cell_type": "code",
   "execution_count": null,
   "id": "1e0b9738-8020-4a70-94e1-744d2ab7e8c2",
   "metadata": {},
   "outputs": [],
   "source": [
    "all_words_tuple_list = sorted(all_words_dict.items(), key=lambda f:f[1], reverse=True)"
   ]
  },
  {
   "cell_type": "markdown",
   "id": "0c731787-ddaa-453b-9b65-ecb37739e261",
   "metadata": {},
   "source": [
    "### 3.3 取排序后元组列表的第一列---词频字典的key"
   ]
  },
  {
   "cell_type": "code",
   "execution_count": null,
   "id": "de1aa3ca-9e34-4344-a4bf-07213fcc78b3",
   "metadata": {},
   "outputs": [],
   "source": [
    "all_words_list = [w for w, c in all_words_tuple_list]"
   ]
  },
  {
   "cell_type": "markdown",
   "id": "f62ed856-bbe1-4863-a321-ae08eddd913e",
   "metadata": {},
   "source": [
    "## 4 停用词判断条件"
   ]
  },
  {
   "cell_type": "code",
   "execution_count": null,
   "id": "69573639-68f9-4231-b164-ac7a47f05b25",
   "metadata": {},
   "outputs": [],
   "source": [
    "if not all_words_list[t].isdigit() and all_words_list[t] not in stopwords_set and 1<len(all_words_list[t])<5:"
   ]
  },
  {
   "cell_type": "markdown",
   "id": "a3145d6d-0384-4d6f-9df6-214b2f6bb7a0",
   "metadata": {},
   "source": [
    "## 5 特征构造"
   ]
  },
  {
   "cell_type": "markdown",
   "id": "322e75b7-2466-462a-80e8-90251a880753",
   "metadata": {},
   "source": [
    "### 5.1 构造nltk、sklearn分类器特征列表"
   ]
  },
  {
   "cell_type": "code",
   "execution_count": null,
   "id": "41863594-0449-4373-9cc7-1b353b68ccb1",
   "metadata": {},
   "outputs": [],
   "source": [
    "def text_features(text, feature_words):\n",
    "    text_words = set(text)\n",
    "    ## -----------------------------------------------------------------------------------\n",
    "    if flag == 'nltk':\n",
    "        ## nltk特征 dict\n",
    "        features = {word:1 if word in text_words else 0 for word in feature_words}\n",
    "    elif flag == 'sklearn':\n",
    "    ## sklearn特征 list\n",
    "        features = [1 if word in text_words else 0 for word in feature_words]\n",
    "    else:\n",
    "        features = []\n",
    "    ## -----------------------------------------------------------------------------------\n",
    "    return features"
   ]
  },
  {
   "cell_type": "markdown",
   "id": "150de4b5-8e7e-4043-a0a1-cdd44659b29d",
   "metadata": {},
   "source": [
    "### 5.2 调用特征构造函数对训练集、验证集分别构造特征列表"
   ]
  },
  {
   "cell_type": "code",
   "execution_count": null,
   "id": "c9b07b27-a2a7-45f3-a4f3-f9a30f363897",
   "metadata": {},
   "outputs": [],
   "source": [
    "train_feature_list = [build_text_features(text, feature_words, flag ) for text in train_data_list]\n",
    "    test_feature_list = [build_text_features(text, feature_words, flag) for text in test_data_list]"
   ]
  },
  {
   "cell_type": "markdown",
   "id": "e4d9a8a8-8972-471b-b20f-0630b7b87aaf",
   "metadata": {},
   "source": [
    "## 6 构造分类器"
   ]
  },
  {
   "cell_type": "code",
   "execution_count": null,
   "id": "c351e9ca-d006-49bc-b9f7-d92b5c9dc58f",
   "metadata": {},
   "outputs": [],
   "source": [
    "def text_classifier(train_feature_list, test_feature_list, train_class_list, test_class_list, flag='nltk'):\n",
    "    ## -----------------------------------------------------------------------------------\n",
    "    if flag == 'nltk':\n",
    "        ## 使用nltk分类器\n",
    "        train_flist = zip(train_feature_list, train_class_list)\n",
    "        test_flist = zip(test_feature_list, test_class_list)\n",
    "        classifier = nltk.classify.NaiveBayesClassifier.train(train_flist)\n",
    "        test_accuracy = nltk.classify.accuracy(classifier, test_flist)\n",
    "    elif flag == 'sklearn':\n",
    "        ## sklearn分类器\n",
    "        classifier = MultinomialNB().fit(train_feature_list, train_class_list)\n",
    "        test_accuracy = classifier.score(test_feature_list, test_class_list)\n",
    "    else:\n",
    "        test_accuracy = []\n",
    "    return test_accuracy"
   ]
  }
 ],
 "metadata": {
  "kernelspec": {
   "display_name": "Python 3 (ipykernel)",
   "language": "python",
   "name": "python3"
  },
  "language_info": {
   "codemirror_mode": {
    "name": "ipython",
    "version": 3
   },
   "file_extension": ".py",
   "mimetype": "text/x-python",
   "name": "python",
   "nbconvert_exporter": "python",
   "pygments_lexer": "ipython3",
   "version": "3.8.10"
  }
 },
 "nbformat": 4,
 "nbformat_minor": 5
}
