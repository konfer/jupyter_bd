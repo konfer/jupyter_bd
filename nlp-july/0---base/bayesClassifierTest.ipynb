{
 "cells": [
  {
   "cell_type": "code",
   "execution_count": 1,
   "id": "1856f4e3-4469-4ad1-81b0-7d0516a1427b",
   "metadata": {},
   "outputs": [],
   "source": [
    "import os\n",
    "import time\n",
    "import random"
   ]
  },
  {
   "cell_type": "code",
   "execution_count": 2,
   "id": "06ede241-b735-41a7-83a0-adf2bacd9b6c",
   "metadata": {},
   "outputs": [],
   "source": [
    "import jieba\n",
    "import sklearn\n",
    "from sklearn.model_selection import train_test_split\n",
    "from sklearn.naive_bayes import MultinomialNB"
   ]
  },
  {
   "cell_type": "code",
   "execution_count": 3,
   "id": "bbe942cc-ea11-4db7-b346-56d3a51077a8",
   "metadata": {},
   "outputs": [],
   "source": [
    "import numpy as np\n",
    "import pylab as pl\n",
    "import matplotlib.pyplot as plt"
   ]
  },
  {
   "cell_type": "markdown",
   "id": "16997a7e-3132-42e8-a2a2-13200d8d6943",
   "metadata": {},
   "source": [
    "## 1.工具函数"
   ]
  },
  {
   "cell_type": "markdown",
   "id": "f61c5d2e-bdfc-45d7-8033-f724c7719814",
   "metadata": {},
   "source": [
    "### 1.1 文本中词语去重"
   ]
  },
  {
   "cell_type": "code",
   "execution_count": 4,
   "id": "4926613c-4b3a-493c-ae74-05890dadec8c",
   "metadata": {},
   "outputs": [],
   "source": [
    "def make_word_set(words_file):\n",
    "    words_set = set()\n",
    "    with open(words_file, 'r') as fp:\n",
    "        for line in fp.readlines():\n",
    "            word = line.strip()\n",
    "            if len(word)>0 and word not in words_set: # 去重\n",
    "                words_set.add(word)\n",
    "    return words_set"
   ]
  },
  {
   "cell_type": "markdown",
   "id": "33be68b7-2103-43cc-ac52-a8b92bfdee01",
   "metadata": {},
   "source": [
    "### 1.2 遍历文件夹"
   ]
  },
  {
   "cell_type": "code",
   "execution_count": 5,
   "id": "b52c3f67-4b54-4fb9-8a24-c096e40ea9f5",
   "metadata": {},
   "outputs": [],
   "source": [
    "def traversingFolds(data_folder_path, filesFunc):\n",
    "    folder_list = os.listdir(data_folder_path)\n",
    "    #print(\"follder_list: \"+  str(folder_list))\n",
    "    for folder in folder_list:\n",
    "        current_folder_path  = os.path.join(data_folder_path, folder)\n",
    "        #print(\"new_folder_path: \"+ str(new_folder_path))\n",
    "        files = os.listdir(current_folder_path )\n",
    "        filesFunc(files, current_folder_path, folder)"
   ]
  },
  {
   "cell_type": "markdown",
   "id": "b1152f6a-ef05-4c1c-afd0-8a3e88c9e99a",
   "metadata": {},
   "source": [
    "### 1.3 文件操作函数"
   ]
  },
  {
   "cell_type": "code",
   "execution_count": 6,
   "id": "a6593ec9-9e90-4dd1-aa06-dbbba52ffec7",
   "metadata": {},
   "outputs": [],
   "source": [
    "def filesFunc(files, current_folder_path, targetClass):\n",
    "    raws = []\n",
    "    for file in files:\n",
    "        with open(os.path.join(current_folder_path, file), 'r') as fp:\n",
    "            raw = fp.read()\n",
    "            jiebaFunc(raw, targetClass)\n",
    "            #print(\"filePath: \" + current_folder_path + \"/\" + str(file))\n",
    "            #print(\"raw\"+raw)"
   ]
  },
  {
   "cell_type": "markdown",
   "id": "9a061fa0-8ffc-4758-bf33-62d1894378d9",
   "metadata": {},
   "source": [
    "### 1.4 使用jieba分词,将分词结果存入特征文本列表与目标分类列表中"
   ]
  },
  {
   "cell_type": "code",
   "execution_count": 7,
   "id": "c82e4c79-4da5-4ee4-a17b-36a99ca56e82",
   "metadata": {},
   "outputs": [],
   "source": [
    "def jiebaFunc(raw_text, targetClass):\n",
    "    \n",
    "    jieba.enable_parallel(4)\n",
    "    word_cut = jieba.cut(raw_text, cut_all=False) # 精确模式，返回的结构是一个可迭代的genertor\n",
    "    word_list = list(word_cut) # genertor转化为list，每个词unicode格式\n",
    "    jieba.disable_parallel() # 关闭并行分词模式\n",
    "            \n",
    "    data_list.append(word_list) #训练集list\n",
    "    class_list.append(targetClass) #类别\n",
    "    #print(\"targetClass: \" + targetClass)"
   ]
  },
  {
   "cell_type": "markdown",
   "id": "4e692d98-6834-42c3-afd8-502d3eafa791",
   "metadata": {},
   "source": [
    "### 1.5 统计特征文本中出现词语的词频"
   ]
  },
  {
   "cell_type": "code",
   "execution_count": 8,
   "id": "9af97211-cd8b-400d-ab89-6a9ceeee46dd",
   "metadata": {},
   "outputs": [],
   "source": [
    "def wordCountList(train_data_list):\n",
    "    for word_list in train_data_list:\n",
    "        for word in word_list:\n",
    "            if word in all_words_dict :\n",
    "                all_words_dict[word] += 1\n",
    "            else:\n",
    "                all_words_dict[word] = 1    "
   ]
  },
  {
   "cell_type": "markdown",
   "id": "f2231fa3-5f06-4824-81a9-1d154a469a77",
   "metadata": {},
   "source": [
    "### 1.6 利用停用词列表过滤关键词,返回前topN个"
   ]
  },
  {
   "cell_type": "code",
   "execution_count": 9,
   "id": "df7b3950-507b-4569-b7f7-d5a0ab5efe61",
   "metadata": {},
   "outputs": [],
   "source": [
    "def words_dict(all_words_list, topN, stopwords_set=set()):\n",
    "    # 选取特征词\n",
    "    feature_words = []\n",
    "    n = 1\n",
    "    for t in range(0, topN,  1):\n",
    "        if n > 1000: # feature_words的维度1000\n",
    "            break\n",
    "            \n",
    "        if not all_words_list[t].isdigit() and all_words_list[t] not in stopwords_set and 1<len(all_words_list[t])<5:\n",
    "            feature_words.append(all_words_list[t])\n",
    "            n += 1\n",
    "    return feature_words"
   ]
  },
  {
   "cell_type": "markdown",
   "id": "9f67d1e7-6e58-4327-99b5-9448c0a034f4",
   "metadata": {},
   "source": [
    "### 1.7 构造模型所用文本特征"
   ]
  },
  {
   "cell_type": "markdown",
   "id": "bb49ef49-7658-4f32-b776-c1e6a8be1728",
   "metadata": {},
   "source": [
    "#### 1.7.1 特征构造"
   ]
  },
  {
   "cell_type": "code",
   "execution_count": 10,
   "id": "1a8b8cf7-0fda-4967-8ac1-e48b3d30f4f0",
   "metadata": {},
   "outputs": [],
   "source": [
    "def build_text_features(text, feature_words, flag='nltk' ):\n",
    "    text_words = set(text)\n",
    "    ## -----------------------------------------------------------------------------------\n",
    "    if flag == 'nltk':\n",
    "        ## nltk特征 dict\n",
    "        features = {word:1 if word in text_words else 0 for word in feature_words}\n",
    "    elif flag == 'sklearn':\n",
    "    ## sklearn特征 list\n",
    "        features = [1 if word in text_words else 0 for word in feature_words]\n",
    "    else:\n",
    "        features = []\n",
    "    ## -----------------------------------------------------------------------------------\n",
    "    return features"
   ]
  },
  {
   "cell_type": "markdown",
   "id": "a175ff6e-fb4d-4c05-b8f2-722bc7841eee",
   "metadata": {},
   "source": [
    "#### 1.7.2 对测试集、验证集分别构造特征"
   ]
  },
  {
   "cell_type": "code",
   "execution_count": 11,
   "id": "d93441e7-12f7-4d1f-9b2d-aa8a2701297c",
   "metadata": {},
   "outputs": [],
   "source": [
    "def text_features(train_data_list, test_data_list, feature_words, flag='nltk'):\n",
    "    \n",
    "    train_feature_list = [build_text_features(text, feature_words, flag ) for text in train_data_list]\n",
    "    test_feature_list = [build_text_features(text, feature_words, flag) for text in test_data_list]\n",
    "    return train_feature_list, test_feature_list"
   ]
  },
  {
   "cell_type": "markdown",
   "id": "9bafaf07-7dec-494f-a653-45a259d6e613",
   "metadata": {},
   "source": [
    "### 1.8 构造文本分类器"
   ]
  },
  {
   "cell_type": "code",
   "execution_count": 12,
   "id": "3a20af0c-f832-4ef7-b0ce-8828e55481a1",
   "metadata": {},
   "outputs": [],
   "source": [
    "def text_classifier(train_feature_list, test_feature_list, train_class_list, test_class_list, flag='nltk'):\n",
    "    ## -----------------------------------------------------------------------------------\n",
    "    if flag == 'nltk':\n",
    "        ## 使用nltk分类器\n",
    "        train_flist = zip(train_feature_list, train_class_list)\n",
    "        test_flist = zip(test_feature_list, test_class_list)\n",
    "        classifier = nltk.classify.NaiveBayesClassifier.train(train_flist)\n",
    "        test_accuracy = nltk.classify.accuracy(classifier, test_flist)\n",
    "    elif flag == 'sklearn':\n",
    "        ## sklearn分类器\n",
    "        classifier = MultinomialNB().fit(train_feature_list, train_class_list)\n",
    "        test_accuracy = classifier.score(test_feature_list, test_class_list)\n",
    "    else:\n",
    "        test_accuracy = []\n",
    "    return test_accuracy"
   ]
  },
  {
   "cell_type": "markdown",
   "id": "95045893-394e-40f3-b6d8-927317125737",
   "metadata": {},
   "source": [
    "## 2. 分类处理过程"
   ]
  },
  {
   "cell_type": "markdown",
   "id": "a793b167-99db-4f0d-b611-b02be5893996",
   "metadata": {},
   "source": [
    "\n",
    "### 2.1 构造全局文本特征列表、目标分类列表、词频字典、停用词表、分类器类型、关键字数量超参数范围、准确率列表"
   ]
  },
  {
   "cell_type": "code",
   "execution_count": 13,
   "id": "e988743d-72a2-495a-bb10-770d844b0dec",
   "metadata": {},
   "outputs": [],
   "source": [
    "data_list = []\n",
    "class_list = []\n",
    "all_words_dict = {} #词频字典\n",
    "# 生成stopwords_set\n",
    "stopwords_file = '/usr/local/codeData/jupyterData/jupyter-bd/bayesClassifier/stopwords_cn.txt'\n",
    "stopwords_set = make_word_set(stopwords_file)\n",
    "flag = 'sklearn'\n",
    "topNs = range(20, 1000, 20)\n",
    "test_accuracy_list = []"
   ]
  },
  {
   "cell_type": "markdown",
   "id": "b8bfcc83-f749-4ae7-89fc-36bd38f41299",
   "metadata": {},
   "source": [
    "### 2.2 遍历主文件夹下所有文件，抽取特征文本，利用jieba分词后分别存储至文本特征列表、目标分类列表中"
   ]
  },
  {
   "cell_type": "code",
   "execution_count": 14,
   "id": "86fcefde-4eaf-47e3-b959-644eb3726143",
   "metadata": {},
   "outputs": [
    {
     "name": "stderr",
     "output_type": "stream",
     "text": [
      "Building prefix dict from the default dictionary ...\n",
      "Loading model from cache /tmp/jieba.cache\n",
      "Loading model cost 0.843 seconds.\n",
      "Prefix dict has been built successfully.\n"
     ]
    }
   ],
   "source": [
    "traversingFolds(\"/usr/local/codeData/jupyterData/jupyter-bd/bayesClassifier/SogouC/Sample\",filesFunc)"
   ]
  },
  {
   "cell_type": "markdown",
   "id": "a842ab66-a6c6-4bfe-aa3a-166c95066189",
   "metadata": {},
   "source": [
    "### 2.3 构造验证集与测试集"
   ]
  },
  {
   "cell_type": "code",
   "execution_count": 15,
   "id": "c2ec37cc-6326-4ebc-bbe2-0146d00b8e9f",
   "metadata": {},
   "outputs": [],
   "source": [
    "train_data_list, test_data_list, train_class_list, test_class_list = train_test_split(data_list, class_list, test_size=0.2)\n",
    "    "
   ]
  },
  {
   "cell_type": "markdown",
   "id": "dabda0cf-894a-4363-819c-1fab7fdb6995",
   "metadata": {},
   "source": [
    " ### 2.4 统计数据验证集的词频信息并存储至全局词频字典中"
   ]
  },
  {
   "cell_type": "markdown",
   "id": "bbe404d7-392d-484b-99e7-0be149380011",
   "metadata": {},
   "source": [
    "#### 2.4.1 统计词频"
   ]
  },
  {
   "cell_type": "code",
   "execution_count": 16,
   "id": "f93900b3-3700-47cd-8fd3-129a14bc3200",
   "metadata": {},
   "outputs": [],
   "source": [
    "wordCountList(train_data_list)"
   ]
  },
  {
   "cell_type": "markdown",
   "id": "d9bc1c42-0f8a-4dc0-92c1-99b9e0e98f32",
   "metadata": {},
   "source": [
    "#### 2.4.2 词频排序"
   ]
  },
  {
   "cell_type": "code",
   "execution_count": 17,
   "id": "481cbe06-88d9-438e-b85b-ffb626a0272b",
   "metadata": {},
   "outputs": [],
   "source": [
    "all_words_tuple_list = sorted(all_words_dict.items(), key=lambda f:f[1], reverse=True) "
   ]
  },
  {
   "cell_type": "markdown",
   "id": "1a8af35e-238d-4c29-a9f3-aaef4737aa7b",
   "metadata": {},
   "source": [
    "#### 2.4.3 保留key信息"
   ]
  },
  {
   "cell_type": "code",
   "execution_count": 18,
   "id": "ac8e98f5-e23a-419e-a985-2c105d90ec08",
   "metadata": {},
   "outputs": [],
   "source": [
    "all_words_list = [w for w, c in all_words_tuple_list]"
   ]
  },
  {
   "cell_type": "markdown",
   "id": "3ee1d39a-e47e-42af-856a-4e2df6b0242c",
   "metadata": {},
   "source": [
    "### 2.5 在不同关键词数量超参数范围内，进行关键词提取，构造训练集、验证集特征列表，并进行分类器训练"
   ]
  },
  {
   "cell_type": "code",
   "execution_count": 19,
   "id": "cea341fc-e11b-414a-817b-f5f77fe8744b",
   "metadata": {},
   "outputs": [
    {
     "name": "stdout",
     "output_type": "stream",
     "text": [
      "[0.0, 0.0, 0.1111111111111111, 0.2222222222222222, 0.2222222222222222, 0.2222222222222222, 0.3333333333333333, 0.3888888888888889, 0.3888888888888889, 0.3888888888888889, 0.3333333333333333, 0.3333333333333333, 0.3888888888888889, 0.3333333333333333, 0.3888888888888889, 0.3888888888888889, 0.3333333333333333, 0.2777777777777778, 0.3888888888888889, 0.3888888888888889, 0.3888888888888889, 0.3888888888888889, 0.3333333333333333, 0.3888888888888889, 0.4444444444444444, 0.4444444444444444, 0.3888888888888889, 0.4444444444444444, 0.3888888888888889, 0.4444444444444444, 0.4444444444444444, 0.3333333333333333, 0.3888888888888889, 0.3333333333333333, 0.3333333333333333, 0.3333333333333333, 0.3888888888888889, 0.3888888888888889, 0.4444444444444444, 0.4444444444444444, 0.4444444444444444, 0.4444444444444444, 0.4444444444444444, 0.4444444444444444, 0.4444444444444444, 0.3888888888888889, 0.3888888888888889, 0.4444444444444444, 0.4444444444444444]\n"
     ]
    }
   ],
   "source": [
    "for topN in topNs:\n",
    "    feature_words = words_dict(all_words_list, topN, stopwords_set)#关键词提取\n",
    "    train_feature_list, test_feature_list = text_features(train_data_list, test_data_list, feature_words, flag)#构造训练集、验证集特征列表\n",
    "    test_accuracy = text_classifier(train_feature_list, test_feature_list, train_class_list, test_class_list, flag)\n",
    "    test_accuracy_list.append(test_accuracy)\n",
    "print(test_accuracy_list)"
   ]
  },
  {
   "cell_type": "markdown",
   "id": "e57c69bf-9f2c-4f81-9ffa-83bfe2d8fd01",
   "metadata": {},
   "source": [
    "## 3 结果评价"
   ]
  },
  {
   "cell_type": "code",
   "execution_count": 20,
   "id": "7921e6a0-131c-45c5-8674-c553e09e4810",
   "metadata": {},
   "outputs": [
    {
     "data": {
      "image/png": "[encoded data removed]",
      "text/plain": [
       "<Figure size 640x480 with 1 Axes>"
      ]
     },
     "metadata": {},
     "output_type": "display_data"
    }
   ],
   "source": [
    "plt.plot(topNs, test_accuracy_list)\n",
    "plt.title('Relationship of topNs and test_accuracy')\n",
    "plt.xlabel('topNs')\n",
    "plt.ylabel('test_accuracy')\n",
    "plt.show()"
   ]
  }
 ],
 "metadata": {
  "kernelspec": {
   "display_name": "Python 3 (ipykernel)",
   "language": "python",
   "name": "python3"
  },
  "language_info": {
   "codemirror_mode": {
    "name": "ipython",
    "version": 3
   },
   "file_extension": ".py",
   "mimetype": "text/x-python",
   "name": "python",
   "nbconvert_exporter": "python",
   "pygments_lexer": "ipython3",
   "version": "3.8.10"
  }
 },
 "nbformat": 4,
 "nbformat_minor": 5
}
