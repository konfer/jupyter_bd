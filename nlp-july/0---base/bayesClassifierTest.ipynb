{
 "cells": [
  {
   "cell_type": "code",
   "execution_count": 1,
   "id": "1856f4e3-4469-4ad1-81b0-7d0516a1427b",
   "metadata": {},
   "outputs": [],
   "source": [
    "import os\n",
    "import time\n",
    "import random"
   ]
  },
  {
   "cell_type": "code",
   "execution_count": 15,
   "id": "06ede241-b735-41a7-83a0-adf2bacd9b6c",
   "metadata": {},
   "outputs": [],
   "source": [
    "import jieba\n",
    "import sklearn\n",
    "from sklearn.model_selection import train_test_split\n",
    "from sklearn.naive_bayes import MultinomialNB"
   ]
  },
  {
   "cell_type": "code",
   "execution_count": 3,
   "id": "bbe942cc-ea11-4db7-b346-56d3a51077a8",
   "metadata": {},
   "outputs": [],
   "source": [
    "import numpy as np\n",
    "import pylab as pl\n",
    "import matplotlib.pyplot as plt"
   ]
  },
  {
   "cell_type": "markdown",
   "id": "16997a7e-3132-42e8-a2a2-13200d8d6943",
   "metadata": {},
   "source": [
    "## 1.工具函数"
   ]
  },
  {
   "cell_type": "markdown",
   "id": "f61c5d2e-bdfc-45d7-8033-f724c7719814",
   "metadata": {},
   "source": [
    "### 1.1 文本中词语去重"
   ]
  },
  {
   "cell_type": "code",
   "execution_count": 4,
   "id": "4926613c-4b3a-493c-ae74-05890dadec8c",
   "metadata": {},
   "outputs": [],
   "source": [
    "def make_word_set(words_file):\n",
    "    words_set = set()\n",
    "    with open(words_file, 'r') as fp:\n",
    "        for line in fp.readlines():\n",
    "            word = line.strip().decode(\"utf-8\")\n",
    "            if len(word)>0 and word not in words_set: # 去重\n",
    "                words_set.add(word)\n",
    "    return words_set"
   ]
  },
  {
   "cell_type": "markdown",
   "id": "33be68b7-2103-43cc-ac52-a8b92bfdee01",
   "metadata": {},
   "source": [
    "### 1.2 遍历文件夹"
   ]
  },
  {
   "cell_type": "code",
   "execution_count": 6,
   "id": "b52c3f67-4b54-4fb9-8a24-c096e40ea9f5",
   "metadata": {},
   "outputs": [],
   "source": [
    "def traversingFolds(data_folder_path, filesFunc):\n",
    "    folder_list = os.listdir(data_folder_path)\n",
    "    #print(\"follder_list: \"+  str(folder_list))\n",
    "    for folder in folder_list:\n",
    "        current_folder_path  = os.path.join(data_folder_path, folder)\n",
    "        #print(\"new_folder_path: \"+ str(new_folder_path))\n",
    "        files = os.listdir(current_folder_path )\n",
    "        filesFunc(files, current_folder_path, folder)"
   ]
  },
  {
   "cell_type": "markdown",
   "id": "b1152f6a-ef05-4c1c-afd0-8a3e88c9e99a",
   "metadata": {},
   "source": [
    "### 1.3 文件操作函数"
   ]
  },
  {
   "cell_type": "code",
   "execution_count": 8,
   "id": "a6593ec9-9e90-4dd1-aa06-dbbba52ffec7",
   "metadata": {},
   "outputs": [],
   "source": [
    "def filesFunc(files, current_folder_path, targetClass):\n",
    "    raws = []\n",
    "    for file in files:\n",
    "        with open(os.path.join(current_folder_path, file), 'r') as fp:\n",
    "            raw = fp.read()\n",
    "            jiebaFunc(raw, targetClass)\n",
    "            #print(\"filePath: \" + current_folder_path + \"/\" + str(file))\n",
    "            #print(\"raw\"+raw)"
   ]
  },
  {
   "cell_type": "markdown",
   "id": "9a061fa0-8ffc-4758-bf33-62d1894378d9",
   "metadata": {},
   "source": [
    "### 1.4 使用jieba分词,将分词结果存入特征文本列表与目标分类列表中"
   ]
  },
  {
   "cell_type": "code",
   "execution_count": 9,
   "id": "c82e4c79-4da5-4ee4-a17b-36a99ca56e82",
   "metadata": {},
   "outputs": [],
   "source": [
    "def jiebaFunc(raw_text, targetClass):\n",
    "    \n",
    "    jieba.enable_parallel(4)\n",
    "    word_cut = jieba.cut(raw_text, cut_all=False) # 精确模式，返回的结构是一个可迭代的genertor\n",
    "    word_list = list(word_cut) # genertor转化为list，每个词unicode格式\n",
    "    jieba.disable_parallel() # 关闭并行分词模式\n",
    "            \n",
    "    data_list.append(word_list) #训练集list\n",
    "    class_list.append(targetClass) #类别\n",
    "    #print(\"targetClass: \" + targetClass)"
   ]
  },
  {
   "cell_type": "markdown",
   "id": "4e692d98-6834-42c3-afd8-502d3eafa791",
   "metadata": {},
   "source": [
    "### 1.5 统计特征文本中出现词语的词频"
   ]
  },
  {
   "cell_type": "code",
   "execution_count": 20,
   "id": "9af97211-cd8b-400d-ab89-6a9ceeee46dd",
   "metadata": {},
   "outputs": [],
   "source": [
    "def wordCountList(train_data_list):\n",
    "    for word_list in train_data_list:\n",
    "        for word in word_list:\n",
    "            if word in all_words_dict :\n",
    "                all_words_dict[word] += 1\n",
    "            else:\n",
    "                all_words_dict[word] = 1    "
   ]
  },
  {
   "cell_type": "markdown",
   "id": "95045893-394e-40f3-b6d8-927317125737",
   "metadata": {},
   "source": [
    "## 2. 分类处理过程"
   ]
  },
  {
   "cell_type": "markdown",
   "id": "380ad6a8-26f3-450d-9be1-9bf66a0ef38e",
   "metadata": {},
   "source": [
    "### 2.1 构造全局文本特征列表、目标分类列表、词频列表"
   ]
  },
  {
   "cell_type": "code",
   "execution_count": 19,
   "id": "e988743d-72a2-495a-bb10-770d844b0dec",
   "metadata": {},
   "outputs": [],
   "source": [
    "data_list = []\n",
    "class_list = []\n",
    "all_words_dict = {} #词频集合"
   ]
  },
  {
   "cell_type": "markdown",
   "id": "b8bfcc83-f749-4ae7-89fc-36bd38f41299",
   "metadata": {},
   "source": [
    "### 2.2 遍历主文件夹下所有文件，抽取特征文本，利用jieba分词后分别存储至文本特征列表、目标分类列表中"
   ]
  },
  {
   "cell_type": "code",
   "execution_count": 10,
   "id": "86fcefde-4eaf-47e3-b959-644eb3726143",
   "metadata": {},
   "outputs": [
    {
     "name": "stderr",
     "output_type": "stream",
     "text": [
      "Building prefix dict from the default dictionary ...\n",
      "Loading model from cache /tmp/jieba.cache\n",
      "Loading model cost 0.873 seconds.\n",
      "Prefix dict has been built successfully.\n"
     ]
    }
   ],
   "source": [
    "traversingFolds(\"/usr/local/codeData/jupyterData/jupyter-bd/bayesClassifier/SogouC/Sample\",filesFunc)"
   ]
  },
  {
   "cell_type": "markdown",
   "id": "a842ab66-a6c6-4bfe-aa3a-166c95066189",
   "metadata": {},
   "source": [
    "### 2.3 构造验证集与测试集"
   ]
  },
  {
   "cell_type": "code",
   "execution_count": 17,
   "id": "c2ec37cc-6326-4ebc-bbe2-0146d00b8e9f",
   "metadata": {},
   "outputs": [],
   "source": [
    "train_data_list, test_data_list, train_class_list, test_class_list = sklearn.cross_validation.train_test_split(data_list, class_list, test_size=0.2)\n",
    "    "
   ]
  },
  {
   "cell_type": "markdown",
   "id": "435983d1-eb69-405c-876d-2f50e537c6c4",
   "metadata": {},
   "source": [
    "### 2.4 统计数据验证集的词频信息并存储至全局词频列表中"
   ]
  },
  {
   "cell_type": "code",
   "execution_count": 21,
   "id": "f93900b3-3700-47cd-8fd3-129a14bc3200",
   "metadata": {},
   "outputs": [],
   "source": [
    "wordCountList(train_data_list)"
   ]
  },
  {
   "cell_type": "markdown",
   "id": "4fee0a42-7506-4c73-9e3a-8058dd718a6d",
   "metadata": {},
   "source": [
    "### 样本生成---文本特征、目标分类"
   ]
  }
 ],
 "metadata": {
  "kernelspec": {
   "display_name": "Python 3 (ipykernel)",
   "language": "python",
   "name": "python3"
  },
  "language_info": {
   "codemirror_mode": {
    "name": "ipython",
    "version": 3
   },
   "file_extension": ".py",
   "mimetype": "text/x-python",
   "name": "python",
   "nbconvert_exporter": "python",
   "pygments_lexer": "ipython3",
   "version": "3.8.10"
  }
 },
 "nbformat": 4,
 "nbformat_minor": 5
}
