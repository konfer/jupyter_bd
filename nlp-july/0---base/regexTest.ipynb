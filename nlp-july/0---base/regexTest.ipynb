{
 "cells": [
  {
   "cell_type": "code",
   "execution_count": 18,
   "id": "3c56527a-1554-42a7-9552-d4dd238eb5b3",
   "metadata": {},
   "outputs": [],
   "source": [
    "import re"
   ]
  },
  {
   "cell_type": "code",
   "execution_count": 19,
   "id": "755e5744-becd-4330-87f9-f616d8e87c54",
   "metadata": {},
   "outputs": [],
   "source": [
    "pattern = re.compile(r'(hello.*\\!)')"
   ]
  },
  {
   "cell_type": "code",
   "execution_count": 20,
   "id": "72959d4b-90fe-4971-bfc9-da082436a1a5",
   "metadata": {},
   "outputs": [],
   "source": [
    "str = \"hello, hanxiaoyang! How are you? hello, lin! welcome！ hello, wei! welcome\""
   ]
  },
  {
   "cell_type": "code",
   "execution_count": 21,
   "id": "c4306a96-ee6e-4833-8b83-c978d5b73cd1",
   "metadata": {},
   "outputs": [],
   "source": [
    "match = pattern.match(str)"
   ]
  },
  {
   "cell_type": "code",
   "execution_count": 22,
   "id": "2b4636c6-0dc3-4465-a416-4a0f7d1be5cf",
   "metadata": {},
   "outputs": [
    {
     "data": {
      "text/plain": [
       "<re.Match object; span=(0, 65), match='hello, hanxiaoyang! How are you? hello, lin! welc>"
      ]
     },
     "execution_count": 22,
     "metadata": {},
     "output_type": "execute_result"
    }
   ],
   "source": [
    "match"
   ]
  },
  {
   "cell_type": "code",
   "execution_count": 23,
   "id": "d154f273-79d3-4597-97f7-207e6ede0fe7",
   "metadata": {},
   "outputs": [
    {
     "name": "stdout",
     "output_type": "stream",
     "text": [
      "hello, hanxiaoyang! How are you? hello, lin! welcome！ hello, wei!\n"
     ]
    }
   ],
   "source": [
    "if match:\n",
    "    print(match.group())"
   ]
  },
  {
   "cell_type": "code",
   "execution_count": 24,
   "id": "3992bfee-3b5c-4d84-a79e-0fcee48c508f",
   "metadata": {},
   "outputs": [],
   "source": [
    "withoutPattern = re.compile(r'hello.*!')"
   ]
  },
  {
   "cell_type": "code",
   "execution_count": 25,
   "id": "e2791173-262d-4345-a06f-daa94d94f9a1",
   "metadata": {},
   "outputs": [],
   "source": [
    "withoutMatch = withoutPattern.match(str)"
   ]
  },
  {
   "cell_type": "code",
   "execution_count": 26,
   "id": "ded467fb-a780-4c36-b2ff-744725dcf0ae",
   "metadata": {},
   "outputs": [
    {
     "name": "stdout",
     "output_type": "stream",
     "text": [
      "hello, hanxiaoyang! How are you? hello, lin! welcome！ hello, wei!\n"
     ]
    }
   ],
   "source": [
    "if withoutMatch:\n",
    "    print(withoutMatch.group())"
   ]
  },
  {
   "cell_type": "code",
   "execution_count": 27,
   "id": "5085fc77-0cf9-42f9-929b-2226ddea9c07",
   "metadata": {},
   "outputs": [],
   "source": [
    "findAllMatch = withoutPattern.findall(str)"
   ]
  },
  {
   "cell_type": "markdown",
   "id": "0d0db9fb-4c99-4dd4-9eb0-2bdb41c9cae2",
   "metadata": {},
   "source": [
    "# 贪婪Match"
   ]
  },
  {
   "cell_type": "code",
   "execution_count": 28,
   "id": "d95cce1d-714d-44a7-83b1-d1ba3326017e",
   "metadata": {
    "scrolled": true
   },
   "outputs": [
    {
     "data": {
      "text/plain": [
       "['hello, hanxiaoyang! How are you? hello, lin! welcome！ hello, wei!']"
      ]
     },
     "execution_count": 28,
     "metadata": {},
     "output_type": "execute_result"
    }
   ],
   "source": [
    "findAllMatch"
   ]
  },
  {
   "cell_type": "code",
   "execution_count": 29,
   "id": "b18da6a9-fdaa-4332-8dc2-107402932a6c",
   "metadata": {},
   "outputs": [],
   "source": [
    "match = re.findall(r'hello.*?!', str)"
   ]
  },
  {
   "cell_type": "code",
   "execution_count": 30,
   "id": "6bf9e218-37f0-4862-b071-ad828b058545",
   "metadata": {},
   "outputs": [
    {
     "data": {
      "text/plain": [
       "['hello, hanxiaoyang!', 'hello, lin!', 'hello, wei!']"
      ]
     },
     "execution_count": 30,
     "metadata": {},
     "output_type": "execute_result"
    }
   ],
   "source": [
    "match"
   ]
  },
  {
   "cell_type": "code",
   "execution_count": 31,
   "id": "babd6ee8-8d50-4eae-bbff-59b6f921d8f7",
   "metadata": {},
   "outputs": [
    {
     "data": {
      "text/plain": [
       "'hello, lin!'"
      ]
     },
     "execution_count": 31,
     "metadata": {},
     "output_type": "execute_result"
    }
   ],
   "source": [
    "match[1]"
   ]
  },
  {
   "cell_type": "markdown",
   "id": "e9eaf897-ad60-49d3-a3ec-0d3927a412ce",
   "metadata": {},
   "source": [
    "# split"
   ]
  },
  {
   "cell_type": "code",
   "execution_count": 40,
   "id": "39707a54-aba0-4aca-9311-765f97017792",
   "metadata": {},
   "outputs": [
    {
     "data": {
      "text/plain": [
       "['Words', 'span', 'word', 'lin']"
      ]
     },
     "execution_count": 40,
     "metadata": {},
     "output_type": "execute_result"
    }
   ],
   "source": [
    "re.split(r'[, \\. ]+', 'Words, span, word. ,lin')"
   ]
  },
  {
   "cell_type": "code",
   "execution_count": null,
   "id": "39e092b1-2350-453e-a37b-7f9ed3c1d990",
   "metadata": {},
   "outputs": [],
   "source": []
  },
  {
   "cell_type": "code",
   "execution_count": null,
   "id": "c5971573-23a0-482d-946e-d184d668e9cf",
   "metadata": {},
   "outputs": [],
   "source": []
  }
 ],
 "metadata": {
  "kernelspec": {
   "display_name": "Python 3 (ipykernel)",
   "language": "python",
   "name": "python3"
  },
  "language_info": {
   "codemirror_mode": {
    "name": "ipython",
    "version": 3
   },
   "file_extension": ".py",
   "mimetype": "text/x-python",
   "name": "python",
   "nbconvert_exporter": "python",
   "pygments_lexer": "ipython3",
   "version": "3.8.10"
  }
 },
 "nbformat": 4,
 "nbformat_minor": 5
}
