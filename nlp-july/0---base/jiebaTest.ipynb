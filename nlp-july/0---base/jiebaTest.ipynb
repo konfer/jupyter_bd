{
 "cells": [
  {
   "cell_type": "code",
   "execution_count": 2,
   "id": "e1ed0bd7-0821-4aba-986b-fbf6646468e3",
   "metadata": {},
   "outputs": [],
   "source": [
    "import jieba\n",
    "import jieba.analyse as analyse"
   ]
  },
  {
   "cell_type": "code",
   "execution_count": 26,
   "id": "31330524-42aa-450b-bfc4-1fcbe72a7c79",
   "metadata": {},
   "outputs": [],
   "source": [
    "text = \"我在学习自然语言处理\""
   ]
  },
  {
   "cell_type": "code",
   "execution_count": 27,
   "id": "6447cd61-a0c6-4055-8ec6-6621a1e31f76",
   "metadata": {},
   "outputs": [],
   "source": [
    "full_seg_list = jieba.cut(text, cut_all = True)"
   ]
  },
  {
   "cell_type": "code",
   "execution_count": 28,
   "id": "dc49de2b-73a3-4d46-bbf1-60d82d2d322f",
   "metadata": {},
   "outputs": [
    {
     "name": "stdout",
     "output_type": "stream",
     "text": [
      "<generator object Tokenizer.cut at 0x7fba35581970>\n"
     ]
    }
   ],
   "source": [
    "print(full_seg_list)"
   ]
  },
  {
   "cell_type": "code",
   "execution_count": 29,
   "id": "02472aeb-373f-4314-9b21-6495d9c2b20a",
   "metadata": {},
   "outputs": [
    {
     "name": "stdout",
     "output_type": "stream",
     "text": [
      "Full Mode: 我/在/学习/自然/自然语言/语言/处理\n"
     ]
    }
   ],
   "source": [
    "print(\"Full Mode: \" + \"/\".join(full_seg_list)) #全模式"
   ]
  },
  {
   "cell_type": "code",
   "execution_count": 30,
   "id": "24d8eea5-68dc-4ce7-a549-3f10c1611ea0",
   "metadata": {},
   "outputs": [],
   "source": [
    "exact_seg_list = jieba.cut(text, cut_all = False)"
   ]
  },
  {
   "cell_type": "code",
   "execution_count": 31,
   "id": "775d9f3c-b1fc-43e6-9908-8edff28072b8",
   "metadata": {},
   "outputs": [
    {
     "name": "stdout",
     "output_type": "stream",
     "text": [
      "<generator object Tokenizer.cut at 0x7fba3424c0b0>\n"
     ]
    }
   ],
   "source": [
    "print(exact_seg_list)"
   ]
  },
  {
   "cell_type": "code",
   "execution_count": 32,
   "id": "82f506df-46bc-47d6-aba1-5250805c2e17",
   "metadata": {},
   "outputs": [
    {
     "name": "stdout",
     "output_type": "stream",
     "text": [
      "exact Mode: 我/在/学习/自然语言/处理\n"
     ]
    }
   ],
   "source": [
    "print(\"exact Mode: \" + \"/\".join(exact_seg_list)) #精确模式，默认选项"
   ]
  },
  {
   "cell_type": "code",
   "execution_count": 33,
   "id": "b678f27a-2346-44d5-8065-cce6f32cca53",
   "metadata": {},
   "outputs": [],
   "source": [
    "search_seg_list = jieba.cut_for_search(text)"
   ]
  },
  {
   "cell_type": "code",
   "execution_count": 34,
   "id": "b2618934-faa1-4273-8b5a-47abdac9f56d",
   "metadata": {},
   "outputs": [
    {
     "name": "stdout",
     "output_type": "stream",
     "text": [
      "我, 在, 学习, 自然, 语言, 自然语言, 处理\n"
     ]
    }
   ],
   "source": [
    "print(\", \".join(bsearch_seg_list))"
   ]
  },
  {
   "cell_type": "code",
   "execution_count": 3,
   "id": "6ac886b8-a958-4b40-9bb0-37cb3da8d731",
   "metadata": {},
   "outputs": [],
   "source": [
    "text = \"\"\"\n",
    "OUTSIDE AVDIIVKA, Ukraine — The headquarters of one of the battalions in Ukraine’s 53rd Mechanized brigade smells of fresh cut pine trees. The scents are from the wooden support beams in the labyrinth of trenches that make up most of the unit’s rudimentary base outside the embattled town of Avdiivka.\n",
    "\n",
    "In the main command room, flat-screen televisions, computers and satellite internet pipe in images from small drones, as a cadre of Ukrainian soldiers keeps tabs on their portion of the front line.\n",
    "\n",
    "What they mostly see is a violent stalemate.\n",
    "\n",
    "As the war enters its 17th month, the fighting has developed a noticeable rhythm. Russia and Ukraine are locked in a deadly back and forth of attacks and counterattacks. Russian artillery no longer has the clear advantage and Ukrainian forces are struggling with staunch Russian defenses, grinding on in their southern offensive, slowed because of dense minefields.\n",
    "\n",
    "Small territorial gains come at an outsized cost. Field hospitals that were closed after the battle for the eastern city of Bakhmut have been reopened, volunteers said, and Ukrainian soldiers described a determined foe.\n",
    "\n",
    "ImageSeveral soldiers collect spent shells in a wooded area, with a vehicle in the background.\n",
    "Ukrainian soldiers collect empty artillery shells after firing from a self-propelled howitzer near a field in Donetsk region in June.\n",
    "\n",
    "Image\n",
    "A rocket takes off from a launcher in an open field, leaving a fiery trail behind it.\n",
    "A Grad rocket firing in Donetsk region. The varied mix of munitions sent from different countries has at times proved troublesome for Ukrainian forces.\n",
    "\n",
    "“We’re trading our people for their people and they have more people and equipment,” said one Ukrainian commander whose platoon has suffered around 200 percent casualties since Russia launched its full scale invasion last year.\n",
    "\n",
    "This New York Times analysis of the war is based on a dozen visits to the front line and interviews in June and July with Ukrainian soldiers and commanders in the Donetsk and Kharkiv regions, where many of the battles are being fought.\n",
    "\n",
    "Those visits showed the Ukrainian military facing a litany of new and enduring challenges that have contributed to its slow progress.\n",
    "\n",
    "Ukraine has done well to adapt a defensive war — wiring Starlink satellite internet, public software and off-the-shelf drones to keep constant tabs on Russian forces from command points. But offensive operations are different: Ukraine has made marginal progress in its ability to coordinate directly between its troops closest to Russian forces on the so-called zero line and those assaulting forward.\n",
    "\n",
    "\n",
    "Ukrainian infantry are focusing more and more on trench assaults, but after suffering tens of thousands of casualties since the war’s start, these ranks are often filled with lesser trained and older troops. And when Russian forces are driven from a position, they have become more adept at targeting that position with their artillery, ensuring Ukrainian troops can’t stay there long.\n",
    "\n",
    "The State of the War\n",
    "A Barrage on Odesa: As Moscow ended its participation in a deal that had allowed Ukraine to export its grain by sea, the Russian military bombarded Odesa, Ukraine’s largest port, and other shipping centers. The White House warned that the Kremlin might be setting the stage for attacks on commercial transport ships.\n",
    "Wagner Mutiny Aftermath: Russian investigators detained a leading nationalist critic of Russia’s conduct of the war in Ukraine, in a sign that the brief rebellion by Wagner mercenaries in June has further reduced tolerance of any dissent, even among those who support Moscow’s invasion.\n",
    "Military Aid: The United States will send $1.3 billion in financial assistance to Kyiv in order to purchase a host of new military equipment and ammunition.\n",
    "Crimea Bridge Attack: An apparent Ukrainian strike damaged an important Russian bridge linking the occupied Crimean Peninsula to mainland Russia.\n",
    "Ammunition is in short supply and there is a mixture of munitions sent from different countries. That has forced Ukrainian artillery units to use more ammunition to hit their targets, since accuracy varies widely between the various shells, Ukrainian soldiers said. In addition, some of the older shells and rockets sent from abroad are damaging their equipment, and injuring soldiers. “It’s a very big problem now,” said Alex, a Ukrainian battalion commander.\n",
    "\n",
    "Finally, in the summer months, camouflage and greenery remain crucial factors on whether a battlefield operation will be successful. Defending forces almost always have the advantage, whether it’s because of unseen trenches or hidden electronic warfare units that use deceit and concealment to throw off attacking forces.\n",
    "\n",
    "Getting the Coordinates, and Firing\n",
    "The setup the soldier named Valerii was watching in the command center is common among a majority of Ukrainian units fighting in the east. Unlike the United States and other NATO countries that use intricate military communication equipment to monitor the battlefield, Ukrainian troops use less sophisticated, but easier-to-use programs like smartphone messaging apps, private internet chat rooms and small Chinese-made drones to watch the goings on along the front line.\n",
    "\n",
    "It’s an ad hoc, but effective, communication suite that is overlaid with homegrown Ukrainian software, providing the location of Ukrainian units and suspected positions of Russian forces.\n",
    "\n",
    "The downside of this system is that it’s almost entirely tethered to Starlink satellite internet. That means when Ukrainian units are assaulting — absent a Wi-Fi router — it takes longer to communicate important information such as artillery targets because attacking troops have to reach someone with an internet connection to call for support.\n",
    "\n",
    "\n",
    "Ukrainian troops are also contending with Russian forces jamming the radios soldiers are using to try to reach their comrades with internet.\n",
    "\n",
    "“Mostly we receive coordinates via the internet — it is secure, and as soon as they are transmitted to us, we use them immediately,” said Anton, the head of an automatic grenade launcher unit.\n",
    "\n",
    "In one case in the country’s south earlier this year, soldiers fighting for Ukraine tried to wire Starlink internet to an armored troop transport as they assaulted a Russian position, but the antenna was shot by friendly fire during the attack.\n",
    "\n",
    "This month, the system worked as intended. A Ukrainian drone watched as the dirt from a Russian soldier’s shovel piled up next to a trench he was digging: it was a priority target. A new trench meant Russian forces were getting that much closer to Ukrainian lines and would be one more fortification for Ukrainian forces to assault.\n",
    "\n",
    "The coordinates for the trench were sent via smartphone, and minutes later explosions from a Mk 19 automatic grenade launcher erupted on either side of the Russian soldier.\n",
    "\n",
    "Trench Clearing: Dangerous and Essential\n",
    "The squad of Ukrainian soldiers from the 59th brigade were soaked through with sweat. It was the end of June and they had performed the same drill — assaulting a trench used for training, just miles from the front line — countless times, navigating through the overgrown grass, fake-firing their Kalashnikovs, resting and doing it all over again.\n",
    "\n",
    "The aim of the repetition was to make the process mechanical, so when the new group of mobilized soldiers, whose ages ranged between 25 and 40, finally made it to the front line, they wouldn’t flinch when it came time to attack a well-defended Russian trench.\n",
    "\n",
    "“We haven’t been in active combat yet but we are preparing for it,” said Mykola, one of the younger soldiers in the group.\n",
    "\n",
    "With the war in its second year and both armies well-versed in constructing and defending fortifications, assaulting trenches has become one of the most dangerous and necessary tasks for Ukrainian troops trying to retake territory. Training for more specialized skills, such as for snipers, has been sidelined in favor of trench attacks.\n",
    "\n",
    "\n",
    "Around the eastern city of Bakhmut, which was captured by the Russians in May, Ukrainian forces have made progress on the city’s flanks because Russian forces have had less time to dig in. Some elite Ukrainian units in the area are proficient in attacking Russian trenches with good communication and coordinated assaults.\n",
    "\n",
    "But other Ukrainian formations elsewhere on the front have had trouble filling their ranks with the caliber of soldiers capable of carrying out successful trench attacks, given that months of fighting have exhausted their ranks. New replacements are often older recruits who were forced into action.\n",
    "\n",
    "“How can you expect a 40 year old to be a good infantry soldier or machine-gunner?” asked the Ukrainian commander who’s platoon had taken dozens of casualties. Youth not only means better physical prowess, but younger soldiers are less likely to question orders.\n",
    "\n",
    "In recent days around Bakhmut, Ukrainian casualties have mounted, a byproduct of Ukraine’s strategy to tie up Russian forces around the city to complement the ongoing counteroffensive in the country’s south. Russian forces have rushed more artillery units to the area so that even if they lose a trench to a Ukrainian assault they can quickly shower their lost fortifications with shells, forcing Kyivs troops to retreat from newly recaptured ground.\n",
    "\n",
    "‘The Green Zone’\n",
    "Outside the eastern town of Siversk, a team of Ukrainian troops manning a U.S.-supplied 105 mm howitzer listened to its “neighbor,” a self-propelled howitzer, fire several rounds. Then the 105 mm’s team received their own fire mission, via smartphone and Starlink internet, targeting a Russian mortar team.\n",
    "\n",
    "The crew peeled back its camouflage netting, fired twice, and then concealed again.\n",
    "\n",
    "The fire mission was successful. But for many Ukrainian artillery units it’s not that simple.\n",
    "\n",
    "Ukrainian artillery crews are navigating an assortment of munitions delivered from countries such as Pakistan, Poland, Bulgaria and Iran, forcing gun crews to adjust their aim based on which country the ammunition comes from, and sometimes how old they are, even though they are all the same caliber.\n",
    "\n",
    "Frequent artillery fire almost always brings retaliation. Twenty minutes after a Ukrainian 105 mm fired a salvo, the Russians fired back, showering the area with cluster munitions, a class of shells and rockets that explode and distribute smaller explosives over a wide area. Both Russia and Ukraine have used the weapons, though many countries banning them.\n",
    "\n",
    "\n",
    "The Russians used cluster munitions, the gun crew said, because they didn’t know exactly where the Ukrainians were, so they opted instead to blanket the area with the small exploding bombs with the hopes of hitting their target somewhere among the trees.\n",
    "\n",
    "One of the defining features of summer combat in eastern Ukraine is the foliage. Covering a tank or artillery piece with camouflage is called “masking” by the Ukrainians, and the routine is critical to avoid detection from drones and the artillery fire that is sure to follow. Around Bakhmut the fields and tree lines are known among Ukrainian troops as the “green zone.”\n",
    "\n",
    "Outside the Russian-held town of Kreminna, farther north, where pine forests dominate the terrain, Russian forces there frequently shell the trees with incendiary munitions to burn through the foliage, soldiers from the 100th Territorial Defense Brigade said. On that front line, Ukrainian troops often go so far as to bury their trash to stay hidden from drones.\n",
    "\n",
    "Often, to fire or maneuver, Ukrainian combat vehicles have to forego any type of camouflage, exposing them to another weapon that has proliferated across the front line in recent months: Russian GPS-guided Lancet drones.\n",
    "\n",
    "Often called “kamikaze” drones, they have forced Ukrainian artillery and tank crews to take extensive measures at concealing their positions. Some tank crews have even welded homemade armor to their turrets to stop the self-exploding machines.\n",
    "\n",
    "\n",
    "Roughly 40 miles away, on another portion of the front line, soldiers from the 15th separate artillery reconnaissance brigade were monitoring a range of radio frequencies from their computer screens, and trying to figure out how to deal with the Lancets. Jamming them was impossible, at least for now.\n",
    "\n",
    "Lancets are hard to shoot down because they operate more like guided bombs than drones, the Ukrainian soldiers said. Instead their electronic warfare radar, known as a NOTA, tries to jam the nearby Russian drone presumably sending coordinates to the Lancet. But it’s a difficult science, the soldiers said.\n",
    "\n",
    "“We don’t know exactly how they communicate,” said Marabu, a junior sergeant working inside the NOTA.\n",
    "\n",
    "Another electronic warfare soldier added that they can only see Lancets briefly on their screen when it turns on its connection to stream video, but that usually only lasts around 15 seconds.\n",
    "\n",
    "Electronic warfare is a hidden hand behind much of the war, with Russian capabilities outmatching that of the Ukrainians. Russian forces can detect cellphone signals, jam GPS and radio frequencies and are often looking for Starlink Wi-Fi routers to target with their artillery.\n",
    "\n",
    "“It’s a very big problem for us,” said Marabu, referring to the Russian forces’ ability to switch the frequency output of their drones. That makes it harder for the NOTA to tell where the drones are on the front line.\n",
    "\n",
    "Earlier this month, Marabu watched a Russian surveillance drone somewhere over the town of Svatove. Out of range from the NOTA’s jamming radar, all Sgt. Marabu could do was look as red dots cascaded down a blue background on his screen: the Russian drone was communicating back to its operator, sending grainy footage of the war below.\n",
    "\n",
    "\"\"\""
   ]
  },
  {
   "cell_type": "code",
   "execution_count": 8,
   "id": "78b9c0a1-6fb7-4b98-bd43-36bc3aa67366",
   "metadata": {},
   "outputs": [
    {
     "name": "stdout",
     "output_type": "stream",
     "text": [
      "Ukrainian Russian their soldiers forces they artillery Ukraine its said troops was drones front line internet more trench war units\n"
     ]
    }
   ],
   "source": [
    "print(\" \".join(analyse.extract_tags(text, topK = 20,\n",
    "                                    withWeight = False, allowPOS = ())))"
   ]
  },
  {
   "cell_type": "code",
   "execution_count": 12,
   "id": "17d6f40d-2816-4a43-8b83-4ab770ca581f",
   "metadata": {},
   "outputs": [],
   "source": [
    "lines = open('war.txt').read()"
   ]
  },
  {
   "cell_type": "code",
   "execution_count": 13,
   "id": "e9fa24a7-b8c8-4f8f-80b5-3d4ea87a9209",
   "metadata": {},
   "outputs": [
    {
     "name": "stdout",
     "output_type": "stream",
     "text": [
      "\n"
     ]
    }
   ],
   "source": [
    "print(\" \".join(analyse.textrank(lines, topK = 20,\n",
    "                                    withWeight = False)))"
   ]
  },
  {
   "cell_type": "code",
   "execution_count": null,
   "id": "ef451bbd-2398-4d40-bc78-eccb9bdc340a",
   "metadata": {},
   "outputs": [],
   "source": []
  }
 ],
 "metadata": {
  "kernelspec": {
   "display_name": "Python 3 (ipykernel)",
   "language": "python",
   "name": "python3"
  },
  "language_info": {
   "codemirror_mode": {
    "name": "ipython",
    "version": 3
   },
   "file_extension": ".py",
   "mimetype": "text/x-python",
   "name": "python",
   "nbconvert_exporter": "python",
   "pygments_lexer": "ipython3",
   "version": "3.8.10"
  }
 },
 "nbformat": 4,
 "nbformat_minor": 5
}
