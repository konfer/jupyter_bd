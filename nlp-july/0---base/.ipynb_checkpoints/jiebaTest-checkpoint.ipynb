{
 "cells": [
  {
   "cell_type": "code",
   "execution_count": 25,
   "id": "e1ed0bd7-0821-4aba-986b-fbf6646468e3",
   "metadata": {},
   "outputs": [],
   "source": [
    "import jieba"
   ]
  },
  {
   "cell_type": "code",
   "execution_count": 26,
   "id": "31330524-42aa-450b-bfc4-1fcbe72a7c79",
   "metadata": {},
   "outputs": [],
   "source": [
    "text = \"我在学习自然语言处理\""
   ]
  },
  {
   "cell_type": "code",
   "execution_count": 27,
   "id": "6447cd61-a0c6-4055-8ec6-6621a1e31f76",
   "metadata": {},
   "outputs": [],
   "source": [
    "full_seg_list = jieba.cut(text, cut_all = True)"
   ]
  },
  {
   "cell_type": "code",
   "execution_count": 28,
   "id": "dc49de2b-73a3-4d46-bbf1-60d82d2d322f",
   "metadata": {},
   "outputs": [
    {
     "name": "stdout",
     "output_type": "stream",
     "text": [
      "<generator object Tokenizer.cut at 0x7fba35581970>\n"
     ]
    }
   ],
   "source": [
    "print(full_seg_list)"
   ]
  },
  {
   "cell_type": "code",
   "execution_count": 29,
   "id": "02472aeb-373f-4314-9b21-6495d9c2b20a",
   "metadata": {},
   "outputs": [
    {
     "name": "stdout",
     "output_type": "stream",
     "text": [
      "Full Mode: 我/在/学习/自然/自然语言/语言/处理\n"
     ]
    }
   ],
   "source": [
    "print(\"Full Mode: \" + \"/\".join(full_seg_list)) #全模式"
   ]
  },
  {
   "cell_type": "code",
   "execution_count": 30,
   "id": "24d8eea5-68dc-4ce7-a549-3f10c1611ea0",
   "metadata": {},
   "outputs": [],
   "source": [
    "exact_seg_list = jieba.cut(text, cut_all = False)"
   ]
  },
  {
   "cell_type": "code",
   "execution_count": 31,
   "id": "775d9f3c-b1fc-43e6-9908-8edff28072b8",
   "metadata": {},
   "outputs": [
    {
     "name": "stdout",
     "output_type": "stream",
     "text": [
      "<generator object Tokenizer.cut at 0x7fba3424c0b0>\n"
     ]
    }
   ],
   "source": [
    "print(exact_seg_list)"
   ]
  },
  {
   "cell_type": "code",
   "execution_count": 32,
   "id": "82f506df-46bc-47d6-aba1-5250805c2e17",
   "metadata": {},
   "outputs": [
    {
     "name": "stdout",
     "output_type": "stream",
     "text": [
      "exact Mode: 我/在/学习/自然语言/处理\n"
     ]
    }
   ],
   "source": [
    "print(\"exact Mode: \" + \"/\".join(exact_seg_list)) #精确模式，默认选项"
   ]
  },
  {
   "cell_type": "code",
   "execution_count": 33,
   "id": "b678f27a-2346-44d5-8065-cce6f32cca53",
   "metadata": {},
   "outputs": [],
   "source": [
    "search_seg_list = jieba.cut_for_search(text)"
   ]
  },
  {
   "cell_type": "code",
   "execution_count": 34,
   "id": "b2618934-faa1-4273-8b5a-47abdac9f56d",
   "metadata": {},
   "outputs": [
    {
     "name": "stdout",
     "output_type": "stream",
     "text": [
      "我, 在, 学习, 自然, 语言, 自然语言, 处理\n"
     ]
    }
   ],
   "source": [
    "print(\", \".join(search_seg_list))"
   ]
  }
 ],
 "metadata": {
  "kernelspec": {
   "display_name": "Python 3 (ipykernel)",
   "language": "python",
   "name": "python3"
  },
  "language_info": {
   "codemirror_mode": {
    "name": "ipython",
    "version": 3
   },
   "file_extension": ".py",
   "mimetype": "text/x-python",
   "name": "python",
   "nbconvert_exporter": "python",
   "pygments_lexer": "ipython3",
   "version": "3.8.10"
  }
 },
 "nbformat": 4,
 "nbformat_minor": 5
}
