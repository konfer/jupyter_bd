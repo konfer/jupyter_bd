{
 "cells": [
  {
   "cell_type": "code",
   "execution_count": 1,
   "id": "f35351fb",
   "metadata": {
    "ExecuteTime": {
     "end_time": "2022-06-16T20:11:06.751657Z",
     "start_time": "2022-06-16T20:11:06.024175Z"
    }
   },
   "outputs": [],
   "source": [
    "import pandas as pd \n",
    "import numpy as np\n",
    "from sklearn.linear_model import LogisticRegression\n",
    "from sklearn.model_selection import train_test_split\n",
    "import lightgbm as lgb \n",
    "from sklearn.preprocessing import MinMaxScaler, OneHotEncoder, LabelEncoder\n",
    "from sklearn.metrics import log_loss\n",
    "import warnings\n",
    "warnings.filterwarnings('ignore')\n",
    "import gc\n",
    "from scipy import sparse"
   ]
  },
  {
   "cell_type": "code",
   "execution_count": 2,
   "id": "84652fc7",
   "metadata": {
    "ExecuteTime": {
     "end_time": "2022-06-16T20:11:06.829813Z",
     "start_time": "2022-06-16T20:11:06.754320Z"
    }
   },
   "outputs": [
    {
     "name": "stdout",
     "output_type": "stream",
     "text": [
      "read data end\n"
     ]
    }
   ],
   "source": [
    "df_train = pd.read_csv(\"/usr/local/codeData/RS-J2/6--train.csv\")\n",
    "df_test = pd.read_csv(\"/usr/local/codeData/RS-J2/6--test.csv\")\n",
    "print('read data end')\n",
    "df_train.drop(['Id'], axis = 1, inplace = True)\n",
    "df_test.drop(['Id'], axis = 1, inplace = True)\n",
    "\n",
    "df_test['Label'] = -1\n",
    "\n",
    "data = pd.concat([df_train, df_test])\n",
    "data = data.fillna(-1)\n",
    "data.to_csv(\"/usr/local/codeData/RS-J2/6--data.csv\", index = False)"
   ]
  },
  {
   "cell_type": "code",
   "execution_count": 3,
   "id": "a7253390",
   "metadata": {
    "ExecuteTime": {
     "end_time": "2022-06-16T20:11:07.663734Z",
     "start_time": "2022-06-16T20:11:06.831926Z"
    }
   },
   "outputs": [
    {
     "name": "stdout",
     "output_type": "stream",
     "text": [
      "continuous_feature ['I1', 'I2', 'I3', 'I4', 'I5', 'I6', 'I7', 'I8', 'I9', 'I10', 'I11', 'I12', 'I13']\n",
      "category_feature ['C1', 'C2', 'C3', 'C4', 'C5', 'C6', 'C7', 'C8', 'C9', 'C10', 'C11', 'C12', 'C13', 'C14', 'C15', 'C16', 'C17', 'C18', 'C19', 'C20', 'C21', 'C22', 'C23', 'C24', 'C25', 'C26']\n",
      "begin one-hot:\n",
      "one-hot end\n"
     ]
    }
   ],
   "source": [
    "continuous_feature = ['I'] * 13\n",
    "continuous_feature = [col + str(i + 1) for i, col in enumerate(continuous_feature)]\n",
    "print('continuous_feature',continuous_feature)\n",
    "category_feature = ['C'] * 26\n",
    "category_feature = [col + str(i + 1) for i, col in enumerate(category_feature)]\n",
    "print('category_feature',category_feature)\n",
    "# discrite one-hot encoding\n",
    "print('begin one-hot:')\n",
    "for col in category_feature:\n",
    "    onehot_feats = pd.get_dummies(data[col], prefix = col)\n",
    "    data.drop([col], axis = 1, inplace = True)\n",
    "    data = pd.concat([data, onehot_feats], axis = 1)\n",
    "print('one-hot end')"
   ]
  },
  {
   "cell_type": "code",
   "execution_count": 4,
   "id": "3b24270b",
   "metadata": {
    "ExecuteTime": {
     "end_time": "2022-06-16T20:11:07.985290Z",
     "start_time": "2022-06-16T20:11:07.666447Z"
    }
   },
   "outputs": [
    {
     "name": "stdout",
     "output_type": "stream",
     "text": [
      "split train and testset:\n"
     ]
    }
   ],
   "source": [
    "train = data[data['Label'] != -1]\n",
    "target = train.pop('Label')\n",
    "test = data[data['Label'] == -1]\n",
    "test.drop(['Label'], axis = 1, inplace = True)\n",
    "\n",
    "print('split train and testset:')\n",
    "x_train, x_val, y_train, y_val = train_test_split(train, target, test_size = 0.2, random_state = 2022)"
   ]
  },
  {
   "cell_type": "code",
   "execution_count": 5,
   "id": "07253750",
   "metadata": {
    "ExecuteTime": {
     "end_time": "2022-06-16T20:11:08.371032Z",
     "start_time": "2022-06-16T20:11:07.987265Z"
    }
   },
   "outputs": [
    {
     "name": "stdout",
     "output_type": "stream",
     "text": [
      "begin train gbdt:\n",
      "[1]\ttrain's binary_logloss: 0.507483\tval's binary_logloss: 0.483406\n",
      "[2]\ttrain's binary_logloss: 0.49782\tval's binary_logloss: 0.481068\n",
      "[3]\ttrain's binary_logloss: 0.487312\tval's binary_logloss: 0.477497\n",
      "[4]\ttrain's binary_logloss: 0.47779\tval's binary_logloss: 0.475343\n",
      "[5]\ttrain's binary_logloss: 0.469364\tval's binary_logloss: 0.473924\n",
      "[6]\ttrain's binary_logloss: 0.460938\tval's binary_logloss: 0.471526\n",
      "[7]\ttrain's binary_logloss: 0.452637\tval's binary_logloss: 0.468564\n",
      "[8]\ttrain's binary_logloss: 0.445008\tval's binary_logloss: 0.466346\n",
      "[9]\ttrain's binary_logloss: 0.437874\tval's binary_logloss: 0.465221\n",
      "[10]\ttrain's binary_logloss: 0.431197\tval's binary_logloss: 0.463057\n"
     ]
    }
   ],
   "source": [
    " print('begin train gbdt:')\n",
    "gbm = lgb.LGBMRegressor(objective='binary',\n",
    "                        subsample= 0.8,\n",
    "                        min_child_weight= 0.5,\n",
    "                        colsample_bytree= 0.7,\n",
    "                        num_leaves=100,\n",
    "                        max_depth = 12,\n",
    "                        learning_rate=0.05,\n",
    "                        n_estimators=10,\n",
    "                        )\n",
    "\n",
    "gbm.fit(x_train, y_train,\n",
    "        eval_set = [(x_train, y_train), (x_val, y_val)],\n",
    "        eval_names = ['train', 'val'],\n",
    "        eval_metric = 'binary_logloss',\n",
    "        # early_stopping_rounds = 100,\n",
    "        )\n",
    "model = gbm.booster_"
   ]
  },
  {
   "cell_type": "code",
   "execution_count": 6,
   "id": "6690c799",
   "metadata": {
    "ExecuteTime": {
     "end_time": "2022-06-16T20:11:08.684593Z",
     "start_time": "2022-06-16T20:11:08.373329Z"
    }
   },
   "outputs": [
    {
     "name": "stdout",
     "output_type": "stream",
     "text": [
      "train to get leaf:\n",
      "df_train_gbdt_feats       gbdt_leaf_0  gbdt_leaf_1  gbdt_leaf_2  gbdt_leaf_3  gbdt_leaf_4  \\\n",
      "0              10           20           25           36            7   \n",
      "1              16           40            7           15           17   \n",
      "2               2           13            6            6           13   \n",
      "3              39            4           36           35           34   \n",
      "4              18           30            5            5           14   \n",
      "...           ...          ...          ...          ...          ...   \n",
      "1594           32           37           37           37           38   \n",
      "1595           17           21           45           19           18   \n",
      "1596           20           32           27           22            8   \n",
      "1597           32           15           17           37           22   \n",
      "1598           32            0           37           37           45   \n",
      "\n",
      "      gbdt_leaf_5  gbdt_leaf_6  gbdt_leaf_7  gbdt_leaf_8  gbdt_leaf_9  \n",
      "0              25            1           12           14            4  \n",
      "1              24           10           25           34           13  \n",
      "2               2           17            2            5            2  \n",
      "3              21            5           23           25           34  \n",
      "4              33            1            6            8           11  \n",
      "...           ...          ...          ...          ...          ...  \n",
      "1594           43            0           35            0            0  \n",
      "1595            7            5           13            4           39  \n",
      "1596           21           17           20           23           24  \n",
      "1597           14           42           17           17           20  \n",
      "1598           42           41           32            0           37  \n",
      "\n",
      "[1599 rows x 10 columns]\n"
     ]
    }
   ],
   "source": [
    "print('train to get leaf:')\n",
    "gbdt_feats_train = model.predict(train, pred_leaf = True)\n",
    "gbdt_feats_test = model.predict(test, pred_leaf = True)\n",
    "gbdt_feats_name = ['gbdt_leaf_' + str(i) for i in range(gbdt_feats_train.shape[1])]\n",
    "df_train_gbdt_feats = pd.DataFrame(gbdt_feats_train, columns = gbdt_feats_name) \n",
    "print('df_train_gbdt_feats',df_train_gbdt_feats)\n",
    "df_test_gbdt_feats = pd.DataFrame(gbdt_feats_test, columns = gbdt_feats_name)"
   ]
  },
  {
   "cell_type": "code",
   "execution_count": 7,
   "id": "41a1cc2f",
   "metadata": {
    "ExecuteTime": {
     "end_time": "2022-06-16T20:11:08.771371Z",
     "start_time": "2022-06-16T20:11:08.686629Z"
    }
   },
   "outputs": [
    {
     "name": "stdout",
     "output_type": "stream",
     "text": [
      "create new dataset:\n"
     ]
    },
    {
     "data": {
      "text/plain": [
       "64"
      ]
     },
     "execution_count": 7,
     "metadata": {},
     "output_type": "execute_result"
    }
   ],
   "source": [
    "print('create new dataset:')\n",
    "train = pd.concat([train, df_train_gbdt_feats], axis = 1)\n",
    "test = pd.concat([test, df_test_gbdt_feats], axis = 1)\n",
    "train_len = train.shape[0]\n",
    "data = pd.concat([train, test])\n",
    "del train\n",
    "del test\n",
    "gc.collect()"
   ]
  },
  {
   "cell_type": "code",
   "execution_count": 8,
   "id": "cd80bc8a",
   "metadata": {
    "ExecuteTime": {
     "end_time": "2022-06-16T20:11:09.345757Z",
     "start_time": "2022-06-16T20:11:08.773430Z"
    }
   },
   "outputs": [
    {
     "name": "stdout",
     "output_type": "stream",
     "text": [
      "begin one-hot:\n",
      "this is feature: gbdt_leaf_0\n",
      "this is feature: gbdt_leaf_1\n",
      "this is feature: gbdt_leaf_2\n",
      "this is feature: gbdt_leaf_3\n",
      "this is feature: gbdt_leaf_4\n",
      "this is feature: gbdt_leaf_5\n",
      "this is feature: gbdt_leaf_6\n",
      "this is feature: gbdt_leaf_7\n",
      "this is feature: gbdt_leaf_8\n",
      "this is feature: gbdt_leaf_9\n",
      "one-hot ending\n"
     ]
    },
    {
     "data": {
      "text/plain": [
       "0"
      ]
     },
     "execution_count": 8,
     "metadata": {},
     "output_type": "execute_result"
    }
   ],
   "source": [
    "# leafs one-hot\n",
    "print('begin one-hot:')\n",
    "for col in gbdt_feats_name:\n",
    "    print('this is feature:', col)\n",
    "    onehot_feats = pd.get_dummies(data[col], prefix = col)\n",
    "    data.drop([col], axis = 1, inplace = True)\n",
    "    data = pd.concat([data, onehot_feats], axis = 1)\n",
    "print('one-hot ending')\n",
    "\n",
    "train = data[: train_len]\n",
    "test = data[train_len:]\n",
    "del data\n",
    "gc.collect()"
   ]
  },
  {
   "cell_type": "code",
   "execution_count": 9,
   "id": "37a07377",
   "metadata": {
    "ExecuteTime": {
     "end_time": "2022-06-16T20:11:11.557202Z",
     "start_time": "2022-06-16T20:11:09.347755Z"
    }
   },
   "outputs": [
    {
     "name": "stdout",
     "output_type": "stream",
     "text": [
      "beging train lr:\n",
      "tr-logloss:  0.5250307266747974\n",
      "val-logloss:  0.5126283534188775\n",
      "begin predict:\n",
      "write log:\n",
      "end\n"
     ]
    }
   ],
   "source": [
    "x_train, x_val, y_train, y_val = train_test_split(train, target, test_size = 0.3, random_state = 2022)\n",
    "    # lr\n",
    "print('beging train lr:')\n",
    "lr = LogisticRegression()\n",
    "lr.fit(x_train, y_train)\n",
    "tr_logloss = log_loss(y_train, lr.predict_proba(x_train)[:, 1])\n",
    "print('tr-logloss: ', tr_logloss)\n",
    "val_logloss = log_loss(y_val, lr.predict_proba(x_val)[:, 1])\n",
    "print('val-logloss: ', val_logloss)\n",
    "print('begin predict:')\n",
    "y_pred = lr.predict_proba(test)[:, 1]\n",
    "print('write log:')\n",
    "res = pd.read_csv(\"/usr/local/codeData/RS-J2/6--test.csv\")\n",
    "log = pd.DataFrame({'Id': res['Id'], 'Label': y_pred})\n",
    "log.to_csv('log/log_gbdt+lr_trlogloss_%s_vallogloss_%s.csv' % (tr_logloss, val_logloss), index = False)\n",
    "print('end')"
   ]
  }
 ],
 "metadata": {
  "hide_input": false,
  "kernelspec": {
   "display_name": "Python 3 (ipykernel)",
   "language": "python",
   "name": "python3"
  },
  "language_info": {
   "codemirror_mode": {
    "name": "ipython",
    "version": 3
   },
   "file_extension": ".py",
   "mimetype": "text/x-python",
   "name": "python",
   "nbconvert_exporter": "python",
   "pygments_lexer": "ipython3",
   "version": "3.8.10"
  },
  "toc": {
   "base_numbering": 1,
   "nav_menu": {},
   "number_sections": true,
   "sideBar": true,
   "skip_h1_title": false,
   "title_cell": "Table of Contents",
   "title_sidebar": "Contents",
   "toc_cell": false,
   "toc_position": {},
   "toc_section_display": true,
   "toc_window_display": false
  }
 },
 "nbformat": 4,
 "nbformat_minor": 5
}
