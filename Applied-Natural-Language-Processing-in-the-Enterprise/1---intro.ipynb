{
 "cells": [
  {
   "cell_type": "code",
   "execution_count": null,
   "id": "495512d8",
   "metadata": {
    "ExecuteTime": {
     "end_time": "2022-09-16T05:12:38.267830Z",
     "start_time": "2022-09-16T05:12:35.498249Z"
    },
    "scrolled": true
   },
   "outputs": [],
   "source": [
    "from transformers import pipeline"
   ]
  },
  {
   "cell_type": "code",
   "execution_count": null,
   "id": "731ea80a",
   "metadata": {
    "ExecuteTime": {
     "end_time": "2022-09-16T05:12:51.830396Z",
     "start_time": "2022-09-16T05:12:38.270651Z"
    },
    "scrolled": true
   },
   "outputs": [],
   "source": [
    "classifier = pipeline('sentiment-analysis')"
   ]
  },
  {
   "cell_type": "code",
   "execution_count": 3,
   "id": "af13537e",
   "metadata": {
    "ExecuteTime": {
     "end_time": "2022-09-16T05:13:05.943531Z",
     "start_time": "2022-09-16T05:12:51.832565Z"
    }
   },
   "outputs": [
    {
     "name": "stderr",
     "output_type": "stream",
     "text": [
      "No model was supplied, defaulted to gpt2 (https://huggingface.co/gpt2)\n"
     ]
    }
   ],
   "source": [
    "text_generator = pipeline(\"text-generation\")"
   ]
  },
  {
   "cell_type": "code",
   "execution_count": 4,
   "id": "a66c6372",
   "metadata": {
    "ExecuteTime": {
     "end_time": "2022-09-16T05:13:18.601562Z",
     "start_time": "2022-09-16T05:13:05.946494Z"
    }
   },
   "outputs": [
    {
     "name": "stderr",
     "output_type": "stream",
     "text": [
      "No model was supplied, defaulted to distilbert-base-cased-distilled-squad (https://huggingface.co/distilbert-base-cased-distilled-squad)\n"
     ]
    }
   ],
   "source": [
    "qa = pipeline(\"question-answering\")"
   ]
  },
  {
   "cell_type": "code",
   "execution_count": 5,
   "id": "6ca75702",
   "metadata": {
    "ExecuteTime": {
     "end_time": "2022-09-16T05:13:18.662530Z",
     "start_time": "2022-09-16T05:13:18.603642Z"
    }
   },
   "outputs": [
    {
     "data": {
      "text/plain": [
       "[{'label': 'POSITIVE', 'score': 0.9996862411499023}]"
      ]
     },
     "execution_count": 5,
     "metadata": {},
     "output_type": "execute_result"
    }
   ],
   "source": [
    "classifier('I am reading the greatest NLP book ever!')"
   ]
  },
  {
   "cell_type": "code",
   "execution_count": 6,
   "id": "e8f6ca7f",
   "metadata": {
    "ExecuteTime": {
     "end_time": "2022-09-16T05:13:18.745980Z",
     "start_time": "2022-09-16T05:13:18.664923Z"
    }
   },
   "outputs": [
    {
     "name": "stderr",
     "output_type": "stream",
     "text": [
      "The attention mask and the pad token id were not set. As a consequence, you may observe unexpected behavior. Please pass your input's `attention_mask` to obtain reliable results.\n",
      "Setting `pad_token_id` to `eos_token_id`:50256 for open-end generation.\n"
     ]
    },
    {
     "data": {
      "text/plain": [
       "[{'generated_text': 'Welcome to the \\xa0'}]"
      ]
     },
     "execution_count": 6,
     "metadata": {},
     "output_type": "execute_result"
    }
   ],
   "source": [
    "text_generator(\"Welcome to the \", max_length=5, do_sample=False)"
   ]
  },
  {
   "cell_type": "code",
   "execution_count": 7,
   "id": "1c511b63",
   "metadata": {
    "ExecuteTime": {
     "end_time": "2022-09-16T05:13:18.751232Z",
     "start_time": "2022-09-16T05:13:18.747857Z"
    }
   },
   "outputs": [],
   "source": [
    "context = \"\"\"\n",
    "Natural language processing (NLP) is a subfield of linguistics,\n",
    "computer science, and artificial intelligence concerned with the\n",
    "interactions between computers and human language, in particular\n",
    "how to program computers to process and analyze large amounts of\n",
    "natural language data. The result is a computer capable of\n",
    "\"understanding\" the contents of documents, including the contextual\n",
    "nuances of the language within them. The technology can then accurately\n",
    "extract information and insights contained in the documents as well\n",
    "as categorize and organize the documents themselves.\n",
    "\"\"\""
   ]
  },
  {
   "cell_type": "code",
   "execution_count": 8,
   "id": "77c13353",
   "metadata": {
    "ExecuteTime": {
     "end_time": "2022-09-16T05:13:18.845877Z",
     "start_time": "2022-09-16T05:13:18.753219Z"
    }
   },
   "outputs": [
    {
     "data": {
      "text/plain": [
       "{'score': 0.9869258999824524,\n",
       " 'start': 1,\n",
       " 'end': 28,\n",
       " 'answer': 'Natural language processing'}"
      ]
     },
     "execution_count": 8,
     "metadata": {},
     "output_type": "execute_result"
    }
   ],
   "source": [
    "qa(question = \"What is NLP?\", context = context)"
   ]
  }
 ],
 "metadata": {
  "hide_input": false,
  "kernelspec": {
   "display_name": "Python 3 (ipykernel)",
   "language": "python",
   "name": "python3"
  },
  "language_info": {
   "codemirror_mode": {
    "name": "ipython",
    "version": 3
   },
   "file_extension": ".py",
   "mimetype": "text/x-python",
   "name": "python",
   "nbconvert_exporter": "python",
   "pygments_lexer": "ipython3",
   "version": "3.8.10"
  },
  "toc": {
   "base_numbering": 1,
   "nav_menu": {},
   "number_sections": true,
   "sideBar": true,
   "skip_h1_title": false,
   "title_cell": "Table of Contents",
   "title_sidebar": "Contents",
   "toc_cell": false,
   "toc_position": {},
   "toc_section_display": true,
   "toc_window_display": false
  }
 },
 "nbformat": 4,
 "nbformat_minor": 5
}
