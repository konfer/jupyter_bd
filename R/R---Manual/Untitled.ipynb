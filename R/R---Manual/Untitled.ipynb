{
 "cells": [
  {
   "cell_type": "code",
   "execution_count": 12,
   "metadata": {},
   "outputs": [],
   "source": [
    "z = array(1:1500)"
   ]
  },
  {
   "cell_type": "code",
   "execution_count": 13,
   "metadata": {},
   "outputs": [],
   "source": [
    "dim(z) <- c(3, 5, 100)"
   ]
  },
  {
   "cell_type": "code",
   "execution_count": 14,
   "metadata": {},
   "outputs": [
    {
     "ename": "ERROR",
     "evalue": "Error in z(2, 5, 99): could not find function \"z\"\n",
     "output_type": "error",
     "traceback": [
      "Error in z(2, 5, 99): could not find function \"z\"\nTraceback:\n"
     ]
    }
   ],
   "source": [
    "z(2, 5, 99)"
   ]
  },
  {
   "cell_type": "code",
   "execution_count": 15,
   "metadata": {
    "scrolled": true
   },
   "outputs": [
    {
     "data": {
      "text/html": [
       "<style>\n",
       ".list-inline {list-style: none; margin:0; padding: 0}\n",
       ".list-inline>li {display: inline-block}\n",
       ".list-inline>li:not(:last-child)::after {content: \"\\00b7\"; padding: 0 .5ex}\n",
       "</style>\n",
       "<ol class=list-inline><li>1472</li><li>1475</li><li>1478</li><li>1481</li><li>1484</li></ol>\n"
      ],
      "text/latex": [
       "\\begin{enumerate*}\n",
       "\\item 1472\n",
       "\\item 1475\n",
       "\\item 1478\n",
       "\\item 1481\n",
       "\\item 1484\n",
       "\\end{enumerate*}\n"
      ],
      "text/markdown": [
       "1. 1472\n",
       "2. 1475\n",
       "3. 1478\n",
       "4. 1481\n",
       "5. 1484\n",
       "\n",
       "\n"
      ],
      "text/plain": [
       "[1] 1472 1475 1478 1481 1484"
      ]
     },
     "metadata": {},
     "output_type": "display_data"
    }
   ],
   "source": [
    "z[2, , 99]"
   ]
  },
  {
   "cell_type": "code",
   "execution_count": 19,
   "metadata": {},
   "outputs": [],
   "source": [
    "die <- c(1:9)"
   ]
  },
  {
   "cell_type": "code",
   "execution_count": 20,
   "metadata": {},
   "outputs": [],
   "source": [
    "m <- matrix(die, nrow = 3)"
   ]
  },
  {
   "cell_type": "code",
   "execution_count": 21,
   "metadata": {},
   "outputs": [
    {
     "data": {
      "text/html": [
       "<table>\n",
       "<caption>A matrix: 3 × 3 of type int</caption>\n",
       "<tbody>\n",
       "\t<tr><td>1</td><td>4</td><td>7</td></tr>\n",
       "\t<tr><td>2</td><td>5</td><td>8</td></tr>\n",
       "\t<tr><td>3</td><td>6</td><td>9</td></tr>\n",
       "</tbody>\n",
       "</table>\n"
      ],
      "text/latex": [
       "A matrix: 3 × 3 of type int\n",
       "\\begin{tabular}{lll}\n",
       "\t 1 & 4 & 7\\\\\n",
       "\t 2 & 5 & 8\\\\\n",
       "\t 3 & 6 & 9\\\\\n",
       "\\end{tabular}\n"
      ],
      "text/markdown": [
       "\n",
       "A matrix: 3 × 3 of type int\n",
       "\n",
       "| 1 | 4 | 7 |\n",
       "| 2 | 5 | 8 |\n",
       "| 3 | 6 | 9 |\n",
       "\n"
      ],
      "text/plain": [
       "     [,1] [,2] [,3]\n",
       "[1,] 1    4    7   \n",
       "[2,] 2    5    8   \n",
       "[3,] 3    6    9   "
      ]
     },
     "metadata": {},
     "output_type": "display_data"
    }
   ],
   "source": [
    "m"
   ]
  },
  {
   "cell_type": "code",
   "execution_count": 22,
   "metadata": {},
   "outputs": [],
   "source": [
    "ev <- eigen(m)"
   ]
  },
  {
   "cell_type": "code",
   "execution_count": 23,
   "metadata": {},
   "outputs": [
    {
     "data": {
      "text/plain": [
       "eigen() decomposition\n",
       "$values\n",
       "[1]  1.611684e+01 -1.116844e+00 -5.700691e-16\n",
       "\n",
       "$vectors\n",
       "           [,1]       [,2]       [,3]\n",
       "[1,] -0.4645473 -0.8829060  0.4082483\n",
       "[2,] -0.5707955 -0.2395204 -0.8164966\n",
       "[3,] -0.6770438  0.4038651  0.4082483\n"
      ]
     },
     "metadata": {},
     "output_type": "display_data"
    }
   ],
   "source": [
    "ev"
   ]
  },
  {
   "cell_type": "code",
   "execution_count": 24,
   "metadata": {},
   "outputs": [
    {
     "data": {
      "text/html": [
       "<dl>\n",
       "\t<dt>$d</dt>\n",
       "\t\t<dd><style>\n",
       ".list-inline {list-style: none; margin:0; padding: 0}\n",
       ".list-inline>li {display: inline-block}\n",
       ".list-inline>li:not(:last-child)::after {content: \"\\00b7\"; padding: 0 .5ex}\n",
       "</style>\n",
       "<ol class=list-inline><li>16.8481033526142</li><li>1.06836951455471</li><li>5.5431071720182e-16</li></ol>\n",
       "</dd>\n",
       "\t<dt>$u</dt>\n",
       "\t\t<dd><table>\n",
       "<caption>A matrix: 3 × 3 of type dbl</caption>\n",
       "<tbody>\n",
       "\t<tr><td>-0.4796712</td><td> 0.77669099</td><td> 0.4082483</td></tr>\n",
       "\t<tr><td>-0.5723678</td><td> 0.07568647</td><td>-0.8164966</td></tr>\n",
       "\t<tr><td>-0.6650644</td><td>-0.62531805</td><td> 0.4082483</td></tr>\n",
       "</tbody>\n",
       "</table>\n",
       "</dd>\n",
       "\t<dt>$v</dt>\n",
       "\t\t<dd><table>\n",
       "<caption>A matrix: 3 × 3 of type dbl</caption>\n",
       "<tbody>\n",
       "\t<tr><td>-0.2148372</td><td>-0.8872307</td><td> 0.4082483</td></tr>\n",
       "\t<tr><td>-0.5205874</td><td>-0.2496440</td><td>-0.8164966</td></tr>\n",
       "\t<tr><td>-0.8263375</td><td> 0.3879428</td><td> 0.4082483</td></tr>\n",
       "</tbody>\n",
       "</table>\n",
       "</dd>\n",
       "</dl>\n"
      ],
      "text/latex": [
       "\\begin{description}\n",
       "\\item[\\$d] \\begin{enumerate*}\n",
       "\\item 16.8481033526142\n",
       "\\item 1.06836951455471\n",
       "\\item 5.5431071720182e-16\n",
       "\\end{enumerate*}\n",
       "\n",
       "\\item[\\$u] A matrix: 3 × 3 of type dbl\n",
       "\\begin{tabular}{lll}\n",
       "\t -0.4796712 &  0.77669099 &  0.4082483\\\\\n",
       "\t -0.5723678 &  0.07568647 & -0.8164966\\\\\n",
       "\t -0.6650644 & -0.62531805 &  0.4082483\\\\\n",
       "\\end{tabular}\n",
       "\n",
       "\\item[\\$v] A matrix: 3 × 3 of type dbl\n",
       "\\begin{tabular}{lll}\n",
       "\t -0.2148372 & -0.8872307 &  0.4082483\\\\\n",
       "\t -0.5205874 & -0.2496440 & -0.8164966\\\\\n",
       "\t -0.8263375 &  0.3879428 &  0.4082483\\\\\n",
       "\\end{tabular}\n",
       "\n",
       "\\end{description}\n"
      ],
      "text/markdown": [
       "$d\n",
       ":   1. 16.8481033526142\n",
       "2. 1.06836951455471\n",
       "3. 5.5431071720182e-16\n",
       "\n",
       "\n",
       "\n",
       "$u\n",
       ":   \n",
       "A matrix: 3 × 3 of type dbl\n",
       "\n",
       "| -0.4796712 |  0.77669099 |  0.4082483 |\n",
       "| -0.5723678 |  0.07568647 | -0.8164966 |\n",
       "| -0.6650644 | -0.62531805 |  0.4082483 |\n",
       "\n",
       "\n",
       "$v\n",
       ":   \n",
       "A matrix: 3 × 3 of type dbl\n",
       "\n",
       "| -0.2148372 | -0.8872307 |  0.4082483 |\n",
       "| -0.5205874 | -0.2496440 | -0.8164966 |\n",
       "| -0.8263375 |  0.3879428 |  0.4082483 |\n",
       "\n",
       "\n",
       "\n",
       "\n"
      ],
      "text/plain": [
       "$d\n",
       "[1] 1.684810e+01 1.068370e+00 5.543107e-16\n",
       "\n",
       "$u\n",
       "           [,1]        [,2]       [,3]\n",
       "[1,] -0.4796712  0.77669099  0.4082483\n",
       "[2,] -0.5723678  0.07568647 -0.8164966\n",
       "[3,] -0.6650644 -0.62531805  0.4082483\n",
       "\n",
       "$v\n",
       "           [,1]       [,2]       [,3]\n",
       "[1,] -0.2148372 -0.8872307  0.4082483\n",
       "[2,] -0.5205874 -0.2496440 -0.8164966\n",
       "[3,] -0.8263375  0.3879428  0.4082483\n"
      ]
     },
     "metadata": {},
     "output_type": "display_data"
    }
   ],
   "source": [
    "svd(m)"
   ]
  },
  {
   "cell_type": "code",
   "execution_count": 25,
   "metadata": {},
   "outputs": [
    {
     "data": {
      "text/html": [
       "9.97759290963276e-15"
      ],
      "text/latex": [
       "9.97759290963276e-15"
      ],
      "text/markdown": [
       "9.97759290963276e-15"
      ],
      "text/plain": [
       "[1] 9.977593e-15"
      ]
     },
     "metadata": {},
     "output_type": "display_data"
    }
   ],
   "source": [
    "prod(svd(m)$d)"
   ]
  },
  {
   "cell_type": "code",
   "execution_count": null,
   "metadata": {},
   "outputs": [],
   "source": []
  }
 ],
 "metadata": {
  "kernelspec": {
   "display_name": "R",
   "language": "R",
   "name": "ir"
  },
  "language_info": {
   "codemirror_mode": "r",
   "file_extension": ".r",
   "mimetype": "text/x-r-source",
   "name": "R",
   "pygments_lexer": "r",
   "version": "4.0.2"
  }
 },
 "nbformat": 4,
 "nbformat_minor": 4
}
