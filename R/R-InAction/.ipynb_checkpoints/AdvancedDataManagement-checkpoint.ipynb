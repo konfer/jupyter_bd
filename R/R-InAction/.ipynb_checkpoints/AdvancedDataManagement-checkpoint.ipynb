{
 "cells": [
  {
   "cell_type": "code",
   "execution_count": 2,
   "metadata": {},
   "outputs": [],
   "source": [
    "x <- c(1,2,3,4,5,6,7,8)"
   ]
  },
  {
   "cell_type": "code",
   "execution_count": 3,
   "metadata": {},
   "outputs": [
    {
     "data": {
      "text/html": [
       "4.5"
      ],
      "text/latex": [
       "4.5"
      ],
      "text/markdown": [
       "4.5"
      ],
      "text/plain": [
       "[1] 4.5"
      ]
     },
     "metadata": {},
     "output_type": "display_data"
    }
   ],
   "source": [
    "mean(x)"
   ]
  },
  {
   "cell_type": "markdown",
   "metadata": {},
   "source": [
    "### standard deviation"
   ]
  },
  {
   "cell_type": "code",
   "execution_count": 4,
   "metadata": {},
   "outputs": [
    {
     "data": {
      "text/html": [
       "2.44948974278318"
      ],
      "text/latex": [
       "2.44948974278318"
      ],
      "text/markdown": [
       "2.44948974278318"
      ],
      "text/plain": [
       "[1] 2.44949"
      ]
     },
     "metadata": {},
     "output_type": "display_data"
    }
   ],
   "source": [
    "sd(x)"
   ]
  },
  {
   "cell_type": "markdown",
   "metadata": {},
   "source": [
    "### standardisation"
   ]
  },
  {
   "cell_type": "code",
   "execution_count": 5,
   "metadata": {},
   "outputs": [],
   "source": [
    "newData <- scale(x)"
   ]
  },
  {
   "cell_type": "code",
   "execution_count": 6,
   "metadata": {},
   "outputs": [
    {
     "data": {
      "text/html": [
       "<table>\n",
       "<tbody>\n",
       "\t<tr><td>-1.4288690</td></tr>\n",
       "\t<tr><td>-1.0206207</td></tr>\n",
       "\t<tr><td>-0.6123724</td></tr>\n",
       "\t<tr><td>-0.2041241</td></tr>\n",
       "\t<tr><td> 0.2041241</td></tr>\n",
       "\t<tr><td> 0.6123724</td></tr>\n",
       "\t<tr><td> 1.0206207</td></tr>\n",
       "\t<tr><td> 1.4288690</td></tr>\n",
       "</tbody>\n",
       "</table>\n"
      ],
      "text/latex": [
       "\\begin{tabular}{l}\n",
       "\t -1.4288690\\\\\n",
       "\t -1.0206207\\\\\n",
       "\t -0.6123724\\\\\n",
       "\t -0.2041241\\\\\n",
       "\t  0.2041241\\\\\n",
       "\t  0.6123724\\\\\n",
       "\t  1.0206207\\\\\n",
       "\t  1.4288690\\\\\n",
       "\\end{tabular}\n"
      ],
      "text/markdown": [
       "\n",
       "| -1.4288690 | \n",
       "| -1.0206207 | \n",
       "| -0.6123724 | \n",
       "| -0.2041241 | \n",
       "|  0.2041241 | \n",
       "|  0.6123724 | \n",
       "|  1.0206207 | \n",
       "|  1.4288690 | \n",
       "\n",
       "\n"
      ],
      "text/plain": [
       "     [,1]      \n",
       "[1,] -1.4288690\n",
       "[2,] -1.0206207\n",
       "[3,] -0.6123724\n",
       "[4,] -0.2041241\n",
       "[5,]  0.2041241\n",
       "[6,]  0.6123724\n",
       "[7,]  1.0206207\n",
       "[8,]  1.4288690"
      ]
     },
     "metadata": {},
     "output_type": "display_data"
    }
   ],
   "source": [
    "newData"
   ]
  },
  {
   "cell_type": "code",
   "execution_count": 7,
   "metadata": {},
   "outputs": [],
   "source": [
    "x <- pretty(c(-3,3),30)"
   ]
  },
  {
   "cell_type": "code",
   "execution_count": 8,
   "metadata": {},
   "outputs": [],
   "source": [
    "y <- dnorm(x)"
   ]
  },
  {
   "cell_type": "code",
   "execution_count": 9,
   "metadata": {},
   "outputs": [
    {
     "data": {
      "image/png": "[encoded data removed]",
      "text/plain": [
       "plot without title"
      ]
     },
     "metadata": {},
     "output_type": "display_data"
    }
   ],
   "source": [
    "plot(x,y,type=\"l\",xlab=\"Normal Deviate\",ylab=\"Density\",yaxs=\"i\")"
   ]
  },
  {
   "cell_type": "code",
   "execution_count": 10,
   "metadata": {},
   "outputs": [
    {
     "data": {
      "text/html": [
       "0.97500210485178"
      ],
      "text/latex": [
       "0.97500210485178"
      ],
      "text/markdown": [
       "0.97500210485178"
      ],
      "text/plain": [
       "[1] 0.9750021"
      ]
     },
     "metadata": {},
     "output_type": "display_data"
    }
   ],
   "source": [
    "pnorm(1.96)"
   ]
  },
  {
   "cell_type": "code",
   "execution_count": 11,
   "metadata": {},
   "outputs": [
    {
     "data": {
      "text/html": [
       "<table>\n",
       "<thead><tr><th scope=col>Package</th><th scope=col>LibPath</th><th scope=col>Version</th><th scope=col>Priority</th><th scope=col>Depends</th><th scope=col>Imports</th><th scope=col>LinkingTo</th><th scope=col>Suggests</th><th scope=col>Enhances</th><th scope=col>License</th><th scope=col>License_is_FOSS</th><th scope=col>License_restricts_use</th><th scope=col>OS_type</th><th scope=col>Archs</th><th scope=col>MD5sum</th><th scope=col>NeedsCompilation</th><th scope=col>Built</th></tr></thead>\n",
       "<tbody>\n",
       "</tbody>\n",
       "</table>\n"
      ],
      "text/latex": [
       "\\begin{tabular}{lllllllllllllllll}\n",
       " Package & LibPath & Version & Priority & Depends & Imports & LinkingTo & Suggests & Enhances & License & License\\_is\\_FOSS & License\\_restricts\\_use & OS\\_type & Archs & MD5sum & NeedsCompilation & Built\\\\\n",
       "\\hline\n",
       "\\end{tabular}\n"
      ],
      "text/markdown": [
       "\n",
       "Package | LibPath | Version | Priority | Depends | Imports | LinkingTo | Suggests | Enhances | License | License_is_FOSS | License_restricts_use | OS_type | Archs | MD5sum | NeedsCompilation | Built | \n",
       "||\n",
       "\n",
       "\n"
      ],
      "text/plain": [
       "     Package LibPath Version Priority Depends Imports LinkingTo Suggests\n",
       "     Enhances License License_is_FOSS License_restricts_use OS_type Archs\n",
       "     MD5sum NeedsCompilation Built"
      ]
     },
     "metadata": {},
     "output_type": "display_data"
    }
   ],
   "source": [
    "installed.packages(\"MASS\")"
   ]
  },
  {
   "cell_type": "code",
   "execution_count": 12,
   "metadata": {},
   "outputs": [],
   "source": [
    "library(MASS)"
   ]
  },
  {
   "cell_type": "code",
   "execution_count": 13,
   "metadata": {},
   "outputs": [],
   "source": [
    "options(digits=3)"
   ]
  },
  {
   "cell_type": "code",
   "execution_count": 14,
   "metadata": {},
   "outputs": [],
   "source": [
    "set.seed(1234)"
   ]
  },
  {
   "cell_type": "code",
   "execution_count": 15,
   "metadata": {},
   "outputs": [],
   "source": [
    "mean <- c(230.7,146.7,3.6)"
   ]
  },
  {
   "cell_type": "code",
   "execution_count": 16,
   "metadata": {},
   "outputs": [
    {
     "data": {
      "text/html": [
       "<ol class=list-inline>\n",
       "\t<li>230.7</li>\n",
       "\t<li>146.7</li>\n",
       "\t<li>3.6</li>\n",
       "</ol>\n"
      ],
      "text/latex": [
       "\\begin{enumerate*}\n",
       "\\item 230.7\n",
       "\\item 146.7\n",
       "\\item 3.6\n",
       "\\end{enumerate*}\n"
      ],
      "text/markdown": [
       "1. 230.7\n",
       "2. 146.7\n",
       "3. 3.6\n",
       "\n",
       "\n"
      ],
      "text/plain": [
       "[1] 230.7 146.7   3.6"
      ]
     },
     "metadata": {},
     "output_type": "display_data"
    }
   ],
   "source": [
    "mean"
   ]
  },
  {
   "cell_type": "code",
   "execution_count": 17,
   "metadata": {},
   "outputs": [],
   "source": [
    "sigma <- matrix(c(15360.8, 6721.2, -47.1,                      \n",
    "                 6721.2, 4700.9, -16.5,                      \n",
    "                 -47.1,   -16.5,   0.3), nrow=3, ncol=3)"
   ]
  },
  {
   "cell_type": "code",
   "execution_count": 18,
   "metadata": {},
   "outputs": [
    {
     "data": {
      "text/html": [
       "<table>\n",
       "<tbody>\n",
       "\t<tr><td>15360.8</td><td>6721.2 </td><td>-47.1  </td></tr>\n",
       "\t<tr><td> 6721.2</td><td>4700.9 </td><td>-16.5  </td></tr>\n",
       "\t<tr><td>  -47.1</td><td> -16.5 </td><td>  0.3  </td></tr>\n",
       "</tbody>\n",
       "</table>\n"
      ],
      "text/latex": [
       "\\begin{tabular}{lll}\n",
       "\t 15360.8 & 6721.2  & -47.1  \\\\\n",
       "\t  6721.2 & 4700.9  & -16.5  \\\\\n",
       "\t   -47.1 &  -16.5  &   0.3  \\\\\n",
       "\\end{tabular}\n"
      ],
      "text/markdown": [
       "\n",
       "| 15360.8 | 6721.2  | -47.1   | \n",
       "|  6721.2 | 4700.9  | -16.5   | \n",
       "|   -47.1 |  -16.5  |   0.3   | \n",
       "\n",
       "\n"
      ],
      "text/plain": [
       "     [,1]    [,2]   [,3] \n",
       "[1,] 15360.8 6721.2 -47.1\n",
       "[2,]  6721.2 4700.9 -16.5\n",
       "[3,]   -47.1  -16.5   0.3"
      ]
     },
     "metadata": {},
     "output_type": "display_data"
    }
   ],
   "source": [
    "sigma"
   ]
  },
  {
   "cell_type": "code",
   "execution_count": 19,
   "metadata": {},
   "outputs": [],
   "source": [
    "myData <- mvrnorm(500,mean,sigma)"
   ]
  },
  {
   "cell_type": "code",
   "execution_count": 20,
   "metadata": {},
   "outputs": [],
   "source": [
    "mydata <- as.data.frame(myData)"
   ]
  },
  {
   "cell_type": "code",
   "execution_count": 21,
   "metadata": {},
   "outputs": [],
   "source": [
    "names(mydata) <- c(\"y\",\"x1\",\"x2\")"
   ]
  },
  {
   "cell_type": "code",
   "execution_count": 22,
   "metadata": {},
   "outputs": [
    {
     "data": {
      "text/html": [
       "<ol class=list-inline>\n",
       "\t<li>0.963599362876266</li>\n",
       "\t<li>0.206762383226305</li>\n",
       "\t<li>0.086197440745309</li>\n",
       "\t<li>0.216028020251542</li>\n",
       "\t<li>0.239646551199257</li>\n",
       "\t<li>0.197160936193541</li>\n",
       "\t<li>0.289008239516988</li>\n",
       "\t<li>0.804114406695589</li>\n",
       "\t<li>0.378249637782574</li>\n",
       "\t<li>0.912817219272256</li>\n",
       "\t<li>0.353391784243286</li>\n",
       "\t<li>0.931487116962671</li>\n",
       "</ol>\n"
      ],
      "text/latex": [
       "\\begin{enumerate*}\n",
       "\\item 0.963599362876266\n",
       "\\item 0.206762383226305\n",
       "\\item 0.086197440745309\n",
       "\\item 0.216028020251542\n",
       "\\item 0.239646551199257\n",
       "\\item 0.197160936193541\n",
       "\\item 0.289008239516988\n",
       "\\item 0.804114406695589\n",
       "\\item 0.378249637782574\n",
       "\\item 0.912817219272256\n",
       "\\item 0.353391784243286\n",
       "\\item 0.931487116962671\n",
       "\\end{enumerate*}\n"
      ],
      "text/markdown": [
       "1. 0.963599362876266\n",
       "2. 0.206762383226305\n",
       "3. 0.086197440745309\n",
       "4. 0.216028020251542\n",
       "5. 0.239646551199257\n",
       "6. 0.197160936193541\n",
       "7. 0.289008239516988\n",
       "8. 0.804114406695589\n",
       "9. 0.378249637782574\n",
       "10. 0.912817219272256\n",
       "11. 0.353391784243286\n",
       "12. 0.931487116962671\n",
       "\n",
       "\n"
      ],
      "text/plain": [
       " [1] 0.9636 0.2068 0.0862 0.2160 0.2396 0.1972 0.2890 0.8041 0.3782 0.9128\n",
       "[11] 0.3534 0.9315"
      ]
     },
     "metadata": {},
     "output_type": "display_data"
    }
   ],
   "source": [
    "runif(12)"
   ]
  },
  {
   "cell_type": "code",
   "execution_count": 23,
   "metadata": {},
   "outputs": [],
   "source": [
    "a <- 5"
   ]
  },
  {
   "cell_type": "code",
   "execution_count": 24,
   "metadata": {},
   "outputs": [
    {
     "data": {
      "text/html": [
       "2.23606797749979"
      ],
      "text/latex": [
       "2.23606797749979"
      ],
      "text/markdown": [
       "2.23606797749979"
      ],
      "text/plain": [
       "[1] 2.24"
      ]
     },
     "metadata": {},
     "output_type": "display_data"
    }
   ],
   "source": [
    "sqrt(a)"
   ]
  },
  {
   "cell_type": "code",
   "execution_count": 25,
   "metadata": {},
   "outputs": [],
   "source": [
    "b <- c(1.243,5.543,2.99)"
   ]
  },
  {
   "cell_type": "code",
   "execution_count": 26,
   "metadata": {},
   "outputs": [
    {
     "data": {
      "text/html": [
       "<ol class=list-inline>\n",
       "\t<li>1</li>\n",
       "\t<li>6</li>\n",
       "\t<li>3</li>\n",
       "</ol>\n"
      ],
      "text/latex": [
       "\\begin{enumerate*}\n",
       "\\item 1\n",
       "\\item 6\n",
       "\\item 3\n",
       "\\end{enumerate*}\n"
      ],
      "text/markdown": [
       "1. 1\n",
       "2. 6\n",
       "3. 3\n",
       "\n",
       "\n"
      ],
      "text/plain": [
       "[1] 1 6 3"
      ]
     },
     "metadata": {},
     "output_type": "display_data"
    }
   ],
   "source": [
    "round(b)"
   ]
  },
  {
   "cell_type": "code",
   "execution_count": 27,
   "metadata": {},
   "outputs": [],
   "source": [
    "c <- matrix(runif(12),nrow=3)"
   ]
  },
  {
   "cell_type": "code",
   "execution_count": 28,
   "metadata": {},
   "outputs": [
    {
     "data": {
      "text/html": [
       "<table>\n",
       "<tbody>\n",
       "\t<tr><td>0.677</td><td>0.357</td><td>0.289</td><td>0.881</td></tr>\n",
       "\t<tr><td>0.350</td><td>0.299</td><td>0.287</td><td>0.273</td></tr>\n",
       "\t<tr><td>0.104</td><td>0.932</td><td>0.354</td><td>0.920</td></tr>\n",
       "</tbody>\n",
       "</table>\n"
      ],
      "text/latex": [
       "\\begin{tabular}{llll}\n",
       "\t 0.677 & 0.357 & 0.289 & 0.881\\\\\n",
       "\t 0.350 & 0.299 & 0.287 & 0.273\\\\\n",
       "\t 0.104 & 0.932 & 0.354 & 0.920\\\\\n",
       "\\end{tabular}\n"
      ],
      "text/markdown": [
       "\n",
       "| 0.677 | 0.357 | 0.289 | 0.881 | \n",
       "| 0.350 | 0.299 | 0.287 | 0.273 | \n",
       "| 0.104 | 0.932 | 0.354 | 0.920 | \n",
       "\n",
       "\n"
      ],
      "text/plain": [
       "     [,1]  [,2]  [,3]  [,4] \n",
       "[1,] 0.677 0.357 0.289 0.881\n",
       "[2,] 0.350 0.299 0.287 0.273\n",
       "[3,] 0.104 0.932 0.354 0.920"
      ]
     },
     "metadata": {},
     "output_type": "display_data"
    }
   ],
   "source": [
    "c"
   ]
  },
  {
   "cell_type": "code",
   "execution_count": 29,
   "metadata": {
    "scrolled": true
   },
   "outputs": [
    {
     "data": {
      "text/html": [
       "<table>\n",
       "<tbody>\n",
       "\t<tr><td>-0.391 </td><td>-1.0296</td><td>-1.24  </td><td>-0.1263</td></tr>\n",
       "\t<tr><td>-1.049 </td><td>-1.2075</td><td>-1.25  </td><td>-1.2991</td></tr>\n",
       "\t<tr><td>-2.267 </td><td>-0.0706</td><td>-1.04  </td><td>-0.0838</td></tr>\n",
       "</tbody>\n",
       "</table>\n"
      ],
      "text/latex": [
       "\\begin{tabular}{llll}\n",
       "\t -0.391  & -1.0296 & -1.24   & -0.1263\\\\\n",
       "\t -1.049  & -1.2075 & -1.25   & -1.2991\\\\\n",
       "\t -2.267  & -0.0706 & -1.04   & -0.0838\\\\\n",
       "\\end{tabular}\n"
      ],
      "text/markdown": [
       "\n",
       "| -0.391  | -1.0296 | -1.24   | -0.1263 | \n",
       "| -1.049  | -1.2075 | -1.25   | -1.2991 | \n",
       "| -2.267  | -0.0706 | -1.04   | -0.0838 | \n",
       "\n",
       "\n"
      ],
      "text/plain": [
       "     [,1]   [,2]    [,3]  [,4]   \n",
       "[1,] -0.391 -1.0296 -1.24 -0.1263\n",
       "[2,] -1.049 -1.2075 -1.25 -1.2991\n",
       "[3,] -2.267 -0.0706 -1.04 -0.0838"
      ]
     },
     "metadata": {},
     "output_type": "display_data"
    }
   ],
   "source": [
    "log(c)"
   ]
  },
  {
   "cell_type": "code",
   "execution_count": 30,
   "metadata": {},
   "outputs": [
    {
     "data": {
      "text/html": [
       "0.476828527927864"
      ],
      "text/latex": [
       "0.476828527927864"
      ],
      "text/markdown": [
       "0.476828527927864"
      ],
      "text/plain": [
       "[1] 0.477"
      ]
     },
     "metadata": {},
     "output_type": "display_data"
    }
   ],
   "source": [
    "mean(c)"
   ]
  },
  {
   "cell_type": "code",
   "execution_count": 31,
   "metadata": {},
   "outputs": [],
   "source": [
    "options(digits=2)      \n",
    "Student <- c(\"John Davis\", \"Angela Williams\", \"Bullwinkle Moose\",\n",
    "             \"David Jones\", \"Janice Markhammer\", \"Cheryl Cushing\",\n",
    "             \"Reuven Ytzrhak\", \"Greg Knox\", \"Joel England\",\n",
    "             \"Mary Rayburn\")     \n",
    "Math <- c(502, 600, 412, 358, 495, 512, 410, 625, 573, 522)     \n",
    "Science <- c(95, 99, 80, 82, 75, 85, 80, 95, 89, 86)     \n",
    "English <- c(25, 22, 18, 15, 20, 28, 15, 30, 27, 18)     \n",
    "roster <- data.frame(Student, Math, Science, English,                            \n",
    "                     stringsAsFactors=FALSE)"
   ]
  },
  {
   "cell_type": "code",
   "execution_count": 32,
   "metadata": {},
   "outputs": [
    {
     "data": {
      "text/html": [
       "<ol class=list-inline>\n",
       "\t<li>'John Davis'</li>\n",
       "\t<li>'Angela Williams'</li>\n",
       "\t<li>'Bullwinkle Moose'</li>\n",
       "\t<li>'David Jones'</li>\n",
       "\t<li>'Janice Markhammer'</li>\n",
       "\t<li>'Cheryl Cushing'</li>\n",
       "\t<li>'Reuven Ytzrhak'</li>\n",
       "\t<li>'Greg Knox'</li>\n",
       "\t<li>'Joel England'</li>\n",
       "\t<li>'Mary Rayburn'</li>\n",
       "</ol>\n"
      ],
      "text/latex": [
       "\\begin{enumerate*}\n",
       "\\item 'John Davis'\n",
       "\\item 'Angela Williams'\n",
       "\\item 'Bullwinkle Moose'\n",
       "\\item 'David Jones'\n",
       "\\item 'Janice Markhammer'\n",
       "\\item 'Cheryl Cushing'\n",
       "\\item 'Reuven Ytzrhak'\n",
       "\\item 'Greg Knox'\n",
       "\\item 'Joel England'\n",
       "\\item 'Mary Rayburn'\n",
       "\\end{enumerate*}\n"
      ],
      "text/markdown": [
       "1. 'John Davis'\n",
       "2. 'Angela Williams'\n",
       "3. 'Bullwinkle Moose'\n",
       "4. 'David Jones'\n",
       "5. 'Janice Markhammer'\n",
       "6. 'Cheryl Cushing'\n",
       "7. 'Reuven Ytzrhak'\n",
       "8. 'Greg Knox'\n",
       "9. 'Joel England'\n",
       "10. 'Mary Rayburn'\n",
       "\n",
       "\n"
      ],
      "text/plain": [
       " [1] \"John Davis\"        \"Angela Williams\"   \"Bullwinkle Moose\" \n",
       " [4] \"David Jones\"       \"Janice Markhammer\" \"Cheryl Cushing\"   \n",
       " [7] \"Reuven Ytzrhak\"    \"Greg Knox\"         \"Joel England\"     \n",
       "[10] \"Mary Rayburn\"     "
      ]
     },
     "metadata": {},
     "output_type": "display_data"
    }
   ],
   "source": [
    "Student"
   ]
  },
  {
   "cell_type": "code",
   "execution_count": 33,
   "metadata": {
    "scrolled": true
   },
   "outputs": [
    {
     "data": {
      "text/html": [
       "<table>\n",
       "<thead><tr><th scope=col>Student</th><th scope=col>Math</th><th scope=col>Science</th><th scope=col>English</th></tr></thead>\n",
       "<tbody>\n",
       "\t<tr><td>John Davis       </td><td>502              </td><td>95               </td><td>25               </td></tr>\n",
       "\t<tr><td>Angela Williams  </td><td>600              </td><td>99               </td><td>22               </td></tr>\n",
       "\t<tr><td>Bullwinkle Moose </td><td>412              </td><td>80               </td><td>18               </td></tr>\n",
       "\t<tr><td>David Jones      </td><td>358              </td><td>82               </td><td>15               </td></tr>\n",
       "\t<tr><td>Janice Markhammer</td><td>495              </td><td>75               </td><td>20               </td></tr>\n",
       "\t<tr><td>Cheryl Cushing   </td><td>512              </td><td>85               </td><td>28               </td></tr>\n",
       "\t<tr><td>Reuven Ytzrhak   </td><td>410              </td><td>80               </td><td>15               </td></tr>\n",
       "\t<tr><td>Greg Knox        </td><td>625              </td><td>95               </td><td>30               </td></tr>\n",
       "\t<tr><td>Joel England     </td><td>573              </td><td>89               </td><td>27               </td></tr>\n",
       "\t<tr><td>Mary Rayburn     </td><td>522              </td><td>86               </td><td>18               </td></tr>\n",
       "</tbody>\n",
       "</table>\n"
      ],
      "text/latex": [
       "\\begin{tabular}{r|llll}\n",
       " Student & Math & Science & English\\\\\n",
       "\\hline\n",
       "\t John Davis        & 502               & 95                & 25               \\\\\n",
       "\t Angela Williams   & 600               & 99                & 22               \\\\\n",
       "\t Bullwinkle Moose  & 412               & 80                & 18               \\\\\n",
       "\t David Jones       & 358               & 82                & 15               \\\\\n",
       "\t Janice Markhammer & 495               & 75                & 20               \\\\\n",
       "\t Cheryl Cushing    & 512               & 85                & 28               \\\\\n",
       "\t Reuven Ytzrhak    & 410               & 80                & 15               \\\\\n",
       "\t Greg Knox         & 625               & 95                & 30               \\\\\n",
       "\t Joel England      & 573               & 89                & 27               \\\\\n",
       "\t Mary Rayburn      & 522               & 86                & 18               \\\\\n",
       "\\end{tabular}\n"
      ],
      "text/markdown": [
       "\n",
       "Student | Math | Science | English | \n",
       "|---|---|---|---|---|---|---|---|---|---|\n",
       "| John Davis        | 502               | 95                | 25                | \n",
       "| Angela Williams   | 600               | 99                | 22                | \n",
       "| Bullwinkle Moose  | 412               | 80                | 18                | \n",
       "| David Jones       | 358               | 82                | 15                | \n",
       "| Janice Markhammer | 495               | 75                | 20                | \n",
       "| Cheryl Cushing    | 512               | 85                | 28                | \n",
       "| Reuven Ytzrhak    | 410               | 80                | 15                | \n",
       "| Greg Knox         | 625               | 95                | 30                | \n",
       "| Joel England      | 573               | 89                | 27                | \n",
       "| Mary Rayburn      | 522               | 86                | 18                | \n",
       "\n",
       "\n"
      ],
      "text/plain": [
       "   Student           Math Science English\n",
       "1  John Davis        502  95      25     \n",
       "2  Angela Williams   600  99      22     \n",
       "3  Bullwinkle Moose  412  80      18     \n",
       "4  David Jones       358  82      15     \n",
       "5  Janice Markhammer 495  75      20     \n",
       "6  Cheryl Cushing    512  85      28     \n",
       "7  Reuven Ytzrhak    410  80      15     \n",
       "8  Greg Knox         625  95      30     \n",
       "9  Joel England      573  89      27     \n",
       "10 Mary Rayburn      522  86      18     "
      ]
     },
     "metadata": {},
     "output_type": "display_data"
    }
   ],
   "source": [
    "roster"
   ]
  },
  {
   "cell_type": "code",
   "execution_count": 34,
   "metadata": {},
   "outputs": [],
   "source": [
    "z <- scale(roster[,2:4])"
   ]
  },
  {
   "cell_type": "code",
   "execution_count": 35,
   "metadata": {},
   "outputs": [
    {
     "data": {
      "text/html": [
       "<table>\n",
       "<thead><tr><th scope=col>Math</th><th scope=col>Science</th><th scope=col>English</th></tr></thead>\n",
       "<tbody>\n",
       "\t<tr><td> 0.013</td><td> 1.078</td><td> 0.587</td></tr>\n",
       "\t<tr><td> 1.143</td><td> 1.591</td><td> 0.037</td></tr>\n",
       "\t<tr><td>-1.026</td><td>-0.847</td><td>-0.697</td></tr>\n",
       "\t<tr><td>-1.649</td><td>-0.590</td><td>-1.247</td></tr>\n",
       "\t<tr><td>-0.068</td><td>-1.489</td><td>-0.330</td></tr>\n",
       "\t<tr><td> 0.128</td><td>-0.205</td><td> 1.137</td></tr>\n",
       "\t<tr><td>-1.049</td><td>-0.847</td><td>-1.247</td></tr>\n",
       "\t<tr><td> 1.432</td><td> 1.078</td><td> 1.504</td></tr>\n",
       "\t<tr><td> 0.832</td><td> 0.308</td><td> 0.954</td></tr>\n",
       "\t<tr><td> 0.243</td><td>-0.077</td><td>-0.697</td></tr>\n",
       "</tbody>\n",
       "</table>\n"
      ],
      "text/latex": [
       "\\begin{tabular}{lll}\n",
       " Math & Science & English\\\\\n",
       "\\hline\n",
       "\t  0.013 &  1.078 &  0.587\\\\\n",
       "\t  1.143 &  1.591 &  0.037\\\\\n",
       "\t -1.026 & -0.847 & -0.697\\\\\n",
       "\t -1.649 & -0.590 & -1.247\\\\\n",
       "\t -0.068 & -1.489 & -0.330\\\\\n",
       "\t  0.128 & -0.205 &  1.137\\\\\n",
       "\t -1.049 & -0.847 & -1.247\\\\\n",
       "\t  1.432 &  1.078 &  1.504\\\\\n",
       "\t  0.832 &  0.308 &  0.954\\\\\n",
       "\t  0.243 & -0.077 & -0.697\\\\\n",
       "\\end{tabular}\n"
      ],
      "text/markdown": [
       "\n",
       "Math | Science | English | \n",
       "|---|---|---|---|---|---|---|---|---|---|\n",
       "|  0.013 |  1.078 |  0.587 | \n",
       "|  1.143 |  1.591 |  0.037 | \n",
       "| -1.026 | -0.847 | -0.697 | \n",
       "| -1.649 | -0.590 | -1.247 | \n",
       "| -0.068 | -1.489 | -0.330 | \n",
       "|  0.128 | -0.205 |  1.137 | \n",
       "| -1.049 | -0.847 | -1.247 | \n",
       "|  1.432 |  1.078 |  1.504 | \n",
       "|  0.832 |  0.308 |  0.954 | \n",
       "|  0.243 | -0.077 | -0.697 | \n",
       "\n",
       "\n"
      ],
      "text/plain": [
       "      Math   Science English\n",
       " [1,]  0.013  1.078   0.587 \n",
       " [2,]  1.143  1.591   0.037 \n",
       " [3,] -1.026 -0.847  -0.697 \n",
       " [4,] -1.649 -0.590  -1.247 \n",
       " [5,] -0.068 -1.489  -0.330 \n",
       " [6,]  0.128 -0.205   1.137 \n",
       " [7,] -1.049 -0.847  -1.247 \n",
       " [8,]  1.432  1.078   1.504 \n",
       " [9,]  0.832  0.308   0.954 \n",
       "[10,]  0.243 -0.077  -0.697 "
      ]
     },
     "metadata": {},
     "output_type": "display_data"
    }
   ],
   "source": [
    "z"
   ]
  },
  {
   "cell_type": "code",
   "execution_count": 36,
   "metadata": {},
   "outputs": [],
   "source": [
    "score <- apply(z,1,mean)"
   ]
  },
  {
   "cell_type": "code",
   "execution_count": 37,
   "metadata": {},
   "outputs": [
    {
     "data": {
      "text/html": [
       "<ol class=list-inline>\n",
       "\t<li>0.559202782475718</li>\n",
       "\t<li>0.923825924994712</li>\n",
       "\t<li>-0.85654139662578</li>\n",
       "\t<li>-1.16204727526912</li>\n",
       "\t<li>-0.62897755156843</li>\n",
       "\t<li>0.353248480638513</li>\n",
       "\t<li>-1.04762416088104</li>\n",
       "\t<li>1.33789336450671</li>\n",
       "\t<li>0.697836120261835</li>\n",
       "\t<li>-0.176816288533107</li>\n",
       "</ol>\n"
      ],
      "text/latex": [
       "\\begin{enumerate*}\n",
       "\\item 0.559202782475718\n",
       "\\item 0.923825924994712\n",
       "\\item -0.85654139662578\n",
       "\\item -1.16204727526912\n",
       "\\item -0.62897755156843\n",
       "\\item 0.353248480638513\n",
       "\\item -1.04762416088104\n",
       "\\item 1.33789336450671\n",
       "\\item 0.697836120261835\n",
       "\\item -0.176816288533107\n",
       "\\end{enumerate*}\n"
      ],
      "text/markdown": [
       "1. 0.559202782475718\n",
       "2. 0.923825924994712\n",
       "3. -0.85654139662578\n",
       "4. -1.16204727526912\n",
       "5. -0.62897755156843\n",
       "6. 0.353248480638513\n",
       "7. -1.04762416088104\n",
       "8. 1.33789336450671\n",
       "9. 0.697836120261835\n",
       "10. -0.176816288533107\n",
       "\n",
       "\n"
      ],
      "text/plain": [
       " [1]  0.56  0.92 -0.86 -1.16 -0.63  0.35 -1.05  1.34  0.70 -0.18"
      ]
     },
     "metadata": {},
     "output_type": "display_data"
    }
   ],
   "source": [
    "score"
   ]
  },
  {
   "cell_type": "code",
   "execution_count": 38,
   "metadata": {},
   "outputs": [],
   "source": [
    "roster <- cbind(roster,score)"
   ]
  },
  {
   "cell_type": "code",
   "execution_count": 39,
   "metadata": {},
   "outputs": [
    {
     "data": {
      "text/html": [
       "<table>\n",
       "<thead><tr><th scope=col>Student</th><th scope=col>Math</th><th scope=col>Science</th><th scope=col>English</th><th scope=col>score</th></tr></thead>\n",
       "<tbody>\n",
       "\t<tr><td>John Davis       </td><td>502              </td><td>95               </td><td>25               </td><td> 0.56            </td></tr>\n",
       "\t<tr><td>Angela Williams  </td><td>600              </td><td>99               </td><td>22               </td><td> 0.92            </td></tr>\n",
       "\t<tr><td>Bullwinkle Moose </td><td>412              </td><td>80               </td><td>18               </td><td>-0.86            </td></tr>\n",
       "\t<tr><td>David Jones      </td><td>358              </td><td>82               </td><td>15               </td><td>-1.16            </td></tr>\n",
       "\t<tr><td>Janice Markhammer</td><td>495              </td><td>75               </td><td>20               </td><td>-0.63            </td></tr>\n",
       "\t<tr><td>Cheryl Cushing   </td><td>512              </td><td>85               </td><td>28               </td><td> 0.35            </td></tr>\n",
       "\t<tr><td>Reuven Ytzrhak   </td><td>410              </td><td>80               </td><td>15               </td><td>-1.05            </td></tr>\n",
       "\t<tr><td>Greg Knox        </td><td>625              </td><td>95               </td><td>30               </td><td> 1.34            </td></tr>\n",
       "\t<tr><td>Joel England     </td><td>573              </td><td>89               </td><td>27               </td><td> 0.70            </td></tr>\n",
       "\t<tr><td>Mary Rayburn     </td><td>522              </td><td>86               </td><td>18               </td><td>-0.18            </td></tr>\n",
       "</tbody>\n",
       "</table>\n"
      ],
      "text/latex": [
       "\\begin{tabular}{r|lllll}\n",
       " Student & Math & Science & English & score\\\\\n",
       "\\hline\n",
       "\t John Davis        & 502               & 95                & 25                &  0.56            \\\\\n",
       "\t Angela Williams   & 600               & 99                & 22                &  0.92            \\\\\n",
       "\t Bullwinkle Moose  & 412               & 80                & 18                & -0.86            \\\\\n",
       "\t David Jones       & 358               & 82                & 15                & -1.16            \\\\\n",
       "\t Janice Markhammer & 495               & 75                & 20                & -0.63            \\\\\n",
       "\t Cheryl Cushing    & 512               & 85                & 28                &  0.35            \\\\\n",
       "\t Reuven Ytzrhak    & 410               & 80                & 15                & -1.05            \\\\\n",
       "\t Greg Knox         & 625               & 95                & 30                &  1.34            \\\\\n",
       "\t Joel England      & 573               & 89                & 27                &  0.70            \\\\\n",
       "\t Mary Rayburn      & 522               & 86                & 18                & -0.18            \\\\\n",
       "\\end{tabular}\n"
      ],
      "text/markdown": [
       "\n",
       "Student | Math | Science | English | score | \n",
       "|---|---|---|---|---|---|---|---|---|---|\n",
       "| John Davis        | 502               | 95                | 25                |  0.56             | \n",
       "| Angela Williams   | 600               | 99                | 22                |  0.92             | \n",
       "| Bullwinkle Moose  | 412               | 80                | 18                | -0.86             | \n",
       "| David Jones       | 358               | 82                | 15                | -1.16             | \n",
       "| Janice Markhammer | 495               | 75                | 20                | -0.63             | \n",
       "| Cheryl Cushing    | 512               | 85                | 28                |  0.35             | \n",
       "| Reuven Ytzrhak    | 410               | 80                | 15                | -1.05             | \n",
       "| Greg Knox         | 625               | 95                | 30                |  1.34             | \n",
       "| Joel England      | 573               | 89                | 27                |  0.70             | \n",
       "| Mary Rayburn      | 522               | 86                | 18                | -0.18             | \n",
       "\n",
       "\n"
      ],
      "text/plain": [
       "   Student           Math Science English score\n",
       "1  John Davis        502  95      25       0.56\n",
       "2  Angela Williams   600  99      22       0.92\n",
       "3  Bullwinkle Moose  412  80      18      -0.86\n",
       "4  David Jones       358  82      15      -1.16\n",
       "5  Janice Markhammer 495  75      20      -0.63\n",
       "6  Cheryl Cushing    512  85      28       0.35\n",
       "7  Reuven Ytzrhak    410  80      15      -1.05\n",
       "8  Greg Knox         625  95      30       1.34\n",
       "9  Joel England      573  89      27       0.70\n",
       "10 Mary Rayburn      522  86      18      -0.18"
      ]
     },
     "metadata": {},
     "output_type": "display_data"
    }
   ],
   "source": [
    "roster"
   ]
  },
  {
   "cell_type": "code",
   "execution_count": 40,
   "metadata": {},
   "outputs": [],
   "source": [
    "y <- quantile(roster$score,c(.8,.6,.4,.2))"
   ]
  },
  {
   "cell_type": "code",
   "execution_count": 41,
   "metadata": {},
   "outputs": [
    {
     "data": {
      "text/html": [
       "<dl class=dl-horizontal>\n",
       "\t<dt>80%</dt>\n",
       "\t\t<dd>0.74303408120841</dd>\n",
       "\t<dt>60%</dt>\n",
       "\t\t<dd>0.435630201373395</dd>\n",
       "\t<dt>40%</dt>\n",
       "\t\t<dd>-0.357680793747236</dd>\n",
       "\t<dt>20%</dt>\n",
       "\t\t<dd>-0.894757949476833</dd>\n",
       "</dl>\n"
      ],
      "text/latex": [
       "\\begin{description*}\n",
       "\\item[80\\textbackslash{}\\%] 0.74303408120841\n",
       "\\item[60\\textbackslash{}\\%] 0.435630201373395\n",
       "\\item[40\\textbackslash{}\\%] -0.357680793747236\n",
       "\\item[20\\textbackslash{}\\%] -0.894757949476833\n",
       "\\end{description*}\n"
      ],
      "text/markdown": [
       "80%\n",
       ":   0.7430340812084160%\n",
       ":   0.43563020137339540%\n",
       ":   -0.35768079374723620%\n",
       ":   -0.894757949476833\n",
       "\n"
      ],
      "text/plain": [
       "  80%   60%   40%   20% \n",
       " 0.74  0.44 -0.36 -0.89 "
      ]
     },
     "metadata": {},
     "output_type": "display_data"
    }
   ],
   "source": [
    "y"
   ]
  },
  {
   "cell_type": "code",
   "execution_count": 42,
   "metadata": {},
   "outputs": [],
   "source": [
    "roster$grade[score >= y[1]] <- \"A\"  \n",
    "roster$grade[score < y[1] & score >= y[2]] <- \"B\" \n",
    "roster$grade[score < y[2] & score >= y[3]] <- \"C\" \n",
    "roster$grade[score < y[3] & score >= y[4]] <- \"D\" \n",
    "roster$grade[score < y[4]] <- \"F\""
   ]
  },
  {
   "cell_type": "code",
   "execution_count": 43,
   "metadata": {},
   "outputs": [
    {
     "data": {
      "text/html": [
       "<table>\n",
       "<thead><tr><th scope=col>Student</th><th scope=col>Math</th><th scope=col>Science</th><th scope=col>English</th><th scope=col>score</th><th scope=col>grade</th></tr></thead>\n",
       "<tbody>\n",
       "\t<tr><td>John Davis       </td><td>502              </td><td>95               </td><td>25               </td><td> 0.56            </td><td>B                </td></tr>\n",
       "\t<tr><td>Angela Williams  </td><td>600              </td><td>99               </td><td>22               </td><td> 0.92            </td><td>A                </td></tr>\n",
       "\t<tr><td>Bullwinkle Moose </td><td>412              </td><td>80               </td><td>18               </td><td>-0.86            </td><td>D                </td></tr>\n",
       "\t<tr><td>David Jones      </td><td>358              </td><td>82               </td><td>15               </td><td>-1.16            </td><td>F                </td></tr>\n",
       "\t<tr><td>Janice Markhammer</td><td>495              </td><td>75               </td><td>20               </td><td>-0.63            </td><td>D                </td></tr>\n",
       "\t<tr><td>Cheryl Cushing   </td><td>512              </td><td>85               </td><td>28               </td><td> 0.35            </td><td>C                </td></tr>\n",
       "\t<tr><td>Reuven Ytzrhak   </td><td>410              </td><td>80               </td><td>15               </td><td>-1.05            </td><td>F                </td></tr>\n",
       "\t<tr><td>Greg Knox        </td><td>625              </td><td>95               </td><td>30               </td><td> 1.34            </td><td>A                </td></tr>\n",
       "\t<tr><td>Joel England     </td><td>573              </td><td>89               </td><td>27               </td><td> 0.70            </td><td>B                </td></tr>\n",
       "\t<tr><td>Mary Rayburn     </td><td>522              </td><td>86               </td><td>18               </td><td>-0.18            </td><td>C                </td></tr>\n",
       "</tbody>\n",
       "</table>\n"
      ],
      "text/latex": [
       "\\begin{tabular}{r|llllll}\n",
       " Student & Math & Science & English & score & grade\\\\\n",
       "\\hline\n",
       "\t John Davis        & 502               & 95                & 25                &  0.56             & B                \\\\\n",
       "\t Angela Williams   & 600               & 99                & 22                &  0.92             & A                \\\\\n",
       "\t Bullwinkle Moose  & 412               & 80                & 18                & -0.86             & D                \\\\\n",
       "\t David Jones       & 358               & 82                & 15                & -1.16             & F                \\\\\n",
       "\t Janice Markhammer & 495               & 75                & 20                & -0.63             & D                \\\\\n",
       "\t Cheryl Cushing    & 512               & 85                & 28                &  0.35             & C                \\\\\n",
       "\t Reuven Ytzrhak    & 410               & 80                & 15                & -1.05             & F                \\\\\n",
       "\t Greg Knox         & 625               & 95                & 30                &  1.34             & A                \\\\\n",
       "\t Joel England      & 573               & 89                & 27                &  0.70             & B                \\\\\n",
       "\t Mary Rayburn      & 522               & 86                & 18                & -0.18             & C                \\\\\n",
       "\\end{tabular}\n"
      ],
      "text/markdown": [
       "\n",
       "Student | Math | Science | English | score | grade | \n",
       "|---|---|---|---|---|---|---|---|---|---|\n",
       "| John Davis        | 502               | 95                | 25                |  0.56             | B                 | \n",
       "| Angela Williams   | 600               | 99                | 22                |  0.92             | A                 | \n",
       "| Bullwinkle Moose  | 412               | 80                | 18                | -0.86             | D                 | \n",
       "| David Jones       | 358               | 82                | 15                | -1.16             | F                 | \n",
       "| Janice Markhammer | 495               | 75                | 20                | -0.63             | D                 | \n",
       "| Cheryl Cushing    | 512               | 85                | 28                |  0.35             | C                 | \n",
       "| Reuven Ytzrhak    | 410               | 80                | 15                | -1.05             | F                 | \n",
       "| Greg Knox         | 625               | 95                | 30                |  1.34             | A                 | \n",
       "| Joel England      | 573               | 89                | 27                |  0.70             | B                 | \n",
       "| Mary Rayburn      | 522               | 86                | 18                | -0.18             | C                 | \n",
       "\n",
       "\n"
      ],
      "text/plain": [
       "   Student           Math Science English score grade\n",
       "1  John Davis        502  95      25       0.56 B    \n",
       "2  Angela Williams   600  99      22       0.92 A    \n",
       "3  Bullwinkle Moose  412  80      18      -0.86 D    \n",
       "4  David Jones       358  82      15      -1.16 F    \n",
       "5  Janice Markhammer 495  75      20      -0.63 D    \n",
       "6  Cheryl Cushing    512  85      28       0.35 C    \n",
       "7  Reuven Ytzrhak    410  80      15      -1.05 F    \n",
       "8  Greg Knox         625  95      30       1.34 A    \n",
       "9  Joel England      573  89      27       0.70 B    \n",
       "10 Mary Rayburn      522  86      18      -0.18 C    "
      ]
     },
     "metadata": {},
     "output_type": "display_data"
    }
   ],
   "source": [
    "roster"
   ]
  },
  {
   "cell_type": "code",
   "execution_count": 44,
   "metadata": {},
   "outputs": [],
   "source": [
    "name <- strsplit((roster$Student),\" \")"
   ]
  },
  {
   "cell_type": "code",
   "execution_count": 45,
   "metadata": {},
   "outputs": [
    {
     "data": {
      "text/html": [
       "<ol>\n",
       "\t<li><ol class=list-inline>\n",
       "\t<li>'John'</li>\n",
       "\t<li>'Davis'</li>\n",
       "</ol>\n",
       "</li>\n",
       "\t<li><ol class=list-inline>\n",
       "\t<li>'Angela'</li>\n",
       "\t<li>'Williams'</li>\n",
       "</ol>\n",
       "</li>\n",
       "\t<li><ol class=list-inline>\n",
       "\t<li>'Bullwinkle'</li>\n",
       "\t<li>'Moose'</li>\n",
       "</ol>\n",
       "</li>\n",
       "\t<li><ol class=list-inline>\n",
       "\t<li>'David'</li>\n",
       "\t<li>'Jones'</li>\n",
       "</ol>\n",
       "</li>\n",
       "\t<li><ol class=list-inline>\n",
       "\t<li>'Janice'</li>\n",
       "\t<li>'Markhammer'</li>\n",
       "</ol>\n",
       "</li>\n",
       "\t<li><ol class=list-inline>\n",
       "\t<li>'Cheryl'</li>\n",
       "\t<li>'Cushing'</li>\n",
       "</ol>\n",
       "</li>\n",
       "\t<li><ol class=list-inline>\n",
       "\t<li>'Reuven'</li>\n",
       "\t<li>'Ytzrhak'</li>\n",
       "</ol>\n",
       "</li>\n",
       "\t<li><ol class=list-inline>\n",
       "\t<li>'Greg'</li>\n",
       "\t<li>'Knox'</li>\n",
       "</ol>\n",
       "</li>\n",
       "\t<li><ol class=list-inline>\n",
       "\t<li>'Joel'</li>\n",
       "\t<li>'England'</li>\n",
       "</ol>\n",
       "</li>\n",
       "\t<li><ol class=list-inline>\n",
       "\t<li>'Mary'</li>\n",
       "\t<li>'Rayburn'</li>\n",
       "</ol>\n",
       "</li>\n",
       "</ol>\n"
      ],
      "text/latex": [
       "\\begin{enumerate}\n",
       "\\item \\begin{enumerate*}\n",
       "\\item 'John'\n",
       "\\item 'Davis'\n",
       "\\end{enumerate*}\n",
       "\n",
       "\\item \\begin{enumerate*}\n",
       "\\item 'Angela'\n",
       "\\item 'Williams'\n",
       "\\end{enumerate*}\n",
       "\n",
       "\\item \\begin{enumerate*}\n",
       "\\item 'Bullwinkle'\n",
       "\\item 'Moose'\n",
       "\\end{enumerate*}\n",
       "\n",
       "\\item \\begin{enumerate*}\n",
       "\\item 'David'\n",
       "\\item 'Jones'\n",
       "\\end{enumerate*}\n",
       "\n",
       "\\item \\begin{enumerate*}\n",
       "\\item 'Janice'\n",
       "\\item 'Markhammer'\n",
       "\\end{enumerate*}\n",
       "\n",
       "\\item \\begin{enumerate*}\n",
       "\\item 'Cheryl'\n",
       "\\item 'Cushing'\n",
       "\\end{enumerate*}\n",
       "\n",
       "\\item \\begin{enumerate*}\n",
       "\\item 'Reuven'\n",
       "\\item 'Ytzrhak'\n",
       "\\end{enumerate*}\n",
       "\n",
       "\\item \\begin{enumerate*}\n",
       "\\item 'Greg'\n",
       "\\item 'Knox'\n",
       "\\end{enumerate*}\n",
       "\n",
       "\\item \\begin{enumerate*}\n",
       "\\item 'Joel'\n",
       "\\item 'England'\n",
       "\\end{enumerate*}\n",
       "\n",
       "\\item \\begin{enumerate*}\n",
       "\\item 'Mary'\n",
       "\\item 'Rayburn'\n",
       "\\end{enumerate*}\n",
       "\n",
       "\\end{enumerate}\n"
      ],
      "text/markdown": [
       "1. 1. 'John'\n",
       "2. 'Davis'\n",
       "\n",
       "\n",
       "\n",
       "2. 1. 'Angela'\n",
       "2. 'Williams'\n",
       "\n",
       "\n",
       "\n",
       "3. 1. 'Bullwinkle'\n",
       "2. 'Moose'\n",
       "\n",
       "\n",
       "\n",
       "4. 1. 'David'\n",
       "2. 'Jones'\n",
       "\n",
       "\n",
       "\n",
       "5. 1. 'Janice'\n",
       "2. 'Markhammer'\n",
       "\n",
       "\n",
       "\n",
       "6. 1. 'Cheryl'\n",
       "2. 'Cushing'\n",
       "\n",
       "\n",
       "\n",
       "7. 1. 'Reuven'\n",
       "2. 'Ytzrhak'\n",
       "\n",
       "\n",
       "\n",
       "8. 1. 'Greg'\n",
       "2. 'Knox'\n",
       "\n",
       "\n",
       "\n",
       "9. 1. 'Joel'\n",
       "2. 'England'\n",
       "\n",
       "\n",
       "\n",
       "10. 1. 'Mary'\n",
       "2. 'Rayburn'\n",
       "\n",
       "\n",
       "\n",
       "\n",
       "\n"
      ],
      "text/plain": [
       "[[1]]\n",
       "[1] \"John\"  \"Davis\"\n",
       "\n",
       "[[2]]\n",
       "[1] \"Angela\"   \"Williams\"\n",
       "\n",
       "[[3]]\n",
       "[1] \"Bullwinkle\" \"Moose\"     \n",
       "\n",
       "[[4]]\n",
       "[1] \"David\" \"Jones\"\n",
       "\n",
       "[[5]]\n",
       "[1] \"Janice\"     \"Markhammer\"\n",
       "\n",
       "[[6]]\n",
       "[1] \"Cheryl\"  \"Cushing\"\n",
       "\n",
       "[[7]]\n",
       "[1] \"Reuven\"  \"Ytzrhak\"\n",
       "\n",
       "[[8]]\n",
       "[1] \"Greg\" \"Knox\"\n",
       "\n",
       "[[9]]\n",
       "[1] \"Joel\"    \"England\"\n",
       "\n",
       "[[10]]\n",
       "[1] \"Mary\"    \"Rayburn\"\n"
      ]
     },
     "metadata": {},
     "output_type": "display_data"
    }
   ],
   "source": [
    "name"
   ]
  },
  {
   "cell_type": "code",
   "execution_count": 46,
   "metadata": {},
   "outputs": [],
   "source": [
    "Firstname <- sapply(name, \"[\", 1) \n",
    "Lastname <- sapply(name, \"[\", 2) \n",
    "roster <- cbind(Firstname, Lastname, roster[,-1])"
   ]
  },
  {
   "cell_type": "code",
   "execution_count": 47,
   "metadata": {},
   "outputs": [
    {
     "data": {
      "text/html": [
       "<table>\n",
       "<thead><tr><th scope=col>Firstname</th><th scope=col>Lastname</th><th scope=col>Math</th><th scope=col>Science</th><th scope=col>English</th><th scope=col>score</th><th scope=col>grade</th></tr></thead>\n",
       "<tbody>\n",
       "\t<tr><td>John      </td><td>Davis     </td><td>502       </td><td>95        </td><td>25        </td><td> 0.56     </td><td>B         </td></tr>\n",
       "\t<tr><td>Angela    </td><td>Williams  </td><td>600       </td><td>99        </td><td>22        </td><td> 0.92     </td><td>A         </td></tr>\n",
       "\t<tr><td>Bullwinkle</td><td>Moose     </td><td>412       </td><td>80        </td><td>18        </td><td>-0.86     </td><td>D         </td></tr>\n",
       "\t<tr><td>David     </td><td>Jones     </td><td>358       </td><td>82        </td><td>15        </td><td>-1.16     </td><td>F         </td></tr>\n",
       "\t<tr><td>Janice    </td><td>Markhammer</td><td>495       </td><td>75        </td><td>20        </td><td>-0.63     </td><td>D         </td></tr>\n",
       "\t<tr><td>Cheryl    </td><td>Cushing   </td><td>512       </td><td>85        </td><td>28        </td><td> 0.35     </td><td>C         </td></tr>\n",
       "\t<tr><td>Reuven    </td><td>Ytzrhak   </td><td>410       </td><td>80        </td><td>15        </td><td>-1.05     </td><td>F         </td></tr>\n",
       "\t<tr><td>Greg      </td><td>Knox      </td><td>625       </td><td>95        </td><td>30        </td><td> 1.34     </td><td>A         </td></tr>\n",
       "\t<tr><td>Joel      </td><td>England   </td><td>573       </td><td>89        </td><td>27        </td><td> 0.70     </td><td>B         </td></tr>\n",
       "\t<tr><td>Mary      </td><td>Rayburn   </td><td>522       </td><td>86        </td><td>18        </td><td>-0.18     </td><td>C         </td></tr>\n",
       "</tbody>\n",
       "</table>\n"
      ],
      "text/latex": [
       "\\begin{tabular}{r|lllllll}\n",
       " Firstname & Lastname & Math & Science & English & score & grade\\\\\n",
       "\\hline\n",
       "\t John       & Davis      & 502        & 95         & 25         &  0.56      & B         \\\\\n",
       "\t Angela     & Williams   & 600        & 99         & 22         &  0.92      & A         \\\\\n",
       "\t Bullwinkle & Moose      & 412        & 80         & 18         & -0.86      & D         \\\\\n",
       "\t David      & Jones      & 358        & 82         & 15         & -1.16      & F         \\\\\n",
       "\t Janice     & Markhammer & 495        & 75         & 20         & -0.63      & D         \\\\\n",
       "\t Cheryl     & Cushing    & 512        & 85         & 28         &  0.35      & C         \\\\\n",
       "\t Reuven     & Ytzrhak    & 410        & 80         & 15         & -1.05      & F         \\\\\n",
       "\t Greg       & Knox       & 625        & 95         & 30         &  1.34      & A         \\\\\n",
       "\t Joel       & England    & 573        & 89         & 27         &  0.70      & B         \\\\\n",
       "\t Mary       & Rayburn    & 522        & 86         & 18         & -0.18      & C         \\\\\n",
       "\\end{tabular}\n"
      ],
      "text/markdown": [
       "\n",
       "Firstname | Lastname | Math | Science | English | score | grade | \n",
       "|---|---|---|---|---|---|---|---|---|---|\n",
       "| John       | Davis      | 502        | 95         | 25         |  0.56      | B          | \n",
       "| Angela     | Williams   | 600        | 99         | 22         |  0.92      | A          | \n",
       "| Bullwinkle | Moose      | 412        | 80         | 18         | -0.86      | D          | \n",
       "| David      | Jones      | 358        | 82         | 15         | -1.16      | F          | \n",
       "| Janice     | Markhammer | 495        | 75         | 20         | -0.63      | D          | \n",
       "| Cheryl     | Cushing    | 512        | 85         | 28         |  0.35      | C          | \n",
       "| Reuven     | Ytzrhak    | 410        | 80         | 15         | -1.05      | F          | \n",
       "| Greg       | Knox       | 625        | 95         | 30         |  1.34      | A          | \n",
       "| Joel       | England    | 573        | 89         | 27         |  0.70      | B          | \n",
       "| Mary       | Rayburn    | 522        | 86         | 18         | -0.18      | C          | \n",
       "\n",
       "\n"
      ],
      "text/plain": [
       "   Firstname  Lastname   Math Science English score grade\n",
       "1  John       Davis      502  95      25       0.56 B    \n",
       "2  Angela     Williams   600  99      22       0.92 A    \n",
       "3  Bullwinkle Moose      412  80      18      -0.86 D    \n",
       "4  David      Jones      358  82      15      -1.16 F    \n",
       "5  Janice     Markhammer 495  75      20      -0.63 D    \n",
       "6  Cheryl     Cushing    512  85      28       0.35 C    \n",
       "7  Reuven     Ytzrhak    410  80      15      -1.05 F    \n",
       "8  Greg       Knox       625  95      30       1.34 A    \n",
       "9  Joel       England    573  89      27       0.70 B    \n",
       "10 Mary       Rayburn    522  86      18      -0.18 C    "
      ]
     },
     "metadata": {},
     "output_type": "display_data"
    }
   ],
   "source": [
    "roster"
   ]
  },
  {
   "cell_type": "code",
   "execution_count": 48,
   "metadata": {},
   "outputs": [
    {
     "data": {
      "text/html": [
       "<table>\n",
       "<thead><tr><th></th><th scope=col>Firstname</th><th scope=col>Lastname</th><th scope=col>Math</th><th scope=col>Science</th><th scope=col>English</th><th scope=col>score</th><th scope=col>grade</th></tr></thead>\n",
       "<tbody>\n",
       "\t<tr><th scope=row>6</th><td>Cheryl    </td><td>Cushing   </td><td>512       </td><td>85        </td><td>28        </td><td> 0.35     </td><td>C         </td></tr>\n",
       "\t<tr><th scope=row>1</th><td>John      </td><td>Davis     </td><td>502       </td><td>95        </td><td>25        </td><td> 0.56     </td><td>B         </td></tr>\n",
       "\t<tr><th scope=row>9</th><td>Joel      </td><td>England   </td><td>573       </td><td>89        </td><td>27        </td><td> 0.70     </td><td>B         </td></tr>\n",
       "\t<tr><th scope=row>4</th><td>David     </td><td>Jones     </td><td>358       </td><td>82        </td><td>15        </td><td>-1.16     </td><td>F         </td></tr>\n",
       "\t<tr><th scope=row>8</th><td>Greg      </td><td>Knox      </td><td>625       </td><td>95        </td><td>30        </td><td> 1.34     </td><td>A         </td></tr>\n",
       "\t<tr><th scope=row>5</th><td>Janice    </td><td>Markhammer</td><td>495       </td><td>75        </td><td>20        </td><td>-0.63     </td><td>D         </td></tr>\n",
       "\t<tr><th scope=row>3</th><td>Bullwinkle</td><td>Moose     </td><td>412       </td><td>80        </td><td>18        </td><td>-0.86     </td><td>D         </td></tr>\n",
       "\t<tr><th scope=row>10</th><td>Mary      </td><td>Rayburn   </td><td>522       </td><td>86        </td><td>18        </td><td>-0.18     </td><td>C         </td></tr>\n",
       "\t<tr><th scope=row>2</th><td>Angela    </td><td>Williams  </td><td>600       </td><td>99        </td><td>22        </td><td> 0.92     </td><td>A         </td></tr>\n",
       "\t<tr><th scope=row>7</th><td>Reuven    </td><td>Ytzrhak   </td><td>410       </td><td>80        </td><td>15        </td><td>-1.05     </td><td>F         </td></tr>\n",
       "</tbody>\n",
       "</table>\n"
      ],
      "text/latex": [
       "\\begin{tabular}{r|lllllll}\n",
       "  & Firstname & Lastname & Math & Science & English & score & grade\\\\\n",
       "\\hline\n",
       "\t6 & Cheryl     & Cushing    & 512        & 85         & 28         &  0.35      & C         \\\\\n",
       "\t1 & John       & Davis      & 502        & 95         & 25         &  0.56      & B         \\\\\n",
       "\t9 & Joel       & England    & 573        & 89         & 27         &  0.70      & B         \\\\\n",
       "\t4 & David      & Jones      & 358        & 82         & 15         & -1.16      & F         \\\\\n",
       "\t8 & Greg       & Knox       & 625        & 95         & 30         &  1.34      & A         \\\\\n",
       "\t5 & Janice     & Markhammer & 495        & 75         & 20         & -0.63      & D         \\\\\n",
       "\t3 & Bullwinkle & Moose      & 412        & 80         & 18         & -0.86      & D         \\\\\n",
       "\t10 & Mary       & Rayburn    & 522        & 86         & 18         & -0.18      & C         \\\\\n",
       "\t2 & Angela     & Williams   & 600        & 99         & 22         &  0.92      & A         \\\\\n",
       "\t7 & Reuven     & Ytzrhak    & 410        & 80         & 15         & -1.05      & F         \\\\\n",
       "\\end{tabular}\n"
      ],
      "text/markdown": [
       "\n",
       "| <!--/--> | Firstname | Lastname | Math | Science | English | score | grade | \n",
       "|---|---|---|---|---|---|---|---|---|---|\n",
       "| 6 | Cheryl     | Cushing    | 512        | 85         | 28         |  0.35      | C          | \n",
       "| 1 | John       | Davis      | 502        | 95         | 25         |  0.56      | B          | \n",
       "| 9 | Joel       | England    | 573        | 89         | 27         |  0.70      | B          | \n",
       "| 4 | David      | Jones      | 358        | 82         | 15         | -1.16      | F          | \n",
       "| 8 | Greg       | Knox       | 625        | 95         | 30         |  1.34      | A          | \n",
       "| 5 | Janice     | Markhammer | 495        | 75         | 20         | -0.63      | D          | \n",
       "| 3 | Bullwinkle | Moose      | 412        | 80         | 18         | -0.86      | D          | \n",
       "| 10 | Mary       | Rayburn    | 522        | 86         | 18         | -0.18      | C          | \n",
       "| 2 | Angela     | Williams   | 600        | 99         | 22         |  0.92      | A          | \n",
       "| 7 | Reuven     | Ytzrhak    | 410        | 80         | 15         | -1.05      | F          | \n",
       "\n",
       "\n"
      ],
      "text/plain": [
       "   Firstname  Lastname   Math Science English score grade\n",
       "6  Cheryl     Cushing    512  85      28       0.35 C    \n",
       "1  John       Davis      502  95      25       0.56 B    \n",
       "9  Joel       England    573  89      27       0.70 B    \n",
       "4  David      Jones      358  82      15      -1.16 F    \n",
       "8  Greg       Knox       625  95      30       1.34 A    \n",
       "5  Janice     Markhammer 495  75      20      -0.63 D    \n",
       "3  Bullwinkle Moose      412  80      18      -0.86 D    \n",
       "10 Mary       Rayburn    522  86      18      -0.18 C    \n",
       "2  Angela     Williams   600  99      22       0.92 A    \n",
       "7  Reuven     Ytzrhak    410  80      15      -1.05 F    "
      ]
     },
     "metadata": {},
     "output_type": "display_data"
    }
   ],
   "source": [
    "roster[order(Lastname,Firstname),]"
   ]
  },
  {
   "cell_type": "code",
   "execution_count": 49,
   "metadata": {},
   "outputs": [
    {
     "name": "stdout",
     "output_type": "stream",
     "text": [
      "[1] 1\n",
      "[1] 2\n",
      "[1] 3\n",
      "[1] 4\n",
      "[1] 5\n",
      "[1] 6\n",
      "[1] 7\n",
      "[1] 8\n",
      "[1] 9\n",
      "[1] 10\n",
      "[1] 11\n",
      "[1] 12\n",
      "[1] 13\n",
      "[1] 14\n",
      "[1] 15\n",
      "[1] 16\n",
      "[1] 17\n",
      "[1] 18\n",
      "[1] 19\n"
     ]
    }
   ],
   "source": [
    "for(i in 1:19)\n",
    "    print(i)"
   ]
  },
  {
   "cell_type": "code",
   "execution_count": 50,
   "metadata": {},
   "outputs": [],
   "source": [
    "i <- 10"
   ]
  },
  {
   "cell_type": "code",
   "execution_count": 51,
   "metadata": {},
   "outputs": [
    {
     "name": "stdout",
     "output_type": "stream",
     "text": [
      "[1] \"hello\"\n",
      "[1] \"hello\"\n",
      "[1] \"hello\"\n",
      "[1] \"hello\"\n",
      "[1] \"hello\"\n",
      "[1] \"hello\"\n",
      "[1] \"hello\"\n",
      "[1] \"hello\"\n",
      "[1] \"hello\"\n",
      "[1] \"hello\"\n"
     ]
    }
   ],
   "source": [
    "while(i > 0)\n",
    "{\n",
    "    print(\"hello\");\n",
    "    i<- i-1\n",
    "}"
   ]
  },
  {
   "cell_type": "code",
   "execution_count": 52,
   "metadata": {},
   "outputs": [
    {
     "name": "stdout",
     "output_type": "stream",
     "text": [
      "[1] \"passed\"\n",
      "[1] \"Failed\"\n"
     ]
    },
    {
     "data": {
      "text/html": [
       "<ol class=list-inline>\n",
       "\t<li>'passed'</li>\n",
       "\t<li>'passed'</li>\n",
       "\t<li>'Failed'</li>\n",
       "\t<li>'Failed'</li>\n",
       "\t<li>'Failed'</li>\n",
       "\t<li>'Failed'</li>\n",
       "\t<li>'Failed'</li>\n",
       "\t<li>'passed'</li>\n",
       "\t<li>'passed'</li>\n",
       "\t<li>'Failed'</li>\n",
       "</ol>\n"
      ],
      "text/latex": [
       "\\begin{enumerate*}\n",
       "\\item 'passed'\n",
       "\\item 'passed'\n",
       "\\item 'Failed'\n",
       "\\item 'Failed'\n",
       "\\item 'Failed'\n",
       "\\item 'Failed'\n",
       "\\item 'Failed'\n",
       "\\item 'passed'\n",
       "\\item 'passed'\n",
       "\\item 'Failed'\n",
       "\\end{enumerate*}\n"
      ],
      "text/markdown": [
       "1. 'passed'\n",
       "2. 'passed'\n",
       "3. 'Failed'\n",
       "4. 'Failed'\n",
       "5. 'Failed'\n",
       "6. 'Failed'\n",
       "7. 'Failed'\n",
       "8. 'passed'\n",
       "9. 'passed'\n",
       "10. 'Failed'\n",
       "\n",
       "\n"
      ],
      "text/plain": [
       " [1] \"passed\" \"passed\" \"Failed\" \"Failed\" \"Failed\" \"Failed\" \"Failed\" \"passed\"\n",
       " [9] \"passed\" \"Failed\""
      ]
     },
     "metadata": {},
     "output_type": "display_data"
    }
   ],
   "source": [
    "ifelse(score>0.5,print(\"passed\"),print(\"Failed\"))"
   ]
  },
  {
   "cell_type": "markdown",
   "metadata": {},
   "source": [
    "### transpose"
   ]
  },
  {
   "cell_type": "code",
   "execution_count": 53,
   "metadata": {},
   "outputs": [],
   "source": [
    "cars <- mtcars[1:5,1:4]"
   ]
  },
  {
   "cell_type": "code",
   "execution_count": 54,
   "metadata": {},
   "outputs": [
    {
     "data": {
      "text/html": [
       "<table>\n",
       "<thead><tr><th></th><th scope=col>Mazda RX4</th><th scope=col>Mazda RX4 Wag</th><th scope=col>Datsun 710</th><th scope=col>Hornet 4 Drive</th><th scope=col>Hornet Sportabout</th></tr></thead>\n",
       "<tbody>\n",
       "\t<tr><th scope=row>mpg</th><td> 21</td><td> 21</td><td> 23</td><td> 21</td><td> 19</td></tr>\n",
       "\t<tr><th scope=row>cyl</th><td>  6</td><td>  6</td><td>  4</td><td>  6</td><td>  8</td></tr>\n",
       "\t<tr><th scope=row>disp</th><td>160</td><td>160</td><td>108</td><td>258</td><td>360</td></tr>\n",
       "\t<tr><th scope=row>hp</th><td>110</td><td>110</td><td> 93</td><td>110</td><td>175</td></tr>\n",
       "</tbody>\n",
       "</table>\n"
      ],
      "text/latex": [
       "\\begin{tabular}{r|lllll}\n",
       "  & Mazda RX4 & Mazda RX4 Wag & Datsun 710 & Hornet 4 Drive & Hornet Sportabout\\\\\n",
       "\\hline\n",
       "\tmpg &  21 &  21 &  23 &  21 &  19\\\\\n",
       "\tcyl &   6 &   6 &   4 &   6 &   8\\\\\n",
       "\tdisp & 160 & 160 & 108 & 258 & 360\\\\\n",
       "\thp & 110 & 110 &  93 & 110 & 175\\\\\n",
       "\\end{tabular}\n"
      ],
      "text/markdown": [
       "\n",
       "| <!--/--> | Mazda RX4 | Mazda RX4 Wag | Datsun 710 | Hornet 4 Drive | Hornet Sportabout | \n",
       "|---|---|---|---|\n",
       "| mpg |  21 |  21 |  23 |  21 |  19 | \n",
       "| cyl |   6 |   6 |   4 |   6 |   8 | \n",
       "| disp | 160 | 160 | 108 | 258 | 360 | \n",
       "| hp | 110 | 110 |  93 | 110 | 175 | \n",
       "\n",
       "\n"
      ],
      "text/plain": [
       "     Mazda RX4 Mazda RX4 Wag Datsun 710 Hornet 4 Drive Hornet Sportabout\n",
       "mpg   21        21            23         21             19              \n",
       "cyl    6         6             4          6              8              \n",
       "disp 160       160           108        258            360              \n",
       "hp   110       110            93        110            175              "
      ]
     },
     "metadata": {},
     "output_type": "display_data"
    }
   ],
   "source": [
    "t(cars)"
   ]
  },
  {
   "cell_type": "code",
   "execution_count": 55,
   "metadata": {},
   "outputs": [
    {
     "data": {
      "text/html": [
       "<table>\n",
       "<thead><tr><th></th><th scope=col>mpg</th><th scope=col>cyl</th><th scope=col>disp</th><th scope=col>hp</th></tr></thead>\n",
       "<tbody>\n",
       "\t<tr><th scope=row>Mazda RX4</th><td>21 </td><td>6  </td><td>160</td><td>110</td></tr>\n",
       "\t<tr><th scope=row>Mazda RX4 Wag</th><td>21 </td><td>6  </td><td>160</td><td>110</td></tr>\n",
       "\t<tr><th scope=row>Datsun 710</th><td>23 </td><td>4  </td><td>108</td><td> 93</td></tr>\n",
       "\t<tr><th scope=row>Hornet 4 Drive</th><td>21 </td><td>6  </td><td>258</td><td>110</td></tr>\n",
       "\t<tr><th scope=row>Hornet Sportabout</th><td>19 </td><td>8  </td><td>360</td><td>175</td></tr>\n",
       "</tbody>\n",
       "</table>\n"
      ],
      "text/latex": [
       "\\begin{tabular}{r|llll}\n",
       "  & mpg & cyl & disp & hp\\\\\n",
       "\\hline\n",
       "\tMazda RX4 & 21  & 6   & 160 & 110\\\\\n",
       "\tMazda RX4 Wag & 21  & 6   & 160 & 110\\\\\n",
       "\tDatsun 710 & 23  & 4   & 108 &  93\\\\\n",
       "\tHornet 4 Drive & 21  & 6   & 258 & 110\\\\\n",
       "\tHornet Sportabout & 19  & 8   & 360 & 175\\\\\n",
       "\\end{tabular}\n"
      ],
      "text/markdown": [
       "\n",
       "| <!--/--> | mpg | cyl | disp | hp | \n",
       "|---|---|---|---|---|\n",
       "| Mazda RX4 | 21  | 6   | 160 | 110 | \n",
       "| Mazda RX4 Wag | 21  | 6   | 160 | 110 | \n",
       "| Datsun 710 | 23  | 4   | 108 |  93 | \n",
       "| Hornet 4 Drive | 21  | 6   | 258 | 110 | \n",
       "| Hornet Sportabout | 19  | 8   | 360 | 175 | \n",
       "\n",
       "\n"
      ],
      "text/plain": [
       "                  mpg cyl disp hp \n",
       "Mazda RX4         21  6   160  110\n",
       "Mazda RX4 Wag     21  6   160  110\n",
       "Datsun 710        23  4   108   93\n",
       "Hornet 4 Drive    21  6   258  110\n",
       "Hornet Sportabout 19  8   360  175"
      ]
     },
     "metadata": {},
     "output_type": "display_data"
    }
   ],
   "source": [
    "cars"
   ]
  },
  {
   "cell_type": "code",
   "execution_count": 56,
   "metadata": {},
   "outputs": [],
   "source": [
    "attach(mtcars)\n",
    "aggdata <- aggregate(mtcars,by=list(cyl,gear),FUN=mean,na.rm=TRUE)"
   ]
  },
  {
   "cell_type": "code",
   "execution_count": 57,
   "metadata": {},
   "outputs": [
    {
     "data": {
      "text/html": [
       "<table>\n",
       "<thead><tr><th scope=col>Group.1</th><th scope=col>Group.2</th><th scope=col>mpg</th><th scope=col>cyl</th><th scope=col>disp</th><th scope=col>hp</th><th scope=col>drat</th><th scope=col>wt</th><th scope=col>qsec</th><th scope=col>vs</th><th scope=col>am</th><th scope=col>gear</th><th scope=col>carb</th></tr></thead>\n",
       "<tbody>\n",
       "\t<tr><td>4   </td><td>3   </td><td>22  </td><td>4   </td><td>120 </td><td> 97 </td><td>3.7 </td><td>2.5 </td><td>20  </td><td>1.0 </td><td>0.00</td><td>3   </td><td>1.0 </td></tr>\n",
       "\t<tr><td>6   </td><td>3   </td><td>20  </td><td>6   </td><td>242 </td><td>108 </td><td>2.9 </td><td>3.3 </td><td>20  </td><td>1.0 </td><td>0.00</td><td>3   </td><td>1.0 </td></tr>\n",
       "\t<tr><td>8   </td><td>3   </td><td>15  </td><td>8   </td><td>358 </td><td>194 </td><td>3.1 </td><td>4.1 </td><td>17  </td><td>0.0 </td><td>0.00</td><td>3   </td><td>3.1 </td></tr>\n",
       "\t<tr><td>4   </td><td>4   </td><td>27  </td><td>4   </td><td>103 </td><td> 76 </td><td>4.1 </td><td>2.4 </td><td>20  </td><td>1.0 </td><td>0.75</td><td>4   </td><td>1.5 </td></tr>\n",
       "\t<tr><td>6   </td><td>4   </td><td>20  </td><td>6   </td><td>164 </td><td>116 </td><td>3.9 </td><td>3.1 </td><td>18  </td><td>0.5 </td><td>0.50</td><td>4   </td><td>4.0 </td></tr>\n",
       "\t<tr><td>4   </td><td>5   </td><td>28  </td><td>4   </td><td>108 </td><td>102 </td><td>4.1 </td><td>1.8 </td><td>17  </td><td>0.5 </td><td>1.00</td><td>5   </td><td>2.0 </td></tr>\n",
       "\t<tr><td>6   </td><td>5   </td><td>20  </td><td>6   </td><td>145 </td><td>175 </td><td>3.6 </td><td>2.8 </td><td>16  </td><td>0.0 </td><td>1.00</td><td>5   </td><td>6.0 </td></tr>\n",
       "\t<tr><td>8   </td><td>5   </td><td>15  </td><td>8   </td><td>326 </td><td>300 </td><td>3.9 </td><td>3.4 </td><td>15  </td><td>0.0 </td><td>1.00</td><td>5   </td><td>6.0 </td></tr>\n",
       "</tbody>\n",
       "</table>\n"
      ],
      "text/latex": [
       "\\begin{tabular}{r|lllllllllllll}\n",
       " Group.1 & Group.2 & mpg & cyl & disp & hp & drat & wt & qsec & vs & am & gear & carb\\\\\n",
       "\\hline\n",
       "\t 4    & 3    & 22   & 4    & 120  &  97  & 3.7  & 2.5  & 20   & 1.0  & 0.00 & 3    & 1.0 \\\\\n",
       "\t 6    & 3    & 20   & 6    & 242  & 108  & 2.9  & 3.3  & 20   & 1.0  & 0.00 & 3    & 1.0 \\\\\n",
       "\t 8    & 3    & 15   & 8    & 358  & 194  & 3.1  & 4.1  & 17   & 0.0  & 0.00 & 3    & 3.1 \\\\\n",
       "\t 4    & 4    & 27   & 4    & 103  &  76  & 4.1  & 2.4  & 20   & 1.0  & 0.75 & 4    & 1.5 \\\\\n",
       "\t 6    & 4    & 20   & 6    & 164  & 116  & 3.9  & 3.1  & 18   & 0.5  & 0.50 & 4    & 4.0 \\\\\n",
       "\t 4    & 5    & 28   & 4    & 108  & 102  & 4.1  & 1.8  & 17   & 0.5  & 1.00 & 5    & 2.0 \\\\\n",
       "\t 6    & 5    & 20   & 6    & 145  & 175  & 3.6  & 2.8  & 16   & 0.0  & 1.00 & 5    & 6.0 \\\\\n",
       "\t 8    & 5    & 15   & 8    & 326  & 300  & 3.9  & 3.4  & 15   & 0.0  & 1.00 & 5    & 6.0 \\\\\n",
       "\\end{tabular}\n"
      ],
      "text/markdown": [
       "\n",
       "Group.1 | Group.2 | mpg | cyl | disp | hp | drat | wt | qsec | vs | am | gear | carb | \n",
       "|---|---|---|---|---|---|---|---|\n",
       "| 4    | 3    | 22   | 4    | 120  |  97  | 3.7  | 2.5  | 20   | 1.0  | 0.00 | 3    | 1.0  | \n",
       "| 6    | 3    | 20   | 6    | 242  | 108  | 2.9  | 3.3  | 20   | 1.0  | 0.00 | 3    | 1.0  | \n",
       "| 8    | 3    | 15   | 8    | 358  | 194  | 3.1  | 4.1  | 17   | 0.0  | 0.00 | 3    | 3.1  | \n",
       "| 4    | 4    | 27   | 4    | 103  |  76  | 4.1  | 2.4  | 20   | 1.0  | 0.75 | 4    | 1.5  | \n",
       "| 6    | 4    | 20   | 6    | 164  | 116  | 3.9  | 3.1  | 18   | 0.5  | 0.50 | 4    | 4.0  | \n",
       "| 4    | 5    | 28   | 4    | 108  | 102  | 4.1  | 1.8  | 17   | 0.5  | 1.00 | 5    | 2.0  | \n",
       "| 6    | 5    | 20   | 6    | 145  | 175  | 3.6  | 2.8  | 16   | 0.0  | 1.00 | 5    | 6.0  | \n",
       "| 8    | 5    | 15   | 8    | 326  | 300  | 3.9  | 3.4  | 15   | 0.0  | 1.00 | 5    | 6.0  | \n",
       "\n",
       "\n"
      ],
      "text/plain": [
       "  Group.1 Group.2 mpg cyl disp hp  drat wt  qsec vs  am   gear carb\n",
       "1 4       3       22  4   120   97 3.7  2.5 20   1.0 0.00 3    1.0 \n",
       "2 6       3       20  6   242  108 2.9  3.3 20   1.0 0.00 3    1.0 \n",
       "3 8       3       15  8   358  194 3.1  4.1 17   0.0 0.00 3    3.1 \n",
       "4 4       4       27  4   103   76 4.1  2.4 20   1.0 0.75 4    1.5 \n",
       "5 6       4       20  6   164  116 3.9  3.1 18   0.5 0.50 4    4.0 \n",
       "6 4       5       28  4   108  102 4.1  1.8 17   0.5 1.00 5    2.0 \n",
       "7 6       5       20  6   145  175 3.6  2.8 16   0.0 1.00 5    6.0 \n",
       "8 8       5       15  8   326  300 3.9  3.4 15   0.0 1.00 5    6.0 "
      ]
     },
     "metadata": {},
     "output_type": "display_data"
    }
   ],
   "source": [
    "aggdata"
   ]
  },
  {
   "cell_type": "code",
   "execution_count": 59,
   "metadata": {},
   "outputs": [],
   "source": [
    "ID <- c(1,1,2,2)"
   ]
  },
  {
   "cell_type": "code",
   "execution_count": 60,
   "metadata": {},
   "outputs": [],
   "source": [
    "Time <- c(1,2,1,2)"
   ]
  },
  {
   "cell_type": "code",
   "execution_count": 61,
   "metadata": {},
   "outputs": [],
   "source": [
    "X1 <- c(5,3,6,2)"
   ]
  },
  {
   "cell_type": "code",
   "execution_count": 62,
   "metadata": {},
   "outputs": [],
   "source": [
    "X2 <- c(6,5,1,4)"
   ]
  },
  {
   "cell_type": "code",
   "execution_count": 63,
   "metadata": {},
   "outputs": [],
   "source": [
    "mydata <- data.frame(ID,Time,X1,X2)"
   ]
  },
  {
   "cell_type": "code",
   "execution_count": 64,
   "metadata": {},
   "outputs": [
    {
     "data": {
      "text/html": [
       "<table>\n",
       "<thead><tr><th scope=col>ID</th><th scope=col>Time</th><th scope=col>X1</th><th scope=col>X2</th></tr></thead>\n",
       "<tbody>\n",
       "\t<tr><td>1</td><td>1</td><td>5</td><td>6</td></tr>\n",
       "\t<tr><td>1</td><td>2</td><td>3</td><td>5</td></tr>\n",
       "\t<tr><td>2</td><td>1</td><td>6</td><td>1</td></tr>\n",
       "\t<tr><td>2</td><td>2</td><td>2</td><td>4</td></tr>\n",
       "</tbody>\n",
       "</table>\n"
      ],
      "text/latex": [
       "\\begin{tabular}{r|llll}\n",
       " ID & Time & X1 & X2\\\\\n",
       "\\hline\n",
       "\t 1 & 1 & 5 & 6\\\\\n",
       "\t 1 & 2 & 3 & 5\\\\\n",
       "\t 2 & 1 & 6 & 1\\\\\n",
       "\t 2 & 2 & 2 & 4\\\\\n",
       "\\end{tabular}\n"
      ],
      "text/markdown": [
       "\n",
       "ID | Time | X1 | X2 | \n",
       "|---|---|---|---|\n",
       "| 1 | 1 | 5 | 6 | \n",
       "| 1 | 2 | 3 | 5 | \n",
       "| 2 | 1 | 6 | 1 | \n",
       "| 2 | 2 | 2 | 4 | \n",
       "\n",
       "\n"
      ],
      "text/plain": [
       "  ID Time X1 X2\n",
       "1 1  1    5  6 \n",
       "2 1  2    3  5 \n",
       "3 2  1    6  1 \n",
       "4 2  2    2  4 "
      ]
     },
     "metadata": {},
     "output_type": "display_data"
    }
   ],
   "source": [
    "mydata"
   ]
  },
  {
   "cell_type": "code",
   "execution_count": 65,
   "metadata": {},
   "outputs": [],
   "source": [
    "library(reshape2)"
   ]
  },
  {
   "cell_type": "code",
   "execution_count": 66,
   "metadata": {},
   "outputs": [],
   "source": [
    "md <- melt(mydata,id=c(\"ID\",\"Time\"))"
   ]
  },
  {
   "cell_type": "code",
   "execution_count": 67,
   "metadata": {},
   "outputs": [
    {
     "data": {
      "text/html": [
       "<table>\n",
       "<thead><tr><th scope=col>ID</th><th scope=col>Time</th><th scope=col>variable</th><th scope=col>value</th></tr></thead>\n",
       "<tbody>\n",
       "\t<tr><td>1 </td><td>1 </td><td>X1</td><td>5 </td></tr>\n",
       "\t<tr><td>1 </td><td>2 </td><td>X1</td><td>3 </td></tr>\n",
       "\t<tr><td>2 </td><td>1 </td><td>X1</td><td>6 </td></tr>\n",
       "\t<tr><td>2 </td><td>2 </td><td>X1</td><td>2 </td></tr>\n",
       "\t<tr><td>1 </td><td>1 </td><td>X2</td><td>6 </td></tr>\n",
       "\t<tr><td>1 </td><td>2 </td><td>X2</td><td>5 </td></tr>\n",
       "\t<tr><td>2 </td><td>1 </td><td>X2</td><td>1 </td></tr>\n",
       "\t<tr><td>2 </td><td>2 </td><td>X2</td><td>4 </td></tr>\n",
       "</tbody>\n",
       "</table>\n"
      ],
      "text/latex": [
       "\\begin{tabular}{r|llll}\n",
       " ID & Time & variable & value\\\\\n",
       "\\hline\n",
       "\t 1  & 1  & X1 & 5 \\\\\n",
       "\t 1  & 2  & X1 & 3 \\\\\n",
       "\t 2  & 1  & X1 & 6 \\\\\n",
       "\t 2  & 2  & X1 & 2 \\\\\n",
       "\t 1  & 1  & X2 & 6 \\\\\n",
       "\t 1  & 2  & X2 & 5 \\\\\n",
       "\t 2  & 1  & X2 & 1 \\\\\n",
       "\t 2  & 2  & X2 & 4 \\\\\n",
       "\\end{tabular}\n"
      ],
      "text/markdown": [
       "\n",
       "ID | Time | variable | value | \n",
       "|---|---|---|---|---|---|---|---|\n",
       "| 1  | 1  | X1 | 5  | \n",
       "| 1  | 2  | X1 | 3  | \n",
       "| 2  | 1  | X1 | 6  | \n",
       "| 2  | 2  | X1 | 2  | \n",
       "| 1  | 1  | X2 | 6  | \n",
       "| 1  | 2  | X2 | 5  | \n",
       "| 2  | 1  | X2 | 1  | \n",
       "| 2  | 2  | X2 | 4  | \n",
       "\n",
       "\n"
      ],
      "text/plain": [
       "  ID Time variable value\n",
       "1 1  1    X1       5    \n",
       "2 1  2    X1       3    \n",
       "3 2  1    X1       6    \n",
       "4 2  2    X1       2    \n",
       "5 1  1    X2       6    \n",
       "6 1  2    X2       5    \n",
       "7 2  1    X2       1    \n",
       "8 2  2    X2       4    "
      ]
     },
     "metadata": {},
     "output_type": "display_data"
    }
   ],
   "source": [
    "md"
   ]
  },
  {
   "cell_type": "code",
   "execution_count": null,
   "metadata": {},
   "outputs": [],
   "source": []
  },
  {
   "cell_type": "code",
   "execution_count": null,
   "metadata": {},
   "outputs": [],
   "source": []
  },
  {
   "cell_type": "code",
   "execution_count": null,
   "metadata": {},
   "outputs": [],
   "source": []
  },
  {
   "cell_type": "code",
   "execution_count": null,
   "metadata": {},
   "outputs": [],
   "source": []
  },
  {
   "cell_type": "code",
   "execution_count": null,
   "metadata": {},
   "outputs": [],
   "source": []
  },
  {
   "cell_type": "code",
   "execution_count": null,
   "metadata": {},
   "outputs": [],
   "source": []
  }
 ],
 "metadata": {
  "kernelspec": {
   "display_name": "R",
   "language": "R",
   "name": "ir"
  }
 },
 "nbformat": 4,
 "nbformat_minor": 2
}
