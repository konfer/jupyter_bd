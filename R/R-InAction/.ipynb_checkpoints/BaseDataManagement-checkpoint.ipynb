{
 "cells": [
  {
   "cell_type": "code",
   "execution_count": 1,
   "metadata": {},
   "outputs": [],
   "source": [
    "manager <- c(1,2,3,4,5)"
   ]
  },
  {
   "cell_type": "code",
   "execution_count": 2,
   "metadata": {},
   "outputs": [],
   "source": [
    "date <- c(\"10/24/08\",\"10/28/08\",\"10/1/08\",\n",
    "          \"10/12/08\",\"5/1/09\")"
   ]
  },
  {
   "cell_type": "code",
   "execution_count": 3,
   "metadata": {},
   "outputs": [],
   "source": [
    "country <- c(\"US\",\"US\",\"UK\",\"UK\",\"UK\")"
   ]
  },
  {
   "cell_type": "code",
   "execution_count": 4,
   "metadata": {},
   "outputs": [],
   "source": [
    "gender <- c(\"M\", \"F\", \"F\", \"M\", \"F\") \n",
    "age <- c(32, 45, 25, 39, 99) \n",
    "q1 <- c(5, 3, 3, 3, 2) \n",
    "q2 <- c(4, 5, 5, 3, 2) \n",
    "q3 <- c(5, 2, 5, 4, 1) \n",
    "q4 <- c(5, 5, 5, NA, 2) \n",
    "q5 <- c(5, 5, 2, NA, 1) \n",
    "leadership <- data.frame(manager, date, country, gender, age,q1,q2,q3,q4,q5,stringsAsFactors=FALSE)"
   ]
  },
  {
   "cell_type": "code",
   "execution_count": 5,
   "metadata": {},
   "outputs": [
    {
     "data": {
      "text/html": [
       "<table>\n",
       "<thead><tr><th scope=col>manager</th><th scope=col>date</th><th scope=col>country</th><th scope=col>gender</th><th scope=col>age</th><th scope=col>q1</th><th scope=col>q2</th><th scope=col>q3</th><th scope=col>q4</th><th scope=col>q5</th></tr></thead>\n",
       "<tbody>\n",
       "\t<tr><td>1       </td><td>10/24/08</td><td>US      </td><td>M       </td><td>32      </td><td>5       </td><td>4       </td><td>5       </td><td> 5      </td><td> 5      </td></tr>\n",
       "\t<tr><td>2       </td><td>10/28/08</td><td>US      </td><td>F       </td><td>45      </td><td>3       </td><td>5       </td><td>2       </td><td> 5      </td><td> 5      </td></tr>\n",
       "\t<tr><td>3       </td><td>10/1/08 </td><td>UK      </td><td>F       </td><td>25      </td><td>3       </td><td>5       </td><td>5       </td><td> 5      </td><td> 2      </td></tr>\n",
       "\t<tr><td>4       </td><td>10/12/08</td><td>UK      </td><td>M       </td><td>39      </td><td>3       </td><td>3       </td><td>4       </td><td>NA      </td><td>NA      </td></tr>\n",
       "\t<tr><td>5       </td><td>5/1/09  </td><td>UK      </td><td>F       </td><td>99      </td><td>2       </td><td>2       </td><td>1       </td><td> 2      </td><td> 1      </td></tr>\n",
       "</tbody>\n",
       "</table>\n"
      ],
      "text/latex": [
       "\\begin{tabular}{r|llllllllll}\n",
       " manager & date & country & gender & age & q1 & q2 & q3 & q4 & q5\\\\\n",
       "\\hline\n",
       "\t 1        & 10/24/08 & US       & M        & 32       & 5        & 4        & 5        &  5       &  5      \\\\\n",
       "\t 2        & 10/28/08 & US       & F        & 45       & 3        & 5        & 2        &  5       &  5      \\\\\n",
       "\t 3        & 10/1/08  & UK       & F        & 25       & 3        & 5        & 5        &  5       &  2      \\\\\n",
       "\t 4        & 10/12/08 & UK       & M        & 39       & 3        & 3        & 4        & NA       & NA      \\\\\n",
       "\t 5        & 5/1/09   & UK       & F        & 99       & 2        & 2        & 1        &  2       &  1      \\\\\n",
       "\\end{tabular}\n"
      ],
      "text/markdown": [
       "\n",
       "manager | date | country | gender | age | q1 | q2 | q3 | q4 | q5 | \n",
       "|---|---|---|---|---|\n",
       "| 1        | 10/24/08 | US       | M        | 32       | 5        | 4        | 5        |  5       |  5       | \n",
       "| 2        | 10/28/08 | US       | F        | 45       | 3        | 5        | 2        |  5       |  5       | \n",
       "| 3        | 10/1/08  | UK       | F        | 25       | 3        | 5        | 5        |  5       |  2       | \n",
       "| 4        | 10/12/08 | UK       | M        | 39       | 3        | 3        | 4        | NA       | NA       | \n",
       "| 5        | 5/1/09   | UK       | F        | 99       | 2        | 2        | 1        |  2       |  1       | \n",
       "\n",
       "\n"
      ],
      "text/plain": [
       "  manager date     country gender age q1 q2 q3 q4 q5\n",
       "1 1       10/24/08 US      M      32  5  4  5   5  5\n",
       "2 2       10/28/08 US      F      45  3  5  2   5  5\n",
       "3 3       10/1/08  UK      F      25  3  5  5   5  2\n",
       "4 4       10/12/08 UK      M      39  3  3  4  NA NA\n",
       "5 5       5/1/09   UK      F      99  2  2  1   2  1"
      ]
     },
     "metadata": {},
     "output_type": "display_data"
    }
   ],
   "source": [
    "leadership"
   ]
  },
  {
   "cell_type": "code",
   "execution_count": 6,
   "metadata": {},
   "outputs": [],
   "source": [
    "leadership$age[leadership$age == 99] <- NA"
   ]
  },
  {
   "cell_type": "code",
   "execution_count": 7,
   "metadata": {},
   "outputs": [
    {
     "data": {
      "text/html": [
       "<table>\n",
       "<thead><tr><th scope=col>manager</th><th scope=col>date</th><th scope=col>country</th><th scope=col>gender</th><th scope=col>age</th><th scope=col>q1</th><th scope=col>q2</th><th scope=col>q3</th><th scope=col>q4</th><th scope=col>q5</th></tr></thead>\n",
       "<tbody>\n",
       "\t<tr><td>1       </td><td>10/24/08</td><td>US      </td><td>M       </td><td>32      </td><td>5       </td><td>4       </td><td>5       </td><td> 5      </td><td> 5      </td></tr>\n",
       "\t<tr><td>2       </td><td>10/28/08</td><td>US      </td><td>F       </td><td>45      </td><td>3       </td><td>5       </td><td>2       </td><td> 5      </td><td> 5      </td></tr>\n",
       "\t<tr><td>3       </td><td>10/1/08 </td><td>UK      </td><td>F       </td><td>25      </td><td>3       </td><td>5       </td><td>5       </td><td> 5      </td><td> 2      </td></tr>\n",
       "\t<tr><td>4       </td><td>10/12/08</td><td>UK      </td><td>M       </td><td>39      </td><td>3       </td><td>3       </td><td>4       </td><td>NA      </td><td>NA      </td></tr>\n",
       "\t<tr><td>5       </td><td>5/1/09  </td><td>UK      </td><td>F       </td><td>NA      </td><td>2       </td><td>2       </td><td>1       </td><td> 2      </td><td> 1      </td></tr>\n",
       "</tbody>\n",
       "</table>\n"
      ],
      "text/latex": [
       "\\begin{tabular}{r|llllllllll}\n",
       " manager & date & country & gender & age & q1 & q2 & q3 & q4 & q5\\\\\n",
       "\\hline\n",
       "\t 1        & 10/24/08 & US       & M        & 32       & 5        & 4        & 5        &  5       &  5      \\\\\n",
       "\t 2        & 10/28/08 & US       & F        & 45       & 3        & 5        & 2        &  5       &  5      \\\\\n",
       "\t 3        & 10/1/08  & UK       & F        & 25       & 3        & 5        & 5        &  5       &  2      \\\\\n",
       "\t 4        & 10/12/08 & UK       & M        & 39       & 3        & 3        & 4        & NA       & NA      \\\\\n",
       "\t 5        & 5/1/09   & UK       & F        & NA       & 2        & 2        & 1        &  2       &  1      \\\\\n",
       "\\end{tabular}\n"
      ],
      "text/markdown": [
       "\n",
       "manager | date | country | gender | age | q1 | q2 | q3 | q4 | q5 | \n",
       "|---|---|---|---|---|\n",
       "| 1        | 10/24/08 | US       | M        | 32       | 5        | 4        | 5        |  5       |  5       | \n",
       "| 2        | 10/28/08 | US       | F        | 45       | 3        | 5        | 2        |  5       |  5       | \n",
       "| 3        | 10/1/08  | UK       | F        | 25       | 3        | 5        | 5        |  5       |  2       | \n",
       "| 4        | 10/12/08 | UK       | M        | 39       | 3        | 3        | 4        | NA       | NA       | \n",
       "| 5        | 5/1/09   | UK       | F        | NA       | 2        | 2        | 1        |  2       |  1       | \n",
       "\n",
       "\n"
      ],
      "text/plain": [
       "  manager date     country gender age q1 q2 q3 q4 q5\n",
       "1 1       10/24/08 US      M      32  5  4  5   5  5\n",
       "2 2       10/28/08 US      F      45  3  5  2   5  5\n",
       "3 3       10/1/08  UK      F      25  3  5  5   5  2\n",
       "4 4       10/12/08 UK      M      39  3  3  4  NA NA\n",
       "5 5       5/1/09   UK      F      NA  2  2  1   2  1"
      ]
     },
     "metadata": {},
     "output_type": "display_data"
    }
   ],
   "source": [
    "leadership"
   ]
  },
  {
   "cell_type": "code",
   "execution_count": 8,
   "metadata": {},
   "outputs": [],
   "source": [
    "leadership$agecat[leadership$age  > 75]  <- \"Elder\" \n",
    "leadership$agecat[leadership$age >= 55 & leadership$age <= 75]  <- \"Middle Aged\" \n",
    "leadership$agecat[leadership$age  < 55]  <- \"Young\""
   ]
  },
  {
   "cell_type": "code",
   "execution_count": 9,
   "metadata": {},
   "outputs": [
    {
     "data": {
      "text/html": [
       "<table>\n",
       "<thead><tr><th scope=col>manager</th><th scope=col>date</th><th scope=col>country</th><th scope=col>gender</th><th scope=col>age</th><th scope=col>q1</th><th scope=col>q2</th><th scope=col>q3</th><th scope=col>q4</th><th scope=col>q5</th><th scope=col>agecat</th></tr></thead>\n",
       "<tbody>\n",
       "\t<tr><td>1       </td><td>10/24/08</td><td>US      </td><td>M       </td><td>32      </td><td>5       </td><td>4       </td><td>5       </td><td> 5      </td><td> 5      </td><td>Young   </td></tr>\n",
       "\t<tr><td>2       </td><td>10/28/08</td><td>US      </td><td>F       </td><td>45      </td><td>3       </td><td>5       </td><td>2       </td><td> 5      </td><td> 5      </td><td>Young   </td></tr>\n",
       "\t<tr><td>3       </td><td>10/1/08 </td><td>UK      </td><td>F       </td><td>25      </td><td>3       </td><td>5       </td><td>5       </td><td> 5      </td><td> 2      </td><td>Young   </td></tr>\n",
       "\t<tr><td>4       </td><td>10/12/08</td><td>UK      </td><td>M       </td><td>39      </td><td>3       </td><td>3       </td><td>4       </td><td>NA      </td><td>NA      </td><td>Young   </td></tr>\n",
       "\t<tr><td>5       </td><td>5/1/09  </td><td>UK      </td><td>F       </td><td>NA      </td><td>2       </td><td>2       </td><td>1       </td><td> 2      </td><td> 1      </td><td>NA      </td></tr>\n",
       "</tbody>\n",
       "</table>\n"
      ],
      "text/latex": [
       "\\begin{tabular}{r|lllllllllll}\n",
       " manager & date & country & gender & age & q1 & q2 & q3 & q4 & q5 & agecat\\\\\n",
       "\\hline\n",
       "\t 1        & 10/24/08 & US       & M        & 32       & 5        & 4        & 5        &  5       &  5       & Young   \\\\\n",
       "\t 2        & 10/28/08 & US       & F        & 45       & 3        & 5        & 2        &  5       &  5       & Young   \\\\\n",
       "\t 3        & 10/1/08  & UK       & F        & 25       & 3        & 5        & 5        &  5       &  2       & Young   \\\\\n",
       "\t 4        & 10/12/08 & UK       & M        & 39       & 3        & 3        & 4        & NA       & NA       & Young   \\\\\n",
       "\t 5        & 5/1/09   & UK       & F        & NA       & 2        & 2        & 1        &  2       &  1       & NA      \\\\\n",
       "\\end{tabular}\n"
      ],
      "text/markdown": [
       "\n",
       "manager | date | country | gender | age | q1 | q2 | q3 | q4 | q5 | agecat | \n",
       "|---|---|---|---|---|\n",
       "| 1        | 10/24/08 | US       | M        | 32       | 5        | 4        | 5        |  5       |  5       | Young    | \n",
       "| 2        | 10/28/08 | US       | F        | 45       | 3        | 5        | 2        |  5       |  5       | Young    | \n",
       "| 3        | 10/1/08  | UK       | F        | 25       | 3        | 5        | 5        |  5       |  2       | Young    | \n",
       "| 4        | 10/12/08 | UK       | M        | 39       | 3        | 3        | 4        | NA       | NA       | Young    | \n",
       "| 5        | 5/1/09   | UK       | F        | NA       | 2        | 2        | 1        |  2       |  1       | NA       | \n",
       "\n",
       "\n"
      ],
      "text/plain": [
       "  manager date     country gender age q1 q2 q3 q4 q5 agecat\n",
       "1 1       10/24/08 US      M      32  5  4  5   5  5 Young \n",
       "2 2       10/28/08 US      F      45  3  5  2   5  5 Young \n",
       "3 3       10/1/08  UK      F      25  3  5  5   5  2 Young \n",
       "4 4       10/12/08 UK      M      39  3  3  4  NA NA Young \n",
       "5 5       5/1/09   UK      F      NA  2  2  1   2  1 NA    "
      ]
     },
     "metadata": {},
     "output_type": "display_data"
    }
   ],
   "source": [
    "leadership"
   ]
  },
  {
   "cell_type": "code",
   "execution_count": 10,
   "metadata": {},
   "outputs": [
    {
     "data": {
      "text/html": [
       "<ol class=list-inline>\n",
       "\t<li>'manager'</li>\n",
       "\t<li>'date'</li>\n",
       "\t<li>'country'</li>\n",
       "\t<li>'gender'</li>\n",
       "\t<li>'age'</li>\n",
       "\t<li>'q1'</li>\n",
       "\t<li>'q2'</li>\n",
       "\t<li>'q3'</li>\n",
       "\t<li>'q4'</li>\n",
       "\t<li>'q5'</li>\n",
       "\t<li>'agecat'</li>\n",
       "</ol>\n"
      ],
      "text/latex": [
       "\\begin{enumerate*}\n",
       "\\item 'manager'\n",
       "\\item 'date'\n",
       "\\item 'country'\n",
       "\\item 'gender'\n",
       "\\item 'age'\n",
       "\\item 'q1'\n",
       "\\item 'q2'\n",
       "\\item 'q3'\n",
       "\\item 'q4'\n",
       "\\item 'q5'\n",
       "\\item 'agecat'\n",
       "\\end{enumerate*}\n"
      ],
      "text/markdown": [
       "1. 'manager'\n",
       "2. 'date'\n",
       "3. 'country'\n",
       "4. 'gender'\n",
       "5. 'age'\n",
       "6. 'q1'\n",
       "7. 'q2'\n",
       "8. 'q3'\n",
       "9. 'q4'\n",
       "10. 'q5'\n",
       "11. 'agecat'\n",
       "\n",
       "\n"
      ],
      "text/plain": [
       " [1] \"manager\" \"date\"    \"country\" \"gender\"  \"age\"     \"q1\"      \"q2\"     \n",
       " [8] \"q3\"      \"q4\"      \"q5\"      \"agecat\" "
      ]
     },
     "metadata": {},
     "output_type": "display_data"
    }
   ],
   "source": [
    "names(leadership)"
   ]
  },
  {
   "cell_type": "code",
   "execution_count": 11,
   "metadata": {},
   "outputs": [
    {
     "data": {
      "text/html": [
       "<table>\n",
       "<thead><tr><th scope=col>Package</th><th scope=col>LibPath</th><th scope=col>Version</th><th scope=col>Priority</th><th scope=col>Depends</th><th scope=col>Imports</th><th scope=col>LinkingTo</th><th scope=col>Suggests</th><th scope=col>Enhances</th><th scope=col>License</th><th scope=col>License_is_FOSS</th><th scope=col>License_restricts_use</th><th scope=col>OS_type</th><th scope=col>Archs</th><th scope=col>MD5sum</th><th scope=col>NeedsCompilation</th><th scope=col>Built</th></tr></thead>\n",
       "<tbody>\n",
       "</tbody>\n",
       "</table>\n"
      ],
      "text/latex": [
       "\\begin{tabular}{lllllllllllllllll}\n",
       " Package & LibPath & Version & Priority & Depends & Imports & LinkingTo & Suggests & Enhances & License & License\\_is\\_FOSS & License\\_restricts\\_use & OS\\_type & Archs & MD5sum & NeedsCompilation & Built\\\\\n",
       "\\hline\n",
       "\\end{tabular}\n"
      ],
      "text/markdown": [
       "\n",
       "Package | LibPath | Version | Priority | Depends | Imports | LinkingTo | Suggests | Enhances | License | License_is_FOSS | License_restricts_use | OS_type | Archs | MD5sum | NeedsCompilation | Built | \n",
       "||\n",
       "\n",
       "\n"
      ],
      "text/plain": [
       "     Package LibPath Version Priority Depends Imports LinkingTo Suggests\n",
       "     Enhances License License_is_FOSS License_restricts_use OS_type Archs\n",
       "     MD5sum NeedsCompilation Built"
      ]
     },
     "metadata": {},
     "output_type": "display_data"
    }
   ],
   "source": [
    "installed.packages(\"plyr\")"
   ]
  },
  {
   "cell_type": "code",
   "execution_count": 12,
   "metadata": {},
   "outputs": [],
   "source": [
    "x <- c(1,2,NA,3)"
   ]
  },
  {
   "cell_type": "code",
   "execution_count": 13,
   "metadata": {},
   "outputs": [],
   "source": [
    "y <- sum(x,na.rm=TRUE)"
   ]
  },
  {
   "cell_type": "code",
   "execution_count": 14,
   "metadata": {},
   "outputs": [
    {
     "data": {
      "text/html": [
       "6"
      ],
      "text/latex": [
       "6"
      ],
      "text/markdown": [
       "6"
      ],
      "text/plain": [
       "[1] 6"
      ]
     },
     "metadata": {},
     "output_type": "display_data"
    }
   ],
   "source": [
    "y"
   ]
  },
  {
   "cell_type": "code",
   "execution_count": 15,
   "metadata": {},
   "outputs": [],
   "source": [
    "newDate <- na.omit(leadership)"
   ]
  },
  {
   "cell_type": "code",
   "execution_count": 16,
   "metadata": {},
   "outputs": [
    {
     "data": {
      "text/html": [
       "<table>\n",
       "<thead><tr><th scope=col>manager</th><th scope=col>date</th><th scope=col>country</th><th scope=col>gender</th><th scope=col>age</th><th scope=col>q1</th><th scope=col>q2</th><th scope=col>q3</th><th scope=col>q4</th><th scope=col>q5</th><th scope=col>agecat</th></tr></thead>\n",
       "<tbody>\n",
       "\t<tr><td>1       </td><td>10/24/08</td><td>US      </td><td>M       </td><td>32      </td><td>5       </td><td>4       </td><td>5       </td><td>5       </td><td>5       </td><td>Young   </td></tr>\n",
       "\t<tr><td>2       </td><td>10/28/08</td><td>US      </td><td>F       </td><td>45      </td><td>3       </td><td>5       </td><td>2       </td><td>5       </td><td>5       </td><td>Young   </td></tr>\n",
       "\t<tr><td>3       </td><td>10/1/08 </td><td>UK      </td><td>F       </td><td>25      </td><td>3       </td><td>5       </td><td>5       </td><td>5       </td><td>2       </td><td>Young   </td></tr>\n",
       "</tbody>\n",
       "</table>\n"
      ],
      "text/latex": [
       "\\begin{tabular}{r|lllllllllll}\n",
       " manager & date & country & gender & age & q1 & q2 & q3 & q4 & q5 & agecat\\\\\n",
       "\\hline\n",
       "\t 1        & 10/24/08 & US       & M        & 32       & 5        & 4        & 5        & 5        & 5        & Young   \\\\\n",
       "\t 2        & 10/28/08 & US       & F        & 45       & 3        & 5        & 2        & 5        & 5        & Young   \\\\\n",
       "\t 3        & 10/1/08  & UK       & F        & 25       & 3        & 5        & 5        & 5        & 2        & Young   \\\\\n",
       "\\end{tabular}\n"
      ],
      "text/markdown": [
       "\n",
       "manager | date | country | gender | age | q1 | q2 | q3 | q4 | q5 | agecat | \n",
       "|---|---|---|\n",
       "| 1        | 10/24/08 | US       | M        | 32       | 5        | 4        | 5        | 5        | 5        | Young    | \n",
       "| 2        | 10/28/08 | US       | F        | 45       | 3        | 5        | 2        | 5        | 5        | Young    | \n",
       "| 3        | 10/1/08  | UK       | F        | 25       | 3        | 5        | 5        | 5        | 2        | Young    | \n",
       "\n",
       "\n"
      ],
      "text/plain": [
       "  manager date     country gender age q1 q2 q3 q4 q5 agecat\n",
       "1 1       10/24/08 US      M      32  5  4  5  5  5  Young \n",
       "2 2       10/28/08 US      F      45  3  5  2  5  5  Young \n",
       "3 3       10/1/08  UK      F      25  3  5  5  5  2  Young "
      ]
     },
     "metadata": {},
     "output_type": "display_data"
    }
   ],
   "source": [
    "newDate"
   ]
  },
  {
   "cell_type": "code",
   "execution_count": 17,
   "metadata": {},
   "outputs": [],
   "source": [
    "myDates <- as.Date(c(\"2007-06-22\",\"2014-02-13\"))"
   ]
  },
  {
   "cell_type": "code",
   "execution_count": 18,
   "metadata": {},
   "outputs": [
    {
     "data": {
      "text/html": [
       "<ol class=list-inline>\n",
       "\t<li><time datetime=\"2007-06-22\">2007-06-22</time></li>\n",
       "\t<li><time datetime=\"2014-02-13\">2014-02-13</time></li>\n",
       "</ol>\n"
      ],
      "text/latex": [
       "\\begin{enumerate*}\n",
       "\\item 2007-06-22\n",
       "\\item 2014-02-13\n",
       "\\end{enumerate*}\n"
      ],
      "text/markdown": [
       "1. 2007-06-22\n",
       "2. 2014-02-13\n",
       "\n",
       "\n"
      ],
      "text/plain": [
       "[1] \"2007-06-22\" \"2014-02-13\""
      ]
     },
     "metadata": {},
     "output_type": "display_data"
    }
   ],
   "source": [
    "myDates"
   ]
  },
  {
   "cell_type": "code",
   "execution_count": 19,
   "metadata": {},
   "outputs": [],
   "source": [
    "myFormat <- \"%m/%d/%y\""
   ]
  },
  {
   "cell_type": "code",
   "execution_count": 20,
   "metadata": {},
   "outputs": [],
   "source": [
    "leadership$date <- as.Date(leadership$date,myFormat)"
   ]
  },
  {
   "cell_type": "code",
   "execution_count": 21,
   "metadata": {},
   "outputs": [
    {
     "data": {
      "text/html": [
       "<table>\n",
       "<thead><tr><th scope=col>manager</th><th scope=col>date</th><th scope=col>country</th><th scope=col>gender</th><th scope=col>age</th><th scope=col>q1</th><th scope=col>q2</th><th scope=col>q3</th><th scope=col>q4</th><th scope=col>q5</th><th scope=col>agecat</th></tr></thead>\n",
       "<tbody>\n",
       "\t<tr><td>1         </td><td>2008-10-24</td><td>US        </td><td>M         </td><td>32        </td><td>5         </td><td>4         </td><td>5         </td><td> 5        </td><td> 5        </td><td>Young     </td></tr>\n",
       "\t<tr><td>2         </td><td>2008-10-28</td><td>US        </td><td>F         </td><td>45        </td><td>3         </td><td>5         </td><td>2         </td><td> 5        </td><td> 5        </td><td>Young     </td></tr>\n",
       "\t<tr><td>3         </td><td>2008-10-01</td><td>UK        </td><td>F         </td><td>25        </td><td>3         </td><td>5         </td><td>5         </td><td> 5        </td><td> 2        </td><td>Young     </td></tr>\n",
       "\t<tr><td>4         </td><td>2008-10-12</td><td>UK        </td><td>M         </td><td>39        </td><td>3         </td><td>3         </td><td>4         </td><td>NA        </td><td>NA        </td><td>Young     </td></tr>\n",
       "\t<tr><td>5         </td><td>2009-05-01</td><td>UK        </td><td>F         </td><td>NA        </td><td>2         </td><td>2         </td><td>1         </td><td> 2        </td><td> 1        </td><td>NA        </td></tr>\n",
       "</tbody>\n",
       "</table>\n"
      ],
      "text/latex": [
       "\\begin{tabular}{r|lllllllllll}\n",
       " manager & date & country & gender & age & q1 & q2 & q3 & q4 & q5 & agecat\\\\\n",
       "\\hline\n",
       "\t 1          & 2008-10-24 & US         & M          & 32         & 5          & 4          & 5          &  5         &  5         & Young     \\\\\n",
       "\t 2          & 2008-10-28 & US         & F          & 45         & 3          & 5          & 2          &  5         &  5         & Young     \\\\\n",
       "\t 3          & 2008-10-01 & UK         & F          & 25         & 3          & 5          & 5          &  5         &  2         & Young     \\\\\n",
       "\t 4          & 2008-10-12 & UK         & M          & 39         & 3          & 3          & 4          & NA         & NA         & Young     \\\\\n",
       "\t 5          & 2009-05-01 & UK         & F          & NA         & 2          & 2          & 1          &  2         &  1         & NA        \\\\\n",
       "\\end{tabular}\n"
      ],
      "text/markdown": [
       "\n",
       "manager | date | country | gender | age | q1 | q2 | q3 | q4 | q5 | agecat | \n",
       "|---|---|---|---|---|\n",
       "| 1          | 2008-10-24 | US         | M          | 32         | 5          | 4          | 5          |  5         |  5         | Young      | \n",
       "| 2          | 2008-10-28 | US         | F          | 45         | 3          | 5          | 2          |  5         |  5         | Young      | \n",
       "| 3          | 2008-10-01 | UK         | F          | 25         | 3          | 5          | 5          |  5         |  2         | Young      | \n",
       "| 4          | 2008-10-12 | UK         | M          | 39         | 3          | 3          | 4          | NA         | NA         | Young      | \n",
       "| 5          | 2009-05-01 | UK         | F          | NA         | 2          | 2          | 1          |  2         |  1         | NA         | \n",
       "\n",
       "\n"
      ],
      "text/plain": [
       "  manager date       country gender age q1 q2 q3 q4 q5 agecat\n",
       "1 1       2008-10-24 US      M      32  5  4  5   5  5 Young \n",
       "2 2       2008-10-28 US      F      45  3  5  2   5  5 Young \n",
       "3 3       2008-10-01 UK      F      25  3  5  5   5  2 Young \n",
       "4 4       2008-10-12 UK      M      39  3  3  4  NA NA Young \n",
       "5 5       2009-05-01 UK      F      NA  2  2  1   2  1 NA    "
      ]
     },
     "metadata": {},
     "output_type": "display_data"
    }
   ],
   "source": [
    "leadership"
   ]
  },
  {
   "cell_type": "code",
   "execution_count": 22,
   "metadata": {},
   "outputs": [
    {
     "data": {
      "text/html": [
       "<time datetime=\"2018-04-25\">2018-04-25</time>"
      ],
      "text/latex": [
       "2018-04-25"
      ],
      "text/markdown": [
       "2018-04-25"
      ],
      "text/plain": [
       "[1] \"2018-04-25\""
      ]
     },
     "metadata": {},
     "output_type": "display_data"
    }
   ],
   "source": [
    "Sys.Date()"
   ]
  },
  {
   "cell_type": "code",
   "execution_count": 23,
   "metadata": {},
   "outputs": [
    {
     "data": {
      "text/html": [
       "'Wed Apr 25 06:20:39 2018'"
      ],
      "text/latex": [
       "'Wed Apr 25 06:20:39 2018'"
      ],
      "text/markdown": [
       "'Wed Apr 25 06:20:39 2018'"
      ],
      "text/plain": [
       "[1] \"Wed Apr 25 06:20:39 2018\""
      ]
     },
     "metadata": {},
     "output_type": "display_data"
    }
   ],
   "source": [
    "date()"
   ]
  },
  {
   "cell_type": "code",
   "execution_count": 24,
   "metadata": {},
   "outputs": [],
   "source": [
    "orderData <- leadership[order(leadership$age),]"
   ]
  },
  {
   "cell_type": "code",
   "execution_count": 25,
   "metadata": {},
   "outputs": [
    {
     "data": {
      "text/html": [
       "<table>\n",
       "<thead><tr><th></th><th scope=col>manager</th><th scope=col>date</th><th scope=col>country</th><th scope=col>gender</th><th scope=col>age</th><th scope=col>q1</th><th scope=col>q2</th><th scope=col>q3</th><th scope=col>q4</th><th scope=col>q5</th><th scope=col>agecat</th></tr></thead>\n",
       "<tbody>\n",
       "\t<tr><th scope=row>3</th><td>3         </td><td>2008-10-01</td><td>UK        </td><td>F         </td><td>25        </td><td>3         </td><td>5         </td><td>5         </td><td> 5        </td><td> 2        </td><td>Young     </td></tr>\n",
       "\t<tr><th scope=row>1</th><td>1         </td><td>2008-10-24</td><td>US        </td><td>M         </td><td>32        </td><td>5         </td><td>4         </td><td>5         </td><td> 5        </td><td> 5        </td><td>Young     </td></tr>\n",
       "\t<tr><th scope=row>4</th><td>4         </td><td>2008-10-12</td><td>UK        </td><td>M         </td><td>39        </td><td>3         </td><td>3         </td><td>4         </td><td>NA        </td><td>NA        </td><td>Young     </td></tr>\n",
       "\t<tr><th scope=row>2</th><td>2         </td><td>2008-10-28</td><td>US        </td><td>F         </td><td>45        </td><td>3         </td><td>5         </td><td>2         </td><td> 5        </td><td> 5        </td><td>Young     </td></tr>\n",
       "\t<tr><th scope=row>5</th><td>5         </td><td>2009-05-01</td><td>UK        </td><td>F         </td><td>NA        </td><td>2         </td><td>2         </td><td>1         </td><td> 2        </td><td> 1        </td><td>NA        </td></tr>\n",
       "</tbody>\n",
       "</table>\n"
      ],
      "text/latex": [
       "\\begin{tabular}{r|lllllllllll}\n",
       "  & manager & date & country & gender & age & q1 & q2 & q3 & q4 & q5 & agecat\\\\\n",
       "\\hline\n",
       "\t3 & 3          & 2008-10-01 & UK         & F          & 25         & 3          & 5          & 5          &  5         &  2         & Young     \\\\\n",
       "\t1 & 1          & 2008-10-24 & US         & M          & 32         & 5          & 4          & 5          &  5         &  5         & Young     \\\\\n",
       "\t4 & 4          & 2008-10-12 & UK         & M          & 39         & 3          & 3          & 4          & NA         & NA         & Young     \\\\\n",
       "\t2 & 2          & 2008-10-28 & US         & F          & 45         & 3          & 5          & 2          &  5         &  5         & Young     \\\\\n",
       "\t5 & 5          & 2009-05-01 & UK         & F          & NA         & 2          & 2          & 1          &  2         &  1         & NA        \\\\\n",
       "\\end{tabular}\n"
      ],
      "text/markdown": [
       "\n",
       "| <!--/--> | manager | date | country | gender | age | q1 | q2 | q3 | q4 | q5 | agecat | \n",
       "|---|---|---|---|---|\n",
       "| 3 | 3          | 2008-10-01 | UK         | F          | 25         | 3          | 5          | 5          |  5         |  2         | Young      | \n",
       "| 1 | 1          | 2008-10-24 | US         | M          | 32         | 5          | 4          | 5          |  5         |  5         | Young      | \n",
       "| 4 | 4          | 2008-10-12 | UK         | M          | 39         | 3          | 3          | 4          | NA         | NA         | Young      | \n",
       "| 2 | 2          | 2008-10-28 | US         | F          | 45         | 3          | 5          | 2          |  5         |  5         | Young      | \n",
       "| 5 | 5          | 2009-05-01 | UK         | F          | NA         | 2          | 2          | 1          |  2         |  1         | NA         | \n",
       "\n",
       "\n"
      ],
      "text/plain": [
       "  manager date       country gender age q1 q2 q3 q4 q5 agecat\n",
       "3 3       2008-10-01 UK      F      25  3  5  5   5  2 Young \n",
       "1 1       2008-10-24 US      M      32  5  4  5   5  5 Young \n",
       "4 4       2008-10-12 UK      M      39  3  3  4  NA NA Young \n",
       "2 2       2008-10-28 US      F      45  3  5  2   5  5 Young \n",
       "5 5       2009-05-01 UK      F      NA  2  2  1   2  1 NA    "
      ]
     },
     "metadata": {},
     "output_type": "display_data"
    }
   ],
   "source": [
    "orderData"
   ]
  },
  {
   "cell_type": "code",
   "execution_count": 28,
   "metadata": {},
   "outputs": [],
   "source": [
    "newData <- leadership[,c(6:10)]"
   ]
  },
  {
   "cell_type": "code",
   "execution_count": 29,
   "metadata": {},
   "outputs": [
    {
     "data": {
      "text/html": [
       "<table>\n",
       "<thead><tr><th scope=col>q1</th><th scope=col>q2</th><th scope=col>q3</th><th scope=col>q4</th><th scope=col>q5</th></tr></thead>\n",
       "<tbody>\n",
       "\t<tr><td>5 </td><td>4 </td><td>5 </td><td> 5</td><td> 5</td></tr>\n",
       "\t<tr><td>3 </td><td>5 </td><td>2 </td><td> 5</td><td> 5</td></tr>\n",
       "\t<tr><td>3 </td><td>5 </td><td>5 </td><td> 5</td><td> 2</td></tr>\n",
       "\t<tr><td>3 </td><td>3 </td><td>4 </td><td>NA</td><td>NA</td></tr>\n",
       "\t<tr><td>2 </td><td>2 </td><td>1 </td><td> 2</td><td> 1</td></tr>\n",
       "</tbody>\n",
       "</table>\n"
      ],
      "text/latex": [
       "\\begin{tabular}{r|lllll}\n",
       " q1 & q2 & q3 & q4 & q5\\\\\n",
       "\\hline\n",
       "\t 5  & 4  & 5  &  5 &  5\\\\\n",
       "\t 3  & 5  & 2  &  5 &  5\\\\\n",
       "\t 3  & 5  & 5  &  5 &  2\\\\\n",
       "\t 3  & 3  & 4  & NA & NA\\\\\n",
       "\t 2  & 2  & 1  &  2 &  1\\\\\n",
       "\\end{tabular}\n"
      ],
      "text/markdown": [
       "\n",
       "q1 | q2 | q3 | q4 | q5 | \n",
       "|---|---|---|---|---|\n",
       "| 5  | 4  | 5  |  5 |  5 | \n",
       "| 3  | 5  | 2  |  5 |  5 | \n",
       "| 3  | 5  | 5  |  5 |  2 | \n",
       "| 3  | 3  | 4  | NA | NA | \n",
       "| 2  | 2  | 1  |  2 |  1 | \n",
       "\n",
       "\n"
      ],
      "text/plain": [
       "  q1 q2 q3 q4 q5\n",
       "1 5  4  5   5  5\n",
       "2 3  5  2   5  5\n",
       "3 3  5  5   5  2\n",
       "4 3  3  4  NA NA\n",
       "5 2  2  1   2  1"
      ]
     },
     "metadata": {},
     "output_type": "display_data"
    }
   ],
   "source": [
    "newData"
   ]
  },
  {
   "cell_type": "code",
   "execution_count": 30,
   "metadata": {},
   "outputs": [],
   "source": [
    "myVars <- names(leadership) %in% c(\"q3\",\"q4\")"
   ]
  },
  {
   "cell_type": "code",
   "execution_count": 31,
   "metadata": {},
   "outputs": [
    {
     "data": {
      "text/html": [
       "<ol class=list-inline>\n",
       "\t<li>FALSE</li>\n",
       "\t<li>FALSE</li>\n",
       "\t<li>FALSE</li>\n",
       "\t<li>FALSE</li>\n",
       "\t<li>FALSE</li>\n",
       "\t<li>FALSE</li>\n",
       "\t<li>FALSE</li>\n",
       "\t<li>TRUE</li>\n",
       "\t<li>TRUE</li>\n",
       "\t<li>FALSE</li>\n",
       "\t<li>FALSE</li>\n",
       "</ol>\n"
      ],
      "text/latex": [
       "\\begin{enumerate*}\n",
       "\\item FALSE\n",
       "\\item FALSE\n",
       "\\item FALSE\n",
       "\\item FALSE\n",
       "\\item FALSE\n",
       "\\item FALSE\n",
       "\\item FALSE\n",
       "\\item TRUE\n",
       "\\item TRUE\n",
       "\\item FALSE\n",
       "\\item FALSE\n",
       "\\end{enumerate*}\n"
      ],
      "text/markdown": [
       "1. FALSE\n",
       "2. FALSE\n",
       "3. FALSE\n",
       "4. FALSE\n",
       "5. FALSE\n",
       "6. FALSE\n",
       "7. FALSE\n",
       "8. TRUE\n",
       "9. TRUE\n",
       "10. FALSE\n",
       "11. FALSE\n",
       "\n",
       "\n"
      ],
      "text/plain": [
       " [1] FALSE FALSE FALSE FALSE FALSE FALSE FALSE  TRUE  TRUE FALSE FALSE"
      ]
     },
     "metadata": {},
     "output_type": "display_data"
    }
   ],
   "source": [
    "myVars"
   ]
  },
  {
   "cell_type": "code",
   "execution_count": 36,
   "metadata": {},
   "outputs": [],
   "source": [
    "newData <- leadership[!myVars]"
   ]
  },
  {
   "cell_type": "code",
   "execution_count": 37,
   "metadata": {},
   "outputs": [
    {
     "data": {
      "text/html": [
       "<table>\n",
       "<thead><tr><th scope=col>manager</th><th scope=col>date</th><th scope=col>country</th><th scope=col>gender</th><th scope=col>age</th><th scope=col>q1</th><th scope=col>q2</th><th scope=col>q5</th><th scope=col>agecat</th></tr></thead>\n",
       "<tbody>\n",
       "\t<tr><td>1         </td><td>2008-10-24</td><td>US        </td><td>M         </td><td>32        </td><td>5         </td><td>4         </td><td> 5        </td><td>Young     </td></tr>\n",
       "\t<tr><td>2         </td><td>2008-10-28</td><td>US        </td><td>F         </td><td>45        </td><td>3         </td><td>5         </td><td> 5        </td><td>Young     </td></tr>\n",
       "\t<tr><td>3         </td><td>2008-10-01</td><td>UK        </td><td>F         </td><td>25        </td><td>3         </td><td>5         </td><td> 2        </td><td>Young     </td></tr>\n",
       "\t<tr><td>4         </td><td>2008-10-12</td><td>UK        </td><td>M         </td><td>39        </td><td>3         </td><td>3         </td><td>NA        </td><td>Young     </td></tr>\n",
       "\t<tr><td>5         </td><td>2009-05-01</td><td>UK        </td><td>F         </td><td>NA        </td><td>2         </td><td>2         </td><td> 1        </td><td>NA        </td></tr>\n",
       "</tbody>\n",
       "</table>\n"
      ],
      "text/latex": [
       "\\begin{tabular}{r|lllllllll}\n",
       " manager & date & country & gender & age & q1 & q2 & q5 & agecat\\\\\n",
       "\\hline\n",
       "\t 1          & 2008-10-24 & US         & M          & 32         & 5          & 4          &  5         & Young     \\\\\n",
       "\t 2          & 2008-10-28 & US         & F          & 45         & 3          & 5          &  5         & Young     \\\\\n",
       "\t 3          & 2008-10-01 & UK         & F          & 25         & 3          & 5          &  2         & Young     \\\\\n",
       "\t 4          & 2008-10-12 & UK         & M          & 39         & 3          & 3          & NA         & Young     \\\\\n",
       "\t 5          & 2009-05-01 & UK         & F          & NA         & 2          & 2          &  1         & NA        \\\\\n",
       "\\end{tabular}\n"
      ],
      "text/markdown": [
       "\n",
       "manager | date | country | gender | age | q1 | q2 | q5 | agecat | \n",
       "|---|---|---|---|---|\n",
       "| 1          | 2008-10-24 | US         | M          | 32         | 5          | 4          |  5         | Young      | \n",
       "| 2          | 2008-10-28 | US         | F          | 45         | 3          | 5          |  5         | Young      | \n",
       "| 3          | 2008-10-01 | UK         | F          | 25         | 3          | 5          |  2         | Young      | \n",
       "| 4          | 2008-10-12 | UK         | M          | 39         | 3          | 3          | NA         | Young      | \n",
       "| 5          | 2009-05-01 | UK         | F          | NA         | 2          | 2          |  1         | NA         | \n",
       "\n",
       "\n"
      ],
      "text/plain": [
       "  manager date       country gender age q1 q2 q5 agecat\n",
       "1 1       2008-10-24 US      M      32  5  4   5 Young \n",
       "2 2       2008-10-28 US      F      45  3  5   5 Young \n",
       "3 3       2008-10-01 UK      F      25  3  5   2 Young \n",
       "4 4       2008-10-12 UK      M      39  3  3  NA Young \n",
       "5 5       2009-05-01 UK      F      NA  2  2   1 NA    "
      ]
     },
     "metadata": {},
     "output_type": "display_data"
    }
   ],
   "source": [
    "newData"
   ]
  },
  {
   "cell_type": "code",
   "execution_count": 38,
   "metadata": {},
   "outputs": [
    {
     "data": {
      "text/html": [
       "<table>\n",
       "<thead><tr><th scope=col>manager</th><th scope=col>date</th><th scope=col>country</th><th scope=col>gender</th><th scope=col>age</th><th scope=col>q1</th><th scope=col>q2</th><th scope=col>q3</th><th scope=col>q4</th><th scope=col>q5</th><th scope=col>agecat</th></tr></thead>\n",
       "<tbody>\n",
       "\t<tr><td>1         </td><td>2008-10-24</td><td>US        </td><td>M         </td><td>32        </td><td>5         </td><td>4         </td><td>5         </td><td> 5        </td><td> 5        </td><td>Young     </td></tr>\n",
       "\t<tr><td>2         </td><td>2008-10-28</td><td>US        </td><td>F         </td><td>45        </td><td>3         </td><td>5         </td><td>2         </td><td> 5        </td><td> 5        </td><td>Young     </td></tr>\n",
       "\t<tr><td>3         </td><td>2008-10-01</td><td>UK        </td><td>F         </td><td>25        </td><td>3         </td><td>5         </td><td>5         </td><td> 5        </td><td> 2        </td><td>Young     </td></tr>\n",
       "\t<tr><td>4         </td><td>2008-10-12</td><td>UK        </td><td>M         </td><td>39        </td><td>3         </td><td>3         </td><td>4         </td><td>NA        </td><td>NA        </td><td>Young     </td></tr>\n",
       "\t<tr><td>5         </td><td>2009-05-01</td><td>UK        </td><td>F         </td><td>NA        </td><td>2         </td><td>2         </td><td>1         </td><td> 2        </td><td> 1        </td><td>NA        </td></tr>\n",
       "</tbody>\n",
       "</table>\n"
      ],
      "text/latex": [
       "\\begin{tabular}{r|lllllllllll}\n",
       " manager & date & country & gender & age & q1 & q2 & q3 & q4 & q5 & agecat\\\\\n",
       "\\hline\n",
       "\t 1          & 2008-10-24 & US         & M          & 32         & 5          & 4          & 5          &  5         &  5         & Young     \\\\\n",
       "\t 2          & 2008-10-28 & US         & F          & 45         & 3          & 5          & 2          &  5         &  5         & Young     \\\\\n",
       "\t 3          & 2008-10-01 & UK         & F          & 25         & 3          & 5          & 5          &  5         &  2         & Young     \\\\\n",
       "\t 4          & 2008-10-12 & UK         & M          & 39         & 3          & 3          & 4          & NA         & NA         & Young     \\\\\n",
       "\t 5          & 2009-05-01 & UK         & F          & NA         & 2          & 2          & 1          &  2         &  1         & NA        \\\\\n",
       "\\end{tabular}\n"
      ],
      "text/markdown": [
       "\n",
       "manager | date | country | gender | age | q1 | q2 | q3 | q4 | q5 | agecat | \n",
       "|---|---|---|---|---|\n",
       "| 1          | 2008-10-24 | US         | M          | 32         | 5          | 4          | 5          |  5         |  5         | Young      | \n",
       "| 2          | 2008-10-28 | US         | F          | 45         | 3          | 5          | 2          |  5         |  5         | Young      | \n",
       "| 3          | 2008-10-01 | UK         | F          | 25         | 3          | 5          | 5          |  5         |  2         | Young      | \n",
       "| 4          | 2008-10-12 | UK         | M          | 39         | 3          | 3          | 4          | NA         | NA         | Young      | \n",
       "| 5          | 2009-05-01 | UK         | F          | NA         | 2          | 2          | 1          |  2         |  1         | NA         | \n",
       "\n",
       "\n"
      ],
      "text/plain": [
       "  manager date       country gender age q1 q2 q3 q4 q5 agecat\n",
       "1 1       2008-10-24 US      M      32  5  4  5   5  5 Young \n",
       "2 2       2008-10-28 US      F      45  3  5  2   5  5 Young \n",
       "3 3       2008-10-01 UK      F      25  3  5  5   5  2 Young \n",
       "4 4       2008-10-12 UK      M      39  3  3  4  NA NA Young \n",
       "5 5       2009-05-01 UK      F      NA  2  2  1   2  1 NA    "
      ]
     },
     "metadata": {},
     "output_type": "display_data"
    }
   ],
   "source": [
    "leadership"
   ]
  },
  {
   "cell_type": "code",
   "execution_count": 39,
   "metadata": {},
   "outputs": [],
   "source": [
    "newData <- leadership[1:3,]"
   ]
  },
  {
   "cell_type": "code",
   "execution_count": 40,
   "metadata": {},
   "outputs": [
    {
     "data": {
      "text/html": [
       "<table>\n",
       "<thead><tr><th scope=col>manager</th><th scope=col>date</th><th scope=col>country</th><th scope=col>gender</th><th scope=col>age</th><th scope=col>q1</th><th scope=col>q2</th><th scope=col>q3</th><th scope=col>q4</th><th scope=col>q5</th><th scope=col>agecat</th></tr></thead>\n",
       "<tbody>\n",
       "\t<tr><td>1         </td><td>2008-10-24</td><td>US        </td><td>M         </td><td>32        </td><td>5         </td><td>4         </td><td>5         </td><td>5         </td><td>5         </td><td>Young     </td></tr>\n",
       "\t<tr><td>2         </td><td>2008-10-28</td><td>US        </td><td>F         </td><td>45        </td><td>3         </td><td>5         </td><td>2         </td><td>5         </td><td>5         </td><td>Young     </td></tr>\n",
       "\t<tr><td>3         </td><td>2008-10-01</td><td>UK        </td><td>F         </td><td>25        </td><td>3         </td><td>5         </td><td>5         </td><td>5         </td><td>2         </td><td>Young     </td></tr>\n",
       "</tbody>\n",
       "</table>\n"
      ],
      "text/latex": [
       "\\begin{tabular}{r|lllllllllll}\n",
       " manager & date & country & gender & age & q1 & q2 & q3 & q4 & q5 & agecat\\\\\n",
       "\\hline\n",
       "\t 1          & 2008-10-24 & US         & M          & 32         & 5          & 4          & 5          & 5          & 5          & Young     \\\\\n",
       "\t 2          & 2008-10-28 & US         & F          & 45         & 3          & 5          & 2          & 5          & 5          & Young     \\\\\n",
       "\t 3          & 2008-10-01 & UK         & F          & 25         & 3          & 5          & 5          & 5          & 2          & Young     \\\\\n",
       "\\end{tabular}\n"
      ],
      "text/markdown": [
       "\n",
       "manager | date | country | gender | age | q1 | q2 | q3 | q4 | q5 | agecat | \n",
       "|---|---|---|\n",
       "| 1          | 2008-10-24 | US         | M          | 32         | 5          | 4          | 5          | 5          | 5          | Young      | \n",
       "| 2          | 2008-10-28 | US         | F          | 45         | 3          | 5          | 2          | 5          | 5          | Young      | \n",
       "| 3          | 2008-10-01 | UK         | F          | 25         | 3          | 5          | 5          | 5          | 2          | Young      | \n",
       "\n",
       "\n"
      ],
      "text/plain": [
       "  manager date       country gender age q1 q2 q3 q4 q5 agecat\n",
       "1 1       2008-10-24 US      M      32  5  4  5  5  5  Young \n",
       "2 2       2008-10-28 US      F      45  3  5  2  5  5  Young \n",
       "3 3       2008-10-01 UK      F      25  3  5  5  5  2  Young "
      ]
     },
     "metadata": {},
     "output_type": "display_data"
    }
   ],
   "source": [
    "newData"
   ]
  },
  {
   "cell_type": "code",
   "execution_count": 41,
   "metadata": {},
   "outputs": [],
   "source": [
    "newData <- leadership[leadership$gender==\"M\" \n",
    "                      & leadership$age >30,]"
   ]
  },
  {
   "cell_type": "code",
   "execution_count": 42,
   "metadata": {},
   "outputs": [
    {
     "data": {
      "text/html": [
       "<table>\n",
       "<thead><tr><th></th><th scope=col>manager</th><th scope=col>date</th><th scope=col>country</th><th scope=col>gender</th><th scope=col>age</th><th scope=col>q1</th><th scope=col>q2</th><th scope=col>q3</th><th scope=col>q4</th><th scope=col>q5</th><th scope=col>agecat</th></tr></thead>\n",
       "<tbody>\n",
       "\t<tr><th scope=row>1</th><td>1         </td><td>2008-10-24</td><td>US        </td><td>M         </td><td>32        </td><td>5         </td><td>4         </td><td>5         </td><td> 5        </td><td> 5        </td><td>Young     </td></tr>\n",
       "\t<tr><th scope=row>4</th><td>4         </td><td>2008-10-12</td><td>UK        </td><td>M         </td><td>39        </td><td>3         </td><td>3         </td><td>4         </td><td>NA        </td><td>NA        </td><td>Young     </td></tr>\n",
       "</tbody>\n",
       "</table>\n"
      ],
      "text/latex": [
       "\\begin{tabular}{r|lllllllllll}\n",
       "  & manager & date & country & gender & age & q1 & q2 & q3 & q4 & q5 & agecat\\\\\n",
       "\\hline\n",
       "\t1 & 1          & 2008-10-24 & US         & M          & 32         & 5          & 4          & 5          &  5         &  5         & Young     \\\\\n",
       "\t4 & 4          & 2008-10-12 & UK         & M          & 39         & 3          & 3          & 4          & NA         & NA         & Young     \\\\\n",
       "\\end{tabular}\n"
      ],
      "text/markdown": [
       "\n",
       "| <!--/--> | manager | date | country | gender | age | q1 | q2 | q3 | q4 | q5 | agecat | \n",
       "|---|---|\n",
       "| 1 | 1          | 2008-10-24 | US         | M          | 32         | 5          | 4          | 5          |  5         |  5         | Young      | \n",
       "| 4 | 4          | 2008-10-12 | UK         | M          | 39         | 3          | 3          | 4          | NA         | NA         | Young      | \n",
       "\n",
       "\n"
      ],
      "text/plain": [
       "  manager date       country gender age q1 q2 q3 q4 q5 agecat\n",
       "1 1       2008-10-24 US      M      32  5  4  5   5  5 Young \n",
       "4 4       2008-10-12 UK      M      39  3  3  4  NA NA Young "
      ]
     },
     "metadata": {},
     "output_type": "display_data"
    }
   ],
   "source": [
    "newData"
   ]
  },
  {
   "cell_type": "code",
   "execution_count": 43,
   "metadata": {},
   "outputs": [
    {
     "name": "stderr",
     "output_type": "stream",
     "text": [
      "The following objects are masked _by_ .GlobalEnv:\n",
      "\n",
      "    age, country, date, gender, manager, q1, q2, q3, q4, q5\n",
      "\n"
     ]
    }
   ],
   "source": [
    "attach(leadership)"
   ]
  },
  {
   "cell_type": "code",
   "execution_count": 44,
   "metadata": {},
   "outputs": [],
   "source": [
    "newData <- leadership[gender==\"M\" & age>30,]"
   ]
  },
  {
   "cell_type": "code",
   "execution_count": 45,
   "metadata": {},
   "outputs": [],
   "source": [
    "detach(leadership)"
   ]
  },
  {
   "cell_type": "code",
   "execution_count": 46,
   "metadata": {},
   "outputs": [
    {
     "data": {
      "text/html": [
       "<table>\n",
       "<thead><tr><th></th><th scope=col>manager</th><th scope=col>date</th><th scope=col>country</th><th scope=col>gender</th><th scope=col>age</th><th scope=col>q1</th><th scope=col>q2</th><th scope=col>q3</th><th scope=col>q4</th><th scope=col>q5</th><th scope=col>agecat</th></tr></thead>\n",
       "<tbody>\n",
       "\t<tr><th scope=row>1</th><td>1         </td><td>2008-10-24</td><td>US        </td><td>M         </td><td>32        </td><td>5         </td><td>4         </td><td>5         </td><td> 5        </td><td> 5        </td><td>Young     </td></tr>\n",
       "\t<tr><th scope=row>4</th><td>4         </td><td>2008-10-12</td><td>UK        </td><td>M         </td><td>39        </td><td>3         </td><td>3         </td><td>4         </td><td>NA        </td><td>NA        </td><td>Young     </td></tr>\n",
       "</tbody>\n",
       "</table>\n"
      ],
      "text/latex": [
       "\\begin{tabular}{r|lllllllllll}\n",
       "  & manager & date & country & gender & age & q1 & q2 & q3 & q4 & q5 & agecat\\\\\n",
       "\\hline\n",
       "\t1 & 1          & 2008-10-24 & US         & M          & 32         & 5          & 4          & 5          &  5         &  5         & Young     \\\\\n",
       "\t4 & 4          & 2008-10-12 & UK         & M          & 39         & 3          & 3          & 4          & NA         & NA         & Young     \\\\\n",
       "\\end{tabular}\n"
      ],
      "text/markdown": [
       "\n",
       "| <!--/--> | manager | date | country | gender | age | q1 | q2 | q3 | q4 | q5 | agecat | \n",
       "|---|---|\n",
       "| 1 | 1          | 2008-10-24 | US         | M          | 32         | 5          | 4          | 5          |  5         |  5         | Young      | \n",
       "| 4 | 4          | 2008-10-12 | UK         | M          | 39         | 3          | 3          | 4          | NA         | NA         | Young      | \n",
       "\n",
       "\n"
      ],
      "text/plain": [
       "  manager date       country gender age q1 q2 q3 q4 q5 agecat\n",
       "1 1       2008-10-24 US      M      32  5  4  5   5  5 Young \n",
       "4 4       2008-10-12 UK      M      39  3  3  4  NA NA Young "
      ]
     },
     "metadata": {},
     "output_type": "display_data"
    }
   ],
   "source": [
    "newData"
   ]
  },
  {
   "cell_type": "code",
   "execution_count": 48,
   "metadata": {},
   "outputs": [],
   "source": [
    "leadership$date <- as.Date(leadership$date,\"%m/%d/%y\")"
   ]
  },
  {
   "cell_type": "code",
   "execution_count": 49,
   "metadata": {},
   "outputs": [
    {
     "data": {
      "text/html": [
       "<ol class=list-inline>\n",
       "\t<li><time datetime=\"2008-10-24\">2008-10-24</time></li>\n",
       "\t<li><time datetime=\"2008-10-28\">2008-10-28</time></li>\n",
       "\t<li><time datetime=\"2008-10-01\">2008-10-01</time></li>\n",
       "\t<li><time datetime=\"2008-10-12\">2008-10-12</time></li>\n",
       "\t<li><time datetime=\"2009-05-01\">2009-05-01</time></li>\n",
       "</ol>\n"
      ],
      "text/latex": [
       "\\begin{enumerate*}\n",
       "\\item 2008-10-24\n",
       "\\item 2008-10-28\n",
       "\\item 2008-10-01\n",
       "\\item 2008-10-12\n",
       "\\item 2009-05-01\n",
       "\\end{enumerate*}\n"
      ],
      "text/markdown": [
       "1. 2008-10-24\n",
       "2. 2008-10-28\n",
       "3. 2008-10-01\n",
       "4. 2008-10-12\n",
       "5. 2009-05-01\n",
       "\n",
       "\n"
      ],
      "text/plain": [
       "[1] \"2008-10-24\" \"2008-10-28\" \"2008-10-01\" \"2008-10-12\" \"2009-05-01\""
      ]
     },
     "metadata": {},
     "output_type": "display_data"
    }
   ],
   "source": [
    "leadership$date"
   ]
  },
  {
   "cell_type": "code",
   "execution_count": 50,
   "metadata": {},
   "outputs": [],
   "source": [
    "startDate <- as.Date(\"2009-01-01\")"
   ]
  },
  {
   "cell_type": "code",
   "execution_count": 51,
   "metadata": {},
   "outputs": [],
   "source": [
    "endDate <- as.Date(\"2009-10-31\")"
   ]
  },
  {
   "cell_type": "code",
   "execution_count": 54,
   "metadata": {},
   "outputs": [],
   "source": [
    "newData <- leadership[leadership$date >= startDate &\n",
    "                            leadership$date <= endDate,]"
   ]
  },
  {
   "cell_type": "code",
   "execution_count": 55,
   "metadata": {
    "scrolled": true
   },
   "outputs": [
    {
     "data": {
      "text/html": [
       "<table>\n",
       "<thead><tr><th></th><th scope=col>manager</th><th scope=col>date</th><th scope=col>country</th><th scope=col>gender</th><th scope=col>age</th><th scope=col>q1</th><th scope=col>q2</th><th scope=col>q3</th><th scope=col>q4</th><th scope=col>q5</th><th scope=col>agecat</th></tr></thead>\n",
       "<tbody>\n",
       "\t<tr><th scope=row>5</th><td>5         </td><td>2009-05-01</td><td>UK        </td><td>F         </td><td>NA        </td><td>2         </td><td>2         </td><td>1         </td><td>2         </td><td>1         </td><td>NA        </td></tr>\n",
       "</tbody>\n",
       "</table>\n"
      ],
      "text/latex": [
       "\\begin{tabular}{r|lllllllllll}\n",
       "  & manager & date & country & gender & age & q1 & q2 & q3 & q4 & q5 & agecat\\\\\n",
       "\\hline\n",
       "\t5 & 5          & 2009-05-01 & UK         & F          & NA         & 2          & 2          & 1          & 2          & 1          & NA        \\\\\n",
       "\\end{tabular}\n"
      ],
      "text/markdown": [
       "\n",
       "| <!--/--> | manager | date | country | gender | age | q1 | q2 | q3 | q4 | q5 | agecat | \n",
       "|---|\n",
       "| 5 | 5          | 2009-05-01 | UK         | F          | NA         | 2          | 2          | 1          | 2          | 1          | NA         | \n",
       "\n",
       "\n"
      ],
      "text/plain": [
       "  manager date       country gender age q1 q2 q3 q4 q5 agecat\n",
       "5 5       2009-05-01 UK      F      NA  2  2  1  2  1  NA    "
      ]
     },
     "metadata": {},
     "output_type": "display_data"
    }
   ],
   "source": [
    "newData"
   ]
  },
  {
   "cell_type": "code",
   "execution_count": 56,
   "metadata": {},
   "outputs": [],
   "source": [
    "newData <- subset(leadership,age>=35|age<24,\n",
    "                  select=c(q1,q2,q3,q4))"
   ]
  },
  {
   "cell_type": "code",
   "execution_count": 57,
   "metadata": {},
   "outputs": [
    {
     "data": {
      "text/html": [
       "<table>\n",
       "<thead><tr><th></th><th scope=col>q1</th><th scope=col>q2</th><th scope=col>q3</th><th scope=col>q4</th></tr></thead>\n",
       "<tbody>\n",
       "\t<tr><th scope=row>2</th><td>3 </td><td>5 </td><td>2 </td><td> 5</td></tr>\n",
       "\t<tr><th scope=row>4</th><td>3 </td><td>3 </td><td>4 </td><td>NA</td></tr>\n",
       "</tbody>\n",
       "</table>\n"
      ],
      "text/latex": [
       "\\begin{tabular}{r|llll}\n",
       "  & q1 & q2 & q3 & q4\\\\\n",
       "\\hline\n",
       "\t2 & 3  & 5  & 2  &  5\\\\\n",
       "\t4 & 3  & 3  & 4  & NA\\\\\n",
       "\\end{tabular}\n"
      ],
      "text/markdown": [
       "\n",
       "| <!--/--> | q1 | q2 | q3 | q4 | \n",
       "|---|---|\n",
       "| 2 | 3  | 5  | 2  |  5 | \n",
       "| 4 | 3  | 3  | 4  | NA | \n",
       "\n",
       "\n"
      ],
      "text/plain": [
       "  q1 q2 q3 q4\n",
       "2 3  5  2   5\n",
       "4 3  3  4  NA"
      ]
     },
     "metadata": {},
     "output_type": "display_data"
    }
   ],
   "source": [
    "newData"
   ]
  },
  {
   "cell_type": "code",
   "execution_count": 58,
   "metadata": {},
   "outputs": [],
   "source": [
    "help(subset)"
   ]
  }
 ],
 "metadata": {
  "kernelspec": {
   "display_name": "R",
   "language": "R",
   "name": "ir"
  },
  "language_info": {
   "codemirror_mode": "r",
   "file_extension": ".r",
   "mimetype": "text/x-r-source",
   "name": "R",
   "pygments_lexer": "r",
   "version": "3.2.3"
  }
 },
 "nbformat": 4,
 "nbformat_minor": 2
}
