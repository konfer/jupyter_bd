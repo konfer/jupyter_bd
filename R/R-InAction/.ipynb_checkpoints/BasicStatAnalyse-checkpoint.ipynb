{
 "cells": [
  {
   "cell_type": "code",
   "execution_count": 1,
   "metadata": {},
   "outputs": [],
   "source": [
    "myvars <- c(\"mpg\",\"hp\",\"wt\")"
   ]
  },
  {
   "cell_type": "code",
   "execution_count": 2,
   "metadata": {},
   "outputs": [
    {
     "data": {
      "text/html": [
       "<ol class=list-inline>\n",
       "\t<li>'mpg'</li>\n",
       "\t<li>'hp'</li>\n",
       "\t<li>'wt'</li>\n",
       "</ol>\n"
      ],
      "text/latex": [
       "\\begin{enumerate*}\n",
       "\\item 'mpg'\n",
       "\\item 'hp'\n",
       "\\item 'wt'\n",
       "\\end{enumerate*}\n"
      ],
      "text/markdown": [
       "1. 'mpg'\n",
       "2. 'hp'\n",
       "3. 'wt'\n",
       "\n",
       "\n"
      ],
      "text/plain": [
       "[1] \"mpg\" \"hp\"  \"wt\" "
      ]
     },
     "metadata": {},
     "output_type": "display_data"
    }
   ],
   "source": [
    "head(myvars)"
   ]
  },
  {
   "cell_type": "code",
   "execution_count": 3,
   "metadata": {
    "scrolled": true
   },
   "outputs": [
    {
     "data": {
      "text/html": [
       "<table>\n",
       "<thead><tr><th></th><th scope=col>mpg</th><th scope=col>hp</th><th scope=col>wt</th></tr></thead>\n",
       "<tbody>\n",
       "\t<tr><th scope=row>Mazda RX4</th><td>21.0 </td><td>110  </td><td>2.620</td></tr>\n",
       "\t<tr><th scope=row>Mazda RX4 Wag</th><td>21.0 </td><td>110  </td><td>2.875</td></tr>\n",
       "\t<tr><th scope=row>Datsun 710</th><td>22.8 </td><td> 93  </td><td>2.320</td></tr>\n",
       "\t<tr><th scope=row>Hornet 4 Drive</th><td>21.4 </td><td>110  </td><td>3.215</td></tr>\n",
       "\t<tr><th scope=row>Hornet Sportabout</th><td>18.7 </td><td>175  </td><td>3.440</td></tr>\n",
       "\t<tr><th scope=row>Valiant</th><td>18.1 </td><td>105  </td><td>3.460</td></tr>\n",
       "</tbody>\n",
       "</table>\n"
      ],
      "text/latex": [
       "\\begin{tabular}{r|lll}\n",
       "  & mpg & hp & wt\\\\\n",
       "\\hline\n",
       "\tMazda RX4 & 21.0  & 110   & 2.620\\\\\n",
       "\tMazda RX4 Wag & 21.0  & 110   & 2.875\\\\\n",
       "\tDatsun 710 & 22.8  &  93   & 2.320\\\\\n",
       "\tHornet 4 Drive & 21.4  & 110   & 3.215\\\\\n",
       "\tHornet Sportabout & 18.7  & 175   & 3.440\\\\\n",
       "\tValiant & 18.1  & 105   & 3.460\\\\\n",
       "\\end{tabular}\n"
      ],
      "text/markdown": [
       "\n",
       "| <!--/--> | mpg | hp | wt | \n",
       "|---|---|---|---|---|---|\n",
       "| Mazda RX4 | 21.0  | 110   | 2.620 | \n",
       "| Mazda RX4 Wag | 21.0  | 110   | 2.875 | \n",
       "| Datsun 710 | 22.8  |  93   | 2.320 | \n",
       "| Hornet 4 Drive | 21.4  | 110   | 3.215 | \n",
       "| Hornet Sportabout | 18.7  | 175   | 3.440 | \n",
       "| Valiant | 18.1  | 105   | 3.460 | \n",
       "\n",
       "\n"
      ],
      "text/plain": [
       "                  mpg  hp  wt   \n",
       "Mazda RX4         21.0 110 2.620\n",
       "Mazda RX4 Wag     21.0 110 2.875\n",
       "Datsun 710        22.8  93 2.320\n",
       "Hornet 4 Drive    21.4 110 3.215\n",
       "Hornet Sportabout 18.7 175 3.440\n",
       "Valiant           18.1 105 3.460"
      ]
     },
     "metadata": {},
     "output_type": "display_data"
    }
   ],
   "source": [
    "head(mtcars[myvars])"
   ]
  },
  {
   "cell_type": "code",
   "execution_count": 4,
   "metadata": {},
   "outputs": [
    {
     "data": {
      "text/plain": [
       "      mpg              hp              wt       \n",
       " Min.   :10.40   Min.   : 52.0   Min.   :1.513  \n",
       " 1st Qu.:15.43   1st Qu.: 96.5   1st Qu.:2.581  \n",
       " Median :19.20   Median :123.0   Median :3.325  \n",
       " Mean   :20.09   Mean   :146.7   Mean   :3.217  \n",
       " 3rd Qu.:22.80   3rd Qu.:180.0   3rd Qu.:3.610  \n",
       " Max.   :33.90   Max.   :335.0   Max.   :5.424  "
      ]
     },
     "metadata": {},
     "output_type": "display_data"
    }
   ],
   "source": [
    "summary(mtcars[myvars])"
   ]
  },
  {
   "cell_type": "code",
   "execution_count": 5,
   "metadata": {},
   "outputs": [],
   "source": [
    "options(digits=2)"
   ]
  },
  {
   "cell_type": "code",
   "execution_count": 6,
   "metadata": {},
   "outputs": [],
   "source": [
    "Student <- c(\"John Davis\", \"Angela Williams\", \"Bullwinkle Moose\",                    \n",
    "            \"David Jones\", \"Janice Markhammer\", \"Cheryl Cushing\",                    \n",
    "            \"Reuven Ytzrhak\", \"Greg Knox\", \"Joel England\",                    \n",
    "            \"Mary Rayburn\")"
   ]
  },
  {
   "cell_type": "code",
   "execution_count": 7,
   "metadata": {},
   "outputs": [],
   "source": [
    "math <- c(502, 600, 412, 358, 495, 512, 410, 625, 573, 522)     \n",
    "Science <- c(95, 99, 80, 82, 75, 85, 80, 95, 89, 86)     \n",
    "English <- c(25, 22, 18, 15, 20, 28, 15, 30, 27, 18)"
   ]
  },
  {
   "cell_type": "code",
   "execution_count": 9,
   "metadata": {},
   "outputs": [],
   "source": [
    "roster <- data.frame(Student,math,Science,English,stringsAsFactors=FALSE)"
   ]
  },
  {
   "cell_type": "code",
   "execution_count": 10,
   "metadata": {},
   "outputs": [
    {
     "data": {
      "text/html": [
       "<table>\n",
       "<thead><tr><th scope=col>Student</th><th scope=col>math</th><th scope=col>Science</th><th scope=col>English</th></tr></thead>\n",
       "<tbody>\n",
       "\t<tr><td>John Davis       </td><td>502              </td><td>95               </td><td>25               </td></tr>\n",
       "\t<tr><td>Angela Williams  </td><td>600              </td><td>99               </td><td>22               </td></tr>\n",
       "\t<tr><td>Bullwinkle Moose </td><td>412              </td><td>80               </td><td>18               </td></tr>\n",
       "\t<tr><td>David Jones      </td><td>358              </td><td>82               </td><td>15               </td></tr>\n",
       "\t<tr><td>Janice Markhammer</td><td>495              </td><td>75               </td><td>20               </td></tr>\n",
       "\t<tr><td>Cheryl Cushing   </td><td>512              </td><td>85               </td><td>28               </td></tr>\n",
       "\t<tr><td>Reuven Ytzrhak   </td><td>410              </td><td>80               </td><td>15               </td></tr>\n",
       "\t<tr><td>Greg Knox        </td><td>625              </td><td>95               </td><td>30               </td></tr>\n",
       "\t<tr><td>Joel England     </td><td>573              </td><td>89               </td><td>27               </td></tr>\n",
       "\t<tr><td>Mary Rayburn     </td><td>522              </td><td>86               </td><td>18               </td></tr>\n",
       "</tbody>\n",
       "</table>\n"
      ],
      "text/latex": [
       "\\begin{tabular}{r|llll}\n",
       " Student & math & Science & English\\\\\n",
       "\\hline\n",
       "\t John Davis        & 502               & 95                & 25               \\\\\n",
       "\t Angela Williams   & 600               & 99                & 22               \\\\\n",
       "\t Bullwinkle Moose  & 412               & 80                & 18               \\\\\n",
       "\t David Jones       & 358               & 82                & 15               \\\\\n",
       "\t Janice Markhammer & 495               & 75                & 20               \\\\\n",
       "\t Cheryl Cushing    & 512               & 85                & 28               \\\\\n",
       "\t Reuven Ytzrhak    & 410               & 80                & 15               \\\\\n",
       "\t Greg Knox         & 625               & 95                & 30               \\\\\n",
       "\t Joel England      & 573               & 89                & 27               \\\\\n",
       "\t Mary Rayburn      & 522               & 86                & 18               \\\\\n",
       "\\end{tabular}\n"
      ],
      "text/markdown": [
       "\n",
       "Student | math | Science | English | \n",
       "|---|---|---|---|---|---|---|---|---|---|\n",
       "| John Davis        | 502               | 95                | 25                | \n",
       "| Angela Williams   | 600               | 99                | 22                | \n",
       "| Bullwinkle Moose  | 412               | 80                | 18                | \n",
       "| David Jones       | 358               | 82                | 15                | \n",
       "| Janice Markhammer | 495               | 75                | 20                | \n",
       "| Cheryl Cushing    | 512               | 85                | 28                | \n",
       "| Reuven Ytzrhak    | 410               | 80                | 15                | \n",
       "| Greg Knox         | 625               | 95                | 30                | \n",
       "| Joel England      | 573               | 89                | 27                | \n",
       "| Mary Rayburn      | 522               | 86                | 18                | \n",
       "\n",
       "\n"
      ],
      "text/plain": [
       "   Student           math Science English\n",
       "1  John Davis        502  95      25     \n",
       "2  Angela Williams   600  99      22     \n",
       "3  Bullwinkle Moose  412  80      18     \n",
       "4  David Jones       358  82      15     \n",
       "5  Janice Markhammer 495  75      20     \n",
       "6  Cheryl Cushing    512  85      28     \n",
       "7  Reuven Ytzrhak    410  80      15     \n",
       "8  Greg Knox         625  95      30     \n",
       "9  Joel England      573  89      27     \n",
       "10 Mary Rayburn      522  86      18     "
      ]
     },
     "metadata": {},
     "output_type": "display_data"
    }
   ],
   "source": [
    "roster"
   ]
  },
  {
   "cell_type": "code",
   "execution_count": 13,
   "metadata": {},
   "outputs": [],
   "source": [
    "z <- scale(roster[,2:4])"
   ]
  },
  {
   "cell_type": "code",
   "execution_count": 14,
   "metadata": {},
   "outputs": [
    {
     "data": {
      "text/html": [
       "<table>\n",
       "<thead><tr><th scope=col>math</th><th scope=col>Science</th><th scope=col>English</th></tr></thead>\n",
       "<tbody>\n",
       "\t<tr><td> 0.013</td><td> 1.078</td><td> 0.587</td></tr>\n",
       "\t<tr><td> 1.143</td><td> 1.591</td><td> 0.037</td></tr>\n",
       "\t<tr><td>-1.026</td><td>-0.847</td><td>-0.697</td></tr>\n",
       "\t<tr><td>-1.649</td><td>-0.590</td><td>-1.247</td></tr>\n",
       "\t<tr><td>-0.068</td><td>-1.489</td><td>-0.330</td></tr>\n",
       "\t<tr><td> 0.128</td><td>-0.205</td><td> 1.137</td></tr>\n",
       "\t<tr><td>-1.049</td><td>-0.847</td><td>-1.247</td></tr>\n",
       "\t<tr><td> 1.432</td><td> 1.078</td><td> 1.504</td></tr>\n",
       "\t<tr><td> 0.832</td><td> 0.308</td><td> 0.954</td></tr>\n",
       "\t<tr><td> 0.243</td><td>-0.077</td><td>-0.697</td></tr>\n",
       "</tbody>\n",
       "</table>\n"
      ],
      "text/latex": [
       "\\begin{tabular}{lll}\n",
       " math & Science & English\\\\\n",
       "\\hline\n",
       "\t  0.013 &  1.078 &  0.587\\\\\n",
       "\t  1.143 &  1.591 &  0.037\\\\\n",
       "\t -1.026 & -0.847 & -0.697\\\\\n",
       "\t -1.649 & -0.590 & -1.247\\\\\n",
       "\t -0.068 & -1.489 & -0.330\\\\\n",
       "\t  0.128 & -0.205 &  1.137\\\\\n",
       "\t -1.049 & -0.847 & -1.247\\\\\n",
       "\t  1.432 &  1.078 &  1.504\\\\\n",
       "\t  0.832 &  0.308 &  0.954\\\\\n",
       "\t  0.243 & -0.077 & -0.697\\\\\n",
       "\\end{tabular}\n"
      ],
      "text/markdown": [
       "\n",
       "math | Science | English | \n",
       "|---|---|---|---|---|---|---|---|---|---|\n",
       "|  0.013 |  1.078 |  0.587 | \n",
       "|  1.143 |  1.591 |  0.037 | \n",
       "| -1.026 | -0.847 | -0.697 | \n",
       "| -1.649 | -0.590 | -1.247 | \n",
       "| -0.068 | -1.489 | -0.330 | \n",
       "|  0.128 | -0.205 |  1.137 | \n",
       "| -1.049 | -0.847 | -1.247 | \n",
       "|  1.432 |  1.078 |  1.504 | \n",
       "|  0.832 |  0.308 |  0.954 | \n",
       "|  0.243 | -0.077 | -0.697 | \n",
       "\n",
       "\n"
      ],
      "text/plain": [
       "      math   Science English\n",
       " [1,]  0.013  1.078   0.587 \n",
       " [2,]  1.143  1.591   0.037 \n",
       " [3,] -1.026 -0.847  -0.697 \n",
       " [4,] -1.649 -0.590  -1.247 \n",
       " [5,] -0.068 -1.489  -0.330 \n",
       " [6,]  0.128 -0.205   1.137 \n",
       " [7,] -1.049 -0.847  -1.247 \n",
       " [8,]  1.432  1.078   1.504 \n",
       " [9,]  0.832  0.308   0.954 \n",
       "[10,]  0.243 -0.077  -0.697 "
      ]
     },
     "metadata": {},
     "output_type": "display_data"
    }
   ],
   "source": [
    "z"
   ]
  },
  {
   "cell_type": "code",
   "execution_count": null,
   "metadata": {},
   "outputs": [],
   "source": []
  }
 ],
 "metadata": {
  "kernelspec": {
   "display_name": "R",
   "language": "R",
   "name": "ir"
  },
  "language_info": {
   "codemirror_mode": "r",
   "file_extension": ".r",
   "mimetype": "text/x-r-source",
   "name": "R",
   "pygments_lexer": "r",
   "version": "3.2.3"
  }
 },
 "nbformat": 4,
 "nbformat_minor": 2
}
