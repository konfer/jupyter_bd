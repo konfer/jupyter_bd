{
 "cells": [
  {
   "cell_type": "code",
   "execution_count": 1,
   "metadata": {},
   "outputs": [],
   "source": [
    "deck <- read.csv(file=\"/usr/local/konfer/jupyterPro/RPro/deck.csv\",header=T,sep=\",\")"
   ]
  },
  {
   "cell_type": "code",
   "execution_count": 2,
   "metadata": {},
   "outputs": [],
   "source": [
    "vec <- c(0,0,0,0,0,0)"
   ]
  },
  {
   "cell_type": "code",
   "execution_count": 3,
   "metadata": {},
   "outputs": [
    {
     "data": {
      "text/html": [
       "<ol class=list-inline>\n",
       "\t<li>0</li>\n",
       "\t<li>0</li>\n",
       "\t<li>0</li>\n",
       "\t<li>0</li>\n",
       "\t<li>0</li>\n",
       "\t<li>0</li>\n",
       "</ol>\n"
      ],
      "text/latex": [
       "\\begin{enumerate*}\n",
       "\\item 0\n",
       "\\item 0\n",
       "\\item 0\n",
       "\\item 0\n",
       "\\item 0\n",
       "\\item 0\n",
       "\\end{enumerate*}\n"
      ],
      "text/markdown": [
       "1. 0\n",
       "2. 0\n",
       "3. 0\n",
       "4. 0\n",
       "5. 0\n",
       "6. 0\n",
       "\n",
       "\n"
      ],
      "text/plain": [
       "[1] 0 0 0 0 0 0"
      ]
     },
     "metadata": {},
     "output_type": "display_data"
    }
   ],
   "source": [
    "vec"
   ]
  },
  {
   "cell_type": "code",
   "execution_count": 4,
   "metadata": {},
   "outputs": [
    {
     "data": {
      "text/html": [
       "0"
      ],
      "text/latex": [
       "0"
      ],
      "text/markdown": [
       "0"
      ],
      "text/plain": [
       "[1] 0"
      ]
     },
     "metadata": {},
     "output_type": "display_data"
    }
   ],
   "source": [
    "vec[1]"
   ]
  },
  {
   "cell_type": "code",
   "execution_count": 5,
   "metadata": {},
   "outputs": [],
   "source": [
    "vec[1] <- 1000"
   ]
  },
  {
   "cell_type": "code",
   "execution_count": 6,
   "metadata": {},
   "outputs": [
    {
     "data": {
      "text/html": [
       "<ol class=list-inline>\n",
       "\t<li>1000</li>\n",
       "\t<li>0</li>\n",
       "\t<li>0</li>\n",
       "\t<li>0</li>\n",
       "\t<li>0</li>\n",
       "\t<li>0</li>\n",
       "</ol>\n"
      ],
      "text/latex": [
       "\\begin{enumerate*}\n",
       "\\item 1000\n",
       "\\item 0\n",
       "\\item 0\n",
       "\\item 0\n",
       "\\item 0\n",
       "\\item 0\n",
       "\\end{enumerate*}\n"
      ],
      "text/markdown": [
       "1. 1000\n",
       "2. 0\n",
       "3. 0\n",
       "4. 0\n",
       "5. 0\n",
       "6. 0\n",
       "\n",
       "\n"
      ],
      "text/plain": [
       "[1] 1000    0    0    0    0    0"
      ]
     },
     "metadata": {},
     "output_type": "display_data"
    }
   ],
   "source": [
    "vec"
   ]
  },
  {
   "cell_type": "code",
   "execution_count": 7,
   "metadata": {},
   "outputs": [],
   "source": [
    "vec[c(1,3,5)] <- c(1,1,1)"
   ]
  },
  {
   "cell_type": "code",
   "execution_count": 8,
   "metadata": {},
   "outputs": [
    {
     "data": {
      "text/html": [
       "<ol class=list-inline>\n",
       "\t<li>1</li>\n",
       "\t<li>0</li>\n",
       "\t<li>1</li>\n",
       "\t<li>0</li>\n",
       "\t<li>1</li>\n",
       "\t<li>0</li>\n",
       "</ol>\n"
      ],
      "text/latex": [
       "\\begin{enumerate*}\n",
       "\\item 1\n",
       "\\item 0\n",
       "\\item 1\n",
       "\\item 0\n",
       "\\item 1\n",
       "\\item 0\n",
       "\\end{enumerate*}\n"
      ],
      "text/markdown": [
       "1. 1\n",
       "2. 0\n",
       "3. 1\n",
       "4. 0\n",
       "5. 1\n",
       "6. 0\n",
       "\n",
       "\n"
      ],
      "text/plain": [
       "[1] 1 0 1 0 1 0"
      ]
     },
     "metadata": {},
     "output_type": "display_data"
    }
   ],
   "source": [
    "vec"
   ]
  },
  {
   "cell_type": "code",
   "execution_count": 9,
   "metadata": {},
   "outputs": [],
   "source": [
    "vec[4:6] <- vec[4:6]-1"
   ]
  },
  {
   "cell_type": "code",
   "execution_count": 10,
   "metadata": {},
   "outputs": [
    {
     "data": {
      "text/html": [
       "<ol class=list-inline>\n",
       "\t<li>1</li>\n",
       "\t<li>0</li>\n",
       "\t<li>1</li>\n",
       "\t<li>-1</li>\n",
       "\t<li>0</li>\n",
       "\t<li>-1</li>\n",
       "</ol>\n"
      ],
      "text/latex": [
       "\\begin{enumerate*}\n",
       "\\item 1\n",
       "\\item 0\n",
       "\\item 1\n",
       "\\item -1\n",
       "\\item 0\n",
       "\\item -1\n",
       "\\end{enumerate*}\n"
      ],
      "text/markdown": [
       "1. 1\n",
       "2. 0\n",
       "3. 1\n",
       "4. -1\n",
       "5. 0\n",
       "6. -1\n",
       "\n",
       "\n"
      ],
      "text/plain": [
       "[1]  1  0  1 -1  0 -1"
      ]
     },
     "metadata": {},
     "output_type": "display_data"
    }
   ],
   "source": [
    "vec"
   ]
  },
  {
   "cell_type": "code",
   "execution_count": 11,
   "metadata": {},
   "outputs": [],
   "source": [
    "vec[7] <- 0"
   ]
  },
  {
   "cell_type": "code",
   "execution_count": 12,
   "metadata": {},
   "outputs": [
    {
     "data": {
      "text/html": [
       "<ol class=list-inline>\n",
       "\t<li>1</li>\n",
       "\t<li>0</li>\n",
       "\t<li>1</li>\n",
       "\t<li>-1</li>\n",
       "\t<li>0</li>\n",
       "\t<li>-1</li>\n",
       "\t<li>0</li>\n",
       "</ol>\n"
      ],
      "text/latex": [
       "\\begin{enumerate*}\n",
       "\\item 1\n",
       "\\item 0\n",
       "\\item 1\n",
       "\\item -1\n",
       "\\item 0\n",
       "\\item -1\n",
       "\\item 0\n",
       "\\end{enumerate*}\n"
      ],
      "text/markdown": [
       "1. 1\n",
       "2. 0\n",
       "3. 1\n",
       "4. -1\n",
       "5. 0\n",
       "6. -1\n",
       "7. 0\n",
       "\n",
       "\n"
      ],
      "text/plain": [
       "[1]  1  0  1 -1  0 -1  0"
      ]
     },
     "metadata": {},
     "output_type": "display_data"
    }
   ],
   "source": [
    "vec"
   ]
  },
  {
   "cell_type": "code",
   "execution_count": 13,
   "metadata": {},
   "outputs": [],
   "source": [
    "deck$new <- 1:52"
   ]
  },
  {
   "cell_type": "code",
   "execution_count": 14,
   "metadata": {},
   "outputs": [
    {
     "data": {
      "text/html": [
       "<table>\n",
       "<thead><tr><th scope=col>face</th><th scope=col>suit</th><th scope=col>value</th><th scope=col>new</th></tr></thead>\n",
       "<tbody>\n",
       "\t<tr><td>king    </td><td>spades  </td><td>13      </td><td> 1      </td></tr>\n",
       "\t<tr><td>queen   </td><td>spades  </td><td>12      </td><td> 2      </td></tr>\n",
       "\t<tr><td>jack    </td><td>spades  </td><td>11      </td><td> 3      </td></tr>\n",
       "\t<tr><td>ten     </td><td>spades  </td><td>10      </td><td> 4      </td></tr>\n",
       "\t<tr><td>nine    </td><td>spades  </td><td> 9      </td><td> 5      </td></tr>\n",
       "\t<tr><td>eight   </td><td>spades  </td><td> 8      </td><td> 6      </td></tr>\n",
       "\t<tr><td>seven   </td><td>spades  </td><td> 7      </td><td> 7      </td></tr>\n",
       "\t<tr><td>six     </td><td>spades  </td><td> 6      </td><td> 8      </td></tr>\n",
       "\t<tr><td>five    </td><td>spades  </td><td> 5      </td><td> 9      </td></tr>\n",
       "\t<tr><td>four    </td><td>spades  </td><td> 4      </td><td>10      </td></tr>\n",
       "\t<tr><td>three   </td><td>spades  </td><td> 3      </td><td>11      </td></tr>\n",
       "\t<tr><td>two     </td><td>spades  </td><td> 2      </td><td>12      </td></tr>\n",
       "\t<tr><td>ace     </td><td>spades  </td><td> 1      </td><td>13      </td></tr>\n",
       "\t<tr><td>king    </td><td>clubs   </td><td>13      </td><td>14      </td></tr>\n",
       "\t<tr><td>queen   </td><td>clubs   </td><td>12      </td><td>15      </td></tr>\n",
       "\t<tr><td>jack    </td><td>clubs   </td><td>11      </td><td>16      </td></tr>\n",
       "\t<tr><td>ten     </td><td>clubs   </td><td>10      </td><td>17      </td></tr>\n",
       "\t<tr><td>nine    </td><td>clubs   </td><td> 9      </td><td>18      </td></tr>\n",
       "\t<tr><td>eight   </td><td>clubs   </td><td> 8      </td><td>19      </td></tr>\n",
       "\t<tr><td>seven   </td><td>clubs   </td><td> 7      </td><td>20      </td></tr>\n",
       "\t<tr><td>six     </td><td>clubs   </td><td> 6      </td><td>21      </td></tr>\n",
       "\t<tr><td>five    </td><td>clubs   </td><td> 5      </td><td>22      </td></tr>\n",
       "\t<tr><td>four    </td><td>clubs   </td><td> 4      </td><td>23      </td></tr>\n",
       "\t<tr><td>three   </td><td>clubs   </td><td> 3      </td><td>24      </td></tr>\n",
       "\t<tr><td>two     </td><td>clubs   </td><td> 2      </td><td>25      </td></tr>\n",
       "\t<tr><td>ace     </td><td>clubs   </td><td> 1      </td><td>26      </td></tr>\n",
       "\t<tr><td>king    </td><td>diamonds</td><td>13      </td><td>27      </td></tr>\n",
       "\t<tr><td>queen   </td><td>diamonds</td><td>12      </td><td>28      </td></tr>\n",
       "\t<tr><td>jack    </td><td>diamonds</td><td>11      </td><td>29      </td></tr>\n",
       "\t<tr><td>ten     </td><td>diamonds</td><td>10      </td><td>30      </td></tr>\n",
       "\t<tr><td>nine    </td><td>diamonds</td><td> 9      </td><td>31      </td></tr>\n",
       "\t<tr><td>eight   </td><td>diamonds</td><td> 8      </td><td>32      </td></tr>\n",
       "\t<tr><td>seven   </td><td>diamonds</td><td> 7      </td><td>33      </td></tr>\n",
       "\t<tr><td>six     </td><td>diamonds</td><td> 6      </td><td>34      </td></tr>\n",
       "\t<tr><td>five    </td><td>diamonds</td><td> 5      </td><td>35      </td></tr>\n",
       "\t<tr><td>four    </td><td>diamonds</td><td> 4      </td><td>36      </td></tr>\n",
       "\t<tr><td>three   </td><td>diamonds</td><td> 3      </td><td>37      </td></tr>\n",
       "\t<tr><td>two     </td><td>diamonds</td><td> 2      </td><td>38      </td></tr>\n",
       "\t<tr><td>ace     </td><td>diamonds</td><td> 1      </td><td>39      </td></tr>\n",
       "\t<tr><td>king    </td><td>hearts  </td><td>13      </td><td>40      </td></tr>\n",
       "\t<tr><td>queen   </td><td>hearts  </td><td>12      </td><td>41      </td></tr>\n",
       "\t<tr><td>jack    </td><td>hearts  </td><td>11      </td><td>42      </td></tr>\n",
       "\t<tr><td>ten     </td><td>hearts  </td><td>10      </td><td>43      </td></tr>\n",
       "\t<tr><td>nine    </td><td>hearts  </td><td> 9      </td><td>44      </td></tr>\n",
       "\t<tr><td>eight   </td><td>hearts  </td><td> 8      </td><td>45      </td></tr>\n",
       "\t<tr><td>seven   </td><td>hearts  </td><td> 7      </td><td>46      </td></tr>\n",
       "\t<tr><td>six     </td><td>hearts  </td><td> 6      </td><td>47      </td></tr>\n",
       "\t<tr><td>five    </td><td>hearts  </td><td> 5      </td><td>48      </td></tr>\n",
       "\t<tr><td>four    </td><td>hearts  </td><td> 4      </td><td>49      </td></tr>\n",
       "\t<tr><td>three   </td><td>hearts  </td><td> 3      </td><td>50      </td></tr>\n",
       "\t<tr><td>two     </td><td>hearts  </td><td> 2      </td><td>51      </td></tr>\n",
       "\t<tr><td>ace     </td><td>hearts  </td><td> 1      </td><td>52      </td></tr>\n",
       "</tbody>\n",
       "</table>\n"
      ],
      "text/latex": [
       "\\begin{tabular}{r|llll}\n",
       " face & suit & value & new\\\\\n",
       "\\hline\n",
       "\t king     & spades   & 13       &  1      \\\\\n",
       "\t queen    & spades   & 12       &  2      \\\\\n",
       "\t jack     & spades   & 11       &  3      \\\\\n",
       "\t ten      & spades   & 10       &  4      \\\\\n",
       "\t nine     & spades   &  9       &  5      \\\\\n",
       "\t eight    & spades   &  8       &  6      \\\\\n",
       "\t seven    & spades   &  7       &  7      \\\\\n",
       "\t six      & spades   &  6       &  8      \\\\\n",
       "\t five     & spades   &  5       &  9      \\\\\n",
       "\t four     & spades   &  4       & 10      \\\\\n",
       "\t three    & spades   &  3       & 11      \\\\\n",
       "\t two      & spades   &  2       & 12      \\\\\n",
       "\t ace      & spades   &  1       & 13      \\\\\n",
       "\t king     & clubs    & 13       & 14      \\\\\n",
       "\t queen    & clubs    & 12       & 15      \\\\\n",
       "\t jack     & clubs    & 11       & 16      \\\\\n",
       "\t ten      & clubs    & 10       & 17      \\\\\n",
       "\t nine     & clubs    &  9       & 18      \\\\\n",
       "\t eight    & clubs    &  8       & 19      \\\\\n",
       "\t seven    & clubs    &  7       & 20      \\\\\n",
       "\t six      & clubs    &  6       & 21      \\\\\n",
       "\t five     & clubs    &  5       & 22      \\\\\n",
       "\t four     & clubs    &  4       & 23      \\\\\n",
       "\t three    & clubs    &  3       & 24      \\\\\n",
       "\t two      & clubs    &  2       & 25      \\\\\n",
       "\t ace      & clubs    &  1       & 26      \\\\\n",
       "\t king     & diamonds & 13       & 27      \\\\\n",
       "\t queen    & diamonds & 12       & 28      \\\\\n",
       "\t jack     & diamonds & 11       & 29      \\\\\n",
       "\t ten      & diamonds & 10       & 30      \\\\\n",
       "\t nine     & diamonds &  9       & 31      \\\\\n",
       "\t eight    & diamonds &  8       & 32      \\\\\n",
       "\t seven    & diamonds &  7       & 33      \\\\\n",
       "\t six      & diamonds &  6       & 34      \\\\\n",
       "\t five     & diamonds &  5       & 35      \\\\\n",
       "\t four     & diamonds &  4       & 36      \\\\\n",
       "\t three    & diamonds &  3       & 37      \\\\\n",
       "\t two      & diamonds &  2       & 38      \\\\\n",
       "\t ace      & diamonds &  1       & 39      \\\\\n",
       "\t king     & hearts   & 13       & 40      \\\\\n",
       "\t queen    & hearts   & 12       & 41      \\\\\n",
       "\t jack     & hearts   & 11       & 42      \\\\\n",
       "\t ten      & hearts   & 10       & 43      \\\\\n",
       "\t nine     & hearts   &  9       & 44      \\\\\n",
       "\t eight    & hearts   &  8       & 45      \\\\\n",
       "\t seven    & hearts   &  7       & 46      \\\\\n",
       "\t six      & hearts   &  6       & 47      \\\\\n",
       "\t five     & hearts   &  5       & 48      \\\\\n",
       "\t four     & hearts   &  4       & 49      \\\\\n",
       "\t three    & hearts   &  3       & 50      \\\\\n",
       "\t two      & hearts   &  2       & 51      \\\\\n",
       "\t ace      & hearts   &  1       & 52      \\\\\n",
       "\\end{tabular}\n"
      ],
      "text/markdown": [
       "\n",
       "face | suit | value | new | \n",
       "|---|---|---|---|---|---|---|---|---|---|---|---|---|---|---|---|---|---|---|---|---|---|---|---|---|---|---|---|---|---|---|---|---|---|---|---|---|---|---|---|---|---|---|---|---|---|---|---|---|---|---|---|\n",
       "| king     | spades   | 13       |  1       | \n",
       "| queen    | spades   | 12       |  2       | \n",
       "| jack     | spades   | 11       |  3       | \n",
       "| ten      | spades   | 10       |  4       | \n",
       "| nine     | spades   |  9       |  5       | \n",
       "| eight    | spades   |  8       |  6       | \n",
       "| seven    | spades   |  7       |  7       | \n",
       "| six      | spades   |  6       |  8       | \n",
       "| five     | spades   |  5       |  9       | \n",
       "| four     | spades   |  4       | 10       | \n",
       "| three    | spades   |  3       | 11       | \n",
       "| two      | spades   |  2       | 12       | \n",
       "| ace      | spades   |  1       | 13       | \n",
       "| king     | clubs    | 13       | 14       | \n",
       "| queen    | clubs    | 12       | 15       | \n",
       "| jack     | clubs    | 11       | 16       | \n",
       "| ten      | clubs    | 10       | 17       | \n",
       "| nine     | clubs    |  9       | 18       | \n",
       "| eight    | clubs    |  8       | 19       | \n",
       "| seven    | clubs    |  7       | 20       | \n",
       "| six      | clubs    |  6       | 21       | \n",
       "| five     | clubs    |  5       | 22       | \n",
       "| four     | clubs    |  4       | 23       | \n",
       "| three    | clubs    |  3       | 24       | \n",
       "| two      | clubs    |  2       | 25       | \n",
       "| ace      | clubs    |  1       | 26       | \n",
       "| king     | diamonds | 13       | 27       | \n",
       "| queen    | diamonds | 12       | 28       | \n",
       "| jack     | diamonds | 11       | 29       | \n",
       "| ten      | diamonds | 10       | 30       | \n",
       "| nine     | diamonds |  9       | 31       | \n",
       "| eight    | diamonds |  8       | 32       | \n",
       "| seven    | diamonds |  7       | 33       | \n",
       "| six      | diamonds |  6       | 34       | \n",
       "| five     | diamonds |  5       | 35       | \n",
       "| four     | diamonds |  4       | 36       | \n",
       "| three    | diamonds |  3       | 37       | \n",
       "| two      | diamonds |  2       | 38       | \n",
       "| ace      | diamonds |  1       | 39       | \n",
       "| king     | hearts   | 13       | 40       | \n",
       "| queen    | hearts   | 12       | 41       | \n",
       "| jack     | hearts   | 11       | 42       | \n",
       "| ten      | hearts   | 10       | 43       | \n",
       "| nine     | hearts   |  9       | 44       | \n",
       "| eight    | hearts   |  8       | 45       | \n",
       "| seven    | hearts   |  7       | 46       | \n",
       "| six      | hearts   |  6       | 47       | \n",
       "| five     | hearts   |  5       | 48       | \n",
       "| four     | hearts   |  4       | 49       | \n",
       "| three    | hearts   |  3       | 50       | \n",
       "| two      | hearts   |  2       | 51       | \n",
       "| ace      | hearts   |  1       | 52       | \n",
       "\n",
       "\n"
      ],
      "text/plain": [
       "   face  suit     value new\n",
       "1  king  spades   13     1 \n",
       "2  queen spades   12     2 \n",
       "3  jack  spades   11     3 \n",
       "4  ten   spades   10     4 \n",
       "5  nine  spades    9     5 \n",
       "6  eight spades    8     6 \n",
       "7  seven spades    7     7 \n",
       "8  six   spades    6     8 \n",
       "9  five  spades    5     9 \n",
       "10 four  spades    4    10 \n",
       "11 three spades    3    11 \n",
       "12 two   spades    2    12 \n",
       "13 ace   spades    1    13 \n",
       "14 king  clubs    13    14 \n",
       "15 queen clubs    12    15 \n",
       "16 jack  clubs    11    16 \n",
       "17 ten   clubs    10    17 \n",
       "18 nine  clubs     9    18 \n",
       "19 eight clubs     8    19 \n",
       "20 seven clubs     7    20 \n",
       "21 six   clubs     6    21 \n",
       "22 five  clubs     5    22 \n",
       "23 four  clubs     4    23 \n",
       "24 three clubs     3    24 \n",
       "25 two   clubs     2    25 \n",
       "26 ace   clubs     1    26 \n",
       "27 king  diamonds 13    27 \n",
       "28 queen diamonds 12    28 \n",
       "29 jack  diamonds 11    29 \n",
       "30 ten   diamonds 10    30 \n",
       "31 nine  diamonds  9    31 \n",
       "32 eight diamonds  8    32 \n",
       "33 seven diamonds  7    33 \n",
       "34 six   diamonds  6    34 \n",
       "35 five  diamonds  5    35 \n",
       "36 four  diamonds  4    36 \n",
       "37 three diamonds  3    37 \n",
       "38 two   diamonds  2    38 \n",
       "39 ace   diamonds  1    39 \n",
       "40 king  hearts   13    40 \n",
       "41 queen hearts   12    41 \n",
       "42 jack  hearts   11    42 \n",
       "43 ten   hearts   10    43 \n",
       "44 nine  hearts    9    44 \n",
       "45 eight hearts    8    45 \n",
       "46 seven hearts    7    46 \n",
       "47 six   hearts    6    47 \n",
       "48 five  hearts    5    48 \n",
       "49 four  hearts    4    49 \n",
       "50 three hearts    3    50 \n",
       "51 two   hearts    2    51 \n",
       "52 ace   hearts    1    52 "
      ]
     },
     "metadata": {},
     "output_type": "display_data"
    }
   ],
   "source": [
    "deck"
   ]
  },
  {
   "cell_type": "code",
   "execution_count": 15,
   "metadata": {},
   "outputs": [
    {
     "data": {
      "text/html": [
       "<table>\n",
       "<thead><tr><th></th><th scope=col>face</th><th scope=col>suit</th><th scope=col>value</th><th scope=col>new</th></tr></thead>\n",
       "<tbody>\n",
       "\t<tr><th scope=row>13</th><td>ace     </td><td>spades  </td><td>1       </td><td>13      </td></tr>\n",
       "\t<tr><th scope=row>26</th><td>ace     </td><td>clubs   </td><td>1       </td><td>26      </td></tr>\n",
       "\t<tr><th scope=row>39</th><td>ace     </td><td>diamonds</td><td>1       </td><td>39      </td></tr>\n",
       "\t<tr><th scope=row>52</th><td>ace     </td><td>hearts  </td><td>1       </td><td>52      </td></tr>\n",
       "</tbody>\n",
       "</table>\n"
      ],
      "text/latex": [
       "\\begin{tabular}{r|llll}\n",
       "  & face & suit & value & new\\\\\n",
       "\\hline\n",
       "\t13 & ace      & spades   & 1        & 13      \\\\\n",
       "\t26 & ace      & clubs    & 1        & 26      \\\\\n",
       "\t39 & ace      & diamonds & 1        & 39      \\\\\n",
       "\t52 & ace      & hearts   & 1        & 52      \\\\\n",
       "\\end{tabular}\n"
      ],
      "text/markdown": [
       "\n",
       "| <!--/--> | face | suit | value | new | \n",
       "|---|---|---|---|\n",
       "| 13 | ace      | spades   | 1        | 13       | \n",
       "| 26 | ace      | clubs    | 1        | 26       | \n",
       "| 39 | ace      | diamonds | 1        | 39       | \n",
       "| 52 | ace      | hearts   | 1        | 52       | \n",
       "\n",
       "\n"
      ],
      "text/plain": [
       "   face suit     value new\n",
       "13 ace  spades   1     13 \n",
       "26 ace  clubs    1     26 \n",
       "39 ace  diamonds 1     39 \n",
       "52 ace  hearts   1     52 "
      ]
     },
     "metadata": {},
     "output_type": "display_data"
    }
   ],
   "source": [
    "deck[c(13,26,39,52),]"
   ]
  },
  {
   "cell_type": "code",
   "execution_count": 16,
   "metadata": {},
   "outputs": [],
   "source": [
    "deck$value[c(13,26,39,52)] <- c(14,14,14,14)"
   ]
  },
  {
   "cell_type": "code",
   "execution_count": 17,
   "metadata": {},
   "outputs": [
    {
     "data": {
      "text/html": [
       "<table>\n",
       "<thead><tr><th scope=col>face</th><th scope=col>suit</th><th scope=col>value</th><th scope=col>new</th></tr></thead>\n",
       "<tbody>\n",
       "\t<tr><td>king    </td><td>spades  </td><td>13      </td><td> 1      </td></tr>\n",
       "\t<tr><td>queen   </td><td>spades  </td><td>12      </td><td> 2      </td></tr>\n",
       "\t<tr><td>jack    </td><td>spades  </td><td>11      </td><td> 3      </td></tr>\n",
       "\t<tr><td>ten     </td><td>spades  </td><td>10      </td><td> 4      </td></tr>\n",
       "\t<tr><td>nine    </td><td>spades  </td><td> 9      </td><td> 5      </td></tr>\n",
       "\t<tr><td>eight   </td><td>spades  </td><td> 8      </td><td> 6      </td></tr>\n",
       "\t<tr><td>seven   </td><td>spades  </td><td> 7      </td><td> 7      </td></tr>\n",
       "\t<tr><td>six     </td><td>spades  </td><td> 6      </td><td> 8      </td></tr>\n",
       "\t<tr><td>five    </td><td>spades  </td><td> 5      </td><td> 9      </td></tr>\n",
       "\t<tr><td>four    </td><td>spades  </td><td> 4      </td><td>10      </td></tr>\n",
       "\t<tr><td>three   </td><td>spades  </td><td> 3      </td><td>11      </td></tr>\n",
       "\t<tr><td>two     </td><td>spades  </td><td> 2      </td><td>12      </td></tr>\n",
       "\t<tr><td>ace     </td><td>spades  </td><td>14      </td><td>13      </td></tr>\n",
       "\t<tr><td>king    </td><td>clubs   </td><td>13      </td><td>14      </td></tr>\n",
       "\t<tr><td>queen   </td><td>clubs   </td><td>12      </td><td>15      </td></tr>\n",
       "\t<tr><td>jack    </td><td>clubs   </td><td>11      </td><td>16      </td></tr>\n",
       "\t<tr><td>ten     </td><td>clubs   </td><td>10      </td><td>17      </td></tr>\n",
       "\t<tr><td>nine    </td><td>clubs   </td><td> 9      </td><td>18      </td></tr>\n",
       "\t<tr><td>eight   </td><td>clubs   </td><td> 8      </td><td>19      </td></tr>\n",
       "\t<tr><td>seven   </td><td>clubs   </td><td> 7      </td><td>20      </td></tr>\n",
       "\t<tr><td>six     </td><td>clubs   </td><td> 6      </td><td>21      </td></tr>\n",
       "\t<tr><td>five    </td><td>clubs   </td><td> 5      </td><td>22      </td></tr>\n",
       "\t<tr><td>four    </td><td>clubs   </td><td> 4      </td><td>23      </td></tr>\n",
       "\t<tr><td>three   </td><td>clubs   </td><td> 3      </td><td>24      </td></tr>\n",
       "\t<tr><td>two     </td><td>clubs   </td><td> 2      </td><td>25      </td></tr>\n",
       "\t<tr><td>ace     </td><td>clubs   </td><td>14      </td><td>26      </td></tr>\n",
       "\t<tr><td>king    </td><td>diamonds</td><td>13      </td><td>27      </td></tr>\n",
       "\t<tr><td>queen   </td><td>diamonds</td><td>12      </td><td>28      </td></tr>\n",
       "\t<tr><td>jack    </td><td>diamonds</td><td>11      </td><td>29      </td></tr>\n",
       "\t<tr><td>ten     </td><td>diamonds</td><td>10      </td><td>30      </td></tr>\n",
       "\t<tr><td>nine    </td><td>diamonds</td><td> 9      </td><td>31      </td></tr>\n",
       "\t<tr><td>eight   </td><td>diamonds</td><td> 8      </td><td>32      </td></tr>\n",
       "\t<tr><td>seven   </td><td>diamonds</td><td> 7      </td><td>33      </td></tr>\n",
       "\t<tr><td>six     </td><td>diamonds</td><td> 6      </td><td>34      </td></tr>\n",
       "\t<tr><td>five    </td><td>diamonds</td><td> 5      </td><td>35      </td></tr>\n",
       "\t<tr><td>four    </td><td>diamonds</td><td> 4      </td><td>36      </td></tr>\n",
       "\t<tr><td>three   </td><td>diamonds</td><td> 3      </td><td>37      </td></tr>\n",
       "\t<tr><td>two     </td><td>diamonds</td><td> 2      </td><td>38      </td></tr>\n",
       "\t<tr><td>ace     </td><td>diamonds</td><td>14      </td><td>39      </td></tr>\n",
       "\t<tr><td>king    </td><td>hearts  </td><td>13      </td><td>40      </td></tr>\n",
       "\t<tr><td>queen   </td><td>hearts  </td><td>12      </td><td>41      </td></tr>\n",
       "\t<tr><td>jack    </td><td>hearts  </td><td>11      </td><td>42      </td></tr>\n",
       "\t<tr><td>ten     </td><td>hearts  </td><td>10      </td><td>43      </td></tr>\n",
       "\t<tr><td>nine    </td><td>hearts  </td><td> 9      </td><td>44      </td></tr>\n",
       "\t<tr><td>eight   </td><td>hearts  </td><td> 8      </td><td>45      </td></tr>\n",
       "\t<tr><td>seven   </td><td>hearts  </td><td> 7      </td><td>46      </td></tr>\n",
       "\t<tr><td>six     </td><td>hearts  </td><td> 6      </td><td>47      </td></tr>\n",
       "\t<tr><td>five    </td><td>hearts  </td><td> 5      </td><td>48      </td></tr>\n",
       "\t<tr><td>four    </td><td>hearts  </td><td> 4      </td><td>49      </td></tr>\n",
       "\t<tr><td>three   </td><td>hearts  </td><td> 3      </td><td>50      </td></tr>\n",
       "\t<tr><td>two     </td><td>hearts  </td><td> 2      </td><td>51      </td></tr>\n",
       "\t<tr><td>ace     </td><td>hearts  </td><td>14      </td><td>52      </td></tr>\n",
       "</tbody>\n",
       "</table>\n"
      ],
      "text/latex": [
       "\\begin{tabular}{r|llll}\n",
       " face & suit & value & new\\\\\n",
       "\\hline\n",
       "\t king     & spades   & 13       &  1      \\\\\n",
       "\t queen    & spades   & 12       &  2      \\\\\n",
       "\t jack     & spades   & 11       &  3      \\\\\n",
       "\t ten      & spades   & 10       &  4      \\\\\n",
       "\t nine     & spades   &  9       &  5      \\\\\n",
       "\t eight    & spades   &  8       &  6      \\\\\n",
       "\t seven    & spades   &  7       &  7      \\\\\n",
       "\t six      & spades   &  6       &  8      \\\\\n",
       "\t five     & spades   &  5       &  9      \\\\\n",
       "\t four     & spades   &  4       & 10      \\\\\n",
       "\t three    & spades   &  3       & 11      \\\\\n",
       "\t two      & spades   &  2       & 12      \\\\\n",
       "\t ace      & spades   & 14       & 13      \\\\\n",
       "\t king     & clubs    & 13       & 14      \\\\\n",
       "\t queen    & clubs    & 12       & 15      \\\\\n",
       "\t jack     & clubs    & 11       & 16      \\\\\n",
       "\t ten      & clubs    & 10       & 17      \\\\\n",
       "\t nine     & clubs    &  9       & 18      \\\\\n",
       "\t eight    & clubs    &  8       & 19      \\\\\n",
       "\t seven    & clubs    &  7       & 20      \\\\\n",
       "\t six      & clubs    &  6       & 21      \\\\\n",
       "\t five     & clubs    &  5       & 22      \\\\\n",
       "\t four     & clubs    &  4       & 23      \\\\\n",
       "\t three    & clubs    &  3       & 24      \\\\\n",
       "\t two      & clubs    &  2       & 25      \\\\\n",
       "\t ace      & clubs    & 14       & 26      \\\\\n",
       "\t king     & diamonds & 13       & 27      \\\\\n",
       "\t queen    & diamonds & 12       & 28      \\\\\n",
       "\t jack     & diamonds & 11       & 29      \\\\\n",
       "\t ten      & diamonds & 10       & 30      \\\\\n",
       "\t nine     & diamonds &  9       & 31      \\\\\n",
       "\t eight    & diamonds &  8       & 32      \\\\\n",
       "\t seven    & diamonds &  7       & 33      \\\\\n",
       "\t six      & diamonds &  6       & 34      \\\\\n",
       "\t five     & diamonds &  5       & 35      \\\\\n",
       "\t four     & diamonds &  4       & 36      \\\\\n",
       "\t three    & diamonds &  3       & 37      \\\\\n",
       "\t two      & diamonds &  2       & 38      \\\\\n",
       "\t ace      & diamonds & 14       & 39      \\\\\n",
       "\t king     & hearts   & 13       & 40      \\\\\n",
       "\t queen    & hearts   & 12       & 41      \\\\\n",
       "\t jack     & hearts   & 11       & 42      \\\\\n",
       "\t ten      & hearts   & 10       & 43      \\\\\n",
       "\t nine     & hearts   &  9       & 44      \\\\\n",
       "\t eight    & hearts   &  8       & 45      \\\\\n",
       "\t seven    & hearts   &  7       & 46      \\\\\n",
       "\t six      & hearts   &  6       & 47      \\\\\n",
       "\t five     & hearts   &  5       & 48      \\\\\n",
       "\t four     & hearts   &  4       & 49      \\\\\n",
       "\t three    & hearts   &  3       & 50      \\\\\n",
       "\t two      & hearts   &  2       & 51      \\\\\n",
       "\t ace      & hearts   & 14       & 52      \\\\\n",
       "\\end{tabular}\n"
      ],
      "text/markdown": [
       "\n",
       "face | suit | value | new | \n",
       "|---|---|---|---|---|---|---|---|---|---|---|---|---|---|---|---|---|---|---|---|---|---|---|---|---|---|---|---|---|---|---|---|---|---|---|---|---|---|---|---|---|---|---|---|---|---|---|---|---|---|---|---|\n",
       "| king     | spades   | 13       |  1       | \n",
       "| queen    | spades   | 12       |  2       | \n",
       "| jack     | spades   | 11       |  3       | \n",
       "| ten      | spades   | 10       |  4       | \n",
       "| nine     | spades   |  9       |  5       | \n",
       "| eight    | spades   |  8       |  6       | \n",
       "| seven    | spades   |  7       |  7       | \n",
       "| six      | spades   |  6       |  8       | \n",
       "| five     | spades   |  5       |  9       | \n",
       "| four     | spades   |  4       | 10       | \n",
       "| three    | spades   |  3       | 11       | \n",
       "| two      | spades   |  2       | 12       | \n",
       "| ace      | spades   | 14       | 13       | \n",
       "| king     | clubs    | 13       | 14       | \n",
       "| queen    | clubs    | 12       | 15       | \n",
       "| jack     | clubs    | 11       | 16       | \n",
       "| ten      | clubs    | 10       | 17       | \n",
       "| nine     | clubs    |  9       | 18       | \n",
       "| eight    | clubs    |  8       | 19       | \n",
       "| seven    | clubs    |  7       | 20       | \n",
       "| six      | clubs    |  6       | 21       | \n",
       "| five     | clubs    |  5       | 22       | \n",
       "| four     | clubs    |  4       | 23       | \n",
       "| three    | clubs    |  3       | 24       | \n",
       "| two      | clubs    |  2       | 25       | \n",
       "| ace      | clubs    | 14       | 26       | \n",
       "| king     | diamonds | 13       | 27       | \n",
       "| queen    | diamonds | 12       | 28       | \n",
       "| jack     | diamonds | 11       | 29       | \n",
       "| ten      | diamonds | 10       | 30       | \n",
       "| nine     | diamonds |  9       | 31       | \n",
       "| eight    | diamonds |  8       | 32       | \n",
       "| seven    | diamonds |  7       | 33       | \n",
       "| six      | diamonds |  6       | 34       | \n",
       "| five     | diamonds |  5       | 35       | \n",
       "| four     | diamonds |  4       | 36       | \n",
       "| three    | diamonds |  3       | 37       | \n",
       "| two      | diamonds |  2       | 38       | \n",
       "| ace      | diamonds | 14       | 39       | \n",
       "| king     | hearts   | 13       | 40       | \n",
       "| queen    | hearts   | 12       | 41       | \n",
       "| jack     | hearts   | 11       | 42       | \n",
       "| ten      | hearts   | 10       | 43       | \n",
       "| nine     | hearts   |  9       | 44       | \n",
       "| eight    | hearts   |  8       | 45       | \n",
       "| seven    | hearts   |  7       | 46       | \n",
       "| six      | hearts   |  6       | 47       | \n",
       "| five     | hearts   |  5       | 48       | \n",
       "| four     | hearts   |  4       | 49       | \n",
       "| three    | hearts   |  3       | 50       | \n",
       "| two      | hearts   |  2       | 51       | \n",
       "| ace      | hearts   | 14       | 52       | \n",
       "\n",
       "\n"
      ],
      "text/plain": [
       "   face  suit     value new\n",
       "1  king  spades   13     1 \n",
       "2  queen spades   12     2 \n",
       "3  jack  spades   11     3 \n",
       "4  ten   spades   10     4 \n",
       "5  nine  spades    9     5 \n",
       "6  eight spades    8     6 \n",
       "7  seven spades    7     7 \n",
       "8  six   spades    6     8 \n",
       "9  five  spades    5     9 \n",
       "10 four  spades    4    10 \n",
       "11 three spades    3    11 \n",
       "12 two   spades    2    12 \n",
       "13 ace   spades   14    13 \n",
       "14 king  clubs    13    14 \n",
       "15 queen clubs    12    15 \n",
       "16 jack  clubs    11    16 \n",
       "17 ten   clubs    10    17 \n",
       "18 nine  clubs     9    18 \n",
       "19 eight clubs     8    19 \n",
       "20 seven clubs     7    20 \n",
       "21 six   clubs     6    21 \n",
       "22 five  clubs     5    22 \n",
       "23 four  clubs     4    23 \n",
       "24 three clubs     3    24 \n",
       "25 two   clubs     2    25 \n",
       "26 ace   clubs    14    26 \n",
       "27 king  diamonds 13    27 \n",
       "28 queen diamonds 12    28 \n",
       "29 jack  diamonds 11    29 \n",
       "30 ten   diamonds 10    30 \n",
       "31 nine  diamonds  9    31 \n",
       "32 eight diamonds  8    32 \n",
       "33 seven diamonds  7    33 \n",
       "34 six   diamonds  6    34 \n",
       "35 five  diamonds  5    35 \n",
       "36 four  diamonds  4    36 \n",
       "37 three diamonds  3    37 \n",
       "38 two   diamonds  2    38 \n",
       "39 ace   diamonds 14    39 \n",
       "40 king  hearts   13    40 \n",
       "41 queen hearts   12    41 \n",
       "42 jack  hearts   11    42 \n",
       "43 ten   hearts   10    43 \n",
       "44 nine  hearts    9    44 \n",
       "45 eight hearts    8    45 \n",
       "46 seven hearts    7    46 \n",
       "47 six   hearts    6    47 \n",
       "48 five  hearts    5    48 \n",
       "49 four  hearts    4    49 \n",
       "50 three hearts    3    50 \n",
       "51 two   hearts    2    51 \n",
       "52 ace   hearts   14    52 "
      ]
     },
     "metadata": {},
     "output_type": "display_data"
    }
   ],
   "source": [
    "deck"
   ]
  },
  {
   "cell_type": "code",
   "execution_count": 18,
   "metadata": {},
   "outputs": [
    {
     "data": {
      "text/html": [
       "<table>\n",
       "<thead><tr><th scope=col>face</th><th scope=col>suit</th><th scope=col>value</th><th scope=col>new</th></tr></thead>\n",
       "<tbody>\n",
       "\t<tr><td>king  </td><td>spades</td><td>13    </td><td> 1    </td></tr>\n",
       "\t<tr><td>queen </td><td>spades</td><td>12    </td><td> 2    </td></tr>\n",
       "\t<tr><td>jack  </td><td>spades</td><td>11    </td><td> 3    </td></tr>\n",
       "\t<tr><td>ten   </td><td>spades</td><td>10    </td><td> 4    </td></tr>\n",
       "\t<tr><td>nine  </td><td>spades</td><td> 9    </td><td> 5    </td></tr>\n",
       "\t<tr><td>eight </td><td>spades</td><td> 8    </td><td> 6    </td></tr>\n",
       "\t<tr><td>seven </td><td>spades</td><td> 7    </td><td> 7    </td></tr>\n",
       "\t<tr><td>six   </td><td>spades</td><td> 6    </td><td> 8    </td></tr>\n",
       "\t<tr><td>five  </td><td>spades</td><td> 5    </td><td> 9    </td></tr>\n",
       "\t<tr><td>four  </td><td>spades</td><td> 4    </td><td>10    </td></tr>\n",
       "\t<tr><td>three </td><td>spades</td><td> 3    </td><td>11    </td></tr>\n",
       "\t<tr><td>two   </td><td>spades</td><td> 2    </td><td>12    </td></tr>\n",
       "\t<tr><td>ace   </td><td>spades</td><td>14    </td><td>13    </td></tr>\n",
       "</tbody>\n",
       "</table>\n"
      ],
      "text/latex": [
       "\\begin{tabular}{r|llll}\n",
       " face & suit & value & new\\\\\n",
       "\\hline\n",
       "\t king   & spades & 13     &  1    \\\\\n",
       "\t queen  & spades & 12     &  2    \\\\\n",
       "\t jack   & spades & 11     &  3    \\\\\n",
       "\t ten    & spades & 10     &  4    \\\\\n",
       "\t nine   & spades &  9     &  5    \\\\\n",
       "\t eight  & spades &  8     &  6    \\\\\n",
       "\t seven  & spades &  7     &  7    \\\\\n",
       "\t six    & spades &  6     &  8    \\\\\n",
       "\t five   & spades &  5     &  9    \\\\\n",
       "\t four   & spades &  4     & 10    \\\\\n",
       "\t three  & spades &  3     & 11    \\\\\n",
       "\t two    & spades &  2     & 12    \\\\\n",
       "\t ace    & spades & 14     & 13    \\\\\n",
       "\\end{tabular}\n"
      ],
      "text/markdown": [
       "\n",
       "face | suit | value | new | \n",
       "|---|---|---|---|---|---|---|---|---|---|---|---|---|\n",
       "| king   | spades | 13     |  1     | \n",
       "| queen  | spades | 12     |  2     | \n",
       "| jack   | spades | 11     |  3     | \n",
       "| ten    | spades | 10     |  4     | \n",
       "| nine   | spades |  9     |  5     | \n",
       "| eight  | spades |  8     |  6     | \n",
       "| seven  | spades |  7     |  7     | \n",
       "| six    | spades |  6     |  8     | \n",
       "| five   | spades |  5     |  9     | \n",
       "| four   | spades |  4     | 10     | \n",
       "| three  | spades |  3     | 11     | \n",
       "| two    | spades |  2     | 12     | \n",
       "| ace    | spades | 14     | 13     | \n",
       "\n",
       "\n"
      ],
      "text/plain": [
       "   face  suit   value new\n",
       "1  king  spades 13     1 \n",
       "2  queen spades 12     2 \n",
       "3  jack  spades 11     3 \n",
       "4  ten   spades 10     4 \n",
       "5  nine  spades  9     5 \n",
       "6  eight spades  8     6 \n",
       "7  seven spades  7     7 \n",
       "8  six   spades  6     8 \n",
       "9  five  spades  5     9 \n",
       "10 four  spades  4    10 \n",
       "11 three spades  3    11 \n",
       "12 two   spades  2    12 \n",
       "13 ace   spades 14    13 "
      ]
     },
     "metadata": {},
     "output_type": "display_data"
    }
   ],
   "source": [
    "head(deck,13)"
   ]
  },
  {
   "cell_type": "markdown",
   "metadata": {},
   "source": [
    "### logicTest"
   ]
  },
  {
   "cell_type": "code",
   "execution_count": 19,
   "metadata": {},
   "outputs": [
    {
     "data": {
      "text/html": [
       "<ol class=list-inline>\n",
       "\t<li>TRUE</li>\n",
       "\t<li>FALSE</li>\n",
       "\t<li>FALSE</li>\n",
       "</ol>\n"
      ],
      "text/latex": [
       "\\begin{enumerate*}\n",
       "\\item TRUE\n",
       "\\item FALSE\n",
       "\\item FALSE\n",
       "\\end{enumerate*}\n"
      ],
      "text/markdown": [
       "1. TRUE\n",
       "2. FALSE\n",
       "3. FALSE\n",
       "\n",
       "\n"
      ],
      "text/plain": [
       "[1]  TRUE FALSE FALSE"
      ]
     },
     "metadata": {},
     "output_type": "display_data"
    }
   ],
   "source": [
    "1>c(0,1,2)"
   ]
  },
  {
   "cell_type": "code",
   "execution_count": 20,
   "metadata": {},
   "outputs": [
    {
     "data": {
      "text/html": [
       "<ol class=list-inline>\n",
       "\t<li>TRUE</li>\n",
       "\t<li>FALSE</li>\n",
       "\t<li>TRUE</li>\n",
       "</ol>\n"
      ],
      "text/latex": [
       "\\begin{enumerate*}\n",
       "\\item TRUE\n",
       "\\item FALSE\n",
       "\\item TRUE\n",
       "\\end{enumerate*}\n"
      ],
      "text/markdown": [
       "1. TRUE\n",
       "2. FALSE\n",
       "3. TRUE\n",
       "\n",
       "\n"
      ],
      "text/plain": [
       "[1]  TRUE FALSE  TRUE"
      ]
     },
     "metadata": {},
     "output_type": "display_data"
    }
   ],
   "source": [
    "c(1,2,3)==c(1,3,3)"
   ]
  },
  {
   "cell_type": "code",
   "execution_count": 21,
   "metadata": {},
   "outputs": [
    {
     "data": {
      "text/html": [
       "FALSE"
      ],
      "text/latex": [
       "FALSE"
      ],
      "text/markdown": [
       "FALSE"
      ],
      "text/plain": [
       "[1] FALSE"
      ]
     },
     "metadata": {},
     "output_type": "display_data"
    }
   ],
   "source": [
    "1 %in% c(3,4,5)"
   ]
  },
  {
   "cell_type": "code",
   "execution_count": 22,
   "metadata": {},
   "outputs": [
    {
     "data": {
      "text/html": [
       "TRUE"
      ],
      "text/latex": [
       "TRUE"
      ],
      "text/markdown": [
       "TRUE"
      ],
      "text/plain": [
       "[1] TRUE"
      ]
     },
     "metadata": {},
     "output_type": "display_data"
    }
   ],
   "source": [
    "1 %in% c(1,2,3)"
   ]
  },
  {
   "cell_type": "code",
   "execution_count": 23,
   "metadata": {},
   "outputs": [
    {
     "data": {
      "text/html": [
       "<ol class=list-inline>\n",
       "\t<li>TRUE</li>\n",
       "\t<li>TRUE</li>\n",
       "</ol>\n"
      ],
      "text/latex": [
       "\\begin{enumerate*}\n",
       "\\item TRUE\n",
       "\\item TRUE\n",
       "\\end{enumerate*}\n"
      ],
      "text/markdown": [
       "1. TRUE\n",
       "2. TRUE\n",
       "\n",
       "\n"
      ],
      "text/plain": [
       "[1] TRUE TRUE"
      ]
     },
     "metadata": {},
     "output_type": "display_data"
    }
   ],
   "source": [
    "c(1,2) %in% c(2,1,4)"
   ]
  },
  {
   "cell_type": "code",
   "execution_count": 24,
   "metadata": {},
   "outputs": [
    {
     "data": {
      "text/html": [
       "<ol class=list-inline>\n",
       "\t<li>FALSE</li>\n",
       "\t<li>FALSE</li>\n",
       "\t<li>FALSE</li>\n",
       "\t<li>FALSE</li>\n",
       "\t<li>FALSE</li>\n",
       "\t<li>FALSE</li>\n",
       "\t<li>FALSE</li>\n",
       "\t<li>FALSE</li>\n",
       "\t<li>FALSE</li>\n",
       "\t<li>FALSE</li>\n",
       "\t<li>FALSE</li>\n",
       "\t<li>FALSE</li>\n",
       "\t<li>TRUE</li>\n",
       "\t<li>FALSE</li>\n",
       "\t<li>FALSE</li>\n",
       "\t<li>FALSE</li>\n",
       "\t<li>FALSE</li>\n",
       "\t<li>FALSE</li>\n",
       "\t<li>FALSE</li>\n",
       "\t<li>FALSE</li>\n",
       "\t<li>FALSE</li>\n",
       "\t<li>FALSE</li>\n",
       "\t<li>FALSE</li>\n",
       "\t<li>FALSE</li>\n",
       "\t<li>FALSE</li>\n",
       "\t<li>TRUE</li>\n",
       "\t<li>FALSE</li>\n",
       "\t<li>FALSE</li>\n",
       "\t<li>FALSE</li>\n",
       "\t<li>FALSE</li>\n",
       "\t<li>FALSE</li>\n",
       "\t<li>FALSE</li>\n",
       "\t<li>FALSE</li>\n",
       "\t<li>FALSE</li>\n",
       "\t<li>FALSE</li>\n",
       "\t<li>FALSE</li>\n",
       "\t<li>FALSE</li>\n",
       "\t<li>FALSE</li>\n",
       "\t<li>TRUE</li>\n",
       "\t<li>FALSE</li>\n",
       "\t<li>FALSE</li>\n",
       "\t<li>FALSE</li>\n",
       "\t<li>FALSE</li>\n",
       "\t<li>FALSE</li>\n",
       "\t<li>FALSE</li>\n",
       "\t<li>FALSE</li>\n",
       "\t<li>FALSE</li>\n",
       "\t<li>FALSE</li>\n",
       "\t<li>FALSE</li>\n",
       "\t<li>FALSE</li>\n",
       "\t<li>FALSE</li>\n",
       "\t<li>TRUE</li>\n",
       "</ol>\n"
      ],
      "text/latex": [
       "\\begin{enumerate*}\n",
       "\\item FALSE\n",
       "\\item FALSE\n",
       "\\item FALSE\n",
       "\\item FALSE\n",
       "\\item FALSE\n",
       "\\item FALSE\n",
       "\\item FALSE\n",
       "\\item FALSE\n",
       "\\item FALSE\n",
       "\\item FALSE\n",
       "\\item FALSE\n",
       "\\item FALSE\n",
       "\\item TRUE\n",
       "\\item FALSE\n",
       "\\item FALSE\n",
       "\\item FALSE\n",
       "\\item FALSE\n",
       "\\item FALSE\n",
       "\\item FALSE\n",
       "\\item FALSE\n",
       "\\item FALSE\n",
       "\\item FALSE\n",
       "\\item FALSE\n",
       "\\item FALSE\n",
       "\\item FALSE\n",
       "\\item TRUE\n",
       "\\item FALSE\n",
       "\\item FALSE\n",
       "\\item FALSE\n",
       "\\item FALSE\n",
       "\\item FALSE\n",
       "\\item FALSE\n",
       "\\item FALSE\n",
       "\\item FALSE\n",
       "\\item FALSE\n",
       "\\item FALSE\n",
       "\\item FALSE\n",
       "\\item FALSE\n",
       "\\item TRUE\n",
       "\\item FALSE\n",
       "\\item FALSE\n",
       "\\item FALSE\n",
       "\\item FALSE\n",
       "\\item FALSE\n",
       "\\item FALSE\n",
       "\\item FALSE\n",
       "\\item FALSE\n",
       "\\item FALSE\n",
       "\\item FALSE\n",
       "\\item FALSE\n",
       "\\item FALSE\n",
       "\\item TRUE\n",
       "\\end{enumerate*}\n"
      ],
      "text/markdown": [
       "1. FALSE\n",
       "2. FALSE\n",
       "3. FALSE\n",
       "4. FALSE\n",
       "5. FALSE\n",
       "6. FALSE\n",
       "7. FALSE\n",
       "8. FALSE\n",
       "9. FALSE\n",
       "10. FALSE\n",
       "11. FALSE\n",
       "12. FALSE\n",
       "13. TRUE\n",
       "14. FALSE\n",
       "15. FALSE\n",
       "16. FALSE\n",
       "17. FALSE\n",
       "18. FALSE\n",
       "19. FALSE\n",
       "20. FALSE\n",
       "21. FALSE\n",
       "22. FALSE\n",
       "23. FALSE\n",
       "24. FALSE\n",
       "25. FALSE\n",
       "26. TRUE\n",
       "27. FALSE\n",
       "28. FALSE\n",
       "29. FALSE\n",
       "30. FALSE\n",
       "31. FALSE\n",
       "32. FALSE\n",
       "33. FALSE\n",
       "34. FALSE\n",
       "35. FALSE\n",
       "36. FALSE\n",
       "37. FALSE\n",
       "38. FALSE\n",
       "39. TRUE\n",
       "40. FALSE\n",
       "41. FALSE\n",
       "42. FALSE\n",
       "43. FALSE\n",
       "44. FALSE\n",
       "45. FALSE\n",
       "46. FALSE\n",
       "47. FALSE\n",
       "48. FALSE\n",
       "49. FALSE\n",
       "50. FALSE\n",
       "51. FALSE\n",
       "52. TRUE\n",
       "\n",
       "\n"
      ],
      "text/plain": [
       " [1] FALSE FALSE FALSE FALSE FALSE FALSE FALSE FALSE FALSE FALSE FALSE FALSE\n",
       "[13]  TRUE FALSE FALSE FALSE FALSE FALSE FALSE FALSE FALSE FALSE FALSE FALSE\n",
       "[25] FALSE  TRUE FALSE FALSE FALSE FALSE FALSE FALSE FALSE FALSE FALSE FALSE\n",
       "[37] FALSE FALSE  TRUE FALSE FALSE FALSE FALSE FALSE FALSE FALSE FALSE FALSE\n",
       "[49] FALSE FALSE FALSE  TRUE"
      ]
     },
     "metadata": {},
     "output_type": "display_data"
    }
   ],
   "source": [
    "deck$face == \"ace\""
   ]
  },
  {
   "cell_type": "code",
   "execution_count": 25,
   "metadata": {},
   "outputs": [
    {
     "data": {
      "text/html": [
       "4"
      ],
      "text/latex": [
       "4"
      ],
      "text/markdown": [
       "4"
      ],
      "text/plain": [
       "[1] 4"
      ]
     },
     "metadata": {},
     "output_type": "display_data"
    }
   ],
   "source": [
    "sum(deck$face==\"ace\")"
   ]
  },
  {
   "cell_type": "code",
   "execution_count": 26,
   "metadata": {},
   "outputs": [
    {
     "data": {
      "text/html": [
       "<ol class=list-inline>\n",
       "\t<li>14</li>\n",
       "\t<li>14</li>\n",
       "\t<li>14</li>\n",
       "\t<li>14</li>\n",
       "</ol>\n"
      ],
      "text/latex": [
       "\\begin{enumerate*}\n",
       "\\item 14\n",
       "\\item 14\n",
       "\\item 14\n",
       "\\item 14\n",
       "\\end{enumerate*}\n"
      ],
      "text/markdown": [
       "1. 14\n",
       "2. 14\n",
       "3. 14\n",
       "4. 14\n",
       "\n",
       "\n"
      ],
      "text/plain": [
       "[1] 14 14 14 14"
      ]
     },
     "metadata": {},
     "output_type": "display_data"
    }
   ],
   "source": [
    "deck$value[deck$face==\"ace\"]"
   ]
  },
  {
   "cell_type": "code",
   "execution_count": 27,
   "metadata": {},
   "outputs": [
    {
     "data": {
      "text/html": [
       "<ol class=list-inline>\n",
       "\t<li>1</li>\n",
       "\t<li>14</li>\n",
       "\t<li>27</li>\n",
       "\t<li>40</li>\n",
       "</ol>\n"
      ],
      "text/latex": [
       "\\begin{enumerate*}\n",
       "\\item 1\n",
       "\\item 14\n",
       "\\item 27\n",
       "\\item 40\n",
       "\\end{enumerate*}\n"
      ],
      "text/markdown": [
       "1. 1\n",
       "2. 14\n",
       "3. 27\n",
       "4. 40\n",
       "\n",
       "\n"
      ],
      "text/plain": [
       "[1]  1 14 27 40"
      ]
     },
     "metadata": {},
     "output_type": "display_data"
    }
   ],
   "source": [
    "deck$new[deck$face==\"king\"]"
   ]
  },
  {
   "cell_type": "code",
   "execution_count": 28,
   "metadata": {
    "scrolled": true
   },
   "outputs": [
    {
     "data": {
      "text/html": [
       "<table>\n",
       "<thead><tr><th scope=col>face</th><th scope=col>suit</th><th scope=col>value</th><th scope=col>new</th></tr></thead>\n",
       "<tbody>\n",
       "\t<tr><td>king    </td><td>spades  </td><td>13      </td><td> 1      </td></tr>\n",
       "\t<tr><td>queen   </td><td>spades  </td><td>12      </td><td> 2      </td></tr>\n",
       "\t<tr><td>jack    </td><td>spades  </td><td>11      </td><td> 3      </td></tr>\n",
       "\t<tr><td>ten     </td><td>spades  </td><td>10      </td><td> 4      </td></tr>\n",
       "\t<tr><td>nine    </td><td>spades  </td><td> 9      </td><td> 5      </td></tr>\n",
       "\t<tr><td>eight   </td><td>spades  </td><td> 8      </td><td> 6      </td></tr>\n",
       "\t<tr><td>seven   </td><td>spades  </td><td> 7      </td><td> 7      </td></tr>\n",
       "\t<tr><td>six     </td><td>spades  </td><td> 6      </td><td> 8      </td></tr>\n",
       "\t<tr><td>five    </td><td>spades  </td><td> 5      </td><td> 9      </td></tr>\n",
       "\t<tr><td>four    </td><td>spades  </td><td> 4      </td><td>10      </td></tr>\n",
       "\t<tr><td>three   </td><td>spades  </td><td> 3      </td><td>11      </td></tr>\n",
       "\t<tr><td>two     </td><td>spades  </td><td> 2      </td><td>12      </td></tr>\n",
       "\t<tr><td>ace     </td><td>spades  </td><td>14      </td><td>13      </td></tr>\n",
       "\t<tr><td>king    </td><td>clubs   </td><td>13      </td><td>14      </td></tr>\n",
       "\t<tr><td>queen   </td><td>clubs   </td><td>12      </td><td>15      </td></tr>\n",
       "\t<tr><td>jack    </td><td>clubs   </td><td>11      </td><td>16      </td></tr>\n",
       "\t<tr><td>ten     </td><td>clubs   </td><td>10      </td><td>17      </td></tr>\n",
       "\t<tr><td>nine    </td><td>clubs   </td><td> 9      </td><td>18      </td></tr>\n",
       "\t<tr><td>eight   </td><td>clubs   </td><td> 8      </td><td>19      </td></tr>\n",
       "\t<tr><td>seven   </td><td>clubs   </td><td> 7      </td><td>20      </td></tr>\n",
       "\t<tr><td>six     </td><td>clubs   </td><td> 6      </td><td>21      </td></tr>\n",
       "\t<tr><td>five    </td><td>clubs   </td><td> 5      </td><td>22      </td></tr>\n",
       "\t<tr><td>four    </td><td>clubs   </td><td> 4      </td><td>23      </td></tr>\n",
       "\t<tr><td>three   </td><td>clubs   </td><td> 3      </td><td>24      </td></tr>\n",
       "\t<tr><td>two     </td><td>clubs   </td><td> 2      </td><td>25      </td></tr>\n",
       "\t<tr><td>ace     </td><td>clubs   </td><td>14      </td><td>26      </td></tr>\n",
       "\t<tr><td>king    </td><td>diamonds</td><td>13      </td><td>27      </td></tr>\n",
       "\t<tr><td>queen   </td><td>diamonds</td><td>12      </td><td>28      </td></tr>\n",
       "\t<tr><td>jack    </td><td>diamonds</td><td>11      </td><td>29      </td></tr>\n",
       "\t<tr><td>ten     </td><td>diamonds</td><td>10      </td><td>30      </td></tr>\n",
       "\t<tr><td>nine    </td><td>diamonds</td><td> 9      </td><td>31      </td></tr>\n",
       "\t<tr><td>eight   </td><td>diamonds</td><td> 8      </td><td>32      </td></tr>\n",
       "\t<tr><td>seven   </td><td>diamonds</td><td> 7      </td><td>33      </td></tr>\n",
       "\t<tr><td>six     </td><td>diamonds</td><td> 6      </td><td>34      </td></tr>\n",
       "\t<tr><td>five    </td><td>diamonds</td><td> 5      </td><td>35      </td></tr>\n",
       "\t<tr><td>four    </td><td>diamonds</td><td> 4      </td><td>36      </td></tr>\n",
       "\t<tr><td>three   </td><td>diamonds</td><td> 3      </td><td>37      </td></tr>\n",
       "\t<tr><td>two     </td><td>diamonds</td><td> 2      </td><td>38      </td></tr>\n",
       "\t<tr><td>ace     </td><td>diamonds</td><td>14      </td><td>39      </td></tr>\n",
       "\t<tr><td>king    </td><td>hearts  </td><td>13      </td><td>40      </td></tr>\n",
       "\t<tr><td>queen   </td><td>hearts  </td><td>12      </td><td>41      </td></tr>\n",
       "\t<tr><td>jack    </td><td>hearts  </td><td>11      </td><td>42      </td></tr>\n",
       "\t<tr><td>ten     </td><td>hearts  </td><td>10      </td><td>43      </td></tr>\n",
       "\t<tr><td>nine    </td><td>hearts  </td><td> 9      </td><td>44      </td></tr>\n",
       "\t<tr><td>eight   </td><td>hearts  </td><td> 8      </td><td>45      </td></tr>\n",
       "\t<tr><td>seven   </td><td>hearts  </td><td> 7      </td><td>46      </td></tr>\n",
       "\t<tr><td>six     </td><td>hearts  </td><td> 6      </td><td>47      </td></tr>\n",
       "\t<tr><td>five    </td><td>hearts  </td><td> 5      </td><td>48      </td></tr>\n",
       "\t<tr><td>four    </td><td>hearts  </td><td> 4      </td><td>49      </td></tr>\n",
       "\t<tr><td>three   </td><td>hearts  </td><td> 3      </td><td>50      </td></tr>\n",
       "\t<tr><td>two     </td><td>hearts  </td><td> 2      </td><td>51      </td></tr>\n",
       "\t<tr><td>ace     </td><td>hearts  </td><td>14      </td><td>52      </td></tr>\n",
       "</tbody>\n",
       "</table>\n"
      ],
      "text/latex": [
       "\\begin{tabular}{r|llll}\n",
       " face & suit & value & new\\\\\n",
       "\\hline\n",
       "\t king     & spades   & 13       &  1      \\\\\n",
       "\t queen    & spades   & 12       &  2      \\\\\n",
       "\t jack     & spades   & 11       &  3      \\\\\n",
       "\t ten      & spades   & 10       &  4      \\\\\n",
       "\t nine     & spades   &  9       &  5      \\\\\n",
       "\t eight    & spades   &  8       &  6      \\\\\n",
       "\t seven    & spades   &  7       &  7      \\\\\n",
       "\t six      & spades   &  6       &  8      \\\\\n",
       "\t five     & spades   &  5       &  9      \\\\\n",
       "\t four     & spades   &  4       & 10      \\\\\n",
       "\t three    & spades   &  3       & 11      \\\\\n",
       "\t two      & spades   &  2       & 12      \\\\\n",
       "\t ace      & spades   & 14       & 13      \\\\\n",
       "\t king     & clubs    & 13       & 14      \\\\\n",
       "\t queen    & clubs    & 12       & 15      \\\\\n",
       "\t jack     & clubs    & 11       & 16      \\\\\n",
       "\t ten      & clubs    & 10       & 17      \\\\\n",
       "\t nine     & clubs    &  9       & 18      \\\\\n",
       "\t eight    & clubs    &  8       & 19      \\\\\n",
       "\t seven    & clubs    &  7       & 20      \\\\\n",
       "\t six      & clubs    &  6       & 21      \\\\\n",
       "\t five     & clubs    &  5       & 22      \\\\\n",
       "\t four     & clubs    &  4       & 23      \\\\\n",
       "\t three    & clubs    &  3       & 24      \\\\\n",
       "\t two      & clubs    &  2       & 25      \\\\\n",
       "\t ace      & clubs    & 14       & 26      \\\\\n",
       "\t king     & diamonds & 13       & 27      \\\\\n",
       "\t queen    & diamonds & 12       & 28      \\\\\n",
       "\t jack     & diamonds & 11       & 29      \\\\\n",
       "\t ten      & diamonds & 10       & 30      \\\\\n",
       "\t nine     & diamonds &  9       & 31      \\\\\n",
       "\t eight    & diamonds &  8       & 32      \\\\\n",
       "\t seven    & diamonds &  7       & 33      \\\\\n",
       "\t six      & diamonds &  6       & 34      \\\\\n",
       "\t five     & diamonds &  5       & 35      \\\\\n",
       "\t four     & diamonds &  4       & 36      \\\\\n",
       "\t three    & diamonds &  3       & 37      \\\\\n",
       "\t two      & diamonds &  2       & 38      \\\\\n",
       "\t ace      & diamonds & 14       & 39      \\\\\n",
       "\t king     & hearts   & 13       & 40      \\\\\n",
       "\t queen    & hearts   & 12       & 41      \\\\\n",
       "\t jack     & hearts   & 11       & 42      \\\\\n",
       "\t ten      & hearts   & 10       & 43      \\\\\n",
       "\t nine     & hearts   &  9       & 44      \\\\\n",
       "\t eight    & hearts   &  8       & 45      \\\\\n",
       "\t seven    & hearts   &  7       & 46      \\\\\n",
       "\t six      & hearts   &  6       & 47      \\\\\n",
       "\t five     & hearts   &  5       & 48      \\\\\n",
       "\t four     & hearts   &  4       & 49      \\\\\n",
       "\t three    & hearts   &  3       & 50      \\\\\n",
       "\t two      & hearts   &  2       & 51      \\\\\n",
       "\t ace      & hearts   & 14       & 52      \\\\\n",
       "\\end{tabular}\n"
      ],
      "text/markdown": [
       "\n",
       "face | suit | value | new | \n",
       "|---|---|---|---|---|---|---|---|---|---|---|---|---|---|---|---|---|---|---|---|---|---|---|---|---|---|---|---|---|---|---|---|---|---|---|---|---|---|---|---|---|---|---|---|---|---|---|---|---|---|---|---|\n",
       "| king     | spades   | 13       |  1       | \n",
       "| queen    | spades   | 12       |  2       | \n",
       "| jack     | spades   | 11       |  3       | \n",
       "| ten      | spades   | 10       |  4       | \n",
       "| nine     | spades   |  9       |  5       | \n",
       "| eight    | spades   |  8       |  6       | \n",
       "| seven    | spades   |  7       |  7       | \n",
       "| six      | spades   |  6       |  8       | \n",
       "| five     | spades   |  5       |  9       | \n",
       "| four     | spades   |  4       | 10       | \n",
       "| three    | spades   |  3       | 11       | \n",
       "| two      | spades   |  2       | 12       | \n",
       "| ace      | spades   | 14       | 13       | \n",
       "| king     | clubs    | 13       | 14       | \n",
       "| queen    | clubs    | 12       | 15       | \n",
       "| jack     | clubs    | 11       | 16       | \n",
       "| ten      | clubs    | 10       | 17       | \n",
       "| nine     | clubs    |  9       | 18       | \n",
       "| eight    | clubs    |  8       | 19       | \n",
       "| seven    | clubs    |  7       | 20       | \n",
       "| six      | clubs    |  6       | 21       | \n",
       "| five     | clubs    |  5       | 22       | \n",
       "| four     | clubs    |  4       | 23       | \n",
       "| three    | clubs    |  3       | 24       | \n",
       "| two      | clubs    |  2       | 25       | \n",
       "| ace      | clubs    | 14       | 26       | \n",
       "| king     | diamonds | 13       | 27       | \n",
       "| queen    | diamonds | 12       | 28       | \n",
       "| jack     | diamonds | 11       | 29       | \n",
       "| ten      | diamonds | 10       | 30       | \n",
       "| nine     | diamonds |  9       | 31       | \n",
       "| eight    | diamonds |  8       | 32       | \n",
       "| seven    | diamonds |  7       | 33       | \n",
       "| six      | diamonds |  6       | 34       | \n",
       "| five     | diamonds |  5       | 35       | \n",
       "| four     | diamonds |  4       | 36       | \n",
       "| three    | diamonds |  3       | 37       | \n",
       "| two      | diamonds |  2       | 38       | \n",
       "| ace      | diamonds | 14       | 39       | \n",
       "| king     | hearts   | 13       | 40       | \n",
       "| queen    | hearts   | 12       | 41       | \n",
       "| jack     | hearts   | 11       | 42       | \n",
       "| ten      | hearts   | 10       | 43       | \n",
       "| nine     | hearts   |  9       | 44       | \n",
       "| eight    | hearts   |  8       | 45       | \n",
       "| seven    | hearts   |  7       | 46       | \n",
       "| six      | hearts   |  6       | 47       | \n",
       "| five     | hearts   |  5       | 48       | \n",
       "| four     | hearts   |  4       | 49       | \n",
       "| three    | hearts   |  3       | 50       | \n",
       "| two      | hearts   |  2       | 51       | \n",
       "| ace      | hearts   | 14       | 52       | \n",
       "\n",
       "\n"
      ],
      "text/plain": [
       "   face  suit     value new\n",
       "1  king  spades   13     1 \n",
       "2  queen spades   12     2 \n",
       "3  jack  spades   11     3 \n",
       "4  ten   spades   10     4 \n",
       "5  nine  spades    9     5 \n",
       "6  eight spades    8     6 \n",
       "7  seven spades    7     7 \n",
       "8  six   spades    6     8 \n",
       "9  five  spades    5     9 \n",
       "10 four  spades    4    10 \n",
       "11 three spades    3    11 \n",
       "12 two   spades    2    12 \n",
       "13 ace   spades   14    13 \n",
       "14 king  clubs    13    14 \n",
       "15 queen clubs    12    15 \n",
       "16 jack  clubs    11    16 \n",
       "17 ten   clubs    10    17 \n",
       "18 nine  clubs     9    18 \n",
       "19 eight clubs     8    19 \n",
       "20 seven clubs     7    20 \n",
       "21 six   clubs     6    21 \n",
       "22 five  clubs     5    22 \n",
       "23 four  clubs     4    23 \n",
       "24 three clubs     3    24 \n",
       "25 two   clubs     2    25 \n",
       "26 ace   clubs    14    26 \n",
       "27 king  diamonds 13    27 \n",
       "28 queen diamonds 12    28 \n",
       "29 jack  diamonds 11    29 \n",
       "30 ten   diamonds 10    30 \n",
       "31 nine  diamonds  9    31 \n",
       "32 eight diamonds  8    32 \n",
       "33 seven diamonds  7    33 \n",
       "34 six   diamonds  6    34 \n",
       "35 five  diamonds  5    35 \n",
       "36 four  diamonds  4    36 \n",
       "37 three diamonds  3    37 \n",
       "38 two   diamonds  2    38 \n",
       "39 ace   diamonds 14    39 \n",
       "40 king  hearts   13    40 \n",
       "41 queen hearts   12    41 \n",
       "42 jack  hearts   11    42 \n",
       "43 ten   hearts   10    43 \n",
       "44 nine  hearts    9    44 \n",
       "45 eight hearts    8    45 \n",
       "46 seven hearts    7    46 \n",
       "47 six   hearts    6    47 \n",
       "48 five  hearts    5    48 \n",
       "49 four  hearts    4    49 \n",
       "50 three hearts    3    50 \n",
       "51 two   hearts    2    51 \n",
       "52 ace   hearts   14    52 "
      ]
     },
     "metadata": {},
     "output_type": "display_data"
    }
   ],
   "source": [
    "deck"
   ]
  },
  {
   "cell_type": "markdown",
   "metadata": {},
   "source": [
    "### bool operation"
   ]
  },
  {
   "cell_type": "code",
   "execution_count": 29,
   "metadata": {},
   "outputs": [],
   "source": [
    "a<-c(1,2,3)"
   ]
  },
  {
   "cell_type": "code",
   "execution_count": 30,
   "metadata": {},
   "outputs": [],
   "source": [
    "b<-c(1,2,3)"
   ]
  },
  {
   "cell_type": "code",
   "execution_count": 31,
   "metadata": {},
   "outputs": [],
   "source": [
    "c<-c(1,2,4)"
   ]
  },
  {
   "cell_type": "code",
   "execution_count": 32,
   "metadata": {},
   "outputs": [
    {
     "data": {
      "text/html": [
       "<ol class=list-inline>\n",
       "\t<li>TRUE</li>\n",
       "\t<li>TRUE</li>\n",
       "\t<li>TRUE</li>\n",
       "</ol>\n"
      ],
      "text/latex": [
       "\\begin{enumerate*}\n",
       "\\item TRUE\n",
       "\\item TRUE\n",
       "\\item TRUE\n",
       "\\end{enumerate*}\n"
      ],
      "text/markdown": [
       "1. TRUE\n",
       "2. TRUE\n",
       "3. TRUE\n",
       "\n",
       "\n"
      ],
      "text/plain": [
       "[1] TRUE TRUE TRUE"
      ]
     },
     "metadata": {},
     "output_type": "display_data"
    }
   ],
   "source": [
    "a==b"
   ]
  },
  {
   "cell_type": "code",
   "execution_count": 33,
   "metadata": {},
   "outputs": [
    {
     "data": {
      "text/html": [
       "<ol class=list-inline>\n",
       "\t<li>TRUE</li>\n",
       "\t<li>TRUE</li>\n",
       "\t<li>FALSE</li>\n",
       "</ol>\n"
      ],
      "text/latex": [
       "\\begin{enumerate*}\n",
       "\\item TRUE\n",
       "\\item TRUE\n",
       "\\item FALSE\n",
       "\\end{enumerate*}\n"
      ],
      "text/markdown": [
       "1. TRUE\n",
       "2. TRUE\n",
       "3. FALSE\n",
       "\n",
       "\n"
      ],
      "text/plain": [
       "[1]  TRUE  TRUE FALSE"
      ]
     },
     "metadata": {},
     "output_type": "display_data"
    }
   ],
   "source": [
    "a==c"
   ]
  },
  {
   "cell_type": "code",
   "execution_count": 34,
   "metadata": {},
   "outputs": [
    {
     "data": {
      "text/html": [
       "<ol class=list-inline>\n",
       "\t<li>TRUE</li>\n",
       "\t<li>TRUE</li>\n",
       "\t<li>FALSE</li>\n",
       "</ol>\n"
      ],
      "text/latex": [
       "\\begin{enumerate*}\n",
       "\\item TRUE\n",
       "\\item TRUE\n",
       "\\item FALSE\n",
       "\\end{enumerate*}\n"
      ],
      "text/markdown": [
       "1. TRUE\n",
       "2. TRUE\n",
       "3. FALSE\n",
       "\n",
       "\n"
      ],
      "text/plain": [
       "[1]  TRUE  TRUE FALSE"
      ]
     },
     "metadata": {},
     "output_type": "display_data"
    }
   ],
   "source": [
    "b==c"
   ]
  },
  {
   "cell_type": "code",
   "execution_count": 35,
   "metadata": {},
   "outputs": [
    {
     "data": {
      "text/html": [
       "<ol class=list-inline>\n",
       "\t<li>FALSE</li>\n",
       "\t<li>TRUE</li>\n",
       "\t<li>FALSE</li>\n",
       "\t<li>FALSE</li>\n",
       "\t<li>FALSE</li>\n",
       "\t<li>FALSE</li>\n",
       "\t<li>FALSE</li>\n",
       "\t<li>FALSE</li>\n",
       "\t<li>FALSE</li>\n",
       "\t<li>FALSE</li>\n",
       "\t<li>FALSE</li>\n",
       "\t<li>FALSE</li>\n",
       "\t<li>FALSE</li>\n",
       "\t<li>FALSE</li>\n",
       "\t<li>FALSE</li>\n",
       "\t<li>FALSE</li>\n",
       "\t<li>FALSE</li>\n",
       "\t<li>FALSE</li>\n",
       "\t<li>FALSE</li>\n",
       "\t<li>FALSE</li>\n",
       "\t<li>FALSE</li>\n",
       "\t<li>FALSE</li>\n",
       "\t<li>FALSE</li>\n",
       "\t<li>FALSE</li>\n",
       "\t<li>FALSE</li>\n",
       "\t<li>FALSE</li>\n",
       "\t<li>FALSE</li>\n",
       "\t<li>FALSE</li>\n",
       "\t<li>FALSE</li>\n",
       "\t<li>FALSE</li>\n",
       "\t<li>FALSE</li>\n",
       "\t<li>FALSE</li>\n",
       "\t<li>FALSE</li>\n",
       "\t<li>FALSE</li>\n",
       "\t<li>FALSE</li>\n",
       "\t<li>FALSE</li>\n",
       "\t<li>FALSE</li>\n",
       "\t<li>FALSE</li>\n",
       "\t<li>FALSE</li>\n",
       "\t<li>FALSE</li>\n",
       "\t<li>FALSE</li>\n",
       "\t<li>FALSE</li>\n",
       "\t<li>FALSE</li>\n",
       "\t<li>FALSE</li>\n",
       "\t<li>FALSE</li>\n",
       "\t<li>FALSE</li>\n",
       "\t<li>FALSE</li>\n",
       "\t<li>FALSE</li>\n",
       "\t<li>FALSE</li>\n",
       "\t<li>FALSE</li>\n",
       "\t<li>FALSE</li>\n",
       "\t<li>FALSE</li>\n",
       "</ol>\n"
      ],
      "text/latex": [
       "\\begin{enumerate*}\n",
       "\\item FALSE\n",
       "\\item TRUE\n",
       "\\item FALSE\n",
       "\\item FALSE\n",
       "\\item FALSE\n",
       "\\item FALSE\n",
       "\\item FALSE\n",
       "\\item FALSE\n",
       "\\item FALSE\n",
       "\\item FALSE\n",
       "\\item FALSE\n",
       "\\item FALSE\n",
       "\\item FALSE\n",
       "\\item FALSE\n",
       "\\item FALSE\n",
       "\\item FALSE\n",
       "\\item FALSE\n",
       "\\item FALSE\n",
       "\\item FALSE\n",
       "\\item FALSE\n",
       "\\item FALSE\n",
       "\\item FALSE\n",
       "\\item FALSE\n",
       "\\item FALSE\n",
       "\\item FALSE\n",
       "\\item FALSE\n",
       "\\item FALSE\n",
       "\\item FALSE\n",
       "\\item FALSE\n",
       "\\item FALSE\n",
       "\\item FALSE\n",
       "\\item FALSE\n",
       "\\item FALSE\n",
       "\\item FALSE\n",
       "\\item FALSE\n",
       "\\item FALSE\n",
       "\\item FALSE\n",
       "\\item FALSE\n",
       "\\item FALSE\n",
       "\\item FALSE\n",
       "\\item FALSE\n",
       "\\item FALSE\n",
       "\\item FALSE\n",
       "\\item FALSE\n",
       "\\item FALSE\n",
       "\\item FALSE\n",
       "\\item FALSE\n",
       "\\item FALSE\n",
       "\\item FALSE\n",
       "\\item FALSE\n",
       "\\item FALSE\n",
       "\\item FALSE\n",
       "\\end{enumerate*}\n"
      ],
      "text/markdown": [
       "1. FALSE\n",
       "2. TRUE\n",
       "3. FALSE\n",
       "4. FALSE\n",
       "5. FALSE\n",
       "6. FALSE\n",
       "7. FALSE\n",
       "8. FALSE\n",
       "9. FALSE\n",
       "10. FALSE\n",
       "11. FALSE\n",
       "12. FALSE\n",
       "13. FALSE\n",
       "14. FALSE\n",
       "15. FALSE\n",
       "16. FALSE\n",
       "17. FALSE\n",
       "18. FALSE\n",
       "19. FALSE\n",
       "20. FALSE\n",
       "21. FALSE\n",
       "22. FALSE\n",
       "23. FALSE\n",
       "24. FALSE\n",
       "25. FALSE\n",
       "26. FALSE\n",
       "27. FALSE\n",
       "28. FALSE\n",
       "29. FALSE\n",
       "30. FALSE\n",
       "31. FALSE\n",
       "32. FALSE\n",
       "33. FALSE\n",
       "34. FALSE\n",
       "35. FALSE\n",
       "36. FALSE\n",
       "37. FALSE\n",
       "38. FALSE\n",
       "39. FALSE\n",
       "40. FALSE\n",
       "41. FALSE\n",
       "42. FALSE\n",
       "43. FALSE\n",
       "44. FALSE\n",
       "45. FALSE\n",
       "46. FALSE\n",
       "47. FALSE\n",
       "48. FALSE\n",
       "49. FALSE\n",
       "50. FALSE\n",
       "51. FALSE\n",
       "52. FALSE\n",
       "\n",
       "\n"
      ],
      "text/plain": [
       " [1] FALSE  TRUE FALSE FALSE FALSE FALSE FALSE FALSE FALSE FALSE FALSE FALSE\n",
       "[13] FALSE FALSE FALSE FALSE FALSE FALSE FALSE FALSE FALSE FALSE FALSE FALSE\n",
       "[25] FALSE FALSE FALSE FALSE FALSE FALSE FALSE FALSE FALSE FALSE FALSE FALSE\n",
       "[37] FALSE FALSE FALSE FALSE FALSE FALSE FALSE FALSE FALSE FALSE FALSE FALSE\n",
       "[49] FALSE FALSE FALSE FALSE"
      ]
     },
     "metadata": {},
     "output_type": "display_data"
    }
   ],
   "source": [
    "deck$face == \"queen\" & deck$suit==\"spades\""
   ]
  },
  {
   "cell_type": "code",
   "execution_count": 36,
   "metadata": {},
   "outputs": [],
   "source": [
    "queenofSpades <- deck$face==\"queen\"&deck$suit == \"spades\""
   ]
  },
  {
   "cell_type": "code",
   "execution_count": 37,
   "metadata": {},
   "outputs": [
    {
     "data": {
      "text/html": [
       "<table>\n",
       "<thead><tr><th></th><th scope=col>face</th><th scope=col>suit</th><th scope=col>value</th><th scope=col>new</th></tr></thead>\n",
       "<tbody>\n",
       "\t<tr><th scope=row>2</th><td>queen </td><td>spades</td><td>12    </td><td>2     </td></tr>\n",
       "</tbody>\n",
       "</table>\n"
      ],
      "text/latex": [
       "\\begin{tabular}{r|llll}\n",
       "  & face & suit & value & new\\\\\n",
       "\\hline\n",
       "\t2 & queen  & spades & 12     & 2     \\\\\n",
       "\\end{tabular}\n"
      ],
      "text/markdown": [
       "\n",
       "| <!--/--> | face | suit | value | new | \n",
       "|---|\n",
       "| 2 | queen  | spades | 12     | 2      | \n",
       "\n",
       "\n"
      ],
      "text/plain": [
       "  face  suit   value new\n",
       "2 queen spades 12    2  "
      ]
     },
     "metadata": {},
     "output_type": "display_data"
    }
   ],
   "source": [
    "deck[queenofSpades,]"
   ]
  },
  {
   "cell_type": "code",
   "execution_count": 38,
   "metadata": {},
   "outputs": [
    {
     "data": {
      "text/html": [
       "12"
      ],
      "text/latex": [
       "12"
      ],
      "text/markdown": [
       "12"
      ],
      "text/plain": [
       "[1] 12"
      ]
     },
     "metadata": {},
     "output_type": "display_data"
    }
   ],
   "source": [
    "deck$value[queenofSpades]"
   ]
  },
  {
   "cell_type": "code",
   "execution_count": 39,
   "metadata": {},
   "outputs": [
    {
     "data": {
      "text/html": [
       "<table>\n",
       "<thead><tr><th scope=col>face</th><th scope=col>suit</th><th scope=col>value</th><th scope=col>new</th></tr></thead>\n",
       "<tbody>\n",
       "\t<tr><td>king  </td><td>spades</td><td>13    </td><td>1     </td></tr>\n",
       "\t<tr><td>queen </td><td>spades</td><td>12    </td><td>2     </td></tr>\n",
       "\t<tr><td>jack  </td><td>spades</td><td>11    </td><td>3     </td></tr>\n",
       "</tbody>\n",
       "</table>\n"
      ],
      "text/latex": [
       "\\begin{tabular}{r|llll}\n",
       " face & suit & value & new\\\\\n",
       "\\hline\n",
       "\t king   & spades & 13     & 1     \\\\\n",
       "\t queen  & spades & 12     & 2     \\\\\n",
       "\t jack   & spades & 11     & 3     \\\\\n",
       "\\end{tabular}\n"
      ],
      "text/markdown": [
       "\n",
       "face | suit | value | new | \n",
       "|---|---|---|\n",
       "| king   | spades | 13     | 1      | \n",
       "| queen  | spades | 12     | 2      | \n",
       "| jack   | spades | 11     | 3      | \n",
       "\n",
       "\n"
      ],
      "text/plain": [
       "  face  suit   value new\n",
       "1 king  spades 13    1  \n",
       "2 queen spades 12    2  \n",
       "3 jack  spades 11    3  "
      ]
     },
     "metadata": {},
     "output_type": "display_data"
    }
   ],
   "source": [
    "head(globalenv()$deck,3)"
   ]
  },
  {
   "cell_type": "code",
   "execution_count": null,
   "metadata": {},
   "outputs": [],
   "source": []
  }
 ],
 "metadata": {
  "kernelspec": {
   "display_name": "R",
   "language": "R",
   "name": "ir"
  },
  "language_info": {
   "codemirror_mode": "r",
   "file_extension": ".r",
   "mimetype": "text/x-r-source",
   "name": "R",
   "pygments_lexer": "r",
   "version": "3.2.3"
  }
 },
 "nbformat": 4,
 "nbformat_minor": 2
}
