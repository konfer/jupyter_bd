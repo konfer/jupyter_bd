{
 "cells": [
  {
   "cell_type": "code",
   "execution_count": 2,
   "metadata": {},
   "outputs": [],
   "source": [
    "library(\"ggplot2\")"
   ]
  },
  {
   "cell_type": "code",
   "execution_count": 3,
   "metadata": {},
   "outputs": [
    {
     "data": {
      "text/html": [
       "<pre class=language-r><code>function (x, y, ..., data, facets = NULL, margins = FALSE, geom = \"auto\", \n",
       "<span style=white-space:pre-wrap>    xlim = c(NA, NA), ylim = c(NA, NA), log = \"\", main = NULL, </span>\n",
       "<span style=white-space:pre-wrap>    xlab = NULL, ylab = NULL, asp = NA, stat = NULL, position = NULL) </span>\n",
       "{\n",
       "<span style=white-space:pre-wrap>    caller_env &lt;- parent.frame()</span>\n",
       "<span style=white-space:pre-wrap>    if (!missing(stat)) </span>\n",
       "<span style=white-space:pre-wrap>        warning(\"`stat` is deprecated\", call. = FALSE)</span>\n",
       "<span style=white-space:pre-wrap>    if (!missing(position)) </span>\n",
       "<span style=white-space:pre-wrap>        warning(\"`position` is deprecated\", call. = FALSE)</span>\n",
       "<span style=white-space:pre-wrap>    if (!is.character(geom)) </span>\n",
       "<span style=white-space:pre-wrap>        stop(\"`geom` must be a character vector\", call. = FALSE)</span>\n",
       "<span style=white-space:pre-wrap>    exprs &lt;- enquos(x = x, y = y, ...)</span>\n",
       "<span style=white-space:pre-wrap>    is_missing &lt;- vapply(exprs, quo_is_missing, logical(1))</span>\n",
       "<span style=white-space:pre-wrap>    is_constant &lt;- (!names(exprs) %in% ggplot_global$all_aesthetics) | </span>\n",
       "<span style=white-space:pre-wrap>        vapply(exprs, quo_is_call, logical(1), name = \"I\")</span>\n",
       "<span style=white-space:pre-wrap>    mapping &lt;- new_aes(exprs[!is_missing &amp; !is_constant], env = parent.frame())</span>\n",
       "<span style=white-space:pre-wrap>    consts &lt;- exprs[is_constant]</span>\n",
       "<span style=white-space:pre-wrap>    aes_names &lt;- names(mapping)</span>\n",
       "<span style=white-space:pre-wrap>    mapping &lt;- rename_aes(mapping)</span>\n",
       "<span style=white-space:pre-wrap>    if (is.null(xlab)) {</span>\n",
       "<span style=white-space:pre-wrap>        xlab &lt;- quo_name(exprs$x)</span>\n",
       "<span style=white-space:pre-wrap>    }</span>\n",
       "<span style=white-space:pre-wrap>    if (is.null(ylab)) {</span>\n",
       "<span style=white-space:pre-wrap>        ylab &lt;- quo_name(exprs$y)</span>\n",
       "<span style=white-space:pre-wrap>    }</span>\n",
       "<span style=white-space:pre-wrap>    if (missing(data)) {</span>\n",
       "<span style=white-space:pre-wrap>        data &lt;- new_data_frame()</span>\n",
       "<span style=white-space:pre-wrap>        facetvars &lt;- all.vars(facets)</span>\n",
       "<span style=white-space:pre-wrap>        facetvars &lt;- facetvars[facetvars != \".\"]</span>\n",
       "<span style=white-space:pre-wrap>        names(facetvars) &lt;- facetvars</span>\n",
       "<span style=white-space:pre-wrap>        facetsdf &lt;- as.data.frame(mget(facetvars, envir = caller_env))</span>\n",
       "<span style=white-space:pre-wrap>        if (nrow(facetsdf)) </span>\n",
       "<span style=white-space:pre-wrap>            data &lt;- facetsdf</span>\n",
       "<span style=white-space:pre-wrap>    }</span>\n",
       "<span style=white-space:pre-wrap>    if (\"auto\" %in% geom) {</span>\n",
       "<span style=white-space:pre-wrap>        if (\"sample\" %in% aes_names) {</span>\n",
       "<span style=white-space:pre-wrap>            geom[geom == \"auto\"] &lt;- \"qq\"</span>\n",
       "<span style=white-space:pre-wrap>        }</span>\n",
       "<span style=white-space:pre-wrap>        else if (missing(y)) {</span>\n",
       "<span style=white-space:pre-wrap>            x &lt;- eval_tidy(mapping$x, data, caller_env)</span>\n",
       "<span style=white-space:pre-wrap>            if (is.discrete(x)) {</span>\n",
       "<span style=white-space:pre-wrap>                geom[geom == \"auto\"] &lt;- \"bar\"</span>\n",
       "<span style=white-space:pre-wrap>            }</span>\n",
       "<span style=white-space:pre-wrap>            else {</span>\n",
       "<span style=white-space:pre-wrap>                geom[geom == \"auto\"] &lt;- \"histogram\"</span>\n",
       "<span style=white-space:pre-wrap>            }</span>\n",
       "<span style=white-space:pre-wrap>            if (is.null(ylab)) </span>\n",
       "<span style=white-space:pre-wrap>                ylab &lt;- \"count\"</span>\n",
       "<span style=white-space:pre-wrap>        }</span>\n",
       "<span style=white-space:pre-wrap>        else {</span>\n",
       "<span style=white-space:pre-wrap>            if (missing(x)) {</span>\n",
       "<span style=white-space:pre-wrap>                mapping$x &lt;- quo(seq_along(!!mapping$y))</span>\n",
       "<span style=white-space:pre-wrap>            }</span>\n",
       "<span style=white-space:pre-wrap>            geom[geom == \"auto\"] &lt;- \"point\"</span>\n",
       "<span style=white-space:pre-wrap>        }</span>\n",
       "<span style=white-space:pre-wrap>    }</span>\n",
       "<span style=white-space:pre-wrap>    p &lt;- ggplot(data, mapping, environment = caller_env)</span>\n",
       "<span style=white-space:pre-wrap>    if (is.null(facets)) {</span>\n",
       "<span style=white-space:pre-wrap>        p &lt;- p + facet_null()</span>\n",
       "<span style=white-space:pre-wrap>    }</span>\n",
       "<span style=white-space:pre-wrap>    else if (is.formula(facets) &amp;&amp; length(facets) == 2) {</span>\n",
       "<span style=white-space:pre-wrap>        p &lt;- p + facet_wrap(facets)</span>\n",
       "<span style=white-space:pre-wrap>    }</span>\n",
       "<span style=white-space:pre-wrap>    else {</span>\n",
       "<span style=white-space:pre-wrap>        p &lt;- p + facet_grid(facets = deparse(facets), margins = margins)</span>\n",
       "<span style=white-space:pre-wrap>    }</span>\n",
       "<span style=white-space:pre-wrap>    if (!is.null(main)) </span>\n",
       "<span style=white-space:pre-wrap>        p &lt;- p + ggtitle(main)</span>\n",
       "<span style=white-space:pre-wrap>    for (g in geom) {</span>\n",
       "<span style=white-space:pre-wrap>        params &lt;- lapply(consts, eval_tidy)</span>\n",
       "<span style=white-space:pre-wrap>        p &lt;- p + do.call(paste0(\"geom_\", g), params)</span>\n",
       "<span style=white-space:pre-wrap>    }</span>\n",
       "<span style=white-space:pre-wrap>    logv &lt;- function(var) var %in% strsplit(log, \"\")[[1]]</span>\n",
       "<span style=white-space:pre-wrap>    if (logv(\"x\")) </span>\n",
       "<span style=white-space:pre-wrap>        p &lt;- p + scale_x_log10()</span>\n",
       "<span style=white-space:pre-wrap>    if (logv(\"y\")) </span>\n",
       "<span style=white-space:pre-wrap>        p &lt;- p + scale_y_log10()</span>\n",
       "<span style=white-space:pre-wrap>    if (!is.na(asp)) </span>\n",
       "<span style=white-space:pre-wrap>        p &lt;- p + theme(aspect.ratio = asp)</span>\n",
       "<span style=white-space:pre-wrap>    if (!missing(xlab)) </span>\n",
       "<span style=white-space:pre-wrap>        p &lt;- p + xlab(xlab)</span>\n",
       "<span style=white-space:pre-wrap>    if (!missing(ylab)) </span>\n",
       "<span style=white-space:pre-wrap>        p &lt;- p + ylab(ylab)</span>\n",
       "<span style=white-space:pre-wrap>    if (!missing(xlim)) </span>\n",
       "<span style=white-space:pre-wrap>        p &lt;- p + xlim(xlim)</span>\n",
       "<span style=white-space:pre-wrap>    if (!missing(ylim)) </span>\n",
       "<span style=white-space:pre-wrap>        p &lt;- p + ylim(ylim)</span>\n",
       "<span style=white-space:pre-wrap>    p</span>\n",
       "}</code></pre>"
      ],
      "text/latex": [
       "\\begin{minted}{r}\n",
       "function (x, y, ..., data, facets = NULL, margins = FALSE, geom = \"auto\", \n",
       "    xlim = c(NA, NA), ylim = c(NA, NA), log = \"\", main = NULL, \n",
       "    xlab = NULL, ylab = NULL, asp = NA, stat = NULL, position = NULL) \n",
       "\\{\n",
       "    caller\\_env <- parent.frame()\n",
       "    if (!missing(stat)) \n",
       "        warning(\"`stat` is deprecated\", call. = FALSE)\n",
       "    if (!missing(position)) \n",
       "        warning(\"`position` is deprecated\", call. = FALSE)\n",
       "    if (!is.character(geom)) \n",
       "        stop(\"`geom` must be a character vector\", call. = FALSE)\n",
       "    exprs <- enquos(x = x, y = y, ...)\n",
       "    is\\_missing <- vapply(exprs, quo\\_is\\_missing, logical(1))\n",
       "    is\\_constant <- (!names(exprs) \\%in\\% ggplot\\_global\\$all\\_aesthetics) \\textbar{} \n",
       "        vapply(exprs, quo\\_is\\_call, logical(1), name = \"I\")\n",
       "    mapping <- new\\_aes(exprs{[}!is\\_missing \\& !is\\_constant{]}, env = parent.frame())\n",
       "    consts <- exprs{[}is\\_constant{]}\n",
       "    aes\\_names <- names(mapping)\n",
       "    mapping <- rename\\_aes(mapping)\n",
       "    if (is.null(xlab)) \\{\n",
       "        xlab <- quo\\_name(exprs\\$x)\n",
       "    \\}\n",
       "    if (is.null(ylab)) \\{\n",
       "        ylab <- quo\\_name(exprs\\$y)\n",
       "    \\}\n",
       "    if (missing(data)) \\{\n",
       "        data <- new\\_data\\_frame()\n",
       "        facetvars <- all.vars(facets)\n",
       "        facetvars <- facetvars{[}facetvars != \".\"{]}\n",
       "        names(facetvars) <- facetvars\n",
       "        facetsdf <- as.data.frame(mget(facetvars, envir = caller\\_env))\n",
       "        if (nrow(facetsdf)) \n",
       "            data <- facetsdf\n",
       "    \\}\n",
       "    if (\"auto\" \\%in\\% geom) \\{\n",
       "        if (\"sample\" \\%in\\% aes\\_names) \\{\n",
       "            geom{[}geom == \"auto\"{]} <- \"qq\"\n",
       "        \\}\n",
       "        else if (missing(y)) \\{\n",
       "            x <- eval\\_tidy(mapping\\$x, data, caller\\_env)\n",
       "            if (is.discrete(x)) \\{\n",
       "                geom{[}geom == \"auto\"{]} <- \"bar\"\n",
       "            \\}\n",
       "            else \\{\n",
       "                geom{[}geom == \"auto\"{]} <- \"histogram\"\n",
       "            \\}\n",
       "            if (is.null(ylab)) \n",
       "                ylab <- \"count\"\n",
       "        \\}\n",
       "        else \\{\n",
       "            if (missing(x)) \\{\n",
       "                mapping\\$x <- quo(seq\\_along(!!mapping\\$y))\n",
       "            \\}\n",
       "            geom{[}geom == \"auto\"{]} <- \"point\"\n",
       "        \\}\n",
       "    \\}\n",
       "    p <- ggplot(data, mapping, environment = caller\\_env)\n",
       "    if (is.null(facets)) \\{\n",
       "        p <- p + facet\\_null()\n",
       "    \\}\n",
       "    else if (is.formula(facets) \\&\\& length(facets) == 2) \\{\n",
       "        p <- p + facet\\_wrap(facets)\n",
       "    \\}\n",
       "    else \\{\n",
       "        p <- p + facet\\_grid(facets = deparse(facets), margins = margins)\n",
       "    \\}\n",
       "    if (!is.null(main)) \n",
       "        p <- p + ggtitle(main)\n",
       "    for (g in geom) \\{\n",
       "        params <- lapply(consts, eval\\_tidy)\n",
       "        p <- p + do.call(paste0(\"geom\\_\", g), params)\n",
       "    \\}\n",
       "    logv <- function(var) var \\%in\\% strsplit(log, \"\"){[}{[}1{]}{]}\n",
       "    if (logv(\"x\")) \n",
       "        p <- p + scale\\_x\\_log10()\n",
       "    if (logv(\"y\")) \n",
       "        p <- p + scale\\_y\\_log10()\n",
       "    if (!is.na(asp)) \n",
       "        p <- p + theme(aspect.ratio = asp)\n",
       "    if (!missing(xlab)) \n",
       "        p <- p + xlab(xlab)\n",
       "    if (!missing(ylab)) \n",
       "        p <- p + ylab(ylab)\n",
       "    if (!missing(xlim)) \n",
       "        p <- p + xlim(xlim)\n",
       "    if (!missing(ylim)) \n",
       "        p <- p + ylim(ylim)\n",
       "    p\n",
       "\\}\n",
       "\\end{minted}"
      ],
      "text/markdown": [
       "```r\n",
       "function (x, y, ..., data, facets = NULL, margins = FALSE, geom = \"auto\", \n",
       "    xlim = c(NA, NA), ylim = c(NA, NA), log = \"\", main = NULL, \n",
       "    xlab = NULL, ylab = NULL, asp = NA, stat = NULL, position = NULL) \n",
       "{\n",
       "    caller_env <- parent.frame()\n",
       "    if (!missing(stat)) \n",
       "        warning(\"`stat` is deprecated\", call. = FALSE)\n",
       "    if (!missing(position)) \n",
       "        warning(\"`position` is deprecated\", call. = FALSE)\n",
       "    if (!is.character(geom)) \n",
       "        stop(\"`geom` must be a character vector\", call. = FALSE)\n",
       "    exprs <- enquos(x = x, y = y, ...)\n",
       "    is_missing <- vapply(exprs, quo_is_missing, logical(1))\n",
       "    is_constant <- (!names(exprs) %in% ggplot_global$all_aesthetics) | \n",
       "        vapply(exprs, quo_is_call, logical(1), name = \"I\")\n",
       "    mapping <- new_aes(exprs[!is_missing & !is_constant], env = parent.frame())\n",
       "    consts <- exprs[is_constant]\n",
       "    aes_names <- names(mapping)\n",
       "    mapping <- rename_aes(mapping)\n",
       "    if (is.null(xlab)) {\n",
       "        xlab <- quo_name(exprs$x)\n",
       "    }\n",
       "    if (is.null(ylab)) {\n",
       "        ylab <- quo_name(exprs$y)\n",
       "    }\n",
       "    if (missing(data)) {\n",
       "        data <- new_data_frame()\n",
       "        facetvars <- all.vars(facets)\n",
       "        facetvars <- facetvars[facetvars != \".\"]\n",
       "        names(facetvars) <- facetvars\n",
       "        facetsdf <- as.data.frame(mget(facetvars, envir = caller_env))\n",
       "        if (nrow(facetsdf)) \n",
       "            data <- facetsdf\n",
       "    }\n",
       "    if (\"auto\" %in% geom) {\n",
       "        if (\"sample\" %in% aes_names) {\n",
       "            geom[geom == \"auto\"] <- \"qq\"\n",
       "        }\n",
       "        else if (missing(y)) {\n",
       "            x <- eval_tidy(mapping$x, data, caller_env)\n",
       "            if (is.discrete(x)) {\n",
       "                geom[geom == \"auto\"] <- \"bar\"\n",
       "            }\n",
       "            else {\n",
       "                geom[geom == \"auto\"] <- \"histogram\"\n",
       "            }\n",
       "            if (is.null(ylab)) \n",
       "                ylab <- \"count\"\n",
       "        }\n",
       "        else {\n",
       "            if (missing(x)) {\n",
       "                mapping$x <- quo(seq_along(!!mapping$y))\n",
       "            }\n",
       "            geom[geom == \"auto\"] <- \"point\"\n",
       "        }\n",
       "    }\n",
       "    p <- ggplot(data, mapping, environment = caller_env)\n",
       "    if (is.null(facets)) {\n",
       "        p <- p + facet_null()\n",
       "    }\n",
       "    else if (is.formula(facets) && length(facets) == 2) {\n",
       "        p <- p + facet_wrap(facets)\n",
       "    }\n",
       "    else {\n",
       "        p <- p + facet_grid(facets = deparse(facets), margins = margins)\n",
       "    }\n",
       "    if (!is.null(main)) \n",
       "        p <- p + ggtitle(main)\n",
       "    for (g in geom) {\n",
       "        params <- lapply(consts, eval_tidy)\n",
       "        p <- p + do.call(paste0(\"geom_\", g), params)\n",
       "    }\n",
       "    logv <- function(var) var %in% strsplit(log, \"\")[[1]]\n",
       "    if (logv(\"x\")) \n",
       "        p <- p + scale_x_log10()\n",
       "    if (logv(\"y\")) \n",
       "        p <- p + scale_y_log10()\n",
       "    if (!is.na(asp)) \n",
       "        p <- p + theme(aspect.ratio = asp)\n",
       "    if (!missing(xlab)) \n",
       "        p <- p + xlab(xlab)\n",
       "    if (!missing(ylab)) \n",
       "        p <- p + ylab(ylab)\n",
       "    if (!missing(xlim)) \n",
       "        p <- p + xlim(xlim)\n",
       "    if (!missing(ylim)) \n",
       "        p <- p + ylim(ylim)\n",
       "    p\n",
       "}\n",
       "```"
      ],
      "text/plain": [
       "function (x, y, ..., data, facets = NULL, margins = FALSE, geom = \"auto\", \n",
       "    xlim = c(NA, NA), ylim = c(NA, NA), log = \"\", main = NULL, \n",
       "    xlab = NULL, ylab = NULL, asp = NA, stat = NULL, position = NULL) \n",
       "{\n",
       "    caller_env <- parent.frame()\n",
       "    if (!missing(stat)) \n",
       "        warning(\"`stat` is deprecated\", call. = FALSE)\n",
       "    if (!missing(position)) \n",
       "        warning(\"`position` is deprecated\", call. = FALSE)\n",
       "    if (!is.character(geom)) \n",
       "        stop(\"`geom` must be a character vector\", call. = FALSE)\n",
       "    exprs <- enquos(x = x, y = y, ...)\n",
       "    is_missing <- vapply(exprs, quo_is_missing, logical(1))\n",
       "    is_constant <- (!names(exprs) %in% ggplot_global$all_aesthetics) | \n",
       "        vapply(exprs, quo_is_call, logical(1), name = \"I\")\n",
       "    mapping <- new_aes(exprs[!is_missing & !is_constant], env = parent.frame())\n",
       "    consts <- exprs[is_constant]\n",
       "    aes_names <- names(mapping)\n",
       "    mapping <- rename_aes(mapping)\n",
       "    if (is.null(xlab)) {\n",
       "        xlab <- quo_name(exprs$x)\n",
       "    }\n",
       "    if (is.null(ylab)) {\n",
       "        ylab <- quo_name(exprs$y)\n",
       "    }\n",
       "    if (missing(data)) {\n",
       "        data <- new_data_frame()\n",
       "        facetvars <- all.vars(facets)\n",
       "        facetvars <- facetvars[facetvars != \".\"]\n",
       "        names(facetvars) <- facetvars\n",
       "        facetsdf <- as.data.frame(mget(facetvars, envir = caller_env))\n",
       "        if (nrow(facetsdf)) \n",
       "            data <- facetsdf\n",
       "    }\n",
       "    if (\"auto\" %in% geom) {\n",
       "        if (\"sample\" %in% aes_names) {\n",
       "            geom[geom == \"auto\"] <- \"qq\"\n",
       "        }\n",
       "        else if (missing(y)) {\n",
       "            x <- eval_tidy(mapping$x, data, caller_env)\n",
       "            if (is.discrete(x)) {\n",
       "                geom[geom == \"auto\"] <- \"bar\"\n",
       "            }\n",
       "            else {\n",
       "                geom[geom == \"auto\"] <- \"histogram\"\n",
       "            }\n",
       "            if (is.null(ylab)) \n",
       "                ylab <- \"count\"\n",
       "        }\n",
       "        else {\n",
       "            if (missing(x)) {\n",
       "                mapping$x <- quo(seq_along(!!mapping$y))\n",
       "            }\n",
       "            geom[geom == \"auto\"] <- \"point\"\n",
       "        }\n",
       "    }\n",
       "    p <- ggplot(data, mapping, environment = caller_env)\n",
       "    if (is.null(facets)) {\n",
       "        p <- p + facet_null()\n",
       "    }\n",
       "    else if (is.formula(facets) && length(facets) == 2) {\n",
       "        p <- p + facet_wrap(facets)\n",
       "    }\n",
       "    else {\n",
       "        p <- p + facet_grid(facets = deparse(facets), margins = margins)\n",
       "    }\n",
       "    if (!is.null(main)) \n",
       "        p <- p + ggtitle(main)\n",
       "    for (g in geom) {\n",
       "        params <- lapply(consts, eval_tidy)\n",
       "        p <- p + do.call(paste0(\"geom_\", g), params)\n",
       "    }\n",
       "    logv <- function(var) var %in% strsplit(log, \"\")[[1]]\n",
       "    if (logv(\"x\")) \n",
       "        p <- p + scale_x_log10()\n",
       "    if (logv(\"y\")) \n",
       "        p <- p + scale_y_log10()\n",
       "    if (!is.na(asp)) \n",
       "        p <- p + theme(aspect.ratio = asp)\n",
       "    if (!missing(xlab)) \n",
       "        p <- p + xlab(xlab)\n",
       "    if (!missing(ylab)) \n",
       "        p <- p + ylab(ylab)\n",
       "    if (!missing(xlim)) \n",
       "        p <- p + xlim(xlim)\n",
       "    if (!missing(ylim)) \n",
       "        p <- p + ylim(ylim)\n",
       "    p\n",
       "}\n",
       "<bytecode: 0x6bd9920>\n",
       "<environment: namespace:ggplot2>"
      ]
     },
     "metadata": {},
     "output_type": "display_data"
    }
   ],
   "source": [
    "qplot"
   ]
  },
  {
   "cell_type": "code",
   "execution_count": 4,
   "metadata": {},
   "outputs": [],
   "source": [
    "x_axis <- c(1:5)"
   ]
  },
  {
   "cell_type": "code",
   "execution_count": 5,
   "metadata": {},
   "outputs": [],
   "source": [
    "y_axis <- c(2, 4, 6, 8, 10)"
   ]
  },
  {
   "cell_type": "code",
   "execution_count": 6,
   "metadata": {
    "scrolled": true
   },
   "outputs": [
    {
     "data": {
      "image/png": "[encoded data removed]",
      "text/plain": [
       "plot without title"
      ]
     },
     "metadata": {
      "image/png": {
       "height": 420,
       "width": 420
      },
      "text/plain": {
       "height": 420,
       "width": 420
      }
     },
     "output_type": "display_data"
    }
   ],
   "source": [
    "qplot(y_axis, binwidth = 1)"
   ]
  },
  {
   "cell_type": "code",
   "execution_count": 7,
   "metadata": {},
   "outputs": [
    {
     "data": {
      "image/png": "[encoded data removed]",
      "text/plain": [
       "plot without title"
      ]
     },
     "metadata": {
      "image/png": {
       "height": 420,
       "width": 420
      },
      "text/plain": {
       "height": 420,
       "width": 420
      }
     },
     "output_type": "display_data"
    }
   ],
   "source": [
    "qplot(y_axis, binwidth = 1)"
   ]
  },
  {
   "cell_type": "code",
   "execution_count": 8,
   "metadata": {},
   "outputs": [],
   "source": [
    "x <- c(1, 2, 2, 2, 3, 3)"
   ]
  },
  {
   "cell_type": "code",
   "execution_count": 9,
   "metadata": {},
   "outputs": [
    {
     "data": {
      "image/png": "[encoded data removed]",
      "text/plain": [
       "plot without title"
      ]
     },
     "metadata": {
      "image/png": {
       "height": 420,
       "width": 420
      },
      "text/plain": {
       "height": 420,
       "width": 420
      }
     },
     "output_type": "display_data"
    }
   ],
   "source": [
    "qplot(x_axis, binwidth = 2)"
   ]
  },
  {
   "cell_type": "code",
   "execution_count": 10,
   "metadata": {},
   "outputs": [
    {
     "data": {
      "text/html": [
       "<ol class=list-inline>\n",
       "\t<li>1</li>\n",
       "\t<li>2</li>\n",
       "\t<li>2</li>\n",
       "\t<li>2</li>\n",
       "\t<li>3</li>\n",
       "\t<li>3</li>\n",
       "</ol>\n"
      ],
      "text/latex": [
       "\\begin{enumerate*}\n",
       "\\item 1\n",
       "\\item 2\n",
       "\\item 2\n",
       "\\item 2\n",
       "\\item 3\n",
       "\\item 3\n",
       "\\end{enumerate*}\n"
      ],
      "text/markdown": [
       "1. 1\n",
       "2. 2\n",
       "3. 2\n",
       "4. 2\n",
       "5. 3\n",
       "6. 3\n",
       "\n",
       "\n"
      ],
      "text/plain": [
       "[1] 1 2 2 2 3 3"
      ]
     },
     "metadata": {},
     "output_type": "display_data"
    }
   ],
   "source": [
    "x"
   ]
  },
  {
   "cell_type": "code",
   "execution_count": 11,
   "metadata": {},
   "outputs": [
    {
     "data": {
      "text/html": [
       "<ol class=list-inline>\n",
       "\t<li>1</li>\n",
       "\t<li>2</li>\n",
       "\t<li>3</li>\n",
       "\t<li>4</li>\n",
       "\t<li>5</li>\n",
       "</ol>\n"
      ],
      "text/latex": [
       "\\begin{enumerate*}\n",
       "\\item 1\n",
       "\\item 2\n",
       "\\item 3\n",
       "\\item 4\n",
       "\\item 5\n",
       "\\end{enumerate*}\n"
      ],
      "text/markdown": [
       "1. 1\n",
       "2. 2\n",
       "3. 3\n",
       "4. 4\n",
       "5. 5\n",
       "\n",
       "\n"
      ],
      "text/plain": [
       "[1] 1 2 3 4 5"
      ]
     },
     "metadata": {},
     "output_type": "display_data"
    }
   ],
   "source": [
    "x_axis"
   ]
  },
  {
   "cell_type": "code",
   "execution_count": 12,
   "metadata": {},
   "outputs": [],
   "source": [
    "y <- c(1, 2, 3, 4, 5)"
   ]
  },
  {
   "cell_type": "code",
   "execution_count": 17,
   "metadata": {},
   "outputs": [
    {
     "name": "stderr",
     "output_type": "stream",
     "text": [
      "`stat_bin()` using `bins = 30`. Pick better value with `binwidth`.\n",
      "\n"
     ]
    },
    {
     "data": {
      "image/png": "[encoded data removed]",
      "text/plain": [
       "plot without title"
      ]
     },
     "metadata": {
      "image/png": {
       "height": 420,
       "width": 420
      },
      "text/plain": {
       "height": 420,
       "width": 420
      }
     },
     "output_type": "display_data"
    }
   ],
   "source": [
    "qplot(y)"
   ]
  },
  {
   "cell_type": "code",
   "execution_count": 14,
   "metadata": {},
   "outputs": [
    {
     "data": {
      "text/html": [
       "<ol class=list-inline>\n",
       "\t<li>1</li>\n",
       "\t<li>2</li>\n",
       "\t<li>3</li>\n",
       "\t<li>4</li>\n",
       "\t<li>5</li>\n",
       "</ol>\n"
      ],
      "text/latex": [
       "\\begin{enumerate*}\n",
       "\\item 1\n",
       "\\item 2\n",
       "\\item 3\n",
       "\\item 4\n",
       "\\item 5\n",
       "\\end{enumerate*}\n"
      ],
      "text/markdown": [
       "1. 1\n",
       "2. 2\n",
       "3. 3\n",
       "4. 4\n",
       "5. 5\n",
       "\n",
       "\n"
      ],
      "text/plain": [
       "[1] 1 2 3 4 5"
      ]
     },
     "metadata": {},
     "output_type": "display_data"
    }
   ],
   "source": [
    "y"
   ]
  },
  {
   "cell_type": "code",
   "execution_count": 18,
   "metadata": {},
   "outputs": [
    {
     "data": {
      "image/png": "[encoded data removed]",
      "text/plain": [
       "plot without title"
      ]
     },
     "metadata": {
      "image/png": {
       "height": 420,
       "width": 420
      },
      "text/plain": {
       "height": 420,
       "width": 420
      }
     },
     "output_type": "display_data"
    }
   ],
   "source": [
    "x2 <- c(1, 2, 2, 2, 2, 3, 3, 4) \n",
    "qplot(x2, binwidth = 0.2)"
   ]
  },
  {
   "cell_type": "code",
   "execution_count": 19,
   "metadata": {},
   "outputs": [],
   "source": [
    "roll2 <- function(bones){\n",
    "    dice <-sample(bones, size = 2, replace = TRUE)\n",
    "    sum(dice)\n",
    "}"
   ]
  },
  {
   "cell_type": "code",
   "execution_count": 20,
   "metadata": {},
   "outputs": [],
   "source": [
    "dice <- c(1:6)"
   ]
  },
  {
   "cell_type": "code",
   "execution_count": 24,
   "metadata": {},
   "outputs": [
    {
     "data": {
      "image/png": "[encoded data removed]",
      "text/plain": [
       "plot without title"
      ]
     },
     "metadata": {
      "image/png": {
       "height": 420,
       "width": 420
      },
      "text/plain": {
       "height": 420,
       "width": 420
      }
     },
     "output_type": "display_data"
    }
   ],
   "source": [
    "qplot(replicate(1000, roll2(dice)), binwidth = 0.5)"
   ]
  },
  {
   "cell_type": "code",
   "execution_count": null,
   "metadata": {},
   "outputs": [],
   "source": []
  }
 ],
 "metadata": {
  "kernelspec": {
   "display_name": "R",
   "language": "R",
   "name": "ir"
  },
  "language_info": {
   "codemirror_mode": "r",
   "file_extension": ".r",
   "mimetype": "text/x-r-source",
   "name": "R",
   "pygments_lexer": "r",
   "version": "3.6.1"
  }
 },
 "nbformat": 4,
 "nbformat_minor": 2
}
