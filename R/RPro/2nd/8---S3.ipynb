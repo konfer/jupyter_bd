{
 "cells": [
  {
   "cell_type": "code",
   "execution_count": 1,
   "metadata": {},
   "outputs": [],
   "source": [
    "deck <- read.csv(\"/usr/local/codePro/jupyter-bd/RPro/deck.csv\")"
   ]
  },
  {
   "cell_type": "code",
   "execution_count": 2,
   "metadata": {},
   "outputs": [
    {
     "data": {
      "text/html": [
       "<ol class=list-inline>\n",
       "\t<li>'1'</li>\n",
       "\t<li>'2'</li>\n",
       "\t<li>'3'</li>\n",
       "\t<li>'4'</li>\n",
       "\t<li>'5'</li>\n",
       "\t<li>'6'</li>\n",
       "\t<li>'7'</li>\n",
       "\t<li>'8'</li>\n",
       "\t<li>'9'</li>\n",
       "\t<li>'10'</li>\n",
       "\t<li>'11'</li>\n",
       "\t<li>'12'</li>\n",
       "\t<li>'13'</li>\n",
       "\t<li>'14'</li>\n",
       "\t<li>'15'</li>\n",
       "\t<li>'16'</li>\n",
       "\t<li>'17'</li>\n",
       "\t<li>'18'</li>\n",
       "\t<li>'19'</li>\n",
       "\t<li>'20'</li>\n",
       "\t<li>'21'</li>\n",
       "\t<li>'22'</li>\n",
       "\t<li>'23'</li>\n",
       "\t<li>'24'</li>\n",
       "\t<li>'25'</li>\n",
       "\t<li>'26'</li>\n",
       "\t<li>'27'</li>\n",
       "\t<li>'28'</li>\n",
       "\t<li>'29'</li>\n",
       "\t<li>'30'</li>\n",
       "\t<li>'31'</li>\n",
       "\t<li>'32'</li>\n",
       "\t<li>'33'</li>\n",
       "\t<li>'34'</li>\n",
       "\t<li>'35'</li>\n",
       "\t<li>'36'</li>\n",
       "\t<li>'37'</li>\n",
       "\t<li>'38'</li>\n",
       "\t<li>'39'</li>\n",
       "\t<li>'40'</li>\n",
       "\t<li>'41'</li>\n",
       "\t<li>'42'</li>\n",
       "\t<li>'43'</li>\n",
       "\t<li>'44'</li>\n",
       "\t<li>'45'</li>\n",
       "\t<li>'46'</li>\n",
       "\t<li>'47'</li>\n",
       "\t<li>'48'</li>\n",
       "\t<li>'49'</li>\n",
       "\t<li>'50'</li>\n",
       "\t<li>'51'</li>\n",
       "\t<li>'52'</li>\n",
       "</ol>\n"
      ],
      "text/latex": [
       "\\begin{enumerate*}\n",
       "\\item '1'\n",
       "\\item '2'\n",
       "\\item '3'\n",
       "\\item '4'\n",
       "\\item '5'\n",
       "\\item '6'\n",
       "\\item '7'\n",
       "\\item '8'\n",
       "\\item '9'\n",
       "\\item '10'\n",
       "\\item '11'\n",
       "\\item '12'\n",
       "\\item '13'\n",
       "\\item '14'\n",
       "\\item '15'\n",
       "\\item '16'\n",
       "\\item '17'\n",
       "\\item '18'\n",
       "\\item '19'\n",
       "\\item '20'\n",
       "\\item '21'\n",
       "\\item '22'\n",
       "\\item '23'\n",
       "\\item '24'\n",
       "\\item '25'\n",
       "\\item '26'\n",
       "\\item '27'\n",
       "\\item '28'\n",
       "\\item '29'\n",
       "\\item '30'\n",
       "\\item '31'\n",
       "\\item '32'\n",
       "\\item '33'\n",
       "\\item '34'\n",
       "\\item '35'\n",
       "\\item '36'\n",
       "\\item '37'\n",
       "\\item '38'\n",
       "\\item '39'\n",
       "\\item '40'\n",
       "\\item '41'\n",
       "\\item '42'\n",
       "\\item '43'\n",
       "\\item '44'\n",
       "\\item '45'\n",
       "\\item '46'\n",
       "\\item '47'\n",
       "\\item '48'\n",
       "\\item '49'\n",
       "\\item '50'\n",
       "\\item '51'\n",
       "\\item '52'\n",
       "\\end{enumerate*}\n"
      ],
      "text/markdown": [
       "1. '1'\n",
       "2. '2'\n",
       "3. '3'\n",
       "4. '4'\n",
       "5. '5'\n",
       "6. '6'\n",
       "7. '7'\n",
       "8. '8'\n",
       "9. '9'\n",
       "10. '10'\n",
       "11. '11'\n",
       "12. '12'\n",
       "13. '13'\n",
       "14. '14'\n",
       "15. '15'\n",
       "16. '16'\n",
       "17. '17'\n",
       "18. '18'\n",
       "19. '19'\n",
       "20. '20'\n",
       "21. '21'\n",
       "22. '22'\n",
       "23. '23'\n",
       "24. '24'\n",
       "25. '25'\n",
       "26. '26'\n",
       "27. '27'\n",
       "28. '28'\n",
       "29. '29'\n",
       "30. '30'\n",
       "31. '31'\n",
       "32. '32'\n",
       "33. '33'\n",
       "34. '34'\n",
       "35. '35'\n",
       "36. '36'\n",
       "37. '37'\n",
       "38. '38'\n",
       "39. '39'\n",
       "40. '40'\n",
       "41. '41'\n",
       "42. '42'\n",
       "43. '43'\n",
       "44. '44'\n",
       "45. '45'\n",
       "46. '46'\n",
       "47. '47'\n",
       "48. '48'\n",
       "49. '49'\n",
       "50. '50'\n",
       "51. '51'\n",
       "52. '52'\n",
       "\n",
       "\n"
      ],
      "text/plain": [
       " [1] \"1\"  \"2\"  \"3\"  \"4\"  \"5\"  \"6\"  \"7\"  \"8\"  \"9\"  \"10\" \"11\" \"12\" \"13\" \"14\" \"15\"\n",
       "[16] \"16\" \"17\" \"18\" \"19\" \"20\" \"21\" \"22\" \"23\" \"24\" \"25\" \"26\" \"27\" \"28\" \"29\" \"30\"\n",
       "[31] \"31\" \"32\" \"33\" \"34\" \"35\" \"36\" \"37\" \"38\" \"39\" \"40\" \"41\" \"42\" \"43\" \"44\" \"45\"\n",
       "[46] \"46\" \"47\" \"48\" \"49\" \"50\" \"51\" \"52\""
      ]
     },
     "metadata": {},
     "output_type": "display_data"
    }
   ],
   "source": [
    "row.names(deck)"
   ]
  },
  {
   "cell_type": "code",
   "execution_count": 3,
   "metadata": {},
   "outputs": [
    {
     "data": {
      "text/html": [
       "<table>\n",
       "<caption>A data.frame: 52 × 3</caption>\n",
       "<thead>\n",
       "\t<tr><th scope=col>face</th><th scope=col>suit</th><th scope=col>value</th></tr>\n",
       "\t<tr><th scope=col>&lt;fct&gt;</th><th scope=col>&lt;fct&gt;</th><th scope=col>&lt;int&gt;</th></tr>\n",
       "</thead>\n",
       "<tbody>\n",
       "\t<tr><td>king </td><td>spades  </td><td>13</td></tr>\n",
       "\t<tr><td>queen</td><td>spades  </td><td>12</td></tr>\n",
       "\t<tr><td>jack </td><td>spades  </td><td>11</td></tr>\n",
       "\t<tr><td>ten  </td><td>spades  </td><td>10</td></tr>\n",
       "\t<tr><td>nine </td><td>spades  </td><td> 9</td></tr>\n",
       "\t<tr><td>eight</td><td>spades  </td><td> 8</td></tr>\n",
       "\t<tr><td>seven</td><td>spades  </td><td> 7</td></tr>\n",
       "\t<tr><td>six  </td><td>spades  </td><td> 6</td></tr>\n",
       "\t<tr><td>five </td><td>spades  </td><td> 5</td></tr>\n",
       "\t<tr><td>four </td><td>spades  </td><td> 4</td></tr>\n",
       "\t<tr><td>three</td><td>spades  </td><td> 3</td></tr>\n",
       "\t<tr><td>two  </td><td>spades  </td><td> 2</td></tr>\n",
       "\t<tr><td>ace  </td><td>spades  </td><td> 1</td></tr>\n",
       "\t<tr><td>king </td><td>clubs   </td><td>13</td></tr>\n",
       "\t<tr><td>queen</td><td>clubs   </td><td>12</td></tr>\n",
       "\t<tr><td>jack </td><td>clubs   </td><td>11</td></tr>\n",
       "\t<tr><td>ten  </td><td>clubs   </td><td>10</td></tr>\n",
       "\t<tr><td>nine </td><td>clubs   </td><td> 9</td></tr>\n",
       "\t<tr><td>eight</td><td>clubs   </td><td> 8</td></tr>\n",
       "\t<tr><td>seven</td><td>clubs   </td><td> 7</td></tr>\n",
       "\t<tr><td>six  </td><td>clubs   </td><td> 6</td></tr>\n",
       "\t<tr><td>five </td><td>clubs   </td><td> 5</td></tr>\n",
       "\t<tr><td>four </td><td>clubs   </td><td> 4</td></tr>\n",
       "\t<tr><td>three</td><td>clubs   </td><td> 3</td></tr>\n",
       "\t<tr><td>two  </td><td>clubs   </td><td> 2</td></tr>\n",
       "\t<tr><td>ace  </td><td>clubs   </td><td> 1</td></tr>\n",
       "\t<tr><td>king </td><td>diamonds</td><td>13</td></tr>\n",
       "\t<tr><td>queen</td><td>diamonds</td><td>12</td></tr>\n",
       "\t<tr><td>jack </td><td>diamonds</td><td>11</td></tr>\n",
       "\t<tr><td>ten  </td><td>diamonds</td><td>10</td></tr>\n",
       "\t<tr><td>nine </td><td>diamonds</td><td> 9</td></tr>\n",
       "\t<tr><td>eight</td><td>diamonds</td><td> 8</td></tr>\n",
       "\t<tr><td>seven</td><td>diamonds</td><td> 7</td></tr>\n",
       "\t<tr><td>six  </td><td>diamonds</td><td> 6</td></tr>\n",
       "\t<tr><td>five </td><td>diamonds</td><td> 5</td></tr>\n",
       "\t<tr><td>four </td><td>diamonds</td><td> 4</td></tr>\n",
       "\t<tr><td>three</td><td>diamonds</td><td> 3</td></tr>\n",
       "\t<tr><td>two  </td><td>diamonds</td><td> 2</td></tr>\n",
       "\t<tr><td>ace  </td><td>diamonds</td><td> 1</td></tr>\n",
       "\t<tr><td>king </td><td>hearts  </td><td>13</td></tr>\n",
       "\t<tr><td>queen</td><td>hearts  </td><td>12</td></tr>\n",
       "\t<tr><td>jack </td><td>hearts  </td><td>11</td></tr>\n",
       "\t<tr><td>ten  </td><td>hearts  </td><td>10</td></tr>\n",
       "\t<tr><td>nine </td><td>hearts  </td><td> 9</td></tr>\n",
       "\t<tr><td>eight</td><td>hearts  </td><td> 8</td></tr>\n",
       "\t<tr><td>seven</td><td>hearts  </td><td> 7</td></tr>\n",
       "\t<tr><td>six  </td><td>hearts  </td><td> 6</td></tr>\n",
       "\t<tr><td>five </td><td>hearts  </td><td> 5</td></tr>\n",
       "\t<tr><td>four </td><td>hearts  </td><td> 4</td></tr>\n",
       "\t<tr><td>three</td><td>hearts  </td><td> 3</td></tr>\n",
       "\t<tr><td>two  </td><td>hearts  </td><td> 2</td></tr>\n",
       "\t<tr><td>ace  </td><td>hearts  </td><td> 1</td></tr>\n",
       "</tbody>\n",
       "</table>\n"
      ],
      "text/latex": [
       "A data.frame: 52 × 3\n",
       "\\begin{tabular}{r|lll}\n",
       " face & suit & value\\\\\n",
       " <fct> & <fct> & <int>\\\\\n",
       "\\hline\n",
       "\t king  & spades   & 13\\\\\n",
       "\t queen & spades   & 12\\\\\n",
       "\t jack  & spades   & 11\\\\\n",
       "\t ten   & spades   & 10\\\\\n",
       "\t nine  & spades   &  9\\\\\n",
       "\t eight & spades   &  8\\\\\n",
       "\t seven & spades   &  7\\\\\n",
       "\t six   & spades   &  6\\\\\n",
       "\t five  & spades   &  5\\\\\n",
       "\t four  & spades   &  4\\\\\n",
       "\t three & spades   &  3\\\\\n",
       "\t two   & spades   &  2\\\\\n",
       "\t ace   & spades   &  1\\\\\n",
       "\t king  & clubs    & 13\\\\\n",
       "\t queen & clubs    & 12\\\\\n",
       "\t jack  & clubs    & 11\\\\\n",
       "\t ten   & clubs    & 10\\\\\n",
       "\t nine  & clubs    &  9\\\\\n",
       "\t eight & clubs    &  8\\\\\n",
       "\t seven & clubs    &  7\\\\\n",
       "\t six   & clubs    &  6\\\\\n",
       "\t five  & clubs    &  5\\\\\n",
       "\t four  & clubs    &  4\\\\\n",
       "\t three & clubs    &  3\\\\\n",
       "\t two   & clubs    &  2\\\\\n",
       "\t ace   & clubs    &  1\\\\\n",
       "\t king  & diamonds & 13\\\\\n",
       "\t queen & diamonds & 12\\\\\n",
       "\t jack  & diamonds & 11\\\\\n",
       "\t ten   & diamonds & 10\\\\\n",
       "\t nine  & diamonds &  9\\\\\n",
       "\t eight & diamonds &  8\\\\\n",
       "\t seven & diamonds &  7\\\\\n",
       "\t six   & diamonds &  6\\\\\n",
       "\t five  & diamonds &  5\\\\\n",
       "\t four  & diamonds &  4\\\\\n",
       "\t three & diamonds &  3\\\\\n",
       "\t two   & diamonds &  2\\\\\n",
       "\t ace   & diamonds &  1\\\\\n",
       "\t king  & hearts   & 13\\\\\n",
       "\t queen & hearts   & 12\\\\\n",
       "\t jack  & hearts   & 11\\\\\n",
       "\t ten   & hearts   & 10\\\\\n",
       "\t nine  & hearts   &  9\\\\\n",
       "\t eight & hearts   &  8\\\\\n",
       "\t seven & hearts   &  7\\\\\n",
       "\t six   & hearts   &  6\\\\\n",
       "\t five  & hearts   &  5\\\\\n",
       "\t four  & hearts   &  4\\\\\n",
       "\t three & hearts   &  3\\\\\n",
       "\t two   & hearts   &  2\\\\\n",
       "\t ace   & hearts   &  1\\\\\n",
       "\\end{tabular}\n"
      ],
      "text/markdown": [
       "\n",
       "A data.frame: 52 × 3\n",
       "\n",
       "| face &lt;fct&gt; | suit &lt;fct&gt; | value &lt;int&gt; |\n",
       "|---|---|---|\n",
       "| king  | spades   | 13 |\n",
       "| queen | spades   | 12 |\n",
       "| jack  | spades   | 11 |\n",
       "| ten   | spades   | 10 |\n",
       "| nine  | spades   |  9 |\n",
       "| eight | spades   |  8 |\n",
       "| seven | spades   |  7 |\n",
       "| six   | spades   |  6 |\n",
       "| five  | spades   |  5 |\n",
       "| four  | spades   |  4 |\n",
       "| three | spades   |  3 |\n",
       "| two   | spades   |  2 |\n",
       "| ace   | spades   |  1 |\n",
       "| king  | clubs    | 13 |\n",
       "| queen | clubs    | 12 |\n",
       "| jack  | clubs    | 11 |\n",
       "| ten   | clubs    | 10 |\n",
       "| nine  | clubs    |  9 |\n",
       "| eight | clubs    |  8 |\n",
       "| seven | clubs    |  7 |\n",
       "| six   | clubs    |  6 |\n",
       "| five  | clubs    |  5 |\n",
       "| four  | clubs    |  4 |\n",
       "| three | clubs    |  3 |\n",
       "| two   | clubs    |  2 |\n",
       "| ace   | clubs    |  1 |\n",
       "| king  | diamonds | 13 |\n",
       "| queen | diamonds | 12 |\n",
       "| jack  | diamonds | 11 |\n",
       "| ten   | diamonds | 10 |\n",
       "| nine  | diamonds |  9 |\n",
       "| eight | diamonds |  8 |\n",
       "| seven | diamonds |  7 |\n",
       "| six   | diamonds |  6 |\n",
       "| five  | diamonds |  5 |\n",
       "| four  | diamonds |  4 |\n",
       "| three | diamonds |  3 |\n",
       "| two   | diamonds |  2 |\n",
       "| ace   | diamonds |  1 |\n",
       "| king  | hearts   | 13 |\n",
       "| queen | hearts   | 12 |\n",
       "| jack  | hearts   | 11 |\n",
       "| ten   | hearts   | 10 |\n",
       "| nine  | hearts   |  9 |\n",
       "| eight | hearts   |  8 |\n",
       "| seven | hearts   |  7 |\n",
       "| six   | hearts   |  6 |\n",
       "| five  | hearts   |  5 |\n",
       "| four  | hearts   |  4 |\n",
       "| three | hearts   |  3 |\n",
       "| two   | hearts   |  2 |\n",
       "| ace   | hearts   |  1 |\n",
       "\n"
      ],
      "text/plain": [
       "   face  suit     value\n",
       "1  king  spades   13   \n",
       "2  queen spades   12   \n",
       "3  jack  spades   11   \n",
       "4  ten   spades   10   \n",
       "5  nine  spades    9   \n",
       "6  eight spades    8   \n",
       "7  seven spades    7   \n",
       "8  six   spades    6   \n",
       "9  five  spades    5   \n",
       "10 four  spades    4   \n",
       "11 three spades    3   \n",
       "12 two   spades    2   \n",
       "13 ace   spades    1   \n",
       "14 king  clubs    13   \n",
       "15 queen clubs    12   \n",
       "16 jack  clubs    11   \n",
       "17 ten   clubs    10   \n",
       "18 nine  clubs     9   \n",
       "19 eight clubs     8   \n",
       "20 seven clubs     7   \n",
       "21 six   clubs     6   \n",
       "22 five  clubs     5   \n",
       "23 four  clubs     4   \n",
       "24 three clubs     3   \n",
       "25 two   clubs     2   \n",
       "26 ace   clubs     1   \n",
       "27 king  diamonds 13   \n",
       "28 queen diamonds 12   \n",
       "29 jack  diamonds 11   \n",
       "30 ten   diamonds 10   \n",
       "31 nine  diamonds  9   \n",
       "32 eight diamonds  8   \n",
       "33 seven diamonds  7   \n",
       "34 six   diamonds  6   \n",
       "35 five  diamonds  5   \n",
       "36 four  diamonds  4   \n",
       "37 three diamonds  3   \n",
       "38 two   diamonds  2   \n",
       "39 ace   diamonds  1   \n",
       "40 king  hearts   13   \n",
       "41 queen hearts   12   \n",
       "42 jack  hearts   11   \n",
       "43 ten   hearts   10   \n",
       "44 nine  hearts    9   \n",
       "45 eight hearts    8   \n",
       "46 seven hearts    7   \n",
       "47 six   hearts    6   \n",
       "48 five  hearts    5   \n",
       "49 four  hearts    4   \n",
       "50 three hearts    3   \n",
       "51 two   hearts    2   \n",
       "52 ace   hearts    1   "
      ]
     },
     "metadata": {},
     "output_type": "display_data"
    }
   ],
   "source": [
    "deck"
   ]
  },
  {
   "cell_type": "code",
   "execution_count": 4,
   "metadata": {},
   "outputs": [],
   "source": [
    "get_symbols <- function(){\n",
    "    wheel <- c(\"DD\", \"7\", \"BBB\", \"BB\", \"B\", \"C\", \"0\")\n",
    "    sample(wheel, size = 3, replace =TRUE, prob = c(0.03, 0.03, 0.06, 0.1, 0.25, 0.01, 0.52))\n",
    "}"
   ]
  },
  {
   "cell_type": "code",
   "execution_count": 5,
   "metadata": {},
   "outputs": [],
   "source": [
    "play <- function() { \n",
    "    symbols <- get_symbols() \n",
    "    print(symbols)\n",
    "}"
   ]
  },
  {
   "cell_type": "code",
   "execution_count": 6,
   "metadata": {},
   "outputs": [
    {
     "name": "stdout",
     "output_type": "stream",
     "text": [
      "[1] \"0\"   \"BBB\" \"B\"  \n"
     ]
    }
   ],
   "source": [
    "one_play <- play()"
   ]
  },
  {
   "cell_type": "code",
   "execution_count": 7,
   "metadata": {},
   "outputs": [
    {
     "data": {
      "text/plain": [
       "NULL"
      ]
     },
     "metadata": {},
     "output_type": "display_data"
    }
   ],
   "source": [
    "attributes(one_play)"
   ]
  },
  {
   "cell_type": "code",
   "execution_count": 8,
   "metadata": {},
   "outputs": [],
   "source": [
    "attr(one_play, \"symbols\") <- c(\"B\", \"0\", \"B\")"
   ]
  },
  {
   "cell_type": "code",
   "execution_count": 9,
   "metadata": {},
   "outputs": [
    {
     "data": {
      "text/html": [
       "<strong>$symbols</strong> = <ol class=list-inline>\n",
       "\t<li>'B'</li>\n",
       "\t<li>'0'</li>\n",
       "\t<li>'B'</li>\n",
       "</ol>\n"
      ],
      "text/latex": [
       "\\textbf{\\$symbols} = \\begin{enumerate*}\n",
       "\\item 'B'\n",
       "\\item '0'\n",
       "\\item 'B'\n",
       "\\end{enumerate*}\n"
      ],
      "text/markdown": [
       "**$symbols** = 1. 'B'\n",
       "2. '0'\n",
       "3. 'B'\n",
       "\n",
       "\n"
      ],
      "text/plain": [
       "$symbols\n",
       "[1] \"B\" \"0\" \"B\"\n"
      ]
     },
     "metadata": {},
     "output_type": "display_data"
    }
   ],
   "source": [
    "attributes(one_play)"
   ]
  },
  {
   "cell_type": "code",
   "execution_count": 10,
   "metadata": {},
   "outputs": [],
   "source": [
    "one_play <- 0"
   ]
  },
  {
   "cell_type": "code",
   "execution_count": 11,
   "metadata": {},
   "outputs": [
    {
     "data": {
      "text/plain": [
       "NULL"
      ]
     },
     "metadata": {},
     "output_type": "display_data"
    }
   ],
   "source": [
    "attributes(one_play)"
   ]
  },
  {
   "cell_type": "code",
   "execution_count": 12,
   "metadata": {},
   "outputs": [],
   "source": [
    "attr(one_play, \"symbols\") <- c(\"B\", \"0\", \"B\")"
   ]
  },
  {
   "cell_type": "code",
   "execution_count": 13,
   "metadata": {},
   "outputs": [
    {
     "data": {
      "text/html": [
       "<ol class=list-inline>\n",
       "\t<li>'B'</li>\n",
       "\t<li>'0'</li>\n",
       "\t<li>'B'</li>\n",
       "</ol>\n"
      ],
      "text/latex": [
       "\\begin{enumerate*}\n",
       "\\item 'B'\n",
       "\\item '0'\n",
       "\\item 'B'\n",
       "\\end{enumerate*}\n"
      ],
      "text/markdown": [
       "1. 'B'\n",
       "2. '0'\n",
       "3. 'B'\n",
       "\n",
       "\n"
      ],
      "text/plain": [
       "[1] \"B\" \"0\" \"B\""
      ]
     },
     "metadata": {},
     "output_type": "display_data"
    }
   ],
   "source": [
    "attr(one_play, \"symbols\")"
   ]
  },
  {
   "cell_type": "code",
   "execution_count": 14,
   "metadata": {},
   "outputs": [
    {
     "data": {
      "text/html": [
       "1"
      ],
      "text/latex": [
       "1"
      ],
      "text/markdown": [
       "1"
      ],
      "text/plain": [
       "[1] 1\n",
       "attr(,\"symbols\")\n",
       "[1] \"B\" \"0\" \"B\""
      ]
     },
     "metadata": {},
     "output_type": "display_data"
    }
   ],
   "source": [
    "one_play + 1"
   ]
  },
  {
   "cell_type": "code",
   "execution_count": 15,
   "metadata": {},
   "outputs": [
    {
     "data": {
      "text/html": [
       "0"
      ],
      "text/latex": [
       "0"
      ],
      "text/markdown": [
       "0"
      ],
      "text/plain": [
       "[1] 0\n",
       "attr(,\"symbols\")\n",
       "[1] \"B\" \"0\" \"B\""
      ]
     },
     "metadata": {},
     "output_type": "display_data"
    }
   ],
   "source": [
    "one_play"
   ]
  },
  {
   "cell_type": "code",
   "execution_count": 16,
   "metadata": {},
   "outputs": [
    {
     "data": {
      "text/html": [
       "<strong>$symbols</strong> = <ol class=list-inline>\n",
       "\t<li>'B'</li>\n",
       "\t<li>'0'</li>\n",
       "\t<li>'B'</li>\n",
       "</ol>\n"
      ],
      "text/latex": [
       "\\textbf{\\$symbols} = \\begin{enumerate*}\n",
       "\\item 'B'\n",
       "\\item '0'\n",
       "\\item 'B'\n",
       "\\end{enumerate*}\n"
      ],
      "text/markdown": [
       "**$symbols** = 1. 'B'\n",
       "2. '0'\n",
       "3. 'B'\n",
       "\n",
       "\n"
      ],
      "text/plain": [
       "$symbols\n",
       "[1] \"B\" \"0\" \"B\"\n"
      ]
     },
     "metadata": {},
     "output_type": "display_data"
    }
   ],
   "source": [
    "attributes(one_play)"
   ]
  },
  {
   "cell_type": "code",
   "execution_count": 17,
   "metadata": {},
   "outputs": [
    {
     "data": {
      "text/html": [
       "1"
      ],
      "text/latex": [
       "1"
      ],
      "text/markdown": [
       "1"
      ],
      "text/plain": [
       "[1] 1\n",
       "attr(,\"symbols\")\n",
       "[1] \"B\" \"0\" \"B\""
      ]
     },
     "metadata": {},
     "output_type": "display_data"
    }
   ],
   "source": [
    "one_play + 1"
   ]
  },
  {
   "cell_type": "code",
   "execution_count": 18,
   "metadata": {},
   "outputs": [
    {
     "data": {
      "text/html": [
       "<ol class=list-inline>\n",
       "\t<li>'B'</li>\n",
       "\t<li>'0'</li>\n",
       "\t<li>'B'</li>\n",
       "</ol>\n"
      ],
      "text/latex": [
       "\\begin{enumerate*}\n",
       "\\item 'B'\n",
       "\\item '0'\n",
       "\\item 'B'\n",
       "\\end{enumerate*}\n"
      ],
      "text/markdown": [
       "1. 'B'\n",
       "2. '0'\n",
       "3. 'B'\n",
       "\n",
       "\n"
      ],
      "text/plain": [
       "[1] \"B\" \"0\" \"B\""
      ]
     },
     "metadata": {},
     "output_type": "display_data"
    }
   ],
   "source": [
    "attr(one_play, \"symbols\")"
   ]
  },
  {
   "cell_type": "code",
   "execution_count": 19,
   "metadata": {},
   "outputs": [],
   "source": [
    "score <- function(symbols) {\n",
    "# 识别情形\n",
    "    same <- symbols[1] == symbols[2] && symbols[2] == symbols[3] \n",
    "    bars <- symbols %in% c(\"B\", \"BB\", \"BBB\")\n",
    "    # 计算中奖金额 \n",
    "    if (same) \n",
    "    {\n",
    "        payouts <- c(\"DD\" = 100, \"7\" = 80, \"BBB\" = 40, \"BB\" = 25, \"B\" = 10, \"C\" = 10, \"0\" = 0)\n",
    "        prize <- unname(payouts[symbols[1]]) \n",
    "    } \n",
    "    else if (all(bars)) \n",
    "    {\n",
    "        prize <- 5 \n",
    "    } \n",
    "    else \n",
    "    {\n",
    "        cherries <- sum(symbols == \"C\")\n",
    "        prize <- c(0, 2, 5)[cherries + 1] \n",
    "    }\n",
    "# 根据钻石的个数调整中奖金额 \n",
    "    diamonds <- sum(symbols == \"DD\") \n",
    "    prize * 2 ^ diamonds\n",
    "}"
   ]
  },
  {
   "cell_type": "code",
   "execution_count": 20,
   "metadata": {},
   "outputs": [],
   "source": [
    "play <- function(){\n",
    "    symbols <- get_symbols()\n",
    "    prize <- score(symbols)\n",
    "    attr(prize, \"symbols\") <- symbols\n",
    "    prize\n",
    "}"
   ]
  },
  {
   "cell_type": "code",
   "execution_count": 21,
   "metadata": {},
   "outputs": [
    {
     "data": {
      "text/html": [
       "0"
      ],
      "text/latex": [
       "0"
      ],
      "text/markdown": [
       "0"
      ],
      "text/plain": [
       "[1] 0\n",
       "attr(,\"symbols\")\n",
       "[1] \"0\" \"0\" \"B\""
      ]
     },
     "metadata": {},
     "output_type": "display_data"
    }
   ],
   "source": [
    "play()"
   ]
  },
  {
   "cell_type": "code",
   "execution_count": 22,
   "metadata": {},
   "outputs": [],
   "source": [
    "two_play <- play()"
   ]
  },
  {
   "cell_type": "code",
   "execution_count": 23,
   "metadata": {},
   "outputs": [
    {
     "data": {
      "text/html": [
       "0"
      ],
      "text/latex": [
       "0"
      ],
      "text/markdown": [
       "0"
      ],
      "text/plain": [
       "[1] 0\n",
       "attr(,\"symbols\")\n",
       "[1] \"BBB\" \"0\"   \"0\"  "
      ]
     },
     "metadata": {},
     "output_type": "display_data"
    }
   ],
   "source": [
    "two_play\n"
   ]
  },
  {
   "cell_type": "code",
   "execution_count": 24,
   "metadata": {},
   "outputs": [
    {
     "data": {
      "text/html": [
       "<strong>$symbols</strong> = <ol class=list-inline>\n",
       "\t<li>'BBB'</li>\n",
       "\t<li>'0'</li>\n",
       "\t<li>'0'</li>\n",
       "</ol>\n"
      ],
      "text/latex": [
       "\\textbf{\\$symbols} = \\begin{enumerate*}\n",
       "\\item 'BBB'\n",
       "\\item '0'\n",
       "\\item '0'\n",
       "\\end{enumerate*}\n"
      ],
      "text/markdown": [
       "**$symbols** = 1. 'BBB'\n",
       "2. '0'\n",
       "3. '0'\n",
       "\n",
       "\n"
      ],
      "text/plain": [
       "$symbols\n",
       "[1] \"BBB\" \"0\"   \"0\"  \n"
      ]
     },
     "metadata": {},
     "output_type": "display_data"
    }
   ],
   "source": [
    "attributes(two_play)"
   ]
  },
  {
   "cell_type": "code",
   "execution_count": 25,
   "metadata": {},
   "outputs": [],
   "source": [
    "playWithStructure <- function(){\n",
    "    symbols <- get_symbols()\n",
    "    structure(score(symbols), symbols = symbols, class = \"slots\")\n",
    "}"
   ]
  },
  {
   "cell_type": "code",
   "execution_count": 26,
   "metadata": {},
   "outputs": [],
   "source": [
    "three_play <- play()"
   ]
  },
  {
   "cell_type": "code",
   "execution_count": 27,
   "metadata": {},
   "outputs": [
    {
     "data": {
      "text/html": [
       "0"
      ],
      "text/latex": [
       "0"
      ],
      "text/markdown": [
       "0"
      ],
      "text/plain": [
       "[1] 0\n",
       "attr(,\"symbols\")\n",
       "[1] \"0\"  \"DD\" \"0\" "
      ]
     },
     "metadata": {},
     "output_type": "display_data"
    }
   ],
   "source": [
    "three_play"
   ]
  },
  {
   "cell_type": "code",
   "execution_count": 28,
   "metadata": {},
   "outputs": [],
   "source": [
    "slot_display <- function(prize){\n",
    "    symbols <- attr(prize, \"symbols\")\n",
    "    symbols <- paste(symbols, collapse = \" \")\n",
    "    string <- paste(symbols, prize, sep = \"\\n$\")\n",
    "    cat(string)\n",
    "}"
   ]
  },
  {
   "cell_type": "code",
   "execution_count": 29,
   "metadata": {},
   "outputs": [
    {
     "name": "stdout",
     "output_type": "stream",
     "text": [
      "B 0 B\n",
      "$0"
     ]
    }
   ],
   "source": [
    "slot_display(one_play)"
   ]
  },
  {
   "cell_type": "code",
   "execution_count": 30,
   "metadata": {},
   "outputs": [
    {
     "name": "stdout",
     "output_type": "stream",
     "text": [
      "[1] 3.141593\n"
     ]
    }
   ],
   "source": [
    "print(pi)"
   ]
  },
  {
   "cell_type": "code",
   "execution_count": 31,
   "metadata": {},
   "outputs": [
    {
     "name": "stdout",
     "output_type": "stream",
     "text": [
      "   face   suit value\n",
      "1  king spades    13\n",
      "2 queen spades    12\n",
      "3  jack spades    11\n",
      "4   ten spades    10\n",
      "5  nine spades     9\n",
      "6 eight spades     8\n"
     ]
    }
   ],
   "source": [
    "print(head(deck))"
   ]
  },
  {
   "cell_type": "code",
   "execution_count": 32,
   "metadata": {},
   "outputs": [
    {
     "name": "stdout",
     "output_type": "stream",
     "text": [
      "[1] 0\n",
      "attr(,\"symbols\")\n",
      "[1] \"B\" \"B\" \"0\"\n"
     ]
    }
   ],
   "source": [
    "print(play())"
   ]
  },
  {
   "cell_type": "code",
   "execution_count": 33,
   "metadata": {},
   "outputs": [
    {
     "data": {
      "text/html": [
       "<pre class=language-r><code>function (x, quote = FALSE, max.levels = NULL, width = getOption(\"width\"), \n",
       "<span style=white-space:pre-wrap>    ...) </span>\n",
       "{\n",
       "<span style=white-space:pre-wrap>    ord &lt;- is.ordered(x)</span>\n",
       "<span style=white-space:pre-wrap>    if (length(x) == 0L) </span>\n",
       "<span style=white-space:pre-wrap>        cat(if (ord) </span>\n",
       "<span style=white-space:pre-wrap>            \"ordered\"</span>\n",
       "<span style=white-space:pre-wrap>        else \"factor\", \"(0)\\n\", sep = \"\")</span>\n",
       "<span style=white-space:pre-wrap>    else {</span>\n",
       "<span style=white-space:pre-wrap>        xx &lt;- character(length(x))</span>\n",
       "<span style=white-space:pre-wrap>        xx[] &lt;- as.character(x)</span>\n",
       "<span style=white-space:pre-wrap>        keepAttrs &lt;- setdiff(names(attributes(x)), c(\"levels\", </span>\n",
       "<span style=white-space:pre-wrap>            \"class\"))</span>\n",
       "<span style=white-space:pre-wrap>        attributes(xx)[keepAttrs] &lt;- attributes(x)[keepAttrs]</span>\n",
       "<span style=white-space:pre-wrap>        print(xx, quote = quote, ...)</span>\n",
       "<span style=white-space:pre-wrap>    }</span>\n",
       "<span style=white-space:pre-wrap>    maxl &lt;- if (is.null(max.levels)) </span>\n",
       "<span style=white-space:pre-wrap>        TRUE</span>\n",
       "<span style=white-space:pre-wrap>    else max.levels</span>\n",
       "<span style=white-space:pre-wrap>    if (maxl) {</span>\n",
       "<span style=white-space:pre-wrap>        n &lt;- length(lev &lt;- encodeString(levels(x), quote = ifelse(quote, </span>\n",
       "<span style=white-space:pre-wrap>            \"\\\"\", \"\")))</span>\n",
       "<span style=white-space:pre-wrap>        colsep &lt;- if (ord) </span>\n",
       "<span style=white-space:pre-wrap>            \" &lt; \"</span>\n",
       "<span style=white-space:pre-wrap>        else \" \"</span>\n",
       "<span style=white-space:pre-wrap>        T0 &lt;- \"Levels: \"</span>\n",
       "<span style=white-space:pre-wrap>        if (is.logical(maxl)) </span>\n",
       "<span style=white-space:pre-wrap>            maxl &lt;- {</span>\n",
       "<span style=white-space:pre-wrap>                width &lt;- width - (nchar(T0, \"w\") + 3L + 1L + </span>\n",
       "<span style=white-space:pre-wrap>                  3L)</span>\n",
       "<span style=white-space:pre-wrap>                lenl &lt;- cumsum(nchar(lev, \"w\") + nchar(colsep, </span>\n",
       "<span style=white-space:pre-wrap>                  \"w\"))</span>\n",
       "<span style=white-space:pre-wrap>                if (n &lt;= 1L || lenl[n] &lt;= width) </span>\n",
       "<span style=white-space:pre-wrap>                  n</span>\n",
       "<span style=white-space:pre-wrap>                else max(1L, which.max(lenl &gt; width) - 1L)</span>\n",
       "<span style=white-space:pre-wrap>            }</span>\n",
       "<span style=white-space:pre-wrap>        drop &lt;- n &gt; maxl</span>\n",
       "<span style=white-space:pre-wrap>        cat(if (drop) </span>\n",
       "<span style=white-space:pre-wrap>            paste(format(n), \"\"), T0, paste(if (drop) </span>\n",
       "<span style=white-space:pre-wrap>            c(lev[1L:max(1, maxl - 1)], \"...\", if (maxl &gt; 1) lev[n])</span>\n",
       "<span style=white-space:pre-wrap>        else lev, collapse = colsep), \"\\n\", sep = \"\")</span>\n",
       "<span style=white-space:pre-wrap>    }</span>\n",
       "<span style=white-space:pre-wrap>    if (!isTRUE(val &lt;- .valid.factor(x))) </span>\n",
       "<span style=white-space:pre-wrap>        warning(val)</span>\n",
       "<span style=white-space:pre-wrap>    invisible(x)</span>\n",
       "}</code></pre>"
      ],
      "text/latex": [
       "\\begin{minted}{r}\n",
       "function (x, quote = FALSE, max.levels = NULL, width = getOption(\"width\"), \n",
       "    ...) \n",
       "\\{\n",
       "    ord <- is.ordered(x)\n",
       "    if (length(x) == 0L) \n",
       "        cat(if (ord) \n",
       "            \"ordered\"\n",
       "        else \"factor\", \"(0)\\textbackslash{}n\", sep = \"\")\n",
       "    else \\{\n",
       "        xx <- character(length(x))\n",
       "        xx{[}{]} <- as.character(x)\n",
       "        keepAttrs <- setdiff(names(attributes(x)), c(\"levels\", \n",
       "            \"class\"))\n",
       "        attributes(xx){[}keepAttrs{]} <- attributes(x){[}keepAttrs{]}\n",
       "        print(xx, quote = quote, ...)\n",
       "    \\}\n",
       "    maxl <- if (is.null(max.levels)) \n",
       "        TRUE\n",
       "    else max.levels\n",
       "    if (maxl) \\{\n",
       "        n <- length(lev <- encodeString(levels(x), quote = ifelse(quote, \n",
       "            \"\\textbackslash{}\"\", \"\")))\n",
       "        colsep <- if (ord) \n",
       "            \" < \"\n",
       "        else \" \"\n",
       "        T0 <- \"Levels: \"\n",
       "        if (is.logical(maxl)) \n",
       "            maxl <- \\{\n",
       "                width <- width - (nchar(T0, \"w\") + 3L + 1L + \n",
       "                  3L)\n",
       "                lenl <- cumsum(nchar(lev, \"w\") + nchar(colsep, \n",
       "                  \"w\"))\n",
       "                if (n <= 1L \\textbar{}\\textbar{} lenl{[}n{]} <= width) \n",
       "                  n\n",
       "                else max(1L, which.max(lenl > width) - 1L)\n",
       "            \\}\n",
       "        drop <- n > maxl\n",
       "        cat(if (drop) \n",
       "            paste(format(n), \"\"), T0, paste(if (drop) \n",
       "            c(lev{[}1L:max(1, maxl - 1){]}, \"...\", if (maxl > 1) lev{[}n{]})\n",
       "        else lev, collapse = colsep), \"\\textbackslash{}n\", sep = \"\")\n",
       "    \\}\n",
       "    if (!isTRUE(val <- .valid.factor(x))) \n",
       "        warning(val)\n",
       "    invisible(x)\n",
       "\\}\n",
       "\\end{minted}"
      ],
      "text/markdown": [
       "```r\n",
       "function (x, quote = FALSE, max.levels = NULL, width = getOption(\"width\"), \n",
       "    ...) \n",
       "{\n",
       "    ord <- is.ordered(x)\n",
       "    if (length(x) == 0L) \n",
       "        cat(if (ord) \n",
       "            \"ordered\"\n",
       "        else \"factor\", \"(0)\\n\", sep = \"\")\n",
       "    else {\n",
       "        xx <- character(length(x))\n",
       "        xx[] <- as.character(x)\n",
       "        keepAttrs <- setdiff(names(attributes(x)), c(\"levels\", \n",
       "            \"class\"))\n",
       "        attributes(xx)[keepAttrs] <- attributes(x)[keepAttrs]\n",
       "        print(xx, quote = quote, ...)\n",
       "    }\n",
       "    maxl <- if (is.null(max.levels)) \n",
       "        TRUE\n",
       "    else max.levels\n",
       "    if (maxl) {\n",
       "        n <- length(lev <- encodeString(levels(x), quote = ifelse(quote, \n",
       "            \"\\\"\", \"\")))\n",
       "        colsep <- if (ord) \n",
       "            \" < \"\n",
       "        else \" \"\n",
       "        T0 <- \"Levels: \"\n",
       "        if (is.logical(maxl)) \n",
       "            maxl <- {\n",
       "                width <- width - (nchar(T0, \"w\") + 3L + 1L + \n",
       "                  3L)\n",
       "                lenl <- cumsum(nchar(lev, \"w\") + nchar(colsep, \n",
       "                  \"w\"))\n",
       "                if (n <= 1L || lenl[n] <= width) \n",
       "                  n\n",
       "                else max(1L, which.max(lenl > width) - 1L)\n",
       "            }\n",
       "        drop <- n > maxl\n",
       "        cat(if (drop) \n",
       "            paste(format(n), \"\"), T0, paste(if (drop) \n",
       "            c(lev[1L:max(1, maxl - 1)], \"...\", if (maxl > 1) lev[n])\n",
       "        else lev, collapse = colsep), \"\\n\", sep = \"\")\n",
       "    }\n",
       "    if (!isTRUE(val <- .valid.factor(x))) \n",
       "        warning(val)\n",
       "    invisible(x)\n",
       "}\n",
       "```"
      ],
      "text/plain": [
       "function (x, quote = FALSE, max.levels = NULL, width = getOption(\"width\"), \n",
       "    ...) \n",
       "{\n",
       "    ord <- is.ordered(x)\n",
       "    if (length(x) == 0L) \n",
       "        cat(if (ord) \n",
       "            \"ordered\"\n",
       "        else \"factor\", \"(0)\\n\", sep = \"\")\n",
       "    else {\n",
       "        xx <- character(length(x))\n",
       "        xx[] <- as.character(x)\n",
       "        keepAttrs <- setdiff(names(attributes(x)), c(\"levels\", \n",
       "            \"class\"))\n",
       "        attributes(xx)[keepAttrs] <- attributes(x)[keepAttrs]\n",
       "        print(xx, quote = quote, ...)\n",
       "    }\n",
       "    maxl <- if (is.null(max.levels)) \n",
       "        TRUE\n",
       "    else max.levels\n",
       "    if (maxl) {\n",
       "        n <- length(lev <- encodeString(levels(x), quote = ifelse(quote, \n",
       "            \"\\\"\", \"\")))\n",
       "        colsep <- if (ord) \n",
       "            \" < \"\n",
       "        else \" \"\n",
       "        T0 <- \"Levels: \"\n",
       "        if (is.logical(maxl)) \n",
       "            maxl <- {\n",
       "                width <- width - (nchar(T0, \"w\") + 3L + 1L + \n",
       "                  3L)\n",
       "                lenl <- cumsum(nchar(lev, \"w\") + nchar(colsep, \n",
       "                  \"w\"))\n",
       "                if (n <= 1L || lenl[n] <= width) \n",
       "                  n\n",
       "                else max(1L, which.max(lenl > width) - 1L)\n",
       "            }\n",
       "        drop <- n > maxl\n",
       "        cat(if (drop) \n",
       "            paste(format(n), \"\"), T0, paste(if (drop) \n",
       "            c(lev[1L:max(1, maxl - 1)], \"...\", if (maxl > 1) lev[n])\n",
       "        else lev, collapse = colsep), \"\\n\", sep = \"\")\n",
       "    }\n",
       "    if (!isTRUE(val <- .valid.factor(x))) \n",
       "        warning(val)\n",
       "    invisible(x)\n",
       "}\n",
       "<bytecode: 0x462a3d0>\n",
       "<environment: namespace:base>"
      ]
     },
     "metadata": {},
     "output_type": "display_data"
    }
   ],
   "source": [
    "print.factor"
   ]
  },
  {
   "cell_type": "code",
   "execution_count": 34,
   "metadata": {},
   "outputs": [
    {
     "data": {
      "text/plain": [
       "  [1] print.acf*                                          \n",
       "  [2] print.AES*                                          \n",
       "  [3] print.anova*                                        \n",
       "  [4] print.aov*                                          \n",
       "  [5] print.aovlist*                                      \n",
       "  [6] print.ar*                                           \n",
       "  [7] print.Arima*                                        \n",
       "  [8] print.arima0*                                       \n",
       "  [9] print.AsIs                                          \n",
       " [10] print.aspell*                                       \n",
       " [11] print.aspell_inspect_context*                       \n",
       " [12] print.bibentry*                                     \n",
       " [13] print.Bibtex*                                       \n",
       " [14] print.browseVignettes*                              \n",
       " [15] print.by                                            \n",
       " [16] print.bytes*                                        \n",
       " [17] print.changedFiles*                                 \n",
       " [18] print.check_code_usage_in_package*                  \n",
       " [19] print.check_compiled_code*                          \n",
       " [20] print.check_demo_index*                             \n",
       " [21] print.check_depdef*                                 \n",
       " [22] print.check_details*                                \n",
       " [23] print.check_details_changes*                        \n",
       " [24] print.checkDocFiles*                                \n",
       " [25] print.checkDocStyle*                                \n",
       " [26] print.check_doi_db*                                 \n",
       " [27] print.check_dotInternal*                            \n",
       " [28] print.checkFF*                                      \n",
       " [29] print.check_make_vars*                              \n",
       " [30] print.check_nonAPI_calls*                           \n",
       " [31] print.check_package_code_assign_to_globalenv*       \n",
       " [32] print.check_package_code_attach*                    \n",
       " [33] print.check_package_code_data_into_globalenv*       \n",
       " [34] print.check_package_code_startup_functions*         \n",
       " [35] print.check_package_code_syntax*                    \n",
       " [36] print.check_package_code_unload_functions*          \n",
       " [37] print.check_package_compact_datasets*               \n",
       " [38] print.check_package_CRAN_incoming*                  \n",
       " [39] print.check_package_datasets*                       \n",
       " [40] print.check_package_depends*                        \n",
       " [41] print.check_package_description*                    \n",
       " [42] print.check_package_description_encoding*           \n",
       " [43] print.check_package_license*                        \n",
       " [44] print.check_packages_in_dir*                        \n",
       " [45] print.check_packages_used*                          \n",
       " [46] print.check_po_files*                               \n",
       " [47] print.check_pragmas*                                \n",
       " [48] print.checkRd*                                      \n",
       " [49] print.check_Rd_contents*                            \n",
       " [50] print.check_Rd_line_widths*                         \n",
       " [51] print.check_Rd_metadata*                            \n",
       " [52] print.check_Rd_xrefs*                               \n",
       " [53] print.check_RegSym_calls*                           \n",
       " [54] print.checkReplaceFuns*                             \n",
       " [55] print.checkS3methods*                               \n",
       " [56] print.check_S3_methods_needing_delayed_registration*\n",
       " [57] print.check_so_symbols*                             \n",
       " [58] print.check_T_and_F*                                \n",
       " [59] print.checkTnF*                                     \n",
       " [60] print.check_url_db*                                 \n",
       " [61] print.check_vignette_index*                         \n",
       " [62] print.checkVignettes*                               \n",
       " [63] print.citation*                                     \n",
       " [64] print.codoc*                                        \n",
       " [65] print.codocClasses*                                 \n",
       " [66] print.codocData*                                    \n",
       " [67] print.colorConverter*                               \n",
       " [68] print.compactPDF*                                   \n",
       " [69] print.condition                                     \n",
       " [70] print.connection                                    \n",
       " [71] print.CRAN_package_reverse_dependencies_and_views*  \n",
       " [72] print.crayon*                                       \n",
       " [73] print.data.frame                                    \n",
       " [74] print.Date                                          \n",
       " [75] print.default                                       \n",
       " [76] print.dendrogram*                                   \n",
       " [77] print.density*                                      \n",
       " [78] print.difftime                                      \n",
       " [79] print.dist*                                         \n",
       " [80] print.Dlist                                         \n",
       " [81] print.DLLInfo                                       \n",
       " [82] print.DLLInfoList                                   \n",
       " [83] print.DLLRegisteredRoutines                         \n",
       " [84] print.dummy_coef*                                   \n",
       " [85] print.dummy_coef_list*                              \n",
       " [86] print.ecdf*                                         \n",
       " [87] print.eigen                                         \n",
       " [88] print.factanal*                                     \n",
       " [89] print.factor                                        \n",
       " [90] print.family*                                       \n",
       " [91] print.fileSnapshot*                                 \n",
       " [92] print.findLineNumResult*                            \n",
       " [93] print.formula*                                      \n",
       " [94] print.frame*                                        \n",
       " [95] print.ftable*                                       \n",
       " [96] print.function                                      \n",
       " [97] print.getAnywhere*                                  \n",
       " [98] print.glm*                                          \n",
       " [99] print.hclust*                                       \n",
       "[100] print.help_files_with_topic*                        \n",
       "[101] print.hexmode                                       \n",
       "[102] print.HoltWinters*                                  \n",
       "[103] print.hsearch*                                      \n",
       "[104] print.hsearch_db*                                   \n",
       "[105] print.htest*                                        \n",
       "[106] print.html*                                         \n",
       "[107] print.html_dependency*                              \n",
       "[108] print.infl*                                         \n",
       "[109] print.integrate*                                    \n",
       "[110] print.isoreg*                                       \n",
       "[111] print.json*                                         \n",
       "[112] print.kmeans*                                       \n",
       "[113] print.Latex*                                        \n",
       "[114] print.LaTeX*                                        \n",
       "[115] print.libraryIQR                                    \n",
       "[116] print.listof                                        \n",
       "[117] print.lm*                                           \n",
       "[118] print.loadings*                                     \n",
       "[119] print.loess*                                        \n",
       "[120] print.logLik*                                       \n",
       "[121] print.ls_str*                                       \n",
       "[122] print.medpolish*                                    \n",
       "[123] print.MethodsFunction*                              \n",
       "[124] print.mtable*                                       \n",
       "[125] print.NativeRoutineList                             \n",
       "[126] print.news_db*                                      \n",
       "[127] print.nls*                                          \n",
       "[128] print.noquote                                       \n",
       "[129] print.numeric_version                               \n",
       "[130] print.object_size*                                  \n",
       "[131] print.octmode                                       \n",
       "[132] print.packageDescription*                           \n",
       "[133] print.packageInfo                                   \n",
       "[134] print.packageIQR*                                   \n",
       "[135] print.packageStatus*                                \n",
       "[136] print.pairwise.htest*                               \n",
       "[137] print.person*                                       \n",
       "[138] print.pillar*                                       \n",
       "[139] print.pillar_colonnade*                             \n",
       "[140] print.pillar_ornament*                              \n",
       "[141] print.pillar_shaft*                                 \n",
       "[142] print.pillar_squeezed_colonnade*                    \n",
       "[143] print.pillar_vertical*                              \n",
       "[144] print.POSIXct                                       \n",
       "[145] print.POSIXlt                                       \n",
       "[146] print.power.htest*                                  \n",
       "[147] print.ppr*                                          \n",
       "[148] print.prcomp*                                       \n",
       "[149] print.princomp*                                     \n",
       "[150] print.proc_time                                     \n",
       "[151] print.quosure*                                      \n",
       "[152] print.quosures*                                     \n",
       "[153] print.raster*                                       \n",
       "[154] print.Rcpp_stack_trace*                             \n",
       "[155] print.Rd*                                           \n",
       "[156] print.recordedplot*                                 \n",
       "[157] print.restart                                       \n",
       "[158] print.RGBcolorConverter*                            \n",
       "[159] print.rlang_box_done*                               \n",
       "[160] print.rlang_box_splice*                             \n",
       "[161] print.rlang_data_pronoun*                           \n",
       "[162] print.rlang_envs*                                   \n",
       "[163] print.rlang_error*                                  \n",
       "[164] print.rlang_fake_data_pronoun*                      \n",
       "[165] print.rlang_lambda_function*                        \n",
       "[166] print.rlang_trace*                                  \n",
       "[167] print.rlang_zap*                                    \n",
       "[168] print.rle                                           \n",
       "[169] print.roman*                                        \n",
       "[170] print.scalar*                                       \n",
       "[171] print.sessionInfo*                                  \n",
       "[172] print.shiny.tag*                                    \n",
       "[173] print.shiny.tag.list*                               \n",
       "[174] print.simple.list                                   \n",
       "[175] print.smooth.spline*                                \n",
       "[176] print.socket*                                       \n",
       "[177] print.srcfile                                       \n",
       "[178] print.srcref                                        \n",
       "[179] print.stepfun*                                      \n",
       "[180] print.stl*                                          \n",
       "[181] print.StructTS*                                     \n",
       "[182] print.subdir_tests*                                 \n",
       "[183] print.summarize_CRAN_check_status*                  \n",
       "[184] print.summary.aov*                                  \n",
       "[185] print.summary.aovlist*                              \n",
       "[186] print.summaryDefault                                \n",
       "[187] print.summary.ecdf*                                 \n",
       "[188] print.summary.glm*                                  \n",
       "[189] print.summary.lm*                                   \n",
       "[190] print.summary.loess*                                \n",
       "[191] print.summary.manova*                               \n",
       "[192] print.summary.nls*                                  \n",
       "[193] print.summary.packageStatus*                        \n",
       "[194] print.summary.ppr*                                  \n",
       "[195] print.summary.prcomp*                               \n",
       "[196] print.summary.princomp*                             \n",
       "[197] print.summary.table                                 \n",
       "[198] print.summary.warnings                              \n",
       "[199] print.table                                         \n",
       "[200] print.tables_aov*                                   \n",
       "[201] print.tbl*                                          \n",
       "[202] print.terms*                                        \n",
       "[203] print.trunc_mat*                                    \n",
       "[204] print.ts*                                           \n",
       "[205] print.tskernel*                                     \n",
       "[206] print.TukeyHSD*                                     \n",
       "[207] print.tukeyline*                                    \n",
       "[208] print.tukeysmooth*                                  \n",
       "[209] print.undoc*                                        \n",
       "[210] print.vctrs_sclr*                                   \n",
       "[211] print.vctrs_unspecified*                            \n",
       "[212] print.vctrs_vctr*                                   \n",
       "[213] print.vignette                                      \n",
       "[214] print.warnings                                      \n",
       "[215] print.xgettext*                                     \n",
       "[216] print.xngettext*                                    \n",
       "[217] print.xtabs*                                        \n",
       "see '?methods' for accessing help and source code"
      ]
     },
     "metadata": {},
     "output_type": "display_data"
    }
   ],
   "source": [
    "methods(print)"
   ]
  },
  {
   "cell_type": "code",
   "execution_count": 35,
   "metadata": {},
   "outputs": [],
   "source": [
    "print.slots <- function(x, ...){\n",
    "    slot_display(x)\n",
    "}"
   ]
  },
  {
   "cell_type": "code",
   "execution_count": 36,
   "metadata": {},
   "outputs": [
    {
     "name": "stdout",
     "output_type": "stream",
     "text": [
      "[1] 0\n",
      "attr(,\"symbols\")\n",
      "[1] \"0\"  \"DD\" \"0\" \n"
     ]
    }
   ],
   "source": [
    "print(three_play)"
   ]
  },
  {
   "cell_type": "code",
   "execution_count": 37,
   "metadata": {},
   "outputs": [],
   "source": [
    "four_play <- playWithStructure()"
   ]
  },
  {
   "cell_type": "code",
   "execution_count": 38,
   "metadata": {},
   "outputs": [
    {
     "name": "stdout",
     "output_type": "stream",
     "text": [
      "0 BB B\n",
      "$0"
     ]
    }
   ],
   "source": [
    "print(four_play)"
   ]
  },
  {
   "cell_type": "code",
   "execution_count": null,
   "metadata": {},
   "outputs": [],
   "source": []
  },
  {
   "cell_type": "code",
   "execution_count": null,
   "metadata": {},
   "outputs": [],
   "source": []
  },
  {
   "cell_type": "code",
   "execution_count": null,
   "metadata": {},
   "outputs": [],
   "source": []
  },
  {
   "cell_type": "code",
   "execution_count": null,
   "metadata": {},
   "outputs": [],
   "source": []
  },
  {
   "cell_type": "code",
   "execution_count": null,
   "metadata": {},
   "outputs": [],
   "source": []
  }
 ],
 "metadata": {
  "kernelspec": {
   "display_name": "R",
   "language": "R",
   "name": "ir"
  },
  "language_info": {
   "codemirror_mode": "r",
   "file_extension": ".r",
   "mimetype": "text/x-r-source",
   "name": "R",
   "pygments_lexer": "r",
   "version": "3.6.1"
  }
 },
 "nbformat": 4,
 "nbformat_minor": 2
}
