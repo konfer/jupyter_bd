{
 "cells": [
  {
   "cell_type": "markdown",
   "metadata": {},
   "source": [
    "### vector"
   ]
  },
  {
   "cell_type": "code",
   "execution_count": 1,
   "metadata": {},
   "outputs": [],
   "source": [
    "abs_set <- function(vec){\n",
    "    negs <- vec <0\n",
    "    print(\"negs: \"+str(negs))\n",
    "    vec[negs] <- vec[negs]*-1\n",
    "    vec\n",
    "}"
   ]
  },
  {
   "cell_type": "code",
   "execution_count": 2,
   "metadata": {},
   "outputs": [],
   "source": [
    "rep <- c(1,2,3,4,2,1,4,6,-3)"
   ]
  },
  {
   "cell_type": "code",
   "execution_count": 3,
   "metadata": {},
   "outputs": [
    {
     "name": "stdout",
     "output_type": "stream",
     "text": [
      "[1] FALSE FALSE FALSE FALSE FALSE FALSE FALSE FALSE  TRUE\n"
     ]
    }
   ],
   "source": [
    "print(rep<0)"
   ]
  },
  {
   "cell_type": "code",
   "execution_count": 4,
   "metadata": {},
   "outputs": [
    {
     "name": "stdout",
     "output_type": "stream",
     "text": [
      "[1] -3\n"
     ]
    }
   ],
   "source": [
    "print(rep[rep<0])"
   ]
  },
  {
   "cell_type": "code",
   "execution_count": 9,
   "metadata": {},
   "outputs": [],
   "source": [
    "get_many_symbols <- function(n=5){\n",
    "    wheel <- c(\"DD\",\"7\",\"BBB\",\"BB\",\"B\",\"C\",\"0\")\n",
    "    vec <- sample(wheel,size=3*n,replace=TRUE,\n",
    "                  prob=c(0.03,0.03,0.06,0.1,0.25,0.01,0.52))\n",
    "    matrix(vec,ncol=3)\n",
    "}"
   ]
  },
  {
   "cell_type": "code",
   "execution_count": 10,
   "metadata": {},
   "outputs": [
    {
     "data": {
      "text/html": [
       "<table>\n",
       "<tbody>\n",
       "\t<tr><td>BB </td><td>B  </td><td>0  </td></tr>\n",
       "\t<tr><td>0  </td><td>0  </td><td>B  </td></tr>\n",
       "\t<tr><td>B  </td><td>BBB</td><td>B  </td></tr>\n",
       "\t<tr><td>0  </td><td>B  </td><td>BB </td></tr>\n",
       "\t<tr><td>B  </td><td>0  </td><td>B  </td></tr>\n",
       "</tbody>\n",
       "</table>\n"
      ],
      "text/latex": [
       "\\begin{tabular}{lll}\n",
       "\t BB  & B   & 0  \\\\\n",
       "\t 0   & 0   & B  \\\\\n",
       "\t B   & BBB & B  \\\\\n",
       "\t 0   & B   & BB \\\\\n",
       "\t B   & 0   & B  \\\\\n",
       "\\end{tabular}\n"
      ],
      "text/markdown": [
       "\n",
       "| BB  | B   | 0   | \n",
       "| 0   | 0   | B   | \n",
       "| B   | BBB | B   | \n",
       "| 0   | B   | BB  | \n",
       "| B   | 0   | B   | \n",
       "\n",
       "\n"
      ],
      "text/plain": [
       "     [,1] [,2] [,3]\n",
       "[1,] BB   B    0   \n",
       "[2,] 0    0    B   \n",
       "[3,] B    BBB  B   \n",
       "[4,] 0    B    BB  \n",
       "[5,] B    0    B   "
      ]
     },
     "metadata": {},
     "output_type": "display_data"
    }
   ],
   "source": [
    "get_many_symbols()"
   ]
  },
  {
   "cell_type": "code",
   "execution_count": null,
   "metadata": {},
   "outputs": [],
   "source": [
    "play_many <- function(n=100){\n",
    "    symb_mat <- get_many_symbols(n=n)\n",
    "    data.frame\n",
    "}"
   ]
  },
  {
   "cell_type": "code",
   "execution_count": null,
   "metadata": {},
   "outputs": [],
   "source": []
  },
  {
   "cell_type": "code",
   "execution_count": null,
   "metadata": {},
   "outputs": [],
   "source": []
  },
  {
   "cell_type": "code",
   "execution_count": null,
   "metadata": {},
   "outputs": [],
   "source": []
  },
  {
   "cell_type": "code",
   "execution_count": null,
   "metadata": {},
   "outputs": [],
   "source": []
  },
  {
   "cell_type": "code",
   "execution_count": null,
   "metadata": {},
   "outputs": [],
   "source": []
  },
  {
   "cell_type": "code",
   "execution_count": null,
   "metadata": {},
   "outputs": [],
   "source": []
  }
 ],
 "metadata": {
  "kernelspec": {
   "display_name": "R",
   "language": "R",
   "name": "ir"
  },
  "language_info": {
   "codemirror_mode": "r",
   "file_extension": ".r",
   "mimetype": "text/x-r-source",
   "name": "R",
   "pygments_lexer": "r",
   "version": "3.2.3"
  }
 },
 "nbformat": 4,
 "nbformat_minor": 2
}
