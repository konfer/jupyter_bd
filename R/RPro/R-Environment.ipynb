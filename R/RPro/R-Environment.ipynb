{
 "cells": [
  {
   "cell_type": "code",
   "execution_count": 1,
   "metadata": {},
   "outputs": [],
   "source": [
    "deck <- read.csv(file=\"/usr/local/konfer/jupyterPro/RPro/deck.csv\",header=T,sep=\",\")"
   ]
  },
  {
   "cell_type": "code",
   "execution_count": 2,
   "metadata": {},
   "outputs": [],
   "source": [
    "library(devtools)"
   ]
  },
  {
   "cell_type": "code",
   "execution_count": 3,
   "metadata": {},
   "outputs": [
    {
     "ename": "ERROR",
     "evalue": "Error in eval(expr, envir, enclos): could not find function \"parenvs\"\n",
     "output_type": "error",
     "traceback": [
      "Error in eval(expr, envir, enclos): could not find function \"parenvs\"\nTraceback:\n"
     ]
    }
   ],
   "source": [
    "parenvs(all = TRUE)"
   ]
  },
  {
   "cell_type": "code",
   "execution_count": 4,
   "metadata": {},
   "outputs": [
    {
     "data": {
      "text/plain": [
       "<environment: package:stats>\n",
       "attr(,\"name\")\n",
       "[1] \"package:stats\"\n",
       "attr(,\"path\")\n",
       "[1] \"/usr/lib/R/library/stats\""
      ]
     },
     "metadata": {},
     "output_type": "display_data"
    }
   ],
   "source": [
    "as.environment(\"package:stats\")"
   ]
  },
  {
   "cell_type": "code",
   "execution_count": 5,
   "metadata": {},
   "outputs": [
    {
     "data": {
      "text/plain": [
       "<environment: R_GlobalEnv>"
      ]
     },
     "metadata": {},
     "output_type": "display_data"
    }
   ],
   "source": [
    "globalenv()"
   ]
  },
  {
   "cell_type": "code",
   "execution_count": 6,
   "metadata": {},
   "outputs": [
    {
     "data": {
      "text/plain": [
       "<environment: base>"
      ]
     },
     "metadata": {},
     "output_type": "display_data"
    }
   ],
   "source": [
    "baseenv()"
   ]
  },
  {
   "cell_type": "code",
   "execution_count": 7,
   "metadata": {},
   "outputs": [
    {
     "data": {
      "text/plain": [
       "<environment: R_EmptyEnv>"
      ]
     },
     "metadata": {},
     "output_type": "display_data"
    }
   ],
   "source": [
    "emptyenv()"
   ]
  },
  {
   "cell_type": "code",
   "execution_count": 8,
   "metadata": {},
   "outputs": [
    {
     "ename": "ERROR",
     "evalue": "Error in parent.env(emptyenv()): the empty environment has no parent\n",
     "output_type": "error",
     "traceback": [
      "Error in parent.env(emptyenv()): the empty environment has no parent\nTraceback:\n",
      "1. parent.env(emptyenv())"
     ]
    }
   ],
   "source": [
    "parent.env(emptyenv())"
   ]
  },
  {
   "cell_type": "code",
   "execution_count": 9,
   "metadata": {},
   "outputs": [
    {
     "data": {
      "text/html": [],
      "text/latex": [],
      "text/markdown": [],
      "text/plain": [
       "character(0)"
      ]
     },
     "metadata": {},
     "output_type": "display_data"
    }
   ],
   "source": [
    "ls(emptyenv())"
   ]
  },
  {
   "cell_type": "code",
   "execution_count": 10,
   "metadata": {},
   "outputs": [
    {
     "data": {},
     "metadata": {},
     "output_type": "display_data"
    }
   ],
   "source": [
    "ls.str(emptyenv())"
   ]
  },
  {
   "cell_type": "code",
   "execution_count": 11,
   "metadata": {},
   "outputs": [
    {
     "data": {
      "text/html": [
       "'deck'"
      ],
      "text/latex": [
       "'deck'"
      ],
      "text/markdown": [
       "'deck'"
      ],
      "text/plain": [
       "[1] \"deck\""
      ]
     },
     "metadata": {},
     "output_type": "display_data"
    }
   ],
   "source": [
    "ls(globalenv())"
   ]
  },
  {
   "cell_type": "code",
   "execution_count": 12,
   "metadata": {},
   "outputs": [
    {
     "data": {
      "text/html": [
       "<table>\n",
       "<thead><tr><th scope=col>face</th><th scope=col>suit</th><th scope=col>value</th></tr></thead>\n",
       "<tbody>\n",
       "\t<tr><td>king  </td><td>spades</td><td>13    </td></tr>\n",
       "\t<tr><td>queen </td><td>spades</td><td>12    </td></tr>\n",
       "\t<tr><td>jack  </td><td>spades</td><td>11    </td></tr>\n",
       "</tbody>\n",
       "</table>\n"
      ],
      "text/latex": [
       "\\begin{tabular}{r|lll}\n",
       " face & suit & value\\\\\n",
       "\\hline\n",
       "\t king   & spades & 13    \\\\\n",
       "\t queen  & spades & 12    \\\\\n",
       "\t jack   & spades & 11    \\\\\n",
       "\\end{tabular}\n"
      ],
      "text/markdown": [
       "\n",
       "face | suit | value | \n",
       "|---|---|---|\n",
       "| king   | spades | 13     | \n",
       "| queen  | spades | 12     | \n",
       "| jack   | spades | 11     | \n",
       "\n",
       "\n"
      ],
      "text/plain": [
       "  face  suit   value\n",
       "1 king  spades 13   \n",
       "2 queen spades 12   \n",
       "3 jack  spades 11   "
      ]
     },
     "metadata": {},
     "output_type": "display_data"
    }
   ],
   "source": [
    "head(globalenv()$deck,3)"
   ]
  },
  {
   "cell_type": "code",
   "execution_count": 13,
   "metadata": {},
   "outputs": [],
   "source": [
    "assign(\"new\",\"Hello Global\", envir=globalenv())"
   ]
  },
  {
   "cell_type": "code",
   "execution_count": 14,
   "metadata": {},
   "outputs": [
    {
     "data": {
      "text/html": [
       "'Hello Global'"
      ],
      "text/latex": [
       "'Hello Global'"
      ],
      "text/markdown": [
       "'Hello Global'"
      ],
      "text/plain": [
       "[1] \"Hello Global\""
      ]
     },
     "metadata": {},
     "output_type": "display_data"
    }
   ],
   "source": [
    "globalenv()$new"
   ]
  },
  {
   "cell_type": "code",
   "execution_count": 15,
   "metadata": {},
   "outputs": [
    {
     "data": {
      "text/plain": [
       "<environment: R_GlobalEnv>"
      ]
     },
     "metadata": {},
     "output_type": "display_data"
    }
   ],
   "source": [
    "environment()"
   ]
  },
  {
   "cell_type": "code",
   "execution_count": 16,
   "metadata": {},
   "outputs": [
    {
     "data": {
      "text/html": [
       "'Hello Global'"
      ],
      "text/latex": [
       "'Hello Global'"
      ],
      "text/markdown": [
       "'Hello Global'"
      ],
      "text/plain": [
       "[1] \"Hello Global\""
      ]
     },
     "metadata": {},
     "output_type": "display_data"
    }
   ],
   "source": [
    "new"
   ]
  },
  {
   "cell_type": "code",
   "execution_count": 17,
   "metadata": {},
   "outputs": [],
   "source": [
    "foo <- \"show me your runtime\""
   ]
  },
  {
   "cell_type": "code",
   "execution_count": 18,
   "metadata": {},
   "outputs": [],
   "source": [
    "show_env <- function(x=foo){\n",
    "    list(ran.in=environment(),\n",
    "         parent=parent.env(environment()),\n",
    "         objects=ls.str(environment()))\n",
    "}"
   ]
  },
  {
   "cell_type": "code",
   "execution_count": 19,
   "metadata": {},
   "outputs": [
    {
     "data": {
      "text/plain": [
       "$ran.in\n",
       "<environment: 0x420e1e0>\n",
       "\n",
       "$parent\n",
       "<environment: R_GlobalEnv>\n",
       "\n",
       "$objects\n",
       "x :  chr \"show me your runtime\"\n"
      ]
     },
     "metadata": {},
     "output_type": "display_data"
    }
   ],
   "source": [
    "show_env()"
   ]
  },
  {
   "cell_type": "code",
   "execution_count": 20,
   "metadata": {},
   "outputs": [],
   "source": [
    "deal <- function(){\n",
    "    deck[1,]\n",
    "}"
   ]
  },
  {
   "cell_type": "code",
   "execution_count": 21,
   "metadata": {},
   "outputs": [
    {
     "data": {
      "text/html": [
       "<table>\n",
       "<thead><tr><th scope=col>face</th><th scope=col>suit</th><th scope=col>value</th></tr></thead>\n",
       "<tbody>\n",
       "\t<tr><td>king  </td><td>spades</td><td>13    </td></tr>\n",
       "</tbody>\n",
       "</table>\n"
      ],
      "text/latex": [
       "\\begin{tabular}{r|lll}\n",
       " face & suit & value\\\\\n",
       "\\hline\n",
       "\t king   & spades & 13    \\\\\n",
       "\\end{tabular}\n"
      ],
      "text/markdown": [
       "\n",
       "face | suit | value | \n",
       "|---|\n",
       "| king   | spades | 13     | \n",
       "\n",
       "\n"
      ],
      "text/plain": [
       "  face suit   value\n",
       "1 king spades 13   "
      ]
     },
     "metadata": {},
     "output_type": "display_data"
    }
   ],
   "source": [
    "deal()"
   ]
  },
  {
   "cell_type": "code",
   "execution_count": 22,
   "metadata": {},
   "outputs": [
    {
     "data": {
      "text/plain": [
       "<environment: R_GlobalEnv>"
      ]
     },
     "metadata": {},
     "output_type": "display_data"
    }
   ],
   "source": [
    "environment(deal)"
   ]
  },
  {
   "cell_type": "code",
   "execution_count": 23,
   "metadata": {},
   "outputs": [],
   "source": [
    "DECK <- deck"
   ]
  },
  {
   "cell_type": "code",
   "execution_count": 25,
   "metadata": {},
   "outputs": [],
   "source": [
    "deck <- deck[-1,]"
   ]
  },
  {
   "cell_type": "code",
   "execution_count": 27,
   "metadata": {},
   "outputs": [
    {
     "data": {
      "text/html": [
       "<table>\n",
       "<thead><tr><th></th><th scope=col>face</th><th scope=col>suit</th><th scope=col>value</th></tr></thead>\n",
       "<tbody>\n",
       "\t<tr><th scope=row>2</th><td>queen </td><td>spades</td><td>12    </td></tr>\n",
       "\t<tr><th scope=row>3</th><td>jack  </td><td>spades</td><td>11    </td></tr>\n",
       "\t<tr><th scope=row>4</th><td>ten   </td><td>spades</td><td>10    </td></tr>\n",
       "</tbody>\n",
       "</table>\n"
      ],
      "text/latex": [
       "\\begin{tabular}{r|lll}\n",
       "  & face & suit & value\\\\\n",
       "\\hline\n",
       "\t2 & queen  & spades & 12    \\\\\n",
       "\t3 & jack   & spades & 11    \\\\\n",
       "\t4 & ten    & spades & 10    \\\\\n",
       "\\end{tabular}\n"
      ],
      "text/markdown": [
       "\n",
       "| <!--/--> | face | suit | value | \n",
       "|---|---|---|\n",
       "| 2 | queen  | spades | 12     | \n",
       "| 3 | jack   | spades | 11     | \n",
       "| 4 | ten    | spades | 10     | \n",
       "\n",
       "\n"
      ],
      "text/plain": [
       "  face  suit   value\n",
       "2 queen spades 12   \n",
       "3 jack  spades 11   \n",
       "4 ten   spades 10   "
      ]
     },
     "metadata": {},
     "output_type": "display_data"
    }
   ],
   "source": [
    "head(deck,3)"
   ]
  },
  {
   "cell_type": "code",
   "execution_count": 38,
   "metadata": {},
   "outputs": [],
   "source": [
    "deck <- read.csv(file=\"/usr/local/konfer/jupyterPro/RPro/deck.csv\",header=T,sep=\",\")"
   ]
  },
  {
   "cell_type": "code",
   "execution_count": 39,
   "metadata": {},
   "outputs": [],
   "source": [
    "deal <- function(){\n",
    "    card <- deck[1,]\n",
    "    deck <- deck[1,]\n",
    "    card\n",
    "}"
   ]
  },
  {
   "cell_type": "code",
   "execution_count": 40,
   "metadata": {},
   "outputs": [
    {
     "data": {
      "text/html": [
       "<table>\n",
       "<thead><tr><th scope=col>face</th><th scope=col>suit</th><th scope=col>value</th></tr></thead>\n",
       "<tbody>\n",
       "\t<tr><td>king  </td><td>spades</td><td>13    </td></tr>\n",
       "</tbody>\n",
       "</table>\n"
      ],
      "text/latex": [
       "\\begin{tabular}{r|lll}\n",
       " face & suit & value\\\\\n",
       "\\hline\n",
       "\t king   & spades & 13    \\\\\n",
       "\\end{tabular}\n"
      ],
      "text/markdown": [
       "\n",
       "face | suit | value | \n",
       "|---|\n",
       "| king   | spades | 13     | \n",
       "\n",
       "\n"
      ],
      "text/plain": [
       "  face suit   value\n",
       "1 king spades 13   "
      ]
     },
     "metadata": {},
     "output_type": "display_data"
    }
   ],
   "source": [
    "deal()"
   ]
  },
  {
   "cell_type": "code",
   "execution_count": 41,
   "metadata": {},
   "outputs": [],
   "source": [
    "dealAssign <- function(){\n",
    "    card <- deck[1,]\n",
    "    assign(\"deck\",deck[-1,],envir=globalenv())\n",
    "    card\n",
    "}"
   ]
  },
  {
   "cell_type": "code",
   "execution_count": 42,
   "metadata": {},
   "outputs": [
    {
     "data": {
      "text/html": [
       "<table>\n",
       "<thead><tr><th scope=col>face</th><th scope=col>suit</th><th scope=col>value</th></tr></thead>\n",
       "<tbody>\n",
       "\t<tr><td>king  </td><td>spades</td><td>13    </td></tr>\n",
       "</tbody>\n",
       "</table>\n"
      ],
      "text/latex": [
       "\\begin{tabular}{r|lll}\n",
       " face & suit & value\\\\\n",
       "\\hline\n",
       "\t king   & spades & 13    \\\\\n",
       "\\end{tabular}\n"
      ],
      "text/markdown": [
       "\n",
       "face | suit | value | \n",
       "|---|\n",
       "| king   | spades | 13     | \n",
       "\n",
       "\n"
      ],
      "text/plain": [
       "  face suit   value\n",
       "1 king spades 13   "
      ]
     },
     "metadata": {},
     "output_type": "display_data"
    }
   ],
   "source": [
    "deal()"
   ]
  },
  {
   "cell_type": "code",
   "execution_count": 43,
   "metadata": {},
   "outputs": [
    {
     "data": {
      "text/html": [
       "<table>\n",
       "<thead><tr><th scope=col>face</th><th scope=col>suit</th><th scope=col>value</th></tr></thead>\n",
       "<tbody>\n",
       "\t<tr><td>king  </td><td>spades</td><td>13    </td></tr>\n",
       "</tbody>\n",
       "</table>\n"
      ],
      "text/latex": [
       "\\begin{tabular}{r|lll}\n",
       " face & suit & value\\\\\n",
       "\\hline\n",
       "\t king   & spades & 13    \\\\\n",
       "\\end{tabular}\n"
      ],
      "text/markdown": [
       "\n",
       "face | suit | value | \n",
       "|---|\n",
       "| king   | spades | 13     | \n",
       "\n",
       "\n"
      ],
      "text/plain": [
       "  face suit   value\n",
       "1 king spades 13   "
      ]
     },
     "metadata": {},
     "output_type": "display_data"
    }
   ],
   "source": [
    "deal()"
   ]
  },
  {
   "cell_type": "code",
   "execution_count": 44,
   "metadata": {},
   "outputs": [
    {
     "data": {
      "text/html": [
       "<table>\n",
       "<thead><tr><th scope=col>face</th><th scope=col>suit</th><th scope=col>value</th></tr></thead>\n",
       "<tbody>\n",
       "\t<tr><td>king  </td><td>spades</td><td>13    </td></tr>\n",
       "</tbody>\n",
       "</table>\n"
      ],
      "text/latex": [
       "\\begin{tabular}{r|lll}\n",
       " face & suit & value\\\\\n",
       "\\hline\n",
       "\t king   & spades & 13    \\\\\n",
       "\\end{tabular}\n"
      ],
      "text/markdown": [
       "\n",
       "face | suit | value | \n",
       "|---|\n",
       "| king   | spades | 13     | \n",
       "\n",
       "\n"
      ],
      "text/plain": [
       "  face suit   value\n",
       "1 king spades 13   "
      ]
     },
     "metadata": {},
     "output_type": "display_data"
    }
   ],
   "source": [
    "dealAssign()"
   ]
  },
  {
   "cell_type": "code",
   "execution_count": 45,
   "metadata": {},
   "outputs": [
    {
     "data": {
      "text/html": [
       "<table>\n",
       "<thead><tr><th></th><th scope=col>face</th><th scope=col>suit</th><th scope=col>value</th></tr></thead>\n",
       "<tbody>\n",
       "\t<tr><th scope=row>2</th><td>queen </td><td>spades</td><td>12    </td></tr>\n",
       "</tbody>\n",
       "</table>\n"
      ],
      "text/latex": [
       "\\begin{tabular}{r|lll}\n",
       "  & face & suit & value\\\\\n",
       "\\hline\n",
       "\t2 & queen  & spades & 12    \\\\\n",
       "\\end{tabular}\n"
      ],
      "text/markdown": [
       "\n",
       "| <!--/--> | face | suit | value | \n",
       "|---|\n",
       "| 2 | queen  | spades | 12     | \n",
       "\n",
       "\n"
      ],
      "text/plain": [
       "  face  suit   value\n",
       "2 queen spades 12   "
      ]
     },
     "metadata": {},
     "output_type": "display_data"
    }
   ],
   "source": [
    "dealAssign()"
   ]
  },
  {
   "cell_type": "code",
   "execution_count": 46,
   "metadata": {},
   "outputs": [
    {
     "data": {
      "text/html": [
       "<table>\n",
       "<thead><tr><th></th><th scope=col>face</th><th scope=col>suit</th><th scope=col>value</th></tr></thead>\n",
       "<tbody>\n",
       "\t<tr><th scope=row>3</th><td>jack  </td><td>spades</td><td>11    </td></tr>\n",
       "</tbody>\n",
       "</table>\n"
      ],
      "text/latex": [
       "\\begin{tabular}{r|lll}\n",
       "  & face & suit & value\\\\\n",
       "\\hline\n",
       "\t3 & jack   & spades & 11    \\\\\n",
       "\\end{tabular}\n"
      ],
      "text/markdown": [
       "\n",
       "| <!--/--> | face | suit | value | \n",
       "|---|\n",
       "| 3 | jack   | spades | 11     | \n",
       "\n",
       "\n"
      ],
      "text/plain": [
       "  face suit   value\n",
       "3 jack spades 11   "
      ]
     },
     "metadata": {},
     "output_type": "display_data"
    }
   ],
   "source": [
    "dealAssign()"
   ]
  },
  {
   "cell_type": "code",
   "execution_count": 47,
   "metadata": {},
   "outputs": [
    {
     "data": {
      "text/html": [
       "<table>\n",
       "<thead><tr><th></th><th scope=col>face</th><th scope=col>suit</th><th scope=col>value</th></tr></thead>\n",
       "<tbody>\n",
       "\t<tr><th scope=row>4</th><td>ten   </td><td>spades</td><td>10    </td></tr>\n",
       "</tbody>\n",
       "</table>\n"
      ],
      "text/latex": [
       "\\begin{tabular}{r|lll}\n",
       "  & face & suit & value\\\\\n",
       "\\hline\n",
       "\t4 & ten    & spades & 10    \\\\\n",
       "\\end{tabular}\n"
      ],
      "text/markdown": [
       "\n",
       "| <!--/--> | face | suit | value | \n",
       "|---|\n",
       "| 4 | ten    | spades | 10     | \n",
       "\n",
       "\n"
      ],
      "text/plain": [
       "  face suit   value\n",
       "4 ten  spades 10   "
      ]
     },
     "metadata": {},
     "output_type": "display_data"
    }
   ],
   "source": [
    "dealAssign()"
   ]
  },
  {
   "cell_type": "code",
   "execution_count": 62,
   "metadata": {},
   "outputs": [],
   "source": [
    "shuffleAssign <- function(){\n",
    "    random <- sample(1:52,size=52)\n",
    "    assign(\"deck\",DECK[random, ],envir=globalenv())\n",
    "    head(deck,5)\n",
    "}"
   ]
  },
  {
   "cell_type": "code",
   "execution_count": 63,
   "metadata": {},
   "outputs": [
    {
     "data": {
      "text/html": [
       "<table>\n",
       "<thead><tr><th></th><th scope=col>face</th><th scope=col>suit</th><th scope=col>value</th></tr></thead>\n",
       "<tbody>\n",
       "\t<tr><th scope=row>45</th><td>eight   </td><td>hearts  </td><td> 8      </td></tr>\n",
       "\t<tr><th scope=row>14</th><td>king    </td><td>clubs   </td><td>13      </td></tr>\n",
       "\t<tr><th scope=row>38</th><td>two     </td><td>diamonds</td><td> 2      </td></tr>\n",
       "</tbody>\n",
       "</table>\n"
      ],
      "text/latex": [
       "\\begin{tabular}{r|lll}\n",
       "  & face & suit & value\\\\\n",
       "\\hline\n",
       "\t45 & eight    & hearts   &  8      \\\\\n",
       "\t14 & king     & clubs    & 13      \\\\\n",
       "\t38 & two      & diamonds &  2      \\\\\n",
       "\\end{tabular}\n"
      ],
      "text/markdown": [
       "\n",
       "| <!--/--> | face | suit | value | \n",
       "|---|---|---|\n",
       "| 45 | eight    | hearts   |  8       | \n",
       "| 14 | king     | clubs    | 13       | \n",
       "| 38 | two      | diamonds |  2       | \n",
       "\n",
       "\n"
      ],
      "text/plain": [
       "   face  suit     value\n",
       "45 eight hearts    8   \n",
       "14 king  clubs    13   \n",
       "38 two   diamonds  2   "
      ]
     },
     "metadata": {},
     "output_type": "display_data"
    }
   ],
   "source": [
    "head(deck,3)"
   ]
  },
  {
   "cell_type": "code",
   "execution_count": 64,
   "metadata": {},
   "outputs": [
    {
     "data": {
      "text/html": [
       "<table>\n",
       "<thead><tr><th></th><th scope=col>face</th><th scope=col>suit</th><th scope=col>value</th></tr></thead>\n",
       "<tbody>\n",
       "\t<tr><th scope=row>38</th><td>two     </td><td>diamonds</td><td> 2      </td></tr>\n",
       "\t<tr><th scope=row>47</th><td>six     </td><td>hearts  </td><td> 6      </td></tr>\n",
       "\t<tr><th scope=row>30</th><td>ten     </td><td>diamonds</td><td>10      </td></tr>\n",
       "\t<tr><th scope=row>29</th><td>jack    </td><td>diamonds</td><td>11      </td></tr>\n",
       "\t<tr><th scope=row>21</th><td>six     </td><td>clubs   </td><td> 6      </td></tr>\n",
       "</tbody>\n",
       "</table>\n"
      ],
      "text/latex": [
       "\\begin{tabular}{r|lll}\n",
       "  & face & suit & value\\\\\n",
       "\\hline\n",
       "\t38 & two      & diamonds &  2      \\\\\n",
       "\t47 & six      & hearts   &  6      \\\\\n",
       "\t30 & ten      & diamonds & 10      \\\\\n",
       "\t29 & jack     & diamonds & 11      \\\\\n",
       "\t21 & six      & clubs    &  6      \\\\\n",
       "\\end{tabular}\n"
      ],
      "text/markdown": [
       "\n",
       "| <!--/--> | face | suit | value | \n",
       "|---|---|---|---|---|\n",
       "| 38 | two      | diamonds |  2       | \n",
       "| 47 | six      | hearts   |  6       | \n",
       "| 30 | ten      | diamonds | 10       | \n",
       "| 29 | jack     | diamonds | 11       | \n",
       "| 21 | six      | clubs    |  6       | \n",
       "\n",
       "\n"
      ],
      "text/plain": [
       "   face suit     value\n",
       "38 two  diamonds  2   \n",
       "47 six  hearts    6   \n",
       "30 ten  diamonds 10   \n",
       "29 jack diamonds 11   \n",
       "21 six  clubs     6   "
      ]
     },
     "metadata": {},
     "output_type": "display_data"
    }
   ],
   "source": [
    "shuffleAssign()"
   ]
  },
  {
   "cell_type": "code",
   "execution_count": 65,
   "metadata": {},
   "outputs": [
    {
     "data": {
      "text/html": [
       "<table>\n",
       "<thead><tr><th></th><th scope=col>face</th><th scope=col>suit</th><th scope=col>value</th></tr></thead>\n",
       "<tbody>\n",
       "\t<tr><th scope=row>40</th><td>king    </td><td>hearts  </td><td>13      </td></tr>\n",
       "\t<tr><th scope=row>51</th><td>two     </td><td>hearts  </td><td> 2      </td></tr>\n",
       "\t<tr><th scope=row>3</th><td>jack    </td><td>spades  </td><td>11      </td></tr>\n",
       "\t<tr><th scope=row>31</th><td>nine    </td><td>diamonds</td><td> 9      </td></tr>\n",
       "\t<tr><th scope=row>36</th><td>four    </td><td>diamonds</td><td> 4      </td></tr>\n",
       "</tbody>\n",
       "</table>\n"
      ],
      "text/latex": [
       "\\begin{tabular}{r|lll}\n",
       "  & face & suit & value\\\\\n",
       "\\hline\n",
       "\t40 & king     & hearts   & 13      \\\\\n",
       "\t51 & two      & hearts   &  2      \\\\\n",
       "\t3 & jack     & spades   & 11      \\\\\n",
       "\t31 & nine     & diamonds &  9      \\\\\n",
       "\t36 & four     & diamonds &  4      \\\\\n",
       "\\end{tabular}\n"
      ],
      "text/markdown": [
       "\n",
       "| <!--/--> | face | suit | value | \n",
       "|---|---|---|---|---|\n",
       "| 40 | king     | hearts   | 13       | \n",
       "| 51 | two      | hearts   |  2       | \n",
       "| 3 | jack     | spades   | 11       | \n",
       "| 31 | nine     | diamonds |  9       | \n",
       "| 36 | four     | diamonds |  4       | \n",
       "\n",
       "\n"
      ],
      "text/plain": [
       "   face suit     value\n",
       "40 king hearts   13   \n",
       "51 two  hearts    2   \n",
       "3  jack spades   11   \n",
       "31 nine diamonds  9   \n",
       "36 four diamonds  4   "
      ]
     },
     "metadata": {},
     "output_type": "display_data"
    }
   ],
   "source": [
    "shuffleAssign()"
   ]
  },
  {
   "cell_type": "code",
   "execution_count": 66,
   "metadata": {},
   "outputs": [
    {
     "data": {
      "text/html": [
       "<table>\n",
       "<thead><tr><th></th><th scope=col>face</th><th scope=col>suit</th><th scope=col>value</th></tr></thead>\n",
       "<tbody>\n",
       "\t<tr><th scope=row>51</th><td>two     </td><td>hearts  </td><td>2       </td></tr>\n",
       "\t<tr><th scope=row>48</th><td>five    </td><td>hearts  </td><td>5       </td></tr>\n",
       "\t<tr><th scope=row>33</th><td>seven   </td><td>diamonds</td><td>7       </td></tr>\n",
       "\t<tr><th scope=row>10</th><td>four    </td><td>spades  </td><td>4       </td></tr>\n",
       "\t<tr><th scope=row>39</th><td>ace     </td><td>diamonds</td><td>1       </td></tr>\n",
       "</tbody>\n",
       "</table>\n"
      ],
      "text/latex": [
       "\\begin{tabular}{r|lll}\n",
       "  & face & suit & value\\\\\n",
       "\\hline\n",
       "\t51 & two      & hearts   & 2       \\\\\n",
       "\t48 & five     & hearts   & 5       \\\\\n",
       "\t33 & seven    & diamonds & 7       \\\\\n",
       "\t10 & four     & spades   & 4       \\\\\n",
       "\t39 & ace      & diamonds & 1       \\\\\n",
       "\\end{tabular}\n"
      ],
      "text/markdown": [
       "\n",
       "| <!--/--> | face | suit | value | \n",
       "|---|---|---|---|---|\n",
       "| 51 | two      | hearts   | 2        | \n",
       "| 48 | five     | hearts   | 5        | \n",
       "| 33 | seven    | diamonds | 7        | \n",
       "| 10 | four     | spades   | 4        | \n",
       "| 39 | ace      | diamonds | 1        | \n",
       "\n",
       "\n"
      ],
      "text/plain": [
       "   face  suit     value\n",
       "51 two   hearts   2    \n",
       "48 five  hearts   5    \n",
       "33 seven diamonds 7    \n",
       "10 four  spades   4    \n",
       "39 ace   diamonds 1    "
      ]
     },
     "metadata": {},
     "output_type": "display_data"
    }
   ],
   "source": [
    "shuffleAssign()"
   ]
  },
  {
   "cell_type": "markdown",
   "metadata": {},
   "source": [
    "### closure"
   ]
  },
  {
   "cell_type": "code",
   "execution_count": null,
   "metadata": {},
   "outputs": [],
   "source": [
    "setup <- function(deck){\n",
    "    DECK <- deck\n",
    "    deal\n",
    "}"
   ]
  }
 ],
 "metadata": {
  "kernelspec": {
   "display_name": "R",
   "language": "R",
   "name": "ir"
  },
  "language_info": {
   "codemirror_mode": "r",
   "file_extension": ".r",
   "mimetype": "text/x-r-source",
   "name": "R",
   "pygments_lexer": "r",
   "version": "3.2.3"
  }
 },
 "nbformat": 4,
 "nbformat_minor": 2
}
