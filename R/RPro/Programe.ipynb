{
 "cells": [
  {
   "cell_type": "code",
   "execution_count": 1,
   "metadata": {},
   "outputs": [],
   "source": [
    "get_symbols <- function(){\n",
    "    wheel <- c(\"DD\",\"7\",\"BBB\",\"BB\",\"B\",\"C\",\"0\")\n",
    "    sample(wheel,size=3,replace=TRUE,prob=c(0.03,0.03,0.06,0.1,0.25,0.01,0.52))\n",
    "}"
   ]
  },
  {
   "cell_type": "code",
   "execution_count": 2,
   "metadata": {
    "scrolled": true
   },
   "outputs": [
    {
     "data": {
      "text/html": [
       "<ol class=list-inline>\n",
       "\t<li>'0'</li>\n",
       "\t<li>'0'</li>\n",
       "\t<li>'BB'</li>\n",
       "</ol>\n"
      ],
      "text/latex": [
       "\\begin{enumerate*}\n",
       "\\item '0'\n",
       "\\item '0'\n",
       "\\item 'BB'\n",
       "\\end{enumerate*}\n"
      ],
      "text/markdown": [
       "1. '0'\n",
       "2. '0'\n",
       "3. 'BB'\n",
       "\n",
       "\n"
      ],
      "text/plain": [
       "[1] \"0\"  \"0\"  \"BB\""
      ]
     },
     "metadata": {},
     "output_type": "display_data"
    }
   ],
   "source": [
    "get_symbols()"
   ]
  },
  {
   "cell_type": "code",
   "execution_count": 3,
   "metadata": {},
   "outputs": [
    {
     "data": {
      "text/html": [
       "<table>\n",
       "<tbody>\n",
       "\t<tr><td>0  </td><td>BB </td><td>0  </td></tr>\n",
       "\t<tr><td>BBB</td><td>0  </td><td>0  </td></tr>\n",
       "\t<tr><td>0  </td><td>0  </td><td>B  </td></tr>\n",
       "</tbody>\n",
       "</table>\n"
      ],
      "text/latex": [
       "\\begin{tabular}{lll}\n",
       "\t 0   & BB  & 0  \\\\\n",
       "\t BBB & 0   & 0  \\\\\n",
       "\t 0   & 0   & B  \\\\\n",
       "\\end{tabular}\n"
      ],
      "text/markdown": [
       "\n",
       "| 0   | BB  | 0   | \n",
       "| BBB | 0   | 0   | \n",
       "| 0   | 0   | B   | \n",
       "\n",
       "\n"
      ],
      "text/plain": [
       "     [,1] [,2] [,3]\n",
       "[1,] 0    BB   0   \n",
       "[2,] BBB  0    0   \n",
       "[3,] 0    0    B   "
      ]
     },
     "metadata": {},
     "output_type": "display_data"
    }
   ],
   "source": [
    "replicate(3,get_symbols())"
   ]
  },
  {
   "cell_type": "code",
   "execution_count": 4,
   "metadata": {},
   "outputs": [],
   "source": [
    "score <- function(symbols) {   \n",
    "    # 识别情形   \n",
    "    same <- symbols[1] == symbols[2] && symbols[2] == symbols[3]   \n",
    "    bars <- symbols %in% c(\"B\", \"BB\", \"BBB\")    \n",
    "    # 计算中奖金额   \n",
    "    if (same) {     \n",
    "        payouts <- c(\"DD\" = 100, \"7\" = 80, \"BBB\" = 40, \"BB\" = 25,       \n",
    "                     \"B\" = 10, \"C\" = 10, \"0\" = 0)     \n",
    "        prize <- unname(payouts[symbols[1]])   \n",
    "    } else if (all(bars)) {     \n",
    "        prize <- 5   \n",
    "    } else {     \n",
    "        cherries <- sum(symbols == \"C\")     \n",
    "        prize <- c(0, 2, 5)[cherries + 1]   \n",
    "    }    # 根据钻石的个数调整中奖金额   \n",
    "    diamonds <- sum(symbols == \"DD\")   \n",
    "    prize * 2 ^ diamonds \n",
    "}"
   ]
  },
  {
   "cell_type": "code",
   "execution_count": 5,
   "metadata": {},
   "outputs": [],
   "source": [
    "play <- function(){\n",
    "    symbols <- get_symbols()\n",
    "    print(symbols)\n",
    "    score(symbols)\n",
    "}"
   ]
  },
  {
   "cell_type": "code",
   "execution_count": 6,
   "metadata": {
    "scrolled": true
   },
   "outputs": [
    {
     "name": "stdout",
     "output_type": "stream",
     "text": [
      "[1] \"0\"  \"BB\" \"B\" \n",
      "[1] \"B\"   \"0\"   \"BBB\"\n",
      "[1] \"BB\" \"0\"  \"0\" \n",
      "[1] \"DD\"  \"BBB\" \"0\"  \n",
      "[1] \"7\"  \"0\"  \"DD\"\n"
     ]
    },
    {
     "data": {
      "text/html": [
       "<ol class=list-inline>\n",
       "\t<li>0</li>\n",
       "\t<li>0</li>\n",
       "\t<li>0</li>\n",
       "\t<li>0</li>\n",
       "\t<li>0</li>\n",
       "</ol>\n"
      ],
      "text/latex": [
       "\\begin{enumerate*}\n",
       "\\item 0\n",
       "\\item 0\n",
       "\\item 0\n",
       "\\item 0\n",
       "\\item 0\n",
       "\\end{enumerate*}\n"
      ],
      "text/markdown": [
       "1. 0\n",
       "2. 0\n",
       "3. 0\n",
       "4. 0\n",
       "5. 0\n",
       "\n",
       "\n"
      ],
      "text/plain": [
       "[1] 0 0 0 0 0"
      ]
     },
     "metadata": {},
     "output_type": "display_data"
    }
   ],
   "source": [
    "replicate(5,play())"
   ]
  },
  {
   "cell_type": "code",
   "execution_count": null,
   "metadata": {},
   "outputs": [],
   "source": []
  }
 ],
 "metadata": {
  "kernelspec": {
   "display_name": "R",
   "language": "R",
   "name": "ir"
  },
  "language_info": {
   "codemirror_mode": "r",
   "file_extension": ".r",
   "mimetype": "text/x-r-source",
   "name": "R",
   "pygments_lexer": "r",
   "version": "4.0.2"
  }
 },
 "nbformat": 4,
 "nbformat_minor": 2
}
