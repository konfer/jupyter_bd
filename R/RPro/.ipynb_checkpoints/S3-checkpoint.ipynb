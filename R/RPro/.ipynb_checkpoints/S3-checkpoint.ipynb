{
 "cells": [
  {
   "cell_type": "markdown",
   "metadata": {},
   "source": [
    "### code in the programe"
   ]
  },
  {
   "cell_type": "code",
   "execution_count": 1,
   "metadata": {},
   "outputs": [],
   "source": [
    "get_symbols <- function(){\n",
    "    wheel <- c(\"DD\",\"7\",\"BBB\",\"BB\",\"B\",\"C\",\"0\")\n",
    "    sample(wheel,size=3,replace=TRUE,prob=c(0.03,0.03,0.06,0.1,0.25,0.01,0.52))\n",
    "}"
   ]
  },
  {
   "cell_type": "code",
   "execution_count": 2,
   "metadata": {},
   "outputs": [
    {
     "data": {
      "text/html": [
       "<ol class=list-inline>\n",
       "\t<li>'0'</li>\n",
       "\t<li>'0'</li>\n",
       "\t<li>'0'</li>\n",
       "</ol>\n"
      ],
      "text/latex": [
       "\\begin{enumerate*}\n",
       "\\item '0'\n",
       "\\item '0'\n",
       "\\item '0'\n",
       "\\end{enumerate*}\n"
      ],
      "text/markdown": [
       "1. '0'\n",
       "2. '0'\n",
       "3. '0'\n",
       "\n",
       "\n"
      ],
      "text/plain": [
       "[1] \"0\" \"0\" \"0\""
      ]
     },
     "metadata": {},
     "output_type": "display_data"
    }
   ],
   "source": [
    "get_symbols()"
   ]
  },
  {
   "cell_type": "code",
   "execution_count": 3,
   "metadata": {},
   "outputs": [],
   "source": [
    "payouts <- c(\"DD\"=100,\"7\"=80,\"BBB\"=40,\"BB\"=25,\n",
    "             \"B\"=10,\"C\"=10,\"0\"=0)"
   ]
  },
  {
   "cell_type": "code",
   "execution_count": 4,
   "metadata": {},
   "outputs": [],
   "source": [
    "score <- function(symbols){\n",
    "    same <- symbols[1] == symbols[2] && symbols[2] == symbols[3] \n",
    "    bars <- symbols %in% c(\"B\", \"BB\", \"BBB\")  \n",
    "    if (same) {   \n",
    "        payouts <- c(\"DD\" = 100, \"7\" = 80, \"BBB\" = 40, \"BB\" = 25,     \n",
    "                     \"B\" = 10, \"C\" = 10, \"0\" = 0)   \n",
    "        prize <- unname(payouts[symbols[1]]) \n",
    "    } else if (all(bars)) {\n",
    "        prize <- 5\n",
    "    } else {   \n",
    "        cherries <- sum(symbols == \"C\")    \n",
    "        prize <- c(0, 2, 5)[cherries + 1] \n",
    "    }\n",
    "    \n",
    "    diamonds <- sum(symbols == \"DD\") \n",
    "    prize * 2 ^ diamonds\n",
    "}"
   ]
  },
  {
   "cell_type": "code",
   "execution_count": 5,
   "metadata": {},
   "outputs": [],
   "source": [
    "play <- function(){\n",
    "    symbols <- get_symbols()\n",
    "    print(symbols)\n",
    "    score(symbols)\n",
    "}"
   ]
  },
  {
   "cell_type": "code",
   "execution_count": 6,
   "metadata": {},
   "outputs": [
    {
     "name": "stdout",
     "output_type": "stream",
     "text": [
      "[1] \"0\" \"0\" \"B\"\n",
      "[1] \"0\" \"0\" \"B\"\n",
      "[1] \"B\" \"B\" \"B\"\n",
      "[1] \"7\" \"0\" \"0\"\n",
      "[1] \"0\" \"0\" \"0\"\n"
     ]
    },
    {
     "data": {
      "text/html": [
       "<ol class=list-inline>\n",
       "\t<li>0</li>\n",
       "\t<li>0</li>\n",
       "\t<li>10</li>\n",
       "\t<li>0</li>\n",
       "\t<li>0</li>\n",
       "</ol>\n"
      ],
      "text/latex": [
       "\\begin{enumerate*}\n",
       "\\item 0\n",
       "\\item 0\n",
       "\\item 10\n",
       "\\item 0\n",
       "\\item 0\n",
       "\\end{enumerate*}\n"
      ],
      "text/markdown": [
       "1. 0\n",
       "2. 0\n",
       "3. 10\n",
       "4. 0\n",
       "5. 0\n",
       "\n",
       "\n"
      ],
      "text/plain": [
       "[1]  0  0 10  0  0"
      ]
     },
     "metadata": {},
     "output_type": "display_data"
    }
   ],
   "source": [
    "replicate(5,play())"
   ]
  },
  {
   "cell_type": "markdown",
   "metadata": {},
   "source": [
    "### code about the chapter S3"
   ]
  },
  {
   "cell_type": "code",
   "execution_count": 7,
   "metadata": {},
   "outputs": [],
   "source": [
    "deck <- read.csv(file=\"/usr/local/konfer/jupyterPro/RPro/deck.csv\",header=T,sep=\",\")"
   ]
  },
  {
   "cell_type": "code",
   "execution_count": 8,
   "metadata": {},
   "outputs": [],
   "source": [
    "num <- 1000000000"
   ]
  },
  {
   "cell_type": "code",
   "execution_count": 9,
   "metadata": {},
   "outputs": [
    {
     "name": "stdout",
     "output_type": "stream",
     "text": [
      "[1] 1e+09\n"
     ]
    }
   ],
   "source": [
    "print(num)"
   ]
  },
  {
   "cell_type": "code",
   "execution_count": 10,
   "metadata": {},
   "outputs": [],
   "source": [
    "class(num) <- c(\"POSIXct\",\"POSIXt\")"
   ]
  },
  {
   "cell_type": "code",
   "execution_count": 11,
   "metadata": {},
   "outputs": [
    {
     "name": "stdout",
     "output_type": "stream",
     "text": [
      "[1] \"2001-09-09 09:46:40 CST\"\n"
     ]
    }
   ],
   "source": [
    "print(num)"
   ]
  },
  {
   "cell_type": "code",
   "execution_count": 12,
   "metadata": {},
   "outputs": [
    {
     "data": {
      "text/html": [
       "<dl>\n",
       "\t<dt>$names</dt>\n",
       "\t\t<dd><ol class=list-inline>\n",
       "\t<li>'face'</li>\n",
       "\t<li>'suit'</li>\n",
       "\t<li>'value'</li>\n",
       "</ol>\n",
       "</dd>\n",
       "\t<dt>$class</dt>\n",
       "\t\t<dd>'data.frame'</dd>\n",
       "\t<dt>$row.names</dt>\n",
       "\t\t<dd><ol class=list-inline>\n",
       "\t<li>1</li>\n",
       "\t<li>2</li>\n",
       "\t<li>3</li>\n",
       "\t<li>4</li>\n",
       "\t<li>5</li>\n",
       "\t<li>6</li>\n",
       "\t<li>7</li>\n",
       "\t<li>8</li>\n",
       "\t<li>9</li>\n",
       "\t<li>10</li>\n",
       "\t<li>11</li>\n",
       "\t<li>12</li>\n",
       "\t<li>13</li>\n",
       "\t<li>14</li>\n",
       "\t<li>15</li>\n",
       "\t<li>16</li>\n",
       "\t<li>17</li>\n",
       "\t<li>18</li>\n",
       "\t<li>19</li>\n",
       "\t<li>20</li>\n",
       "\t<li>21</li>\n",
       "\t<li>22</li>\n",
       "\t<li>23</li>\n",
       "\t<li>24</li>\n",
       "\t<li>25</li>\n",
       "\t<li>26</li>\n",
       "\t<li>27</li>\n",
       "\t<li>28</li>\n",
       "\t<li>29</li>\n",
       "\t<li>30</li>\n",
       "\t<li>31</li>\n",
       "\t<li>32</li>\n",
       "\t<li>33</li>\n",
       "\t<li>34</li>\n",
       "\t<li>35</li>\n",
       "\t<li>36</li>\n",
       "\t<li>37</li>\n",
       "\t<li>38</li>\n",
       "\t<li>39</li>\n",
       "\t<li>40</li>\n",
       "\t<li>41</li>\n",
       "\t<li>42</li>\n",
       "\t<li>43</li>\n",
       "\t<li>44</li>\n",
       "\t<li>45</li>\n",
       "\t<li>46</li>\n",
       "\t<li>47</li>\n",
       "\t<li>48</li>\n",
       "\t<li>49</li>\n",
       "\t<li>50</li>\n",
       "\t<li>51</li>\n",
       "\t<li>52</li>\n",
       "</ol>\n",
       "</dd>\n",
       "</dl>\n"
      ],
      "text/latex": [
       "\\begin{description}\n",
       "\\item[\\$names] \\begin{enumerate*}\n",
       "\\item 'face'\n",
       "\\item 'suit'\n",
       "\\item 'value'\n",
       "\\end{enumerate*}\n",
       "\n",
       "\\item[\\$class] 'data.frame'\n",
       "\\item[\\$row.names] \\begin{enumerate*}\n",
       "\\item 1\n",
       "\\item 2\n",
       "\\item 3\n",
       "\\item 4\n",
       "\\item 5\n",
       "\\item 6\n",
       "\\item 7\n",
       "\\item 8\n",
       "\\item 9\n",
       "\\item 10\n",
       "\\item 11\n",
       "\\item 12\n",
       "\\item 13\n",
       "\\item 14\n",
       "\\item 15\n",
       "\\item 16\n",
       "\\item 17\n",
       "\\item 18\n",
       "\\item 19\n",
       "\\item 20\n",
       "\\item 21\n",
       "\\item 22\n",
       "\\item 23\n",
       "\\item 24\n",
       "\\item 25\n",
       "\\item 26\n",
       "\\item 27\n",
       "\\item 28\n",
       "\\item 29\n",
       "\\item 30\n",
       "\\item 31\n",
       "\\item 32\n",
       "\\item 33\n",
       "\\item 34\n",
       "\\item 35\n",
       "\\item 36\n",
       "\\item 37\n",
       "\\item 38\n",
       "\\item 39\n",
       "\\item 40\n",
       "\\item 41\n",
       "\\item 42\n",
       "\\item 43\n",
       "\\item 44\n",
       "\\item 45\n",
       "\\item 46\n",
       "\\item 47\n",
       "\\item 48\n",
       "\\item 49\n",
       "\\item 50\n",
       "\\item 51\n",
       "\\item 52\n",
       "\\end{enumerate*}\n",
       "\n",
       "\\end{description}\n"
      ],
      "text/markdown": [
       "$names\n",
       ":   1. 'face'\n",
       "2. 'suit'\n",
       "3. 'value'\n",
       "\n",
       "\n",
       "\n",
       "$class\n",
       ":   'data.frame'\n",
       "$row.names\n",
       ":   1. 1\n",
       "2. 2\n",
       "3. 3\n",
       "4. 4\n",
       "5. 5\n",
       "6. 6\n",
       "7. 7\n",
       "8. 8\n",
       "9. 9\n",
       "10. 10\n",
       "11. 11\n",
       "12. 12\n",
       "13. 13\n",
       "14. 14\n",
       "15. 15\n",
       "16. 16\n",
       "17. 17\n",
       "18. 18\n",
       "19. 19\n",
       "20. 20\n",
       "21. 21\n",
       "22. 22\n",
       "23. 23\n",
       "24. 24\n",
       "25. 25\n",
       "26. 26\n",
       "27. 27\n",
       "28. 28\n",
       "29. 29\n",
       "30. 30\n",
       "31. 31\n",
       "32. 32\n",
       "33. 33\n",
       "34. 34\n",
       "35. 35\n",
       "36. 36\n",
       "37. 37\n",
       "38. 38\n",
       "39. 39\n",
       "40. 40\n",
       "41. 41\n",
       "42. 42\n",
       "43. 43\n",
       "44. 44\n",
       "45. 45\n",
       "46. 46\n",
       "47. 47\n",
       "48. 48\n",
       "49. 49\n",
       "50. 50\n",
       "51. 51\n",
       "52. 52\n",
       "\n",
       "\n",
       "\n",
       "\n",
       "\n"
      ],
      "text/plain": [
       "$names\n",
       "[1] \"face\"  \"suit\"  \"value\"\n",
       "\n",
       "$class\n",
       "[1] \"data.frame\"\n",
       "\n",
       "$row.names\n",
       " [1]  1  2  3  4  5  6  7  8  9 10 11 12 13 14 15 16 17 18 19 20 21 22 23 24 25\n",
       "[26] 26 27 28 29 30 31 32 33 34 35 36 37 38 39 40 41 42 43 44 45 46 47 48 49 50\n",
       "[51] 51 52\n"
      ]
     },
     "metadata": {},
     "output_type": "display_data"
    }
   ],
   "source": [
    "attributes(deck)"
   ]
  },
  {
   "cell_type": "code",
   "execution_count": 13,
   "metadata": {},
   "outputs": [
    {
     "data": {
      "text/html": [
       "<ol class=list-inline>\n",
       "\t<li>'1'</li>\n",
       "\t<li>'2'</li>\n",
       "\t<li>'3'</li>\n",
       "\t<li>'4'</li>\n",
       "\t<li>'5'</li>\n",
       "\t<li>'6'</li>\n",
       "\t<li>'7'</li>\n",
       "\t<li>'8'</li>\n",
       "\t<li>'9'</li>\n",
       "\t<li>'10'</li>\n",
       "\t<li>'11'</li>\n",
       "\t<li>'12'</li>\n",
       "\t<li>'13'</li>\n",
       "\t<li>'14'</li>\n",
       "\t<li>'15'</li>\n",
       "\t<li>'16'</li>\n",
       "\t<li>'17'</li>\n",
       "\t<li>'18'</li>\n",
       "\t<li>'19'</li>\n",
       "\t<li>'20'</li>\n",
       "\t<li>'21'</li>\n",
       "\t<li>'22'</li>\n",
       "\t<li>'23'</li>\n",
       "\t<li>'24'</li>\n",
       "\t<li>'25'</li>\n",
       "\t<li>'26'</li>\n",
       "\t<li>'27'</li>\n",
       "\t<li>'28'</li>\n",
       "\t<li>'29'</li>\n",
       "\t<li>'30'</li>\n",
       "\t<li>'31'</li>\n",
       "\t<li>'32'</li>\n",
       "\t<li>'33'</li>\n",
       "\t<li>'34'</li>\n",
       "\t<li>'35'</li>\n",
       "\t<li>'36'</li>\n",
       "\t<li>'37'</li>\n",
       "\t<li>'38'</li>\n",
       "\t<li>'39'</li>\n",
       "\t<li>'40'</li>\n",
       "\t<li>'41'</li>\n",
       "\t<li>'42'</li>\n",
       "\t<li>'43'</li>\n",
       "\t<li>'44'</li>\n",
       "\t<li>'45'</li>\n",
       "\t<li>'46'</li>\n",
       "\t<li>'47'</li>\n",
       "\t<li>'48'</li>\n",
       "\t<li>'49'</li>\n",
       "\t<li>'50'</li>\n",
       "\t<li>'51'</li>\n",
       "\t<li>'52'</li>\n",
       "</ol>\n"
      ],
      "text/latex": [
       "\\begin{enumerate*}\n",
       "\\item '1'\n",
       "\\item '2'\n",
       "\\item '3'\n",
       "\\item '4'\n",
       "\\item '5'\n",
       "\\item '6'\n",
       "\\item '7'\n",
       "\\item '8'\n",
       "\\item '9'\n",
       "\\item '10'\n",
       "\\item '11'\n",
       "\\item '12'\n",
       "\\item '13'\n",
       "\\item '14'\n",
       "\\item '15'\n",
       "\\item '16'\n",
       "\\item '17'\n",
       "\\item '18'\n",
       "\\item '19'\n",
       "\\item '20'\n",
       "\\item '21'\n",
       "\\item '22'\n",
       "\\item '23'\n",
       "\\item '24'\n",
       "\\item '25'\n",
       "\\item '26'\n",
       "\\item '27'\n",
       "\\item '28'\n",
       "\\item '29'\n",
       "\\item '30'\n",
       "\\item '31'\n",
       "\\item '32'\n",
       "\\item '33'\n",
       "\\item '34'\n",
       "\\item '35'\n",
       "\\item '36'\n",
       "\\item '37'\n",
       "\\item '38'\n",
       "\\item '39'\n",
       "\\item '40'\n",
       "\\item '41'\n",
       "\\item '42'\n",
       "\\item '43'\n",
       "\\item '44'\n",
       "\\item '45'\n",
       "\\item '46'\n",
       "\\item '47'\n",
       "\\item '48'\n",
       "\\item '49'\n",
       "\\item '50'\n",
       "\\item '51'\n",
       "\\item '52'\n",
       "\\end{enumerate*}\n"
      ],
      "text/markdown": [
       "1. '1'\n",
       "2. '2'\n",
       "3. '3'\n",
       "4. '4'\n",
       "5. '5'\n",
       "6. '6'\n",
       "7. '7'\n",
       "8. '8'\n",
       "9. '9'\n",
       "10. '10'\n",
       "11. '11'\n",
       "12. '12'\n",
       "13. '13'\n",
       "14. '14'\n",
       "15. '15'\n",
       "16. '16'\n",
       "17. '17'\n",
       "18. '18'\n",
       "19. '19'\n",
       "20. '20'\n",
       "21. '21'\n",
       "22. '22'\n",
       "23. '23'\n",
       "24. '24'\n",
       "25. '25'\n",
       "26. '26'\n",
       "27. '27'\n",
       "28. '28'\n",
       "29. '29'\n",
       "30. '30'\n",
       "31. '31'\n",
       "32. '32'\n",
       "33. '33'\n",
       "34. '34'\n",
       "35. '35'\n",
       "36. '36'\n",
       "37. '37'\n",
       "38. '38'\n",
       "39. '39'\n",
       "40. '40'\n",
       "41. '41'\n",
       "42. '42'\n",
       "43. '43'\n",
       "44. '44'\n",
       "45. '45'\n",
       "46. '46'\n",
       "47. '47'\n",
       "48. '48'\n",
       "49. '49'\n",
       "50. '50'\n",
       "51. '51'\n",
       "52. '52'\n",
       "\n",
       "\n"
      ],
      "text/plain": [
       " [1] \"1\"  \"2\"  \"3\"  \"4\"  \"5\"  \"6\"  \"7\"  \"8\"  \"9\"  \"10\" \"11\" \"12\" \"13\" \"14\" \"15\"\n",
       "[16] \"16\" \"17\" \"18\" \"19\" \"20\" \"21\" \"22\" \"23\" \"24\" \"25\" \"26\" \"27\" \"28\" \"29\" \"30\"\n",
       "[31] \"31\" \"32\" \"33\" \"34\" \"35\" \"36\" \"37\" \"38\" \"39\" \"40\" \"41\" \"42\" \"43\" \"44\" \"45\"\n",
       "[46] \"46\" \"47\" \"48\" \"49\" \"50\" \"51\" \"52\""
      ]
     },
     "metadata": {},
     "output_type": "display_data"
    }
   ],
   "source": [
    "row.names(deck)"
   ]
  },
  {
   "cell_type": "code",
   "execution_count": 14,
   "metadata": {},
   "outputs": [],
   "source": [
    "row.names(deck) <- 101:152"
   ]
  },
  {
   "cell_type": "code",
   "execution_count": 15,
   "metadata": {},
   "outputs": [
    {
     "data": {
      "text/html": [
       "<dl>\n",
       "\t<dt>$names</dt>\n",
       "\t\t<dd><ol class=list-inline>\n",
       "\t<li>'face'</li>\n",
       "\t<li>'suit'</li>\n",
       "\t<li>'value'</li>\n",
       "</ol>\n",
       "</dd>\n",
       "\t<dt>$class</dt>\n",
       "\t\t<dd>'data.frame'</dd>\n",
       "\t<dt>$row.names</dt>\n",
       "\t\t<dd><ol class=list-inline>\n",
       "\t<li>101</li>\n",
       "\t<li>102</li>\n",
       "\t<li>103</li>\n",
       "\t<li>104</li>\n",
       "\t<li>105</li>\n",
       "\t<li>106</li>\n",
       "\t<li>107</li>\n",
       "\t<li>108</li>\n",
       "\t<li>109</li>\n",
       "\t<li>110</li>\n",
       "\t<li>111</li>\n",
       "\t<li>112</li>\n",
       "\t<li>113</li>\n",
       "\t<li>114</li>\n",
       "\t<li>115</li>\n",
       "\t<li>116</li>\n",
       "\t<li>117</li>\n",
       "\t<li>118</li>\n",
       "\t<li>119</li>\n",
       "\t<li>120</li>\n",
       "\t<li>121</li>\n",
       "\t<li>122</li>\n",
       "\t<li>123</li>\n",
       "\t<li>124</li>\n",
       "\t<li>125</li>\n",
       "\t<li>126</li>\n",
       "\t<li>127</li>\n",
       "\t<li>128</li>\n",
       "\t<li>129</li>\n",
       "\t<li>130</li>\n",
       "\t<li>131</li>\n",
       "\t<li>132</li>\n",
       "\t<li>133</li>\n",
       "\t<li>134</li>\n",
       "\t<li>135</li>\n",
       "\t<li>136</li>\n",
       "\t<li>137</li>\n",
       "\t<li>138</li>\n",
       "\t<li>139</li>\n",
       "\t<li>140</li>\n",
       "\t<li>141</li>\n",
       "\t<li>142</li>\n",
       "\t<li>143</li>\n",
       "\t<li>144</li>\n",
       "\t<li>145</li>\n",
       "\t<li>146</li>\n",
       "\t<li>147</li>\n",
       "\t<li>148</li>\n",
       "\t<li>149</li>\n",
       "\t<li>150</li>\n",
       "\t<li>151</li>\n",
       "\t<li>152</li>\n",
       "</ol>\n",
       "</dd>\n",
       "</dl>\n"
      ],
      "text/latex": [
       "\\begin{description}\n",
       "\\item[\\$names] \\begin{enumerate*}\n",
       "\\item 'face'\n",
       "\\item 'suit'\n",
       "\\item 'value'\n",
       "\\end{enumerate*}\n",
       "\n",
       "\\item[\\$class] 'data.frame'\n",
       "\\item[\\$row.names] \\begin{enumerate*}\n",
       "\\item 101\n",
       "\\item 102\n",
       "\\item 103\n",
       "\\item 104\n",
       "\\item 105\n",
       "\\item 106\n",
       "\\item 107\n",
       "\\item 108\n",
       "\\item 109\n",
       "\\item 110\n",
       "\\item 111\n",
       "\\item 112\n",
       "\\item 113\n",
       "\\item 114\n",
       "\\item 115\n",
       "\\item 116\n",
       "\\item 117\n",
       "\\item 118\n",
       "\\item 119\n",
       "\\item 120\n",
       "\\item 121\n",
       "\\item 122\n",
       "\\item 123\n",
       "\\item 124\n",
       "\\item 125\n",
       "\\item 126\n",
       "\\item 127\n",
       "\\item 128\n",
       "\\item 129\n",
       "\\item 130\n",
       "\\item 131\n",
       "\\item 132\n",
       "\\item 133\n",
       "\\item 134\n",
       "\\item 135\n",
       "\\item 136\n",
       "\\item 137\n",
       "\\item 138\n",
       "\\item 139\n",
       "\\item 140\n",
       "\\item 141\n",
       "\\item 142\n",
       "\\item 143\n",
       "\\item 144\n",
       "\\item 145\n",
       "\\item 146\n",
       "\\item 147\n",
       "\\item 148\n",
       "\\item 149\n",
       "\\item 150\n",
       "\\item 151\n",
       "\\item 152\n",
       "\\end{enumerate*}\n",
       "\n",
       "\\end{description}\n"
      ],
      "text/markdown": [
       "$names\n",
       ":   1. 'face'\n",
       "2. 'suit'\n",
       "3. 'value'\n",
       "\n",
       "\n",
       "\n",
       "$class\n",
       ":   'data.frame'\n",
       "$row.names\n",
       ":   1. 101\n",
       "2. 102\n",
       "3. 103\n",
       "4. 104\n",
       "5. 105\n",
       "6. 106\n",
       "7. 107\n",
       "8. 108\n",
       "9. 109\n",
       "10. 110\n",
       "11. 111\n",
       "12. 112\n",
       "13. 113\n",
       "14. 114\n",
       "15. 115\n",
       "16. 116\n",
       "17. 117\n",
       "18. 118\n",
       "19. 119\n",
       "20. 120\n",
       "21. 121\n",
       "22. 122\n",
       "23. 123\n",
       "24. 124\n",
       "25. 125\n",
       "26. 126\n",
       "27. 127\n",
       "28. 128\n",
       "29. 129\n",
       "30. 130\n",
       "31. 131\n",
       "32. 132\n",
       "33. 133\n",
       "34. 134\n",
       "35. 135\n",
       "36. 136\n",
       "37. 137\n",
       "38. 138\n",
       "39. 139\n",
       "40. 140\n",
       "41. 141\n",
       "42. 142\n",
       "43. 143\n",
       "44. 144\n",
       "45. 145\n",
       "46. 146\n",
       "47. 147\n",
       "48. 148\n",
       "49. 149\n",
       "50. 150\n",
       "51. 151\n",
       "52. 152\n",
       "\n",
       "\n",
       "\n",
       "\n",
       "\n"
      ],
      "text/plain": [
       "$names\n",
       "[1] \"face\"  \"suit\"  \"value\"\n",
       "\n",
       "$class\n",
       "[1] \"data.frame\"\n",
       "\n",
       "$row.names\n",
       " [1] 101 102 103 104 105 106 107 108 109 110 111 112 113 114 115 116 117 118 119\n",
       "[20] 120 121 122 123 124 125 126 127 128 129 130 131 132 133 134 135 136 137 138\n",
       "[39] 139 140 141 142 143 144 145 146 147 148 149 150 151 152\n"
      ]
     },
     "metadata": {},
     "output_type": "display_data"
    }
   ],
   "source": [
    "attributes(deck)"
   ]
  },
  {
   "cell_type": "code",
   "execution_count": 16,
   "metadata": {},
   "outputs": [
    {
     "name": "stdout",
     "output_type": "stream",
     "text": [
      "[1] \"BB\" \"0\"  \"B\" \n"
     ]
    }
   ],
   "source": [
    "one_play <- play()"
   ]
  },
  {
   "cell_type": "code",
   "execution_count": 17,
   "metadata": {},
   "outputs": [
    {
     "data": {
      "text/html": [
       "0"
      ],
      "text/latex": [
       "0"
      ],
      "text/markdown": [
       "0"
      ],
      "text/plain": [
       "[1] 0"
      ]
     },
     "metadata": {},
     "output_type": "display_data"
    }
   ],
   "source": [
    "one_play"
   ]
  },
  {
   "cell_type": "code",
   "execution_count": 18,
   "metadata": {},
   "outputs": [
    {
     "data": {
      "text/plain": [
       "NULL"
      ]
     },
     "metadata": {},
     "output_type": "display_data"
    }
   ],
   "source": [
    "attributes(one_play)"
   ]
  },
  {
   "cell_type": "code",
   "execution_count": 19,
   "metadata": {},
   "outputs": [],
   "source": [
    "attr(one_play,\"symbols\") <- c(\"B\",\"0\",\"B\")"
   ]
  },
  {
   "cell_type": "code",
   "execution_count": 20,
   "metadata": {},
   "outputs": [
    {
     "data": {
      "text/html": [
       "<strong>$symbols</strong> = <ol class=list-inline>\n",
       "\t<li>'B'</li>\n",
       "\t<li>'0'</li>\n",
       "\t<li>'B'</li>\n",
       "</ol>\n"
      ],
      "text/latex": [
       "\\textbf{\\$symbols} = \\begin{enumerate*}\n",
       "\\item 'B'\n",
       "\\item '0'\n",
       "\\item 'B'\n",
       "\\end{enumerate*}\n"
      ],
      "text/markdown": [
       "**$symbols** = 1. 'B'\n",
       "2. '0'\n",
       "3. 'B'\n",
       "\n",
       "\n"
      ],
      "text/plain": [
       "$symbols\n",
       "[1] \"B\" \"0\" \"B\"\n"
      ]
     },
     "metadata": {},
     "output_type": "display_data"
    }
   ],
   "source": [
    "attributes(one_play)"
   ]
  },
  {
   "cell_type": "code",
   "execution_count": 21,
   "metadata": {},
   "outputs": [
    {
     "data": {
      "text/html": [
       "<ol class=list-inline>\n",
       "\t<li>'B'</li>\n",
       "\t<li>'0'</li>\n",
       "\t<li>'B'</li>\n",
       "</ol>\n"
      ],
      "text/latex": [
       "\\begin{enumerate*}\n",
       "\\item 'B'\n",
       "\\item '0'\n",
       "\\item 'B'\n",
       "\\end{enumerate*}\n"
      ],
      "text/markdown": [
       "1. 'B'\n",
       "2. '0'\n",
       "3. 'B'\n",
       "\n",
       "\n"
      ],
      "text/plain": [
       "[1] \"B\" \"0\" \"B\""
      ]
     },
     "metadata": {},
     "output_type": "display_data"
    }
   ],
   "source": [
    "attr(one_play,\"symbols\")"
   ]
  },
  {
   "cell_type": "code",
   "execution_count": 22,
   "metadata": {},
   "outputs": [
    {
     "data": {
      "text/html": [
       "0"
      ],
      "text/latex": [
       "0"
      ],
      "text/markdown": [
       "0"
      ],
      "text/plain": [
       "[1] 0\n",
       "attr(,\"symbols\")\n",
       "[1] \"B\" \"0\" \"B\""
      ]
     },
     "metadata": {},
     "output_type": "display_data"
    }
   ],
   "source": [
    "one_play"
   ]
  },
  {
   "cell_type": "code",
   "execution_count": 23,
   "metadata": {
    "scrolled": true
   },
   "outputs": [
    {
     "data": {
      "text/html": [
       "1"
      ],
      "text/latex": [
       "1"
      ],
      "text/markdown": [
       "1"
      ],
      "text/plain": [
       "[1] 1\n",
       "attr(,\"symbols\")\n",
       "[1] \"B\" \"0\" \"B\""
      ]
     },
     "metadata": {},
     "output_type": "display_data"
    }
   ],
   "source": [
    "one_play+1"
   ]
  },
  {
   "cell_type": "code",
   "execution_count": 24,
   "metadata": {},
   "outputs": [],
   "source": [
    "play <- function(){\n",
    "    symbols <- get_symbols()\n",
    "    prize <- score(symbols)\n",
    "    attr(prize,\"symbols\") <- symbols\n",
    "    prize\n",
    "}"
   ]
  },
  {
   "cell_type": "code",
   "execution_count": 28,
   "metadata": {},
   "outputs": [
    {
     "data": {
      "text/html": [
       "0"
      ],
      "text/latex": [
       "0"
      ],
      "text/markdown": [
       "0"
      ],
      "text/plain": [
       "[1] 0\n",
       "attr(,\"symbols\")\n",
       "[1] \"0\" \"0\" \"B\""
      ]
     },
     "metadata": {},
     "output_type": "display_data"
    }
   ],
   "source": [
    "play()"
   ]
  },
  {
   "cell_type": "code",
   "execution_count": 29,
   "metadata": {},
   "outputs": [],
   "source": [
    "two_play <- play()"
   ]
  },
  {
   "cell_type": "code",
   "execution_count": 30,
   "metadata": {},
   "outputs": [
    {
     "data": {
      "text/html": [
       "0"
      ],
      "text/latex": [
       "0"
      ],
      "text/markdown": [
       "0"
      ],
      "text/plain": [
       "[1] 0\n",
       "attr(,\"symbols\")\n",
       "[1] \"7\" \"B\" \"0\""
      ]
     },
     "metadata": {},
     "output_type": "display_data"
    }
   ],
   "source": [
    "two_play"
   ]
  },
  {
   "cell_type": "code",
   "execution_count": 33,
   "metadata": {},
   "outputs": [
    {
     "data": {
      "text/html": [
       "<strong>$symbols</strong> = <ol class=list-inline>\n",
       "\t<li>'7'</li>\n",
       "\t<li>'B'</li>\n",
       "\t<li>'0'</li>\n",
       "</ol>\n"
      ],
      "text/latex": [
       "\\textbf{\\$symbols} = \\begin{enumerate*}\n",
       "\\item '7'\n",
       "\\item 'B'\n",
       "\\item '0'\n",
       "\\end{enumerate*}\n"
      ],
      "text/markdown": [
       "**$symbols** = 1. '7'\n",
       "2. 'B'\n",
       "3. '0'\n",
       "\n",
       "\n"
      ],
      "text/plain": [
       "$symbols\n",
       "[1] \"7\" \"B\" \"0\"\n"
      ]
     },
     "metadata": {},
     "output_type": "display_data"
    }
   ],
   "source": [
    "attributes(two_play)"
   ]
  },
  {
   "cell_type": "code",
   "execution_count": 27,
   "metadata": {},
   "outputs": [
    {
     "data": {
      "text/html": [
       "0"
      ],
      "text/latex": [
       "0"
      ],
      "text/markdown": [
       "0"
      ],
      "text/plain": [
       "[1] 0\n",
       "attr(,\"symbols\")\n",
       "[1] \"B\"  \"BB\" \"0\" "
      ]
     },
     "metadata": {},
     "output_type": "display_data"
    }
   ],
   "source": [
    "play()"
   ]
  },
  {
   "cell_type": "code",
   "execution_count": 41,
   "metadata": {},
   "outputs": [],
   "source": [
    "play <- function(){\n",
    "    symbols <- get_symbols()\n",
    "    structure(score(symbols),symbols=symbols)\n",
    "}"
   ]
  },
  {
   "cell_type": "code",
   "execution_count": 47,
   "metadata": {},
   "outputs": [],
   "source": [
    "three_play <- play()"
   ]
  },
  {
   "cell_type": "code",
   "execution_count": 32,
   "metadata": {},
   "outputs": [
    {
     "data": {
      "text/html": [
       "0"
      ],
      "text/latex": [
       "0"
      ],
      "text/markdown": [
       "0"
      ],
      "text/plain": [
       "[1] 0\n",
       "attr(,\"symbols\")\n",
       "[1] \"0\" \"0\" \"0\""
      ]
     },
     "metadata": {},
     "output_type": "display_data"
    }
   ],
   "source": [
    "three_play"
   ]
  },
  {
   "cell_type": "code",
   "execution_count": 39,
   "metadata": {},
   "outputs": [
    {
     "data": {
      "text/html": [
       "<strong>$symbols</strong> = <ol class=list-inline>\n",
       "\t<li>'0'</li>\n",
       "\t<li>'B'</li>\n",
       "\t<li>'BB'</li>\n",
       "</ol>\n"
      ],
      "text/latex": [
       "\\textbf{\\$symbols} = \\begin{enumerate*}\n",
       "\\item '0'\n",
       "\\item 'B'\n",
       "\\item 'BB'\n",
       "\\end{enumerate*}\n"
      ],
      "text/markdown": [
       "**$symbols** = 1. '0'\n",
       "2. 'B'\n",
       "3. 'BB'\n",
       "\n",
       "\n"
      ],
      "text/plain": [
       "$symbols\n",
       "[1] \"0\"  \"B\"  \"BB\"\n"
      ]
     },
     "metadata": {},
     "output_type": "display_data"
    }
   ],
   "source": [
    "attributes(three_play)"
   ]
  },
  {
   "cell_type": "code",
   "execution_count": 36,
   "metadata": {
    "scrolled": true
   },
   "outputs": [
    {
     "data": {
      "text/html": [
       "0"
      ],
      "text/latex": [
       "0"
      ],
      "text/markdown": [
       "0"
      ],
      "text/plain": [
       "[1] 0\n",
       "attr(,\"symbols\")\n",
       "[1] \"0\" \"0\" \"0\""
      ]
     },
     "metadata": {},
     "output_type": "display_data"
    }
   ],
   "source": [
    "three_play"
   ]
  },
  {
   "cell_type": "code",
   "execution_count": 48,
   "metadata": {},
   "outputs": [
    {
     "data": {
      "text/html": [
       "<strong>$symbols</strong> = <ol class=list-inline>\n",
       "\t<li>'B'</li>\n",
       "\t<li>'0'</li>\n",
       "\t<li>'B'</li>\n",
       "</ol>\n"
      ],
      "text/latex": [
       "\\textbf{\\$symbols} = \\begin{enumerate*}\n",
       "\\item 'B'\n",
       "\\item '0'\n",
       "\\item 'B'\n",
       "\\end{enumerate*}\n"
      ],
      "text/markdown": [
       "**$symbols** = 1. 'B'\n",
       "2. '0'\n",
       "3. 'B'\n",
       "\n",
       "\n"
      ],
      "text/plain": [
       "$symbols\n",
       "[1] \"B\" \"0\" \"B\"\n"
      ]
     },
     "metadata": {},
     "output_type": "display_data"
    }
   ],
   "source": [
    "attributes(three_play)"
   ]
  },
  {
   "cell_type": "code",
   "execution_count": 63,
   "metadata": {},
   "outputs": [],
   "source": [
    "slot_display <- function(prize){\n",
    "    symbols <- attr(prize,\"symbols\")\n",
    "    symbols <- paste(symbols,collapse=\" \")\n",
    "    string <- paste(symbols,prize,sep = \"\\n$\")\n",
    "    cat(string)\n",
    "}"
   ]
  },
  {
   "cell_type": "code",
   "execution_count": 64,
   "metadata": {},
   "outputs": [
    {
     "name": "stdout",
     "output_type": "stream",
     "text": [
      "B 0 B\n",
      "$0"
     ]
    }
   ],
   "source": [
    "slot_display(one_play)"
   ]
  },
  {
   "cell_type": "code",
   "execution_count": 65,
   "metadata": {},
   "outputs": [
    {
     "name": "stdout",
     "output_type": "stream",
     "text": [
      "[1] 3.141593\n"
     ]
    }
   ],
   "source": [
    "print(pi)"
   ]
  },
  {
   "cell_type": "code",
   "execution_count": 66,
   "metadata": {},
   "outputs": [
    {
     "data": {
      "text/html": [
       "<pre class=language-r><code>function (x, ...) \n",
       "UseMethod(\"print\")</code></pre>"
      ],
      "text/latex": [
       "\\begin{minted}{r}\n",
       "function (x, ...) \n",
       "UseMethod(\"print\")\n",
       "\\end{minted}"
      ],
      "text/markdown": [
       "```r\n",
       "function (x, ...) \n",
       "UseMethod(\"print\")\n",
       "```"
      ],
      "text/plain": [
       "function (x, ...) \n",
       "UseMethod(\"print\")\n",
       "<bytecode: 0x29ec2a0>\n",
       "<environment: namespace:base>"
      ]
     },
     "metadata": {},
     "output_type": "display_data"
    }
   ],
   "source": [
    "print"
   ]
  },
  {
   "cell_type": "code",
   "execution_count": 67,
   "metadata": {},
   "outputs": [
    {
     "data": {
      "text/html": [
       "<pre class=language-r><code>.Primitive(\"UseMethod\")</code></pre>"
      ],
      "text/latex": [
       "\\begin{minted}{r}\n",
       ".Primitive(\"UseMethod\")\n",
       "\\end{minted}"
      ],
      "text/markdown": [
       "```r\n",
       ".Primitive(\"UseMethod\")\n",
       "```"
      ],
      "text/plain": [
       "function (generic, object)  .Primitive(\"UseMethod\")"
      ]
     },
     "metadata": {},
     "output_type": "display_data"
    }
   ],
   "source": [
    "UseMethod"
   ]
  },
  {
   "cell_type": "code",
   "execution_count": 68,
   "metadata": {},
   "outputs": [
    {
     "data": {
      "text/html": [
       "<pre class=language-r><code>function (x, ...) \n",
       "{\n",
       "<span style=white-space:pre-wrap>    max.print &lt;- getOption(\"max.print\", 9999L)</span>\n",
       "<span style=white-space:pre-wrap>    if (max.print &lt; length(x)) {</span>\n",
       "<span style=white-space:pre-wrap>        print(format(x[seq_len(max.print)], usetz = TRUE), ...)</span>\n",
       "<span style=white-space:pre-wrap>        cat(\" [ reached getOption(\\\"max.print\\\") -- omitted\", </span>\n",
       "<span style=white-space:pre-wrap>            length(x) - max.print, \"entries ]\\n\")</span>\n",
       "<span style=white-space:pre-wrap>    }</span>\n",
       "<span style=white-space:pre-wrap>    else print(format(x, usetz = TRUE), ...)</span>\n",
       "<span style=white-space:pre-wrap>    invisible(x)</span>\n",
       "}</code></pre>"
      ],
      "text/latex": [
       "\\begin{minted}{r}\n",
       "function (x, ...) \n",
       "\\{\n",
       "    max.print <- getOption(\"max.print\", 9999L)\n",
       "    if (max.print < length(x)) \\{\n",
       "        print(format(x{[}seq\\_len(max.print){]}, usetz = TRUE), ...)\n",
       "        cat(\" {[} reached getOption(\\textbackslash{}\"max.print\\textbackslash{}\") -- omitted\", \n",
       "            length(x) - max.print, \"entries {]}\\textbackslash{}n\")\n",
       "    \\}\n",
       "    else print(format(x, usetz = TRUE), ...)\n",
       "    invisible(x)\n",
       "\\}\n",
       "\\end{minted}"
      ],
      "text/markdown": [
       "```r\n",
       "function (x, ...) \n",
       "{\n",
       "    max.print <- getOption(\"max.print\", 9999L)\n",
       "    if (max.print < length(x)) {\n",
       "        print(format(x[seq_len(max.print)], usetz = TRUE), ...)\n",
       "        cat(\" [ reached getOption(\\\"max.print\\\") -- omitted\", \n",
       "            length(x) - max.print, \"entries ]\\n\")\n",
       "    }\n",
       "    else print(format(x, usetz = TRUE), ...)\n",
       "    invisible(x)\n",
       "}\n",
       "```"
      ],
      "text/plain": [
       "function (x, ...) \n",
       "{\n",
       "    max.print <- getOption(\"max.print\", 9999L)\n",
       "    if (max.print < length(x)) {\n",
       "        print(format(x[seq_len(max.print)], usetz = TRUE), ...)\n",
       "        cat(\" [ reached getOption(\\\"max.print\\\") -- omitted\", \n",
       "            length(x) - max.print, \"entries ]\\n\")\n",
       "    }\n",
       "    else print(format(x, usetz = TRUE), ...)\n",
       "    invisible(x)\n",
       "}\n",
       "<bytecode: 0x2f86298>\n",
       "<environment: namespace:base>"
      ]
     },
     "metadata": {},
     "output_type": "display_data"
    }
   ],
   "source": [
    "print.POSIXct"
   ]
  },
  {
   "cell_type": "code",
   "execution_count": 69,
   "metadata": {},
   "outputs": [
    {
     "data": {
      "text/html": [
       "<pre class=language-r><code>function (x, quote = FALSE, max.levels = NULL, width = getOption(\"width\"), \n",
       "<span style=white-space:pre-wrap>    ...) </span>\n",
       "{\n",
       "<span style=white-space:pre-wrap>    ord &lt;- is.ordered(x)</span>\n",
       "<span style=white-space:pre-wrap>    if (length(x) == 0L) </span>\n",
       "<span style=white-space:pre-wrap>        cat(if (ord) </span>\n",
       "<span style=white-space:pre-wrap>            \"ordered\"</span>\n",
       "<span style=white-space:pre-wrap>        else \"factor\", \"(0)\\n\", sep = \"\")</span>\n",
       "<span style=white-space:pre-wrap>    else {</span>\n",
       "<span style=white-space:pre-wrap>        xx &lt;- x</span>\n",
       "<span style=white-space:pre-wrap>        class(xx) &lt;- NULL</span>\n",
       "<span style=white-space:pre-wrap>        levels(xx) &lt;- NULL</span>\n",
       "<span style=white-space:pre-wrap>        xx[] &lt;- as.character(x)</span>\n",
       "<span style=white-space:pre-wrap>        print(xx, quote = quote, ...)</span>\n",
       "<span style=white-space:pre-wrap>    }</span>\n",
       "<span style=white-space:pre-wrap>    maxl &lt;- if (is.null(max.levels)) </span>\n",
       "<span style=white-space:pre-wrap>        TRUE</span>\n",
       "<span style=white-space:pre-wrap>    else max.levels</span>\n",
       "<span style=white-space:pre-wrap>    if (maxl) {</span>\n",
       "<span style=white-space:pre-wrap>        n &lt;- length(lev &lt;- encodeString(levels(x), quote = ifelse(quote, </span>\n",
       "<span style=white-space:pre-wrap>            \"\\\"\", \"\")))</span>\n",
       "<span style=white-space:pre-wrap>        colsep &lt;- if (ord) </span>\n",
       "<span style=white-space:pre-wrap>            \" &lt; \"</span>\n",
       "<span style=white-space:pre-wrap>        else \" \"</span>\n",
       "<span style=white-space:pre-wrap>        T0 &lt;- \"Levels: \"</span>\n",
       "<span style=white-space:pre-wrap>        if (is.logical(maxl)) </span>\n",
       "<span style=white-space:pre-wrap>            maxl &lt;- {</span>\n",
       "<span style=white-space:pre-wrap>                width &lt;- width - (nchar(T0, \"w\") + 3L + 1L + </span>\n",
       "<span style=white-space:pre-wrap>                  3L)</span>\n",
       "<span style=white-space:pre-wrap>                lenl &lt;- cumsum(nchar(lev, \"w\") + nchar(colsep, </span>\n",
       "<span style=white-space:pre-wrap>                  \"w\"))</span>\n",
       "<span style=white-space:pre-wrap>                if (n &lt;= 1L || lenl[n] &lt;= width) </span>\n",
       "<span style=white-space:pre-wrap>                  n</span>\n",
       "<span style=white-space:pre-wrap>                else max(1L, which.max(lenl &gt; width) - 1L)</span>\n",
       "<span style=white-space:pre-wrap>            }</span>\n",
       "<span style=white-space:pre-wrap>        drop &lt;- n &gt; maxl</span>\n",
       "<span style=white-space:pre-wrap>        cat(if (drop) </span>\n",
       "<span style=white-space:pre-wrap>            paste(format(n), \"\"), T0, paste(if (drop) </span>\n",
       "<span style=white-space:pre-wrap>            c(lev[1L:max(1, maxl - 1)], \"...\", if (maxl &gt; 1) lev[n])</span>\n",
       "<span style=white-space:pre-wrap>        else lev, collapse = colsep), \"\\n\", sep = \"\")</span>\n",
       "<span style=white-space:pre-wrap>    }</span>\n",
       "<span style=white-space:pre-wrap>    invisible(x)</span>\n",
       "}</code></pre>"
      ],
      "text/latex": [
       "\\begin{minted}{r}\n",
       "function (x, quote = FALSE, max.levels = NULL, width = getOption(\"width\"), \n",
       "    ...) \n",
       "\\{\n",
       "    ord <- is.ordered(x)\n",
       "    if (length(x) == 0L) \n",
       "        cat(if (ord) \n",
       "            \"ordered\"\n",
       "        else \"factor\", \"(0)\\textbackslash{}n\", sep = \"\")\n",
       "    else \\{\n",
       "        xx <- x\n",
       "        class(xx) <- NULL\n",
       "        levels(xx) <- NULL\n",
       "        xx{[}{]} <- as.character(x)\n",
       "        print(xx, quote = quote, ...)\n",
       "    \\}\n",
       "    maxl <- if (is.null(max.levels)) \n",
       "        TRUE\n",
       "    else max.levels\n",
       "    if (maxl) \\{\n",
       "        n <- length(lev <- encodeString(levels(x), quote = ifelse(quote, \n",
       "            \"\\textbackslash{}\"\", \"\")))\n",
       "        colsep <- if (ord) \n",
       "            \" < \"\n",
       "        else \" \"\n",
       "        T0 <- \"Levels: \"\n",
       "        if (is.logical(maxl)) \n",
       "            maxl <- \\{\n",
       "                width <- width - (nchar(T0, \"w\") + 3L + 1L + \n",
       "                  3L)\n",
       "                lenl <- cumsum(nchar(lev, \"w\") + nchar(colsep, \n",
       "                  \"w\"))\n",
       "                if (n <= 1L \\textbar{}\\textbar{} lenl{[}n{]} <= width) \n",
       "                  n\n",
       "                else max(1L, which.max(lenl > width) - 1L)\n",
       "            \\}\n",
       "        drop <- n > maxl\n",
       "        cat(if (drop) \n",
       "            paste(format(n), \"\"), T0, paste(if (drop) \n",
       "            c(lev{[}1L:max(1, maxl - 1){]}, \"...\", if (maxl > 1) lev{[}n{]})\n",
       "        else lev, collapse = colsep), \"\\textbackslash{}n\", sep = \"\")\n",
       "    \\}\n",
       "    invisible(x)\n",
       "\\}\n",
       "\\end{minted}"
      ],
      "text/markdown": [
       "```r\n",
       "function (x, quote = FALSE, max.levels = NULL, width = getOption(\"width\"), \n",
       "    ...) \n",
       "{\n",
       "    ord <- is.ordered(x)\n",
       "    if (length(x) == 0L) \n",
       "        cat(if (ord) \n",
       "            \"ordered\"\n",
       "        else \"factor\", \"(0)\\n\", sep = \"\")\n",
       "    else {\n",
       "        xx <- x\n",
       "        class(xx) <- NULL\n",
       "        levels(xx) <- NULL\n",
       "        xx[] <- as.character(x)\n",
       "        print(xx, quote = quote, ...)\n",
       "    }\n",
       "    maxl <- if (is.null(max.levels)) \n",
       "        TRUE\n",
       "    else max.levels\n",
       "    if (maxl) {\n",
       "        n <- length(lev <- encodeString(levels(x), quote = ifelse(quote, \n",
       "            \"\\\"\", \"\")))\n",
       "        colsep <- if (ord) \n",
       "            \" < \"\n",
       "        else \" \"\n",
       "        T0 <- \"Levels: \"\n",
       "        if (is.logical(maxl)) \n",
       "            maxl <- {\n",
       "                width <- width - (nchar(T0, \"w\") + 3L + 1L + \n",
       "                  3L)\n",
       "                lenl <- cumsum(nchar(lev, \"w\") + nchar(colsep, \n",
       "                  \"w\"))\n",
       "                if (n <= 1L || lenl[n] <= width) \n",
       "                  n\n",
       "                else max(1L, which.max(lenl > width) - 1L)\n",
       "            }\n",
       "        drop <- n > maxl\n",
       "        cat(if (drop) \n",
       "            paste(format(n), \"\"), T0, paste(if (drop) \n",
       "            c(lev[1L:max(1, maxl - 1)], \"...\", if (maxl > 1) lev[n])\n",
       "        else lev, collapse = colsep), \"\\n\", sep = \"\")\n",
       "    }\n",
       "    invisible(x)\n",
       "}\n",
       "```"
      ],
      "text/plain": [
       "function (x, quote = FALSE, max.levels = NULL, width = getOption(\"width\"), \n",
       "    ...) \n",
       "{\n",
       "    ord <- is.ordered(x)\n",
       "    if (length(x) == 0L) \n",
       "        cat(if (ord) \n",
       "            \"ordered\"\n",
       "        else \"factor\", \"(0)\\n\", sep = \"\")\n",
       "    else {\n",
       "        xx <- x\n",
       "        class(xx) <- NULL\n",
       "        levels(xx) <- NULL\n",
       "        xx[] <- as.character(x)\n",
       "        print(xx, quote = quote, ...)\n",
       "    }\n",
       "    maxl <- if (is.null(max.levels)) \n",
       "        TRUE\n",
       "    else max.levels\n",
       "    if (maxl) {\n",
       "        n <- length(lev <- encodeString(levels(x), quote = ifelse(quote, \n",
       "            \"\\\"\", \"\")))\n",
       "        colsep <- if (ord) \n",
       "            \" < \"\n",
       "        else \" \"\n",
       "        T0 <- \"Levels: \"\n",
       "        if (is.logical(maxl)) \n",
       "            maxl <- {\n",
       "                width <- width - (nchar(T0, \"w\") + 3L + 1L + \n",
       "                  3L)\n",
       "                lenl <- cumsum(nchar(lev, \"w\") + nchar(colsep, \n",
       "                  \"w\"))\n",
       "                if (n <= 1L || lenl[n] <= width) \n",
       "                  n\n",
       "                else max(1L, which.max(lenl > width) - 1L)\n",
       "            }\n",
       "        drop <- n > maxl\n",
       "        cat(if (drop) \n",
       "            paste(format(n), \"\"), T0, paste(if (drop) \n",
       "            c(lev[1L:max(1, maxl - 1)], \"...\", if (maxl > 1) lev[n])\n",
       "        else lev, collapse = colsep), \"\\n\", sep = \"\")\n",
       "    }\n",
       "    invisible(x)\n",
       "}\n",
       "<bytecode: 0x3464340>\n",
       "<environment: namespace:base>"
      ]
     },
     "metadata": {},
     "output_type": "display_data"
    }
   ],
   "source": [
    "print.factor"
   ]
  },
  {
   "cell_type": "code",
   "execution_count": 70,
   "metadata": {},
   "outputs": [
    {
     "data": {
      "text/plain": [
       "  [1] print.acf*                                   \n",
       "  [2] print.AES*                                   \n",
       "  [3] print.anova*                                 \n",
       "  [4] print.aov*                                   \n",
       "  [5] print.aovlist*                               \n",
       "  [6] print.ar*                                    \n",
       "  [7] print.Arima*                                 \n",
       "  [8] print.arima0*                                \n",
       "  [9] print.AsIs                                   \n",
       " [10] print.aspell*                                \n",
       " [11] print.aspell_inspect_context*                \n",
       " [12] print.bibentry*                              \n",
       " [13] print.Bibtex*                                \n",
       " [14] print.browseVignettes*                       \n",
       " [15] print.by                                     \n",
       " [16] print.changedFiles*                          \n",
       " [17] print.check_code_usage_in_package*           \n",
       " [18] print.check_compiled_code*                   \n",
       " [19] print.check_demo_index*                      \n",
       " [20] print.check_depdef*                          \n",
       " [21] print.checkDocFiles*                         \n",
       " [22] print.checkDocStyle*                         \n",
       " [23] print.check_dotInternal*                     \n",
       " [24] print.checkFF*                               \n",
       " [25] print.check_make_vars*                       \n",
       " [26] print.check_nonAPI_calls*                    \n",
       " [27] print.check_package_code_assign_to_globalenv*\n",
       " [28] print.check_package_code_attach*             \n",
       " [29] print.check_package_code_data_into_globalenv*\n",
       " [30] print.check_package_code_startup_functions*  \n",
       " [31] print.check_package_code_syntax*             \n",
       " [32] print.check_package_code_unload_functions*   \n",
       " [33] print.check_package_compact_datasets*        \n",
       " [34] print.check_package_CRAN_incoming*           \n",
       " [35] print.check_package_datasets*                \n",
       " [36] print.check_package_depends*                 \n",
       " [37] print.check_package_description*             \n",
       " [38] print.check_package_description_encoding*    \n",
       " [39] print.check_package_license*                 \n",
       " [40] print.check_packages_in_dir*                 \n",
       " [41] print.check_packages_in_dir_changes*         \n",
       " [42] print.check_packages_used*                   \n",
       " [43] print.check_po_files*                        \n",
       " [44] print.checkRd*                               \n",
       " [45] print.check_Rd_contents*                     \n",
       " [46] print.check_Rd_line_widths*                  \n",
       " [47] print.check_Rd_metadata*                     \n",
       " [48] print.check_Rd_xrefs*                        \n",
       " [49] print.checkReplaceFuns*                      \n",
       " [50] print.checkS3methods*                        \n",
       " [51] print.check_so_symbols*                      \n",
       " [52] print.check_T_and_F*                         \n",
       " [53] print.checkTnF*                              \n",
       " [54] print.check_url_db*                          \n",
       " [55] print.check_vignette_index*                  \n",
       " [56] print.checkVignettes*                        \n",
       " [57] print.citation*                              \n",
       " [58] print.codoc*                                 \n",
       " [59] print.codocClasses*                          \n",
       " [60] print.codocData*                             \n",
       " [61] print.colorConverter*                        \n",
       " [62] print.compactPDF*                            \n",
       " [63] print.condition                              \n",
       " [64] print.connection                             \n",
       " [65] print.crayon*                                \n",
       " [66] print.data.frame                             \n",
       " [67] print.Date                                   \n",
       " [68] print.default                                \n",
       " [69] print.dendrogram*                            \n",
       " [70] print.density*                               \n",
       " [71] print.difftime                               \n",
       " [72] print.dist*                                  \n",
       " [73] print.Dlist                                  \n",
       " [74] print.DLLInfo                                \n",
       " [75] print.DLLInfoList                            \n",
       " [76] print.DLLRegisteredRoutines                  \n",
       " [77] print.dummy_coef*                            \n",
       " [78] print.dummy_coef_list*                       \n",
       " [79] print.ecdf*                                  \n",
       " [80] print.factanal*                              \n",
       " [81] print.factor                                 \n",
       " [82] print.family*                                \n",
       " [83] print.fileSnapshot*                          \n",
       " [84] print.findLineNumResult*                     \n",
       " [85] print.formula*                               \n",
       " [86] print.fseq*                                  \n",
       " [87] print.ftable*                                \n",
       " [88] print.function                               \n",
       " [89] print.getAnywhere*                           \n",
       " [90] print.glm*                                   \n",
       " [91] print.hclust*                                \n",
       " [92] print.help_files_with_topic*                 \n",
       " [93] print.hexmode                                \n",
       " [94] print.HoltWinters*                           \n",
       " [95] print.hsearch*                               \n",
       " [96] print.hsearch_db*                            \n",
       " [97] print.htest*                                 \n",
       " [98] print.infl*                                  \n",
       " [99] print.integrate*                             \n",
       "[100] print.isoreg*                                \n",
       "[101] print.json*                                  \n",
       "[102] print.kmeans*                                \n",
       "[103] print.Latex*                                 \n",
       "[104] print.LaTeX*                                 \n",
       "[105] print.libraryIQR                             \n",
       "[106] print.listof                                 \n",
       "[107] print.lm*                                    \n",
       "[108] print.loadings*                              \n",
       "[109] print.loess*                                 \n",
       "[110] print.logLik*                                \n",
       "[111] print.ls_str*                                \n",
       "[112] print.medpolish*                             \n",
       "[113] print.MethodsFunction*                       \n",
       "[114] print.mtable*                                \n",
       "[115] print.NativeRoutineList                      \n",
       "[116] print.news_db*                               \n",
       "[117] print.nls*                                   \n",
       "[118] print.noquote                                \n",
       "[119] print.numeric_version                        \n",
       "[120] print.object_size*                           \n",
       "[121] print.octmode                                \n",
       "[122] print.packageDescription*                    \n",
       "[123] print.packageInfo                            \n",
       "[124] print.packageIQR*                            \n",
       "[125] print.packageStatus*                         \n",
       "[126] print.pairwise.htest*                        \n",
       "[127] print.PDF_Array*                             \n",
       "[128] print.PDF_Dictionary*                        \n",
       "[129] print.pdf_doc*                               \n",
       "[130] print.pdf_fonts*                             \n",
       "[131] print.PDF_Indirect_Reference*                \n",
       "[132] print.pdf_info*                              \n",
       "[133] print.PDF_Keyword*                           \n",
       "[134] print.PDF_Name*                              \n",
       "[135] print.PDF_Stream*                            \n",
       "[136] print.PDF_String*                            \n",
       "[137] print.person*                                \n",
       "[138] print.POSIXct                                \n",
       "[139] print.POSIXlt                                \n",
       "[140] print.power.htest*                           \n",
       "[141] print.ppr*                                   \n",
       "[142] print.prcomp*                                \n",
       "[143] print.princomp*                              \n",
       "[144] print.proc_time                              \n",
       "[145] print.raster*                                \n",
       "[146] print.Rd*                                    \n",
       "[147] print.recordedplot*                          \n",
       "[148] print.restart                                \n",
       "[149] print.RGBcolorConverter*                     \n",
       "[150] print.rle                                    \n",
       "[151] print.roman*                                 \n",
       "[152] print.scalar*                                \n",
       "[153] print.sessionInfo*                           \n",
       "[154] print.simple.list                            \n",
       "[155] print.smooth.spline*                         \n",
       "[156] print.socket*                                \n",
       "[157] print.srcfile                                \n",
       "[158] print.srcref                                 \n",
       "[159] print.stepfun*                               \n",
       "[160] print.stl*                                   \n",
       "[161] print.StructTS*                              \n",
       "[162] print.subdir_tests*                          \n",
       "[163] print.summarize_CRAN_check_status*           \n",
       "[164] print.summary.aov*                           \n",
       "[165] print.summary.aovlist*                       \n",
       "[166] print.summaryDefault                         \n",
       "[167] print.summary.ecdf*                          \n",
       "[168] print.summary.glm*                           \n",
       "[169] print.summary.lm*                            \n",
       "[170] print.summary.loess*                         \n",
       "[171] print.summary.manova*                        \n",
       "[172] print.summary.nls*                           \n",
       "[173] print.summary.packageStatus*                 \n",
       "[174] print.summary.ppr*                           \n",
       "[175] print.summary.prcomp*                        \n",
       "[176] print.summary.princomp*                      \n",
       "[177] print.summary.table                          \n",
       "[178] print.table                                  \n",
       "[179] print.tables_aov*                            \n",
       "[180] print.terms*                                 \n",
       "[181] print.ts*                                    \n",
       "[182] print.tskernel*                              \n",
       "[183] print.TukeyHSD*                              \n",
       "[184] print.tukeyline*                             \n",
       "[185] print.tukeysmooth*                           \n",
       "[186] print.undoc*                                 \n",
       "[187] print.vignette                               \n",
       "[188] print.warnings                               \n",
       "[189] print.xgettext*                              \n",
       "[190] print.xngettext*                             \n",
       "[191] print.xtabs*                                 \n",
       "see '?methods' for accessing help and source code"
      ]
     },
     "metadata": {},
     "output_type": "display_data"
    }
   ],
   "source": [
    "methods(print)"
   ]
  },
  {
   "cell_type": "code",
   "execution_count": 71,
   "metadata": {},
   "outputs": [],
   "source": [
    "class(one_play) <- \"slots\""
   ]
  },
  {
   "cell_type": "code",
   "execution_count": 85,
   "metadata": {},
   "outputs": [],
   "source": [
    "print.slots <- function(x,...){\n",
    "  #  cat(\"slots method using now\"）\n",
    "    slot_display(x)\n",
    "}"
   ]
  },
  {
   "cell_type": "code",
   "execution_count": 86,
   "metadata": {},
   "outputs": [
    {
     "name": "stdout",
     "output_type": "stream",
     "text": [
      "B 0 B\n",
      "$0"
     ]
    }
   ],
   "source": [
    "print(one_play)"
   ]
  },
  {
   "cell_type": "code",
   "execution_count": 87,
   "metadata": {},
   "outputs": [
    {
     "data": {
      "text/html": [
       "'numeric'"
      ],
      "text/latex": [
       "'numeric'"
      ],
      "text/markdown": [
       "'numeric'"
      ],
      "text/plain": [
       "[1] \"numeric\""
      ]
     },
     "metadata": {},
     "output_type": "display_data"
    }
   ],
   "source": [
    "class(play())"
   ]
  },
  {
   "cell_type": "code",
   "execution_count": null,
   "metadata": {},
   "outputs": [],
   "source": []
  },
  {
   "cell_type": "code",
   "execution_count": null,
   "metadata": {},
   "outputs": [],
   "source": []
  },
  {
   "cell_type": "code",
   "execution_count": null,
   "metadata": {},
   "outputs": [],
   "source": []
  },
  {
   "cell_type": "code",
   "execution_count": null,
   "metadata": {},
   "outputs": [],
   "source": []
  },
  {
   "cell_type": "code",
   "execution_count": null,
   "metadata": {},
   "outputs": [],
   "source": []
  },
  {
   "cell_type": "code",
   "execution_count": null,
   "metadata": {},
   "outputs": [],
   "source": []
  },
  {
   "cell_type": "code",
   "execution_count": null,
   "metadata": {},
   "outputs": [],
   "source": []
  },
  {
   "cell_type": "code",
   "execution_count": null,
   "metadata": {},
   "outputs": [],
   "source": []
  },
  {
   "cell_type": "code",
   "execution_count": null,
   "metadata": {},
   "outputs": [],
   "source": []
  },
  {
   "cell_type": "code",
   "execution_count": null,
   "metadata": {},
   "outputs": [],
   "source": []
  },
  {
   "cell_type": "code",
   "execution_count": null,
   "metadata": {},
   "outputs": [],
   "source": []
  }
 ],
 "metadata": {
  "kernelspec": {
   "display_name": "R",
   "language": "R",
   "name": "ir"
  },
  "language_info": {
   "codemirror_mode": "r",
   "file_extension": ".r",
   "mimetype": "text/x-r-source",
   "name": "R",
   "pygments_lexer": "r",
   "version": "3.2.3"
  }
 },
 "nbformat": 4,
 "nbformat_minor": 2
}
