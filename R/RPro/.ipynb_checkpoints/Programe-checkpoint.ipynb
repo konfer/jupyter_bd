{
 "cells": [
  {
   "cell_type": "code",
   "execution_count": 1,
   "metadata": {},
   "outputs": [],
   "source": [
    "get_symbols <- function(){\n",
    "    wheel <- c(\"DD\",\"7\",\"BBB\",\"BB\",\"B\",\"C\",\"0\")\n",
    "    sample(wheel,size=3,replace=TRUE,prob=c(0.03,0.03,0.06,0.1,0.25,0.01,0.52))\n",
    "}"
   ]
  },
  {
   "cell_type": "code",
   "execution_count": 2,
   "metadata": {
    "scrolled": true
   },
   "outputs": [
    {
     "data": {
      "text/html": [
       "<ol class=list-inline>\n",
       "\t<li>'0'</li>\n",
       "\t<li>'0'</li>\n",
       "\t<li>'BB'</li>\n",
       "</ol>\n"
      ],
      "text/latex": [
       "\\begin{enumerate*}\n",
       "\\item '0'\n",
       "\\item '0'\n",
       "\\item 'BB'\n",
       "\\end{enumerate*}\n"
      ],
      "text/markdown": [
       "1. '0'\n",
       "2. '0'\n",
       "3. 'BB'\n",
       "\n",
       "\n"
      ],
      "text/plain": [
       "[1] \"0\"  \"0\"  \"BB\""
      ]
     },
     "metadata": {},
     "output_type": "display_data"
    }
   ],
   "source": [
    "get_symbols()"
   ]
  },
  {
   "cell_type": "code",
   "execution_count": 3,
   "metadata": {},
   "outputs": [
    {
     "data": {
      "text/html": [
       "<table>\n",
       "<tbody>\n",
       "\t<tr><td>0</td><td>B</td><td>0</td></tr>\n",
       "\t<tr><td>0</td><td>B</td><td>B</td></tr>\n",
       "\t<tr><td>B</td><td>B</td><td>B</td></tr>\n",
       "</tbody>\n",
       "</table>\n"
      ],
      "text/latex": [
       "\\begin{tabular}{lll}\n",
       "\t 0 & B & 0\\\\\n",
       "\t 0 & B & B\\\\\n",
       "\t B & B & B\\\\\n",
       "\\end{tabular}\n"
      ],
      "text/markdown": [
       "\n",
       "| 0 | B | 0 | \n",
       "| 0 | B | B | \n",
       "| B | B | B | \n",
       "\n",
       "\n"
      ],
      "text/plain": [
       "     [,1] [,2] [,3]\n",
       "[1,] 0    B    0   \n",
       "[2,] 0    B    B   \n",
       "[3,] B    B    B   "
      ]
     },
     "metadata": {},
     "output_type": "display_data"
    }
   ],
   "source": [
    "replicate(3,get_symbols())"
   ]
  },
  {
   "cell_type": "code",
   "execution_count": 4,
   "metadata": {},
   "outputs": [],
   "source": [
    "payouts <- c(\"DD\"=100,\"7\"=80,\"BBB\"=40,\"BB\"=25,\n",
    "             \"B\"=10,\"C\"=10,\"0\"=0)"
   ]
  },
  {
   "cell_type": "code",
   "execution_count": 5,
   "metadata": {},
   "outputs": [
    {
     "data": {
      "text/html": [
       "<dl class=dl-horizontal>\n",
       "\t<dt>DD</dt>\n",
       "\t\t<dd>100</dd>\n",
       "\t<dt>7</dt>\n",
       "\t\t<dd>80</dd>\n",
       "\t<dt>BBB</dt>\n",
       "\t\t<dd>40</dd>\n",
       "\t<dt>BB</dt>\n",
       "\t\t<dd>25</dd>\n",
       "\t<dt>B</dt>\n",
       "\t\t<dd>10</dd>\n",
       "\t<dt>C</dt>\n",
       "\t\t<dd>10</dd>\n",
       "\t<dt>0</dt>\n",
       "\t\t<dd>0</dd>\n",
       "</dl>\n"
      ],
      "text/latex": [
       "\\begin{description*}\n",
       "\\item[DD] 100\n",
       "\\item[7] 80\n",
       "\\item[BBB] 40\n",
       "\\item[BB] 25\n",
       "\\item[B] 10\n",
       "\\item[C] 10\n",
       "\\item[0] 0\n",
       "\\end{description*}\n"
      ],
      "text/markdown": [
       "DD\n",
       ":   1007\n",
       ":   80BBB\n",
       ":   40BB\n",
       ":   25B\n",
       ":   10C\n",
       ":   100\n",
       ":   0\n",
       "\n"
      ],
      "text/plain": [
       " DD   7 BBB  BB   B   C   0 \n",
       "100  80  40  25  10  10   0 "
      ]
     },
     "metadata": {},
     "output_type": "display_data"
    }
   ],
   "source": [
    "payouts"
   ]
  },
  {
   "cell_type": "code",
   "execution_count": 9,
   "metadata": {},
   "outputs": [],
   "source": [
    "score <- function(symbols){\n",
    "    same <- symbols[1] == symbols[2] && symbols[2] == symbols[3] \n",
    "    bars <- symbols %in% c(\"B\", \"BB\", \"BBB\")  \n",
    "    if (same) {   \n",
    "        payouts <- c(\"DD\" = 100, \"7\" = 80, \"BBB\" = 40, \"BB\" = 25,     \n",
    "                     \"B\" = 10, \"C\" = 10, \"0\" = 0)   \n",
    "        prize <- unname(payouts[symbols[1]]) \n",
    "    } else if (all(bars)) {\n",
    "        prize <- 5\n",
    "    } else {   \n",
    "        cherries <- sum(symbols == \"C\")    \n",
    "        prize <- c(0, 2, 5)[cherries + 1] \n",
    "    }\n",
    "    \n",
    "    diamonds <- sum(symbols == \"DD\") \n",
    "    prize * 2 ^ diamonds\n",
    "}"
   ]
  },
  {
   "cell_type": "code",
   "execution_count": 10,
   "metadata": {},
   "outputs": [],
   "source": [
    "play <- function(){\n",
    "    symbols <- get_symbols()\n",
    "    print(symbols)\n",
    "    score(symbols)\n",
    "}"
   ]
  },
  {
   "cell_type": "code",
   "execution_count": 13,
   "metadata": {},
   "outputs": [
    {
     "ename": "ERROR",
     "evalue": "Error in eval(expr, envir, enclos): could not find function \"complicate\"\n",
     "output_type": "error",
     "traceback": [
      "Error in eval(expr, envir, enclos): could not find function \"complicate\"\nTraceback:\n"
     ]
    }
   ],
   "source": [
    "complicate(play(),5)"
   ]
  },
  {
   "cell_type": "code",
   "execution_count": 15,
   "metadata": {},
   "outputs": [
    {
     "name": "stdout",
     "output_type": "stream",
     "text": [
      "[1] \"BB\" \"BB\" \"0\" \n",
      "[1] \"B\" \"0\" \"B\"\n",
      "[1] \"0\"  \"0\"  \"BB\"\n",
      "[1] \"B\" \"0\" \"0\"\n",
      "[1] \"0\"  \"BB\" \"BB\"\n"
     ]
    },
    {
     "data": {
      "text/html": [
       "<ol class=list-inline>\n",
       "\t<li>0</li>\n",
       "\t<li>0</li>\n",
       "\t<li>0</li>\n",
       "\t<li>0</li>\n",
       "\t<li>0</li>\n",
       "</ol>\n"
      ],
      "text/latex": [
       "\\begin{enumerate*}\n",
       "\\item 0\n",
       "\\item 0\n",
       "\\item 0\n",
       "\\item 0\n",
       "\\item 0\n",
       "\\end{enumerate*}\n"
      ],
      "text/markdown": [
       "1. 0\n",
       "2. 0\n",
       "3. 0\n",
       "4. 0\n",
       "5. 0\n",
       "\n",
       "\n"
      ],
      "text/plain": [
       "[1] 0 0 0 0 0"
      ]
     },
     "metadata": {},
     "output_type": "display_data"
    }
   ],
   "source": [
    "replicate(5,play())"
   ]
  },
  {
   "cell_type": "code",
   "execution_count": null,
   "metadata": {},
   "outputs": [],
   "source": []
  }
 ],
 "metadata": {
  "kernelspec": {
   "display_name": "R",
   "language": "R",
   "name": "ir"
  },
  "language_info": {
   "codemirror_mode": "r",
   "file_extension": ".r",
   "mimetype": "text/x-r-source",
   "name": "R",
   "pygments_lexer": "r",
   "version": "3.2.3"
  }
 },
 "nbformat": 4,
 "nbformat_minor": 2
}
