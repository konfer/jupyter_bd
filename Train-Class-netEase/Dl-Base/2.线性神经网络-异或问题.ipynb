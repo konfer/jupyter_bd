{
 "cells": [
  {
   "cell_type": "code",
   "execution_count": 38,
   "metadata": {
    "collapsed": false
   },
   "outputs": [],
   "source": [
    "import numpy as np\n",
    "import matplotlib.pyplot as plt"
   ]
  },
  {
   "cell_type": "code",
   "execution_count": 39,
   "metadata": {
    "collapsed": false
   },
   "outputs": [],
   "source": [
    "# 输入数据\n",
    "# 4个数据分别对应0与0异或，0与1异或，1与0异或，1与1异或\n",
    "X = np.array([[1,0,0],\n",
    "              [1,0,1],\n",
    "              [1,1,0],  \n",
    "              [1,1,1]])\n",
    "# 标签，分别对应4种异或情况的结果\n",
    "# 注意这里我们使用-1作为负标签\n",
    "T = np.array([[-1],\n",
    "              [1],\n",
    "              [1],\n",
    "              [-1]])\n",
    "\n",
    "# 权值初始化，3行1列\n",
    "# np.random.random可以生成0-1的随机数\n",
    "W = np.random.random([3,1])\n",
    "\n",
    "# 学习率设置\n",
    "lr = 0.1\n",
    "# 神经网络输出\n",
    "Y = 0\n",
    "\n",
    "# 更新一次权值\n",
    "def train():\n",
    "    # 使用全局变量X,Y,W,lr\n",
    "    global X,Y,W,lr\n",
    "    # 计算网络预测值\n",
    "    Y = np.dot(X,W)\n",
    "    # 计算权值的改变\n",
    "    delta_W = lr * (X.T.dot(T - Y)) / X.shape[0]\n",
    "    # 更新权值\n",
    "    W = W + delta_W"
   ]
  },
  {
   "cell_type": "code",
   "execution_count": 40,
   "metadata": {
    "collapsed": false
   },
   "outputs": [
    {
     "data": {
      "image/png": "[encoded data removed]",
      "text/plain": [
       "<matplotlib.figure.Figure at 0x1f41b5f0e48>"
      ]
     },
     "metadata": {},
     "output_type": "display_data"
    }
   ],
   "source": [
    "# 训练100次\n",
    "for i in range(100):\n",
    "    #更新一次权值\n",
    "    train()\n",
    "\n",
    "#————————以下为画图部分————————#\n",
    "# 正样本\n",
    "x1 = [0,1]\n",
    "y1 = [1,0]\n",
    "# 负样本\n",
    "x2 = [0,1]\n",
    "y2 = [0,1]\n",
    "\n",
    "#计算分界线的斜率以及截距\n",
    "k = - W[1] / W[2]\n",
    "d = - W[0] / W[2]\n",
    "\n",
    "# 设定两个点\n",
    "xdata = (-2,3)\n",
    "# 通过两个点来确定一条直线，用红色的线来画出分界线\n",
    "plt.plot(xdata,xdata * k + d,'r')\n",
    "# 用蓝色的点画出正样本\n",
    "plt.scatter(x1,y1,c='b')\n",
    "# 用黄色的点来画出负样本\n",
    "plt.scatter(x2,y2,c='y')\n",
    "# 显示图案\n",
    "plt.show()"
   ]
  },
  {
   "cell_type": "code",
   "execution_count": null,
   "metadata": {
    "collapsed": true
   },
   "outputs": [],
   "source": []
  },
  {
   "cell_type": "code",
   "execution_count": null,
   "metadata": {
    "collapsed": true
   },
   "outputs": [],
   "source": []
  },
  {
   "cell_type": "code",
   "execution_count": null,
   "metadata": {
    "collapsed": true
   },
   "outputs": [],
   "source": []
  }
 ],
 "metadata": {
  "anaconda-cloud": {},
  "kernelspec": {
   "display_name": "Python [default]",
   "language": "python",
   "name": "python3"
  },
  "language_info": {
   "codemirror_mode": {
    "name": "ipython",
    "version": 3
   },
   "file_extension": ".py",
   "mimetype": "text/x-python",
   "name": "python",
   "nbconvert_exporter": "python",
   "pygments_lexer": "ipython3",
   "version": "3.5.2"
  }
 },
 "nbformat": 4,
 "nbformat_minor": 1
}
