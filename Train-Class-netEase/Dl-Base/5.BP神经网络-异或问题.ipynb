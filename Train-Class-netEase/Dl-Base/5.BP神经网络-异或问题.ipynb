{
 "cells": [
  {
   "cell_type": "code",
   "execution_count": 1,
   "metadata": {
    "collapsed": true
   },
   "outputs": [],
   "source": [
    "import numpy as np"
   ]
  },
  {
   "cell_type": "code",
   "execution_count": 2,
   "metadata": {
    "collapsed": true
   },
   "outputs": [],
   "source": [
    "# 输入数据\n",
    "X = np.array([[1,0,0],\n",
    "              [1,0,1],\n",
    "              [1,1,0],\n",
    "              [1,1,1]])\n",
    "# 标签\n",
    "Y = np.array([[0],\n",
    "              [1],\n",
    "              [1],\n",
    "              [0]])\n",
    "# 3-10-1\n",
    "# 取值范围-1到1\n",
    "V = np.random.random([3,10]) * 2 - 1\n",
    "W = np.random.random([10,1]) * 2 - 1\n",
    "# 学习率\n",
    "lr = 0.11 "
   ]
  },
  {
   "cell_type": "code",
   "execution_count": 4,
   "metadata": {
    "collapsed": false
   },
   "outputs": [],
   "source": [
    "def sigmoid(x):\n",
    "    return 1/(1+np.exp(-x))\n",
    "\n",
    "def dsigmoid(x):\n",
    "    return x*(1-x)\n",
    "\n",
    "# 权值调整函数\n",
    "def update():\n",
    "    global V,W\n",
    "    \n",
    "    # 求每一层的输出\n",
    "    L1 = sigmoid(np.dot(X,V))\n",
    "    L2 = sigmoid(np.dot(L1,W))\n",
    "    \n",
    "    # 求每一层的学习信号\n",
    "    L2_delta = (Y-L2)*dsigmoid(L2)\n",
    "    L1_delta = L2_delta.dot(W.T)*dsigmoid(L1)\n",
    "    \n",
    "    # 求每一层权值的变化\n",
    "    delta_W = lr*L1.T.dot(L2_delta)\n",
    "    delta_V = lr*X.T.dot(L1_delta)\n",
    "    \n",
    "    # 改变权值\n",
    "    W = W + delta_W\n",
    "    V = V + delta_V"
   ]
  },
  {
   "cell_type": "code",
   "execution_count": 5,
   "metadata": {
    "collapsed": false
   },
   "outputs": [
    {
     "name": "stdout",
     "output_type": "stream",
     "text": [
      "loss: 0.12729625103407408\n",
      "loss: 0.12365767199509753\n",
      "loss: 0.11953763589922868\n",
      "loss: 0.10161351021432907\n",
      "loss: 0.04948069740979447\n",
      "loss: 0.0178884743374615\n",
      "loss: 0.008649812398628774\n",
      "loss: 0.005248399346514911\n",
      "loss: 0.00363049871251231\n",
      "loss: 0.002721289106677365\n",
      "loss: 0.002150954402448612\n",
      "loss: 0.0017647625381242563\n",
      "loss: 0.0014882600818074518\n",
      "loss: 0.001281741047184799\n",
      "loss: 0.0011223058823542544\n",
      "loss: 0.0009959117106565637\n",
      "loss: 0.0008935114481720372\n",
      "loss: 0.0008090358621888798\n",
      "loss: 0.0007382735964365276\n",
      "loss: 0.0006782177164619286\n",
      "loss: 0.0006266679997923586\n"
     ]
    }
   ],
   "source": [
    "for i in range(10001):\n",
    "    # 更新权值\n",
    "    update()\n",
    "    if i%500==0:\n",
    "        # 求每一层的输出\n",
    "        L1 = sigmoid(np.dot(X,V))\n",
    "        L2 = sigmoid(np.dot(L1,W))\n",
    "        loss = np.mean(np.square(Y-L2)/2)\n",
    "        print('loss:',loss)"
   ]
  },
  {
   "cell_type": "code",
   "execution_count": 6,
   "metadata": {
    "collapsed": false
   },
   "outputs": [
    {
     "name": "stdout",
     "output_type": "stream",
     "text": [
      "[[0.02874907]\n",
      " [0.9605952 ]\n",
      " [0.96767243]\n",
      " [0.03986258]]\n"
     ]
    }
   ],
   "source": [
    "L1 = sigmoid(np.dot(X,V))\n",
    "L2 = sigmoid(np.dot(L1,W))\n",
    "print(L2)"
   ]
  },
  {
   "cell_type": "code",
   "execution_count": 7,
   "metadata": {
    "collapsed": false
   },
   "outputs": [
    {
     "name": "stdout",
     "output_type": "stream",
     "text": [
      "0\n",
      "1\n",
      "1\n",
      "0\n"
     ]
    }
   ],
   "source": [
    "def judge(x):\n",
    "    if x>=0.5:\n",
    "        return 1\n",
    "    else:\n",
    "        return 0\n",
    "\n",
    "for i in map(judge,L2):\n",
    "    print(i)"
   ]
  },
  {
   "cell_type": "code",
   "execution_count": null,
   "metadata": {
    "collapsed": true
   },
   "outputs": [],
   "source": []
  }
 ],
 "metadata": {
  "kernelspec": {
   "display_name": "Python [default]",
   "language": "python",
   "name": "python3"
  },
  "language_info": {
   "codemirror_mode": {
    "name": "ipython",
    "version": 3
   },
   "file_extension": ".py",
   "mimetype": "text/x-python",
   "name": "python",
   "nbconvert_exporter": "python",
   "pygments_lexer": "ipython3",
   "version": "3.5.2"
  }
 },
 "nbformat": 4,
 "nbformat_minor": 1
}
