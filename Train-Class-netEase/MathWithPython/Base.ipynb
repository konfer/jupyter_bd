{
 "cells": [
  {
   "cell_type": "code",
   "execution_count": 2,
   "metadata": {},
   "outputs": [],
   "source": [
    "import matplotlib.pyplot as plt\n",
    "import numpy as np\n",
    "import pandas as pd"
   ]
  },
  {
   "cell_type": "code",
   "execution_count": 4,
   "metadata": {},
   "outputs": [
    {
     "ename": "NameError",
     "evalue": "name 'x' is not defined",
     "output_type": "error",
     "traceback": [
      "\u001b[0;31m---------------------------------------------------------------------------\u001b[0m",
      "\u001b[0;31mNameError\u001b[0m                                 Traceback (most recent call last)",
      "\u001b[0;32m<ipython-input-4-915db354dfc0>\u001b[0m in \u001b[0;36m<module>\u001b[0;34m()\u001b[0m\n\u001b[0;32m----> 1\u001b[0;31m \u001b[0mplt\u001b[0m\u001b[0;34m.\u001b[0m\u001b[0mplot\u001b[0m\u001b[0;34m(\u001b[0m\u001b[0mx\u001b[0m\u001b[0;34m,\u001b[0m\u001b[0msin\u001b[0m\u001b[0;34m(\u001b[0m\u001b[0mx\u001b[0m\u001b[0;34m)\u001b[0m\u001b[0;34m)\u001b[0m\u001b[0;34m\u001b[0m\u001b[0m\n\u001b[0m",
      "\u001b[0;31mNameError\u001b[0m: name 'x' is not defined"
     ]
    }
   ],
   "source": [
    "plt.plot(x,sin(x))"
   ]
  },
  {
   "cell_type": "code",
   "execution_count": 3,
   "metadata": {},
   "outputs": [],
   "source": [
    "x=np.linspace(-np.pi,2*np.pi,num=50)"
   ]
  },
  {
   "cell_type": "code",
   "execution_count": 4,
   "metadata": {},
   "outputs": [
    {
     "data": {
      "text/plain": [
       "array([-3.14159265, -2.94925025, -2.75690784, -2.56456543, -2.37222302,\n",
       "       -2.17988062, -1.98753821, -1.7951958 , -1.60285339, -1.41051099,\n",
       "       -1.21816858, -1.02582617, -0.83348377, -0.64114136, -0.44879895,\n",
       "       -0.25645654, -0.06411414,  0.12822827,  0.32057068,  0.51291309,\n",
       "        0.70525549,  0.8975979 ,  1.08994031,  1.28228272,  1.47462512,\n",
       "        1.66696753,  1.85930994,  2.05165235,  2.24399475,  2.43633716,\n",
       "        2.62867957,  2.82102197,  3.01336438,  3.20570679,  3.3980492 ,\n",
       "        3.5903916 ,  3.78273401,  3.97507642,  4.16741883,  4.35976123,\n",
       "        4.55210364,  4.74444605,  4.93678846,  5.12913086,  5.32147327,\n",
       "        5.51381568,  5.70615809,  5.89850049,  6.0908429 ,  6.28318531])"
      ]
     },
     "execution_count": 4,
     "metadata": {},
     "output_type": "execute_result"
    }
   ],
   "source": [
    "x"
   ]
  },
  {
   "cell_type": "code",
   "execution_count": 5,
   "metadata": {},
   "outputs": [],
   "source": [
    "y=x**2"
   ]
  },
  {
   "cell_type": "code",
   "execution_count": 6,
   "metadata": {},
   "outputs": [
    {
     "data": {
      "text/plain": [
       "array([9.86960440e+00, 8.69807701e+00, 7.60054083e+00, 6.57699585e+00,\n",
       "       5.62744208e+00, 4.75187950e+00, 3.95030813e+00, 3.22272797e+00,\n",
       "       2.56913900e+00, 1.98954125e+00, 1.48393469e+00, 1.05231934e+00,\n",
       "       6.94695187e-01, 4.11062241e-01, 2.01420498e-01, 6.57699585e-02,\n",
       "       4.11062241e-03, 1.64424896e-02, 1.02765560e-01, 2.63079834e-01,\n",
       "       4.97385311e-01, 8.05681992e-01, 1.18796988e+00, 1.64424896e+00,\n",
       "       2.17451925e+00, 2.77878075e+00, 3.45703344e+00, 4.20927735e+00,\n",
       "       5.03551245e+00, 5.93573876e+00, 6.90995627e+00, 7.95816498e+00,\n",
       "       9.08036490e+00, 1.02765560e+01, 1.15467383e+01, 1.28909119e+01,\n",
       "       1.43090766e+01, 1.58012325e+01, 1.73673797e+01, 1.90075180e+01,\n",
       "       2.07216476e+01, 2.25097683e+01, 2.43718803e+01, 2.63079834e+01,\n",
       "       2.83180778e+01, 3.04021633e+01, 3.25602401e+01, 3.47923081e+01,\n",
       "       3.70983672e+01, 3.94784176e+01])"
      ]
     },
     "execution_count": 6,
     "metadata": {},
     "output_type": "execute_result"
    }
   ],
   "source": [
    "y"
   ]
  },
  {
   "cell_type": "code",
   "execution_count": 8,
   "metadata": {},
   "outputs": [
    {
     "data": {
      "image/png": "[encoded data removed]",
      "text/plain": [
       "<Figure size 432x288 with 1 Axes>"
      ]
     },
     "metadata": {},
     "output_type": "display_data"
    }
   ],
   "source": [
    "plt.scatter(x,y)\n",
    "plt.plot(x,y)\n",
    "plt.show()"
   ]
  },
  {
   "cell_type": "code",
   "execution_count": 9,
   "metadata": {},
   "outputs": [],
   "source": [
    "logNum=2"
   ]
  },
  {
   "cell_type": "code",
   "execution_count": 17,
   "metadata": {},
   "outputs": [],
   "source": [
    "logY=logNum**x"
   ]
  },
  {
   "cell_type": "code",
   "execution_count": 18,
   "metadata": {},
   "outputs": [
    {
     "data": {
      "image/png": "[encoded data removed]",
      "text/plain": [
       "<Figure size 432x288 with 1 Axes>"
      ]
     },
     "metadata": {},
     "output_type": "display_data"
    }
   ],
   "source": [
    "plt.scatter(x,logY)\n",
    "plt.plot(x,logY)\n",
    "plt.show()"
   ]
  },
  {
   "cell_type": "code",
   "execution_count": null,
   "metadata": {},
   "outputs": [],
   "source": []
  }
 ],
 "metadata": {
  "kernelspec": {
   "display_name": "Python 3",
   "language": "python",
   "name": "python3"
  },
  "language_info": {
   "codemirror_mode": {
    "name": "ipython",
    "version": 3
   },
   "file_extension": ".py",
   "mimetype": "text/x-python",
   "name": "python",
   "nbconvert_exporter": "python",
   "pygments_lexer": "ipython3",
   "version": "3.5.2"
  }
 },
 "nbformat": 4,
 "nbformat_minor": 2
}
