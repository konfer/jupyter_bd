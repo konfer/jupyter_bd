{
 "cells": [
  {
   "cell_type": "code",
   "execution_count": 2,
   "metadata": {
    "collapsed": true
   },
   "outputs": [],
   "source": [
    "import numpy as np\n",
    "import pandas as pd\n",
    "import matplotlib.pyplot as plt\n",
    "% matplotlib inline\n",
    "# 导入模块\n",
    "\n",
    "import warnings\n",
    "warnings.filterwarnings('ignore') \n",
    "# 不发出警告"
   ]
  },
  {
   "cell_type": "markdown",
   "metadata": {},
   "source": [
    "2.3.1 矩阵变换"
   ]
  },
  {
   "cell_type": "code",
   "execution_count": 14,
   "metadata": {
    "collapsed": false
   },
   "outputs": [
    {
     "name": "stdout",
     "output_type": "stream",
     "text": [
      "该方程的四个根为：x1=1.67, x2=0.786, x3=-2.82, x4=-3.00\n"
     ]
    }
   ],
   "source": [
    "a = np.array([\n",
    "        [2,-1,-1,1],\n",
    "        [1,1,-2,1],\n",
    "        [4,-6,2,-2],\n",
    "        [3,6,-9,7]\n",
    "    ])\n",
    "a1 = np.array([\n",
    "        [2,-1,-1,1],\n",
    "        [4,1,-2,1],\n",
    "        [4,-6,2,-2],\n",
    "        [9,6,-9,7]\n",
    "    ])\n",
    "a2 = np.array([\n",
    "        [2,2,-1,1],\n",
    "        [1,4,-2,1],\n",
    "        [4,4,2,-2],\n",
    "        [3,9,-9,7]\n",
    "    ])\n",
    "a3 = np.array([\n",
    "        [2,-1,2,1],\n",
    "        [1,1,4,1],\n",
    "        [4,-6,4,-2],\n",
    "        [3,6,9,7]\n",
    "    ])\n",
    "a4 = np.array([\n",
    "        [2,-1,-1,2],\n",
    "        [1,1,-2,4],\n",
    "        [4,-6,2,4],\n",
    "        [3,6,-9,9]\n",
    "    ])\n",
    "\n",
    "x1 = np.linalg.det(a1)/np.linalg.det(a)\n",
    "x2 = np.linalg.det(a2)/np.linalg.det(a)\n",
    "x3 = np.linalg.det(a3)/np.linalg.det(a)\n",
    "x4 = np.linalg.det(a4)/np.linalg.det(a)\n",
    "\n",
    "print('该方程的四个根为：x1=%.2f, x2=%.2f, x3=%.2f, x4=%.2f' % (x1,x2,x3,x4))"
   ]
  },
  {
   "cell_type": "code",
   "execution_count": 4,
   "metadata": {
    "collapsed": false
   },
   "outputs": [
    {
     "name": "stdout",
     "output_type": "stream",
     "text": [
      "[[ 6.  3.  4.]\n",
      " [ 4.  2.  3.]\n",
      " [ 9.  4.  6.]]\n"
     ]
    },
    {
     "data": {
      "text/plain": [
       "1.0000000000000013"
      ]
     },
     "execution_count": 4,
     "metadata": {},
     "output_type": "execute_result"
    }
   ],
   "source": [
    "a = np.array([\n",
    "        [0,-2,1],\n",
    "        [3,0,-2],\n",
    "        [-2,3,0]\n",
    "    ])\n",
    "\n",
    "print(np.linalg.inv(a))\n",
    "np.linalg.det(a)"
   ]
  },
  {
   "cell_type": "markdown",
   "metadata": {},
   "source": [
    "2.3.2 线性方程组"
   ]
  },
  {
   "cell_type": "code",
   "execution_count": 7,
   "metadata": {
    "collapsed": false
   },
   "outputs": [
    {
     "name": "stdout",
     "output_type": "stream",
     "text": [
      "2 3\n"
     ]
    }
   ],
   "source": [
    "# 计算秩\n",
    "\n",
    "a = np.array([\n",
    "        [1,2,3],\n",
    "        [2,3,-5],\n",
    "        [4,7,1]\n",
    "    ])\n",
    "b = np.array([\n",
    "        [3,2,0,5,0],\n",
    "        [3,-2,3,6,-1],\n",
    "        [2,0,1,5,-3],\n",
    "        [1,6,-4,-1,4]\n",
    "    ])\n",
    "r1 = np.linalg.matrix_rank(a)\n",
    "r2 = np.linalg.matrix_rank(b)\n",
    "\n",
    "print(r1,r2)"
   ]
  },
  {
   "cell_type": "code",
   "execution_count": 10,
   "metadata": {
    "collapsed": false
   },
   "outputs": [
    {
     "name": "stdout",
     "output_type": "stream",
     "text": [
      "4 3 3\n"
     ]
    }
   ],
   "source": [
    "# 例子\n",
    "a = np.array([\n",
    "        [1,2,2,3],\n",
    "        [2,1,-2,-2],\n",
    "        [1,-2,-4,-3]\n",
    "    ])\n",
    "ab = np.array([\n",
    "        [1,2,2,3,0],\n",
    "        [2,1,-2,-2,0],\n",
    "        [1,-2,-4,-3,0]\n",
    "    ])\n",
    "n = 4\n",
    "ra = np.linalg.matrix_rank(a)\n",
    "rab = np.linalg.matrix_rank(ab)\n",
    "\n",
    "print(n,ra,rab)"
   ]
  },
  {
   "cell_type": "code",
   "execution_count": 11,
   "metadata": {
    "collapsed": false
   },
   "outputs": [
    {
     "name": "stdout",
     "output_type": "stream",
     "text": [
      "[[ 1.  1. -2. -4.]\n",
      " [ 0.  1.  0. -1.]\n",
      " [-1. -1.  3.  6.]\n",
      " [ 2.  1. -6. -10.]]\n"
     ]
    },
    {
     "data": {
      "text/plain": [
       "1.0000000000000004"
      ]
     },
     "execution_count": 11,
     "metadata": {},
     "output_type": "execute_result"
    }
   ],
   "source": [
    "# 练习1\n",
    "\n",
    "a = np.array([\n",
    "        [3,-2,0,-1],\n",
    "        [0,2,2,1],\n",
    "        [1,-2,-3,-2],\n",
    "        [0,1,2,1]\n",
    "    ])\n",
    "\n",
    "print(np.linalg.inv(a))\n",
    "np.linalg.det(a)"
   ]
  },
  {
   "cell_type": "code",
   "execution_count": 16,
   "metadata": {
    "collapsed": false
   },
   "outputs": [
    {
     "name": "stdout",
     "output_type": "stream",
     "text": [
      "4 3 3\n"
     ]
    }
   ],
   "source": [
    "# 练习2 (1)\n",
    "\n",
    "a = np.array([\n",
    "        [1,1,2,-1],\n",
    "        [2,1,1,-1],\n",
    "        [2,2,1,2]\n",
    "    ])\n",
    "ab = np.array([\n",
    "        [1,1,2,-1,0],\n",
    "        [2,1,1,-1,0],\n",
    "        [2,2,1,2,0]\n",
    "    ])\n",
    "n = 4\n",
    "ra = np.linalg.matrix_rank(a)\n",
    "rab = np.linalg.matrix_rank(ab)\n",
    "\n",
    "print(n,ra,rab)"
   ]
  },
  {
   "cell_type": "code",
   "execution_count": 17,
   "metadata": {
    "collapsed": false
   },
   "outputs": [
    {
     "name": "stdout",
     "output_type": "stream",
     "text": [
      "4 2 3\n"
     ]
    }
   ],
   "source": [
    "# 练习2 (2)\n",
    "\n",
    "a = np.array([\n",
    "        [4,2,-1],\n",
    "        [3,-1,2],\n",
    "        [11,3,0]\n",
    "    ])\n",
    "ab = np.array([\n",
    "        [4,2,-1,2],\n",
    "        [3,-1,2,10],\n",
    "        [11,3,0,8]\n",
    "    ])\n",
    "n = 4\n",
    "ra = np.linalg.matrix_rank(a)\n",
    "rab = np.linalg.matrix_rank(ab)\n",
    "\n",
    "print(n,ra,rab)"
   ]
  }
 ],
 "metadata": {
  "kernelspec": {
   "display_name": "Python [default]",
   "language": "python",
   "name": "python3"
  },
  "language_info": {
   "codemirror_mode": {
    "name": "ipython",
    "version": 3
   },
   "file_extension": ".py",
   "mimetype": "text/x-python",
   "name": "python",
   "nbconvert_exporter": "python",
   "pygments_lexer": "ipython3",
   "version": "3.5.2"
  }
 },
 "nbformat": 4,
 "nbformat_minor": 1
}
