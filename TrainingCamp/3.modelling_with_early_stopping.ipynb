{
 "cells": [
  {
   "cell_type": "markdown",
   "metadata": {},
   "source": [
    "## 训练与early stopping防止过拟合"
   ]
  },
  {
   "cell_type": "markdown",
   "metadata": {},
   "source": [
    "### 0.引入工具库"
   ]
  },
  {
   "cell_type": "code",
   "execution_count": 11,
   "metadata": {},
   "outputs": [],
   "source": [
    "from __future__ import absolute_import\n",
    "from __future__ import division\n",
    "from __future__ import print_function\n",
    "\n",
    "import numpy as np\n",
    "import warnings\n",
    "import os\n",
    "os.environ['TF_CPP_MIN_LOG_LEVEL'] = '0'\n",
    "import tensorflow as tf\n",
    "warnings.filterwarnings(\"ignore\")"
   ]
  },
  {
   "cell_type": "markdown",
   "metadata": {},
   "source": [
    "### 1.定义训练与测试文件"
   ]
  },
  {
   "cell_type": "code",
   "execution_count": 12,
   "metadata": {},
   "outputs": [],
   "source": [
    "# 数据集\n",
    "IRIS_TRAINING = \"iris_training.csv\"\n",
    "IRIS_TEST = \"iris_test.csv\""
   ]
  },
  {
   "cell_type": "code",
   "execution_count": 13,
   "metadata": {},
   "outputs": [],
   "source": [
    "# 加载数据\n",
    "training_set = tf.contrib.learn.datasets.base.load_csv_with_header(\n",
    "  filename=IRIS_TRAINING, target_dtype=np.int, features_dtype=np.float32)\n",
    "test_set = tf.contrib.learn.datasets.base.load_csv_with_header(\n",
    "  filename=IRIS_TEST, target_dtype=np.int, features_dtype=np.float32)"
   ]
  },
  {
   "cell_type": "code",
   "execution_count": 14,
   "metadata": {},
   "outputs": [],
   "source": [
    "# 设定监控指标\n",
    "validation_metrics = {\n",
    "   # 正确率\n",
    "  \"accuracy\":\n",
    "      tf.contrib.learn.MetricSpec(\n",
    "          metric_fn=tf.metrics.accuracy,\n",
    "          prediction_key=\"classes\"),\n",
    "   # 准确率\n",
    "  \"precision\":\n",
    "      tf.contrib.learn.MetricSpec(\n",
    "          metric_fn=tf.metrics.precision,\n",
    "          prediction_key=\"classes\"),\n",
    "   # 召回率\n",
    "  \"recall\":\n",
    "      tf.contrib.learn.MetricSpec(\n",
    "          metric_fn=tf.metrics.recall,\n",
    "          prediction_key=\"classes\")\n",
    "}"
   ]
  },
  {
   "cell_type": "code",
   "execution_count": 15,
   "metadata": {},
   "outputs": [],
   "source": [
    "# 监控器\n",
    "validation_monitor = tf.contrib.learn.monitors.ValidationMonitor(\n",
    "                                                        test_set.data,\n",
    "                                                        test_set.target,\n",
    "                                                        every_n_steps=50,\n",
    "                                                        metrics=validation_metrics,\n",
    "                                                        early_stopping_metric=\"loss\",\n",
    "                                                        early_stopping_metric_minimize=True,\n",
    "                                                        early_stopping_rounds=200)"
   ]
  },
  {
   "cell_type": "code",
   "execution_count": 16,
   "metadata": {},
   "outputs": [],
   "source": [
    "# 指定特征列，这里都是数值型的\n",
    "feature_columns = [tf.feature_column.numeric_column(\"\",shape=(4,))]"
   ]
  },
  {
   "cell_type": "code",
   "execution_count": 17,
   "metadata": {},
   "outputs": [
    {
     "name": "stdout",
     "output_type": "stream",
     "text": [
      "INFO:tensorflow:Using config: {'_task_type': None, '_task_id': 0, '_cluster_spec': <tensorflow.python.training.server_lib.ClusterSpec object at 0x117d1ba90>, '_master': '', '_num_ps_replicas': 0, '_num_worker_replicas': 0, '_environment': 'local', '_is_chief': True, '_evaluation_master': '', '_tf_config': gpu_options {\n",
      "  per_process_gpu_memory_fraction: 1.0\n",
      "}\n",
      ", '_tf_random_seed': None, '_save_summary_steps': 100, '_save_checkpoints_secs': 1, '_log_step_count_steps': 100, '_session_config': None, '_save_checkpoints_steps': None, '_keep_checkpoint_max': 5, '_keep_checkpoint_every_n_hours': 10000, '_model_dir': '/tmp/iris_model'}\n"
     ]
    }
   ],
   "source": [
    "# 构建estimator\n",
    "classifier = tf.contrib.learn.DNNClassifier(\n",
    "                feature_columns=feature_columns,\n",
    "                hidden_units=[10, 20, 10],\n",
    "                n_classes=3,\n",
    "                model_dir=\"/tmp/iris_model\",\n",
    "                config=tf.contrib.learn.RunConfig(save_checkpoints_secs=1))"
   ]
  },
  {
   "cell_type": "code",
   "execution_count": 18,
   "metadata": {
    "scrolled": false
   },
   "outputs": [
    {
     "name": "stdout",
     "output_type": "stream",
     "text": [
      "INFO:tensorflow:Create CheckpointSaverHook.\n",
      "INFO:tensorflow:Graph was finalized.\n",
      "INFO:tensorflow:Restoring parameters from /tmp/iris_model/model.ckpt-20000\n",
      "INFO:tensorflow:Running local_init_op.\n",
      "INFO:tensorflow:Done running local_init_op.\n",
      "INFO:tensorflow:Saving checkpoints for 20001 into /tmp/iris_model/model.ckpt.\n",
      "INFO:tensorflow:Starting evaluation at 2018-05-18-04:29:11\n",
      "INFO:tensorflow:Graph was finalized.\n",
      "INFO:tensorflow:Restoring parameters from /tmp/iris_model/model.ckpt-20001\n",
      "INFO:tensorflow:Running local_init_op.\n",
      "INFO:tensorflow:Done running local_init_op.\n",
      "INFO:tensorflow:Finished evaluation at 2018-05-18-04:29:12\n",
      "INFO:tensorflow:Saving dict for global step 20001: accuracy = 0.96666664, global_step = 20001, loss = 0.16083662, precision = 1.0, recall = 1.0\n",
      "INFO:tensorflow:Validation (step 20001): loss = 0.16083662, accuracy = 0.96666664, precision = 1.0, recall = 1.0, global_step = 20001\n",
      "INFO:tensorflow:loss = 0.0016258508, step = 20001\n",
      "INFO:tensorflow:global_step/sec: 165.816\n",
      "INFO:tensorflow:loss = 0.0016129022, step = 20101 (0.140 sec)\n",
      "INFO:tensorflow:global_step/sec: 948.875\n",
      "INFO:tensorflow:loss = 0.0016180964, step = 20201 (0.105 sec)\n",
      "INFO:tensorflow:global_step/sec: 947.095\n",
      "INFO:tensorflow:loss = 0.0015007233, step = 20301 (0.106 sec)\n",
      "INFO:tensorflow:global_step/sec: 931.471\n",
      "INFO:tensorflow:loss = 0.0014848821, step = 20401 (0.107 sec)\n",
      "INFO:tensorflow:Saving checkpoints for 20423 into /tmp/iris_model/model.ckpt.\n",
      "INFO:tensorflow:global_step/sec: 642.716\n",
      "INFO:tensorflow:loss = 0.0015646627, step = 20501 (0.156 sec)\n",
      "INFO:tensorflow:global_step/sec: 901.063\n",
      "INFO:tensorflow:loss = 0.0015534953, step = 20601 (0.111 sec)\n",
      "INFO:tensorflow:global_step/sec: 901.981\n",
      "INFO:tensorflow:loss = 0.0014613026, step = 20701 (0.110 sec)\n",
      "INFO:tensorflow:global_step/sec: 957.516\n",
      "INFO:tensorflow:loss = 0.0015010807, step = 20801 (0.105 sec)\n",
      "INFO:tensorflow:global_step/sec: 908.09\n",
      "INFO:tensorflow:loss = 0.0014631035, step = 20901 (0.110 sec)\n",
      "INFO:tensorflow:global_step/sec: 931.471\n",
      "INFO:tensorflow:loss = 0.0014221104, step = 21001 (0.107 sec)\n",
      "INFO:tensorflow:global_step/sec: 885.812\n",
      "INFO:tensorflow:loss = 0.0014961037, step = 21101 (0.113 sec)\n",
      "INFO:tensorflow:global_step/sec: 914.158\n",
      "INFO:tensorflow:loss = 0.0014844348, step = 21201 (0.109 sec)\n",
      "INFO:tensorflow:Saving checkpoints for 21301 into /tmp/iris_model/model.ckpt.\n",
      "INFO:tensorflow:global_step/sec: 650.607\n",
      "INFO:tensorflow:loss = 0.0014235491, step = 21301 (0.154 sec)\n",
      "INFO:tensorflow:global_step/sec: 981.399\n",
      "INFO:tensorflow:loss = 0.0013848558, step = 21401 (0.102 sec)\n",
      "INFO:tensorflow:global_step/sec: 871.917\n",
      "INFO:tensorflow:loss = 0.0014092858, step = 21501 (0.114 sec)\n",
      "INFO:tensorflow:global_step/sec: 924.155\n",
      "INFO:tensorflow:loss = 0.0013884793, step = 21601 (0.109 sec)\n",
      "INFO:tensorflow:global_step/sec: 924.47\n",
      "INFO:tensorflow:loss = 0.0013549974, step = 21701 (0.108 sec)\n",
      "INFO:tensorflow:global_step/sec: 966.81\n",
      "INFO:tensorflow:loss = 0.0014222089, step = 21801 (0.103 sec)\n",
      "INFO:tensorflow:global_step/sec: 948.333\n",
      "INFO:tensorflow:loss = 0.0014015834, step = 21901 (0.106 sec)\n",
      "INFO:tensorflow:Saving checkpoints for 22000 into /tmp/iris_model/model.ckpt.\n",
      "INFO:tensorflow:Loss for final step: 0.0014027775.\n"
     ]
    },
    {
     "data": {
      "text/plain": [
       "DNNClassifier(params={'head': <tensorflow.contrib.learn.python.learn.estimators.head._MultiClassHead object at 0x117d1b4a8>, 'hidden_units': [10, 20, 10], 'feature_columns': (_NumericColumn(key='', shape=(4,), default_value=None, dtype=tf.float32, normalizer_fn=None),), 'optimizer': None, 'activation_fn': <function relu at 0x110f1fae8>, 'dropout': None, 'gradient_clip_norm': None, 'embedding_lr_multipliers': None, 'input_layer_min_slice_size': None})"
      ]
     },
     "execution_count": 18,
     "metadata": {},
     "output_type": "execute_result"
    }
   ],
   "source": [
    "# 拟合模型\n",
    "classifier.fit(x=training_set.data,\n",
    "             y=training_set.target,\n",
    "             steps=2000,\n",
    "             monitors=[validation_monitor])"
   ]
  },
  {
   "cell_type": "code",
   "execution_count": 19,
   "metadata": {},
   "outputs": [
    {
     "name": "stdout",
     "output_type": "stream",
     "text": [
      "INFO:tensorflow:Starting evaluation at 2018-05-18-04:29:14\n",
      "INFO:tensorflow:Graph was finalized.\n",
      "INFO:tensorflow:Restoring parameters from /tmp/iris_model/model.ckpt-22000\n",
      "INFO:tensorflow:Running local_init_op.\n",
      "INFO:tensorflow:Done running local_init_op.\n",
      "INFO:tensorflow:Finished evaluation at 2018-05-18-04:29:14\n",
      "INFO:tensorflow:Saving dict for global step 22000: accuracy = 0.96666664, global_step = 22000, loss = 0.16551517\n",
      "Accuracy: 0.966667\n"
     ]
    }
   ],
   "source": [
    "# 评估准确率\n",
    "accuracy_score = classifier.evaluate(\n",
    "  x=test_set.data, y=test_set.target)[\"accuracy\"]\n",
    "print(\"Accuracy: {0:f}\".format(accuracy_score))"
   ]
  },
  {
   "cell_type": "code",
   "execution_count": 20,
   "metadata": {},
   "outputs": [
    {
     "name": "stdout",
     "output_type": "stream",
     "text": [
      "INFO:tensorflow:Graph was finalized.\n",
      "INFO:tensorflow:Restoring parameters from /tmp/iris_model/model.ckpt-22000\n",
      "INFO:tensorflow:Running local_init_op.\n",
      "INFO:tensorflow:Done running local_init_op.\n",
      "Predictions: [1, 2]\n"
     ]
    }
   ],
   "source": [
    "# 对2个样本分类\n",
    "new_samples = np.array(\n",
    "  [[6.4, 3.2, 4.5, 1.5], [5.8, 3.1, 5.0, 1.7]], dtype=np.float32)\n",
    "y = list(classifier.predict(new_samples))\n",
    "print(\"Predictions: {}\".format(str(y)))"
   ]
  },
  {
   "cell_type": "code",
   "execution_count": null,
   "metadata": {},
   "outputs": [],
   "source": []
  }
 ],
 "metadata": {
  "kernelspec": {
   "display_name": "Python 3",
   "language": "python",
   "name": "python3"
  },
  "language_info": {
   "codemirror_mode": {
    "name": "ipython",
    "version": 3
   },
   "file_extension": ".py",
   "mimetype": "text/x-python",
   "name": "python",
   "nbconvert_exporter": "python",
   "pygments_lexer": "ipython3",
   "version": "3.6.1"
  }
 },
 "nbformat": 4,
 "nbformat_minor": 2
}
