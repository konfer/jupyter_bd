{
 "cells": [
  {
   "cell_type": "markdown",
   "metadata": {
    "collapsed": true
   },
   "source": [
    "# Tensorflow支持的特征工程\n",
    "\n",
    "深度学习在图像、语音等一些应用场景下，效果好于传统机器学习，因为它是一种很好的表示学习模型，可以根据目标对图像等非结构化数据做很好的特征抽取。但是在很多的业务场景下，结合具体业务的数据信息可靠高效表达，依旧少不了人工参与(比如电商的推荐、点击率预估、销量预估等等场景)。\n",
    "\n",
    "在上一个案例中，预创建的 Estimator 里，我们使用预创建的 Estimator (DNNClassifier) 来训练模型，根据四个输入特征预测不同类型的鸢尾花。该示例仅创建了数值特征列（类型为 tf.feature_column.numeric_column）。虽然数值特征列有效地对花瓣和花萼的长度进行了建模，但真实的数据集包含各种各样的特征，其中很多特征并非数值。\n",
    "\n",
    "事实上，大家在机器学习阶段学习过非常多数据和特征处理的方法方式，比如对类别型的one-hot encoding，比如对数值型的列做离散化，但是之前对这个部分处理，大家都是对csv文件基于pandas的DataFrame进行处理的，但是这么重要的一块，google爸爸怎么会不完善，所以tensorflow在高版本中自带的feature_columns有非常方便的特征工程处理函数。\n",
    "![](https://www.tensorflow.org/images/feature_columns/feature_cloud.jpg)\n",
    "<center>非数值型的特征</center>"
   ]
  },
  {
   "cell_type": "markdown",
   "metadata": {},
   "source": [
    "### 1.深度神经网络的输入\n",
    "先来问个问题：我们实际上是将哪种数据输入深度神经网络？当然，答案是数字（例如 **tf.float32**）。毕竟，神经网络中的每一个神经元都会对权重和输入数据执行乘法和加法运算。不过，现实世界中的输入数据经常包含非数值（分类）数据。例如，假设存在一个包含以下三个非数字值的 **product_class** 特征：\n",
    "* kitchenware\n",
    "* electronics\n",
    "* sports\n",
    "\n",
    "机器学习模型一般以简单矢量表示分类值，比如说独热向量编码里，1 表示某个值存在，0 表示某个值不存在。例如，当 **product_class** 设为 **sports** 时，机器学习模型通常会以 [0, 0, 1] 表示 **product_class**，含义如下所示：\n",
    "* 0：kitchenware 不存在\n",
    "* 0：electronics 不存在\n",
    "* 1：sports 存在\n",
    "\n",
    "所以，尽管原始数据可以是数值或分类数据，机器学习模型会以数字或由数字组成的矢量表示所有特征。"
   ]
  },
  {
   "cell_type": "markdown",
   "metadata": {},
   "source": [
    "### 2.特征列介绍\n",
    "如下图所示，可以通过估算器（鸢尾花为 **DNNClassifier**）的 **feature_columns** 参数指定模型的输入。特征列将输入数据（由 **input_fn** 返回）与模型联系起来。\n",
    "![](https://www.tensorflow.org/images/feature_columns/inputs_to_model_bridge.jpg)"
   ]
  },
  {
   "cell_type": "markdown",
   "metadata": {},
   "source": [
    "要以特征列表示特征，请调用 **tf.feature_column** 软件包的函数。这篇博文将介绍此软件包中的九个函数。如图 3 所示，所有九个函数都会返回一个 **Categorical-Column** 或 **Dense-Column** 对象，但 **bucketized_column** 除外，它继承自这两个类别：\n",
    "![](https://www.tensorflow.org/images/feature_columns/some_constructors.jpg)"
   ]
  },
  {
   "cell_type": "markdown",
   "metadata": {},
   "source": [
    "### 3.不同类型的列(特征工程)"
   ]
  },
  {
   "cell_type": "markdown",
   "metadata": {},
   "source": [
    "#### 3.1 数值型列\n",
    "鸢尾花分类器为所有输入特征调用了 **tf.numeric_column()**：`SepalLength`、`SepalWidth`、`PetalLength`、`PetalWidth`。尽管 **tf.numeric_column()** 提供了可选参数，调用不含任何参数的函数仍是指定具有默认数据类型 (`tf.float32`) 的数字值作为模型输入的一种极简单方式。例如："
   ]
  },
  {
   "cell_type": "markdown",
   "metadata": {
    "collapsed": true
   },
   "source": [
    "```python\n",
    "# Defaults to a tf.float32 scalar.\n",
    "numeric_feature_column = tf.feature_column.numeric_column(key=\"SepalLength\")\n",
    "```"
   ]
  },
  {
   "cell_type": "markdown",
   "metadata": {},
   "source": [
    "使用 `dtype` 参数可以指定非默认数值数据类型。例如："
   ]
  },
  {
   "cell_type": "markdown",
   "metadata": {},
   "source": [
    "```python\n",
    "# Represent a tf.float64 scalar.\n",
    "numeric_feature_column = tf.feature_column.numeric_column(key=\"SepalLength\",\n",
    "                                                          dtype=tf.float64)\n",
    "```"
   ]
  },
  {
   "cell_type": "markdown",
   "metadata": {},
   "source": [
    "默认情况下，一个数值列可以创建一个值（标量）。使用 `shape` 参数可以指定另一个形状。例如："
   ]
  },
  {
   "cell_type": "markdown",
   "metadata": {},
   "source": [
    "```python\n",
    "# Represent a 10-element vector in which each cell contains a tf.float32.\n",
    "vector_feature_column = tf.feature_column.numeric_column(key=\"Bowling\",\n",
    "                                                         shape=10)\n",
    "\n",
    "# Represent a 10x5 matrix in which each cell contains a tf.float32.\n",
    "matrix_feature_column = tf.feature_column.numeric_column(key=\"MyMatrix\",\n",
    "                                                         shape=[10,5]) \n",
    "```"
   ]
  },
  {
   "cell_type": "markdown",
   "metadata": {},
   "source": [
    "#### 3.2 连续值离散化/分桶\n",
    "有时候，我们不希望将数字直接提供给模型，而是根据数值范围将它的值拆分成不同的桶(离散化)。例如，假设存在表示房子建造年份的原始数据。我们可以将年份拆分成以下四个存储分区，而不是以标量数值列表示年份："
   ]
  },
  {
   "cell_type": "markdown",
   "metadata": {},
   "source": [
    "![](https://www.tensorflow.org/images/feature_columns/bucketized_column.jpg)"
   ]
  },
  {
   "cell_type": "markdown",
   "metadata": {},
   "source": [
    "模型将通过以下方式表示存储分区：\n",
    "\n",
    "日期范围 | 表示形式 \n",
    "- | -: \n",
    " < 1960 | [1, 0, 0, 0]\n",
    " >= 1960 且 < 1980 | [0, 1, 0, 0] \n",
    " >= 1980 且 < 2000 | [0, 0, 1, 0]\n",
    " > 2000| [0, 0, 0, 1]"
   ]
  },
  {
   "cell_type": "markdown",
   "metadata": {},
   "source": [
    "既然数字对模型来说是一种非常有效的输入，为什么还要将它拆分成这样的分类值呢？\n",
    "\n",
    "`请注意，分类可以将一个输入数字拆分成一个四元素矢量。因此，模型现在可以学习 四个单独的权重 ，而不是仅仅学习一个。与一个权重相比，四个权重可以创建信息更丰富的模型。更重要的是，由于只有一个元素置位 (1)，其他三个元素清零 (0)，存储分区化可以让模型清楚地区分不同的年份类别。如果我们仅使用一个数字（年份）作为输入，模型无法区分类别。所以，存储分区化可以为模型提供可以用来学习的其他重要信息。`\n",
    "\n",
    "下面的代码演示了如何创建存储分区化特征(离散化)："
   ]
  },
  {
   "cell_type": "markdown",
   "metadata": {},
   "source": [
    "```python\n",
    "# A numeric column for the raw input.\n",
    "numeric_feature_column = tf.feature_column.numeric_column(\"Year\")\n",
    "\n",
    "# Bucketize the numeric column on the years 1960, 1980, and 2000\n",
    "bucketized_feature_column = tf.feature_column.bucketized_column(\n",
    "    source_column = numeric_feature_column,\n",
    "    boundaries = [1960, 1980, 2000])\n",
    "```"
   ]
  },
  {
   "cell_type": "markdown",
   "metadata": {},
   "source": [
    "注意：\n",
    "* 在创建存储分区化列之前，我们先创建了一个数值列来表示原始年份。\n",
    "* 我们将数值列作为第一个参数传递到 `tf.feature_column.bucketized_column()` 中。\n",
    "* 指定一个 三元素 `boundaries` 矢量(分桶边界)可以创建一个离散化4个变量的矢量。"
   ]
  },
  {
   "cell_type": "markdown",
   "metadata": {},
   "source": [
    "#### 3.3 分类标识列/label encoder\n",
    "分类标识列是一种特殊形式的存储分区化列。对应的实际上是我们在机器学习特征工程中提到过的label encoder。"
   ]
  },
  {
   "cell_type": "markdown",
   "metadata": {},
   "source": [
    "![](https://www.tensorflow.org/images/feature_columns/categorical_column_with_identity.jpg)"
   ]
  },
  {
   "cell_type": "markdown",
   "metadata": {},
   "source": [
    "那么，独热向量编码的好处是，模型可以在分类标识列中为每个类别学习单独的权重。例如，与使用一个字符串表示 `product_class` 相反，我们使用一个唯一整数值表示每个类别。即：\n",
    "* 0=\"kitchenware\"\n",
    "* 1=\"electronics\"\n",
    "* 2=\"sport\"\n",
    "\n",
    "调用 `tf.feature_column.categorical_column_with_identity()` 来实现一个分类标识列。例如："
   ]
  },
  {
   "cell_type": "markdown",
   "metadata": {},
   "source": [
    "```python\n",
    "# Create a categorical output for input \"feature_name_from_input_fn\",\n",
    "# which must be of integer type. Value is expected to be >= 0 and < num_buckets\n",
    "identity_feature_column = tf.feature_column.categorical_column_with_identity(\n",
    "    key='feature_name_from_input_fn', \n",
    "    num_buckets=4) # Values [0, 4)\n",
    "\n",
    "# The 'feature_name_from_input_fn' above needs to match an integer key that is \n",
    "# returned from input_fn (see below). So for this case, 'Integer_1' or\n",
    "# 'Integer_2' would be valid strings instead of 'feature_name_from_input_fn'.\n",
    "# For more information, please check out Part 1 of this blog series.\n",
    "def input_fn():\n",
    "    ...<code>...\n",
    "    return ({ 'Integer_1':[values], ..<etc>.., 'Integer_2':[values] },\n",
    "            [Label_values])\n",
    "```"
   ]
  },
  {
   "cell_type": "markdown",
   "metadata": {},
   "source": [
    "#### 3.4 分类词汇列/one-hot encoding\n",
    "我们无法将字符串直接输入模型。相反，我们必须先将字符串映射到数字或分类值。分类词汇列提供了一种以独热矢量表示字符串的好方法。例如："
   ]
  },
  {
   "cell_type": "markdown",
   "metadata": {},
   "source": [
    "![](https://www.tensorflow.org/images/feature_columns/categorical_column_with_vocabulary.jpg)"
   ]
  },
  {
   "cell_type": "markdown",
   "metadata": {},
   "source": [
    "分类词汇列是一种枚举版本的分类标识列。TensorFlow 提供了两个不同的函数来创建分类词汇列：\n",
    "* `tf.feature_column.categorical_column_with_vocabulary_list()`\n",
    "* `tf.feature_column.categorical_column_with_vocabulary_file()`"
   ]
  },
  {
   "cell_type": "markdown",
   "metadata": {},
   "source": [
    "`tf.feature_column.categorical_column_with_vocabulary_list()` 函数可以根据一个显式词汇列表将每个字符串映射到一个整数。例如：\n",
    "```python\n",
    "# Given input \"feature_name_from_input_fn\" which is a string,\n",
    "# create a categorical feature to our model by mapping the input to one of \n",
    "# the elements in the vocabulary list.\n",
    "vocabulary_feature_column =\n",
    "    tf.feature_column.categorical_column_with_vocabulary_list(\n",
    "        key=\"feature_name_from_input_fn\",\n",
    "        vocabulary_list=[\"kitchenware\", \"electronics\", \"sports\"]) \n",
    "```"
   ]
  },
  {
   "cell_type": "markdown",
   "metadata": {},
   "source": [
    "前面的函数有一个明显的缺陷；也就是说，当词汇列表较长时，需要进行很多输入工作。对于这些情况，请改为调用 `tf.feature_column.categorical_column_with_vocabulary_file()`，它让您可以将词汇放在一个单独的文件中。例如："
   ]
  },
  {
   "cell_type": "markdown",
   "metadata": {},
   "source": [
    "```python\n",
    "# Given input \"feature_name_from_input_fn\" which is a string,\n",
    "# create a categorical feature to our model by mapping the input to one of \n",
    "# the elements in the vocabulary file\n",
    "vocabulary_feature_column =\n",
    "    tf.feature_column.categorical_column_with_vocabulary_file(\n",
    "        key=\"feature_name_from_input_fn\",\n",
    "        vocabulary_file=\"product_class.txt\",\n",
    "        vocabulary_size=3)\n",
    "\n",
    "# product_class.txt should have one line for vocabulary element, in our case:\n",
    "kitchenware\n",
    "electronics\n",
    "sports\n",
    "```"
   ]
  },
  {
   "cell_type": "markdown",
   "metadata": {},
   "source": [
    "#### 3.5 使用哈希存储分区限制类别/cate feature hash\n",
    "到目前为止，我们仅介绍了少量几个类别。例如，我们的 `product_class` 示例仅有 3 个类别。但是，类别的数量通常可以非常大，以致于无法为每个词汇或整数使用单独的类别，因为这样会消耗大量内存。\n",
    "\n",
    "对于这些情况，我们可以将问题反过来并问问自己，“我愿意为输入使用多少个类别？”事实上，`tf.feature_column.categorical_column_with_hash_buckets()` 函数让您可以指定类别数量。例如，以下代码显示了此函数如何计算输入的哈希值，然后使用模数运算符将其置于一个 `hash_bucket_size` 类别中："
   ]
  },
  {
   "cell_type": "markdown",
   "metadata": {},
   "source": [
    "```python\n",
    "# Create categorical output for input \"feature_name_from_input_fn\".\n",
    "# Category becomes: hash_value(\"feature_name_from_input_fn\") % hash_bucket_size\n",
    "hashed_feature_column =\n",
    "    tf.feature_column.categorical_column_with_hash_bucket(\n",
    "        key = \"feature_name_from_input_fn\",\n",
    "        hash_buckets_size = 100) # The number of categories\n",
    "```"
   ]
  },
  {
   "cell_type": "markdown",
   "metadata": {},
   "source": [
    "注意到这里的操作，我们在将不同的输入值强制到一组较小的类别中。这意味着，两个很可能完全不相关的输入将被映射到同一个类别，这对神经网络来说也是一样的。下图说明了这个难题，显示 kitchenware 和 sports 都分配获得了类别（哈希存储分区）12："
   ]
  },
  {
   "cell_type": "markdown",
   "metadata": {},
   "source": [
    "![](https://www.tensorflow.org/images/feature_columns/hashed_column.jpg)"
   ]
  },
  {
   "cell_type": "markdown",
   "metadata": {},
   "source": [
    "与机器学习中许多有悖常理的现象一样，哈希通常可以在实践中很好地运行。这是因为哈希类别为模型提供了一些分隔。模型可以使用更多特征来进一步将 kitchenware 与 sports 分开。"
   ]
  },
  {
   "cell_type": "markdown",
   "metadata": {},
   "source": [
    "##### 3.6 交叉特征\n",
    "我们要介绍的最后一个分类列允许我们将多个输入特征组合成一个。组合特征（更广为人知的说法是特征交叉）让模型可以专门针对特征组合表示的任何意义学习单独的权重。\n",
    "\n",
    "更具体一点，假设我们希望我们的模型计算佐治亚州亚特兰大的房地产价格。这个城市的房地产价格因位置不同而相差很大。以单独的特征表示纬度和经度在确定房地产位置相关性中不是很有用；不过，将纬度和经度组合到一个特征中可以确定位置。假设我们以一个 100x100 大小的矩形剖面网格表示亚特兰大，通过纬度和经度交叉来确定 10,000 个剖面。这个组合让模型可以拾取与各个剖面相关的定价条件，与单独的纬度和经度相比，这样可以提供更强大的信息。\n",
    "\n",
    "下图显示了我们的平面图，其中包含城市四个角落的纬度和经度值："
   ]
  },
  {
   "cell_type": "markdown",
   "metadata": {},
   "source": [
    "![](https://www.tensorflow.org/images/feature_columns/Atlanta.jpg)"
   ]
  },
  {
   "cell_type": "markdown",
   "metadata": {},
   "source": [
    "为了解决问题，我们使用了之前介绍过的一些特征列组合，以及 `tf.feature_columns.crossed_column()` 函数。"
   ]
  },
  {
   "cell_type": "markdown",
   "metadata": {},
   "source": [
    "```python\n",
    "# In our input_fn, we convert input longitude and latitude to integer values\n",
    "# in the range [0, 100)\n",
    "def input_fn():\n",
    "    # Using Datasets, read the input values for longitude and latitude\n",
    "    latitude = ...   # A tf.float32 value\n",
    "    longitude = ...  # A tf.float32 value\n",
    "\n",
    "    # In our example we just return our lat_int, long_int features.\n",
    "    # The dictionary of a complete program would probably have more keys.\n",
    "    return { \"latitude\": latitude, \"longitude\": longitude, ...}, labels\n",
    "\n",
    "# As can be see from the map, we want to split the latitude range\n",
    "# [33.641336, 33.887157] into 100 buckets. To do this we use np.linspace\n",
    "# to get a list of 99 numbers between min and max of this range.\n",
    "# Using this list we can bucketize latitude into 100 buckets.\n",
    "latitude_buckets = list(np.linspace(33.641336, 33.887157, 99))\n",
    "latitude_fc = tf.feature_column.bucketized_column(\n",
    "    tf.feature_column.numeric_column('latitude'),\n",
    "    latitude_buckets)\n",
    "\n",
    "# Do the same bucketization for longitude as done for latitude.\n",
    "longitude_buckets = list(np.linspace(-84.558798, -84.287259, 99))\n",
    "longitude_fc = tf.feature_column.bucketized_column(\n",
    "    tf.feature_column.numeric_column('longitude'), longitude_buckets)\n",
    "\n",
    "# Create a feature cross of fc_longitude x fc_latitude.\n",
    "fc_san_francisco_boxed = tf.feature_column.crossed_column(\n",
    "    keys=[latitude_fc, longitude_fc],\n",
    "    hash_bucket_size=1000) # No precise rule, maybe 1000 buckets will be good?\n",
    "```"
   ]
  },
  {
   "cell_type": "markdown",
   "metadata": {},
   "source": [
    "可以从以下信息之一创建特征交叉：\n",
    "* 特征名称；即从 `input_fn` 返回的 `dict` 中的名称。\n",
    "* 任何分类列，除 `categorical_column_with_hash_bucket` 外。\n",
    "\n",
    "当特征列 `latitude_fc` 和 `longitude_fc` 交叉时，TensorFlow 将创建 10,000 个按以下方式组织的 `(latitude_fc, longitude_fc)` 组合："
   ]
  },
  {
   "cell_type": "markdown",
   "metadata": {},
   "source": [
    "```python\n",
    "(0,0),(0,1)...  (0,99)\n",
    "(1,0),(1,1)...  (1,99)\n",
    "…, …,          ...\n",
    "(99,0),(99,1)...(99, 99)\n",
    "```"
   ]
  },
  {
   "cell_type": "markdown",
   "metadata": {},
   "source": [
    "函数 `tf.feature_column.crossed_column` 将在这些组合上执行哈希计算，然后通过使用 `hash_bucket_size` 执行模数运算，将结果插入类别中。如之前的讨论一样，执行哈希和模数函数很可能会导致类别冲突；即多个 (纬度, 经度) 特征交叉将出现在同一个哈希存储分区中。不过在实践中，执行特征交叉仍可以为模型的学习能力提供有效值。\n",
    "\n",
    "有点违反常理的是，在创建特征交叉时，您通常仍需要在模型中包含原始（非交叉）特征。例如，不仅提供 (`latitude`, `longitude`) 特征交叉，还需要以单独的特征形式提供 `latitude` 和 `longitude`。单独的 `latitude` 和 `longitude` 特征将帮助模型分隔包含不同特征交叉的哈希存储分区的内容。"
   ]
  },
  {
   "cell_type": "markdown",
   "metadata": {},
   "source": [
    "#### 3.7 指示器列和嵌入列(embedding)\n",
    "指示器列和嵌入列永远不会直接在特征上运行，而是将分类列作为输入。\n",
    "使用指示器列时，我们将告知 `TensorFlow` 准确执行我们在分类 `product_class` 示例中看到的操作。即，指示器列将每个类别作为独热矢量中的一个元素处理，其中，匹配类别的值为 1，其余为 0：\n",
    "![](http://bp.googleblog.cn/-w6qEZq65F1o/Wg4J6-F6O3I/AAAAAAAAEHY/hU8xIK8P854Ehed8HUMCKe5m0nI7UiNSACLcBGAs/s1600/6.jpg)"
   ]
  },
  {
   "cell_type": "markdown",
   "metadata": {},
   "source": [
    "可以这样创建指示列：\n",
    "```python\n",
    "categorical_column = ... # Create any type of categorical column, see Figure 3\n",
    "\n",
    "# Represent the categorical column as an indicator column.\n",
    "# This means creating a one-hot vector with one element for each category.\n",
    "indicator_column = tf.feature_column.indicator_column(categorical_column)\n",
    "```"
   ]
  },
  {
   "cell_type": "markdown",
   "metadata": {},
   "source": [
    "现在，假设我们不只有三个可能的类别，而是有 100 万个。或者有 10 亿个。由于多种原因（技术性过强，我们无法在此介绍），在类别数量增大时，使用指示器列训练神经网络将变得不可行。\n",
    "\n",
    "我们可以使用嵌入列来克服此限制。与将数据表示为具有许多维度的独热矢量不同，嵌入列将数据表示为一个更低维度的普通矢量，其中，每个单元格都可以包含任意数字，而不仅仅是 0 或 1。通过为每个单元格允许更丰富的数字组合，与指示器列相比，嵌入列可以包含少得多的单元格数。\n",
    "\n",
    "我们来看一个比较指示器列和嵌入列的示例。假设我们的输入示例包含一个有限组合中的不同单词，这个组合仅有 81 个单词。再假设数据集在 4 个单独的示例中提供以下输入单词：\n",
    "\n",
    "* \"dog\"\n",
    "* \"spoon\"\n",
    "* \"scissors\"\n",
    "* \"guitar\"\n",
    "\n",
    "在这种情况下，下图说明了嵌入列或指示器列的处理路径。\n",
    "\n",
    "![](https://www.tensorflow.org/images/feature_columns/embedding_vs_indicator.jpg)"
   ]
  },
  {
   "cell_type": "markdown",
   "metadata": {},
   "source": [
    "在处理一个示例时，一个 categorical_column_with... 函数会将示例字符串映射到数字分类值。例如，一个函数会将 \"spoon\" 映射到 [32]。然后，您可以通过以下两种方式之一表示这些数字分类值：\n",
    "\n",
    "作为指示器列。函数会将每个数字分类值转换成一个 81 元素矢量（因为我们的组合包含 81 个单词），在分类值 (0, 32, 79, 80) 的索引中放置 1，在其他位置放置 0。\n",
    "\n",
    "作为嵌入列。一个函数使用数字分类值 (0, 32, 79, 80) 作为查找表的索引。查找表中的每个显示位置都包含一个 3 元素矢量。\n",
    "\n",
    "嵌入矢量中的值是怎样魔术般地获得分配的？实际上，分配发生在训练期间。即，模型将学习最佳方式来将您的输入数字分类值映射到嵌入矢量值，求解您的问题。嵌入列可以提升您的模型的能力，因为嵌入矢量可以从训练数据中学习类别之间的新关系。\n",
    "我们示例中矢量的大小为什么是 3？以下“公式”提供了与嵌入维度数量有关的一般经验法则："
   ]
  },
  {
   "cell_type": "markdown",
   "metadata": {},
   "source": [
    "```python\n",
    "embedding_dimensions =  number_of_categories**0.25\n",
    "```"
   ]
  },
  {
   "cell_type": "markdown",
   "metadata": {},
   "source": [
    "即，嵌入矢量维度应等于类别数量的四次方根。由于此示例中的词汇大小为 81，建议的维度数量为 3："
   ]
  },
  {
   "cell_type": "markdown",
   "metadata": {},
   "source": [
    "```python\n",
    "3 =  81**0.25\n",
    "```"
   ]
  },
  {
   "cell_type": "markdown",
   "metadata": {},
   "source": [
    "这只是一个一般准则；其实我们可以随意设置嵌入维度的数量。\n",
    "调用 `tf.feature_column.embedding_column` 来创建一个 `embedding_column`。嵌入矢量的维度取决于上面介绍的手头问题，但常用值可以从最低的 3 开始，一直到 300 或更大。"
   ]
  },
  {
   "cell_type": "markdown",
   "metadata": {},
   "source": [
    "```python\n",
    "categorical_column = ... # Create any categorical column shown in Figure 3.\n",
    "\n",
    "# Represent the categorical column as an embedding column.\n",
    "# This means creating a one-hot vector with one element for each category.\n",
    "embedding_column = tf.feature_column.embedding_column(\n",
    "    categorical_column=categorical_column,\n",
    "    dimension=dimension_of_embedding_vector)\n",
    "```"
   ]
  },
  {
   "cell_type": "markdown",
   "metadata": {},
   "source": [
    "注意，indicator_column可以是multi-hot的，非one-hot\n",
    "```python\n",
    "name = indicator_column(categorical_column_with_vocabulary_list(\n",
    "    'name', ['bob', 'george', 'wanda'])\n",
    "columns = [name, ...]\n",
    "features = tf.parse_example(..., features=make_parse_example_spec(columns))\n",
    "dense_tensor = input_layer(features, columns)\n",
    "\n",
    "dense_tensor == [[1, 0, 0]]  # If \"name\" bytes_list is [\"bob\"]\n",
    "dense_tensor == [[1, 0, 1]]  # If \"name\" bytes_list is [\"bob\", \"wanda\"]\n",
    "dense_tensor == [[2, 0, 0]]  # If \"name\" bytes_list is [\"bob\", \"bob\"] \n",
    "```"
   ]
  },
  {
   "cell_type": "code",
   "execution_count": null,
   "metadata": {
    "collapsed": true
   },
   "outputs": [],
   "source": []
  }
 ],
 "metadata": {
  "kernelspec": {
   "display_name": "Python 3",
   "language": "python",
   "name": "python3"
  },
  "language_info": {
   "codemirror_mode": {
    "name": "ipython",
    "version": 3
   },
   "file_extension": ".py",
   "mimetype": "text/x-python",
   "name": "python",
   "nbconvert_exporter": "python",
   "pygments_lexer": "ipython3",
   "version": "3.6.7"
  }
 },
 "nbformat": 4,
 "nbformat_minor": 2
}
