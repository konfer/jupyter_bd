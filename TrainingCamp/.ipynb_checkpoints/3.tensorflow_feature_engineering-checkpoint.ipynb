{
 "cells": [
  {
   "cell_type": "markdown",
   "metadata": {},
   "source": [
    "## tensorflow特征工程演示"
   ]
  },
  {
   "cell_type": "code",
   "execution_count": 1,
   "metadata": {},
   "outputs": [],
   "source": [
    "import tensorflow as tf\n",
    "from tensorflow.python.estimator.inputs import numpy_io\n",
    "import numpy as np\n",
    "import collections\n",
    "from tensorflow.python.framework import errors\n",
    "from tensorflow.python.platform import test\n",
    "from tensorflow.python.training import coordinator\n",
    "from tensorflow import feature_column\n",
    "\n",
    "from tensorflow.python.feature_column.feature_column import _LazyBuilder"
   ]
  },
  {
   "cell_type": "markdown",
   "metadata": {},
   "source": [
    "### bucketized_column"
   ]
  },
  {
   "cell_type": "code",
   "execution_count": 2,
   "metadata": {},
   "outputs": [],
   "source": [
    "def test_bucketized_column():\n",
    "\n",
    "    price = {'price': [[5.], [15.], [25.], [35.]]}  # 4行样本\n",
    "\n",
    "    price_column = feature_column.numeric_column('price')\n",
    "    bucket_price = feature_column.bucketized_column(price_column, [0, 10, 20, 30, 40])\n",
    "\n",
    "    price_bucket_tensor = feature_column.input_layer(price, [bucket_price])\n",
    "\n",
    "    with tf.Session() as session:\n",
    "        print(session.run([price_bucket_tensor]))"
   ]
  },
  {
   "cell_type": "code",
   "execution_count": 3,
   "metadata": {},
   "outputs": [
    {
     "name": "stdout",
     "output_type": "stream",
     "text": [
      "[array([[0., 1., 0., 0., 0., 0.],\n",
      "       [0., 0., 1., 0., 0., 0.],\n",
      "       [0., 0., 0., 1., 0., 0.],\n",
      "       [0., 0., 0., 0., 1., 0.]], dtype=float32)]\n"
     ]
    }
   ],
   "source": [
    "test_bucketized_column()"
   ]
  },
  {
   "cell_type": "markdown",
   "metadata": {},
   "source": [
    "### categorical_column_with_vocabulary_list"
   ]
  },
  {
   "cell_type": "code",
   "execution_count": 4,
   "metadata": {},
   "outputs": [],
   "source": [
    "def test_categorical_column_with_vocabulary_list():\n",
    "\n",
    "    color_data = {'color': [['R', 'R'], ['G', 'R'], ['B', 'G'], ['A', 'A']]}  # 4行样本\n",
    "\n",
    "    builder = _LazyBuilder(color_data)\n",
    "\n",
    "    color_column = feature_column.categorical_column_with_vocabulary_list(\n",
    "        'color', ['R', 'G', 'B'], dtype=tf.string, default_value=-1\n",
    "    )\n",
    "\n",
    "    color_column_tensor = color_column._get_sparse_tensors(builder)\n",
    "\n",
    "    with tf.Session() as session:\n",
    "        session.run(tf.global_variables_initializer())\n",
    "\n",
    "        session.run(tf.tables_initializer())\n",
    "\n",
    "        print(session.run([color_column_tensor.id_tensor]))\n",
    "\n",
    "    # 将稀疏的转换成dense，也就是one-hot形式，只是multi-hot\n",
    "    color_column_identy = feature_column.indicator_column(color_column)\n",
    "\n",
    "    color_dense_tensor = feature_column.input_layer(color_data, [color_column_identy])\n",
    "\n",
    "    with tf.Session() as session:\n",
    "        session.run(tf.global_variables_initializer())\n",
    "\n",
    "        session.run(tf.tables_initializer())\n",
    "\n",
    "        print('use input_layer' + '_' * 40)\n",
    "        print(session.run([color_dense_tensor]))"
   ]
  },
  {
   "cell_type": "code",
   "execution_count": 5,
   "metadata": {},
   "outputs": [
    {
     "name": "stdout",
     "output_type": "stream",
     "text": [
      "[SparseTensorValue(indices=array([[0, 0],\n",
      "       [0, 1],\n",
      "       [1, 0],\n",
      "       [1, 1],\n",
      "       [2, 0],\n",
      "       [2, 1],\n",
      "       [3, 0],\n",
      "       [3, 1]]), values=array([ 0,  0,  1,  0,  2,  1, -1, -1]), dense_shape=array([4, 2]))]\n",
      "use input_layer________________________________________\n",
      "[array([[2., 0., 0.],\n",
      "       [1., 1., 0.],\n",
      "       [0., 1., 1.],\n",
      "       [0., 0., 0.]], dtype=float32)]\n"
     ]
    }
   ],
   "source": [
    "test_categorical_column_with_vocabulary_list()"
   ]
  },
  {
   "cell_type": "markdown",
   "metadata": {},
   "source": [
    "### categorical_column_with_hash_bucket"
   ]
  },
  {
   "cell_type": "code",
   "execution_count": 6,
   "metadata": {},
   "outputs": [],
   "source": [
    "def test_categorical_column_with_hash_bucket():\n",
    "\n",
    "    color_data = {'color': [['R'], ['G'], ['B'], ['A']]}  # 4行样本\n",
    "\n",
    "    builder = _LazyBuilder(color_data)\n",
    "\n",
    "    color_column = feature_column.categorical_column_with_hash_bucket('color', 7)\n",
    "\n",
    "    color_column_tensor = color_column._get_sparse_tensors(builder)\n",
    "\n",
    "    with tf.Session() as session:\n",
    "        session.run(tf.global_variables_initializer())\n",
    "\n",
    "        session.run(tf.tables_initializer())\n",
    "\n",
    "        print(session.run([color_column_tensor.id_tensor]))\n",
    "\n",
    "    # 将稀疏的转换成dense，也就是one-hot形式，只是multi-hot\n",
    "    color_column_identy = feature_column.indicator_column(color_column)\n",
    "\n",
    "    color_dense_tensor = feature_column.input_layer(color_data, [color_column_identy])\n",
    "\n",
    "    with tf.Session() as session:\n",
    "        session.run(tf.global_variables_initializer())\n",
    "\n",
    "        session.run(tf.tables_initializer())\n",
    "\n",
    "        print('use input_layer' + '_' * 40)\n",
    "        print(session.run([color_dense_tensor]))"
   ]
  },
  {
   "cell_type": "code",
   "execution_count": 7,
   "metadata": {},
   "outputs": [
    {
     "name": "stdout",
     "output_type": "stream",
     "text": [
      "[SparseTensorValue(indices=array([[0, 0],\n",
      "       [1, 0],\n",
      "       [2, 0],\n",
      "       [3, 0]]), values=array([5, 2, 6, 3]), dense_shape=array([4, 1]))]\n",
      "use input_layer________________________________________\n",
      "[array([[0., 0., 0., 0., 0., 1., 0.],\n",
      "       [0., 0., 1., 0., 0., 0., 0.],\n",
      "       [0., 0., 0., 0., 0., 0., 1.],\n",
      "       [0., 0., 0., 1., 0., 0., 0.]], dtype=float32)]\n"
     ]
    }
   ],
   "source": [
    "test_categorical_column_with_hash_bucket()"
   ]
  },
  {
   "cell_type": "markdown",
   "metadata": {},
   "source": [
    "### embedding_column"
   ]
  },
  {
   "cell_type": "code",
   "execution_count": 8,
   "metadata": {},
   "outputs": [],
   "source": [
    "def test_embedding():\n",
    "    color_data = {'color': [['R'], ['G'], ['B'], ['A']]}  # 4行样本\n",
    "\n",
    "    color_column = feature_column.categorical_column_with_vocabulary_list(\n",
    "        'color', ['R', 'G', 'B'], dtype=tf.string, default_value=-1\n",
    "    )\n",
    "\n",
    "    color_embeding = feature_column.embedding_column(color_column, 8)\n",
    "    color_embeding_dense_tensor = feature_column.input_layer(color_data, [color_embeding])\n",
    "\n",
    "    with tf.Session() as session:\n",
    "        session.run(tf.global_variables_initializer())\n",
    "\n",
    "        session.run(tf.tables_initializer())\n",
    "\n",
    "        print('embeding' + '_' * 40)\n",
    "        print(session.run([color_embeding_dense_tensor]))"
   ]
  },
  {
   "cell_type": "code",
   "execution_count": 9,
   "metadata": {},
   "outputs": [
    {
     "name": "stdout",
     "output_type": "stream",
     "text": [
      "embeding________________________________________\n",
      "[array([[-0.48452854,  0.00072224,  0.47728175,  0.58868843, -0.29272023,\n",
      "        -0.24645145, -0.11571419, -0.0120658 ],\n",
      "       [-0.08538716,  0.0464833 , -0.04951673, -0.07914135,  0.31585735,\n",
      "         0.29965273, -0.01657117,  0.07479684],\n",
      "       [ 0.13528614, -0.07837002, -0.5130413 , -0.4060412 , -0.21372862,\n",
      "        -0.12371349,  0.38646778, -0.1806267 ],\n",
      "       [ 0.        ,  0.        ,  0.        ,  0.        ,  0.        ,\n",
      "         0.        ,  0.        ,  0.        ]], dtype=float32)]\n"
     ]
    }
   ],
   "source": [
    "test_embedding()"
   ]
  },
  {
   "cell_type": "markdown",
   "metadata": {},
   "source": [
    "### weighted_categorical_column"
   ]
  },
  {
   "cell_type": "code",
   "execution_count": 10,
   "metadata": {},
   "outputs": [],
   "source": [
    "def test_weighted_categorical_column():\n",
    "    color_data = {'color': [['R'], ['G'], ['B'], ['A']],\n",
    "                  'weight': [[1.0], [2.0], [4.0], [8.0]]}  # 4行样本\n",
    "\n",
    "    color_column = feature_column.categorical_column_with_vocabulary_list(\n",
    "        'color', ['R', 'G', 'B'], dtype=tf.string, default_value=-1\n",
    "    )\n",
    "\n",
    "    color_weight_categorical_column = feature_column.weighted_categorical_column(color_column, 'weight')\n",
    "\n",
    "    builder = _LazyBuilder(color_data)\n",
    "\n",
    "    with tf.Session() as session:\n",
    "        id_tensor, weight = color_weight_categorical_column._get_sparse_tensors(builder)\n",
    "\n",
    "        session.run(tf.global_variables_initializer())\n",
    "\n",
    "        session.run(tf.tables_initializer())\n",
    "\n",
    "        print('weighted categorical' + '-' * 40)\n",
    "\n",
    "        print(session.run([id_tensor]))\n",
    "        print('-' * 40)\n",
    "        print(session.run([weight]))"
   ]
  },
  {
   "cell_type": "code",
   "execution_count": 11,
   "metadata": {},
   "outputs": [
    {
     "name": "stdout",
     "output_type": "stream",
     "text": [
      "weighted categorical----------------------------------------\n",
      "[SparseTensorValue(indices=array([[0, 0],\n",
      "       [1, 0],\n",
      "       [2, 0],\n",
      "       [3, 0]]), values=array([ 0,  1,  2, -1]), dense_shape=array([4, 1]))]\n",
      "----------------------------------------\n",
      "[SparseTensorValue(indices=array([[0, 0],\n",
      "       [1, 0],\n",
      "       [2, 0],\n",
      "       [3, 0]]), values=array([1., 2., 4., 8.], dtype=float32), dense_shape=array([4, 1]))]\n"
     ]
    }
   ],
   "source": [
    "test_weighted_categorical_column()"
   ]
  },
  {
   "cell_type": "markdown",
   "metadata": {},
   "source": [
    "### crossed_column"
   ]
  },
  {
   "cell_type": "code",
   "execution_count": 12,
   "metadata": {},
   "outputs": [],
   "source": [
    "def test_crossed_column():\n",
    "    \"\"\"\n",
    "    crossed column测试\n",
    "    :return:\n",
    "    \"\"\"\n",
    "    featrues = {\n",
    "        'price': [['A', 'A'], ['B', 'D'], ['C', 'A']],\n",
    "        'color': [['R', 'R'], ['G', 'G'], ['B', 'B']]\n",
    "    }\n",
    "\n",
    "    price = feature_column.categorical_column_with_vocabulary_list('price',\n",
    "                                                                   ['A', 'B', 'C', 'D'])\n",
    "    color = feature_column.categorical_column_with_vocabulary_list('color',\n",
    "                                                                   ['R', 'G', 'B'])\n",
    "    p_x_c = feature_column.crossed_column([price, color], 16)\n",
    "\n",
    "    p_x_c_identy = feature_column.indicator_column(p_x_c)\n",
    "\n",
    "    p_x_c_identy_dense_tensor = feature_column.input_layer(featrues, [p_x_c_identy])\n",
    "\n",
    "    with tf.Session() as session:\n",
    "        session.run(tf.global_variables_initializer())\n",
    "\n",
    "        session.run(tf.tables_initializer())\n",
    "\n",
    "        print('use input_layer' + '_' * 40)\n",
    "        print(session.run([p_x_c_identy_dense_tensor]))"
   ]
  },
  {
   "cell_type": "code",
   "execution_count": 13,
   "metadata": {},
   "outputs": [
    {
     "name": "stdout",
     "output_type": "stream",
     "text": [
      "use input_layer________________________________________\n",
      "[array([[0., 0., 0., 0., 0., 0., 0., 0., 4., 0., 0., 0., 0., 0., 0., 0.],\n",
      "       [0., 0., 0., 0., 2., 0., 0., 0., 0., 2., 0., 0., 0., 0., 0., 0.],\n",
      "       [0., 0., 0., 0., 0., 0., 0., 0., 0., 0., 0., 2., 0., 0., 2., 0.]],\n",
      "      dtype=float32)]\n"
     ]
    }
   ],
   "source": [
    "test_crossed_column()"
   ]
  },
  {
   "cell_type": "code",
   "execution_count": null,
   "metadata": {},
   "outputs": [],
   "source": []
  }
 ],
 "metadata": {
  "kernelspec": {
   "display_name": "Python 3",
   "language": "python",
   "name": "python3"
  },
  "language_info": {
   "codemirror_mode": {
    "name": "ipython",
    "version": 3
   },
   "file_extension": ".py",
   "mimetype": "text/x-python",
   "name": "python",
   "nbconvert_exporter": "python",
   "pygments_lexer": "ipython3",
   "version": "3.6.1"
  }
 },
 "nbformat": 4,
 "nbformat_minor": 2
}
