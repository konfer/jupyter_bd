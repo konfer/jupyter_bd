{
 "cells": [
  {
   "cell_type": "code",
   "execution_count": 1,
   "metadata": {},
   "outputs": [],
   "source": [
    "x <- c(10.4, 5.6, 3.1, 6.4, 21.7)"
   ]
  },
  {
   "cell_type": "code",
   "execution_count": 2,
   "metadata": {},
   "outputs": [
    {
     "data": {
      "text/html": [
       "<style>\n",
       ".list-inline {list-style: none; margin:0; padding: 0}\n",
       ".list-inline>li {display: inline-block}\n",
       ".list-inline>li:not(:last-child)::after {content: \"\\00b7\"; padding: 0 .5ex}\n",
       "</style>\n",
       "<ol class=list-inline><li>10.4</li><li>5.6</li><li>3.1</li><li>6.4</li><li>21.7</li></ol>\n"
      ],
      "text/latex": [
       "\\begin{enumerate*}\n",
       "\\item 10.4\n",
       "\\item 5.6\n",
       "\\item 3.1\n",
       "\\item 6.4\n",
       "\\item 21.7\n",
       "\\end{enumerate*}\n"
      ],
      "text/markdown": [
       "1. 10.4\n",
       "2. 5.6\n",
       "3. 3.1\n",
       "4. 6.4\n",
       "5. 21.7\n",
       "\n",
       "\n"
      ],
      "text/plain": [
       "[1] 10.4  5.6  3.1  6.4 21.7"
      ]
     },
     "metadata": {},
     "output_type": "display_data"
    }
   ],
   "source": [
    "x"
   ]
  },
  {
   "cell_type": "code",
   "execution_count": 3,
   "metadata": {},
   "outputs": [
    {
     "data": {
      "text/html": [
       "<style>\n",
       ".list-inline {list-style: none; margin:0; padding: 0}\n",
       ".list-inline>li {display: inline-block}\n",
       ".list-inline>li:not(:last-child)::after {content: \"\\00b7\"; padding: 0 .5ex}\n",
       "</style>\n",
       "<ol class=list-inline><li>0.0961538461538461</li><li>0.178571428571429</li><li>0.32258064516129</li><li>0.15625</li><li>0.0460829493087558</li></ol>\n"
      ],
      "text/latex": [
       "\\begin{enumerate*}\n",
       "\\item 0.0961538461538461\n",
       "\\item 0.178571428571429\n",
       "\\item 0.32258064516129\n",
       "\\item 0.15625\n",
       "\\item 0.0460829493087558\n",
       "\\end{enumerate*}\n"
      ],
      "text/markdown": [
       "1. 0.0961538461538461\n",
       "2. 0.178571428571429\n",
       "3. 0.32258064516129\n",
       "4. 0.15625\n",
       "5. 0.0460829493087558\n",
       "\n",
       "\n"
      ],
      "text/plain": [
       "[1] 0.09615385 0.17857143 0.32258065 0.15625000 0.04608295"
      ]
     },
     "metadata": {},
     "output_type": "display_data"
    }
   ],
   "source": [
    "1/x"
   ]
  },
  {
   "cell_type": "code",
   "execution_count": 4,
   "metadata": {},
   "outputs": [],
   "source": [
    "y <- c(x, 0, x)"
   ]
  },
  {
   "cell_type": "code",
   "execution_count": 5,
   "metadata": {},
   "outputs": [
    {
     "data": {
      "text/html": [
       "<style>\n",
       ".list-inline {list-style: none; margin:0; padding: 0}\n",
       ".list-inline>li {display: inline-block}\n",
       ".list-inline>li:not(:last-child)::after {content: \"\\00b7\"; padding: 0 .5ex}\n",
       "</style>\n",
       "<ol class=list-inline><li>10.4</li><li>5.6</li><li>3.1</li><li>6.4</li><li>21.7</li><li>0</li><li>10.4</li><li>5.6</li><li>3.1</li><li>6.4</li><li>21.7</li></ol>\n"
      ],
      "text/latex": [
       "\\begin{enumerate*}\n",
       "\\item 10.4\n",
       "\\item 5.6\n",
       "\\item 3.1\n",
       "\\item 6.4\n",
       "\\item 21.7\n",
       "\\item 0\n",
       "\\item 10.4\n",
       "\\item 5.6\n",
       "\\item 3.1\n",
       "\\item 6.4\n",
       "\\item 21.7\n",
       "\\end{enumerate*}\n"
      ],
      "text/markdown": [
       "1. 10.4\n",
       "2. 5.6\n",
       "3. 3.1\n",
       "4. 6.4\n",
       "5. 21.7\n",
       "6. 0\n",
       "7. 10.4\n",
       "8. 5.6\n",
       "9. 3.1\n",
       "10. 6.4\n",
       "11. 21.7\n",
       "\n",
       "\n"
      ],
      "text/plain": [
       " [1] 10.4  5.6  3.1  6.4 21.7  0.0 10.4  5.6  3.1  6.4 21.7"
      ]
     },
     "metadata": {},
     "output_type": "display_data"
    }
   ],
   "source": [
    "y"
   ]
  },
  {
   "cell_type": "code",
   "execution_count": 6,
   "metadata": {},
   "outputs": [
    {
     "name": "stderr",
     "output_type": "stream",
     "text": [
      "Warning message in 2 * x + y:\n",
      "“longer object length is not a multiple of shorter object length”\n"
     ]
    }
   ],
   "source": [
    "v <- 2*x + y + 1"
   ]
  },
  {
   "cell_type": "code",
   "execution_count": 7,
   "metadata": {},
   "outputs": [
    {
     "data": {
      "text/html": [
       "<style>\n",
       ".list-inline {list-style: none; margin:0; padding: 0}\n",
       ".list-inline>li {display: inline-block}\n",
       ".list-inline>li:not(:last-child)::after {content: \"\\00b7\"; padding: 0 .5ex}\n",
       "</style>\n",
       "<ol class=list-inline><li>32.2</li><li>17.8</li><li>10.3</li><li>20.2</li><li>66.1</li><li>21.8</li><li>22.6</li><li>12.8</li><li>16.9</li><li>50.8</li><li>43.5</li></ol>\n"
      ],
      "text/latex": [
       "\\begin{enumerate*}\n",
       "\\item 32.2\n",
       "\\item 17.8\n",
       "\\item 10.3\n",
       "\\item 20.2\n",
       "\\item 66.1\n",
       "\\item 21.8\n",
       "\\item 22.6\n",
       "\\item 12.8\n",
       "\\item 16.9\n",
       "\\item 50.8\n",
       "\\item 43.5\n",
       "\\end{enumerate*}\n"
      ],
      "text/markdown": [
       "1. 32.2\n",
       "2. 17.8\n",
       "3. 10.3\n",
       "4. 20.2\n",
       "5. 66.1\n",
       "6. 21.8\n",
       "7. 22.6\n",
       "8. 12.8\n",
       "9. 16.9\n",
       "10. 50.8\n",
       "11. 43.5\n",
       "\n",
       "\n"
      ],
      "text/plain": [
       " [1] 32.2 17.8 10.3 20.2 66.1 21.8 22.6 12.8 16.9 50.8 43.5"
      ]
     },
     "metadata": {},
     "output_type": "display_data"
    }
   ],
   "source": [
    "v"
   ]
  },
  {
   "cell_type": "code",
   "execution_count": 8,
   "metadata": {},
   "outputs": [
    {
     "data": {
      "text/html": [
       "<style>\n",
       ".list-inline {list-style: none; margin:0; padding: 0}\n",
       ".list-inline>li {display: inline-block}\n",
       ".list-inline>li:not(:last-child)::after {content: \"\\00b7\"; padding: 0 .5ex}\n",
       "</style>\n",
       "<ol class=list-inline><li>20.8</li><li>11.2</li><li>6.2</li><li>12.8</li><li>43.4</li></ol>\n"
      ],
      "text/latex": [
       "\\begin{enumerate*}\n",
       "\\item 20.8\n",
       "\\item 11.2\n",
       "\\item 6.2\n",
       "\\item 12.8\n",
       "\\item 43.4\n",
       "\\end{enumerate*}\n"
      ],
      "text/markdown": [
       "1. 20.8\n",
       "2. 11.2\n",
       "3. 6.2\n",
       "4. 12.8\n",
       "5. 43.4\n",
       "\n",
       "\n"
      ],
      "text/plain": [
       "[1] 20.8 11.2  6.2 12.8 43.4"
      ]
     },
     "metadata": {},
     "output_type": "display_data"
    }
   ],
   "source": [
    "2*x"
   ]
  },
  {
   "cell_type": "code",
   "execution_count": 9,
   "metadata": {},
   "outputs": [
    {
     "data": {
      "text/html": [
       "<style>\n",
       ".list-inline {list-style: none; margin:0; padding: 0}\n",
       ".list-inline>li {display: inline-block}\n",
       ".list-inline>li:not(:last-child)::after {content: \"\\00b7\"; padding: 0 .5ex}\n",
       "</style>\n",
       "<ol class=list-inline><li>3.1</li><li>21.7</li></ol>\n"
      ],
      "text/latex": [
       "\\begin{enumerate*}\n",
       "\\item 3.1\n",
       "\\item 21.7\n",
       "\\end{enumerate*}\n"
      ],
      "text/markdown": [
       "1. 3.1\n",
       "2. 21.7\n",
       "\n",
       "\n"
      ],
      "text/plain": [
       "[1]  3.1 21.7"
      ]
     },
     "metadata": {},
     "output_type": "display_data"
    }
   ],
   "source": [
    "range(min(x), max(x))"
   ]
  },
  {
   "cell_type": "code",
   "execution_count": 10,
   "metadata": {},
   "outputs": [
    {
     "data": {
      "text/html": [
       "<style>\n",
       ".list-inline {list-style: none; margin:0; padding: 0}\n",
       ".list-inline>li {display: inline-block}\n",
       ".list-inline>li:not(:last-child)::after {content: \"\\00b7\"; padding: 0 .5ex}\n",
       "</style>\n",
       "<ol class=list-inline><li>3.1</li><li>21.7</li></ol>\n"
      ],
      "text/latex": [
       "\\begin{enumerate*}\n",
       "\\item 3.1\n",
       "\\item 21.7\n",
       "\\end{enumerate*}\n"
      ],
      "text/markdown": [
       "1. 3.1\n",
       "2. 21.7\n",
       "\n",
       "\n"
      ],
      "text/plain": [
       "[1]  3.1 21.7"
      ]
     },
     "metadata": {},
     "output_type": "display_data"
    }
   ],
   "source": [
    "c(min(x), max(x))"
   ]
  },
  {
   "cell_type": "code",
   "execution_count": 11,
   "metadata": {},
   "outputs": [
    {
     "data": {
      "text/html": [
       "5"
      ],
      "text/latex": [
       "5"
      ],
      "text/markdown": [
       "5"
      ],
      "text/plain": [
       "[1] 5"
      ]
     },
     "metadata": {},
     "output_type": "display_data"
    }
   ],
   "source": [
    "length(x)"
   ]
  },
  {
   "cell_type": "code",
   "execution_count": 12,
   "metadata": {},
   "outputs": [
    {
     "data": {
      "text/html": [
       "47.2"
      ],
      "text/latex": [
       "47.2"
      ],
      "text/markdown": [
       "47.2"
      ],
      "text/plain": [
       "[1] 47.2"
      ]
     },
     "metadata": {},
     "output_type": "display_data"
    }
   ],
   "source": [
    "sum(x)"
   ]
  },
  {
   "cell_type": "code",
   "execution_count": 13,
   "metadata": {},
   "outputs": [
    {
     "data": {
      "text/html": [
       "25073.95072"
      ],
      "text/latex": [
       "25073.95072"
      ],
      "text/markdown": [
       "25073.95072"
      ],
      "text/plain": [
       "[1] 25073.95"
      ]
     },
     "metadata": {},
     "output_type": "display_data"
    }
   ],
   "source": [
    "prod(x)"
   ]
  },
  {
   "cell_type": "code",
   "execution_count": 14,
   "metadata": {},
   "outputs": [
    {
     "data": {
      "text/html": [
       "9.44"
      ],
      "text/latex": [
       "9.44"
      ],
      "text/markdown": [
       "9.44"
      ],
      "text/plain": [
       "[1] 9.44"
      ]
     },
     "metadata": {},
     "output_type": "display_data"
    }
   ],
   "source": [
    "mean(x)"
   ]
  },
  {
   "cell_type": "code",
   "execution_count": 15,
   "metadata": {},
   "outputs": [
    {
     "data": {
      "text/html": [
       "53.853"
      ],
      "text/latex": [
       "53.853"
      ],
      "text/markdown": [
       "53.853"
      ],
      "text/plain": [
       "[1] 53.853"
      ]
     },
     "metadata": {},
     "output_type": "display_data"
    }
   ],
   "source": [
    "var(x)"
   ]
  },
  {
   "cell_type": "code",
   "execution_count": 16,
   "metadata": {},
   "outputs": [],
   "source": [
    "help(seq)"
   ]
  },
  {
   "cell_type": "code",
   "execution_count": 17,
   "metadata": {},
   "outputs": [
    {
     "data": {
      "text/html": [
       "<style>\n",
       ".list-inline {list-style: none; margin:0; padding: 0}\n",
       ".list-inline>li {display: inline-block}\n",
       ".list-inline>li:not(:last-child)::after {content: \"\\00b7\"; padding: 0 .5ex}\n",
       "</style>\n",
       "<ol class=list-inline><li>10.4</li><li>5.6</li><li>3.1</li><li>6.4</li><li>21.7</li><li>10.4</li><li>5.6</li><li>3.1</li><li>6.4</li><li>21.7</li><li>10.4</li><li>5.6</li><li>3.1</li><li>6.4</li><li>21.7</li><li>10.4</li><li>5.6</li><li>3.1</li><li>6.4</li><li>21.7</li><li>10.4</li><li>5.6</li><li>3.1</li><li>6.4</li><li>21.7</li></ol>\n"
      ],
      "text/latex": [
       "\\begin{enumerate*}\n",
       "\\item 10.4\n",
       "\\item 5.6\n",
       "\\item 3.1\n",
       "\\item 6.4\n",
       "\\item 21.7\n",
       "\\item 10.4\n",
       "\\item 5.6\n",
       "\\item 3.1\n",
       "\\item 6.4\n",
       "\\item 21.7\n",
       "\\item 10.4\n",
       "\\item 5.6\n",
       "\\item 3.1\n",
       "\\item 6.4\n",
       "\\item 21.7\n",
       "\\item 10.4\n",
       "\\item 5.6\n",
       "\\item 3.1\n",
       "\\item 6.4\n",
       "\\item 21.7\n",
       "\\item 10.4\n",
       "\\item 5.6\n",
       "\\item 3.1\n",
       "\\item 6.4\n",
       "\\item 21.7\n",
       "\\end{enumerate*}\n"
      ],
      "text/markdown": [
       "1. 10.4\n",
       "2. 5.6\n",
       "3. 3.1\n",
       "4. 6.4\n",
       "5. 21.7\n",
       "6. 10.4\n",
       "7. 5.6\n",
       "8. 3.1\n",
       "9. 6.4\n",
       "10. 21.7\n",
       "11. 10.4\n",
       "12. 5.6\n",
       "13. 3.1\n",
       "14. 6.4\n",
       "15. 21.7\n",
       "16. 10.4\n",
       "17. 5.6\n",
       "18. 3.1\n",
       "19. 6.4\n",
       "20. 21.7\n",
       "21. 10.4\n",
       "22. 5.6\n",
       "23. 3.1\n",
       "24. 6.4\n",
       "25. 21.7\n",
       "\n",
       "\n"
      ],
      "text/plain": [
       " [1] 10.4  5.6  3.1  6.4 21.7 10.4  5.6  3.1  6.4 21.7 10.4  5.6  3.1  6.4 21.7\n",
       "[16] 10.4  5.6  3.1  6.4 21.7 10.4  5.6  3.1  6.4 21.7"
      ]
     },
     "metadata": {},
     "output_type": "display_data"
    }
   ],
   "source": [
    "rep(x, times=5)"
   ]
  },
  {
   "cell_type": "code",
   "execution_count": 18,
   "metadata": {},
   "outputs": [
    {
     "data": {
      "text/html": [
       "<style>\n",
       ".list-inline {list-style: none; margin:0; padding: 0}\n",
       ".list-inline>li {display: inline-block}\n",
       ".list-inline>li:not(:last-child)::after {content: \"\\00b7\"; padding: 0 .5ex}\n",
       "</style>\n",
       "<ol class=list-inline><li>10.4</li><li>10.4</li><li>10.4</li><li>10.4</li><li>10.4</li><li>5.6</li><li>5.6</li><li>5.6</li><li>5.6</li><li>5.6</li><li>3.1</li><li>3.1</li><li>3.1</li><li>3.1</li><li>3.1</li><li>6.4</li><li>6.4</li><li>6.4</li><li>6.4</li><li>6.4</li><li>21.7</li><li>21.7</li><li>21.7</li><li>21.7</li><li>21.7</li></ol>\n"
      ],
      "text/latex": [
       "\\begin{enumerate*}\n",
       "\\item 10.4\n",
       "\\item 10.4\n",
       "\\item 10.4\n",
       "\\item 10.4\n",
       "\\item 10.4\n",
       "\\item 5.6\n",
       "\\item 5.6\n",
       "\\item 5.6\n",
       "\\item 5.6\n",
       "\\item 5.6\n",
       "\\item 3.1\n",
       "\\item 3.1\n",
       "\\item 3.1\n",
       "\\item 3.1\n",
       "\\item 3.1\n",
       "\\item 6.4\n",
       "\\item 6.4\n",
       "\\item 6.4\n",
       "\\item 6.4\n",
       "\\item 6.4\n",
       "\\item 21.7\n",
       "\\item 21.7\n",
       "\\item 21.7\n",
       "\\item 21.7\n",
       "\\item 21.7\n",
       "\\end{enumerate*}\n"
      ],
      "text/markdown": [
       "1. 10.4\n",
       "2. 10.4\n",
       "3. 10.4\n",
       "4. 10.4\n",
       "5. 10.4\n",
       "6. 5.6\n",
       "7. 5.6\n",
       "8. 5.6\n",
       "9. 5.6\n",
       "10. 5.6\n",
       "11. 3.1\n",
       "12. 3.1\n",
       "13. 3.1\n",
       "14. 3.1\n",
       "15. 3.1\n",
       "16. 6.4\n",
       "17. 6.4\n",
       "18. 6.4\n",
       "19. 6.4\n",
       "20. 6.4\n",
       "21. 21.7\n",
       "22. 21.7\n",
       "23. 21.7\n",
       "24. 21.7\n",
       "25. 21.7\n",
       "\n",
       "\n"
      ],
      "text/plain": [
       " [1] 10.4 10.4 10.4 10.4 10.4  5.6  5.6  5.6  5.6  5.6  3.1  3.1  3.1  3.1  3.1\n",
       "[16]  6.4  6.4  6.4  6.4  6.4 21.7 21.7 21.7 21.7 21.7"
      ]
     },
     "metadata": {},
     "output_type": "display_data"
    }
   ],
   "source": [
    "rep(x, each=5)"
   ]
  },
  {
   "cell_type": "code",
   "execution_count": 19,
   "metadata": {},
   "outputs": [],
   "source": [
    "state <- c(\"tas\", \"sa\", \"qld\", \"nsw\", \"nsw\", \"nt\", \n",
    "           \"wa\", \"wa\", \"qld\", \"vic\", \"nsw\", \"vic\",\n",
    "           \"qld\", \"qld\", \"sa\", \"tas\", \"sa\", \"nt\",\n",
    "           \"wa\", \"vic\", \"qld\", \"nsw\", \"nsw\", \"wa\", \n",
    "           \"sa\", \"act\", \"nsw\", \"vic\", \"vic\", \"act\")"
   ]
  },
  {
   "cell_type": "code",
   "execution_count": 20,
   "metadata": {},
   "outputs": [
    {
     "data": {
      "text/html": [
       "<style>\n",
       ".list-inline {list-style: none; margin:0; padding: 0}\n",
       ".list-inline>li {display: inline-block}\n",
       ".list-inline>li:not(:last-child)::after {content: \"\\00b7\"; padding: 0 .5ex}\n",
       "</style>\n",
       "<ol class=list-inline><li>'tas'</li><li>'sa'</li><li>'qld'</li><li>'nsw'</li><li>'nsw'</li><li>'nt'</li><li>'wa'</li><li>'wa'</li><li>'qld'</li><li>'vic'</li><li>'nsw'</li><li>'vic'</li><li>'qld'</li><li>'qld'</li><li>'sa'</li><li>'tas'</li><li>'sa'</li><li>'nt'</li><li>'wa'</li><li>'vic'</li><li>'qld'</li><li>'nsw'</li><li>'nsw'</li><li>'wa'</li><li>'sa'</li><li>'act'</li><li>'nsw'</li><li>'vic'</li><li>'vic'</li><li>'act'</li></ol>\n"
      ],
      "text/latex": [
       "\\begin{enumerate*}\n",
       "\\item 'tas'\n",
       "\\item 'sa'\n",
       "\\item 'qld'\n",
       "\\item 'nsw'\n",
       "\\item 'nsw'\n",
       "\\item 'nt'\n",
       "\\item 'wa'\n",
       "\\item 'wa'\n",
       "\\item 'qld'\n",
       "\\item 'vic'\n",
       "\\item 'nsw'\n",
       "\\item 'vic'\n",
       "\\item 'qld'\n",
       "\\item 'qld'\n",
       "\\item 'sa'\n",
       "\\item 'tas'\n",
       "\\item 'sa'\n",
       "\\item 'nt'\n",
       "\\item 'wa'\n",
       "\\item 'vic'\n",
       "\\item 'qld'\n",
       "\\item 'nsw'\n",
       "\\item 'nsw'\n",
       "\\item 'wa'\n",
       "\\item 'sa'\n",
       "\\item 'act'\n",
       "\\item 'nsw'\n",
       "\\item 'vic'\n",
       "\\item 'vic'\n",
       "\\item 'act'\n",
       "\\end{enumerate*}\n"
      ],
      "text/markdown": [
       "1. 'tas'\n",
       "2. 'sa'\n",
       "3. 'qld'\n",
       "4. 'nsw'\n",
       "5. 'nsw'\n",
       "6. 'nt'\n",
       "7. 'wa'\n",
       "8. 'wa'\n",
       "9. 'qld'\n",
       "10. 'vic'\n",
       "11. 'nsw'\n",
       "12. 'vic'\n",
       "13. 'qld'\n",
       "14. 'qld'\n",
       "15. 'sa'\n",
       "16. 'tas'\n",
       "17. 'sa'\n",
       "18. 'nt'\n",
       "19. 'wa'\n",
       "20. 'vic'\n",
       "21. 'qld'\n",
       "22. 'nsw'\n",
       "23. 'nsw'\n",
       "24. 'wa'\n",
       "25. 'sa'\n",
       "26. 'act'\n",
       "27. 'nsw'\n",
       "28. 'vic'\n",
       "29. 'vic'\n",
       "30. 'act'\n",
       "\n",
       "\n"
      ],
      "text/plain": [
       " [1] \"tas\" \"sa\"  \"qld\" \"nsw\" \"nsw\" \"nt\"  \"wa\"  \"wa\"  \"qld\" \"vic\" \"nsw\" \"vic\"\n",
       "[13] \"qld\" \"qld\" \"sa\"  \"tas\" \"sa\"  \"nt\"  \"wa\"  \"vic\" \"qld\" \"nsw\" \"nsw\" \"wa\" \n",
       "[25] \"sa\"  \"act\" \"nsw\" \"vic\" \"vic\" \"act\""
      ]
     },
     "metadata": {},
     "output_type": "display_data"
    }
   ],
   "source": [
    "state"
   ]
  },
  {
   "cell_type": "code",
   "execution_count": 21,
   "metadata": {},
   "outputs": [],
   "source": [
    "stateFactor <- factor(state)"
   ]
  },
  {
   "cell_type": "code",
   "execution_count": 22,
   "metadata": {},
   "outputs": [
    {
     "data": {
      "text/html": [
       "<style>\n",
       ".list-inline {list-style: none; margin:0; padding: 0}\n",
       ".list-inline>li {display: inline-block}\n",
       ".list-inline>li:not(:last-child)::after {content: \"\\00b7\"; padding: 0 .5ex}\n",
       "</style>\n",
       "<ol class=list-inline><li>tas</li><li>sa</li><li>qld</li><li>nsw</li><li>nsw</li><li>nt</li><li>wa</li><li>wa</li><li>qld</li><li>vic</li><li>nsw</li><li>vic</li><li>qld</li><li>qld</li><li>sa</li><li>tas</li><li>sa</li><li>nt</li><li>wa</li><li>vic</li><li>qld</li><li>nsw</li><li>nsw</li><li>wa</li><li>sa</li><li>act</li><li>nsw</li><li>vic</li><li>vic</li><li>act</li></ol>\n",
       "\n",
       "<details>\n",
       "\t<summary style=display:list-item;cursor:pointer>\n",
       "\t\t<strong>Levels</strong>:\n",
       "\t</summary>\n",
       "\t<style>\n",
       "\t.list-inline {list-style: none; margin:0; padding: 0}\n",
       "\t.list-inline>li {display: inline-block}\n",
       "\t.list-inline>li:not(:last-child)::after {content: \"\\00b7\"; padding: 0 .5ex}\n",
       "\t</style>\n",
       "\t<ol class=list-inline><li>'act'</li><li>'nsw'</li><li>'nt'</li><li>'qld'</li><li>'sa'</li><li>'tas'</li><li>'vic'</li><li>'wa'</li></ol>\n",
       "</details>"
      ],
      "text/latex": [
       "\\begin{enumerate*}\n",
       "\\item tas\n",
       "\\item sa\n",
       "\\item qld\n",
       "\\item nsw\n",
       "\\item nsw\n",
       "\\item nt\n",
       "\\item wa\n",
       "\\item wa\n",
       "\\item qld\n",
       "\\item vic\n",
       "\\item nsw\n",
       "\\item vic\n",
       "\\item qld\n",
       "\\item qld\n",
       "\\item sa\n",
       "\\item tas\n",
       "\\item sa\n",
       "\\item nt\n",
       "\\item wa\n",
       "\\item vic\n",
       "\\item qld\n",
       "\\item nsw\n",
       "\\item nsw\n",
       "\\item wa\n",
       "\\item sa\n",
       "\\item act\n",
       "\\item nsw\n",
       "\\item vic\n",
       "\\item vic\n",
       "\\item act\n",
       "\\end{enumerate*}\n",
       "\n",
       "\\emph{Levels}: \\begin{enumerate*}\n",
       "\\item 'act'\n",
       "\\item 'nsw'\n",
       "\\item 'nt'\n",
       "\\item 'qld'\n",
       "\\item 'sa'\n",
       "\\item 'tas'\n",
       "\\item 'vic'\n",
       "\\item 'wa'\n",
       "\\end{enumerate*}\n"
      ],
      "text/markdown": [
       "1. tas\n",
       "2. sa\n",
       "3. qld\n",
       "4. nsw\n",
       "5. nsw\n",
       "6. nt\n",
       "7. wa\n",
       "8. wa\n",
       "9. qld\n",
       "10. vic\n",
       "11. nsw\n",
       "12. vic\n",
       "13. qld\n",
       "14. qld\n",
       "15. sa\n",
       "16. tas\n",
       "17. sa\n",
       "18. nt\n",
       "19. wa\n",
       "20. vic\n",
       "21. qld\n",
       "22. nsw\n",
       "23. nsw\n",
       "24. wa\n",
       "25. sa\n",
       "26. act\n",
       "27. nsw\n",
       "28. vic\n",
       "29. vic\n",
       "30. act\n",
       "\n",
       "\n",
       "\n",
       "**Levels**: 1. 'act'\n",
       "2. 'nsw'\n",
       "3. 'nt'\n",
       "4. 'qld'\n",
       "5. 'sa'\n",
       "6. 'tas'\n",
       "7. 'vic'\n",
       "8. 'wa'\n",
       "\n",
       "\n"
      ],
      "text/plain": [
       " [1] tas sa  qld nsw nsw nt  wa  wa  qld vic nsw vic qld qld sa  tas sa  nt  wa \n",
       "[20] vic qld nsw nsw wa  sa  act nsw vic vic act\n",
       "Levels: act nsw nt qld sa tas vic wa"
      ]
     },
     "metadata": {},
     "output_type": "display_data"
    }
   ],
   "source": [
    "stateFactor"
   ]
  },
  {
   "cell_type": "code",
   "execution_count": 23,
   "metadata": {},
   "outputs": [
    {
     "data": {
      "text/html": [
       "<style>\n",
       ".list-inline {list-style: none; margin:0; padding: 0}\n",
       ".list-inline>li {display: inline-block}\n",
       ".list-inline>li:not(:last-child)::after {content: \"\\00b7\"; padding: 0 .5ex}\n",
       "</style>\n",
       "<ol class=list-inline><li>'act'</li><li>'nsw'</li><li>'nt'</li><li>'qld'</li><li>'sa'</li><li>'tas'</li><li>'vic'</li><li>'wa'</li></ol>\n"
      ],
      "text/latex": [
       "\\begin{enumerate*}\n",
       "\\item 'act'\n",
       "\\item 'nsw'\n",
       "\\item 'nt'\n",
       "\\item 'qld'\n",
       "\\item 'sa'\n",
       "\\item 'tas'\n",
       "\\item 'vic'\n",
       "\\item 'wa'\n",
       "\\end{enumerate*}\n"
      ],
      "text/markdown": [
       "1. 'act'\n",
       "2. 'nsw'\n",
       "3. 'nt'\n",
       "4. 'qld'\n",
       "5. 'sa'\n",
       "6. 'tas'\n",
       "7. 'vic'\n",
       "8. 'wa'\n",
       "\n",
       "\n"
      ],
      "text/plain": [
       "[1] \"act\" \"nsw\" \"nt\"  \"qld\" \"sa\"  \"tas\" \"vic\" \"wa\" "
      ]
     },
     "metadata": {},
     "output_type": "display_data"
    }
   ],
   "source": [
    "levels(stateFactor)"
   ]
  },
  {
   "cell_type": "code",
   "execution_count": 24,
   "metadata": {},
   "outputs": [],
   "source": [
    "incomes <- c(60, 49, 40, 61, 64, 60, 59, 54,\n",
    "             62, 69, 70, 42, 56, 61, 61, 61, \n",
    "             58, 51, 48, 65, 49, 49, 41, 48, \n",
    "             52, 46, 59, 46, 58, 43)"
   ]
  },
  {
   "cell_type": "code",
   "execution_count": 25,
   "metadata": {},
   "outputs": [],
   "source": [
    "incmeans <- tapply(incomes, stateFactor, mean)"
   ]
  },
  {
   "cell_type": "code",
   "execution_count": 26,
   "metadata": {},
   "outputs": [
    {
     "data": {
      "text/html": [
       "<style>\n",
       ".dl-inline {width: auto; margin:0; padding: 0}\n",
       ".dl-inline>dt, .dl-inline>dd {float: none; width: auto; display: inline-block}\n",
       ".dl-inline>dt::after {content: \":\\0020\"; padding-right: .5ex}\n",
       ".dl-inline>dt:not(:first-of-type) {padding-left: .5ex}\n",
       "</style><dl class=dl-inline><dt>act</dt><dd>44.5</dd><dt>nsw</dt><dd>57.3333333333333</dd><dt>nt</dt><dd>55.5</dd><dt>qld</dt><dd>53.6</dd><dt>sa</dt><dd>55</dd><dt>tas</dt><dd>60.5</dd><dt>vic</dt><dd>56</dd><dt>wa</dt><dd>52.25</dd></dl>\n"
      ],
      "text/latex": [
       "\\begin{description*}\n",
       "\\item[act] 44.5\n",
       "\\item[nsw] 57.3333333333333\n",
       "\\item[nt] 55.5\n",
       "\\item[qld] 53.6\n",
       "\\item[sa] 55\n",
       "\\item[tas] 60.5\n",
       "\\item[vic] 56\n",
       "\\item[wa] 52.25\n",
       "\\end{description*}\n"
      ],
      "text/markdown": [
       "act\n",
       ":   44.5nsw\n",
       ":   57.3333333333333nt\n",
       ":   55.5qld\n",
       ":   53.6sa\n",
       ":   55tas\n",
       ":   60.5vic\n",
       ":   56wa\n",
       ":   52.25\n",
       "\n"
      ],
      "text/plain": [
       "     act      nsw       nt      qld       sa      tas      vic       wa \n",
       "44.50000 57.33333 55.50000 53.60000 55.00000 60.50000 56.00000 52.25000 "
      ]
     },
     "metadata": {},
     "output_type": "display_data"
    }
   ],
   "source": [
    "incmeans"
   ]
  },
  {
   "cell_type": "code",
   "execution_count": 27,
   "metadata": {},
   "outputs": [],
   "source": [
    "stdError <- function(x){\n",
    "    print(x)\n",
    "    sqrt(var(x)/length(x))\n",
    "}"
   ]
  },
  {
   "cell_type": "code",
   "execution_count": 28,
   "metadata": {},
   "outputs": [
    {
     "name": "stdout",
     "output_type": "stream",
     "text": [
      "[1] 46 43\n",
      "[1] 61 64 70 49 41 59\n",
      "[1] 60 51\n",
      "[1] 40 62 56 61 49\n",
      "[1] 49 61 58 52\n",
      "[1] 60 61\n",
      "[1] 69 42 65 46 58\n",
      "[1] 59 54 48 48\n"
     ]
    }
   ],
   "source": [
    "incster <- tapply(incomes, stateFactor, stdError)"
   ]
  },
  {
   "cell_type": "code",
   "execution_count": 29,
   "metadata": {},
   "outputs": [
    {
     "data": {
      "text/html": [
       "<style>\n",
       ".dl-inline {width: auto; margin:0; padding: 0}\n",
       ".dl-inline>dt, .dl-inline>dd {float: none; width: auto; display: inline-block}\n",
       ".dl-inline>dt::after {content: \":\\0020\"; padding-right: .5ex}\n",
       ".dl-inline>dt:not(:first-of-type) {padding-left: .5ex}\n",
       "</style><dl class=dl-inline><dt>act</dt><dd>1.5</dd><dt>nsw</dt><dd>4.31019463339856</dd><dt>nt</dt><dd>4.5</dd><dt>qld</dt><dd>4.10609303352956</dd><dt>sa</dt><dd>2.73861278752583</dd><dt>tas</dt><dd>0.5</dd><dt>vic</dt><dd>5.24404424085076</dd><dt>wa</dt><dd>2.65753645318366</dd></dl>\n"
      ],
      "text/latex": [
       "\\begin{description*}\n",
       "\\item[act] 1.5\n",
       "\\item[nsw] 4.31019463339856\n",
       "\\item[nt] 4.5\n",
       "\\item[qld] 4.10609303352956\n",
       "\\item[sa] 2.73861278752583\n",
       "\\item[tas] 0.5\n",
       "\\item[vic] 5.24404424085076\n",
       "\\item[wa] 2.65753645318366\n",
       "\\end{description*}\n"
      ],
      "text/markdown": [
       "act\n",
       ":   1.5nsw\n",
       ":   4.31019463339856nt\n",
       ":   4.5qld\n",
       ":   4.10609303352956sa\n",
       ":   2.73861278752583tas\n",
       ":   0.5vic\n",
       ":   5.24404424085076wa\n",
       ":   2.65753645318366\n",
       "\n"
      ],
      "text/plain": [
       "     act      nsw       nt      qld       sa      tas      vic       wa \n",
       "1.500000 4.310195 4.500000 4.106093 2.738613 0.500000 5.244044 2.657536 "
      ]
     },
     "metadata": {},
     "output_type": "display_data"
    }
   ],
   "source": [
    "incster"
   ]
  },
  {
   "cell_type": "code",
   "execution_count": null,
   "metadata": {},
   "outputs": [],
   "source": []
  },
  {
   "cell_type": "code",
   "execution_count": null,
   "metadata": {},
   "outputs": [],
   "source": []
  },
  {
   "cell_type": "code",
   "execution_count": null,
   "metadata": {},
   "outputs": [],
   "source": []
  },
  {
   "cell_type": "code",
   "execution_count": null,
   "metadata": {},
   "outputs": [],
   "source": []
  },
  {
   "cell_type": "code",
   "execution_count": null,
   "metadata": {},
   "outputs": [],
   "source": []
  },
  {
   "cell_type": "code",
   "execution_count": null,
   "metadata": {},
   "outputs": [],
   "source": []
  },
  {
   "cell_type": "code",
   "execution_count": null,
   "metadata": {},
   "outputs": [],
   "source": []
  },
  {
   "cell_type": "code",
   "execution_count": null,
   "metadata": {},
   "outputs": [],
   "source": []
  },
  {
   "cell_type": "code",
   "execution_count": null,
   "metadata": {},
   "outputs": [],
   "source": []
  },
  {
   "cell_type": "code",
   "execution_count": null,
   "metadata": {},
   "outputs": [],
   "source": []
  },
  {
   "cell_type": "code",
   "execution_count": null,
   "metadata": {},
   "outputs": [],
   "source": []
  },
  {
   "cell_type": "code",
   "execution_count": null,
   "metadata": {},
   "outputs": [],
   "source": []
  },
  {
   "cell_type": "code",
   "execution_count": null,
   "metadata": {},
   "outputs": [],
   "source": []
  },
  {
   "cell_type": "code",
   "execution_count": null,
   "metadata": {},
   "outputs": [],
   "source": []
  },
  {
   "cell_type": "code",
   "execution_count": null,
   "metadata": {},
   "outputs": [],
   "source": [
    "\n"
   ]
  }
 ],
 "metadata": {
  "kernelspec": {
   "display_name": "R",
   "language": "R",
   "name": "ir"
  },
  "language_info": {
   "codemirror_mode": "r",
   "file_extension": ".r",
   "mimetype": "text/x-r-source",
   "name": "R",
   "pygments_lexer": "r",
   "version": "4.0.2"
  }
 },
 "nbformat": 4,
 "nbformat_minor": 4
}
