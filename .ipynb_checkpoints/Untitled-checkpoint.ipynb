{
 "cells": [
  {
   "cell_type": "code",
   "execution_count": 1,
   "id": "d06c92b1",
   "metadata": {
    "ExecuteTime": {
     "end_time": "2022-06-16T20:29:46.582020Z",
     "start_time": "2022-06-16T20:29:45.769Z"
    }
   },
   "outputs": [],
   "source": [
    "library(rJava)"
   ]
  },
  {
   "cell_type": "code",
   "execution_count": null,
   "id": "424f5e9c",
   "metadata": {},
   "outputs": [],
   "source": []
  }
 ],
 "metadata": {
  "hide_input": false,
  "kernelspec": {
   "display_name": "R",
   "language": "R",
   "name": "ir"
  },
  "language_info": {
   "codemirror_mode": "r",
   "file_extension": ".r",
   "mimetype": "text/x-r-source",
   "name": "R",
   "pygments_lexer": "r",
   "version": "4.2.0"
  },
  "toc": {
   "base_numbering": 1,
   "nav_menu": {},
   "number_sections": true,
   "sideBar": true,
   "skip_h1_title": false,
   "title_cell": "Table of Contents",
   "title_sidebar": "Contents",
   "toc_cell": false,
   "toc_position": {},
   "toc_section_display": true,
   "toc_window_display": false
  }
 },
 "nbformat": 4,
 "nbformat_minor": 5
}
