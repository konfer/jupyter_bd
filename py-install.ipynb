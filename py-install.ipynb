{
 "cells": [
  {
   "cell_type": "code",
   "execution_count": 78,
   "id": "d7a03c39",
   "metadata": {
    "scrolled": true
   },
   "outputs": [
    {
     "name": "stdout",
     "output_type": "stream",
     "text": [
      "Looking in indexes: https://mirrors.huaweicloud.com/repository/pypi/simple\n",
      "Collecting spacy\n",
      "  Using cached https://mirrors.huaweicloud.com/repository/pypi/packages/05/eb/a67f2bf174bb23844d007df56c0b393ff7e16f7d4909e83a394f79536aa4/spacy-3.5.3-cp38-cp38-manylinux_2_17_x86_64.manylinux2014_x86_64.whl (6.8 MB)\n",
      "Requirement already satisfied: packaging>=20.0 in /usr/local/lib/python3.8/dist-packages (from spacy) (23.1)\n",
      "Collecting langcodes<4.0.0,>=3.2.0\n",
      "  Downloading https://mirrors.huaweicloud.com/repository/pypi/packages/75/4f/8bbad15143db12009fdee3449d73c201fc6842ad5e1d1e84bc329f81f2c0/langcodes-3.2.1.tar.gz (173 kB)\n",
      "\u001b[K     |████████████████████████████████| 173 kB 1.6 MB/s eta 0:00:01\n",
      "\u001b[?25hRequirement already satisfied: numpy>=1.15.0 in /usr/local/lib/python3.8/dist-packages (from spacy) (1.24.2)\n",
      "Requirement already satisfied: tqdm<5.0.0,>=4.38.0 in /usr/local/lib/python3.8/dist-packages (from spacy) (4.63.1)\n",
      "Collecting srsly<3.0.0,>=2.4.3\n",
      "  Downloading https://mirrors.huaweicloud.com/repository/pypi/packages/fb/cb/655ed3fcdb56430576df936302f21f50acb4bd0cbc4b87410c9311ab72bc/srsly-2.4.4-cp38-cp38-manylinux_2_17_x86_64.manylinux2014_x86_64.whl (461 kB)\n",
      "\u001b[K     |████████████████████████████████| 461 kB 1.6 MB/s eta 0:00:01\n",
      "\u001b[?25hCollecting cymem<2.1.0,>=2.0.2\n",
      "  Downloading https://mirrors.huaweicloud.com/repository/pypi/packages/d4/23/e1ea9b36df7320f0281ed7a3aaa135c9596c2409d4f6d55e958fdad9e11c/cymem-2.0.6-cp38-cp38-manylinux_2_17_x86_64.manylinux2014_x86_64.whl (36 kB)\n",
      "Collecting wasabi<1.2.0,>=0.9.1\n",
      "  Using cached https://mirrors.huaweicloud.com/repository/pypi/packages/34/74/bd566f876c2de097e75d525c2696fb9829009987a0d93a4fb3576778a0a8/wasabi-0.10.1-py3-none-any.whl (26 kB)\n",
      "Collecting catalogue<2.1.0,>=2.0.6\n",
      "  Downloading https://mirrors.huaweicloud.com/repository/pypi/packages/dc/28/a2b0cc4bfa7916ef9caf08475be5810fc564411c5a801f225a1f40a458c5/catalogue-2.0.8-py3-none-any.whl (17 kB)\n",
      "Collecting preshed<3.1.0,>=3.0.2\n",
      "  Using cached https://mirrors.huaweicloud.com/repository/pypi/packages/aa/de/abddec1189eb3ca7ff9193c17eecdccce03c0b47167c9acf0da248432476/preshed-3.0.6-cp38-cp38-manylinux_2_5_x86_64.manylinux1_x86_64.manylinux_2_17_x86_64.manylinux2014_x86_64.whl (130 kB)\n",
      "Collecting murmurhash<1.1.0,>=0.28.0\n",
      "  Downloading https://mirrors.huaweicloud.com/repository/pypi/packages/5b/9b/292d221a688fef93cd94026a90de4790512be0ee79c896add6d11502df2f/murmurhash-1.0.7-cp38-cp38-manylinux_2_5_x86_64.manylinux1_x86_64.manylinux_2_17_x86_64.manylinux2014_x86_64.whl (21 kB)\n",
      "Requirement already satisfied: jinja2 in /usr/local/lib/python3.8/dist-packages (from spacy) (3.1.2)\n",
      "Collecting spacy-loggers<2.0.0,>=1.0.0\n",
      "  Downloading https://mirrors.huaweicloud.com/repository/pypi/packages/61/4c/3ca1dec23a20466be5789601e87a4ebb4f1d6f53d324f9126b7821346869/spacy_loggers-1.0.3-py3-none-any.whl (9.3 kB)\n",
      "\u001b[31mERROR: Could not find a version that satisfies the requirement spacy-legacy<3.1.0,>=3.0.11 (from spacy) (from versions: 3.0.0.dev0, 3.0.0, 3.0.1, 3.0.2, 3.0.3, 3.0.4, 3.0.5, 3.0.6, 3.0.7, 3.0.8, 3.0.9)\u001b[0m\n",
      "\u001b[31mERROR: No matching distribution found for spacy-legacy<3.1.0,>=3.0.11 (from spacy)\u001b[0m\n"
     ]
    }
   ],
   "source": [
    "!pip3 install spacy -i https://mirrors.huaweicloud.com/repository/pypi/simple"
   ]
  },
  {
   "cell_type": "code",
   "execution_count": 79,
   "id": "b7b90049",
   "metadata": {
    "scrolled": true
   },
   "outputs": [
    {
     "name": "stdout",
     "output_type": "stream",
     "text": [
      "Looking in indexes: https://mirrors.huaweicloud.com/repository/pypi/simple\n",
      "Requirement already up-to-date: scikit-learn<0.24 in /usr/local/lib/python3.8/dist-packages (0.23.2)\n",
      "Requirement already satisfied, skipping upgrade: scipy>=0.19.1 in /usr/local/lib/python3.8/dist-packages (from scikit-learn<0.24) (1.10.1)\n",
      "Requirement already satisfied, skipping upgrade: threadpoolctl>=2.0.0 in /usr/local/lib/python3.8/dist-packages (from scikit-learn<0.24) (3.1.0)\n",
      "Requirement already satisfied, skipping upgrade: numpy>=1.13.3 in /usr/local/lib/python3.8/dist-packages (from scikit-learn<0.24) (1.24.2)\n",
      "Requirement already satisfied, skipping upgrade: joblib>=0.11 in /usr/local/lib/python3.8/dist-packages (from scikit-learn<0.24) (1.2.0)\n"
     ]
    }
   ],
   "source": [
    "!pip3 install -U 'scikit-learn<0.24' -i https://mirrors.huaweicloud.com/repository/pypi/simple"
   ]
  },
  {
   "cell_type": "code",
   "execution_count": 80,
   "id": "42d098fd",
   "metadata": {
    "scrolled": true
   },
   "outputs": [
    {
     "name": "stdout",
     "output_type": "stream",
     "text": [
      "Looking in indexes: https://mirrors.huaweicloud.com/repository/pypi/simple\n",
      "Collecting sklearn\n",
      "  Using cached https://mirrors.huaweicloud.com/repository/pypi/packages/7a/93/e0e1b1e98f39dfca7ec9795cb46f6e09e88a2fd5d4a28e4b3d1f618a2aec/sklearn-0.0.post5.tar.gz (3.7 kB)\n",
      "Building wheels for collected packages: sklearn\n",
      "  Building wheel for sklearn (setup.py) ... \u001b[?25ldone\n",
      "\u001b[?25h  Created wheel for sklearn: filename=sklearn-0.0.post5-py3-none-any.whl size=2360 sha256=8ee81aa9dcf2e6778b8659e8ccc5b35547f1f9055deb0425637fd026b474ad11\n",
      "  Stored in directory: /root/.cache/pip/wheels/37/06/40/baf11d607a638100c342be2caa5f523c093048424ec3a4626d\n",
      "Successfully built sklearn\n",
      "Installing collected packages: sklearn\n",
      "Successfully installed sklearn-0.0.post5\n"
     ]
    }
   ],
   "source": [
    "!pip3 install sklearn -i https://mirrors.huaweicloud.com/repository/pypi/simple"
   ]
  },
  {
   "cell_type": "code",
   "execution_count": 81,
   "id": "bb99aa8b",
   "metadata": {
    "scrolled": true
   },
   "outputs": [
    {
     "name": "stdout",
     "output_type": "stream",
     "text": [
      "Looking in indexes: https://mirrors.huaweicloud.com/repository/pypi/simple\n",
      "Requirement already satisfied: pandas in /usr/local/lib/python3.8/dist-packages (2.0.0)\n",
      "Requirement already satisfied: tzdata>=2022.1 in /usr/local/lib/python3.8/dist-packages (from pandas) (2022.7)\n",
      "Requirement already satisfied: numpy>=1.20.3; python_version < \"3.10\" in /usr/local/lib/python3.8/dist-packages (from pandas) (1.24.2)\n",
      "Requirement already satisfied: python-dateutil>=2.8.2 in /usr/local/lib/python3.8/dist-packages (from pandas) (2.8.2)\n",
      "Requirement already satisfied: pytz>=2020.1 in /usr/local/lib/python3.8/dist-packages (from pandas) (2023.3)\n",
      "Requirement already satisfied: six>=1.5 in /usr/local/lib/python3.8/dist-packages (from python-dateutil>=2.8.2->pandas) (1.16.0)\n"
     ]
    }
   ],
   "source": [
    "!pip3 install pandas -i https://mirrors.huaweicloud.com/repository/pypi/simple"
   ]
  },
  {
   "cell_type": "code",
   "execution_count": 82,
   "id": "d990365a",
   "metadata": {
    "scrolled": true
   },
   "outputs": [
    {
     "name": "stdout",
     "output_type": "stream",
     "text": [
      "Looking in indexes: https://mirrors.huaweicloud.com/repository/pypi/simple\n",
      "Requirement already satisfied: py2neo in /usr/local/lib/python3.8/dist-packages (2021.2.3)\n",
      "Requirement already satisfied: pansi>=2020.7.3 in /usr/local/lib/python3.8/dist-packages (from py2neo) (2020.7.3)\n",
      "Requirement already satisfied: pygments>=2.0.0 in /usr/local/lib/python3.8/dist-packages (from py2neo) (2.15.1)\n",
      "Requirement already satisfied: urllib3 in /usr/lib/python3/dist-packages (from py2neo) (1.25.8)\n",
      "Requirement already satisfied: six>=1.15.0 in /usr/local/lib/python3.8/dist-packages (from py2neo) (1.16.0)\n",
      "Requirement already satisfied: certifi in /usr/lib/python3/dist-packages (from py2neo) (2019.11.28)\n",
      "Requirement already satisfied: monotonic in /usr/local/lib/python3.8/dist-packages (from py2neo) (1.6)\n",
      "Requirement already satisfied: packaging in /usr/local/lib/python3.8/dist-packages (from py2neo) (23.1)\n",
      "Requirement already satisfied: interchange~=2021.0.4 in /usr/local/lib/python3.8/dist-packages (from py2neo) (2021.0.4)\n",
      "Requirement already satisfied: pytz in /usr/local/lib/python3.8/dist-packages (from interchange~=2021.0.4->py2neo) (2023.3)\n"
     ]
    }
   ],
   "source": [
    "!pip3 install py2neo -i https://mirrors.huaweicloud.com/repository/pypi/simple"
   ]
  },
  {
   "cell_type": "code",
   "execution_count": 83,
   "id": "64ea0f21",
   "metadata": {
    "scrolled": true
   },
   "outputs": [
    {
     "name": "stdout",
     "output_type": "stream",
     "text": [
      "Looking in indexes: https://mirrors.huaweicloud.com/repository/pypi/simple\n",
      "Requirement already satisfied: tqdm in /usr/local/lib/python3.8/dist-packages (4.63.1)\n"
     ]
    }
   ],
   "source": [
    "!pip3 install tqdm -i https://mirrors.huaweicloud.com/repository/pypi/simple"
   ]
  },
  {
   "cell_type": "code",
   "execution_count": 84,
   "id": "c43dc8e1",
   "metadata": {
    "scrolled": true
   },
   "outputs": [
    {
     "name": "stdout",
     "output_type": "stream",
     "text": [
      "Looking in indexes: https://mirrors.huaweicloud.com/repository/pypi/simple/\n",
      "Requirement already satisfied: seaborn in /usr/local/lib/python3.8/dist-packages (0.11.2)\n",
      "Requirement already satisfied: pandas>=0.23 in /usr/local/lib/python3.8/dist-packages (from seaborn) (2.0.0)\n",
      "Requirement already satisfied: scipy>=1.0 in /usr/local/lib/python3.8/dist-packages (from seaborn) (1.10.1)\n",
      "Requirement already satisfied: numpy>=1.15 in /usr/local/lib/python3.8/dist-packages (from seaborn) (1.24.2)\n",
      "Requirement already satisfied: matplotlib>=2.2 in /usr/local/lib/python3.8/dist-packages (from seaborn) (3.7.1)\n",
      "Requirement already satisfied: python-dateutil>=2.8.2 in /usr/local/lib/python3.8/dist-packages (from pandas>=0.23->seaborn) (2.8.2)\n",
      "Requirement already satisfied: pytz>=2020.1 in /usr/local/lib/python3.8/dist-packages (from pandas>=0.23->seaborn) (2023.3)\n",
      "Requirement already satisfied: tzdata>=2022.1 in /usr/local/lib/python3.8/dist-packages (from pandas>=0.23->seaborn) (2022.7)\n",
      "Requirement already satisfied: contourpy>=1.0.1 in /usr/local/lib/python3.8/dist-packages (from matplotlib>=2.2->seaborn) (1.0.6)\n",
      "Requirement already satisfied: cycler>=0.10 in /usr/local/lib/python3.8/dist-packages (from matplotlib>=2.2->seaborn) (0.11.0)\n",
      "Requirement already satisfied: fonttools>=4.22.0 in /usr/local/lib/python3.8/dist-packages (from matplotlib>=2.2->seaborn) (4.39.4)\n",
      "Requirement already satisfied: pyparsing>=2.3.1 in /usr/local/lib/python3.8/dist-packages (from matplotlib>=2.2->seaborn) (3.0.9)\n",
      "Requirement already satisfied: pillow>=6.2.0 in /usr/local/lib/python3.8/dist-packages (from matplotlib>=2.2->seaborn) (9.3.0)\n",
      "Requirement already satisfied: kiwisolver>=1.0.1 in /usr/local/lib/python3.8/dist-packages (from matplotlib>=2.2->seaborn) (1.4.4)\n",
      "Requirement already satisfied: importlib-resources>=3.2.0; python_version < \"3.10\" in /usr/local/lib/python3.8/dist-packages (from matplotlib>=2.2->seaborn) (6.0.0)\n",
      "Requirement already satisfied: packaging>=20.0 in /usr/local/lib/python3.8/dist-packages (from matplotlib>=2.2->seaborn) (23.1)\n",
      "Requirement already satisfied: six>=1.5 in /usr/local/lib/python3.8/dist-packages (from python-dateutil>=2.8.2->pandas>=0.23->seaborn) (1.16.0)\n",
      "Requirement already satisfied: zipp>=3.1.0; python_version < \"3.10\" in /usr/local/lib/python3.8/dist-packages (from importlib-resources>=3.2.0; python_version < \"3.10\"->matplotlib>=2.2->seaborn) (3.16.2)\n"
     ]
    }
   ],
   "source": [
    "!pip3 install seaborn -i https://mirrors.huaweicloud.com/repository/pypi/simple/"
   ]
  },
  {
   "cell_type": "code",
   "execution_count": 85,
   "id": "b269a2b4",
   "metadata": {
    "scrolled": true
   },
   "outputs": [
    {
     "name": "stdout",
     "output_type": "stream",
     "text": [
      "Looking in indexes: https://mirrors.huaweicloud.com/repository/pypi/simple\n",
      "Requirement already satisfied: numpy in /usr/local/lib/python3.8/dist-packages (1.24.2)\n"
     ]
    }
   ],
   "source": [
    "!pip3 install numpy -i https://mirrors.huaweicloud.com/repository/pypi/simple"
   ]
  },
  {
   "cell_type": "code",
   "execution_count": 2,
   "id": "cf9c82dd-282e-4791-a944-5fd64fa126a3",
   "metadata": {
    "scrolled": true
   },
   "outputs": [
    {
     "name": "stdout",
     "output_type": "stream",
     "text": [
      "Found existing installation: numpy 1.24.2\n",
      "Uninstalling numpy-1.24.2:\n",
      "  Would remove:\n",
      "    /usr/local/bin/f2py\n",
      "    /usr/local/bin/f2py3\n",
      "    /usr/local/bin/f2py3.8\n",
      "    /usr/local/lib/python3.8/dist-packages/numpy-1.24.2.dist-info/*\n",
      "    /usr/local/lib/python3.8/dist-packages/numpy.libs/libgfortran-040039e1.so.5.0.0\n",
      "    /usr/local/lib/python3.8/dist-packages/numpy.libs/libopenblas64_p-r0-15028c96.3.21.so\n",
      "    /usr/local/lib/python3.8/dist-packages/numpy.libs/libquadmath-96973f99.so.0.0.0\n",
      "    /usr/local/lib/python3.8/dist-packages/numpy/*\n",
      "Proceed (y/n)? ^C\n",
      "\u001b[31mERROR: Operation cancelled by user\u001b[0m\n"
     ]
    }
   ],
   "source": [
    "!pip3 uninstall numpy "
   ]
  },
  {
   "cell_type": "code",
   "execution_count": 86,
   "id": "b924a382",
   "metadata": {
    "scrolled": true
   },
   "outputs": [
    {
     "name": "stdout",
     "output_type": "stream",
     "text": [
      "Looking in indexes: https://mirrors.huaweicloud.com/repository/pypi/simple\n",
      "Requirement already satisfied: matplotlib in /usr/local/lib/python3.8/dist-packages (3.7.1)\n",
      "Requirement already satisfied: cycler>=0.10 in /usr/local/lib/python3.8/dist-packages (from matplotlib) (0.11.0)\n",
      "Requirement already satisfied: pillow>=6.2.0 in /usr/local/lib/python3.8/dist-packages (from matplotlib) (9.3.0)\n",
      "Requirement already satisfied: pyparsing>=2.3.1 in /usr/local/lib/python3.8/dist-packages (from matplotlib) (3.0.9)\n",
      "Requirement already satisfied: python-dateutil>=2.7 in /usr/local/lib/python3.8/dist-packages (from matplotlib) (2.8.2)\n",
      "Requirement already satisfied: kiwisolver>=1.0.1 in /usr/local/lib/python3.8/dist-packages (from matplotlib) (1.4.4)\n",
      "Requirement already satisfied: contourpy>=1.0.1 in /usr/local/lib/python3.8/dist-packages (from matplotlib) (1.0.6)\n",
      "Requirement already satisfied: numpy>=1.20 in /usr/local/lib/python3.8/dist-packages (from matplotlib) (1.24.2)\n",
      "Requirement already satisfied: importlib-resources>=3.2.0; python_version < \"3.10\" in /usr/local/lib/python3.8/dist-packages (from matplotlib) (6.0.0)\n",
      "Requirement already satisfied: packaging>=20.0 in /usr/local/lib/python3.8/dist-packages (from matplotlib) (23.1)\n",
      "Requirement already satisfied: fonttools>=4.22.0 in /usr/local/lib/python3.8/dist-packages (from matplotlib) (4.39.4)\n",
      "Requirement already satisfied: six>=1.5 in /usr/local/lib/python3.8/dist-packages (from python-dateutil>=2.7->matplotlib) (1.16.0)\n",
      "Requirement already satisfied: zipp>=3.1.0; python_version < \"3.10\" in /usr/local/lib/python3.8/dist-packages (from importlib-resources>=3.2.0; python_version < \"3.10\"->matplotlib) (3.16.2)\n"
     ]
    }
   ],
   "source": [
    "!pip3 install matplotlib -i https://mirrors.huaweicloud.com/repository/pypi/simple"
   ]
  },
  {
   "cell_type": "code",
   "execution_count": 87,
   "id": "0ab6e49f",
   "metadata": {
    "scrolled": true
   },
   "outputs": [
    {
     "name": "stdout",
     "output_type": "stream",
     "text": [
      "Looking in indexes: https://mirrors.huaweicloud.com/repository/pypi/simple\n",
      "Collecting tensorflow==2.5\n"
     ]
    }
   ],
   "source": [
    "!pip3 install tensorflow==2.5 -i https://mirrors.huaweicloud.com/repository/pypi/simple"
   ]
  },
  {
   "cell_type": "code",
   "execution_count": 88,
   "id": "4c55c886",
   "metadata": {
    "scrolled": true
   },
   "outputs": [
    {
     "name": "stdout",
     "output_type": "stream",
     "text": [
      "Looking in indexes: https://mirrors.huaweicloud.com/repository/pypi/simple\n",
      "Requirement already satisfied: pillow in /usr/local/lib/python3.8/dist-packages (9.3.0)\n"
     ]
    }
   ],
   "source": [
    "!pip3 install pillow -i https://mirrors.huaweicloud.com/repository/pypi/simple"
   ]
  },
  {
   "cell_type": "code",
   "execution_count": 89,
   "id": "ca8dc866",
   "metadata": {
    "scrolled": true
   },
   "outputs": [
    {
     "name": "stdout",
     "output_type": "stream",
     "text": [
      "Looking in indexes: https://mirrors.huaweicloud.com/repository/pypi/simple\n",
      "Requirement already satisfied: datetime in /usr/local/lib/python3.8/dist-packages (4.7)\n",
      "Requirement already satisfied: pytz in /usr/local/lib/python3.8/dist-packages (from datetime) (2023.3)\n",
      "Requirement already satisfied: zope.interface in /usr/local/lib/python3.8/dist-packages (from datetime) (6.0)\n",
      "Requirement already satisfied: setuptools in /usr/lib/python3/dist-packages (from zope.interface->datetime) (45.2.0)\n"
     ]
    }
   ],
   "source": [
    "!pip3 install datetime -i https://mirrors.huaweicloud.com/repository/pypi/simple"
   ]
  },
  {
   "cell_type": "code",
   "execution_count": 90,
   "id": "7c40c8b9",
   "metadata": {
    "scrolled": true
   },
   "outputs": [
    {
     "name": "stdout",
     "output_type": "stream",
     "text": [
      "Looking in indexes: https://mirrors.huaweicloud.com/repository/pypi/simple\n",
      "Requirement already satisfied: missingno in /usr/local/lib/python3.8/dist-packages (0.5.1)\n",
      "Requirement already satisfied: matplotlib in /usr/local/lib/python3.8/dist-packages (from missingno) (3.7.1)\n",
      "Requirement already satisfied: numpy in /usr/local/lib/python3.8/dist-packages (from missingno) (1.24.2)\n",
      "Requirement already satisfied: seaborn in /usr/local/lib/python3.8/dist-packages (from missingno) (0.11.2)\n",
      "Requirement already satisfied: scipy in /usr/local/lib/python3.8/dist-packages (from missingno) (1.10.1)\n",
      "Requirement already satisfied: importlib-resources>=3.2.0; python_version < \"3.10\" in /usr/local/lib/python3.8/dist-packages (from matplotlib->missingno) (6.0.0)\n",
      "Requirement already satisfied: pyparsing>=2.3.1 in /usr/local/lib/python3.8/dist-packages (from matplotlib->missingno) (3.0.9)\n",
      "Requirement already satisfied: python-dateutil>=2.7 in /usr/local/lib/python3.8/dist-packages (from matplotlib->missingno) (2.8.2)\n",
      "Requirement already satisfied: contourpy>=1.0.1 in /usr/local/lib/python3.8/dist-packages (from matplotlib->missingno) (1.0.6)\n",
      "Requirement already satisfied: kiwisolver>=1.0.1 in /usr/local/lib/python3.8/dist-packages (from matplotlib->missingno) (1.4.4)\n",
      "Requirement already satisfied: pillow>=6.2.0 in /usr/local/lib/python3.8/dist-packages (from matplotlib->missingno) (9.3.0)\n",
      "Requirement already satisfied: cycler>=0.10 in /usr/local/lib/python3.8/dist-packages (from matplotlib->missingno) (0.11.0)\n",
      "Requirement already satisfied: packaging>=20.0 in /usr/local/lib/python3.8/dist-packages (from matplotlib->missingno) (23.1)\n",
      "Requirement already satisfied: fonttools>=4.22.0 in /usr/local/lib/python3.8/dist-packages (from matplotlib->missingno) (4.39.4)\n",
      "Requirement already satisfied: pandas>=0.23 in /usr/local/lib/python3.8/dist-packages (from seaborn->missingno) (2.0.0)\n",
      "Requirement already satisfied: zipp>=3.1.0; python_version < \"3.10\" in /usr/local/lib/python3.8/dist-packages (from importlib-resources>=3.2.0; python_version < \"3.10\"->matplotlib->missingno) (3.16.2)\n",
      "Requirement already satisfied: six>=1.5 in /usr/local/lib/python3.8/dist-packages (from python-dateutil>=2.7->matplotlib->missingno) (1.16.0)\n",
      "Requirement already satisfied: tzdata>=2022.1 in /usr/local/lib/python3.8/dist-packages (from pandas>=0.23->seaborn->missingno) (2022.7)\n",
      "Requirement already satisfied: pytz>=2020.1 in /usr/local/lib/python3.8/dist-packages (from pandas>=0.23->seaborn->missingno) (2023.3)\n"
     ]
    }
   ],
   "source": [
    "!pip3 install missingno -i https://mirrors.huaweicloud.com/repository/pypi/simple"
   ]
  },
  {
   "cell_type": "code",
   "execution_count": 91,
   "id": "4f2de9af",
   "metadata": {
    "scrolled": true
   },
   "outputs": [
    {
     "name": "stdout",
     "output_type": "stream",
     "text": [
      "Looking in indexes: https://mirrors.huaweicloud.com/repository/pypi/simple\n",
      "Requirement already satisfied: h5py in /usr/local/lib/python3.8/dist-packages (3.4.0)\n",
      "Requirement already satisfied: numpy>=1.17.5; python_version == \"3.8\" in /usr/local/lib/python3.8/dist-packages (from h5py) (1.24.2)\n"
     ]
    }
   ],
   "source": [
    "!pip3 install h5py -i https://mirrors.huaweicloud.com/repository/pypi/simple"
   ]
  },
  {
   "cell_type": "code",
   "execution_count": 92,
   "id": "ed8549da",
   "metadata": {
    "scrolled": true
   },
   "outputs": [
    {
     "name": "stdout",
     "output_type": "stream",
     "text": [
      "Looking in indexes: https://mirrors.huaweicloud.com/repository/pypi/simple\n",
      "Requirement already satisfied: scipy in /usr/local/lib/python3.8/dist-packages (1.10.1)\n",
      "Requirement already satisfied: numpy<1.27.0,>=1.19.5 in /usr/local/lib/python3.8/dist-packages (from scipy) (1.24.2)\n"
     ]
    }
   ],
   "source": [
    "!pip3 install scipy -i https://mirrors.huaweicloud.com/repository/pypi/simple"
   ]
  },
  {
   "cell_type": "code",
   "execution_count": 93,
   "id": "8e48ef70",
   "metadata": {
    "scrolled": true
   },
   "outputs": [
    {
     "name": "stdout",
     "output_type": "stream",
     "text": [
      "Looking in indexes: https://mirrors.huaweicloud.com/repository/pypi/simple\n",
      "Requirement already satisfied: xgboost in /usr/local/lib/python3.8/dist-packages (1.7.4)\n",
      "Requirement already satisfied: scipy in /usr/local/lib/python3.8/dist-packages (from xgboost) (1.10.1)\n",
      "Requirement already satisfied: numpy in /usr/local/lib/python3.8/dist-packages (from xgboost) (1.24.2)\n"
     ]
    }
   ],
   "source": [
    "!pip3 install xgboost -i https://mirrors.huaweicloud.com/repository/pypi/simple"
   ]
  },
  {
   "cell_type": "code",
   "execution_count": 94,
   "id": "73a5f533",
   "metadata": {
    "scrolled": true
   },
   "outputs": [
    {
     "name": "stdout",
     "output_type": "stream",
     "text": [
      "Looking in indexes: https://mirrors.huaweicloud.com/repository/pypi/simple\n",
      "Requirement already satisfied: statsmodels in /usr/local/lib/python3.8/dist-packages (0.13.5)\n",
      "Requirement already satisfied: patsy>=0.5.2 in /usr/local/lib/python3.8/dist-packages (from statsmodels) (0.5.2)\n",
      "Requirement already satisfied: pandas>=0.25 in /usr/local/lib/python3.8/dist-packages (from statsmodels) (2.0.0)\n",
      "Requirement already satisfied: numpy>=1.17; python_version != \"3.10\" or platform_system != \"Windows\" or platform_python_implementation == \"PyPy\" in /usr/local/lib/python3.8/dist-packages (from statsmodels) (1.24.2)\n",
      "Requirement already satisfied: scipy>=1.3; (python_version > \"3.9\" or platform_system != \"Windows\" or platform_machine != \"x86\") and python_version < \"3.12\" in /usr/local/lib/python3.8/dist-packages (from statsmodels) (1.10.1)\n",
      "Requirement already satisfied: packaging>=21.3 in /usr/local/lib/python3.8/dist-packages (from statsmodels) (23.1)\n",
      "Requirement already satisfied: six in /usr/local/lib/python3.8/dist-packages (from patsy>=0.5.2->statsmodels) (1.16.0)\n",
      "Requirement already satisfied: pytz>=2020.1 in /usr/local/lib/python3.8/dist-packages (from pandas>=0.25->statsmodels) (2023.3)\n",
      "Requirement already satisfied: tzdata>=2022.1 in /usr/local/lib/python3.8/dist-packages (from pandas>=0.25->statsmodels) (2022.7)\n",
      "Requirement already satisfied: python-dateutil>=2.8.2 in /usr/local/lib/python3.8/dist-packages (from pandas>=0.25->statsmodels) (2.8.2)\n"
     ]
    }
   ],
   "source": [
    "!pip3 install statsmodels -i https://mirrors.huaweicloud.com/repository/pypi/simple"
   ]
  },
  {
   "cell_type": "code",
   "execution_count": 95,
   "id": "ae172f40",
   "metadata": {
    "scrolled": true
   },
   "outputs": [
    {
     "name": "stdout",
     "output_type": "stream",
     "text": [
      "Looking in indexes: https://mirrors.huaweicloud.com/repository/pypi/simple\n",
      "Requirement already satisfied: jieba in /usr/local/lib/python3.8/dist-packages (0.42.1)\n"
     ]
    }
   ],
   "source": [
    "!pip3 install jieba -i https://mirrors.huaweicloud.com/repository/pypi/simple"
   ]
  },
  {
   "cell_type": "code",
   "execution_count": 96,
   "id": "dc1d37e6",
   "metadata": {
    "scrolled": true
   },
   "outputs": [
    {
     "name": "stdout",
     "output_type": "stream",
     "text": [
      "Looking in indexes: https://mirrors.huaweicloud.com/repository/pypi/simple\n",
      "Requirement already satisfied: Contractions in /usr/local/lib/python3.8/dist-packages (0.1.73)\n",
      "Requirement already satisfied: textsearch>=0.0.21 in /usr/local/lib/python3.8/dist-packages (from Contractions) (0.0.21)\n",
      "Requirement already satisfied: anyascii in /usr/local/lib/python3.8/dist-packages (from textsearch>=0.0.21->Contractions) (0.3.0)\n",
      "Requirement already satisfied: pyahocorasick in /usr/local/lib/python3.8/dist-packages (from textsearch>=0.0.21->Contractions) (1.4.4)\n"
     ]
    }
   ],
   "source": [
    "!pip3 install Contractions -i https://mirrors.huaweicloud.com/repository/pypi/simple"
   ]
  },
  {
   "cell_type": "code",
   "execution_count": 97,
   "id": "6f725508",
   "metadata": {
    "scrolled": true
   },
   "outputs": [
    {
     "name": "stdout",
     "output_type": "stream",
     "text": [
      "Looking in indexes: https://mirrors.huaweicloud.com/repository/pypi/simple\n",
      "Requirement already satisfied: Textstat in /usr/local/lib/python3.8/dist-packages (0.7.3)\n",
      "Requirement already satisfied: pyphen in /usr/local/lib/python3.8/dist-packages (from Textstat) (0.14.0)\n"
     ]
    }
   ],
   "source": [
    "!pip3 install Textstat -i https://mirrors.huaweicloud.com/repository/pypi/simple"
   ]
  },
  {
   "cell_type": "code",
   "execution_count": 98,
   "id": "2c4b243d",
   "metadata": {
    "scrolled": true
   },
   "outputs": [
    {
     "name": "stdout",
     "output_type": "stream",
     "text": [
      "Looking in indexes: https://mirrors.huaweicloud.com/repository/pypi/simple\n",
      "Requirement already satisfied: graph-tools in /usr/local/lib/python3.8/dist-packages (1.11)\n",
      "Requirement already satisfied: pytess in /usr/local/lib/python3.8/dist-packages (from graph-tools) (1.0.0)\n",
      "Requirement already satisfied: numpy in /usr/local/lib/python3.8/dist-packages (from graph-tools) (1.24.2)\n",
      "Requirement already satisfied: perlcompat in /usr/local/lib/python3.8/dist-packages (from graph-tools) (1.1)\n",
      "Requirement already satisfied: tbdump in /usr/local/lib/python3.8/dist-packages (from graph-tools) (1.1)\n",
      "Requirement already satisfied: ansiterm in /usr/local/lib/python3.8/dist-packages (from tbdump->graph-tools) (1.1)\n"
     ]
    }
   ],
   "source": [
    "!pip3 install graph-tools -i https://mirrors.huaweicloud.com/repository/pypi/simple"
   ]
  },
  {
   "cell_type": "code",
   "execution_count": 99,
   "id": "23f74bc6",
   "metadata": {
    "scrolled": true
   },
   "outputs": [
    {
     "name": "stdout",
     "output_type": "stream",
     "text": [
      "Looking in indexes: https://mirrors.huaweicloud.com/repository/pypi/simple\n",
      "Requirement already satisfied: graphviz in /usr/local/lib/python3.8/dist-packages (0.20.1)\n"
     ]
    }
   ],
   "source": [
    "!pip3 install graphviz -i https://mirrors.huaweicloud.com/repository/pypi/simple"
   ]
  },
  {
   "cell_type": "code",
   "execution_count": 100,
   "id": "be72015d",
   "metadata": {
    "scrolled": true
   },
   "outputs": [
    {
     "name": "stdout",
     "output_type": "stream",
     "text": [
      "Looking in indexes: https://mirrors.huaweicloud.com/repository/pypi/simple\n",
      "Requirement already satisfied: networkx in /usr/local/lib/python3.8/dist-packages (2.8.8)\n"
     ]
    }
   ],
   "source": [
    "!pip3 install networkx -i https://mirrors.huaweicloud.com/repository/pypi/simple"
   ]
  },
  {
   "cell_type": "code",
   "execution_count": null,
   "id": "9bd85cd3",
   "metadata": {
    "scrolled": true
   },
   "outputs": [],
   "source": [
    "!pip3 install nltk --user -U -i https://mirrors.huaweicloud.com/repository/pypi/simple"
   ]
  },
  {
   "cell_type": "code",
   "execution_count": 102,
   "id": "ce783324",
   "metadata": {
    "scrolled": true
   },
   "outputs": [
    {
     "name": "stdout",
     "output_type": "stream",
     "text": [
      "Looking in indexes: https://mirrors.huaweicloud.com/repository/pypi/simple\n",
      "Collecting torch\n",
      "  Downloading https://mirrors.huaweicloud.com/repository/pypi/packages/96/28/026dc037f177d53558477931677b120f649dd5a0dcdc4b44dc38b3d75711/torch-2.0.1-cp38-cp38-manylinux1_x86_64.whl (619.9 MB)\n",
      "\u001b[K     |████████████████████████████████| 619.9 MB 1.0 MB/s eta 0:00:01   |                                | 614 kB 1.5 MB/s eta 0:06:49"
     ]
    }
   ],
   "source": [
    "!pip3 install torch torchvision -i https://mirrors.huaweicloud.com/repository/pypi/simple"
   ]
  },
  {
   "cell_type": "code",
   "execution_count": 103,
   "id": "3845e293",
   "metadata": {
    "scrolled": true
   },
   "outputs": [
    {
     "name": "stdout",
     "output_type": "stream",
     "text": [
      "Looking in indexes: https://mirrors.huaweicloud.com/repository/pypi/simple\n",
      "Requirement already satisfied: gensim in /usr/local/lib/python3.8/dist-packages (3.8.3)\n",
      "Requirement already satisfied: scipy>=0.18.1 in /usr/local/lib/python3.8/dist-packages (from gensim) (1.10.1)\n",
      "Requirement already satisfied: smart-open>=1.8.1 in /usr/local/lib/python3.8/dist-packages (from gensim) (6.2.0)\n",
      "Requirement already satisfied: six>=1.5.0 in /usr/local/lib/python3.8/dist-packages (from gensim) (1.16.0)\n",
      "Requirement already satisfied: numpy>=1.11.3 in /usr/local/lib/python3.8/dist-packages (from gensim) (1.24.2)\n"
     ]
    }
   ],
   "source": [
    "!pip3 install gensim -i https://mirrors.huaweicloud.com/repository/pypi/simple"
   ]
  },
  {
   "cell_type": "code",
   "execution_count": 104,
   "id": "96f6b65e",
   "metadata": {
    "scrolled": true
   },
   "outputs": [
    {
     "name": "stdout",
     "output_type": "stream",
     "text": [
      "Looking in indexes: https://mirrors.huaweicloud.com/repository/pypi/simple\n",
      "Requirement already satisfied: pydot in /usr/local/lib/python3.8/dist-packages (1.4.2)\n",
      "Requirement already satisfied: pyparsing>=2.1.4 in /usr/local/lib/python3.8/dist-packages (from pydot) (3.0.9)\n"
     ]
    }
   ],
   "source": [
    "!pip3 install pydot -i https://mirrors.huaweicloud.com/repository/pypi/simple"
   ]
  },
  {
   "cell_type": "code",
   "execution_count": 105,
   "id": "42bfd8b0",
   "metadata": {
    "scrolled": true
   },
   "outputs": [
    {
     "name": "stdout",
     "output_type": "stream",
     "text": [
      "Looking in indexes: https://mirrors.huaweicloud.com/repository/pypi/simple\n",
      "Requirement already satisfied: lightgbm in /usr/local/lib/python3.8/dist-packages (3.3.5)\n",
      "Requirement already satisfied: numpy in /usr/local/lib/python3.8/dist-packages (from lightgbm) (1.24.2)\n",
      "Requirement already satisfied: wheel in /usr/lib/python3/dist-packages (from lightgbm) (0.34.2)\n",
      "Requirement already satisfied: scikit-learn!=0.22.0 in /usr/local/lib/python3.8/dist-packages (from lightgbm) (0.23.2)\n",
      "Requirement already satisfied: scipy in /usr/local/lib/python3.8/dist-packages (from lightgbm) (1.10.1)\n",
      "Requirement already satisfied: threadpoolctl>=2.0.0 in /usr/local/lib/python3.8/dist-packages (from scikit-learn!=0.22.0->lightgbm) (3.1.0)\n",
      "Requirement already satisfied: joblib>=0.11 in /usr/local/lib/python3.8/dist-packages (from scikit-learn!=0.22.0->lightgbm) (1.2.0)\n"
     ]
    }
   ],
   "source": [
    "!pip3 install lightgbm -i https://mirrors.huaweicloud.com/repository/pypi/simple"
   ]
  },
  {
   "cell_type": "code",
   "execution_count": 1,
   "id": "be018a93",
   "metadata": {
    "scrolled": true
   },
   "outputs": [
    {
     "name": "stdout",
     "output_type": "stream",
     "text": [
      "Looking in indexes: https://mirrors.huaweicloud.com/repository/pypi/simple\n",
      "Requirement already satisfied: node2vec in /usr/local/lib/python3.8/dist-packages (0.4.6)\n",
      "Requirement already satisfied: tqdm<5.0.0,>=4.55.1 in /usr/local/lib/python3.8/dist-packages (from node2vec) (4.63.1)\n",
      "Requirement already satisfied: gensim<5.0.0,>=4.1.2 in /usr/local/lib/python3.8/dist-packages (from node2vec) (4.2.0)\n",
      "Requirement already satisfied: networkx<3.0,>=2.5 in /usr/local/lib/python3.8/dist-packages (from node2vec) (2.8.8)\n",
      "Requirement already satisfied: joblib<2.0.0,>=1.1.0 in /usr/local/lib/python3.8/dist-packages (from node2vec) (1.2.0)\n",
      "Requirement already satisfied: numpy<2.0.0,>=1.19.5 in /usr/local/lib/python3.8/dist-packages (from node2vec) (1.24.2)\n",
      "Requirement already satisfied: smart-open>=1.8.1 in /usr/local/lib/python3.8/dist-packages (from gensim<5.0.0,>=4.1.2->node2vec) (6.2.0)\n",
      "Requirement already satisfied: scipy>=0.18.1 in /usr/local/lib/python3.8/dist-packages (from gensim<5.0.0,>=4.1.2->node2vec) (1.10.1)\n"
     ]
    }
   ],
   "source": [
    "!pip3 install node2vec -i https://mirrors.huaweicloud.com/repository/pypi/simple"
   ]
  },
  {
   "cell_type": "code",
   "execution_count": 2,
   "id": "18877ba4",
   "metadata": {
    "scrolled": true
   },
   "outputs": [
    {
     "name": "stdout",
     "output_type": "stream",
     "text": [
      "Looking in indexes: https://mirrors.huaweicloud.com/repository/pypi/simple\n",
      "Requirement already satisfied: arxiv in /usr/local/lib/python3.8/dist-packages (1.4.7)\n",
      "Requirement already satisfied: feedparser in /usr/local/lib/python3.8/dist-packages (from arxiv) (6.0.10)\n",
      "Requirement already satisfied: sgmllib3k in /usr/local/lib/python3.8/dist-packages (from feedparser->arxiv) (1.0.0)\n"
     ]
    }
   ],
   "source": [
    "!pip3 install arxiv -i https://mirrors.huaweicloud.com/repository/pypi/simple"
   ]
  },
  {
   "cell_type": "code",
   "execution_count": 3,
   "id": "6ac30d49",
   "metadata": {
    "scrolled": true
   },
   "outputs": [
    {
     "name": "stdout",
     "output_type": "stream",
     "text": [
      "Looking in indexes: https://mirrors.huaweicloud.com/repository/pypi/simple\n",
      "Requirement already satisfied: rake-nltk in /usr/local/lib/python3.8/dist-packages (1.0.6)\n",
      "Requirement already satisfied: nltk<4.0.0,>=3.6.2 in /usr/local/lib/python3.8/dist-packages (from rake-nltk) (3.8.1)\n",
      "Requirement already satisfied: regex>=2021.8.3 in /usr/local/lib/python3.8/dist-packages (from nltk<4.0.0,>=3.6.2->rake-nltk) (2023.5.5)\n",
      "Requirement already satisfied: tqdm in /usr/local/lib/python3.8/dist-packages (from nltk<4.0.0,>=3.6.2->rake-nltk) (4.63.1)\n",
      "Requirement already satisfied: joblib in /usr/local/lib/python3.8/dist-packages (from nltk<4.0.0,>=3.6.2->rake-nltk) (1.2.0)\n",
      "Requirement already satisfied: click in /usr/local/lib/python3.8/dist-packages (from nltk<4.0.0,>=3.6.2->rake-nltk) (8.1.3)\n"
     ]
    }
   ],
   "source": [
    "!pip3 install rake-nltk -i https://mirrors.huaweicloud.com/repository/pypi/simple"
   ]
  },
  {
   "cell_type": "code",
   "execution_count": 4,
   "id": "262f83f2",
   "metadata": {
    "scrolled": true
   },
   "outputs": [
    {
     "name": "stdout",
     "output_type": "stream",
     "text": [
      "Looking in indexes: https://mirrors.huaweicloud.com/repository/pypi/simple\n",
      "Requirement already satisfied: summa in /usr/local/lib/python3.8/dist-packages (1.2.0)\n",
      "Requirement already satisfied: scipy>=0.19 in /usr/local/lib/python3.8/dist-packages (from summa) (1.10.1)\n",
      "Requirement already satisfied: numpy<1.27.0,>=1.19.5 in /usr/local/lib/python3.8/dist-packages (from scipy>=0.19->summa) (1.24.2)\n"
     ]
    }
   ],
   "source": [
    "!pip3 install summa -i https://mirrors.huaweicloud.com/repository/pypi/simple"
   ]
  },
  {
   "cell_type": "code",
   "execution_count": 5,
   "id": "01c404a0",
   "metadata": {
    "scrolled": true
   },
   "outputs": [
    {
     "name": "stdout",
     "output_type": "stream",
     "text": [
      "Looking in indexes: https://mirrors.huaweicloud.com/repository/pypi/simple\n",
      "Requirement already satisfied: yake in /usr/local/lib/python3.8/dist-packages (0.4.8)\n",
      "Requirement already satisfied: click>=6.0 in /usr/local/lib/python3.8/dist-packages (from yake) (8.1.3)\n",
      "Requirement already satisfied: jellyfish in /usr/local/lib/python3.8/dist-packages (from yake) (0.9.0)\n",
      "Requirement already satisfied: tabulate in /usr/local/lib/python3.8/dist-packages (from yake) (0.8.9)\n",
      "Requirement already satisfied: networkx in /usr/local/lib/python3.8/dist-packages (from yake) (2.8.8)\n",
      "Requirement already satisfied: segtok in /usr/local/lib/python3.8/dist-packages (from yake) (1.5.11)\n",
      "Requirement already satisfied: numpy in /usr/local/lib/python3.8/dist-packages (from yake) (1.24.2)\n",
      "Requirement already satisfied: regex in /usr/local/lib/python3.8/dist-packages (from segtok->yake) (2023.5.5)\n"
     ]
    }
   ],
   "source": [
    "!pip3 install yake -i https://mirrors.huaweicloud.com/repository/pypi/simple"
   ]
  },
  {
   "cell_type": "code",
   "execution_count": 6,
   "id": "45e67149",
   "metadata": {
    "scrolled": true
   },
   "outputs": [
    {
     "name": "stdout",
     "output_type": "stream",
     "text": [
      "Looking in indexes: https://mirrors.huaweicloud.com/repository/pypi/simple\n",
      "Collecting feast\n",
      "  Using cached https://mirrors.huaweicloud.com/repository/pypi/packages/ea/d0/f1c47095d92eda0415c9cdfb1c20c0e2d7e5fc6e9195f2a95baacceca548/feast-0.29.0-cp38-cp38-manylinux_2_17_x86_64.manylinux2014_x86_64.whl (29.8 MB)\n",
      "Collecting googleapis-common-protos<2,>=1.52.0\n",
      "  Using cached https://mirrors.huaweicloud.com/repository/pypi/packages/a7/8d/7ccf8f63ab0a768e13720262374c0d6a1489f7f23f1b89a16c92af452f09/googleapis_common_protos-1.59.0-py2.py3-none-any.whl (223 kB)\n",
      "Collecting google-api-core<3,>=1.23.0\n",
      "  Using cached https://mirrors.huaweicloud.com/repository/pypi/packages/15/fb/b641357b0f8fc540c766bc8f66048de0398d0a3e0cad7c4a08e2fbee733a/google_api_core-2.10.2-py3-none-any.whl (115 kB)\n",
      "Requirement already satisfied: tenacity<9,>=7 in /usr/local/lib/python3.8/dist-packages (from feast) (8.0.1)\n",
      "Collecting grpcio<2,>=1.47.0\n",
      "  Using cached https://mirrors.huaweicloud.com/repository/pypi/packages/76/1b/669789da6ea1057cda9e5edf608b3451e01367a496a928a219446ce25669/grpcio-1.54.2-cp38-cp38-manylinux_2_17_x86_64.manylinux2014_x86_64.whl (5.1 MB)\n",
      "Requirement already satisfied: Jinja2<4,>=2 in /usr/local/lib/python3.8/dist-packages (from feast) (3.0.3)\n",
      "Collecting bowler\n",
      "  Using cached https://mirrors.huaweicloud.com/repository/pypi/packages/b4/dc/17d999c602eb0ce1d1cd8d0833d29ca8cc1472ba3585c6e891450c2a621f/bowler-0.9.0-py3-none-any.whl (36 kB)\n",
      "Requirement already satisfied: pygments<3,>=2.12.0 in /usr/local/lib/python3.8/dist-packages (from feast) (2.12.0)\n",
      "Requirement already satisfied: numpy<3,>=1.22 in /usr/local/lib/python3.8/dist-packages (from feast) (1.24.2)\n",
      "Collecting grpcio-reflection<2,>=1.47.0\n",
      "  Using cached https://mirrors.huaweicloud.com/repository/pypi/packages/c0/66/9f9b62c2cbd14c1f44a0b2a7792757b42ef5c78246939bc9b27cfd7721e4/grpcio_reflection-1.54.2-py3-none-any.whl (11 kB)\n",
      "Collecting fastapi<1,>=0.68.0\n",
      "  Using cached https://mirrors.huaweicloud.com/repository/pypi/packages/4e/1a/04887c641b67e6649bde845b9a631f73a7abfbe3afda83957e09b95d88eb/fastapi-0.95.2-py3-none-any.whl (56 kB)\n",
      "Collecting fastavro<2,>=1.1.0\n",
      "  Using cached https://mirrors.huaweicloud.com/repository/pypi/packages/39/65/fe5fa936d8a69a334f92c3f435fc8ccec5a609aaa0b761f2092ebef90a38/fastavro-1.7.4-cp38-cp38-manylinux_2_17_x86_64.manylinux2014_x86_64.whl (2.7 MB)\n",
      "Requirement already satisfied: dill~=0.3.0 in /usr/local/lib/python3.8/dist-packages (from feast) (0.3.1.1)\n",
      "Collecting pyarrow<9,>=4\n",
      "  Using cached https://mirrors.huaweicloud.com/repository/pypi/packages/10/59/952f4a41fca36c3a7cda5685715ef567fa5166ccf1fcef6ee400b8e965a6/pyarrow-8.0.0-cp38-cp38-manylinux_2_17_x86_64.manylinux2014_x86_64.whl (29.4 MB)\n",
      "Requirement already satisfied: jsonschema in /usr/local/lib/python3.8/dist-packages (from feast) (4.5.1)\n",
      "Collecting httpx>=0.23.3\n",
      "  Using cached https://mirrors.huaweicloud.com/repository/pypi/packages/ec/91/e41f64f03d2a13aee7e8c819d82ee3aa7cdc484d18c0ae859742597d5aa0/httpx-0.24.1-py3-none-any.whl (75 kB)\n",
      "Collecting pandas<2,>=1.4.3\n",
      "  Using cached https://mirrors.huaweicloud.com/repository/pypi/packages/54/a0/c62d63c5c69be9aae07836e4d7e25e7a6f5590be3d8f2d53f43eeec5c475/pandas-1.5.3-cp38-cp38-manylinux_2_17_x86_64.manylinux2014_x86_64.whl (12.2 MB)\n",
      "Requirement already satisfied: colorama<1,>=0.3.9 in /usr/local/lib/python3.8/dist-packages (from feast) (0.4.4)\n",
      "Collecting uvicorn[standard]<1,>=0.14.0\n",
      "  Using cached https://mirrors.huaweicloud.com/repository/pypi/packages/8c/f1/7c45fe2a09133e103dcf0621831545c268cd3f7a5d58dc7e470be91b2cd0/uvicorn-0.21.1-py3-none-any.whl (57 kB)\n",
      "Collecting dask>=2021.1.0\n",
      "  Using cached https://mirrors.huaweicloud.com/repository/pypi/packages/07/93/32d3e317fec6d0fc130284f922ad9bd13d9ae0d52245e6ff6e57647e924c/dask-2023.5.0-py3-none-any.whl (1.2 MB)\n",
      "Collecting mmh3\n",
      "  Using cached https://mirrors.huaweicloud.com/repository/pypi/packages/5c/f7/2fab381a3bb22c307d50a1950c878960294eb2c00e896e7fbd5228738a3e/mmh3-4.0.0-cp38-cp38-manylinux_2_5_x86_64.manylinux1_x86_64.manylinux_2_17_x86_64.manylinux2014_x86_64.whl (68 kB)\n",
      "Requirement already satisfied: SQLAlchemy[mypy]<2,>1 in /usr/local/lib/python3.8/dist-packages (from feast) (1.4.9)\n",
      "Collecting proto-plus<2,>=1.20.0\n",
      "  Using cached https://mirrors.huaweicloud.com/repository/pypi/packages/fd/5b/4567ec6de6d11cc49f76856cde967bcd0d1b47e9c7abdf5bec31aa288344/proto_plus-1.22.1-py3-none-any.whl (47 kB)\n",
      "Requirement already satisfied: click<9.0.0,>=7.0.0 in /usr/local/lib/python3.8/dist-packages (from feast) (8.1.3)\n",
      "Collecting pandavro~=1.5.0\n",
      "  Using cached https://mirrors.huaweicloud.com/repository/pypi/packages/9f/6d/cd1944c0851514636c696a18cb2d9f01b66d2b73bb0c5d5c29b2581fd311/pandavro-1.5.2.tar.gz (3.8 kB)\n",
      "Requirement already satisfied: tabulate<1,>=0.8.0 in /usr/local/lib/python3.8/dist-packages (from feast) (0.8.9)\n",
      "Collecting protobuf<5,>3\n",
      "  Using cached https://mirrors.huaweicloud.com/repository/pypi/packages/14/23/f3b852093f3a7031049313913e04431e7a32bd9752adfaf79d1193cf05b1/protobuf-4.23.2-cp37-abi3-manylinux2014_x86_64.whl (304 kB)\n",
      "Requirement already satisfied: PyYAML<7,>=5.4.0 in /usr/local/lib/python3.8/dist-packages (from feast) (5.4.1)\n",
      "Collecting pydantic<2,>=1\n",
      "  Using cached https://mirrors.huaweicloud.com/repository/pypi/packages/15/27/c35f6fefc782aebcff9991b28728f3855b1253ff757e6dee8e3ac3815cd0/pydantic-1.10.8-cp38-cp38-manylinux_2_17_x86_64.manylinux2014_x86_64.whl (3.2 MB)\n",
      "Collecting toml<1,>=0.10.0\n",
      "  Using cached https://mirrors.huaweicloud.com/repository/pypi/packages/44/6f/7120676b6d73228c96e17f1f794d8ab046fc910d781c8d151120c3f1569e/toml-0.10.2-py2.py3-none-any.whl (16 kB)\n",
      "Requirement already satisfied: typeguard in /usr/local/lib/python3.8/dist-packages (from feast) (3.0.2)\n",
      "Requirement already satisfied: tqdm<5,>=4 in /usr/local/lib/python3.8/dist-packages (from feast) (4.63.1)\n",
      "Requirement already satisfied: requests<3.0.0dev,>=2.18.0 in /usr/local/lib/python3.8/dist-packages (from google-api-core<3,>=1.23.0->feast) (2.27.1)\n",
      "Collecting google-auth<3.0dev,>=1.25.0\n",
      "  Downloading https://mirrors.huaweicloud.com/repository/pypi/packages/d1/66/ae0916fa2e741d28906ebf8cde3a6b48e4cb2558f4effdf30cec067bbc09/google_auth-2.19.0-py2.py3-none-any.whl (181 kB)\n",
      "\u001b[K     |████████████████████████████████| 181 kB 2.0 MB/s eta 0:00:01\n",
      "\u001b[?25hRequirement already satisfied: MarkupSafe>=2.0 in /usr/local/lib/python3.8/dist-packages (from Jinja2<4,>=2->feast) (2.0.1)\n",
      "Collecting moreorless>=0.2.0\n",
      "  Using cached https://mirrors.huaweicloud.com/repository/pypi/packages/ad/88/18597dcf9ef8c5e99e1b7961975c56135810fd9d620fc43c6be8362c506a/moreorless-0.4.0-py2.py3-none-any.whl (9.3 kB)\n",
      "Collecting volatile\n",
      "  Using cached https://mirrors.huaweicloud.com/repository/pypi/packages/0d/c6/8ab8520c95262ba253e7cc93ba4636bdeeb9ab2c0bdec5034b46e01b607d/volatile-2.1.0.tar.gz (3.3 kB)\n",
      "Requirement already satisfied: attrs in /usr/local/lib/python3.8/dist-packages (from bowler->feast) (20.3.0)\n",
      "Collecting fissix\n",
      "  Using cached https://mirrors.huaweicloud.com/repository/pypi/packages/86/31/70c01b66a2d7249682a260c5e8f3b7b708b834ec8eddf442ae9a07424870/fissix-21.11.13-py3-none-any.whl (188 kB)\n",
      "Collecting starlette<0.28.0,>=0.27.0\n",
      "  Downloading https://mirrors.huaweicloud.com/repository/pypi/packages/58/f8/e2cca22387965584a409795913b774235752be4176d276714e15e1a58884/starlette-0.27.0-py3-none-any.whl (66 kB)\n",
      "\u001b[K     |████████████████████████████████| 66 kB 2.1 MB/s eta 0:00:011\n",
      "\u001b[?25hRequirement already satisfied: importlib-resources>=1.4.0; python_version < \"3.9\" in /usr/local/lib/python3.8/dist-packages (from jsonschema->feast) (5.7.1)\n",
      "Requirement already satisfied: pyrsistent!=0.17.0,!=0.17.1,!=0.17.2,>=0.14.0 in /usr/local/lib/python3.8/dist-packages (from jsonschema->feast) (0.18.1)\n",
      "Requirement already satisfied: sniffio in /usr/local/lib/python3.8/dist-packages (from httpx>=0.23.3->feast) (1.2.0)\n",
      "Requirement already satisfied: httpcore<0.18.0,>=0.15.0 in /usr/local/lib/python3.8/dist-packages (from httpx>=0.23.3->feast) (0.15.0)\n",
      "Requirement already satisfied: idna in /usr/local/lib/python3.8/dist-packages (from httpx>=0.23.3->feast) (3.3)\n",
      "Requirement already satisfied: certifi in /usr/local/lib/python3.8/dist-packages (from httpx>=0.23.3->feast) (2020.12.5)\n",
      "Requirement already satisfied: pytz>=2020.1 in /usr/local/lib/python3.8/dist-packages (from pandas<2,>=1.4.3->feast) (2022.1)\n",
      "Requirement already satisfied: python-dateutil>=2.8.1 in /usr/local/lib/python3.8/dist-packages (from pandas<2,>=1.4.3->feast) (2.8.2)\n",
      "Requirement already satisfied: h11>=0.8 in /usr/local/lib/python3.8/dist-packages (from uvicorn[standard]<1,>=0.14.0->feast) (0.12.0)\n",
      "\u001b[31mERROR: Could not find a version that satisfies the requirement websockets>=10.4; extra == \"standard\" (from uvicorn[standard]<1,>=0.14.0->feast) (from versions: 1.0, 2.0, 2.1, 2.2, 2.3, 2.4, 2.5, 2.6, 2.7, 3.0, 3.1, 3.2, 3.3, 3.4, 4.0.1, 5.0, 5.0.1, 6.0, 7.0, 8.0, 8.0.1, 8.0.2, 8.1, 9.0, 9.0.1, 9.0.2, 9.1, 10.0, 10.1, 10.2, 10.3)\u001b[0m\n",
      "\u001b[31mERROR: No matching distribution found for websockets>=10.4; extra == \"standard\" (from uvicorn[standard]<1,>=0.14.0->feast)\u001b[0m\n"
     ]
    }
   ],
   "source": [
    "!pip3 install feast -i https://mirrors.huaweicloud.com/repository/pypi/simple"
   ]
  },
  {
   "cell_type": "code",
   "execution_count": 7,
   "id": "3c5fbcdb",
   "metadata": {
    "scrolled": true
   },
   "outputs": [
    {
     "name": "stdout",
     "output_type": "stream",
     "text": [
      "Looking in indexes: https://mirrors.huaweicloud.com/repository/pypi/simple\n",
      "Requirement already satisfied: pprint in /usr/local/lib/python3.8/dist-packages (0.1)\n"
     ]
    }
   ],
   "source": [
    "!pip3 install pprint -i https://mirrors.huaweicloud.com/repository/pypi/simple"
   ]
  },
  {
   "cell_type": "code",
   "execution_count": 8,
   "id": "a66a1f7a",
   "metadata": {
    "scrolled": true
   },
   "outputs": [
    {
     "name": "stdout",
     "output_type": "stream",
     "text": [
      "Looking in indexes: http://mirrors.cloud.aliyuncs.com/pypi/simple/\n",
      "Requirement already satisfied: apache-airflow[celery]==2.3.2 in /usr/local/lib/python3.8/dist-packages (2.3.2)\n",
      "Requirement already satisfied: alembic==1.8.0 in /usr/local/lib/python3.8/dist-packages (from -c https://raw.githubusercontent.com/apache/airflow/constraints-2.3.2/constraints-3.7.txt (line 54)) (1.8.0)\n",
      "Requirement already satisfied: jsonschema==4.5.1 in /usr/local/lib/python3.8/dist-packages (from -c https://raw.githubusercontent.com/apache/airflow/constraints-2.3.2/constraints-3.7.txt (line 332)) (4.5.1)\n",
      "Requirement already satisfied: python-dateutil==2.8.2 in /usr/local/lib/python3.8/dist-packages (from -c https://raw.githubusercontent.com/apache/airflow/constraints-2.3.2/constraints-3.7.txt (line 455)) (2.8.2)\n",
      "Requirement already satisfied: SQLAlchemy-JSONField==1.0.0 in /usr/local/lib/python3.8/dist-packages (from -c https://raw.githubusercontent.com/apache/airflow/constraints-2.3.2/constraints-3.7.txt (line 42)) (1.0.0)\n",
      "Requirement already satisfied: python-slugify==6.1.2 in /usr/local/lib/python3.8/dist-packages (from -c https://raw.githubusercontent.com/apache/airflow/constraints-2.3.2/constraints-3.7.txt (line 461)) (6.1.2)\n",
      "Requirement already satisfied: dill==0.3.1.1 in /usr/local/lib/python3.8/dist-packages (from -c https://raw.githubusercontent.com/apache/airflow/constraints-2.3.2/constraints-3.7.txt (line 216)) (0.3.1.1)\n",
      "Requirement already satisfied: lockfile==0.12.2 in /usr/local/lib/python3.8/dist-packages (from -c https://raw.githubusercontent.com/apache/airflow/constraints-2.3.2/constraints-3.7.txt (line 344)) (0.12.2)\n",
      "Requirement already satisfied: cryptography==36.0.2 in /usr/local/lib/python3.8/dist-packages (from -c https://raw.githubusercontent.com/apache/airflow/constraints-2.3.2/constraints-3.7.txt (line 207)) (36.0.2)\n",
      "Requirement already satisfied: croniter==1.3.5 in /usr/local/lib/python3.8/dist-packages (from -c https://raw.githubusercontent.com/apache/airflow/constraints-2.3.2/constraints-3.7.txt (line 206)) (1.3.5)\n",
      "Requirement already satisfied: marshmallow-oneofschema==3.0.1 in /usr/local/lib/python3.8/dist-packages (from -c https://raw.githubusercontent.com/apache/airflow/constraints-2.3.2/constraints-3.7.txt (line 348)) (3.0.1)\n",
      "Requirement already satisfied: argcomplete==2.0.0 in /usr/local/lib/python3.8/dist-packages (from -c https://raw.githubusercontent.com/apache/airflow/constraints-2.3.2/constraints-3.7.txt (line 138)) (2.0.0)\n",
      "Requirement already satisfied: cattrs==1.10.0 in /usr/local/lib/python3.8/dist-packages (from -c https://raw.githubusercontent.com/apache/airflow/constraints-2.3.2/constraints-3.7.txt (line 184)) (1.10.0)\n",
      "Requirement already satisfied: termcolor==1.1.0 in /usr/local/lib/python3.8/dist-packages (from -c https://raw.githubusercontent.com/apache/airflow/constraints-2.3.2/constraints-3.7.txt (line 534)) (1.1.0)\n",
      "Requirement already satisfied: apache-airflow-providers-http==2.1.2 in /usr/local/lib/python3.8/dist-packages (from -c https://raw.githubusercontent.com/apache/airflow/constraints-2.3.2/constraints-3.7.txt (line 95)) (2.1.2)\n",
      "Requirement already satisfied: httpx==0.23.0 in /usr/local/lib/python3.8/dist-packages (from -c https://raw.githubusercontent.com/apache/airflow/constraints-2.3.2/constraints-3.7.txt (line 308)) (0.23.0)\n",
      "Requirement already satisfied: importlib-metadata==4.11.4 in /usr/local/lib/python3.8/dist-packages (from -c https://raw.githubusercontent.com/apache/airflow/constraints-2.3.2/constraints-3.7.txt (line 315)) (4.11.4)\n",
      "Requirement already satisfied: apache-airflow-providers-ftp==2.1.2 in /usr/local/lib/python3.8/dist-packages (from -c https://raw.githubusercontent.com/apache/airflow/constraints-2.3.2/constraints-3.7.txt (line 90)) (2.1.2)\n",
      "Requirement already satisfied: attrs==20.3.0 in /usr/local/lib/python3.8/dist-packages (from -c https://raw.githubusercontent.com/apache/airflow/constraints-2.3.2/constraints-3.7.txt (line 146)) (20.3.0)\n",
      "Requirement already satisfied: blinker==1.4 in /usr/local/lib/python3.8/dist-packages (from -c https://raw.githubusercontent.com/apache/airflow/constraints-2.3.2/constraints-3.7.txt (line 175)) (1.4)\n",
      "Requirement already satisfied: tabulate==0.8.9 in /usr/local/lib/python3.8/dist-packages (from -c https://raw.githubusercontent.com/apache/airflow/constraints-2.3.2/constraints-3.7.txt (line 531)) (0.8.9)\n",
      "Requirement already satisfied: Werkzeug==1.0.1 in /usr/local/lib/python3.8/dist-packages (from -c https://raw.githubusercontent.com/apache/airflow/constraints-2.3.2/constraints-3.7.txt (line 49)) (1.0.1)\n",
      "Requirement already satisfied: pendulum==2.1.2 in /usr/local/lib/python3.8/dist-packages (from -c https://raw.githubusercontent.com/apache/airflow/constraints-2.3.2/constraints-3.7.txt (line 394)) (2.1.2)\n",
      "Requirement already satisfied: python-daemon==2.3.0 in /usr/local/lib/python3.8/dist-packages (from -c https://raw.githubusercontent.com/apache/airflow/constraints-2.3.2/constraints-3.7.txt (line 454)) (2.3.0)\n",
      "Requirement already satisfied: Flask-Session==0.4.0 in /usr/local/lib/python3.8/dist-packages (from -c https://raw.githubusercontent.com/apache/airflow/constraints-2.3.2/constraints-3.7.txt (line 24)) (0.4.0)\n",
      "Requirement already satisfied: Flask-Caching==1.11.1 in /usr/local/lib/python3.8/dist-packages (from -c https://raw.githubusercontent.com/apache/airflow/constraints-2.3.2/constraints-3.7.txt (line 19)) (1.11.1)\n",
      "Requirement already satisfied: colorlog==4.8.0 in /usr/local/lib/python3.8/dist-packages (from -c https://raw.githubusercontent.com/apache/airflow/constraints-2.3.2/constraints-3.7.txt (line 200)) (4.8.0)\n",
      "Requirement already satisfied: setproctitle==1.2.3 in /usr/local/lib/python3.8/dist-packages (from -c https://raw.githubusercontent.com/apache/airflow/constraints-2.3.2/constraints-3.7.txt (line 493)) (1.2.3)\n",
      "Requirement already satisfied: packaging==21.3 in /usr/local/lib/python3.8/dist-packages (from -c https://raw.githubusercontent.com/apache/airflow/constraints-2.3.2/constraints-3.7.txt (line 383)) (21.3)\n",
      "Requirement already satisfied: Pygments==2.12.0 in /usr/local/lib/python3.8/dist-packages (from -c https://raw.githubusercontent.com/apache/airflow/constraints-2.3.2/constraints-3.7.txt (line 40)) (2.12.0)\n",
      "Requirement already satisfied: importlib-resources==5.7.1 in /usr/local/lib/python3.8/dist-packages (from -c https://raw.githubusercontent.com/apache/airflow/constraints-2.3.2/constraints-3.7.txt (line 316)) (5.7.1)\n",
      "Requirement already satisfied: graphviz==0.20 in /usr/local/lib/python3.8/dist-packages (from -c https://raw.githubusercontent.com/apache/airflow/constraints-2.3.2/constraints-3.7.txt (line 295)) (0.20)\n",
      "Requirement already satisfied: itsdangerous==1.1.0 in /usr/local/lib/python3.8/dist-packages (from -c https://raw.githubusercontent.com/apache/airflow/constraints-2.3.2/constraints-3.7.txt (line 324)) (1.1.0)\n",
      "Requirement already satisfied: Deprecated==1.2.13 in /usr/local/lib/python3.8/dist-packages (from -c https://raw.githubusercontent.com/apache/airflow/constraints-2.3.2/constraints-3.7.txt (line 15)) (1.2.13)\n",
      "Requirement already satisfied: typing_extensions==4.2.0 in /usr/local/lib/python3.8/dist-packages (from -c https://raw.githubusercontent.com/apache/airflow/constraints-2.3.2/constraints-3.7.txt (line 572)) (4.2.0)\n",
      "Requirement already satisfied: python-nvd3==0.15.0 in /usr/local/lib/python3.8/dist-packages (from -c https://raw.githubusercontent.com/apache/airflow/constraints-2.3.2/constraints-3.7.txt (line 460)) (0.15.0)\n",
      "Requirement already satisfied: cron-descriptor==1.2.24 in /usr/local/lib/python3.8/dist-packages (from -c https://raw.githubusercontent.com/apache/airflow/constraints-2.3.2/constraints-3.7.txt (line 205)) (1.2.24)\n",
      "Requirement already satisfied: Flask-WTF==0.14.3 in /usr/local/lib/python3.8/dist-packages (from -c https://raw.githubusercontent.com/apache/airflow/constraints-2.3.2/constraints-3.7.txt (line 25)) (0.14.3)\n",
      "Requirement already satisfied: Jinja2==3.0.3 in /usr/local/lib/python3.8/dist-packages (from -c https://raw.githubusercontent.com/apache/airflow/constraints-2.3.2/constraints-3.7.txt (line 31)) (3.0.3)\n",
      "Requirement already satisfied: Flask==1.1.2 in /usr/local/lib/python3.8/dist-packages (from -c https://raw.githubusercontent.com/apache/airflow/constraints-2.3.2/constraints-3.7.txt (line 26)) (1.1.2)\n",
      "Requirement already satisfied: Markdown==3.3.7 in /usr/local/lib/python3.8/dist-packages (from -c https://raw.githubusercontent.com/apache/airflow/constraints-2.3.2/constraints-3.7.txt (line 33)) (3.3.7)\n",
      "Requirement already satisfied: Flask-AppBuilder==3.4.5 in /usr/local/lib/python3.8/dist-packages (from -c https://raw.githubusercontent.com/apache/airflow/constraints-2.3.2/constraints-3.7.txt (line 16)) (3.4.5)\n",
      "Requirement already satisfied: unicodecsv==0.14.1 in /usr/local/lib/python3.8/dist-packages (from -c https://raw.githubusercontent.com/apache/airflow/constraints-2.3.2/constraints-3.7.txt (line 575)) (0.14.1)\n",
      "Requirement already satisfied: SQLAlchemy==1.4.9 in /usr/local/lib/python3.8/dist-packages (from -c https://raw.githubusercontent.com/apache/airflow/constraints-2.3.2/constraints-3.7.txt (line 44)) (1.4.9)\n",
      "Requirement already satisfied: lazy-object-proxy==1.7.1 in /usr/local/lib/python3.8/dist-packages (from -c https://raw.githubusercontent.com/apache/airflow/constraints-2.3.2/constraints-3.7.txt (line 341)) (1.7.1)\n",
      "Requirement already satisfied: gunicorn==20.1.0 in /usr/local/lib/python3.8/dist-packages (from -c https://raw.githubusercontent.com/apache/airflow/constraints-2.3.2/constraints-3.7.txt (line 302)) (20.1.0)\n",
      "Requirement already satisfied: pluggy==1.0.0 in /usr/local/lib/python3.8/dist-packages (from -c https://raw.githubusercontent.com/apache/airflow/constraints-2.3.2/constraints-3.7.txt (line 402)) (1.0.0)\n",
      "Requirement already satisfied: pathspec==0.9.0 in /usr/local/lib/python3.8/dist-packages (from -c https://raw.githubusercontent.com/apache/airflow/constraints-2.3.2/constraints-3.7.txt (line 391)) (0.9.0)\n",
      "Requirement already satisfied: Flask-Login==0.4.1 in /usr/local/lib/python3.8/dist-packages (from -c https://raw.githubusercontent.com/apache/airflow/constraints-2.3.2/constraints-3.7.txt (line 21)) (0.4.1)\n",
      "Requirement already satisfied: rich==12.4.4 in /usr/local/lib/python3.8/dist-packages (from -c https://raw.githubusercontent.com/apache/airflow/constraints-2.3.2/constraints-3.7.txt (line 483)) (12.4.4)\n",
      "Requirement already satisfied: apache-airflow-providers-sqlite==2.1.3 in /usr/local/lib/python3.8/dist-packages (from -c https://raw.githubusercontent.com/apache/airflow/constraints-2.3.2/constraints-3.7.txt (line 127)) (2.1.3)\n",
      "Requirement already satisfied: apache-airflow-providers-imap==2.2.3 in /usr/local/lib/python3.8/dist-packages (from -c https://raw.githubusercontent.com/apache/airflow/constraints-2.3.2/constraints-3.7.txt (line 96)) (2.2.3)\n",
      "Requirement already satisfied: psutil==5.9.1 in /usr/local/lib/python3.8/dist-packages (from -c https://raw.githubusercontent.com/apache/airflow/constraints-2.3.2/constraints-3.7.txt (line 413)) (5.9.1)\n",
      "Requirement already satisfied: MarkupSafe==2.0.1 in /usr/local/lib/python3.8/dist-packages (from -c https://raw.githubusercontent.com/apache/airflow/constraints-2.3.2/constraints-3.7.txt (line 34)) (2.0.1)\n",
      "Requirement already satisfied: tenacity==8.0.1 in /usr/local/lib/python3.8/dist-packages (from -c https://raw.githubusercontent.com/apache/airflow/constraints-2.3.2/constraints-3.7.txt (line 533)) (8.0.1)\n",
      "Requirement already satisfied: connexion==2.13.1 in /usr/local/lib/python3.8/dist-packages (from -c https://raw.githubusercontent.com/apache/airflow/constraints-2.3.2/constraints-3.7.txt (line 202)) (2.13.1)\n",
      "Requirement already satisfied: flower==1.0.0 in /usr/local/lib/python3.8/dist-packages (from -c https://raw.githubusercontent.com/apache/airflow/constraints-2.3.2/constraints-3.7.txt (line 240)) (1.0.0)\n",
      "Requirement already satisfied: apache-airflow-providers-celery==2.1.4 in /usr/local/lib/python3.8/dist-packages (from -c https://raw.githubusercontent.com/apache/airflow/constraints-2.3.2/constraints-3.7.txt (line 78)) (2.1.4)\n",
      "Requirement already satisfied: celery==5.2.7 in /usr/local/lib/python3.8/dist-packages (from -c https://raw.githubusercontent.com/apache/airflow/constraints-2.3.2/constraints-3.7.txt (line 185)) (5.2.7)\n",
      "Requirement already satisfied: Mako==1.2.0 in /usr/local/lib/python3.8/dist-packages (from -c https://raw.githubusercontent.com/apache/airflow/constraints-2.3.2/constraints-3.7.txt (line 32)) (1.2.0)\n",
      "Requirement already satisfied: pyrsistent==0.18.1 in /usr/local/lib/python3.8/dist-packages (from -c https://raw.githubusercontent.com/apache/airflow/constraints-2.3.2/constraints-3.7.txt (line 440)) (0.18.1)\n",
      "Requirement already satisfied: six==1.16.0 in /usr/local/lib/python3.8/dist-packages (from -c https://raw.githubusercontent.com/apache/airflow/constraints-2.3.2/constraints-3.7.txt (line 495)) (1.16.0)\n",
      "Requirement already satisfied: text-unidecode==1.3 in /usr/local/lib/python3.8/dist-packages (from -c https://raw.githubusercontent.com/apache/airflow/constraints-2.3.2/constraints-3.7.txt (line 535)) (1.3)\n",
      "Requirement already satisfied: cffi==1.15.0 in /usr/local/lib/python3.8/dist-packages (from -c https://raw.githubusercontent.com/apache/airflow/constraints-2.3.2/constraints-3.7.txt (line 187)) (1.15.0)\n",
      "Requirement already satisfied: marshmallow==3.16.0 in /usr/local/lib/python3.8/dist-packages (from -c https://raw.githubusercontent.com/apache/airflow/constraints-2.3.2/constraints-3.7.txt (line 350)) (3.16.0)\n",
      "Requirement already satisfied: requests==2.27.1 in /usr/local/lib/python3.8/dist-packages (from -c https://raw.githubusercontent.com/apache/airflow/constraints-2.3.2/constraints-3.7.txt (line 479)) (2.27.1)\n",
      "Requirement already satisfied: rfc3986==1.5.0 in /usr/local/lib/python3.8/dist-packages (from -c https://raw.githubusercontent.com/apache/airflow/constraints-2.3.2/constraints-3.7.txt (line 481)) (1.5.0)\n",
      "Requirement already satisfied: httpcore==0.15.0 in /usr/local/lib/python3.8/dist-packages (from -c https://raw.githubusercontent.com/apache/airflow/constraints-2.3.2/constraints-3.7.txt (line 306)) (0.15.0)\n",
      "Requirement already satisfied: certifi==2020.12.5 in /usr/local/lib/python3.8/dist-packages (from -c https://raw.githubusercontent.com/apache/airflow/constraints-2.3.2/constraints-3.7.txt (line 186)) (2020.12.5)\n",
      "Requirement already satisfied: sniffio==1.2.0 in /usr/local/lib/python3.8/dist-packages (from -c https://raw.githubusercontent.com/apache/airflow/constraints-2.3.2/constraints-3.7.txt (line 500)) (1.2.0)\n",
      "Requirement already satisfied: zipp==3.8.0 in /usr/local/lib/python3.8/dist-packages (from -c https://raw.githubusercontent.com/apache/airflow/constraints-2.3.2/constraints-3.7.txt (line 595)) (3.8.0)\n",
      "Requirement already satisfied: pytzdata==2020.1 in /usr/local/lib/python3.8/dist-packages (from -c https://raw.githubusercontent.com/apache/airflow/constraints-2.3.2/constraints-3.7.txt (line 466)) (2020.1)\n",
      "Requirement already satisfied: setuptools in /usr/lib/python3/dist-packages (from python-daemon==2.3.0->-c https://raw.githubusercontent.com/apache/airflow/constraints-2.3.2/constraints-3.7.txt (line 454)) (45.2.0)\n",
      "Requirement already satisfied: docutils==0.18.1 in /usr/local/lib/python3.8/dist-packages (from -c https://raw.githubusercontent.com/apache/airflow/constraints-2.3.2/constraints-3.7.txt (line 222)) (0.18.1)\n",
      "Requirement already satisfied: cachelib==0.7.0 in /usr/local/lib/python3.8/dist-packages (from -c https://raw.githubusercontent.com/apache/airflow/constraints-2.3.2/constraints-3.7.txt (line 181)) (0.7.0)\n",
      "Requirement already satisfied: pyparsing==2.4.7 in /usr/local/lib/python3.8/dist-packages (from -c https://raw.githubusercontent.com/apache/airflow/constraints-2.3.2/constraints-3.7.txt (line 438)) (2.4.7)\n",
      "Requirement already satisfied: wrapt==1.14.1 in /usr/local/lib/python3.8/dist-packages (from -c https://raw.githubusercontent.com/apache/airflow/constraints-2.3.2/constraints-3.7.txt (line 587)) (1.14.1)\n",
      "Requirement already satisfied: WTForms==2.3.3 in /usr/local/lib/python3.8/dist-packages (from -c https://raw.githubusercontent.com/apache/airflow/constraints-2.3.2/constraints-3.7.txt (line 48)) (2.3.3)\n",
      "Requirement already satisfied: click==8.1.3 in /usr/local/lib/python3.8/dist-packages (from -c https://raw.githubusercontent.com/apache/airflow/constraints-2.3.2/constraints-3.7.txt (line 195)) (8.1.3)\n",
      "Requirement already satisfied: apispec==3.3.2 in /usr/local/lib/python3.8/dist-packages (from -c https://raw.githubusercontent.com/apache/airflow/constraints-2.3.2/constraints-3.7.txt (line 136)) (3.3.2)\n",
      "Requirement already satisfied: Flask-SQLAlchemy==2.5.1 in /usr/local/lib/python3.8/dist-packages (from -c https://raw.githubusercontent.com/apache/airflow/constraints-2.3.2/constraints-3.7.txt (line 23)) (2.5.1)\n",
      "Requirement already satisfied: PyJWT==1.7.1 in /usr/local/lib/python3.8/dist-packages (from -c https://raw.githubusercontent.com/apache/airflow/constraints-2.3.2/constraints-3.7.txt (line 37)) (1.7.1)\n",
      "Requirement already satisfied: SQLAlchemy-Utils==0.38.2 in /usr/local/lib/python3.8/dist-packages (from -c https://raw.githubusercontent.com/apache/airflow/constraints-2.3.2/constraints-3.7.txt (line 43)) (0.38.2)\n",
      "Requirement already satisfied: marshmallow-sqlalchemy==0.26.1 in /usr/local/lib/python3.8/dist-packages (from -c https://raw.githubusercontent.com/apache/airflow/constraints-2.3.2/constraints-3.7.txt (line 349)) (0.26.1)\n",
      "Requirement already satisfied: Flask-OpenID==1.3.0 in /usr/local/lib/python3.8/dist-packages (from -c https://raw.githubusercontent.com/apache/airflow/constraints-2.3.2/constraints-3.7.txt (line 22)) (1.3.0)\n",
      "Requirement already satisfied: colorama==0.4.4 in /usr/local/lib/python3.8/dist-packages (from -c https://raw.githubusercontent.com/apache/airflow/constraints-2.3.2/constraints-3.7.txt (line 199)) (0.4.4)\n",
      "Requirement already satisfied: marshmallow-enum==1.5.1 in /usr/local/lib/python3.8/dist-packages (from -c https://raw.githubusercontent.com/apache/airflow/constraints-2.3.2/constraints-3.7.txt (line 347)) (1.5.1)\n",
      "Requirement already satisfied: email-validator==1.2.1 in /usr/local/lib/python3.8/dist-packages (from -c https://raw.githubusercontent.com/apache/airflow/constraints-2.3.2/constraints-3.7.txt (line 227)) (1.2.1)\n",
      "Requirement already satisfied: Flask-Babel==2.0.0 in /usr/local/lib/python3.8/dist-packages (from -c https://raw.githubusercontent.com/apache/airflow/constraints-2.3.2/constraints-3.7.txt (line 17)) (2.0.0)\n",
      "Requirement already satisfied: Flask-JWT-Extended==3.25.1 in /usr/local/lib/python3.8/dist-packages (from -c https://raw.githubusercontent.com/apache/airflow/constraints-2.3.2/constraints-3.7.txt (line 20)) (3.25.1)\n",
      "Requirement already satisfied: prison==0.2.1 in /usr/local/lib/python3.8/dist-packages (from -c https://raw.githubusercontent.com/apache/airflow/constraints-2.3.2/constraints-3.7.txt (line 408)) (0.2.1)\n",
      "Requirement already satisfied: greenlet==1.1.2 in /usr/local/lib/python3.8/dist-packages (from -c https://raw.githubusercontent.com/apache/airflow/constraints-2.3.2/constraints-3.7.txt (line 296)) (1.1.2)\n",
      "Requirement already satisfied: commonmark==0.9.1 in /usr/local/lib/python3.8/dist-packages (from -c https://raw.githubusercontent.com/apache/airflow/constraints-2.3.2/constraints-3.7.txt (line 201)) (0.9.1)\n",
      "Requirement already satisfied: clickclick==20.10.2 in /usr/local/lib/python3.8/dist-packages (from -c https://raw.githubusercontent.com/apache/airflow/constraints-2.3.2/constraints-3.7.txt (line 196)) (20.10.2)\n",
      "Requirement already satisfied: inflection==0.5.1 in /usr/local/lib/python3.8/dist-packages (from -c https://raw.githubusercontent.com/apache/airflow/constraints-2.3.2/constraints-3.7.txt (line 318)) (0.5.1)\n",
      "Requirement already satisfied: PyYAML==5.4.1 in /usr/local/lib/python3.8/dist-packages (from -c https://raw.githubusercontent.com/apache/airflow/constraints-2.3.2/constraints-3.7.txt (line 39)) (5.4.1)\n",
      "Requirement already satisfied: swagger-ui-bundle==0.0.9 in /usr/local/lib/python3.8/dist-packages (from -c https://raw.githubusercontent.com/apache/airflow/constraints-2.3.2/constraints-3.7.txt (line 529)) (0.0.9)\n",
      "Requirement already satisfied: humanize==4.1.0 in /usr/local/lib/python3.8/dist-packages (from -c https://raw.githubusercontent.com/apache/airflow/constraints-2.3.2/constraints-3.7.txt (line 309)) (4.1.0)\n",
      "Requirement already satisfied: pytz==2022.1 in /usr/local/lib/python3.8/dist-packages (from -c https://raw.githubusercontent.com/apache/airflow/constraints-2.3.2/constraints-3.7.txt (line 465)) (2022.1)\n",
      "Requirement already satisfied: prometheus-client==0.14.1 in /usr/local/lib/python3.8/dist-packages (from -c https://raw.githubusercontent.com/apache/airflow/constraints-2.3.2/constraints-3.7.txt (line 409)) (0.14.1)\n",
      "Requirement already satisfied: tornado==6.1 in /usr/local/lib/python3.8/dist-packages (from -c https://raw.githubusercontent.com/apache/airflow/constraints-2.3.2/constraints-3.7.txt (line 542)) (6.1)\n",
      "Requirement already satisfied: click-plugins==1.1.1 in /usr/local/lib/python3.8/dist-packages (from -c https://raw.githubusercontent.com/apache/airflow/constraints-2.3.2/constraints-3.7.txt (line 193)) (1.1.1)\n",
      "Requirement already satisfied: billiard==3.6.4.0 in /usr/local/lib/python3.8/dist-packages (from -c https://raw.githubusercontent.com/apache/airflow/constraints-2.3.2/constraints-3.7.txt (line 172)) (3.6.4.0)\n",
      "Requirement already satisfied: vine==5.0.0 in /usr/local/lib/python3.8/dist-packages (from -c https://raw.githubusercontent.com/apache/airflow/constraints-2.3.2/constraints-3.7.txt (line 580)) (5.0.0)\n",
      "Requirement already satisfied: click-didyoumean==0.3.0 in /usr/local/lib/python3.8/dist-packages (from -c https://raw.githubusercontent.com/apache/airflow/constraints-2.3.2/constraints-3.7.txt (line 192)) (0.3.0)\n",
      "Requirement already satisfied: kombu==5.2.4 in /usr/local/lib/python3.8/dist-packages (from -c https://raw.githubusercontent.com/apache/airflow/constraints-2.3.2/constraints-3.7.txt (line 337)) (5.2.4)\n",
      "Requirement already satisfied: click-repl==0.2.0 in /usr/local/lib/python3.8/dist-packages (from -c https://raw.githubusercontent.com/apache/airflow/constraints-2.3.2/constraints-3.7.txt (line 194)) (0.2.0)\n",
      "Requirement already satisfied: pycparser==2.21 in /usr/local/lib/python3.8/dist-packages (from -c https://raw.githubusercontent.com/apache/airflow/constraints-2.3.2/constraints-3.7.txt (line 425)) (2.21)\n",
      "Requirement already satisfied: urllib3==1.26.9 in /usr/local/lib/python3.8/dist-packages (from -c https://raw.githubusercontent.com/apache/airflow/constraints-2.3.2/constraints-3.7.txt (line 577)) (1.26.9)\n",
      "Requirement already satisfied: charset-normalizer==2.0.12 in /usr/local/lib/python3.8/dist-packages (from -c https://raw.githubusercontent.com/apache/airflow/constraints-2.3.2/constraints-3.7.txt (line 190)) (2.0.12)\n",
      "Requirement already satisfied: idna==3.3 in /usr/local/lib/python3.8/dist-packages (from -c https://raw.githubusercontent.com/apache/airflow/constraints-2.3.2/constraints-3.7.txt (line 312)) (3.3)\n",
      "Requirement already satisfied: h11==0.12.0 in /usr/local/lib/python3.8/dist-packages (from -c https://raw.githubusercontent.com/apache/airflow/constraints-2.3.2/constraints-3.7.txt (line 303)) (0.12.0)\n",
      "Requirement already satisfied: anyio==3.6.1 in /usr/local/lib/python3.8/dist-packages (from -c https://raw.githubusercontent.com/apache/airflow/constraints-2.3.2/constraints-3.7.txt (line 60)) (3.6.1)\n",
      "Requirement already satisfied: python3-openid==3.2.0 in /usr/local/lib/python3.8/dist-packages (from -c https://raw.githubusercontent.com/apache/airflow/constraints-2.3.2/constraints-3.7.txt (line 463)) (3.2.0)\n",
      "Requirement already satisfied: dnspython==2.2.1 in /usr/local/lib/python3.8/dist-packages (from -c https://raw.githubusercontent.com/apache/airflow/constraints-2.3.2/constraints-3.7.txt (line 219)) (2.2.1)\n",
      "Requirement already satisfied: Babel==2.10.1 in /usr/local/lib/python3.8/dist-packages (from -c https://raw.githubusercontent.com/apache/airflow/constraints-2.3.2/constraints-3.7.txt (line 14)) (2.10.1)\n",
      "Requirement already satisfied: amqp==5.1.1 in /usr/local/lib/python3.8/dist-packages (from -c https://raw.githubusercontent.com/apache/airflow/constraints-2.3.2/constraints-3.7.txt (line 57)) (5.1.1)\n",
      "Collecting prompt-toolkit==3.0.29\n",
      "  Downloading http://mirrors.cloud.aliyuncs.com/pypi/packages/3f/2d/dcb44d69f388ca2ee1a4a4d3c204ab66b36975c0d5166781eaeeff76b882/prompt_toolkit-3.0.29-py3-none-any.whl (381 kB)\n",
      "\u001b[K     |████████████████████████████████| 381 kB 5.1 MB/s eta 0:00:01\n",
      "\u001b[?25hRequirement already satisfied: defusedxml==0.7.1 in /usr/local/lib/python3.8/dist-packages (from -c https://raw.githubusercontent.com/apache/airflow/constraints-2.3.2/constraints-3.7.txt (line 215)) (0.7.1)\n",
      "Requirement already satisfied: wcwidth==0.2.5 in /usr/local/lib/python3.8/dist-packages (from -c https://raw.githubusercontent.com/apache/airflow/constraints-2.3.2/constraints-3.7.txt (line 584)) (0.2.5)\n",
      "\u001b[31mERROR: jupyter-console 6.6.3 has requirement prompt-toolkit>=3.0.30, but you'll have prompt-toolkit 3.0.29 which is incompatible.\u001b[0m\n",
      "\u001b[31mERROR: ipython 8.12.2 has requirement prompt-toolkit!=3.0.37,<3.1.0,>=3.0.30, but you'll have prompt-toolkit 3.0.29 which is incompatible.\u001b[0m\n",
      "Installing collected packages: prompt-toolkit\n",
      "  Attempting uninstall: prompt-toolkit\n",
      "    Found existing installation: prompt-toolkit 3.0.39\n",
      "    Uninstalling prompt-toolkit-3.0.39:\n",
      "      Successfully uninstalled prompt-toolkit-3.0.39\n",
      "Successfully installed prompt-toolkit-3.0.29\n"
     ]
    }
   ],
   "source": [
    "!pip3 install \"apache-airflow[celery]==2.3.2\" --constraint \"https://raw.githubusercontent.com/apache/airflow/constraints-2.3.2/constraints-3.7.txt\""
   ]
  },
  {
   "cell_type": "code",
   "execution_count": 9,
   "id": "8d0b2746",
   "metadata": {
    "scrolled": true
   },
   "outputs": [
    {
     "name": "stdout",
     "output_type": "stream",
     "text": [
      "Looking in indexes: https://mirrors.huaweicloud.com/repository/pypi/simple\n",
      "Collecting mlflow\n",
      "  Downloading https://mirrors.huaweicloud.com/repository/pypi/packages/c2/ad/a90f7670677b853f68e7955e6ba4ae9e9ba17aa3ffb638cf7f0d46582e64/mlflow-2.0.1-py3-none-any.whl (16.5 MB)\n",
      "\u001b[K     |████████████████████████████████| 16.5 MB 1.2 MB/s eta 0:00:01\n",
      "\u001b[?25hCollecting mlflow-skinny\n",
      "  Downloading https://mirrors.huaweicloud.com/repository/pypi/packages/af/69/d0c429dff94e704cff13dae981431899425ba1fe99d2e4298cf2668e4928/mlflow_skinny-2.3.2-py3-none-any.whl (4.1 MB)\n",
      "\u001b[K     |████████████████████████████████| 4.1 MB 1.3 MB/s eta 0:00:01     |█████████████████████████████   | 3.7 MB 1.3 MB/s eta 0:00:01\n",
      "\u001b[?25hRequirement already satisfied: sqlalchemy in /usr/local/lib/python3.8/dist-packages (1.4.9)\n",
      "Requirement already satisfied: alembic in /usr/local/lib/python3.8/dist-packages (1.8.0)\n",
      "Collecting sqlparse\n",
      "  Downloading https://mirrors.huaweicloud.com/repository/pypi/packages/05/40/d836d55fb3f467243ee839ab7b814822fda522cd395fa41e282684e71ee5/sqlparse-0.4.2-py3-none-any.whl (42 kB)\n",
      "\u001b[K     |████████████████████████████████| 42 kB 875 kB/s eta 0:00:01     |███████████████▌                | 20 kB 12.1 MB/s eta 0:00:01\n",
      "\u001b[?25hCollecting protobuf<5,>=3.12.0\n",
      "  Using cached https://mirrors.huaweicloud.com/repository/pypi/packages/14/23/f3b852093f3a7031049313913e04431e7a32bd9752adfaf79d1193cf05b1/protobuf-4.23.2-cp37-abi3-manylinux2014_x86_64.whl (304 kB)\n",
      "Requirement already satisfied: scikit-learn<2 in /usr/local/lib/python3.8/dist-packages (from mlflow) (0.23.2)\n",
      "Collecting pandas<2\n",
      "  Using cached https://mirrors.huaweicloud.com/repository/pypi/packages/54/a0/c62d63c5c69be9aae07836e4d7e25e7a6f5590be3d8f2d53f43eeec5c475/pandas-1.5.3-cp38-cp38-manylinux_2_17_x86_64.manylinux2014_x86_64.whl (12.2 MB)\n",
      "Requirement already satisfied: gunicorn<21; platform_system != \"Windows\" in /usr/local/lib/python3.8/dist-packages (from mlflow) (20.1.0)\n",
      "Requirement already satisfied: matplotlib<4 in /usr/local/lib/python3.8/dist-packages (from mlflow) (3.7.1)\n",
      "Requirement already satisfied: requests<3,>=2.17.3 in /usr/local/lib/python3.8/dist-packages (from mlflow) (2.27.1)\n",
      "Requirement already satisfied: numpy<2 in /usr/local/lib/python3.8/dist-packages (from mlflow) (1.24.2)\n",
      "Requirement already satisfied: importlib-metadata!=4.7.0,<6,>=3.7.0 in /usr/local/lib/python3.8/dist-packages (from mlflow) (4.11.4)\n",
      "Collecting docker<7,>=4.0.0\n",
      "  Downloading https://mirrors.huaweicloud.com/repository/pypi/packages/d5/b3/a5e41798a6d4b92880998e0d9e6980e57c5d039f7f7144f87627a6b19084/docker-6.0.1-py3-none-any.whl (147 kB)\n",
      "\u001b[K     |████████████████████████████████| 147 kB 1.2 MB/s eta 0:00:01\n",
      "\u001b[?25hCollecting cloudpickle<3\n",
      "  Using cached https://mirrors.huaweicloud.com/repository/pypi/packages/25/40/2c9db9cfb85a8a21c61528f6660c47662b3e59576efac610d8268d47abba/cloudpickle-2.1.0-py3-none-any.whl (25 kB)\n",
      "Collecting databricks-cli<1,>=0.8.7\n",
      "  Downloading https://mirrors.huaweicloud.com/repository/pypi/packages/f7/e1/248bc0b4400b2b307c54058079cacdc25cca7ceb2a3288b2be7df746ebaa/databricks-cli-0.17.6.tar.gz (82 kB)\n",
      "\u001b[K     |████████████████████████████████| 82 kB 651 kB/s eta 0:00:011\n",
      "\u001b[?25hCollecting shap<1,>=0.40\n",
      "  Downloading https://mirrors.huaweicloud.com/repository/pypi/packages/cf/b9/a1a1c576243c00eaa2ca1b57d3a384026fe30dfbc553ea9fb43cbecc88a3/shap-0.41.0-cp38-cp38-manylinux_2_12_x86_64.manylinux2010_x86_64.whl (575 kB)\n",
      "\u001b[K     |████████████████████████████████| 575 kB 1.2 MB/s eta 0:00:01\n",
      "\u001b[?25hRequirement already satisfied: packaging<22 in /usr/local/lib/python3.8/dist-packages (from mlflow) (21.3)\n",
      "Requirement already satisfied: Flask<3 in /usr/local/lib/python3.8/dist-packages (from mlflow) (1.1.2)\n",
      "Requirement already satisfied: pyarrow<11,>=4.0.0 in /usr/local/lib/python3.8/dist-packages (from mlflow) (10.0.1)\n",
      "Collecting entrypoints<1\n",
      "  Downloading https://mirrors.huaweicloud.com/repository/pypi/packages/35/a8/365059bbcd4572cbc41de17fd5b682be5868b218c3c5479071865cab9078/entrypoints-0.4-py3-none-any.whl (5.3 kB)\n",
      "Requirement already satisfied: click<9,>=7.0 in /usr/local/lib/python3.8/dist-packages (from mlflow) (8.1.3)\n",
      "Requirement already satisfied: pyyaml<7,>=5.1 in /usr/local/lib/python3.8/dist-packages (from mlflow) (5.4.1)\n",
      "Collecting gitpython<4,>=2.1.0\n",
      "  Downloading https://mirrors.huaweicloud.com/repository/pypi/packages/9e/8a/d1e02cc111d65b0346f70abb83c51f8593e7134bf694a4a56d1a470caaf7/GitPython-3.1.31-py3-none-any.whl (184 kB)\n",
      "\u001b[K     |████████████████████████████████| 184 kB 1.2 MB/s eta 0:00:01\n",
      "\u001b[?25hRequirement already satisfied: Jinja2<4,>=2.11; platform_system != \"Windows\" in /usr/local/lib/python3.8/dist-packages (from mlflow) (3.0.3)\n",
      "Requirement already satisfied: pytz<2023 in /usr/local/lib/python3.8/dist-packages (from mlflow) (2022.1)\n",
      "Requirement already satisfied: markdown<4,>=3.3 in /usr/local/lib/python3.8/dist-packages (from mlflow) (3.3.7)\n",
      "Collecting querystring-parser<2\n",
      "  Downloading https://mirrors.huaweicloud.com/repository/pypi/packages/88/6b/572b2590fd55114118bf08bde63c0a421dcc82d593700f3e2ad89908a8a9/querystring_parser-1.2.4-py2.py3-none-any.whl (7.9 kB)\n",
      "Requirement already satisfied: scipy<2 in /usr/local/lib/python3.8/dist-packages (from mlflow) (1.10.1)\n",
      "Requirement already satisfied: greenlet!=0.4.17; python_version >= \"3\" in /usr/local/lib/python3.8/dist-packages (from sqlalchemy) (1.1.2)\n",
      "Requirement already satisfied: Mako in /usr/local/lib/python3.8/dist-packages (from alembic) (1.2.0)\n",
      "Requirement already satisfied: importlib-resources; python_version < \"3.9\" in /usr/local/lib/python3.8/dist-packages (from alembic) (5.7.1)\n",
      "Requirement already satisfied: joblib>=0.11 in /usr/local/lib/python3.8/dist-packages (from scikit-learn<2->mlflow) (1.2.0)\n",
      "Requirement already satisfied: threadpoolctl>=2.0.0 in /usr/local/lib/python3.8/dist-packages (from scikit-learn<2->mlflow) (3.1.0)\n",
      "Requirement already satisfied: python-dateutil>=2.8.1 in /usr/local/lib/python3.8/dist-packages (from pandas<2->mlflow) (2.8.2)\n",
      "Requirement already satisfied: setuptools>=3.0 in /usr/lib/python3/dist-packages (from gunicorn<21; platform_system != \"Windows\"->mlflow) (45.2.0)\n",
      "Requirement already satisfied: fonttools>=4.22.0 in /usr/local/lib/python3.8/dist-packages (from matplotlib<4->mlflow) (4.39.4)\n",
      "Requirement already satisfied: pyparsing>=2.3.1 in /usr/local/lib/python3.8/dist-packages (from matplotlib<4->mlflow) (2.4.7)\n",
      "Requirement already satisfied: kiwisolver>=1.0.1 in /usr/local/lib/python3.8/dist-packages (from matplotlib<4->mlflow) (1.4.4)\n",
      "Requirement already satisfied: contourpy>=1.0.1 in /usr/local/lib/python3.8/dist-packages (from matplotlib<4->mlflow) (1.0.6)\n",
      "Requirement already satisfied: pillow>=6.2.0 in /usr/local/lib/python3.8/dist-packages (from matplotlib<4->mlflow) (9.3.0)\n",
      "Requirement already satisfied: cycler>=0.10 in /usr/local/lib/python3.8/dist-packages (from matplotlib<4->mlflow) (0.11.0)\n",
      "Requirement already satisfied: charset-normalizer~=2.0.0; python_version >= \"3\" in /usr/local/lib/python3.8/dist-packages (from requests<3,>=2.17.3->mlflow) (2.0.12)\n",
      "Requirement already satisfied: urllib3<1.27,>=1.21.1 in /usr/local/lib/python3.8/dist-packages (from requests<3,>=2.17.3->mlflow) (1.26.9)\n",
      "Requirement already satisfied: idna<4,>=2.5; python_version >= \"3\" in /usr/local/lib/python3.8/dist-packages (from requests<3,>=2.17.3->mlflow) (3.3)\n",
      "Requirement already satisfied: certifi>=2017.4.17 in /usr/local/lib/python3.8/dist-packages (from requests<3,>=2.17.3->mlflow) (2020.12.5)\n",
      "Requirement already satisfied: zipp>=0.5 in /usr/local/lib/python3.8/dist-packages (from importlib-metadata!=4.7.0,<6,>=3.7.0->mlflow) (3.8.0)\n",
      "Requirement already satisfied: websocket-client>=0.32.0 in /usr/local/lib/python3.8/dist-packages (from docker<7,>=4.0.0->mlflow) (1.6.1)\n",
      "Requirement already satisfied: oauthlib>=3.1.0 in /usr/local/lib/python3.8/dist-packages (from databricks-cli<1,>=0.8.7->mlflow) (3.1.0)\n",
      "Requirement already satisfied: pyjwt>=1.7.0 in /usr/local/lib/python3.8/dist-packages (from databricks-cli<1,>=0.8.7->mlflow) (1.7.1)\n",
      "Requirement already satisfied: six>=1.10.0 in /usr/local/lib/python3.8/dist-packages (from databricks-cli<1,>=0.8.7->mlflow) (1.16.0)\n",
      "Requirement already satisfied: tabulate>=0.7.7 in /usr/local/lib/python3.8/dist-packages (from databricks-cli<1,>=0.8.7->mlflow) (0.8.9)\n",
      "Requirement already satisfied: numba in /usr/local/lib/python3.8/dist-packages (from shap<1,>=0.40->mlflow) (0.56.4)\n",
      "Requirement already satisfied: tqdm>4.25.0 in /usr/local/lib/python3.8/dist-packages (from shap<1,>=0.40->mlflow) (4.63.1)\n",
      "Collecting slicer==0.0.7\n",
      "  Downloading https://mirrors.huaweicloud.com/repository/pypi/packages/78/c2/b3f55dfdb8af9812fdb9baf70cacf3b9e82e505b2bd4324d588888b81202/slicer-0.0.7-py3-none-any.whl (14 kB)\n",
      "Requirement already satisfied: itsdangerous>=0.24 in /usr/local/lib/python3.8/dist-packages (from Flask<3->mlflow) (1.1.0)\n",
      "Requirement already satisfied: Werkzeug>=0.15 in /usr/local/lib/python3.8/dist-packages (from Flask<3->mlflow) (1.0.1)\n",
      "Collecting gitdb<5,>=4.0.1\n",
      "  Downloading https://mirrors.huaweicloud.com/repository/pypi/packages/21/a6/35f83efec687615c711fe0a09b67e58f6d1254db27b1013119de46f450bd/gitdb-4.0.10-py3-none-any.whl (62 kB)\n",
      "\u001b[K     |████████████████████████████████| 62 kB 797 kB/s eta 0:00:011\n",
      "\u001b[?25hRequirement already satisfied: MarkupSafe>=2.0 in /usr/local/lib/python3.8/dist-packages (from Jinja2<4,>=2.11; platform_system != \"Windows\"->mlflow) (2.0.1)\n",
      "Requirement already satisfied: llvmlite<0.40,>=0.39.0dev0 in /usr/local/lib/python3.8/dist-packages (from numba->shap<1,>=0.40->mlflow) (0.39.0)\n",
      "Collecting smmap<6,>=3.0.1\n",
      "  Downloading https://mirrors.huaweicloud.com/repository/pypi/packages/6d/01/7caa71608bc29952ae09b0be63a539e50d2484bc37747797a66a60679856/smmap-5.0.0-py3-none-any.whl (24 kB)\n",
      "Building wheels for collected packages: databricks-cli\n",
      "  Building wheel for databricks-cli (setup.py) ... \u001b[?25ldone\n",
      "\u001b[?25h  Created wheel for databricks-cli: filename=databricks_cli-0.17.6-py3-none-any.whl size=143238 sha256=57ef2227e05eec94ea9f4f666a1f2ebeccc7f937db548c7c196f13cf8563eefd\n",
      "  Stored in directory: /root/.cache/pip/wheels/51/79/4b/77b867e144a28d233d0ce43a789712ca7b0af58117af86d5c2\n",
      "Successfully built databricks-cli\n",
      "\u001b[31mERROR: kashgari 2.0.2 has requirement gensim<4.0.0,>=3.8.1, but you'll have gensim 4.2.0 which is incompatible.\u001b[0m\n",
      "Installing collected packages: protobuf, pandas, docker, sqlparse, cloudpickle, databricks-cli, slicer, shap, entrypoints, smmap, gitdb, gitpython, querystring-parser, mlflow, mlflow-skinny\n",
      "  Attempting uninstall: pandas\n",
      "    Found existing installation: pandas 2.0.0\n",
      "    Uninstalling pandas-2.0.0:\n",
      "      Successfully uninstalled pandas-2.0.0\n",
      "Successfully installed cloudpickle-2.1.0 databricks-cli-0.17.6 docker-6.0.1 entrypoints-0.4 gitdb-4.0.10 gitpython-3.1.31 mlflow-2.0.1 mlflow-skinny-2.3.2 pandas-1.5.3 protobuf-4.23.2 querystring-parser-1.2.4 shap-0.41.0 slicer-0.0.7 smmap-5.0.0 sqlparse-0.4.2\n"
     ]
    }
   ],
   "source": [
    "!pip3 install mlflow mlflow-skinny sqlalchemy alembic sqlparse -i https://mirrors.huaweicloud.com/repository/pypi/simple"
   ]
  },
  {
   "cell_type": "code",
   "execution_count": 10,
   "id": "4046699a",
   "metadata": {},
   "outputs": [
    {
     "name": "stdout",
     "output_type": "stream",
     "text": [
      "Looking in indexes: https://mirrors.huaweicloud.com/repository/pypi/simple\n",
      "Collecting boto3\n",
      "  Using cached https://mirrors.huaweicloud.com/repository/pypi/packages/f8/fd/ccca7ea099b619c6951c6140ce381a2622f7033a8ac5613fc41d62394259/boto3-1.26.142-py3-none-any.whl (135 kB)\n",
      "Collecting botocore<1.30.0,>=1.29.142\n",
      "  Downloading https://mirrors.huaweicloud.com/repository/pypi/packages/1d/8a/5f8b24dc00ef8325116c49425adf20c1dc7551ab5509166de168bf8ac3ec/botocore-1.29.142-py3-none-any.whl (10.8 MB)\n",
      "\u001b[K     |████████████████████████████████| 10.8 MB 1.2 MB/s eta 0:00:01\n",
      "\u001b[31mERROR: Could not find a version that satisfies the requirement s3transfer<0.7.0,>=0.6.0 (from boto3) (from versions: 0.0.1, 0.1.0, 0.1.1, 0.1.2, 0.1.3, 0.1.4, 0.1.5, 0.1.6, 0.1.7, 0.1.8, 0.1.9, 0.1.10, 0.1.11, 0.1.12, 0.1.13, 0.2.0, 0.2.1, 0.3.0, 0.3.1, 0.3.2, 0.3.3, 0.3.4, 0.3.5, 0.3.6, 0.3.7, 0.4.0, 0.4.1, 0.4.2, 0.5.0, 0.5.1, 0.5.2)\u001b[0m\n",
      "\u001b[31mERROR: No matching distribution found for s3transfer<0.7.0,>=0.6.0 (from boto3)\u001b[0m\n",
      "\u001b[?25h"
     ]
    }
   ],
   "source": [
    "!pip3 install boto3 -i https://mirrors.huaweicloud.com/repository/pypi/simple"
   ]
  },
  {
   "cell_type": "code",
   "execution_count": 11,
   "id": "1cc0c075",
   "metadata": {
    "scrolled": true
   },
   "outputs": [
    {
     "name": "stdout",
     "output_type": "stream",
     "text": [
      "Looking in indexes: https://mirrors.huaweicloud.com/repository/pypi/simple\n",
      "Collecting zstd\n",
      "  Downloading https://mirrors.huaweicloud.com/repository/pypi/packages/35/50/0d7185bb530ca48963f65af1d85909004c6d013ac5d796b4af0fbd2d2d49/zstd-1.5.5.1-cp38-cp38-manylinux_2_17_x86_64.manylinux2014_x86_64.whl (1.8 MB)\n",
      "\u001b[K     |████████████████████████████████| 1.8 MB 1.5 MB/s eta 0:00:01\n",
      "\u001b[?25hInstalling collected packages: zstd\n",
      "Successfully installed zstd-1.5.5.1\n"
     ]
    }
   ],
   "source": [
    "!pip3 install zstd -i https://mirrors.huaweicloud.com/repository/pypi/simple"
   ]
  },
  {
   "cell_type": "code",
   "execution_count": 12,
   "id": "b6a73ae0",
   "metadata": {
    "scrolled": true
   },
   "outputs": [
    {
     "name": "stdout",
     "output_type": "stream",
     "text": [
      "Looking in indexes: https://mirrors.huaweicloud.com/repository/pypi/simple\n",
      "Collecting readline\n",
      "  Using cached https://mirrors.huaweicloud.com/repository/pypi/packages/f4/01/2cf081af8d880b44939a5f1b446551a7f8d59eae414277fd0c303757ff1b/readline-6.2.4.1.tar.gz (2.3 MB)\n",
      "Building wheels for collected packages: readline\n",
      "  Building wheel for readline (setup.py) ... \u001b[?25lerror\n",
      "\u001b[31m  ERROR: Command errored out with exit status 1:\n",
      "   command: /usr/bin/python3 -u -c 'import sys, setuptools, tokenize; sys.argv[0] = '\"'\"'/tmp/pip-install-c6j4szv_/readline/setup.py'\"'\"'; __file__='\"'\"'/tmp/pip-install-c6j4szv_/readline/setup.py'\"'\"';f=getattr(tokenize, '\"'\"'open'\"'\"', open)(__file__);code=f.read().replace('\"'\"'\\r\\n'\"'\"', '\"'\"'\\n'\"'\"');f.close();exec(compile(code, __file__, '\"'\"'exec'\"'\"'))' bdist_wheel -d /tmp/pip-wheel-fkmidp0j\n",
      "       cwd: /tmp/pip-install-c6j4szv_/readline/\n",
      "  Complete output (612 lines):\n",
      "  \n",
      "  ============ Building the readline library ============\n",
      "  \n",
      "  readline-6.2/\n",
      "  readline-6.2/doc/\n",
      "  readline-6.2/doc/Makefile.in\n",
      "  readline-6.2/doc/texinfo.tex\n",
      "  readline-6.2/doc/version.texi\n",
      "  readline-6.2/doc/fdl.texi\n",
      "  readline-6.2/doc/rlman.texi\n",
      "  readline-6.2/doc/rltech.texi\n",
      "  readline-6.2/doc/rluser.texi\n",
      "  readline-6.2/doc/rluserman.texi\n",
      "  readline-6.2/doc/history.texi\n",
      "  readline-6.2/doc/hstech.texi\n",
      "  readline-6.2/doc/hsuser.texi\n",
      "  readline-6.2/doc/readline.3\n",
      "  readline-6.2/doc/history.3\n",
      "  readline-6.2/doc/texi2dvi\n",
      "  readline-6.2/doc/texi2html\n",
      "  readline-6.2/doc/readline.ps\n",
      "  readline-6.2/doc/history.ps\n",
      "  readline-6.2/doc/rluserman.ps\n",
      "  readline-6.2/doc/readline.dvi\n",
      "  readline-6.2/doc/history.dvi\n",
      "  readline-6.2/doc/rluserman.dvi\n",
      "  readline-6.2/doc/readline.info\n",
      "  readline-6.2/doc/history.info\n",
      "  readline-6.2/doc/rluserman.info\n",
      "  readline-6.2/doc/readline.html\n",
      "  readline-6.2/doc/history.html\n",
      "  readline-6.2/doc/rluserman.html\n",
      "  readline-6.2/doc/readline.0\n",
      "  readline-6.2/doc/history.0\n",
      "  readline-6.2/doc/readline_3.ps\n",
      "  readline-6.2/doc/history_3.ps\n",
      "  readline-6.2/doc/history.pdf\n",
      "  readline-6.2/doc/readline.pdf\n",
      "  readline-6.2/doc/rluserman.pdf\n",
      "  readline-6.2/examples/\n",
      "  readline-6.2/examples/autoconf/\n",
      "  readline-6.2/examples/autoconf/BASH_CHECK_LIB_TERMCAP\n",
      "  readline-6.2/examples/autoconf/RL_LIB_READLINE_VERSION\n",
      "  readline-6.2/examples/autoconf/wi_LIB_READLINE\n",
      "  readline-6.2/examples/rlfe/\n",
      "  readline-6.2/examples/rlfe/ChangeLog\n",
      "  readline-6.2/examples/rlfe/Makefile.in\n",
      "  readline-6.2/examples/rlfe/README\n",
      "  readline-6.2/examples/rlfe/config.h.in\n",
      "  readline-6.2/examples/rlfe/configure\n",
      "  readline-6.2/examples/rlfe/configure.in\n",
      "  readline-6.2/examples/rlfe/extern.h\n",
      "  readline-6.2/examples/rlfe/os.h\n",
      "  readline-6.2/examples/rlfe/pty.c\n",
      "  readline-6.2/examples/rlfe/rlfe.c\n",
      "  readline-6.2/examples/rlfe/screen.h\n",
      "  readline-6.2/examples/Makefile.in\n",
      "  readline-6.2/examples/excallback.c\n",
      "  readline-6.2/examples/fileman.c\n",
      "  readline-6.2/examples/manexamp.c\n",
      "  readline-6.2/examples/readlinebuf.h\n",
      "  readline-6.2/examples/rl-fgets.c\n",
      "  readline-6.2/examples/rlcat.c\n",
      "  readline-6.2/examples/rlevent.c\n",
      "  readline-6.2/examples/rltest.c\n",
      "  readline-6.2/examples/rl.c\n",
      "  readline-6.2/examples/rlptytest.c\n",
      "  readline-6.2/examples/rlversion.c\n",
      "  readline-6.2/examples/histexamp.c\n",
      "  readline-6.2/examples/Inputrc\n",
      "  readline-6.2/examples/rlwrap-0.30.tar.gz\n",
      "  readline-6.2/support/\n",
      "  readline-6.2/support/config.guess\n",
      "  readline-6.2/support/config.rpath\n",
      "  readline-6.2/support/config.sub\n",
      "  readline-6.2/support/install.sh\n",
      "  readline-6.2/support/mkdirs\n",
      "  readline-6.2/support/mkdist\n",
      "  readline-6.2/support/mkinstalldirs\n",
      "  readline-6.2/support/shobj-conf\n",
      "  readline-6.2/support/shlib-install\n",
      "  readline-6.2/support/wcwidth.c\n",
      "  readline-6.2/shlib/\n",
      "  readline-6.2/shlib/Makefile.in\n",
      "  readline-6.2/COPYING\n",
      "  readline-6.2/README\n",
      "  readline-6.2/MANIFEST\n",
      "  readline-6.2/INSTALL\n",
      "  readline-6.2/CHANGELOG\n",
      "  readline-6.2/CHANGES\n",
      "  readline-6.2/NEWS\n",
      "  readline-6.2/USAGE\n",
      "  readline-6.2/aclocal.m4\n",
      "  readline-6.2/config.h.in\n",
      "  readline-6.2/configure\n",
      "  readline-6.2/configure.in\n",
      "  readline-6.2/Makefile.in\n",
      "  readline-6.2/ansi_stdlib.h\n",
      "  readline-6.2/chardefs.h\n",
      "  readline-6.2/history.h\n",
      "  readline-6.2/histlib.h\n",
      "  readline-6.2/keymaps.h\n",
      "  readline-6.2/posixdir.h\n",
      "  readline-6.2/posixjmp.h\n",
      "  readline-6.2/readline.h\n",
      "  readline-6.2/posixselect.h\n",
      "  readline-6.2/posixstat.h\n",
      "  readline-6.2/rlconf.h\n",
      "  readline-6.2/rldefs.h\n",
      "  readline-6.2/rlmbutil.h\n",
      "  readline-6.2/rlprivate.h\n",
      "  readline-6.2/rlshell.h\n",
      "  readline-6.2/rlstdc.h\n",
      "  readline-6.2/rltty.h\n",
      "  readline-6.2/rltypedefs.h\n",
      "  readline-6.2/rlwinsize.h\n",
      "  readline-6.2/tcap.h\n",
      "  readline-6.2/tilde.h\n",
      "  readline-6.2/xmalloc.h\n",
      "  readline-6.2/bind.c\n",
      "  readline-6.2/callback.c\n",
      "  readline-6.2/compat.c\n",
      "  readline-6.2/complete.c\n",
      "  readline-6.2/display.c\n",
      "  readline-6.2/emacs_keymap.c\n",
      "  readline-6.2/funmap.c\n",
      "  readline-6.2/input.c\n",
      "  readline-6.2/isearch.c\n",
      "  readline-6.2/keymaps.c\n",
      "  readline-6.2/kill.c\n",
      "  readline-6.2/macro.c\n",
      "  readline-6.2/mbutil.c\n",
      "  readline-6.2/misc.c\n",
      "  readline-6.2/nls.c\n",
      "  readline-6.2/parens.c\n",
      "  readline-6.2/readline.c\n",
      "  readline-6.2/rltty.c\n",
      "  readline-6.2/savestring.c\n",
      "  readline-6.2/search.c\n",
      "  readline-6.2/shell.c\n",
      "  readline-6.2/signals.c\n",
      "  readline-6.2/terminal.c\n",
      "  readline-6.2/text.c\n",
      "  readline-6.2/tilde.c\n",
      "  readline-6.2/undo.c\n",
      "  readline-6.2/util.c\n",
      "  readline-6.2/vi_keymap.c\n",
      "  readline-6.2/vi_mode.c\n",
      "  readline-6.2/xfree.c\n",
      "  readline-6.2/xmalloc.c\n",
      "  readline-6.2/history.c\n",
      "  readline-6.2/histexpand.c\n",
      "  readline-6.2/histfile.c\n",
      "  readline-6.2/histsearch.c\n",
      "  readline-6.2/patchlevel\n",
      "  patching file vi_mode.c\n",
      "  patching file callback.c\n",
      "  patching file support/shobj-conf\n",
      "  patching file patchlevel\n",
      "  patching file input.c\n",
      "  patching file patchlevel\n",
      "  patching file vi_mode.c\n",
      "  patching file patchlevel\n",
      "  checking build system type... x86_64-unknown-linux-gnu\n",
      "  checking host system type... x86_64-unknown-linux-gnu\n",
      "  \n",
      "  Beginning configuration for readline-6.2 for x86_64-unknown-linux-gnu\n",
      "  \n",
      "  checking whether make sets $(MAKE)... yes\n",
      "  checking for gcc... gcc\n",
      "  checking for C compiler default output file name... a.out\n",
      "  checking whether the C compiler works... yes\n",
      "  checking whether we are cross compiling... no\n",
      "  checking for suffix of executables...\n",
      "  checking for suffix of object files... o\n",
      "  checking whether we are using the GNU C compiler... yes\n",
      "  checking whether gcc accepts -g... yes\n",
      "  checking for gcc option to accept ISO C89... none needed\n",
      "  checking how to run the C preprocessor... gcc -E\n",
      "  checking for grep that handles long lines and -e... /usr/bin/grep\n",
      "  checking for egrep... /usr/bin/grep -E\n",
      "  checking for ANSI C header files... yes\n",
      "  checking for sys/types.h... yes\n",
      "  checking for sys/stat.h... yes\n",
      "  checking for stdlib.h... yes\n",
      "  checking for string.h... yes\n",
      "  checking for memory.h... yes\n",
      "  checking for strings.h... yes\n",
      "  checking for inttypes.h... yes\n",
      "  checking for stdint.h... yes\n",
      "  checking for unistd.h... yes\n",
      "  checking minix/config.h usability... no\n",
      "  checking minix/config.h presence... no\n",
      "  checking for minix/config.h... no\n",
      "  checking whether it is safe to define __EXTENSIONS__... yes\n",
      "  checking whether gcc needs -traditional... no\n",
      "  checking for a BSD-compatible install... /usr/bin/install -c\n",
      "  checking for ar... ar\n",
      "  checking for ranlib... ranlib\n",
      "  checking for an ANSI C-conforming const... yes\n",
      "  checking for function prototypes... yes\n",
      "  checking whether char is unsigned... no\n",
      "  checking for working volatile... yes\n",
      "  checking return type of signal handlers... void\n",
      "  checking for size_t... yes\n",
      "  checking for ssize_t... yes\n",
      "  checking for ANSI C header files... (cached) yes\n",
      "  checking whether stat file-mode macros are broken... no\n",
      "  checking for dirent.h that defines DIR... yes\n",
      "  checking for library containing opendir... none required\n",
      "  checking for fcntl... yes\n",
      "  checking for kill... yes\n",
      "  checking for lstat... yes\n",
      "  checking for memmove... yes\n",
      "  checking for putenv... yes\n",
      "  checking for select... yes\n",
      "  checking for setenv... yes\n",
      "  checking for setlocale... yes\n",
      "  checking for strcasecmp... yes\n",
      "  checking for strpbrk... yes\n",
      "  checking for tcgetattr... yes\n",
      "  checking for vsnprintf... yes\n",
      "  checking for isascii... yes\n",
      "  checking for isxdigit... yes\n",
      "  checking for getpwent... yes\n",
      "  checking for getpwnam... yes\n",
      "  checking for getpwuid... yes\n",
      "  checking for working strcoll... yes\n",
      "  checking fcntl.h usability... yes\n",
      "  checking fcntl.h presence... yes\n",
      "  checking for fcntl.h... yes\n",
      "  checking for unistd.h... (cached) yes\n",
      "  checking for stdlib.h... (cached) yes\n",
      "  checking varargs.h usability... no\n",
      "  checking varargs.h presence... no\n",
      "  checking for varargs.h... no\n",
      "  checking stdarg.h usability... yes\n",
      "  checking stdarg.h presence... yes\n",
      "  checking for stdarg.h... yes\n",
      "  checking for string.h... (cached) yes\n",
      "  checking for strings.h... (cached) yes\n",
      "  checking limits.h usability... yes\n",
      "  checking limits.h presence... yes\n",
      "  checking for limits.h... yes\n",
      "  checking locale.h usability... yes\n",
      "  checking locale.h presence... yes\n",
      "  checking for locale.h... yes\n",
      "  checking pwd.h usability... yes\n",
      "  checking pwd.h presence... yes\n",
      "  checking for pwd.h... yes\n",
      "  checking for memory.h... (cached) yes\n",
      "  checking termcap.h usability... no\n",
      "  checking termcap.h presence... no\n",
      "  checking for termcap.h... no\n",
      "  checking termios.h usability... yes\n",
      "  checking termios.h presence... yes\n",
      "  checking for termios.h... yes\n",
      "  checking termio.h usability... yes\n",
      "  checking termio.h presence... yes\n",
      "  checking for termio.h... yes\n",
      "  checking sys/pte.h usability... no\n",
      "  checking sys/pte.h presence... no\n",
      "  checking for sys/pte.h... no\n",
      "  checking sys/stream.h usability... no\n",
      "  checking sys/stream.h presence... no\n",
      "  checking for sys/stream.h... no\n",
      "  checking sys/select.h usability... yes\n",
      "  checking sys/select.h presence... yes\n",
      "  checking for sys/select.h... yes\n",
      "  checking sys/file.h usability... yes\n",
      "  checking sys/file.h presence... yes\n",
      "  checking for sys/file.h... yes\n",
      "  checking for sys/ptem.h... no\n",
      "  checking for special C compiler options needed for large files... no\n",
      "  checking for _FILE_OFFSET_BITS value needed for large files... no\n",
      "  checking for type of signal functions... posix\n",
      "  checking if signal handlers must be reinstalled when invoked... no\n",
      "  checking for presence of POSIX-style sigsetjmp/siglongjmp... present\n",
      "  checking for lstat... yes\n",
      "  checking whether or not strcoll and strcmp differ... no\n",
      "  checking whether the ctype macros accept non-ascii characters... no\n",
      "  checking whether getpw functions are declared in pwd.h... yes\n",
      "  checking whether termios.h defines TIOCGWINSZ... no\n",
      "  checking whether sys/ioctl.h defines TIOCGWINSZ... yes\n",
      "  checking for sig_atomic_t in signal.h... yes\n",
      "  checking whether signal handlers are of type void... yes\n",
      "  checking for TIOCSTAT in sys/ioctl.h... no\n",
      "  checking for FIONREAD in sys/ioctl.h... yes\n",
      "  checking for speed_t in sys/types.h... no\n",
      "  checking for struct winsize in sys/ioctl.h and termios.h... sys/ioctl.h\n",
      "  checking for struct dirent.d_ino... yes\n",
      "  checking for struct dirent.d_fileno... yes\n",
      "  checking for tgetent... no\n",
      "  checking for tgetent in -ltermcap... no\n",
      "  checking for tgetent in -ltinfo... no\n",
      "  checking for tgetent in -lcurses... no\n",
      "  checking for tgetent in -lncurses... no\n",
      "  checking which library has the termcap functions... using gnutermcap\n",
      "  checking wctype.h usability... yes\n",
      "  checking wctype.h presence... yes\n",
      "  checking for wctype.h... yes\n",
      "  checking wchar.h usability... yes\n",
      "  checking wchar.h presence... yes\n",
      "  checking for wchar.h... yes\n",
      "  checking langinfo.h usability... yes\n",
      "  checking langinfo.h presence... yes\n",
      "  checking for langinfo.h... yes\n",
      "  checking for mbrlen... yes\n",
      "  checking for mbscasecmp... no\n",
      "  checking for mbscmp... no\n",
      "  checking for mbsnrtowcs... yes\n",
      "  checking for mbsrtowcs... yes\n",
      "  checking for mbschr... no\n",
      "  checking for wcrtomb... yes\n",
      "  checking for wcscoll... yes\n",
      "  checking for wcsdup... yes\n",
      "  checking for wcwidth... yes\n",
      "  checking for wctype... yes\n",
      "  checking for wcswidth... yes\n",
      "  checking whether mbrtowc and mbstate_t are properly declared... yes\n",
      "  checking for iswlower... yes\n",
      "  checking for iswupper... yes\n",
      "  checking for towlower... yes\n",
      "  checking for towupper... yes\n",
      "  checking for iswctype... yes\n",
      "  checking for nl_langinfo and CODESET... yes\n",
      "  checking for wchar_t in wchar.h... yes\n",
      "  checking for wctype_t in wctype.h... yes\n",
      "  checking for wint_t in wctype.h... yes\n",
      "  checking configuration for building shared libraries... supported\n",
      "  configure: creating ./config.status\n",
      "  config.status: creating Makefile\n",
      "  config.status: creating doc/Makefile\n",
      "  config.status: creating examples/Makefile\n",
      "  config.status: creating shlib/Makefile\n",
      "  config.status: creating config.h\n",
      "  config.status: executing default commands\n",
      "  rm -f readline.o\n",
      "  gcc -c -DHAVE_CONFIG_H   -DNEED_EXTERN_PC -fPIC -I. -I. -DRL_LIBRARY_VERSION='\"6.2\"' -g -O readline.c\n",
      "  rm -f vi_mode.o\n",
      "  gcc -c -DHAVE_CONFIG_H   -DNEED_EXTERN_PC -fPIC -I. -I. -DRL_LIBRARY_VERSION='\"6.2\"' -g -O vi_mode.c\n",
      "  rm -f funmap.o\n",
      "  gcc -c -DHAVE_CONFIG_H   -DNEED_EXTERN_PC -fPIC -I. -I. -DRL_LIBRARY_VERSION='\"6.2\"' -g -O funmap.c\n",
      "  rm -f keymaps.o\n",
      "  gcc -c -DHAVE_CONFIG_H   -DNEED_EXTERN_PC -fPIC -I. -I. -DRL_LIBRARY_VERSION='\"6.2\"' -g -O keymaps.c\n",
      "  rm -f parens.o\n",
      "  gcc -c -DHAVE_CONFIG_H   -DNEED_EXTERN_PC -fPIC -I. -I. -DRL_LIBRARY_VERSION='\"6.2\"' -g -O parens.c\n",
      "  rm -f search.o\n",
      "  gcc -c -DHAVE_CONFIG_H   -DNEED_EXTERN_PC -fPIC -I. -I. -DRL_LIBRARY_VERSION='\"6.2\"' -g -O search.c\n",
      "  search.c: In function ‘_rl_nsearch_init’:\n",
      "  search.c:213:15: warning: too many arguments for format [-Wformat-extra-args]\n",
      "    213 |   rl_message (\"%s\", p, 0);\n",
      "        |               ^~~~\n",
      "  rm -f rltty.o\n",
      "  gcc -c -DHAVE_CONFIG_H   -DNEED_EXTERN_PC -fPIC -I. -I. -DRL_LIBRARY_VERSION='\"6.2\"' -g -O rltty.c\n",
      "  rm -f complete.o\n",
      "  gcc -c -DHAVE_CONFIG_H   -DNEED_EXTERN_PC -fPIC -I. -I. -DRL_LIBRARY_VERSION='\"6.2\"' -g -O complete.c\n",
      "  complete.c: In function ‘fnwidth’:\n",
      "  complete.c:682:12: warning: implicit declaration of function ‘wcwidth’; did you mean ‘fnwidth’? [-Wimplicit-function-declaration]\n",
      "    682 |        w = wcwidth (wc);\n",
      "        |            ^~~~~~~\n",
      "        |            fnwidth\n",
      "  rm -f bind.o\n",
      "  gcc -c -DHAVE_CONFIG_H   -DNEED_EXTERN_PC -fPIC -I. -I. -DRL_LIBRARY_VERSION='\"6.2\"' -g -O bind.c\n",
      "  rm -f isearch.o\n",
      "  gcc -c -DHAVE_CONFIG_H   -DNEED_EXTERN_PC -fPIC -I. -I. -DRL_LIBRARY_VERSION='\"6.2\"' -g -O isearch.c\n",
      "  rm -f display.o\n",
      "  gcc -c -DHAVE_CONFIG_H   -DNEED_EXTERN_PC -fPIC -I. -I. -DRL_LIBRARY_VERSION='\"6.2\"' -g -O display.c\n",
      "  display.c: In function ‘rl_redisplay’:\n",
      "  display.c:764:15: warning: implicit declaration of function ‘wcwidth’ [-Wimplicit-function-declaration]\n",
      "    764 |        temp = wcwidth (wc);\n",
      "        |               ^~~~~~~\n",
      "  rm -f signals.o\n",
      "  gcc -c -DHAVE_CONFIG_H   -DNEED_EXTERN_PC -fPIC -I. -I. -DRL_LIBRARY_VERSION='\"6.2\"' -g -O signals.c\n",
      "  rm -f util.o\n",
      "  gcc -c -DHAVE_CONFIG_H   -DNEED_EXTERN_PC -fPIC -I. -I. -DRL_LIBRARY_VERSION='\"6.2\"' -g -O util.c\n",
      "  util.c: In function ‘_rl_tropen’:\n",
      "  util.c:510:39: warning: format ‘%ld’ expects argument of type ‘long int’, but argument 3 has type ‘__pid_t’ {aka ‘int’} [-Wformat=]\n",
      "    510 |   sprintf (fnbuf, \"/var/tmp/rltrace.%ld\", getpid());\n",
      "        |                                     ~~^   ~~~~~~~~\n",
      "        |                                       |   |\n",
      "        |                                       |   __pid_t {aka int}\n",
      "        |                                       long int\n",
      "        |                                     %d\n",
      "  rm -f kill.o\n",
      "  gcc -c -DHAVE_CONFIG_H   -DNEED_EXTERN_PC -fPIC -I. -I. -DRL_LIBRARY_VERSION='\"6.2\"' -g -O kill.c\n",
      "  rm -f undo.o\n",
      "  gcc -c -DHAVE_CONFIG_H   -DNEED_EXTERN_PC -fPIC -I. -I. -DRL_LIBRARY_VERSION='\"6.2\"' -g -O undo.c\n",
      "  rm -f macro.o\n",
      "  gcc -c -DHAVE_CONFIG_H   -DNEED_EXTERN_PC -fPIC -I. -I. -DRL_LIBRARY_VERSION='\"6.2\"' -g -O macro.c\n",
      "  rm -f input.o\n",
      "  gcc -c -DHAVE_CONFIG_H   -DNEED_EXTERN_PC -fPIC -I. -I. -DRL_LIBRARY_VERSION='\"6.2\"' -g -O input.c\n",
      "  rm -f callback.o\n",
      "  gcc -c -DHAVE_CONFIG_H   -DNEED_EXTERN_PC -fPIC -I. -I. -DRL_LIBRARY_VERSION='\"6.2\"' -g -O callback.c\n",
      "  rm -f terminal.o\n",
      "  gcc -c -DHAVE_CONFIG_H   -DNEED_EXTERN_PC -fPIC -I. -I. -DRL_LIBRARY_VERSION='\"6.2\"' -g -O terminal.c\n",
      "  rm -f text.o\n",
      "  gcc -c -DHAVE_CONFIG_H   -DNEED_EXTERN_PC -fPIC -I. -I. -DRL_LIBRARY_VERSION='\"6.2\"' -g -O text.c\n",
      "  rm -f nls.o\n",
      "  gcc -c -DHAVE_CONFIG_H   -DNEED_EXTERN_PC -fPIC -I. -I. -DRL_LIBRARY_VERSION='\"6.2\"' -g -O nls.c\n",
      "  rm -f misc.o\n",
      "  gcc -c -DHAVE_CONFIG_H   -DNEED_EXTERN_PC -fPIC -I. -I. -DRL_LIBRARY_VERSION='\"6.2\"' -g -O misc.c\n",
      "  rm -f compat.o\n",
      "  gcc -c -DHAVE_CONFIG_H   -DNEED_EXTERN_PC -fPIC -I. -I. -DRL_LIBRARY_VERSION='\"6.2\"' -g -O compat.c\n",
      "  rm -f xfree.o\n",
      "  gcc -c -DHAVE_CONFIG_H   -DNEED_EXTERN_PC -fPIC -I. -I. -DRL_LIBRARY_VERSION='\"6.2\"' -g -O xfree.c\n",
      "  rm -f xmalloc.o\n",
      "  gcc -c -DHAVE_CONFIG_H   -DNEED_EXTERN_PC -fPIC -I. -I. -DRL_LIBRARY_VERSION='\"6.2\"' -g -O xmalloc.c\n",
      "  rm -f history.o\n",
      "  gcc -c -DHAVE_CONFIG_H   -DNEED_EXTERN_PC -fPIC -I. -I. -DRL_LIBRARY_VERSION='\"6.2\"' -g -O history.c\n",
      "  rm -f histexpand.o\n",
      "  gcc -c -DHAVE_CONFIG_H   -DNEED_EXTERN_PC -fPIC -I. -I. -DRL_LIBRARY_VERSION='\"6.2\"' -g -O histexpand.c\n",
      "  rm -f histfile.o\n",
      "  gcc -c -DHAVE_CONFIG_H   -DNEED_EXTERN_PC -fPIC -I. -I. -DRL_LIBRARY_VERSION='\"6.2\"' -g -O histfile.c\n",
      "  histfile.c: In function ‘history_truncate_file’:\n",
      "  histfile.c:406:7: warning: ignoring return value of ‘write’, declared with attribute warn_unused_result [-Wunused-result]\n",
      "    406 |       write (file, bp, chars_read - (bp - buffer));\n",
      "        |       ^~~~~~~~~~~~~~~~~~~~~~~~~~~~~~~~~~~~~~~~~~~~\n",
      "  rm -f histsearch.o\n",
      "  gcc -c -DHAVE_CONFIG_H   -DNEED_EXTERN_PC -fPIC -I. -I. -DRL_LIBRARY_VERSION='\"6.2\"' -g -O histsearch.c\n",
      "  rm -f shell.o\n",
      "  gcc -c -DHAVE_CONFIG_H   -DNEED_EXTERN_PC -fPIC -I. -I. -DRL_LIBRARY_VERSION='\"6.2\"' -g -O shell.c\n",
      "  rm -f mbutil.o\n",
      "  gcc -c -DHAVE_CONFIG_H   -DNEED_EXTERN_PC -fPIC -I. -I. -DRL_LIBRARY_VERSION='\"6.2\"' -g -O mbutil.c\n",
      "  mbutil.c: In function ‘_rl_find_next_mbchar_internal’:\n",
      "  mbutil.c:122:12: warning: implicit declaration of function ‘wcwidth’ [-Wimplicit-function-declaration]\n",
      "    122 |        if (wcwidth (wc) == 0)\n",
      "        |            ^~~~~~~\n",
      "  rm -f tilde.o\n",
      "  gcc -DHAVE_CONFIG_H   -DNEED_EXTERN_PC -fPIC -I. -I. -DRL_LIBRARY_VERSION='\"6.2\"' -g -O -DREADLINE_LIBRARY -c ./tilde.c\n",
      "  rm -f libreadline.a\n",
      "  ar cr libreadline.a readline.o vi_mode.o funmap.o keymaps.o parens.o search.o rltty.o complete.o bind.o isearch.o display.o signals.o util.o kill.o undo.o macro.o input.o callback.o terminal.o text.o nls.o misc.o compat.o xfree.o xmalloc.o history.o histexpand.o histfile.o histsearch.o shell.o mbutil.o tilde.o\n",
      "  test -n \"ranlib\" && ranlib libreadline.a\n",
      "  rm -f libhistory.a\n",
      "  ar cr libhistory.a history.o histexpand.o histfile.o histsearch.o shell.o mbutil.o xmalloc.o xfree.o\n",
      "  test -n \"ranlib\" && ranlib libhistory.a\n",
      "  test -d shlib || mkdir shlib\n",
      "  ( cd shlib ; make  all )\n",
      "  make[1]: Entering directory '/tmp/pip-install-c6j4szv_/readline/rl/readline-lib/shlib'\n",
      "  rm -f readline.so\n",
      "  gcc -c -DHAVE_CONFIG_H   -DNEED_EXTERN_PC -fPIC -I. -I.. -I.. -DRL_LIBRARY_VERSION='\"6.2\"' -g -O -fPIC -o readline.o ../readline.c\n",
      "  mv readline.o readline.so\n",
      "  rm -f vi_mode.so\n",
      "  gcc -c -DHAVE_CONFIG_H   -DNEED_EXTERN_PC -fPIC -I. -I.. -I.. -DRL_LIBRARY_VERSION='\"6.2\"' -g -O -fPIC -o vi_mode.o ../vi_mode.c\n",
      "  mv vi_mode.o vi_mode.so\n",
      "  rm -f funmap.so\n",
      "  gcc -c -DHAVE_CONFIG_H   -DNEED_EXTERN_PC -fPIC -I. -I.. -I.. -DRL_LIBRARY_VERSION='\"6.2\"' -g -O -fPIC -o funmap.o ../funmap.c\n",
      "  mv funmap.o funmap.so\n",
      "  rm -f keymaps.so\n",
      "  gcc -c -DHAVE_CONFIG_H   -DNEED_EXTERN_PC -fPIC -I. -I.. -I.. -DRL_LIBRARY_VERSION='\"6.2\"' -g -O -fPIC -o keymaps.o ../keymaps.c\n",
      "  mv keymaps.o keymaps.so\n",
      "  rm -f parens.so\n",
      "  gcc -c -DHAVE_CONFIG_H   -DNEED_EXTERN_PC -fPIC -I. -I.. -I.. -DRL_LIBRARY_VERSION='\"6.2\"' -g -O -fPIC -o parens.o ../parens.c\n",
      "  mv parens.o parens.so\n",
      "  rm -f search.so\n",
      "  gcc -c -DHAVE_CONFIG_H   -DNEED_EXTERN_PC -fPIC -I. -I.. -I.. -DRL_LIBRARY_VERSION='\"6.2\"' -g -O -fPIC -o search.o ../search.c\n",
      "  ../search.c: In function ‘_rl_nsearch_init’:\n",
      "  ../search.c:213:15: warning: too many arguments for format [-Wformat-extra-args]\n",
      "    213 |   rl_message (\"%s\", p, 0);\n",
      "        |               ^~~~\n",
      "  mv search.o search.so\n",
      "  rm -f rltty.so\n",
      "  gcc -c -DHAVE_CONFIG_H   -DNEED_EXTERN_PC -fPIC -I. -I.. -I.. -DRL_LIBRARY_VERSION='\"6.2\"' -g -O -fPIC -o rltty.o ../rltty.c\n",
      "  mv rltty.o rltty.so\n",
      "  rm -f complete.so\n",
      "  gcc -c -DHAVE_CONFIG_H   -DNEED_EXTERN_PC -fPIC -I. -I.. -I.. -DRL_LIBRARY_VERSION='\"6.2\"' -g -O -fPIC -o complete.o ../complete.c\n",
      "  ../complete.c: In function ‘fnwidth’:\n",
      "  ../complete.c:682:12: warning: implicit declaration of function ‘wcwidth’; did you mean ‘fnwidth’? [-Wimplicit-function-declaration]\n",
      "    682 |        w = wcwidth (wc);\n",
      "        |            ^~~~~~~\n",
      "        |            fnwidth\n",
      "  mv complete.o complete.so\n",
      "  rm -f bind.so\n",
      "  gcc -c -DHAVE_CONFIG_H   -DNEED_EXTERN_PC -fPIC -I. -I.. -I.. -DRL_LIBRARY_VERSION='\"6.2\"' -g -O -fPIC -o bind.o ../bind.c\n",
      "  mv bind.o bind.so\n",
      "  rm -f isearch.so\n",
      "  gcc -c -DHAVE_CONFIG_H   -DNEED_EXTERN_PC -fPIC -I. -I.. -I.. -DRL_LIBRARY_VERSION='\"6.2\"' -g -O -fPIC -o isearch.o ../isearch.c\n",
      "  mv isearch.o isearch.so\n",
      "  rm -f display.so\n",
      "  gcc -c -DHAVE_CONFIG_H   -DNEED_EXTERN_PC -fPIC -I. -I.. -I.. -DRL_LIBRARY_VERSION='\"6.2\"' -g -O -fPIC -o display.o ../display.c\n",
      "  ../display.c: In function ‘rl_redisplay’:\n",
      "  ../display.c:764:15: warning: implicit declaration of function ‘wcwidth’ [-Wimplicit-function-declaration]\n",
      "    764 |        temp = wcwidth (wc);\n",
      "        |               ^~~~~~~\n",
      "  mv display.o display.so\n",
      "  rm -f signals.so\n",
      "  gcc -c -DHAVE_CONFIG_H   -DNEED_EXTERN_PC -fPIC -I. -I.. -I.. -DRL_LIBRARY_VERSION='\"6.2\"' -g -O -fPIC -o signals.o ../signals.c\n",
      "  mv signals.o signals.so\n",
      "  rm -f util.so\n",
      "  gcc -c -DHAVE_CONFIG_H   -DNEED_EXTERN_PC -fPIC -I. -I.. -I.. -DRL_LIBRARY_VERSION='\"6.2\"' -g -O -fPIC -o util.o ../util.c\n",
      "  ../util.c: In function ‘_rl_tropen’:\n",
      "  ../util.c:510:39: warning: format ‘%ld’ expects argument of type ‘long int’, but argument 3 has type ‘__pid_t’ {aka ‘int’} [-Wformat=]\n",
      "    510 |   sprintf (fnbuf, \"/var/tmp/rltrace.%ld\", getpid());\n",
      "        |                                     ~~^   ~~~~~~~~\n",
      "        |                                       |   |\n",
      "        |                                       |   __pid_t {aka int}\n",
      "        |                                       long int\n",
      "        |                                     %d\n",
      "  mv util.o util.so\n",
      "  rm -f kill.so\n",
      "  gcc -c -DHAVE_CONFIG_H   -DNEED_EXTERN_PC -fPIC -I. -I.. -I.. -DRL_LIBRARY_VERSION='\"6.2\"' -g -O -fPIC -o kill.o ../kill.c\n",
      "  mv kill.o kill.so\n",
      "  rm -f undo.so\n",
      "  gcc -c -DHAVE_CONFIG_H   -DNEED_EXTERN_PC -fPIC -I. -I.. -I.. -DRL_LIBRARY_VERSION='\"6.2\"' -g -O -fPIC -o undo.o ../undo.c\n",
      "  mv undo.o undo.so\n",
      "  rm -f macro.so\n",
      "  gcc -c -DHAVE_CONFIG_H   -DNEED_EXTERN_PC -fPIC -I. -I.. -I.. -DRL_LIBRARY_VERSION='\"6.2\"' -g -O -fPIC -o macro.o ../macro.c\n",
      "  mv macro.o macro.so\n",
      "  rm -f input.so\n",
      "  gcc -c -DHAVE_CONFIG_H   -DNEED_EXTERN_PC -fPIC -I. -I.. -I.. -DRL_LIBRARY_VERSION='\"6.2\"' -g -O -fPIC -o input.o ../input.c\n",
      "  mv input.o input.so\n",
      "  rm -f callback.so\n",
      "  gcc -c -DHAVE_CONFIG_H   -DNEED_EXTERN_PC -fPIC -I. -I.. -I.. -DRL_LIBRARY_VERSION='\"6.2\"' -g -O -fPIC -o callback.o ../callback.c\n",
      "  mv callback.o callback.so\n",
      "  rm -f terminal.so\n",
      "  gcc -c -DHAVE_CONFIG_H   -DNEED_EXTERN_PC -fPIC -I. -I.. -I.. -DRL_LIBRARY_VERSION='\"6.2\"' -g -O -fPIC -o terminal.o ../terminal.c\n",
      "  mv terminal.o terminal.so\n",
      "  rm -f text.so\n",
      "  gcc -c -DHAVE_CONFIG_H   -DNEED_EXTERN_PC -fPIC -I. -I.. -I.. -DRL_LIBRARY_VERSION='\"6.2\"' -g -O -fPIC -o text.o ../text.c\n",
      "  mv text.o text.so\n",
      "  rm -f nls.so\n",
      "  gcc -c -DHAVE_CONFIG_H   -DNEED_EXTERN_PC -fPIC -I. -I.. -I.. -DRL_LIBRARY_VERSION='\"6.2\"' -g -O -fPIC -o nls.o ../nls.c\n",
      "  mv nls.o nls.so\n",
      "  rm -f misc.so\n",
      "  gcc -c -DHAVE_CONFIG_H   -DNEED_EXTERN_PC -fPIC -I. -I.. -I.. -DRL_LIBRARY_VERSION='\"6.2\"' -g -O -fPIC -o misc.o ../misc.c\n",
      "  mv misc.o misc.so\n",
      "  rm -f xmalloc.so\n",
      "  gcc -c -DHAVE_CONFIG_H   -DNEED_EXTERN_PC -fPIC -I. -I.. -I.. -DRL_LIBRARY_VERSION='\"6.2\"' -g -O -fPIC -o xmalloc.o ../xmalloc.c\n",
      "  mv xmalloc.o xmalloc.so\n",
      "  rm -f xfree.so\n",
      "  gcc -c -DHAVE_CONFIG_H   -DNEED_EXTERN_PC -fPIC -I. -I.. -I.. -DRL_LIBRARY_VERSION='\"6.2\"' -g -O -fPIC -o xfree.o ../xfree.c\n",
      "  mv xfree.o xfree.so\n",
      "  rm -f history.so\n",
      "  gcc -c -DHAVE_CONFIG_H   -DNEED_EXTERN_PC -fPIC -I. -I.. -I.. -DRL_LIBRARY_VERSION='\"6.2\"' -g -O -fPIC -o history.o ../history.c\n",
      "  mv history.o history.so\n",
      "  rm -f histexpand.so\n",
      "  gcc -c -DHAVE_CONFIG_H   -DNEED_EXTERN_PC -fPIC -I. -I.. -I.. -DRL_LIBRARY_VERSION='\"6.2\"' -g -O -fPIC -o histexpand.o ../histexpand.c\n",
      "  mv histexpand.o histexpand.so\n",
      "  rm -f histfile.so\n",
      "  gcc -c -DHAVE_CONFIG_H   -DNEED_EXTERN_PC -fPIC -I. -I.. -I.. -DRL_LIBRARY_VERSION='\"6.2\"' -g -O -fPIC -o histfile.o ../histfile.c\n",
      "  ../histfile.c: In function ‘history_truncate_file’:\n",
      "  ../histfile.c:406:7: warning: ignoring return value of ‘write’, declared with attribute warn_unused_result [-Wunused-result]\n",
      "    406 |       write (file, bp, chars_read - (bp - buffer));\n",
      "        |       ^~~~~~~~~~~~~~~~~~~~~~~~~~~~~~~~~~~~~~~~~~~~\n",
      "  mv histfile.o histfile.so\n",
      "  rm -f histsearch.so\n",
      "  gcc -c -DHAVE_CONFIG_H   -DNEED_EXTERN_PC -fPIC -I. -I.. -I.. -DRL_LIBRARY_VERSION='\"6.2\"' -g -O -fPIC -o histsearch.o ../histsearch.c\n",
      "  mv histsearch.o histsearch.so\n",
      "  rm -f shell.so\n",
      "  gcc -c -DHAVE_CONFIG_H   -DNEED_EXTERN_PC -fPIC -I. -I.. -I.. -DRL_LIBRARY_VERSION='\"6.2\"' -g -O -fPIC -o shell.o ../shell.c\n",
      "  mv shell.o shell.so\n",
      "  rm -f mbutil.so\n",
      "  gcc -c -DHAVE_CONFIG_H   -DNEED_EXTERN_PC -fPIC -I. -I.. -I.. -DRL_LIBRARY_VERSION='\"6.2\"' -g -O -fPIC -o mbutil.o ../mbutil.c\n",
      "  ../mbutil.c: In function ‘_rl_find_next_mbchar_internal’:\n",
      "  ../mbutil.c:122:12: warning: implicit declaration of function ‘wcwidth’ [-Wimplicit-function-declaration]\n",
      "    122 |        if (wcwidth (wc) == 0)\n",
      "        |            ^~~~~~~\n",
      "  mv mbutil.o mbutil.so\n",
      "  rm -f tilde.so\n",
      "  gcc -c -DHAVE_CONFIG_H   -DNEED_EXTERN_PC -fPIC -I. -I.. -I.. -DRL_LIBRARY_VERSION='\"6.2\"' -g -O -fPIC -DREADLINE_LIBRARY -c -o tilde.o ../tilde.c\n",
      "  mv tilde.o tilde.so\n",
      "  rm -f compat.so\n",
      "  gcc -c -DHAVE_CONFIG_H   -DNEED_EXTERN_PC -fPIC -I. -I.. -I.. -DRL_LIBRARY_VERSION='\"6.2\"' -g -O -fPIC -o compat.o ../compat.c\n",
      "  mv compat.o compat.so\n",
      "  rm -f libreadline.so.6.2\n",
      "  gcc -shared -Wl,-soname,libreadline.so.6.2 -L./lib/termcap -Wl,-rpath,/usr/local/lib -Wl,-soname,`basename libreadline.so.6.2 .2` -o libreadline.so.6.2 readline.so vi_mode.so funmap.so keymaps.so parens.so search.so rltty.so complete.so bind.so isearch.so display.so signals.so util.so kill.so undo.so macro.so input.so callback.so terminal.so text.so nls.so misc.so xmalloc.so xfree.so history.so histexpand.so histfile.so histsearch.so shell.so mbutil.so tilde.so compat.so\n",
      "  rm -f libhistory.so.6.2\n",
      "  gcc -shared -Wl,-soname,libhistory.so.6.2 -L./lib/termcap -Wl,-rpath,/usr/local/lib -Wl,-soname,`basename libhistory.so.6.2 .2` -o libhistory.so.6.2 history.so histexpand.so histfile.so histsearch.so shell.so mbutil.so xmalloc.so xfree.so\n",
      "  make[1]: Leaving directory '/tmp/pip-install-c6j4szv_/readline/rl/readline-lib/shlib'\n",
      "  \n",
      "  ============ Building the readline extension module ============\n",
      "  \n",
      "  running bdist_wheel\n",
      "  running build\n",
      "  running build_ext\n",
      "  building 'readline' extension\n",
      "  creating build\n",
      "  creating build/temp.linux-x86_64-3.8\n",
      "  creating build/temp.linux-x86_64-3.8/Modules\n",
      "  creating build/temp.linux-x86_64-3.8/Modules/3.x\n",
      "  x86_64-linux-gnu-gcc -pthread -Wno-unused-result -Wsign-compare -DNDEBUG -g -fwrapv -O2 -Wall -g -fstack-protector-strong -Wformat -Werror=format-security -g -fwrapv -O2 -g -fstack-protector-strong -Wformat -Werror=format-security -Wdate-time -D_FORTIFY_SOURCE=2 -fPIC -DHAVE_RL_CALLBACK -DHAVE_RL_CATCH_SIGNAL -DHAVE_RL_COMPLETION_APPEND_CHARACTER -DHAVE_RL_COMPLETION_DISPLAY_MATCHES_HOOK -DHAVE_RL_COMPLETION_MATCHES -DHAVE_RL_COMPLETION_SUPPRESS_APPEND -DHAVE_RL_PRE_INPUT_HOOK -I. -I/usr/include/python3.8 -c Modules/3.x/readline.c -o build/temp.linux-x86_64-3.8/Modules/3.x/readline.o -Wno-strict-prototypes\n",
      "  In file included from /usr/include/python3.8/unicodeobject.h:1037,\n",
      "                   from /usr/include/python3.8/Python.h:97,\n",
      "                   from Modules/3.x/readline.c:8:\n",
      "  Modules/3.x/readline.c: In function ‘on_completion’:\n",
      "  /usr/include/python3.8/cpython/unicodeobject.h:785:29: warning: initialization discards ‘const’ qualifier from pointer target type [-Wdiscarded-qualifiers]\n",
      "    785 | #define _PyUnicode_AsString PyUnicode_AsUTF8\n",
      "        |                             ^~~~~~~~~~~~~~~~\n",
      "  Modules/3.x/readline.c:842:23: note: in expansion of macro ‘_PyUnicode_AsString’\n",
      "    842 |             char *s = _PyUnicode_AsString(r);\n",
      "        |                       ^~~~~~~~~~~~~~~~~~~\n",
      "  Modules/3.x/readline.c: In function ‘PyInit_readline’:\n",
      "  Modules/3.x/readline.c:1179:34: warning: assignment to ‘char * (*)(FILE *, FILE *, const char *)’ {aka ‘char * (*)(struct _IO_FILE *, struct _IO_FILE *, const char *)’} from incompatible pointer type ‘char * (*)(FILE *, FILE *, char *)’ {aka ‘char * (*)(struct _IO_FILE *, struct _IO_FILE *, char *)’} [-Wincompatible-pointer-types]\n",
      "   1179 |     PyOS_ReadlineFunctionPointer = call_readline;\n",
      "        |                                  ^\n",
      "  In file included from /usr/include/string.h:495,\n",
      "                   from /usr/include/python3.8/Python.h:30,\n",
      "                   from Modules/3.x/readline.c:8:\n",
      "  In function ‘strncpy’,\n",
      "      inlined from ‘call_readline’ at Modules/3.x/readline.c:1124:9:\n",
      "  /usr/include/x86_64-linux-gnu/bits/string_fortified.h:106:10: warning: ‘__builtin_strncpy’ output truncated before terminating nul copying as many bytes from a string as its length [-Wstringop-truncation]\n",
      "    106 |   return __builtin___strncpy_chk (__dest, __src, __len, __bos (__dest));\n",
      "        |          ^~~~~~~~~~~~~~~~~~~~~~~~~~~~~~~~~~~~~~~~~~~~~~~~~~~~~~~~~~~~~~\n",
      "  Modules/3.x/readline.c: In function ‘call_readline’:\n",
      "  Modules/3.x/readline.c:1099:9: note: length computed here\n",
      "   1099 |     n = strlen(p);\n",
      "        |         ^~~~~~~~~\n",
      "  creating build/lib.linux-x86_64-3.8\n",
      "  x86_64-linux-gnu-gcc -pthread -shared -Wl,-O1 -Wl,-Bsymbolic-functions -Wl,-Bsymbolic-functions -Wl,-z,relro -g -fwrapv -O2 -Wl,-Bsymbolic-functions -Wl,-z,relro -g -fwrapv -O2 -g -fstack-protector-strong -Wformat -Werror=format-security -Wdate-time -D_FORTIFY_SOURCE=2 build/temp.linux-x86_64-3.8/Modules/3.x/readline.o readline/libreadline.a readline/libhistory.a -lncurses -o build/lib.linux-x86_64-3.8/readline.cpython-38-x86_64-linux-gnu.so\n",
      "  /usr/bin/ld: cannot find -lncurses\n",
      "  collect2: error: ld returned 1 exit status\n",
      "  error: command 'x86_64-linux-gnu-gcc' failed with exit status 1\n",
      "  ----------------------------------------\u001b[0m\n",
      "\u001b[31m  ERROR: Failed building wheel for readline\u001b[0m\n",
      "\u001b[?25h  Running setup.py clean for readline\n",
      "Failed to build readline\n",
      "Installing collected packages: readline\n",
      "    Running setup.py install for readline ... \u001b[?25lerror\n",
      "\u001b[31m    ERROR: Command errored out with exit status 1:\n",
      "     command: /usr/bin/python3 -u -c 'import sys, setuptools, tokenize; sys.argv[0] = '\"'\"'/tmp/pip-install-c6j4szv_/readline/setup.py'\"'\"'; __file__='\"'\"'/tmp/pip-install-c6j4szv_/readline/setup.py'\"'\"';f=getattr(tokenize, '\"'\"'open'\"'\"', open)(__file__);code=f.read().replace('\"'\"'\\r\\n'\"'\"', '\"'\"'\\n'\"'\"');f.close();exec(compile(code, __file__, '\"'\"'exec'\"'\"'))' install --record /tmp/pip-record-afjj7ow9/install-record.txt --single-version-externally-managed --compile --install-headers /usr/local/include/python3.8/readline\n",
      "         cwd: /tmp/pip-install-c6j4szv_/readline/\n",
      "    Complete output (40 lines):\n",
      "    running install\n",
      "    running build\n",
      "    running build_ext\n",
      "    building 'readline' extension\n",
      "    creating build\n",
      "    creating build/temp.linux-x86_64-3.8\n",
      "    creating build/temp.linux-x86_64-3.8/Modules\n",
      "    creating build/temp.linux-x86_64-3.8/Modules/3.x\n",
      "    x86_64-linux-gnu-gcc -pthread -Wno-unused-result -Wsign-compare -DNDEBUG -g -fwrapv -O2 -Wall -g -fstack-protector-strong -Wformat -Werror=format-security -g -fwrapv -O2 -g -fstack-protector-strong -Wformat -Werror=format-security -Wdate-time -D_FORTIFY_SOURCE=2 -fPIC -DHAVE_RL_CALLBACK -DHAVE_RL_CATCH_SIGNAL -DHAVE_RL_COMPLETION_APPEND_CHARACTER -DHAVE_RL_COMPLETION_DISPLAY_MATCHES_HOOK -DHAVE_RL_COMPLETION_MATCHES -DHAVE_RL_COMPLETION_SUPPRESS_APPEND -DHAVE_RL_PRE_INPUT_HOOK -I. -I/usr/include/python3.8 -c Modules/3.x/readline.c -o build/temp.linux-x86_64-3.8/Modules/3.x/readline.o -Wno-strict-prototypes\n",
      "    In file included from /usr/include/python3.8/unicodeobject.h:1037,\n",
      "                     from /usr/include/python3.8/Python.h:97,\n",
      "                     from Modules/3.x/readline.c:8:\n",
      "    Modules/3.x/readline.c: In function ‘on_completion’:\n",
      "    /usr/include/python3.8/cpython/unicodeobject.h:785:29: warning: initialization discards ‘const’ qualifier from pointer target type [-Wdiscarded-qualifiers]\n",
      "      785 | #define _PyUnicode_AsString PyUnicode_AsUTF8\n",
      "          |                             ^~~~~~~~~~~~~~~~\n",
      "    Modules/3.x/readline.c:842:23: note: in expansion of macro ‘_PyUnicode_AsString’\n",
      "      842 |             char *s = _PyUnicode_AsString(r);\n",
      "          |                       ^~~~~~~~~~~~~~~~~~~\n",
      "    Modules/3.x/readline.c: In function ‘PyInit_readline’:\n",
      "    Modules/3.x/readline.c:1179:34: warning: assignment to ‘char * (*)(FILE *, FILE *, const char *)’ {aka ‘char * (*)(struct _IO_FILE *, struct _IO_FILE *, const char *)’} from incompatible pointer type ‘char * (*)(FILE *, FILE *, char *)’ {aka ‘char * (*)(struct _IO_FILE *, struct _IO_FILE *, char *)’} [-Wincompatible-pointer-types]\n",
      "     1179 |     PyOS_ReadlineFunctionPointer = call_readline;\n",
      "          |                                  ^\n",
      "    In file included from /usr/include/string.h:495,\n",
      "                     from /usr/include/python3.8/Python.h:30,\n",
      "                     from Modules/3.x/readline.c:8:\n",
      "    In function ‘strncpy’,\n",
      "        inlined from ‘call_readline’ at Modules/3.x/readline.c:1124:9:\n",
      "    /usr/include/x86_64-linux-gnu/bits/string_fortified.h:106:10: warning: ‘__builtin_strncpy’ output truncated before terminating nul copying as many bytes from a string as its length [-Wstringop-truncation]\n",
      "      106 |   return __builtin___strncpy_chk (__dest, __src, __len, __bos (__dest));\n",
      "          |          ^~~~~~~~~~~~~~~~~~~~~~~~~~~~~~~~~~~~~~~~~~~~~~~~~~~~~~~~~~~~~~\n",
      "    Modules/3.x/readline.c: In function ‘call_readline’:\n",
      "    Modules/3.x/readline.c:1099:9: note: length computed here\n",
      "     1099 |     n = strlen(p);\n",
      "          |         ^~~~~~~~~\n",
      "    creating build/lib.linux-x86_64-3.8\n",
      "    x86_64-linux-gnu-gcc -pthread -shared -Wl,-O1 -Wl,-Bsymbolic-functions -Wl,-Bsymbolic-functions -Wl,-z,relro -g -fwrapv -O2 -Wl,-Bsymbolic-functions -Wl,-z,relro -g -fwrapv -O2 -g -fstack-protector-strong -Wformat -Werror=format-security -Wdate-time -D_FORTIFY_SOURCE=2 build/temp.linux-x86_64-3.8/Modules/3.x/readline.o readline/libreadline.a readline/libhistory.a -lncurses -o build/lib.linux-x86_64-3.8/readline.cpython-38-x86_64-linux-gnu.so\n",
      "    /usr/bin/ld: cannot find -lncurses\n",
      "    collect2: error: ld returned 1 exit status\n",
      "    error: command 'x86_64-linux-gnu-gcc' failed with exit status 1\n",
      "    ----------------------------------------\u001b[0m\n",
      "\u001b[31mERROR: Command errored out with exit status 1: /usr/bin/python3 -u -c 'import sys, setuptools, tokenize; sys.argv[0] = '\"'\"'/tmp/pip-install-c6j4szv_/readline/setup.py'\"'\"'; __file__='\"'\"'/tmp/pip-install-c6j4szv_/readline/setup.py'\"'\"';f=getattr(tokenize, '\"'\"'open'\"'\"', open)(__file__);code=f.read().replace('\"'\"'\\r\\n'\"'\"', '\"'\"'\\n'\"'\"');f.close();exec(compile(code, __file__, '\"'\"'exec'\"'\"'))' install --record /tmp/pip-record-afjj7ow9/install-record.txt --single-version-externally-managed --compile --install-headers /usr/local/include/python3.8/readline Check the logs for full command output.\u001b[0m\n",
      "\u001b[?25h"
     ]
    }
   ],
   "source": [
    "!pip3 install readline -i https://mirrors.huaweicloud.com/repository/pypi/simple"
   ]
  },
  {
   "cell_type": "code",
   "execution_count": 13,
   "id": "fd3b5611",
   "metadata": {
    "scrolled": true
   },
   "outputs": [
    {
     "name": "stdout",
     "output_type": "stream",
     "text": [
      "Looking in indexes: https://mirrors.huaweicloud.com/repository/pypi/simple\n",
      "Requirement already satisfied: pandas-datareader in /usr/local/lib/python3.8/dist-packages (0.10.0)\n",
      "Requirement already satisfied: pandas>=0.23 in /usr/local/lib/python3.8/dist-packages (from pandas-datareader) (1.5.3)\n",
      "Requirement already satisfied: lxml in /usr/local/lib/python3.8/dist-packages (from pandas-datareader) (4.8.0)\n",
      "Requirement already satisfied: requests>=2.19.0 in /usr/local/lib/python3.8/dist-packages (from pandas-datareader) (2.27.1)\n",
      "Requirement already satisfied: pytz>=2020.1 in /usr/local/lib/python3.8/dist-packages (from pandas>=0.23->pandas-datareader) (2022.1)\n",
      "Requirement already satisfied: python-dateutil>=2.8.1 in /usr/local/lib/python3.8/dist-packages (from pandas>=0.23->pandas-datareader) (2.8.2)\n",
      "Requirement already satisfied: numpy>=1.20.3; python_version < \"3.10\" in /usr/local/lib/python3.8/dist-packages (from pandas>=0.23->pandas-datareader) (1.24.2)\n",
      "Requirement already satisfied: urllib3<1.27,>=1.21.1 in /usr/local/lib/python3.8/dist-packages (from requests>=2.19.0->pandas-datareader) (1.26.9)\n",
      "Requirement already satisfied: certifi>=2017.4.17 in /usr/local/lib/python3.8/dist-packages (from requests>=2.19.0->pandas-datareader) (2020.12.5)\n",
      "Requirement already satisfied: charset-normalizer~=2.0.0; python_version >= \"3\" in /usr/local/lib/python3.8/dist-packages (from requests>=2.19.0->pandas-datareader) (2.0.12)\n",
      "Requirement already satisfied: idna<4,>=2.5; python_version >= \"3\" in /usr/local/lib/python3.8/dist-packages (from requests>=2.19.0->pandas-datareader) (3.3)\n",
      "Requirement already satisfied: six>=1.5 in /usr/local/lib/python3.8/dist-packages (from python-dateutil>=2.8.1->pandas>=0.23->pandas-datareader) (1.16.0)\n"
     ]
    }
   ],
   "source": [
    "!pip3 install pandas-datareader -i https://mirrors.huaweicloud.com/repository/pypi/simple"
   ]
  },
  {
   "cell_type": "code",
   "execution_count": 14,
   "id": "9a239f67",
   "metadata": {
    "scrolled": true
   },
   "outputs": [
    {
     "name": "stdout",
     "output_type": "stream",
     "text": [
      "Looking in indexes: https://mirrors.huaweicloud.com/repository/pypi/simple\n",
      "Requirement already satisfied: pandoc in /usr/local/lib/python3.8/dist-packages (2.3)\n",
      "Requirement already satisfied: ply in /usr/local/lib/python3.8/dist-packages (from pandoc) (3.11)\n",
      "Requirement already satisfied: plumbum in /usr/local/lib/python3.8/dist-packages (from pandoc) (1.7.2)\n"
     ]
    }
   ],
   "source": [
    "!pip3 install pandoc -i https://mirrors.huaweicloud.com/repository/pypi/simple"
   ]
  },
  {
   "cell_type": "code",
   "execution_count": 15,
   "id": "f8aad3e8",
   "metadata": {
    "scrolled": true
   },
   "outputs": [
    {
     "name": "stdout",
     "output_type": "stream",
     "text": [
      "Looking in indexes: https://mirrors.huaweicloud.com/repository/pypi/simple\n",
      "Requirement already satisfied: openpyxl in /usr/local/lib/python3.8/dist-packages (3.1.2)\n",
      "Requirement already satisfied: et-xmlfile in /usr/local/lib/python3.8/dist-packages (from openpyxl) (1.1.0)\n"
     ]
    }
   ],
   "source": [
    "!pip3 install openpyxl -i https://mirrors.huaweicloud.com/repository/pypi/simple"
   ]
  },
  {
   "cell_type": "code",
   "execution_count": 16,
   "id": "99d42d3d",
   "metadata": {
    "scrolled": true
   },
   "outputs": [
    {
     "name": "stdout",
     "output_type": "stream",
     "text": [
      "Looking in indexes: https://mirrors.huaweicloud.com/repository/pypi/simple\n",
      "Collecting psycopg2\n",
      "  Using cached https://mirrors.huaweicloud.com/repository/pypi/packages/89/d6/cd8c46417e0f7a16b4b0fc321f4ab676a59250d08fce5b64921897fb07cc/psycopg2-2.9.5.tar.gz (384 kB)\n",
      "\u001b[31m    ERROR: Command errored out with exit status 1:\n",
      "     command: /usr/bin/python3 -c 'import sys, setuptools, tokenize; sys.argv[0] = '\"'\"'/tmp/pip-install-3yi5rxk1/psycopg2/setup.py'\"'\"'; __file__='\"'\"'/tmp/pip-install-3yi5rxk1/psycopg2/setup.py'\"'\"';f=getattr(tokenize, '\"'\"'open'\"'\"', open)(__file__);code=f.read().replace('\"'\"'\\r\\n'\"'\"', '\"'\"'\\n'\"'\"');f.close();exec(compile(code, __file__, '\"'\"'exec'\"'\"'))' egg_info --egg-base /tmp/pip-install-3yi5rxk1/psycopg2/pip-egg-info\n",
      "         cwd: /tmp/pip-install-3yi5rxk1/psycopg2/\n",
      "    Complete output (23 lines):\n",
      "    running egg_info\n",
      "    creating /tmp/pip-install-3yi5rxk1/psycopg2/pip-egg-info/psycopg2.egg-info\n",
      "    writing /tmp/pip-install-3yi5rxk1/psycopg2/pip-egg-info/psycopg2.egg-info/PKG-INFO\n",
      "    writing dependency_links to /tmp/pip-install-3yi5rxk1/psycopg2/pip-egg-info/psycopg2.egg-info/dependency_links.txt\n",
      "    writing top-level names to /tmp/pip-install-3yi5rxk1/psycopg2/pip-egg-info/psycopg2.egg-info/top_level.txt\n",
      "    writing manifest file '/tmp/pip-install-3yi5rxk1/psycopg2/pip-egg-info/psycopg2.egg-info/SOURCES.txt'\n",
      "    \n",
      "    Error: pg_config executable not found.\n",
      "    \n",
      "    pg_config is required to build psycopg2 from source.  Please add the directory\n",
      "    containing pg_config to the $PATH or specify the full executable path with the\n",
      "    option:\n",
      "    \n",
      "        python setup.py build_ext --pg-config /path/to/pg_config build ...\n",
      "    \n",
      "    or with the pg_config option in 'setup.cfg'.\n",
      "    \n",
      "    If you prefer to avoid building psycopg2 from source, please install the PyPI\n",
      "    'psycopg2-binary' package instead.\n",
      "    \n",
      "    For further information please check the 'doc/src/install.rst' file (also at\n",
      "    <https://www.psycopg.org/docs/install.html>).\n",
      "    \n",
      "    ----------------------------------------\u001b[0m\n",
      "\u001b[31mERROR: Command errored out with exit status 1: python setup.py egg_info Check the logs for full command output.\u001b[0m\n"
     ]
    }
   ],
   "source": [
    "!pip3 install psycopg2 -i https://mirrors.huaweicloud.com/repository/pypi/simple"
   ]
  },
  {
   "cell_type": "code",
   "execution_count": 17,
   "id": "29da7190",
   "metadata": {
    "scrolled": true
   },
   "outputs": [
    {
     "name": "stdout",
     "output_type": "stream",
     "text": [
      "Looking in indexes: https://mirrors.huaweicloud.com/repository/pypi/simple\n",
      "Requirement already satisfied: pmdarima in /usr/local/lib/python3.8/dist-packages (2.0.2)\n",
      "Requirement already satisfied: pandas>=0.19 in /usr/local/lib/python3.8/dist-packages (from pmdarima) (1.5.3)\n",
      "Requirement already satisfied: scipy>=1.3.2 in /usr/local/lib/python3.8/dist-packages (from pmdarima) (1.10.1)\n",
      "Requirement already satisfied: numpy>=1.21.2 in /usr/local/lib/python3.8/dist-packages (from pmdarima) (1.24.2)\n",
      "Requirement already satisfied: Cython!=0.29.18,!=0.29.31,>=0.29 in /usr/local/lib/python3.8/dist-packages (from pmdarima) (0.29.35)\n",
      "Requirement already satisfied: statsmodels>=0.13.2 in /usr/local/lib/python3.8/dist-packages (from pmdarima) (0.13.5)\n",
      "Requirement already satisfied: scikit-learn>=0.22 in /usr/local/lib/python3.8/dist-packages (from pmdarima) (0.23.2)\n",
      "Requirement already satisfied: joblib>=0.11 in /usr/local/lib/python3.8/dist-packages (from pmdarima) (1.2.0)\n",
      "Requirement already satisfied: urllib3 in /usr/local/lib/python3.8/dist-packages (from pmdarima) (1.26.9)\n",
      "Requirement already satisfied: setuptools!=50.0.0,>=38.6.0 in /usr/lib/python3/dist-packages (from pmdarima) (45.2.0)\n",
      "Requirement already satisfied: python-dateutil>=2.8.1 in /usr/local/lib/python3.8/dist-packages (from pandas>=0.19->pmdarima) (2.8.2)\n",
      "Requirement already satisfied: pytz>=2020.1 in /usr/local/lib/python3.8/dist-packages (from pandas>=0.19->pmdarima) (2022.1)\n",
      "Requirement already satisfied: packaging>=21.3 in /usr/local/lib/python3.8/dist-packages (from statsmodels>=0.13.2->pmdarima) (21.3)\n",
      "Requirement already satisfied: patsy>=0.5.2 in /usr/local/lib/python3.8/dist-packages (from statsmodels>=0.13.2->pmdarima) (0.5.2)\n",
      "Requirement already satisfied: threadpoolctl>=2.0.0 in /usr/local/lib/python3.8/dist-packages (from scikit-learn>=0.22->pmdarima) (3.1.0)\n",
      "Requirement already satisfied: six>=1.5 in /usr/local/lib/python3.8/dist-packages (from python-dateutil>=2.8.1->pandas>=0.19->pmdarima) (1.16.0)\n",
      "Requirement already satisfied: pyparsing!=3.0.5,>=2.0.2 in /usr/local/lib/python3.8/dist-packages (from packaging>=21.3->statsmodels>=0.13.2->pmdarima) (2.4.7)\n"
     ]
    }
   ],
   "source": [
    "!pip3 install pmdarima -i https://mirrors.huaweicloud.com/repository/pypi/simple"
   ]
  },
  {
   "cell_type": "code",
   "execution_count": 18,
   "id": "77de668e",
   "metadata": {
    "scrolled": true
   },
   "outputs": [
    {
     "name": "stdout",
     "output_type": "stream",
     "text": [
      "Looking in indexes: https://mirrors.huaweicloud.com/repository/pypi/simple\n",
      "Requirement already satisfied: html5lib in /usr/local/lib/python3.8/dist-packages (1.1)\n",
      "Requirement already satisfied: webencodings in /usr/local/lib/python3.8/dist-packages (from html5lib) (0.5.1)\n",
      "Requirement already satisfied: six>=1.9 in /usr/local/lib/python3.8/dist-packages (from html5lib) (1.16.0)\n"
     ]
    }
   ],
   "source": [
    "!pip3 install html5lib -i https://mirrors.huaweicloud.com/repository/pypi/simple"
   ]
  },
  {
   "cell_type": "code",
   "execution_count": 19,
   "id": "f3963548",
   "metadata": {
    "scrolled": true
   },
   "outputs": [
    {
     "name": "stdout",
     "output_type": "stream",
     "text": [
      "Looking in indexes: https://mirrors.huaweicloud.com/repository/pypi/simple\n",
      "Requirement already satisfied: alpha_vantage in /usr/local/lib/python3.8/dist-packages (2.3.1)\n",
      "Requirement already satisfied: aiohttp in /usr/local/lib/python3.8/dist-packages (from alpha_vantage) (3.8.4)\n",
      "Requirement already satisfied: requests in /usr/local/lib/python3.8/dist-packages (from alpha_vantage) (2.27.1)\n",
      "Requirement already satisfied: async-timeout<5.0,>=4.0.0a3 in /usr/local/lib/python3.8/dist-packages (from aiohttp->alpha_vantage) (4.0.2)\n",
      "Requirement already satisfied: aiosignal>=1.1.2 in /usr/local/lib/python3.8/dist-packages (from aiohttp->alpha_vantage) (1.3.1)\n",
      "Requirement already satisfied: attrs>=17.3.0 in /usr/local/lib/python3.8/dist-packages (from aiohttp->alpha_vantage) (20.3.0)\n",
      "Requirement already satisfied: yarl<2.0,>=1.0 in /usr/local/lib/python3.8/dist-packages (from aiohttp->alpha_vantage) (1.8.1)\n",
      "Requirement already satisfied: frozenlist>=1.1.1 in /usr/local/lib/python3.8/dist-packages (from aiohttp->alpha_vantage) (1.3.3)\n",
      "Requirement already satisfied: multidict<7.0,>=4.5 in /usr/local/lib/python3.8/dist-packages (from aiohttp->alpha_vantage) (6.0.2)\n",
      "Requirement already satisfied: charset-normalizer<4.0,>=2.0 in /usr/local/lib/python3.8/dist-packages (from aiohttp->alpha_vantage) (2.0.12)\n",
      "Requirement already satisfied: certifi>=2017.4.17 in /usr/local/lib/python3.8/dist-packages (from requests->alpha_vantage) (2020.12.5)\n",
      "Requirement already satisfied: urllib3<1.27,>=1.21.1 in /usr/local/lib/python3.8/dist-packages (from requests->alpha_vantage) (1.26.9)\n",
      "Requirement already satisfied: idna<4,>=2.5; python_version >= \"3\" in /usr/local/lib/python3.8/dist-packages (from requests->alpha_vantage) (3.3)\n"
     ]
    }
   ],
   "source": [
    "!pip3 install alpha_vantage -i https://mirrors.huaweicloud.com/repository/pypi/simple"
   ]
  },
  {
   "cell_type": "code",
   "execution_count": 20,
   "id": "f79dbdd8",
   "metadata": {
    "scrolled": true
   },
   "outputs": [
    {
     "name": "stdout",
     "output_type": "stream",
     "text": [
      "Looking in indexes: https://mirrors.huaweicloud.com/repository/pypi/simple\n",
      "Collecting sktime\n",
      "  Using cached https://mirrors.huaweicloud.com/repository/pypi/packages/12/11/90916ba1212454b8650061e48ccaefc10a7e2bd1c8b3a5cf9b06053183a1/sktime-0.19.0-py3-none-any.whl (16.9 MB)\n",
      "Requirement already satisfied: numpy<1.25,>=1.21.0 in /usr/local/lib/python3.8/dist-packages (from sktime) (1.24.2)\n",
      "Requirement already satisfied: pandas<2.0.0,>=1.1.0 in /usr/local/lib/python3.8/dist-packages (from sktime) (1.5.3)\n",
      "Requirement already satisfied: scipy<2.0.0,>=1.2.0 in /usr/local/lib/python3.8/dist-packages (from sktime) (1.10.1)\n",
      "Requirement already satisfied: deprecated>=1.2.13 in /usr/local/lib/python3.8/dist-packages (from sktime) (1.2.13)\n",
      "\u001b[31mERROR: Could not find a version that satisfies the requirement scikit-base<0.5.0 (from sktime) (from versions: none)\u001b[0m\n",
      "\u001b[31mERROR: No matching distribution found for scikit-base<0.5.0 (from sktime)\u001b[0m\n"
     ]
    }
   ],
   "source": [
    "!pip3 install sktime -i https://mirrors.huaweicloud.com/repository/pypi/simple"
   ]
  },
  {
   "cell_type": "code",
   "execution_count": 21,
   "id": "6f7605f1",
   "metadata": {
    "scrolled": true
   },
   "outputs": [
    {
     "name": "stdout",
     "output_type": "stream",
     "text": [
      "Looking in indexes: https://mirrors.huaweicloud.com/repository/pypi/simple\n",
      "Requirement already satisfied: ggplot in /usr/local/lib/python3.8/dist-packages (0.11.5)\n",
      "Requirement already satisfied: pandas in /usr/local/lib/python3.8/dist-packages (from ggplot) (1.5.3)\n",
      "Requirement already satisfied: six in /usr/local/lib/python3.8/dist-packages (from ggplot) (1.16.0)\n",
      "Requirement already satisfied: cycler in /usr/local/lib/python3.8/dist-packages (from ggplot) (0.11.0)\n",
      "Requirement already satisfied: brewer2mpl in /usr/local/lib/python3.8/dist-packages (from ggplot) (1.4.1)\n",
      "Requirement already satisfied: matplotlib in /usr/local/lib/python3.8/dist-packages (from ggplot) (3.7.1)\n",
      "Requirement already satisfied: patsy>=0.4 in /usr/local/lib/python3.8/dist-packages (from ggplot) (0.5.2)\n",
      "Requirement already satisfied: statsmodels in /usr/local/lib/python3.8/dist-packages (from ggplot) (0.13.5)\n",
      "Requirement already satisfied: numpy in /usr/local/lib/python3.8/dist-packages (from ggplot) (1.24.2)\n",
      "Requirement already satisfied: scipy in /usr/local/lib/python3.8/dist-packages (from ggplot) (1.10.1)\n",
      "Requirement already satisfied: pytz>=2020.1 in /usr/local/lib/python3.8/dist-packages (from pandas->ggplot) (2022.1)\n",
      "Requirement already satisfied: python-dateutil>=2.8.1 in /usr/local/lib/python3.8/dist-packages (from pandas->ggplot) (2.8.2)\n",
      "Requirement already satisfied: packaging>=20.0 in /usr/local/lib/python3.8/dist-packages (from matplotlib->ggplot) (21.3)\n",
      "Requirement already satisfied: importlib-resources>=3.2.0; python_version < \"3.10\" in /usr/local/lib/python3.8/dist-packages (from matplotlib->ggplot) (5.7.1)\n",
      "Requirement already satisfied: contourpy>=1.0.1 in /usr/local/lib/python3.8/dist-packages (from matplotlib->ggplot) (1.0.6)\n",
      "Requirement already satisfied: pillow>=6.2.0 in /usr/local/lib/python3.8/dist-packages (from matplotlib->ggplot) (9.3.0)\n",
      "Requirement already satisfied: pyparsing>=2.3.1 in /usr/local/lib/python3.8/dist-packages (from matplotlib->ggplot) (2.4.7)\n",
      "Requirement already satisfied: kiwisolver>=1.0.1 in /usr/local/lib/python3.8/dist-packages (from matplotlib->ggplot) (1.4.4)\n",
      "Requirement already satisfied: fonttools>=4.22.0 in /usr/local/lib/python3.8/dist-packages (from matplotlib->ggplot) (4.39.4)\n",
      "Requirement already satisfied: zipp>=3.1.0; python_version < \"3.10\" in /usr/local/lib/python3.8/dist-packages (from importlib-resources>=3.2.0; python_version < \"3.10\"->matplotlib->ggplot) (3.8.0)\n"
     ]
    }
   ],
   "source": [
    "!pip3 install ggplot -i https://mirrors.huaweicloud.com/repository/pypi/simple"
   ]
  },
  {
   "cell_type": "code",
   "execution_count": 22,
   "id": "0c9c65d8",
   "metadata": {
    "scrolled": true
   },
   "outputs": [
    {
     "name": "stdout",
     "output_type": "stream",
     "text": [
      "Looking in indexes: https://mirrors.huaweicloud.com/repository/pypi/simple\n",
      "Requirement already satisfied: sympy in /usr/local/lib/python3.8/dist-packages (1.11.1)\n",
      "Requirement already satisfied: mpmath>=0.19 in /usr/local/lib/python3.8/dist-packages (from sympy) (1.2.1)\n"
     ]
    }
   ],
   "source": [
    "!pip3 install sympy -i https://mirrors.huaweicloud.com/repository/pypi/simple"
   ]
  },
  {
   "cell_type": "code",
   "execution_count": 23,
   "id": "3a4568dd",
   "metadata": {
    "scrolled": true
   },
   "outputs": [
    {
     "name": "stdout",
     "output_type": "stream",
     "text": [
      "Looking in indexes: https://mirrors.huaweicloud.com/repository/pypi/simple\n",
      "Collecting sentence-transformers\n",
      "  Using cached https://mirrors.huaweicloud.com/repository/pypi/packages/20/9c/f07bd70d128fdb107bc02a0c702b9058b4fe147d0ba67b5a0f4c3cf15a54/sentence-transformers-2.2.2.tar.gz (85 kB)\n",
      "Requirement already satisfied, skipping upgrade: huggingface-hub>=0.4.0 in /usr/local/lib/python3.8/dist-packages (from sentence-transformers) (0.15.1)\n",
      "Requirement already satisfied, skipping upgrade: nltk in /usr/local/lib/python3.8/dist-packages (from sentence-transformers) (3.8.1)\n",
      "Requirement already satisfied, skipping upgrade: numpy in /usr/local/lib/python3.8/dist-packages (from sentence-transformers) (1.24.2)\n",
      "Requirement already satisfied, skipping upgrade: scikit-learn in /usr/local/lib/python3.8/dist-packages (from sentence-transformers) (0.23.2)\n",
      "Requirement already satisfied, skipping upgrade: scipy in /usr/local/lib/python3.8/dist-packages (from sentence-transformers) (1.10.1)\n",
      "Requirement already satisfied, skipping upgrade: sentencepiece in /usr/local/lib/python3.8/dist-packages (from sentence-transformers) (0.1.99)\n",
      "Collecting torch>=1.6.0\n",
      "  Downloading https://mirrors.huaweicloud.com/repository/pypi/packages/96/28/026dc037f177d53558477931677b120f649dd5a0dcdc4b44dc38b3d75711/torch-2.0.1-cp38-cp38-manylinux1_x86_64.whl (619.9 MB)\n",
      "\u001b[K     |████████████████████████████████| 619.9 MB 1.2 MB/s eta 0:00:01    |▉                               | 15.3 MB 1.2 MB/s eta 0:08:18     |▉                               | 15.6 MB 917 kB/s eta 0:10:59     |█▏                              | 22.5 MB 988 kB/s eta 0:10:05     |█▎                              | 24.5 MB 971 kB/s eta 0:10:13     |█▍                              | 26.8 MB 1.2 MB/s eta 0:08:13     |█▋                              | 32.2 MB 1.3 MB/s eta 0:07:51     |█▊                              | 34.2 MB 1.3 MB/s eta 0:07:43     |██                              | 37.6 MB 1.2 MB/s eta 0:08:08     |██                              | 38.0 MB 1.2 MB/s eta 0:08:08     |██                              | 39.7 MB 933 kB/s eta 0:10:22     |██                              | 40.6 MB 765 kB/s eta 0:12:38     |██                              | 40.8 MB 765 kB/s eta 0:12:37     |██▊                             | 53.7 MB 1.2 MB/s eta 0:07:49     |███▊                            | 71.3 MB 1.8 MB/s eta 0:05:05     |███▉                            | 73.3 MB 3.6 MB/s eta 0:02:32     |███▉                            | 74.1 MB 1.1 MB/s eta 0:08:21     |████                            | 75.4 MB 1.3 MB/s eta 0:07:14     |████                            | 78.7 MB 896 kB/s eta 0:10:04     |████▉                           | 93.0 MB 1.2 MB/s eta 0:07:13     |████▉                           | 93.4 MB 1.2 MB/s eta 0:07:13     |███████████████▏                | 293.3 MB 1.8 MB/s eta 0:02:59     |█████████████████████████████▊  | 576.0 MB 1.9 MB/s eta 0:00:24     |███████████████████████████████▌| 610.0 MB 1.2 MB/s eta 0:00:09"
     ]
    }
   ],
   "source": [
    "!pip3 install -U sentence-transformers -i https://mirrors.huaweicloud.com/repository/pypi/simple"
   ]
  },
  {
   "cell_type": "code",
   "execution_count": 24,
   "id": "b7cdf4e4",
   "metadata": {
    "scrolled": true
   },
   "outputs": [
    {
     "name": "stdout",
     "output_type": "stream",
     "text": [
      "Looking in indexes: http://mirrors.cloud.aliyuncs.com/pypi/simple/\n",
      "Collecting datasets\n",
      "  Downloading http://mirrors.cloud.aliyuncs.com/pypi/packages/12/17/95e48481a826f85c918e0610257de493164096e29fe16ec408c0b862e057/datasets-2.13.1-py3-none-any.whl (486 kB)\n",
      "\u001b[K     |████████████████████████████████| 486 kB 19.0 MB/s eta 0:00:01\n",
      "\u001b[?25hRequirement already satisfied, skipping upgrade: packaging in /usr/local/lib/python3.8/dist-packages (from datasets) (21.3)\n",
      "Requirement already satisfied, skipping upgrade: requests>=2.19.0 in /usr/local/lib/python3.8/dist-packages (from datasets) (2.27.1)\n",
      "Requirement already satisfied, skipping upgrade: aiohttp in /usr/local/lib/python3.8/dist-packages (from datasets) (3.8.4)\n",
      "Requirement already satisfied, skipping upgrade: fsspec[http]>=2021.11.1 in /usr/local/lib/python3.8/dist-packages (from datasets) (2022.11.0)\n",
      "Requirement already satisfied, skipping upgrade: pandas in /usr/local/lib/python3.8/dist-packages (from datasets) (1.5.3)\n",
      "Requirement already satisfied, skipping upgrade: pyarrow>=8.0.0 in /usr/local/lib/python3.8/dist-packages (from datasets) (10.0.1)\n",
      "Requirement already satisfied, skipping upgrade: pyyaml>=5.1 in /usr/local/lib/python3.8/dist-packages (from datasets) (5.4.1)\n",
      "Requirement already satisfied, skipping upgrade: xxhash in /usr/local/lib/python3.8/dist-packages (from datasets) (3.0.0)\n",
      "Requirement already satisfied, skipping upgrade: tqdm>=4.62.1 in /usr/local/lib/python3.8/dist-packages (from datasets) (4.63.1)\n",
      "Requirement already satisfied, skipping upgrade: huggingface-hub<1.0.0,>=0.11.0 in /usr/local/lib/python3.8/dist-packages (from datasets) (0.15.1)\n",
      "Requirement already satisfied, skipping upgrade: numpy>=1.17 in /usr/local/lib/python3.8/dist-packages (from datasets) (1.24.2)\n",
      "Requirement already satisfied, skipping upgrade: dill<0.3.7,>=0.3.0 in /usr/local/lib/python3.8/dist-packages (from datasets) (0.3.1.1)\n",
      "Requirement already satisfied, skipping upgrade: multiprocess in /usr/local/lib/python3.8/dist-packages (from datasets) (0.70.12.2)\n",
      "Requirement already satisfied, skipping upgrade: pyparsing!=3.0.5,>=2.0.2 in /usr/local/lib/python3.8/dist-packages (from packaging->datasets) (2.4.7)\n",
      "Requirement already satisfied, skipping upgrade: certifi>=2017.4.17 in /usr/local/lib/python3.8/dist-packages (from requests>=2.19.0->datasets) (2020.12.5)\n",
      "Requirement already satisfied, skipping upgrade: urllib3<1.27,>=1.21.1 in /usr/local/lib/python3.8/dist-packages (from requests>=2.19.0->datasets) (1.26.9)\n",
      "Requirement already satisfied, skipping upgrade: charset-normalizer~=2.0.0; python_version >= \"3\" in /usr/local/lib/python3.8/dist-packages (from requests>=2.19.0->datasets) (2.0.12)\n",
      "Requirement already satisfied, skipping upgrade: idna<4,>=2.5; python_version >= \"3\" in /usr/local/lib/python3.8/dist-packages (from requests>=2.19.0->datasets) (3.3)\n",
      "Requirement already satisfied, skipping upgrade: aiosignal>=1.1.2 in /usr/local/lib/python3.8/dist-packages (from aiohttp->datasets) (1.3.1)\n",
      "Requirement already satisfied, skipping upgrade: yarl<2.0,>=1.0 in /usr/local/lib/python3.8/dist-packages (from aiohttp->datasets) (1.8.1)\n",
      "Requirement already satisfied, skipping upgrade: async-timeout<5.0,>=4.0.0a3 in /usr/local/lib/python3.8/dist-packages (from aiohttp->datasets) (4.0.2)\n",
      "Requirement already satisfied, skipping upgrade: frozenlist>=1.1.1 in /usr/local/lib/python3.8/dist-packages (from aiohttp->datasets) (1.3.3)\n",
      "Requirement already satisfied, skipping upgrade: attrs>=17.3.0 in /usr/local/lib/python3.8/dist-packages (from aiohttp->datasets) (20.3.0)\n",
      "Requirement already satisfied, skipping upgrade: multidict<7.0,>=4.5 in /usr/local/lib/python3.8/dist-packages (from aiohttp->datasets) (6.0.2)\n",
      "Requirement already satisfied, skipping upgrade: python-dateutil>=2.8.1 in /usr/local/lib/python3.8/dist-packages (from pandas->datasets) (2.8.2)\n",
      "Requirement already satisfied, skipping upgrade: pytz>=2020.1 in /usr/local/lib/python3.8/dist-packages (from pandas->datasets) (2022.1)\n",
      "Requirement already satisfied, skipping upgrade: typing-extensions>=3.7.4.3 in /usr/local/lib/python3.8/dist-packages (from huggingface-hub<1.0.0,>=0.11.0->datasets) (4.2.0)\n",
      "Requirement already satisfied, skipping upgrade: filelock in /usr/local/lib/python3.8/dist-packages (from huggingface-hub<1.0.0,>=0.11.0->datasets) (3.11.0)\n",
      "Requirement already satisfied, skipping upgrade: six>=1.5 in /usr/local/lib/python3.8/dist-packages (from python-dateutil>=2.8.1->pandas->datasets) (1.16.0)\n",
      "Installing collected packages: datasets\n",
      "  Attempting uninstall: datasets\n",
      "    Found existing installation: datasets 2.12.0\n",
      "    Uninstalling datasets-2.12.0:\n",
      "      Successfully uninstalled datasets-2.12.0\n",
      "Successfully installed datasets-2.13.1\n"
     ]
    }
   ],
   "source": [
    "!pip3 install -U datasets -i https://mirrors.huaweicloud.com/repository/pypi/simple"
   ]
  },
  {
   "cell_type": "code",
   "execution_count": 25,
   "id": "0f930c62",
   "metadata": {
    "scrolled": true
   },
   "outputs": [
    {
     "name": "stdout",
     "output_type": "stream",
     "text": [
      "Looking in indexes: https://mirrors.huaweicloud.com/repository/pypi/simple\n",
      "Collecting bertopic\n",
      "  Using cached https://mirrors.huaweicloud.com/repository/pypi/packages/5b/13/778fc89dbdfa9e60ea4ce3a7386f5fd132dbd49519c0f20f5737102f317c/bertopic-0.14.0-py2.py3-none-any.whl (119 kB)\n",
      "Collecting plotly>=4.7.0\n",
      "  Using cached https://mirrors.huaweicloud.com/repository/pypi/packages/15/5c/786e4572cf3217ba1707eeb99fe4bdb8fb138237690fa21641e341b1970c/plotly-5.14.1-py2.py3-none-any.whl (15.3 MB)\n",
      "Collecting hdbscan>=0.8.29\n",
      "  Using cached https://mirrors.huaweicloud.com/repository/pypi/packages/7d/bd/23cf643f0d5bb959d60b1f8bbd04df7f0e60317f2a7931b96d44c84fdbb3/hdbscan-0.8.29.tar.gz (5.2 MB)\n",
      "  Installing build dependencies ... \u001b[?25ldone\n",
      "\u001b[?25h  Getting requirements to build wheel ... \u001b[?25ldone\n",
      "\u001b[?25h    Preparing wheel metadata ... \u001b[?25ldone\n",
      "\u001b[?25hCollecting sentence-transformers>=0.4.1\n",
      "  Using cached https://mirrors.huaweicloud.com/repository/pypi/packages/20/9c/f07bd70d128fdb107bc02a0c702b9058b4fe147d0ba67b5a0f4c3cf15a54/sentence-transformers-2.2.2.tar.gz (85 kB)\n",
      "Requirement already satisfied, skipping upgrade: tqdm>=4.41.1 in /usr/local/lib/python3.8/dist-packages (from bertopic) (4.63.1)\n",
      "Requirement already satisfied, skipping upgrade: scikit-learn>=0.22.2.post1 in /usr/local/lib/python3.8/dist-packages (from bertopic) (0.23.2)\n",
      "Requirement already satisfied, skipping upgrade: pandas>=1.1.5 in /usr/local/lib/python3.8/dist-packages (from bertopic) (1.5.3)\n",
      "Collecting umap-learn>=0.5.0\n",
      "  Using cached https://mirrors.huaweicloud.com/repository/pypi/packages/e1/eb/dca6cfd872e8542fb57dd56ff2d5d67baed270aee6db739c6414d8d5b3b5/umap-learn-0.5.3.tar.gz (88 kB)\n",
      "Requirement already satisfied, skipping upgrade: numpy>=1.20.0 in /usr/local/lib/python3.8/dist-packages (from bertopic) (1.24.2)\n",
      "Requirement already satisfied, skipping upgrade: packaging in /usr/local/lib/python3.8/dist-packages (from plotly>=4.7.0->bertopic) (21.3)\n",
      "Requirement already satisfied, skipping upgrade: tenacity>=6.2.0 in /usr/local/lib/python3.8/dist-packages (from plotly>=4.7.0->bertopic) (8.0.1)\n",
      "Requirement already satisfied, skipping upgrade: scipy>=1.0 in /usr/local/lib/python3.8/dist-packages (from hdbscan>=0.8.29->bertopic) (1.10.1)\n",
      "Requirement already satisfied, skipping upgrade: cython>=0.27 in /usr/local/lib/python3.8/dist-packages (from hdbscan>=0.8.29->bertopic) (0.29.35)\n",
      "Requirement already satisfied, skipping upgrade: joblib>=1.0 in /usr/local/lib/python3.8/dist-packages (from hdbscan>=0.8.29->bertopic) (1.2.0)\n",
      "Requirement already satisfied, skipping upgrade: huggingface-hub>=0.4.0 in /usr/local/lib/python3.8/dist-packages (from sentence-transformers>=0.4.1->bertopic) (0.15.1)\n",
      "Requirement already satisfied, skipping upgrade: nltk in /usr/local/lib/python3.8/dist-packages (from sentence-transformers>=0.4.1->bertopic) (3.8.1)\n",
      "Requirement already satisfied, skipping upgrade: sentencepiece in /usr/local/lib/python3.8/dist-packages (from sentence-transformers>=0.4.1->bertopic) (0.1.99)\n",
      "Collecting torch>=1.6.0\n",
      "  Downloading https://mirrors.huaweicloud.com/repository/pypi/packages/96/28/026dc037f177d53558477931677b120f649dd5a0dcdc4b44dc38b3d75711/torch-2.0.1-cp38-cp38-manylinux1_x86_64.whl (619.9 MB)\n",
      "\u001b[K     |████████████████████████████████| 619.9 MB 1.0 MB/s eta 0:00:01   |▏                               | 3.3 MB 1.4 MB/s eta 0:07:19     |▌                               | 10.5 MB 1.5 MB/s eta 0:06:53     |▊                               | 14.9 MB 1.0 MB/s eta 0:10:02     |█▏                              | 23.3 MB 994 kB/s eta 0:10:01     |█▍                              | 27.6 MB 1.0 MB/s eta 0:09:39     |█▋                              | 31.7 MB 1.1 MB/s eta 0:09:08     |██                              | 40.5 MB 1.4 MB/s eta 0:06:40     |██▍                             | 47.0 MB 1.5 MB/s eta 0:06:29     |██▋                             | 50.7 MB 1.5 MB/s eta 0:06:21     |███▎                            | 63.4 MB 1.4 MB/s eta 0:06:29     |███▊                            | 72.0 MB 940 kB/s eta 0:09:43     |███▊                            | 72.1 MB 940 kB/s eta 0:09:43     |████                            | 75.8 MB 1.5 MB/s eta 0:05:55     |██████▌                         | 125.5 MB 1.5 MB/s eta 0:05:33     |███████▍                        | 142.6 MB 1.5 MB/s eta 0:05:23     |███████▍                        | 142.8 MB 1.5 MB/s eta 0:05:23     |███████▊                        | 149.9 MB 1.5 MB/s eta 0:05:14     |████████████▍                   | 239.0 MB 996 kB/s eta 0:06:23     |███████████████▊                | 303.7 MB 1.5 MB/s eta 0:03:36     |████████████████████████▋       | 476.0 MB 1.5 MB/s eta 0:01:37     |███████████████████████████     | 523.3 MB 1.3 MB/s eta 0:01:16"
     ]
    }
   ],
   "source": [
    "!pip3 install -U bertopic -i https://mirrors.huaweicloud.com/repository/pypi/simple"
   ]
  },
  {
   "cell_type": "code",
   "execution_count": 26,
   "id": "a6ceab46",
   "metadata": {
    "scrolled": true
   },
   "outputs": [
    {
     "name": "stdout",
     "output_type": "stream",
     "text": [
      "Looking in indexes: https://mirrors.huaweicloud.com/repository/pypi/simple\n",
      "Requirement already up-to-date: transformers in /usr/local/lib/python3.8/dist-packages (4.30.2)\n",
      "Requirement already satisfied, skipping upgrade: numpy>=1.17 in /usr/local/lib/python3.8/dist-packages (from transformers) (1.24.2)\n",
      "Requirement already satisfied, skipping upgrade: huggingface-hub<1.0,>=0.14.1 in /usr/local/lib/python3.8/dist-packages (from transformers) (0.15.1)\n",
      "Requirement already satisfied, skipping upgrade: safetensors>=0.3.1 in /usr/local/lib/python3.8/dist-packages (from transformers) (0.3.1)\n",
      "Requirement already satisfied, skipping upgrade: filelock in /usr/local/lib/python3.8/dist-packages (from transformers) (3.11.0)\n",
      "Requirement already satisfied, skipping upgrade: packaging>=20.0 in /usr/local/lib/python3.8/dist-packages (from transformers) (21.3)\n",
      "Requirement already satisfied, skipping upgrade: requests in /usr/local/lib/python3.8/dist-packages (from transformers) (2.27.1)\n",
      "Requirement already satisfied, skipping upgrade: pyyaml>=5.1 in /usr/local/lib/python3.8/dist-packages (from transformers) (5.4.1)\n",
      "Requirement already satisfied, skipping upgrade: tokenizers!=0.11.3,<0.14,>=0.11.1 in /usr/local/lib/python3.8/dist-packages (from transformers) (0.13.3)\n",
      "Requirement already satisfied, skipping upgrade: tqdm>=4.27 in /usr/local/lib/python3.8/dist-packages (from transformers) (4.63.1)\n",
      "Requirement already satisfied, skipping upgrade: regex!=2019.12.17 in /usr/local/lib/python3.8/dist-packages (from transformers) (2023.5.5)\n",
      "Requirement already satisfied, skipping upgrade: fsspec in /usr/local/lib/python3.8/dist-packages (from huggingface-hub<1.0,>=0.14.1->transformers) (2022.11.0)\n",
      "Requirement already satisfied, skipping upgrade: typing-extensions>=3.7.4.3 in /usr/local/lib/python3.8/dist-packages (from huggingface-hub<1.0,>=0.14.1->transformers) (4.2.0)\n",
      "Requirement already satisfied, skipping upgrade: pyparsing!=3.0.5,>=2.0.2 in /usr/local/lib/python3.8/dist-packages (from packaging>=20.0->transformers) (2.4.7)\n",
      "Requirement already satisfied, skipping upgrade: charset-normalizer~=2.0.0; python_version >= \"3\" in /usr/local/lib/python3.8/dist-packages (from requests->transformers) (2.0.12)\n",
      "Requirement already satisfied, skipping upgrade: certifi>=2017.4.17 in /usr/local/lib/python3.8/dist-packages (from requests->transformers) (2020.12.5)\n",
      "Requirement already satisfied, skipping upgrade: idna<4,>=2.5; python_version >= \"3\" in /usr/local/lib/python3.8/dist-packages (from requests->transformers) (3.3)\n",
      "Requirement already satisfied, skipping upgrade: urllib3<1.27,>=1.21.1 in /usr/local/lib/python3.8/dist-packages (from requests->transformers) (1.26.9)\n"
     ]
    }
   ],
   "source": [
    "!pip3 install -U transformers -i https://mirrors.huaweicloud.com/repository/pypi/simple"
   ]
  },
  {
   "cell_type": "code",
   "execution_count": 27,
   "id": "a6951236",
   "metadata": {
    "scrolled": true
   },
   "outputs": [
    {
     "name": "stdout",
     "output_type": "stream",
     "text": [
      "Looking in indexes: https://mirrors.huaweicloud.com/repository/pypi/simple\n",
      "Requirement already up-to-date: librosa in /usr/local/lib/python3.8/dist-packages (0.10.0.post2)\n",
      "Requirement already satisfied, skipping upgrade: joblib>=0.14 in /usr/local/lib/python3.8/dist-packages (from librosa) (1.2.0)\n",
      "Requirement already satisfied, skipping upgrade: pooch<1.7,>=1.0 in /usr/local/lib/python3.8/dist-packages (from librosa) (1.6.0)\n",
      "Requirement already satisfied, skipping upgrade: soxr>=0.3.2 in /usr/local/lib/python3.8/dist-packages (from librosa) (0.3.3)\n",
      "Requirement already satisfied, skipping upgrade: audioread>=2.1.9 in /usr/local/lib/python3.8/dist-packages (from librosa) (3.0.0)\n",
      "Requirement already satisfied, skipping upgrade: scipy>=1.2.0 in /usr/local/lib/python3.8/dist-packages (from librosa) (1.10.1)\n",
      "Requirement already satisfied, skipping upgrade: lazy-loader>=0.1 in /usr/local/lib/python3.8/dist-packages (from librosa) (0.2)\n",
      "Requirement already satisfied, skipping upgrade: decorator>=4.3.0 in /usr/local/lib/python3.8/dist-packages (from librosa) (5.1.1)\n",
      "Requirement already satisfied, skipping upgrade: numpy!=1.22.0,!=1.22.1,!=1.22.2,>=1.20.3 in /usr/local/lib/python3.8/dist-packages (from librosa) (1.24.2)\n",
      "Requirement already satisfied, skipping upgrade: msgpack>=1.0 in /usr/local/lib/python3.8/dist-packages (from librosa) (1.0.4)\n",
      "Requirement already satisfied, skipping upgrade: numba>=0.51.0 in /usr/local/lib/python3.8/dist-packages (from librosa) (0.56.4)\n",
      "Requirement already satisfied, skipping upgrade: scikit-learn>=0.20.0 in /usr/local/lib/python3.8/dist-packages (from librosa) (0.23.2)\n",
      "Requirement already satisfied, skipping upgrade: soundfile>=0.12.1 in /usr/local/lib/python3.8/dist-packages (from librosa) (0.12.1)\n",
      "Requirement already satisfied, skipping upgrade: typing-extensions>=4.1.1 in /usr/local/lib/python3.8/dist-packages (from librosa) (4.2.0)\n",
      "Requirement already satisfied, skipping upgrade: packaging>=20.0 in /usr/local/lib/python3.8/dist-packages (from pooch<1.7,>=1.0->librosa) (21.3)\n",
      "Requirement already satisfied, skipping upgrade: appdirs>=1.3.0 in /usr/local/lib/python3.8/dist-packages (from pooch<1.7,>=1.0->librosa) (1.4.4)\n",
      "Requirement already satisfied, skipping upgrade: requests>=2.19.0 in /usr/local/lib/python3.8/dist-packages (from pooch<1.7,>=1.0->librosa) (2.27.1)\n",
      "Requirement already satisfied, skipping upgrade: llvmlite<0.40,>=0.39.0dev0 in /usr/local/lib/python3.8/dist-packages (from numba>=0.51.0->librosa) (0.39.0)\n",
      "Requirement already satisfied, skipping upgrade: importlib-metadata; python_version < \"3.9\" in /usr/local/lib/python3.8/dist-packages (from numba>=0.51.0->librosa) (4.11.4)\n",
      "Requirement already satisfied, skipping upgrade: setuptools in /usr/lib/python3/dist-packages (from numba>=0.51.0->librosa) (45.2.0)\n",
      "Requirement already satisfied, skipping upgrade: threadpoolctl>=2.0.0 in /usr/local/lib/python3.8/dist-packages (from scikit-learn>=0.20.0->librosa) (3.1.0)\n",
      "Requirement already satisfied, skipping upgrade: cffi>=1.0 in /usr/local/lib/python3.8/dist-packages (from soundfile>=0.12.1->librosa) (1.15.0)\n",
      "Requirement already satisfied, skipping upgrade: pyparsing!=3.0.5,>=2.0.2 in /usr/local/lib/python3.8/dist-packages (from packaging>=20.0->pooch<1.7,>=1.0->librosa) (2.4.7)\n",
      "Requirement already satisfied, skipping upgrade: urllib3<1.27,>=1.21.1 in /usr/local/lib/python3.8/dist-packages (from requests>=2.19.0->pooch<1.7,>=1.0->librosa) (1.26.9)\n",
      "Requirement already satisfied, skipping upgrade: charset-normalizer~=2.0.0; python_version >= \"3\" in /usr/local/lib/python3.8/dist-packages (from requests>=2.19.0->pooch<1.7,>=1.0->librosa) (2.0.12)\n",
      "Requirement already satisfied, skipping upgrade: idna<4,>=2.5; python_version >= \"3\" in /usr/local/lib/python3.8/dist-packages (from requests>=2.19.0->pooch<1.7,>=1.0->librosa) (3.3)\n",
      "Requirement already satisfied, skipping upgrade: certifi>=2017.4.17 in /usr/local/lib/python3.8/dist-packages (from requests>=2.19.0->pooch<1.7,>=1.0->librosa) (2020.12.5)\n",
      "Requirement already satisfied, skipping upgrade: zipp>=0.5 in /usr/local/lib/python3.8/dist-packages (from importlib-metadata; python_version < \"3.9\"->numba>=0.51.0->librosa) (3.8.0)\n",
      "Requirement already satisfied, skipping upgrade: pycparser in /usr/local/lib/python3.8/dist-packages (from cffi>=1.0->soundfile>=0.12.1->librosa) (2.21)\n"
     ]
    }
   ],
   "source": [
    "!pip3 install -U librosa -i https://mirrors.huaweicloud.com/repository/pypi/simple"
   ]
  },
  {
   "cell_type": "code",
   "execution_count": 28,
   "id": "c75b54f0",
   "metadata": {
    "scrolled": true
   },
   "outputs": [
    {
     "name": "stdout",
     "output_type": "stream",
     "text": [
      "Looking in indexes: https://mirrors.huaweicloud.com/repository/pypi/simple\n",
      "Requirement already up-to-date: jiwer in /usr/local/lib/python3.8/dist-packages (3.0.1)\n",
      "Requirement already satisfied, skipping upgrade: rapidfuzz==2.13.7 in /usr/local/lib/python3.8/dist-packages (from jiwer) (2.13.7)\n",
      "Requirement already satisfied, skipping upgrade: click<9.0.0,>=8.1.3 in /usr/local/lib/python3.8/dist-packages (from jiwer) (8.1.3)\n"
     ]
    }
   ],
   "source": [
    "!pip3 install -U jiwer -i https://mirrors.huaweicloud.com/repository/pypi/simple"
   ]
  },
  {
   "cell_type": "code",
   "execution_count": 29,
   "id": "a9d19933",
   "metadata": {
    "scrolled": true
   },
   "outputs": [
    {
     "name": "stdout",
     "output_type": "stream",
     "text": [
      "Looking in indexes: https://mirrors.huaweicloud.com/repository/pypi/simple\n",
      "Collecting torchaudio\n",
      "  Using cached https://mirrors.huaweicloud.com/repository/pypi/packages/78/12/da7ba3468bfe2940b5d88e5690a6f9ab23df3ee266e5b352b8dbe85f30b9/torchaudio-2.0.1-cp38-cp38-manylinux1_x86_64.whl (4.4 MB)\n",
      "Collecting torch==2.0.0\n",
      "  Downloading https://mirrors.huaweicloud.com/repository/pypi/packages/89/5a/0d017d8d45cc309f9de8e5b8edc9b6b204d8c47936a3f2b84cf01650cf98/torch-2.0.0-cp38-cp38-manylinux1_x86_64.whl (619.9 MB)\n",
      "\u001b[K     |████████████████████████████████| 619.9 MB 1.2 MB/s eta 0:00:01   |                                | 215 kB 1.8 MB/s eta 0:05:43     |▏                               | 4.3 MB 1.2 MB/s eta 0:08:41     |▎                               | 6.2 MB 880 kB/s eta 0:11:37     |▍                               | 7.0 MB 1.3 MB/s eta 0:08:10     |▌                               | 10.7 MB 1.1 MB/s eta 0:09:04     |▊                               | 13.3 MB 1.1 MB/s eta 0:09:16     |▊                               | 14.7 MB 1.2 MB/s eta 0:08:44     |█                               | 19.1 MB 1.2 MB/s eta 0:08:26     |█▏                              | 22.1 MB 1.2 MB/s eta 0:08:36     |█▋                              | 31.2 MB 1.2 MB/s eta 0:08:18     |█▋                              | 31.5 MB 1.2 MB/s eta 0:08:18     |█▊                              | 32.7 MB 1.2 MB/s eta 0:08:19     |█▊                              | 33.2 MB 1.3 MB/s eta 0:07:47     |█▊                              | 33.6 MB 1.3 MB/s eta 0:07:46     |█▊                              | 34.2 MB 977 kB/s eta 0:10:00     |██                              | 39.2 MB 1.2 MB/s eta 0:08:04     |██                              | 39.5 MB 1.2 MB/s eta 0:08:04     |██▍                             | 46.9 MB 1.2 MB/s eta 0:08:08     |██▋                             | 49.6 MB 1.3 MB/s eta 0:07:29     |██▉                             | 54.5 MB 704 kB/s eta 0:13:23     |███                             | 59.6 MB 900 kB/s eta 0:10:22     |████▍                           | 85.1 MB 1.2 MB/s eta 0:07:33     |████▍                           | 85.3 MB 1.2 MB/s eta 0:07:33     |██████                          | 116.0 MB 1.2 MB/s eta 0:06:54     |██████                          | 116.8 MB 1.2 MB/s eta 0:06:53     |██████▍                         | 123.0 MB 1.2 MB/s eta 0:06:50     |██████▍                         | 123.4 MB 1.8 MB/s eta 0:04:39     |██████▍                         | 123.7 MB 1.8 MB/s eta 0:04:39     |██████▍                         | 123.7 MB 1.8 MB/s eta 0:04:39     |██████▊                         | 129.6 MB 3.5 MB/s eta 0:02:19     |██████▉                         | 132.2 MB 1.2 MB/s eta 0:06:47     |███████                         | 134.8 MB 932 kB/s eta 0:08:40     |███████                         | 136.0 MB 932 kB/s eta 0:08:39     |████████▊                       | 167.9 MB 443 kB/s eta 0:17:00     |████████▊                       | 169.4 MB 1.2 MB/s eta 0:06:13     |█████████▎                      | 179.1 MB 495 kB/s eta 0:14:50     |█████████▋                      | 187.0 MB 950 kB/s eta 0:07:36     |█████████▊                      | 187.3 MB 950 kB/s eta 0:07:36     |█████████▉                      | 191.2 MB 1.2 MB/s eta 0:06:03     |██████████▍                     | 201.2 MB 1.4 MB/s eta 0:05:04     |██████████▍                     | 201.9 MB 939 kB/s eta 0:07:25     |██████████▌                     | 204.3 MB 1.2 MB/s eta 0:05:35     |██████████▋                     | 205.4 MB 1.3 MB/s eta 0:05:18     |██████████▉                     | 209.8 MB 1.2 MB/s eta 0:05:40     |███████████▏                    | 216.1 MB 1.3 MB/s eta 0:05:21     |███████████▌                    | 221.8 MB 578 kB/s eta 0:11:29     |███████████▌                    | 221.9 MB 578 kB/s eta 0:11:29     |████████████                    | 231.7 MB 1.2 MB/s eta 0:05:32     |████████████▏                   | 235.3 MB 583 kB/s eta 0:10:59     |████████████▎                   | 236.8 MB 1.3 MB/s eta 0:05:05     |█████████████▍                  | 258.5 MB 1.2 MB/s eta 0:05:04     |█████████████▌                  | 260.8 MB 588 kB/s eta 0:10:10     |█████████████▊                  | 265.0 MB 582 kB/s eta 0:10:10     |██████████████                  | 270.6 MB 1.2 MB/s eta 0:04:58     |██████████████▎                 | 276.9 MB 1.2 MB/s eta 0:04:45     |██████████████▌                 | 281.8 MB 947 kB/s eta 0:05:57     |██████████████▊                 | 285.6 MB 1.2 MB/s eta 0:04:40     |███████████████▏                | 294.5 MB 1.3 MB/s eta 0:04:17     |███████████████▍                | 297.5 MB 594 kB/s eta 0:09:03     |████████████████▏               | 313.7 MB 1.2 MB/s eta 0:04:21     |██████████████████▍             | 357.0 MB 607 kB/s eta 0:07:13MB 435 kB/s eta 0:06:40███████▍| 608.4 MB 1.2 MB/s eta 0:00:10"
     ]
    }
   ],
   "source": [
    "!pip3 install -U torchaudio -i https://mirrors.huaweicloud.com/repository/pypi/simple"
   ]
  },
  {
   "cell_type": "code",
   "execution_count": 30,
   "id": "88eee947",
   "metadata": {
    "scrolled": true
   },
   "outputs": [
    {
     "name": "stdout",
     "output_type": "stream",
     "text": [
      "Looking in indexes: https://mirrors.huaweicloud.com/repository/pypi/simple\n",
      "Requirement already up-to-date: sentencepiece in /usr/local/lib/python3.8/dist-packages (0.1.99)\n"
     ]
    }
   ],
   "source": [
    "!pip3 install -U sentencepiece -i https://mirrors.huaweicloud.com/repository/pypi/simple"
   ]
  },
  {
   "cell_type": "code",
   "execution_count": 31,
   "id": "1b85fd8d",
   "metadata": {
    "scrolled": true
   },
   "outputs": [
    {
     "name": "stdout",
     "output_type": "stream",
     "text": [
      "Looking in indexes: https://mirrors.huaweicloud.com/repository/pypi/simple\n",
      "Collecting ogb\n",
      "  Using cached https://mirrors.huaweicloud.com/repository/pypi/packages/75/b1/33a442a945188c5d1cf3d87487f30a7fce9775b73c119149c0f708aa3caa/ogb-1.3.5-py3-none-any.whl (78 kB)\n",
      "Requirement already satisfied: pandas>=0.24.0 in /usr/local/lib/python3.8/dist-packages (from ogb) (1.5.3)\n",
      "Collecting outdated>=0.2.0\n",
      "  Using cached https://mirrors.huaweicloud.com/repository/pypi/packages/d3/04/7d2b9a0d1b81e30f39e6f358bac01f4f18b585f35b0ffc5c83fc274f146b/outdated-0.2.2-py2.py3-none-any.whl (7.5 kB)\n",
      "Collecting torch>=1.6.0\n",
      "  Downloading https://mirrors.huaweicloud.com/repository/pypi/packages/96/28/026dc037f177d53558477931677b120f649dd5a0dcdc4b44dc38b3d75711/torch-2.0.1-cp38-cp38-manylinux1_x86_64.whl (619.9 MB)\n",
      "\u001b[K     |████████████▏                   | 235.5 MB 1.5 MB/s eta 0:04:19^C |                                | 71 kB 2.6 MB/s eta 0:03:56     |                                | 1.9 MB 1.9 MB/s eta 0:05:24     |▏                               | 2.2 MB 1.9 MB/s eta 0:05:24     |▍                               | 7.8 MB 1.2 MB/s eta 0:08:21     |▍                               | 8.6 MB 1.2 MB/s eta 0:08:20     |▋                               | 11.7 MB 1.2 MB/s eta 0:08:18     |▊                               | 13.1 MB 916 kB/s eta 0:11:03     |█                               | 19.6 MB 1.2 MB/s eta 0:08:14     |█▏                              | 21.7 MB 897 kB/s eta 0:11:07     |█▎                              | 24.7 MB 1.3 MB/s eta 0:07:38     |█▎                              | 25.8 MB 1.2 MB/s eta 0:08:09     |█▎                              | 25.8 MB 1.2 MB/s eta 0:08:09     |█▍                              | 26.2 MB 1.2 MB/s eta 0:08:09     |█▌                              | 29.6 MB 1.2 MB/s eta 0:08:05     |█▋                              | 30.3 MB 1.2 MB/s eta 0:08:04     |█▋                              | 31.4 MB 1.3 MB/s eta 0:07:40     |██                              | 37.3 MB 1.2 MB/s eta 0:07:56     |██▍                             | 45.6 MB 1.2 MB/s eta 0:08:00     |██▍                             | 46.1 MB 1.2 MB/s eta 0:08:00     |██▌                             | 48.3 MB 1.2 MB/s eta 0:07:48     |██▋                             | 50.2 MB 1.2 MB/s eta 0:07:46     |██▋                             | 51.6 MB 1.2 MB/s eta 0:07:48     |███                             | 56.5 MB 1.3 MB/s eta 0:07:12     |███                             | 58.2 MB 1.2 MB/s eta 0:07:44     |███▎                            | 63.3 MB 1.2 MB/s eta 0:07:43     |███▎                            | 64.2 MB 1.2 MB/s eta 0:07:43     |███▍                            | 64.7 MB 960 kB/s eta 0:09:39     |███▉                            | 73.8 MB 1.3 MB/s eta 0:07:15     |████                            | 75.6 MB 1.2 MB/s eta 0:07:27     |████                            | 76.3 MB 923 kB/s eta 0:09:49     |████▎                           | 82.1 MB 916 kB/s eta 0:09:47     |████▎                           | 83.9 MB 1.2 MB/s eta 0:07:16     |█████▌                          | 107.2 MB 920 kB/s eta 0:09:17     |█████▋                          | 108.0 MB 1.2 MB/s eta 0:07:07     |█████▋                          | 108.3 MB 1.2 MB/s eta 0:07:07     |█████▉                          | 113.8 MB 946 kB/s eta 0:08:55     |██████▏                         | 120.5 MB 366 kB/s eta 0:22:45     |██████▎                         | 122.4 MB 914 kB/s eta 0:09:04     |██████▍                         | 123.8 MB 1.4 MB/s eta 0:06:02     |██████▍                         | 123.9 MB 1.4 MB/s eta 0:06:02     |██████▌                         | 126.4 MB 1.2 MB/s eta 0:06:40     |██████▋                         | 129.0 MB 1.2 MB/s eta 0:06:44     |██████▉                         | 132.1 MB 1.2 MB/s eta 0:06:41     |██████▉                         | 132.4 MB 1.2 MB/s eta 0:06:39     |██████▉                         | 132.8 MB 1.2 MB/s eta 0:06:39     |███████                         | 134.8 MB 995 kB/s eta 0:08:08     |███████▏                        | 139.0 MB 1.1 MB/s eta 0:07:38     |███████▎                        | 141.3 MB 1.4 MB/s eta 0:05:40     |███████▍                        | 142.3 MB 1.4 MB/s eta 0:05:40     |███████▍                        | 143.0 MB 1.2 MB/s eta 0:06:32     |███████▌                        | 145.6 MB 1.1 MB/s eta 0:07:21     |███████▋                        | 146.4 MB 1.8 MB/s eta 0:04:17     |███████▋                        | 146.9 MB 1.8 MB/s eta 0:04:17     |████████▎                       | 160.9 MB 1.2 MB/s eta 0:06:16     |████████▋                       | 166.1 MB 1.2 MB/s eta 0:06:14     |████████▊                       | 169.1 MB 602 kB/s eta 0:12:29     |█████████▊                      | 187.9 MB 1.8 MB/s eta 0:03:56     |█████████▉                      | 189.5 MB 915 kB/s eta 0:07:51     |█████████▉                      | 190.1 MB 1.4 MB/s eta 0:05:07     |██████████                      | 193.7 MB 1.2 MB/s eta 0:05:46     |██████████▍                     | 200.5 MB 1.2 MB/s eta 0:05:49     |███████████                     | 212.3 MB 1.2 MB/s eta 0:05:35     |███████████▌                    | 223.1 MB 1.2 MB/s eta 0:05:21     |███████████▋                    | 224.1 MB 1.2 MB/s eta 0:05:20     |███████████▋                    | 224.7 MB 1.2 MB/s eta 0:05:25     |███████████▋                    | 225.0 MB 1.2 MB/s eta 0:05:25     |███████████▉                    | 229.5 MB 1.4 MB/s eta 0:04:42     |████████████                    | 231.3 MB 1.4 MB/s eta 0:04:32     |████████████▏                   | 235.2 MB 1.4 MB/s eta 0:04:43     |████████████▏                   | 235.3 MB 1.5 MB/s eta 0:04:19\n",
      "\n",
      "\u001b[31mERROR: Operation cancelled by user\u001b[0m\n",
      "\u001b[?25h"
     ]
    }
   ],
   "source": [
    "!pip3 install ogb -i https://mirrors.huaweicloud.com/repository/pypi/simple"
   ]
  },
  {
   "cell_type": "code",
   "execution_count": null,
   "id": "75615e08",
   "metadata": {
    "scrolled": true
   },
   "outputs": [],
   "source": [
    "!pip3 install torch_geometric -i https://mirrors.huaweicloud.com/repository/pypi/simple"
   ]
  },
  {
   "cell_type": "code",
   "execution_count": null,
   "id": "31b2bbf1",
   "metadata": {
    "scrolled": true
   },
   "outputs": [],
   "source": [
    "!pip3 install fasttext -i https://mirrors.huaweicloud.com/repository/pypi/simple"
   ]
  },
  {
   "cell_type": "code",
   "execution_count": null,
   "id": "90bde159",
   "metadata": {
    "scrolled": true
   },
   "outputs": [],
   "source": [
    "!pip3 install communities -i https://mirrors.huaweicloud.com/repository/pypi/simple"
   ]
  },
  {
   "cell_type": "code",
   "execution_count": null,
   "id": "86d2780a",
   "metadata": {
    "scrolled": true
   },
   "outputs": [],
   "source": [
    "!pip3 install stellargraph -i https://mirrors.huaweicloud.com/repository/pypi/simple"
   ]
  },
  {
   "cell_type": "code",
   "execution_count": null,
   "id": "ac2f8cef",
   "metadata": {
    "scrolled": true
   },
   "outputs": [],
   "source": [
    "!pip3 install geopandas -i https://mirrors.huaweicloud.com/repository/pypi/simple"
   ]
  },
  {
   "cell_type": "code",
   "execution_count": null,
   "id": "573e0416",
   "metadata": {
    "scrolled": true
   },
   "outputs": [],
   "source": [
    "!pip3 install rasterio -i https://mirrors.huaweicloud.com/repository/pypi/simple"
   ]
  },
  {
   "cell_type": "code",
   "execution_count": null,
   "id": "3d8e8abc",
   "metadata": {
    "scrolled": true
   },
   "outputs": [],
   "source": [
    "!pip3 install kashgari -i https://mirrors.huaweicloud.com/repository/pypi/simple"
   ]
  },
  {
   "cell_type": "code",
   "execution_count": null,
   "id": "6187cab5",
   "metadata": {
    "scrolled": true
   },
   "outputs": [],
   "source": [
    "!pip3 install tensorflow_addons==0.13.0  -i https://mirrors.huaweicloud.com/repository/pypi/simple"
   ]
  },
  {
   "cell_type": "code",
   "execution_count": null,
   "id": "837129bf",
   "metadata": {
    "scrolled": true
   },
   "outputs": [],
   "source": [
    "!pip3 install sklearn_crfsuite -i https://mirrors.huaweicloud.com/repository/pypi/simple"
   ]
  },
  {
   "cell_type": "code",
   "execution_count": null,
   "id": "321751df",
   "metadata": {
    "scrolled": true
   },
   "outputs": [],
   "source": [
    "#error !pip3 install pyachocorasick -i https://mirrors.huaweicloud.com/repository/pypi/simple"
   ]
  },
  {
   "cell_type": "code",
   "execution_count": null,
   "id": "cb58e65b",
   "metadata": {
    "scrolled": true
   },
   "outputs": [],
   "source": [
    "#error !pip3 install ahocorasick -i https://mirrors.huaweicloud.com/repository/pypi/simple"
   ]
  },
  {
   "cell_type": "code",
   "execution_count": null,
   "id": "12141e08",
   "metadata": {
    "scrolled": true
   },
   "outputs": [],
   "source": [
    "!pip3 install pyltp -i https://mirrors.huaweicloud.com/repository/pypi/simple"
   ]
  },
  {
   "cell_type": "code",
   "execution_count": null,
   "id": "47df91d1",
   "metadata": {
    "scrolled": true
   },
   "outputs": [],
   "source": [
    "!pip3 install eli5 -i https://mirrors.huaweicloud.com/repository/pypi/simple"
   ]
  },
  {
   "cell_type": "code",
   "execution_count": null,
   "id": "4e81162b",
   "metadata": {
    "scrolled": true
   },
   "outputs": [],
   "source": [
    "!pip3 install wordcloud -i https://mirrors.huaweicloud.com/repository/pypi/simple"
   ]
  },
  {
   "cell_type": "code",
   "execution_count": null,
   "id": "128a7682",
   "metadata": {
    "scrolled": true
   },
   "outputs": [],
   "source": [
    "!pip3 install fastai -i https://mirrors.huaweicloud.com/repository/pypi/simple"
   ]
  },
  {
   "cell_type": "code",
   "execution_count": null,
   "id": "4aad9eac",
   "metadata": {
    "scrolled": true
   },
   "outputs": [],
   "source": [
    "!pip3 install txtai -i https://mirrors.huaweicloud.com/repository/pypi/simple"
   ]
  },
  {
   "cell_type": "code",
   "execution_count": null,
   "id": "41731360",
   "metadata": {
    "scrolled": true
   },
   "outputs": [],
   "source": [
    "!pip3 install pyg-lib torch-scatter torch-sparse -f https://data.pyg.org/whl/torch-1.13.0+cpu.html"
   ]
  },
  {
   "cell_type": "code",
   "execution_count": null,
   "id": "bcfa1468",
   "metadata": {
    "scrolled": true
   },
   "outputs": [],
   "source": [
    "!pip3 install torch-geometric -i https://mirrors.huaweicloud.com/repository/pypi/simple"
   ]
  }
 ],
 "metadata": {
  "hide_input": false,
  "kernelspec": {
   "display_name": "Python 3 (ipykernel)",
   "language": "python",
   "name": "python3"
  },
  "language_info": {
   "codemirror_mode": {
    "name": "ipython",
    "version": 3
   },
   "file_extension": ".py",
   "mimetype": "text/x-python",
   "name": "python",
   "nbconvert_exporter": "python",
   "pygments_lexer": "ipython3",
   "version": "3.8.10"
  },
  "toc": {
   "base_numbering": 1,
   "nav_menu": {},
   "number_sections": true,
   "sideBar": true,
   "skip_h1_title": false,
   "title_cell": "Table of Contents",
   "title_sidebar": "Contents",
   "toc_cell": false,
   "toc_position": {},
   "toc_section_display": true,
   "toc_window_display": false
  }
 },
 "nbformat": 4,
 "nbformat_minor": 5
}
