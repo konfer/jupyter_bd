{
 "cells": [
  {
   "cell_type": "code",
   "execution_count": null,
   "id": "d7a03c39",
   "metadata": {},
   "outputs": [],
   "source": [
    "!pip3 install spacy -i https://mirrors.huaweicloud.com/repository/pypi/simple"
   ]
  },
  {
   "cell_type": "code",
   "execution_count": null,
   "id": "42d098fd",
   "metadata": {},
   "outputs": [],
   "source": [
    "!pip3 install sklearn -i https://mirrors.huaweicloud.com/repository/pypi/simple"
   ]
  },
  {
   "cell_type": "code",
   "execution_count": null,
   "id": "bb99aa8b",
   "metadata": {},
   "outputs": [],
   "source": [
    "!pip3 install pandas -i https://mirrors.huaweicloud.com/repository/pypi/simple"
   ]
  },
  {
   "cell_type": "code",
   "execution_count": null,
   "id": "d990365a",
   "metadata": {},
   "outputs": [],
   "source": [
    "!pip3 install py2neo -i https://mirrors.huaweicloud.com/repository/pypi/simple"
   ]
  },
  {
   "cell_type": "code",
   "execution_count": null,
   "id": "64ea0f21",
   "metadata": {},
   "outputs": [],
   "source": [
    "!pip3 install tqdm -i https://mirrors.huaweicloud.com/repository/pypi/simple"
   ]
  },
  {
   "cell_type": "code",
   "execution_count": null,
   "id": "c43dc8e1",
   "metadata": {},
   "outputs": [],
   "source": [
    "!pip3 install seaborn -i https://mirrors.huaweicloud.com/repository/pypi/simple/"
   ]
  },
  {
   "cell_type": "code",
   "execution_count": null,
   "id": "b269a2b4",
   "metadata": {},
   "outputs": [],
   "source": [
    "!pip3 install numpy -i https://mirrors.huaweicloud.com/repository/pypi/simple"
   ]
  },
  {
   "cell_type": "code",
   "execution_count": null,
   "id": "b924a382",
   "metadata": {},
   "outputs": [],
   "source": [
    "!pip3 install matplotlib -i https://mirrors.huaweicloud.com/repository/pypi/simple"
   ]
  },
  {
   "cell_type": "code",
   "execution_count": null,
   "id": "0ab6e49f",
   "metadata": {},
   "outputs": [],
   "source": [
    "!pip3 install tensorflow -i https://mirrors.huaweicloud.com/repository/pypi/simple"
   ]
  },
  {
   "cell_type": "code",
   "execution_count": null,
   "id": "4c55c886",
   "metadata": {},
   "outputs": [],
   "source": [
    "!pip3 install pillow -i https://mirrors.huaweicloud.com/repository/pypi/simple"
   ]
  },
  {
   "cell_type": "code",
   "execution_count": null,
   "id": "ca8dc866",
   "metadata": {},
   "outputs": [],
   "source": [
    "!pip3 install datetime -i https://mirrors.huaweicloud.com/repository/pypi/simple"
   ]
  },
  {
   "cell_type": "code",
   "execution_count": null,
   "id": "7c40c8b9",
   "metadata": {},
   "outputs": [],
   "source": [
    "!pip3 install missingno -i https://mirrors.huaweicloud.com/repository/pypi/simple"
   ]
  },
  {
   "cell_type": "code",
   "execution_count": null,
   "id": "4f2de9af",
   "metadata": {},
   "outputs": [],
   "source": [
    "!pip3 install h5py -i https://mirrors.huaweicloud.com/repository/pypi/simple"
   ]
  },
  {
   "cell_type": "code",
   "execution_count": null,
   "id": "ed8549da",
   "metadata": {},
   "outputs": [],
   "source": [
    "!pip3 install scipy -i https://mirrors.huaweicloud.com/repository/pypi/simple"
   ]
  },
  {
   "cell_type": "code",
   "execution_count": null,
   "id": "8e48ef70",
   "metadata": {},
   "outputs": [],
   "source": [
    "!pip3 install xgboost -i https://mirrors.huaweicloud.com/repository/pypi/simple"
   ]
  },
  {
   "cell_type": "code",
   "execution_count": null,
   "id": "73a5f533",
   "metadata": {},
   "outputs": [],
   "source": [
    "!pip3 install statsmodels -i https://mirrors.huaweicloud.com/repository/pypi/simple"
   ]
  },
  {
   "cell_type": "code",
   "execution_count": null,
   "id": "ae172f40",
   "metadata": {},
   "outputs": [],
   "source": [
    "!pip3 install jieba -i https://mirrors.huaweicloud.com/repository/pypi/simple"
   ]
  },
  {
   "cell_type": "code",
   "execution_count": null,
   "id": "dc1d37e6",
   "metadata": {},
   "outputs": [],
   "source": [
    "!pip3 install Contractions -i https://mirrors.huaweicloud.com/repository/pypi/simple"
   ]
  },
  {
   "cell_type": "code",
   "execution_count": null,
   "id": "6f725508",
   "metadata": {},
   "outputs": [],
   "source": [
    "!pip3 install Textstat -i https://mirrors.huaweicloud.com/repository/pypi/simple"
   ]
  },
  {
   "cell_type": "code",
   "execution_count": null,
   "id": "2c4b243d",
   "metadata": {},
   "outputs": [],
   "source": [
    "!pip3 install graph-tools -i https://mirrors.huaweicloud.com/repository/pypi/simple"
   ]
  },
  {
   "cell_type": "code",
   "execution_count": null,
   "id": "23f74bc6",
   "metadata": {},
   "outputs": [],
   "source": [
    "!pip3 install graphviz -i https://mirrors.huaweicloud.com/repository/pypi/simple"
   ]
  },
  {
   "cell_type": "code",
   "execution_count": null,
   "id": "be72015d",
   "metadata": {},
   "outputs": [],
   "source": [
    "!pip3 install networkx -i https://mirrors.huaweicloud.com/repository/pypi/simple"
   ]
  },
  {
   "cell_type": "code",
   "execution_count": null,
   "id": "9bd85cd3",
   "metadata": {},
   "outputs": [],
   "source": [
    "!pip3 install nltk -i https://mirrors.huaweicloud.com/repository/pypi/simple"
   ]
  },
  {
   "cell_type": "code",
   "execution_count": null,
   "id": "ce783324",
   "metadata": {},
   "outputs": [],
   "source": [
    "!pip3 install torch torchvision -i https://mirrors.huaweicloud.com/repository/pypi/simple"
   ]
  }
 ],
 "metadata": {
  "hide_input": false,
  "kernelspec": {
   "display_name": "Python 3 (ipykernel)",
   "language": "python",
   "name": "python3"
  },
  "language_info": {
   "codemirror_mode": {
    "name": "ipython",
    "version": 3
   },
   "file_extension": ".py",
   "mimetype": "text/x-python",
   "name": "python",
   "nbconvert_exporter": "python",
   "pygments_lexer": "ipython3",
   "version": "3.8.10"
  },
  "toc": {
   "base_numbering": 1,
   "nav_menu": {},
   "number_sections": true,
   "sideBar": true,
   "skip_h1_title": false,
   "title_cell": "Table of Contents",
   "title_sidebar": "Contents",
   "toc_cell": false,
   "toc_position": {},
   "toc_section_display": true,
   "toc_window_display": false
  }
 },
 "nbformat": 4,
 "nbformat_minor": 5
}
