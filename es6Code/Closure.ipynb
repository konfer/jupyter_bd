{
 "cells": [
  {
   "cell_type": "markdown",
   "metadata": {},
   "source": [
    "### closure location"
   ]
  },
  {
   "cell_type": "code",
   "execution_count": 1,
   "metadata": {},
   "outputs": [
    {
     "data": {
      "text/plain": [
       "'use strict'"
      ]
     },
     "execution_count": 1,
     "metadata": {},
     "output_type": "execute_result"
    }
   ],
   "source": [
    "\"use strict\"\n",
    "const forEach = (array,fn) => {\n",
    "    for(let i=0;i<array.length;i++)\n",
    "        fn(array[i])\n",
    "}"
   ]
  },
  {
   "cell_type": "code",
   "execution_count": 2,
   "metadata": {},
   "outputs": [
    {
     "data": {
      "text/plain": [
       "'use strict'"
      ]
     },
     "execution_count": 2,
     "metadata": {},
     "output_type": "execute_result"
    }
   ],
   "source": [
    "\"use strict\"\n",
    "var fn=(arg)=>{\n",
    "    let outer=\"Visible\"\n",
    "    let innerFn=()=>{\n",
    "        console.log(outer)\n",
    "        console.log(arg)\n",
    "    }\n",
    "    return innerFn\n",
    "}"
   ]
  },
  {
   "cell_type": "code",
   "execution_count": 3,
   "metadata": {},
   "outputs": [
    {
     "data": {
      "text/plain": [
       "[Function]"
      ]
     },
     "execution_count": 3,
     "metadata": {},
     "output_type": "execute_result"
    }
   ],
   "source": [
    "fn"
   ]
  },
  {
   "cell_type": "code",
   "execution_count": 4,
   "metadata": {},
   "outputs": [],
   "source": [
    "var closureFn=fn(5)"
   ]
  },
  {
   "cell_type": "code",
   "execution_count": 5,
   "metadata": {},
   "outputs": [
    {
     "name": "stdout",
     "output_type": "stream",
     "text": [
      "Visible\n",
      "5\n"
     ]
    }
   ],
   "source": [
    "closureFn()"
   ]
  },
  {
   "cell_type": "markdown",
   "metadata": {},
   "source": [
    "### valuable higher-order function"
   ]
  },
  {
   "cell_type": "code",
   "execution_count": 6,
   "metadata": {},
   "outputs": [],
   "source": [
    "const tap=(value)=>\n",
    "    (fn)=>{\n",
    "        typeof(fn)==='function' && fn(value),\n",
    "        console.log(value)\n",
    "    }\n"
   ]
  },
  {
   "cell_type": "code",
   "execution_count": 7,
   "metadata": {},
   "outputs": [
    {
     "name": "stdout",
     "output_type": "stream",
     "text": [
      "value is  fun\n",
      "fun\n"
     ]
    }
   ],
   "source": [
    "tap(\"fun\")((it)=>console.log(\"value is \",it))"
   ]
  },
  {
   "cell_type": "code",
   "execution_count": 8,
   "metadata": {},
   "outputs": [
    {
     "name": "stdout",
     "output_type": "stream",
     "text": [
      "1\n",
      "1\n",
      "2\n",
      "2\n",
      "3\n",
      "3\n"
     ]
    }
   ],
   "source": [
    "forEach([1,2,3],\n",
    "         (a)=>tap(a)(()=>{\n",
    "            console.log(a)\n",
    "        }\n",
    "    )\n",
    ")"
   ]
  },
  {
   "cell_type": "markdown",
   "metadata": {},
   "source": [
    "### unary"
   ]
  },
  {
   "cell_type": "code",
   "execution_count": 9,
   "metadata": {},
   "outputs": [
    {
     "data": {
      "text/plain": [
       "[ 1, 4, 9 ]"
      ]
     },
     "execution_count": 9,
     "metadata": {},
     "output_type": "execute_result"
    }
   ],
   "source": [
    "[1,2,3].map((a)=>{return a*a})"
   ]
  },
  {
   "cell_type": "code",
   "execution_count": 10,
   "metadata": {},
   "outputs": [
    {
     "data": {
      "text/plain": [
       "[ 1, NaN, NaN ]"
      ]
     },
     "execution_count": 10,
     "metadata": {},
     "output_type": "execute_result"
    }
   ],
   "source": [
    "['1','2','3'].map(parseInt)"
   ]
  },
  {
   "cell_type": "code",
   "execution_count": 11,
   "metadata": {},
   "outputs": [],
   "source": [
    "const unary=(fn)=>\n",
    "    fn.length===1?fn:(arg)=>fn(arg)"
   ]
  },
  {
   "cell_type": "code",
   "execution_count": 12,
   "metadata": {},
   "outputs": [
    {
     "data": {
      "text/plain": [
       "[ 1, 2, 3 ]"
      ]
     },
     "execution_count": 12,
     "metadata": {},
     "output_type": "execute_result"
    }
   ],
   "source": [
    "['1','2','3'].map(unary(parseInt))"
   ]
  },
  {
   "cell_type": "markdown",
   "metadata": {},
   "source": [
    "### once"
   ]
  },
  {
   "cell_type": "code",
   "execution_count": 13,
   "metadata": {},
   "outputs": [
    {
     "data": {
      "text/plain": [
       "'use strict'"
      ]
     },
     "execution_count": 13,
     "metadata": {},
     "output_type": "execute_result"
    }
   ],
   "source": [
    "\"use strict\"\n",
    "const onceFnFive=(fn)=>{\n",
    "    let done = false;\n",
    "    \n",
    "    let oneInnerfn=()=>{\n",
    "        return done? undefined :((done=true),fn.apply(this,arguments))\n",
    "    }\n",
    "    \n",
    "    return oneInnerfn\n",
    "           \n",
    "}"
   ]
  },
  {
   "cell_type": "code",
   "execution_count": 14,
   "metadata": {},
   "outputs": [
    {
     "ename": "ReferenceError",
     "evalue": "once is not defined",
     "output_type": "error",
     "traceback": [
      "ReferenceError: once is not defined",
      "    at evalmachine.<anonymous>:1:15",
      "    at Object.exports.runInThisContext (vm.js:54:17)",
      "    at run ([eval]:1002:15)",
      "    at onRunRequest ([eval]:829:18)",
      "    at onMessage ([eval]:789:13)",
      "    at emitTwo (events.js:87:13)",
      "    at process.emit (events.js:172:7)",
      "    at handleMessage (internal/child_process.js:689:10)",
      "    at Pipe.channel.onread (internal/child_process.js:440:11)"
     ]
    }
   ],
   "source": [
    "var doPayment=once(()=>{\n",
    "    console.log(\"Payment is done\")\n",
    "})"
   ]
  },
  {
   "cell_type": "code",
   "execution_count": 15,
   "metadata": {},
   "outputs": [
    {
     "ename": "TypeError",
     "evalue": "doPayment is not a function",
     "output_type": "error",
     "traceback": [
      "TypeError: doPayment is not a function",
      "    at evalmachine.<anonymous>:1:1",
      "    at Object.exports.runInThisContext (vm.js:54:17)",
      "    at run ([eval]:1002:15)",
      "    at onRunRequest ([eval]:829:18)",
      "    at onMessage ([eval]:789:13)",
      "    at emitTwo (events.js:87:13)",
      "    at process.emit (events.js:172:7)",
      "    at handleMessage (internal/child_process.js:689:10)",
      "    at Pipe.channel.onread (internal/child_process.js:440:11)"
     ]
    }
   ],
   "source": [
    "doPayment()"
   ]
  },
  {
   "cell_type": "code",
   "execution_count": 16,
   "metadata": {},
   "outputs": [],
   "source": [
    "var doPaymentFnFive=onceFnFive(()=>{\n",
    "    console.log(\"Payment is done\")\n",
    "})"
   ]
  },
  {
   "cell_type": "code",
   "execution_count": 17,
   "metadata": {},
   "outputs": [
    {
     "ename": "ReferenceError",
     "evalue": "arguments is not defined",
     "output_type": "error",
     "traceback": [
      "ReferenceError: arguments is not defined",
      "    at oneInnerfn (evalmachine.<anonymous>:6:60)",
      "    at evalmachine.<anonymous>:1:1",
      "    at Object.exports.runInThisContext (vm.js:54:17)",
      "    at run ([eval]:1002:15)",
      "    at onRunRequest ([eval]:829:18)",
      "    at onMessage ([eval]:789:13)",
      "    at emitTwo (events.js:87:13)",
      "    at process.emit (events.js:172:7)",
      "    at handleMessage (internal/child_process.js:689:10)",
      "    at Pipe.channel.onread (internal/child_process.js:440:11)"
     ]
    }
   ],
   "source": [
    "doPaymentFnFive()"
   ]
  },
  {
   "cell_type": "code",
   "execution_count": 18,
   "metadata": {},
   "outputs": [
    {
     "ename": "ReferenceError",
     "evalue": "doPaymentFnTwo is not defined",
     "output_type": "error",
     "traceback": [
      "ReferenceError: doPaymentFnTwo is not defined",
      "    at evalmachine.<anonymous>:1:1",
      "    at Object.exports.runInThisContext (vm.js:54:17)",
      "    at run ([eval]:1002:15)",
      "    at onRunRequest ([eval]:829:18)",
      "    at onMessage ([eval]:789:13)",
      "    at emitTwo (events.js:87:13)",
      "    at process.emit (events.js:172:7)",
      "    at handleMessage (internal/child_process.js:689:10)",
      "    at Pipe.channel.onread (internal/child_process.js:440:11)"
     ]
    }
   ],
   "source": [
    "doPaymentFnTwo()"
   ]
  },
  {
   "cell_type": "code",
   "execution_count": 19,
   "metadata": {},
   "outputs": [
    {
     "data": {
      "text/plain": [
       "'use strict'"
      ]
     },
     "execution_count": 19,
     "metadata": {},
     "output_type": "execute_result"
    }
   ],
   "source": [
    "\"use strict\"\n",
    "const onceSeven=(fn)=>{\n",
    "    let done=false;\n",
    "    return function(){\n",
    "        return done?undefined :((done=true),fn.apply(this,arguments))\n",
    "    }\n",
    "}"
   ]
  },
  {
   "cell_type": "code",
   "execution_count": 20,
   "metadata": {},
   "outputs": [],
   "source": [
    "var doPaymentSeven=onceSeven(()=>{\n",
    "    console.log(\"Payment is done\")\n",
    "})"
   ]
  },
  {
   "cell_type": "code",
   "execution_count": 21,
   "metadata": {},
   "outputs": [
    {
     "name": "stdout",
     "output_type": "stream",
     "text": [
      "Payment is done\n"
     ]
    }
   ],
   "source": [
    "doPaymentSeven()"
   ]
  },
  {
   "cell_type": "code",
   "execution_count": 22,
   "metadata": {},
   "outputs": [],
   "source": [
    "doPaymentSeven()"
   ]
  },
  {
   "cell_type": "markdown",
   "metadata": {},
   "source": [
    "### memoized()"
   ]
  },
  {
   "cell_type": "code",
   "execution_count": 23,
   "metadata": {},
   "outputs": [],
   "source": [
    "var factorialFn=(n)=>{\n",
    "    if(n===0){\n",
    "        return 1;\n",
    "    }\n",
    "    return n*factorialFn(n-1)\n",
    "}"
   ]
  },
  {
   "cell_type": "code",
   "execution_count": 24,
   "metadata": {},
   "outputs": [
    {
     "data": {
      "text/plain": [
       "2.631308369336935e+35"
      ]
     },
     "execution_count": 24,
     "metadata": {},
     "output_type": "execute_result"
    }
   ],
   "source": [
    "factorialFn(32)"
   ]
  },
  {
   "cell_type": "code",
   "execution_count": 25,
   "metadata": {
    "scrolled": true
   },
   "outputs": [
    {
     "data": {
      "text/plain": [
       "40320"
      ]
     },
     "execution_count": 25,
     "metadata": {},
     "output_type": "execute_result"
    }
   ],
   "source": [
    "factorialFn(8)"
   ]
  },
  {
   "cell_type": "markdown",
   "metadata": {},
   "source": [
    "### ？？？？？ (arg)=>lookUpTable[arg]"
   ]
  },
  {
   "cell_type": "code",
   "execution_count": 26,
   "metadata": {},
   "outputs": [],
   "source": [
    "const memoized=(fn)=>{\n",
    "    const lookUpTable={}\n",
    "    return (arg)=>lookUpTable[arg] || (lookUpTable[arg]=fn(arg))\n",
    "}"
   ]
  },
  {
   "cell_type": "code",
   "execution_count": 28,
   "metadata": {},
   "outputs": [
    {
     "data": {
      "text/plain": [
       "'use strict'"
      ]
     },
     "execution_count": 28,
     "metadata": {},
     "output_type": "execute_result"
    }
   ],
   "source": [
    "\"use strict\"\n",
    "let memoizedFactorial=memoized(factorialFn)"
   ]
  },
  {
   "cell_type": "code",
   "execution_count": 29,
   "metadata": {},
   "outputs": [
    {
     "data": {
      "text/plain": [
       "720"
      ]
     },
     "execution_count": 29,
     "metadata": {},
     "output_type": "execute_result"
    }
   ],
   "source": [
    "memoizedFactorial(6)"
   ]
  },
  {
   "cell_type": "code",
   "execution_count": 30,
   "metadata": {},
   "outputs": [
    {
     "data": {
      "text/plain": [
       "6"
      ]
     },
     "execution_count": 30,
     "metadata": {},
     "output_type": "execute_result"
    }
   ],
   "source": [
    "memoizedFactorial(3)"
   ]
  },
  {
   "cell_type": "code",
   "execution_count": null,
   "metadata": {},
   "outputs": [],
   "source": []
  },
  {
   "cell_type": "code",
   "execution_count": null,
   "metadata": {},
   "outputs": [],
   "source": []
  },
  {
   "cell_type": "code",
   "execution_count": null,
   "metadata": {},
   "outputs": [],
   "source": []
  },
  {
   "cell_type": "code",
   "execution_count": null,
   "metadata": {},
   "outputs": [],
   "source": []
  },
  {
   "cell_type": "code",
   "execution_count": null,
   "metadata": {},
   "outputs": [],
   "source": []
  },
  {
   "cell_type": "code",
   "execution_count": null,
   "metadata": {},
   "outputs": [],
   "source": []
  },
  {
   "cell_type": "code",
   "execution_count": null,
   "metadata": {},
   "outputs": [],
   "source": []
  },
  {
   "cell_type": "code",
   "execution_count": null,
   "metadata": {},
   "outputs": [],
   "source": []
  }
 ],
 "metadata": {
  "kernelspec": {
   "display_name": "Javascript (Node.js)",
   "language": "javascript",
   "name": "javascript"
  },
  "language_info": {
   "file_extension": ".js",
   "mimetype": "application/javascript",
   "name": "javascript",
   "version": "4.2.6"
  }
 },
 "nbformat": 4,
 "nbformat_minor": 2
}
