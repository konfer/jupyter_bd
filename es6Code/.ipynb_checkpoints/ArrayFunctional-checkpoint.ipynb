{
 "cells": [
  {
   "cell_type": "code",
   "execution_count": 1,
   "metadata": {},
   "outputs": [
    {
     "data": {
      "text/plain": [
       "'use strict'"
      ]
     },
     "execution_count": 1,
     "metadata": {},
     "output_type": "execute_result"
    }
   ],
   "source": [
    "\"use strict\"\n",
    "const map=(array,fn)=>{\n",
    "    let results=[]\n",
    "    for(const value of array)\n",
    "        results.push(fn(value))\n",
    "    return results\n",
    "}"
   ]
  },
  {
   "cell_type": "markdown",
   "metadata": {},
   "source": [
    "### map"
   ]
  },
  {
   "cell_type": "code",
   "execution_count": 2,
   "metadata": {},
   "outputs": [
    {
     "data": {
      "text/plain": [
       "[ 1, 4, 9 ]"
      ]
     },
     "execution_count": 2,
     "metadata": {},
     "output_type": "execute_result"
    }
   ],
   "source": [
    "map([1,2,3],(x)=>x*x)"
   ]
  },
  {
   "cell_type": "code",
   "execution_count": 3,
   "metadata": {},
   "outputs": [
    {
     "data": {
      "text/plain": [
       "'use strict'"
      ]
     },
     "execution_count": 3,
     "metadata": {},
     "output_type": "execute_result"
    }
   ],
   "source": [
    "\"use strict\"\n",
    "let apressBooks = [\n",
    "  {\n",
    "    \"id\": 111,\n",
    "    \"title\": \"C# 6.0\",\n",
    "    \"author\": \"ANDREW TROELSEN\",\n",
    "    \"rating\": [4.7],\n",
    "    \"reviews\": [{good : 4 , excellent : 12}]\n",
    "  },\n",
    "  {\n",
    "    \"id\": 222,\n",
    "    \"title\": \"Efficient Learning Machines\",\n",
    "    \"author\": \"Rahul Khanna\",\n",
    "    \"rating\": [4.5],\n",
    "    \"reviews\": []\n",
    "  },\n",
    "  {\n",
    "    \"id\": 333,\n",
    "    \"title\": \"Pro AngularJS\",\n",
    "    \"author\": \"Adam Freeman\",\n",
    "    \"rating\": [4.0],\n",
    "    \"reviews\": []\n",
    "  },\n",
    "  {\n",
    "    \"id\": 444,\n",
    "    \"title\": \"Pro ASP.NET\",\n",
    "    \"author\": \"Adam Freeman\",\n",
    "    \"rating\": [4.2],\n",
    "    \"reviews\": [{good : 14 , excellent : 12}]\n",
    "  }\n",
    "];"
   ]
  },
  {
   "cell_type": "code",
   "execution_count": 4,
   "metadata": {},
   "outputs": [
    {
     "data": {
      "text/plain": [
       "[ { title: 'C# 6.0', author: 'ANDREW TROELSEN' },\n",
       "  { title: 'Efficient Learning Machines', author: 'Rahul Khanna' },\n",
       "  { title: 'Pro AngularJS', author: 'Adam Freeman' },\n",
       "  { title: 'Pro ASP.NET', author: 'Adam Freeman' } ]"
      ]
     },
     "execution_count": 4,
     "metadata": {},
     "output_type": "execute_result"
    }
   ],
   "source": [
    "map(apressBooks,(book)=>{\n",
    "    return {title:book.title,author:book.author}\n",
    "})"
   ]
  },
  {
   "cell_type": "markdown",
   "metadata": {},
   "source": [
    "### filter"
   ]
  },
  {
   "cell_type": "code",
   "execution_count": 5,
   "metadata": {},
   "outputs": [
    {
     "data": {
      "text/plain": [
       "'use strict'"
      ]
     },
     "execution_count": 5,
     "metadata": {},
     "output_type": "execute_result"
    }
   ],
   "source": [
    "\"use strict\"\n",
    "const filter=(array,fn)=>{\n",
    "    let results=[]\n",
    "    for(const value of array)\n",
    "        (fn(value)) ? results.push(value):undefined\n",
    "    return results\n",
    "}"
   ]
  },
  {
   "cell_type": "code",
   "execution_count": 6,
   "metadata": {},
   "outputs": [
    {
     "data": {
      "text/plain": [
       "'use strict'"
      ]
     },
     "execution_count": 6,
     "metadata": {},
     "output_type": "execute_result"
    }
   ],
   "source": [
    "\"use strict\"\n",
    "let goodRatingBooks=filter(apressBooks,(book)=>book.rating[0]>4.5)"
   ]
  },
  {
   "cell_type": "code",
   "execution_count": 7,
   "metadata": {},
   "outputs": [
    {
     "data": {
      "text/plain": [
       "[ { id: 111,\n",
       "    title: 'C# 6.0',\n",
       "    author: 'ANDREW TROELSEN',\n",
       "    rating: [ 4.7 ],\n",
       "    reviews: [ [Object] ] } ]"
      ]
     },
     "execution_count": 7,
     "metadata": {},
     "output_type": "execute_result"
    }
   ],
   "source": [
    "goodRatingBooks"
   ]
  },
  {
   "cell_type": "code",
   "execution_count": 8,
   "metadata": {},
   "outputs": [
    {
     "data": {
      "text/plain": [
       "[ { title: 'C# 6.0', author: 'ANDREW TROELSEN' } ]"
      ]
     },
     "execution_count": 8,
     "metadata": {},
     "output_type": "execute_result"
    }
   ],
   "source": [
    "map(goodRatingBooks,(book)=>{\n",
    "    return{title:book.title,\n",
    "           author:book.author}\n",
    "})"
   ]
  },
  {
   "cell_type": "markdown",
   "metadata": {},
   "source": [
    "### reduce"
   ]
  },
  {
   "cell_type": "code",
   "execution_count": 9,
   "metadata": {},
   "outputs": [
    {
     "data": {
      "text/plain": [
       "'use strict'"
      ]
     },
     "execution_count": 9,
     "metadata": {},
     "output_type": "execute_result"
    }
   ],
   "source": [
    "\"use strict\"\n",
    "let useless=[2,5,6,1,10]"
   ]
  },
  {
   "cell_type": "markdown",
   "metadata": {},
   "source": [
    "### ? []"
   ]
  },
  {
   "cell_type": "code",
   "execution_count": 10,
   "metadata": {},
   "outputs": [
    {
     "data": {
      "text/plain": [
       "'use strict'"
      ]
     },
     "execution_count": 10,
     "metadata": {},
     "output_type": "execute_result"
    }
   ],
   "source": [
    "\"use strict\"\n",
    "const reduce=(array,fn)=>{\n",
    "    let accumlator=0;\n",
    "    for(const value of array)\n",
    "        accumlator=fn(accumlator,value)\n",
    "    return [accumlator]\n",
    "}"
   ]
  },
  {
   "cell_type": "code",
   "execution_count": 11,
   "metadata": {},
   "outputs": [
    {
     "data": {
      "text/plain": [
       "'use strict'"
      ]
     },
     "execution_count": 11,
     "metadata": {},
     "output_type": "execute_result"
    }
   ],
   "source": [
    "\"use strict\"\n",
    "let sumFn=(a,b)=>{return a+b}"
   ]
  },
  {
   "cell_type": "code",
   "execution_count": 12,
   "metadata": {},
   "outputs": [
    {
     "data": {
      "text/plain": [
       "[ 24 ]"
      ]
     },
     "execution_count": 12,
     "metadata": {},
     "output_type": "execute_result"
    }
   ],
   "source": [
    "reduce(useless,sumFn)"
   ]
  },
  {
   "cell_type": "code",
   "execution_count": null,
   "metadata": {},
   "outputs": [],
   "source": []
  },
  {
   "cell_type": "code",
   "execution_count": null,
   "metadata": {},
   "outputs": [],
   "source": []
  },
  {
   "cell_type": "code",
   "execution_count": null,
   "metadata": {},
   "outputs": [],
   "source": []
  },
  {
   "cell_type": "code",
   "execution_count": null,
   "metadata": {},
   "outputs": [],
   "source": []
  },
  {
   "cell_type": "code",
   "execution_count": null,
   "metadata": {},
   "outputs": [],
   "source": []
  },
  {
   "cell_type": "code",
   "execution_count": null,
   "metadata": {},
   "outputs": [],
   "source": []
  },
  {
   "cell_type": "code",
   "execution_count": null,
   "metadata": {},
   "outputs": [],
   "source": []
  },
  {
   "cell_type": "code",
   "execution_count": null,
   "metadata": {},
   "outputs": [],
   "source": []
  },
  {
   "cell_type": "code",
   "execution_count": null,
   "metadata": {},
   "outputs": [],
   "source": []
  },
  {
   "cell_type": "code",
   "execution_count": null,
   "metadata": {},
   "outputs": [],
   "source": []
  },
  {
   "cell_type": "code",
   "execution_count": null,
   "metadata": {},
   "outputs": [],
   "source": []
  }
 ],
 "metadata": {
  "kernelspec": {
   "display_name": "Javascript (Node.js)",
   "language": "javascript",
   "name": "javascript"
  },
  "language_info": {
   "file_extension": ".js",
   "mimetype": "application/javascript",
   "name": "javascript",
   "version": "4.2.6"
  }
 },
 "nbformat": 4,
 "nbformat_minor": 2
}
