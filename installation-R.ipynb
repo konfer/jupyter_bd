{
 "cells": [
  {
   "cell_type": "code",
   "execution_count": null,
   "metadata": {},
   "outputs": [],
   "source": [
    "#package vcd\n",
    "#sudo apt-get install gfortran"
   ]
  },
  {
   "cell_type": "code",
   "execution_count": null,
   "metadata": {},
   "outputs": [],
   "source": [
    "#package partykit\n",
    "#sudo apt-get install libblas-dev liblapack-dev"
   ]
  },
  {
   "cell_type": "code",
   "execution_count": null,
   "metadata": {},
   "outputs": [],
   "source": [
    "#package curl\n",
    "#sudo apt-get install libcurl4-gnutls-dev"
   ]
  },
  {
   "cell_type": "code",
   "execution_count": null,
   "metadata": {},
   "outputs": [],
   "source": [
    "#package gpg\n",
    "#sudo apt-get install libgpgme-dev"
   ]
  },
  {
   "cell_type": "code",
   "execution_count": null,
   "metadata": {},
   "outputs": [],
   "source": [
    "#sodium\n",
    "#sudo apt-get install libsodium-dev"
   ]
  },
  {
   "cell_type": "code",
   "execution_count": null,
   "metadata": {},
   "outputs": [],
   "source": [
    "#nloptr\n",
    "#sudo apt-get install cmake"
   ]
  },
  {
   "cell_type": "code",
   "execution_count": null,
   "metadata": {},
   "outputs": [],
   "source": [
    "#RMysql\n",
    "#sudo apt-get install libmariadbclient-dev"
   ]
  },
  {
   "cell_type": "code",
   "execution_count": null,
   "metadata": {},
   "outputs": [],
   "source": [
    "#Hmisc\n",
    "#sudo apt-get install libpng-dev\n",
    "#sudo apt-get install libmysqlclient-dev\n",
    "#sudo apt-get install libmysqlclient-dev\n",
    "#sudo apt-get install libgdal-dev gdal-bin libproj-dev proj-data proj-bin libgeos-dev"
   ]
  },
  {
   "cell_type": "code",
   "execution_count": null,
   "metadata": {},
   "outputs": [],
   "source": [
    "#parma\n",
    "#sudo apt-get install libglpk-dev"
   ]
  },
  {
   "cell_type": "code",
   "execution_count": null,
   "metadata": {},
   "outputs": [],
   "source": [
    "#OpenCL\n",
    "#sudo apt-get install nvidia-opencl-dev"
   ]
  },
  {
   "cell_type": "code",
   "execution_count": null,
   "metadata": {},
   "outputs": [],
   "source": [
    "#Rmpi\n",
    "#sudo apt-get install libopenmpi-dev"
   ]
  },
  {
   "cell_type": "code",
   "execution_count": null,
   "metadata": {},
   "outputs": [],
   "source": [
    "#mongolite\n",
    "#sudo apt-get install libssl-dev libsasl2-dev"
   ]
  },
  {
   "cell_type": "code",
   "execution_count": null,
   "metadata": {},
   "outputs": [],
   "source": [
    "#rJava\n",
    "#sudo apt-get install libbz2-dev"
   ]
  },
  {
   "cell_type": "code",
   "execution_count": null,
   "metadata": {},
   "outputs": [],
   "source": [
    "#rjags\n",
    "#sudo apt-get install jags"
   ]
  },
  {
   "cell_type": "code",
   "execution_count": null,
   "metadata": {},
   "outputs": [],
   "source": [
    "install.packages('tibble', repos=\"https://mirrors.tuna.tsinghua.edu.cn/CRAN/\", lib=\"/usr/lib/R/site-library\")"
   ]
  },
  {
   "cell_type": "code",
   "execution_count": null,
   "metadata": {},
   "outputs": [],
   "source": [
    "install.packages('vcd', repos=\"https://mirrors.tuna.tsinghua.edu.cn/CRAN/\", lib=\"/usr/lib/R/site-library\")"
   ]
  },
  {
   "cell_type": "code",
   "execution_count": null,
   "metadata": {
    "scrolled": true
   },
   "outputs": [],
   "source": [
    "install.packages('dplyr', repos=\"https://mirrors.tuna.tsinghua.edu.cn/CRAN/\", lib=\"/usr/lib/R/site-library\")"
   ]
  },
  {
   "cell_type": "code",
   "execution_count": null,
   "metadata": {},
   "outputs": [],
   "source": [
    "install.packages('ggplot2', repos=\"https://mirrors.tuna.tsinghua.edu.cn/CRAN/\", lib=\"/usr/lib/R/site-library\")"
   ]
  },
  {
   "cell_type": "code",
   "execution_count": null,
   "metadata": {},
   "outputs": [],
   "source": [
    "install.packages('caret', repos=\"https://mirrors.tuna.tsinghua.edu.cn/CRAN/\", lib=\"/usr/lib/R/site-library\")"
   ]
  },
  {
   "cell_type": "code",
   "execution_count": null,
   "metadata": {},
   "outputs": [],
   "source": [
    "install.packages('e1071', repos=\"https://mirrors.tuna.tsinghua.edu.cn/CRAN/\", lib=\"/usr/lib/R/site-library\")"
   ]
  },
  {
   "cell_type": "code",
   "execution_count": null,
   "metadata": {},
   "outputs": [],
   "source": [
    "install.packages('gridExtra', repos=\"https://mirrors.tuna.tsinghua.edu.cn/CRAN/\", lib=\"/usr/lib/R/site-library\")"
   ]
  },
  {
   "cell_type": "code",
   "execution_count": null,
   "metadata": {
    "scrolled": true
   },
   "outputs": [],
   "source": [
    "install.packages('lattice', repos=\"https://mirrors.tuna.tsinghua.edu.cn/CRAN/\", lib=\"/usr/lib/R/site-library\")"
   ]
  },
  {
   "cell_type": "code",
   "execution_count": null,
   "metadata": {
    "scrolled": true
   },
   "outputs": [],
   "source": [
    "install.packages('imputeMissings', repos=\"https://mirrors.tuna.tsinghua.edu.cn/CRAN/\", lib=\"/usr/lib/R/site-library\")"
   ]
  },
  {
   "cell_type": "code",
   "execution_count": null,
   "metadata": {
    "scrolled": true
   },
   "outputs": [],
   "source": [
    "install.packages('RANN', repos=\"https://mirrors.tuna.tsinghua.edu.cn/CRAN/\", lib=\"/usr/lib/R/site-library\")"
   ]
  },
  {
   "cell_type": "code",
   "execution_count": null,
   "metadata": {
    "scrolled": true
   },
   "outputs": [],
   "source": [
    "install.packages('nnet', repos=\"https://mirrors.tuna.tsinghua.edu.cn/CRAN/\", lib=\"/usr/lib/R/site-library\")"
   ]
  },
  {
   "cell_type": "code",
   "execution_count": null,
   "metadata": {
    "scrolled": true
   },
   "outputs": [],
   "source": [
    "install.packages('car', repos=\"https://mirrors.tuna.tsinghua.edu.cn/CRAN/\", lib=\"/usr/lib/R/site-library\")"
   ]
  },
  {
   "cell_type": "code",
   "execution_count": null,
   "metadata": {
    "scrolled": true
   },
   "outputs": [],
   "source": [
    "install.packages('reshape2', repos=\"https://mirrors.tuna.tsinghua.edu.cn/CRAN/\", lib=\"/usr/lib/R/site-library\")"
   ]
  },
  {
   "cell_type": "code",
   "execution_count": null,
   "metadata": {
    "scrolled": false
   },
   "outputs": [],
   "source": [
    "install.packages('psych', repos=\"https://mirrors.tuna.tsinghua.edu.cn/CRAN/\", lib=\"/usr/lib/R/site-library\")"
   ]
  },
  {
   "cell_type": "code",
   "execution_count": null,
   "metadata": {
    "scrolled": false
   },
   "outputs": [],
   "source": [
    "install.packages('plyr', repos=\"https://mirrors.tuna.tsinghua.edu.cn/CRAN/\", lib=\"/usr/lib/R/site-library\")"
   ]
  },
  {
   "cell_type": "code",
   "execution_count": null,
   "metadata": {
    "scrolled": true
   },
   "outputs": [],
   "source": [
    "install.packages('tidyr', repos=\"https://mirrors.tuna.tsinghua.edu.cn/CRAN/\", lib=\"/usr/lib/R/site-library\")"
   ]
  },
  {
   "cell_type": "code",
   "execution_count": null,
   "metadata": {
    "scrolled": true
   },
   "outputs": [],
   "source": [
    "install.packages('readr', repos=\"https://mirrors.tuna.tsinghua.edu.cn/CRAN/\", lib=\"/usr/lib/R/site-library\")"
   ]
  },
  {
   "cell_type": "code",
   "execution_count": null,
   "metadata": {
    "scrolled": true
   },
   "outputs": [],
   "source": [
    "install.packages('data.table', repos=\"https://mirrors.tuna.tsinghua.edu.cn/CRAN/\", lib=\"/usr/lib/R/site-library\")"
   ]
  },
  {
   "cell_type": "code",
   "execution_count": null,
   "metadata": {
    "scrolled": true
   },
   "outputs": [],
   "source": [
    "install.packages('pls', repos=\"https://mirrors.tuna.tsinghua.edu.cn/CRAN/\", lib=\"/usr/lib/R/site-library\")"
   ]
  },
  {
   "cell_type": "code",
   "execution_count": null,
   "metadata": {
    "scrolled": true
   },
   "outputs": [],
   "source": [
    "install.packages('randomForest', repos=\"https://mirrors.tuna.tsinghua.edu.cn/CRAN/\", lib=\"/usr/lib/R/site-library\")"
   ]
  },
  {
   "cell_type": "code",
   "execution_count": null,
   "metadata": {
    "scrolled": true
   },
   "outputs": [],
   "source": [
    "install.packages('pROC', repos=\"https://mirrors.tuna.tsinghua.edu.cn/CRAN/\", lib=\"/usr/lib/R/site-library\")"
   ]
  },
  {
   "cell_type": "code",
   "execution_count": null,
   "metadata": {
    "scrolled": true
   },
   "outputs": [],
   "source": [
    "install.packages('corrplot', repos=\"https://mirrors.tuna.tsinghua.edu.cn/CRAN/\", lib=\"/usr/lib/R/site-library\")"
   ]
  },
  {
   "cell_type": "code",
   "execution_count": null,
   "metadata": {
    "scrolled": true
   },
   "outputs": [],
   "source": [
    "install.packages('gplot', repos=\"https://mirrors.tuna.tsinghua.edu.cn/CRAN/\", lib=\"/usr/lib/R/site-library\")"
   ]
  },
  {
   "cell_type": "code",
   "execution_count": null,
   "metadata": {
    "scrolled": true
   },
   "outputs": [],
   "source": [
    "install.packages('RColorBrewer', repos=\"https://mirrors.tuna.tsinghua.edu.cn/CRAN/\", lib=\"/usr/lib/R/site-library\")"
   ]
  },
  {
   "cell_type": "code",
   "execution_count": null,
   "metadata": {
    "scrolled": true
   },
   "outputs": [],
   "source": [
    "install.packages('nFactors', repos=\"https://mirrors.tuna.tsinghua.edu.cn/CRAN/\", lib=\"/usr/lib/R/site-library\")"
   ]
  },
  {
   "cell_type": "code",
   "execution_count": null,
   "metadata": {
    "scrolled": true
   },
   "outputs": [],
   "source": [
    "install.packages('GPArotation', repos=\"https://mirrors.tuna.tsinghua.edu.cn/CRAN/\", lib=\"/usr/lib/R/site-library\")"
   ]
  },
  {
   "cell_type": "code",
   "execution_count": null,
   "metadata": {
    "scrolled": true
   },
   "outputs": [],
   "source": [
    "install.packages('cluster', repos=\"https://mirrors.tuna.tsinghua.edu.cn/CRAN/\", lib=\"/usr/lib/R/site-library\")"
   ]
  },
  {
   "cell_type": "code",
   "execution_count": null,
   "metadata": {
    "scrolled": true
   },
   "outputs": [],
   "source": [
    "install.packages('CORElearn', repos=\"https://mirrors.tuna.tsinghua.edu.cn/CRAN/\", lib=\"/usr/lib/R/site-library\")"
   ]
  },
  {
   "cell_type": "code",
   "execution_count": null,
   "metadata": {
    "scrolled": true
   },
   "outputs": [],
   "source": [
    "install.packages('readr', repos=\"https://mirrors.tuna.tsinghua.edu.cn/CRAN/\", lib=\"/usr/lib/R/site-library\")"
   ]
  },
  {
   "cell_type": "code",
   "execution_count": null,
   "metadata": {
    "scrolled": true
   },
   "outputs": [],
   "source": [
    "install.packages('AppliedPredictiveModeling', repos=\"https://mirrors.tuna.tsinghua.edu.cn/CRAN/\", lib=\"/usr/lib/R/site-library\")"
   ]
  },
  {
   "cell_type": "code",
   "execution_count": null,
   "metadata": {
    "scrolled": true
   },
   "outputs": [],
   "source": [
    "install.packages('leaps', repos=\"https://mirrors.tuna.tsinghua.edu.cn/CRAN/\", lib=\"/usr/lib/R/site-library\")"
   ]
  },
  {
   "cell_type": "code",
   "execution_count": null,
   "metadata": {
    "scrolled": true
   },
   "outputs": [],
   "source": [
    "install.packages('MASS', repos=\"https://mirrors.tuna.tsinghua.edu.cn/CRAN/\", lib=\"/usr/lib/R/site-library\")"
   ]
  },
  {
   "cell_type": "code",
   "execution_count": null,
   "metadata": {
    "scrolled": true
   },
   "outputs": [],
   "source": [
    "install.packages('elasticnet', repos=\"https://mirrors.tuna.tsinghua.edu.cn/CRAN/\", lib=\"/usr/lib/R/site-library\")"
   ]
  },
  {
   "cell_type": "code",
   "execution_count": null,
   "metadata": {
    "scrolled": true
   },
   "outputs": [],
   "source": [
    "install.packages('lars', repos=\"https://mirrors.tuna.tsinghua.edu.cn/CRAN/\", lib=\"/usr/lib/R/site-library\")"
   ]
  },
  {
   "cell_type": "code",
   "execution_count": null,
   "metadata": {
    "scrolled": true
   },
   "outputs": [],
   "source": [
    "install.packages('glmnet', repos=\"https://mirrors.tuna.tsinghua.edu.cn/CRAN/\", lib=\"/usr/lib/R/site-library\")"
   ]
  },
  {
   "cell_type": "code",
   "execution_count": null,
   "metadata": {
    "scrolled": true
   },
   "outputs": [],
   "source": [
    "install.packages('rpart', repos=\"https://mirrors.tuna.tsinghua.edu.cn/CRAN/\", lib=\"/usr/lib/R/site-library\")"
   ]
  },
  {
   "cell_type": "code",
   "execution_count": null,
   "metadata": {
    "scrolled": true
   },
   "outputs": [],
   "source": [
    "install.packages('tree', repos=\"https://mirrors.tuna.tsinghua.edu.cn/CRAN/\", lib=\"/usr/lib/R/site-library\")"
   ]
  },
  {
   "cell_type": "code",
   "execution_count": null,
   "metadata": {
    "scrolled": true
   },
   "outputs": [],
   "source": [
    "install.packages('partykit', repos=\"https://mirrors.tuna.tsinghua.edu.cn/CRAN/\", lib=\"/usr/lib/R/site-library\")"
   ]
  },
  {
   "cell_type": "code",
   "execution_count": null,
   "metadata": {
    "scrolled": true
   },
   "outputs": [],
   "source": [
    "install.packages('randomForest', repos=\"https://mirrors.tuna.tsinghua.edu.cn/CRAN/\", lib=\"/usr/lib/R/site-library\")"
   ]
  },
  {
   "cell_type": "code",
   "execution_count": null,
   "metadata": {
    "scrolled": true
   },
   "outputs": [],
   "source": [
    "install.packages('plot3D', repos=\"https://mirrors.tuna.tsinghua.edu.cn/CRAN/\", lib=\"/usr/lib/R/site-library\")"
   ]
  },
  {
   "cell_type": "code",
   "execution_count": null,
   "metadata": {
    "scrolled": true
   },
   "outputs": [],
   "source": [
    "install.packages('drat', repos=\"https://mirrors.tuna.tsinghua.edu.cn/CRAN/\", lib=\"/usr/lib/R/site-library\")"
   ]
  },
  {
   "cell_type": "code",
   "execution_count": null,
   "metadata": {
    "scrolled": true
   },
   "outputs": [],
   "source": [
    "install.packages('mxnet', repos=\"https://mirrors.tuna.tsinghua.edu.cn/CRAN/\", lib=\"/usr/lib/R/site-library\")"
   ]
  },
  {
   "cell_type": "code",
   "execution_count": null,
   "metadata": {
    "scrolled": true
   },
   "outputs": [],
   "source": [
    "install.packages('darch', repos=\"https://mirrors.tuna.tsinghua.edu.cn/CRAN/\", lib=\"/usr/lib/R/site-library\")"
   ]
  },
  {
   "cell_type": "code",
   "execution_count": null,
   "metadata": {
    "scrolled": true
   },
   "outputs": [],
   "source": [
    "install.packages('knitr', repos=\"https://mirrors.tuna.tsinghua.edu.cn/CRAN/\", lib=\"/usr/lib/R/site-library\")"
   ]
  },
  {
   "cell_type": "code",
   "execution_count": null,
   "metadata": {
    "scrolled": true
   },
   "outputs": [],
   "source": [
    "install.packages('BlockMessage', repos=\"https://mirrors.tuna.tsinghua.edu.cn/CRAN/\", lib=\"/usr/lib/R/site-library\")"
   ]
  },
  {
   "cell_type": "code",
   "execution_count": null,
   "metadata": {
    "scrolled": true
   },
   "outputs": [],
   "source": [
    "install.packages('magic', repos=\"https://mirrors.tuna.tsinghua.edu.cn/CRAN/\", lib=\"/usr/lib/R/site-library\")"
   ]
  },
  {
   "cell_type": "code",
   "execution_count": null,
   "metadata": {
    "scrolled": true
   },
   "outputs": [],
   "source": [
    "install.packages('shiny', repos=\"https://mirrors.tuna.tsinghua.edu.cn/CRAN/\", lib=\"/usr/lib/R/site-library\")"
   ]
  },
  {
   "cell_type": "code",
   "execution_count": null,
   "metadata": {
    "scrolled": true
   },
   "outputs": [],
   "source": [
    "install.packages('later', repos=\"https://mirrors.tuna.tsinghua.edu.cn/CRAN/\", lib=\"/usr/lib/R/site-library\")"
   ]
  },
  {
   "cell_type": "code",
   "execution_count": null,
   "metadata": {
    "scrolled": true
   },
   "outputs": [],
   "source": [
    "install.packages('jsonlite', repos=\"https://mirrors.tuna.tsinghua.edu.cn/CRAN/\", lib=\"/usr/lib/R/site-library\")"
   ]
  },
  {
   "cell_type": "code",
   "execution_count": null,
   "metadata": {
    "scrolled": true
   },
   "outputs": [],
   "source": [
    "install.packages('curl', repos=\"https://mirrors.tuna.tsinghua.edu.cn/CRAN/\", lib=\"/usr/lib/R/site-library\")"
   ]
  },
  {
   "cell_type": "code",
   "execution_count": null,
   "metadata": {
    "scrolled": true
   },
   "outputs": [],
   "source": [
    "install.packages('irr', repos=\"https://mirrors.tuna.tsinghua.edu.cn/CRAN/\", lib=\"/usr/lib/R/site-library\")"
   ]
  },
  {
   "cell_type": "code",
   "execution_count": null,
   "metadata": {
    "scrolled": true
   },
   "outputs": [],
   "source": [
    "install.packages('reshape', repos=\"https://mirrors.tuna.tsinghua.edu.cn/CRAN/\", lib=\"/usr/lib/R/site-library\")"
   ]
  },
  {
   "cell_type": "code",
   "execution_count": null,
   "metadata": {
    "scrolled": true
   },
   "outputs": [],
   "source": [
    "install.packages('gmailr', repos=\"https://mirrors.tuna.tsinghua.edu.cn/CRAN/\", lib=\"/usr/lib/R/site-library\")"
   ]
  },
  {
   "cell_type": "code",
   "execution_count": null,
   "metadata": {
    "scrolled": true
   },
   "outputs": [],
   "source": [
    "install.packages('purrr', repos=\"https://mirrors.tuna.tsinghua.edu.cn/CRAN/\", lib=\"/usr/lib/R/site-library\")"
   ]
  },
  {
   "cell_type": "code",
   "execution_count": null,
   "metadata": {
    "scrolled": true
   },
   "outputs": [],
   "source": [
    "install.packages('gpg', repos=\"https://mirrors.tuna.tsinghua.edu.cn/CRAN/\", lib=\"/usr/lib/R/site-library\")"
   ]
  },
  {
   "cell_type": "code",
   "execution_count": null,
   "metadata": {
    "scrolled": true
   },
   "outputs": [],
   "source": [
    "install.packages('sodium', repos=\"https://mirrors.tuna.tsinghua.edu.cn/CRAN/\", lib=\"/usr/lib/R/site-library\")"
   ]
  },
  {
   "cell_type": "code",
   "execution_count": null,
   "metadata": {
    "scrolled": true
   },
   "outputs": [],
   "source": [
    "install.packages('blastula', repos=\"https://mirrors.tuna.tsinghua.edu.cn/CRAN/\", lib=\"/usr/lib/R/site-library\")"
   ]
  },
  {
   "cell_type": "code",
   "execution_count": null,
   "metadata": {
    "scrolled": true
   },
   "outputs": [],
   "source": [
    "install.packages('blatr', repos=\"https://mirrors.tuna.tsinghua.edu.cn/CRAN/\", lib=\"/usr/lib/R/site-library\")"
   ]
  },
  {
   "cell_type": "code",
   "execution_count": null,
   "metadata": {
    "scrolled": true
   },
   "outputs": [],
   "source": [
    "install.packages('edeR', repos=\"https://mirrors.tuna.tsinghua.edu.cn/CRAN/\", lib=\"/usr/lib/R/site-library\")"
   ]
  },
  {
   "cell_type": "code",
   "execution_count": null,
   "metadata": {
    "scrolled": true
   },
   "outputs": [],
   "source": [
    "install.packages('emayili', repos=\"https://mirrors.tuna.tsinghua.edu.cn/CRAN/\", lib=\"/usr/lib/R/site-library\")"
   ]
  },
  {
   "cell_type": "code",
   "execution_count": null,
   "metadata": {
    "scrolled": true
   },
   "outputs": [],
   "source": [
    "install.packages('IMailgun', repos=\"https://mirrors.tuna.tsinghua.edu.cn/CRAN/\", lib=\"/usr/lib/R/site-library\")"
   ]
  },
  {
   "cell_type": "code",
   "execution_count": null,
   "metadata": {
    "scrolled": true
   },
   "outputs": [],
   "source": [
    "install.packages('sendmailR', repos=\"https://mirrors.tuna.tsinghua.edu.cn/CRAN/\", lib=\"/usr/lib/R/site-library\")"
   ]
  },
  {
   "cell_type": "code",
   "execution_count": null,
   "metadata": {
    "scrolled": true
   },
   "outputs": [],
   "source": [
    "install.packages('ponyexpress', repos=\"https://mirrors.tuna.tsinghua.edu.cn/CRAN/\", lib=\"/usr/lib/R/site-library\")"
   ]
  },
  {
   "cell_type": "code",
   "execution_count": null,
   "metadata": {
    "scrolled": true
   },
   "outputs": [],
   "source": [
    "install.packages('RDCOMClient', repos=\"https://mirrors.tuna.tsinghua.edu.cn/CRAN/\", lib=\"/usr/lib/R/site-library\")"
   ]
  },
  {
   "cell_type": "code",
   "execution_count": null,
   "metadata": {
    "scrolled": true
   },
   "outputs": [],
   "source": [
    "install.packages('lme4', repos=\"https://mirrors.tuna.tsinghua.edu.cn/CRAN/\", lib=\"/usr/lib/R/site-library\")"
   ]
  },
  {
   "cell_type": "code",
   "execution_count": null,
   "metadata": {
    "scrolled": true
   },
   "outputs": [],
   "source": [
    "install.packages('psych', repos=\"https://mirrors.tuna.tsinghua.edu.cn/CRAN/\", lib=\"/usr/lib/R/site-library\")"
   ]
  },
  {
   "cell_type": "code",
   "execution_count": null,
   "metadata": {
    "scrolled": true
   },
   "outputs": [],
   "source": [
    "install.packages('rvest', repos=\"https://mirrors.tuna.tsinghua.edu.cn/CRAN/\", lib=\"/usr/lib/R/site-library\")"
   ]
  },
  {
   "cell_type": "code",
   "execution_count": null,
   "metadata": {
    "scrolled": true
   },
   "outputs": [],
   "source": [
    "install.packages('RMySQL', repos=\"https://mirrors.tuna.tsinghua.edu.cn/CRAN/\", lib=\"/usr/lib/R/site-library\")"
   ]
  },
  {
   "cell_type": "code",
   "execution_count": null,
   "metadata": {
    "scrolled": true
   },
   "outputs": [],
   "source": [
    "install.packages('openxlsx', repos=\"https://mirrors.tuna.tsinghua.edu.cn/CRAN/\", lib=\"/usr/lib/R/site-library\")"
   ]
  },
  {
   "cell_type": "code",
   "execution_count": null,
   "metadata": {
    "scrolled": true
   },
   "outputs": [],
   "source": [
    "install.packages('arsenal', repos=\"https://mirrors.tuna.tsinghua.edu.cn/CRAN/\", lib=\"/usr/lib/R/site-library\")"
   ]
  },
  {
   "cell_type": "code",
   "execution_count": null,
   "metadata": {
    "scrolled": true
   },
   "outputs": [],
   "source": [
    "install.packages('diffr', repos=\"https://mirrors.tuna.tsinghua.edu.cn/CRAN/\", lib=\"/usr/lib/R/site-library\")"
   ]
  },
  {
   "cell_type": "code",
   "execution_count": null,
   "metadata": {
    "scrolled": true
   },
   "outputs": [],
   "source": [
    "install.packages('later', repos=\"https://mirrors.tuna.tsinghua.edu.cn/CRAN/\", lib=\"/usr/lib/R/site-library\")"
   ]
  },
  {
   "cell_type": "code",
   "execution_count": null,
   "metadata": {
    "scrolled": true
   },
   "outputs": [],
   "source": [
    "install.packages('svDialogs', repos=\"https://mirrors.tuna.tsinghua.edu.cn/CRAN/\", lib=\"/usr/lib/R/site-library\")"
   ]
  },
  {
   "cell_type": "code",
   "execution_count": null,
   "metadata": {
    "scrolled": true
   },
   "outputs": [],
   "source": [
    "install.packages('pushoverr', repos=\"https://mirrors.tuna.tsinghua.edu.cn/CRAN/\", lib=\"/usr/lib/R/site-library\")"
   ]
  },
  {
   "cell_type": "code",
   "execution_count": null,
   "metadata": {
    "scrolled": true
   },
   "outputs": [],
   "source": [
    "install.packages('owmr', repos=\"https://mirrors.tuna.tsinghua.edu.cn/CRAN/\", lib=\"/usr/lib/R/site-library\")"
   ]
  },
  {
   "cell_type": "code",
   "execution_count": null,
   "metadata": {
    "scrolled": true
   },
   "outputs": [],
   "source": [
    "install.packages('arsenal', repos=\"https://mirrors.tuna.tsinghua.edu.cn/CRAN/\", lib=\"/usr/lib/R/site-library\")"
   ]
  },
  {
   "cell_type": "code",
   "execution_count": null,
   "metadata": {
    "scrolled": true
   },
   "outputs": [],
   "source": [
    "install.packages('tidyquant', repos=\"https://mirrors.tuna.tsinghua.edu.cn/CRAN/\", lib=\"/usr/lib/R/site-library\")"
   ]
  },
  {
   "cell_type": "code",
   "execution_count": null,
   "metadata": {
    "scrolled": true
   },
   "outputs": [],
   "source": [
    "install.packages('markdown', repos=\"https://mirrors.tuna.tsinghua.edu.cn/CRAN/\", lib=\"/usr/lib/R/site-library\")"
   ]
  },
  {
   "cell_type": "code",
   "execution_count": null,
   "metadata": {
    "scrolled": true
   },
   "outputs": [],
   "source": [
    "install.packages('devtools', repos=\"https://mirrors.tuna.tsinghua.edu.cn/CRAN/\", lib=\"/usr/lib/R/site-library\")"
   ]
  },
  {
   "cell_type": "code",
   "execution_count": null,
   "metadata": {
    "scrolled": true
   },
   "outputs": [],
   "source": [
    "install.packages('boot', repos=\"https://mirrors.tuna.tsinghua.edu.cn/CRAN/\", lib=\"/usr/lib/R/site-library\")"
   ]
  },
  {
   "cell_type": "code",
   "execution_count": null,
   "metadata": {
    "scrolled": true
   },
   "outputs": [],
   "source": [
    "install.packages('Hmisc', repos=\"https://mirrors.tuna.tsinghua.edu.cn/CRAN/\", lib=\"/usr/lib/R/site-library\")"
   ]
  },
  {
   "cell_type": "code",
   "execution_count": null,
   "metadata": {
    "scrolled": false
   },
   "outputs": [],
   "source": [
    "install.packages('ICSNP', repos=\"https://mirrors.tuna.tsinghua.edu.cn/CRAN/\", lib=\"/usr/lib/R/site-library\")"
   ]
  },
  {
   "cell_type": "code",
   "execution_count": null,
   "metadata": {
    "scrolled": true
   },
   "outputs": [],
   "source": [
    "install.packages('mitools', repos=\"https://mirrors.tuna.tsinghua.edu.cn/CRAN/\", lib=\"/usr/lib/R/site-library\")"
   ]
  },
  {
   "cell_type": "code",
   "execution_count": null,
   "metadata": {
    "scrolled": true
   },
   "outputs": [],
   "source": [
    "install.packages('mice', repos=\"https://mirrors.tuna.tsinghua.edu.cn/CRAN/\", lib=\"/usr/lib/R/site-library\")"
   ]
  },
  {
   "cell_type": "code",
   "execution_count": null,
   "metadata": {
    "scrolled": true
   },
   "outputs": [],
   "source": [
    "install.packages('norm', repos=\"https://mirrors.tuna.tsinghua.edu.cn/CRAN/\", lib=\"/usr/lib/R/site-library\")"
   ]
  },
  {
   "cell_type": "code",
   "execution_count": null,
   "metadata": {
    "scrolled": true
   },
   "outputs": [],
   "source": [
    "install.packages('matrixcalc', repos=\"https://mirrors.tuna.tsinghua.edu.cn/CRAN/\", lib=\"/usr/lib/R/site-library\")"
   ]
  },
  {
   "cell_type": "code",
   "execution_count": null,
   "metadata": {
    "scrolled": true
   },
   "outputs": [],
   "source": [
    "install.packages('spam', repos=\"https://mirrors.tuna.tsinghua.edu.cn/CRAN/\", lib=\"/usr/lib/R/site-library\")"
   ]
  },
  {
   "cell_type": "code",
   "execution_count": null,
   "metadata": {
    "scrolled": true
   },
   "outputs": [],
   "source": [
    "install.packages('ROCR', repos=\"https://mirrors.tuna.tsinghua.edu.cn/CRAN/\", lib=\"/usr/lib/R/site-library\")"
   ]
  },
  {
   "cell_type": "code",
   "execution_count": null,
   "metadata": {
    "scrolled": true
   },
   "outputs": [],
   "source": [
    "install.packages('arules', repos=\"https://mirrors.tuna.tsinghua.edu.cn/CRAN/\", lib=\"/usr/lib/R/site-library\")"
   ]
  },
  {
   "cell_type": "code",
   "execution_count": null,
   "metadata": {
    "scrolled": true
   },
   "outputs": [],
   "source": [
    "install.packages('gafit', repos=\"https://mirrors.tuna.tsinghua.edu.cn/CRAN/\", lib=\"/usr/lib/R/site-library\")"
   ]
  },
  {
   "cell_type": "code",
   "execution_count": null,
   "metadata": {
    "scrolled": false
   },
   "outputs": [],
   "source": [
    "install.packages('tgp', repos=\"https://mirrors.tuna.tsinghua.edu.cn/CRAN/\", lib=\"/usr/lib/R/site-library\")"
   ]
  },
  {
   "cell_type": "code",
   "execution_count": null,
   "metadata": {
    "scrolled": true
   },
   "outputs": [],
   "source": [
    "install.packages('LogicReg', repos=\"https://mirrors.tuna.tsinghua.edu.cn/CRAN/\", lib=\"/usr/lib/R/site-library\")"
   ]
  },
  {
   "cell_type": "code",
   "execution_count": null,
   "metadata": {
    "scrolled": true
   },
   "outputs": [],
   "source": [
    "install.packages('ellipse', repos=\"https://mirrors.tuna.tsinghua.edu.cn/CRAN/\", lib=\"/usr/lib/R/site-library\")"
   ]
  },
  {
   "cell_type": "code",
   "execution_count": null,
   "metadata": {
    "scrolled": true
   },
   "outputs": [],
   "source": [
    "install.packages('lasso2', repos=\"https://mirrors.tuna.tsinghua.edu.cn/CRAN/\", lib=\"/usr/lib/R/site-library\")"
   ]
  },
  {
   "cell_type": "code",
   "execution_count": null,
   "metadata": {
    "scrolled": true
   },
   "outputs": [],
   "source": [
    "install.packages('lars', repos=\"https://mirrors.tuna.tsinghua.edu.cn/CRAN/\", lib=\"/usr/lib/R/site-library\")"
   ]
  },
  {
   "cell_type": "code",
   "execution_count": null,
   "metadata": {
    "scrolled": true
   },
   "outputs": [],
   "source": [
    "install.packages('glmpath', repos=\"https://mirrors.tuna.tsinghua.edu.cn/CRAN/\", lib=\"/usr/lib/R/site-library\")"
   ]
  },
  {
   "cell_type": "code",
   "execution_count": null,
   "metadata": {
    "scrolled": true
   },
   "outputs": [],
   "source": [
    "install.packages('penalized', repos=\"https://mirrors.tuna.tsinghua.edu.cn/CRAN/\", lib=\"/usr/lib/R/site-library\")"
   ]
  },
  {
   "cell_type": "code",
   "execution_count": null,
   "metadata": {
    "scrolled": true
   },
   "outputs": [],
   "source": [
    "install.packages('pamr', repos=\"https://mirrors.tuna.tsinghua.edu.cn/CRAN/\", lib=\"/usr/lib/R/site-library\")"
   ]
  },
  {
   "cell_type": "code",
   "execution_count": null,
   "metadata": {
    "scrolled": true
   },
   "outputs": [],
   "source": [
    "install.packages('earth', repos=\"https://mirrors.tuna.tsinghua.edu.cn/CRAN/\", lib=\"/usr/lib/R/site-library\")"
   ]
  },
  {
   "cell_type": "code",
   "execution_count": null,
   "metadata": {
    "scrolled": true
   },
   "outputs": [],
   "source": [
    "install.packages('predbayescor', repos=\"https://mirrors.tuna.tsinghua.edu.cn/CRAN/\", lib=\"/usr/lib/R/site-library\")"
   ]
  },
  {
   "cell_type": "code",
   "execution_count": null,
   "metadata": {
    "scrolled": true
   },
   "outputs": [],
   "source": [
    "install.packages('bayesm', repos=\"https://mirrors.tuna.tsinghua.edu.cn/CRAN/\", lib=\"/usr/lib/R/site-library\")"
   ]
  },
  {
   "cell_type": "code",
   "execution_count": null,
   "metadata": {
    "scrolled": true
   },
   "outputs": [],
   "source": [
    "install.packages('corpcor', repos=\"https://mirrors.tuna.tsinghua.edu.cn/CRAN/\", lib=\"/usr/lib/R/site-library\")"
   ]
  },
  {
   "cell_type": "code",
   "execution_count": null,
   "metadata": {
    "scrolled": true
   },
   "outputs": [],
   "source": [
    "install.packages('dprep', repos=\"https://mirrors.tuna.tsinghua.edu.cn/CRAN/\", lib=\"/usr/lib/R/site-library\")"
   ]
  },
  {
   "cell_type": "code",
   "execution_count": null,
   "metadata": {
    "scrolled": true
   },
   "outputs": [],
   "source": [
    "install.packages('seriation', repos=\"https://mirrors.tuna.tsinghua.edu.cn/CRAN/\", lib=\"/usr/lib/R/site-library\")"
   ]
  },
  {
   "cell_type": "code",
   "execution_count": null,
   "metadata": {
    "scrolled": true
   },
   "outputs": [],
   "source": [
    "install.packages('delt', repos=\"https://mirrors.tuna.tsinghua.edu.cn/CRAN/\", lib=\"/usr/lib/R/site-library\")"
   ]
  },
  {
   "cell_type": "code",
   "execution_count": null,
   "metadata": {
    "scrolled": true
   },
   "outputs": [],
   "source": [
    "install.packages('sn', repos=\"https://mirrors.tuna.tsinghua.edu.cn/CRAN/\", lib=\"/usr/lib/R/site-library\")"
   ]
  },
  {
   "cell_type": "code",
   "execution_count": null,
   "metadata": {
    "scrolled": true
   },
   "outputs": [],
   "source": [
    "install.packages('ppls', repos=\"https://mirrors.tuna.tsinghua.edu.cn/CRAN/\", lib=\"/usr/lib/R/site-library\")"
   ]
  },
  {
   "cell_type": "code",
   "execution_count": null,
   "metadata": {
    "scrolled": true
   },
   "outputs": [],
   "source": [
    "install.packages('concor', repos=\"https://mirrors.tuna.tsinghua.edu.cn/CRAN/\", lib=\"/usr/lib/R/site-library\")"
   ]
  },
  {
   "cell_type": "code",
   "execution_count": null,
   "metadata": {
    "scrolled": true
   },
   "outputs": [],
   "source": [
    "install.packages('MNP', repos=\"https://mirrors.tuna.tsinghua.edu.cn/CRAN/\", lib=\"/usr/lib/R/site-library\")"
   ]
  },
  {
   "cell_type": "code",
   "execution_count": null,
   "metadata": {
    "scrolled": true
   },
   "outputs": [],
   "source": [
    "install.packages('bivpois', repos=\"https://mirrors.tuna.tsinghua.edu.cn/CRAN/\", lib=\"/usr/lib/R/site-library\")"
   ]
  },
  {
   "cell_type": "code",
   "execution_count": null,
   "metadata": {
    "scrolled": true
   },
   "outputs": [],
   "source": [
    "install.packages('httr', repos=\"https://mirrors.tuna.tsinghua.edu.cn/CRAN/\", lib=\"/usr/lib/R/site-library\")"
   ]
  },
  {
   "cell_type": "code",
   "execution_count": null,
   "metadata": {
    "scrolled": true
   },
   "outputs": [],
   "source": [
    "install.packages('IntAssoPlot', repos=\"https://mirrors.tuna.tsinghua.edu.cn/CRAN/\", lib=\"/usr/lib/R/site-library\")"
   ]
  },
  {
   "cell_type": "code",
   "execution_count": null,
   "metadata": {
    "scrolled": true
   },
   "outputs": [],
   "source": [
    "install.packages('lubridata', repos=\"https://mirrors.tuna.tsinghua.edu.cn/CRAN/\", lib=\"/usr/lib/R/site-library\")"
   ]
  },
  {
   "cell_type": "code",
   "execution_count": null,
   "metadata": {
    "scrolled": true
   },
   "outputs": [],
   "source": [
    "install.packages('mcmc', repos=\"https://mirrors.tuna.tsinghua.edu.cn/CRAN/\", lib=\"/usr/lib/R/site-library\")"
   ]
  },
  {
   "cell_type": "code",
   "execution_count": null,
   "metadata": {
    "scrolled": true
   },
   "outputs": [],
   "source": [
    "install.packages('Base R', repos=\"https://mirrors.tuna.tsinghua.edu.cn/CRAN/\", lib=\"/usr/lib/R/site-library\")"
   ]
  },
  {
   "cell_type": "code",
   "execution_count": null,
   "metadata": {
    "scrolled": true
   },
   "outputs": [],
   "source": [
    "install.packages('nlme', repos=\"https://mirrors.tuna.tsinghua.edu.cn/CRAN/\", lib=\"/usr/lib/R/site-library\")"
   ]
  },
  {
   "cell_type": "code",
   "execution_count": null,
   "metadata": {
    "scrolled": true
   },
   "outputs": [],
   "source": [
    "install.packages('aov', repos=\"https://mirrors.tuna.tsinghua.edu.cn/CRAN/\", lib=\"/usr/lib/R/site-library\")"
   ]
  },
  {
   "cell_type": "code",
   "execution_count": null,
   "metadata": {
    "scrolled": true
   },
   "outputs": [],
   "source": [
    "install.packages('anova', repos=\"https://mirrors.tuna.tsinghua.edu.cn/CRAN/\", lib=\"/usr/lib/R/site-library\")"
   ]
  },
  {
   "cell_type": "code",
   "execution_count": null,
   "metadata": {
    "scrolled": true
   },
   "outputs": [],
   "source": [
    "install.packages('density', repos=\"https://mirrors.tuna.tsinghua.edu.cn/CRAN/\", lib=\"/usr/lib/R/site-library\")"
   ]
  },
  {
   "cell_type": "code",
   "execution_count": null,
   "metadata": {
    "scrolled": true
   },
   "outputs": [],
   "source": [
    "install.packages('tm', repos=\"https://mirrors.tuna.tsinghua.edu.cn/CRAN/\", lib=\"/usr/lib/R/site-library\")"
   ]
  },
  {
   "cell_type": "code",
   "execution_count": null,
   "metadata": {
    "scrolled": true
   },
   "outputs": [],
   "source": [
    "install.packages('Logistic', repos=\"https://mirrors.tuna.tsinghua.edu.cn/CRAN/\", lib=\"/usr/lib/R/site-library\")"
   ]
  },
  {
   "cell_type": "code",
   "execution_count": null,
   "metadata": {
    "scrolled": true
   },
   "outputs": [],
   "source": [
    "install.packages('residuals', repos=\"https://mirrors.tuna.tsinghua.edu.cn/CRAN/\", lib=\"/usr/lib/R/site-library\")"
   ]
  },
  {
   "cell_type": "code",
   "execution_count": null,
   "metadata": {
    "scrolled": true
   },
   "outputs": [],
   "source": [
    "install.packages('dbscan', repos=\"https://mirrors.tuna.tsinghua.edu.cn/CRAN/\", lib=\"/usr/lib/R/site-library\")"
   ]
  },
  {
   "cell_type": "code",
   "execution_count": null,
   "metadata": {
    "scrolled": true
   },
   "outputs": [],
   "source": [
    "install.packages('zoo', repos=\"https://mirrors.tuna.tsinghua.edu.cn/CRAN/\", lib=\"/usr/lib/R/site-library\")"
   ]
  },
  {
   "cell_type": "code",
   "execution_count": null,
   "metadata": {
    "scrolled": true
   },
   "outputs": [],
   "source": [
    "install.packages('xts', repos=\"https://mirrors.tuna.tsinghua.edu.cn/CRAN/\", lib=\"/usr/lib/R/site-library\")"
   ]
  },
  {
   "cell_type": "code",
   "execution_count": null,
   "metadata": {
    "scrolled": true
   },
   "outputs": [],
   "source": [
    "install.packages('chorn', repos=\"https://mirrors.tuna.tsinghua.edu.cn/CRAN/\", lib=\"/usr/lib/R/site-library\")"
   ]
  },
  {
   "cell_type": "code",
   "execution_count": null,
   "metadata": {
    "scrolled": true
   },
   "outputs": [],
   "source": [
    "install.packages('its', repos=\"https://mirrors.tuna.tsinghua.edu.cn/CRAN/\", lib=\"/usr/lib/R/site-library\")"
   ]
  },
  {
   "cell_type": "code",
   "execution_count": null,
   "metadata": {
    "scrolled": true
   },
   "outputs": [],
   "source": [
    "install.packages('timeDate', repos=\"https://mirrors.tuna.tsinghua.edu.cn/CRAN/\", lib=\"/usr/lib/R/site-library\")"
   ]
  },
  {
   "cell_type": "code",
   "execution_count": null,
   "metadata": {
    "scrolled": true
   },
   "outputs": [],
   "source": [
    "install.packages('recharts', repos=\"https://mirrors.tuna.tsinghua.edu.cn/CRAN/\", lib=\"/usr/lib/R/site-library\")"
   ]
  },
  {
   "cell_type": "code",
   "execution_count": null,
   "metadata": {
    "scrolled": true
   },
   "outputs": [],
   "source": [
    "install.packages('kmeans', repos=\"https://mirrors.tuna.tsinghua.edu.cn/CRAN/\", lib=\"/usr/lib/R/site-library\")"
   ]
  },
  {
   "cell_type": "code",
   "execution_count": null,
   "metadata": {
    "scrolled": true
   },
   "outputs": [],
   "source": [
    "install.packages('pam', repos=\"https://mirrors.tuna.tsinghua.edu.cn/CRAN/\", lib=\"/usr/lib/R/site-library\")"
   ]
  },
  {
   "cell_type": "code",
   "execution_count": null,
   "metadata": {
    "scrolled": true
   },
   "outputs": [],
   "source": [
    "install.packages('forecast4', repos=\"https://mirrors.tuna.tsinghua.edu.cn/CRAN/\", lib=\"/usr/lib/R/site-library\")"
   ]
  },
  {
   "cell_type": "code",
   "execution_count": null,
   "metadata": {
    "scrolled": true
   },
   "outputs": [],
   "source": [
    "install.packages('tseries', repos=\"https://mirrors.tuna.tsinghua.edu.cn/CRAN/\", lib=\"/usr/lib/R/site-library\")"
   ]
  },
  {
   "cell_type": "code",
   "execution_count": null,
   "metadata": {
    "scrolled": true
   },
   "outputs": [],
   "source": [
    "install.packages('jiebaR', repos=\"https://mirrors.tuna.tsinghua.edu.cn/CRAN/\", lib=\"/usr/lib/R/site-library\")"
   ]
  },
  {
   "cell_type": "code",
   "execution_count": null,
   "metadata": {
    "scrolled": true
   },
   "outputs": [],
   "source": [
    "install.packages('princomp', repos=\"https://mirrors.tuna.tsinghua.edu.cn/CRAN/\", lib=\"/usr/lib/R/site-library\")"
   ]
  },
  {
   "cell_type": "code",
   "execution_count": null,
   "metadata": {
    "scrolled": true
   },
   "outputs": [],
   "source": [
    "install.packages('formatR', repos=\"https://mirrors.tuna.tsinghua.edu.cn/CRAN/\", lib=\"/usr/lib/R/site-library\")"
   ]
  },
  {
   "cell_type": "code",
   "execution_count": null,
   "metadata": {
    "scrolled": true
   },
   "outputs": [],
   "source": [
    "install.packages('quantmod', repos=\"https://mirrors.tuna.tsinghua.edu.cn/CRAN/\", lib=\"/usr/lib/R/site-library\")"
   ]
  },
  {
   "cell_type": "code",
   "execution_count": null,
   "metadata": {
    "scrolled": true
   },
   "outputs": [],
   "source": [
    "install.packages('nlminb', repos=\"https://mirrors.tuna.tsinghua.edu.cn/CRAN/\", lib=\"/usr/lib/R/site-library\")"
   ]
  },
  {
   "cell_type": "code",
   "execution_count": null,
   "metadata": {
    "scrolled": true
   },
   "outputs": [],
   "source": [
    "install.packages('BB', repos=\"https://mirrors.tuna.tsinghua.edu.cn/CRAN/\", lib=\"/usr/lib/R/site-library\")"
   ]
  },
  {
   "cell_type": "code",
   "execution_count": null,
   "metadata": {
    "scrolled": true
   },
   "outputs": [],
   "source": [
    "install.packages('adaptive barrier', repos=\"https://mirrors.tuna.tsinghua.edu.cn/CRAN/\", lib=\"/usr/lib/R/site-library\")"
   ]
  },
  {
   "cell_type": "code",
   "execution_count": null,
   "metadata": {
    "scrolled": true
   },
   "outputs": [],
   "source": [
    "install.packages('nlminb', repos=\"https://mirrors.tuna.tsinghua.edu.cn/CRAN/\", lib=\"/usr/lib/R/site-library\")"
   ]
  },
  {
   "cell_type": "code",
   "execution_count": null,
   "metadata": {
    "scrolled": true
   },
   "outputs": [],
   "source": [
    "install.packages('alabama', repos=\"https://mirrors.tuna.tsinghua.edu.cn/CRAN/\", lib=\"/usr/lib/R/site-library\")"
   ]
  },
  {
   "cell_type": "code",
   "execution_count": null,
   "metadata": {
    "scrolled": true
   },
   "outputs": [],
   "source": [
    "install.packages('lpSolve', repos=\"https://mirrors.tuna.tsinghua.edu.cn/CRAN/\", lib=\"/usr/lib/R/site-library\")"
   ]
  },
  {
   "cell_type": "code",
   "execution_count": null,
   "metadata": {
    "scrolled": true
   },
   "outputs": [],
   "source": [
    "install.packages('linprog', repos=\"https://mirrors.tuna.tsinghua.edu.cn/CRAN/\", lib=\"/usr/lib/R/site-library\")"
   ]
  },
  {
   "cell_type": "code",
   "execution_count": null,
   "metadata": {
    "scrolled": true
   },
   "outputs": [],
   "source": [
    "install.packages('wordcloud2', repos=\"https://mirrors.tuna.tsinghua.edu.cn/CRAN/\", lib=\"/usr/lib/R/site-library\")"
   ]
  },
  {
   "cell_type": "code",
   "execution_count": null,
   "metadata": {
    "scrolled": true
   },
   "outputs": [],
   "source": [
    "install.packages('wordcloud', repos=\"https://mirrors.tuna.tsinghua.edu.cn/CRAN/\", lib=\"/usr/lib/R/site-library\")"
   ]
  },
  {
   "cell_type": "code",
   "execution_count": null,
   "metadata": {
    "scrolled": true
   },
   "outputs": [],
   "source": [
    "install.packages('RSelenium', repos=\"https://mirrors.tuna.tsinghua.edu.cn/CRAN/\", lib=\"/usr/lib/R/site-library\")"
   ]
  },
  {
   "cell_type": "code",
   "execution_count": null,
   "metadata": {
    "scrolled": true
   },
   "outputs": [],
   "source": [
    "install.packages('cforest', repos=\"https://mirrors.tuna.tsinghua.edu.cn/CRAN/\", lib=\"/usr/lib/R/site-library\")"
   ]
  },
  {
   "cell_type": "code",
   "execution_count": null,
   "metadata": {
    "scrolled": true
   },
   "outputs": [],
   "source": [
    "install.packages('kernlab', repos=\"https://mirrors.tuna.tsinghua.edu.cn/CRAN/\", lib=\"/usr/lib/R/site-library\")"
   ]
  },
  {
   "cell_type": "code",
   "execution_count": null,
   "metadata": {
    "scrolled": true
   },
   "outputs": [],
   "source": [
    "install.packages('parma', repos=\"https://mirrors.tuna.tsinghua.edu.cn/CRAN/\", lib=\"/usr/lib/R/site-library\")"
   ]
  },
  {
   "cell_type": "code",
   "execution_count": null,
   "metadata": {
    "scrolled": true
   },
   "outputs": [],
   "source": [
    "install.packages('ismev', repos=\"https://mirrors.tuna.tsinghua.edu.cn/CRAN/\", lib=\"/usr/lib/R/site-library\")"
   ]
  },
  {
   "cell_type": "code",
   "execution_count": null,
   "metadata": {
    "scrolled": true
   },
   "outputs": [],
   "source": [
    "install.packages('PerformanceAnalytics', repos=\"https://mirrors.tuna.tsinghua.edu.cn/CRAN/\", lib=\"/usr/lib/R/site-library\")"
   ]
  },
  {
   "cell_type": "code",
   "execution_count": null,
   "metadata": {
    "scrolled": true
   },
   "outputs": [],
   "source": [
    "install.packages('capet', repos=\"https://mirrors.tuna.tsinghua.edu.cn/CRAN/\", lib=\"/usr/lib/R/site-library\")"
   ]
  },
  {
   "cell_type": "code",
   "execution_count": null,
   "metadata": {
    "scrolled": true
   },
   "outputs": [],
   "source": [
    "install.packages('DWwR', repos=\"https://mirrors.tuna.tsinghua.edu.cn/CRAN/\", lib=\"/usr/lib/R/site-library\")"
   ]
  },
  {
   "cell_type": "code",
   "execution_count": null,
   "metadata": {
    "scrolled": true
   },
   "outputs": [],
   "source": [
    "install.packages('tidyverse', repos=\"https://mirrors.tuna.tsinghua.edu.cn/CRAN/\", lib=\"/usr/lib/R/site-library\")"
   ]
  },
  {
   "cell_type": "code",
   "execution_count": null,
   "metadata": {
    "scrolled": true
   },
   "outputs": [],
   "source": [
    "install.packages('evdbayes', repos=\"https://mirrors.tuna.tsinghua.edu.cn/CRAN/\", lib=\"/usr/lib/R/site-library\")"
   ]
  },
  {
   "cell_type": "code",
   "execution_count": null,
   "metadata": {
    "scrolled": true
   },
   "outputs": [],
   "source": [
    "install.packages('snow', repos=\"https://mirrors.tuna.tsinghua.edu.cn/CRAN/\", lib=\"/usr/lib/R/site-library\")"
   ]
  },
  {
   "cell_type": "code",
   "execution_count": null,
   "metadata": {
    "scrolled": true
   },
   "outputs": [],
   "source": [
    "install.packages('gpuR', repos=\"https://mirrors.tuna.tsinghua.edu.cn/CRAN/\", lib=\"/usr/lib/R/site-library\")"
   ]
  },
  {
   "cell_type": "code",
   "execution_count": null,
   "metadata": {
    "scrolled": true
   },
   "outputs": [],
   "source": [
    "install.packages('OpenCL', repos=\"https://mirrors.tuna.tsinghua.edu.cn/CRAN/\", lib=\"/usr/lib/R/site-library\")"
   ]
  },
  {
   "cell_type": "code",
   "execution_count": null,
   "metadata": {
    "scrolled": true
   },
   "outputs": [],
   "source": [
    "install.packages('Rmpi', repos=\"https://mirrors.tuna.tsinghua.edu.cn/CRAN/\", lib=\"/usr/lib/R/site-library\")"
   ]
  },
  {
   "cell_type": "code",
   "execution_count": null,
   "metadata": {
    "scrolled": true
   },
   "outputs": [],
   "source": [
    "install.packages('Rcpp', repos=\"https://mirrors.tuna.tsinghua.edu.cn/CRAN/\", lib=\"/usr/lib/R/site-library\")"
   ]
  },
  {
   "cell_type": "code",
   "execution_count": null,
   "metadata": {
    "scrolled": true
   },
   "outputs": [],
   "source": [
    "install.packages('ARE', repos=\"https://mirrors.tuna.tsinghua.edu.cn/CRAN/\", lib=\"/usr/lib/R/site-library\")"
   ]
  },
  {
   "cell_type": "code",
   "execution_count": null,
   "metadata": {
    "scrolled": true
   },
   "outputs": [],
   "source": [
    "install.packages('sandwish', repos=\"https://mirrors.tuna.tsinghua.edu.cn/CRAN/\", lib=\"/usr/lib/R/site-library\")"
   ]
  },
  {
   "cell_type": "code",
   "execution_count": null,
   "metadata": {
    "scrolled": true
   },
   "outputs": [],
   "source": [
    "install.packages('leaflet', repos=\"https://mirrors.tuna.tsinghua.edu.cn/CRAN/\", lib=\"/usr/lib/R/site-library\")"
   ]
  },
  {
   "cell_type": "code",
   "execution_count": null,
   "metadata": {
    "scrolled": true
   },
   "outputs": [],
   "source": [
    "install.packages('highcharter', repos=\"https://mirrors.tuna.tsinghua.edu.cn/CRAN/\", lib=\"/usr/lib/R/site-library\")"
   ]
  },
  {
   "cell_type": "code",
   "execution_count": null,
   "metadata": {
    "scrolled": true
   },
   "outputs": [],
   "source": [
    "install.packages('scatterplot3d', repos=\"https://mirrors.tuna.tsinghua.edu.cn/CRAN/\", lib=\"/usr/lib/R/site-library\")"
   ]
  },
  {
   "cell_type": "code",
   "execution_count": null,
   "metadata": {
    "scrolled": true
   },
   "outputs": [],
   "source": [
    "install.packages('dygraphs', repos=\"https://mirrors.tuna.tsinghua.edu.cn/CRAN/\", lib=\"/usr/lib/R/site-library\")"
   ]
  },
  {
   "cell_type": "code",
   "execution_count": null,
   "metadata": {
    "scrolled": true
   },
   "outputs": [],
   "source": [
    "install.packages('rbokeh', repos=\"https://mirrors.tuna.tsinghua.edu.cn/CRAN/\", lib=\"/usr/lib/R/site-library\")"
   ]
  },
  {
   "cell_type": "code",
   "execution_count": null,
   "metadata": {
    "scrolled": true
   },
   "outputs": [],
   "source": [
    "install.packages('ggthemes', repos=\"https://mirrors.tuna.tsinghua.edu.cn/CRAN/\", lib=\"/usr/lib/R/site-library\")"
   ]
  },
  {
   "cell_type": "code",
   "execution_count": null,
   "metadata": {
    "scrolled": true
   },
   "outputs": [],
   "source": [
    "install.packages('baidumap', repos=\"https://mirrors.tuna.tsinghua.edu.cn/CRAN/\", lib=\"/usr/lib/R/site-library\")"
   ]
  },
  {
   "cell_type": "code",
   "execution_count": null,
   "metadata": {
    "scrolled": true
   },
   "outputs": [],
   "source": [
    "install.packages('ggmap', repos=\"https://mirrors.tuna.tsinghua.edu.cn/CRAN/\", lib=\"/usr/lib/R/site-library\")"
   ]
  },
  {
   "cell_type": "code",
   "execution_count": null,
   "metadata": {
    "scrolled": true
   },
   "outputs": [],
   "source": [
    "install.packages('maptools', repos=\"https://mirrors.tuna.tsinghua.edu.cn/CRAN/\", lib=\"/usr/lib/R/site-library\")"
   ]
  },
  {
   "cell_type": "code",
   "execution_count": null,
   "metadata": {
    "scrolled": true
   },
   "outputs": [],
   "source": [
    "install.packages('mclust', repos=\"https://mirrors.tuna.tsinghua.edu.cn/CRAN/\", lib=\"/usr/lib/R/site-library\")"
   ]
  },
  {
   "cell_type": "code",
   "execution_count": null,
   "metadata": {
    "scrolled": true
   },
   "outputs": [],
   "source": [
    "install.packages('sqldf', repos=\"https://mirrors.tuna.tsinghua.edu.cn/CRAN/\", lib=\"/usr/lib/R/site-library\")"
   ]
  },
  {
   "cell_type": "code",
   "execution_count": null,
   "metadata": {
    "scrolled": true
   },
   "outputs": [],
   "source": [
    "install.packages('igraph', repos=\"https://mirrors.tuna.tsinghua.edu.cn/CRAN/\", lib=\"/usr/lib/R/site-library\")"
   ]
  },
  {
   "cell_type": "code",
   "execution_count": null,
   "metadata": {
    "scrolled": true
   },
   "outputs": [],
   "source": [
    "install.packages('hadley', repos=\"https://mirrors.tuna.tsinghua.edu.cn/CRAN/\", lib=\"/usr/lib/R/site-library\")"
   ]
  },
  {
   "cell_type": "code",
   "execution_count": null,
   "metadata": {
    "scrolled": true
   },
   "outputs": [],
   "source": [
    "install.packages('ddR', repos=\"https://mirrors.tuna.tsinghua.edu.cn/CRAN/\", lib=\"/usr/lib/R/site-library\")"
   ]
  },
  {
   "cell_type": "code",
   "execution_count": null,
   "metadata": {
    "scrolled": true
   },
   "outputs": [],
   "source": [
    "install.packages('rhdfs', repos=\"https://mirrors.tuna.tsinghua.edu.cn/CRAN/\", lib=\"/usr/lib/R/site-library\")"
   ]
  },
  {
   "cell_type": "code",
   "execution_count": null,
   "metadata": {
    "scrolled": true
   },
   "outputs": [],
   "source": [
    "install.packages('rhive', repos=\"https://mirrors.tuna.tsinghua.edu.cn/CRAN/\", lib=\"/usr/lib/R/site-library\")"
   ]
  },
  {
   "cell_type": "code",
   "execution_count": null,
   "metadata": {
    "scrolled": true
   },
   "outputs": [],
   "source": [
    "install.packages('gbm', repos=\"https://mirrors.tuna.tsinghua.edu.cn/CRAN/\", lib=\"/usr/lib/R/site-library\")"
   ]
  },
  {
   "cell_type": "code",
   "execution_count": null,
   "metadata": {
    "scrolled": true
   },
   "outputs": [],
   "source": [
    "install.packages('klaR', repos=\"https://mirrors.tuna.tsinghua.edu.cn/CRAN/\", lib=\"/usr/lib/R/site-library\")"
   ]
  },
  {
   "cell_type": "code",
   "execution_count": null,
   "metadata": {
    "scrolled": true
   },
   "outputs": [],
   "source": [
    "install.packages('earth', repos=\"https://mirrors.tuna.tsinghua.edu.cn/CRAN/\", lib=\"/usr/lib/R/site-library\")"
   ]
  },
  {
   "cell_type": "code",
   "execution_count": null,
   "metadata": {
    "scrolled": true
   },
   "outputs": [],
   "source": [
    "install.packages('hadley', repos=\"https://mirrors.tuna.tsinghua.edu.cn/CRAN/\", lib=\"/usr/lib/R/site-library\")"
   ]
  },
  {
   "cell_type": "code",
   "execution_count": null,
   "metadata": {
    "scrolled": true
   },
   "outputs": [],
   "source": [
    "install.packages('ggfortify', repos=\"https://mirrors.tuna.tsinghua.edu.cn/CRAN/\", lib=\"/usr/lib/R/site-library\")"
   ]
  },
  {
   "cell_type": "code",
   "execution_count": null,
   "metadata": {
    "scrolled": true
   },
   "outputs": [],
   "source": [
    "install.packages('feather', repos=\"https://mirrors.tuna.tsinghua.edu.cn/CRAN/\", lib=\"/usr/lib/R/site-library\")"
   ]
  },
  {
   "cell_type": "code",
   "execution_count": null,
   "metadata": {
    "scrolled": true
   },
   "outputs": [],
   "source": [
    "install.packages('webreadr', repos=\"https://mirrors.tuna.tsinghua.edu.cn/CRAN/\", lib=\"/usr/lib/R/site-library\")"
   ]
  },
  {
   "cell_type": "code",
   "execution_count": null,
   "metadata": {
    "scrolled": true
   },
   "outputs": [],
   "source": [
    "install.packages('magrittr', repos=\"https://mirrors.tuna.tsinghua.edu.cn/CRAN/\", lib=\"/usr/lib/R/site-library\")"
   ]
  },
  {
   "cell_type": "code",
   "execution_count": null,
   "metadata": {
    "scrolled": true
   },
   "outputs": [],
   "source": [
    "install.packages('ggalt', repos=\"https://mirrors.tuna.tsinghua.edu.cn/CRAN/\", lib=\"/usr/lib/R/site-library\")"
   ]
  },
  {
   "cell_type": "code",
   "execution_count": null,
   "metadata": {
    "scrolled": true
   },
   "outputs": [],
   "source": [
    "install.packages('plotROC', repos=\"https://mirrors.tuna.tsinghua.edu.cn/CRAN/\", lib=\"/usr/lib/R/site-library\")"
   ]
  },
  {
   "cell_type": "code",
   "execution_count": null,
   "metadata": {
    "scrolled": true
   },
   "outputs": [],
   "source": [
    "install.packages('ggTimeSeries', repos=\"https://mirrors.tuna.tsinghua.edu.cn/CRAN/\", lib=\"/usr/lib/R/site-library\")"
   ]
  },
  {
   "cell_type": "code",
   "execution_count": null,
   "metadata": {
    "scrolled": true
   },
   "outputs": [],
   "source": [
    "install.packages('xgboost', repos=\"https://mirrors.tuna.tsinghua.edu.cn/CRAN/\", lib=\"/usr/lib/R/site-library\")"
   ]
  },
  {
   "cell_type": "code",
   "execution_count": null,
   "metadata": {
    "scrolled": true
   },
   "outputs": [],
   "source": [
    "install.packages('ranger', repos=\"https://mirrors.tuna.tsinghua.edu.cn/CRAN/\", lib=\"/usr/lib/R/site-library\")"
   ]
  },
  {
   "cell_type": "code",
   "execution_count": null,
   "metadata": {
    "scrolled": true
   },
   "outputs": [],
   "source": [
    "install.packages('DT', repos=\"https://mirrors.tuna.tsinghua.edu.cn/CRAN/\", lib=\"/usr/lib/R/site-library\")"
   ]
  },
  {
   "cell_type": "code",
   "execution_count": null,
   "metadata": {
    "scrolled": true
   },
   "outputs": [],
   "source": [
    "install.packages('mvtnorm', repos=\"https://mirrors.tuna.tsinghua.edu.cn/CRAN/\", lib=\"/usr/lib/R/site-library\")"
   ]
  },
  {
   "cell_type": "code",
   "execution_count": null,
   "metadata": {
    "scrolled": true
   },
   "outputs": [],
   "source": [
    "install.packages('MatrixModels', repos=\"https://mirrors.tuna.tsinghua.edu.cn/CRAN/\", lib=\"/usr/lib/R/site-library\")"
   ]
  },
  {
   "cell_type": "code",
   "execution_count": null,
   "metadata": {
    "scrolled": false
   },
   "outputs": [],
   "source": [
    "install.packages('SparseM', repos=\"https://mirrors.tuna.tsinghua.edu.cn/CRAN/\", lib=\"/usr/lib/R/site-library\")"
   ]
  },
  {
   "cell_type": "code",
   "execution_count": null,
   "metadata": {
    "scrolled": true
   },
   "outputs": [],
   "source": [
    "install.packages('Matrix', repos=\"https://mirrors.tuna.tsinghua.edu.cn/CRAN/\", lib=\"/usr/lib/R/site-library\")"
   ]
  },
  {
   "cell_type": "code",
   "execution_count": null,
   "metadata": {
    "scrolled": true
   },
   "outputs": [],
   "source": [
    "install.packages('vtreat', repos=\"https://mirrors.tuna.tsinghua.edu.cn/CRAN/\", lib=\"/usr/lib/R/site-library\")"
   ]
  },
  {
   "cell_type": "code",
   "execution_count": null,
   "metadata": {
    "scrolled": true
   },
   "outputs": [],
   "source": [
    "install.packages('git2r', repos=\"https://mirrors.tuna.tsinghua.edu.cn/CRAN/\", lib=\"/usr/lib/R/site-library\")"
   ]
  },
  {
   "cell_type": "code",
   "execution_count": null,
   "metadata": {
    "scrolled": false
   },
   "outputs": [],
   "source": [
    "install.packages('ggiraph', repos=\"https://mirrors.tuna.tsinghua.edu.cn/CRAN/\", lib=\"/usr/lib/R/site-library\")"
   ]
  },
  {
   "cell_type": "code",
   "execution_count": null,
   "metadata": {
    "scrolled": true
   },
   "outputs": [],
   "source": [
    "install.packages('yaml', repos=\"https://mirrors.tuna.tsinghua.edu.cn/CRAN/\", lib=\"/usr/lib/R/site-library\")"
   ]
  },
  {
   "cell_type": "code",
   "execution_count": null,
   "metadata": {
    "scrolled": true
   },
   "outputs": [],
   "source": [
    "install.packages('rstudioapi', repos=\"https://mirrors.tuna.tsinghua.edu.cn/CRAN/\", lib=\"/usr/lib/R/site-library\")"
   ]
  },
  {
   "cell_type": "code",
   "execution_count": null,
   "metadata": {
    "scrolled": true
   },
   "outputs": [],
   "source": [
    "install.packages('profvis', repos=\"https://mirrors.tuna.tsinghua.edu.cn/CRAN/\", lib=\"/usr/lib/R/site-library\")"
   ]
  },
  {
   "cell_type": "code",
   "execution_count": null,
   "metadata": {
    "scrolled": true
   },
   "outputs": [],
   "source": [
    "install.packages('RJSONIO', repos=\"https://mirrors.tuna.tsinghua.edu.cn/CRAN/\", lib=\"/usr/lib/R/site-library\")"
   ]
  },
  {
   "cell_type": "code",
   "execution_count": null,
   "metadata": {
    "scrolled": true
   },
   "outputs": [],
   "source": [
    "install.packages('minqa', repos=\"https://mirrors.tuna.tsinghua.edu.cn/CRAN/\", lib=\"/usr/lib/R/site-library\")"
   ]
  },
  {
   "cell_type": "code",
   "execution_count": null,
   "metadata": {
    "scrolled": true
   },
   "outputs": [],
   "source": [
    "install.packages('rworldmap', repos=\"https://mirrors.tuna.tsinghua.edu.cn/CRAN/\", lib=\"/usr/lib/R/site-library\")"
   ]
  },
  {
   "cell_type": "code",
   "execution_count": null,
   "metadata": {
    "scrolled": true
   },
   "outputs": [],
   "source": [
    "install.packages('data-movies', repos=\"https://mirrors.tuna.tsinghua.edu.cn/CRAN/\", lib=\"/usr/lib/R/site-library\")"
   ]
  },
  {
   "cell_type": "code",
   "execution_count": null,
   "metadata": {},
   "outputs": [],
   "source": [
    "install.packages('ggplotmovies', repos=\"https://mirrors.tuna.tsinghua.edu.cn/CRAN/\", lib=\"/usr/lib/R/site-library\")"
   ]
  },
  {
   "cell_type": "code",
   "execution_count": null,
   "metadata": {},
   "outputs": [],
   "source": [
    "install.packages('packrat', repos=\"https://mirrors.tuna.tsinghua.edu.cn/CRAN/\", lib=\"/usr/lib/R/site-library\")"
   ]
  },
  {
   "cell_type": "code",
   "execution_count": null,
   "metadata": {
    "scrolled": true
   },
   "outputs": [],
   "source": [
    "install.packages('xtable', repos=\"https://mirrors.tuna.tsinghua.edu.cn/CRAN/\", lib=\"/usr/lib/R/site-library\")"
   ]
  },
  {
   "cell_type": "code",
   "execution_count": null,
   "metadata": {
    "scrolled": true
   },
   "outputs": [],
   "source": [
    "install.packages('miniUI', repos=\"https://mirrors.tuna.tsinghua.edu.cn/CRAN/\", lib=\"/usr/lib/R/site-library\")"
   ]
  },
  {
   "cell_type": "code",
   "execution_count": null,
   "metadata": {
    "scrolled": true
   },
   "outputs": [],
   "source": [
    "install.packages('threejs', repos=\"https://mirrors.tuna.tsinghua.edu.cn/CRAN/\", lib=\"/usr/lib/R/site-library\")"
   ]
  },
  {
   "cell_type": "code",
   "execution_count": null,
   "metadata": {
    "scrolled": true
   },
   "outputs": [],
   "source": [
    "install.packages('xml2', repos=\"https://mirrors.tuna.tsinghua.edu.cn/CRAN/\", lib=\"/usr/lib/R/site-library\")"
   ]
  },
  {
   "cell_type": "code",
   "execution_count": null,
   "metadata": {
    "scrolled": true
   },
   "outputs": [],
   "source": [
    "install.packages('haven', repos=\"https://mirrors.tuna.tsinghua.edu.cn/CRAN/\", lib=\"/usr/lib/R/site-library\")"
   ]
  },
  {
   "cell_type": "code",
   "execution_count": null,
   "metadata": {
    "scrolled": true
   },
   "outputs": [],
   "source": [
    "install.packages('DBI', repos=\"https://mirrors.tuna.tsinghua.edu.cn/CRAN/\", lib=\"/usr/lib/R/site-library\")"
   ]
  },
  {
   "cell_type": "code",
   "execution_count": null,
   "metadata": {
    "scrolled": true
   },
   "outputs": [],
   "source": [
    "install.packages('RPostgreSQL', repos=\"https://mirrors.tuna.tsinghua.edu.cn/CRAN/\", lib=\"/usr/lib/R/site-library\")"
   ]
  },
  {
   "cell_type": "code",
   "execution_count": null,
   "metadata": {
    "scrolled": true
   },
   "outputs": [],
   "source": [
    "install.packages('dbplyr', repos=\"https://mirrors.tuna.tsinghua.edu.cn/CRAN/\", lib=\"/usr/lib/R/site-library\")"
   ]
  },
  {
   "cell_type": "code",
   "execution_count": null,
   "metadata": {
    "scrolled": true
   },
   "outputs": [],
   "source": [
    "install.packages('mongolite', repos=\"https://mirrors.tuna.tsinghua.edu.cn/CRAN/\", lib=\"/usr/lib/R/site-library\")"
   ]
  },
  {
   "cell_type": "code",
   "execution_count": null,
   "metadata": {
    "scrolled": true
   },
   "outputs": [],
   "source": [
    "install.packages('rhbase', repos=\"https://mirrors.tuna.tsinghua.edu.cn/CRAN/\", lib=\"/usr/lib/R/site-library\")"
   ]
  },
  {
   "cell_type": "code",
   "execution_count": null,
   "metadata": {
    "scrolled": true
   },
   "outputs": [],
   "source": [
    "install.packages('rkafka', repos=\"https://mirrors.tuna.tsinghua.edu.cn/CRAN/\", lib=\"/usr/lib/R/site-library\")"
   ]
  },
  {
   "cell_type": "code",
   "execution_count": null,
   "metadata": {
    "scrolled": true
   },
   "outputs": [],
   "source": [
    "install.packages('rredis', repos=\"https://mirrors.tuna.tsinghua.edu.cn/CRAN/\", lib=\"/usr/lib/R/site-library\")"
   ]
  },
  {
   "cell_type": "code",
   "execution_count": null,
   "metadata": {
    "scrolled": true
   },
   "outputs": [],
   "source": [
    "install.packages('RJDBC', repos=\"https://mirrors.tuna.tsinghua.edu.cn/CRAN/\", lib=\"/usr/lib/R/site-library\")"
   ]
  },
  {
   "cell_type": "code",
   "execution_count": null,
   "metadata": {
    "scrolled": true
   },
   "outputs": [],
   "source": [
    "install.packages('elastic', repos=\"https://mirrors.tuna.tsinghua.edu.cn/CRAN/\", lib=\"/usr/lib/R/site-library\")"
   ]
  },
  {
   "cell_type": "code",
   "execution_count": null,
   "metadata": {},
   "outputs": [],
   "source": [
    "devtools::install_github(\"ropensci/elastic\", lib=\"/usr/lib/R/site-library\")"
   ]
  },
  {
   "cell_type": "code",
   "execution_count": null,
   "metadata": {},
   "outputs": [],
   "source": [
    "devtools::install_github(\"alexioannides/elasticsearchr\",force = TRUE)"
   ]
  },
  {
   "cell_type": "code",
   "execution_count": null,
   "metadata": {
    "scrolled": true
   },
   "outputs": [],
   "source": [
    "install.packages('SparkR', repos=\"https://mirrors.tuna.tsinghua.edu.cn/CRAN/\", lib=\"/usr/lib/R/site-library\")"
   ]
  },
  {
   "cell_type": "code",
   "execution_count": null,
   "metadata": {
    "scrolled": true
   },
   "outputs": [],
   "source": [
    "install.packages('ggsignif', repos=\"https://mirrors.tuna.tsinghua.edu.cn/CRAN/\", lib=\"/usr/lib/R/site-library\")"
   ]
  },
  {
   "cell_type": "code",
   "execution_count": null,
   "metadata": {
    "scrolled": true
   },
   "outputs": [],
   "source": [
    "install.packages('mlr3verse', repos=\"https://mirrors.tuna.tsinghua.edu.cn/CRAN/\", lib=\"/usr/lib/R/site-library\")"
   ]
  },
  {
   "cell_type": "code",
   "execution_count": null,
   "metadata": {
    "scrolled": true
   },
   "outputs": [],
   "source": [
    "install.packages('fpp3', repos=\"https://mirrors.tuna.tsinghua.edu.cn/CRAN/\", lib=\"/usr/lib/R/site-library\")"
   ]
  },
  {
   "cell_type": "code",
   "execution_count": null,
   "metadata": {
    "scrolled": true
   },
   "outputs": [],
   "source": [
    "install.packages('timetk', repos=\"https://mirrors.tuna.tsinghua.edu.cn/CRAN/\", lib=\"/usr/lib/R/site-library\")"
   ]
  },
  {
   "cell_type": "code",
   "execution_count": null,
   "metadata": {
    "scrolled": true
   },
   "outputs": [],
   "source": [
    "install.packages('modeltime', repos=\"https://mirrors.tuna.tsinghua.edu.cn/CRAN/\", lib=\"/usr/lib/R/site-library\")"
   ]
  },
  {
   "cell_type": "code",
   "execution_count": null,
   "metadata": {
    "scrolled": false
   },
   "outputs": [],
   "source": [
    "install.packages('sparklyr', repos=\"https://mirrors.tuna.tsinghua.edu.cn/CRAN/\", lib=\"/usr/lib/R/site-library\")"
   ]
  },
  {
   "cell_type": "code",
   "execution_count": null,
   "metadata": {
    "scrolled": true
   },
   "outputs": [],
   "source": [
    "install.packages('mlr3', repos=\"https://mirrors.tuna.tsinghua.edu.cn/CRAN/\", lib=\"/usr/lib/R/site-library\")"
   ]
  },
  {
   "cell_type": "code",
   "execution_count": null,
   "metadata": {
    "scrolled": true
   },
   "outputs": [],
   "source": [
    "install.packages('mlr', repos=\"https://mirrors.tuna.tsinghua.edu.cn/CRAN/\", lib=\"/usr/lib/R/site-library\")"
   ]
  },
  {
   "cell_type": "code",
   "execution_count": null,
   "metadata": {
    "scrolled": true
   },
   "outputs": [],
   "source": [
    "install.packages('pipe', repos=\"https://mirrors.tuna.tsinghua.edu.cn/CRAN/\", lib=\"/usr/lib/R/site-library\")"
   ]
  },
  {
   "cell_type": "code",
   "execution_count": null,
   "metadata": {
    "scrolled": true
   },
   "outputs": [],
   "source": [
    "install.packages('bigrquery', repos=\"https://mirrors.tuna.tsinghua.edu.cn/CRAN/\", lib=\"/usr/lib/R/site-library\")"
   ]
  },
  {
   "cell_type": "code",
   "execution_count": null,
   "metadata": {
    "scrolled": true
   },
   "outputs": [],
   "source": [
    "install.packages('testthat', repos=\"https://mirrors.tuna.tsinghua.edu.cn/CRAN/\", lib=\"/usr/lib/R/site-library\")"
   ]
  },
  {
   "cell_type": "code",
   "execution_count": null,
   "metadata": {
    "scrolled": true
   },
   "outputs": [],
   "source": [
    "install.packages('roxygen2', repos=\"https://mirrors.tuna.tsinghua.edu.cn/CRAN/\", lib=\"/usr/lib/R/site-library\")"
   ]
  },
  {
   "cell_type": "code",
   "execution_count": null,
   "metadata": {
    "scrolled": true
   },
   "outputs": [],
   "source": [
    "install.packages('NMF', repos=\"https://mirrors.tuna.tsinghua.edu.cn/CRAN/\", lib=\"/usr/lib/R/site-library\")"
   ]
  },
  {
   "cell_type": "code",
   "execution_count": null,
   "metadata": {
    "scrolled": true
   },
   "outputs": [],
   "source": [
    "install.packages('DataExplorer', repos=\"https://mirrors.tuna.tsinghua.edu.cn/CRAN/\", lib=\"/usr/lib/R/site-library\")"
   ]
  },
  {
   "cell_type": "code",
   "execution_count": null,
   "metadata": {
    "scrolled": true
   },
   "outputs": [],
   "source": [
    "install.packages('esquisse', repos=\"https://mirrors.tuna.tsinghua.edu.cn/CRAN/\", lib=\"/usr/lib/R/site-library\")"
   ]
  },
  {
   "cell_type": "code",
   "execution_count": null,
   "metadata": {
    "scrolled": true
   },
   "outputs": [],
   "source": [
    "install.packages('gitHubInstall', repos=\"https://mirrors.tuna.tsinghua.edu.cn/CRAN/\", lib=\"/usr/lib/R/site-library\")"
   ]
  },
  {
   "cell_type": "code",
   "execution_count": null,
   "metadata": {
    "scrolled": true
   },
   "outputs": [],
   "source": [
    "install.packages('installr', repos=\"https://mirrors.tuna.tsinghua.edu.cn/CRAN/\", lib=\"/usr/lib/R/site-library\")"
   ]
  },
  {
   "cell_type": "code",
   "execution_count": 459,
   "metadata": {
    "ExecuteTime": {
     "end_time": "2022-06-15T23:13:41.197452Z",
     "start_time": "2022-06-15T23:13:19.338Z"
    },
    "scrolled": true
   },
   "outputs": [
    {
     "name": "stderr",
     "output_type": "stream",
     "text": [
      "Warning message in install.packages(c(\"rjags\", \"runjags\", \"modeest\"), repos = \"https://mirrors.tuna.tsinghua.edu.cn/CRAN/\", :\n",
      "“installation of package ‘runjags’ had non-zero exit status”\n"
     ]
    }
   ],
   "source": [
    "install.packages(c(\"rjags\", \"runjags\", \"modeest\"), repos=\"https://mirrors.tuna.tsinghua.edu.cn/CRAN/\", lib=\"/usr/lib/R/site-library\")"
   ]
  },
  {
   "cell_type": "code",
   "execution_count": null,
   "metadata": {
    "scrolled": true
   },
   "outputs": [],
   "source": [
    "install.packages(c(\"class\", \"mlbench\", \"chemometrics\"), repos=\"https://mirrors.tuna.tsinghua.edu.cn/CRAN/\", lib=\"/usr/lib/R/site-library\")"
   ]
  },
  {
   "cell_type": "code",
   "execution_count": null,
   "metadata": {
    "scrolled": true
   },
   "outputs": [],
   "source": [
    "install.packages('TTR', repos=\"https://mirrors.tuna.tsinghua.edu.cn/CRAN/\", lib=\"/usr/lib/R/site-library\")"
   ]
  },
  {
   "cell_type": "code",
   "execution_count": null,
   "metadata": {
    "scrolled": true
   },
   "outputs": [],
   "source": [
    "install.packages('tibbletime', repos=\"https://mirrors.tuna.tsinghua.edu.cn/CRAN/\", lib=\"/usr/lib/R/site-library\")"
   ]
  },
  {
   "cell_type": "code",
   "execution_count": null,
   "metadata": {},
   "outputs": [],
   "source": []
  }
 ],
 "metadata": {
  "hide_input": false,
  "kernelspec": {
   "display_name": "R",
   "language": "R",
   "name": "ir"
  },
  "language_info": {
   "codemirror_mode": "r",
   "file_extension": ".r",
   "mimetype": "text/x-r-source",
   "name": "R",
   "pygments_lexer": "r",
   "version": "4.2.0"
  },
  "toc": {
   "base_numbering": 1,
   "nav_menu": {},
   "number_sections": true,
   "sideBar": true,
   "skip_h1_title": false,
   "title_cell": "Table of Contents",
   "title_sidebar": "Contents",
   "toc_cell": false,
   "toc_position": {},
   "toc_section_display": true,
   "toc_window_display": false
  }
 },
 "nbformat": 4,
 "nbformat_minor": 4
}
