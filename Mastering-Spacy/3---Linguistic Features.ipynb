{
 "cells": [
  {
   "cell_type": "code",
   "execution_count": null,
   "id": "da3dffff",
   "metadata": {},
   "outputs": [],
   "source": [
    "import spacy\n",
    "from spacy import displacy\n",
    "nlp = spacy.load(\"en_core_web_lg\")"
   ]
  },
  {
   "cell_type": "code",
   "execution_count": 4,
   "id": "8e9d733a",
   "metadata": {},
   "outputs": [],
   "source": [
    "doc = nlp(\"Alicia and me went to the school by bus.\")"
   ]
  },
  {
   "cell_type": "code",
   "execution_count": 11,
   "id": "448c4df3",
   "metadata": {},
   "outputs": [
    {
     "name": "stdout",
     "output_type": "stream",
     "text": [
      "Alicia|   PROPN|    NNP|    proper noun|    noun, proper singular|   \n",
      "and|   CCONJ|    CC|    coordinating conjunction|    conjunction, coordinating|   \n",
      "me|   PRON|    PRP|    pronoun|    pronoun, personal|   \n",
      "went|   VERB|    VBD|    verb|    verb, past tense|   \n",
      "to|   ADP|    IN|    adposition|    conjunction, subordinating or preposition|   \n",
      "the|   DET|    DT|    determiner|    determiner|   \n",
      "school|   NOUN|    NN|    noun|    noun, singular or mass|   \n",
      "by|   ADP|    IN|    adposition|    conjunction, subordinating or preposition|   \n",
      "bus|   NOUN|    NN|    noun|    noun, singular or mass|   \n",
      ".|   PUNCT|    .|    punctuation|    punctuation mark, sentence closer|   \n"
     ]
    }
   ],
   "source": [
    "for token in doc:\n",
    "    print(token.text+'|  ', token.pos_+'|   ', token.tag_+'|   ', spacy.explain(token.pos_)+'|   ', spacy.explain(token.tag_)+'|   ')"
   ]
  },
  {
   "cell_type": "code",
   "execution_count": 12,
   "id": "97c82426",
   "metadata": {},
   "outputs": [
    {
     "data": {
      "text/plain": [
       "'noun, plural'"
      ]
     },
     "execution_count": 12,
     "metadata": {},
     "output_type": "execute_result"
    }
   ],
   "source": [
    "spacy.explain(\"NNS\")"
   ]
  },
  {
   "cell_type": "code",
   "execution_count": 13,
   "id": "55855c1f",
   "metadata": {},
   "outputs": [],
   "source": [
    "doc = nlp(\"I saw flowers.\")"
   ]
  },
  {
   "cell_type": "code",
   "execution_count": 14,
   "id": "b6408b70",
   "metadata": {},
   "outputs": [],
   "source": [
    "token = doc[2]"
   ]
  },
  {
   "cell_type": "code",
   "execution_count": 15,
   "id": "b223cfe5",
   "metadata": {},
   "outputs": [
    {
     "data": {
      "text/plain": [
       "('flowers', 'NNS', 'noun, plural')"
      ]
     },
     "execution_count": 15,
     "metadata": {},
     "output_type": "execute_result"
    }
   ],
   "source": [
    "token.text, token.tag_, spacy.explain(token.tag_)"
   ]
  },
  {
   "cell_type": "code",
   "execution_count": 17,
   "id": "fe1f8352",
   "metadata": {},
   "outputs": [],
   "source": [
    "doc = nlp(\"My friend will fly to New York fast and she is staying there for 3 days.\")"
   ]
  },
  {
   "cell_type": "code",
   "execution_count": 20,
   "id": "8688667b",
   "metadata": {},
   "outputs": [
    {
     "name": "stdout",
     "output_type": "stream",
     "text": [
      "My|   PRON|   PRP$|   pronoun|   pronoun, possessive\n",
      "friend|   NOUN|   NN|   noun|   noun, singular or mass\n",
      "will|   AUX|   MD|   auxiliary|   verb, modal auxiliary\n",
      "fly|   VERB|   VB|   verb|   verb, base form\n",
      "to|   ADP|   IN|   adposition|   conjunction, subordinating or preposition\n",
      "New|   PROPN|   NNP|   proper noun|   noun, proper singular\n",
      "York|   PROPN|   NNP|   proper noun|   noun, proper singular\n",
      "fast|   ADV|   RB|   adverb|   adverb\n",
      "and|   CCONJ|   CC|   coordinating conjunction|   conjunction, coordinating\n",
      "she|   PRON|   PRP|   pronoun|   pronoun, personal\n",
      "is|   AUX|   VBZ|   auxiliary|   verb, 3rd person singular present\n",
      "staying|   VERB|   VBG|   verb|   verb, gerund or present participle\n",
      "there|   ADV|   RB|   adverb|   adverb\n",
      "for|   ADP|   IN|   adposition|   conjunction, subordinating or preposition\n",
      "3|   NUM|   CD|   numeral|   cardinal number\n",
      "days|   NOUN|   NNS|   noun|   noun, plural\n",
      ".|   PUNCT|   .|   punctuation|   punctuation mark, sentence closer\n"
     ]
    }
   ],
   "source": [
    "for token in doc:\n",
    "    print(token.text+'|  ', token.pos_+'|  ', token.tag_+'|  ', spacy.explain(token.pos_)+'|  ', spacy.explain(token.tag_))"
   ]
  },
  {
   "cell_type": "code",
   "execution_count": 21,
   "id": "3ec3ba73",
   "metadata": {},
   "outputs": [],
   "source": [
    "doc = nlp(\"blue flower\")"
   ]
  },
  {
   "cell_type": "code",
   "execution_count": 22,
   "id": "2bbe106d",
   "metadata": {},
   "outputs": [
    {
     "name": "stdout",
     "output_type": "stream",
     "text": [
      "blue|   amod\n",
      "flower|   ROOT\n"
     ]
    }
   ],
   "source": [
    "for token in doc:\n",
    "    print(token.text+'|  ', token.dep_)"
   ]
  },
  {
   "cell_type": "code",
   "execution_count": 23,
   "id": "fd3188f3",
   "metadata": {},
   "outputs": [],
   "source": [
    "doc = nlp(\"The president Donald Trump visited France.\")"
   ]
  },
  {
   "cell_type": "code",
   "execution_count": 24,
   "id": "2a2b9f73",
   "metadata": {},
   "outputs": [
    {
     "data": {
      "text/plain": [
       "(Donald Trump, France)"
      ]
     },
     "execution_count": 24,
     "metadata": {},
     "output_type": "execute_result"
    }
   ],
   "source": [
    "doc.ents"
   ]
  },
  {
   "cell_type": "code",
   "execution_count": 25,
   "id": "537eb0b9",
   "metadata": {},
   "outputs": [
    {
     "data": {
      "text/plain": [
       "'Companies, agencies, institutions, etc.'"
      ]
     },
     "execution_count": 25,
     "metadata": {},
     "output_type": "execute_result"
    }
   ],
   "source": [
    "spacy.explain(\"ORG\")"
   ]
  },
  {
   "cell_type": "code",
   "execution_count": 26,
   "id": "a6f1f132",
   "metadata": {},
   "outputs": [],
   "source": [
    "doc = nlp(\"He worked for NASA.\")"
   ]
  },
  {
   "cell_type": "code",
   "execution_count": 27,
   "id": "17e42102",
   "metadata": {},
   "outputs": [],
   "source": [
    "token = doc[3]"
   ]
  },
  {
   "cell_type": "code",
   "execution_count": 28,
   "id": "5413117d",
   "metadata": {},
   "outputs": [
    {
     "name": "stdout",
     "output_type": "stream",
     "text": [
      "ORG|   Companies, agencies, institutions, etc.\n"
     ]
    }
   ],
   "source": [
    "print(token.ent_type_+'|  ', spacy.explain(token.ent_type_))"
   ]
  }
 ],
 "metadata": {
  "hide_input": false,
  "kernelspec": {
   "display_name": "Python 3 (ipykernel)",
   "language": "python",
   "name": "python3"
  },
  "language_info": {
   "codemirror_mode": {
    "name": "ipython",
    "version": 3
   },
   "file_extension": ".py",
   "mimetype": "text/x-python",
   "name": "python",
   "nbconvert_exporter": "python",
   "pygments_lexer": "ipython3",
   "version": "3.8.10"
  },
  "toc": {
   "base_numbering": 1,
   "nav_menu": {},
   "number_sections": true,
   "sideBar": true,
   "skip_h1_title": false,
   "title_cell": "Table of Contents",
   "title_sidebar": "Contents",
   "toc_cell": false,
   "toc_position": {},
   "toc_section_display": true,
   "toc_window_display": false
  }
 },
 "nbformat": 4,
 "nbformat_minor": 5
}
