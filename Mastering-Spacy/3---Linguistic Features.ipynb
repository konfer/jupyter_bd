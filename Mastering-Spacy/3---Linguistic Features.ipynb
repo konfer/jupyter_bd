{
 "cells": [
  {
   "cell_type": "code",
   "execution_count": null,
   "id": "da3dffff",
   "metadata": {
    "ExecuteTime": {
     "end_time": "2022-06-28T16:35:41.364018Z",
     "start_time": "2022-06-28T16:35:36.343410Z"
    }
   },
   "outputs": [],
   "source": [
    "import spacy\n",
    "from spacy import displacy\n",
    "nlp = spacy.load(\"en_core_web_lg\")"
   ]
  },
  {
   "cell_type": "code",
   "execution_count": 4,
   "id": "8e9d733a",
   "metadata": {
    "ExecuteTime": {
     "end_time": "2022-06-28T16:35:41.381341Z",
     "start_time": "2022-06-28T16:35:41.367089Z"
    }
   },
   "outputs": [],
   "source": [
    "doc = nlp(\"Alicia and me went to the school by bus.\")"
   ]
  },
  {
   "cell_type": "code",
   "execution_count": 11,
   "id": "448c4df3",
   "metadata": {
    "ExecuteTime": {
     "end_time": "2022-06-28T16:37:59.324432Z",
     "start_time": "2022-06-28T16:37:59.320665Z"
    }
   },
   "outputs": [
    {
     "name": "stdout",
     "output_type": "stream",
     "text": [
      "Alicia|   PROPN|    NNP|    proper noun|    noun, proper singular|   \n",
      "and|   CCONJ|    CC|    coordinating conjunction|    conjunction, coordinating|   \n",
      "me|   PRON|    PRP|    pronoun|    pronoun, personal|   \n",
      "went|   VERB|    VBD|    verb|    verb, past tense|   \n",
      "to|   ADP|    IN|    adposition|    conjunction, subordinating or preposition|   \n",
      "the|   DET|    DT|    determiner|    determiner|   \n",
      "school|   NOUN|    NN|    noun|    noun, singular or mass|   \n",
      "by|   ADP|    IN|    adposition|    conjunction, subordinating or preposition|   \n",
      "bus|   NOUN|    NN|    noun|    noun, singular or mass|   \n",
      ".|   PUNCT|    .|    punctuation|    punctuation mark, sentence closer|   \n"
     ]
    }
   ],
   "source": [
    "for token in doc:\n",
    "    print(token.text+'|  ', token.pos_+'|   ', token.tag_+'|   ', spacy.explain(token.pos_)+'|   ', spacy.explain(token.tag_)+'|   ')"
   ]
  },
  {
   "cell_type": "code",
   "execution_count": null,
   "id": "97c82426",
   "metadata": {},
   "outputs": [],
   "source": []
  }
 ],
 "metadata": {
  "hide_input": false,
  "kernelspec": {
   "display_name": "Python 3 (ipykernel)",
   "language": "python",
   "name": "python3"
  },
  "language_info": {
   "codemirror_mode": {
    "name": "ipython",
    "version": 3
   },
   "file_extension": ".py",
   "mimetype": "text/x-python",
   "name": "python",
   "nbconvert_exporter": "python",
   "pygments_lexer": "ipython3",
   "version": "3.8.10"
  },
  "toc": {
   "base_numbering": 1,
   "nav_menu": {},
   "number_sections": true,
   "sideBar": true,
   "skip_h1_title": false,
   "title_cell": "Table of Contents",
   "title_sidebar": "Contents",
   "toc_cell": false,
   "toc_position": {},
   "toc_section_display": true,
   "toc_window_display": false
  }
 },
 "nbformat": 4,
 "nbformat_minor": 5
}
