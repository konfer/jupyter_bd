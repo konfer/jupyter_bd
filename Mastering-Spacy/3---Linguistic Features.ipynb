{
 "cells": [
  {
   "cell_type": "code",
   "execution_count": 6,
   "id": "39015d56",
   "metadata": {
    "ExecuteTime": {
     "end_time": "2022-06-27T19:41:29.202518Z",
     "start_time": "2022-06-27T19:41:27.227271Z"
    }
   },
   "outputs": [],
   "source": [
    "import spacy\n",
    "from spacy import displacy\n",
    "nlp = spacy.load(\"en_core_web_lg\")"
   ]
  },
  {
   "cell_type": "code",
   "execution_count": 2,
   "id": "d7122a79",
   "metadata": {
    "ExecuteTime": {
     "end_time": "2022-06-27T19:39:16.740373Z",
     "start_time": "2022-06-27T19:39:16.724926Z"
    }
   },
   "outputs": [],
   "source": [
    " doc = nlp(\"Alicia and me went to the school by bus.\")"
   ]
  },
  {
   "cell_type": "code",
   "execution_count": 4,
   "id": "cc1c2f07",
   "metadata": {
    "ExecuteTime": {
     "end_time": "2022-06-27T19:39:56.889398Z",
     "start_time": "2022-06-27T19:39:56.873013Z"
    }
   },
   "outputs": [
    {
     "ename": "NameError",
     "evalue": "name 'spacy' is not defined",
     "output_type": "error",
     "traceback": [
      "\u001b[0;31m---------------------------------------------------------------------------\u001b[0m",
      "\u001b[0;31mNameError\u001b[0m                                 Traceback (most recent call last)",
      "Input \u001b[0;32mIn [4]\u001b[0m, in \u001b[0;36m<cell line: 1>\u001b[0;34m()\u001b[0m\n\u001b[1;32m      1\u001b[0m \u001b[38;5;28;01mfor\u001b[39;00m token \u001b[38;5;129;01min\u001b[39;00m doc:\n\u001b[1;32m      2\u001b[0m      token\u001b[38;5;241m.\u001b[39mtext, token\u001b[38;5;241m.\u001b[39mpos_, token\u001b[38;5;241m.\u001b[39mtag_, \\\n\u001b[0;32m----> 3\u001b[0m      \u001b[43mspacy\u001b[49m\u001b[38;5;241m.\u001b[39mexplain(token\u001b[38;5;241m.\u001b[39mpos_), spacy\u001b[38;5;241m.\u001b[39mexplain(token\u001b[38;5;241m.\u001b[39mtag_)\n",
      "\u001b[0;31mNameError\u001b[0m: name 'spacy' is not defined"
     ]
    }
   ],
   "source": [
    "for token in doc:\n",
    "     token.text, token.pos_, token.tag_, \\\n",
    "     spacy.explain(token.pos_), spacy.explain(token.tag_)"
   ]
  },
  {
   "cell_type": "code",
   "execution_count": null,
   "id": "d810d8f1",
   "metadata": {},
   "outputs": [],
   "source": []
  }
 ],
 "metadata": {
  "hide_input": false,
  "kernelspec": {
   "display_name": "Python 3 (ipykernel)",
   "language": "python",
   "name": "python3"
  },
  "language_info": {
   "codemirror_mode": {
    "name": "ipython",
    "version": 3
   },
   "file_extension": ".py",
   "mimetype": "text/x-python",
   "name": "python",
   "nbconvert_exporter": "python",
   "pygments_lexer": "ipython3",
   "version": "3.8.10"
  },
  "toc": {
   "base_numbering": 1,
   "nav_menu": {},
   "number_sections": true,
   "sideBar": true,
   "skip_h1_title": false,
   "title_cell": "Table of Contents",
   "title_sidebar": "Contents",
   "toc_cell": false,
   "toc_position": {},
   "toc_section_display": true,
   "toc_window_display": false
  }
 },
 "nbformat": 4,
 "nbformat_minor": 5
}
