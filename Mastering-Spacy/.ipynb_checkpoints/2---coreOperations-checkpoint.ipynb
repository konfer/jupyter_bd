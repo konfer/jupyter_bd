{
 "cells": [
  {
   "cell_type": "code",
   "execution_count": null,
   "metadata": {
    "ExecuteTime": {
     "end_time": "2022-06-27T19:41:59.526716Z",
     "start_time": "2022-06-27T19:41:54.226453Z"
    }
   },
   "outputs": [],
   "source": [
    "import spacy\n",
    "from spacy import displacy\n",
    "nlp = spacy.load(\"en_core_web_lg\")"
   ]
  },
  {
   "cell_type": "code",
   "execution_count": 2,
   "metadata": {
    "ExecuteTime": {
     "end_time": "2022-06-27T19:41:59.541879Z",
     "start_time": "2022-06-27T19:41:59.529412Z"
    }
   },
   "outputs": [],
   "source": [
    "doc = nlp(\"Hello Madam !\")"
   ]
  },
  {
   "cell_type": "code",
   "execution_count": 3,
   "metadata": {
    "ExecuteTime": {
     "end_time": "2022-06-27T19:41:59.546834Z",
     "start_time": "2022-06-27T19:41:59.543576Z"
    }
   },
   "outputs": [
    {
     "name": "stdout",
     "output_type": "stream",
     "text": [
      "['Hello ', 'Madam ', '!']\n"
     ]
    }
   ],
   "source": [
    "print([token.text_with_ws for token in doc])"
   ]
  },
  {
   "cell_type": "code",
   "execution_count": 4,
   "metadata": {
    "ExecuteTime": {
     "end_time": "2022-06-27T19:41:59.562796Z",
     "start_time": "2022-06-27T19:41:59.549327Z"
    }
   },
   "outputs": [],
   "source": [
    "doc = nlp(\"President Trump visited Mexico City.\")"
   ]
  },
  {
   "cell_type": "code",
   "execution_count": 5,
   "metadata": {
    "ExecuteTime": {
     "end_time": "2022-06-27T19:41:59.572939Z",
     "start_time": "2022-06-27T19:41:59.564577Z"
    }
   },
   "outputs": [
    {
     "data": {
      "text/plain": [
       "(Trump, Mexico City)"
      ]
     },
     "execution_count": 5,
     "metadata": {},
     "output_type": "execute_result"
    }
   ],
   "source": [
    "doc.ents"
   ]
  },
  {
   "cell_type": "code",
   "execution_count": 6,
   "metadata": {
    "ExecuteTime": {
     "end_time": "2022-06-27T19:41:59.581713Z",
     "start_time": "2022-06-27T19:41:59.574877Z"
    }
   },
   "outputs": [
    {
     "name": "stdout",
     "output_type": "stream",
     "text": [
      "['', 'PERSON', '', 'GPE', 'GPE', '']\n"
     ]
    }
   ],
   "source": [
    "print([token.ent_type_ for token in doc])"
   ]
  },
  {
   "cell_type": "code",
   "execution_count": 7,
   "metadata": {
    "ExecuteTime": {
     "end_time": "2022-06-27T19:41:59.600322Z",
     "start_time": "2022-06-27T19:41:59.583614Z"
    }
   },
   "outputs": [],
   "source": [
    "doc = nlp(\"You love Atlanta since you're 20.\")\n",
    "span_ = doc.char_span(4, 16)"
   ]
  },
  {
   "cell_type": "code",
   "execution_count": 8,
   "metadata": {
    "ExecuteTime": {
     "end_time": "2022-06-27T19:41:59.606246Z",
     "start_time": "2022-06-27T19:41:59.602624Z"
    }
   },
   "outputs": [
    {
     "data": {
      "text/plain": [
       "spacy.tokens.span.Span"
      ]
     },
     "execution_count": 8,
     "metadata": {},
     "output_type": "execute_result"
    }
   ],
   "source": [
    "type(span_)"
   ]
  },
  {
   "cell_type": "code",
   "execution_count": 9,
   "metadata": {
    "ExecuteTime": {
     "end_time": "2022-06-27T19:41:59.622423Z",
     "start_time": "2022-06-27T19:41:59.608237Z"
    }
   },
   "outputs": [],
   "source": [
    "doc = nlp(\"You, him and Sally\")"
   ]
  },
  {
   "cell_type": "code",
   "execution_count": 10,
   "metadata": {
    "ExecuteTime": {
     "end_time": "2022-06-27T19:41:59.629776Z",
     "start_time": "2022-06-27T19:41:59.626021Z"
    }
   },
   "outputs": [
    {
     "data": {
      "text/plain": [
       "True"
      ]
     },
     "execution_count": 10,
     "metadata": {},
     "output_type": "execute_result"
    }
   ],
   "source": [
    "doc[1].is_punct"
   ]
  },
  {
   "cell_type": "code",
   "execution_count": 11,
   "metadata": {
    "ExecuteTime": {
     "end_time": "2022-06-27T19:41:59.648159Z",
     "start_time": "2022-06-27T19:41:59.631757Z"
    }
   },
   "outputs": [],
   "source": [
    "doc = nlp(\"( [ He said yes. ] )\")"
   ]
  },
  {
   "cell_type": "code",
   "execution_count": 12,
   "metadata": {
    "ExecuteTime": {
     "end_time": "2022-06-27T19:41:59.654241Z",
     "start_time": "2022-06-27T19:41:59.650517Z"
    }
   },
   "outputs": [
    {
     "data": {
      "text/plain": [
       "True"
      ]
     },
     "execution_count": 12,
     "metadata": {},
     "output_type": "execute_result"
    }
   ],
   "source": [
    "doc[0].is_left_punct"
   ]
  },
  {
   "cell_type": "code",
   "execution_count": 13,
   "metadata": {
    "ExecuteTime": {
     "end_time": "2022-06-27T19:41:59.674888Z",
     "start_time": "2022-06-27T19:41:59.656045Z"
    }
   },
   "outputs": [],
   "source": [
    "doc = nlp(\" \")"
   ]
  },
  {
   "cell_type": "code",
   "execution_count": 14,
   "metadata": {
    "ExecuteTime": {
     "end_time": "2022-06-27T19:41:59.681315Z",
     "start_time": "2022-06-27T19:41:59.677602Z"
    }
   },
   "outputs": [
    {
     "data": {
      "text/plain": [
       "True"
      ]
     },
     "execution_count": 14,
     "metadata": {},
     "output_type": "execute_result"
    }
   ],
   "source": [
    "doc[0].is_space"
   ]
  },
  {
   "cell_type": "code",
   "execution_count": 15,
   "metadata": {
    "ExecuteTime": {
     "end_time": "2022-06-27T19:41:59.702210Z",
     "start_time": "2022-06-27T19:41:59.682944Z"
    }
   },
   "outputs": [],
   "source": [
    "doc = nlp(\"( You said [1] and {2} is not applicable.)\")"
   ]
  },
  {
   "cell_type": "code",
   "execution_count": 16,
   "metadata": {
    "ExecuteTime": {
     "end_time": "2022-06-27T19:41:59.708693Z",
     "start_time": "2022-06-27T19:41:59.704548Z"
    }
   },
   "outputs": [
    {
     "data": {
      "text/plain": [
       "("
      ]
     },
     "execution_count": 16,
     "metadata": {},
     "output_type": "execute_result"
    }
   ],
   "source": [
    "doc[0]"
   ]
  },
  {
   "cell_type": "code",
   "execution_count": 17,
   "metadata": {
    "ExecuteTime": {
     "end_time": "2022-06-27T19:41:59.728488Z",
     "start_time": "2022-06-27T19:41:59.710872Z"
    }
   },
   "outputs": [],
   "source": [
    "doc = nlp(\"I paid 12$ for the tshirt.\")"
   ]
  },
  {
   "cell_type": "code",
   "execution_count": 18,
   "metadata": {
    "ExecuteTime": {
     "end_time": "2022-06-27T19:41:59.734378Z",
     "start_time": "2022-06-27T19:41:59.730662Z"
    },
    "scrolled": true
   },
   "outputs": [
    {
     "data": {
      "text/plain": [
       "True"
      ]
     },
     "execution_count": 18,
     "metadata": {},
     "output_type": "execute_result"
    }
   ],
   "source": [
    "doc[3].is_currency"
   ]
  }
 ],
 "metadata": {
  "hide_input": false,
  "kernelspec": {
   "display_name": "Python 3 (ipykernel)",
   "language": "python",
   "name": "python3"
  },
  "language_info": {
   "codemirror_mode": {
    "name": "ipython",
    "version": 3
   },
   "file_extension": ".py",
   "mimetype": "text/x-python",
   "name": "python",
   "nbconvert_exporter": "python",
   "pygments_lexer": "ipython3",
   "version": "3.8.10"
  },
  "toc": {
   "base_numbering": 1,
   "nav_menu": {},
   "number_sections": true,
   "sideBar": true,
   "skip_h1_title": false,
   "title_cell": "Table of Contents",
   "title_sidebar": "Contents",
   "toc_cell": false,
   "toc_position": {},
   "toc_section_display": true,
   "toc_window_display": false
  }
 },
 "nbformat": 4,
 "nbformat_minor": 4
}
