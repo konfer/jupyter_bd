{
 "cells": [
  {
   "cell_type": "markdown",
   "id": "7b3df4aa",
   "metadata": {
    "ExecuteTime": {
     "end_time": "2022-07-24T16:23:32.362711Z",
     "start_time": "2022-07-24T16:23:32.360137Z"
    }
   },
   "source": [
    "# Graph"
   ]
  },
  {
   "cell_type": "code",
   "execution_count": 1,
   "id": "5761c8c2",
   "metadata": {
    "ExecuteTime": {
     "end_time": "2022-07-24T16:28:48.134183Z",
     "start_time": "2022-07-24T16:28:47.814196Z"
    }
   },
   "outputs": [],
   "source": [
    "import networkx as nx\n",
    "import pandas as pd\n",
    "import numpy as np"
   ]
  },
  {
   "cell_type": "code",
   "execution_count": 2,
   "id": "a1e2919f",
   "metadata": {
    "ExecuteTime": {
     "end_time": "2022-07-24T16:28:48.141163Z",
     "start_time": "2022-07-24T16:28:48.137117Z"
    }
   },
   "outputs": [],
   "source": [
    "G = nx.Graph()"
   ]
  },
  {
   "cell_type": "code",
   "execution_count": 3,
   "id": "05f46453",
   "metadata": {
    "ExecuteTime": {
     "end_time": "2022-07-24T16:28:48.147857Z",
     "start_time": "2022-07-24T16:28:48.143103Z"
    }
   },
   "outputs": [],
   "source": [
    "V = {'Dublin', 'Paris', 'Milan', 'Rome'}\n",
    "E = [('Milan','Dublin'), ('Milan','Paris'), ('Paris','Dublin'), ('Milan','Rome')]"
   ]
  },
  {
   "cell_type": "code",
   "execution_count": 4,
   "id": "3e1996b9",
   "metadata": {
    "ExecuteTime": {
     "end_time": "2022-07-24T16:28:48.154519Z",
     "start_time": "2022-07-24T16:28:48.149806Z"
    }
   },
   "outputs": [],
   "source": [
    "G.add_nodes_from(V)\n",
    "G.add_edges_from(E)"
   ]
  },
  {
   "cell_type": "code",
   "execution_count": 5,
   "id": "33847aaf",
   "metadata": {
    "ExecuteTime": {
     "end_time": "2022-07-24T16:28:48.161274Z",
     "start_time": "2022-07-24T16:28:48.157215Z"
    }
   },
   "outputs": [
    {
     "name": "stdout",
     "output_type": "stream",
     "text": [
      "Graph with 4 nodes and 4 edges\n"
     ]
    }
   ],
   "source": [
    "print(G)"
   ]
  },
  {
   "cell_type": "code",
   "execution_count": 6,
   "id": "82b58d29",
   "metadata": {
    "ExecuteTime": {
     "end_time": "2022-07-24T16:28:48.876937Z",
     "start_time": "2022-07-24T16:28:48.163166Z"
    }
   },
   "outputs": [
    {
     "data": {
      "image/png": "[encoded data removed]",
      "text/plain": [
       "<Figure size 432x288 with 1 Axes>"
      ]
     },
     "metadata": {},
     "output_type": "display_data"
    }
   ],
   "source": [
    "nx.draw(G)"
   ]
  },
  {
   "cell_type": "code",
   "execution_count": 7,
   "id": "345c141b",
   "metadata": {
    "ExecuteTime": {
     "end_time": "2022-07-24T16:28:48.882783Z",
     "start_time": "2022-07-24T16:28:48.879383Z"
    }
   },
   "outputs": [
    {
     "name": "stdout",
     "output_type": "stream",
     "text": [
      "V = ['Dublin', 'Paris', 'Rome', 'Milan']\n"
     ]
    }
   ],
   "source": [
    "print(f\"V = {G.nodes}\")"
   ]
  },
  {
   "cell_type": "code",
   "execution_count": 8,
   "id": "c0256062",
   "metadata": {
    "ExecuteTime": {
     "end_time": "2022-07-24T16:28:48.888653Z",
     "start_time": "2022-07-24T16:28:48.884848Z"
    }
   },
   "outputs": [
    {
     "name": "stdout",
     "output_type": "stream",
     "text": [
      "V = [('Dublin', 'Milan'), ('Dublin', 'Paris'), ('Paris', 'Milan'), ('Rome', 'Milan')]\n"
     ]
    }
   ],
   "source": [
    "print(f\"V = {G.edges}\")"
   ]
  },
  {
   "cell_type": "code",
   "execution_count": 9,
   "id": "eb23edd2",
   "metadata": {
    "ExecuteTime": {
     "end_time": "2022-07-24T16:28:48.895194Z",
     "start_time": "2022-07-24T16:28:48.890926Z"
    }
   },
   "outputs": [
    {
     "data": {
      "text/plain": [
       "4"
      ]
     },
     "execution_count": 9,
     "metadata": {},
     "output_type": "execute_result"
    }
   ],
   "source": [
    "G.number_of_edges()"
   ]
  },
  {
   "cell_type": "code",
   "execution_count": 10,
   "id": "8c641461",
   "metadata": {
    "ExecuteTime": {
     "end_time": "2022-07-24T16:28:48.901186Z",
     "start_time": "2022-07-24T16:28:48.897266Z"
    }
   },
   "outputs": [
    {
     "data": {
      "text/plain": [
       "4"
      ]
     },
     "execution_count": 10,
     "metadata": {},
     "output_type": "execute_result"
    }
   ],
   "source": [
    "G.number_of_nodes()"
   ]
  },
  {
   "cell_type": "code",
   "execution_count": 11,
   "id": "f2cabcda",
   "metadata": {
    "ExecuteTime": {
     "end_time": "2022-07-24T16:28:48.907782Z",
     "start_time": "2022-07-24T16:28:48.903285Z"
    }
   },
   "outputs": [
    {
     "data": {
      "text/plain": [
       "{'Dublin': 2, 'Paris': 2, 'Rome': 1, 'Milan': 3}"
      ]
     },
     "execution_count": 11,
     "metadata": {},
     "output_type": "execute_result"
    }
   ],
   "source": [
    "{node:G.degree(node) for node in G.nodes}"
   ]
  },
  {
   "cell_type": "code",
   "execution_count": 12,
   "id": "753e5a5a",
   "metadata": {
    "ExecuteTime": {
     "end_time": "2022-07-24T16:28:48.916211Z",
     "start_time": "2022-07-24T16:28:48.909885Z"
    }
   },
   "outputs": [
    {
     "data": {
      "text/plain": [
       "{'Dublin': ['Milan', 'Paris'],\n",
       " 'Paris': ['Milan', 'Dublin'],\n",
       " 'Rome': ['Milan'],\n",
       " 'Milan': ['Dublin', 'Paris', 'Rome']}"
      ]
     },
     "execution_count": 12,
     "metadata": {},
     "output_type": "execute_result"
    }
   ],
   "source": [
    "{node:list(G.neighbors(node)) for node in G.nodes}"
   ]
  },
  {
   "cell_type": "code",
   "execution_count": 13,
   "id": "12c7799f",
   "metadata": {
    "ExecuteTime": {
     "end_time": "2022-07-24T16:28:48.922440Z",
     "start_time": "2022-07-24T16:28:48.918322Z"
    }
   },
   "outputs": [],
   "source": [
    "new_nodes = {'London', 'Madrid'}"
   ]
  },
  {
   "cell_type": "code",
   "execution_count": 14,
   "id": "ecf8e537",
   "metadata": {
    "ExecuteTime": {
     "end_time": "2022-07-24T16:28:48.930100Z",
     "start_time": "2022-07-24T16:28:48.925572Z"
    }
   },
   "outputs": [],
   "source": [
    "new_edges = [('London', 'Rome'), ('Madrid', 'Paris')]"
   ]
  },
  {
   "cell_type": "code",
   "execution_count": 15,
   "id": "9b6305d8",
   "metadata": {
    "ExecuteTime": {
     "end_time": "2022-07-24T16:28:48.937785Z",
     "start_time": "2022-07-24T16:28:48.932159Z"
    }
   },
   "outputs": [],
   "source": [
    "G.add_edges_from(new_edges)"
   ]
  },
  {
   "cell_type": "code",
   "execution_count": 16,
   "id": "10f65f74",
   "metadata": {
    "ExecuteTime": {
     "end_time": "2022-07-24T16:28:48.945054Z",
     "start_time": "2022-07-24T16:28:48.941785Z"
    }
   },
   "outputs": [],
   "source": [
    "G.add_nodes_from(new_nodes)"
   ]
  },
  {
   "cell_type": "code",
   "execution_count": 17,
   "id": "068c8ed2",
   "metadata": {
    "ExecuteTime": {
     "end_time": "2022-07-24T16:28:49.020114Z",
     "start_time": "2022-07-24T16:28:48.949032Z"
    }
   },
   "outputs": [
    {
     "data": {
      "image/png": "[encoded data removed]",
      "text/plain": [
       "<Figure size 432x288 with 1 Axes>"
      ]
     },
     "metadata": {},
     "output_type": "display_data"
    }
   ],
   "source": [
    "nx.draw(G)"
   ]
  },
  {
   "cell_type": "code",
   "execution_count": 18,
   "id": "03108f4d",
   "metadata": {
    "ExecuteTime": {
     "end_time": "2022-07-24T16:28:49.025321Z",
     "start_time": "2022-07-24T16:28:49.022187Z"
    }
   },
   "outputs": [],
   "source": [
    "G.remove_edges_from(new_edges)"
   ]
  },
  {
   "cell_type": "code",
   "execution_count": 19,
   "id": "3d8dbbde",
   "metadata": {
    "ExecuteTime": {
     "end_time": "2022-07-24T16:28:49.110119Z",
     "start_time": "2022-07-24T16:28:49.027369Z"
    }
   },
   "outputs": [
    {
     "data": {
      "image/png": "[encoded data removed]",
      "text/plain": [
       "<Figure size 432x288 with 1 Axes>"
      ]
     },
     "metadata": {},
     "output_type": "display_data"
    }
   ],
   "source": [
    "nx.draw(G)"
   ]
  },
  {
   "cell_type": "markdown",
   "id": "1a7644e4",
   "metadata": {
    "ExecuteTime": {
     "end_time": "2022-07-24T16:24:07.258247Z",
     "start_time": "2022-07-24T16:24:07.255796Z"
    }
   },
   "source": [
    "# DiGraph"
   ]
  },
  {
   "cell_type": "code",
   "execution_count": 20,
   "id": "dc85b31b",
   "metadata": {
    "ExecuteTime": {
     "end_time": "2022-07-24T16:28:49.115232Z",
     "start_time": "2022-07-24T16:28:49.112395Z"
    }
   },
   "outputs": [],
   "source": [
    "directGraph = nx.DiGraph()"
   ]
  },
  {
   "cell_type": "code",
   "execution_count": 21,
   "id": "efd712c0",
   "metadata": {
    "ExecuteTime": {
     "end_time": "2022-07-24T16:28:49.131669Z",
     "start_time": "2022-07-24T16:28:49.117328Z"
    }
   },
   "outputs": [],
   "source": [
    "directV = {'Dublin', 'Paris', 'Milan', 'Rome'}\n",
    "directE = [('Milan','Dublin'), ('Paris','Milan'), ('Paris','Dublin'), ('Milan','Rome')]"
   ]
  },
  {
   "cell_type": "code",
   "execution_count": 22,
   "id": "a7edee14",
   "metadata": {
    "ExecuteTime": {
     "end_time": "2022-07-24T16:28:49.137889Z",
     "start_time": "2022-07-24T16:28:49.134099Z"
    }
   },
   "outputs": [],
   "source": [
    "directGraph.add_nodes_from(directV)"
   ]
  },
  {
   "cell_type": "code",
   "execution_count": 23,
   "id": "230ba169",
   "metadata": {
    "ExecuteTime": {
     "end_time": "2022-07-24T16:28:49.145818Z",
     "start_time": "2022-07-24T16:28:49.140167Z"
    }
   },
   "outputs": [],
   "source": [
    "directGraph.add_edges_from(directE)"
   ]
  },
  {
   "cell_type": "code",
   "execution_count": 24,
   "id": "806c5d8a",
   "metadata": {
    "ExecuteTime": {
     "end_time": "2022-07-24T16:28:49.255943Z",
     "start_time": "2022-07-24T16:28:49.147600Z"
    }
   },
   "outputs": [
    {
     "data": {
      "image/png": "[encoded data removed]",
      "text/plain": [
       "<Figure size 432x288 with 1 Axes>"
      ]
     },
     "metadata": {},
     "output_type": "display_data"
    }
   ],
   "source": [
    "nx.draw(directGraph)"
   ]
  },
  {
   "cell_type": "code",
   "execution_count": 28,
   "id": "35627be8",
   "metadata": {
    "ExecuteTime": {
     "end_time": "2022-07-24T16:35:28.535998Z",
     "start_time": "2022-07-24T16:35:28.532767Z"
    }
   },
   "outputs": [
    {
     "name": "stdout",
     "output_type": "stream",
     "text": [
      "indegree of the nodes: {'Dublin': 2, 'Paris': 0, 'Rome': 1, 'Milan': 1}\n"
     ]
    }
   ],
   "source": [
    "print(\"indegree of the nodes: \"+str({node:directGraph.in_degree(node) for node in directGraph.nodes}))"
   ]
  },
  {
   "cell_type": "code",
   "execution_count": 28,
   "id": "ed36b988",
   "metadata": {
    "ExecuteTime": {
     "end_time": "2022-07-24T16:35:28.535998Z",
     "start_time": "2022-07-24T16:35:28.532767Z"
    }
   },
   "outputs": [
    {
     "name": "stdout",
     "output_type": "stream",
     "text": [
      "indegree of the nodes: {'Dublin': 2, 'Paris': 0, 'Rome': 1, 'Milan': 1}\n"
     ]
    }
   ],
   "source": [
    "print(\"outdegree of the nodes: \"+str({node:directGraph.in_degree(node) for node in directGraph.nodes}))"
   ]
  },
  {
   "cell_type": "code",
   "execution_count": null,
   "id": "8cef8935",
   "metadata": {},
   "outputs": [],
   "source": []
  }
 ],
 "metadata": {
  "hide_input": false,
  "kernelspec": {
   "display_name": "Python 3 (ipykernel)",
   "language": "python",
   "name": "python3"
  },
  "language_info": {
   "codemirror_mode": {
    "name": "ipython",
    "version": 3
   },
   "file_extension": ".py",
   "mimetype": "text/x-python",
   "name": "python",
   "nbconvert_exporter": "python",
   "pygments_lexer": "ipython3",
   "version": "3.8.10"
  },
  "toc": {
   "base_numbering": 1,
   "nav_menu": {},
   "number_sections": true,
   "sideBar": true,
   "skip_h1_title": false,
   "title_cell": "Table of Contents",
   "title_sidebar": "Contents",
   "toc_cell": false,
   "toc_position": {},
   "toc_section_display": true,
   "toc_window_display": false
  }
 },
 "nbformat": 4,
 "nbformat_minor": 5
}
