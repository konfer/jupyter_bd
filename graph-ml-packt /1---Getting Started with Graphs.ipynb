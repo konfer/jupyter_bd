{
 "cells": [
  {
   "cell_type": "code",
   "execution_count": 1,
   "id": "5761c8c2",
   "metadata": {
    "ExecuteTime": {
     "end_time": "2022-07-24T16:13:33.818008Z",
     "start_time": "2022-07-24T16:13:33.490799Z"
    }
   },
   "outputs": [],
   "source": [
    "import networkx as nx\n",
    "import pandas as pd\n",
    "import numpy as np"
   ]
  },
  {
   "cell_type": "code",
   "execution_count": 2,
   "id": "a1e2919f",
   "metadata": {
    "ExecuteTime": {
     "end_time": "2022-07-24T16:13:33.823673Z",
     "start_time": "2022-07-24T16:13:33.820878Z"
    }
   },
   "outputs": [],
   "source": [
    "G = nx.Graph()"
   ]
  },
  {
   "cell_type": "code",
   "execution_count": 3,
   "id": "05f46453",
   "metadata": {
    "ExecuteTime": {
     "end_time": "2022-07-24T16:13:33.836003Z",
     "start_time": "2022-07-24T16:13:33.825324Z"
    }
   },
   "outputs": [],
   "source": [
    "V = {'Dublin', 'Paris', 'Milan', 'Rome'}\n",
    "E = [('Milan','Dublin'), ('Milan','Paris'), ('Paris','Dublin'), ('Milan','Rome')]"
   ]
  },
  {
   "cell_type": "code",
   "execution_count": 4,
   "id": "3e1996b9",
   "metadata": {
    "ExecuteTime": {
     "end_time": "2022-07-24T16:13:33.843633Z",
     "start_time": "2022-07-24T16:13:33.838008Z"
    }
   },
   "outputs": [],
   "source": [
    "G.add_nodes_from(V)\n",
    "G.add_edges_from(E)"
   ]
  },
  {
   "cell_type": "code",
   "execution_count": 5,
   "id": "33847aaf",
   "metadata": {
    "ExecuteTime": {
     "end_time": "2022-07-24T16:13:33.850680Z",
     "start_time": "2022-07-24T16:13:33.846613Z"
    }
   },
   "outputs": [
    {
     "name": "stdout",
     "output_type": "stream",
     "text": [
      "Graph with 4 nodes and 4 edges\n"
     ]
    }
   ],
   "source": [
    "print(G)"
   ]
  },
  {
   "cell_type": "code",
   "execution_count": 6,
   "id": "82b58d29",
   "metadata": {
    "ExecuteTime": {
     "end_time": "2022-07-24T16:13:34.598151Z",
     "start_time": "2022-07-24T16:13:33.852933Z"
    }
   },
   "outputs": [
    {
     "data": {
      "image/png": "[encoded data removed]",
      "text/plain": [
       "<Figure size 432x288 with 1 Axes>"
      ]
     },
     "metadata": {},
     "output_type": "display_data"
    }
   ],
   "source": [
    "nx.draw(G)"
   ]
  },
  {
   "cell_type": "code",
   "execution_count": 7,
   "id": "d3f81409",
   "metadata": {
    "ExecuteTime": {
     "end_time": "2022-07-24T16:13:34.607617Z",
     "start_time": "2022-07-24T16:13:34.601581Z"
    }
   },
   "outputs": [
    {
     "name": "stdout",
     "output_type": "stream",
     "text": [
      "V = ['Milan', 'Rome', 'Dublin', 'Paris']\n"
     ]
    }
   ],
   "source": [
    "print(f\"V = {G.nodes}\")"
   ]
  },
  {
   "cell_type": "code",
   "execution_count": 8,
   "id": "ed6b516f",
   "metadata": {
    "ExecuteTime": {
     "end_time": "2022-07-24T16:13:34.616193Z",
     "start_time": "2022-07-24T16:13:34.610611Z"
    }
   },
   "outputs": [
    {
     "name": "stdout",
     "output_type": "stream",
     "text": [
      "V = [('Milan', 'Dublin'), ('Milan', 'Paris'), ('Milan', 'Rome'), ('Dublin', 'Paris')]\n"
     ]
    }
   ],
   "source": [
    "print(f\"V = {G.edges}\")"
   ]
  },
  {
   "cell_type": "code",
   "execution_count": 9,
   "id": "c8cb0a4e",
   "metadata": {
    "ExecuteTime": {
     "end_time": "2022-07-24T16:13:34.624563Z",
     "start_time": "2022-07-24T16:13:34.618145Z"
    }
   },
   "outputs": [
    {
     "data": {
      "text/plain": [
       "4"
      ]
     },
     "execution_count": 9,
     "metadata": {},
     "output_type": "execute_result"
    }
   ],
   "source": [
    "G.number_of_edges()"
   ]
  },
  {
   "cell_type": "code",
   "execution_count": 10,
   "id": "be822ed7",
   "metadata": {
    "ExecuteTime": {
     "end_time": "2022-07-24T16:13:34.629916Z",
     "start_time": "2022-07-24T16:13:34.626606Z"
    }
   },
   "outputs": [
    {
     "data": {
      "text/plain": [
       "4"
      ]
     },
     "execution_count": 10,
     "metadata": {},
     "output_type": "execute_result"
    }
   ],
   "source": [
    "G.number_of_nodes()"
   ]
  },
  {
   "cell_type": "code",
   "execution_count": 11,
   "id": "08ec0567",
   "metadata": {
    "ExecuteTime": {
     "end_time": "2022-07-24T16:13:34.635947Z",
     "start_time": "2022-07-24T16:13:34.631548Z"
    }
   },
   "outputs": [
    {
     "data": {
      "text/plain": [
       "{'Milan': 3, 'Rome': 1, 'Dublin': 2, 'Paris': 2}"
      ]
     },
     "execution_count": 11,
     "metadata": {},
     "output_type": "execute_result"
    }
   ],
   "source": [
    "{node:G.degree(node) for node in G.nodes}"
   ]
  },
  {
   "cell_type": "code",
   "execution_count": 12,
   "id": "c56452c5",
   "metadata": {
    "ExecuteTime": {
     "end_time": "2022-07-24T16:13:34.641573Z",
     "start_time": "2022-07-24T16:13:34.637559Z"
    }
   },
   "outputs": [
    {
     "data": {
      "text/plain": [
       "{'Milan': ['Dublin', 'Paris', 'Rome'],\n",
       " 'Rome': ['Milan'],\n",
       " 'Dublin': ['Milan', 'Paris'],\n",
       " 'Paris': ['Milan', 'Dublin']}"
      ]
     },
     "execution_count": 12,
     "metadata": {},
     "output_type": "execute_result"
    }
   ],
   "source": [
    "{node:list(G.neighbors(node)) for node in G.nodes}"
   ]
  },
  {
   "cell_type": "code",
   "execution_count": 13,
   "id": "8a96741f",
   "metadata": {
    "ExecuteTime": {
     "end_time": "2022-07-24T16:13:34.646581Z",
     "start_time": "2022-07-24T16:13:34.643419Z"
    }
   },
   "outputs": [],
   "source": [
    "new_nodes = {'London', 'Madrid'}"
   ]
  },
  {
   "cell_type": "code",
   "execution_count": 14,
   "id": "72066eaa",
   "metadata": {
    "ExecuteTime": {
     "end_time": "2022-07-24T16:13:34.652454Z",
     "start_time": "2022-07-24T16:13:34.649589Z"
    }
   },
   "outputs": [],
   "source": [
    "new_edges = [('London', 'Rome'), ('Madrid', 'Paris')]"
   ]
  },
  {
   "cell_type": "code",
   "execution_count": 15,
   "id": "df93e2d4",
   "metadata": {
    "ExecuteTime": {
     "end_time": "2022-07-24T16:13:34.657522Z",
     "start_time": "2022-07-24T16:13:34.654842Z"
    }
   },
   "outputs": [],
   "source": [
    "G.add_edges_from(new_edges)"
   ]
  },
  {
   "cell_type": "code",
   "execution_count": 16,
   "id": "8694dc1a",
   "metadata": {
    "ExecuteTime": {
     "end_time": "2022-07-24T16:13:34.665904Z",
     "start_time": "2022-07-24T16:13:34.659062Z"
    }
   },
   "outputs": [],
   "source": [
    "G.add_nodes_from(new_nodes)"
   ]
  },
  {
   "cell_type": "code",
   "execution_count": 17,
   "id": "4b2c2fa7",
   "metadata": {
    "ExecuteTime": {
     "end_time": "2022-07-24T16:13:34.740436Z",
     "start_time": "2022-07-24T16:13:34.667944Z"
    }
   },
   "outputs": [
    {
     "data": {
      "image/png": "[encoded data removed]",
      "text/plain": [
       "<Figure size 432x288 with 1 Axes>"
      ]
     },
     "metadata": {},
     "output_type": "display_data"
    }
   ],
   "source": [
    "nx.draw(G)"
   ]
  },
  {
   "cell_type": "code",
   "execution_count": 18,
   "id": "73e8be28",
   "metadata": {
    "ExecuteTime": {
     "end_time": "2022-07-24T16:13:34.745257Z",
     "start_time": "2022-07-24T16:13:34.742594Z"
    }
   },
   "outputs": [],
   "source": [
    "G.remove_edges_from(new_edges)"
   ]
  },
  {
   "cell_type": "code",
   "execution_count": 19,
   "id": "56f4f062",
   "metadata": {
    "ExecuteTime": {
     "end_time": "2022-07-24T16:13:34.826385Z",
     "start_time": "2022-07-24T16:13:34.747107Z"
    }
   },
   "outputs": [
    {
     "data": {
      "image/png": "[encoded data removed]",
      "text/plain": [
       "<Figure size 432x288 with 1 Axes>"
      ]
     },
     "metadata": {},
     "output_type": "display_data"
    }
   ],
   "source": [
    "nx.draw(G)"
   ]
  },
  {
   "cell_type": "code",
   "execution_count": null,
   "id": "bca4da40",
   "metadata": {},
   "outputs": [],
   "source": []
  }
 ],
 "metadata": {
  "hide_input": false,
  "kernelspec": {
   "display_name": "Python 3 (ipykernel)",
   "language": "python",
   "name": "python3"
  },
  "language_info": {
   "codemirror_mode": {
    "name": "ipython",
    "version": 3
   },
   "file_extension": ".py",
   "mimetype": "text/x-python",
   "name": "python",
   "nbconvert_exporter": "python",
   "pygments_lexer": "ipython3",
   "version": "3.8.10"
  },
  "toc": {
   "base_numbering": 1,
   "nav_menu": {},
   "number_sections": true,
   "sideBar": true,
   "skip_h1_title": false,
   "title_cell": "Table of Contents",
   "title_sidebar": "Contents",
   "toc_cell": false,
   "toc_position": {},
   "toc_section_display": true,
   "toc_window_display": false
  }
 },
 "nbformat": 4,
 "nbformat_minor": 5
}
