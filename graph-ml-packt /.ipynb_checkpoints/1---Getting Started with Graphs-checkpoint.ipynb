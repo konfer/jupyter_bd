{
 "cells": [
  {
   "cell_type": "code",
   "execution_count": 1,
   "id": "5761c8c2",
   "metadata": {
    "ExecuteTime": {
     "end_time": "2022-07-24T12:04:01.131835Z",
     "start_time": "2022-07-24T12:04:00.733483Z"
    }
   },
   "outputs": [],
   "source": [
    "import networkx as nx\n",
    "import pandas as pd\n",
    "import numpy as np"
   ]
  },
  {
   "cell_type": "code",
   "execution_count": 2,
   "id": "a1e2919f",
   "metadata": {
    "ExecuteTime": {
     "end_time": "2022-07-24T12:04:01.137902Z",
     "start_time": "2022-07-24T12:04:01.134729Z"
    }
   },
   "outputs": [],
   "source": [
    "G = nx.Graph()"
   ]
  },
  {
   "cell_type": "code",
   "execution_count": 3,
   "id": "05f46453",
   "metadata": {
    "ExecuteTime": {
     "end_time": "2022-07-24T12:04:01.146395Z",
     "start_time": "2022-07-24T12:04:01.139939Z"
    }
   },
   "outputs": [],
   "source": [
    "V = {'Dublin', 'Paris', 'Milan', 'Rome'}\n",
    "E = [('Milan','Dublin'), ('Milan','Paris'), ('Paris','Dublin'), ('Milan','Rome')]"
   ]
  },
  {
   "cell_type": "code",
   "execution_count": 4,
   "id": "3e1996b9",
   "metadata": {
    "ExecuteTime": {
     "end_time": "2022-07-24T12:04:01.152524Z",
     "start_time": "2022-07-24T12:04:01.148541Z"
    }
   },
   "outputs": [],
   "source": [
    "G.add_nodes_from(V)\n",
    "G.add_edges_from(E)"
   ]
  },
  {
   "cell_type": "code",
   "execution_count": 5,
   "id": "33847aaf",
   "metadata": {
    "ExecuteTime": {
     "end_time": "2022-07-24T12:04:01.163164Z",
     "start_time": "2022-07-24T12:04:01.155920Z"
    }
   },
   "outputs": [
    {
     "name": "stdout",
     "output_type": "stream",
     "text": [
      "Graph with 4 nodes and 4 edges\n"
     ]
    }
   ],
   "source": [
    "print(G)"
   ]
  },
  {
   "cell_type": "code",
   "execution_count": 6,
   "id": "82b58d29",
   "metadata": {
    "ExecuteTime": {
     "end_time": "2022-07-24T12:04:01.900606Z",
     "start_time": "2022-07-24T12:04:01.166577Z"
    }
   },
   "outputs": [
    {
     "data": {
      "image/png": "[encoded data removed]",
      "text/plain": [
       "<Figure size 432x288 with 1 Axes>"
      ]
     },
     "metadata": {},
     "output_type": "display_data"
    }
   ],
   "source": [
    "nx.draw(G)"
   ]
  }
 ],
 "metadata": {
  "hide_input": false,
  "kernelspec": {
   "display_name": "Python 3 (ipykernel)",
   "language": "python",
   "name": "python3"
  },
  "language_info": {
   "codemirror_mode": {
    "name": "ipython",
    "version": 3
   },
   "file_extension": ".py",
   "mimetype": "text/x-python",
   "name": "python",
   "nbconvert_exporter": "python",
   "pygments_lexer": "ipython3",
   "version": "3.8.10"
  },
  "toc": {
   "base_numbering": 1,
   "nav_menu": {},
   "number_sections": true,
   "sideBar": true,
   "skip_h1_title": false,
   "title_cell": "Table of Contents",
   "title_sidebar": "Contents",
   "toc_cell": false,
   "toc_position": {},
   "toc_section_display": true,
   "toc_window_display": false
  }
 },
 "nbformat": 4,
 "nbformat_minor": 5
}
