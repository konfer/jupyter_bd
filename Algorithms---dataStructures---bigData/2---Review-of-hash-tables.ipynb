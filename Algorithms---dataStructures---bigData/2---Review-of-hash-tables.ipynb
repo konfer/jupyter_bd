{
 "cells": [
  {
   "cell_type": "code",
   "execution_count": 1,
   "id": "10d986ac",
   "metadata": {
    "ExecuteTime": {
     "end_time": "2022-07-31T20:07:34.429904Z",
     "start_time": "2022-07-31T20:07:34.421149Z"
    }
   },
   "outputs": [],
   "source": [
    "import mmh3"
   ]
  },
  {
   "cell_type": "code",
   "execution_count": 2,
   "id": "aa1f0a22",
   "metadata": {
    "ExecuteTime": {
     "end_time": "2022-07-31T20:07:34.442585Z",
     "start_time": "2022-07-31T20:07:34.432345Z"
    }
   },
   "outputs": [
    {
     "name": "stdout",
     "output_type": "stream",
     "text": [
      "dict_keys(['turmeric', 'cardamom', 'oregano'])\n",
      "dict_values([7, 5, 12])\n",
      "dict_items([('turmeric', 7), ('cardamom', 5), ('oregano', 12)])\n",
      "dict_items([('turmeric', 7), ('cardamom', 5), ('oregano', 12), ('saffron', 11)])\n"
     ]
    }
   ],
   "source": [
    "d = {'turmeric': 7, 'cardamom': 5, 'oregano': 12}\n",
    "print(d.keys())\n",
    "print(d.values())\n",
    "print(d.items())\n",
    "d.update({'saffron': 11})\n",
    "print(d.items())"
   ]
  },
  {
   "cell_type": "code",
   "execution_count": 3,
   "id": "7664a71e",
   "metadata": {
    "ExecuteTime": {
     "end_time": "2022-07-31T20:07:34.454422Z",
     "start_time": "2022-07-31T20:07:34.444492Z"
    }
   },
   "outputs": [
    {
     "name": "stdout",
     "output_type": "stream",
     "text": [
      "316307400\n",
      "-196410714\n",
      "-1705059936\n",
      "2589907360\n"
     ]
    }
   ],
   "source": [
    "print(mmh3.hash(\"Hello\"))\n",
    "print(mmh3.hash(key = \"Hello\", seed = 5, signed = True))\n",
    "print(mmh3.hash(key = \"Hello\", seed = 20, signed = True))\n",
    "print(mmh3.hash(key = \"Hello\", seed = 20, signed = False))"
   ]
  }
 ],
 "metadata": {
  "hide_input": false,
  "kernelspec": {
   "display_name": "Python 3 (ipykernel)",
   "language": "python",
   "name": "python3"
  },
  "language_info": {
   "codemirror_mode": {
    "name": "ipython",
    "version": 3
   },
   "file_extension": ".py",
   "mimetype": "text/x-python",
   "name": "python",
   "nbconvert_exporter": "python",
   "pygments_lexer": "ipython3",
   "version": "3.8.10"
  },
  "toc": {
   "base_numbering": 1,
   "nav_menu": {},
   "number_sections": true,
   "sideBar": true,
   "skip_h1_title": false,
   "title_cell": "Table of Contents",
   "title_sidebar": "Contents",
   "toc_cell": false,
   "toc_position": {},
   "toc_section_display": true,
   "toc_window_display": false
  }
 },
 "nbformat": 4,
 "nbformat_minor": 5
}
