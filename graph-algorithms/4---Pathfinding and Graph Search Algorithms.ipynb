{
 "cells": [
  {
   "cell_type": "code",
   "execution_count": null,
   "metadata": {},
   "outputs": [],
   "source": [
    "import py2neo\n",
    "import tqdm\n",
    "import pandas as pd\n",
    "\n",
    "from tqdm import tqdm\n",
    "from py2neo import Graph,Node,Relationship,NodeMatcher"
   ]
  },
  {
   "cell_type": "code",
   "execution_count": null,
   "metadata": {},
   "outputs": [],
   "source": [
    "# pandas-style!\n",
    "def color_negative_red(val):\n",
    "    color = 'red' if val < 0 else 'black' \n",
    "    return 'color: %s' % color \n",
    "# df.style.applymap(color_negative_red)"
   ]
  },
  {
   "cell_type": "code",
   "execution_count": null,
   "metadata": {},
   "outputs": [],
   "source": [
    "# pandas-num-option!\n",
    "pd.options.display.max_columns = 50  # None -> No Restrictions\n",
    "pd.options.display.max_rows = 200    # None -> Be careful with this\n",
    "pd.options.display.max_colwidth = 100\n",
    "pd.options.display.precision = 3"
   ]
  },
  {
   "cell_type": "code",
   "execution_count": null,
   "metadata": {},
   "outputs": [],
   "source": [
    "trafficGraph = Graph('http://hapark02:3447',user = 'neo4j', password = '123')"
   ]
  },
  {
   "cell_type": "code",
   "execution_count": null,
   "metadata": {},
   "outputs": [],
   "source": [
    "nodeDF = pd.read_csv('/usr/local/codeData/jupyterData/jupyter-bd/graph-algorithms/data/transport-nodes.csv')"
   ]
  },
  {
   "cell_type": "code",
   "execution_count": null,
   "metadata": {},
   "outputs": [],
   "source": [
    "relationDF = pd.read_csv('/usr/local/codeData/jupyterData/jupyter-bd/graph-algorithms/data/transport-relationships.csv')"
   ]
  },
  {
   "cell_type": "code",
   "execution_count": null,
   "metadata": {},
   "outputs": [],
   "source": [
    "nodeDF.head()"
   ]
  },
  {
   "cell_type": "code",
   "execution_count": null,
   "metadata": {},
   "outputs": [],
   "source": [
    "# pandas-table-style!\n",
    "relationDF.head(10).style.set_table_styles(\n",
    "[{'selector': 'tr:nth-of-type(odd)','props': [('background', 'eee')]},\n",
    " {'selector': 'tr:nth-of-type(even)','props': [('background', 'white')]},\n",
    " {'selector': 'th','props': [('background', '#606060'), \n",
    "                             ('color', 'white'),\n",
    "                             ('font-family', 'verdana')]},\n",
    " {'selector': 'td','props': [('font-family', 'verdana')]}\n",
    "])"
   ]
  },
  {
   "cell_type": "code",
   "execution_count": null,
   "metadata": {},
   "outputs": [],
   "source": [
    "relationDF"
   ]
  },
  {
   "cell_type": "code",
   "execution_count": null,
   "metadata": {},
   "outputs": [],
   "source": [
    "for i, row in tqdm(nodeDF.iterrows()):\n",
    "    \n",
    "    transport_node = Node(\"transport_node\",name=row[nodeDF.columns[0]])\n",
    "    \n",
    "    trafficGraph.merge(transport_node, \"transport_node\", \"name\")\n",
    "    \n",
    "    for j in range(len(list(row))-1):\n",
    "        propertyKey = nodeDF.columns[j+1]\n",
    "        propertyValue = row[nodeDF.columns[j+1]]\n",
    "        transport_node.update({propertyKey:propertyValue})\n",
    "        \n",
    "    propertyKey = None\n",
    "    propertyValue = None\n",
    "        \n",
    "    trafficGraph.push(transport_node)\n",
    "    "
   ]
  },
  {
   "cell_type": "code",
   "execution_count": null,
   "metadata": {},
   "outputs": [],
   "source": [
    "for i, row in tqdm(relationDF.iterrows()):\n",
    "    \n",
    "    startNodeName, endNodeName, relationType = [row[j] for j in range(3)]\n",
    "    startNode = trafficGraph.nodes.match(\"transport_node\", name = startNodeName).first()\n",
    "    endNode = trafficGraph.nodes.match(\"transport_node\", name = endNodeName).first()\n",
    "    transport_relationship = Relationship(startNode,relationType,endNode)\n",
    "    \n",
    "    trafficGraph.create(transport_relationship)\n",
    "    \n",
    "    for j in row.index[3:]:\n",
    "        transport_relationship.update({j:row[j]})\n",
    "    \n",
    "    trafficGraph.push(transport_relationship)\n",
    "    "
   ]
  },
  {
   "cell_type": "code",
   "execution_count": null,
   "metadata": {},
   "outputs": [],
   "source": []
  }
 ],
 "metadata": {
  "kernelspec": {
   "display_name": "Python 3 (ipykernel)",
   "language": "python",
   "name": "python3"
  },
  "language_info": {
   "codemirror_mode": {
    "name": "ipython",
    "version": 3
   },
   "file_extension": ".py",
   "mimetype": "text/x-python",
   "name": "python",
   "nbconvert_exporter": "python",
   "pygments_lexer": "ipython3",
   "version": "3.8.10"
  }
 },
 "nbformat": 4,
 "nbformat_minor": 4
}
