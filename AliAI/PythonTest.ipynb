{
 "cells": [
  {
   "cell_type": "code",
   "execution_count": 1,
   "metadata": {},
   "outputs": [],
   "source": [
    "import numpy as np\n",
    "import matplotlib.pyplot as plt\n",
    "import statsmodels.api as sm"
   ]
  },
  {
   "cell_type": "code",
   "execution_count": 2,
   "metadata": {},
   "outputs": [],
   "source": [
    "nsample=20"
   ]
  },
  {
   "cell_type": "code",
   "execution_count": 3,
   "metadata": {},
   "outputs": [],
   "source": [
    "x=np.linspace(0,10,nsample)"
   ]
  },
  {
   "cell_type": "code",
   "execution_count": 4,
   "metadata": {},
   "outputs": [],
   "source": [
    "xPlus=np.column_stack((x,x**2))"
   ]
  },
  {
   "cell_type": "code",
   "execution_count": 5,
   "metadata": {},
   "outputs": [
    {
     "data": {
      "text/plain": [
       "array([ 0.        ,  0.52631579,  1.05263158,  1.57894737,  2.10526316,\n",
       "        2.63157895,  3.15789474,  3.68421053,  4.21052632,  4.73684211,\n",
       "        5.26315789,  5.78947368,  6.31578947,  6.84210526,  7.36842105,\n",
       "        7.89473684,  8.42105263,  8.94736842,  9.47368421, 10.        ])"
      ]
     },
     "execution_count": 5,
     "metadata": {},
     "output_type": "execute_result"
    }
   ],
   "source": [
    "x"
   ]
  },
  {
   "cell_type": "code",
   "execution_count": 6,
   "metadata": {},
   "outputs": [
    {
     "data": {
      "text/plain": [
       "array([[  0.        ,   0.        ],\n",
       "       [  0.52631579,   0.27700831],\n",
       "       [  1.05263158,   1.10803324],\n",
       "       [  1.57894737,   2.49307479],\n",
       "       [  2.10526316,   4.43213296],\n",
       "       [  2.63157895,   6.92520776],\n",
       "       [  3.15789474,   9.97229917],\n",
       "       [  3.68421053,  13.5734072 ],\n",
       "       [  4.21052632,  17.72853186],\n",
       "       [  4.73684211,  22.43767313],\n",
       "       [  5.26315789,  27.70083102],\n",
       "       [  5.78947368,  33.51800554],\n",
       "       [  6.31578947,  39.88919668],\n",
       "       [  6.84210526,  46.81440443],\n",
       "       [  7.36842105,  54.29362881],\n",
       "       [  7.89473684,  62.32686981],\n",
       "       [  8.42105263,  70.91412742],\n",
       "       [  8.94736842,  80.05540166],\n",
       "       [  9.47368421,  89.75069252],\n",
       "       [ 10.        , 100.        ]])"
      ]
     },
     "execution_count": 6,
     "metadata": {},
     "output_type": "execute_result"
    }
   ],
   "source": [
    "xPlus"
   ]
  },
  {
   "cell_type": "code",
   "execution_count": 13,
   "metadata": {},
   "outputs": [],
   "source": [
    "xConstant=sm.add_constant(xPlus)"
   ]
  },
  {
   "cell_type": "code",
   "execution_count": 14,
   "metadata": {},
   "outputs": [
    {
     "data": {
      "text/plain": [
       "array([[  1.        ,   0.        ,   0.        ],\n",
       "       [  1.        ,   0.52631579,   0.27700831],\n",
       "       [  1.        ,   1.05263158,   1.10803324],\n",
       "       [  1.        ,   1.57894737,   2.49307479],\n",
       "       [  1.        ,   2.10526316,   4.43213296],\n",
       "       [  1.        ,   2.63157895,   6.92520776],\n",
       "       [  1.        ,   3.15789474,   9.97229917],\n",
       "       [  1.        ,   3.68421053,  13.5734072 ],\n",
       "       [  1.        ,   4.21052632,  17.72853186],\n",
       "       [  1.        ,   4.73684211,  22.43767313],\n",
       "       [  1.        ,   5.26315789,  27.70083102],\n",
       "       [  1.        ,   5.78947368,  33.51800554],\n",
       "       [  1.        ,   6.31578947,  39.88919668],\n",
       "       [  1.        ,   6.84210526,  46.81440443],\n",
       "       [  1.        ,   7.36842105,  54.29362881],\n",
       "       [  1.        ,   7.89473684,  62.32686981],\n",
       "       [  1.        ,   8.42105263,  70.91412742],\n",
       "       [  1.        ,   8.94736842,  80.05540166],\n",
       "       [  1.        ,   9.47368421,  89.75069252],\n",
       "       [  1.        ,  10.        , 100.        ]])"
      ]
     },
     "execution_count": 14,
     "metadata": {},
     "output_type": "execute_result"
    }
   ],
   "source": [
    "xConstant"
   ]
  },
  {
   "cell_type": "code",
   "execution_count": 21,
   "metadata": {},
   "outputs": [],
   "source": [
    "beta = np.array([5,2,3])"
   ]
  },
  {
   "cell_type": "code",
   "execution_count": 22,
   "metadata": {},
   "outputs": [
    {
     "data": {
      "text/plain": [
       "array([5, 2, 3])"
      ]
     },
     "execution_count": 22,
     "metadata": {},
     "output_type": "execute_result"
    }
   ],
   "source": [
    "beta"
   ]
  },
  {
   "cell_type": "code",
   "execution_count": 23,
   "metadata": {},
   "outputs": [],
   "source": [
    "e=np.random.normal(size=nsample)"
   ]
  },
  {
   "cell_type": "code",
   "execution_count": 24,
   "metadata": {},
   "outputs": [
    {
     "data": {
      "text/plain": [
       "array([ 2.20746656,  0.37887935, -0.10649859, -0.58065968,  0.65745894,\n",
       "        1.09003955, -2.82229594,  2.06055084,  0.47075622,  0.86818045,\n",
       "        0.10611927,  1.49876238,  0.2057013 , -0.03407496, -0.64131238,\n",
       "       -0.76653783, -1.86410111, -1.50375205, -0.70692993,  1.01561113])"
      ]
     },
     "execution_count": 24,
     "metadata": {},
     "output_type": "execute_result"
    }
   ],
   "source": [
    "e"
   ]
  },
  {
   "cell_type": "code",
   "execution_count": 25,
   "metadata": {},
   "outputs": [],
   "source": [
    "y=np.dot(xConstant,beta)+e"
   ]
  },
  {
   "cell_type": "code",
   "execution_count": 27,
   "metadata": {},
   "outputs": [],
   "source": [
    "model=sm.OLS(y,xConstant)"
   ]
  },
  {
   "cell_type": "code",
   "execution_count": 28,
   "metadata": {},
   "outputs": [],
   "source": [
    "results=model.fit()"
   ]
  },
  {
   "cell_type": "code",
   "execution_count": 30,
   "metadata": {},
   "outputs": [
    {
     "data": {
      "text/plain": [
       "array([5.81143175, 1.83621392, 3.00246026])"
      ]
     },
     "execution_count": 30,
     "metadata": {},
     "output_type": "execute_result"
    }
   ],
   "source": [
    "results.params"
   ]
  },
  {
   "cell_type": "code",
   "execution_count": 32,
   "metadata": {},
   "outputs": [
    {
     "data": {
      "text/html": [
       "<table class=\"simpletable\">\n",
       "<caption>OLS Regression Results</caption>\n",
       "<tr>\n",
       "  <th>Dep. Variable:</th>            <td>y</td>        <th>  R-squared:         </th> <td>   1.000</td> \n",
       "</tr>\n",
       "<tr>\n",
       "  <th>Model:</th>                   <td>OLS</td>       <th>  Adj. R-squared:    </th> <td>   1.000</td> \n",
       "</tr>\n",
       "<tr>\n",
       "  <th>Method:</th>             <td>Least Squares</td>  <th>  F-statistic:       </th> <td>6.259e+04</td>\n",
       "</tr>\n",
       "<tr>\n",
       "  <th>Date:</th>             <td>Thu, 24 Jan 2019</td> <th>  Prob (F-statistic):</th> <td>1.35e-33</td> \n",
       "</tr>\n",
       "<tr>\n",
       "  <th>Time:</th>                 <td>17:00:14</td>     <th>  Log-Likelihood:    </th> <td> -31.396</td> \n",
       "</tr>\n",
       "<tr>\n",
       "  <th>No. Observations:</th>      <td>    20</td>      <th>  AIC:               </th> <td>   68.79</td> \n",
       "</tr>\n",
       "<tr>\n",
       "  <th>Df Residuals:</th>          <td>    17</td>      <th>  BIC:               </th> <td>   71.78</td> \n",
       "</tr>\n",
       "<tr>\n",
       "  <th>Df Model:</th>              <td>     2</td>      <th>                     </th>     <td> </td>    \n",
       "</tr>\n",
       "<tr>\n",
       "  <th>Covariance Type:</th>      <td>nonrobust</td>    <th>                     </th>     <td> </td>    \n",
       "</tr>\n",
       "</table>\n",
       "<table class=\"simpletable\">\n",
       "<tr>\n",
       "    <td></td>       <th>coef</th>     <th>std err</th>      <th>t</th>      <th>P>|t|</th>  <th>[0.025</th>    <th>0.975]</th>  \n",
       "</tr>\n",
       "<tr>\n",
       "  <th>const</th> <td>    5.8114</td> <td>    0.768</td> <td>    7.567</td> <td> 0.000</td> <td>    4.191</td> <td>    7.432</td>\n",
       "</tr>\n",
       "<tr>\n",
       "  <th>x1</th>    <td>    1.8362</td> <td>    0.356</td> <td>    5.158</td> <td> 0.000</td> <td>    1.085</td> <td>    2.587</td>\n",
       "</tr>\n",
       "<tr>\n",
       "  <th>x2</th>    <td>    3.0025</td> <td>    0.034</td> <td>   87.370</td> <td> 0.000</td> <td>    2.930</td> <td>    3.075</td>\n",
       "</tr>\n",
       "</table>\n",
       "<table class=\"simpletable\">\n",
       "<tr>\n",
       "  <th>Omnibus:</th>       <td> 3.467</td> <th>  Durbin-Watson:     </th> <td>   2.099</td>\n",
       "</tr>\n",
       "<tr>\n",
       "  <th>Prob(Omnibus):</th> <td> 0.177</td> <th>  Jarque-Bera (JB):  </th> <td>   1.682</td>\n",
       "</tr>\n",
       "<tr>\n",
       "  <th>Skew:</th>          <td>-0.635</td> <th>  Prob(JB):          </th> <td>   0.431</td>\n",
       "</tr>\n",
       "<tr>\n",
       "  <th>Kurtosis:</th>      <td> 3.636</td> <th>  Cond. No.          </th> <td>    137.</td>\n",
       "</tr>\n",
       "</table><br/><br/>Warnings:<br/>[1] Standard Errors assume that the covariance matrix of the errors is correctly specified."
      ],
      "text/plain": [
       "<class 'statsmodels.iolib.summary.Summary'>\n",
       "\"\"\"\n",
       "                            OLS Regression Results                            \n",
       "==============================================================================\n",
       "Dep. Variable:                      y   R-squared:                       1.000\n",
       "Model:                            OLS   Adj. R-squared:                  1.000\n",
       "Method:                 Least Squares   F-statistic:                 6.259e+04\n",
       "Date:                Thu, 24 Jan 2019   Prob (F-statistic):           1.35e-33\n",
       "Time:                        17:00:14   Log-Likelihood:                -31.396\n",
       "No. Observations:                  20   AIC:                             68.79\n",
       "Df Residuals:                      17   BIC:                             71.78\n",
       "Df Model:                           2                                         \n",
       "Covariance Type:            nonrobust                                         \n",
       "==============================================================================\n",
       "                 coef    std err          t      P>|t|      [0.025      0.975]\n",
       "------------------------------------------------------------------------------\n",
       "const          5.8114      0.768      7.567      0.000       4.191       7.432\n",
       "x1             1.8362      0.356      5.158      0.000       1.085       2.587\n",
       "x2             3.0025      0.034     87.370      0.000       2.930       3.075\n",
       "==============================================================================\n",
       "Omnibus:                        3.467   Durbin-Watson:                   2.099\n",
       "Prob(Omnibus):                  0.177   Jarque-Bera (JB):                1.682\n",
       "Skew:                          -0.635   Prob(JB):                        0.431\n",
       "Kurtosis:                       3.636   Cond. No.                         137.\n",
       "==============================================================================\n",
       "\n",
       "Warnings:\n",
       "[1] Standard Errors assume that the covariance matrix of the errors is correctly specified.\n",
       "\"\"\""
      ]
     },
     "execution_count": 32,
     "metadata": {},
     "output_type": "execute_result"
    }
   ],
   "source": [
    "results.summary()"
   ]
  },
  {
   "cell_type": "code",
   "execution_count": null,
   "metadata": {},
   "outputs": [],
   "source": []
  }
 ],
 "metadata": {
  "kernelspec": {
   "display_name": "Python 3",
   "language": "python",
   "name": "python3"
  },
  "language_info": {
   "codemirror_mode": {
    "name": "ipython",
    "version": 3
   },
   "file_extension": ".py",
   "mimetype": "text/x-python",
   "name": "python",
   "nbconvert_exporter": "python",
   "pygments_lexer": "ipython3",
   "version": "3.5.2"
  }
 },
 "nbformat": 4,
 "nbformat_minor": 2
}
