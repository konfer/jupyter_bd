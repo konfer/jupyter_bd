{
 "cells": [
  {
   "cell_type": "code",
   "execution_count": 2,
   "metadata": {},
   "outputs": [],
   "source": [
    "import numpy as np\n",
    "import pandas as pd\n",
    "import scipy.stats as st\n",
    "import matplotlib.pyplot as plt\n",
    "from matplotlib.colors import ListedColormap"
   ]
  },
  {
   "cell_type": "code",
   "execution_count": 4,
   "metadata": {},
   "outputs": [],
   "source": [
    "df = pd.read_csv('Allstorms-Copy1.ibtracs_wmo.v03r05.csv')"
   ]
  },
  {
   "cell_type": "code",
   "execution_count": 5,
   "metadata": {},
   "outputs": [
    {
     "data": {
      "text/html": [
       "<div>\n",
       "<style scoped>\n",
       "    .dataframe tbody tr th:only-of-type {\n",
       "        vertical-align: middle;\n",
       "    }\n",
       "\n",
       "    .dataframe tbody tr th {\n",
       "        vertical-align: top;\n",
       "    }\n",
       "\n",
       "    .dataframe thead th {\n",
       "        text-align: right;\n",
       "    }\n",
       "</style>\n",
       "<table border=\"1\" class=\"dataframe\">\n",
       "  <thead>\n",
       "    <tr style=\"text-align: right;\">\n",
       "      <th></th>\n",
       "      <th>Serial_Num</th>\n",
       "      <th>Season</th>\n",
       "      <th>Num</th>\n",
       "      <th>Basin</th>\n",
       "      <th>Sub_basin</th>\n",
       "      <th>Name</th>\n",
       "      <th>ISO_time</th>\n",
       "      <th>Nature</th>\n",
       "      <th>Latitude</th>\n",
       "      <th>Longitude</th>\n",
       "      <th>Wind(WMO)</th>\n",
       "      <th>Pres(WMO)</th>\n",
       "      <th>Center</th>\n",
       "      <th>Wind(WMO) Percentile</th>\n",
       "      <th>Pres(WMO) Percentile</th>\n",
       "      <th>Track_type</th>\n",
       "    </tr>\n",
       "  </thead>\n",
       "  <tbody>\n",
       "    <tr>\n",
       "      <th>0</th>\n",
       "      <td>1848011S09080</td>\n",
       "      <td>1848</td>\n",
       "      <td>2</td>\n",
       "      <td>SI</td>\n",
       "      <td>MM</td>\n",
       "      <td>XXXX848003</td>\n",
       "      <td>1848-01-11 06:00:00</td>\n",
       "      <td>NR</td>\n",
       "      <td>-8.6</td>\n",
       "      <td>79.8</td>\n",
       "      <td>0.0</td>\n",
       "      <td>0.0</td>\n",
       "      <td>reunion</td>\n",
       "      <td>-100.0</td>\n",
       "      <td>-100.0</td>\n",
       "      <td>main</td>\n",
       "    </tr>\n",
       "    <tr>\n",
       "      <th>1</th>\n",
       "      <td>1848011S09080</td>\n",
       "      <td>1848</td>\n",
       "      <td>2</td>\n",
       "      <td>SI</td>\n",
       "      <td>MM</td>\n",
       "      <td>XXXX848003</td>\n",
       "      <td>1848-01-12 06:00:00</td>\n",
       "      <td>NR</td>\n",
       "      <td>-9.0</td>\n",
       "      <td>78.9</td>\n",
       "      <td>0.0</td>\n",
       "      <td>0.0</td>\n",
       "      <td>reunion</td>\n",
       "      <td>-100.0</td>\n",
       "      <td>-100.0</td>\n",
       "      <td>main</td>\n",
       "    </tr>\n",
       "    <tr>\n",
       "      <th>2</th>\n",
       "      <td>1848011S09080</td>\n",
       "      <td>1848</td>\n",
       "      <td>2</td>\n",
       "      <td>SI</td>\n",
       "      <td>MM</td>\n",
       "      <td>XXXX848003</td>\n",
       "      <td>1848-01-13 06:00:00</td>\n",
       "      <td>NR</td>\n",
       "      <td>-10.4</td>\n",
       "      <td>73.2</td>\n",
       "      <td>0.0</td>\n",
       "      <td>0.0</td>\n",
       "      <td>reunion</td>\n",
       "      <td>-100.0</td>\n",
       "      <td>-100.0</td>\n",
       "      <td>main</td>\n",
       "    </tr>\n",
       "    <tr>\n",
       "      <th>3</th>\n",
       "      <td>1848011S09080</td>\n",
       "      <td>1848</td>\n",
       "      <td>2</td>\n",
       "      <td>SI</td>\n",
       "      <td>MM</td>\n",
       "      <td>XXXX848003</td>\n",
       "      <td>1848-01-14 06:00:00</td>\n",
       "      <td>NR</td>\n",
       "      <td>-12.8</td>\n",
       "      <td>69.9</td>\n",
       "      <td>0.0</td>\n",
       "      <td>0.0</td>\n",
       "      <td>reunion</td>\n",
       "      <td>-100.0</td>\n",
       "      <td>-100.0</td>\n",
       "      <td>main</td>\n",
       "    </tr>\n",
       "    <tr>\n",
       "      <th>4</th>\n",
       "      <td>1848011S09080</td>\n",
       "      <td>1848</td>\n",
       "      <td>2</td>\n",
       "      <td>SI</td>\n",
       "      <td>MM</td>\n",
       "      <td>XXXX848003</td>\n",
       "      <td>1848-01-15 06:00:00</td>\n",
       "      <td>NR</td>\n",
       "      <td>-13.9</td>\n",
       "      <td>68.9</td>\n",
       "      <td>0.0</td>\n",
       "      <td>0.0</td>\n",
       "      <td>reunion</td>\n",
       "      <td>-100.0</td>\n",
       "      <td>-100.0</td>\n",
       "      <td>main</td>\n",
       "    </tr>\n",
       "  </tbody>\n",
       "</table>\n",
       "</div>"
      ],
      "text/plain": [
       "      Serial_Num  Season  Num Basin Sub_basin        Name  \\\n",
       "0  1848011S09080    1848    2    SI        MM  XXXX848003   \n",
       "1  1848011S09080    1848    2    SI        MM  XXXX848003   \n",
       "2  1848011S09080    1848    2    SI        MM  XXXX848003   \n",
       "3  1848011S09080    1848    2    SI        MM  XXXX848003   \n",
       "4  1848011S09080    1848    2    SI        MM  XXXX848003   \n",
       "\n",
       "              ISO_time Nature  Latitude  Longitude  Wind(WMO)  Pres(WMO)  \\\n",
       "0  1848-01-11 06:00:00     NR      -8.6       79.8        0.0        0.0   \n",
       "1  1848-01-12 06:00:00     NR      -9.0       78.9        0.0        0.0   \n",
       "2  1848-01-13 06:00:00     NR     -10.4       73.2        0.0        0.0   \n",
       "3  1848-01-14 06:00:00     NR     -12.8       69.9        0.0        0.0   \n",
       "4  1848-01-15 06:00:00     NR     -13.9       68.9        0.0        0.0   \n",
       "\n",
       "    Center  Wind(WMO) Percentile  Pres(WMO) Percentile Track_type  \n",
       "0  reunion                -100.0                -100.0       main  \n",
       "1  reunion                -100.0                -100.0       main  \n",
       "2  reunion                -100.0                -100.0       main  \n",
       "3  reunion                -100.0                -100.0       main  \n",
       "4  reunion                -100.0                -100.0       main  "
      ]
     },
     "execution_count": 5,
     "metadata": {},
     "output_type": "execute_result"
    }
   ],
   "source": [
    "df.head()"
   ]
  },
  {
   "cell_type": "code",
   "execution_count": 7,
   "metadata": {},
   "outputs": [],
   "source": [
    "serialGroup = df.groupby('Serial_Num')"
   ]
  },
  {
   "cell_type": "code",
   "execution_count": 8,
   "metadata": {},
   "outputs": [
    {
     "data": {
      "text/plain": [
       "<pandas.core.groupby.generic.DataFrameGroupBy object at 0x7f9004bf3d00>"
      ]
     },
     "execution_count": 8,
     "metadata": {},
     "output_type": "execute_result"
    }
   ],
   "source": [
    "serialGroup"
   ]
  },
  {
   "cell_type": "code",
   "execution_count": 9,
   "metadata": {},
   "outputs": [],
   "source": [
    "pos = serialGroup[['Latitude', 'Longitude']].mean()"
   ]
  },
  {
   "cell_type": "code",
   "execution_count": 10,
   "metadata": {},
   "outputs": [
    {
     "data": {
      "text/html": [
       "<div>\n",
       "<style scoped>\n",
       "    .dataframe tbody tr th:only-of-type {\n",
       "        vertical-align: middle;\n",
       "    }\n",
       "\n",
       "    .dataframe tbody tr th {\n",
       "        vertical-align: top;\n",
       "    }\n",
       "\n",
       "    .dataframe thead th {\n",
       "        text-align: right;\n",
       "    }\n",
       "</style>\n",
       "<table border=\"1\" class=\"dataframe\">\n",
       "  <thead>\n",
       "    <tr style=\"text-align: right;\">\n",
       "      <th></th>\n",
       "      <th>Latitude</th>\n",
       "      <th>Longitude</th>\n",
       "    </tr>\n",
       "    <tr>\n",
       "      <th>Serial_Num</th>\n",
       "      <th></th>\n",
       "      <th></th>\n",
       "    </tr>\n",
       "  </thead>\n",
       "  <tbody>\n",
       "    <tr>\n",
       "      <th>1848011S09080</th>\n",
       "      <td>-15.918182</td>\n",
       "      <td>71.854545</td>\n",
       "    </tr>\n",
       "    <tr>\n",
       "      <th>1848011S15057</th>\n",
       "      <td>-24.116667</td>\n",
       "      <td>52.016667</td>\n",
       "    </tr>\n",
       "    <tr>\n",
       "      <th>1848061S12075</th>\n",
       "      <td>-20.528571</td>\n",
       "      <td>65.342857</td>\n",
       "    </tr>\n",
       "    <tr>\n",
       "      <th>1851080S15063</th>\n",
       "      <td>-17.325000</td>\n",
       "      <td>55.400000</td>\n",
       "    </tr>\n",
       "    <tr>\n",
       "      <th>1851080S21060</th>\n",
       "      <td>-23.633333</td>\n",
       "      <td>60.200000</td>\n",
       "    </tr>\n",
       "  </tbody>\n",
       "</table>\n",
       "</div>"
      ],
      "text/plain": [
       "                Latitude  Longitude\n",
       "Serial_Num                         \n",
       "1848011S09080 -15.918182  71.854545\n",
       "1848011S15057 -24.116667  52.016667\n",
       "1848061S12075 -20.528571  65.342857\n",
       "1851080S15063 -17.325000  55.400000\n",
       "1851080S21060 -23.633333  60.200000"
      ]
     },
     "execution_count": 10,
     "metadata": {},
     "output_type": "execute_result"
    }
   ],
   "source": [
    "pos.head()"
   ]
  },
  {
   "cell_type": "code",
   "execution_count": null,
   "metadata": {},
   "outputs": [],
   "source": []
  }
 ],
 "metadata": {
  "kernelspec": {
   "display_name": "Python 3",
   "language": "python",
   "name": "python3"
  },
  "language_info": {
   "codemirror_mode": {
    "name": "ipython",
    "version": 3
   },
   "file_extension": ".py",
   "mimetype": "text/x-python",
   "name": "python",
   "nbconvert_exporter": "python",
   "pygments_lexer": "ipython3",
   "version": "3.8.5"
  }
 },
 "nbformat": 4,
 "nbformat_minor": 4
}
