{
 "cells": [
  {
   "cell_type": "code",
   "execution_count": 1,
   "metadata": {},
   "outputs": [],
   "source": [
    "die <- c(1,2,3,4,5,6)"
   ]
  },
  {
   "cell_type": "code",
   "execution_count": 2,
   "metadata": {},
   "outputs": [],
   "source": [
    "rolls <- expand.grid(die,die)"
   ]
  },
  {
   "cell_type": "code",
   "execution_count": 3,
   "metadata": {},
   "outputs": [
    {
     "data": {
      "text/html": [
       "<table>\n",
       "<thead><tr><th scope=col>Var1</th><th scope=col>Var2</th></tr></thead>\n",
       "<tbody>\n",
       "\t<tr><td>1</td><td>1</td></tr>\n",
       "\t<tr><td>2</td><td>1</td></tr>\n",
       "\t<tr><td>3</td><td>1</td></tr>\n",
       "\t<tr><td>4</td><td>1</td></tr>\n",
       "\t<tr><td>5</td><td>1</td></tr>\n",
       "\t<tr><td>6</td><td>1</td></tr>\n",
       "\t<tr><td>1</td><td>2</td></tr>\n",
       "\t<tr><td>2</td><td>2</td></tr>\n",
       "\t<tr><td>3</td><td>2</td></tr>\n",
       "\t<tr><td>4</td><td>2</td></tr>\n",
       "\t<tr><td>5</td><td>2</td></tr>\n",
       "\t<tr><td>6</td><td>2</td></tr>\n",
       "\t<tr><td>1</td><td>3</td></tr>\n",
       "\t<tr><td>2</td><td>3</td></tr>\n",
       "\t<tr><td>3</td><td>3</td></tr>\n",
       "\t<tr><td>4</td><td>3</td></tr>\n",
       "\t<tr><td>5</td><td>3</td></tr>\n",
       "\t<tr><td>6</td><td>3</td></tr>\n",
       "\t<tr><td>1</td><td>4</td></tr>\n",
       "\t<tr><td>2</td><td>4</td></tr>\n",
       "\t<tr><td>3</td><td>4</td></tr>\n",
       "\t<tr><td>4</td><td>4</td></tr>\n",
       "\t<tr><td>5</td><td>4</td></tr>\n",
       "\t<tr><td>6</td><td>4</td></tr>\n",
       "\t<tr><td>1</td><td>5</td></tr>\n",
       "\t<tr><td>2</td><td>5</td></tr>\n",
       "\t<tr><td>3</td><td>5</td></tr>\n",
       "\t<tr><td>4</td><td>5</td></tr>\n",
       "\t<tr><td>5</td><td>5</td></tr>\n",
       "\t<tr><td>6</td><td>5</td></tr>\n",
       "\t<tr><td>1</td><td>6</td></tr>\n",
       "\t<tr><td>2</td><td>6</td></tr>\n",
       "\t<tr><td>3</td><td>6</td></tr>\n",
       "\t<tr><td>4</td><td>6</td></tr>\n",
       "\t<tr><td>5</td><td>6</td></tr>\n",
       "\t<tr><td>6</td><td>6</td></tr>\n",
       "</tbody>\n",
       "</table>\n"
      ],
      "text/latex": [
       "\\begin{tabular}{r|ll}\n",
       " Var1 & Var2\\\\\n",
       "\\hline\n",
       "\t 1 & 1\\\\\n",
       "\t 2 & 1\\\\\n",
       "\t 3 & 1\\\\\n",
       "\t 4 & 1\\\\\n",
       "\t 5 & 1\\\\\n",
       "\t 6 & 1\\\\\n",
       "\t 1 & 2\\\\\n",
       "\t 2 & 2\\\\\n",
       "\t 3 & 2\\\\\n",
       "\t 4 & 2\\\\\n",
       "\t 5 & 2\\\\\n",
       "\t 6 & 2\\\\\n",
       "\t 1 & 3\\\\\n",
       "\t 2 & 3\\\\\n",
       "\t 3 & 3\\\\\n",
       "\t 4 & 3\\\\\n",
       "\t 5 & 3\\\\\n",
       "\t 6 & 3\\\\\n",
       "\t 1 & 4\\\\\n",
       "\t 2 & 4\\\\\n",
       "\t 3 & 4\\\\\n",
       "\t 4 & 4\\\\\n",
       "\t 5 & 4\\\\\n",
       "\t 6 & 4\\\\\n",
       "\t 1 & 5\\\\\n",
       "\t 2 & 5\\\\\n",
       "\t 3 & 5\\\\\n",
       "\t 4 & 5\\\\\n",
       "\t 5 & 5\\\\\n",
       "\t 6 & 5\\\\\n",
       "\t 1 & 6\\\\\n",
       "\t 2 & 6\\\\\n",
       "\t 3 & 6\\\\\n",
       "\t 4 & 6\\\\\n",
       "\t 5 & 6\\\\\n",
       "\t 6 & 6\\\\\n",
       "\\end{tabular}\n"
      ],
      "text/markdown": [
       "\n",
       "Var1 | Var2 | \n",
       "|---|---|---|---|---|---|---|---|---|---|---|---|---|---|---|---|---|---|---|---|---|---|---|---|---|---|---|---|---|---|---|---|---|---|---|---|\n",
       "| 1 | 1 | \n",
       "| 2 | 1 | \n",
       "| 3 | 1 | \n",
       "| 4 | 1 | \n",
       "| 5 | 1 | \n",
       "| 6 | 1 | \n",
       "| 1 | 2 | \n",
       "| 2 | 2 | \n",
       "| 3 | 2 | \n",
       "| 4 | 2 | \n",
       "| 5 | 2 | \n",
       "| 6 | 2 | \n",
       "| 1 | 3 | \n",
       "| 2 | 3 | \n",
       "| 3 | 3 | \n",
       "| 4 | 3 | \n",
       "| 5 | 3 | \n",
       "| 6 | 3 | \n",
       "| 1 | 4 | \n",
       "| 2 | 4 | \n",
       "| 3 | 4 | \n",
       "| 4 | 4 | \n",
       "| 5 | 4 | \n",
       "| 6 | 4 | \n",
       "| 1 | 5 | \n",
       "| 2 | 5 | \n",
       "| 3 | 5 | \n",
       "| 4 | 5 | \n",
       "| 5 | 5 | \n",
       "| 6 | 5 | \n",
       "| 1 | 6 | \n",
       "| 2 | 6 | \n",
       "| 3 | 6 | \n",
       "| 4 | 6 | \n",
       "| 5 | 6 | \n",
       "| 6 | 6 | \n",
       "\n",
       "\n"
      ],
      "text/plain": [
       "   Var1 Var2\n",
       "1  1    1   \n",
       "2  2    1   \n",
       "3  3    1   \n",
       "4  4    1   \n",
       "5  5    1   \n",
       "6  6    1   \n",
       "7  1    2   \n",
       "8  2    2   \n",
       "9  3    2   \n",
       "10 4    2   \n",
       "11 5    2   \n",
       "12 6    2   \n",
       "13 1    3   \n",
       "14 2    3   \n",
       "15 3    3   \n",
       "16 4    3   \n",
       "17 5    3   \n",
       "18 6    3   \n",
       "19 1    4   \n",
       "20 2    4   \n",
       "21 3    4   \n",
       "22 4    4   \n",
       "23 5    4   \n",
       "24 6    4   \n",
       "25 1    5   \n",
       "26 2    5   \n",
       "27 3    5   \n",
       "28 4    5   \n",
       "29 5    5   \n",
       "30 6    5   \n",
       "31 1    6   \n",
       "32 2    6   \n",
       "33 3    6   \n",
       "34 4    6   \n",
       "35 5    6   \n",
       "36 6    6   "
      ]
     },
     "metadata": {},
     "output_type": "display_data"
    }
   ],
   "source": [
    "rolls"
   ]
  },
  {
   "cell_type": "code",
   "execution_count": 4,
   "metadata": {},
   "outputs": [],
   "source": [
    "rolls$value <- rolls$Var1+rolls$Var2"
   ]
  },
  {
   "cell_type": "code",
   "execution_count": 5,
   "metadata": {},
   "outputs": [
    {
     "data": {
      "text/html": [
       "<table>\n",
       "<thead><tr><th scope=col>Var1</th><th scope=col>Var2</th><th scope=col>value</th></tr></thead>\n",
       "<tbody>\n",
       "\t<tr><td>1 </td><td>1 </td><td> 2</td></tr>\n",
       "\t<tr><td>2 </td><td>1 </td><td> 3</td></tr>\n",
       "\t<tr><td>3 </td><td>1 </td><td> 4</td></tr>\n",
       "\t<tr><td>4 </td><td>1 </td><td> 5</td></tr>\n",
       "\t<tr><td>5 </td><td>1 </td><td> 6</td></tr>\n",
       "\t<tr><td>6 </td><td>1 </td><td> 7</td></tr>\n",
       "\t<tr><td>1 </td><td>2 </td><td> 3</td></tr>\n",
       "\t<tr><td>2 </td><td>2 </td><td> 4</td></tr>\n",
       "\t<tr><td>3 </td><td>2 </td><td> 5</td></tr>\n",
       "\t<tr><td>4 </td><td>2 </td><td> 6</td></tr>\n",
       "\t<tr><td>5 </td><td>2 </td><td> 7</td></tr>\n",
       "\t<tr><td>6 </td><td>2 </td><td> 8</td></tr>\n",
       "\t<tr><td>1 </td><td>3 </td><td> 4</td></tr>\n",
       "\t<tr><td>2 </td><td>3 </td><td> 5</td></tr>\n",
       "\t<tr><td>3 </td><td>3 </td><td> 6</td></tr>\n",
       "\t<tr><td>4 </td><td>3 </td><td> 7</td></tr>\n",
       "\t<tr><td>5 </td><td>3 </td><td> 8</td></tr>\n",
       "\t<tr><td>6 </td><td>3 </td><td> 9</td></tr>\n",
       "\t<tr><td>1 </td><td>4 </td><td> 5</td></tr>\n",
       "\t<tr><td>2 </td><td>4 </td><td> 6</td></tr>\n",
       "\t<tr><td>3 </td><td>4 </td><td> 7</td></tr>\n",
       "\t<tr><td>4 </td><td>4 </td><td> 8</td></tr>\n",
       "\t<tr><td>5 </td><td>4 </td><td> 9</td></tr>\n",
       "\t<tr><td>6 </td><td>4 </td><td>10</td></tr>\n",
       "\t<tr><td>1 </td><td>5 </td><td> 6</td></tr>\n",
       "\t<tr><td>2 </td><td>5 </td><td> 7</td></tr>\n",
       "\t<tr><td>3 </td><td>5 </td><td> 8</td></tr>\n",
       "\t<tr><td>4 </td><td>5 </td><td> 9</td></tr>\n",
       "\t<tr><td>5 </td><td>5 </td><td>10</td></tr>\n",
       "\t<tr><td>6 </td><td>5 </td><td>11</td></tr>\n",
       "\t<tr><td>1 </td><td>6 </td><td> 7</td></tr>\n",
       "\t<tr><td>2 </td><td>6 </td><td> 8</td></tr>\n",
       "\t<tr><td>3 </td><td>6 </td><td> 9</td></tr>\n",
       "\t<tr><td>4 </td><td>6 </td><td>10</td></tr>\n",
       "\t<tr><td>5 </td><td>6 </td><td>11</td></tr>\n",
       "\t<tr><td>6 </td><td>6 </td><td>12</td></tr>\n",
       "</tbody>\n",
       "</table>\n"
      ],
      "text/latex": [
       "\\begin{tabular}{r|lll}\n",
       " Var1 & Var2 & value\\\\\n",
       "\\hline\n",
       "\t 1  & 1  &  2\\\\\n",
       "\t 2  & 1  &  3\\\\\n",
       "\t 3  & 1  &  4\\\\\n",
       "\t 4  & 1  &  5\\\\\n",
       "\t 5  & 1  &  6\\\\\n",
       "\t 6  & 1  &  7\\\\\n",
       "\t 1  & 2  &  3\\\\\n",
       "\t 2  & 2  &  4\\\\\n",
       "\t 3  & 2  &  5\\\\\n",
       "\t 4  & 2  &  6\\\\\n",
       "\t 5  & 2  &  7\\\\\n",
       "\t 6  & 2  &  8\\\\\n",
       "\t 1  & 3  &  4\\\\\n",
       "\t 2  & 3  &  5\\\\\n",
       "\t 3  & 3  &  6\\\\\n",
       "\t 4  & 3  &  7\\\\\n",
       "\t 5  & 3  &  8\\\\\n",
       "\t 6  & 3  &  9\\\\\n",
       "\t 1  & 4  &  5\\\\\n",
       "\t 2  & 4  &  6\\\\\n",
       "\t 3  & 4  &  7\\\\\n",
       "\t 4  & 4  &  8\\\\\n",
       "\t 5  & 4  &  9\\\\\n",
       "\t 6  & 4  & 10\\\\\n",
       "\t 1  & 5  &  6\\\\\n",
       "\t 2  & 5  &  7\\\\\n",
       "\t 3  & 5  &  8\\\\\n",
       "\t 4  & 5  &  9\\\\\n",
       "\t 5  & 5  & 10\\\\\n",
       "\t 6  & 5  & 11\\\\\n",
       "\t 1  & 6  &  7\\\\\n",
       "\t 2  & 6  &  8\\\\\n",
       "\t 3  & 6  &  9\\\\\n",
       "\t 4  & 6  & 10\\\\\n",
       "\t 5  & 6  & 11\\\\\n",
       "\t 6  & 6  & 12\\\\\n",
       "\\end{tabular}\n"
      ],
      "text/markdown": [
       "\n",
       "Var1 | Var2 | value | \n",
       "|---|---|---|---|---|---|---|---|---|---|---|---|---|---|---|---|---|---|---|---|---|---|---|---|---|---|---|---|---|---|---|---|---|---|---|---|\n",
       "| 1  | 1  |  2 | \n",
       "| 2  | 1  |  3 | \n",
       "| 3  | 1  |  4 | \n",
       "| 4  | 1  |  5 | \n",
       "| 5  | 1  |  6 | \n",
       "| 6  | 1  |  7 | \n",
       "| 1  | 2  |  3 | \n",
       "| 2  | 2  |  4 | \n",
       "| 3  | 2  |  5 | \n",
       "| 4  | 2  |  6 | \n",
       "| 5  | 2  |  7 | \n",
       "| 6  | 2  |  8 | \n",
       "| 1  | 3  |  4 | \n",
       "| 2  | 3  |  5 | \n",
       "| 3  | 3  |  6 | \n",
       "| 4  | 3  |  7 | \n",
       "| 5  | 3  |  8 | \n",
       "| 6  | 3  |  9 | \n",
       "| 1  | 4  |  5 | \n",
       "| 2  | 4  |  6 | \n",
       "| 3  | 4  |  7 | \n",
       "| 4  | 4  |  8 | \n",
       "| 5  | 4  |  9 | \n",
       "| 6  | 4  | 10 | \n",
       "| 1  | 5  |  6 | \n",
       "| 2  | 5  |  7 | \n",
       "| 3  | 5  |  8 | \n",
       "| 4  | 5  |  9 | \n",
       "| 5  | 5  | 10 | \n",
       "| 6  | 5  | 11 | \n",
       "| 1  | 6  |  7 | \n",
       "| 2  | 6  |  8 | \n",
       "| 3  | 6  |  9 | \n",
       "| 4  | 6  | 10 | \n",
       "| 5  | 6  | 11 | \n",
       "| 6  | 6  | 12 | \n",
       "\n",
       "\n"
      ],
      "text/plain": [
       "   Var1 Var2 value\n",
       "1  1    1     2   \n",
       "2  2    1     3   \n",
       "3  3    1     4   \n",
       "4  4    1     5   \n",
       "5  5    1     6   \n",
       "6  6    1     7   \n",
       "7  1    2     3   \n",
       "8  2    2     4   \n",
       "9  3    2     5   \n",
       "10 4    2     6   \n",
       "11 5    2     7   \n",
       "12 6    2     8   \n",
       "13 1    3     4   \n",
       "14 2    3     5   \n",
       "15 3    3     6   \n",
       "16 4    3     7   \n",
       "17 5    3     8   \n",
       "18 6    3     9   \n",
       "19 1    4     5   \n",
       "20 2    4     6   \n",
       "21 3    4     7   \n",
       "22 4    4     8   \n",
       "23 5    4     9   \n",
       "24 6    4    10   \n",
       "25 1    5     6   \n",
       "26 2    5     7   \n",
       "27 3    5     8   \n",
       "28 4    5     9   \n",
       "29 5    5    10   \n",
       "30 6    5    11   \n",
       "31 1    6     7   \n",
       "32 2    6     8   \n",
       "33 3    6     9   \n",
       "34 4    6    10   \n",
       "35 5    6    11   \n",
       "36 6    6    12   "
      ]
     },
     "metadata": {},
     "output_type": "display_data"
    }
   ],
   "source": [
    "rolls"
   ]
  },
  {
   "cell_type": "code",
   "execution_count": 6,
   "metadata": {},
   "outputs": [],
   "source": [
    "prob <- c(\"1\"=1/8,\"2\"=1/8,\"3\"=1/8,\"4\"=1/8,\"5\"=1/8,\"6\"=3/8)"
   ]
  },
  {
   "cell_type": "code",
   "execution_count": 7,
   "metadata": {},
   "outputs": [
    {
     "data": {
      "text/html": [
       "<dl class=dl-horizontal>\n",
       "\t<dt>1</dt>\n",
       "\t\t<dd>0.125</dd>\n",
       "\t<dt>2</dt>\n",
       "\t\t<dd>0.125</dd>\n",
       "\t<dt>3</dt>\n",
       "\t\t<dd>0.125</dd>\n",
       "\t<dt>4</dt>\n",
       "\t\t<dd>0.125</dd>\n",
       "\t<dt>5</dt>\n",
       "\t\t<dd>0.125</dd>\n",
       "\t<dt>6</dt>\n",
       "\t\t<dd>0.375</dd>\n",
       "</dl>\n"
      ],
      "text/latex": [
       "\\begin{description*}\n",
       "\\item[1] 0.125\n",
       "\\item[2] 0.125\n",
       "\\item[3] 0.125\n",
       "\\item[4] 0.125\n",
       "\\item[5] 0.125\n",
       "\\item[6] 0.375\n",
       "\\end{description*}\n"
      ],
      "text/markdown": [
       "1\n",
       ":   0.1252\n",
       ":   0.1253\n",
       ":   0.1254\n",
       ":   0.1255\n",
       ":   0.1256\n",
       ":   0.375\n",
       "\n"
      ],
      "text/plain": [
       "    1     2     3     4     5     6 \n",
       "0.125 0.125 0.125 0.125 0.125 0.375 "
      ]
     },
     "metadata": {},
     "output_type": "display_data"
    }
   ],
   "source": [
    "prob"
   ]
  },
  {
   "cell_type": "code",
   "execution_count": 8,
   "metadata": {},
   "outputs": [],
   "source": [
    "rolls$prob1<-prob[rolls$Var1]"
   ]
  },
  {
   "cell_type": "code",
   "execution_count": 9,
   "metadata": {},
   "outputs": [],
   "source": [
    "rolls$prob2 <- prob[rolls$Var2]"
   ]
  },
  {
   "cell_type": "code",
   "execution_count": 10,
   "metadata": {},
   "outputs": [
    {
     "data": {
      "text/html": [
       "<table>\n",
       "<thead><tr><th scope=col>Var1</th><th scope=col>Var2</th><th scope=col>value</th><th scope=col>prob1</th><th scope=col>prob2</th></tr></thead>\n",
       "<tbody>\n",
       "\t<tr><td>1    </td><td>1    </td><td> 2   </td><td>0.125</td><td>0.125</td></tr>\n",
       "\t<tr><td>2    </td><td>1    </td><td> 3   </td><td>0.125</td><td>0.125</td></tr>\n",
       "\t<tr><td>3    </td><td>1    </td><td> 4   </td><td>0.125</td><td>0.125</td></tr>\n",
       "\t<tr><td>4    </td><td>1    </td><td> 5   </td><td>0.125</td><td>0.125</td></tr>\n",
       "\t<tr><td>5    </td><td>1    </td><td> 6   </td><td>0.125</td><td>0.125</td></tr>\n",
       "\t<tr><td>6    </td><td>1    </td><td> 7   </td><td>0.375</td><td>0.125</td></tr>\n",
       "\t<tr><td>1    </td><td>2    </td><td> 3   </td><td>0.125</td><td>0.125</td></tr>\n",
       "\t<tr><td>2    </td><td>2    </td><td> 4   </td><td>0.125</td><td>0.125</td></tr>\n",
       "\t<tr><td>3    </td><td>2    </td><td> 5   </td><td>0.125</td><td>0.125</td></tr>\n",
       "\t<tr><td>4    </td><td>2    </td><td> 6   </td><td>0.125</td><td>0.125</td></tr>\n",
       "\t<tr><td>5    </td><td>2    </td><td> 7   </td><td>0.125</td><td>0.125</td></tr>\n",
       "\t<tr><td>6    </td><td>2    </td><td> 8   </td><td>0.375</td><td>0.125</td></tr>\n",
       "\t<tr><td>1    </td><td>3    </td><td> 4   </td><td>0.125</td><td>0.125</td></tr>\n",
       "\t<tr><td>2    </td><td>3    </td><td> 5   </td><td>0.125</td><td>0.125</td></tr>\n",
       "\t<tr><td>3    </td><td>3    </td><td> 6   </td><td>0.125</td><td>0.125</td></tr>\n",
       "\t<tr><td>4    </td><td>3    </td><td> 7   </td><td>0.125</td><td>0.125</td></tr>\n",
       "\t<tr><td>5    </td><td>3    </td><td> 8   </td><td>0.125</td><td>0.125</td></tr>\n",
       "\t<tr><td>6    </td><td>3    </td><td> 9   </td><td>0.375</td><td>0.125</td></tr>\n",
       "\t<tr><td>1    </td><td>4    </td><td> 5   </td><td>0.125</td><td>0.125</td></tr>\n",
       "\t<tr><td>2    </td><td>4    </td><td> 6   </td><td>0.125</td><td>0.125</td></tr>\n",
       "\t<tr><td>3    </td><td>4    </td><td> 7   </td><td>0.125</td><td>0.125</td></tr>\n",
       "\t<tr><td>4    </td><td>4    </td><td> 8   </td><td>0.125</td><td>0.125</td></tr>\n",
       "\t<tr><td>5    </td><td>4    </td><td> 9   </td><td>0.125</td><td>0.125</td></tr>\n",
       "\t<tr><td>6    </td><td>4    </td><td>10   </td><td>0.375</td><td>0.125</td></tr>\n",
       "\t<tr><td>1    </td><td>5    </td><td> 6   </td><td>0.125</td><td>0.125</td></tr>\n",
       "\t<tr><td>2    </td><td>5    </td><td> 7   </td><td>0.125</td><td>0.125</td></tr>\n",
       "\t<tr><td>3    </td><td>5    </td><td> 8   </td><td>0.125</td><td>0.125</td></tr>\n",
       "\t<tr><td>4    </td><td>5    </td><td> 9   </td><td>0.125</td><td>0.125</td></tr>\n",
       "\t<tr><td>5    </td><td>5    </td><td>10   </td><td>0.125</td><td>0.125</td></tr>\n",
       "\t<tr><td>6    </td><td>5    </td><td>11   </td><td>0.375</td><td>0.125</td></tr>\n",
       "\t<tr><td>1    </td><td>6    </td><td> 7   </td><td>0.125</td><td>0.375</td></tr>\n",
       "\t<tr><td>2    </td><td>6    </td><td> 8   </td><td>0.125</td><td>0.375</td></tr>\n",
       "\t<tr><td>3    </td><td>6    </td><td> 9   </td><td>0.125</td><td>0.375</td></tr>\n",
       "\t<tr><td>4    </td><td>6    </td><td>10   </td><td>0.125</td><td>0.375</td></tr>\n",
       "\t<tr><td>5    </td><td>6    </td><td>11   </td><td>0.125</td><td>0.375</td></tr>\n",
       "\t<tr><td>6    </td><td>6    </td><td>12   </td><td>0.375</td><td>0.375</td></tr>\n",
       "</tbody>\n",
       "</table>\n"
      ],
      "text/latex": [
       "\\begin{tabular}{r|lllll}\n",
       " Var1 & Var2 & value & prob1 & prob2\\\\\n",
       "\\hline\n",
       "\t 1     & 1     &  2    & 0.125 & 0.125\\\\\n",
       "\t 2     & 1     &  3    & 0.125 & 0.125\\\\\n",
       "\t 3     & 1     &  4    & 0.125 & 0.125\\\\\n",
       "\t 4     & 1     &  5    & 0.125 & 0.125\\\\\n",
       "\t 5     & 1     &  6    & 0.125 & 0.125\\\\\n",
       "\t 6     & 1     &  7    & 0.375 & 0.125\\\\\n",
       "\t 1     & 2     &  3    & 0.125 & 0.125\\\\\n",
       "\t 2     & 2     &  4    & 0.125 & 0.125\\\\\n",
       "\t 3     & 2     &  5    & 0.125 & 0.125\\\\\n",
       "\t 4     & 2     &  6    & 0.125 & 0.125\\\\\n",
       "\t 5     & 2     &  7    & 0.125 & 0.125\\\\\n",
       "\t 6     & 2     &  8    & 0.375 & 0.125\\\\\n",
       "\t 1     & 3     &  4    & 0.125 & 0.125\\\\\n",
       "\t 2     & 3     &  5    & 0.125 & 0.125\\\\\n",
       "\t 3     & 3     &  6    & 0.125 & 0.125\\\\\n",
       "\t 4     & 3     &  7    & 0.125 & 0.125\\\\\n",
       "\t 5     & 3     &  8    & 0.125 & 0.125\\\\\n",
       "\t 6     & 3     &  9    & 0.375 & 0.125\\\\\n",
       "\t 1     & 4     &  5    & 0.125 & 0.125\\\\\n",
       "\t 2     & 4     &  6    & 0.125 & 0.125\\\\\n",
       "\t 3     & 4     &  7    & 0.125 & 0.125\\\\\n",
       "\t 4     & 4     &  8    & 0.125 & 0.125\\\\\n",
       "\t 5     & 4     &  9    & 0.125 & 0.125\\\\\n",
       "\t 6     & 4     & 10    & 0.375 & 0.125\\\\\n",
       "\t 1     & 5     &  6    & 0.125 & 0.125\\\\\n",
       "\t 2     & 5     &  7    & 0.125 & 0.125\\\\\n",
       "\t 3     & 5     &  8    & 0.125 & 0.125\\\\\n",
       "\t 4     & 5     &  9    & 0.125 & 0.125\\\\\n",
       "\t 5     & 5     & 10    & 0.125 & 0.125\\\\\n",
       "\t 6     & 5     & 11    & 0.375 & 0.125\\\\\n",
       "\t 1     & 6     &  7    & 0.125 & 0.375\\\\\n",
       "\t 2     & 6     &  8    & 0.125 & 0.375\\\\\n",
       "\t 3     & 6     &  9    & 0.125 & 0.375\\\\\n",
       "\t 4     & 6     & 10    & 0.125 & 0.375\\\\\n",
       "\t 5     & 6     & 11    & 0.125 & 0.375\\\\\n",
       "\t 6     & 6     & 12    & 0.375 & 0.375\\\\\n",
       "\\end{tabular}\n"
      ],
      "text/markdown": [
       "\n",
       "Var1 | Var2 | value | prob1 | prob2 | \n",
       "|---|---|---|---|---|---|---|---|---|---|---|---|---|---|---|---|---|---|---|---|---|---|---|---|---|---|---|---|---|---|---|---|---|---|---|---|\n",
       "| 1     | 1     |  2    | 0.125 | 0.125 | \n",
       "| 2     | 1     |  3    | 0.125 | 0.125 | \n",
       "| 3     | 1     |  4    | 0.125 | 0.125 | \n",
       "| 4     | 1     |  5    | 0.125 | 0.125 | \n",
       "| 5     | 1     |  6    | 0.125 | 0.125 | \n",
       "| 6     | 1     |  7    | 0.375 | 0.125 | \n",
       "| 1     | 2     |  3    | 0.125 | 0.125 | \n",
       "| 2     | 2     |  4    | 0.125 | 0.125 | \n",
       "| 3     | 2     |  5    | 0.125 | 0.125 | \n",
       "| 4     | 2     |  6    | 0.125 | 0.125 | \n",
       "| 5     | 2     |  7    | 0.125 | 0.125 | \n",
       "| 6     | 2     |  8    | 0.375 | 0.125 | \n",
       "| 1     | 3     |  4    | 0.125 | 0.125 | \n",
       "| 2     | 3     |  5    | 0.125 | 0.125 | \n",
       "| 3     | 3     |  6    | 0.125 | 0.125 | \n",
       "| 4     | 3     |  7    | 0.125 | 0.125 | \n",
       "| 5     | 3     |  8    | 0.125 | 0.125 | \n",
       "| 6     | 3     |  9    | 0.375 | 0.125 | \n",
       "| 1     | 4     |  5    | 0.125 | 0.125 | \n",
       "| 2     | 4     |  6    | 0.125 | 0.125 | \n",
       "| 3     | 4     |  7    | 0.125 | 0.125 | \n",
       "| 4     | 4     |  8    | 0.125 | 0.125 | \n",
       "| 5     | 4     |  9    | 0.125 | 0.125 | \n",
       "| 6     | 4     | 10    | 0.375 | 0.125 | \n",
       "| 1     | 5     |  6    | 0.125 | 0.125 | \n",
       "| 2     | 5     |  7    | 0.125 | 0.125 | \n",
       "| 3     | 5     |  8    | 0.125 | 0.125 | \n",
       "| 4     | 5     |  9    | 0.125 | 0.125 | \n",
       "| 5     | 5     | 10    | 0.125 | 0.125 | \n",
       "| 6     | 5     | 11    | 0.375 | 0.125 | \n",
       "| 1     | 6     |  7    | 0.125 | 0.375 | \n",
       "| 2     | 6     |  8    | 0.125 | 0.375 | \n",
       "| 3     | 6     |  9    | 0.125 | 0.375 | \n",
       "| 4     | 6     | 10    | 0.125 | 0.375 | \n",
       "| 5     | 6     | 11    | 0.125 | 0.375 | \n",
       "| 6     | 6     | 12    | 0.375 | 0.375 | \n",
       "\n",
       "\n"
      ],
      "text/plain": [
       "   Var1 Var2 value prob1 prob2\n",
       "1  1    1     2    0.125 0.125\n",
       "2  2    1     3    0.125 0.125\n",
       "3  3    1     4    0.125 0.125\n",
       "4  4    1     5    0.125 0.125\n",
       "5  5    1     6    0.125 0.125\n",
       "6  6    1     7    0.375 0.125\n",
       "7  1    2     3    0.125 0.125\n",
       "8  2    2     4    0.125 0.125\n",
       "9  3    2     5    0.125 0.125\n",
       "10 4    2     6    0.125 0.125\n",
       "11 5    2     7    0.125 0.125\n",
       "12 6    2     8    0.375 0.125\n",
       "13 1    3     4    0.125 0.125\n",
       "14 2    3     5    0.125 0.125\n",
       "15 3    3     6    0.125 0.125\n",
       "16 4    3     7    0.125 0.125\n",
       "17 5    3     8    0.125 0.125\n",
       "18 6    3     9    0.375 0.125\n",
       "19 1    4     5    0.125 0.125\n",
       "20 2    4     6    0.125 0.125\n",
       "21 3    4     7    0.125 0.125\n",
       "22 4    4     8    0.125 0.125\n",
       "23 5    4     9    0.125 0.125\n",
       "24 6    4    10    0.375 0.125\n",
       "25 1    5     6    0.125 0.125\n",
       "26 2    5     7    0.125 0.125\n",
       "27 3    5     8    0.125 0.125\n",
       "28 4    5     9    0.125 0.125\n",
       "29 5    5    10    0.125 0.125\n",
       "30 6    5    11    0.375 0.125\n",
       "31 1    6     7    0.125 0.375\n",
       "32 2    6     8    0.125 0.375\n",
       "33 3    6     9    0.125 0.375\n",
       "34 4    6    10    0.125 0.375\n",
       "35 5    6    11    0.125 0.375\n",
       "36 6    6    12    0.375 0.375"
      ]
     },
     "metadata": {},
     "output_type": "display_data"
    }
   ],
   "source": [
    "rolls"
   ]
  },
  {
   "cell_type": "code",
   "execution_count": 11,
   "metadata": {},
   "outputs": [],
   "source": [
    "rolls$prob <- rolls$prob1*rolls$prob2"
   ]
  },
  {
   "cell_type": "code",
   "execution_count": 12,
   "metadata": {},
   "outputs": [
    {
     "data": {
      "text/html": [
       "<table>\n",
       "<thead><tr><th scope=col>Var1</th><th scope=col>Var2</th><th scope=col>value</th><th scope=col>prob1</th><th scope=col>prob2</th><th scope=col>prob</th></tr></thead>\n",
       "<tbody>\n",
       "\t<tr><td>1       </td><td>1       </td><td>2       </td><td>0.125   </td><td>0.125   </td><td>0.015625</td></tr>\n",
       "\t<tr><td>2       </td><td>1       </td><td>3       </td><td>0.125   </td><td>0.125   </td><td>0.015625</td></tr>\n",
       "\t<tr><td>3       </td><td>1       </td><td>4       </td><td>0.125   </td><td>0.125   </td><td>0.015625</td></tr>\n",
       "</tbody>\n",
       "</table>\n"
      ],
      "text/latex": [
       "\\begin{tabular}{r|llllll}\n",
       " Var1 & Var2 & value & prob1 & prob2 & prob\\\\\n",
       "\\hline\n",
       "\t 1        & 1        & 2        & 0.125    & 0.125    & 0.015625\\\\\n",
       "\t 2        & 1        & 3        & 0.125    & 0.125    & 0.015625\\\\\n",
       "\t 3        & 1        & 4        & 0.125    & 0.125    & 0.015625\\\\\n",
       "\\end{tabular}\n"
      ],
      "text/markdown": [
       "\n",
       "Var1 | Var2 | value | prob1 | prob2 | prob | \n",
       "|---|---|---|\n",
       "| 1        | 1        | 2        | 0.125    | 0.125    | 0.015625 | \n",
       "| 2        | 1        | 3        | 0.125    | 0.125    | 0.015625 | \n",
       "| 3        | 1        | 4        | 0.125    | 0.125    | 0.015625 | \n",
       "\n",
       "\n"
      ],
      "text/plain": [
       "  Var1 Var2 value prob1 prob2 prob    \n",
       "1 1    1    2     0.125 0.125 0.015625\n",
       "2 2    1    3     0.125 0.125 0.015625\n",
       "3 3    1    4     0.125 0.125 0.015625"
      ]
     },
     "metadata": {},
     "output_type": "display_data"
    }
   ],
   "source": [
    "head(rolls,3)"
   ]
  },
  {
   "cell_type": "code",
   "execution_count": 13,
   "metadata": {},
   "outputs": [
    {
     "data": {
      "text/html": [
       "8.25"
      ],
      "text/latex": [
       "8.25"
      ],
      "text/markdown": [
       "8.25"
      ],
      "text/plain": [
       "[1] 8.25"
      ]
     },
     "metadata": {},
     "output_type": "display_data"
    }
   ],
   "source": [
    "sum(rolls$value*rolls$prob)"
   ]
  },
  {
   "cell_type": "code",
   "execution_count": 14,
   "metadata": {},
   "outputs": [],
   "source": [
    "wheel <- c(\"DD\",\"7\",\"BBB\",\"BB\",\"B\",\"C\",\"0\")"
   ]
  },
  {
   "cell_type": "code",
   "execution_count": 15,
   "metadata": {},
   "outputs": [],
   "source": [
    "combos<-expand.grid(wheel,wheel,wheel,stringsAsFactors = FALSE)"
   ]
  },
  {
   "cell_type": "code",
   "execution_count": 16,
   "metadata": {},
   "outputs": [
    {
     "data": {
      "text/html": [
       "<table>\n",
       "<thead><tr><th scope=col>Var1</th><th scope=col>Var2</th><th scope=col>Var3</th></tr></thead>\n",
       "<tbody>\n",
       "\t<tr><td>DD </td><td>DD </td><td>DD </td></tr>\n",
       "\t<tr><td>7  </td><td>DD </td><td>DD </td></tr>\n",
       "\t<tr><td>BBB</td><td>DD </td><td>DD </td></tr>\n",
       "\t<tr><td>BB </td><td>DD </td><td>DD </td></tr>\n",
       "\t<tr><td>B  </td><td>DD </td><td>DD </td></tr>\n",
       "\t<tr><td>C  </td><td>DD </td><td>DD </td></tr>\n",
       "\t<tr><td>0  </td><td>DD </td><td>DD </td></tr>\n",
       "\t<tr><td>DD </td><td>7  </td><td>DD </td></tr>\n",
       "\t<tr><td>7  </td><td>7  </td><td>DD </td></tr>\n",
       "\t<tr><td>BBB</td><td>7  </td><td>DD </td></tr>\n",
       "\t<tr><td>BB </td><td>7  </td><td>DD </td></tr>\n",
       "\t<tr><td>B  </td><td>7  </td><td>DD </td></tr>\n",
       "\t<tr><td>C  </td><td>7  </td><td>DD </td></tr>\n",
       "\t<tr><td>0  </td><td>7  </td><td>DD </td></tr>\n",
       "\t<tr><td>DD </td><td>BBB</td><td>DD </td></tr>\n",
       "\t<tr><td>7  </td><td>BBB</td><td>DD </td></tr>\n",
       "\t<tr><td>BBB</td><td>BBB</td><td>DD </td></tr>\n",
       "\t<tr><td>BB </td><td>BBB</td><td>DD </td></tr>\n",
       "\t<tr><td>B  </td><td>BBB</td><td>DD </td></tr>\n",
       "\t<tr><td>C  </td><td>BBB</td><td>DD </td></tr>\n",
       "\t<tr><td>0  </td><td>BBB</td><td>DD </td></tr>\n",
       "\t<tr><td>DD </td><td>BB </td><td>DD </td></tr>\n",
       "\t<tr><td>7  </td><td>BB </td><td>DD </td></tr>\n",
       "\t<tr><td>BBB</td><td>BB </td><td>DD </td></tr>\n",
       "\t<tr><td>BB </td><td>BB </td><td>DD </td></tr>\n",
       "\t<tr><td>B  </td><td>BB </td><td>DD </td></tr>\n",
       "\t<tr><td>C  </td><td>BB </td><td>DD </td></tr>\n",
       "\t<tr><td>0  </td><td>BB </td><td>DD </td></tr>\n",
       "\t<tr><td>DD </td><td>B  </td><td>DD </td></tr>\n",
       "\t<tr><td>7  </td><td>B  </td><td>DD </td></tr>\n",
       "\t<tr><td>⋮</td><td>⋮</td><td>⋮</td></tr>\n",
       "\t<tr><td>C  </td><td>BBB</td><td>0  </td></tr>\n",
       "\t<tr><td>0  </td><td>BBB</td><td>0  </td></tr>\n",
       "\t<tr><td>DD </td><td>BB </td><td>0  </td></tr>\n",
       "\t<tr><td>7  </td><td>BB </td><td>0  </td></tr>\n",
       "\t<tr><td>BBB</td><td>BB </td><td>0  </td></tr>\n",
       "\t<tr><td>BB </td><td>BB </td><td>0  </td></tr>\n",
       "\t<tr><td>B  </td><td>BB </td><td>0  </td></tr>\n",
       "\t<tr><td>C  </td><td>BB </td><td>0  </td></tr>\n",
       "\t<tr><td>0  </td><td>BB </td><td>0  </td></tr>\n",
       "\t<tr><td>DD </td><td>B  </td><td>0  </td></tr>\n",
       "\t<tr><td>7  </td><td>B  </td><td>0  </td></tr>\n",
       "\t<tr><td>BBB</td><td>B  </td><td>0  </td></tr>\n",
       "\t<tr><td>BB </td><td>B  </td><td>0  </td></tr>\n",
       "\t<tr><td>B  </td><td>B  </td><td>0  </td></tr>\n",
       "\t<tr><td>C  </td><td>B  </td><td>0  </td></tr>\n",
       "\t<tr><td>0  </td><td>B  </td><td>0  </td></tr>\n",
       "\t<tr><td>DD </td><td>C  </td><td>0  </td></tr>\n",
       "\t<tr><td>7  </td><td>C  </td><td>0  </td></tr>\n",
       "\t<tr><td>BBB</td><td>C  </td><td>0  </td></tr>\n",
       "\t<tr><td>BB </td><td>C  </td><td>0  </td></tr>\n",
       "\t<tr><td>B  </td><td>C  </td><td>0  </td></tr>\n",
       "\t<tr><td>C  </td><td>C  </td><td>0  </td></tr>\n",
       "\t<tr><td>0  </td><td>C  </td><td>0  </td></tr>\n",
       "\t<tr><td>DD </td><td>0  </td><td>0  </td></tr>\n",
       "\t<tr><td>7  </td><td>0  </td><td>0  </td></tr>\n",
       "\t<tr><td>BBB</td><td>0  </td><td>0  </td></tr>\n",
       "\t<tr><td>BB </td><td>0  </td><td>0  </td></tr>\n",
       "\t<tr><td>B  </td><td>0  </td><td>0  </td></tr>\n",
       "\t<tr><td>C  </td><td>0  </td><td>0  </td></tr>\n",
       "\t<tr><td>0  </td><td>0  </td><td>0  </td></tr>\n",
       "</tbody>\n",
       "</table>\n"
      ],
      "text/latex": [
       "\\begin{tabular}{r|lll}\n",
       " Var1 & Var2 & Var3\\\\\n",
       "\\hline\n",
       "\t DD  & DD  & DD \\\\\n",
       "\t 7   & DD  & DD \\\\\n",
       "\t BBB & DD  & DD \\\\\n",
       "\t BB  & DD  & DD \\\\\n",
       "\t B   & DD  & DD \\\\\n",
       "\t C   & DD  & DD \\\\\n",
       "\t 0   & DD  & DD \\\\\n",
       "\t DD  & 7   & DD \\\\\n",
       "\t 7   & 7   & DD \\\\\n",
       "\t BBB & 7   & DD \\\\\n",
       "\t BB  & 7   & DD \\\\\n",
       "\t B   & 7   & DD \\\\\n",
       "\t C   & 7   & DD \\\\\n",
       "\t 0   & 7   & DD \\\\\n",
       "\t DD  & BBB & DD \\\\\n",
       "\t 7   & BBB & DD \\\\\n",
       "\t BBB & BBB & DD \\\\\n",
       "\t BB  & BBB & DD \\\\\n",
       "\t B   & BBB & DD \\\\\n",
       "\t C   & BBB & DD \\\\\n",
       "\t 0   & BBB & DD \\\\\n",
       "\t DD  & BB  & DD \\\\\n",
       "\t 7   & BB  & DD \\\\\n",
       "\t BBB & BB  & DD \\\\\n",
       "\t BB  & BB  & DD \\\\\n",
       "\t B   & BB  & DD \\\\\n",
       "\t C   & BB  & DD \\\\\n",
       "\t 0   & BB  & DD \\\\\n",
       "\t DD  & B   & DD \\\\\n",
       "\t 7   & B   & DD \\\\\n",
       "\t ⋮ & ⋮ & ⋮\\\\\n",
       "\t C   & BBB & 0  \\\\\n",
       "\t 0   & BBB & 0  \\\\\n",
       "\t DD  & BB  & 0  \\\\\n",
       "\t 7   & BB  & 0  \\\\\n",
       "\t BBB & BB  & 0  \\\\\n",
       "\t BB  & BB  & 0  \\\\\n",
       "\t B   & BB  & 0  \\\\\n",
       "\t C   & BB  & 0  \\\\\n",
       "\t 0   & BB  & 0  \\\\\n",
       "\t DD  & B   & 0  \\\\\n",
       "\t 7   & B   & 0  \\\\\n",
       "\t BBB & B   & 0  \\\\\n",
       "\t BB  & B   & 0  \\\\\n",
       "\t B   & B   & 0  \\\\\n",
       "\t C   & B   & 0  \\\\\n",
       "\t 0   & B   & 0  \\\\\n",
       "\t DD  & C   & 0  \\\\\n",
       "\t 7   & C   & 0  \\\\\n",
       "\t BBB & C   & 0  \\\\\n",
       "\t BB  & C   & 0  \\\\\n",
       "\t B   & C   & 0  \\\\\n",
       "\t C   & C   & 0  \\\\\n",
       "\t 0   & C   & 0  \\\\\n",
       "\t DD  & 0   & 0  \\\\\n",
       "\t 7   & 0   & 0  \\\\\n",
       "\t BBB & 0   & 0  \\\\\n",
       "\t BB  & 0   & 0  \\\\\n",
       "\t B   & 0   & 0  \\\\\n",
       "\t C   & 0   & 0  \\\\\n",
       "\t 0   & 0   & 0  \\\\\n",
       "\\end{tabular}\n"
      ],
      "text/markdown": [
       "\n",
       "Var1 | Var2 | Var3 | \n",
       "|---|---|---|---|---|---|---|---|---|---|---|---|---|---|---|---|---|---|---|---|---|---|---|---|---|---|---|---|---|---|---|---|---|---|---|---|---|---|---|---|---|---|---|---|---|---|---|---|---|---|---|---|---|---|---|---|---|---|---|---|---|\n",
       "| DD  | DD  | DD  | \n",
       "| 7   | DD  | DD  | \n",
       "| BBB | DD  | DD  | \n",
       "| BB  | DD  | DD  | \n",
       "| B   | DD  | DD  | \n",
       "| C   | DD  | DD  | \n",
       "| 0   | DD  | DD  | \n",
       "| DD  | 7   | DD  | \n",
       "| 7   | 7   | DD  | \n",
       "| BBB | 7   | DD  | \n",
       "| BB  | 7   | DD  | \n",
       "| B   | 7   | DD  | \n",
       "| C   | 7   | DD  | \n",
       "| 0   | 7   | DD  | \n",
       "| DD  | BBB | DD  | \n",
       "| 7   | BBB | DD  | \n",
       "| BBB | BBB | DD  | \n",
       "| BB  | BBB | DD  | \n",
       "| B   | BBB | DD  | \n",
       "| C   | BBB | DD  | \n",
       "| 0   | BBB | DD  | \n",
       "| DD  | BB  | DD  | \n",
       "| 7   | BB  | DD  | \n",
       "| BBB | BB  | DD  | \n",
       "| BB  | BB  | DD  | \n",
       "| B   | BB  | DD  | \n",
       "| C   | BB  | DD  | \n",
       "| 0   | BB  | DD  | \n",
       "| DD  | B   | DD  | \n",
       "| 7   | B   | DD  | \n",
       "| ⋮ | ⋮ | ⋮ | \n",
       "| C   | BBB | 0   | \n",
       "| 0   | BBB | 0   | \n",
       "| DD  | BB  | 0   | \n",
       "| 7   | BB  | 0   | \n",
       "| BBB | BB  | 0   | \n",
       "| BB  | BB  | 0   | \n",
       "| B   | BB  | 0   | \n",
       "| C   | BB  | 0   | \n",
       "| 0   | BB  | 0   | \n",
       "| DD  | B   | 0   | \n",
       "| 7   | B   | 0   | \n",
       "| BBB | B   | 0   | \n",
       "| BB  | B   | 0   | \n",
       "| B   | B   | 0   | \n",
       "| C   | B   | 0   | \n",
       "| 0   | B   | 0   | \n",
       "| DD  | C   | 0   | \n",
       "| 7   | C   | 0   | \n",
       "| BBB | C   | 0   | \n",
       "| BB  | C   | 0   | \n",
       "| B   | C   | 0   | \n",
       "| C   | C   | 0   | \n",
       "| 0   | C   | 0   | \n",
       "| DD  | 0   | 0   | \n",
       "| 7   | 0   | 0   | \n",
       "| BBB | 0   | 0   | \n",
       "| BB  | 0   | 0   | \n",
       "| B   | 0   | 0   | \n",
       "| C   | 0   | 0   | \n",
       "| 0   | 0   | 0   | \n",
       "\n",
       "\n"
      ],
      "text/plain": [
       "    Var1 Var2 Var3\n",
       "1   DD   DD   DD  \n",
       "2   7    DD   DD  \n",
       "3   BBB  DD   DD  \n",
       "4   BB   DD   DD  \n",
       "5   B    DD   DD  \n",
       "6   C    DD   DD  \n",
       "7   0    DD   DD  \n",
       "8   DD   7    DD  \n",
       "9   7    7    DD  \n",
       "10  BBB  7    DD  \n",
       "11  BB   7    DD  \n",
       "12  B    7    DD  \n",
       "13  C    7    DD  \n",
       "14  0    7    DD  \n",
       "15  DD   BBB  DD  \n",
       "16  7    BBB  DD  \n",
       "17  BBB  BBB  DD  \n",
       "18  BB   BBB  DD  \n",
       "19  B    BBB  DD  \n",
       "20  C    BBB  DD  \n",
       "21  0    BBB  DD  \n",
       "22  DD   BB   DD  \n",
       "23  7    BB   DD  \n",
       "24  BBB  BB   DD  \n",
       "25  BB   BB   DD  \n",
       "26  B    BB   DD  \n",
       "27  C    BB   DD  \n",
       "28  0    BB   DD  \n",
       "29  DD   B    DD  \n",
       "30  7    B    DD  \n",
       "⋮   ⋮    ⋮    ⋮   \n",
       "314 C    BBB  0   \n",
       "315 0    BBB  0   \n",
       "316 DD   BB   0   \n",
       "317 7    BB   0   \n",
       "318 BBB  BB   0   \n",
       "319 BB   BB   0   \n",
       "320 B    BB   0   \n",
       "321 C    BB   0   \n",
       "322 0    BB   0   \n",
       "323 DD   B    0   \n",
       "324 7    B    0   \n",
       "325 BBB  B    0   \n",
       "326 BB   B    0   \n",
       "327 B    B    0   \n",
       "328 C    B    0   \n",
       "329 0    B    0   \n",
       "330 DD   C    0   \n",
       "331 7    C    0   \n",
       "332 BBB  C    0   \n",
       "333 BB   C    0   \n",
       "334 B    C    0   \n",
       "335 C    C    0   \n",
       "336 0    C    0   \n",
       "337 DD   0    0   \n",
       "338 7    0    0   \n",
       "339 BBB  0    0   \n",
       "340 BB   0    0   \n",
       "341 B    0    0   \n",
       "342 C    0    0   \n",
       "343 0    0    0   "
      ]
     },
     "metadata": {},
     "output_type": "display_data"
    }
   ],
   "source": [
    "combos"
   ]
  },
  {
   "cell_type": "code",
   "execution_count": 17,
   "metadata": {},
   "outputs": [],
   "source": [
    "getSymbols <- function(){\n",
    "    sample(wheel,size=3,replace=TRUE,\n",
    "           prob=c(0.03,0.03,0.06,0.1,0.25,0.01,0.52))\n",
    "}"
   ]
  },
  {
   "cell_type": "code",
   "execution_count": 18,
   "metadata": {},
   "outputs": [
    {
     "data": {
      "text/html": [
       "<ol class=list-inline>\n",
       "\t<li>'BB'</li>\n",
       "\t<li>'0'</li>\n",
       "\t<li>'0'</li>\n",
       "</ol>\n"
      ],
      "text/latex": [
       "\\begin{enumerate*}\n",
       "\\item 'BB'\n",
       "\\item '0'\n",
       "\\item '0'\n",
       "\\end{enumerate*}\n"
      ],
      "text/markdown": [
       "1. 'BB'\n",
       "2. '0'\n",
       "3. '0'\n",
       "\n",
       "\n"
      ],
      "text/plain": [
       "[1] \"BB\" \"0\"  \"0\" "
      ]
     },
     "metadata": {},
     "output_type": "display_data"
    }
   ],
   "source": [
    "getSymbols()"
   ]
  },
  {
   "cell_type": "code",
   "execution_count": 19,
   "metadata": {},
   "outputs": [],
   "source": [
    "prob <- c(\"DD\"=0.03,\"7\"=0.03,\"BBB\"=0.06,\"BB\"=0.1,\n",
    "          \"B\"=0.25,\"C\"=0.01,\"0\"=0.52)"
   ]
  },
  {
   "cell_type": "code",
   "execution_count": 20,
   "metadata": {},
   "outputs": [
    {
     "data": {
      "text/html": [
       "<dl class=dl-horizontal>\n",
       "\t<dt>DD</dt>\n",
       "\t\t<dd>0.03</dd>\n",
       "\t<dt>7</dt>\n",
       "\t\t<dd>0.03</dd>\n",
       "\t<dt>BBB</dt>\n",
       "\t\t<dd>0.06</dd>\n",
       "\t<dt>BB</dt>\n",
       "\t\t<dd>0.1</dd>\n",
       "\t<dt>B</dt>\n",
       "\t\t<dd>0.25</dd>\n",
       "\t<dt>C</dt>\n",
       "\t\t<dd>0.01</dd>\n",
       "\t<dt>0</dt>\n",
       "\t\t<dd>0.52</dd>\n",
       "</dl>\n"
      ],
      "text/latex": [
       "\\begin{description*}\n",
       "\\item[DD] 0.03\n",
       "\\item[7] 0.03\n",
       "\\item[BBB] 0.06\n",
       "\\item[BB] 0.1\n",
       "\\item[B] 0.25\n",
       "\\item[C] 0.01\n",
       "\\item[0] 0.52\n",
       "\\end{description*}\n"
      ],
      "text/markdown": [
       "DD\n",
       ":   0.037\n",
       ":   0.03BBB\n",
       ":   0.06BB\n",
       ":   0.1B\n",
       ":   0.25C\n",
       ":   0.010\n",
       ":   0.52\n",
       "\n"
      ],
      "text/plain": [
       "  DD    7  BBB   BB    B    C    0 \n",
       "0.03 0.03 0.06 0.10 0.25 0.01 0.52 "
      ]
     },
     "metadata": {},
     "output_type": "display_data"
    }
   ],
   "source": [
    "prob"
   ]
  },
  {
   "cell_type": "code",
   "execution_count": 21,
   "metadata": {},
   "outputs": [],
   "source": [
    "combos$prob1 <- prob[combos$Var1]"
   ]
  },
  {
   "cell_type": "code",
   "execution_count": 22,
   "metadata": {},
   "outputs": [],
   "source": [
    "combos$prob2 <- prob[combos$Var2]"
   ]
  },
  {
   "cell_type": "code",
   "execution_count": 23,
   "metadata": {},
   "outputs": [],
   "source": [
    "combos$prob3 <- prob[combos$Var3]"
   ]
  },
  {
   "cell_type": "code",
   "execution_count": 24,
   "metadata": {},
   "outputs": [],
   "source": [
    "combos$prob <- combos$prob1*combos$prob2*combos$prob3"
   ]
  },
  {
   "cell_type": "code",
   "execution_count": 25,
   "metadata": {},
   "outputs": [
    {
     "data": {
      "text/html": [
       "<table>\n",
       "<thead><tr><th scope=col>Var1</th><th scope=col>Var2</th><th scope=col>Var3</th><th scope=col>prob1</th><th scope=col>prob2</th><th scope=col>prob3</th><th scope=col>prob</th></tr></thead>\n",
       "<tbody>\n",
       "\t<tr><td>DD     </td><td>DD     </td><td>DD     </td><td>0.03   </td><td>0.03   </td><td>0.03   </td><td>2.7e-05</td></tr>\n",
       "\t<tr><td>7      </td><td>DD     </td><td>DD     </td><td>0.03   </td><td>0.03   </td><td>0.03   </td><td>2.7e-05</td></tr>\n",
       "\t<tr><td>BBB    </td><td>DD     </td><td>DD     </td><td>0.06   </td><td>0.03   </td><td>0.03   </td><td>5.4e-05</td></tr>\n",
       "</tbody>\n",
       "</table>\n"
      ],
      "text/latex": [
       "\\begin{tabular}{r|lllllll}\n",
       " Var1 & Var2 & Var3 & prob1 & prob2 & prob3 & prob\\\\\n",
       "\\hline\n",
       "\t DD      & DD      & DD      & 0.03    & 0.03    & 0.03    & 2.7e-05\\\\\n",
       "\t 7       & DD      & DD      & 0.03    & 0.03    & 0.03    & 2.7e-05\\\\\n",
       "\t BBB     & DD      & DD      & 0.06    & 0.03    & 0.03    & 5.4e-05\\\\\n",
       "\\end{tabular}\n"
      ],
      "text/markdown": [
       "\n",
       "Var1 | Var2 | Var3 | prob1 | prob2 | prob3 | prob | \n",
       "|---|---|---|\n",
       "| DD      | DD      | DD      | 0.03    | 0.03    | 0.03    | 2.7e-05 | \n",
       "| 7       | DD      | DD      | 0.03    | 0.03    | 0.03    | 2.7e-05 | \n",
       "| BBB     | DD      | DD      | 0.06    | 0.03    | 0.03    | 5.4e-05 | \n",
       "\n",
       "\n"
      ],
      "text/plain": [
       "  Var1 Var2 Var3 prob1 prob2 prob3 prob   \n",
       "1 DD   DD   DD   0.03  0.03  0.03  2.7e-05\n",
       "2 7    DD   DD   0.03  0.03  0.03  2.7e-05\n",
       "3 BBB  DD   DD   0.06  0.03  0.03  5.4e-05"
      ]
     },
     "metadata": {},
     "output_type": "display_data"
    }
   ],
   "source": [
    "head(combos,3)"
   ]
  },
  {
   "cell_type": "code",
   "execution_count": 26,
   "metadata": {},
   "outputs": [
    {
     "data": {
      "text/html": [
       "1"
      ],
      "text/latex": [
       "1"
      ],
      "text/markdown": [
       "1"
      ],
      "text/plain": [
       "[1] 1"
      ]
     },
     "metadata": {},
     "output_type": "display_data"
    }
   ],
   "source": [
    "sum(combos$prob)"
   ]
  },
  {
   "cell_type": "code",
   "execution_count": 27,
   "metadata": {},
   "outputs": [
    {
     "data": {
      "text/html": [
       "7"
      ],
      "text/latex": [
       "7"
      ],
      "text/markdown": [
       "7"
      ],
      "text/plain": [
       "[1] 7"
      ]
     },
     "metadata": {},
     "output_type": "display_data"
    }
   ],
   "source": [
    "length(combos)"
   ]
  },
  {
   "cell_type": "code",
   "execution_count": 28,
   "metadata": {},
   "outputs": [
    {
     "name": "stdout",
     "output_type": "stream",
     "text": [
      "[1] \"My\"\n",
      "[1] \"second\"\n",
      "[1] \"for\"\n",
      "[1] \"loop\"\n"
     ]
    }
   ],
   "source": [
    "for(value in c(\"My\",\"second\",\"for\",\"loop\")){\n",
    "    print(value)\n",
    "}"
   ]
  },
  {
   "cell_type": "code",
   "execution_count": 29,
   "metadata": {},
   "outputs": [
    {
     "name": "stdout",
     "output_type": "stream",
     "text": [
      "[1] \"My\"\n",
      "[1] \"second\"\n",
      "[1] \"for\"\n",
      "[1] \"loop\"\n"
     ]
    }
   ],
   "source": [
    "for(word in c(\"My\",\"second\",\"for\",\"loop\")){\n",
    "    print(word)\n",
    "}"
   ]
  },
  {
   "cell_type": "code",
   "execution_count": 30,
   "metadata": {},
   "outputs": [],
   "source": [
    "chars <- vector(length=4)"
   ]
  },
  {
   "cell_type": "code",
   "execution_count": 31,
   "metadata": {},
   "outputs": [
    {
     "data": {
      "text/html": [
       "<ol class=list-inline>\n",
       "\t<li>FALSE</li>\n",
       "\t<li>FALSE</li>\n",
       "\t<li>FALSE</li>\n",
       "\t<li>FALSE</li>\n",
       "</ol>\n"
      ],
      "text/latex": [
       "\\begin{enumerate*}\n",
       "\\item FALSE\n",
       "\\item FALSE\n",
       "\\item FALSE\n",
       "\\item FALSE\n",
       "\\end{enumerate*}\n"
      ],
      "text/markdown": [
       "1. FALSE\n",
       "2. FALSE\n",
       "3. FALSE\n",
       "4. FALSE\n",
       "\n",
       "\n"
      ],
      "text/plain": [
       "[1] FALSE FALSE FALSE FALSE"
      ]
     },
     "metadata": {},
     "output_type": "display_data"
    }
   ],
   "source": [
    "chars"
   ]
  },
  {
   "cell_type": "code",
   "execution_count": 32,
   "metadata": {},
   "outputs": [],
   "source": [
    "words <- c(\"My\",\"fourth\",\"for\",\"loop\")"
   ]
  },
  {
   "cell_type": "code",
   "execution_count": 33,
   "metadata": {},
   "outputs": [],
   "source": [
    "for(i in 1:4){\n",
    "    chars[i] <- words[i]\n",
    "}"
   ]
  },
  {
   "cell_type": "code",
   "execution_count": 34,
   "metadata": {},
   "outputs": [
    {
     "data": {
      "text/html": [
       "<ol class=list-inline>\n",
       "\t<li>'My'</li>\n",
       "\t<li>'fourth'</li>\n",
       "\t<li>'for'</li>\n",
       "\t<li>'loop'</li>\n",
       "</ol>\n"
      ],
      "text/latex": [
       "\\begin{enumerate*}\n",
       "\\item 'My'\n",
       "\\item 'fourth'\n",
       "\\item 'for'\n",
       "\\item 'loop'\n",
       "\\end{enumerate*}\n"
      ],
      "text/markdown": [
       "1. 'My'\n",
       "2. 'fourth'\n",
       "3. 'for'\n",
       "4. 'loop'\n",
       "\n",
       "\n"
      ],
      "text/plain": [
       "[1] \"My\"     \"fourth\" \"for\"    \"loop\"  "
      ]
     },
     "metadata": {},
     "output_type": "display_data"
    }
   ],
   "source": [
    "chars"
   ]
  },
  {
   "cell_type": "code",
   "execution_count": 35,
   "metadata": {},
   "outputs": [],
   "source": [
    "score <- function(symbols) {   \n",
    "    # 识别情形   \n",
    "    same <- symbols[1] == symbols[2] && symbols[2] == symbols[3]   \n",
    "    bars <- symbols %in% c(\"B\", \"BB\", \"BBB\")    \n",
    "    # 计算中奖金额   \n",
    "    if (same) {     \n",
    "        payouts <- c(\"DD\" = 100, \"7\" = 80, \"BBB\" = 40, \"BB\" = 25,       \n",
    "                     \"B\" = 10, \"C\" = 10, \"0\" = 0)     \n",
    "        prize <- unname(payouts[symbols[1]])   \n",
    "    } else if (all(bars)) {     \n",
    "        prize <- 5   \n",
    "    } else {     \n",
    "        cherries <- sum(symbols == \"C\")     \n",
    "        prize <- c(0, 2, 5)[cherries + 1]   \n",
    "    }    # 根据钻石的个数调整中奖金额   \n",
    "    diamonds <- sum(symbols == \"DD\")   \n",
    "    prize * 2 ^ diamonds \n",
    "}"
   ]
  },
  {
   "cell_type": "code",
   "execution_count": 36,
   "metadata": {},
   "outputs": [],
   "source": [
    "combos$prize <- NA"
   ]
  },
  {
   "cell_type": "code",
   "execution_count": 37,
   "metadata": {},
   "outputs": [],
   "source": [
    "for(i in 1:nrow(combos)){\n",
    "    symbols <- c(combos[i,1],combos[i,2],combos[i,3])\n",
    "    combos$prize[i] <- score(symbols)\n",
    "}"
   ]
  },
  {
   "cell_type": "code",
   "execution_count": 38,
   "metadata": {},
   "outputs": [
    {
     "data": {
      "text/html": [
       "<table>\n",
       "<thead><tr><th scope=col>Var1</th><th scope=col>Var2</th><th scope=col>Var3</th><th scope=col>prob1</th><th scope=col>prob2</th><th scope=col>prob3</th><th scope=col>prob</th><th scope=col>prize</th></tr></thead>\n",
       "<tbody>\n",
       "\t<tr><td>DD     </td><td>DD     </td><td>DD     </td><td>0.03   </td><td>0.03   </td><td>0.03   </td><td>2.7e-05</td><td>800    </td></tr>\n",
       "\t<tr><td>7      </td><td>DD     </td><td>DD     </td><td>0.03   </td><td>0.03   </td><td>0.03   </td><td>2.7e-05</td><td>  0    </td></tr>\n",
       "\t<tr><td>BBB    </td><td>DD     </td><td>DD     </td><td>0.06   </td><td>0.03   </td><td>0.03   </td><td>5.4e-05</td><td>  0    </td></tr>\n",
       "</tbody>\n",
       "</table>\n"
      ],
      "text/latex": [
       "\\begin{tabular}{r|llllllll}\n",
       " Var1 & Var2 & Var3 & prob1 & prob2 & prob3 & prob & prize\\\\\n",
       "\\hline\n",
       "\t DD      & DD      & DD      & 0.03    & 0.03    & 0.03    & 2.7e-05 & 800    \\\\\n",
       "\t 7       & DD      & DD      & 0.03    & 0.03    & 0.03    & 2.7e-05 &   0    \\\\\n",
       "\t BBB     & DD      & DD      & 0.06    & 0.03    & 0.03    & 5.4e-05 &   0    \\\\\n",
       "\\end{tabular}\n"
      ],
      "text/markdown": [
       "\n",
       "Var1 | Var2 | Var3 | prob1 | prob2 | prob3 | prob | prize | \n",
       "|---|---|---|\n",
       "| DD      | DD      | DD      | 0.03    | 0.03    | 0.03    | 2.7e-05 | 800     | \n",
       "| 7       | DD      | DD      | 0.03    | 0.03    | 0.03    | 2.7e-05 |   0     | \n",
       "| BBB     | DD      | DD      | 0.06    | 0.03    | 0.03    | 5.4e-05 |   0     | \n",
       "\n",
       "\n"
      ],
      "text/plain": [
       "  Var1 Var2 Var3 prob1 prob2 prob3 prob    prize\n",
       "1 DD   DD   DD   0.03  0.03  0.03  2.7e-05 800  \n",
       "2 7    DD   DD   0.03  0.03  0.03  2.7e-05   0  \n",
       "3 BBB  DD   DD   0.06  0.03  0.03  5.4e-05   0  "
      ]
     },
     "metadata": {},
     "output_type": "display_data"
    }
   ],
   "source": [
    "head(combos,3)"
   ]
  },
  {
   "cell_type": "code",
   "execution_count": 39,
   "metadata": {},
   "outputs": [
    {
     "data": {
      "text/html": [
       "<table>\n",
       "<thead><tr><th scope=col>Var1</th><th scope=col>Var2</th><th scope=col>Var3</th><th scope=col>prob1</th><th scope=col>prob2</th><th scope=col>prob3</th><th scope=col>prob</th><th scope=col>prize</th></tr></thead>\n",
       "<tbody>\n",
       "\t<tr><td>DD      </td><td>DD      </td><td>DD      </td><td>0.03    </td><td>0.03    </td><td>0.03    </td><td>0.000027</td><td>800     </td></tr>\n",
       "\t<tr><td>7       </td><td>DD      </td><td>DD      </td><td>0.03    </td><td>0.03    </td><td>0.03    </td><td>0.000027</td><td>  0     </td></tr>\n",
       "\t<tr><td>BBB     </td><td>DD      </td><td>DD      </td><td>0.06    </td><td>0.03    </td><td>0.03    </td><td>0.000054</td><td>  0     </td></tr>\n",
       "\t<tr><td>BB      </td><td>DD      </td><td>DD      </td><td>0.10    </td><td>0.03    </td><td>0.03    </td><td>0.000090</td><td>  0     </td></tr>\n",
       "\t<tr><td>B       </td><td>DD      </td><td>DD      </td><td>0.25    </td><td>0.03    </td><td>0.03    </td><td>0.000225</td><td>  0     </td></tr>\n",
       "\t<tr><td>C       </td><td>DD      </td><td>DD      </td><td>0.01    </td><td>0.03    </td><td>0.03    </td><td>0.000009</td><td>  8     </td></tr>\n",
       "\t<tr><td>0       </td><td>DD      </td><td>DD      </td><td>0.52    </td><td>0.03    </td><td>0.03    </td><td>0.000468</td><td>  0     </td></tr>\n",
       "\t<tr><td>DD      </td><td>7       </td><td>DD      </td><td>0.03    </td><td>0.03    </td><td>0.03    </td><td>0.000027</td><td>  0     </td></tr>\n",
       "\t<tr><td>7       </td><td>7       </td><td>DD      </td><td>0.03    </td><td>0.03    </td><td>0.03    </td><td>0.000027</td><td>  0     </td></tr>\n",
       "\t<tr><td>BBB     </td><td>7       </td><td>DD      </td><td>0.06    </td><td>0.03    </td><td>0.03    </td><td>0.000054</td><td>  0     </td></tr>\n",
       "\t<tr><td>BB      </td><td>7       </td><td>DD      </td><td>0.10    </td><td>0.03    </td><td>0.03    </td><td>0.000090</td><td>  0     </td></tr>\n",
       "\t<tr><td>B       </td><td>7       </td><td>DD      </td><td>0.25    </td><td>0.03    </td><td>0.03    </td><td>0.000225</td><td>  0     </td></tr>\n",
       "\t<tr><td>C       </td><td>7       </td><td>DD      </td><td>0.01    </td><td>0.03    </td><td>0.03    </td><td>0.000009</td><td>  4     </td></tr>\n",
       "\t<tr><td>0       </td><td>7       </td><td>DD      </td><td>0.52    </td><td>0.03    </td><td>0.03    </td><td>0.000468</td><td>  0     </td></tr>\n",
       "\t<tr><td>DD      </td><td>BBB     </td><td>DD      </td><td>0.03    </td><td>0.06    </td><td>0.03    </td><td>0.000054</td><td>  0     </td></tr>\n",
       "\t<tr><td>7       </td><td>BBB     </td><td>DD      </td><td>0.03    </td><td>0.06    </td><td>0.03    </td><td>0.000054</td><td>  0     </td></tr>\n",
       "\t<tr><td>BBB     </td><td>BBB     </td><td>DD      </td><td>0.06    </td><td>0.06    </td><td>0.03    </td><td>0.000108</td><td>  0     </td></tr>\n",
       "\t<tr><td>BB      </td><td>BBB     </td><td>DD      </td><td>0.10    </td><td>0.06    </td><td>0.03    </td><td>0.000180</td><td>  0     </td></tr>\n",
       "\t<tr><td>B       </td><td>BBB     </td><td>DD      </td><td>0.25    </td><td>0.06    </td><td>0.03    </td><td>0.000450</td><td>  0     </td></tr>\n",
       "\t<tr><td>C       </td><td>BBB     </td><td>DD      </td><td>0.01    </td><td>0.06    </td><td>0.03    </td><td>0.000018</td><td>  4     </td></tr>\n",
       "\t<tr><td>0       </td><td>BBB     </td><td>DD      </td><td>0.52    </td><td>0.06    </td><td>0.03    </td><td>0.000936</td><td>  0     </td></tr>\n",
       "\t<tr><td>DD      </td><td>BB      </td><td>DD      </td><td>0.03    </td><td>0.10    </td><td>0.03    </td><td>0.000090</td><td>  0     </td></tr>\n",
       "\t<tr><td>7       </td><td>BB      </td><td>DD      </td><td>0.03    </td><td>0.10    </td><td>0.03    </td><td>0.000090</td><td>  0     </td></tr>\n",
       "\t<tr><td>BBB     </td><td>BB      </td><td>DD      </td><td>0.06    </td><td>0.10    </td><td>0.03    </td><td>0.000180</td><td>  0     </td></tr>\n",
       "\t<tr><td>BB      </td><td>BB      </td><td>DD      </td><td>0.10    </td><td>0.10    </td><td>0.03    </td><td>0.000300</td><td>  0     </td></tr>\n",
       "\t<tr><td>B       </td><td>BB      </td><td>DD      </td><td>0.25    </td><td>0.10    </td><td>0.03    </td><td>0.000750</td><td>  0     </td></tr>\n",
       "\t<tr><td>C       </td><td>BB      </td><td>DD      </td><td>0.01    </td><td>0.10    </td><td>0.03    </td><td>0.000030</td><td>  4     </td></tr>\n",
       "\t<tr><td>0       </td><td>BB      </td><td>DD      </td><td>0.52    </td><td>0.10    </td><td>0.03    </td><td>0.001560</td><td>  0     </td></tr>\n",
       "\t<tr><td>DD      </td><td>B       </td><td>DD      </td><td>0.03    </td><td>0.25    </td><td>0.03    </td><td>0.000225</td><td>  0     </td></tr>\n",
       "\t<tr><td>7       </td><td>B       </td><td>DD      </td><td>0.03    </td><td>0.25    </td><td>0.03    </td><td>0.000225</td><td>  0     </td></tr>\n",
       "\t<tr><td>⋮</td><td>⋮</td><td>⋮</td><td>⋮</td><td>⋮</td><td>⋮</td><td>⋮</td><td>⋮</td></tr>\n",
       "\t<tr><td>C       </td><td>BBB     </td><td>0       </td><td>0.01    </td><td>0.06    </td><td>0.52    </td><td>0.000312</td><td>2       </td></tr>\n",
       "\t<tr><td>0       </td><td>BBB     </td><td>0       </td><td>0.52    </td><td>0.06    </td><td>0.52    </td><td>0.016224</td><td>0       </td></tr>\n",
       "\t<tr><td>DD      </td><td>BB      </td><td>0       </td><td>0.03    </td><td>0.10    </td><td>0.52    </td><td>0.001560</td><td>0       </td></tr>\n",
       "\t<tr><td>7       </td><td>BB      </td><td>0       </td><td>0.03    </td><td>0.10    </td><td>0.52    </td><td>0.001560</td><td>0       </td></tr>\n",
       "\t<tr><td>BBB     </td><td>BB      </td><td>0       </td><td>0.06    </td><td>0.10    </td><td>0.52    </td><td>0.003120</td><td>0       </td></tr>\n",
       "\t<tr><td>BB      </td><td>BB      </td><td>0       </td><td>0.10    </td><td>0.10    </td><td>0.52    </td><td>0.005200</td><td>0       </td></tr>\n",
       "\t<tr><td>B       </td><td>BB      </td><td>0       </td><td>0.25    </td><td>0.10    </td><td>0.52    </td><td>0.013000</td><td>0       </td></tr>\n",
       "\t<tr><td>C       </td><td>BB      </td><td>0       </td><td>0.01    </td><td>0.10    </td><td>0.52    </td><td>0.000520</td><td>2       </td></tr>\n",
       "\t<tr><td>0       </td><td>BB      </td><td>0       </td><td>0.52    </td><td>0.10    </td><td>0.52    </td><td>0.027040</td><td>0       </td></tr>\n",
       "\t<tr><td>DD      </td><td>B       </td><td>0       </td><td>0.03    </td><td>0.25    </td><td>0.52    </td><td>0.003900</td><td>0       </td></tr>\n",
       "\t<tr><td>7       </td><td>B       </td><td>0       </td><td>0.03    </td><td>0.25    </td><td>0.52    </td><td>0.003900</td><td>0       </td></tr>\n",
       "\t<tr><td>BBB     </td><td>B       </td><td>0       </td><td>0.06    </td><td>0.25    </td><td>0.52    </td><td>0.007800</td><td>0       </td></tr>\n",
       "\t<tr><td>BB      </td><td>B       </td><td>0       </td><td>0.10    </td><td>0.25    </td><td>0.52    </td><td>0.013000</td><td>0       </td></tr>\n",
       "\t<tr><td>B       </td><td>B       </td><td>0       </td><td>0.25    </td><td>0.25    </td><td>0.52    </td><td>0.032500</td><td>0       </td></tr>\n",
       "\t<tr><td>C       </td><td>B       </td><td>0       </td><td>0.01    </td><td>0.25    </td><td>0.52    </td><td>0.001300</td><td>2       </td></tr>\n",
       "\t<tr><td>0       </td><td>B       </td><td>0       </td><td>0.52    </td><td>0.25    </td><td>0.52    </td><td>0.067600</td><td>0       </td></tr>\n",
       "\t<tr><td>DD      </td><td>C       </td><td>0       </td><td>0.03    </td><td>0.01    </td><td>0.52    </td><td>0.000156</td><td>4       </td></tr>\n",
       "\t<tr><td>7       </td><td>C       </td><td>0       </td><td>0.03    </td><td>0.01    </td><td>0.52    </td><td>0.000156</td><td>2       </td></tr>\n",
       "\t<tr><td>BBB     </td><td>C       </td><td>0       </td><td>0.06    </td><td>0.01    </td><td>0.52    </td><td>0.000312</td><td>2       </td></tr>\n",
       "\t<tr><td>BB      </td><td>C       </td><td>0       </td><td>0.10    </td><td>0.01    </td><td>0.52    </td><td>0.000520</td><td>2       </td></tr>\n",
       "\t<tr><td>B       </td><td>C       </td><td>0       </td><td>0.25    </td><td>0.01    </td><td>0.52    </td><td>0.001300</td><td>2       </td></tr>\n",
       "\t<tr><td>C       </td><td>C       </td><td>0       </td><td>0.01    </td><td>0.01    </td><td>0.52    </td><td>0.000052</td><td>5       </td></tr>\n",
       "\t<tr><td>0       </td><td>C       </td><td>0       </td><td>0.52    </td><td>0.01    </td><td>0.52    </td><td>0.002704</td><td>2       </td></tr>\n",
       "\t<tr><td>DD      </td><td>0       </td><td>0       </td><td>0.03    </td><td>0.52    </td><td>0.52    </td><td>0.008112</td><td>0       </td></tr>\n",
       "\t<tr><td>7       </td><td>0       </td><td>0       </td><td>0.03    </td><td>0.52    </td><td>0.52    </td><td>0.008112</td><td>0       </td></tr>\n",
       "\t<tr><td>BBB     </td><td>0       </td><td>0       </td><td>0.06    </td><td>0.52    </td><td>0.52    </td><td>0.016224</td><td>0       </td></tr>\n",
       "\t<tr><td>BB      </td><td>0       </td><td>0       </td><td>0.10    </td><td>0.52    </td><td>0.52    </td><td>0.027040</td><td>0       </td></tr>\n",
       "\t<tr><td>B       </td><td>0       </td><td>0       </td><td>0.25    </td><td>0.52    </td><td>0.52    </td><td>0.067600</td><td>0       </td></tr>\n",
       "\t<tr><td>C       </td><td>0       </td><td>0       </td><td>0.01    </td><td>0.52    </td><td>0.52    </td><td>0.002704</td><td>2       </td></tr>\n",
       "\t<tr><td>0       </td><td>0       </td><td>0       </td><td>0.52    </td><td>0.52    </td><td>0.52    </td><td>0.140608</td><td>0       </td></tr>\n",
       "</tbody>\n",
       "</table>\n"
      ],
      "text/latex": [
       "\\begin{tabular}{r|llllllll}\n",
       " Var1 & Var2 & Var3 & prob1 & prob2 & prob3 & prob & prize\\\\\n",
       "\\hline\n",
       "\t DD       & DD       & DD       & 0.03     & 0.03     & 0.03     & 0.000027 & 800     \\\\\n",
       "\t 7        & DD       & DD       & 0.03     & 0.03     & 0.03     & 0.000027 &   0     \\\\\n",
       "\t BBB      & DD       & DD       & 0.06     & 0.03     & 0.03     & 0.000054 &   0     \\\\\n",
       "\t BB       & DD       & DD       & 0.10     & 0.03     & 0.03     & 0.000090 &   0     \\\\\n",
       "\t B        & DD       & DD       & 0.25     & 0.03     & 0.03     & 0.000225 &   0     \\\\\n",
       "\t C        & DD       & DD       & 0.01     & 0.03     & 0.03     & 0.000009 &   8     \\\\\n",
       "\t 0        & DD       & DD       & 0.52     & 0.03     & 0.03     & 0.000468 &   0     \\\\\n",
       "\t DD       & 7        & DD       & 0.03     & 0.03     & 0.03     & 0.000027 &   0     \\\\\n",
       "\t 7        & 7        & DD       & 0.03     & 0.03     & 0.03     & 0.000027 &   0     \\\\\n",
       "\t BBB      & 7        & DD       & 0.06     & 0.03     & 0.03     & 0.000054 &   0     \\\\\n",
       "\t BB       & 7        & DD       & 0.10     & 0.03     & 0.03     & 0.000090 &   0     \\\\\n",
       "\t B        & 7        & DD       & 0.25     & 0.03     & 0.03     & 0.000225 &   0     \\\\\n",
       "\t C        & 7        & DD       & 0.01     & 0.03     & 0.03     & 0.000009 &   4     \\\\\n",
       "\t 0        & 7        & DD       & 0.52     & 0.03     & 0.03     & 0.000468 &   0     \\\\\n",
       "\t DD       & BBB      & DD       & 0.03     & 0.06     & 0.03     & 0.000054 &   0     \\\\\n",
       "\t 7        & BBB      & DD       & 0.03     & 0.06     & 0.03     & 0.000054 &   0     \\\\\n",
       "\t BBB      & BBB      & DD       & 0.06     & 0.06     & 0.03     & 0.000108 &   0     \\\\\n",
       "\t BB       & BBB      & DD       & 0.10     & 0.06     & 0.03     & 0.000180 &   0     \\\\\n",
       "\t B        & BBB      & DD       & 0.25     & 0.06     & 0.03     & 0.000450 &   0     \\\\\n",
       "\t C        & BBB      & DD       & 0.01     & 0.06     & 0.03     & 0.000018 &   4     \\\\\n",
       "\t 0        & BBB      & DD       & 0.52     & 0.06     & 0.03     & 0.000936 &   0     \\\\\n",
       "\t DD       & BB       & DD       & 0.03     & 0.10     & 0.03     & 0.000090 &   0     \\\\\n",
       "\t 7        & BB       & DD       & 0.03     & 0.10     & 0.03     & 0.000090 &   0     \\\\\n",
       "\t BBB      & BB       & DD       & 0.06     & 0.10     & 0.03     & 0.000180 &   0     \\\\\n",
       "\t BB       & BB       & DD       & 0.10     & 0.10     & 0.03     & 0.000300 &   0     \\\\\n",
       "\t B        & BB       & DD       & 0.25     & 0.10     & 0.03     & 0.000750 &   0     \\\\\n",
       "\t C        & BB       & DD       & 0.01     & 0.10     & 0.03     & 0.000030 &   4     \\\\\n",
       "\t 0        & BB       & DD       & 0.52     & 0.10     & 0.03     & 0.001560 &   0     \\\\\n",
       "\t DD       & B        & DD       & 0.03     & 0.25     & 0.03     & 0.000225 &   0     \\\\\n",
       "\t 7        & B        & DD       & 0.03     & 0.25     & 0.03     & 0.000225 &   0     \\\\\n",
       "\t ⋮ & ⋮ & ⋮ & ⋮ & ⋮ & ⋮ & ⋮ & ⋮\\\\\n",
       "\t C        & BBB      & 0        & 0.01     & 0.06     & 0.52     & 0.000312 & 2       \\\\\n",
       "\t 0        & BBB      & 0        & 0.52     & 0.06     & 0.52     & 0.016224 & 0       \\\\\n",
       "\t DD       & BB       & 0        & 0.03     & 0.10     & 0.52     & 0.001560 & 0       \\\\\n",
       "\t 7        & BB       & 0        & 0.03     & 0.10     & 0.52     & 0.001560 & 0       \\\\\n",
       "\t BBB      & BB       & 0        & 0.06     & 0.10     & 0.52     & 0.003120 & 0       \\\\\n",
       "\t BB       & BB       & 0        & 0.10     & 0.10     & 0.52     & 0.005200 & 0       \\\\\n",
       "\t B        & BB       & 0        & 0.25     & 0.10     & 0.52     & 0.013000 & 0       \\\\\n",
       "\t C        & BB       & 0        & 0.01     & 0.10     & 0.52     & 0.000520 & 2       \\\\\n",
       "\t 0        & BB       & 0        & 0.52     & 0.10     & 0.52     & 0.027040 & 0       \\\\\n",
       "\t DD       & B        & 0        & 0.03     & 0.25     & 0.52     & 0.003900 & 0       \\\\\n",
       "\t 7        & B        & 0        & 0.03     & 0.25     & 0.52     & 0.003900 & 0       \\\\\n",
       "\t BBB      & B        & 0        & 0.06     & 0.25     & 0.52     & 0.007800 & 0       \\\\\n",
       "\t BB       & B        & 0        & 0.10     & 0.25     & 0.52     & 0.013000 & 0       \\\\\n",
       "\t B        & B        & 0        & 0.25     & 0.25     & 0.52     & 0.032500 & 0       \\\\\n",
       "\t C        & B        & 0        & 0.01     & 0.25     & 0.52     & 0.001300 & 2       \\\\\n",
       "\t 0        & B        & 0        & 0.52     & 0.25     & 0.52     & 0.067600 & 0       \\\\\n",
       "\t DD       & C        & 0        & 0.03     & 0.01     & 0.52     & 0.000156 & 4       \\\\\n",
       "\t 7        & C        & 0        & 0.03     & 0.01     & 0.52     & 0.000156 & 2       \\\\\n",
       "\t BBB      & C        & 0        & 0.06     & 0.01     & 0.52     & 0.000312 & 2       \\\\\n",
       "\t BB       & C        & 0        & 0.10     & 0.01     & 0.52     & 0.000520 & 2       \\\\\n",
       "\t B        & C        & 0        & 0.25     & 0.01     & 0.52     & 0.001300 & 2       \\\\\n",
       "\t C        & C        & 0        & 0.01     & 0.01     & 0.52     & 0.000052 & 5       \\\\\n",
       "\t 0        & C        & 0        & 0.52     & 0.01     & 0.52     & 0.002704 & 2       \\\\\n",
       "\t DD       & 0        & 0        & 0.03     & 0.52     & 0.52     & 0.008112 & 0       \\\\\n",
       "\t 7        & 0        & 0        & 0.03     & 0.52     & 0.52     & 0.008112 & 0       \\\\\n",
       "\t BBB      & 0        & 0        & 0.06     & 0.52     & 0.52     & 0.016224 & 0       \\\\\n",
       "\t BB       & 0        & 0        & 0.10     & 0.52     & 0.52     & 0.027040 & 0       \\\\\n",
       "\t B        & 0        & 0        & 0.25     & 0.52     & 0.52     & 0.067600 & 0       \\\\\n",
       "\t C        & 0        & 0        & 0.01     & 0.52     & 0.52     & 0.002704 & 2       \\\\\n",
       "\t 0        & 0        & 0        & 0.52     & 0.52     & 0.52     & 0.140608 & 0       \\\\\n",
       "\\end{tabular}\n"
      ],
      "text/markdown": [
       "\n",
       "Var1 | Var2 | Var3 | prob1 | prob2 | prob3 | prob | prize | \n",
       "|---|---|---|---|---|---|---|---|---|---|---|---|---|---|---|---|---|---|---|---|---|---|---|---|---|---|---|---|---|---|---|---|---|---|---|---|---|---|---|---|---|---|---|---|---|---|---|---|---|---|---|---|---|---|---|---|---|---|---|---|---|\n",
       "| DD       | DD       | DD       | 0.03     | 0.03     | 0.03     | 0.000027 | 800      | \n",
       "| 7        | DD       | DD       | 0.03     | 0.03     | 0.03     | 0.000027 |   0      | \n",
       "| BBB      | DD       | DD       | 0.06     | 0.03     | 0.03     | 0.000054 |   0      | \n",
       "| BB       | DD       | DD       | 0.10     | 0.03     | 0.03     | 0.000090 |   0      | \n",
       "| B        | DD       | DD       | 0.25     | 0.03     | 0.03     | 0.000225 |   0      | \n",
       "| C        | DD       | DD       | 0.01     | 0.03     | 0.03     | 0.000009 |   8      | \n",
       "| 0        | DD       | DD       | 0.52     | 0.03     | 0.03     | 0.000468 |   0      | \n",
       "| DD       | 7        | DD       | 0.03     | 0.03     | 0.03     | 0.000027 |   0      | \n",
       "| 7        | 7        | DD       | 0.03     | 0.03     | 0.03     | 0.000027 |   0      | \n",
       "| BBB      | 7        | DD       | 0.06     | 0.03     | 0.03     | 0.000054 |   0      | \n",
       "| BB       | 7        | DD       | 0.10     | 0.03     | 0.03     | 0.000090 |   0      | \n",
       "| B        | 7        | DD       | 0.25     | 0.03     | 0.03     | 0.000225 |   0      | \n",
       "| C        | 7        | DD       | 0.01     | 0.03     | 0.03     | 0.000009 |   4      | \n",
       "| 0        | 7        | DD       | 0.52     | 0.03     | 0.03     | 0.000468 |   0      | \n",
       "| DD       | BBB      | DD       | 0.03     | 0.06     | 0.03     | 0.000054 |   0      | \n",
       "| 7        | BBB      | DD       | 0.03     | 0.06     | 0.03     | 0.000054 |   0      | \n",
       "| BBB      | BBB      | DD       | 0.06     | 0.06     | 0.03     | 0.000108 |   0      | \n",
       "| BB       | BBB      | DD       | 0.10     | 0.06     | 0.03     | 0.000180 |   0      | \n",
       "| B        | BBB      | DD       | 0.25     | 0.06     | 0.03     | 0.000450 |   0      | \n",
       "| C        | BBB      | DD       | 0.01     | 0.06     | 0.03     | 0.000018 |   4      | \n",
       "| 0        | BBB      | DD       | 0.52     | 0.06     | 0.03     | 0.000936 |   0      | \n",
       "| DD       | BB       | DD       | 0.03     | 0.10     | 0.03     | 0.000090 |   0      | \n",
       "| 7        | BB       | DD       | 0.03     | 0.10     | 0.03     | 0.000090 |   0      | \n",
       "| BBB      | BB       | DD       | 0.06     | 0.10     | 0.03     | 0.000180 |   0      | \n",
       "| BB       | BB       | DD       | 0.10     | 0.10     | 0.03     | 0.000300 |   0      | \n",
       "| B        | BB       | DD       | 0.25     | 0.10     | 0.03     | 0.000750 |   0      | \n",
       "| C        | BB       | DD       | 0.01     | 0.10     | 0.03     | 0.000030 |   4      | \n",
       "| 0        | BB       | DD       | 0.52     | 0.10     | 0.03     | 0.001560 |   0      | \n",
       "| DD       | B        | DD       | 0.03     | 0.25     | 0.03     | 0.000225 |   0      | \n",
       "| 7        | B        | DD       | 0.03     | 0.25     | 0.03     | 0.000225 |   0      | \n",
       "| ⋮ | ⋮ | ⋮ | ⋮ | ⋮ | ⋮ | ⋮ | ⋮ | \n",
       "| C        | BBB      | 0        | 0.01     | 0.06     | 0.52     | 0.000312 | 2        | \n",
       "| 0        | BBB      | 0        | 0.52     | 0.06     | 0.52     | 0.016224 | 0        | \n",
       "| DD       | BB       | 0        | 0.03     | 0.10     | 0.52     | 0.001560 | 0        | \n",
       "| 7        | BB       | 0        | 0.03     | 0.10     | 0.52     | 0.001560 | 0        | \n",
       "| BBB      | BB       | 0        | 0.06     | 0.10     | 0.52     | 0.003120 | 0        | \n",
       "| BB       | BB       | 0        | 0.10     | 0.10     | 0.52     | 0.005200 | 0        | \n",
       "| B        | BB       | 0        | 0.25     | 0.10     | 0.52     | 0.013000 | 0        | \n",
       "| C        | BB       | 0        | 0.01     | 0.10     | 0.52     | 0.000520 | 2        | \n",
       "| 0        | BB       | 0        | 0.52     | 0.10     | 0.52     | 0.027040 | 0        | \n",
       "| DD       | B        | 0        | 0.03     | 0.25     | 0.52     | 0.003900 | 0        | \n",
       "| 7        | B        | 0        | 0.03     | 0.25     | 0.52     | 0.003900 | 0        | \n",
       "| BBB      | B        | 0        | 0.06     | 0.25     | 0.52     | 0.007800 | 0        | \n",
       "| BB       | B        | 0        | 0.10     | 0.25     | 0.52     | 0.013000 | 0        | \n",
       "| B        | B        | 0        | 0.25     | 0.25     | 0.52     | 0.032500 | 0        | \n",
       "| C        | B        | 0        | 0.01     | 0.25     | 0.52     | 0.001300 | 2        | \n",
       "| 0        | B        | 0        | 0.52     | 0.25     | 0.52     | 0.067600 | 0        | \n",
       "| DD       | C        | 0        | 0.03     | 0.01     | 0.52     | 0.000156 | 4        | \n",
       "| 7        | C        | 0        | 0.03     | 0.01     | 0.52     | 0.000156 | 2        | \n",
       "| BBB      | C        | 0        | 0.06     | 0.01     | 0.52     | 0.000312 | 2        | \n",
       "| BB       | C        | 0        | 0.10     | 0.01     | 0.52     | 0.000520 | 2        | \n",
       "| B        | C        | 0        | 0.25     | 0.01     | 0.52     | 0.001300 | 2        | \n",
       "| C        | C        | 0        | 0.01     | 0.01     | 0.52     | 0.000052 | 5        | \n",
       "| 0        | C        | 0        | 0.52     | 0.01     | 0.52     | 0.002704 | 2        | \n",
       "| DD       | 0        | 0        | 0.03     | 0.52     | 0.52     | 0.008112 | 0        | \n",
       "| 7        | 0        | 0        | 0.03     | 0.52     | 0.52     | 0.008112 | 0        | \n",
       "| BBB      | 0        | 0        | 0.06     | 0.52     | 0.52     | 0.016224 | 0        | \n",
       "| BB       | 0        | 0        | 0.10     | 0.52     | 0.52     | 0.027040 | 0        | \n",
       "| B        | 0        | 0        | 0.25     | 0.52     | 0.52     | 0.067600 | 0        | \n",
       "| C        | 0        | 0        | 0.01     | 0.52     | 0.52     | 0.002704 | 2        | \n",
       "| 0        | 0        | 0        | 0.52     | 0.52     | 0.52     | 0.140608 | 0        | \n",
       "\n",
       "\n"
      ],
      "text/plain": [
       "    Var1 Var2 Var3 prob1 prob2 prob3 prob     prize\n",
       "1   DD   DD   DD   0.03  0.03  0.03  0.000027 800  \n",
       "2   7    DD   DD   0.03  0.03  0.03  0.000027   0  \n",
       "3   BBB  DD   DD   0.06  0.03  0.03  0.000054   0  \n",
       "4   BB   DD   DD   0.10  0.03  0.03  0.000090   0  \n",
       "5   B    DD   DD   0.25  0.03  0.03  0.000225   0  \n",
       "6   C    DD   DD   0.01  0.03  0.03  0.000009   8  \n",
       "7   0    DD   DD   0.52  0.03  0.03  0.000468   0  \n",
       "8   DD   7    DD   0.03  0.03  0.03  0.000027   0  \n",
       "9   7    7    DD   0.03  0.03  0.03  0.000027   0  \n",
       "10  BBB  7    DD   0.06  0.03  0.03  0.000054   0  \n",
       "11  BB   7    DD   0.10  0.03  0.03  0.000090   0  \n",
       "12  B    7    DD   0.25  0.03  0.03  0.000225   0  \n",
       "13  C    7    DD   0.01  0.03  0.03  0.000009   4  \n",
       "14  0    7    DD   0.52  0.03  0.03  0.000468   0  \n",
       "15  DD   BBB  DD   0.03  0.06  0.03  0.000054   0  \n",
       "16  7    BBB  DD   0.03  0.06  0.03  0.000054   0  \n",
       "17  BBB  BBB  DD   0.06  0.06  0.03  0.000108   0  \n",
       "18  BB   BBB  DD   0.10  0.06  0.03  0.000180   0  \n",
       "19  B    BBB  DD   0.25  0.06  0.03  0.000450   0  \n",
       "20  C    BBB  DD   0.01  0.06  0.03  0.000018   4  \n",
       "21  0    BBB  DD   0.52  0.06  0.03  0.000936   0  \n",
       "22  DD   BB   DD   0.03  0.10  0.03  0.000090   0  \n",
       "23  7    BB   DD   0.03  0.10  0.03  0.000090   0  \n",
       "24  BBB  BB   DD   0.06  0.10  0.03  0.000180   0  \n",
       "25  BB   BB   DD   0.10  0.10  0.03  0.000300   0  \n",
       "26  B    BB   DD   0.25  0.10  0.03  0.000750   0  \n",
       "27  C    BB   DD   0.01  0.10  0.03  0.000030   4  \n",
       "28  0    BB   DD   0.52  0.10  0.03  0.001560   0  \n",
       "29  DD   B    DD   0.03  0.25  0.03  0.000225   0  \n",
       "30  7    B    DD   0.03  0.25  0.03  0.000225   0  \n",
       "⋮   ⋮    ⋮    ⋮    ⋮     ⋮     ⋮     ⋮        ⋮    \n",
       "314 C    BBB  0    0.01  0.06  0.52  0.000312 2    \n",
       "315 0    BBB  0    0.52  0.06  0.52  0.016224 0    \n",
       "316 DD   BB   0    0.03  0.10  0.52  0.001560 0    \n",
       "317 7    BB   0    0.03  0.10  0.52  0.001560 0    \n",
       "318 BBB  BB   0    0.06  0.10  0.52  0.003120 0    \n",
       "319 BB   BB   0    0.10  0.10  0.52  0.005200 0    \n",
       "320 B    BB   0    0.25  0.10  0.52  0.013000 0    \n",
       "321 C    BB   0    0.01  0.10  0.52  0.000520 2    \n",
       "322 0    BB   0    0.52  0.10  0.52  0.027040 0    \n",
       "323 DD   B    0    0.03  0.25  0.52  0.003900 0    \n",
       "324 7    B    0    0.03  0.25  0.52  0.003900 0    \n",
       "325 BBB  B    0    0.06  0.25  0.52  0.007800 0    \n",
       "326 BB   B    0    0.10  0.25  0.52  0.013000 0    \n",
       "327 B    B    0    0.25  0.25  0.52  0.032500 0    \n",
       "328 C    B    0    0.01  0.25  0.52  0.001300 2    \n",
       "329 0    B    0    0.52  0.25  0.52  0.067600 0    \n",
       "330 DD   C    0    0.03  0.01  0.52  0.000156 4    \n",
       "331 7    C    0    0.03  0.01  0.52  0.000156 2    \n",
       "332 BBB  C    0    0.06  0.01  0.52  0.000312 2    \n",
       "333 BB   C    0    0.10  0.01  0.52  0.000520 2    \n",
       "334 B    C    0    0.25  0.01  0.52  0.001300 2    \n",
       "335 C    C    0    0.01  0.01  0.52  0.000052 5    \n",
       "336 0    C    0    0.52  0.01  0.52  0.002704 2    \n",
       "337 DD   0    0    0.03  0.52  0.52  0.008112 0    \n",
       "338 7    0    0    0.03  0.52  0.52  0.008112 0    \n",
       "339 BBB  0    0    0.06  0.52  0.52  0.016224 0    \n",
       "340 BB   0    0    0.10  0.52  0.52  0.027040 0    \n",
       "341 B    0    0    0.25  0.52  0.52  0.067600 0    \n",
       "342 C    0    0    0.01  0.52  0.52  0.002704 2    \n",
       "343 0    0    0    0.52  0.52  0.52  0.140608 0    "
      ]
     },
     "metadata": {},
     "output_type": "display_data"
    }
   ],
   "source": [
    "combos"
   ]
  },
  {
   "cell_type": "code",
   "execution_count": 40,
   "metadata": {},
   "outputs": [
    {
     "data": {
      "text/html": [
       "0.538014"
      ],
      "text/latex": [
       "0.538014"
      ],
      "text/markdown": [
       "0.538014"
      ],
      "text/plain": [
       "[1] 0.538014"
      ]
     },
     "metadata": {},
     "output_type": "display_data"
    }
   ],
   "source": [
    "sum(combos$prize * combos$prob)"
   ]
  },
  {
   "cell_type": "code",
   "execution_count": 41,
   "metadata": {},
   "outputs": [],
   "source": [
    "play <- function(){\n",
    "    symbols <- get_symbols()\n",
    "    print(symbols)\n",
    "    score(symbols)\n",
    "}"
   ]
  },
  {
   "cell_type": "code",
   "execution_count": 44,
   "metadata": {},
   "outputs": [],
   "source": [
    "get_symbols <- function(){\n",
    "    wheel <- c(\"DD\",\"7\",\"BBB\",\"BB\",\"B\",\"C\",\"0\")\n",
    "    sample(wheel,size=3,replace=TRUE,prob=c(0.03,0.03,0.06,0.1,0.25,0.01,0.52))\n",
    "}"
   ]
  },
  {
   "cell_type": "markdown",
   "metadata": {},
   "source": [
    "### while"
   ]
  },
  {
   "cell_type": "code",
   "execution_count": 48,
   "metadata": {},
   "outputs": [],
   "source": [
    "plays_till_broke <- function(start_with){\n",
    "    cash <- start_with\n",
    "    n <- 0\n",
    "    while(cash>0){\n",
    "        cash <- cash -1 +play()\n",
    "        n <- n+1\n",
    "    }\n",
    "    n\n",
    "    print(n)\n",
    "}"
   ]
  },
  {
   "cell_type": "code",
   "execution_count": 49,
   "metadata": {},
   "outputs": [
    {
     "name": "stdout",
     "output_type": "stream",
     "text": [
      "[1] \"0\" \"0\" \"B\"\n",
      "[1] \"0\" \"0\" \"B\"\n",
      "[1] \"0\" \"B\" \"0\"\n",
      "[1] \"B\" \"B\" \"B\"\n",
      "[1] \"0\"   \"0\"   \"BBB\"\n",
      "[1] \"0\"  \"0\"  \"BB\"\n",
      "[1] \"0\"   \"BBB\" \"0\"  \n",
      "[1] \"B\" \"0\" \"0\"\n",
      "[1] \"BBB\" \"B\"   \"0\"  \n",
      "[1] \"B\" \"0\" \"0\"\n",
      "[1] \"0\"  \"DD\" \"0\" \n",
      "[1] \"0\"  \"B\"  \"BB\"\n",
      "[1] \"B\"  \"BB\" \"0\" \n",
      "[1] \"0\"  \"DD\" \"0\" \n",
      "[1] \"BBB\" \"B\"   \"0\"  \n",
      "[1] \"C\" \"0\" \"0\"\n",
      "[1] \"B\" \"0\" \"B\"\n",
      "[1] \"B\" \"0\" \"0\"\n",
      "[1] \"BBB\" \"7\"   \"B\"  \n",
      "[1] \"0\" \"0\" \"0\"\n",
      "[1] \"0\" \"0\" \"0\"\n",
      "[1] \"0\" \"B\" \"0\"\n",
      "[1] \"0\"   \"B\"   \"BBB\"\n",
      "[1] \"0\" \"0\" \"0\"\n",
      "[1] \"0\"  \"BB\" \"0\" \n",
      "[1] \"0\"  \"0\"  \"DD\"\n",
      "[1] \"0\"  \"BB\" \"DD\"\n",
      "[1] \"0\" \"C\" \"0\"\n",
      "[1] \"BB\" \"0\"  \"BB\"\n",
      "[1] \"0\" \"0\" \"0\"\n",
      "[1] \"B\"  \"0\"  \"DD\"\n",
      "[1] \"0\" \"0\" \"B\"\n",
      "[1] \"0\" \"0\" \"0\"\n",
      "[1] \"C\" \"0\" \"0\"\n",
      "[1] \"0\" \"0\" \"0\"\n",
      "[1] \"0\" \"0\" \"B\"\n",
      "[1] \"7\"  \"BB\" \"7\" \n",
      "[1] \"0\" \"0\" \"0\"\n",
      "[1] \"0\" \"7\" \"0\"\n",
      "[1] \"0\"  \"DD\" \"BB\"\n",
      "[1] \"B\" \"0\" \"0\"\n",
      "[1] \"DD\" \"0\"  \"B\" \n",
      "[1] \"BBB\" \"BBB\" \"B\"  \n",
      "[1] \"0\" \"0\" \"0\"\n",
      "[1] \"B\"   \"0\"   \"BBB\"\n",
      "[1] \"0\"  \"BB\" \"0\" \n",
      "[1] \"B\"   \"BBB\" \"B\"  \n",
      "[1] \"BBB\" \"0\"   \"0\"  \n",
      "[1] \"0\" \"B\" \"B\"\n",
      "[1] \"DD\" \"0\"  \"0\" \n",
      "[1] \"0\"  \"B\"  \"BB\"\n",
      "[1] \"0\"  \"B\"  \"BB\"\n",
      "[1] \"BBB\" \"B\"   \"BBB\"\n",
      "[1] \"0\" \"0\" \"0\"\n",
      "[1] \"0\" \"0\" \"B\"\n",
      "[1] \"0\" \"B\" \"B\"\n",
      "[1] \"0\" \"0\" \"0\"\n",
      "[1] \"0\"   \"BBB\" \"0\"  \n",
      "[1] \"B\" \"0\" \"0\"\n",
      "[1] \"0\"  \"0\"  \"BB\"\n",
      "[1] \"B\" \"B\" \"0\"\n",
      "[1] \"B\"  \"BB\" \"0\" \n",
      "[1] \"0\" \"B\" \"B\"\n",
      "[1] \"0\" \"0\" \"0\"\n",
      "[1] \"BB\" \"0\"  \"0\" \n",
      "[1] \"0\" \"0\" \"0\"\n",
      "[1] \"B\" \"0\" \"0\"\n",
      "[1] \"0\" \"0\" \"0\"\n",
      "[1] \"B\" \"0\" \"0\"\n",
      "[1] \"0\" \"0\" \"B\"\n",
      "[1] \"0\" \"0\" \"0\"\n",
      "[1] \"0\"  \"BB\" \"0\" \n",
      "[1] \"B\"   \"BBB\" \"B\"  \n",
      "[1] \"DD\" \"0\"  \"0\" \n",
      "[1] \"0\"  \"BB\" \"0\" \n",
      "[1] \"0\" \"0\" \"B\"\n",
      "[1] \"DD\" \"0\"  \"0\" \n",
      "[1] \"B\"  \"0\"  \"DD\"\n",
      "[1] \"0\"  \"0\"  \"BB\"\n",
      "[1] \"BB\" \"0\"  \"0\" \n",
      "[1] \"0\" \"0\" \"0\"\n",
      "[1] \"BB\" \"0\"  \"BB\"\n",
      "[1] \"BB\" \"B\"  \"0\" \n",
      "[1] \"0\"   \"B\"   \"BBB\"\n",
      "[1] \"0\" \"0\" \"0\"\n",
      "[1] \"0\"   \"BBB\" \"B\"  \n",
      "[1] \"B\"  \"BB\" \"BB\"\n",
      "[1] \"B\" \"0\" \"0\"\n",
      "[1] \"B\" \"0\" \"0\"\n",
      "[1] \"BB\" \"B\"  \"B\" \n",
      "[1] \"0\"   \"BBB\" \"0\"  \n",
      "[1] \"B\"   \"BBB\" \"0\"  \n",
      "[1] \"B\"   \"BBB\" \"0\"  \n",
      "[1] \"0\"  \"BB\" \"BB\"\n",
      "[1] \"B\"  \"BB\" \"0\" \n",
      "[1] \"B\"  \"DD\" \"B\" \n",
      "[1] \"0\" \"0\" \"0\"\n",
      "[1] \"B\"  \"BB\" \"0\" \n",
      "[1] \"B\"  \"0\"  \"BB\"\n",
      "[1] \"0\"  \"BB\" \"DD\"\n",
      "[1] \"BBB\" \"0\"   \"0\"  \n",
      "[1] \"0\"   \"0\"   \"BBB\"\n",
      "[1] \"0\"  \"DD\" \"0\" \n",
      "[1] \"BB\" \"0\"  \"0\" \n",
      "[1] \"0\" \"0\" \"0\"\n",
      "[1] \"B\"  \"BB\" \"0\" \n",
      "[1] \"B\" \"0\" \"0\"\n",
      "[1] \"0\" \"0\" \"0\"\n",
      "[1] \"0\"  \"DD\" \"B\" \n",
      "[1] \"0\"   \"BBB\" \"C\"  \n",
      "[1] \"0\"  \"7\"  \"BB\"\n",
      "[1] \"DD\" \"B\"  \"B\" \n",
      "[1] \"B\"  \"0\"  \"BB\"\n",
      "[1] \"0\" \"0\" \"0\"\n",
      "[1] \"B\" \"B\" \"B\"\n",
      "[1] \"0\" \"B\" \"0\"\n",
      "[1] \"B\" \"B\" \"0\"\n",
      "[1] \"B\" \"0\" \"0\"\n",
      "[1] \"0\"   \"BBB\" \"BBB\"\n",
      "[1] \"B\" \"0\" \"0\"\n",
      "[1] \"BBB\" \"C\"   \"B\"  \n",
      "[1] \"0\" \"B\" \"B\"\n",
      "[1] \"BB\"  \"0\"   \"BBB\"\n",
      "[1] \"B\" \"0\" \"0\"\n",
      "[1] \"B\" \"B\" \"0\"\n",
      "[1] \"BB\" \"0\"  \"DD\"\n",
      "[1] \"BB\"  \"0\"   \"BBB\"\n",
      "[1] \"DD\" \"0\"  \"0\" \n",
      "[1] \"0\" \"0\" \"B\"\n",
      "[1] \"0\" \"0\" \"0\"\n",
      "[1] \"0\" \"0\" \"0\"\n",
      "[1] \"0\" \"B\" \"0\"\n",
      "[1] \"BB\" \"0\"  \"0\" \n",
      "[1] \"C\" \"0\" \"0\"\n",
      "[1] \"BBB\" \"0\"   \"DD\" \n",
      "[1] \"BB\" \"B\"  \"0\" \n",
      "[1] \"0\" \"0\" \"B\"\n",
      "[1] \"0\" \"B\" \"B\"\n",
      "[1] \"B\" \"B\" \"B\"\n",
      "[1] \"0\"  \"BB\" \"0\" \n",
      "[1] \"B\" \"0\" \"B\"\n",
      "[1] \"0\" \"0\" \"0\"\n",
      "[1] \"BB\" \"0\"  \"0\" \n",
      "[1] \"0\" \"B\" \"B\"\n",
      "[1] \"BBB\" \"0\"   \"B\"  \n",
      "[1] \"0\" \"0\" \"0\"\n",
      "[1] \"0\"  \"BB\" \"0\" \n",
      "[1] \"0\" \"0\" \"0\"\n",
      "[1] \"B\"  \"0\"  \"BB\"\n",
      "[1] \"0\" \"0\" \"0\"\n",
      "[1] \"B\" \"0\" \"0\"\n",
      "[1] \"B\"  \"B\"  \"BB\"\n",
      "[1] \"B\" \"0\" \"0\"\n",
      "[1] \"B\" \"B\" \"B\"\n",
      "[1] \"0\"  \"DD\" \"0\" \n",
      "[1] \"B\"  \"BB\" \"0\" \n",
      "[1] \"DD\" \"0\"  \"B\" \n",
      "[1] \"B\"   \"0\"   \"BBB\"\n",
      "[1] \"BBB\" \"BB\"  \"0\"  \n",
      "[1] \"0\"  \"0\"  \"BB\"\n",
      "[1] \"B\" \"0\" \"0\"\n",
      "[1] \"BB\" \"BB\" \"0\" \n",
      "[1] \"0\" \"0\" \"0\"\n",
      "[1] \"B\" \"0\" \"0\"\n",
      "[1] \"0\"  \"B\"  \"BB\"\n",
      "[1] \"0\" \"0\" \"0\"\n",
      "[1] \"B\" \"0\" \"0\"\n",
      "[1] \"B\"   \"BBB\" \"0\"  \n",
      "[1] \"0\" \"C\" \"0\"\n",
      "[1] \"0\" \"0\" \"B\"\n",
      "[1] \"0\" \"0\" \"0\"\n",
      "[1] \"0\" \"7\" \"0\"\n",
      "[1] \"0\" \"B\" \"0\"\n",
      "[1] \"B\" \"B\" \"0\"\n",
      "[1] \"0\" \"0\" \"7\"\n",
      "[1] \"0\" \"0\" \"7\"\n",
      "[1] \"B\" \"0\" \"0\"\n",
      "[1] \"0\"  \"BB\" \"0\" \n",
      "[1] \"7\" \"0\" \"B\"\n",
      "[1] \"BBB\" \"BB\"  \"B\"  \n",
      "[1] \"B\"   \"C\"   \"BBB\"\n",
      "[1] \"0\" \"0\" \"B\"\n",
      "[1] \"BB\" \"BB\" \"0\" \n",
      "[1] \"BBB\" \"0\"   \"0\"  \n",
      "[1] \"B\"   \"B\"   \"BBB\"\n",
      "[1] \"0\"   \"BBB\" \"0\"  \n",
      "[1] \"0\" \"0\" \"0\"\n",
      "[1] \"0\" \"0\" \"0\"\n",
      "[1] \"0\" \"B\" \"0\"\n",
      "[1] \"0\" \"0\" \"0\"\n",
      "[1] \"0\"  \"BB\" \"BB\"\n",
      "[1] \"0\" \"0\" \"0\"\n",
      "[1] \"B\"   \"0\"   \"BBB\"\n",
      "[1] \"7\" \"B\" \"B\"\n",
      "[1] \"0\" \"B\" \"0\"\n",
      "[1] \"0\"  \"DD\" \"0\" \n",
      "[1] \"7\"   \"BB\"  \"BBB\"\n",
      "[1] \"0\"  \"BB\" \"0\" \n",
      "[1] \"BBB\" \"DD\"  \"B\"  \n",
      "[1] \"B\" \"B\" \"0\"\n",
      "[1] \"0\"   \"0\"   \"BBB\"\n",
      "[1] 201\n"
     ]
    }
   ],
   "source": [
    "plays_till_broke(100)"
   ]
  },
  {
   "cell_type": "code",
   "execution_count": null,
   "metadata": {},
   "outputs": [],
   "source": []
  },
  {
   "cell_type": "code",
   "execution_count": null,
   "metadata": {},
   "outputs": [],
   "source": []
  }
 ],
 "metadata": {
  "kernelspec": {
   "display_name": "R",
   "language": "R",
   "name": "ir"
  },
  "language_info": {
   "codemirror_mode": "r",
   "file_extension": ".r",
   "mimetype": "text/x-r-source",
   "name": "R",
   "pygments_lexer": "r",
   "version": "3.2.3"
  }
 },
 "nbformat": 4,
 "nbformat_minor": 2
}
