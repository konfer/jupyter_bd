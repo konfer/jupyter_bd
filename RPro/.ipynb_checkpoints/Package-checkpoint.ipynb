{
 "cells": [
  {
   "cell_type": "code",
   "execution_count": 1,
   "metadata": {},
   "outputs": [],
   "source": [
    "library(\"ggplot2\")"
   ]
  },
  {
   "cell_type": "code",
   "execution_count": 2,
   "metadata": {},
   "outputs": [],
   "source": [
    "x <- c(-1, -0.8, -0.6, -0.4, -0.2, 0, 0.2, 0.4, 0.6, 0.8, 1)"
   ]
  },
  {
   "cell_type": "code",
   "execution_count": 3,
   "metadata": {},
   "outputs": [
    {
     "data": {
      "text/html": [
       "<ol class=list-inline>\n",
       "\t<li>-1</li>\n",
       "\t<li>-0.8</li>\n",
       "\t<li>-0.6</li>\n",
       "\t<li>-0.4</li>\n",
       "\t<li>-0.2</li>\n",
       "\t<li>0</li>\n",
       "\t<li>0.2</li>\n",
       "\t<li>0.4</li>\n",
       "\t<li>0.6</li>\n",
       "\t<li>0.8</li>\n",
       "\t<li>1</li>\n",
       "</ol>\n"
      ],
      "text/latex": [
       "\\begin{enumerate*}\n",
       "\\item -1\n",
       "\\item -0.8\n",
       "\\item -0.6\n",
       "\\item -0.4\n",
       "\\item -0.2\n",
       "\\item 0\n",
       "\\item 0.2\n",
       "\\item 0.4\n",
       "\\item 0.6\n",
       "\\item 0.8\n",
       "\\item 1\n",
       "\\end{enumerate*}\n"
      ],
      "text/markdown": [
       "1. -1\n",
       "2. -0.8\n",
       "3. -0.6\n",
       "4. -0.4\n",
       "5. -0.2\n",
       "6. 0\n",
       "7. 0.2\n",
       "8. 0.4\n",
       "9. 0.6\n",
       "10. 0.8\n",
       "11. 1\n",
       "\n",
       "\n"
      ],
      "text/plain": [
       " [1] -1.0 -0.8 -0.6 -0.4 -0.2  0.0  0.2  0.4  0.6  0.8  1.0"
      ]
     },
     "metadata": {},
     "output_type": "display_data"
    }
   ],
   "source": [
    "x"
   ]
  },
  {
   "cell_type": "code",
   "execution_count": 4,
   "metadata": {},
   "outputs": [],
   "source": [
    "y <- x^3"
   ]
  },
  {
   "cell_type": "code",
   "execution_count": 5,
   "metadata": {},
   "outputs": [
    {
     "data": {
      "text/html": [
       "<ol class=list-inline>\n",
       "\t<li>-1</li>\n",
       "\t<li>-0.512</li>\n",
       "\t<li>-0.216</li>\n",
       "\t<li>-0.064</li>\n",
       "\t<li>-0.008</li>\n",
       "\t<li>0</li>\n",
       "\t<li>0.008</li>\n",
       "\t<li>0.064</li>\n",
       "\t<li>0.216</li>\n",
       "\t<li>0.512</li>\n",
       "\t<li>1</li>\n",
       "</ol>\n"
      ],
      "text/latex": [
       "\\begin{enumerate*}\n",
       "\\item -1\n",
       "\\item -0.512\n",
       "\\item -0.216\n",
       "\\item -0.064\n",
       "\\item -0.008\n",
       "\\item 0\n",
       "\\item 0.008\n",
       "\\item 0.064\n",
       "\\item 0.216\n",
       "\\item 0.512\n",
       "\\item 1\n",
       "\\end{enumerate*}\n"
      ],
      "text/markdown": [
       "1. -1\n",
       "2. -0.512\n",
       "3. -0.216\n",
       "4. -0.064\n",
       "5. -0.008\n",
       "6. 0\n",
       "7. 0.008\n",
       "8. 0.064\n",
       "9. 0.216\n",
       "10. 0.512\n",
       "11. 1\n",
       "\n",
       "\n"
      ],
      "text/plain": [
       " [1] -1.000 -0.512 -0.216 -0.064 -0.008  0.000  0.008  0.064  0.216  0.512\n",
       "[11]  1.000"
      ]
     },
     "metadata": {},
     "output_type": "display_data"
    }
   ],
   "source": [
    "y"
   ]
  },
  {
   "cell_type": "code",
   "execution_count": 6,
   "metadata": {},
   "outputs": [
    {
     "data": {},
     "metadata": {},
     "output_type": "display_data"
    },
    {
     "data": {
      "image/png": "[encoded data removed]",
      "text/plain": [
       "plot without title"
      ]
     },
     "metadata": {},
     "output_type": "display_data"
    }
   ],
   "source": [
    "qplot(x,y)"
   ]
  },
  {
   "cell_type": "code",
   "execution_count": 7,
   "metadata": {
    "scrolled": true
   },
   "outputs": [
    {
     "data": {
      "text/html": [
       "<pre class=language-r><code>function (x, y = NULL, ..., data, facets = NULL, margins = FALSE, \n",
       "<span style=white-space:pre-wrap>    geom = \"auto\", xlim = c(NA, NA), ylim = c(NA, NA), log = \"\", </span>\n",
       "<span style=white-space:pre-wrap>    main = NULL, xlab = deparse(substitute(x)), ylab = deparse(substitute(y)), </span>\n",
       "<span style=white-space:pre-wrap>    asp = NA, stat = NULL, position = NULL) </span>\n",
       "{\n",
       "<span style=white-space:pre-wrap>    if (!missing(stat)) </span>\n",
       "<span style=white-space:pre-wrap>        warning(\"`stat` is deprecated\", call. = FALSE)</span>\n",
       "<span style=white-space:pre-wrap>    if (!missing(position)) </span>\n",
       "<span style=white-space:pre-wrap>        warning(\"`position` is deprecated\", call. = FALSE)</span>\n",
       "<span style=white-space:pre-wrap>    if (!is.character(geom)) </span>\n",
       "<span style=white-space:pre-wrap>        stop(\"`geom` must be a character vector\", call. = FALSE)</span>\n",
       "<span style=white-space:pre-wrap>    argnames &lt;- names(as.list(match.call(expand.dots = FALSE)[-1]))</span>\n",
       "<span style=white-space:pre-wrap>    arguments &lt;- as.list(match.call()[-1])</span>\n",
       "<span style=white-space:pre-wrap>    env &lt;- parent.frame()</span>\n",
       "<span style=white-space:pre-wrap>    aesthetics &lt;- compact(arguments[.all_aesthetics])</span>\n",
       "<span style=white-space:pre-wrap>    aesthetics &lt;- aesthetics[!is.constant(aesthetics)]</span>\n",
       "<span style=white-space:pre-wrap>    aes_names &lt;- names(aesthetics)</span>\n",
       "<span style=white-space:pre-wrap>    aesthetics &lt;- rename_aes(aesthetics)</span>\n",
       "<span style=white-space:pre-wrap>    class(aesthetics) &lt;- \"uneval\"</span>\n",
       "<span style=white-space:pre-wrap>    if (missing(data)) {</span>\n",
       "<span style=white-space:pre-wrap>        data &lt;- data.frame()</span>\n",
       "<span style=white-space:pre-wrap>        facetvars &lt;- all.vars(facets)</span>\n",
       "<span style=white-space:pre-wrap>        facetvars &lt;- facetvars[facetvars != \".\"]</span>\n",
       "<span style=white-space:pre-wrap>        names(facetvars) &lt;- facetvars</span>\n",
       "<span style=white-space:pre-wrap>        facetsdf &lt;- as.data.frame(mget(facetvars, envir = env))</span>\n",
       "<span style=white-space:pre-wrap>        if (nrow(facetsdf)) </span>\n",
       "<span style=white-space:pre-wrap>            data &lt;- facetsdf</span>\n",
       "<span style=white-space:pre-wrap>    }</span>\n",
       "<span style=white-space:pre-wrap>    if (\"auto\" %in% geom) {</span>\n",
       "<span style=white-space:pre-wrap>        if (\"sample\" %in% aes_names) {</span>\n",
       "<span style=white-space:pre-wrap>            geom[geom == \"auto\"] &lt;- \"qq\"</span>\n",
       "<span style=white-space:pre-wrap>        }</span>\n",
       "<span style=white-space:pre-wrap>        else if (missing(y)) {</span>\n",
       "<span style=white-space:pre-wrap>            x &lt;- eval(aesthetics$x, data, env)</span>\n",
       "<span style=white-space:pre-wrap>            if (is.discrete(x)) {</span>\n",
       "<span style=white-space:pre-wrap>                geom[geom == \"auto\"] &lt;- \"bar\"</span>\n",
       "<span style=white-space:pre-wrap>            }</span>\n",
       "<span style=white-space:pre-wrap>            else {</span>\n",
       "<span style=white-space:pre-wrap>                geom[geom == \"auto\"] &lt;- \"histogram\"</span>\n",
       "<span style=white-space:pre-wrap>            }</span>\n",
       "<span style=white-space:pre-wrap>            if (missing(ylab)) </span>\n",
       "<span style=white-space:pre-wrap>                ylab &lt;- \"count\"</span>\n",
       "<span style=white-space:pre-wrap>        }</span>\n",
       "<span style=white-space:pre-wrap>        else {</span>\n",
       "<span style=white-space:pre-wrap>            if (missing(x)) {</span>\n",
       "<span style=white-space:pre-wrap>                aesthetics$x &lt;- bquote(seq_along(.(y)), aesthetics)</span>\n",
       "<span style=white-space:pre-wrap>            }</span>\n",
       "<span style=white-space:pre-wrap>            geom[geom == \"auto\"] &lt;- \"point\"</span>\n",
       "<span style=white-space:pre-wrap>        }</span>\n",
       "<span style=white-space:pre-wrap>    }</span>\n",
       "<span style=white-space:pre-wrap>    p &lt;- ggplot(data, aesthetics, environment = env)</span>\n",
       "<span style=white-space:pre-wrap>    if (is.null(facets)) {</span>\n",
       "<span style=white-space:pre-wrap>        p &lt;- p + facet_null()</span>\n",
       "<span style=white-space:pre-wrap>    }</span>\n",
       "<span style=white-space:pre-wrap>    else if (is.formula(facets) &amp;&amp; length(facets) == 2) {</span>\n",
       "<span style=white-space:pre-wrap>        p &lt;- p + facet_wrap(facets)</span>\n",
       "<span style=white-space:pre-wrap>    }</span>\n",
       "<span style=white-space:pre-wrap>    else {</span>\n",
       "<span style=white-space:pre-wrap>        p &lt;- p + facet_grid(facets = deparse(facets), margins = margins)</span>\n",
       "<span style=white-space:pre-wrap>    }</span>\n",
       "<span style=white-space:pre-wrap>    if (!is.null(main)) </span>\n",
       "<span style=white-space:pre-wrap>        p &lt;- p + ggtitle(main)</span>\n",
       "<span style=white-space:pre-wrap>    for (g in geom) {</span>\n",
       "<span style=white-space:pre-wrap>        params &lt;- arguments[setdiff(names(arguments), c(aes_names, </span>\n",
       "<span style=white-space:pre-wrap>            argnames))]</span>\n",
       "<span style=white-space:pre-wrap>        params &lt;- lapply(params, eval, parent.frame())</span>\n",
       "<span style=white-space:pre-wrap>        p &lt;- p + do.call(paste0(\"geom_\", g), params)</span>\n",
       "<span style=white-space:pre-wrap>    }</span>\n",
       "<span style=white-space:pre-wrap>    logv &lt;- function(var) var %in% strsplit(log, \"\")[[1]]</span>\n",
       "<span style=white-space:pre-wrap>    if (logv(\"x\")) </span>\n",
       "<span style=white-space:pre-wrap>        p &lt;- p + scale_x_log10()</span>\n",
       "<span style=white-space:pre-wrap>    if (logv(\"y\")) </span>\n",
       "<span style=white-space:pre-wrap>        p &lt;- p + scale_y_log10()</span>\n",
       "<span style=white-space:pre-wrap>    if (!is.na(asp)) </span>\n",
       "<span style=white-space:pre-wrap>        p &lt;- p + theme(aspect.ratio = asp)</span>\n",
       "<span style=white-space:pre-wrap>    if (!missing(xlab)) </span>\n",
       "<span style=white-space:pre-wrap>        p &lt;- p + xlab(xlab)</span>\n",
       "<span style=white-space:pre-wrap>    if (!missing(ylab)) </span>\n",
       "<span style=white-space:pre-wrap>        p &lt;- p + ylab(ylab)</span>\n",
       "<span style=white-space:pre-wrap>    if (!missing(xlim)) </span>\n",
       "<span style=white-space:pre-wrap>        p &lt;- p + xlim(xlim)</span>\n",
       "<span style=white-space:pre-wrap>    if (!missing(ylim)) </span>\n",
       "<span style=white-space:pre-wrap>        p &lt;- p + ylim(ylim)</span>\n",
       "<span style=white-space:pre-wrap>    p</span>\n",
       "}</code></pre>"
      ],
      "text/latex": [
       "\\begin{minted}{r}\n",
       "function (x, y = NULL, ..., data, facets = NULL, margins = FALSE, \n",
       "    geom = \"auto\", xlim = c(NA, NA), ylim = c(NA, NA), log = \"\", \n",
       "    main = NULL, xlab = deparse(substitute(x)), ylab = deparse(substitute(y)), \n",
       "    asp = NA, stat = NULL, position = NULL) \n",
       "\\{\n",
       "    if (!missing(stat)) \n",
       "        warning(\"`stat` is deprecated\", call. = FALSE)\n",
       "    if (!missing(position)) \n",
       "        warning(\"`position` is deprecated\", call. = FALSE)\n",
       "    if (!is.character(geom)) \n",
       "        stop(\"`geom` must be a character vector\", call. = FALSE)\n",
       "    argnames <- names(as.list(match.call(expand.dots = FALSE){[}-1{]}))\n",
       "    arguments <- as.list(match.call(){[}-1{]})\n",
       "    env <- parent.frame()\n",
       "    aesthetics <- compact(arguments{[}.all\\_aesthetics{]})\n",
       "    aesthetics <- aesthetics{[}!is.constant(aesthetics){]}\n",
       "    aes\\_names <- names(aesthetics)\n",
       "    aesthetics <- rename\\_aes(aesthetics)\n",
       "    class(aesthetics) <- \"uneval\"\n",
       "    if (missing(data)) \\{\n",
       "        data <- data.frame()\n",
       "        facetvars <- all.vars(facets)\n",
       "        facetvars <- facetvars{[}facetvars != \".\"{]}\n",
       "        names(facetvars) <- facetvars\n",
       "        facetsdf <- as.data.frame(mget(facetvars, envir = env))\n",
       "        if (nrow(facetsdf)) \n",
       "            data <- facetsdf\n",
       "    \\}\n",
       "    if (\"auto\" \\%in\\% geom) \\{\n",
       "        if (\"sample\" \\%in\\% aes\\_names) \\{\n",
       "            geom{[}geom == \"auto\"{]} <- \"qq\"\n",
       "        \\}\n",
       "        else if (missing(y)) \\{\n",
       "            x <- eval(aesthetics\\$x, data, env)\n",
       "            if (is.discrete(x)) \\{\n",
       "                geom{[}geom == \"auto\"{]} <- \"bar\"\n",
       "            \\}\n",
       "            else \\{\n",
       "                geom{[}geom == \"auto\"{]} <- \"histogram\"\n",
       "            \\}\n",
       "            if (missing(ylab)) \n",
       "                ylab <- \"count\"\n",
       "        \\}\n",
       "        else \\{\n",
       "            if (missing(x)) \\{\n",
       "                aesthetics\\$x <- bquote(seq\\_along(.(y)), aesthetics)\n",
       "            \\}\n",
       "            geom{[}geom == \"auto\"{]} <- \"point\"\n",
       "        \\}\n",
       "    \\}\n",
       "    p <- ggplot(data, aesthetics, environment = env)\n",
       "    if (is.null(facets)) \\{\n",
       "        p <- p + facet\\_null()\n",
       "    \\}\n",
       "    else if (is.formula(facets) \\&\\& length(facets) == 2) \\{\n",
       "        p <- p + facet\\_wrap(facets)\n",
       "    \\}\n",
       "    else \\{\n",
       "        p <- p + facet\\_grid(facets = deparse(facets), margins = margins)\n",
       "    \\}\n",
       "    if (!is.null(main)) \n",
       "        p <- p + ggtitle(main)\n",
       "    for (g in geom) \\{\n",
       "        params <- arguments{[}setdiff(names(arguments), c(aes\\_names, \n",
       "            argnames)){]}\n",
       "        params <- lapply(params, eval, parent.frame())\n",
       "        p <- p + do.call(paste0(\"geom\\_\", g), params)\n",
       "    \\}\n",
       "    logv <- function(var) var \\%in\\% strsplit(log, \"\"){[}{[}1{]}{]}\n",
       "    if (logv(\"x\")) \n",
       "        p <- p + scale\\_x\\_log10()\n",
       "    if (logv(\"y\")) \n",
       "        p <- p + scale\\_y\\_log10()\n",
       "    if (!is.na(asp)) \n",
       "        p <- p + theme(aspect.ratio = asp)\n",
       "    if (!missing(xlab)) \n",
       "        p <- p + xlab(xlab)\n",
       "    if (!missing(ylab)) \n",
       "        p <- p + ylab(ylab)\n",
       "    if (!missing(xlim)) \n",
       "        p <- p + xlim(xlim)\n",
       "    if (!missing(ylim)) \n",
       "        p <- p + ylim(ylim)\n",
       "    p\n",
       "\\}\n",
       "\\end{minted}"
      ],
      "text/markdown": [
       "```r\n",
       "function (x, y = NULL, ..., data, facets = NULL, margins = FALSE, \n",
       "    geom = \"auto\", xlim = c(NA, NA), ylim = c(NA, NA), log = \"\", \n",
       "    main = NULL, xlab = deparse(substitute(x)), ylab = deparse(substitute(y)), \n",
       "    asp = NA, stat = NULL, position = NULL) \n",
       "{\n",
       "    if (!missing(stat)) \n",
       "        warning(\"`stat` is deprecated\", call. = FALSE)\n",
       "    if (!missing(position)) \n",
       "        warning(\"`position` is deprecated\", call. = FALSE)\n",
       "    if (!is.character(geom)) \n",
       "        stop(\"`geom` must be a character vector\", call. = FALSE)\n",
       "    argnames <- names(as.list(match.call(expand.dots = FALSE)[-1]))\n",
       "    arguments <- as.list(match.call()[-1])\n",
       "    env <- parent.frame()\n",
       "    aesthetics <- compact(arguments[.all_aesthetics])\n",
       "    aesthetics <- aesthetics[!is.constant(aesthetics)]\n",
       "    aes_names <- names(aesthetics)\n",
       "    aesthetics <- rename_aes(aesthetics)\n",
       "    class(aesthetics) <- \"uneval\"\n",
       "    if (missing(data)) {\n",
       "        data <- data.frame()\n",
       "        facetvars <- all.vars(facets)\n",
       "        facetvars <- facetvars[facetvars != \".\"]\n",
       "        names(facetvars) <- facetvars\n",
       "        facetsdf <- as.data.frame(mget(facetvars, envir = env))\n",
       "        if (nrow(facetsdf)) \n",
       "            data <- facetsdf\n",
       "    }\n",
       "    if (\"auto\" %in% geom) {\n",
       "        if (\"sample\" %in% aes_names) {\n",
       "            geom[geom == \"auto\"] <- \"qq\"\n",
       "        }\n",
       "        else if (missing(y)) {\n",
       "            x <- eval(aesthetics$x, data, env)\n",
       "            if (is.discrete(x)) {\n",
       "                geom[geom == \"auto\"] <- \"bar\"\n",
       "            }\n",
       "            else {\n",
       "                geom[geom == \"auto\"] <- \"histogram\"\n",
       "            }\n",
       "            if (missing(ylab)) \n",
       "                ylab <- \"count\"\n",
       "        }\n",
       "        else {\n",
       "            if (missing(x)) {\n",
       "                aesthetics$x <- bquote(seq_along(.(y)), aesthetics)\n",
       "            }\n",
       "            geom[geom == \"auto\"] <- \"point\"\n",
       "        }\n",
       "    }\n",
       "    p <- ggplot(data, aesthetics, environment = env)\n",
       "    if (is.null(facets)) {\n",
       "        p <- p + facet_null()\n",
       "    }\n",
       "    else if (is.formula(facets) && length(facets) == 2) {\n",
       "        p <- p + facet_wrap(facets)\n",
       "    }\n",
       "    else {\n",
       "        p <- p + facet_grid(facets = deparse(facets), margins = margins)\n",
       "    }\n",
       "    if (!is.null(main)) \n",
       "        p <- p + ggtitle(main)\n",
       "    for (g in geom) {\n",
       "        params <- arguments[setdiff(names(arguments), c(aes_names, \n",
       "            argnames))]\n",
       "        params <- lapply(params, eval, parent.frame())\n",
       "        p <- p + do.call(paste0(\"geom_\", g), params)\n",
       "    }\n",
       "    logv <- function(var) var %in% strsplit(log, \"\")[[1]]\n",
       "    if (logv(\"x\")) \n",
       "        p <- p + scale_x_log10()\n",
       "    if (logv(\"y\")) \n",
       "        p <- p + scale_y_log10()\n",
       "    if (!is.na(asp)) \n",
       "        p <- p + theme(aspect.ratio = asp)\n",
       "    if (!missing(xlab)) \n",
       "        p <- p + xlab(xlab)\n",
       "    if (!missing(ylab)) \n",
       "        p <- p + ylab(ylab)\n",
       "    if (!missing(xlim)) \n",
       "        p <- p + xlim(xlim)\n",
       "    if (!missing(ylim)) \n",
       "        p <- p + ylim(ylim)\n",
       "    p\n",
       "}\n",
       "```"
      ],
      "text/plain": [
       "function (x, y = NULL, ..., data, facets = NULL, margins = FALSE, \n",
       "    geom = \"auto\", xlim = c(NA, NA), ylim = c(NA, NA), log = \"\", \n",
       "    main = NULL, xlab = deparse(substitute(x)), ylab = deparse(substitute(y)), \n",
       "    asp = NA, stat = NULL, position = NULL) \n",
       "{\n",
       "    if (!missing(stat)) \n",
       "        warning(\"`stat` is deprecated\", call. = FALSE)\n",
       "    if (!missing(position)) \n",
       "        warning(\"`position` is deprecated\", call. = FALSE)\n",
       "    if (!is.character(geom)) \n",
       "        stop(\"`geom` must be a character vector\", call. = FALSE)\n",
       "    argnames <- names(as.list(match.call(expand.dots = FALSE)[-1]))\n",
       "    arguments <- as.list(match.call()[-1])\n",
       "    env <- parent.frame()\n",
       "    aesthetics <- compact(arguments[.all_aesthetics])\n",
       "    aesthetics <- aesthetics[!is.constant(aesthetics)]\n",
       "    aes_names <- names(aesthetics)\n",
       "    aesthetics <- rename_aes(aesthetics)\n",
       "    class(aesthetics) <- \"uneval\"\n",
       "    if (missing(data)) {\n",
       "        data <- data.frame()\n",
       "        facetvars <- all.vars(facets)\n",
       "        facetvars <- facetvars[facetvars != \".\"]\n",
       "        names(facetvars) <- facetvars\n",
       "        facetsdf <- as.data.frame(mget(facetvars, envir = env))\n",
       "        if (nrow(facetsdf)) \n",
       "            data <- facetsdf\n",
       "    }\n",
       "    if (\"auto\" %in% geom) {\n",
       "        if (\"sample\" %in% aes_names) {\n",
       "            geom[geom == \"auto\"] <- \"qq\"\n",
       "        }\n",
       "        else if (missing(y)) {\n",
       "            x <- eval(aesthetics$x, data, env)\n",
       "            if (is.discrete(x)) {\n",
       "                geom[geom == \"auto\"] <- \"bar\"\n",
       "            }\n",
       "            else {\n",
       "                geom[geom == \"auto\"] <- \"histogram\"\n",
       "            }\n",
       "            if (missing(ylab)) \n",
       "                ylab <- \"count\"\n",
       "        }\n",
       "        else {\n",
       "            if (missing(x)) {\n",
       "                aesthetics$x <- bquote(seq_along(.(y)), aesthetics)\n",
       "            }\n",
       "            geom[geom == \"auto\"] <- \"point\"\n",
       "        }\n",
       "    }\n",
       "    p <- ggplot(data, aesthetics, environment = env)\n",
       "    if (is.null(facets)) {\n",
       "        p <- p + facet_null()\n",
       "    }\n",
       "    else if (is.formula(facets) && length(facets) == 2) {\n",
       "        p <- p + facet_wrap(facets)\n",
       "    }\n",
       "    else {\n",
       "        p <- p + facet_grid(facets = deparse(facets), margins = margins)\n",
       "    }\n",
       "    if (!is.null(main)) \n",
       "        p <- p + ggtitle(main)\n",
       "    for (g in geom) {\n",
       "        params <- arguments[setdiff(names(arguments), c(aes_names, \n",
       "            argnames))]\n",
       "        params <- lapply(params, eval, parent.frame())\n",
       "        p <- p + do.call(paste0(\"geom_\", g), params)\n",
       "    }\n",
       "    logv <- function(var) var %in% strsplit(log, \"\")[[1]]\n",
       "    if (logv(\"x\")) \n",
       "        p <- p + scale_x_log10()\n",
       "    if (logv(\"y\")) \n",
       "        p <- p + scale_y_log10()\n",
       "    if (!is.na(asp)) \n",
       "        p <- p + theme(aspect.ratio = asp)\n",
       "    if (!missing(xlab)) \n",
       "        p <- p + xlab(xlab)\n",
       "    if (!missing(ylab)) \n",
       "        p <- p + ylab(ylab)\n",
       "    if (!missing(xlim)) \n",
       "        p <- p + xlim(xlim)\n",
       "    if (!missing(ylim)) \n",
       "        p <- p + ylim(ylim)\n",
       "    p\n",
       "}\n",
       "<environment: namespace:ggplot2>"
      ]
     },
     "metadata": {},
     "output_type": "display_data"
    }
   ],
   "source": [
    "qplot"
   ]
  },
  {
   "cell_type": "code",
   "execution_count": 8,
   "metadata": {},
   "outputs": [],
   "source": [
    "z <- c(1,2,2,4,2,3,3)"
   ]
  },
  {
   "cell_type": "code",
   "execution_count": 9,
   "metadata": {},
   "outputs": [
    {
     "data": {},
     "metadata": {},
     "output_type": "display_data"
    },
    {
     "data": {
      "image/png": "[encoded data removed]",
      "text/plain": [
       "plot without title"
      ]
     },
     "metadata": {},
     "output_type": "display_data"
    }
   ],
   "source": [
    "qplot(z,binwidth=1)"
   ]
  },
  {
   "cell_type": "code",
   "execution_count": 10,
   "metadata": {},
   "outputs": [],
   "source": [
    "x2 <- c(1,1,1,1,1,2,2,2,3,3,4)"
   ]
  },
  {
   "cell_type": "code",
   "execution_count": 11,
   "metadata": {},
   "outputs": [
    {
     "data": {},
     "metadata": {},
     "output_type": "display_data"
    },
    {
     "data": {
      "image/png": "[encoded data removed]",
      "text/plain": [
       "plot without title"
      ]
     },
     "metadata": {},
     "output_type": "display_data"
    }
   ],
   "source": [
    "qplot(x2,binwidth=1)"
   ]
  },
  {
   "cell_type": "code",
   "execution_count": 12,
   "metadata": {},
   "outputs": [],
   "source": [
    "x3 <- c(0,1,1,2,2,2,3,3,4)"
   ]
  },
  {
   "cell_type": "code",
   "execution_count": 13,
   "metadata": {},
   "outputs": [
    {
     "data": {},
     "metadata": {},
     "output_type": "display_data"
    },
    {
     "data": {
      "image/png": "[encoded data removed]",
      "text/plain": [
       "plot without title"
      ]
     },
     "metadata": {},
     "output_type": "display_data"
    }
   ],
   "source": [
    "qplot(x3,binwidth=1)"
   ]
  },
  {
   "cell_type": "code",
   "execution_count": 15,
   "metadata": {},
   "outputs": [],
   "source": [
    "rollWithDefaultArgs <- function(bones=1:5){\n",
    "    dice <- sample(bones,3,TRUE)\n",
    "    sum(dice)\n",
    "}"
   ]
  },
  {
   "cell_type": "code",
   "execution_count": 18,
   "metadata": {},
   "outputs": [],
   "source": [
    "rolls <- replicate(1000,rollWithDefaultArgs())"
   ]
  },
  {
   "cell_type": "code",
   "execution_count": 19,
   "metadata": {},
   "outputs": [
    {
     "data": {},
     "metadata": {},
     "output_type": "display_data"
    },
    {
     "data": {
      "image/png": "[encoded data removed]",
      "text/plain": [
       "plot without title"
      ]
     },
     "metadata": {},
     "output_type": "display_data"
    }
   ],
   "source": [
    "qplot(rolls,binwidth=1)"
   ]
  },
  {
   "cell_type": "code",
   "execution_count": 20,
   "metadata": {},
   "outputs": [],
   "source": [
    "?sqrt"
   ]
  },
  {
   "cell_type": "code",
   "execution_count": 21,
   "metadata": {},
   "outputs": [
    {
     "data": {},
     "metadata": {},
     "output_type": "display_data"
    }
   ],
   "source": [
    "??lo"
   ]
  },
  {
   "cell_type": "code",
   "execution_count": 22,
   "metadata": {},
   "outputs": [],
   "source": [
    "roll <- function(){\n",
    "    die<-1:6\n",
    "    dice<-sample(die,size=2,TRUE,prob=c(1/8,1/8,1/8,1/8,1/8,3/8))\n",
    "    sum(dice)\n",
    "}"
   ]
  },
  {
   "cell_type": "code",
   "execution_count": 23,
   "metadata": {},
   "outputs": [],
   "source": [
    "probRolls=replicate(1000,roll())"
   ]
  },
  {
   "cell_type": "code",
   "execution_count": 24,
   "metadata": {},
   "outputs": [
    {
     "data": {},
     "metadata": {},
     "output_type": "display_data"
    },
    {
     "data": {
      "image/png": "[encoded data removed]",
      "text/plain": [
       "plot without title"
      ]
     },
     "metadata": {},
     "output_type": "display_data"
    }
   ],
   "source": [
    "qplot(probRolls,binwidth=1)"
   ]
  },
  {
   "cell_type": "code",
   "execution_count": null,
   "metadata": {},
   "outputs": [],
   "source": []
  },
  {
   "cell_type": "code",
   "execution_count": null,
   "metadata": {},
   "outputs": [],
   "source": []
  },
  {
   "cell_type": "code",
   "execution_count": null,
   "metadata": {},
   "outputs": [],
   "source": []
  },
  {
   "cell_type": "code",
   "execution_count": null,
   "metadata": {},
   "outputs": [],
   "source": []
  },
  {
   "cell_type": "code",
   "execution_count": null,
   "metadata": {},
   "outputs": [],
   "source": []
  }
 ],
 "metadata": {
  "kernelspec": {
   "display_name": "R",
   "language": "R",
   "name": "ir"
  },
  "language_info": {
   "codemirror_mode": "r",
   "file_extension": ".r",
   "mimetype": "text/x-r-source",
   "name": "R",
   "pygments_lexer": "r",
   "version": "3.2.3"
  }
 },
 "nbformat": 4,
 "nbformat_minor": 2
}
