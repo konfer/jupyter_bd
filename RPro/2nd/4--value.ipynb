{
 "cells": [
  {
   "cell_type": "code",
   "execution_count": 1,
   "metadata": {},
   "outputs": [],
   "source": [
    "deck <- read.csv(\"/usr/local/codePro/jupyter-bd/RPro/deck.csv\")"
   ]
  },
  {
   "cell_type": "code",
   "execution_count": 2,
   "metadata": {
    "scrolled": true
   },
   "outputs": [
    {
     "data": {
      "text/html": [
       "<table>\n",
       "<caption>A data.frame: 6 × 3</caption>\n",
       "<thead>\n",
       "\t<tr><th scope=col>face</th><th scope=col>suit</th><th scope=col>value</th></tr>\n",
       "\t<tr><th scope=col>&lt;fct&gt;</th><th scope=col>&lt;fct&gt;</th><th scope=col>&lt;int&gt;</th></tr>\n",
       "</thead>\n",
       "<tbody>\n",
       "\t<tr><td>king </td><td>spades</td><td>13</td></tr>\n",
       "\t<tr><td>queen</td><td>spades</td><td>12</td></tr>\n",
       "\t<tr><td>jack </td><td>spades</td><td>11</td></tr>\n",
       "\t<tr><td>ten  </td><td>spades</td><td>10</td></tr>\n",
       "\t<tr><td>nine </td><td>spades</td><td> 9</td></tr>\n",
       "\t<tr><td>eight</td><td>spades</td><td> 8</td></tr>\n",
       "</tbody>\n",
       "</table>\n"
      ],
      "text/latex": [
       "A data.frame: 6 × 3\n",
       "\\begin{tabular}{r|lll}\n",
       " face & suit & value\\\\\n",
       " <fct> & <fct> & <int>\\\\\n",
       "\\hline\n",
       "\t king  & spades & 13\\\\\n",
       "\t queen & spades & 12\\\\\n",
       "\t jack  & spades & 11\\\\\n",
       "\t ten   & spades & 10\\\\\n",
       "\t nine  & spades &  9\\\\\n",
       "\t eight & spades &  8\\\\\n",
       "\\end{tabular}\n"
      ],
      "text/markdown": [
       "\n",
       "A data.frame: 6 × 3\n",
       "\n",
       "| face &lt;fct&gt; | suit &lt;fct&gt; | value &lt;int&gt; |\n",
       "|---|---|---|\n",
       "| king  | spades | 13 |\n",
       "| queen | spades | 12 |\n",
       "| jack  | spades | 11 |\n",
       "| ten   | spades | 10 |\n",
       "| nine  | spades |  9 |\n",
       "| eight | spades |  8 |\n",
       "\n"
      ],
      "text/plain": [
       "  face  suit   value\n",
       "1 king  spades 13   \n",
       "2 queen spades 12   \n",
       "3 jack  spades 11   \n",
       "4 ten   spades 10   \n",
       "5 nine  spades  9   \n",
       "6 eight spades  8   "
      ]
     },
     "metadata": {},
     "output_type": "display_data"
    }
   ],
   "source": [
    "head(deck)"
   ]
  },
  {
   "cell_type": "code",
   "execution_count": 3,
   "metadata": {},
   "outputs": [
    {
     "data": {
      "text/html": [
       "spades\n",
       "<details>\n",
       "\t<summary style=display:list-item;cursor:pointer>\n",
       "\t\t<strong>Levels</strong>:\n",
       "\t</summary>\n",
       "\t<ol class=list-inline>\n",
       "\t\t<li>'clubs'</li>\n",
       "\t\t<li>'diamonds'</li>\n",
       "\t\t<li>'hearts'</li>\n",
       "\t\t<li>'spades'</li>\n",
       "\t</ol>\n",
       "</details>"
      ],
      "text/latex": [
       "spades\n",
       "\\emph{Levels}: \\begin{enumerate*}\n",
       "\\item 'clubs'\n",
       "\\item 'diamonds'\n",
       "\\item 'hearts'\n",
       "\\item 'spades'\n",
       "\\end{enumerate*}\n"
      ],
      "text/markdown": [
       "spades\n",
       "**Levels**: 1. 'clubs'\n",
       "2. 'diamonds'\n",
       "3. 'hearts'\n",
       "4. 'spades'\n",
       "\n",
       "\n"
      ],
      "text/plain": [
       "[1] spades\n",
       "Levels: clubs diamonds hearts spades"
      ]
     },
     "metadata": {},
     "output_type": "display_data"
    }
   ],
   "source": [
    "deck[3,2]"
   ]
  },
  {
   "cell_type": "code",
   "execution_count": 4,
   "metadata": {},
   "outputs": [
    {
     "data": {
      "text/html": [
       "'list'"
      ],
      "text/latex": [
       "'list'"
      ],
      "text/markdown": [
       "'list'"
      ],
      "text/plain": [
       "[1] \"list\""
      ]
     },
     "metadata": {},
     "output_type": "display_data"
    }
   ],
   "source": [
    "typeof(deck)"
   ]
  },
  {
   "cell_type": "code",
   "execution_count": 5,
   "metadata": {},
   "outputs": [
    {
     "data": {
      "text/html": [
       "<table>\n",
       "<caption>A data.frame: 52 × 3</caption>\n",
       "<thead>\n",
       "\t<tr><th scope=col>face</th><th scope=col>suit</th><th scope=col>value</th></tr>\n",
       "\t<tr><th scope=col>&lt;fct&gt;</th><th scope=col>&lt;fct&gt;</th><th scope=col>&lt;int&gt;</th></tr>\n",
       "</thead>\n",
       "<tbody>\n",
       "\t<tr><td>king </td><td>spades  </td><td>13</td></tr>\n",
       "\t<tr><td>queen</td><td>spades  </td><td>12</td></tr>\n",
       "\t<tr><td>jack </td><td>spades  </td><td>11</td></tr>\n",
       "\t<tr><td>ten  </td><td>spades  </td><td>10</td></tr>\n",
       "\t<tr><td>nine </td><td>spades  </td><td> 9</td></tr>\n",
       "\t<tr><td>eight</td><td>spades  </td><td> 8</td></tr>\n",
       "\t<tr><td>seven</td><td>spades  </td><td> 7</td></tr>\n",
       "\t<tr><td>six  </td><td>spades  </td><td> 6</td></tr>\n",
       "\t<tr><td>five </td><td>spades  </td><td> 5</td></tr>\n",
       "\t<tr><td>four </td><td>spades  </td><td> 4</td></tr>\n",
       "\t<tr><td>three</td><td>spades  </td><td> 3</td></tr>\n",
       "\t<tr><td>two  </td><td>spades  </td><td> 2</td></tr>\n",
       "\t<tr><td>ace  </td><td>spades  </td><td> 1</td></tr>\n",
       "\t<tr><td>king </td><td>clubs   </td><td>13</td></tr>\n",
       "\t<tr><td>queen</td><td>clubs   </td><td>12</td></tr>\n",
       "\t<tr><td>jack </td><td>clubs   </td><td>11</td></tr>\n",
       "\t<tr><td>ten  </td><td>clubs   </td><td>10</td></tr>\n",
       "\t<tr><td>nine </td><td>clubs   </td><td> 9</td></tr>\n",
       "\t<tr><td>eight</td><td>clubs   </td><td> 8</td></tr>\n",
       "\t<tr><td>seven</td><td>clubs   </td><td> 7</td></tr>\n",
       "\t<tr><td>six  </td><td>clubs   </td><td> 6</td></tr>\n",
       "\t<tr><td>five </td><td>clubs   </td><td> 5</td></tr>\n",
       "\t<tr><td>four </td><td>clubs   </td><td> 4</td></tr>\n",
       "\t<tr><td>three</td><td>clubs   </td><td> 3</td></tr>\n",
       "\t<tr><td>two  </td><td>clubs   </td><td> 2</td></tr>\n",
       "\t<tr><td>ace  </td><td>clubs   </td><td> 1</td></tr>\n",
       "\t<tr><td>king </td><td>diamonds</td><td>13</td></tr>\n",
       "\t<tr><td>queen</td><td>diamonds</td><td>12</td></tr>\n",
       "\t<tr><td>jack </td><td>diamonds</td><td>11</td></tr>\n",
       "\t<tr><td>ten  </td><td>diamonds</td><td>10</td></tr>\n",
       "\t<tr><td>nine </td><td>diamonds</td><td> 9</td></tr>\n",
       "\t<tr><td>eight</td><td>diamonds</td><td> 8</td></tr>\n",
       "\t<tr><td>seven</td><td>diamonds</td><td> 7</td></tr>\n",
       "\t<tr><td>six  </td><td>diamonds</td><td> 6</td></tr>\n",
       "\t<tr><td>five </td><td>diamonds</td><td> 5</td></tr>\n",
       "\t<tr><td>four </td><td>diamonds</td><td> 4</td></tr>\n",
       "\t<tr><td>three</td><td>diamonds</td><td> 3</td></tr>\n",
       "\t<tr><td>two  </td><td>diamonds</td><td> 2</td></tr>\n",
       "\t<tr><td>ace  </td><td>diamonds</td><td> 1</td></tr>\n",
       "\t<tr><td>king </td><td>hearts  </td><td>13</td></tr>\n",
       "\t<tr><td>queen</td><td>hearts  </td><td>12</td></tr>\n",
       "\t<tr><td>jack </td><td>hearts  </td><td>11</td></tr>\n",
       "\t<tr><td>ten  </td><td>hearts  </td><td>10</td></tr>\n",
       "\t<tr><td>nine </td><td>hearts  </td><td> 9</td></tr>\n",
       "\t<tr><td>eight</td><td>hearts  </td><td> 8</td></tr>\n",
       "\t<tr><td>seven</td><td>hearts  </td><td> 7</td></tr>\n",
       "\t<tr><td>six  </td><td>hearts  </td><td> 6</td></tr>\n",
       "\t<tr><td>five </td><td>hearts  </td><td> 5</td></tr>\n",
       "\t<tr><td>four </td><td>hearts  </td><td> 4</td></tr>\n",
       "\t<tr><td>three</td><td>hearts  </td><td> 3</td></tr>\n",
       "\t<tr><td>two  </td><td>hearts  </td><td> 2</td></tr>\n",
       "\t<tr><td>ace  </td><td>hearts  </td><td> 1</td></tr>\n",
       "</tbody>\n",
       "</table>\n"
      ],
      "text/latex": [
       "A data.frame: 52 × 3\n",
       "\\begin{tabular}{r|lll}\n",
       " face & suit & value\\\\\n",
       " <fct> & <fct> & <int>\\\\\n",
       "\\hline\n",
       "\t king  & spades   & 13\\\\\n",
       "\t queen & spades   & 12\\\\\n",
       "\t jack  & spades   & 11\\\\\n",
       "\t ten   & spades   & 10\\\\\n",
       "\t nine  & spades   &  9\\\\\n",
       "\t eight & spades   &  8\\\\\n",
       "\t seven & spades   &  7\\\\\n",
       "\t six   & spades   &  6\\\\\n",
       "\t five  & spades   &  5\\\\\n",
       "\t four  & spades   &  4\\\\\n",
       "\t three & spades   &  3\\\\\n",
       "\t two   & spades   &  2\\\\\n",
       "\t ace   & spades   &  1\\\\\n",
       "\t king  & clubs    & 13\\\\\n",
       "\t queen & clubs    & 12\\\\\n",
       "\t jack  & clubs    & 11\\\\\n",
       "\t ten   & clubs    & 10\\\\\n",
       "\t nine  & clubs    &  9\\\\\n",
       "\t eight & clubs    &  8\\\\\n",
       "\t seven & clubs    &  7\\\\\n",
       "\t six   & clubs    &  6\\\\\n",
       "\t five  & clubs    &  5\\\\\n",
       "\t four  & clubs    &  4\\\\\n",
       "\t three & clubs    &  3\\\\\n",
       "\t two   & clubs    &  2\\\\\n",
       "\t ace   & clubs    &  1\\\\\n",
       "\t king  & diamonds & 13\\\\\n",
       "\t queen & diamonds & 12\\\\\n",
       "\t jack  & diamonds & 11\\\\\n",
       "\t ten   & diamonds & 10\\\\\n",
       "\t nine  & diamonds &  9\\\\\n",
       "\t eight & diamonds &  8\\\\\n",
       "\t seven & diamonds &  7\\\\\n",
       "\t six   & diamonds &  6\\\\\n",
       "\t five  & diamonds &  5\\\\\n",
       "\t four  & diamonds &  4\\\\\n",
       "\t three & diamonds &  3\\\\\n",
       "\t two   & diamonds &  2\\\\\n",
       "\t ace   & diamonds &  1\\\\\n",
       "\t king  & hearts   & 13\\\\\n",
       "\t queen & hearts   & 12\\\\\n",
       "\t jack  & hearts   & 11\\\\\n",
       "\t ten   & hearts   & 10\\\\\n",
       "\t nine  & hearts   &  9\\\\\n",
       "\t eight & hearts   &  8\\\\\n",
       "\t seven & hearts   &  7\\\\\n",
       "\t six   & hearts   &  6\\\\\n",
       "\t five  & hearts   &  5\\\\\n",
       "\t four  & hearts   &  4\\\\\n",
       "\t three & hearts   &  3\\\\\n",
       "\t two   & hearts   &  2\\\\\n",
       "\t ace   & hearts   &  1\\\\\n",
       "\\end{tabular}\n"
      ],
      "text/markdown": [
       "\n",
       "A data.frame: 52 × 3\n",
       "\n",
       "| face &lt;fct&gt; | suit &lt;fct&gt; | value &lt;int&gt; |\n",
       "|---|---|---|\n",
       "| king  | spades   | 13 |\n",
       "| queen | spades   | 12 |\n",
       "| jack  | spades   | 11 |\n",
       "| ten   | spades   | 10 |\n",
       "| nine  | spades   |  9 |\n",
       "| eight | spades   |  8 |\n",
       "| seven | spades   |  7 |\n",
       "| six   | spades   |  6 |\n",
       "| five  | spades   |  5 |\n",
       "| four  | spades   |  4 |\n",
       "| three | spades   |  3 |\n",
       "| two   | spades   |  2 |\n",
       "| ace   | spades   |  1 |\n",
       "| king  | clubs    | 13 |\n",
       "| queen | clubs    | 12 |\n",
       "| jack  | clubs    | 11 |\n",
       "| ten   | clubs    | 10 |\n",
       "| nine  | clubs    |  9 |\n",
       "| eight | clubs    |  8 |\n",
       "| seven | clubs    |  7 |\n",
       "| six   | clubs    |  6 |\n",
       "| five  | clubs    |  5 |\n",
       "| four  | clubs    |  4 |\n",
       "| three | clubs    |  3 |\n",
       "| two   | clubs    |  2 |\n",
       "| ace   | clubs    |  1 |\n",
       "| king  | diamonds | 13 |\n",
       "| queen | diamonds | 12 |\n",
       "| jack  | diamonds | 11 |\n",
       "| ten   | diamonds | 10 |\n",
       "| nine  | diamonds |  9 |\n",
       "| eight | diamonds |  8 |\n",
       "| seven | diamonds |  7 |\n",
       "| six   | diamonds |  6 |\n",
       "| five  | diamonds |  5 |\n",
       "| four  | diamonds |  4 |\n",
       "| three | diamonds |  3 |\n",
       "| two   | diamonds |  2 |\n",
       "| ace   | diamonds |  1 |\n",
       "| king  | hearts   | 13 |\n",
       "| queen | hearts   | 12 |\n",
       "| jack  | hearts   | 11 |\n",
       "| ten   | hearts   | 10 |\n",
       "| nine  | hearts   |  9 |\n",
       "| eight | hearts   |  8 |\n",
       "| seven | hearts   |  7 |\n",
       "| six   | hearts   |  6 |\n",
       "| five  | hearts   |  5 |\n",
       "| four  | hearts   |  4 |\n",
       "| three | hearts   |  3 |\n",
       "| two   | hearts   |  2 |\n",
       "| ace   | hearts   |  1 |\n",
       "\n"
      ],
      "text/plain": [
       "   face  suit     value\n",
       "1  king  spades   13   \n",
       "2  queen spades   12   \n",
       "3  jack  spades   11   \n",
       "4  ten   spades   10   \n",
       "5  nine  spades    9   \n",
       "6  eight spades    8   \n",
       "7  seven spades    7   \n",
       "8  six   spades    6   \n",
       "9  five  spades    5   \n",
       "10 four  spades    4   \n",
       "11 three spades    3   \n",
       "12 two   spades    2   \n",
       "13 ace   spades    1   \n",
       "14 king  clubs    13   \n",
       "15 queen clubs    12   \n",
       "16 jack  clubs    11   \n",
       "17 ten   clubs    10   \n",
       "18 nine  clubs     9   \n",
       "19 eight clubs     8   \n",
       "20 seven clubs     7   \n",
       "21 six   clubs     6   \n",
       "22 five  clubs     5   \n",
       "23 four  clubs     4   \n",
       "24 three clubs     3   \n",
       "25 two   clubs     2   \n",
       "26 ace   clubs     1   \n",
       "27 king  diamonds 13   \n",
       "28 queen diamonds 12   \n",
       "29 jack  diamonds 11   \n",
       "30 ten   diamonds 10   \n",
       "31 nine  diamonds  9   \n",
       "32 eight diamonds  8   \n",
       "33 seven diamonds  7   \n",
       "34 six   diamonds  6   \n",
       "35 five  diamonds  5   \n",
       "36 four  diamonds  4   \n",
       "37 three diamonds  3   \n",
       "38 two   diamonds  2   \n",
       "39 ace   diamonds  1   \n",
       "40 king  hearts   13   \n",
       "41 queen hearts   12   \n",
       "42 jack  hearts   11   \n",
       "43 ten   hearts   10   \n",
       "44 nine  hearts    9   \n",
       "45 eight hearts    8   \n",
       "46 seven hearts    7   \n",
       "47 six   hearts    6   \n",
       "48 five  hearts    5   \n",
       "49 four  hearts    4   \n",
       "50 three hearts    3   \n",
       "51 two   hearts    2   \n",
       "52 ace   hearts    1   "
      ]
     },
     "metadata": {},
     "output_type": "display_data"
    }
   ],
   "source": [
    "deck"
   ]
  },
  {
   "cell_type": "code",
   "execution_count": 6,
   "metadata": {},
   "outputs": [
    {
     "data": {
      "text/html": [
       "<table>\n",
       "<caption>A data.frame: 1 × 2</caption>\n",
       "<thead>\n",
       "\t<tr><th></th><th scope=col>face</th><th scope=col>value</th></tr>\n",
       "\t<tr><th></th><th scope=col>&lt;fct&gt;</th><th scope=col>&lt;int&gt;</th></tr>\n",
       "</thead>\n",
       "<tbody>\n",
       "\t<tr><th scope=row>2</th><td>queen</td><td>12</td></tr>\n",
       "</tbody>\n",
       "</table>\n"
      ],
      "text/latex": [
       "A data.frame: 1 × 2\n",
       "\\begin{tabular}{r|ll}\n",
       "  & face & value\\\\\n",
       "  & <fct> & <int>\\\\\n",
       "\\hline\n",
       "\t2 & queen & 12\\\\\n",
       "\\end{tabular}\n"
      ],
      "text/markdown": [
       "\n",
       "A data.frame: 1 × 2\n",
       "\n",
       "| <!--/--> | face &lt;fct&gt; | value &lt;int&gt; |\n",
       "|---|---|---|\n",
       "| 2 | queen | 12 |\n",
       "\n"
      ],
      "text/plain": [
       "  face  value\n",
       "2 queen 12   "
      ]
     },
     "metadata": {},
     "output_type": "display_data"
    }
   ],
   "source": [
    "deck[2, c(1,3)]"
   ]
  },
  {
   "cell_type": "code",
   "execution_count": 7,
   "metadata": {},
   "outputs": [
    {
     "data": {
      "text/html": [
       "<table>\n",
       "<caption>A data.frame: 3 × 2</caption>\n",
       "<thead>\n",
       "\t<tr><th></th><th scope=col>face</th><th scope=col>value</th></tr>\n",
       "\t<tr><th></th><th scope=col>&lt;fct&gt;</th><th scope=col>&lt;int&gt;</th></tr>\n",
       "</thead>\n",
       "<tbody>\n",
       "\t<tr><th scope=row>1</th><td>king </td><td>13</td></tr>\n",
       "\t<tr><th scope=row>5</th><td>nine </td><td> 9</td></tr>\n",
       "\t<tr><th scope=row>6</th><td>eight</td><td> 8</td></tr>\n",
       "</tbody>\n",
       "</table>\n"
      ],
      "text/latex": [
       "A data.frame: 3 × 2\n",
       "\\begin{tabular}{r|ll}\n",
       "  & face & value\\\\\n",
       "  & <fct> & <int>\\\\\n",
       "\\hline\n",
       "\t1 & king  & 13\\\\\n",
       "\t5 & nine  &  9\\\\\n",
       "\t6 & eight &  8\\\\\n",
       "\\end{tabular}\n"
      ],
      "text/markdown": [
       "\n",
       "A data.frame: 3 × 2\n",
       "\n",
       "| <!--/--> | face &lt;fct&gt; | value &lt;int&gt; |\n",
       "|---|---|---|\n",
       "| 1 | king  | 13 |\n",
       "| 5 | nine  |  9 |\n",
       "| 6 | eight |  8 |\n",
       "\n"
      ],
      "text/plain": [
       "  face  value\n",
       "1 king  13   \n",
       "5 nine   9   \n",
       "6 eight  8   "
      ]
     },
     "metadata": {},
     "output_type": "display_data"
    }
   ],
   "source": [
    "deck[c(1,5,6), c(1,3)]"
   ]
  },
  {
   "cell_type": "code",
   "execution_count": 8,
   "metadata": {},
   "outputs": [
    {
     "data": {
      "text/html": [
       "<table>\n",
       "<caption>A data.frame: 49 × 2</caption>\n",
       "<thead>\n",
       "\t<tr><th></th><th scope=col>face</th><th scope=col>value</th></tr>\n",
       "\t<tr><th></th><th scope=col>&lt;fct&gt;</th><th scope=col>&lt;int&gt;</th></tr>\n",
       "</thead>\n",
       "<tbody>\n",
       "\t<tr><th scope=row>2</th><td>queen</td><td>12</td></tr>\n",
       "\t<tr><th scope=row>3</th><td>jack </td><td>11</td></tr>\n",
       "\t<tr><th scope=row>4</th><td>ten  </td><td>10</td></tr>\n",
       "\t<tr><th scope=row>7</th><td>seven</td><td> 7</td></tr>\n",
       "\t<tr><th scope=row>8</th><td>six  </td><td> 6</td></tr>\n",
       "\t<tr><th scope=row>9</th><td>five </td><td> 5</td></tr>\n",
       "\t<tr><th scope=row>10</th><td>four </td><td> 4</td></tr>\n",
       "\t<tr><th scope=row>11</th><td>three</td><td> 3</td></tr>\n",
       "\t<tr><th scope=row>12</th><td>two  </td><td> 2</td></tr>\n",
       "\t<tr><th scope=row>13</th><td>ace  </td><td> 1</td></tr>\n",
       "\t<tr><th scope=row>14</th><td>king </td><td>13</td></tr>\n",
       "\t<tr><th scope=row>15</th><td>queen</td><td>12</td></tr>\n",
       "\t<tr><th scope=row>16</th><td>jack </td><td>11</td></tr>\n",
       "\t<tr><th scope=row>17</th><td>ten  </td><td>10</td></tr>\n",
       "\t<tr><th scope=row>18</th><td>nine </td><td> 9</td></tr>\n",
       "\t<tr><th scope=row>19</th><td>eight</td><td> 8</td></tr>\n",
       "\t<tr><th scope=row>20</th><td>seven</td><td> 7</td></tr>\n",
       "\t<tr><th scope=row>21</th><td>six  </td><td> 6</td></tr>\n",
       "\t<tr><th scope=row>22</th><td>five </td><td> 5</td></tr>\n",
       "\t<tr><th scope=row>23</th><td>four </td><td> 4</td></tr>\n",
       "\t<tr><th scope=row>24</th><td>three</td><td> 3</td></tr>\n",
       "\t<tr><th scope=row>25</th><td>two  </td><td> 2</td></tr>\n",
       "\t<tr><th scope=row>26</th><td>ace  </td><td> 1</td></tr>\n",
       "\t<tr><th scope=row>27</th><td>king </td><td>13</td></tr>\n",
       "\t<tr><th scope=row>28</th><td>queen</td><td>12</td></tr>\n",
       "\t<tr><th scope=row>29</th><td>jack </td><td>11</td></tr>\n",
       "\t<tr><th scope=row>30</th><td>ten  </td><td>10</td></tr>\n",
       "\t<tr><th scope=row>31</th><td>nine </td><td> 9</td></tr>\n",
       "\t<tr><th scope=row>32</th><td>eight</td><td> 8</td></tr>\n",
       "\t<tr><th scope=row>33</th><td>seven</td><td> 7</td></tr>\n",
       "\t<tr><th scope=row>34</th><td>six  </td><td> 6</td></tr>\n",
       "\t<tr><th scope=row>35</th><td>five </td><td> 5</td></tr>\n",
       "\t<tr><th scope=row>36</th><td>four </td><td> 4</td></tr>\n",
       "\t<tr><th scope=row>37</th><td>three</td><td> 3</td></tr>\n",
       "\t<tr><th scope=row>38</th><td>two  </td><td> 2</td></tr>\n",
       "\t<tr><th scope=row>39</th><td>ace  </td><td> 1</td></tr>\n",
       "\t<tr><th scope=row>40</th><td>king </td><td>13</td></tr>\n",
       "\t<tr><th scope=row>41</th><td>queen</td><td>12</td></tr>\n",
       "\t<tr><th scope=row>42</th><td>jack </td><td>11</td></tr>\n",
       "\t<tr><th scope=row>43</th><td>ten  </td><td>10</td></tr>\n",
       "\t<tr><th scope=row>44</th><td>nine </td><td> 9</td></tr>\n",
       "\t<tr><th scope=row>45</th><td>eight</td><td> 8</td></tr>\n",
       "\t<tr><th scope=row>46</th><td>seven</td><td> 7</td></tr>\n",
       "\t<tr><th scope=row>47</th><td>six  </td><td> 6</td></tr>\n",
       "\t<tr><th scope=row>48</th><td>five </td><td> 5</td></tr>\n",
       "\t<tr><th scope=row>49</th><td>four </td><td> 4</td></tr>\n",
       "\t<tr><th scope=row>50</th><td>three</td><td> 3</td></tr>\n",
       "\t<tr><th scope=row>51</th><td>two  </td><td> 2</td></tr>\n",
       "\t<tr><th scope=row>52</th><td>ace  </td><td> 1</td></tr>\n",
       "</tbody>\n",
       "</table>\n"
      ],
      "text/latex": [
       "A data.frame: 49 × 2\n",
       "\\begin{tabular}{r|ll}\n",
       "  & face & value\\\\\n",
       "  & <fct> & <int>\\\\\n",
       "\\hline\n",
       "\t2 & queen & 12\\\\\n",
       "\t3 & jack  & 11\\\\\n",
       "\t4 & ten   & 10\\\\\n",
       "\t7 & seven &  7\\\\\n",
       "\t8 & six   &  6\\\\\n",
       "\t9 & five  &  5\\\\\n",
       "\t10 & four  &  4\\\\\n",
       "\t11 & three &  3\\\\\n",
       "\t12 & two   &  2\\\\\n",
       "\t13 & ace   &  1\\\\\n",
       "\t14 & king  & 13\\\\\n",
       "\t15 & queen & 12\\\\\n",
       "\t16 & jack  & 11\\\\\n",
       "\t17 & ten   & 10\\\\\n",
       "\t18 & nine  &  9\\\\\n",
       "\t19 & eight &  8\\\\\n",
       "\t20 & seven &  7\\\\\n",
       "\t21 & six   &  6\\\\\n",
       "\t22 & five  &  5\\\\\n",
       "\t23 & four  &  4\\\\\n",
       "\t24 & three &  3\\\\\n",
       "\t25 & two   &  2\\\\\n",
       "\t26 & ace   &  1\\\\\n",
       "\t27 & king  & 13\\\\\n",
       "\t28 & queen & 12\\\\\n",
       "\t29 & jack  & 11\\\\\n",
       "\t30 & ten   & 10\\\\\n",
       "\t31 & nine  &  9\\\\\n",
       "\t32 & eight &  8\\\\\n",
       "\t33 & seven &  7\\\\\n",
       "\t34 & six   &  6\\\\\n",
       "\t35 & five  &  5\\\\\n",
       "\t36 & four  &  4\\\\\n",
       "\t37 & three &  3\\\\\n",
       "\t38 & two   &  2\\\\\n",
       "\t39 & ace   &  1\\\\\n",
       "\t40 & king  & 13\\\\\n",
       "\t41 & queen & 12\\\\\n",
       "\t42 & jack  & 11\\\\\n",
       "\t43 & ten   & 10\\\\\n",
       "\t44 & nine  &  9\\\\\n",
       "\t45 & eight &  8\\\\\n",
       "\t46 & seven &  7\\\\\n",
       "\t47 & six   &  6\\\\\n",
       "\t48 & five  &  5\\\\\n",
       "\t49 & four  &  4\\\\\n",
       "\t50 & three &  3\\\\\n",
       "\t51 & two   &  2\\\\\n",
       "\t52 & ace   &  1\\\\\n",
       "\\end{tabular}\n"
      ],
      "text/markdown": [
       "\n",
       "A data.frame: 49 × 2\n",
       "\n",
       "| <!--/--> | face &lt;fct&gt; | value &lt;int&gt; |\n",
       "|---|---|---|\n",
       "| 2 | queen | 12 |\n",
       "| 3 | jack  | 11 |\n",
       "| 4 | ten   | 10 |\n",
       "| 7 | seven |  7 |\n",
       "| 8 | six   |  6 |\n",
       "| 9 | five  |  5 |\n",
       "| 10 | four  |  4 |\n",
       "| 11 | three |  3 |\n",
       "| 12 | two   |  2 |\n",
       "| 13 | ace   |  1 |\n",
       "| 14 | king  | 13 |\n",
       "| 15 | queen | 12 |\n",
       "| 16 | jack  | 11 |\n",
       "| 17 | ten   | 10 |\n",
       "| 18 | nine  |  9 |\n",
       "| 19 | eight |  8 |\n",
       "| 20 | seven |  7 |\n",
       "| 21 | six   |  6 |\n",
       "| 22 | five  |  5 |\n",
       "| 23 | four  |  4 |\n",
       "| 24 | three |  3 |\n",
       "| 25 | two   |  2 |\n",
       "| 26 | ace   |  1 |\n",
       "| 27 | king  | 13 |\n",
       "| 28 | queen | 12 |\n",
       "| 29 | jack  | 11 |\n",
       "| 30 | ten   | 10 |\n",
       "| 31 | nine  |  9 |\n",
       "| 32 | eight |  8 |\n",
       "| 33 | seven |  7 |\n",
       "| 34 | six   |  6 |\n",
       "| 35 | five  |  5 |\n",
       "| 36 | four  |  4 |\n",
       "| 37 | three |  3 |\n",
       "| 38 | two   |  2 |\n",
       "| 39 | ace   |  1 |\n",
       "| 40 | king  | 13 |\n",
       "| 41 | queen | 12 |\n",
       "| 42 | jack  | 11 |\n",
       "| 43 | ten   | 10 |\n",
       "| 44 | nine  |  9 |\n",
       "| 45 | eight |  8 |\n",
       "| 46 | seven |  7 |\n",
       "| 47 | six   |  6 |\n",
       "| 48 | five  |  5 |\n",
       "| 49 | four  |  4 |\n",
       "| 50 | three |  3 |\n",
       "| 51 | two   |  2 |\n",
       "| 52 | ace   |  1 |\n",
       "\n"
      ],
      "text/plain": [
       "   face  value\n",
       "2  queen 12   \n",
       "3  jack  11   \n",
       "4  ten   10   \n",
       "7  seven  7   \n",
       "8  six    6   \n",
       "9  five   5   \n",
       "10 four   4   \n",
       "11 three  3   \n",
       "12 two    2   \n",
       "13 ace    1   \n",
       "14 king  13   \n",
       "15 queen 12   \n",
       "16 jack  11   \n",
       "17 ten   10   \n",
       "18 nine   9   \n",
       "19 eight  8   \n",
       "20 seven  7   \n",
       "21 six    6   \n",
       "22 five   5   \n",
       "23 four   4   \n",
       "24 three  3   \n",
       "25 two    2   \n",
       "26 ace    1   \n",
       "27 king  13   \n",
       "28 queen 12   \n",
       "29 jack  11   \n",
       "30 ten   10   \n",
       "31 nine   9   \n",
       "32 eight  8   \n",
       "33 seven  7   \n",
       "34 six    6   \n",
       "35 five   5   \n",
       "36 four   4   \n",
       "37 three  3   \n",
       "38 two    2   \n",
       "39 ace    1   \n",
       "40 king  13   \n",
       "41 queen 12   \n",
       "42 jack  11   \n",
       "43 ten   10   \n",
       "44 nine   9   \n",
       "45 eight  8   \n",
       "46 seven  7   \n",
       "47 six    6   \n",
       "48 five   5   \n",
       "49 four   4   \n",
       "50 three  3   \n",
       "51 two    2   \n",
       "52 ace    1   "
      ]
     },
     "metadata": {},
     "output_type": "display_data"
    }
   ],
   "source": [
    "deck[-c(1,5,6), c(1,3)]"
   ]
  },
  {
   "cell_type": "code",
   "execution_count": 9,
   "metadata": {},
   "outputs": [
    {
     "data": {
      "text/html": [
       "<table>\n",
       "<caption>A data.frame: 13 × 3</caption>\n",
       "<thead>\n",
       "\t<tr><th></th><th scope=col>face</th><th scope=col>suit</th><th scope=col>value</th></tr>\n",
       "\t<tr><th></th><th scope=col>&lt;fct&gt;</th><th scope=col>&lt;fct&gt;</th><th scope=col>&lt;int&gt;</th></tr>\n",
       "</thead>\n",
       "<tbody>\n",
       "\t<tr><th scope=row>4</th><td>ten  </td><td>spades  </td><td>10</td></tr>\n",
       "\t<tr><th scope=row>8</th><td>six  </td><td>spades  </td><td> 6</td></tr>\n",
       "\t<tr><th scope=row>12</th><td>two  </td><td>spades  </td><td> 2</td></tr>\n",
       "\t<tr><th scope=row>16</th><td>jack </td><td>clubs   </td><td>11</td></tr>\n",
       "\t<tr><th scope=row>20</th><td>seven</td><td>clubs   </td><td> 7</td></tr>\n",
       "\t<tr><th scope=row>24</th><td>three</td><td>clubs   </td><td> 3</td></tr>\n",
       "\t<tr><th scope=row>28</th><td>queen</td><td>diamonds</td><td>12</td></tr>\n",
       "\t<tr><th scope=row>32</th><td>eight</td><td>diamonds</td><td> 8</td></tr>\n",
       "\t<tr><th scope=row>36</th><td>four </td><td>diamonds</td><td> 4</td></tr>\n",
       "\t<tr><th scope=row>40</th><td>king </td><td>hearts  </td><td>13</td></tr>\n",
       "\t<tr><th scope=row>44</th><td>nine </td><td>hearts  </td><td> 9</td></tr>\n",
       "\t<tr><th scope=row>48</th><td>five </td><td>hearts  </td><td> 5</td></tr>\n",
       "\t<tr><th scope=row>52</th><td>ace  </td><td>hearts  </td><td> 1</td></tr>\n",
       "</tbody>\n",
       "</table>\n"
      ],
      "text/latex": [
       "A data.frame: 13 × 3\n",
       "\\begin{tabular}{r|lll}\n",
       "  & face & suit & value\\\\\n",
       "  & <fct> & <fct> & <int>\\\\\n",
       "\\hline\n",
       "\t4 & ten   & spades   & 10\\\\\n",
       "\t8 & six   & spades   &  6\\\\\n",
       "\t12 & two   & spades   &  2\\\\\n",
       "\t16 & jack  & clubs    & 11\\\\\n",
       "\t20 & seven & clubs    &  7\\\\\n",
       "\t24 & three & clubs    &  3\\\\\n",
       "\t28 & queen & diamonds & 12\\\\\n",
       "\t32 & eight & diamonds &  8\\\\\n",
       "\t36 & four  & diamonds &  4\\\\\n",
       "\t40 & king  & hearts   & 13\\\\\n",
       "\t44 & nine  & hearts   &  9\\\\\n",
       "\t48 & five  & hearts   &  5\\\\\n",
       "\t52 & ace   & hearts   &  1\\\\\n",
       "\\end{tabular}\n"
      ],
      "text/markdown": [
       "\n",
       "A data.frame: 13 × 3\n",
       "\n",
       "| <!--/--> | face &lt;fct&gt; | suit &lt;fct&gt; | value &lt;int&gt; |\n",
       "|---|---|---|---|\n",
       "| 4 | ten   | spades   | 10 |\n",
       "| 8 | six   | spades   |  6 |\n",
       "| 12 | two   | spades   |  2 |\n",
       "| 16 | jack  | clubs    | 11 |\n",
       "| 20 | seven | clubs    |  7 |\n",
       "| 24 | three | clubs    |  3 |\n",
       "| 28 | queen | diamonds | 12 |\n",
       "| 32 | eight | diamonds |  8 |\n",
       "| 36 | four  | diamonds |  4 |\n",
       "| 40 | king  | hearts   | 13 |\n",
       "| 44 | nine  | hearts   |  9 |\n",
       "| 48 | five  | hearts   |  5 |\n",
       "| 52 | ace   | hearts   |  1 |\n",
       "\n"
      ],
      "text/plain": [
       "   face  suit     value\n",
       "4  ten   spades   10   \n",
       "8  six   spades    6   \n",
       "12 two   spades    2   \n",
       "16 jack  clubs    11   \n",
       "20 seven clubs     7   \n",
       "24 three clubs     3   \n",
       "28 queen diamonds 12   \n",
       "32 eight diamonds  8   \n",
       "36 four  diamonds  4   \n",
       "40 king  hearts   13   \n",
       "44 nine  hearts    9   \n",
       "48 five  hearts    5   \n",
       "52 ace   hearts    1   "
      ]
     },
     "metadata": {},
     "output_type": "display_data"
    }
   ],
   "source": [
    "deck[c(F, F, F, T),]"
   ]
  },
  {
   "cell_type": "code",
   "execution_count": 10,
   "metadata": {},
   "outputs": [],
   "source": [
    "dealn <- function(cards){\n",
    "    cards[1, ]\n",
    "}"
   ]
  },
  {
   "cell_type": "code",
   "execution_count": 11,
   "metadata": {},
   "outputs": [
    {
     "data": {
      "text/html": [
       "<table>\n",
       "<caption>A data.frame: 1 × 3</caption>\n",
       "<thead>\n",
       "\t<tr><th scope=col>face</th><th scope=col>suit</th><th scope=col>value</th></tr>\n",
       "\t<tr><th scope=col>&lt;fct&gt;</th><th scope=col>&lt;fct&gt;</th><th scope=col>&lt;int&gt;</th></tr>\n",
       "</thead>\n",
       "<tbody>\n",
       "\t<tr><td>king</td><td>spades</td><td>13</td></tr>\n",
       "</tbody>\n",
       "</table>\n"
      ],
      "text/latex": [
       "A data.frame: 1 × 3\n",
       "\\begin{tabular}{r|lll}\n",
       " face & suit & value\\\\\n",
       " <fct> & <fct> & <int>\\\\\n",
       "\\hline\n",
       "\t king & spades & 13\\\\\n",
       "\\end{tabular}\n"
      ],
      "text/markdown": [
       "\n",
       "A data.frame: 1 × 3\n",
       "\n",
       "| face &lt;fct&gt; | suit &lt;fct&gt; | value &lt;int&gt; |\n",
       "|---|---|---|\n",
       "| king | spades | 13 |\n",
       "\n"
      ],
      "text/plain": [
       "  face suit   value\n",
       "1 king spades 13   "
      ]
     },
     "metadata": {},
     "output_type": "display_data"
    }
   ],
   "source": [
    "dealn(deck)"
   ]
  },
  {
   "cell_type": "code",
   "execution_count": 12,
   "metadata": {},
   "outputs": [],
   "source": [
    "shuffle <- function(){\n",
    "    random = sample(1:52, size = 52)\n",
    "    deck[random, ]\n",
    "}"
   ]
  },
  {
   "cell_type": "code",
   "execution_count": 13,
   "metadata": {},
   "outputs": [
    {
     "data": {
      "text/html": [
       "<table>\n",
       "<caption>A data.frame: 1 × 3</caption>\n",
       "<thead>\n",
       "\t<tr><th></th><th scope=col>face</th><th scope=col>suit</th><th scope=col>value</th></tr>\n",
       "\t<tr><th></th><th scope=col>&lt;fct&gt;</th><th scope=col>&lt;fct&gt;</th><th scope=col>&lt;int&gt;</th></tr>\n",
       "</thead>\n",
       "<tbody>\n",
       "\t<tr><th scope=row>48</th><td>five</td><td>hearts</td><td>5</td></tr>\n",
       "</tbody>\n",
       "</table>\n"
      ],
      "text/latex": [
       "A data.frame: 1 × 3\n",
       "\\begin{tabular}{r|lll}\n",
       "  & face & suit & value\\\\\n",
       "  & <fct> & <fct> & <int>\\\\\n",
       "\\hline\n",
       "\t48 & five & hearts & 5\\\\\n",
       "\\end{tabular}\n"
      ],
      "text/markdown": [
       "\n",
       "A data.frame: 1 × 3\n",
       "\n",
       "| <!--/--> | face &lt;fct&gt; | suit &lt;fct&gt; | value &lt;int&gt; |\n",
       "|---|---|---|---|\n",
       "| 48 | five | hearts | 5 |\n",
       "\n"
      ],
      "text/plain": [
       "   face suit   value\n",
       "48 five hearts 5    "
      ]
     },
     "metadata": {},
     "output_type": "display_data"
    }
   ],
   "source": [
    "dealn(shuffle())"
   ]
  },
  {
   "cell_type": "code",
   "execution_count": 14,
   "metadata": {},
   "outputs": [
    {
     "data": {
      "text/html": [
       "<table>\n",
       "<caption>A data.frame: 1 × 3</caption>\n",
       "<thead>\n",
       "\t<tr><th></th><th scope=col>face</th><th scope=col>suit</th><th scope=col>value</th></tr>\n",
       "\t<tr><th></th><th scope=col>&lt;fct&gt;</th><th scope=col>&lt;fct&gt;</th><th scope=col>&lt;int&gt;</th></tr>\n",
       "</thead>\n",
       "<tbody>\n",
       "\t<tr><th scope=row>10</th><td>four</td><td>spades</td><td>4</td></tr>\n",
       "</tbody>\n",
       "</table>\n"
      ],
      "text/latex": [
       "A data.frame: 1 × 3\n",
       "\\begin{tabular}{r|lll}\n",
       "  & face & suit & value\\\\\n",
       "  & <fct> & <fct> & <int>\\\\\n",
       "\\hline\n",
       "\t10 & four & spades & 4\\\\\n",
       "\\end{tabular}\n"
      ],
      "text/markdown": [
       "\n",
       "A data.frame: 1 × 3\n",
       "\n",
       "| <!--/--> | face &lt;fct&gt; | suit &lt;fct&gt; | value &lt;int&gt; |\n",
       "|---|---|---|---|\n",
       "| 10 | four | spades | 4 |\n",
       "\n"
      ],
      "text/plain": [
       "   face suit   value\n",
       "10 four spades 4    "
      ]
     },
     "metadata": {},
     "output_type": "display_data"
    }
   ],
   "source": [
    "dealn(shuffle())"
   ]
  },
  {
   "cell_type": "code",
   "execution_count": 15,
   "metadata": {},
   "outputs": [
    {
     "data": {
      "text/html": [
       "<ol class=list-inline>\n",
       "\t<li>13</li>\n",
       "\t<li>12</li>\n",
       "\t<li>11</li>\n",
       "\t<li>10</li>\n",
       "\t<li>9</li>\n",
       "\t<li>8</li>\n",
       "\t<li>7</li>\n",
       "\t<li>6</li>\n",
       "\t<li>5</li>\n",
       "\t<li>4</li>\n",
       "\t<li>3</li>\n",
       "\t<li>2</li>\n",
       "\t<li>1</li>\n",
       "\t<li>13</li>\n",
       "\t<li>12</li>\n",
       "\t<li>11</li>\n",
       "\t<li>10</li>\n",
       "\t<li>9</li>\n",
       "\t<li>8</li>\n",
       "\t<li>7</li>\n",
       "\t<li>6</li>\n",
       "\t<li>5</li>\n",
       "\t<li>4</li>\n",
       "\t<li>3</li>\n",
       "\t<li>2</li>\n",
       "\t<li>1</li>\n",
       "\t<li>13</li>\n",
       "\t<li>12</li>\n",
       "\t<li>11</li>\n",
       "\t<li>10</li>\n",
       "\t<li>9</li>\n",
       "\t<li>8</li>\n",
       "\t<li>7</li>\n",
       "\t<li>6</li>\n",
       "\t<li>5</li>\n",
       "\t<li>4</li>\n",
       "\t<li>3</li>\n",
       "\t<li>2</li>\n",
       "\t<li>1</li>\n",
       "\t<li>13</li>\n",
       "\t<li>12</li>\n",
       "\t<li>11</li>\n",
       "\t<li>10</li>\n",
       "\t<li>9</li>\n",
       "\t<li>8</li>\n",
       "\t<li>7</li>\n",
       "\t<li>6</li>\n",
       "\t<li>5</li>\n",
       "\t<li>4</li>\n",
       "\t<li>3</li>\n",
       "\t<li>2</li>\n",
       "\t<li>1</li>\n",
       "</ol>\n"
      ],
      "text/latex": [
       "\\begin{enumerate*}\n",
       "\\item 13\n",
       "\\item 12\n",
       "\\item 11\n",
       "\\item 10\n",
       "\\item 9\n",
       "\\item 8\n",
       "\\item 7\n",
       "\\item 6\n",
       "\\item 5\n",
       "\\item 4\n",
       "\\item 3\n",
       "\\item 2\n",
       "\\item 1\n",
       "\\item 13\n",
       "\\item 12\n",
       "\\item 11\n",
       "\\item 10\n",
       "\\item 9\n",
       "\\item 8\n",
       "\\item 7\n",
       "\\item 6\n",
       "\\item 5\n",
       "\\item 4\n",
       "\\item 3\n",
       "\\item 2\n",
       "\\item 1\n",
       "\\item 13\n",
       "\\item 12\n",
       "\\item 11\n",
       "\\item 10\n",
       "\\item 9\n",
       "\\item 8\n",
       "\\item 7\n",
       "\\item 6\n",
       "\\item 5\n",
       "\\item 4\n",
       "\\item 3\n",
       "\\item 2\n",
       "\\item 1\n",
       "\\item 13\n",
       "\\item 12\n",
       "\\item 11\n",
       "\\item 10\n",
       "\\item 9\n",
       "\\item 8\n",
       "\\item 7\n",
       "\\item 6\n",
       "\\item 5\n",
       "\\item 4\n",
       "\\item 3\n",
       "\\item 2\n",
       "\\item 1\n",
       "\\end{enumerate*}\n"
      ],
      "text/markdown": [
       "1. 13\n",
       "2. 12\n",
       "3. 11\n",
       "4. 10\n",
       "5. 9\n",
       "6. 8\n",
       "7. 7\n",
       "8. 6\n",
       "9. 5\n",
       "10. 4\n",
       "11. 3\n",
       "12. 2\n",
       "13. 1\n",
       "14. 13\n",
       "15. 12\n",
       "16. 11\n",
       "17. 10\n",
       "18. 9\n",
       "19. 8\n",
       "20. 7\n",
       "21. 6\n",
       "22. 5\n",
       "23. 4\n",
       "24. 3\n",
       "25. 2\n",
       "26. 1\n",
       "27. 13\n",
       "28. 12\n",
       "29. 11\n",
       "30. 10\n",
       "31. 9\n",
       "32. 8\n",
       "33. 7\n",
       "34. 6\n",
       "35. 5\n",
       "36. 4\n",
       "37. 3\n",
       "38. 2\n",
       "39. 1\n",
       "40. 13\n",
       "41. 12\n",
       "42. 11\n",
       "43. 10\n",
       "44. 9\n",
       "45. 8\n",
       "46. 7\n",
       "47. 6\n",
       "48. 5\n",
       "49. 4\n",
       "50. 3\n",
       "51. 2\n",
       "52. 1\n",
       "\n",
       "\n"
      ],
      "text/plain": [
       " [1] 13 12 11 10  9  8  7  6  5  4  3  2  1 13 12 11 10  9  8  7  6  5  4  3  2\n",
       "[26]  1 13 12 11 10  9  8  7  6  5  4  3  2  1 13 12 11 10  9  8  7  6  5  4  3\n",
       "[51]  2  1"
      ]
     },
     "metadata": {},
     "output_type": "display_data"
    }
   ],
   "source": [
    "deck$value"
   ]
  },
  {
   "cell_type": "code",
   "execution_count": 16,
   "metadata": {},
   "outputs": [
    {
     "data": {
      "text/html": [
       "7"
      ],
      "text/latex": [
       "7"
      ],
      "text/markdown": [
       "7"
      ],
      "text/plain": [
       "[1] 7"
      ]
     },
     "metadata": {},
     "output_type": "display_data"
    }
   ],
   "source": [
    "mean(deck$value)"
   ]
  },
  {
   "cell_type": "code",
   "execution_count": 17,
   "metadata": {},
   "outputs": [
    {
     "data": {
      "text/html": [
       "7"
      ],
      "text/latex": [
       "7"
      ],
      "text/markdown": [
       "7"
      ],
      "text/plain": [
       "[1] 7"
      ]
     },
     "metadata": {},
     "output_type": "display_data"
    }
   ],
   "source": [
    "mean(1:13)"
   ]
  },
  {
   "cell_type": "code",
   "execution_count": null,
   "metadata": {},
   "outputs": [],
   "source": []
  }
 ],
 "metadata": {
  "kernelspec": {
   "display_name": "R",
   "language": "R",
   "name": "ir"
  },
  "language_info": {
   "codemirror_mode": "r",
   "file_extension": ".r",
   "mimetype": "text/x-r-source",
   "name": "R",
   "pygments_lexer": "r",
   "version": "3.6.1"
  }
 },
 "nbformat": 4,
 "nbformat_minor": 2
}
