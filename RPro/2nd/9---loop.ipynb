{
 "cells": [
  {
   "cell_type": "code",
   "execution_count": 1,
   "metadata": {},
   "outputs": [],
   "source": [
    "wheel <- c(\"DD\", \"7\", \"BBB\", \"BB\", \"B\", \"C\", \"0\")"
   ]
  },
  {
   "cell_type": "code",
   "execution_count": 2,
   "metadata": {},
   "outputs": [],
   "source": [
    "die <- c(1:6)"
   ]
  },
  {
   "cell_type": "code",
   "execution_count": 3,
   "metadata": {},
   "outputs": [],
   "source": [
    "rolls <- expand.grid(die, die)"
   ]
  },
  {
   "cell_type": "code",
   "execution_count": 4,
   "metadata": {},
   "outputs": [
    {
     "data": {
      "text/html": [
       "<table>\n",
       "<caption>A data.frame: 36 × 2</caption>\n",
       "<thead>\n",
       "\t<tr><th scope=col>Var1</th><th scope=col>Var2</th></tr>\n",
       "\t<tr><th scope=col>&lt;int&gt;</th><th scope=col>&lt;int&gt;</th></tr>\n",
       "</thead>\n",
       "<tbody>\n",
       "\t<tr><td>1</td><td>1</td></tr>\n",
       "\t<tr><td>2</td><td>1</td></tr>\n",
       "\t<tr><td>3</td><td>1</td></tr>\n",
       "\t<tr><td>4</td><td>1</td></tr>\n",
       "\t<tr><td>5</td><td>1</td></tr>\n",
       "\t<tr><td>6</td><td>1</td></tr>\n",
       "\t<tr><td>1</td><td>2</td></tr>\n",
       "\t<tr><td>2</td><td>2</td></tr>\n",
       "\t<tr><td>3</td><td>2</td></tr>\n",
       "\t<tr><td>4</td><td>2</td></tr>\n",
       "\t<tr><td>5</td><td>2</td></tr>\n",
       "\t<tr><td>6</td><td>2</td></tr>\n",
       "\t<tr><td>1</td><td>3</td></tr>\n",
       "\t<tr><td>2</td><td>3</td></tr>\n",
       "\t<tr><td>3</td><td>3</td></tr>\n",
       "\t<tr><td>4</td><td>3</td></tr>\n",
       "\t<tr><td>5</td><td>3</td></tr>\n",
       "\t<tr><td>6</td><td>3</td></tr>\n",
       "\t<tr><td>1</td><td>4</td></tr>\n",
       "\t<tr><td>2</td><td>4</td></tr>\n",
       "\t<tr><td>3</td><td>4</td></tr>\n",
       "\t<tr><td>4</td><td>4</td></tr>\n",
       "\t<tr><td>5</td><td>4</td></tr>\n",
       "\t<tr><td>6</td><td>4</td></tr>\n",
       "\t<tr><td>1</td><td>5</td></tr>\n",
       "\t<tr><td>2</td><td>5</td></tr>\n",
       "\t<tr><td>3</td><td>5</td></tr>\n",
       "\t<tr><td>4</td><td>5</td></tr>\n",
       "\t<tr><td>5</td><td>5</td></tr>\n",
       "\t<tr><td>6</td><td>5</td></tr>\n",
       "\t<tr><td>1</td><td>6</td></tr>\n",
       "\t<tr><td>2</td><td>6</td></tr>\n",
       "\t<tr><td>3</td><td>6</td></tr>\n",
       "\t<tr><td>4</td><td>6</td></tr>\n",
       "\t<tr><td>5</td><td>6</td></tr>\n",
       "\t<tr><td>6</td><td>6</td></tr>\n",
       "</tbody>\n",
       "</table>\n"
      ],
      "text/latex": [
       "A data.frame: 36 × 2\n",
       "\\begin{tabular}{r|ll}\n",
       " Var1 & Var2\\\\\n",
       " <int> & <int>\\\\\n",
       "\\hline\n",
       "\t 1 & 1\\\\\n",
       "\t 2 & 1\\\\\n",
       "\t 3 & 1\\\\\n",
       "\t 4 & 1\\\\\n",
       "\t 5 & 1\\\\\n",
       "\t 6 & 1\\\\\n",
       "\t 1 & 2\\\\\n",
       "\t 2 & 2\\\\\n",
       "\t 3 & 2\\\\\n",
       "\t 4 & 2\\\\\n",
       "\t 5 & 2\\\\\n",
       "\t 6 & 2\\\\\n",
       "\t 1 & 3\\\\\n",
       "\t 2 & 3\\\\\n",
       "\t 3 & 3\\\\\n",
       "\t 4 & 3\\\\\n",
       "\t 5 & 3\\\\\n",
       "\t 6 & 3\\\\\n",
       "\t 1 & 4\\\\\n",
       "\t 2 & 4\\\\\n",
       "\t 3 & 4\\\\\n",
       "\t 4 & 4\\\\\n",
       "\t 5 & 4\\\\\n",
       "\t 6 & 4\\\\\n",
       "\t 1 & 5\\\\\n",
       "\t 2 & 5\\\\\n",
       "\t 3 & 5\\\\\n",
       "\t 4 & 5\\\\\n",
       "\t 5 & 5\\\\\n",
       "\t 6 & 5\\\\\n",
       "\t 1 & 6\\\\\n",
       "\t 2 & 6\\\\\n",
       "\t 3 & 6\\\\\n",
       "\t 4 & 6\\\\\n",
       "\t 5 & 6\\\\\n",
       "\t 6 & 6\\\\\n",
       "\\end{tabular}\n"
      ],
      "text/markdown": [
       "\n",
       "A data.frame: 36 × 2\n",
       "\n",
       "| Var1 &lt;int&gt; | Var2 &lt;int&gt; |\n",
       "|---|---|\n",
       "| 1 | 1 |\n",
       "| 2 | 1 |\n",
       "| 3 | 1 |\n",
       "| 4 | 1 |\n",
       "| 5 | 1 |\n",
       "| 6 | 1 |\n",
       "| 1 | 2 |\n",
       "| 2 | 2 |\n",
       "| 3 | 2 |\n",
       "| 4 | 2 |\n",
       "| 5 | 2 |\n",
       "| 6 | 2 |\n",
       "| 1 | 3 |\n",
       "| 2 | 3 |\n",
       "| 3 | 3 |\n",
       "| 4 | 3 |\n",
       "| 5 | 3 |\n",
       "| 6 | 3 |\n",
       "| 1 | 4 |\n",
       "| 2 | 4 |\n",
       "| 3 | 4 |\n",
       "| 4 | 4 |\n",
       "| 5 | 4 |\n",
       "| 6 | 4 |\n",
       "| 1 | 5 |\n",
       "| 2 | 5 |\n",
       "| 3 | 5 |\n",
       "| 4 | 5 |\n",
       "| 5 | 5 |\n",
       "| 6 | 5 |\n",
       "| 1 | 6 |\n",
       "| 2 | 6 |\n",
       "| 3 | 6 |\n",
       "| 4 | 6 |\n",
       "| 5 | 6 |\n",
       "| 6 | 6 |\n",
       "\n"
      ],
      "text/plain": [
       "   Var1 Var2\n",
       "1  1    1   \n",
       "2  2    1   \n",
       "3  3    1   \n",
       "4  4    1   \n",
       "5  5    1   \n",
       "6  6    1   \n",
       "7  1    2   \n",
       "8  2    2   \n",
       "9  3    2   \n",
       "10 4    2   \n",
       "11 5    2   \n",
       "12 6    2   \n",
       "13 1    3   \n",
       "14 2    3   \n",
       "15 3    3   \n",
       "16 4    3   \n",
       "17 5    3   \n",
       "18 6    3   \n",
       "19 1    4   \n",
       "20 2    4   \n",
       "21 3    4   \n",
       "22 4    4   \n",
       "23 5    4   \n",
       "24 6    4   \n",
       "25 1    5   \n",
       "26 2    5   \n",
       "27 3    5   \n",
       "28 4    5   \n",
       "29 5    5   \n",
       "30 6    5   \n",
       "31 1    6   \n",
       "32 2    6   \n",
       "33 3    6   \n",
       "34 4    6   \n",
       "35 5    6   \n",
       "36 6    6   "
      ]
     },
     "metadata": {},
     "output_type": "display_data"
    }
   ],
   "source": [
    "rolls"
   ]
  },
  {
   "cell_type": "code",
   "execution_count": 5,
   "metadata": {},
   "outputs": [],
   "source": [
    "rolls$value <- rolls$Var1 + rolls$Var2"
   ]
  },
  {
   "cell_type": "code",
   "execution_count": 6,
   "metadata": {},
   "outputs": [
    {
     "data": {
      "text/html": [
       "<table>\n",
       "<caption>A data.frame: 36 × 3</caption>\n",
       "<thead>\n",
       "\t<tr><th scope=col>Var1</th><th scope=col>Var2</th><th scope=col>value</th></tr>\n",
       "\t<tr><th scope=col>&lt;int&gt;</th><th scope=col>&lt;int&gt;</th><th scope=col>&lt;int&gt;</th></tr>\n",
       "</thead>\n",
       "<tbody>\n",
       "\t<tr><td>1</td><td>1</td><td> 2</td></tr>\n",
       "\t<tr><td>2</td><td>1</td><td> 3</td></tr>\n",
       "\t<tr><td>3</td><td>1</td><td> 4</td></tr>\n",
       "\t<tr><td>4</td><td>1</td><td> 5</td></tr>\n",
       "\t<tr><td>5</td><td>1</td><td> 6</td></tr>\n",
       "\t<tr><td>6</td><td>1</td><td> 7</td></tr>\n",
       "\t<tr><td>1</td><td>2</td><td> 3</td></tr>\n",
       "\t<tr><td>2</td><td>2</td><td> 4</td></tr>\n",
       "\t<tr><td>3</td><td>2</td><td> 5</td></tr>\n",
       "\t<tr><td>4</td><td>2</td><td> 6</td></tr>\n",
       "\t<tr><td>5</td><td>2</td><td> 7</td></tr>\n",
       "\t<tr><td>6</td><td>2</td><td> 8</td></tr>\n",
       "\t<tr><td>1</td><td>3</td><td> 4</td></tr>\n",
       "\t<tr><td>2</td><td>3</td><td> 5</td></tr>\n",
       "\t<tr><td>3</td><td>3</td><td> 6</td></tr>\n",
       "\t<tr><td>4</td><td>3</td><td> 7</td></tr>\n",
       "\t<tr><td>5</td><td>3</td><td> 8</td></tr>\n",
       "\t<tr><td>6</td><td>3</td><td> 9</td></tr>\n",
       "\t<tr><td>1</td><td>4</td><td> 5</td></tr>\n",
       "\t<tr><td>2</td><td>4</td><td> 6</td></tr>\n",
       "\t<tr><td>3</td><td>4</td><td> 7</td></tr>\n",
       "\t<tr><td>4</td><td>4</td><td> 8</td></tr>\n",
       "\t<tr><td>5</td><td>4</td><td> 9</td></tr>\n",
       "\t<tr><td>6</td><td>4</td><td>10</td></tr>\n",
       "\t<tr><td>1</td><td>5</td><td> 6</td></tr>\n",
       "\t<tr><td>2</td><td>5</td><td> 7</td></tr>\n",
       "\t<tr><td>3</td><td>5</td><td> 8</td></tr>\n",
       "\t<tr><td>4</td><td>5</td><td> 9</td></tr>\n",
       "\t<tr><td>5</td><td>5</td><td>10</td></tr>\n",
       "\t<tr><td>6</td><td>5</td><td>11</td></tr>\n",
       "\t<tr><td>1</td><td>6</td><td> 7</td></tr>\n",
       "\t<tr><td>2</td><td>6</td><td> 8</td></tr>\n",
       "\t<tr><td>3</td><td>6</td><td> 9</td></tr>\n",
       "\t<tr><td>4</td><td>6</td><td>10</td></tr>\n",
       "\t<tr><td>5</td><td>6</td><td>11</td></tr>\n",
       "\t<tr><td>6</td><td>6</td><td>12</td></tr>\n",
       "</tbody>\n",
       "</table>\n"
      ],
      "text/latex": [
       "A data.frame: 36 × 3\n",
       "\\begin{tabular}{r|lll}\n",
       " Var1 & Var2 & value\\\\\n",
       " <int> & <int> & <int>\\\\\n",
       "\\hline\n",
       "\t 1 & 1 &  2\\\\\n",
       "\t 2 & 1 &  3\\\\\n",
       "\t 3 & 1 &  4\\\\\n",
       "\t 4 & 1 &  5\\\\\n",
       "\t 5 & 1 &  6\\\\\n",
       "\t 6 & 1 &  7\\\\\n",
       "\t 1 & 2 &  3\\\\\n",
       "\t 2 & 2 &  4\\\\\n",
       "\t 3 & 2 &  5\\\\\n",
       "\t 4 & 2 &  6\\\\\n",
       "\t 5 & 2 &  7\\\\\n",
       "\t 6 & 2 &  8\\\\\n",
       "\t 1 & 3 &  4\\\\\n",
       "\t 2 & 3 &  5\\\\\n",
       "\t 3 & 3 &  6\\\\\n",
       "\t 4 & 3 &  7\\\\\n",
       "\t 5 & 3 &  8\\\\\n",
       "\t 6 & 3 &  9\\\\\n",
       "\t 1 & 4 &  5\\\\\n",
       "\t 2 & 4 &  6\\\\\n",
       "\t 3 & 4 &  7\\\\\n",
       "\t 4 & 4 &  8\\\\\n",
       "\t 5 & 4 &  9\\\\\n",
       "\t 6 & 4 & 10\\\\\n",
       "\t 1 & 5 &  6\\\\\n",
       "\t 2 & 5 &  7\\\\\n",
       "\t 3 & 5 &  8\\\\\n",
       "\t 4 & 5 &  9\\\\\n",
       "\t 5 & 5 & 10\\\\\n",
       "\t 6 & 5 & 11\\\\\n",
       "\t 1 & 6 &  7\\\\\n",
       "\t 2 & 6 &  8\\\\\n",
       "\t 3 & 6 &  9\\\\\n",
       "\t 4 & 6 & 10\\\\\n",
       "\t 5 & 6 & 11\\\\\n",
       "\t 6 & 6 & 12\\\\\n",
       "\\end{tabular}\n"
      ],
      "text/markdown": [
       "\n",
       "A data.frame: 36 × 3\n",
       "\n",
       "| Var1 &lt;int&gt; | Var2 &lt;int&gt; | value &lt;int&gt; |\n",
       "|---|---|---|\n",
       "| 1 | 1 |  2 |\n",
       "| 2 | 1 |  3 |\n",
       "| 3 | 1 |  4 |\n",
       "| 4 | 1 |  5 |\n",
       "| 5 | 1 |  6 |\n",
       "| 6 | 1 |  7 |\n",
       "| 1 | 2 |  3 |\n",
       "| 2 | 2 |  4 |\n",
       "| 3 | 2 |  5 |\n",
       "| 4 | 2 |  6 |\n",
       "| 5 | 2 |  7 |\n",
       "| 6 | 2 |  8 |\n",
       "| 1 | 3 |  4 |\n",
       "| 2 | 3 |  5 |\n",
       "| 3 | 3 |  6 |\n",
       "| 4 | 3 |  7 |\n",
       "| 5 | 3 |  8 |\n",
       "| 6 | 3 |  9 |\n",
       "| 1 | 4 |  5 |\n",
       "| 2 | 4 |  6 |\n",
       "| 3 | 4 |  7 |\n",
       "| 4 | 4 |  8 |\n",
       "| 5 | 4 |  9 |\n",
       "| 6 | 4 | 10 |\n",
       "| 1 | 5 |  6 |\n",
       "| 2 | 5 |  7 |\n",
       "| 3 | 5 |  8 |\n",
       "| 4 | 5 |  9 |\n",
       "| 5 | 5 | 10 |\n",
       "| 6 | 5 | 11 |\n",
       "| 1 | 6 |  7 |\n",
       "| 2 | 6 |  8 |\n",
       "| 3 | 6 |  9 |\n",
       "| 4 | 6 | 10 |\n",
       "| 5 | 6 | 11 |\n",
       "| 6 | 6 | 12 |\n",
       "\n"
      ],
      "text/plain": [
       "   Var1 Var2 value\n",
       "1  1    1     2   \n",
       "2  2    1     3   \n",
       "3  3    1     4   \n",
       "4  4    1     5   \n",
       "5  5    1     6   \n",
       "6  6    1     7   \n",
       "7  1    2     3   \n",
       "8  2    2     4   \n",
       "9  3    2     5   \n",
       "10 4    2     6   \n",
       "11 5    2     7   \n",
       "12 6    2     8   \n",
       "13 1    3     4   \n",
       "14 2    3     5   \n",
       "15 3    3     6   \n",
       "16 4    3     7   \n",
       "17 5    3     8   \n",
       "18 6    3     9   \n",
       "19 1    4     5   \n",
       "20 2    4     6   \n",
       "21 3    4     7   \n",
       "22 4    4     8   \n",
       "23 5    4     9   \n",
       "24 6    4    10   \n",
       "25 1    5     6   \n",
       "26 2    5     7   \n",
       "27 3    5     8   \n",
       "28 4    5     9   \n",
       "29 5    5    10   \n",
       "30 6    5    11   \n",
       "31 1    6     7   \n",
       "32 2    6     8   \n",
       "33 3    6     9   \n",
       "34 4    6    10   \n",
       "35 5    6    11   \n",
       "36 6    6    12   "
      ]
     },
     "metadata": {},
     "output_type": "display_data"
    }
   ],
   "source": [
    "rolls"
   ]
  },
  {
   "cell_type": "code",
   "execution_count": 7,
   "metadata": {},
   "outputs": [],
   "source": [
    "prob <- c(\"DD\" = 0.03, \"7\" = 0.03, \"BBB\" = 0.06, \"BB\" = 0.1, \"B\" = 0.25, \"C\" = 0.01, \"0\" = 0.52)"
   ]
  },
  {
   "cell_type": "code",
   "execution_count": 8,
   "metadata": {},
   "outputs": [],
   "source": [
    "get_symbols <- function() { \n",
    "    sample(wheel, size = 3, replace = TRUE, prob = prob ) \n",
    "}"
   ]
  },
  {
   "cell_type": "code",
   "execution_count": 9,
   "metadata": {},
   "outputs": [],
   "source": [
    "combos <- expand.grid(wheel, wheel, wheel, stringsAsFactors = FALSE)"
   ]
  },
  {
   "cell_type": "code",
   "execution_count": 15,
   "metadata": {},
   "outputs": [
    {
     "data": {
      "text/html": [
       "<table>\n",
       "<caption>A data.frame: 6 × 6</caption>\n",
       "<thead>\n",
       "\t<tr><th scope=col>Var1</th><th scope=col>Var2</th><th scope=col>Var3</th><th scope=col>prob1</th><th scope=col>prob3</th><th scope=col>prob2</th></tr>\n",
       "\t<tr><th scope=col>&lt;chr&gt;</th><th scope=col>&lt;chr&gt;</th><th scope=col>&lt;chr&gt;</th><th scope=col>&lt;dbl&gt;</th><th scope=col>&lt;dbl&gt;</th><th scope=col>&lt;dbl&gt;</th></tr>\n",
       "</thead>\n",
       "<tbody>\n",
       "\t<tr><td>DD </td><td>DD</td><td>DD</td><td>0.03</td><td>0.03</td><td>0.03</td></tr>\n",
       "\t<tr><td>7  </td><td>DD</td><td>DD</td><td>0.03</td><td>0.03</td><td>0.03</td></tr>\n",
       "\t<tr><td>BBB</td><td>DD</td><td>DD</td><td>0.06</td><td>0.03</td><td>0.03</td></tr>\n",
       "\t<tr><td>BB </td><td>DD</td><td>DD</td><td>0.10</td><td>0.03</td><td>0.03</td></tr>\n",
       "\t<tr><td>B  </td><td>DD</td><td>DD</td><td>0.25</td><td>0.03</td><td>0.03</td></tr>\n",
       "\t<tr><td>C  </td><td>DD</td><td>DD</td><td>0.01</td><td>0.03</td><td>0.03</td></tr>\n",
       "</tbody>\n",
       "</table>\n"
      ],
      "text/latex": [
       "A data.frame: 6 × 6\n",
       "\\begin{tabular}{r|llllll}\n",
       " Var1 & Var2 & Var3 & prob1 & prob3 & prob2\\\\\n",
       " <chr> & <chr> & <chr> & <dbl> & <dbl> & <dbl>\\\\\n",
       "\\hline\n",
       "\t DD  & DD & DD & 0.03 & 0.03 & 0.03\\\\\n",
       "\t 7   & DD & DD & 0.03 & 0.03 & 0.03\\\\\n",
       "\t BBB & DD & DD & 0.06 & 0.03 & 0.03\\\\\n",
       "\t BB  & DD & DD & 0.10 & 0.03 & 0.03\\\\\n",
       "\t B   & DD & DD & 0.25 & 0.03 & 0.03\\\\\n",
       "\t C   & DD & DD & 0.01 & 0.03 & 0.03\\\\\n",
       "\\end{tabular}\n"
      ],
      "text/markdown": [
       "\n",
       "A data.frame: 6 × 6\n",
       "\n",
       "| Var1 &lt;chr&gt; | Var2 &lt;chr&gt; | Var3 &lt;chr&gt; | prob1 &lt;dbl&gt; | prob3 &lt;dbl&gt; | prob2 &lt;dbl&gt; |\n",
       "|---|---|---|---|---|---|\n",
       "| DD  | DD | DD | 0.03 | 0.03 | 0.03 |\n",
       "| 7   | DD | DD | 0.03 | 0.03 | 0.03 |\n",
       "| BBB | DD | DD | 0.06 | 0.03 | 0.03 |\n",
       "| BB  | DD | DD | 0.10 | 0.03 | 0.03 |\n",
       "| B   | DD | DD | 0.25 | 0.03 | 0.03 |\n",
       "| C   | DD | DD | 0.01 | 0.03 | 0.03 |\n",
       "\n"
      ],
      "text/plain": [
       "  Var1 Var2 Var3 prob1 prob3 prob2\n",
       "1 DD   DD   DD   0.03  0.03  0.03 \n",
       "2 7    DD   DD   0.03  0.03  0.03 \n",
       "3 BBB  DD   DD   0.06  0.03  0.03 \n",
       "4 BB   DD   DD   0.10  0.03  0.03 \n",
       "5 B    DD   DD   0.25  0.03  0.03 \n",
       "6 C    DD   DD   0.01  0.03  0.03 "
      ]
     },
     "metadata": {},
     "output_type": "display_data"
    }
   ],
   "source": [
    "head(combos)"
   ]
  },
  {
   "cell_type": "code",
   "execution_count": 11,
   "metadata": {},
   "outputs": [],
   "source": [
    "combos$prob1 <- prob[combos$Var1]"
   ]
  },
  {
   "cell_type": "code",
   "execution_count": 12,
   "metadata": {
    "scrolled": true
   },
   "outputs": [
    {
     "data": {
      "text/html": [
       "<table>\n",
       "<caption>A data.frame: 6 × 4</caption>\n",
       "<thead>\n",
       "\t<tr><th scope=col>Var1</th><th scope=col>Var2</th><th scope=col>Var3</th><th scope=col>prob1</th></tr>\n",
       "\t<tr><th scope=col>&lt;chr&gt;</th><th scope=col>&lt;chr&gt;</th><th scope=col>&lt;chr&gt;</th><th scope=col>&lt;dbl&gt;</th></tr>\n",
       "</thead>\n",
       "<tbody>\n",
       "\t<tr><td>DD </td><td>DD</td><td>DD</td><td>0.03</td></tr>\n",
       "\t<tr><td>7  </td><td>DD</td><td>DD</td><td>0.03</td></tr>\n",
       "\t<tr><td>BBB</td><td>DD</td><td>DD</td><td>0.06</td></tr>\n",
       "\t<tr><td>BB </td><td>DD</td><td>DD</td><td>0.10</td></tr>\n",
       "\t<tr><td>B  </td><td>DD</td><td>DD</td><td>0.25</td></tr>\n",
       "\t<tr><td>C  </td><td>DD</td><td>DD</td><td>0.01</td></tr>\n",
       "</tbody>\n",
       "</table>\n"
      ],
      "text/latex": [
       "A data.frame: 6 × 4\n",
       "\\begin{tabular}{r|llll}\n",
       " Var1 & Var2 & Var3 & prob1\\\\\n",
       " <chr> & <chr> & <chr> & <dbl>\\\\\n",
       "\\hline\n",
       "\t DD  & DD & DD & 0.03\\\\\n",
       "\t 7   & DD & DD & 0.03\\\\\n",
       "\t BBB & DD & DD & 0.06\\\\\n",
       "\t BB  & DD & DD & 0.10\\\\\n",
       "\t B   & DD & DD & 0.25\\\\\n",
       "\t C   & DD & DD & 0.01\\\\\n",
       "\\end{tabular}\n"
      ],
      "text/markdown": [
       "\n",
       "A data.frame: 6 × 4\n",
       "\n",
       "| Var1 &lt;chr&gt; | Var2 &lt;chr&gt; | Var3 &lt;chr&gt; | prob1 &lt;dbl&gt; |\n",
       "|---|---|---|---|\n",
       "| DD  | DD | DD | 0.03 |\n",
       "| 7   | DD | DD | 0.03 |\n",
       "| BBB | DD | DD | 0.06 |\n",
       "| BB  | DD | DD | 0.10 |\n",
       "| B   | DD | DD | 0.25 |\n",
       "| C   | DD | DD | 0.01 |\n",
       "\n"
      ],
      "text/plain": [
       "  Var1 Var2 Var3 prob1\n",
       "1 DD   DD   DD   0.03 \n",
       "2 7    DD   DD   0.03 \n",
       "3 BBB  DD   DD   0.06 \n",
       "4 BB   DD   DD   0.10 \n",
       "5 B    DD   DD   0.25 \n",
       "6 C    DD   DD   0.01 "
      ]
     },
     "metadata": {},
     "output_type": "display_data"
    }
   ],
   "source": [
    "head(combos)"
   ]
  },
  {
   "cell_type": "code",
   "execution_count": 14,
   "metadata": {},
   "outputs": [],
   "source": [
    "combos$prob2 <- prob[combos$Var2]"
   ]
  },
  {
   "cell_type": "code",
   "execution_count": 13,
   "metadata": {},
   "outputs": [],
   "source": [
    "combos$prob3 <- prob[combos$Var3]"
   ]
  },
  {
   "cell_type": "code",
   "execution_count": 16,
   "metadata": {},
   "outputs": [],
   "source": [
    "combos$prob <- combos$prob1 * combos$prob2 * combos$prob3"
   ]
  },
  {
   "cell_type": "code",
   "execution_count": 17,
   "metadata": {
    "scrolled": true
   },
   "outputs": [
    {
     "data": {
      "text/html": [
       "<table>\n",
       "<caption>A data.frame: 6 × 7</caption>\n",
       "<thead>\n",
       "\t<tr><th scope=col>Var1</th><th scope=col>Var2</th><th scope=col>Var3</th><th scope=col>prob1</th><th scope=col>prob3</th><th scope=col>prob2</th><th scope=col>prob</th></tr>\n",
       "\t<tr><th scope=col>&lt;chr&gt;</th><th scope=col>&lt;chr&gt;</th><th scope=col>&lt;chr&gt;</th><th scope=col>&lt;dbl&gt;</th><th scope=col>&lt;dbl&gt;</th><th scope=col>&lt;dbl&gt;</th><th scope=col>&lt;dbl&gt;</th></tr>\n",
       "</thead>\n",
       "<tbody>\n",
       "\t<tr><td>DD </td><td>DD</td><td>DD</td><td>0.03</td><td>0.03</td><td>0.03</td><td>0.000027</td></tr>\n",
       "\t<tr><td>7  </td><td>DD</td><td>DD</td><td>0.03</td><td>0.03</td><td>0.03</td><td>0.000027</td></tr>\n",
       "\t<tr><td>BBB</td><td>DD</td><td>DD</td><td>0.06</td><td>0.03</td><td>0.03</td><td>0.000054</td></tr>\n",
       "\t<tr><td>BB </td><td>DD</td><td>DD</td><td>0.10</td><td>0.03</td><td>0.03</td><td>0.000090</td></tr>\n",
       "\t<tr><td>B  </td><td>DD</td><td>DD</td><td>0.25</td><td>0.03</td><td>0.03</td><td>0.000225</td></tr>\n",
       "\t<tr><td>C  </td><td>DD</td><td>DD</td><td>0.01</td><td>0.03</td><td>0.03</td><td>0.000009</td></tr>\n",
       "</tbody>\n",
       "</table>\n"
      ],
      "text/latex": [
       "A data.frame: 6 × 7\n",
       "\\begin{tabular}{r|lllllll}\n",
       " Var1 & Var2 & Var3 & prob1 & prob3 & prob2 & prob\\\\\n",
       " <chr> & <chr> & <chr> & <dbl> & <dbl> & <dbl> & <dbl>\\\\\n",
       "\\hline\n",
       "\t DD  & DD & DD & 0.03 & 0.03 & 0.03 & 0.000027\\\\\n",
       "\t 7   & DD & DD & 0.03 & 0.03 & 0.03 & 0.000027\\\\\n",
       "\t BBB & DD & DD & 0.06 & 0.03 & 0.03 & 0.000054\\\\\n",
       "\t BB  & DD & DD & 0.10 & 0.03 & 0.03 & 0.000090\\\\\n",
       "\t B   & DD & DD & 0.25 & 0.03 & 0.03 & 0.000225\\\\\n",
       "\t C   & DD & DD & 0.01 & 0.03 & 0.03 & 0.000009\\\\\n",
       "\\end{tabular}\n"
      ],
      "text/markdown": [
       "\n",
       "A data.frame: 6 × 7\n",
       "\n",
       "| Var1 &lt;chr&gt; | Var2 &lt;chr&gt; | Var3 &lt;chr&gt; | prob1 &lt;dbl&gt; | prob3 &lt;dbl&gt; | prob2 &lt;dbl&gt; | prob &lt;dbl&gt; |\n",
       "|---|---|---|---|---|---|---|\n",
       "| DD  | DD | DD | 0.03 | 0.03 | 0.03 | 0.000027 |\n",
       "| 7   | DD | DD | 0.03 | 0.03 | 0.03 | 0.000027 |\n",
       "| BBB | DD | DD | 0.06 | 0.03 | 0.03 | 0.000054 |\n",
       "| BB  | DD | DD | 0.10 | 0.03 | 0.03 | 0.000090 |\n",
       "| B   | DD | DD | 0.25 | 0.03 | 0.03 | 0.000225 |\n",
       "| C   | DD | DD | 0.01 | 0.03 | 0.03 | 0.000009 |\n",
       "\n"
      ],
      "text/plain": [
       "  Var1 Var2 Var3 prob1 prob3 prob2 prob    \n",
       "1 DD   DD   DD   0.03  0.03  0.03  0.000027\n",
       "2 7    DD   DD   0.03  0.03  0.03  0.000027\n",
       "3 BBB  DD   DD   0.06  0.03  0.03  0.000054\n",
       "4 BB   DD   DD   0.10  0.03  0.03  0.000090\n",
       "5 B    DD   DD   0.25  0.03  0.03  0.000225\n",
       "6 C    DD   DD   0.01  0.03  0.03  0.000009"
      ]
     },
     "metadata": {},
     "output_type": "display_data"
    }
   ],
   "source": [
    "head(combos)"
   ]
  },
  {
   "cell_type": "code",
   "execution_count": 18,
   "metadata": {},
   "outputs": [
    {
     "data": {
      "text/html": [
       "1"
      ],
      "text/latex": [
       "1"
      ],
      "text/markdown": [
       "1"
      ],
      "text/plain": [
       "[1] 1"
      ]
     },
     "metadata": {},
     "output_type": "display_data"
    }
   ],
   "source": [
    "sum(combos$prob)"
   ]
  },
  {
   "cell_type": "code",
   "execution_count": 20,
   "metadata": {},
   "outputs": [
    {
     "data": {
      "text/html": [
       "'data.frame'"
      ],
      "text/latex": [
       "'data.frame'"
      ],
      "text/markdown": [
       "'data.frame'"
      ],
      "text/plain": [
       "[1] \"data.frame\""
      ]
     },
     "metadata": {},
     "output_type": "display_data"
    }
   ],
   "source": [
    "class(combos)"
   ]
  },
  {
   "cell_type": "code",
   "execution_count": null,
   "metadata": {},
   "outputs": [],
   "source": []
  }
 ],
 "metadata": {
  "kernelspec": {
   "display_name": "R",
   "language": "R",
   "name": "ir"
  },
  "language_info": {
   "codemirror_mode": "r",
   "file_extension": ".r",
   "mimetype": "text/x-r-source",
   "name": "R",
   "pygments_lexer": "r",
   "version": "3.6.1"
  }
 },
 "nbformat": 4,
 "nbformat_minor": 2
}
