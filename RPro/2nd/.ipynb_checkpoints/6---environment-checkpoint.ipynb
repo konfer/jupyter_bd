{
 "cells": [
  {
   "cell_type": "code",
   "execution_count": 1,
   "metadata": {},
   "outputs": [
    {
     "name": "stderr",
     "output_type": "stream",
     "text": [
      "Loading required package: usethis\n",
      "\n"
     ]
    }
   ],
   "source": [
    "library(devtools)"
   ]
  },
  {
   "cell_type": "code",
   "execution_count": 2,
   "metadata": {},
   "outputs": [],
   "source": [
    "deck <- read.csv(\"/usr/local/codePro/jupyter-bd/RPro/deck.csv\")"
   ]
  },
  {
   "cell_type": "code",
   "execution_count": 3,
   "metadata": {},
   "outputs": [
    {
     "name": "stderr",
     "output_type": "stream",
     "text": [
      "Registered S3 method overwritten by 'pryr':\n",
      "  method      from\n",
      "  print.bytes Rcpp\n",
      "\n"
     ]
    }
   ],
   "source": [
    "library(pryr)"
   ]
  },
  {
   "cell_type": "code",
   "execution_count": 4,
   "metadata": {},
   "outputs": [
    {
     "data": {
      "text/plain": [
       "   label                            name               \n",
       "1  <environment: R_GlobalEnv>       \"\"                 \n",
       "2  <environment: package:pryr>      \"package:pryr\"     \n",
       "3  <environment: package:devtools>  \"package:devtools\" \n",
       "4  <environment: package:usethis>   \"package:usethis\"  \n",
       "5  <environment: 0x3f22190>         \"jupyter:irkernel\" \n",
       "6  <environment: package:stats>     \"package:stats\"    \n",
       "7  <environment: package:graphics>  \"package:graphics\" \n",
       "8  <environment: package:grDevices> \"package:grDevices\"\n",
       "9  <environment: package:utils>     \"package:utils\"    \n",
       "10 <environment: package:datasets>  \"package:datasets\" \n",
       "11 <environment: package:methods>   \"package:methods\"  \n",
       "12 <environment: 0x1bdaa80>         \"Autoloads\"        \n",
       "13 <environment: base>              \"\"                 \n",
       "14 <environment: R_EmptyEnv>        \"\"                 "
      ]
     },
     "metadata": {},
     "output_type": "display_data"
    }
   ],
   "source": [
    "parenvs(all = TRUE)"
   ]
  },
  {
   "cell_type": "code",
   "execution_count": 5,
   "metadata": {},
   "outputs": [
    {
     "data": {
      "text/html": [
       "<table>\n",
       "<caption>A data.frame: 52 × 3</caption>\n",
       "<thead>\n",
       "\t<tr><th scope=col>face</th><th scope=col>suit</th><th scope=col>value</th></tr>\n",
       "\t<tr><th scope=col>&lt;fct&gt;</th><th scope=col>&lt;fct&gt;</th><th scope=col>&lt;int&gt;</th></tr>\n",
       "</thead>\n",
       "<tbody>\n",
       "\t<tr><td>king </td><td>spades  </td><td>13</td></tr>\n",
       "\t<tr><td>queen</td><td>spades  </td><td>12</td></tr>\n",
       "\t<tr><td>jack </td><td>spades  </td><td>11</td></tr>\n",
       "\t<tr><td>ten  </td><td>spades  </td><td>10</td></tr>\n",
       "\t<tr><td>nine </td><td>spades  </td><td> 9</td></tr>\n",
       "\t<tr><td>eight</td><td>spades  </td><td> 8</td></tr>\n",
       "\t<tr><td>seven</td><td>spades  </td><td> 7</td></tr>\n",
       "\t<tr><td>six  </td><td>spades  </td><td> 6</td></tr>\n",
       "\t<tr><td>five </td><td>spades  </td><td> 5</td></tr>\n",
       "\t<tr><td>four </td><td>spades  </td><td> 4</td></tr>\n",
       "\t<tr><td>three</td><td>spades  </td><td> 3</td></tr>\n",
       "\t<tr><td>two  </td><td>spades  </td><td> 2</td></tr>\n",
       "\t<tr><td>ace  </td><td>spades  </td><td> 1</td></tr>\n",
       "\t<tr><td>king </td><td>clubs   </td><td>13</td></tr>\n",
       "\t<tr><td>queen</td><td>clubs   </td><td>12</td></tr>\n",
       "\t<tr><td>jack </td><td>clubs   </td><td>11</td></tr>\n",
       "\t<tr><td>ten  </td><td>clubs   </td><td>10</td></tr>\n",
       "\t<tr><td>nine </td><td>clubs   </td><td> 9</td></tr>\n",
       "\t<tr><td>eight</td><td>clubs   </td><td> 8</td></tr>\n",
       "\t<tr><td>seven</td><td>clubs   </td><td> 7</td></tr>\n",
       "\t<tr><td>six  </td><td>clubs   </td><td> 6</td></tr>\n",
       "\t<tr><td>five </td><td>clubs   </td><td> 5</td></tr>\n",
       "\t<tr><td>four </td><td>clubs   </td><td> 4</td></tr>\n",
       "\t<tr><td>three</td><td>clubs   </td><td> 3</td></tr>\n",
       "\t<tr><td>two  </td><td>clubs   </td><td> 2</td></tr>\n",
       "\t<tr><td>ace  </td><td>clubs   </td><td> 1</td></tr>\n",
       "\t<tr><td>king </td><td>diamonds</td><td>13</td></tr>\n",
       "\t<tr><td>queen</td><td>diamonds</td><td>12</td></tr>\n",
       "\t<tr><td>jack </td><td>diamonds</td><td>11</td></tr>\n",
       "\t<tr><td>ten  </td><td>diamonds</td><td>10</td></tr>\n",
       "\t<tr><td>nine </td><td>diamonds</td><td> 9</td></tr>\n",
       "\t<tr><td>eight</td><td>diamonds</td><td> 8</td></tr>\n",
       "\t<tr><td>seven</td><td>diamonds</td><td> 7</td></tr>\n",
       "\t<tr><td>six  </td><td>diamonds</td><td> 6</td></tr>\n",
       "\t<tr><td>five </td><td>diamonds</td><td> 5</td></tr>\n",
       "\t<tr><td>four </td><td>diamonds</td><td> 4</td></tr>\n",
       "\t<tr><td>three</td><td>diamonds</td><td> 3</td></tr>\n",
       "\t<tr><td>two  </td><td>diamonds</td><td> 2</td></tr>\n",
       "\t<tr><td>ace  </td><td>diamonds</td><td> 1</td></tr>\n",
       "\t<tr><td>king </td><td>hearts  </td><td>13</td></tr>\n",
       "\t<tr><td>queen</td><td>hearts  </td><td>12</td></tr>\n",
       "\t<tr><td>jack </td><td>hearts  </td><td>11</td></tr>\n",
       "\t<tr><td>ten  </td><td>hearts  </td><td>10</td></tr>\n",
       "\t<tr><td>nine </td><td>hearts  </td><td> 9</td></tr>\n",
       "\t<tr><td>eight</td><td>hearts  </td><td> 8</td></tr>\n",
       "\t<tr><td>seven</td><td>hearts  </td><td> 7</td></tr>\n",
       "\t<tr><td>six  </td><td>hearts  </td><td> 6</td></tr>\n",
       "\t<tr><td>five </td><td>hearts  </td><td> 5</td></tr>\n",
       "\t<tr><td>four </td><td>hearts  </td><td> 4</td></tr>\n",
       "\t<tr><td>three</td><td>hearts  </td><td> 3</td></tr>\n",
       "\t<tr><td>two  </td><td>hearts  </td><td> 2</td></tr>\n",
       "\t<tr><td>ace  </td><td>hearts  </td><td> 1</td></tr>\n",
       "</tbody>\n",
       "</table>\n"
      ],
      "text/latex": [
       "A data.frame: 52 × 3\n",
       "\\begin{tabular}{r|lll}\n",
       " face & suit & value\\\\\n",
       " <fct> & <fct> & <int>\\\\\n",
       "\\hline\n",
       "\t king  & spades   & 13\\\\\n",
       "\t queen & spades   & 12\\\\\n",
       "\t jack  & spades   & 11\\\\\n",
       "\t ten   & spades   & 10\\\\\n",
       "\t nine  & spades   &  9\\\\\n",
       "\t eight & spades   &  8\\\\\n",
       "\t seven & spades   &  7\\\\\n",
       "\t six   & spades   &  6\\\\\n",
       "\t five  & spades   &  5\\\\\n",
       "\t four  & spades   &  4\\\\\n",
       "\t three & spades   &  3\\\\\n",
       "\t two   & spades   &  2\\\\\n",
       "\t ace   & spades   &  1\\\\\n",
       "\t king  & clubs    & 13\\\\\n",
       "\t queen & clubs    & 12\\\\\n",
       "\t jack  & clubs    & 11\\\\\n",
       "\t ten   & clubs    & 10\\\\\n",
       "\t nine  & clubs    &  9\\\\\n",
       "\t eight & clubs    &  8\\\\\n",
       "\t seven & clubs    &  7\\\\\n",
       "\t six   & clubs    &  6\\\\\n",
       "\t five  & clubs    &  5\\\\\n",
       "\t four  & clubs    &  4\\\\\n",
       "\t three & clubs    &  3\\\\\n",
       "\t two   & clubs    &  2\\\\\n",
       "\t ace   & clubs    &  1\\\\\n",
       "\t king  & diamonds & 13\\\\\n",
       "\t queen & diamonds & 12\\\\\n",
       "\t jack  & diamonds & 11\\\\\n",
       "\t ten   & diamonds & 10\\\\\n",
       "\t nine  & diamonds &  9\\\\\n",
       "\t eight & diamonds &  8\\\\\n",
       "\t seven & diamonds &  7\\\\\n",
       "\t six   & diamonds &  6\\\\\n",
       "\t five  & diamonds &  5\\\\\n",
       "\t four  & diamonds &  4\\\\\n",
       "\t three & diamonds &  3\\\\\n",
       "\t two   & diamonds &  2\\\\\n",
       "\t ace   & diamonds &  1\\\\\n",
       "\t king  & hearts   & 13\\\\\n",
       "\t queen & hearts   & 12\\\\\n",
       "\t jack  & hearts   & 11\\\\\n",
       "\t ten   & hearts   & 10\\\\\n",
       "\t nine  & hearts   &  9\\\\\n",
       "\t eight & hearts   &  8\\\\\n",
       "\t seven & hearts   &  7\\\\\n",
       "\t six   & hearts   &  6\\\\\n",
       "\t five  & hearts   &  5\\\\\n",
       "\t four  & hearts   &  4\\\\\n",
       "\t three & hearts   &  3\\\\\n",
       "\t two   & hearts   &  2\\\\\n",
       "\t ace   & hearts   &  1\\\\\n",
       "\\end{tabular}\n"
      ],
      "text/markdown": [
       "\n",
       "A data.frame: 52 × 3\n",
       "\n",
       "| face &lt;fct&gt; | suit &lt;fct&gt; | value &lt;int&gt; |\n",
       "|---|---|---|\n",
       "| king  | spades   | 13 |\n",
       "| queen | spades   | 12 |\n",
       "| jack  | spades   | 11 |\n",
       "| ten   | spades   | 10 |\n",
       "| nine  | spades   |  9 |\n",
       "| eight | spades   |  8 |\n",
       "| seven | spades   |  7 |\n",
       "| six   | spades   |  6 |\n",
       "| five  | spades   |  5 |\n",
       "| four  | spades   |  4 |\n",
       "| three | spades   |  3 |\n",
       "| two   | spades   |  2 |\n",
       "| ace   | spades   |  1 |\n",
       "| king  | clubs    | 13 |\n",
       "| queen | clubs    | 12 |\n",
       "| jack  | clubs    | 11 |\n",
       "| ten   | clubs    | 10 |\n",
       "| nine  | clubs    |  9 |\n",
       "| eight | clubs    |  8 |\n",
       "| seven | clubs    |  7 |\n",
       "| six   | clubs    |  6 |\n",
       "| five  | clubs    |  5 |\n",
       "| four  | clubs    |  4 |\n",
       "| three | clubs    |  3 |\n",
       "| two   | clubs    |  2 |\n",
       "| ace   | clubs    |  1 |\n",
       "| king  | diamonds | 13 |\n",
       "| queen | diamonds | 12 |\n",
       "| jack  | diamonds | 11 |\n",
       "| ten   | diamonds | 10 |\n",
       "| nine  | diamonds |  9 |\n",
       "| eight | diamonds |  8 |\n",
       "| seven | diamonds |  7 |\n",
       "| six   | diamonds |  6 |\n",
       "| five  | diamonds |  5 |\n",
       "| four  | diamonds |  4 |\n",
       "| three | diamonds |  3 |\n",
       "| two   | diamonds |  2 |\n",
       "| ace   | diamonds |  1 |\n",
       "| king  | hearts   | 13 |\n",
       "| queen | hearts   | 12 |\n",
       "| jack  | hearts   | 11 |\n",
       "| ten   | hearts   | 10 |\n",
       "| nine  | hearts   |  9 |\n",
       "| eight | hearts   |  8 |\n",
       "| seven | hearts   |  7 |\n",
       "| six   | hearts   |  6 |\n",
       "| five  | hearts   |  5 |\n",
       "| four  | hearts   |  4 |\n",
       "| three | hearts   |  3 |\n",
       "| two   | hearts   |  2 |\n",
       "| ace   | hearts   |  1 |\n",
       "\n"
      ],
      "text/plain": [
       "   face  suit     value\n",
       "1  king  spades   13   \n",
       "2  queen spades   12   \n",
       "3  jack  spades   11   \n",
       "4  ten   spades   10   \n",
       "5  nine  spades    9   \n",
       "6  eight spades    8   \n",
       "7  seven spades    7   \n",
       "8  six   spades    6   \n",
       "9  five  spades    5   \n",
       "10 four  spades    4   \n",
       "11 three spades    3   \n",
       "12 two   spades    2   \n",
       "13 ace   spades    1   \n",
       "14 king  clubs    13   \n",
       "15 queen clubs    12   \n",
       "16 jack  clubs    11   \n",
       "17 ten   clubs    10   \n",
       "18 nine  clubs     9   \n",
       "19 eight clubs     8   \n",
       "20 seven clubs     7   \n",
       "21 six   clubs     6   \n",
       "22 five  clubs     5   \n",
       "23 four  clubs     4   \n",
       "24 three clubs     3   \n",
       "25 two   clubs     2   \n",
       "26 ace   clubs     1   \n",
       "27 king  diamonds 13   \n",
       "28 queen diamonds 12   \n",
       "29 jack  diamonds 11   \n",
       "30 ten   diamonds 10   \n",
       "31 nine  diamonds  9   \n",
       "32 eight diamonds  8   \n",
       "33 seven diamonds  7   \n",
       "34 six   diamonds  6   \n",
       "35 five  diamonds  5   \n",
       "36 four  diamonds  4   \n",
       "37 three diamonds  3   \n",
       "38 two   diamonds  2   \n",
       "39 ace   diamonds  1   \n",
       "40 king  hearts   13   \n",
       "41 queen hearts   12   \n",
       "42 jack  hearts   11   \n",
       "43 ten   hearts   10   \n",
       "44 nine  hearts    9   \n",
       "45 eight hearts    8   \n",
       "46 seven hearts    7   \n",
       "47 six   hearts    6   \n",
       "48 five  hearts    5   \n",
       "49 four  hearts    4   \n",
       "50 three hearts    3   \n",
       "51 two   hearts    2   \n",
       "52 ace   hearts    1   "
      ]
     },
     "metadata": {},
     "output_type": "display_data"
    }
   ],
   "source": [
    "globalenv()$deck"
   ]
  },
  {
   "cell_type": "code",
   "execution_count": 6,
   "metadata": {},
   "outputs": [
    {
     "data": {
      "text/plain": [
       "<environment: 0x3f22190>\n",
       "attr(,\"name\")\n",
       "[1] \"jupyter:irkernel\""
      ]
     },
     "metadata": {},
     "output_type": "display_data"
    }
   ],
   "source": [
    "parent.env(as.environment(\"package:usethis\"))"
   ]
  },
  {
   "cell_type": "code",
   "execution_count": 7,
   "metadata": {},
   "outputs": [
    {
     "data": {
      "text/plain": [
       "<environment: package:pryr>\n",
       "attr(,\"name\")\n",
       "[1] \"package:pryr\"\n",
       "attr(,\"path\")\n",
       "[1] \"/home/yuanlin/R/x86_64-pc-linux-gnu-library/3.6/pryr\""
      ]
     },
     "metadata": {},
     "output_type": "display_data"
    }
   ],
   "source": [
    "parent.env(globalenv())"
   ]
  },
  {
   "cell_type": "code",
   "execution_count": 8,
   "metadata": {},
   "outputs": [],
   "source": [
    "assign(\"deck2\", 1:12, envir = globalenv())"
   ]
  },
  {
   "cell_type": "code",
   "execution_count": 9,
   "metadata": {},
   "outputs": [
    {
     "data": {
      "text/html": [
       "<ol class=list-inline>\n",
       "\t<li>1</li>\n",
       "\t<li>2</li>\n",
       "\t<li>3</li>\n",
       "\t<li>4</li>\n",
       "\t<li>5</li>\n",
       "\t<li>6</li>\n",
       "\t<li>7</li>\n",
       "\t<li>8</li>\n",
       "\t<li>9</li>\n",
       "\t<li>10</li>\n",
       "\t<li>11</li>\n",
       "\t<li>12</li>\n",
       "</ol>\n"
      ],
      "text/latex": [
       "\\begin{enumerate*}\n",
       "\\item 1\n",
       "\\item 2\n",
       "\\item 3\n",
       "\\item 4\n",
       "\\item 5\n",
       "\\item 6\n",
       "\\item 7\n",
       "\\item 8\n",
       "\\item 9\n",
       "\\item 10\n",
       "\\item 11\n",
       "\\item 12\n",
       "\\end{enumerate*}\n"
      ],
      "text/markdown": [
       "1. 1\n",
       "2. 2\n",
       "3. 3\n",
       "4. 4\n",
       "5. 5\n",
       "6. 6\n",
       "7. 7\n",
       "8. 8\n",
       "9. 9\n",
       "10. 10\n",
       "11. 11\n",
       "12. 12\n",
       "\n",
       "\n"
      ],
      "text/plain": [
       " [1]  1  2  3  4  5  6  7  8  9 10 11 12"
      ]
     },
     "metadata": {},
     "output_type": "display_data"
    }
   ],
   "source": [
    "deck2"
   ]
  },
  {
   "cell_type": "code",
   "execution_count": 10,
   "metadata": {},
   "outputs": [
    {
     "data": {
      "text/plain": [
       "<environment: R_GlobalEnv>"
      ]
     },
     "metadata": {},
     "output_type": "display_data"
    }
   ],
   "source": [
    "environment()"
   ]
  },
  {
   "cell_type": "code",
   "execution_count": 11,
   "metadata": {},
   "outputs": [],
   "source": [
    "show_env <- function() { \n",
    "    list(ran.in = environment(),\n",
    "    parent = parent.env(environment()),\n",
    "    objects = ls.str(environment())) \n",
    "}"
   ]
  },
  {
   "cell_type": "code",
   "execution_count": 12,
   "metadata": {},
   "outputs": [
    {
     "data": {
      "text/plain": [
       "$ran.in\n",
       "<environment: 0x5579968>\n",
       "\n",
       "$parent\n",
       "<environment: R_GlobalEnv>\n",
       "\n",
       "$objects\n"
      ]
     },
     "metadata": {},
     "output_type": "display_data"
    }
   ],
   "source": [
    "show_env()"
   ]
  },
  {
   "cell_type": "code",
   "execution_count": 13,
   "metadata": {},
   "outputs": [
    {
     "data": {
      "text/plain": [
       "<environment: R_GlobalEnv>"
      ]
     },
     "metadata": {},
     "output_type": "display_data"
    }
   ],
   "source": [
    "environment()"
   ]
  },
  {
   "cell_type": "code",
   "execution_count": 14,
   "metadata": {},
   "outputs": [
    {
     "data": {
      "text/html": [
       "<table>\n",
       "<caption>A data.frame: 52 × 3</caption>\n",
       "<thead>\n",
       "\t<tr><th scope=col>face</th><th scope=col>suit</th><th scope=col>value</th></tr>\n",
       "\t<tr><th scope=col>&lt;fct&gt;</th><th scope=col>&lt;fct&gt;</th><th scope=col>&lt;int&gt;</th></tr>\n",
       "</thead>\n",
       "<tbody>\n",
       "\t<tr><td>king </td><td>spades  </td><td>13</td></tr>\n",
       "\t<tr><td>queen</td><td>spades  </td><td>12</td></tr>\n",
       "\t<tr><td>jack </td><td>spades  </td><td>11</td></tr>\n",
       "\t<tr><td>ten  </td><td>spades  </td><td>10</td></tr>\n",
       "\t<tr><td>nine </td><td>spades  </td><td> 9</td></tr>\n",
       "\t<tr><td>eight</td><td>spades  </td><td> 8</td></tr>\n",
       "\t<tr><td>seven</td><td>spades  </td><td> 7</td></tr>\n",
       "\t<tr><td>six  </td><td>spades  </td><td> 6</td></tr>\n",
       "\t<tr><td>five </td><td>spades  </td><td> 5</td></tr>\n",
       "\t<tr><td>four </td><td>spades  </td><td> 4</td></tr>\n",
       "\t<tr><td>three</td><td>spades  </td><td> 3</td></tr>\n",
       "\t<tr><td>two  </td><td>spades  </td><td> 2</td></tr>\n",
       "\t<tr><td>ace  </td><td>spades  </td><td> 1</td></tr>\n",
       "\t<tr><td>king </td><td>clubs   </td><td>13</td></tr>\n",
       "\t<tr><td>queen</td><td>clubs   </td><td>12</td></tr>\n",
       "\t<tr><td>jack </td><td>clubs   </td><td>11</td></tr>\n",
       "\t<tr><td>ten  </td><td>clubs   </td><td>10</td></tr>\n",
       "\t<tr><td>nine </td><td>clubs   </td><td> 9</td></tr>\n",
       "\t<tr><td>eight</td><td>clubs   </td><td> 8</td></tr>\n",
       "\t<tr><td>seven</td><td>clubs   </td><td> 7</td></tr>\n",
       "\t<tr><td>six  </td><td>clubs   </td><td> 6</td></tr>\n",
       "\t<tr><td>five </td><td>clubs   </td><td> 5</td></tr>\n",
       "\t<tr><td>four </td><td>clubs   </td><td> 4</td></tr>\n",
       "\t<tr><td>three</td><td>clubs   </td><td> 3</td></tr>\n",
       "\t<tr><td>two  </td><td>clubs   </td><td> 2</td></tr>\n",
       "\t<tr><td>ace  </td><td>clubs   </td><td> 1</td></tr>\n",
       "\t<tr><td>king </td><td>diamonds</td><td>13</td></tr>\n",
       "\t<tr><td>queen</td><td>diamonds</td><td>12</td></tr>\n",
       "\t<tr><td>jack </td><td>diamonds</td><td>11</td></tr>\n",
       "\t<tr><td>ten  </td><td>diamonds</td><td>10</td></tr>\n",
       "\t<tr><td>nine </td><td>diamonds</td><td> 9</td></tr>\n",
       "\t<tr><td>eight</td><td>diamonds</td><td> 8</td></tr>\n",
       "\t<tr><td>seven</td><td>diamonds</td><td> 7</td></tr>\n",
       "\t<tr><td>six  </td><td>diamonds</td><td> 6</td></tr>\n",
       "\t<tr><td>five </td><td>diamonds</td><td> 5</td></tr>\n",
       "\t<tr><td>four </td><td>diamonds</td><td> 4</td></tr>\n",
       "\t<tr><td>three</td><td>diamonds</td><td> 3</td></tr>\n",
       "\t<tr><td>two  </td><td>diamonds</td><td> 2</td></tr>\n",
       "\t<tr><td>ace  </td><td>diamonds</td><td> 1</td></tr>\n",
       "\t<tr><td>king </td><td>hearts  </td><td>13</td></tr>\n",
       "\t<tr><td>queen</td><td>hearts  </td><td>12</td></tr>\n",
       "\t<tr><td>jack </td><td>hearts  </td><td>11</td></tr>\n",
       "\t<tr><td>ten  </td><td>hearts  </td><td>10</td></tr>\n",
       "\t<tr><td>nine </td><td>hearts  </td><td> 9</td></tr>\n",
       "\t<tr><td>eight</td><td>hearts  </td><td> 8</td></tr>\n",
       "\t<tr><td>seven</td><td>hearts  </td><td> 7</td></tr>\n",
       "\t<tr><td>six  </td><td>hearts  </td><td> 6</td></tr>\n",
       "\t<tr><td>five </td><td>hearts  </td><td> 5</td></tr>\n",
       "\t<tr><td>four </td><td>hearts  </td><td> 4</td></tr>\n",
       "\t<tr><td>three</td><td>hearts  </td><td> 3</td></tr>\n",
       "\t<tr><td>two  </td><td>hearts  </td><td> 2</td></tr>\n",
       "\t<tr><td>ace  </td><td>hearts  </td><td> 1</td></tr>\n",
       "</tbody>\n",
       "</table>\n"
      ],
      "text/latex": [
       "A data.frame: 52 × 3\n",
       "\\begin{tabular}{r|lll}\n",
       " face & suit & value\\\\\n",
       " <fct> & <fct> & <int>\\\\\n",
       "\\hline\n",
       "\t king  & spades   & 13\\\\\n",
       "\t queen & spades   & 12\\\\\n",
       "\t jack  & spades   & 11\\\\\n",
       "\t ten   & spades   & 10\\\\\n",
       "\t nine  & spades   &  9\\\\\n",
       "\t eight & spades   &  8\\\\\n",
       "\t seven & spades   &  7\\\\\n",
       "\t six   & spades   &  6\\\\\n",
       "\t five  & spades   &  5\\\\\n",
       "\t four  & spades   &  4\\\\\n",
       "\t three & spades   &  3\\\\\n",
       "\t two   & spades   &  2\\\\\n",
       "\t ace   & spades   &  1\\\\\n",
       "\t king  & clubs    & 13\\\\\n",
       "\t queen & clubs    & 12\\\\\n",
       "\t jack  & clubs    & 11\\\\\n",
       "\t ten   & clubs    & 10\\\\\n",
       "\t nine  & clubs    &  9\\\\\n",
       "\t eight & clubs    &  8\\\\\n",
       "\t seven & clubs    &  7\\\\\n",
       "\t six   & clubs    &  6\\\\\n",
       "\t five  & clubs    &  5\\\\\n",
       "\t four  & clubs    &  4\\\\\n",
       "\t three & clubs    &  3\\\\\n",
       "\t two   & clubs    &  2\\\\\n",
       "\t ace   & clubs    &  1\\\\\n",
       "\t king  & diamonds & 13\\\\\n",
       "\t queen & diamonds & 12\\\\\n",
       "\t jack  & diamonds & 11\\\\\n",
       "\t ten   & diamonds & 10\\\\\n",
       "\t nine  & diamonds &  9\\\\\n",
       "\t eight & diamonds &  8\\\\\n",
       "\t seven & diamonds &  7\\\\\n",
       "\t six   & diamonds &  6\\\\\n",
       "\t five  & diamonds &  5\\\\\n",
       "\t four  & diamonds &  4\\\\\n",
       "\t three & diamonds &  3\\\\\n",
       "\t two   & diamonds &  2\\\\\n",
       "\t ace   & diamonds &  1\\\\\n",
       "\t king  & hearts   & 13\\\\\n",
       "\t queen & hearts   & 12\\\\\n",
       "\t jack  & hearts   & 11\\\\\n",
       "\t ten   & hearts   & 10\\\\\n",
       "\t nine  & hearts   &  9\\\\\n",
       "\t eight & hearts   &  8\\\\\n",
       "\t seven & hearts   &  7\\\\\n",
       "\t six   & hearts   &  6\\\\\n",
       "\t five  & hearts   &  5\\\\\n",
       "\t four  & hearts   &  4\\\\\n",
       "\t three & hearts   &  3\\\\\n",
       "\t two   & hearts   &  2\\\\\n",
       "\t ace   & hearts   &  1\\\\\n",
       "\\end{tabular}\n"
      ],
      "text/markdown": [
       "\n",
       "A data.frame: 52 × 3\n",
       "\n",
       "| face &lt;fct&gt; | suit &lt;fct&gt; | value &lt;int&gt; |\n",
       "|---|---|---|\n",
       "| king  | spades   | 13 |\n",
       "| queen | spades   | 12 |\n",
       "| jack  | spades   | 11 |\n",
       "| ten   | spades   | 10 |\n",
       "| nine  | spades   |  9 |\n",
       "| eight | spades   |  8 |\n",
       "| seven | spades   |  7 |\n",
       "| six   | spades   |  6 |\n",
       "| five  | spades   |  5 |\n",
       "| four  | spades   |  4 |\n",
       "| three | spades   |  3 |\n",
       "| two   | spades   |  2 |\n",
       "| ace   | spades   |  1 |\n",
       "| king  | clubs    | 13 |\n",
       "| queen | clubs    | 12 |\n",
       "| jack  | clubs    | 11 |\n",
       "| ten   | clubs    | 10 |\n",
       "| nine  | clubs    |  9 |\n",
       "| eight | clubs    |  8 |\n",
       "| seven | clubs    |  7 |\n",
       "| six   | clubs    |  6 |\n",
       "| five  | clubs    |  5 |\n",
       "| four  | clubs    |  4 |\n",
       "| three | clubs    |  3 |\n",
       "| two   | clubs    |  2 |\n",
       "| ace   | clubs    |  1 |\n",
       "| king  | diamonds | 13 |\n",
       "| queen | diamonds | 12 |\n",
       "| jack  | diamonds | 11 |\n",
       "| ten   | diamonds | 10 |\n",
       "| nine  | diamonds |  9 |\n",
       "| eight | diamonds |  8 |\n",
       "| seven | diamonds |  7 |\n",
       "| six   | diamonds |  6 |\n",
       "| five  | diamonds |  5 |\n",
       "| four  | diamonds |  4 |\n",
       "| three | diamonds |  3 |\n",
       "| two   | diamonds |  2 |\n",
       "| ace   | diamonds |  1 |\n",
       "| king  | hearts   | 13 |\n",
       "| queen | hearts   | 12 |\n",
       "| jack  | hearts   | 11 |\n",
       "| ten   | hearts   | 10 |\n",
       "| nine  | hearts   |  9 |\n",
       "| eight | hearts   |  8 |\n",
       "| seven | hearts   |  7 |\n",
       "| six   | hearts   |  6 |\n",
       "| five  | hearts   |  5 |\n",
       "| four  | hearts   |  4 |\n",
       "| three | hearts   |  3 |\n",
       "| two   | hearts   |  2 |\n",
       "| ace   | hearts   |  1 |\n",
       "\n"
      ],
      "text/plain": [
       "   face  suit     value\n",
       "1  king  spades   13   \n",
       "2  queen spades   12   \n",
       "3  jack  spades   11   \n",
       "4  ten   spades   10   \n",
       "5  nine  spades    9   \n",
       "6  eight spades    8   \n",
       "7  seven spades    7   \n",
       "8  six   spades    6   \n",
       "9  five  spades    5   \n",
       "10 four  spades    4   \n",
       "11 three spades    3   \n",
       "12 two   spades    2   \n",
       "13 ace   spades    1   \n",
       "14 king  clubs    13   \n",
       "15 queen clubs    12   \n",
       "16 jack  clubs    11   \n",
       "17 ten   clubs    10   \n",
       "18 nine  clubs     9   \n",
       "19 eight clubs     8   \n",
       "20 seven clubs     7   \n",
       "21 six   clubs     6   \n",
       "22 five  clubs     5   \n",
       "23 four  clubs     4   \n",
       "24 three clubs     3   \n",
       "25 two   clubs     2   \n",
       "26 ace   clubs     1   \n",
       "27 king  diamonds 13   \n",
       "28 queen diamonds 12   \n",
       "29 jack  diamonds 11   \n",
       "30 ten   diamonds 10   \n",
       "31 nine  diamonds  9   \n",
       "32 eight diamonds  8   \n",
       "33 seven diamonds  7   \n",
       "34 six   diamonds  6   \n",
       "35 five  diamonds  5   \n",
       "36 four  diamonds  4   \n",
       "37 three diamonds  3   \n",
       "38 two   diamonds  2   \n",
       "39 ace   diamonds  1   \n",
       "40 king  hearts   13   \n",
       "41 queen hearts   12   \n",
       "42 jack  hearts   11   \n",
       "43 ten   hearts   10   \n",
       "44 nine  hearts    9   \n",
       "45 eight hearts    8   \n",
       "46 seven hearts    7   \n",
       "47 six   hearts    6   \n",
       "48 five  hearts    5   \n",
       "49 four  hearts    4   \n",
       "50 three hearts    3   \n",
       "51 two   hearts    2   \n",
       "52 ace   hearts    1   "
      ]
     },
     "metadata": {},
     "output_type": "display_data"
    }
   ],
   "source": [
    "deck"
   ]
  },
  {
   "cell_type": "code",
   "execution_count": 15,
   "metadata": {},
   "outputs": [
    {
     "data": {
      "text/html": [
       "3"
      ],
      "text/latex": [
       "3"
      ],
      "text/markdown": [
       "3"
      ],
      "text/plain": [
       "[1] 3"
      ]
     },
     "metadata": {},
     "output_type": "display_data"
    }
   ],
   "source": [
    "length(deck)"
   ]
  },
  {
   "cell_type": "code",
   "execution_count": 16,
   "metadata": {},
   "outputs": [],
   "source": [
    "deal <- function(){\n",
    "    deck[1, ]\n",
    "}"
   ]
  },
  {
   "cell_type": "code",
   "execution_count": 17,
   "metadata": {},
   "outputs": [
    {
     "data": {
      "text/html": [
       "<table>\n",
       "<caption>A data.frame: 1 × 3</caption>\n",
       "<thead>\n",
       "\t<tr><th scope=col>face</th><th scope=col>suit</th><th scope=col>value</th></tr>\n",
       "\t<tr><th scope=col>&lt;fct&gt;</th><th scope=col>&lt;fct&gt;</th><th scope=col>&lt;int&gt;</th></tr>\n",
       "</thead>\n",
       "<tbody>\n",
       "\t<tr><td>king</td><td>spades</td><td>13</td></tr>\n",
       "</tbody>\n",
       "</table>\n"
      ],
      "text/latex": [
       "A data.frame: 1 × 3\n",
       "\\begin{tabular}{r|lll}\n",
       " face & suit & value\\\\\n",
       " <fct> & <fct> & <int>\\\\\n",
       "\\hline\n",
       "\t king & spades & 13\\\\\n",
       "\\end{tabular}\n"
      ],
      "text/markdown": [
       "\n",
       "A data.frame: 1 × 3\n",
       "\n",
       "| face &lt;fct&gt; | suit &lt;fct&gt; | value &lt;int&gt; |\n",
       "|---|---|---|\n",
       "| king | spades | 13 |\n",
       "\n"
      ],
      "text/plain": [
       "  face suit   value\n",
       "1 king spades 13   "
      ]
     },
     "metadata": {},
     "output_type": "display_data"
    }
   ],
   "source": [
    "deal()"
   ]
  },
  {
   "cell_type": "code",
   "execution_count": 18,
   "metadata": {},
   "outputs": [],
   "source": [
    "?environment"
   ]
  },
  {
   "cell_type": "code",
   "execution_count": 19,
   "metadata": {},
   "outputs": [
    {
     "data": {
      "text/plain": [
       "<environment: R_GlobalEnv>"
      ]
     },
     "metadata": {},
     "output_type": "display_data"
    }
   ],
   "source": [
    "environment(deal)"
   ]
  },
  {
   "cell_type": "code",
   "execution_count": 25,
   "metadata": {},
   "outputs": [],
   "source": [
    "dealReal <- function(){\n",
    "    card <- deck[1, ]\n",
    "    assign(\"deck\", deck[-1, ], envir = globalenv())\n",
    "    card\n",
    "}"
   ]
  },
  {
   "cell_type": "code",
   "execution_count": 28,
   "metadata": {},
   "outputs": [
    {
     "data": {
      "text/html": [
       "<table>\n",
       "<caption>A data.frame: 1 × 3</caption>\n",
       "<thead>\n",
       "\t<tr><th></th><th scope=col>face</th><th scope=col>suit</th><th scope=col>value</th></tr>\n",
       "\t<tr><th></th><th scope=col>&lt;fct&gt;</th><th scope=col>&lt;fct&gt;</th><th scope=col>&lt;int&gt;</th></tr>\n",
       "</thead>\n",
       "<tbody>\n",
       "\t<tr><th scope=row>2</th><td>queen</td><td>spades</td><td>12</td></tr>\n",
       "</tbody>\n",
       "</table>\n"
      ],
      "text/latex": [
       "A data.frame: 1 × 3\n",
       "\\begin{tabular}{r|lll}\n",
       "  & face & suit & value\\\\\n",
       "  & <fct> & <fct> & <int>\\\\\n",
       "\\hline\n",
       "\t2 & queen & spades & 12\\\\\n",
       "\\end{tabular}\n"
      ],
      "text/markdown": [
       "\n",
       "A data.frame: 1 × 3\n",
       "\n",
       "| <!--/--> | face &lt;fct&gt; | suit &lt;fct&gt; | value &lt;int&gt; |\n",
       "|---|---|---|---|\n",
       "| 2 | queen | spades | 12 |\n",
       "\n"
      ],
      "text/plain": [
       "  face  suit   value\n",
       "2 queen spades 12   "
      ]
     },
     "metadata": {},
     "output_type": "display_data"
    }
   ],
   "source": [
    "dealReal()"
   ]
  },
  {
   "cell_type": "code",
   "execution_count": 29,
   "metadata": {},
   "outputs": [
    {
     "data": {
      "text/html": [
       "50"
      ],
      "text/latex": [
       "50"
      ],
      "text/markdown": [
       "50"
      ],
      "text/plain": [
       "[1] 50"
      ]
     },
     "metadata": {},
     "output_type": "display_data"
    }
   ],
   "source": [
    "nrow(deck)"
   ]
  }
 ],
 "metadata": {
  "kernelspec": {
   "display_name": "R",
   "language": "R",
   "name": "ir"
  },
  "language_info": {
   "codemirror_mode": "r",
   "file_extension": ".r",
   "mimetype": "text/x-r-source",
   "name": "R",
   "pygments_lexer": "r",
   "version": "3.6.1"
  }
 },
 "nbformat": 4,
 "nbformat_minor": 2
}
