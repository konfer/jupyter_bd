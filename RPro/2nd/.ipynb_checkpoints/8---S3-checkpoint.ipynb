{
 "cells": [
  {
   "cell_type": "code",
   "execution_count": 1,
   "metadata": {},
   "outputs": [],
   "source": [
    "deck <- read.csv(\"/usr/local/codePro/jupyter-bd/RPro/deck.csv\")"
   ]
  },
  {
   "cell_type": "code",
   "execution_count": 2,
   "metadata": {},
   "outputs": [
    {
     "data": {
      "text/html": [
       "<ol class=list-inline>\n",
       "\t<li>'1'</li>\n",
       "\t<li>'2'</li>\n",
       "\t<li>'3'</li>\n",
       "\t<li>'4'</li>\n",
       "\t<li>'5'</li>\n",
       "\t<li>'6'</li>\n",
       "\t<li>'7'</li>\n",
       "\t<li>'8'</li>\n",
       "\t<li>'9'</li>\n",
       "\t<li>'10'</li>\n",
       "\t<li>'11'</li>\n",
       "\t<li>'12'</li>\n",
       "\t<li>'13'</li>\n",
       "\t<li>'14'</li>\n",
       "\t<li>'15'</li>\n",
       "\t<li>'16'</li>\n",
       "\t<li>'17'</li>\n",
       "\t<li>'18'</li>\n",
       "\t<li>'19'</li>\n",
       "\t<li>'20'</li>\n",
       "\t<li>'21'</li>\n",
       "\t<li>'22'</li>\n",
       "\t<li>'23'</li>\n",
       "\t<li>'24'</li>\n",
       "\t<li>'25'</li>\n",
       "\t<li>'26'</li>\n",
       "\t<li>'27'</li>\n",
       "\t<li>'28'</li>\n",
       "\t<li>'29'</li>\n",
       "\t<li>'30'</li>\n",
       "\t<li>'31'</li>\n",
       "\t<li>'32'</li>\n",
       "\t<li>'33'</li>\n",
       "\t<li>'34'</li>\n",
       "\t<li>'35'</li>\n",
       "\t<li>'36'</li>\n",
       "\t<li>'37'</li>\n",
       "\t<li>'38'</li>\n",
       "\t<li>'39'</li>\n",
       "\t<li>'40'</li>\n",
       "\t<li>'41'</li>\n",
       "\t<li>'42'</li>\n",
       "\t<li>'43'</li>\n",
       "\t<li>'44'</li>\n",
       "\t<li>'45'</li>\n",
       "\t<li>'46'</li>\n",
       "\t<li>'47'</li>\n",
       "\t<li>'48'</li>\n",
       "\t<li>'49'</li>\n",
       "\t<li>'50'</li>\n",
       "\t<li>'51'</li>\n",
       "\t<li>'52'</li>\n",
       "</ol>\n"
      ],
      "text/latex": [
       "\\begin{enumerate*}\n",
       "\\item '1'\n",
       "\\item '2'\n",
       "\\item '3'\n",
       "\\item '4'\n",
       "\\item '5'\n",
       "\\item '6'\n",
       "\\item '7'\n",
       "\\item '8'\n",
       "\\item '9'\n",
       "\\item '10'\n",
       "\\item '11'\n",
       "\\item '12'\n",
       "\\item '13'\n",
       "\\item '14'\n",
       "\\item '15'\n",
       "\\item '16'\n",
       "\\item '17'\n",
       "\\item '18'\n",
       "\\item '19'\n",
       "\\item '20'\n",
       "\\item '21'\n",
       "\\item '22'\n",
       "\\item '23'\n",
       "\\item '24'\n",
       "\\item '25'\n",
       "\\item '26'\n",
       "\\item '27'\n",
       "\\item '28'\n",
       "\\item '29'\n",
       "\\item '30'\n",
       "\\item '31'\n",
       "\\item '32'\n",
       "\\item '33'\n",
       "\\item '34'\n",
       "\\item '35'\n",
       "\\item '36'\n",
       "\\item '37'\n",
       "\\item '38'\n",
       "\\item '39'\n",
       "\\item '40'\n",
       "\\item '41'\n",
       "\\item '42'\n",
       "\\item '43'\n",
       "\\item '44'\n",
       "\\item '45'\n",
       "\\item '46'\n",
       "\\item '47'\n",
       "\\item '48'\n",
       "\\item '49'\n",
       "\\item '50'\n",
       "\\item '51'\n",
       "\\item '52'\n",
       "\\end{enumerate*}\n"
      ],
      "text/markdown": [
       "1. '1'\n",
       "2. '2'\n",
       "3. '3'\n",
       "4. '4'\n",
       "5. '5'\n",
       "6. '6'\n",
       "7. '7'\n",
       "8. '8'\n",
       "9. '9'\n",
       "10. '10'\n",
       "11. '11'\n",
       "12. '12'\n",
       "13. '13'\n",
       "14. '14'\n",
       "15. '15'\n",
       "16. '16'\n",
       "17. '17'\n",
       "18. '18'\n",
       "19. '19'\n",
       "20. '20'\n",
       "21. '21'\n",
       "22. '22'\n",
       "23. '23'\n",
       "24. '24'\n",
       "25. '25'\n",
       "26. '26'\n",
       "27. '27'\n",
       "28. '28'\n",
       "29. '29'\n",
       "30. '30'\n",
       "31. '31'\n",
       "32. '32'\n",
       "33. '33'\n",
       "34. '34'\n",
       "35. '35'\n",
       "36. '36'\n",
       "37. '37'\n",
       "38. '38'\n",
       "39. '39'\n",
       "40. '40'\n",
       "41. '41'\n",
       "42. '42'\n",
       "43. '43'\n",
       "44. '44'\n",
       "45. '45'\n",
       "46. '46'\n",
       "47. '47'\n",
       "48. '48'\n",
       "49. '49'\n",
       "50. '50'\n",
       "51. '51'\n",
       "52. '52'\n",
       "\n",
       "\n"
      ],
      "text/plain": [
       " [1] \"1\"  \"2\"  \"3\"  \"4\"  \"5\"  \"6\"  \"7\"  \"8\"  \"9\"  \"10\" \"11\" \"12\" \"13\" \"14\" \"15\"\n",
       "[16] \"16\" \"17\" \"18\" \"19\" \"20\" \"21\" \"22\" \"23\" \"24\" \"25\" \"26\" \"27\" \"28\" \"29\" \"30\"\n",
       "[31] \"31\" \"32\" \"33\" \"34\" \"35\" \"36\" \"37\" \"38\" \"39\" \"40\" \"41\" \"42\" \"43\" \"44\" \"45\"\n",
       "[46] \"46\" \"47\" \"48\" \"49\" \"50\" \"51\" \"52\""
      ]
     },
     "metadata": {},
     "output_type": "display_data"
    }
   ],
   "source": [
    "row.names(deck)"
   ]
  },
  {
   "cell_type": "code",
   "execution_count": 3,
   "metadata": {},
   "outputs": [
    {
     "data": {
      "text/html": [
       "<table>\n",
       "<caption>A data.frame: 52 × 3</caption>\n",
       "<thead>\n",
       "\t<tr><th scope=col>face</th><th scope=col>suit</th><th scope=col>value</th></tr>\n",
       "\t<tr><th scope=col>&lt;fct&gt;</th><th scope=col>&lt;fct&gt;</th><th scope=col>&lt;int&gt;</th></tr>\n",
       "</thead>\n",
       "<tbody>\n",
       "\t<tr><td>king </td><td>spades  </td><td>13</td></tr>\n",
       "\t<tr><td>queen</td><td>spades  </td><td>12</td></tr>\n",
       "\t<tr><td>jack </td><td>spades  </td><td>11</td></tr>\n",
       "\t<tr><td>ten  </td><td>spades  </td><td>10</td></tr>\n",
       "\t<tr><td>nine </td><td>spades  </td><td> 9</td></tr>\n",
       "\t<tr><td>eight</td><td>spades  </td><td> 8</td></tr>\n",
       "\t<tr><td>seven</td><td>spades  </td><td> 7</td></tr>\n",
       "\t<tr><td>six  </td><td>spades  </td><td> 6</td></tr>\n",
       "\t<tr><td>five </td><td>spades  </td><td> 5</td></tr>\n",
       "\t<tr><td>four </td><td>spades  </td><td> 4</td></tr>\n",
       "\t<tr><td>three</td><td>spades  </td><td> 3</td></tr>\n",
       "\t<tr><td>two  </td><td>spades  </td><td> 2</td></tr>\n",
       "\t<tr><td>ace  </td><td>spades  </td><td> 1</td></tr>\n",
       "\t<tr><td>king </td><td>clubs   </td><td>13</td></tr>\n",
       "\t<tr><td>queen</td><td>clubs   </td><td>12</td></tr>\n",
       "\t<tr><td>jack </td><td>clubs   </td><td>11</td></tr>\n",
       "\t<tr><td>ten  </td><td>clubs   </td><td>10</td></tr>\n",
       "\t<tr><td>nine </td><td>clubs   </td><td> 9</td></tr>\n",
       "\t<tr><td>eight</td><td>clubs   </td><td> 8</td></tr>\n",
       "\t<tr><td>seven</td><td>clubs   </td><td> 7</td></tr>\n",
       "\t<tr><td>six  </td><td>clubs   </td><td> 6</td></tr>\n",
       "\t<tr><td>five </td><td>clubs   </td><td> 5</td></tr>\n",
       "\t<tr><td>four </td><td>clubs   </td><td> 4</td></tr>\n",
       "\t<tr><td>three</td><td>clubs   </td><td> 3</td></tr>\n",
       "\t<tr><td>two  </td><td>clubs   </td><td> 2</td></tr>\n",
       "\t<tr><td>ace  </td><td>clubs   </td><td> 1</td></tr>\n",
       "\t<tr><td>king </td><td>diamonds</td><td>13</td></tr>\n",
       "\t<tr><td>queen</td><td>diamonds</td><td>12</td></tr>\n",
       "\t<tr><td>jack </td><td>diamonds</td><td>11</td></tr>\n",
       "\t<tr><td>ten  </td><td>diamonds</td><td>10</td></tr>\n",
       "\t<tr><td>nine </td><td>diamonds</td><td> 9</td></tr>\n",
       "\t<tr><td>eight</td><td>diamonds</td><td> 8</td></tr>\n",
       "\t<tr><td>seven</td><td>diamonds</td><td> 7</td></tr>\n",
       "\t<tr><td>six  </td><td>diamonds</td><td> 6</td></tr>\n",
       "\t<tr><td>five </td><td>diamonds</td><td> 5</td></tr>\n",
       "\t<tr><td>four </td><td>diamonds</td><td> 4</td></tr>\n",
       "\t<tr><td>three</td><td>diamonds</td><td> 3</td></tr>\n",
       "\t<tr><td>two  </td><td>diamonds</td><td> 2</td></tr>\n",
       "\t<tr><td>ace  </td><td>diamonds</td><td> 1</td></tr>\n",
       "\t<tr><td>king </td><td>hearts  </td><td>13</td></tr>\n",
       "\t<tr><td>queen</td><td>hearts  </td><td>12</td></tr>\n",
       "\t<tr><td>jack </td><td>hearts  </td><td>11</td></tr>\n",
       "\t<tr><td>ten  </td><td>hearts  </td><td>10</td></tr>\n",
       "\t<tr><td>nine </td><td>hearts  </td><td> 9</td></tr>\n",
       "\t<tr><td>eight</td><td>hearts  </td><td> 8</td></tr>\n",
       "\t<tr><td>seven</td><td>hearts  </td><td> 7</td></tr>\n",
       "\t<tr><td>six  </td><td>hearts  </td><td> 6</td></tr>\n",
       "\t<tr><td>five </td><td>hearts  </td><td> 5</td></tr>\n",
       "\t<tr><td>four </td><td>hearts  </td><td> 4</td></tr>\n",
       "\t<tr><td>three</td><td>hearts  </td><td> 3</td></tr>\n",
       "\t<tr><td>two  </td><td>hearts  </td><td> 2</td></tr>\n",
       "\t<tr><td>ace  </td><td>hearts  </td><td> 1</td></tr>\n",
       "</tbody>\n",
       "</table>\n"
      ],
      "text/latex": [
       "A data.frame: 52 × 3\n",
       "\\begin{tabular}{r|lll}\n",
       " face & suit & value\\\\\n",
       " <fct> & <fct> & <int>\\\\\n",
       "\\hline\n",
       "\t king  & spades   & 13\\\\\n",
       "\t queen & spades   & 12\\\\\n",
       "\t jack  & spades   & 11\\\\\n",
       "\t ten   & spades   & 10\\\\\n",
       "\t nine  & spades   &  9\\\\\n",
       "\t eight & spades   &  8\\\\\n",
       "\t seven & spades   &  7\\\\\n",
       "\t six   & spades   &  6\\\\\n",
       "\t five  & spades   &  5\\\\\n",
       "\t four  & spades   &  4\\\\\n",
       "\t three & spades   &  3\\\\\n",
       "\t two   & spades   &  2\\\\\n",
       "\t ace   & spades   &  1\\\\\n",
       "\t king  & clubs    & 13\\\\\n",
       "\t queen & clubs    & 12\\\\\n",
       "\t jack  & clubs    & 11\\\\\n",
       "\t ten   & clubs    & 10\\\\\n",
       "\t nine  & clubs    &  9\\\\\n",
       "\t eight & clubs    &  8\\\\\n",
       "\t seven & clubs    &  7\\\\\n",
       "\t six   & clubs    &  6\\\\\n",
       "\t five  & clubs    &  5\\\\\n",
       "\t four  & clubs    &  4\\\\\n",
       "\t three & clubs    &  3\\\\\n",
       "\t two   & clubs    &  2\\\\\n",
       "\t ace   & clubs    &  1\\\\\n",
       "\t king  & diamonds & 13\\\\\n",
       "\t queen & diamonds & 12\\\\\n",
       "\t jack  & diamonds & 11\\\\\n",
       "\t ten   & diamonds & 10\\\\\n",
       "\t nine  & diamonds &  9\\\\\n",
       "\t eight & diamonds &  8\\\\\n",
       "\t seven & diamonds &  7\\\\\n",
       "\t six   & diamonds &  6\\\\\n",
       "\t five  & diamonds &  5\\\\\n",
       "\t four  & diamonds &  4\\\\\n",
       "\t three & diamonds &  3\\\\\n",
       "\t two   & diamonds &  2\\\\\n",
       "\t ace   & diamonds &  1\\\\\n",
       "\t king  & hearts   & 13\\\\\n",
       "\t queen & hearts   & 12\\\\\n",
       "\t jack  & hearts   & 11\\\\\n",
       "\t ten   & hearts   & 10\\\\\n",
       "\t nine  & hearts   &  9\\\\\n",
       "\t eight & hearts   &  8\\\\\n",
       "\t seven & hearts   &  7\\\\\n",
       "\t six   & hearts   &  6\\\\\n",
       "\t five  & hearts   &  5\\\\\n",
       "\t four  & hearts   &  4\\\\\n",
       "\t three & hearts   &  3\\\\\n",
       "\t two   & hearts   &  2\\\\\n",
       "\t ace   & hearts   &  1\\\\\n",
       "\\end{tabular}\n"
      ],
      "text/markdown": [
       "\n",
       "A data.frame: 52 × 3\n",
       "\n",
       "| face &lt;fct&gt; | suit &lt;fct&gt; | value &lt;int&gt; |\n",
       "|---|---|---|\n",
       "| king  | spades   | 13 |\n",
       "| queen | spades   | 12 |\n",
       "| jack  | spades   | 11 |\n",
       "| ten   | spades   | 10 |\n",
       "| nine  | spades   |  9 |\n",
       "| eight | spades   |  8 |\n",
       "| seven | spades   |  7 |\n",
       "| six   | spades   |  6 |\n",
       "| five  | spades   |  5 |\n",
       "| four  | spades   |  4 |\n",
       "| three | spades   |  3 |\n",
       "| two   | spades   |  2 |\n",
       "| ace   | spades   |  1 |\n",
       "| king  | clubs    | 13 |\n",
       "| queen | clubs    | 12 |\n",
       "| jack  | clubs    | 11 |\n",
       "| ten   | clubs    | 10 |\n",
       "| nine  | clubs    |  9 |\n",
       "| eight | clubs    |  8 |\n",
       "| seven | clubs    |  7 |\n",
       "| six   | clubs    |  6 |\n",
       "| five  | clubs    |  5 |\n",
       "| four  | clubs    |  4 |\n",
       "| three | clubs    |  3 |\n",
       "| two   | clubs    |  2 |\n",
       "| ace   | clubs    |  1 |\n",
       "| king  | diamonds | 13 |\n",
       "| queen | diamonds | 12 |\n",
       "| jack  | diamonds | 11 |\n",
       "| ten   | diamonds | 10 |\n",
       "| nine  | diamonds |  9 |\n",
       "| eight | diamonds |  8 |\n",
       "| seven | diamonds |  7 |\n",
       "| six   | diamonds |  6 |\n",
       "| five  | diamonds |  5 |\n",
       "| four  | diamonds |  4 |\n",
       "| three | diamonds |  3 |\n",
       "| two   | diamonds |  2 |\n",
       "| ace   | diamonds |  1 |\n",
       "| king  | hearts   | 13 |\n",
       "| queen | hearts   | 12 |\n",
       "| jack  | hearts   | 11 |\n",
       "| ten   | hearts   | 10 |\n",
       "| nine  | hearts   |  9 |\n",
       "| eight | hearts   |  8 |\n",
       "| seven | hearts   |  7 |\n",
       "| six   | hearts   |  6 |\n",
       "| five  | hearts   |  5 |\n",
       "| four  | hearts   |  4 |\n",
       "| three | hearts   |  3 |\n",
       "| two   | hearts   |  2 |\n",
       "| ace   | hearts   |  1 |\n",
       "\n"
      ],
      "text/plain": [
       "   face  suit     value\n",
       "1  king  spades   13   \n",
       "2  queen spades   12   \n",
       "3  jack  spades   11   \n",
       "4  ten   spades   10   \n",
       "5  nine  spades    9   \n",
       "6  eight spades    8   \n",
       "7  seven spades    7   \n",
       "8  six   spades    6   \n",
       "9  five  spades    5   \n",
       "10 four  spades    4   \n",
       "11 three spades    3   \n",
       "12 two   spades    2   \n",
       "13 ace   spades    1   \n",
       "14 king  clubs    13   \n",
       "15 queen clubs    12   \n",
       "16 jack  clubs    11   \n",
       "17 ten   clubs    10   \n",
       "18 nine  clubs     9   \n",
       "19 eight clubs     8   \n",
       "20 seven clubs     7   \n",
       "21 six   clubs     6   \n",
       "22 five  clubs     5   \n",
       "23 four  clubs     4   \n",
       "24 three clubs     3   \n",
       "25 two   clubs     2   \n",
       "26 ace   clubs     1   \n",
       "27 king  diamonds 13   \n",
       "28 queen diamonds 12   \n",
       "29 jack  diamonds 11   \n",
       "30 ten   diamonds 10   \n",
       "31 nine  diamonds  9   \n",
       "32 eight diamonds  8   \n",
       "33 seven diamonds  7   \n",
       "34 six   diamonds  6   \n",
       "35 five  diamonds  5   \n",
       "36 four  diamonds  4   \n",
       "37 three diamonds  3   \n",
       "38 two   diamonds  2   \n",
       "39 ace   diamonds  1   \n",
       "40 king  hearts   13   \n",
       "41 queen hearts   12   \n",
       "42 jack  hearts   11   \n",
       "43 ten   hearts   10   \n",
       "44 nine  hearts    9   \n",
       "45 eight hearts    8   \n",
       "46 seven hearts    7   \n",
       "47 six   hearts    6   \n",
       "48 five  hearts    5   \n",
       "49 four  hearts    4   \n",
       "50 three hearts    3   \n",
       "51 two   hearts    2   \n",
       "52 ace   hearts    1   "
      ]
     },
     "metadata": {},
     "output_type": "display_data"
    }
   ],
   "source": [
    "deck"
   ]
  },
  {
   "cell_type": "code",
   "execution_count": 7,
   "metadata": {},
   "outputs": [],
   "source": [
    "get_symbols <- function(){\n",
    "    wheel <- c(\"DD\", \"7\", \"BBB\", \"BB\", \"B\", \"C\", \"0\")\n",
    "    sample(wheel, size = 3, replace =TRUE, prob = c(0.03, 0.03, 0.06, 0.1, 0.25, 0.01, 0.52))\n",
    "}"
   ]
  },
  {
   "cell_type": "code",
   "execution_count": 10,
   "metadata": {},
   "outputs": [],
   "source": [
    "play <- function() { \n",
    "    symbols <- get_symbols() \n",
    "    print(symbols)\n",
    "}"
   ]
  },
  {
   "cell_type": "code",
   "execution_count": 11,
   "metadata": {},
   "outputs": [
    {
     "name": "stdout",
     "output_type": "stream",
     "text": [
      "[1] \"0\" \"B\" \"0\"\n"
     ]
    }
   ],
   "source": [
    "one_play <- play()"
   ]
  },
  {
   "cell_type": "code",
   "execution_count": 12,
   "metadata": {},
   "outputs": [
    {
     "data": {
      "text/plain": [
       "NULL"
      ]
     },
     "metadata": {},
     "output_type": "display_data"
    }
   ],
   "source": [
    "attributes(one_play)"
   ]
  },
  {
   "cell_type": "code",
   "execution_count": 13,
   "metadata": {},
   "outputs": [],
   "source": [
    "attr(one_play, \"symbols\") <- c(\"B\", \"0\", \"B\")"
   ]
  },
  {
   "cell_type": "code",
   "execution_count": 14,
   "metadata": {},
   "outputs": [
    {
     "data": {
      "text/html": [
       "<strong>$symbols</strong> = <ol class=list-inline>\n",
       "\t<li>'B'</li>\n",
       "\t<li>'0'</li>\n",
       "\t<li>'B'</li>\n",
       "</ol>\n"
      ],
      "text/latex": [
       "\\textbf{\\$symbols} = \\begin{enumerate*}\n",
       "\\item 'B'\n",
       "\\item '0'\n",
       "\\item 'B'\n",
       "\\end{enumerate*}\n"
      ],
      "text/markdown": [
       "**$symbols** = 1. 'B'\n",
       "2. '0'\n",
       "3. 'B'\n",
       "\n",
       "\n"
      ],
      "text/plain": [
       "$symbols\n",
       "[1] \"B\" \"0\" \"B\"\n"
      ]
     },
     "metadata": {},
     "output_type": "display_data"
    }
   ],
   "source": [
    "attributes(one_play)"
   ]
  },
  {
   "cell_type": "code",
   "execution_count": 17,
   "metadata": {},
   "outputs": [],
   "source": [
    "one_play <- 0"
   ]
  },
  {
   "cell_type": "code",
   "execution_count": 18,
   "metadata": {},
   "outputs": [
    {
     "data": {
      "text/plain": [
       "NULL"
      ]
     },
     "metadata": {},
     "output_type": "display_data"
    }
   ],
   "source": [
    "attributes(one_play)"
   ]
  },
  {
   "cell_type": "code",
   "execution_count": 20,
   "metadata": {},
   "outputs": [],
   "source": [
    "attr(one_play, \"symbols\") <- c(\"B\", \"0\", \"B\")"
   ]
  },
  {
   "cell_type": "code",
   "execution_count": 23,
   "metadata": {},
   "outputs": [
    {
     "data": {
      "text/html": [
       "<ol class=list-inline>\n",
       "\t<li>'B'</li>\n",
       "\t<li>'0'</li>\n",
       "\t<li>'B'</li>\n",
       "</ol>\n"
      ],
      "text/latex": [
       "\\begin{enumerate*}\n",
       "\\item 'B'\n",
       "\\item '0'\n",
       "\\item 'B'\n",
       "\\end{enumerate*}\n"
      ],
      "text/markdown": [
       "1. 'B'\n",
       "2. '0'\n",
       "3. 'B'\n",
       "\n",
       "\n"
      ],
      "text/plain": [
       "[1] \"B\" \"0\" \"B\""
      ]
     },
     "metadata": {},
     "output_type": "display_data"
    }
   ],
   "source": [
    "attr(one_play, \"symbols\")"
   ]
  },
  {
   "cell_type": "code",
   "execution_count": 22,
   "metadata": {},
   "outputs": [
    {
     "data": {
      "text/html": [
       "1"
      ],
      "text/latex": [
       "1"
      ],
      "text/markdown": [
       "1"
      ],
      "text/plain": [
       "[1] 1\n",
       "attr(,\"symbols\")\n",
       "[1] \"B\" \"0\" \"B\""
      ]
     },
     "metadata": {},
     "output_type": "display_data"
    }
   ],
   "source": [
    "one_play + 1"
   ]
  },
  {
   "cell_type": "code",
   "execution_count": 24,
   "metadata": {},
   "outputs": [
    {
     "data": {
      "text/html": [
       "0"
      ],
      "text/latex": [
       "0"
      ],
      "text/markdown": [
       "0"
      ],
      "text/plain": [
       "[1] 0\n",
       "attr(,\"symbols\")\n",
       "[1] \"B\" \"0\" \"B\""
      ]
     },
     "metadata": {},
     "output_type": "display_data"
    }
   ],
   "source": [
    "one_play"
   ]
  },
  {
   "cell_type": "code",
   "execution_count": 26,
   "metadata": {},
   "outputs": [
    {
     "data": {
      "text/html": [
       "<strong>$symbols</strong> = <ol class=list-inline>\n",
       "\t<li>'B'</li>\n",
       "\t<li>'0'</li>\n",
       "\t<li>'B'</li>\n",
       "</ol>\n"
      ],
      "text/latex": [
       "\\textbf{\\$symbols} = \\begin{enumerate*}\n",
       "\\item 'B'\n",
       "\\item '0'\n",
       "\\item 'B'\n",
       "\\end{enumerate*}\n"
      ],
      "text/markdown": [
       "**$symbols** = 1. 'B'\n",
       "2. '0'\n",
       "3. 'B'\n",
       "\n",
       "\n"
      ],
      "text/plain": [
       "$symbols\n",
       "[1] \"B\" \"0\" \"B\"\n"
      ]
     },
     "metadata": {},
     "output_type": "display_data"
    }
   ],
   "source": [
    "attributes(one_play)"
   ]
  },
  {
   "cell_type": "code",
   "execution_count": null,
   "metadata": {},
   "outputs": [],
   "source": []
  }
 ],
 "metadata": {
  "kernelspec": {
   "display_name": "R",
   "language": "R",
   "name": "ir"
  },
  "language_info": {
   "codemirror_mode": "r",
   "file_extension": ".r",
   "mimetype": "text/x-r-source",
   "name": "R",
   "pygments_lexer": "r",
   "version": "3.6.1"
  }
 },
 "nbformat": 4,
 "nbformat_minor": 2
}
