{
 "cells": [
  {
   "cell_type": "code",
   "execution_count": 3,
   "metadata": {},
   "outputs": [],
   "source": [
    "deck <- read.csv(file=\"/usr/local/konfer/jupyterPro/RPro/deck.csv\",header=T,sep=\",\")"
   ]
  },
  {
   "cell_type": "code",
   "execution_count": 7,
   "metadata": {},
   "outputs": [
    {
     "data": {
      "text/html": [
       "<table>\n",
       "<thead><tr><th scope=col>face</th><th scope=col>suit</th><th scope=col>value</th></tr></thead>\n",
       "<tbody>\n",
       "\t<tr><td>king  </td><td>spades</td><td>13    </td></tr>\n",
       "\t<tr><td>queen </td><td>spades</td><td>12    </td></tr>\n",
       "\t<tr><td>jack  </td><td>spades</td><td>11    </td></tr>\n",
       "\t<tr><td>ten   </td><td>spades</td><td>10    </td></tr>\n",
       "\t<tr><td>nine  </td><td>spades</td><td> 9    </td></tr>\n",
       "\t<tr><td>eight </td><td>spades</td><td> 8    </td></tr>\n",
       "</tbody>\n",
       "</table>\n"
      ],
      "text/latex": [
       "\\begin{tabular}{r|lll}\n",
       " face & suit & value\\\\\n",
       "\\hline\n",
       "\t king   & spades & 13    \\\\\n",
       "\t queen  & spades & 12    \\\\\n",
       "\t jack   & spades & 11    \\\\\n",
       "\t ten    & spades & 10    \\\\\n",
       "\t nine   & spades &  9    \\\\\n",
       "\t eight  & spades &  8    \\\\\n",
       "\\end{tabular}\n"
      ],
      "text/markdown": [
       "\n",
       "face | suit | value | \n",
       "|---|---|---|---|---|---|\n",
       "| king   | spades | 13     | \n",
       "| queen  | spades | 12     | \n",
       "| jack   | spades | 11     | \n",
       "| ten    | spades | 10     | \n",
       "| nine   | spades |  9     | \n",
       "| eight  | spades |  8     | \n",
       "\n",
       "\n"
      ],
      "text/plain": [
       "  face  suit   value\n",
       "1 king  spades 13   \n",
       "2 queen spades 12   \n",
       "3 jack  spades 11   \n",
       "4 ten   spades 10   \n",
       "5 nine  spades  9   \n",
       "6 eight spades  8   "
      ]
     },
     "metadata": {},
     "output_type": "display_data"
    }
   ],
   "source": [
    "head(deck)"
   ]
  },
  {
   "cell_type": "code",
   "execution_count": 8,
   "metadata": {},
   "outputs": [
    {
     "data": {
      "text/html": [
       "king"
      ],
      "text/latex": [
       "king"
      ],
      "text/markdown": [
       "king"
      ],
      "text/plain": [
       "[1] king\n",
       "Levels: ace eight five four jack king nine queen seven six ten three two"
      ]
     },
     "metadata": {},
     "output_type": "display_data"
    }
   ],
   "source": [
    "deck[1,1]"
   ]
  },
  {
   "cell_type": "code",
   "execution_count": 9,
   "metadata": {},
   "outputs": [
    {
     "data": {
      "text/html": [
       "<table>\n",
       "<thead><tr><th scope=col>face</th><th scope=col>suit</th><th scope=col>value</th></tr></thead>\n",
       "<tbody>\n",
       "\t<tr><td>king  </td><td>spades</td><td>13    </td></tr>\n",
       "</tbody>\n",
       "</table>\n"
      ],
      "text/latex": [
       "\\begin{tabular}{r|lll}\n",
       " face & suit & value\\\\\n",
       "\\hline\n",
       "\t king   & spades & 13    \\\\\n",
       "\\end{tabular}\n"
      ],
      "text/markdown": [
       "\n",
       "face | suit | value | \n",
       "|---|\n",
       "| king   | spades | 13     | \n",
       "\n",
       "\n"
      ],
      "text/plain": [
       "  face suit   value\n",
       "1 king spades 13   "
      ]
     },
     "metadata": {},
     "output_type": "display_data"
    }
   ],
   "source": [
    "deck[1,c(1,2,3)]"
   ]
  },
  {
   "cell_type": "code",
   "execution_count": 10,
   "metadata": {},
   "outputs": [
    {
     "data": {
      "text/html": [
       "<table>\n",
       "<thead><tr><th></th><th scope=col>face</th><th scope=col>suit</th><th scope=col>value</th></tr></thead>\n",
       "<tbody>\n",
       "\t<tr><th scope=row>1</th><td>king  </td><td>spades</td><td>13    </td></tr>\n",
       "\t<tr><th scope=row>1.1</th><td>king  </td><td>spades</td><td>13    </td></tr>\n",
       "</tbody>\n",
       "</table>\n"
      ],
      "text/latex": [
       "\\begin{tabular}{r|lll}\n",
       "  & face & suit & value\\\\\n",
       "\\hline\n",
       "\t1 & king   & spades & 13    \\\\\n",
       "\t1.1 & king   & spades & 13    \\\\\n",
       "\\end{tabular}\n"
      ],
      "text/markdown": [
       "\n",
       "| <!--/--> | face | suit | value | \n",
       "|---|---|\n",
       "| 1 | king   | spades | 13     | \n",
       "| 1.1 | king   | spades | 13     | \n",
       "\n",
       "\n"
      ],
      "text/plain": [
       "    face suit   value\n",
       "1   king spades 13   \n",
       "1.1 king spades 13   "
      ]
     },
     "metadata": {},
     "output_type": "display_data"
    }
   ],
   "source": [
    "deck[c(1,1),c(1,2,3)]"
   ]
  },
  {
   "cell_type": "code",
   "execution_count": 11,
   "metadata": {},
   "outputs": [],
   "source": [
    "vec <- c(6,1,2,3,5,10,4)"
   ]
  },
  {
   "cell_type": "code",
   "execution_count": 12,
   "metadata": {},
   "outputs": [
    {
     "data": {
      "text/html": [
       "<ol class=list-inline>\n",
       "\t<li>6</li>\n",
       "\t<li>1</li>\n",
       "\t<li>2</li>\n",
       "</ol>\n"
      ],
      "text/latex": [
       "\\begin{enumerate*}\n",
       "\\item 6\n",
       "\\item 1\n",
       "\\item 2\n",
       "\\end{enumerate*}\n"
      ],
      "text/markdown": [
       "1. 6\n",
       "2. 1\n",
       "3. 2\n",
       "\n",
       "\n"
      ],
      "text/plain": [
       "[1] 6 1 2"
      ]
     },
     "metadata": {},
     "output_type": "display_data"
    }
   ],
   "source": [
    "vec[1:3]"
   ]
  },
  {
   "cell_type": "code",
   "execution_count": 13,
   "metadata": {},
   "outputs": [
    {
     "data": {
      "text/html": [
       "<table>\n",
       "<thead><tr><th scope=col>face</th><th scope=col>suit</th></tr></thead>\n",
       "<tbody>\n",
       "\t<tr><td>king  </td><td>spades</td></tr>\n",
       "\t<tr><td>queen </td><td>spades</td></tr>\n",
       "</tbody>\n",
       "</table>\n"
      ],
      "text/latex": [
       "\\begin{tabular}{r|ll}\n",
       " face & suit\\\\\n",
       "\\hline\n",
       "\t king   & spades\\\\\n",
       "\t queen  & spades\\\\\n",
       "\\end{tabular}\n"
      ],
      "text/markdown": [
       "\n",
       "face | suit | \n",
       "|---|---|\n",
       "| king   | spades | \n",
       "| queen  | spades | \n",
       "\n",
       "\n"
      ],
      "text/plain": [
       "  face  suit  \n",
       "1 king  spades\n",
       "2 queen spades"
      ]
     },
     "metadata": {},
     "output_type": "display_data"
    }
   ],
   "source": [
    "deck[1:2,1:2]"
   ]
  },
  {
   "cell_type": "code",
   "execution_count": 15,
   "metadata": {},
   "outputs": [
    {
     "data": {
      "text/html": [
       "<table>\n",
       "<thead><tr><th scope=col>face</th><th scope=col>suit</th><th scope=col>value</th></tr></thead>\n",
       "<tbody>\n",
       "\t<tr><td>king  </td><td>spades</td><td>13    </td></tr>\n",
       "</tbody>\n",
       "</table>\n"
      ],
      "text/latex": [
       "\\begin{tabular}{r|lll}\n",
       " face & suit & value\\\\\n",
       "\\hline\n",
       "\t king   & spades & 13    \\\\\n",
       "\\end{tabular}\n"
      ],
      "text/markdown": [
       "\n",
       "face | suit | value | \n",
       "|---|\n",
       "| king   | spades | 13     | \n",
       "\n",
       "\n"
      ],
      "text/plain": [
       "  face suit   value\n",
       "1 king spades 13   "
      ]
     },
     "metadata": {},
     "output_type": "display_data"
    }
   ],
   "source": [
    "deck[-(2:52),1:3]"
   ]
  },
  {
   "cell_type": "code",
   "execution_count": 16,
   "metadata": {},
   "outputs": [
    {
     "data": {
      "text/html": [
       "<table>\n",
       "<thead><tr><th scope=col>face</th><th scope=col>suit</th><th scope=col>value</th></tr></thead>\n",
       "<tbody>\n",
       "\t<tr><td>king  </td><td>spades</td><td>13    </td></tr>\n",
       "</tbody>\n",
       "</table>\n"
      ],
      "text/latex": [
       "\\begin{tabular}{r|lll}\n",
       " face & suit & value\\\\\n",
       "\\hline\n",
       "\t king   & spades & 13    \\\\\n",
       "\\end{tabular}\n"
      ],
      "text/markdown": [
       "\n",
       "face | suit | value | \n",
       "|---|\n",
       "| king   | spades | 13     | \n",
       "\n",
       "\n"
      ],
      "text/plain": [
       "  face suit   value\n",
       "1 king spades 13   "
      ]
     },
     "metadata": {},
     "output_type": "display_data"
    }
   ],
   "source": [
    "deck[1,]"
   ]
  },
  {
   "cell_type": "code",
   "execution_count": 17,
   "metadata": {},
   "outputs": [
    {
     "data": {
      "text/html": [
       "<ol class=list-inline>\n",
       "\t<li>1</li>\n",
       "\t<li>3</li>\n",
       "\t<li>5</li>\n",
       "\t<li>4</li>\n",
       "</ol>\n"
      ],
      "text/latex": [
       "\\begin{enumerate*}\n",
       "\\item 1\n",
       "\\item 3\n",
       "\\item 5\n",
       "\\item 4\n",
       "\\end{enumerate*}\n"
      ],
      "text/markdown": [
       "1. 1\n",
       "2. 3\n",
       "3. 5\n",
       "4. 4\n",
       "\n",
       "\n"
      ],
      "text/plain": [
       "[1] 1 3 5 4"
      ]
     },
     "metadata": {},
     "output_type": "display_data"
    }
   ],
   "source": [
    "vec[c(F,T,F,T,T,F,T)]"
   ]
  },
  {
   "cell_type": "code",
   "execution_count": 18,
   "metadata": {},
   "outputs": [],
   "source": [
    "rows <- c(TRUE, F, F, F, F, F, F, F, F, F, F, F, F, F, F, F,   \n",
    "        F, F, F, F, F, F, F, F, F, F, F, F, F, F, F, F, F, F, F, F, F, F,   \n",
    "        F, F, F, F, F, F, F, F, F, F, F, F, F, F)"
   ]
  },
  {
   "cell_type": "code",
   "execution_count": 19,
   "metadata": {},
   "outputs": [
    {
     "data": {
      "text/html": [
       "<table>\n",
       "<thead><tr><th scope=col>face</th><th scope=col>suit</th><th scope=col>value</th></tr></thead>\n",
       "<tbody>\n",
       "\t<tr><td>king  </td><td>spades</td><td>13    </td></tr>\n",
       "</tbody>\n",
       "</table>\n"
      ],
      "text/latex": [
       "\\begin{tabular}{r|lll}\n",
       " face & suit & value\\\\\n",
       "\\hline\n",
       "\t king   & spades & 13    \\\\\n",
       "\\end{tabular}\n"
      ],
      "text/markdown": [
       "\n",
       "face | suit | value | \n",
       "|---|\n",
       "| king   | spades | 13     | \n",
       "\n",
       "\n"
      ],
      "text/plain": [
       "  face suit   value\n",
       "1 king spades 13   "
      ]
     },
     "metadata": {},
     "output_type": "display_data"
    }
   ],
   "source": [
    "deck[rows,]"
   ]
  },
  {
   "cell_type": "code",
   "execution_count": 21,
   "metadata": {},
   "outputs": [
    {
     "data": {
      "text/html": [
       "<table>\n",
       "<thead><tr><th scope=col>face</th><th scope=col>value</th><th scope=col>suit</th></tr></thead>\n",
       "<tbody>\n",
       "\t<tr><td>king  </td><td>13    </td><td>spades</td></tr>\n",
       "</tbody>\n",
       "</table>\n"
      ],
      "text/latex": [
       "\\begin{tabular}{r|lll}\n",
       " face & value & suit\\\\\n",
       "\\hline\n",
       "\t king   & 13     & spades\\\\\n",
       "\\end{tabular}\n"
      ],
      "text/markdown": [
       "\n",
       "face | value | suit | \n",
       "|---|\n",
       "| king   | 13     | spades | \n",
       "\n",
       "\n"
      ],
      "text/plain": [
       "  face value suit  \n",
       "1 king 13    spades"
      ]
     },
     "metadata": {},
     "output_type": "display_data"
    }
   ],
   "source": [
    "deck[1,c(\"face\",\"value\",\"suit\")]"
   ]
  },
  {
   "cell_type": "code",
   "execution_count": 22,
   "metadata": {},
   "outputs": [],
   "source": [
    "container=deck[,\"value\"]"
   ]
  },
  {
   "cell_type": "code",
   "execution_count": 23,
   "metadata": {},
   "outputs": [
    {
     "data": {
      "text/html": [
       "'integer'"
      ],
      "text/latex": [
       "'integer'"
      ],
      "text/markdown": [
       "'integer'"
      ],
      "text/plain": [
       "[1] \"integer\""
      ]
     },
     "metadata": {},
     "output_type": "display_data"
    }
   ],
   "source": [
    "typeof(container)"
   ]
  },
  {
   "cell_type": "code",
   "execution_count": 24,
   "metadata": {},
   "outputs": [
    {
     "data": {
      "text/html": [
       "<ol class=list-inline>\n",
       "\t<li>13</li>\n",
       "\t<li>12</li>\n",
       "\t<li>11</li>\n",
       "\t<li>10</li>\n",
       "\t<li>9</li>\n",
       "\t<li>8</li>\n",
       "\t<li>7</li>\n",
       "\t<li>6</li>\n",
       "\t<li>5</li>\n",
       "\t<li>4</li>\n",
       "\t<li>3</li>\n",
       "\t<li>2</li>\n",
       "\t<li>1</li>\n",
       "\t<li>13</li>\n",
       "\t<li>12</li>\n",
       "\t<li>11</li>\n",
       "\t<li>10</li>\n",
       "\t<li>9</li>\n",
       "\t<li>8</li>\n",
       "\t<li>7</li>\n",
       "\t<li>6</li>\n",
       "\t<li>5</li>\n",
       "\t<li>4</li>\n",
       "\t<li>3</li>\n",
       "\t<li>2</li>\n",
       "\t<li>1</li>\n",
       "\t<li>13</li>\n",
       "\t<li>12</li>\n",
       "\t<li>11</li>\n",
       "\t<li>10</li>\n",
       "\t<li>9</li>\n",
       "\t<li>8</li>\n",
       "\t<li>7</li>\n",
       "\t<li>6</li>\n",
       "\t<li>5</li>\n",
       "\t<li>4</li>\n",
       "\t<li>3</li>\n",
       "\t<li>2</li>\n",
       "\t<li>1</li>\n",
       "\t<li>13</li>\n",
       "\t<li>12</li>\n",
       "\t<li>11</li>\n",
       "\t<li>10</li>\n",
       "\t<li>9</li>\n",
       "\t<li>8</li>\n",
       "\t<li>7</li>\n",
       "\t<li>6</li>\n",
       "\t<li>5</li>\n",
       "\t<li>4</li>\n",
       "\t<li>3</li>\n",
       "\t<li>2</li>\n",
       "\t<li>1</li>\n",
       "</ol>\n"
      ],
      "text/latex": [
       "\\begin{enumerate*}\n",
       "\\item 13\n",
       "\\item 12\n",
       "\\item 11\n",
       "\\item 10\n",
       "\\item 9\n",
       "\\item 8\n",
       "\\item 7\n",
       "\\item 6\n",
       "\\item 5\n",
       "\\item 4\n",
       "\\item 3\n",
       "\\item 2\n",
       "\\item 1\n",
       "\\item 13\n",
       "\\item 12\n",
       "\\item 11\n",
       "\\item 10\n",
       "\\item 9\n",
       "\\item 8\n",
       "\\item 7\n",
       "\\item 6\n",
       "\\item 5\n",
       "\\item 4\n",
       "\\item 3\n",
       "\\item 2\n",
       "\\item 1\n",
       "\\item 13\n",
       "\\item 12\n",
       "\\item 11\n",
       "\\item 10\n",
       "\\item 9\n",
       "\\item 8\n",
       "\\item 7\n",
       "\\item 6\n",
       "\\item 5\n",
       "\\item 4\n",
       "\\item 3\n",
       "\\item 2\n",
       "\\item 1\n",
       "\\item 13\n",
       "\\item 12\n",
       "\\item 11\n",
       "\\item 10\n",
       "\\item 9\n",
       "\\item 8\n",
       "\\item 7\n",
       "\\item 6\n",
       "\\item 5\n",
       "\\item 4\n",
       "\\item 3\n",
       "\\item 2\n",
       "\\item 1\n",
       "\\end{enumerate*}\n"
      ],
      "text/markdown": [
       "1. 13\n",
       "2. 12\n",
       "3. 11\n",
       "4. 10\n",
       "5. 9\n",
       "6. 8\n",
       "7. 7\n",
       "8. 6\n",
       "9. 5\n",
       "10. 4\n",
       "11. 3\n",
       "12. 2\n",
       "13. 1\n",
       "14. 13\n",
       "15. 12\n",
       "16. 11\n",
       "17. 10\n",
       "18. 9\n",
       "19. 8\n",
       "20. 7\n",
       "21. 6\n",
       "22. 5\n",
       "23. 4\n",
       "24. 3\n",
       "25. 2\n",
       "26. 1\n",
       "27. 13\n",
       "28. 12\n",
       "29. 11\n",
       "30. 10\n",
       "31. 9\n",
       "32. 8\n",
       "33. 7\n",
       "34. 6\n",
       "35. 5\n",
       "36. 4\n",
       "37. 3\n",
       "38. 2\n",
       "39. 1\n",
       "40. 13\n",
       "41. 12\n",
       "42. 11\n",
       "43. 10\n",
       "44. 9\n",
       "45. 8\n",
       "46. 7\n",
       "47. 6\n",
       "48. 5\n",
       "49. 4\n",
       "50. 3\n",
       "51. 2\n",
       "52. 1\n",
       "\n",
       "\n"
      ],
      "text/plain": [
       " [1] 13 12 11 10  9  8  7  6  5  4  3  2  1 13 12 11 10  9  8  7  6  5  4  3  2\n",
       "[26]  1 13 12 11 10  9  8  7  6  5  4  3  2  1 13 12 11 10  9  8  7  6  5  4  3\n",
       "[51]  2  1"
      ]
     },
     "metadata": {},
     "output_type": "display_data"
    }
   ],
   "source": [
    "container"
   ]
  },
  {
   "cell_type": "markdown",
   "metadata": {},
   "source": [
    "### deal"
   ]
  },
  {
   "cell_type": "code",
   "execution_count": 25,
   "metadata": {},
   "outputs": [],
   "source": [
    "deal <- function(cards){\n",
    "    cards[1,]\n",
    "}"
   ]
  },
  {
   "cell_type": "code",
   "execution_count": 26,
   "metadata": {},
   "outputs": [
    {
     "data": {
      "text/html": [
       "<table>\n",
       "<thead><tr><th scope=col>face</th><th scope=col>suit</th><th scope=col>value</th></tr></thead>\n",
       "<tbody>\n",
       "\t<tr><td>king  </td><td>spades</td><td>13    </td></tr>\n",
       "</tbody>\n",
       "</table>\n"
      ],
      "text/latex": [
       "\\begin{tabular}{r|lll}\n",
       " face & suit & value\\\\\n",
       "\\hline\n",
       "\t king   & spades & 13    \\\\\n",
       "\\end{tabular}\n"
      ],
      "text/markdown": [
       "\n",
       "face | suit | value | \n",
       "|---|\n",
       "| king   | spades | 13     | \n",
       "\n",
       "\n"
      ],
      "text/plain": [
       "  face suit   value\n",
       "1 king spades 13   "
      ]
     },
     "metadata": {},
     "output_type": "display_data"
    }
   ],
   "source": [
    "deal(deck)"
   ]
  },
  {
   "cell_type": "markdown",
   "metadata": {},
   "source": [
    "### shuffle"
   ]
  },
  {
   "cell_type": "code",
   "execution_count": 27,
   "metadata": {},
   "outputs": [],
   "source": [
    "deckShuffled <- deck[1:52,]"
   ]
  },
  {
   "cell_type": "code",
   "execution_count": 28,
   "metadata": {},
   "outputs": [
    {
     "data": {
      "text/html": [
       "<table>\n",
       "<thead><tr><th scope=col>face</th><th scope=col>suit</th><th scope=col>value</th></tr></thead>\n",
       "<tbody>\n",
       "\t<tr><td>king    </td><td>spades  </td><td>13      </td></tr>\n",
       "\t<tr><td>queen   </td><td>spades  </td><td>12      </td></tr>\n",
       "\t<tr><td>jack    </td><td>spades  </td><td>11      </td></tr>\n",
       "\t<tr><td>ten     </td><td>spades  </td><td>10      </td></tr>\n",
       "\t<tr><td>nine    </td><td>spades  </td><td> 9      </td></tr>\n",
       "\t<tr><td>eight   </td><td>spades  </td><td> 8      </td></tr>\n",
       "\t<tr><td>seven   </td><td>spades  </td><td> 7      </td></tr>\n",
       "\t<tr><td>six     </td><td>spades  </td><td> 6      </td></tr>\n",
       "\t<tr><td>five    </td><td>spades  </td><td> 5      </td></tr>\n",
       "\t<tr><td>four    </td><td>spades  </td><td> 4      </td></tr>\n",
       "\t<tr><td>three   </td><td>spades  </td><td> 3      </td></tr>\n",
       "\t<tr><td>two     </td><td>spades  </td><td> 2      </td></tr>\n",
       "\t<tr><td>ace     </td><td>spades  </td><td> 1      </td></tr>\n",
       "\t<tr><td>king    </td><td>clubs   </td><td>13      </td></tr>\n",
       "\t<tr><td>queen   </td><td>clubs   </td><td>12      </td></tr>\n",
       "\t<tr><td>jack    </td><td>clubs   </td><td>11      </td></tr>\n",
       "\t<tr><td>ten     </td><td>clubs   </td><td>10      </td></tr>\n",
       "\t<tr><td>nine    </td><td>clubs   </td><td> 9      </td></tr>\n",
       "\t<tr><td>eight   </td><td>clubs   </td><td> 8      </td></tr>\n",
       "\t<tr><td>seven   </td><td>clubs   </td><td> 7      </td></tr>\n",
       "\t<tr><td>six     </td><td>clubs   </td><td> 6      </td></tr>\n",
       "\t<tr><td>five    </td><td>clubs   </td><td> 5      </td></tr>\n",
       "\t<tr><td>four    </td><td>clubs   </td><td> 4      </td></tr>\n",
       "\t<tr><td>three   </td><td>clubs   </td><td> 3      </td></tr>\n",
       "\t<tr><td>two     </td><td>clubs   </td><td> 2      </td></tr>\n",
       "\t<tr><td>ace     </td><td>clubs   </td><td> 1      </td></tr>\n",
       "\t<tr><td>king    </td><td>diamonds</td><td>13      </td></tr>\n",
       "\t<tr><td>queen   </td><td>diamonds</td><td>12      </td></tr>\n",
       "\t<tr><td>jack    </td><td>diamonds</td><td>11      </td></tr>\n",
       "\t<tr><td>ten     </td><td>diamonds</td><td>10      </td></tr>\n",
       "\t<tr><td>nine    </td><td>diamonds</td><td> 9      </td></tr>\n",
       "\t<tr><td>eight   </td><td>diamonds</td><td> 8      </td></tr>\n",
       "\t<tr><td>seven   </td><td>diamonds</td><td> 7      </td></tr>\n",
       "\t<tr><td>six     </td><td>diamonds</td><td> 6      </td></tr>\n",
       "\t<tr><td>five    </td><td>diamonds</td><td> 5      </td></tr>\n",
       "\t<tr><td>four    </td><td>diamonds</td><td> 4      </td></tr>\n",
       "\t<tr><td>three   </td><td>diamonds</td><td> 3      </td></tr>\n",
       "\t<tr><td>two     </td><td>diamonds</td><td> 2      </td></tr>\n",
       "\t<tr><td>ace     </td><td>diamonds</td><td> 1      </td></tr>\n",
       "\t<tr><td>king    </td><td>hearts  </td><td>13      </td></tr>\n",
       "\t<tr><td>queen   </td><td>hearts  </td><td>12      </td></tr>\n",
       "\t<tr><td>jack    </td><td>hearts  </td><td>11      </td></tr>\n",
       "\t<tr><td>ten     </td><td>hearts  </td><td>10      </td></tr>\n",
       "\t<tr><td>nine    </td><td>hearts  </td><td> 9      </td></tr>\n",
       "\t<tr><td>eight   </td><td>hearts  </td><td> 8      </td></tr>\n",
       "\t<tr><td>seven   </td><td>hearts  </td><td> 7      </td></tr>\n",
       "\t<tr><td>six     </td><td>hearts  </td><td> 6      </td></tr>\n",
       "\t<tr><td>five    </td><td>hearts  </td><td> 5      </td></tr>\n",
       "\t<tr><td>four    </td><td>hearts  </td><td> 4      </td></tr>\n",
       "\t<tr><td>three   </td><td>hearts  </td><td> 3      </td></tr>\n",
       "\t<tr><td>two     </td><td>hearts  </td><td> 2      </td></tr>\n",
       "\t<tr><td>ace     </td><td>hearts  </td><td> 1      </td></tr>\n",
       "</tbody>\n",
       "</table>\n"
      ],
      "text/latex": [
       "\\begin{tabular}{r|lll}\n",
       " face & suit & value\\\\\n",
       "\\hline\n",
       "\t king     & spades   & 13      \\\\\n",
       "\t queen    & spades   & 12      \\\\\n",
       "\t jack     & spades   & 11      \\\\\n",
       "\t ten      & spades   & 10      \\\\\n",
       "\t nine     & spades   &  9      \\\\\n",
       "\t eight    & spades   &  8      \\\\\n",
       "\t seven    & spades   &  7      \\\\\n",
       "\t six      & spades   &  6      \\\\\n",
       "\t five     & spades   &  5      \\\\\n",
       "\t four     & spades   &  4      \\\\\n",
       "\t three    & spades   &  3      \\\\\n",
       "\t two      & spades   &  2      \\\\\n",
       "\t ace      & spades   &  1      \\\\\n",
       "\t king     & clubs    & 13      \\\\\n",
       "\t queen    & clubs    & 12      \\\\\n",
       "\t jack     & clubs    & 11      \\\\\n",
       "\t ten      & clubs    & 10      \\\\\n",
       "\t nine     & clubs    &  9      \\\\\n",
       "\t eight    & clubs    &  8      \\\\\n",
       "\t seven    & clubs    &  7      \\\\\n",
       "\t six      & clubs    &  6      \\\\\n",
       "\t five     & clubs    &  5      \\\\\n",
       "\t four     & clubs    &  4      \\\\\n",
       "\t three    & clubs    &  3      \\\\\n",
       "\t two      & clubs    &  2      \\\\\n",
       "\t ace      & clubs    &  1      \\\\\n",
       "\t king     & diamonds & 13      \\\\\n",
       "\t queen    & diamonds & 12      \\\\\n",
       "\t jack     & diamonds & 11      \\\\\n",
       "\t ten      & diamonds & 10      \\\\\n",
       "\t nine     & diamonds &  9      \\\\\n",
       "\t eight    & diamonds &  8      \\\\\n",
       "\t seven    & diamonds &  7      \\\\\n",
       "\t six      & diamonds &  6      \\\\\n",
       "\t five     & diamonds &  5      \\\\\n",
       "\t four     & diamonds &  4      \\\\\n",
       "\t three    & diamonds &  3      \\\\\n",
       "\t two      & diamonds &  2      \\\\\n",
       "\t ace      & diamonds &  1      \\\\\n",
       "\t king     & hearts   & 13      \\\\\n",
       "\t queen    & hearts   & 12      \\\\\n",
       "\t jack     & hearts   & 11      \\\\\n",
       "\t ten      & hearts   & 10      \\\\\n",
       "\t nine     & hearts   &  9      \\\\\n",
       "\t eight    & hearts   &  8      \\\\\n",
       "\t seven    & hearts   &  7      \\\\\n",
       "\t six      & hearts   &  6      \\\\\n",
       "\t five     & hearts   &  5      \\\\\n",
       "\t four     & hearts   &  4      \\\\\n",
       "\t three    & hearts   &  3      \\\\\n",
       "\t two      & hearts   &  2      \\\\\n",
       "\t ace      & hearts   &  1      \\\\\n",
       "\\end{tabular}\n"
      ],
      "text/markdown": [
       "\n",
       "face | suit | value | \n",
       "|---|---|---|---|---|---|---|---|---|---|---|---|---|---|---|---|---|---|---|---|---|---|---|---|---|---|---|---|---|---|---|---|---|---|---|---|---|---|---|---|---|---|---|---|---|---|---|---|---|---|---|---|\n",
       "| king     | spades   | 13       | \n",
       "| queen    | spades   | 12       | \n",
       "| jack     | spades   | 11       | \n",
       "| ten      | spades   | 10       | \n",
       "| nine     | spades   |  9       | \n",
       "| eight    | spades   |  8       | \n",
       "| seven    | spades   |  7       | \n",
       "| six      | spades   |  6       | \n",
       "| five     | spades   |  5       | \n",
       "| four     | spades   |  4       | \n",
       "| three    | spades   |  3       | \n",
       "| two      | spades   |  2       | \n",
       "| ace      | spades   |  1       | \n",
       "| king     | clubs    | 13       | \n",
       "| queen    | clubs    | 12       | \n",
       "| jack     | clubs    | 11       | \n",
       "| ten      | clubs    | 10       | \n",
       "| nine     | clubs    |  9       | \n",
       "| eight    | clubs    |  8       | \n",
       "| seven    | clubs    |  7       | \n",
       "| six      | clubs    |  6       | \n",
       "| five     | clubs    |  5       | \n",
       "| four     | clubs    |  4       | \n",
       "| three    | clubs    |  3       | \n",
       "| two      | clubs    |  2       | \n",
       "| ace      | clubs    |  1       | \n",
       "| king     | diamonds | 13       | \n",
       "| queen    | diamonds | 12       | \n",
       "| jack     | diamonds | 11       | \n",
       "| ten      | diamonds | 10       | \n",
       "| nine     | diamonds |  9       | \n",
       "| eight    | diamonds |  8       | \n",
       "| seven    | diamonds |  7       | \n",
       "| six      | diamonds |  6       | \n",
       "| five     | diamonds |  5       | \n",
       "| four     | diamonds |  4       | \n",
       "| three    | diamonds |  3       | \n",
       "| two      | diamonds |  2       | \n",
       "| ace      | diamonds |  1       | \n",
       "| king     | hearts   | 13       | \n",
       "| queen    | hearts   | 12       | \n",
       "| jack     | hearts   | 11       | \n",
       "| ten      | hearts   | 10       | \n",
       "| nine     | hearts   |  9       | \n",
       "| eight    | hearts   |  8       | \n",
       "| seven    | hearts   |  7       | \n",
       "| six      | hearts   |  6       | \n",
       "| five     | hearts   |  5       | \n",
       "| four     | hearts   |  4       | \n",
       "| three    | hearts   |  3       | \n",
       "| two      | hearts   |  2       | \n",
       "| ace      | hearts   |  1       | \n",
       "\n",
       "\n"
      ],
      "text/plain": [
       "   face  suit     value\n",
       "1  king  spades   13   \n",
       "2  queen spades   12   \n",
       "3  jack  spades   11   \n",
       "4  ten   spades   10   \n",
       "5  nine  spades    9   \n",
       "6  eight spades    8   \n",
       "7  seven spades    7   \n",
       "8  six   spades    6   \n",
       "9  five  spades    5   \n",
       "10 four  spades    4   \n",
       "11 three spades    3   \n",
       "12 two   spades    2   \n",
       "13 ace   spades    1   \n",
       "14 king  clubs    13   \n",
       "15 queen clubs    12   \n",
       "16 jack  clubs    11   \n",
       "17 ten   clubs    10   \n",
       "18 nine  clubs     9   \n",
       "19 eight clubs     8   \n",
       "20 seven clubs     7   \n",
       "21 six   clubs     6   \n",
       "22 five  clubs     5   \n",
       "23 four  clubs     4   \n",
       "24 three clubs     3   \n",
       "25 two   clubs     2   \n",
       "26 ace   clubs     1   \n",
       "27 king  diamonds 13   \n",
       "28 queen diamonds 12   \n",
       "29 jack  diamonds 11   \n",
       "30 ten   diamonds 10   \n",
       "31 nine  diamonds  9   \n",
       "32 eight diamonds  8   \n",
       "33 seven diamonds  7   \n",
       "34 six   diamonds  6   \n",
       "35 five  diamonds  5   \n",
       "36 four  diamonds  4   \n",
       "37 three diamonds  3   \n",
       "38 two   diamonds  2   \n",
       "39 ace   diamonds  1   \n",
       "40 king  hearts   13   \n",
       "41 queen hearts   12   \n",
       "42 jack  hearts   11   \n",
       "43 ten   hearts   10   \n",
       "44 nine  hearts    9   \n",
       "45 eight hearts    8   \n",
       "46 seven hearts    7   \n",
       "47 six   hearts    6   \n",
       "48 five  hearts    5   \n",
       "49 four  hearts    4   \n",
       "50 three hearts    3   \n",
       "51 two   hearts    2   \n",
       "52 ace   hearts    1   "
      ]
     },
     "metadata": {},
     "output_type": "display_data"
    }
   ],
   "source": [
    "deckShuffled"
   ]
  },
  {
   "cell_type": "code",
   "execution_count": 33,
   "metadata": {},
   "outputs": [],
   "source": [
    "random <- sample(1:52,size=52)"
   ]
  },
  {
   "cell_type": "code",
   "execution_count": 34,
   "metadata": {},
   "outputs": [],
   "source": [
    "deckRandomShuffled <- deck[random,]"
   ]
  },
  {
   "cell_type": "code",
   "execution_count": 35,
   "metadata": {},
   "outputs": [
    {
     "data": {
      "text/html": [
       "<table>\n",
       "<thead><tr><th></th><th scope=col>face</th><th scope=col>suit</th><th scope=col>value</th></tr></thead>\n",
       "<tbody>\n",
       "\t<tr><th scope=row>25</th><td>two   </td><td>clubs </td><td>2     </td></tr>\n",
       "\t<tr><th scope=row>5</th><td>nine  </td><td>spades</td><td>9     </td></tr>\n",
       "\t<tr><th scope=row>20</th><td>seven </td><td>clubs </td><td>7     </td></tr>\n",
       "\t<tr><th scope=row>48</th><td>five  </td><td>hearts</td><td>5     </td></tr>\n",
       "\t<tr><th scope=row>49</th><td>four  </td><td>hearts</td><td>4     </td></tr>\n",
       "\t<tr><th scope=row>9</th><td>five  </td><td>spades</td><td>5     </td></tr>\n",
       "</tbody>\n",
       "</table>\n"
      ],
      "text/latex": [
       "\\begin{tabular}{r|lll}\n",
       "  & face & suit & value\\\\\n",
       "\\hline\n",
       "\t25 & two    & clubs  & 2     \\\\\n",
       "\t5 & nine   & spades & 9     \\\\\n",
       "\t20 & seven  & clubs  & 7     \\\\\n",
       "\t48 & five   & hearts & 5     \\\\\n",
       "\t49 & four   & hearts & 4     \\\\\n",
       "\t9 & five   & spades & 5     \\\\\n",
       "\\end{tabular}\n"
      ],
      "text/markdown": [
       "\n",
       "| <!--/--> | face | suit | value | \n",
       "|---|---|---|---|---|---|\n",
       "| 25 | two    | clubs  | 2      | \n",
       "| 5 | nine   | spades | 9      | \n",
       "| 20 | seven  | clubs  | 7      | \n",
       "| 48 | five   | hearts | 5      | \n",
       "| 49 | four   | hearts | 4      | \n",
       "| 9 | five   | spades | 5      | \n",
       "\n",
       "\n"
      ],
      "text/plain": [
       "   face  suit   value\n",
       "25 two   clubs  2    \n",
       "5  nine  spades 9    \n",
       "20 seven clubs  7    \n",
       "48 five  hearts 5    \n",
       "49 four  hearts 4    \n",
       "9  five  spades 5    "
      ]
     },
     "metadata": {},
     "output_type": "display_data"
    }
   ],
   "source": [
    "head(deckRandomShuffled)"
   ]
  },
  {
   "cell_type": "code",
   "execution_count": 36,
   "metadata": {},
   "outputs": [],
   "source": [
    "shuffleFn <- function(cards){\n",
    "    random <-sample(1:52,size=52)\n",
    "    cards[random,]\n",
    "}"
   ]
  },
  {
   "cell_type": "code",
   "execution_count": 37,
   "metadata": {},
   "outputs": [],
   "source": [
    "shuffledDeck=shuffleFn(deck)"
   ]
  },
  {
   "cell_type": "code",
   "execution_count": 39,
   "metadata": {},
   "outputs": [
    {
     "data": {
      "text/html": [
       "<table>\n",
       "<thead><tr><th></th><th scope=col>face</th><th scope=col>suit</th><th scope=col>value</th></tr></thead>\n",
       "<tbody>\n",
       "\t<tr><th scope=row>23</th><td>four  </td><td>clubs </td><td> 4    </td></tr>\n",
       "\t<tr><th scope=row>48</th><td>five  </td><td>hearts</td><td> 5    </td></tr>\n",
       "\t<tr><th scope=row>41</th><td>queen </td><td>hearts</td><td>12    </td></tr>\n",
       "\t<tr><th scope=row>47</th><td>six   </td><td>hearts</td><td> 6    </td></tr>\n",
       "\t<tr><th scope=row>15</th><td>queen </td><td>clubs </td><td>12    </td></tr>\n",
       "\t<tr><th scope=row>22</th><td>five  </td><td>clubs </td><td> 5    </td></tr>\n",
       "</tbody>\n",
       "</table>\n"
      ],
      "text/latex": [
       "\\begin{tabular}{r|lll}\n",
       "  & face & suit & value\\\\\n",
       "\\hline\n",
       "\t23 & four   & clubs  &  4    \\\\\n",
       "\t48 & five   & hearts &  5    \\\\\n",
       "\t41 & queen  & hearts & 12    \\\\\n",
       "\t47 & six    & hearts &  6    \\\\\n",
       "\t15 & queen  & clubs  & 12    \\\\\n",
       "\t22 & five   & clubs  &  5    \\\\\n",
       "\\end{tabular}\n"
      ],
      "text/markdown": [
       "\n",
       "| <!--/--> | face | suit | value | \n",
       "|---|---|---|---|---|---|\n",
       "| 23 | four   | clubs  |  4     | \n",
       "| 48 | five   | hearts |  5     | \n",
       "| 41 | queen  | hearts | 12     | \n",
       "| 47 | six    | hearts |  6     | \n",
       "| 15 | queen  | clubs  | 12     | \n",
       "| 22 | five   | clubs  |  5     | \n",
       "\n",
       "\n"
      ],
      "text/plain": [
       "   face  suit   value\n",
       "23 four  clubs   4   \n",
       "48 five  hearts  5   \n",
       "41 queen hearts 12   \n",
       "47 six   hearts  6   \n",
       "15 queen clubs  12   \n",
       "22 five  clubs   5   "
      ]
     },
     "metadata": {},
     "output_type": "display_data"
    }
   ],
   "source": [
    "head(shuffledDeck)"
   ]
  },
  {
   "cell_type": "code",
   "execution_count": 40,
   "metadata": {},
   "outputs": [
    {
     "data": {
      "text/html": [
       "<ol class=list-inline>\n",
       "\t<li>13</li>\n",
       "\t<li>12</li>\n",
       "\t<li>11</li>\n",
       "\t<li>10</li>\n",
       "\t<li>9</li>\n",
       "\t<li>8</li>\n",
       "\t<li>7</li>\n",
       "\t<li>6</li>\n",
       "\t<li>5</li>\n",
       "\t<li>4</li>\n",
       "\t<li>3</li>\n",
       "\t<li>2</li>\n",
       "\t<li>1</li>\n",
       "\t<li>13</li>\n",
       "\t<li>12</li>\n",
       "\t<li>11</li>\n",
       "\t<li>10</li>\n",
       "\t<li>9</li>\n",
       "\t<li>8</li>\n",
       "\t<li>7</li>\n",
       "\t<li>6</li>\n",
       "\t<li>5</li>\n",
       "\t<li>4</li>\n",
       "\t<li>3</li>\n",
       "\t<li>2</li>\n",
       "\t<li>1</li>\n",
       "\t<li>13</li>\n",
       "\t<li>12</li>\n",
       "\t<li>11</li>\n",
       "\t<li>10</li>\n",
       "\t<li>9</li>\n",
       "\t<li>8</li>\n",
       "\t<li>7</li>\n",
       "\t<li>6</li>\n",
       "\t<li>5</li>\n",
       "\t<li>4</li>\n",
       "\t<li>3</li>\n",
       "\t<li>2</li>\n",
       "\t<li>1</li>\n",
       "\t<li>13</li>\n",
       "\t<li>12</li>\n",
       "\t<li>11</li>\n",
       "\t<li>10</li>\n",
       "\t<li>9</li>\n",
       "\t<li>8</li>\n",
       "\t<li>7</li>\n",
       "\t<li>6</li>\n",
       "\t<li>5</li>\n",
       "\t<li>4</li>\n",
       "\t<li>3</li>\n",
       "\t<li>2</li>\n",
       "\t<li>1</li>\n",
       "</ol>\n"
      ],
      "text/latex": [
       "\\begin{enumerate*}\n",
       "\\item 13\n",
       "\\item 12\n",
       "\\item 11\n",
       "\\item 10\n",
       "\\item 9\n",
       "\\item 8\n",
       "\\item 7\n",
       "\\item 6\n",
       "\\item 5\n",
       "\\item 4\n",
       "\\item 3\n",
       "\\item 2\n",
       "\\item 1\n",
       "\\item 13\n",
       "\\item 12\n",
       "\\item 11\n",
       "\\item 10\n",
       "\\item 9\n",
       "\\item 8\n",
       "\\item 7\n",
       "\\item 6\n",
       "\\item 5\n",
       "\\item 4\n",
       "\\item 3\n",
       "\\item 2\n",
       "\\item 1\n",
       "\\item 13\n",
       "\\item 12\n",
       "\\item 11\n",
       "\\item 10\n",
       "\\item 9\n",
       "\\item 8\n",
       "\\item 7\n",
       "\\item 6\n",
       "\\item 5\n",
       "\\item 4\n",
       "\\item 3\n",
       "\\item 2\n",
       "\\item 1\n",
       "\\item 13\n",
       "\\item 12\n",
       "\\item 11\n",
       "\\item 10\n",
       "\\item 9\n",
       "\\item 8\n",
       "\\item 7\n",
       "\\item 6\n",
       "\\item 5\n",
       "\\item 4\n",
       "\\item 3\n",
       "\\item 2\n",
       "\\item 1\n",
       "\\end{enumerate*}\n"
      ],
      "text/markdown": [
       "1. 13\n",
       "2. 12\n",
       "3. 11\n",
       "4. 10\n",
       "5. 9\n",
       "6. 8\n",
       "7. 7\n",
       "8. 6\n",
       "9. 5\n",
       "10. 4\n",
       "11. 3\n",
       "12. 2\n",
       "13. 1\n",
       "14. 13\n",
       "15. 12\n",
       "16. 11\n",
       "17. 10\n",
       "18. 9\n",
       "19. 8\n",
       "20. 7\n",
       "21. 6\n",
       "22. 5\n",
       "23. 4\n",
       "24. 3\n",
       "25. 2\n",
       "26. 1\n",
       "27. 13\n",
       "28. 12\n",
       "29. 11\n",
       "30. 10\n",
       "31. 9\n",
       "32. 8\n",
       "33. 7\n",
       "34. 6\n",
       "35. 5\n",
       "36. 4\n",
       "37. 3\n",
       "38. 2\n",
       "39. 1\n",
       "40. 13\n",
       "41. 12\n",
       "42. 11\n",
       "43. 10\n",
       "44. 9\n",
       "45. 8\n",
       "46. 7\n",
       "47. 6\n",
       "48. 5\n",
       "49. 4\n",
       "50. 3\n",
       "51. 2\n",
       "52. 1\n",
       "\n",
       "\n"
      ],
      "text/plain": [
       " [1] 13 12 11 10  9  8  7  6  5  4  3  2  1 13 12 11 10  9  8  7  6  5  4  3  2\n",
       "[26]  1 13 12 11 10  9  8  7  6  5  4  3  2  1 13 12 11 10  9  8  7  6  5  4  3\n",
       "[51]  2  1"
      ]
     },
     "metadata": {},
     "output_type": "display_data"
    }
   ],
   "source": [
    "deck$value"
   ]
  },
  {
   "cell_type": "code",
   "execution_count": 41,
   "metadata": {},
   "outputs": [
    {
     "data": {
      "text/html": [
       "7"
      ],
      "text/latex": [
       "7"
      ],
      "text/markdown": [
       "7"
      ],
      "text/plain": [
       "[1] 7"
      ]
     },
     "metadata": {},
     "output_type": "display_data"
    }
   ],
   "source": [
    "mean(deck$value)"
   ]
  },
  {
   "cell_type": "code",
   "execution_count": 42,
   "metadata": {},
   "outputs": [
    {
     "data": {
      "text/html": [
       "7"
      ],
      "text/latex": [
       "7"
      ],
      "text/markdown": [
       "7"
      ],
      "text/plain": [
       "[1] 7"
      ]
     },
     "metadata": {},
     "output_type": "display_data"
    }
   ],
   "source": [
    "median(deck$value)"
   ]
  },
  {
   "cell_type": "code",
   "execution_count": 43,
   "metadata": {},
   "outputs": [],
   "source": [
    "lst <- list(numbers = c(1,2),logical=TRUE,\n",
    "           strings=c(\"a\",\"b\",\"c\"))"
   ]
  },
  {
   "cell_type": "code",
   "execution_count": 44,
   "metadata": {},
   "outputs": [
    {
     "data": {
      "text/html": [
       "<dl>\n",
       "\t<dt>$numbers</dt>\n",
       "\t\t<dd><ol class=list-inline>\n",
       "\t<li>1</li>\n",
       "\t<li>2</li>\n",
       "</ol>\n",
       "</dd>\n",
       "\t<dt>$logical</dt>\n",
       "\t\t<dd>TRUE</dd>\n",
       "\t<dt>$strings</dt>\n",
       "\t\t<dd><ol class=list-inline>\n",
       "\t<li>'a'</li>\n",
       "\t<li>'b'</li>\n",
       "\t<li>'c'</li>\n",
       "</ol>\n",
       "</dd>\n",
       "</dl>\n"
      ],
      "text/latex": [
       "\\begin{description}\n",
       "\\item[\\$numbers] \\begin{enumerate*}\n",
       "\\item 1\n",
       "\\item 2\n",
       "\\end{enumerate*}\n",
       "\n",
       "\\item[\\$logical] TRUE\n",
       "\\item[\\$strings] \\begin{enumerate*}\n",
       "\\item 'a'\n",
       "\\item 'b'\n",
       "\\item 'c'\n",
       "\\end{enumerate*}\n",
       "\n",
       "\\end{description}\n"
      ],
      "text/markdown": [
       "$numbers\n",
       ":   1. 1\n",
       "2. 2\n",
       "\n",
       "\n",
       "\n",
       "$logical\n",
       ":   TRUE\n",
       "$strings\n",
       ":   1. 'a'\n",
       "2. 'b'\n",
       "3. 'c'\n",
       "\n",
       "\n",
       "\n",
       "\n",
       "\n"
      ],
      "text/plain": [
       "$numbers\n",
       "[1] 1 2\n",
       "\n",
       "$logical\n",
       "[1] TRUE\n",
       "\n",
       "$strings\n",
       "[1] \"a\" \"b\" \"c\"\n"
      ]
     },
     "metadata": {},
     "output_type": "display_data"
    }
   ],
   "source": [
    "lst"
   ]
  },
  {
   "cell_type": "code",
   "execution_count": 45,
   "metadata": {},
   "outputs": [
    {
     "data": {
      "text/html": [
       "<ol class=list-inline>\n",
       "\t<li>1</li>\n",
       "\t<li>2</li>\n",
       "</ol>\n"
      ],
      "text/latex": [
       "\\begin{enumerate*}\n",
       "\\item 1\n",
       "\\item 2\n",
       "\\end{enumerate*}\n"
      ],
      "text/markdown": [
       "1. 1\n",
       "2. 2\n",
       "\n",
       "\n"
      ],
      "text/plain": [
       "[1] 1 2"
      ]
     },
     "metadata": {},
     "output_type": "display_data"
    }
   ],
   "source": [
    "lst[[1]]"
   ]
  },
  {
   "cell_type": "code",
   "execution_count": 48,
   "metadata": {},
   "outputs": [
    {
     "data": {
      "text/html": [
       "<ol class=list-inline>\n",
       "\t<li>1</li>\n",
       "\t<li>2</li>\n",
       "</ol>\n"
      ],
      "text/latex": [
       "\\begin{enumerate*}\n",
       "\\item 1\n",
       "\\item 2\n",
       "\\end{enumerate*}\n"
      ],
      "text/markdown": [
       "1. 1\n",
       "2. 2\n",
       "\n",
       "\n"
      ],
      "text/plain": [
       "[1] 1 2"
      ]
     },
     "metadata": {},
     "output_type": "display_data"
    }
   ],
   "source": [
    "lst[[\"numbers\"]]"
   ]
  }
 ],
 "metadata": {
  "kernelspec": {
   "display_name": "R",
   "language": "R",
   "name": "ir"
  },
  "language_info": {
   "codemirror_mode": "r",
   "file_extension": ".r",
   "mimetype": "text/x-r-source",
   "name": "R",
   "pygments_lexer": "r",
   "version": "3.2.3"
  }
 },
 "nbformat": 4,
 "nbformat_minor": 2
}
