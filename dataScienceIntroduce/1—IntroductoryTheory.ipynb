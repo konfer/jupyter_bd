{
 "cells": [
  {
   "cell_type": "markdown",
   "metadata": {},
   "source": [
    "# 1.analyse the users"
   ]
  },
  {
   "cell_type": "code",
   "execution_count": 1,
   "metadata": {},
   "outputs": [],
   "source": [
    "users = [    { \"id\": 0, \"name\": \"Hero\" },  \n",
    "             { \"id\": 1, \"name\": \"Dunn\" },    \n",
    "             { \"id\": 2, \"name\": \"Sue\" },     \n",
    "             { \"id\": 3, \"name\": \"Chi\" },    \n",
    "             { \"id\": 4, \"name\": \"Thor\" },    \n",
    "             { \"id\": 5, \"name\": \"Clive\" },   \n",
    "             { \"id\": 6, \"name\": \"Hicks\" },   \n",
    "             { \"id\": 7, \"name\": \"Devin\" },   \n",
    "             { \"id\": 8, \"name\": \"Kate\" },   \n",
    "             { \"id\": 9, \"name\": \"Klein\" }]\n",
    "    "
   ]
  },
  {
   "cell_type": "code",
   "execution_count": 2,
   "metadata": {},
   "outputs": [],
   "source": [
    "friendships = [(0, 1), (0, 2), (1, 2), (1, 3),\n",
    "               (2, 3), (3, 4), (4, 5), (5, 6),\n",
    "               (5, 7), (6, 8), (7, 8), (8, 9)]"
   ]
  },
  {
   "cell_type": "code",
   "execution_count": 3,
   "metadata": {},
   "outputs": [],
   "source": [
    "for user in users:\n",
    "    user[\"friends\"]=[]"
   ]
  },
  {
   "cell_type": "code",
   "execution_count": 4,
   "metadata": {
    "scrolled": true
   },
   "outputs": [
    {
     "data": {
      "text/plain": [
       "[{'friends': [], 'id': 0, 'name': 'Hero'},\n",
       " {'friends': [], 'id': 1, 'name': 'Dunn'},\n",
       " {'friends': [], 'id': 2, 'name': 'Sue'},\n",
       " {'friends': [], 'id': 3, 'name': 'Chi'},\n",
       " {'friends': [], 'id': 4, 'name': 'Thor'},\n",
       " {'friends': [], 'id': 5, 'name': 'Clive'},\n",
       " {'friends': [], 'id': 6, 'name': 'Hicks'},\n",
       " {'friends': [], 'id': 7, 'name': 'Devin'},\n",
       " {'friends': [], 'id': 8, 'name': 'Kate'},\n",
       " {'friends': [], 'id': 9, 'name': 'Klein'}]"
      ]
     },
     "execution_count": 4,
     "metadata": {},
     "output_type": "execute_result"
    }
   ],
   "source": [
    "users"
   ]
  },
  {
   "cell_type": "markdown",
   "metadata": {},
   "source": [
    "### build the relation between Users"
   ]
  },
  {
   "cell_type": "code",
   "execution_count": 5,
   "metadata": {},
   "outputs": [],
   "source": [
    "for i,j in friendships:\n",
    "    users[i][\"friends\"].append(users[j])\n",
    "    users[j][\"friends\"].append(users[i])"
   ]
  },
  {
   "cell_type": "markdown",
   "metadata": {},
   "source": [
    "### count the num of relations"
   ]
  },
  {
   "cell_type": "code",
   "execution_count": 6,
   "metadata": {},
   "outputs": [],
   "source": [
    "def number_of_friends(user):\n",
    "    \"\"\"how many friends does _user_have?\"\"\"\n",
    "    num=len(user[\"friends\"])\n",
    "    numStr=\"the num of \"+str(user[\"id\"])+\" is \"+str(num)\n",
    "    print(numStr)\n",
    "    return num\n"
   ]
  },
  {
   "cell_type": "code",
   "execution_count": 7,
   "metadata": {
    "scrolled": true
   },
   "outputs": [
    {
     "name": "stdout",
     "output_type": "stream",
     "text": [
      "the num of 0 is 2\n",
      "the num of 1 is 3\n",
      "the num of 2 is 3\n",
      "the num of 3 is 3\n",
      "the num of 4 is 2\n",
      "the num of 5 is 3\n",
      "the num of 6 is 2\n",
      "the num of 7 is 2\n",
      "the num of 8 is 3\n",
      "the num of 9 is 1\n"
     ]
    }
   ],
   "source": [
    "total_connections=sum(number_of_friends(user)\n",
    "                      for user in users)"
   ]
  },
  {
   "cell_type": "code",
   "execution_count": 8,
   "metadata": {},
   "outputs": [
    {
     "data": {
      "text/plain": [
       "24"
      ]
     },
     "execution_count": 8,
     "metadata": {},
     "output_type": "execute_result"
    }
   ],
   "source": [
    "total_connections"
   ]
  },
  {
   "cell_type": "code",
   "execution_count": 9,
   "metadata": {},
   "outputs": [],
   "source": [
    "from __future__ import division\n",
    "num_users=len(users)\n",
    "avg_connections=total_connections/num_users"
   ]
  },
  {
   "cell_type": "markdown",
   "metadata": {},
   "source": [
    "## sort the user by the num of friends"
   ]
  },
  {
   "cell_type": "markdown",
   "metadata": {},
   "source": [
    "### build the list for sort"
   ]
  },
  {
   "cell_type": "code",
   "execution_count": 10,
   "metadata": {
    "scrolled": true
   },
   "outputs": [
    {
     "name": "stdout",
     "output_type": "stream",
     "text": [
      "the num of 0 is 2\n",
      "the num of 1 is 3\n",
      "the num of 2 is 3\n",
      "the num of 3 is 3\n",
      "the num of 4 is 2\n",
      "the num of 5 is 3\n",
      "the num of 6 is 2\n",
      "the num of 7 is 2\n",
      "the num of 8 is 3\n",
      "the num of 9 is 1\n"
     ]
    }
   ],
   "source": [
    "num_friends_by_id=[(user[\"id\"],number_of_friends(user))\n",
    "                    for user in users]"
   ]
  },
  {
   "cell_type": "code",
   "execution_count": 11,
   "metadata": {},
   "outputs": [
    {
     "data": {
      "text/plain": [
       "[(0, 2),\n",
       " (1, 3),\n",
       " (2, 3),\n",
       " (3, 3),\n",
       " (4, 2),\n",
       " (5, 3),\n",
       " (6, 2),\n",
       " (7, 2),\n",
       " (8, 3),\n",
       " (9, 1)]"
      ]
     },
     "execution_count": 11,
     "metadata": {},
     "output_type": "execute_result"
    }
   ],
   "source": [
    "num_friends_by_id"
   ]
  },
  {
   "cell_type": "markdown",
   "metadata": {},
   "source": [
    "### sort the list by the lambda function"
   ]
  },
  {
   "cell_type": "code",
   "execution_count": 12,
   "metadata": {
    "scrolled": true
   },
   "outputs": [
    {
     "data": {
      "text/plain": [
       "[(1, 3),\n",
       " (2, 3),\n",
       " (3, 3),\n",
       " (5, 3),\n",
       " (8, 3),\n",
       " (0, 2),\n",
       " (4, 2),\n",
       " (6, 2),\n",
       " (7, 2),\n",
       " (9, 1)]"
      ]
     },
     "execution_count": 12,
     "metadata": {},
     "output_type": "execute_result"
    }
   ],
   "source": [
    "sorted(num_friends_by_id,\n",
    "       key=lambda num_friends_by_id:num_friends_by_id[1],\n",
    "       reverse=True)"
   ]
  },
  {
   "cell_type": "markdown",
   "metadata": {},
   "source": [
    "# 2 find the data-scientist"
   ]
  },
  {
   "cell_type": "markdown",
   "metadata": {},
   "source": [
    "### count your friend's friends"
   ]
  },
  {
   "cell_type": "code",
   "execution_count": 13,
   "metadata": {},
   "outputs": [],
   "source": [
    "def friends_of_friend_ids_bad(user):\n",
    "    return [foaf[\"id\"]\n",
    "            for friend in user[\"friends\"]\n",
    "            for foaf in friend[\"friends\"]\n",
    "           ]"
   ]
  },
  {
   "cell_type": "code",
   "execution_count": 14,
   "metadata": {},
   "outputs": [
    {
     "data": {
      "text/plain": [
       "{'friends': [{'friends': [{...},\n",
       "    {'friends': [{...},\n",
       "      {...},\n",
       "      {'friends': [{...},\n",
       "        {...},\n",
       "        {'friends': [{...},\n",
       "          {'friends': [{...},\n",
       "            {'friends': [{...},\n",
       "              {'friends': [{...},\n",
       "                {'friends': [{...}, {...}], 'id': 7, 'name': 'Devin'},\n",
       "                {'friends': [{...}], 'id': 9, 'name': 'Klein'}],\n",
       "               'id': 8,\n",
       "               'name': 'Kate'}],\n",
       "             'id': 6,\n",
       "             'name': 'Hicks'},\n",
       "            {'friends': [{...},\n",
       "              {'friends': [{'friends': [{...}, {...}],\n",
       "                 'id': 6,\n",
       "                 'name': 'Hicks'},\n",
       "                {...},\n",
       "                {'friends': [{...}], 'id': 9, 'name': 'Klein'}],\n",
       "               'id': 8,\n",
       "               'name': 'Kate'}],\n",
       "             'id': 7,\n",
       "             'name': 'Devin'}],\n",
       "           'id': 5,\n",
       "           'name': 'Clive'}],\n",
       "         'id': 4,\n",
       "         'name': 'Thor'}],\n",
       "       'id': 3,\n",
       "       'name': 'Chi'}],\n",
       "     'id': 2,\n",
       "     'name': 'Sue'},\n",
       "    {'friends': [{...},\n",
       "      {'friends': [{...}, {...}, {...}], 'id': 2, 'name': 'Sue'},\n",
       "      {'friends': [{...},\n",
       "        {'friends': [{...},\n",
       "          {'friends': [{...},\n",
       "            {'friends': [{...},\n",
       "              {'friends': [{...}, {...}], 'id': 7, 'name': 'Devin'},\n",
       "              {'friends': [{...}], 'id': 9, 'name': 'Klein'}],\n",
       "             'id': 8,\n",
       "             'name': 'Kate'}],\n",
       "           'id': 6,\n",
       "           'name': 'Hicks'},\n",
       "          {'friends': [{...},\n",
       "            {'friends': [{'friends': [{...}, {...}], 'id': 6, 'name': 'Hicks'},\n",
       "              {...},\n",
       "              {'friends': [{...}], 'id': 9, 'name': 'Klein'}],\n",
       "             'id': 8,\n",
       "             'name': 'Kate'}],\n",
       "           'id': 7,\n",
       "           'name': 'Devin'}],\n",
       "         'id': 5,\n",
       "         'name': 'Clive'}],\n",
       "       'id': 4,\n",
       "       'name': 'Thor'}],\n",
       "     'id': 3,\n",
       "     'name': 'Chi'}],\n",
       "   'id': 1,\n",
       "   'name': 'Dunn'},\n",
       "  {'friends': [{...},\n",
       "    {'friends': [{...},\n",
       "      {...},\n",
       "      {'friends': [{...},\n",
       "        {...},\n",
       "        {'friends': [{...},\n",
       "          {'friends': [{...},\n",
       "            {'friends': [{...},\n",
       "              {'friends': [{...},\n",
       "                {'friends': [{...}, {...}], 'id': 7, 'name': 'Devin'},\n",
       "                {'friends': [{...}], 'id': 9, 'name': 'Klein'}],\n",
       "               'id': 8,\n",
       "               'name': 'Kate'}],\n",
       "             'id': 6,\n",
       "             'name': 'Hicks'},\n",
       "            {'friends': [{...},\n",
       "              {'friends': [{'friends': [{...}, {...}],\n",
       "                 'id': 6,\n",
       "                 'name': 'Hicks'},\n",
       "                {...},\n",
       "                {'friends': [{...}], 'id': 9, 'name': 'Klein'}],\n",
       "               'id': 8,\n",
       "               'name': 'Kate'}],\n",
       "             'id': 7,\n",
       "             'name': 'Devin'}],\n",
       "           'id': 5,\n",
       "           'name': 'Clive'}],\n",
       "         'id': 4,\n",
       "         'name': 'Thor'}],\n",
       "       'id': 3,\n",
       "       'name': 'Chi'}],\n",
       "     'id': 1,\n",
       "     'name': 'Dunn'},\n",
       "    {'friends': [{'friends': [{...}, {...}, {...}], 'id': 1, 'name': 'Dunn'},\n",
       "      {...},\n",
       "      {'friends': [{...},\n",
       "        {'friends': [{...},\n",
       "          {'friends': [{...},\n",
       "            {'friends': [{...},\n",
       "              {'friends': [{...}, {...}], 'id': 7, 'name': 'Devin'},\n",
       "              {'friends': [{...}], 'id': 9, 'name': 'Klein'}],\n",
       "             'id': 8,\n",
       "             'name': 'Kate'}],\n",
       "           'id': 6,\n",
       "           'name': 'Hicks'},\n",
       "          {'friends': [{...},\n",
       "            {'friends': [{'friends': [{...}, {...}], 'id': 6, 'name': 'Hicks'},\n",
       "              {...},\n",
       "              {'friends': [{...}], 'id': 9, 'name': 'Klein'}],\n",
       "             'id': 8,\n",
       "             'name': 'Kate'}],\n",
       "           'id': 7,\n",
       "           'name': 'Devin'}],\n",
       "         'id': 5,\n",
       "         'name': 'Clive'}],\n",
       "       'id': 4,\n",
       "       'name': 'Thor'}],\n",
       "     'id': 3,\n",
       "     'name': 'Chi'}],\n",
       "   'id': 2,\n",
       "   'name': 'Sue'}],\n",
       " 'id': 0,\n",
       " 'name': 'Hero'}"
      ]
     },
     "execution_count": 14,
     "metadata": {},
     "output_type": "execute_result"
    }
   ],
   "source": [
    "users[0]"
   ]
  },
  {
   "cell_type": "code",
   "execution_count": 15,
   "metadata": {
    "scrolled": true
   },
   "outputs": [
    {
     "data": {
      "text/plain": [
       "[0, 2, 3, 0, 1, 3]"
      ]
     },
     "execution_count": 15,
     "metadata": {},
     "output_type": "execute_result"
    }
   ],
   "source": [
    "friends_of_friend_ids_bad(users[0])"
   ]
  },
  {
   "cell_type": "code",
   "execution_count": 16,
   "metadata": {},
   "outputs": [
    {
     "data": {
      "text/plain": [
       "[0, 2, 3, 0, 1, 3, 3, 5]"
      ]
     },
     "execution_count": 16,
     "metadata": {},
     "output_type": "execute_result"
    }
   ],
   "source": [
    "friends_of_friend_ids_bad(users[3])"
   ]
  },
  {
   "cell_type": "code",
   "execution_count": 17,
   "metadata": {},
   "outputs": [
    {
     "name": "stdout",
     "output_type": "stream",
     "text": [
      "[1, 2]\n"
     ]
    }
   ],
   "source": [
    "print([friend[\"id\"]   \n",
    "       for friend in users[0][\"friends\"]])"
   ]
  },
  {
   "cell_type": "markdown",
   "metadata": {},
   "source": [
    "### define a function for list your friend's friends"
   ]
  },
  {
   "cell_type": "code",
   "execution_count": 18,
   "metadata": {},
   "outputs": [],
   "source": [
    "getFriends=lambda i:[friend[\"id\"] \n",
    "                     for friend in users[i][\"friends\"]]"
   ]
  },
  {
   "cell_type": "code",
   "execution_count": 19,
   "metadata": {
    "scrolled": true
   },
   "outputs": [
    {
     "name": "stdout",
     "output_type": "stream",
     "text": [
      "[0, 1, 3]\n"
     ]
    }
   ],
   "source": [
    "print(getFriends(2))"
   ]
  },
  {
   "cell_type": "code",
   "execution_count": 20,
   "metadata": {},
   "outputs": [
    {
     "name": "stdout",
     "output_type": "stream",
     "text": [
      "[3, 5]\n"
     ]
    }
   ],
   "source": [
    "print(getFriends(4))"
   ]
  },
  {
   "cell_type": "code",
   "execution_count": 21,
   "metadata": {},
   "outputs": [
    {
     "name": "stdout",
     "output_type": "stream",
     "text": [
      "[1, 2]\n"
     ]
    }
   ],
   "source": [
    "print(getFriends(0))"
   ]
  },
  {
   "cell_type": "code",
   "execution_count": 22,
   "metadata": {},
   "outputs": [],
   "source": [
    "from collections import Counter"
   ]
  },
  {
   "cell_type": "markdown",
   "metadata": {},
   "source": [
    "### define a fucntion for compare two people whether they are the same"
   ]
  },
  {
   "cell_type": "code",
   "execution_count": 23,
   "metadata": {},
   "outputs": [],
   "source": [
    "def not_the_same(user,other_user):\n",
    "    return user[\"id\"]!=other_user[\"id\"]"
   ]
  },
  {
   "cell_type": "markdown",
   "metadata": {},
   "source": [
    "### define a function for compare two people whether they are friends"
   ]
  },
  {
   "cell_type": "code",
   "execution_count": 24,
   "metadata": {},
   "outputs": [],
   "source": [
    "def not_friends(user,other_user):\n",
    "    return all(not_the_same(friend,other_user) \n",
    "               for friend in user[\"friends\"])"
   ]
  },
  {
   "cell_type": "code",
   "execution_count": 25,
   "metadata": {},
   "outputs": [],
   "source": [
    "def friends_of_friend_ids(user):\n",
    "    return Counter(foaf[\"id\"]\n",
    "                   for friends in user[\"friends\"]\n",
    "                       for foaf in friends[\"friends\"]\n",
    "                           if not_the_same(user,foaf) and not_friends(user,foaf)\n",
    "                  )"
   ]
  },
  {
   "cell_type": "code",
   "execution_count": 26,
   "metadata": {},
   "outputs": [
    {
     "name": "stdout",
     "output_type": "stream",
     "text": [
      "Counter({0: 2, 5: 1})\n"
     ]
    }
   ],
   "source": [
    "print(friends_of_friend_ids(users[3]))"
   ]
  },
  {
   "cell_type": "markdown",
   "metadata": {},
   "source": [
    "## user with the same interest"
   ]
  },
  {
   "cell_type": "code",
   "execution_count": 27,
   "metadata": {},
   "outputs": [],
   "source": [
    "interests = [\n",
    "(0, \"Hadoop\"),(0, \"Big Data\"),(0, \"HBase\"), (0, \"Java\"),(0, \"Spark\"), (0, \"Storm\"), (0, \"Cassandra\"),    \n",
    "(1, \"NoSQL\"),(1, \"MongoDB\"), (1, \"Cassandra\"), (1, \"HBase\"),(1, \"Postgres\"), \n",
    "(2, \"Python\"), (2, \"scikit-learn\"), (2, \"scipy\"), (2, \"numpy\"), (2, \"statsmodels\"), (2, \"pandas\"),\n",
    "(3, \"R\"), (3, \"Python\"),(3, \"statistics\"), (3, \"regression\"), (3, \"probability\"),     \n",
    "(4, \"machine learning\"), (4, \"regression\"), (4, \"decision trees\"), (4, \"libsvm\"), \n",
    "(5, \"Python\"), (5, \"R\"), (5, \"Java\"), (5, \"C++\"), (5, \"Haskell\"), (5, \"programming languages\"), \n",
    "(6, \"statistics\"), (6, \"probability\"), (6, \"mathematics\"), (6, \"theory\"),\n",
    "(7, \"machine learning\"), (7, \"scikit-learn\"), (7, \"Mahout\"),(7, \"neural networks\"),\n",
    "(8, \"neural networks\"), (8, \"deep learning\"), (8, \"Big Data\"), (8, \"artificial intelligence\"), \n",
    "(9, \"Hadoop\"),(9, \"Java\"), (9, \"MapReduce\"), (9, \"Big Data\") ]"
   ]
  },
  {
   "cell_type": "markdown",
   "metadata": {},
   "source": [
    "### analyse with the key user"
   ]
  },
  {
   "cell_type": "code",
   "execution_count": 28,
   "metadata": {},
   "outputs": [],
   "source": [
    "def data_scientists_who_like(target_interest):\n",
    "    return [user_id\n",
    "            for user_id,user_interest in interests\n",
    "               if user_interest==target_interest]"
   ]
  },
  {
   "cell_type": "code",
   "execution_count": 29,
   "metadata": {
    "scrolled": true
   },
   "outputs": [
    {
     "data": {
      "text/plain": [
       "[0, 9]"
      ]
     },
     "execution_count": 29,
     "metadata": {},
     "output_type": "execute_result"
    }
   ],
   "source": [
    "data_scientists_who_like(\"Hadoop\")"
   ]
  },
  {
   "cell_type": "markdown",
   "metadata": {},
   "source": [
    "### optimize the function with the key interest"
   ]
  },
  {
   "cell_type": "code",
   "execution_count": 30,
   "metadata": {},
   "outputs": [],
   "source": [
    "from collections import defaultdict"
   ]
  },
  {
   "cell_type": "code",
   "execution_count": 31,
   "metadata": {},
   "outputs": [],
   "source": [
    "user_ids_by_interest=defaultdict(list)"
   ]
  },
  {
   "cell_type": "code",
   "execution_count": 32,
   "metadata": {},
   "outputs": [],
   "source": [
    "for user_id,interest in interests:\n",
    "    user_ids_by_interest[interest].append(user_id)"
   ]
  },
  {
   "cell_type": "code",
   "execution_count": 33,
   "metadata": {},
   "outputs": [
    {
     "data": {
      "text/plain": [
       "defaultdict(list,\n",
       "            {'Big Data': [0, 8, 9],\n",
       "             'C++': [5],\n",
       "             'Cassandra': [0, 1],\n",
       "             'HBase': [0, 1],\n",
       "             'Hadoop': [0, 9],\n",
       "             'Haskell': [5],\n",
       "             'Java': [0, 5, 9],\n",
       "             'Mahout': [7],\n",
       "             'MapReduce': [9],\n",
       "             'MongoDB': [1],\n",
       "             'NoSQL': [1],\n",
       "             'Postgres': [1],\n",
       "             'Python': [2, 3, 5],\n",
       "             'R': [3, 5],\n",
       "             'Spark': [0],\n",
       "             'Storm': [0],\n",
       "             'artificial intelligence': [8],\n",
       "             'decision trees': [4],\n",
       "             'deep learning': [8],\n",
       "             'libsvm': [4],\n",
       "             'machine learning': [4, 7],\n",
       "             'mathematics': [6],\n",
       "             'neural networks': [7, 8],\n",
       "             'numpy': [2],\n",
       "             'pandas': [2],\n",
       "             'probability': [3, 6],\n",
       "             'programming languages': [5],\n",
       "             'regression': [3, 4],\n",
       "             'scikit-learn': [2, 7],\n",
       "             'scipy': [2],\n",
       "             'statistics': [3, 6],\n",
       "             'statsmodels': [2],\n",
       "             'theory': [6]})"
      ]
     },
     "execution_count": 33,
     "metadata": {},
     "output_type": "execute_result"
    }
   ],
   "source": [
    "user_ids_by_interest"
   ]
  },
  {
   "cell_type": "markdown",
   "metadata": {},
   "source": [
    "### optimize the function with the key interest"
   ]
  },
  {
   "cell_type": "code",
   "execution_count": 34,
   "metadata": {},
   "outputs": [],
   "source": [
    "interests_by_user_ids=defaultdict(list)"
   ]
  },
  {
   "cell_type": "code",
   "execution_count": 35,
   "metadata": {},
   "outputs": [],
   "source": [
    "for user_id,interest in interests:\n",
    "    interests_by_user_ids[user_id].append(interest)"
   ]
  },
  {
   "cell_type": "code",
   "execution_count": 36,
   "metadata": {},
   "outputs": [
    {
     "data": {
      "text/plain": [
       "defaultdict(list,\n",
       "            {0: ['Hadoop',\n",
       "              'Big Data',\n",
       "              'HBase',\n",
       "              'Java',\n",
       "              'Spark',\n",
       "              'Storm',\n",
       "              'Cassandra'],\n",
       "             1: ['NoSQL', 'MongoDB', 'Cassandra', 'HBase', 'Postgres'],\n",
       "             2: ['Python',\n",
       "              'scikit-learn',\n",
       "              'scipy',\n",
       "              'numpy',\n",
       "              'statsmodels',\n",
       "              'pandas'],\n",
       "             3: ['R', 'Python', 'statistics', 'regression', 'probability'],\n",
       "             4: ['machine learning', 'regression', 'decision trees', 'libsvm'],\n",
       "             5: ['Python',\n",
       "              'R',\n",
       "              'Java',\n",
       "              'C++',\n",
       "              'Haskell',\n",
       "              'programming languages'],\n",
       "             6: ['statistics', 'probability', 'mathematics', 'theory'],\n",
       "             7: ['machine learning',\n",
       "              'scikit-learn',\n",
       "              'Mahout',\n",
       "              'neural networks'],\n",
       "             8: ['neural networks',\n",
       "              'deep learning',\n",
       "              'Big Data',\n",
       "              'artificial intelligence'],\n",
       "             9: ['Hadoop', 'Java', 'MapReduce', 'Big Data']})"
      ]
     },
     "execution_count": 36,
     "metadata": {},
     "output_type": "execute_result"
    }
   ],
   "source": [
    "interests_by_user_ids"
   ]
  },
  {
   "cell_type": "markdown",
   "metadata": {},
   "source": [
    "### list the potential friends of the user"
   ]
  },
  {
   "cell_type": "code",
   "execution_count": 37,
   "metadata": {},
   "outputs": [],
   "source": [
    "def most_common_interests_with_User(user):\n",
    "    return Counter(interested_user_id for interest in interests_by_user_ids[user[\"id\"]]\n",
    "                        for interested_user_id in user_ids_by_interest[interest]\n",
    "                            if interested_user_id!=user[\"id\"]\n",
    "                  )"
   ]
  },
  {
   "cell_type": "code",
   "execution_count": 38,
   "metadata": {},
   "outputs": [
    {
     "data": {
      "text/plain": [
       "Counter({3: 1, 7: 1})"
      ]
     },
     "execution_count": 38,
     "metadata": {},
     "output_type": "execute_result"
    }
   ],
   "source": [
    "most_common_interests_with_User(users[4])"
   ]
  }
 ],
 "metadata": {
  "kernelspec": {
   "display_name": "Python 3",
   "language": "python",
   "name": "python3"
  },
  "language_info": {
   "codemirror_mode": {
    "name": "ipython",
    "version": 3
   },
   "file_extension": ".py",
   "mimetype": "text/x-python",
   "name": "python",
   "nbconvert_exporter": "python",
   "pygments_lexer": "ipython3",
   "version": "3.5.2"
  }
 },
 "nbformat": 4,
 "nbformat_minor": 2
}
