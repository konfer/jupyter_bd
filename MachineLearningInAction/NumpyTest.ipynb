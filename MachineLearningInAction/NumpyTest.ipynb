{
 "cells": [
  {
   "cell_type": "code",
   "execution_count": 1,
   "metadata": {},
   "outputs": [],
   "source": [
    "from numpy import *"
   ]
  },
  {
   "cell_type": "code",
   "execution_count": 2,
   "metadata": {},
   "outputs": [
    {
     "data": {
      "text/plain": [
       "array([[0.46841302, 0.20598532, 0.62564686, 0.1706162 ],\n",
       "       [0.28747037, 0.90498204, 0.89584741, 0.14804534],\n",
       "       [0.40345352, 0.26054843, 0.45574976, 0.08099517],\n",
       "       [0.09849574, 0.31265252, 0.35811508, 0.21732438]])"
      ]
     },
     "execution_count": 2,
     "metadata": {},
     "output_type": "execute_result"
    }
   ],
   "source": [
    "random.rand(4,4)"
   ]
  },
  {
   "cell_type": "code",
   "execution_count": 3,
   "metadata": {},
   "outputs": [],
   "source": [
    "randomMatrix=mat(random.rand(4,4))"
   ]
  },
  {
   "cell_type": "code",
   "execution_count": 4,
   "metadata": {},
   "outputs": [
    {
     "data": {
      "text/plain": [
       "matrix([[0.41795599, 0.06189672, 0.9207353 , 0.59935946],\n",
       "        [0.36838276, 0.41661719, 0.13505789, 0.18687849],\n",
       "        [0.37252227, 0.46689536, 0.51062294, 0.94815161],\n",
       "        [0.92529881, 0.2829425 , 0.36271072, 0.09158242]])"
      ]
     },
     "execution_count": 4,
     "metadata": {},
     "output_type": "execute_result"
    }
   ],
   "source": [
    "randomMatrix"
   ]
  },
  {
   "cell_type": "markdown",
   "metadata": {},
   "source": [
    "### inverse operation of the matrix  =》 .I"
   ]
  },
  {
   "cell_type": "code",
   "execution_count": 6,
   "metadata": {
    "scrolled": true
   },
   "outputs": [],
   "source": [
    "InverseRandomMatrix=randomMatrix.I"
   ]
  },
  {
   "cell_type": "code",
   "execution_count": 7,
   "metadata": {},
   "outputs": [
    {
     "data": {
      "text/plain": [
       "matrix([[-0.94321692, -2.17118882,  0.82731457,  2.03810766],\n",
       "        [ 0.6234875 ,  4.78558076, -1.17168671, -1.71516096],\n",
       "        [ 2.20340975,  2.5292774 , -1.76666946, -1.29098488],\n",
       "        [-1.12307532, -2.86563488,  2.25803966,  0.73908718]])"
      ]
     },
     "execution_count": 7,
     "metadata": {},
     "output_type": "execute_result"
    }
   ],
   "source": [
    "InverseRandomMatrix"
   ]
  },
  {
   "cell_type": "code",
   "execution_count": 8,
   "metadata": {},
   "outputs": [
    {
     "data": {
      "text/plain": [
       "matrix([[ 1.00000000e+00, -2.07395057e-16, -1.23935709e-17,\n",
       "          7.24991334e-17],\n",
       "        [-3.71444350e-17,  1.00000000e+00,  7.68711604e-17,\n",
       "          1.69901129e-16],\n",
       "        [-2.78758491e-17,  2.11497496e-16,  1.00000000e+00,\n",
       "          2.51739597e-17],\n",
       "        [ 1.68583188e-16,  3.85980709e-16, -2.14109635e-16,\n",
       "          1.00000000e+00]])"
      ]
     },
     "execution_count": 8,
     "metadata": {},
     "output_type": "execute_result"
    }
   ],
   "source": [
    "randomMatrix*InverseRandomMatrix"
   ]
  },
  {
   "cell_type": "code",
   "execution_count": null,
   "metadata": {},
   "outputs": [],
   "source": []
  }
 ],
 "metadata": {
  "kernelspec": {
   "display_name": "Python 3",
   "language": "python",
   "name": "python3"
  },
  "language_info": {
   "codemirror_mode": {
    "name": "ipython",
    "version": 3
   },
   "file_extension": ".py",
   "mimetype": "text/x-python",
   "name": "python",
   "nbconvert_exporter": "python",
   "pygments_lexer": "ipython3",
   "version": "3.5.2"
  }
 },
 "nbformat": 4,
 "nbformat_minor": 2
}
