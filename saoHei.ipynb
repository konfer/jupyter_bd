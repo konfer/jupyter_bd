{
 "cells": [
  {
   "cell_type": "code",
   "execution_count": null,
   "id": "1e7d4366",
   "metadata": {},
   "outputs": [],
   "source": [
    "import py2neo\n",
    "import tqdm\n",
    "import pandas as pd\n",
    "\n",
    "from tqdm import tqdm\n",
    "from py2neo import Graph,Node,Relationship,NodeMatcher,Subgraph"
   ]
  },
  {
   "cell_type": "code",
   "execution_count": null,
   "id": "40571400",
   "metadata": {},
   "outputs": [],
   "source": [
    "# pandas-style!\n",
    "def color_negative_red(val):\n",
    "    color = 'red' if val < 0 else 'black' \n",
    "    return 'color: %s' % color \n",
    "# df.style.applymap(color_negative_red)"
   ]
  },
  {
   "cell_type": "code",
   "execution_count": null,
   "id": "3c17694c",
   "metadata": {},
   "outputs": [],
   "source": [
    "# pandas-num-option!\n",
    "pd.options.display.max_columns = 50  # None -> No Restrictions\n",
    "pd.options.display.max_rows = 200    # None -> Be careful with this\n",
    "pd.options.display.max_colwidth = 100\n",
    "pd.options.display.precision = 3"
   ]
  },
  {
   "cell_type": "code",
   "execution_count": null,
   "id": "4f5c89a2",
   "metadata": {},
   "outputs": [],
   "source": [
    "saoHei=Graph('http://hapark02:3447',user = 'neo4j', password = '123')"
   ]
  },
  {
   "cell_type": "code",
   "execution_count": null,
   "id": "ba462568",
   "metadata": {},
   "outputs": [],
   "source": [
    "sgccCompanyDF = pd.read_csv('/usr/local/codeData/saoHei/sgcc-company.csv')"
   ]
  },
  {
   "cell_type": "code",
   "execution_count": null,
   "id": "6c56053a",
   "metadata": {},
   "outputs": [],
   "source": [
    "sgccPeopleDF = pd.read_csv('/usr/local/codeData/saoHei/sgcc-people.csv')"
   ]
  },
  {
   "cell_type": "code",
   "execution_count": null,
   "id": "d1e8fd98",
   "metadata": {},
   "outputs": [],
   "source": [
    "supplierCompanyDF = pd.read_csv('/usr/local/codeData/saoHei/supplier-company.csv')"
   ]
  },
  {
   "cell_type": "code",
   "execution_count": null,
   "id": "514aad30",
   "metadata": {},
   "outputs": [],
   "source": [
    "supplierPeopleDF = pd.read_csv('/usr/local/codeData/saoHei/supplier-people.csv')"
   ]
  },
  {
   "cell_type": "code",
   "execution_count": null,
   "id": "98c5ed30",
   "metadata": {},
   "outputs": [],
   "source": [
    "yiliDF = pd.read_csv('/usr/local/codeData/saoHei/yili-Department.csv')"
   ]
  },
  {
   "cell_type": "code",
   "execution_count": null,
   "id": "980e8449",
   "metadata": {},
   "outputs": [],
   "source": [
    "yiliPeopleDF = pd.read_csv('/usr/local/codeData/saoHei/yili-people.csv')"
   ]
  },
  {
   "cell_type": "code",
   "execution_count": null,
   "id": "0cad0e37",
   "metadata": {},
   "outputs": [],
   "source": [
    "projectDF = pd.read_csv('/usr/local/codeData/saoHei/project.csv')"
   ]
  },
  {
   "cell_type": "code",
   "execution_count": null,
   "id": "4ec909bf",
   "metadata": {},
   "outputs": [],
   "source": [
    "developDF = pd.read_csv('/usr/local/codeData/saoHei/develop.csv')"
   ]
  },
  {
   "cell_type": "code",
   "execution_count": null,
   "id": "c2ddb6fd",
   "metadata": {},
   "outputs": [],
   "source": [
    "sgccRelationShipDF = pd.read_csv('/usr/local/codeData/saoHei/sgcc-relationships.csv')"
   ]
  },
  {
   "cell_type": "code",
   "execution_count": null,
   "id": "fc20e9f4",
   "metadata": {},
   "outputs": [],
   "source": [
    "sgccPeopleRelationShipDF = pd.read_csv('/usr/local/codeData/saoHei/sgcc-people-relationships.csv')"
   ]
  },
  {
   "cell_type": "code",
   "execution_count": null,
   "id": "82e0182d",
   "metadata": {},
   "outputs": [],
   "source": [
    "sgccPeopleCompanyRelationShipDF = pd.read_csv('/usr/local/codeData/saoHei/sgcc-people-company-relationships.csv')"
   ]
  },
  {
   "cell_type": "code",
   "execution_count": null,
   "id": "ebb8e8a2",
   "metadata": {},
   "outputs": [],
   "source": [
    "yiliRelationShipDF = pd.read_csv('/usr/local/codeData/saoHei/yili-relationships.csv')"
   ]
  },
  {
   "cell_type": "code",
   "execution_count": null,
   "id": "23e93b9f",
   "metadata": {},
   "outputs": [],
   "source": [
    "yiliPeopleCompanyRelationShipDF = pd.read_csv('/usr/local/codeData/saoHei/yili-people-company-relationships.csv')"
   ]
  },
  {
   "cell_type": "code",
   "execution_count": null,
   "id": "e0dd758f",
   "metadata": {},
   "outputs": [],
   "source": [
    "yiliPeopleProjectRelationShipDF = pd.read_csv('/usr/local/codeData/saoHei/yili-people-project-relationships.csv')"
   ]
  },
  {
   "cell_type": "code",
   "execution_count": null,
   "id": "20e28043",
   "metadata": {},
   "outputs": [],
   "source": [
    "yiliPeopleRelationShipDF = pd.read_csv('/usr/local/codeData/saoHei/yili-people-relationship.csv')"
   ]
  },
  {
   "cell_type": "code",
   "execution_count": null,
   "id": "defc9b21",
   "metadata": {},
   "outputs": [],
   "source": [
    "yiliSgccPeopleCompanyRelationShipDF = pd.read_csv('/usr/local/codeData/saoHei/yili-sgcc-people-company-relationships.csv')"
   ]
  },
  {
   "cell_type": "code",
   "execution_count": null,
   "id": "564df924",
   "metadata": {},
   "outputs": [],
   "source": [
    "supplierPeopleCompanyRelationShipDF = pd.read_csv('/usr/local/codeData/saoHei/supplier-people-company-relationships.csv')"
   ]
  },
  {
   "cell_type": "code",
   "execution_count": null,
   "id": "8efd32a2",
   "metadata": {},
   "outputs": [],
   "source": [
    "supplierPeopleRelationShipDF = pd.read_csv('/usr/local/codeData/saoHei/supplier-people-relationships.csv')"
   ]
  },
  {
   "cell_type": "code",
   "execution_count": null,
   "id": "af9b8053",
   "metadata": {},
   "outputs": [],
   "source": [
    "supplierDevelopCompanyRelationShipDF = pd.read_csv('/usr/local/codeData/saoHei/supplier-develop-company-relationships.csv')"
   ]
  },
  {
   "cell_type": "code",
   "execution_count": null,
   "id": "655bf8a1",
   "metadata": {},
   "outputs": [],
   "source": [
    "supplierProjectCompanyRelationShipDF = pd.read_csv('/usr/local/codeData/saoHei/supplier-project-company-relationships.csv')"
   ]
  },
  {
   "cell_type": "code",
   "execution_count": null,
   "id": "31f332c6",
   "metadata": {},
   "outputs": [],
   "source": [
    "projectDevelopRelationshipDF = pd.read_csv('/usr/local/codeData/saoHei/project-develop-relationships.csv')"
   ]
  },
  {
   "cell_type": "code",
   "execution_count": null,
   "id": "a6bc0280",
   "metadata": {},
   "outputs": [],
   "source": [
    "yiliDepartmentProjectRelationshipDF = pd.read_csv('/usr/local/codeData/saoHei/yili-project-relationships.csv')"
   ]
  },
  {
   "cell_type": "code",
   "execution_count": null,
   "id": "08cd3a8c",
   "metadata": {},
   "outputs": [],
   "source": [
    "sgccProjectRelationShipDF = pd.read_csv('/usr/local/codeData/saoHei/sgcc-project-relationships.csv')"
   ]
  },
  {
   "cell_type": "code",
   "execution_count": null,
   "id": "2628bdda",
   "metadata": {},
   "outputs": [],
   "source": [
    "projectRelationShipDF = pd.read_csv('/usr/local/codeData/saoHei/projects-relationships.csv')"
   ]
  },
  {
   "cell_type": "code",
   "execution_count": null,
   "id": "2e9fadcb",
   "metadata": {},
   "outputs": [],
   "source": [
    "ViolationRelationShipDF = pd.read_csv('/usr/local/codeData/saoHei/Violation-relationships.csv')"
   ]
  },
  {
   "cell_type": "code",
   "execution_count": null,
   "id": "6c106bf5",
   "metadata": {},
   "outputs": [],
   "source": [
    "sgccPeopleDevelopRelationShipDF = pd.read_csv('/usr/local/codeData/saoHei/sgcc-people-develop-relationships.csv')"
   ]
  },
  {
   "cell_type": "code",
   "execution_count": null,
   "id": "fed1516c",
   "metadata": {},
   "outputs": [],
   "source": [
    "sgccPeopleProjectRelationShipDF = pd.read_csv('/usr/local/codeData/saoHei/sgcc-people-project-relationships.csv')"
   ]
  },
  {
   "cell_type": "code",
   "execution_count": null,
   "id": "34b46c5e",
   "metadata": {},
   "outputs": [],
   "source": [
    "supplierPeopleDevelopViolationRelationShipDF = pd.read_csv('/usr/local/codeData/saoHei/supplier-people-develop-Violationrelationships.csv')"
   ]
  },
  {
   "cell_type": "code",
   "execution_count": null,
   "id": "eccbed91",
   "metadata": {
    "scrolled": true
   },
   "outputs": [],
   "source": [
    "# pandas-table-style!\n",
    "sgccCompanyDF.head(20).style.set_table_styles(\n",
    "[{'selector': 'tr:nth-of-type(odd)','props': [('background', 'eee')]},\n",
    " {'selector': 'tr:nth-of-type(even)','props': [('background', 'white')]},\n",
    " {'selector': 'th','props': [('background', '#606060'), \n",
    "                             ('color', 'white'),\n",
    "                             ('font-family', 'verdana')]},\n",
    " {'selector': 'td','props': [('font-family', 'verdana')]}\n",
    "])"
   ]
  },
  {
   "cell_type": "code",
   "execution_count": null,
   "id": "976279e2",
   "metadata": {},
   "outputs": [],
   "source": [
    "# pandas-table-style!\n",
    "sgccPeopleDF.head(30).style.set_table_styles(\n",
    "[{'selector': 'tr:nth-of-type(odd)','props': [('background', 'eee')]},\n",
    " {'selector': 'tr:nth-of-type(even)','props': [('background', 'white')]},\n",
    " {'selector': 'th','props': [('background', '#606060'), \n",
    "                             ('color', 'white'),\n",
    "                             ('font-family', 'verdana')]},\n",
    " {'selector': 'td','props': [('font-family', 'verdana')]}\n",
    "])"
   ]
  },
  {
   "cell_type": "code",
   "execution_count": null,
   "id": "abe79ff2",
   "metadata": {
    "scrolled": true
   },
   "outputs": [],
   "source": [
    "# pandas-table-style!\n",
    "supplierCompanyDF.head(10).style.set_table_styles(\n",
    "[{'selector': 'tr:nth-of-type(odd)','props': [('background', 'eee')]},\n",
    " {'selector': 'tr:nth-of-type(even)','props': [('background', 'white')]},\n",
    " {'selector': 'th','props': [('background', '#606060'), \n",
    "                             ('color', 'white'),\n",
    "                             ('font-family', 'verdana')]},\n",
    " {'selector': 'td','props': [('font-family', 'verdana')]}\n",
    "])"
   ]
  },
  {
   "cell_type": "code",
   "execution_count": null,
   "id": "428a4c41",
   "metadata": {
    "scrolled": true
   },
   "outputs": [],
   "source": [
    "# pandas-table-style!\n",
    "supplierPeopleDF.head(30).style.set_table_styles(\n",
    "[{'selector': 'tr:nth-of-type(odd)','props': [('background', 'eee')]},\n",
    " {'selector': 'tr:nth-of-type(even)','props': [('background', 'white')]},\n",
    " {'selector': 'th','props': [('background', '#606060'), \n",
    "                             ('color', 'white'),\n",
    "                             ('font-family', 'verdana')]},\n",
    " {'selector': 'td','props': [('font-family', 'verdana')]}\n",
    "])"
   ]
  },
  {
   "cell_type": "code",
   "execution_count": null,
   "id": "de8a5614",
   "metadata": {
    "scrolled": true
   },
   "outputs": [],
   "source": [
    "# pandas-table-style!\n",
    "projectDF.head(20).style.set_table_styles(\n",
    "[{'selector': 'tr:nth-of-type(odd)','props': [('background', 'eee')]},\n",
    " {'selector': 'tr:nth-of-type(even)','props': [('background', 'white')]},\n",
    " {'selector': 'th','props': [('background', '#606060'), \n",
    "                             ('color', 'white'),\n",
    "                             ('font-family', 'verdana')]},\n",
    " {'selector': 'td','props': [('font-family', 'verdana')]}\n",
    "])"
   ]
  },
  {
   "cell_type": "code",
   "execution_count": null,
   "id": "dc6ddc7a",
   "metadata": {
    "scrolled": true
   },
   "outputs": [],
   "source": [
    "# pandas-table-style!\n",
    "yiliDF.head(20).style.set_table_styles(\n",
    "[{'selector': 'tr:nth-of-type(odd)','props': [('background', 'eee')]},\n",
    " {'selector': 'tr:nth-of-type(even)','props': [('background', 'white')]},\n",
    " {'selector': 'th','props': [('background', '#606060'), \n",
    "                             ('color', 'white'),\n",
    "                             ('font-family', 'verdana')]},\n",
    " {'selector': 'td','props': [('font-family', 'verdana')]}\n",
    "])"
   ]
  },
  {
   "cell_type": "code",
   "execution_count": null,
   "id": "29896514",
   "metadata": {
    "scrolled": true
   },
   "outputs": [],
   "source": [
    "# pandas-table-style!\n",
    "developDF.head(20).style.set_table_styles(\n",
    "[{'selector': 'tr:nth-of-type(odd)','props': [('background', 'eee')]},\n",
    " {'selector': 'tr:nth-of-type(even)','props': [('background', 'white')]},\n",
    " {'selector': 'th','props': [('background', '#606060'), \n",
    "                             ('color', 'white'),\n",
    "                             ('font-family', 'verdana')]},\n",
    " {'selector': 'td','props': [('font-family', 'verdana')]}\n",
    "])"
   ]
  },
  {
   "cell_type": "code",
   "execution_count": null,
   "id": "9fee0289",
   "metadata": {
    "scrolled": true
   },
   "outputs": [],
   "source": [
    "# pandas-table-style!\n",
    "yiliPeopleDF.head(30).style.set_table_styles(\n",
    "[{'selector': 'tr:nth-of-type(odd)','props': [('background', 'eee')]},\n",
    " {'selector': 'tr:nth-of-type(even)','props': [('background', 'white')]},\n",
    " {'selector': 'th','props': [('background', '#606060'), \n",
    "                             ('color', 'white'),\n",
    "                             ('font-family', 'verdana')]},\n",
    " {'selector': 'td','props': [('font-family', 'verdana')]}\n",
    "])"
   ]
  },
  {
   "cell_type": "code",
   "execution_count": null,
   "id": "13f047bb",
   "metadata": {},
   "outputs": [],
   "source": [
    "# pandas-table-style!\n",
    "sgccRelationShipDF.head(30).style.set_table_styles(\n",
    "[{'selector': 'tr:nth-of-type(odd)','props': [('background', 'eee')]},\n",
    " {'selector': 'tr:nth-of-type(even)','props': [('background', 'white')]},\n",
    " {'selector': 'th','props': [('background', '#606060'), \n",
    "                             ('color', 'white'),\n",
    "                             ('font-family', 'verdana')]},\n",
    " {'selector': 'td','props': [('font-family', 'verdana')]}\n",
    "])"
   ]
  },
  {
   "cell_type": "code",
   "execution_count": null,
   "id": "b29e5252",
   "metadata": {},
   "outputs": [],
   "source": [
    "# pandas-table-style!\n",
    "sgccPeopleRelationShipDF.head(30).style.set_table_styles(\n",
    "[{'selector': 'tr:nth-of-type(odd)','props': [('background', 'eee')]},\n",
    " {'selector': 'tr:nth-of-type(even)','props': [('background', 'white')]},\n",
    " {'selector': 'th','props': [('background', '#606060'), \n",
    "                             ('color', 'white'),\n",
    "                             ('font-family', 'verdana')]},\n",
    " {'selector': 'td','props': [('font-family', 'verdana')]}\n",
    "])"
   ]
  },
  {
   "cell_type": "code",
   "execution_count": null,
   "id": "03c51d63",
   "metadata": {},
   "outputs": [],
   "source": [
    "# pandas-table-style!\n",
    "sgccPeopleCompanyRelationShipDF.head(30).style.set_table_styles(\n",
    "[{'selector': 'tr:nth-of-type(odd)','props': [('background', 'eee')]},\n",
    " {'selector': 'tr:nth-of-type(even)','props': [('background', 'white')]},\n",
    " {'selector': 'th','props': [('background', '#606060'), \n",
    "                             ('color', 'white'),\n",
    "                             ('font-family', 'verdana')]},\n",
    " {'selector': 'td','props': [('font-family', 'verdana')]}\n",
    "])"
   ]
  },
  {
   "cell_type": "code",
   "execution_count": null,
   "id": "5466458a",
   "metadata": {},
   "outputs": [],
   "source": [
    "# pandas-table-style!\n",
    "yiliRelationShipDF.head(30).style.set_table_styles(\n",
    "[{'selector': 'tr:nth-of-type(odd)','props': [('background', 'eee')]},\n",
    " {'selector': 'tr:nth-of-type(even)','props': [('background', 'white')]},\n",
    " {'selector': 'th','props': [('background', '#606060'), \n",
    "                             ('color', 'white'),\n",
    "                             ('font-family', 'verdana')]},\n",
    " {'selector': 'td','props': [('font-family', 'verdana')]}\n",
    "])"
   ]
  },
  {
   "cell_type": "code",
   "execution_count": null,
   "id": "d875393c",
   "metadata": {},
   "outputs": [],
   "source": [
    "# pandas-table-style!\n",
    "projectRelationShipDF.head(30).style.set_table_styles(\n",
    "[{'selector': 'tr:nth-of-type(odd)','props': [('background', 'eee')]},\n",
    " {'selector': 'tr:nth-of-type(even)','props': [('background', 'white')]},\n",
    " {'selector': 'th','props': [('background', '#606060'), \n",
    "                             ('color', 'white'),\n",
    "                             ('font-family', 'verdana')]},\n",
    " {'selector': 'td','props': [('font-family', 'verdana')]}\n",
    "])"
   ]
  },
  {
   "cell_type": "code",
   "execution_count": null,
   "id": "2569d168",
   "metadata": {},
   "outputs": [],
   "source": [
    "# pandas-table-style!\n",
    "yiliPeopleCompanyRelationShipDF.head(30).style.set_table_styles(\n",
    "[{'selector': 'tr:nth-of-type(odd)','props': [('background', 'eee')]},\n",
    " {'selector': 'tr:nth-of-type(even)','props': [('background', 'white')]},\n",
    " {'selector': 'th','props': [('background', '#606060'), \n",
    "                             ('color', 'white'),\n",
    "                             ('font-family', 'verdana')]},\n",
    " {'selector': 'td','props': [('font-family', 'verdana')]}\n",
    "])"
   ]
  },
  {
   "cell_type": "code",
   "execution_count": null,
   "id": "97c820d8",
   "metadata": {},
   "outputs": [],
   "source": [
    "# pandas-table-style!\n",
    "yiliPeopleProjectRelationShipDF.head(30).style.set_table_styles(\n",
    "[{'selector': 'tr:nth-of-type(odd)','props': [('background', 'eee')]},\n",
    " {'selector': 'tr:nth-of-type(even)','props': [('background', 'white')]},\n",
    " {'selector': 'th','props': [('background', '#606060'), \n",
    "                             ('color', 'white'),\n",
    "                             ('font-family', 'verdana')]},\n",
    " {'selector': 'td','props': [('font-family', 'verdana')]}\n",
    "])"
   ]
  },
  {
   "cell_type": "code",
   "execution_count": null,
   "id": "095535f3",
   "metadata": {},
   "outputs": [],
   "source": [
    "# pandas-table-style!\n",
    "yiliPeopleRelationShipDF.head(30).style.set_table_styles(\n",
    "[{'selector': 'tr:nth-of-type(odd)','props': [('background', 'eee')]},\n",
    " {'selector': 'tr:nth-of-type(even)','props': [('background', 'white')]},\n",
    " {'selector': 'th','props': [('background', '#606060'), \n",
    "                             ('color', 'white'),\n",
    "                             ('font-family', 'verdana')]},\n",
    " {'selector': 'td','props': [('font-family', 'verdana')]}\n",
    "])"
   ]
  },
  {
   "cell_type": "code",
   "execution_count": null,
   "id": "741f64b5",
   "metadata": {},
   "outputs": [],
   "source": [
    "# pandas-table-style!\n",
    "sgccPeopleRelationShipDF.head(30).style.set_table_styles(\n",
    "[{'selector': 'tr:nth-of-type(odd)','props': [('background', 'eee')]},\n",
    " {'selector': 'tr:nth-of-type(even)','props': [('background', 'white')]},\n",
    " {'selector': 'th','props': [('background', '#606060'), \n",
    "                             ('color', 'white'),\n",
    "                             ('font-family', 'verdana')]},\n",
    " {'selector': 'td','props': [('font-family', 'verdana')]}\n",
    "])"
   ]
  },
  {
   "cell_type": "code",
   "execution_count": null,
   "id": "22bafe1d",
   "metadata": {},
   "outputs": [],
   "source": [
    "# pandas-table-style!\n",
    "yiliSgccPeopleCompanyRelationShipDF.head(30).style.set_table_styles(\n",
    "[{'selector': 'tr:nth-of-type(odd)','props': [('background', 'eee')]},\n",
    " {'selector': 'tr:nth-of-type(even)','props': [('background', 'white')]},\n",
    " {'selector': 'th','props': [('background', '#606060'), \n",
    "                             ('color', 'white'),\n",
    "                             ('font-family', 'verdana')]},\n",
    " {'selector': 'td','props': [('font-family', 'verdana')]}\n",
    "])"
   ]
  },
  {
   "cell_type": "code",
   "execution_count": null,
   "id": "3dc5e8a3",
   "metadata": {},
   "outputs": [],
   "source": [
    "# pandas-table-style!\n",
    "supplierPeopleCompanyRelationShipDF.head(30).style.set_table_styles(\n",
    "[{'selector': 'tr:nth-of-type(odd)','props': [('background', 'eee')]},\n",
    " {'selector': 'tr:nth-of-type(even)','props': [('background', 'white')]},\n",
    " {'selector': 'th','props': [('background', '#606060'), \n",
    "                             ('color', 'white'),\n",
    "                             ('font-family', 'verdana')]},\n",
    " {'selector': 'td','props': [('font-family', 'verdana')]}\n",
    "])"
   ]
  },
  {
   "cell_type": "code",
   "execution_count": null,
   "id": "55b7b465",
   "metadata": {},
   "outputs": [],
   "source": [
    "# pandas-table-style!\n",
    "supplierPeopleRelationShipDF.head(30).style.set_table_styles(\n",
    "[{'selector': 'tr:nth-of-type(odd)','props': [('background', 'eee')]},\n",
    " {'selector': 'tr:nth-of-type(even)','props': [('background', 'white')]},\n",
    " {'selector': 'th','props': [('background', '#606060'), \n",
    "                             ('color', 'white'),\n",
    "                             ('font-family', 'verdana')]},\n",
    " {'selector': 'td','props': [('font-family', 'verdana')]}\n",
    "])"
   ]
  },
  {
   "cell_type": "code",
   "execution_count": null,
   "id": "25d2d090",
   "metadata": {},
   "outputs": [],
   "source": [
    "# pandas-table-style!\n",
    "supplierDevelopCompanyRelationShipDF.head(30).style.set_table_styles(\n",
    "[{'selector': 'tr:nth-of-type(odd)','props': [('background', 'eee')]},\n",
    " {'selector': 'tr:nth-of-type(even)','props': [('background', 'white')]},\n",
    " {'selector': 'th','props': [('background', '#606060'), \n",
    "                             ('color', 'white'),\n",
    "                             ('font-family', 'verdana')]},\n",
    " {'selector': 'td','props': [('font-family', 'verdana')]}\n",
    "])"
   ]
  },
  {
   "cell_type": "code",
   "execution_count": null,
   "id": "6d8694c4",
   "metadata": {},
   "outputs": [],
   "source": [
    "# pandas-table-style!\n",
    "supplierProjectCompanyRelationShipDF.head(30).style.set_table_styles(\n",
    "[{'selector': 'tr:nth-of-type(odd)','props': [('background', 'eee')]},\n",
    " {'selector': 'tr:nth-of-type(even)','props': [('background', 'white')]},\n",
    " {'selector': 'th','props': [('background', '#606060'), \n",
    "                             ('color', 'white'),\n",
    "                             ('font-family', 'verdana')]},\n",
    " {'selector': 'td','props': [('font-family', 'verdana')]}\n",
    "])"
   ]
  },
  {
   "cell_type": "code",
   "execution_count": null,
   "id": "fbf817f4",
   "metadata": {},
   "outputs": [],
   "source": [
    "# pandas-table-style!\n",
    "projectDevelopRelationshipDF.head(30).style.set_table_styles(\n",
    "[{'selector': 'tr:nth-of-type(odd)','props': [('background', 'eee')]},\n",
    " {'selector': 'tr:nth-of-type(even)','props': [('background', 'white')]},\n",
    " {'selector': 'th','props': [('background', '#606060'), \n",
    "                             ('color', 'white'),\n",
    "                             ('font-family', 'verdana')]},\n",
    " {'selector': 'td','props': [('font-family', 'verdana')]}\n",
    "])"
   ]
  },
  {
   "cell_type": "code",
   "execution_count": null,
   "id": "669792a5",
   "metadata": {},
   "outputs": [],
   "source": [
    "# pandas-table-style!\n",
    "yiliDepartmentProjectRelationshipDF.head(30).style.set_table_styles(\n",
    "[{'selector': 'tr:nth-of-type(odd)','props': [('background', 'eee')]},\n",
    " {'selector': 'tr:nth-of-type(even)','props': [('background', 'white')]},\n",
    " {'selector': 'th','props': [('background', '#606060'), \n",
    "                             ('color', 'white'),\n",
    "                             ('font-family', 'verdana')]},\n",
    " {'selector': 'td','props': [('font-family', 'verdana')]}\n",
    "])"
   ]
  },
  {
   "cell_type": "code",
   "execution_count": null,
   "id": "6d180c91",
   "metadata": {},
   "outputs": [],
   "source": [
    "# pandas-table-style!\n",
    "sgccProjectRelationShipDF.head(30).style.set_table_styles(\n",
    "[{'selector': 'tr:nth-of-type(odd)','props': [('background', 'eee')]},\n",
    " {'selector': 'tr:nth-of-type(even)','props': [('background', 'white')]},\n",
    " {'selector': 'th','props': [('background', '#606060'), \n",
    "                             ('color', 'white'),\n",
    "                             ('font-family', 'verdana')]},\n",
    " {'selector': 'td','props': [('font-family', 'verdana')]}\n",
    "])"
   ]
  },
  {
   "cell_type": "code",
   "execution_count": null,
   "id": "b950f339",
   "metadata": {},
   "outputs": [],
   "source": [
    "# pandas-table-style!\n",
    "ViolationRelationShipDF.head(50).style.set_table_styles(\n",
    "[{'selector': 'tr:nth-of-type(odd)','props': [('background', 'eee')]},\n",
    " {'selector': 'tr:nth-of-type(even)','props': [('background', 'white')]},\n",
    " {'selector': 'th','props': [('background', '#606060'), \n",
    "                             ('color', 'white'),\n",
    "                             ('font-family', 'verdana')]},\n",
    " {'selector': 'td','props': [('font-family', 'verdana')]}\n",
    "])"
   ]
  },
  {
   "cell_type": "code",
   "execution_count": null,
   "id": "d736bfeb",
   "metadata": {},
   "outputs": [],
   "source": [
    "# pandas-table-style!\n",
    "sgccPeopleDevelopRelationShipDF.head(30).style.set_table_styles(\n",
    "[{'selector': 'tr:nth-of-type(odd)','props': [('background', 'eee')]},\n",
    " {'selector': 'tr:nth-of-type(even)','props': [('background', 'white')]},\n",
    " {'selector': 'th','props': [('background', '#606060'), \n",
    "                             ('color', 'white'),\n",
    "                             ('font-family', 'verdana')]},\n",
    " {'selector': 'td','props': [('font-family', 'verdana')]}\n",
    "])"
   ]
  },
  {
   "cell_type": "code",
   "execution_count": null,
   "id": "7cc6d03b",
   "metadata": {},
   "outputs": [],
   "source": [
    "# pandas-table-style!\n",
    "sgccPeopleProjectRelationShipDF.head(30).style.set_table_styles(\n",
    "[{'selector': 'tr:nth-of-type(odd)','props': [('background', 'eee')]},\n",
    " {'selector': 'tr:nth-of-type(even)','props': [('background', 'white')]},\n",
    " {'selector': 'th','props': [('background', '#606060'), \n",
    "                             ('color', 'white'),\n",
    "                             ('font-family', 'verdana')]},\n",
    " {'selector': 'td','props': [('font-family', 'verdana')]}\n",
    "])"
   ]
  },
  {
   "cell_type": "code",
   "execution_count": null,
   "id": "478c6773",
   "metadata": {
    "scrolled": true
   },
   "outputs": [],
   "source": [
    "# pandas-table-style!\n",
    "supplierPeopleDevelopViolationRelationShipDF.head(30).style.set_table_styles(\n",
    "[{'selector': 'tr:nth-of-type(odd)','props': [('background', 'eee')]},\n",
    " {'selector': 'tr:nth-of-type(even)','props': [('background', 'white')]},\n",
    " {'selector': 'th','props': [('background', '#606060'), \n",
    "                             ('color', 'white'),\n",
    "                             ('font-family', 'verdana')]},\n",
    " {'selector': 'td','props': [('font-family', 'verdana')]}\n",
    "])"
   ]
  },
  {
   "cell_type": "code",
   "execution_count": null,
   "id": "83b878a1",
   "metadata": {},
   "outputs": [],
   "source": [
    "for i, row in tqdm(sgccPeopleDF.iterrows()):\n",
    "    sgcc_people_node = Node(\"sgcc_people\",name=row[sgccPeopleDF.columns[0]])\n",
    "    saoHei.merge(sgcc_people_node,\"sgcc_people\",\"name\")"
   ]
  },
  {
   "cell_type": "code",
   "execution_count": null,
   "id": "2a656cb9",
   "metadata": {},
   "outputs": [],
   "source": [
    "for i, row in tqdm(supplierCompanyDF.iterrows()):\n",
    "    supplier_company_node = Node(\"supplier_company\",name=row[sgccCompanyDF.columns[0]])\n",
    "    saoHei.merge(supplier_company_node,\"supplier_company\",\"name\")"
   ]
  },
  {
   "cell_type": "code",
   "execution_count": null,
   "id": "c8fe3628",
   "metadata": {},
   "outputs": [],
   "source": [
    "for i, row in tqdm(supplierPeopleDF.iterrows()):\n",
    "    supplier_people_node = Node(\"supplier_people\",name=row[sgccPeopleDF.columns[0]])\n",
    "    saoHei.merge(supplier_people_node,\"supplier_people\",\"name\")"
   ]
  },
  {
   "cell_type": "code",
   "execution_count": null,
   "id": "9a5478bd",
   "metadata": {},
   "outputs": [],
   "source": [
    "for i, row in tqdm(yiliDF.iterrows()):\n",
    "    yili_department_node = Node(\"yili-Department\",name=row[yiliDF.columns[0]])\n",
    "    saoHei.merge(yili_department_node,\"yili-Department\",\"name\")"
   ]
  },
  {
   "cell_type": "code",
   "execution_count": null,
   "id": "e09dea24",
   "metadata": {},
   "outputs": [],
   "source": [
    "for i, row in tqdm(projectDF.iterrows()):\n",
    "    project_node = Node(\"project\",name=row[projectDF.columns[0]])\n",
    "    saoHei.merge(project_node,\"project\",\"name\")"
   ]
  },
  {
   "cell_type": "code",
   "execution_count": null,
   "id": "0ed2bdf8",
   "metadata": {},
   "outputs": [],
   "source": [
    "for i, row in tqdm(developDF.iterrows()):\n",
    "    develop_node = Node(\"develop\",name=row[developDF.columns[0]])\n",
    "    saoHei.merge(develop_node,\"develop\",\"name\")"
   ]
  },
  {
   "cell_type": "code",
   "execution_count": null,
   "id": "505d51c1",
   "metadata": {},
   "outputs": [],
   "source": [
    "for i, row in tqdm(yiliPeopleDF.iterrows()):\n",
    "    yiliPeople_node = Node(\"yiliPeople\",name=row[yiliPeopleDF.columns[0]])\n",
    "    saoHei.merge(yiliPeople_node,\"yiliPeople\",\"name\")"
   ]
  },
  {
   "cell_type": "code",
   "execution_count": null,
   "id": "d3c131f2",
   "metadata": {
    "scrolled": true
   },
   "outputs": [],
   "source": [
    "for i, row in tqdm(sgccCompanyDF.iterrows()):\n",
    "    sgcc_company_node = Node(\"sgcc_company\",name=row[sgccCompanyDF.columns[0]])\n",
    "    saoHei.merge(sgcc_company_node,\"sgcc_company\",\"name\")"
   ]
  },
  {
   "cell_type": "code",
   "execution_count": null,
   "id": "4257c3ca",
   "metadata": {},
   "outputs": [],
   "source": [
    "for i, row in tqdm(sgccRelationShipDF.iterrows()):\n",
    "    \n",
    "    startNodeName, endNodeName ,relationType = [row[j] for j in range(3)]\n",
    "    startNode = saoHei.nodes.match(\"sgcc_company\", name = startNodeName).first()\n",
    "    endNode = saoHei.nodes.match(\"sgcc_company\", name = endNodeName).first()\n",
    "    sgcc_company_relationship = Relationship(startNode,relationType,endNode)\n",
    "    \n",
    "    saoHei.create(sgcc_company_relationship)"
   ]
  },
  {
   "cell_type": "code",
   "execution_count": null,
   "id": "8fe760ca",
   "metadata": {},
   "outputs": [],
   "source": [
    "for i, row in tqdm(sgccPeopleRelationShipDF.iterrows()):\n",
    "    \n",
    "    startNodeName, endNodeName ,relationType = [row[j] for j in range(3)]\n",
    "    startNode = saoHei.nodes.match(\"sgcc_people\", name = startNodeName).first()\n",
    "    endNode = saoHei.nodes.match(\"sgcc_people\", name = endNodeName).first()\n",
    "    sgcc_people_relationship = Relationship(startNode,relationType,endNode)\n",
    "    \n",
    "    saoHei.create(sgcc_people_relationship)"
   ]
  },
  {
   "cell_type": "code",
   "execution_count": null,
   "id": "447664ab",
   "metadata": {},
   "outputs": [],
   "source": [
    "for i, row in tqdm(sgccPeopleCompanyRelationShipDF.iterrows()):\n",
    "    \n",
    "    startNodeName, endNodeName ,relationType = [row[j] for j in range(3)]\n",
    "    startNode = saoHei.nodes.match(\"sgcc_people\", name = startNodeName).first()\n",
    "    endNode = saoHei.nodes.match(\"sgcc_company\", name = endNodeName).first()\n",
    "    sgcc_people_company_relationship = Relationship(startNode,relationType,endNode)\n",
    "    \n",
    "    saoHei.create(sgcc_people_company_relationship)"
   ]
  },
  {
   "cell_type": "code",
   "execution_count": null,
   "id": "5440697c",
   "metadata": {},
   "outputs": [],
   "source": [
    "for i, row in tqdm(yiliRelationShipDF.iterrows()):\n",
    "    \n",
    "    startNodeName, endNodeName ,relationType = [row[j] for j in range(3)]\n",
    "    startNode = saoHei.nodes.match(\"yili-Department\", name = startNodeName).first()\n",
    "    endNode = saoHei.nodes.match(\"sgcc_company\", name = endNodeName).first()\n",
    "    yili_department_relationship = Relationship(startNode,relationType,endNode)\n",
    "    print(startNodeName+\"|\"+endNodeName+\"|\"+relationType)\n",
    "    saoHei.create(yili_department_relationship)"
   ]
  },
  {
   "cell_type": "code",
   "execution_count": null,
   "id": "2da4c2be",
   "metadata": {},
   "outputs": [],
   "source": [
    "for i, row in tqdm(yiliPeopleCompanyRelationShipDF.iterrows()):\n",
    "    \n",
    "    startNodeName, endNodeName ,relationType = [row[j] for j in range(3)]\n",
    "    startNode = saoHei.nodes.match(\"yiliPeople\", name = startNodeName).first()\n",
    "    endNode = saoHei.nodes.match(\"yili-Department\", name = endNodeName).first()\n",
    "    #print(startNodeName+\"|\"+endNodeName+\"|\"+relationType)\n",
    "    yili_people_company_relationship = Relationship(startNode,relationType,endNode)\n",
    "    \n",
    "    saoHei.create(yili_people_company_relationship)"
   ]
  },
  {
   "cell_type": "code",
   "execution_count": null,
   "id": "6fe4dd45",
   "metadata": {},
   "outputs": [],
   "source": [
    "for i, row in tqdm(yiliPeopleProjectRelationShipDF.iterrows()):\n",
    "    \n",
    "    startNodeName, endNodeName ,relationType = [row[j] for j in range(3)]\n",
    "    startNode = saoHei.nodes.match(\"yiliPeople\", name = startNodeName).first()\n",
    "    endNode = saoHei.nodes.match(\"project\", name = endNodeName).first()\n",
    "    #print(startNodeName+\"|\"+endNodeName+\"|\"+relationType)\n",
    "    yili_people_project_relationship = Relationship(startNode,relationType,endNode)\n",
    "    \n",
    "    saoHei.create(yili_people_project_relationship)"
   ]
  },
  {
   "cell_type": "code",
   "execution_count": null,
   "id": "78c46a00",
   "metadata": {},
   "outputs": [],
   "source": [
    "for i, row in tqdm(yiliPeopleRelationShipDF.iterrows()):\n",
    "    \n",
    "    startNodeName, endNodeName ,relationType = [row[j] for j in range(3)]\n",
    "    startNode = saoHei.nodes.match(\"yiliPeople\", name = startNodeName).first()\n",
    "    endNode = saoHei.nodes.match(\"yiliPeople\", name = endNodeName).first()\n",
    "   # print(startNodeName+\"|\"+endNodeName+\"|\"+relationType)\n",
    "    yili_people_relationship = Relationship(startNode,relationType,endNode)\n",
    "    \n",
    "    saoHei.create(yili_people_relationship)"
   ]
  },
  {
   "cell_type": "code",
   "execution_count": null,
   "id": "68458f36",
   "metadata": {},
   "outputs": [],
   "source": [
    "for i, row in tqdm(yiliSgccPeopleCompanyRelationShipDF.iterrows()):\n",
    "    \n",
    "    startNodeName, endNodeName ,relationType = [row[j] for j in range(3)]\n",
    "    startNode = saoHei.nodes.match(\"yiliPeople\", name = startNodeName).first()\n",
    "    endNode = saoHei.nodes.match(\"sgcc_company\", name = endNodeName).first()\n",
    "   # print(startNodeName+\"|\"+endNodeName+\"|\"+relationType)\n",
    "    yili_sgcc_people_company_relationship = Relationship(startNode,relationType,endNode)\n",
    "    \n",
    "    saoHei.create(yili_sgcc_people_company_relationship)"
   ]
  },
  {
   "cell_type": "code",
   "execution_count": null,
   "id": "134df2d1",
   "metadata": {},
   "outputs": [],
   "source": [
    "for i, row in tqdm(supplierPeopleCompanyRelationShipDF.iterrows()):\n",
    "    \n",
    "    startNodeName, endNodeName ,relationType = [row[j] for j in range(3)]\n",
    "    startNode = saoHei.nodes.match(\"supplier_people\", name = startNodeName).first()\n",
    "    endNode = saoHei.nodes.match(\"supplier_company\", name = endNodeName).first()\n",
    "   # print(startNodeName+\"|\"+endNodeName+\"|\"+relationType)\n",
    "    supplier_people_company_relationship = Relationship(startNode,relationType,endNode)\n",
    "    \n",
    "    saoHei.create(supplier_people_company_relationship)"
   ]
  },
  {
   "cell_type": "code",
   "execution_count": null,
   "id": "c630f85c",
   "metadata": {},
   "outputs": [],
   "source": [
    "for i, row in tqdm(supplierPeopleRelationShipDF.iterrows()):\n",
    "    \n",
    "    startNodeName, endNodeName ,relationType = [row[j] for j in range(3)]\n",
    "    startNode = saoHei.nodes.match(\"supplier_people\", name = startNodeName).first()\n",
    "    endNode = saoHei.nodes.match(\"supplier_people\", name = endNodeName).first()\n",
    "   # print(startNodeName+\"|\"+endNodeName+\"|\"+relationType)\n",
    "    supplier_people_relationship = Relationship(startNode,relationType,endNode)\n",
    "    \n",
    "    saoHei.create(supplier_people_relationship)"
   ]
  },
  {
   "cell_type": "code",
   "execution_count": null,
   "id": "7099f377",
   "metadata": {},
   "outputs": [],
   "source": [
    "for i, row in tqdm(supplierDevelopCompanyRelationShipDF.iterrows()):\n",
    "    \n",
    "    startNodeName, endNodeName ,relationType = [row[j] for j in range(3)]\n",
    "    startNode = saoHei.nodes.match(\"supplier_company\", name = startNodeName).first()\n",
    "    endNode = saoHei.nodes.match(\"develop\", name = endNodeName).first()\n",
    "   # print(startNodeName+\"|\"+endNodeName+\"|\"+relationType)\n",
    "    supplier_develop_company_relationship = Relationship(startNode,relationType,endNode)\n",
    "    \n",
    "    saoHei.create(supplier_develop_company_relationship)"
   ]
  },
  {
   "cell_type": "code",
   "execution_count": null,
   "id": "9c66290c",
   "metadata": {},
   "outputs": [],
   "source": [
    "for i, row in tqdm(supplierProjectCompanyRelationShipDF.iterrows()):\n",
    "    \n",
    "    startNodeName, endNodeName ,relationType = [row[j] for j in range(3)]\n",
    "    startNode = saoHei.nodes.match(\"supplier_company\", name = startNodeName).first()\n",
    "    endNode = saoHei.nodes.match(\"project\", name = endNodeName).first()\n",
    "   # print(startNodeName+\"|\"+endNodeName+\"|\"+relationType)\n",
    "    supplier_project_company_relationship = Relationship(startNode,relationType,endNode)\n",
    "    \n",
    "    saoHei.create(supplier_project_company_relationship)"
   ]
  },
  {
   "cell_type": "code",
   "execution_count": null,
   "id": "9f3ca4a2",
   "metadata": {},
   "outputs": [],
   "source": [
    "for i, row in tqdm(projectDevelopRelationshipDF.iterrows()):\n",
    "    \n",
    "    startNodeName, endNodeName ,relationType = [row[j] for j in range(3)]\n",
    "    startNode = saoHei.nodes.match(\"develop\", name = startNodeName).first()\n",
    "    endNode = saoHei.nodes.match(\"project\", name = endNodeName).first()\n",
    "    #print(startNodeName+\"|\"+endNodeName+\"|\"+relationType)\n",
    "    project_develop_relationship = Relationship(startNode,relationType,endNode)\n",
    "    \n",
    "    saoHei.create(project_develop_relationship)"
   ]
  },
  {
   "cell_type": "code",
   "execution_count": null,
   "id": "8638e3ad",
   "metadata": {},
   "outputs": [],
   "source": [
    "for i, row in tqdm(yiliDepartmentProjectRelationshipDF.iterrows()):\n",
    "    \n",
    "    startNodeName, endNodeName ,relationType = [row[j] for j in range(3)]\n",
    "    startNode = saoHei.nodes.match(\"yili-Department\", name = startNodeName).first()\n",
    "    endNode = saoHei.nodes.match(\"project\", name = endNodeName).first()\n",
    "    #print(startNodeName+\"|\"+endNodeName+\"|\"+relationType)\n",
    "    yili_department_project_relationship = Relationship(startNode,relationType,endNode)\n",
    "    \n",
    "    saoHei.create(yili_department_project_relationship)"
   ]
  },
  {
   "cell_type": "code",
   "execution_count": null,
   "id": "a935f563",
   "metadata": {},
   "outputs": [],
   "source": [
    "for i, row in tqdm(sgccProjectRelationShipDF.iterrows()):\n",
    "    \n",
    "    startNodeName, endNodeName ,relationType = [row[j] for j in range(3)]\n",
    "    startNode = saoHei.nodes.match(\"sgcc_company\", name = startNodeName).first()\n",
    "    endNode = saoHei.nodes.match(\"project\", name = endNodeName).first()\n",
    "    #print(startNodeName+\"|\"+endNodeName+\"|\"+relationType)\n",
    "    sgcc_project_relationship = Relationship(startNode,relationType,endNode)\n",
    "    \n",
    "    saoHei.create(sgcc_project_relationship)"
   ]
  },
  {
   "cell_type": "code",
   "execution_count": null,
   "id": "e649d650",
   "metadata": {},
   "outputs": [],
   "source": [
    "for i, row in tqdm(projectRelationShipDF.iterrows()):\n",
    "    \n",
    "    startNodeName, endNodeName ,relationType = [row[j] for j in range(3)]\n",
    "    startNode = saoHei.nodes.match(\"project\", name = startNodeName).first()\n",
    "    endNode = saoHei.nodes.match(\"project\", name = endNodeName).first()\n",
    "   # print(startNodeName+\"|\"+endNodeName+\"|\"+relationType)\n",
    "    project_relationship = Relationship(startNode,relationType,endNode)\n",
    "    \n",
    "    saoHei.create(project_relationship)"
   ]
  },
  {
   "cell_type": "code",
   "execution_count": null,
   "id": "fe73eab3",
   "metadata": {},
   "outputs": [],
   "source": [
    "for i, row in tqdm(sgccPeopleDevelopRelationShipDF.iterrows()):\n",
    "    \n",
    "    startNodeName, endNodeName ,relationType = [row[j] for j in range(3)]\n",
    "    startNode = saoHei.nodes.match(\"sgcc_people\", name = startNodeName).first()\n",
    "    endNode = saoHei.nodes.match(\"develop\", name = endNodeName).first()\n",
    "   # print(startNodeName+\"|\"+endNodeName+\"|\"+relationType)\n",
    "    develop_relationship = Relationship(startNode,relationType,endNode)\n",
    "    \n",
    "    saoHei.create(develop_relationship)"
   ]
  },
  {
   "cell_type": "code",
   "execution_count": null,
   "id": "c62fc2c7",
   "metadata": {},
   "outputs": [],
   "source": [
    "for i, row in tqdm(sgccPeopleProjectRelationShipDF.iterrows()):\n",
    "    \n",
    "    startNodeName, endNodeName ,relationType = [row[j] for j in range(3)]\n",
    "    startNode = saoHei.nodes.match(\"sgcc_people\", name = startNodeName).first()\n",
    "    endNode = saoHei.nodes.match(\"project\", name = endNodeName).first()\n",
    "   # print(startNodeName+\"|\"+endNodeName+\"|\"+relationType)\n",
    "    project_relationship = Relationship(startNode,relationType,endNode)\n",
    "    \n",
    "    saoHei.create(project_relationship)"
   ]
  },
  {
   "cell_type": "code",
   "execution_count": null,
   "id": "824d819f",
   "metadata": {},
   "outputs": [],
   "source": [
    "for i, row in tqdm(ViolationRelationShipDF.iterrows()):\n",
    "    \n",
    "    startNodeName, endNodeName ,relationType, srcType, dstType = [row[j] for j in range(5)]\n",
    "    startNode = saoHei.nodes.match(srcType, name = startNodeName).first()\n",
    "    endNode = saoHei.nodes.match(dstType, name = endNodeName).first()\n",
    "    #print(startNodeName+\"|\"+endNodeName+\"|\"+relationType)\n",
    "    Violation_relationship = Relationship(startNode,relationType,endNode)\n",
    "    \n",
    "    saoHei.create(Violation_relationship)"
   ]
  },
  {
   "cell_type": "code",
   "execution_count": null,
   "id": "792e78e9",
   "metadata": {},
   "outputs": [],
   "source": [
    "for i, row in tqdm(supplierPeopleDevelopViolationRelationShipDF.iterrows()):\n",
    "    \n",
    "    startNodeName, endNodeName ,relationType = [row[j] for j in range(3)]\n",
    "    startNode = saoHei.nodes.match(\"supplier_people\", name = startNodeName).first()\n",
    "    endNode = saoHei.nodes.match(\"develop\", name = endNodeName).first()\n",
    "   # print(startNodeName+\"|\"+endNodeName+\"|\"+relationType)\n",
    "    supplier_people_develop_Violation_relationship = Relationship(startNode,relationType,endNode)\n",
    "    \n",
    "    saoHei.create(supplier_people_develop_Violation_relationship)"
   ]
  }
 ],
 "metadata": {
  "hide_input": false,
  "kernelspec": {
   "display_name": "Python 3 (ipykernel)",
   "language": "python",
   "name": "python3"
  },
  "language_info": {
   "codemirror_mode": {
    "name": "ipython",
    "version": 3
   },
   "file_extension": ".py",
   "mimetype": "text/x-python",
   "name": "python",
   "nbconvert_exporter": "python",
   "pygments_lexer": "ipython3",
   "version": "3.8.10"
  },
  "toc": {
   "base_numbering": 1,
   "nav_menu": {},
   "number_sections": true,
   "sideBar": true,
   "skip_h1_title": false,
   "title_cell": "Table of Contents",
   "title_sidebar": "Contents",
   "toc_cell": false,
   "toc_position": {},
   "toc_section_display": true,
   "toc_window_display": false
  }
 },
 "nbformat": 4,
 "nbformat_minor": 5
}
