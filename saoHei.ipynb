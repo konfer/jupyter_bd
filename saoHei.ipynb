{
 "cells": [
  {
   "cell_type": "code",
   "execution_count": 1,
   "id": "1e7d4366",
   "metadata": {
    "ExecuteTime": {
     "end_time": "2022-11-15T17:30:55.210830Z",
     "start_time": "2022-11-15T17:30:54.789552Z"
    }
   },
   "outputs": [],
   "source": [
    "import py2neo\n",
    "import tqdm\n",
    "import pandas as pd\n",
    "\n",
    "from tqdm import tqdm\n",
    "from py2neo import Graph,Node,Relationship,NodeMatcher,Subgraph"
   ]
  },
  {
   "cell_type": "code",
   "execution_count": 2,
   "id": "40571400",
   "metadata": {
    "ExecuteTime": {
     "end_time": "2022-11-15T17:30:55.216324Z",
     "start_time": "2022-11-15T17:30:55.213422Z"
    }
   },
   "outputs": [],
   "source": [
    "# pandas-style!\n",
    "def color_negative_red(val):\n",
    "    color = 'red' if val < 0 else 'black' \n",
    "    return 'color: %s' % color \n",
    "# df.style.applymap(color_negative_red)"
   ]
  },
  {
   "cell_type": "code",
   "execution_count": 3,
   "id": "3c17694c",
   "metadata": {
    "ExecuteTime": {
     "end_time": "2022-11-15T17:30:55.227457Z",
     "start_time": "2022-11-15T17:30:55.217989Z"
    }
   },
   "outputs": [],
   "source": [
    "# pandas-num-option!\n",
    "pd.options.display.max_columns = 50  # None -> No Restrictions\n",
    "pd.options.display.max_rows = 200    # None -> Be careful with this\n",
    "pd.options.display.max_colwidth = 100\n",
    "pd.options.display.precision = 3"
   ]
  },
  {
   "cell_type": "code",
   "execution_count": 4,
   "id": "4f5c89a2",
   "metadata": {
    "ExecuteTime": {
     "end_time": "2022-11-15T17:30:55.357138Z",
     "start_time": "2022-11-15T17:30:55.230156Z"
    }
   },
   "outputs": [],
   "source": [
    "saoHei=Graph('http://hapark02:3447',user = 'neo4j', password = '123')"
   ]
  },
  {
   "cell_type": "code",
   "execution_count": 5,
   "id": "ba462568",
   "metadata": {
    "ExecuteTime": {
     "end_time": "2022-11-15T17:30:55.364503Z",
     "start_time": "2022-11-15T17:30:55.359172Z"
    }
   },
   "outputs": [],
   "source": [
    "sgccCompanyDF = pd.read_csv('/usr/local/codeData/saoHei/sgcc-company.csv')"
   ]
  },
  {
   "cell_type": "code",
   "execution_count": 6,
   "id": "d1e8fd98",
   "metadata": {
    "ExecuteTime": {
     "end_time": "2022-11-15T17:30:55.373536Z",
     "start_time": "2022-11-15T17:30:55.366300Z"
    }
   },
   "outputs": [],
   "source": [
    "supplierCompanyDF = pd.read_csv('/usr/local/codeData/saoHei/supplier-company.csv')"
   ]
  },
  {
   "cell_type": "code",
   "execution_count": 7,
   "id": "eccbed91",
   "metadata": {
    "ExecuteTime": {
     "end_time": "2022-11-15T17:30:56.041304Z",
     "start_time": "2022-11-15T17:30:55.375696Z"
    }
   },
   "outputs": [
    {
     "data": {
      "text/html": [
       "<style  type=\"text/css\" >\n",
       "    #T_c7544_ tr:nth-of-type(odd) {\n",
       "          background: eee;\n",
       "    }    #T_c7544_ tr:nth-of-type(even) {\n",
       "          background: white;\n",
       "    }    #T_c7544_ th {\n",
       "          background: #606060;\n",
       "          color: white;\n",
       "          font-family: verdana;\n",
       "    }    #T_c7544_ td {\n",
       "          font-family: verdana;\n",
       "    }</style><table id=\"T_c7544_\" ><thead>    <tr>        <th class=\"blank level0\" ></th>        <th class=\"col_heading level0 col0\" >id</th>    </tr></thead><tbody>\n",
       "                <tr>\n",
       "                        <th id=\"T_c7544_level0_row0\" class=\"row_heading level0 row0\" >0</th>\n",
       "                        <td id=\"T_c7544_row0_col0\" class=\"data row0 col0\" >国家电网</td>\n",
       "            </tr>\n",
       "            <tr>\n",
       "                        <th id=\"T_c7544_level0_row1\" class=\"row_heading level0 row1\" >1</th>\n",
       "                        <td id=\"T_c7544_row1_col0\" class=\"data row1 col0\" >国网信息产业集团</td>\n",
       "            </tr>\n",
       "            <tr>\n",
       "                        <th id=\"T_c7544_level0_row2\" class=\"row_heading level0 row2\" >2</th>\n",
       "                        <td id=\"T_c7544_row2_col0\" class=\"data row2 col0\" >北京市电力公司</td>\n",
       "            </tr>\n",
       "            <tr>\n",
       "                        <th id=\"T_c7544_level0_row3\" class=\"row_heading level0 row3\" >3</th>\n",
       "                        <td id=\"T_c7544_row3_col0\" class=\"data row3 col0\" >厦门亿力吉奥</td>\n",
       "            </tr>\n",
       "            <tr>\n",
       "                        <th id=\"T_c7544_level0_row4\" class=\"row_heading level0 row4\" >4</th>\n",
       "                        <td id=\"T_c7544_row4_col0\" class=\"data row4 col0\" >华商管道公司</td>\n",
       "            </tr>\n",
       "            <tr>\n",
       "                        <th id=\"T_c7544_level0_row5\" class=\"row_heading level0 row5\" >5</th>\n",
       "                        <td id=\"T_c7544_row5_col0\" class=\"data row5 col0\" >检修分公司</td>\n",
       "            </tr>\n",
       "            <tr>\n",
       "                        <th id=\"T_c7544_level0_row6\" class=\"row_heading level0 row6\" >6</th>\n",
       "                        <td id=\"T_c7544_row6_col0\" class=\"data row6 col0\" >湖北电力公司</td>\n",
       "            </tr>\n",
       "            <tr>\n",
       "                        <th id=\"T_c7544_level0_row7\" class=\"row_heading level0 row7\" >7</th>\n",
       "                        <td id=\"T_c7544_row7_col0\" class=\"data row7 col0\" >冀北电力公司</td>\n",
       "            </tr>\n",
       "    </tbody></table>"
      ],
      "text/plain": [
       "<pandas.io.formats.style.Styler at 0x7fd4bd29eb50>"
      ]
     },
     "execution_count": 7,
     "metadata": {},
     "output_type": "execute_result"
    }
   ],
   "source": [
    "# pandas-table-style!\n",
    "sgccCompanyDF.head(10).style.set_table_styles(\n",
    "[{'selector': 'tr:nth-of-type(odd)','props': [('background', 'eee')]},\n",
    " {'selector': 'tr:nth-of-type(even)','props': [('background', 'white')]},\n",
    " {'selector': 'th','props': [('background', '#606060'), \n",
    "                             ('color', 'white'),\n",
    "                             ('font-family', 'verdana')]},\n",
    " {'selector': 'td','props': [('font-family', 'verdana')]}\n",
    "])"
   ]
  },
  {
   "cell_type": "code",
   "execution_count": 8,
   "id": "abe79ff2",
   "metadata": {
    "ExecuteTime": {
     "end_time": "2022-11-15T17:30:56.052093Z",
     "start_time": "2022-11-15T17:30:56.043766Z"
    }
   },
   "outputs": [
    {
     "data": {
      "text/html": [
       "<style  type=\"text/css\" >\n",
       "    #T_3f5e9_ tr:nth-of-type(odd) {\n",
       "          background: eee;\n",
       "    }    #T_3f5e9_ tr:nth-of-type(even) {\n",
       "          background: white;\n",
       "    }    #T_3f5e9_ th {\n",
       "          background: #606060;\n",
       "          color: white;\n",
       "          font-family: verdana;\n",
       "    }    #T_3f5e9_ td {\n",
       "          font-family: verdana;\n",
       "    }</style><table id=\"T_3f5e9_\" ><thead>    <tr>        <th class=\"blank level0\" ></th>        <th class=\"col_heading level0 col0\" >id</th>    </tr></thead><tbody>\n",
       "                <tr>\n",
       "                        <th id=\"T_3f5e9_level0_row0\" class=\"row_heading level0 row0\" >0</th>\n",
       "                        <td id=\"T_3f5e9_row0_col0\" class=\"data row0 col0\" >山东康威</td>\n",
       "            </tr>\n",
       "            <tr>\n",
       "                        <th id=\"T_3f5e9_level0_row1\" class=\"row_heading level0 row1\" >1</th>\n",
       "                        <td id=\"T_3f5e9_row1_col0\" class=\"data row1 col0\" >山东金码</td>\n",
       "            </tr>\n",
       "            <tr>\n",
       "                        <th id=\"T_3f5e9_level0_row2\" class=\"row_heading level0 row2\" >2</th>\n",
       "                        <td id=\"T_3f5e9_row2_col0\" class=\"data row2 col0\" >上海谷元</td>\n",
       "            </tr>\n",
       "            <tr>\n",
       "                        <th id=\"T_3f5e9_level0_row3\" class=\"row_heading level0 row3\" >3</th>\n",
       "                        <td id=\"T_3f5e9_row3_col0\" class=\"data row3 col0\" >福建和盛</td>\n",
       "            </tr>\n",
       "            <tr>\n",
       "                        <th id=\"T_3f5e9_level0_row4\" class=\"row_heading level0 row4\" >4</th>\n",
       "                        <td id=\"T_3f5e9_row4_col0\" class=\"data row4 col0\" >沈阳金建“\n",
       "中合实创\"</td>\n",
       "            </tr>\n",
       "    </tbody></table>"
      ],
      "text/plain": [
       "<pandas.io.formats.style.Styler at 0x7fd4bb500280>"
      ]
     },
     "execution_count": 8,
     "metadata": {},
     "output_type": "execute_result"
    }
   ],
   "source": [
    "# pandas-table-style!\n",
    "supplierCompanyDF.head(10).style.set_table_styles(\n",
    "[{'selector': 'tr:nth-of-type(odd)','props': [('background', 'eee')]},\n",
    " {'selector': 'tr:nth-of-type(even)','props': [('background', 'white')]},\n",
    " {'selector': 'th','props': [('background', '#606060'), \n",
    "                             ('color', 'white'),\n",
    "                             ('font-family', 'verdana')]},\n",
    " {'selector': 'td','props': [('font-family', 'verdana')]}\n",
    "])"
   ]
  },
  {
   "cell_type": "code",
   "execution_count": 9,
   "id": "8127557a",
   "metadata": {
    "ExecuteTime": {
     "end_time": "2022-11-15T17:30:56.058465Z",
     "start_time": "2022-11-15T17:30:56.054170Z"
    }
   },
   "outputs": [],
   "source": [
    "nodes = []"
   ]
  },
  {
   "cell_type": "code",
   "execution_count": 10,
   "id": "36553964",
   "metadata": {
    "ExecuteTime": {
     "end_time": "2022-11-15T17:30:56.149334Z",
     "start_time": "2022-11-15T17:30:56.061300Z"
    }
   },
   "outputs": [
    {
     "name": "stderr",
     "output_type": "stream",
     "text": [
      "8it [00:00, 102.50it/s]\n"
     ]
    }
   ],
   "source": [
    "for i, row in tqdm(sgccCompanyDF.iterrows()):\n",
    "    sgcc_company_node = Node(\"sgcc_company_node\",name=row[sgccCompanyDF.columns[0]])\n",
    "    saoHei.merge(sgcc_company_node,\"sgcc_company_node\",\"name\")"
   ]
  },
  {
   "cell_type": "code",
   "execution_count": 11,
   "id": "2a656cb9",
   "metadata": {
    "ExecuteTime": {
     "end_time": "2022-11-15T17:30:56.227387Z",
     "start_time": "2022-11-15T17:30:56.151204Z"
    }
   },
   "outputs": [
    {
     "name": "stderr",
     "output_type": "stream",
     "text": [
      "5it [00:00, 71.33it/s]\n"
     ]
    }
   ],
   "source": [
    "for i, row in tqdm(supplierCompanyDF.iterrows()):\n",
    "    supplier_company_node = Node(\"supplier_company_node\",name=row[sgccCompanyDF.columns[0]])\n",
    "    saoHei.merge(supplier_company_node,\"supplier_company_node\",\"name\")"
   ]
  }
 ],
 "metadata": {
  "hide_input": false,
  "kernelspec": {
   "display_name": "Python 3 (ipykernel)",
   "language": "python",
   "name": "python3"
  },
  "language_info": {
   "codemirror_mode": {
    "name": "ipython",
    "version": 3
   },
   "file_extension": ".py",
   "mimetype": "text/x-python",
   "name": "python",
   "nbconvert_exporter": "python",
   "pygments_lexer": "ipython3",
   "version": "3.8.10"
  },
  "toc": {
   "base_numbering": 1,
   "nav_menu": {},
   "number_sections": true,
   "sideBar": true,
   "skip_h1_title": false,
   "title_cell": "Table of Contents",
   "title_sidebar": "Contents",
   "toc_cell": false,
   "toc_position": {},
   "toc_section_display": true,
   "toc_window_display": false
  }
 },
 "nbformat": 4,
 "nbformat_minor": 5
}
