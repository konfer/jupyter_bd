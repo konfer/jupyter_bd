{
 "cells": [
  {
   "cell_type": "code",
   "execution_count": 1,
   "id": "1e7d4366",
   "metadata": {
    "ExecuteTime": {
     "end_time": "2022-11-15T17:30:55.210830Z",
     "start_time": "2022-11-15T17:30:54.789552Z"
    }
   },
   "outputs": [],
   "source": [
    "import py2neo\n",
    "import tqdm\n",
    "import pandas as pd\n",
    "\n",
    "from tqdm import tqdm\n",
    "from py2neo import Graph,Node,Relationship,NodeMatcher,Subgraph"
   ]
  },
  {
   "cell_type": "code",
   "execution_count": 2,
   "id": "40571400",
   "metadata": {
    "ExecuteTime": {
     "end_time": "2022-11-15T17:30:55.216324Z",
     "start_time": "2022-11-15T17:30:55.213422Z"
    }
   },
   "outputs": [],
   "source": [
    "# pandas-style!\n",
    "def color_negative_red(val):\n",
    "    color = 'red' if val < 0 else 'black' \n",
    "    return 'color: %s' % color \n",
    "# df.style.applymap(color_negative_red)"
   ]
  },
  {
   "cell_type": "code",
   "execution_count": 3,
   "id": "3c17694c",
   "metadata": {
    "ExecuteTime": {
     "end_time": "2022-11-15T17:30:55.227457Z",
     "start_time": "2022-11-15T17:30:55.217989Z"
    }
   },
   "outputs": [],
   "source": [
    "# pandas-num-option!\n",
    "pd.options.display.max_columns = 50  # None -> No Restrictions\n",
    "pd.options.display.max_rows = 200    # None -> Be careful with this\n",
    "pd.options.display.max_colwidth = 100\n",
    "pd.options.display.precision = 3"
   ]
  },
  {
   "cell_type": "code",
   "execution_count": 4,
   "id": "4f5c89a2",
   "metadata": {
    "ExecuteTime": {
     "end_time": "2022-11-15T17:30:55.357138Z",
     "start_time": "2022-11-15T17:30:55.230156Z"
    }
   },
   "outputs": [],
   "source": [
    "saoHei=Graph('http://hapark02:3447',user = 'neo4j', password = '123')"
   ]
  },
  {
   "cell_type": "code",
   "execution_count": 5,
   "id": "ba462568",
   "metadata": {
    "ExecuteTime": {
     "end_time": "2022-11-15T17:30:55.364503Z",
     "start_time": "2022-11-15T17:30:55.359172Z"
    }
   },
   "outputs": [],
   "source": [
    "sgccCompanyDF = pd.read_csv('/usr/local/codeData/saoHei/sgcc-company.csv')"
   ]
  },
  {
   "cell_type": "code",
   "execution_count": 6,
   "id": "d1e8fd98",
   "metadata": {
    "ExecuteTime": {
     "end_time": "2022-11-15T17:30:55.373536Z",
     "start_time": "2022-11-15T17:30:55.366300Z"
    }
   },
   "outputs": [],
   "source": [
    "supplierCompanyDF = pd.read_csv('/usr/local/codeData/saoHei/supplier-company.csv')"
   ]
  },
  {
   "cell_type": "code",
   "execution_count": null,
   "id": "eccbed91",
   "metadata": {
    "ExecuteTime": {
     "end_time": "2022-11-15T17:30:56.041304Z",
     "start_time": "2022-11-15T17:30:55.375696Z"
    }
   },
   "outputs": [],
   "source": [
    "# pandas-table-style!\n",
    "sgccCompanyDF.head(10).style.set_table_styles(\n",
    "[{'selector': 'tr:nth-of-type(odd)','props': [('background', 'eee')]},\n",
    " {'selector': 'tr:nth-of-type(even)','props': [('background', 'white')]},\n",
    " {'selector': 'th','props': [('background', '#606060'), \n",
    "                             ('color', 'white'),\n",
    "                             ('font-family', 'verdana')]},\n",
    " {'selector': 'td','props': [('font-family', 'verdana')]}\n",
    "])"
   ]
  },
  {
   "cell_type": "code",
   "execution_count": null,
   "id": "abe79ff2",
   "metadata": {
    "ExecuteTime": {
     "end_time": "2022-11-15T17:30:56.052093Z",
     "start_time": "2022-11-15T17:30:56.043766Z"
    }
   },
   "outputs": [],
   "source": [
    "# pandas-table-style!\n",
    "supplierCompanyDF.head(10).style.set_table_styles(\n",
    "[{'selector': 'tr:nth-of-type(odd)','props': [('background', 'eee')]},\n",
    " {'selector': 'tr:nth-of-type(even)','props': [('background', 'white')]},\n",
    " {'selector': 'th','props': [('background', '#606060'), \n",
    "                             ('color', 'white'),\n",
    "                             ('font-family', 'verdana')]},\n",
    " {'selector': 'td','props': [('font-family', 'verdana')]}\n",
    "])"
   ]
  },
  {
   "cell_type": "code",
   "execution_count": 9,
   "id": "8127557a",
   "metadata": {
    "ExecuteTime": {
     "end_time": "2022-11-15T17:30:56.058465Z",
     "start_time": "2022-11-15T17:30:56.054170Z"
    }
   },
   "outputs": [],
   "source": [
    "nodes = []"
   ]
  },
  {
   "cell_type": "code",
   "execution_count": 10,
   "id": "36553964",
   "metadata": {
    "ExecuteTime": {
     "end_time": "2022-11-15T17:30:56.149334Z",
     "start_time": "2022-11-15T17:30:56.061300Z"
    }
   },
   "outputs": [
    {
     "name": "stderr",
     "output_type": "stream",
     "text": [
      "8it [00:00, 102.50it/s]\n"
     ]
    }
   ],
   "source": [
    "for i, row in tqdm(sgccCompanyDF.iterrows()):\n",
    "    sgcc_company_node = Node(\"sgcc_company_node\",name=row[sgccCompanyDF.columns[0]])\n",
    "    saoHei.merge(sgcc_company_node,\"sgcc_company_node\",\"name\")"
   ]
  },
  {
   "cell_type": "code",
   "execution_count": 11,
   "id": "2a656cb9",
   "metadata": {
    "ExecuteTime": {
     "end_time": "2022-11-15T17:30:56.227387Z",
     "start_time": "2022-11-15T17:30:56.151204Z"
    }
   },
   "outputs": [
    {
     "name": "stderr",
     "output_type": "stream",
     "text": [
      "5it [00:00, 71.33it/s]\n"
     ]
    }
   ],
   "source": [
    "for i, row in tqdm(supplierCompanyDF.iterrows()):\n",
    "    supplier_company_node = Node(\"supplier_company_node\",name=row[sgccCompanyDF.columns[0]])\n",
    "    saoHei.merge(supplier_company_node,\"supplier_company_node\",\"name\")"
   ]
  }
 ],
 "metadata": {
  "hide_input": false,
  "kernelspec": {
   "display_name": "Python 3 (ipykernel)",
   "language": "python",
   "name": "python3"
  },
  "language_info": {
   "codemirror_mode": {
    "name": "ipython",
    "version": 3
   },
   "file_extension": ".py",
   "mimetype": "text/x-python",
   "name": "python",
   "nbconvert_exporter": "python",
   "pygments_lexer": "ipython3",
   "version": "3.8.10"
  },
  "toc": {
   "base_numbering": 1,
   "nav_menu": {},
   "number_sections": true,
   "sideBar": true,
   "skip_h1_title": false,
   "title_cell": "Table of Contents",
   "title_sidebar": "Contents",
   "toc_cell": false,
   "toc_position": {},
   "toc_section_display": true,
   "toc_window_display": false
  }
 },
 "nbformat": 4,
 "nbformat_minor": 5
}
