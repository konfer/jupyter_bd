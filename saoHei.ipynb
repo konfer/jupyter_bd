{
 "cells": [
  {
   "cell_type": "code",
   "execution_count": null,
   "id": "1e7d4366",
   "metadata": {
    "ExecuteTime": {
     "end_time": "2022-11-16T14:27:09.256608Z",
     "start_time": "2022-11-16T14:27:08.832827Z"
    }
   },
   "outputs": [],
   "source": [
    "import py2neo\n",
    "import tqdm\n",
    "import pandas as pd\n",
    "\n",
    "from tqdm import tqdm\n",
    "from py2neo import Graph,Node,Relationship,NodeMatcher,Subgraph"
   ]
  },
  {
   "cell_type": "code",
   "execution_count": null,
   "id": "40571400",
   "metadata": {
    "ExecuteTime": {
     "end_time": "2022-11-16T14:27:09.263004Z",
     "start_time": "2022-11-16T14:27:09.259063Z"
    }
   },
   "outputs": [],
   "source": [
    "# pandas-style!\n",
    "def color_negative_red(val):\n",
    "    color = 'red' if val < 0 else 'black' \n",
    "    return 'color: %s' % color \n",
    "# df.style.applymap(color_negative_red)"
   ]
  },
  {
   "cell_type": "code",
   "execution_count": null,
   "id": "3c17694c",
   "metadata": {
    "ExecuteTime": {
     "end_time": "2022-11-16T14:27:09.279773Z",
     "start_time": "2022-11-16T14:27:09.264614Z"
    }
   },
   "outputs": [],
   "source": [
    "# pandas-num-option!\n",
    "pd.options.display.max_columns = 50  # None -> No Restrictions\n",
    "pd.options.display.max_rows = 200    # None -> Be careful with this\n",
    "pd.options.display.max_colwidth = 100\n",
    "pd.options.display.precision = 3"
   ]
  },
  {
   "cell_type": "code",
   "execution_count": null,
   "id": "4f5c89a2",
   "metadata": {
    "ExecuteTime": {
     "end_time": "2022-11-16T14:27:09.405953Z",
     "start_time": "2022-11-16T14:27:09.282688Z"
    }
   },
   "outputs": [],
   "source": [
    "saoHei=Graph('http://hapark02:3447',user = 'neo4j', password = '123')"
   ]
  },
  {
   "cell_type": "code",
   "execution_count": null,
   "id": "ba462568",
   "metadata": {
    "ExecuteTime": {
     "end_time": "2022-11-16T14:27:09.417085Z",
     "start_time": "2022-11-16T14:27:09.407900Z"
    }
   },
   "outputs": [],
   "source": [
    "sgccCompanyDF = pd.read_csv('/usr/local/codeData/saoHei/sgcc-company.csv')"
   ]
  },
  {
   "cell_type": "code",
   "execution_count": null,
   "id": "6c56053a",
   "metadata": {
    "ExecuteTime": {
     "end_time": "2022-11-16T14:27:09.441446Z",
     "start_time": "2022-11-16T14:27:09.418965Z"
    }
   },
   "outputs": [],
   "source": [
    "sgccPeopleDF = pd.read_csv('/usr/local/codeData/saoHei/sgcc-people.csv')"
   ]
  },
  {
   "cell_type": "code",
   "execution_count": null,
   "id": "d1e8fd98",
   "metadata": {
    "ExecuteTime": {
     "end_time": "2022-11-16T14:27:09.452745Z",
     "start_time": "2022-11-16T14:27:09.443506Z"
    }
   },
   "outputs": [],
   "source": [
    "supplierCompanyDF = pd.read_csv('/usr/local/codeData/saoHei/supplier-company.csv')"
   ]
  },
  {
   "cell_type": "code",
   "execution_count": null,
   "id": "98c5ed30",
   "metadata": {
    "ExecuteTime": {
     "end_time": "2022-11-16T14:27:09.482520Z",
     "start_time": "2022-11-16T14:27:09.454944Z"
    }
   },
   "outputs": [],
   "source": [
    "yiliDF = pd.read_csv('/usr/local/codeData/saoHei/yili-Department.csv')"
   ]
  },
  {
   "cell_type": "code",
   "execution_count": null,
   "id": "980e8449",
   "metadata": {
    "ExecuteTime": {
     "end_time": "2022-11-16T14:27:09.489135Z",
     "start_time": "2022-11-16T14:27:09.484609Z"
    }
   },
   "outputs": [],
   "source": [
    "yiliPeopleDF = pd.read_csv('/usr/local/codeData/saoHei/yili-people.csv')"
   ]
  },
  {
   "cell_type": "code",
   "execution_count": null,
   "id": "0cad0e37",
   "metadata": {
    "ExecuteTime": {
     "end_time": "2022-11-16T14:27:09.500566Z",
     "start_time": "2022-11-16T14:27:09.492807Z"
    }
   },
   "outputs": [],
   "source": [
    "projectDF = pd.read_csv('/usr/local/codeData/saoHei/project.csv')"
   ]
  },
  {
   "cell_type": "code",
   "execution_count": null,
   "id": "4ec909bf",
   "metadata": {
    "ExecuteTime": {
     "end_time": "2022-11-16T14:27:09.525311Z",
     "start_time": "2022-11-16T14:27:09.502532Z"
    }
   },
   "outputs": [],
   "source": [
    "developDF = pd.read_csv('/usr/local/codeData/saoHei/develop.csv')"
   ]
  },
  {
   "cell_type": "code",
   "execution_count": null,
   "id": "eccbed91",
   "metadata": {
    "ExecuteTime": {
     "end_time": "2022-11-16T14:27:10.201231Z",
     "start_time": "2022-11-16T14:27:09.527338Z"
    },
    "scrolled": true
   },
   "outputs": [],
   "source": [
    "# pandas-table-style!\n",
    "sgccCompanyDF.head(20).style.set_table_styles(\n",
    "[{'selector': 'tr:nth-of-type(odd)','props': [('background', 'eee')]},\n",
    " {'selector': 'tr:nth-of-type(even)','props': [('background', 'white')]},\n",
    " {'selector': 'th','props': [('background', '#606060'), \n",
    "                             ('color', 'white'),\n",
    "                             ('font-family', 'verdana')]},\n",
    " {'selector': 'td','props': [('font-family', 'verdana')]}\n",
    "])"
   ]
  },
  {
   "cell_type": "code",
   "execution_count": null,
   "id": "976279e2",
   "metadata": {
    "ExecuteTime": {
     "end_time": "2022-11-16T14:27:10.210167Z",
     "start_time": "2022-11-16T14:27:10.203286Z"
    }
   },
   "outputs": [],
   "source": [
    "# pandas-table-style!\n",
    "sgccPeopleDF.head(30).style.set_table_styles(\n",
    "[{'selector': 'tr:nth-of-type(odd)','props': [('background', 'eee')]},\n",
    " {'selector': 'tr:nth-of-type(even)','props': [('background', 'white')]},\n",
    " {'selector': 'th','props': [('background', '#606060'), \n",
    "                             ('color', 'white'),\n",
    "                             ('font-family', 'verdana')]},\n",
    " {'selector': 'td','props': [('font-family', 'verdana')]}\n",
    "])"
   ]
  },
  {
   "cell_type": "code",
   "execution_count": null,
   "id": "abe79ff2",
   "metadata": {
    "ExecuteTime": {
     "end_time": "2022-11-16T14:27:10.219166Z",
     "start_time": "2022-11-16T14:27:10.211959Z"
    },
    "scrolled": true
   },
   "outputs": [],
   "source": [
    "# pandas-table-style!\n",
    "supplierCompanyDF.head(10).style.set_table_styles(\n",
    "[{'selector': 'tr:nth-of-type(odd)','props': [('background', 'eee')]},\n",
    " {'selector': 'tr:nth-of-type(even)','props': [('background', 'white')]},\n",
    " {'selector': 'th','props': [('background', '#606060'), \n",
    "                             ('color', 'white'),\n",
    "                             ('font-family', 'verdana')]},\n",
    " {'selector': 'td','props': [('font-family', 'verdana')]}\n",
    "])"
   ]
  },
  {
   "cell_type": "code",
   "execution_count": null,
   "id": "de8a5614",
   "metadata": {
    "ExecuteTime": {
     "end_time": "2022-11-16T14:27:10.234120Z",
     "start_time": "2022-11-16T14:27:10.220958Z"
    },
    "scrolled": true
   },
   "outputs": [],
   "source": [
    "# pandas-table-style!\n",
    "projectDF.head(20).style.set_table_styles(\n",
    "[{'selector': 'tr:nth-of-type(odd)','props': [('background', 'eee')]},\n",
    " {'selector': 'tr:nth-of-type(even)','props': [('background', 'white')]},\n",
    " {'selector': 'th','props': [('background', '#606060'), \n",
    "                             ('color', 'white'),\n",
    "                             ('font-family', 'verdana')]},\n",
    " {'selector': 'td','props': [('font-family', 'verdana')]}\n",
    "])"
   ]
  },
  {
   "cell_type": "code",
   "execution_count": null,
   "id": "dc6ddc7a",
   "metadata": {
    "ExecuteTime": {
     "end_time": "2022-11-16T14:27:10.248714Z",
     "start_time": "2022-11-16T14:27:10.236336Z"
    },
    "scrolled": true
   },
   "outputs": [],
   "source": [
    "# pandas-table-style!\n",
    "yiliDF.head(20).style.set_table_styles(\n",
    "[{'selector': 'tr:nth-of-type(odd)','props': [('background', 'eee')]},\n",
    " {'selector': 'tr:nth-of-type(even)','props': [('background', 'white')]},\n",
    " {'selector': 'th','props': [('background', '#606060'), \n",
    "                             ('color', 'white'),\n",
    "                             ('font-family', 'verdana')]},\n",
    " {'selector': 'td','props': [('font-family', 'verdana')]}\n",
    "])"
   ]
  },
  {
   "cell_type": "code",
   "execution_count": null,
   "id": "29896514",
   "metadata": {
    "ExecuteTime": {
     "end_time": "2022-11-16T14:27:10.259968Z",
     "start_time": "2022-11-16T14:27:10.250690Z"
    },
    "scrolled": true
   },
   "outputs": [],
   "source": [
    "# pandas-table-style!\n",
    "developDF.head(20).style.set_table_styles(\n",
    "[{'selector': 'tr:nth-of-type(odd)','props': [('background', 'eee')]},\n",
    " {'selector': 'tr:nth-of-type(even)','props': [('background', 'white')]},\n",
    " {'selector': 'th','props': [('background', '#606060'), \n",
    "                             ('color', 'white'),\n",
    "                             ('font-family', 'verdana')]},\n",
    " {'selector': 'td','props': [('font-family', 'verdana')]}\n",
    "])"
   ]
  },
  {
   "cell_type": "code",
   "execution_count": null,
   "id": "9fee0289",
   "metadata": {
    "ExecuteTime": {
     "end_time": "2022-11-16T14:27:10.270061Z",
     "start_time": "2022-11-16T14:27:10.261897Z"
    },
    "scrolled": true
   },
   "outputs": [],
   "source": [
    "# pandas-table-style!\n",
    "yiliPeopleDF.head(30).style.set_table_styles(\n",
    "[{'selector': 'tr:nth-of-type(odd)','props': [('background', 'eee')]},\n",
    " {'selector': 'tr:nth-of-type(even)','props': [('background', 'white')]},\n",
    " {'selector': 'th','props': [('background', '#606060'), \n",
    "                             ('color', 'white'),\n",
    "                             ('font-family', 'verdana')]},\n",
    " {'selector': 'td','props': [('font-family', 'verdana')]}\n",
    "])"
   ]
  },
  {
   "cell_type": "code",
   "execution_count": null,
   "id": "36553964",
   "metadata": {
    "ExecuteTime": {
     "end_time": "2022-11-16T14:27:10.349742Z",
     "start_time": "2022-11-16T14:27:10.271944Z"
    }
   },
   "outputs": [],
   "source": [
    "for i, row in tqdm(sgccCompanyDF.iterrows()):\n",
    "    sgcc_company_node = Node(\"sgcc_company\",name=row[sgccCompanyDF.columns[0]])\n",
    "    saoHei.merge(sgcc_company_node,\"sgcc_company\",\"name\")"
   ]
  },
  {
   "cell_type": "code",
   "execution_count": null,
   "id": "83b878a1",
   "metadata": {
    "ExecuteTime": {
     "end_time": "2022-11-16T14:27:10.434637Z",
     "start_time": "2022-11-16T14:27:10.351856Z"
    }
   },
   "outputs": [],
   "source": [
    "for i, row in tqdm(sgccPeopleDF.iterrows()):\n",
    "    sgcc_people_node = Node(\"sgcc_people\",name=row[sgccPeopleDF.columns[0]])\n",
    "    saoHei.merge(sgcc_people_node,\"sgcc_people\",\"name\")"
   ]
  },
  {
   "cell_type": "code",
   "execution_count": null,
   "id": "2a656cb9",
   "metadata": {
    "ExecuteTime": {
     "end_time": "2022-11-16T14:27:10.501852Z",
     "start_time": "2022-11-16T14:27:10.436495Z"
    }
   },
   "outputs": [],
   "source": [
    "for i, row in tqdm(supplierCompanyDF.iterrows()):\n",
    "    supplier_company_node = Node(\"supplier_company\",name=row[sgccCompanyDF.columns[0]])\n",
    "    saoHei.merge(supplier_company_node,\"supplier_company\",\"name\")"
   ]
  },
  {
   "cell_type": "code",
   "execution_count": null,
   "id": "9a5478bd",
   "metadata": {
    "ExecuteTime": {
     "end_time": "2022-11-16T14:27:10.568040Z",
     "start_time": "2022-11-16T14:27:10.503992Z"
    }
   },
   "outputs": [],
   "source": [
    "for i, row in tqdm(yiliDF.iterrows()):\n",
    "    yili_department_node = Node(\"yili-Department\",name=row[yiliDF.columns[0]])\n",
    "    saoHei.merge(yili_department_node,\"yili-Department\",\"name\")"
   ]
  },
  {
   "cell_type": "code",
   "execution_count": null,
   "id": "e09dea24",
   "metadata": {
    "ExecuteTime": {
     "end_time": "2022-11-16T14:27:10.641798Z",
     "start_time": "2022-11-16T14:27:10.569988Z"
    }
   },
   "outputs": [],
   "source": [
    "for i, row in tqdm(projectDF.iterrows()):\n",
    "    project_node = Node(\"project\",name=row[projectDF.columns[0]])\n",
    "    saoHei.merge(project_node,\"project\",\"name\")"
   ]
  },
  {
   "cell_type": "code",
   "execution_count": null,
   "id": "0ed2bdf8",
   "metadata": {
    "ExecuteTime": {
     "end_time": "2022-11-16T14:27:10.689992Z",
     "start_time": "2022-11-16T14:27:10.643638Z"
    }
   },
   "outputs": [],
   "source": [
    "for i, row in tqdm(developDF.iterrows()):\n",
    "    develop_node = Node(\"develop\",name=row[developDF.columns[0]])\n",
    "    saoHei.merge(develop_node,\"develop\",\"name\")"
   ]
  },
  {
   "cell_type": "code",
   "execution_count": null,
   "id": "505d51c1",
   "metadata": {
    "ExecuteTime": {
     "end_time": "2022-11-16T14:27:10.838474Z",
     "start_time": "2022-11-16T14:27:10.692087Z"
    }
   },
   "outputs": [],
   "source": [
    "for i, row in tqdm(yiliPeopleDF.iterrows()):\n",
    "    yiliPeople_node = Node(\"yiliPeople\",name=row[yiliPeopleDF.columns[0]])\n",
    "    saoHei.merge(yiliPeople_node,\"yiliPeople\",\"name\")"
   ]
  }
 ],
 "metadata": {
  "hide_input": false,
  "kernelspec": {
   "display_name": "Python 3 (ipykernel)",
   "language": "python",
   "name": "python3"
  },
  "language_info": {
   "codemirror_mode": {
    "name": "ipython",
    "version": 3
   },
   "file_extension": ".py",
   "mimetype": "text/x-python",
   "name": "python",
   "nbconvert_exporter": "python",
   "pygments_lexer": "ipython3",
   "version": "3.8.10"
  },
  "toc": {
   "base_numbering": 1,
   "nav_menu": {},
   "number_sections": true,
   "sideBar": true,
   "skip_h1_title": false,
   "title_cell": "Table of Contents",
   "title_sidebar": "Contents",
   "toc_cell": false,
   "toc_position": {},
   "toc_section_display": true,
   "toc_window_display": false
  }
 },
 "nbformat": 4,
 "nbformat_minor": 5
}
