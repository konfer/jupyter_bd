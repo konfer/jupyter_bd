{
 "cells": [
  {
   "cell_type": "code",
   "execution_count": 2,
   "id": "1e7d4366",
   "metadata": {
    "ExecuteTime": {
     "end_time": "2022-11-17T09:15:36.294330Z",
     "start_time": "2022-11-17T09:15:35.902401Z"
    }
   },
   "outputs": [],
   "source": [
    "import py2neo\n",
    "import tqdm\n",
    "import pandas as pd\n",
    "\n",
    "from tqdm import tqdm\n",
    "from py2neo import Graph,Node,Relationship,NodeMatcher,Subgraph"
   ]
  },
  {
   "cell_type": "code",
   "execution_count": 2,
   "id": "40571400",
   "metadata": {
    "ExecuteTime": {
     "end_time": "2022-11-17T06:10:37.774591Z",
     "start_time": "2022-11-17T06:10:37.771795Z"
    }
   },
   "outputs": [],
   "source": [
    "# pandas-style!\n",
    "def color_negative_red(val):\n",
    "    color = 'red' if val < 0 else 'black' \n",
    "    return 'color: %s' % color \n",
    "# df.style.applymap(color_negative_red)"
   ]
  },
  {
   "cell_type": "code",
   "execution_count": 3,
   "id": "3c17694c",
   "metadata": {
    "ExecuteTime": {
     "end_time": "2022-11-17T06:10:37.784198Z",
     "start_time": "2022-11-17T06:10:37.776928Z"
    }
   },
   "outputs": [],
   "source": [
    "# pandas-num-option!\n",
    "pd.options.display.max_columns = 50  # None -> No Restrictions\n",
    "pd.options.display.max_rows = 200    # None -> Be careful with this\n",
    "pd.options.display.max_colwidth = 100\n",
    "pd.options.display.precision = 3"
   ]
  },
  {
   "cell_type": "code",
   "execution_count": 4,
   "id": "4f5c89a2",
   "metadata": {
    "ExecuteTime": {
     "end_time": "2022-11-17T06:10:37.954252Z",
     "start_time": "2022-11-17T06:10:37.787226Z"
    }
   },
   "outputs": [],
   "source": [
    "saoHei=Graph('http://hapark02:3447',user = 'neo4j', password = '123')"
   ]
  },
  {
   "cell_type": "code",
   "execution_count": 5,
   "id": "ba462568",
   "metadata": {
    "ExecuteTime": {
     "end_time": "2022-11-17T06:10:37.970714Z",
     "start_time": "2022-11-17T06:10:37.957037Z"
    }
   },
   "outputs": [],
   "source": [
    "sgccCompanyDF = pd.read_csv('/usr/local/codeData/saoHei/sgcc-company.csv')"
   ]
  },
  {
   "cell_type": "code",
   "execution_count": 6,
   "id": "6c56053a",
   "metadata": {
    "ExecuteTime": {
     "end_time": "2022-11-17T06:10:37.979102Z",
     "start_time": "2022-11-17T06:10:37.973297Z"
    }
   },
   "outputs": [],
   "source": [
    "sgccPeopleDF = pd.read_csv('/usr/local/codeData/saoHei/sgcc-people.csv')"
   ]
  },
  {
   "cell_type": "code",
   "execution_count": 7,
   "id": "d1e8fd98",
   "metadata": {
    "ExecuteTime": {
     "end_time": "2022-11-17T06:10:37.988622Z",
     "start_time": "2022-11-17T06:10:37.982137Z"
    }
   },
   "outputs": [],
   "source": [
    "supplierCompanyDF = pd.read_csv('/usr/local/codeData/saoHei/supplier-company.csv')"
   ]
  },
  {
   "cell_type": "code",
   "execution_count": 8,
   "id": "514aad30",
   "metadata": {
    "ExecuteTime": {
     "end_time": "2022-11-17T06:10:38.006137Z",
     "start_time": "2022-11-17T06:10:37.991237Z"
    }
   },
   "outputs": [],
   "source": [
    "supplierPeopleDF = pd.read_csv('/usr/local/codeData/saoHei/supplier-people.csv')"
   ]
  },
  {
   "cell_type": "code",
   "execution_count": 9,
   "id": "98c5ed30",
   "metadata": {
    "ExecuteTime": {
     "end_time": "2022-11-17T06:10:38.013240Z",
     "start_time": "2022-11-17T06:10:38.008179Z"
    }
   },
   "outputs": [],
   "source": [
    "yiliDF = pd.read_csv('/usr/local/codeData/saoHei/yili-Department.csv')"
   ]
  },
  {
   "cell_type": "code",
   "execution_count": 10,
   "id": "980e8449",
   "metadata": {
    "ExecuteTime": {
     "end_time": "2022-11-17T06:10:38.024514Z",
     "start_time": "2022-11-17T06:10:38.016845Z"
    }
   },
   "outputs": [],
   "source": [
    "yiliPeopleDF = pd.read_csv('/usr/local/codeData/saoHei/yili-people.csv')"
   ]
  },
  {
   "cell_type": "code",
   "execution_count": 11,
   "id": "0cad0e37",
   "metadata": {
    "ExecuteTime": {
     "end_time": "2022-11-17T06:10:38.037517Z",
     "start_time": "2022-11-17T06:10:38.026685Z"
    }
   },
   "outputs": [],
   "source": [
    "projectDF = pd.read_csv('/usr/local/codeData/saoHei/project.csv')"
   ]
  },
  {
   "cell_type": "code",
   "execution_count": 12,
   "id": "4ec909bf",
   "metadata": {
    "ExecuteTime": {
     "end_time": "2022-11-17T06:10:38.051232Z",
     "start_time": "2022-11-17T06:10:38.039488Z"
    }
   },
   "outputs": [],
   "source": [
    "developDF = pd.read_csv('/usr/local/codeData/saoHei/develop.csv')"
   ]
  },
  {
   "cell_type": "code",
   "execution_count": 4,
   "id": "c2ddb6fd",
   "metadata": {
    "ExecuteTime": {
     "end_time": "2022-11-17T09:15:56.066340Z",
     "start_time": "2022-11-17T09:15:56.060644Z"
    }
   },
   "outputs": [],
   "source": [
    "sgccRelationShipDF = pd.read_csv('/usr/local/codeData/saoHei/sgcc-relationships.csv')"
   ]
  },
  {
   "cell_type": "code",
   "execution_count": 13,
   "id": "eccbed91",
   "metadata": {
    "ExecuteTime": {
     "end_time": "2022-11-17T06:10:38.717029Z",
     "start_time": "2022-11-17T06:10:38.054021Z"
    },
    "scrolled": true
   },
   "outputs": [
    {
     "data": {
      "text/html": [
       "<style  type=\"text/css\" >\n",
       "    #T_8662f_ tr:nth-of-type(odd) {\n",
       "          background: eee;\n",
       "    }    #T_8662f_ tr:nth-of-type(even) {\n",
       "          background: white;\n",
       "    }    #T_8662f_ th {\n",
       "          background: #606060;\n",
       "          color: white;\n",
       "          font-family: verdana;\n",
       "    }    #T_8662f_ td {\n",
       "          font-family: verdana;\n",
       "    }</style><table id=\"T_8662f_\" ><thead>    <tr>        <th class=\"blank level0\" ></th>        <th class=\"col_heading level0 col0\" >id</th>    </tr></thead><tbody>\n",
       "                <tr>\n",
       "                        <th id=\"T_8662f_level0_row0\" class=\"row_heading level0 row0\" >0</th>\n",
       "                        <td id=\"T_8662f_row0_col0\" class=\"data row0 col0\" >国家电网</td>\n",
       "            </tr>\n",
       "            <tr>\n",
       "                        <th id=\"T_8662f_level0_row1\" class=\"row_heading level0 row1\" >1</th>\n",
       "                        <td id=\"T_8662f_row1_col0\" class=\"data row1 col0\" >国网运检部</td>\n",
       "            </tr>\n",
       "            <tr>\n",
       "                        <th id=\"T_8662f_level0_row2\" class=\"row_heading level0 row2\" >2</th>\n",
       "                        <td id=\"T_8662f_row2_col0\" class=\"data row2 col0\" >信息产业集团</td>\n",
       "            </tr>\n",
       "            <tr>\n",
       "                        <th id=\"T_8662f_level0_row3\" class=\"row_heading level0 row3\" >3</th>\n",
       "                        <td id=\"T_8662f_row3_col0\" class=\"data row3 col0\" >北京电力公司</td>\n",
       "            </tr>\n",
       "            <tr>\n",
       "                        <th id=\"T_8662f_level0_row4\" class=\"row_heading level0 row4\" >4</th>\n",
       "                        <td id=\"T_8662f_row4_col0\" class=\"data row4 col0\" >华商管道公司</td>\n",
       "            </tr>\n",
       "            <tr>\n",
       "                        <th id=\"T_8662f_level0_row5\" class=\"row_heading level0 row5\" >5</th>\n",
       "                        <td id=\"T_8662f_row5_col0\" class=\"data row5 col0\" >检修分公司</td>\n",
       "            </tr>\n",
       "            <tr>\n",
       "                        <th id=\"T_8662f_level0_row6\" class=\"row_heading level0 row6\" >6</th>\n",
       "                        <td id=\"T_8662f_row6_col0\" class=\"data row6 col0\" >湖北电力公司</td>\n",
       "            </tr>\n",
       "            <tr>\n",
       "                        <th id=\"T_8662f_level0_row7\" class=\"row_heading level0 row7\" >7</th>\n",
       "                        <td id=\"T_8662f_row7_col0\" class=\"data row7 col0\" >冀北电力公司</td>\n",
       "            </tr>\n",
       "            <tr>\n",
       "                        <th id=\"T_8662f_level0_row8\" class=\"row_heading level0 row8\" >8</th>\n",
       "                        <td id=\"T_8662f_row8_col0\" class=\"data row8 col0\" >信通分公司</td>\n",
       "            </tr>\n",
       "            <tr>\n",
       "                        <th id=\"T_8662f_level0_row9\" class=\"row_heading level0 row9\" >9</th>\n",
       "                        <td id=\"T_8662f_row9_col0\" class=\"data row9 col0\" >北京运检部</td>\n",
       "            </tr>\n",
       "            <tr>\n",
       "                        <th id=\"T_8662f_level0_row10\" class=\"row_heading level0 row10\" >10</th>\n",
       "                        <td id=\"T_8662f_row10_col0\" class=\"data row10 col0\" >亦庄电力公司</td>\n",
       "            </tr>\n",
       "    </tbody></table>"
      ],
      "text/plain": [
       "<pandas.io.formats.style.Styler at 0x7f6270d90c10>"
      ]
     },
     "execution_count": 13,
     "metadata": {},
     "output_type": "execute_result"
    }
   ],
   "source": [
    "# pandas-table-style!\n",
    "sgccCompanyDF.head(20).style.set_table_styles(\n",
    "[{'selector': 'tr:nth-of-type(odd)','props': [('background', 'eee')]},\n",
    " {'selector': 'tr:nth-of-type(even)','props': [('background', 'white')]},\n",
    " {'selector': 'th','props': [('background', '#606060'), \n",
    "                             ('color', 'white'),\n",
    "                             ('font-family', 'verdana')]},\n",
    " {'selector': 'td','props': [('font-family', 'verdana')]}\n",
    "])"
   ]
  },
  {
   "cell_type": "code",
   "execution_count": 14,
   "id": "976279e2",
   "metadata": {
    "ExecuteTime": {
     "end_time": "2022-11-17T06:10:38.727753Z",
     "start_time": "2022-11-17T06:10:38.719346Z"
    }
   },
   "outputs": [
    {
     "data": {
      "text/html": [
       "<style  type=\"text/css\" >\n",
       "    #T_25a1a_ tr:nth-of-type(odd) {\n",
       "          background: eee;\n",
       "    }    #T_25a1a_ tr:nth-of-type(even) {\n",
       "          background: white;\n",
       "    }    #T_25a1a_ th {\n",
       "          background: #606060;\n",
       "          color: white;\n",
       "          font-family: verdana;\n",
       "    }    #T_25a1a_ td {\n",
       "          font-family: verdana;\n",
       "    }</style><table id=\"T_25a1a_\" ><thead>    <tr>        <th class=\"blank level0\" ></th>        <th class=\"col_heading level0 col0\" >id</th>    </tr></thead><tbody>\n",
       "                <tr>\n",
       "                        <th id=\"T_25a1a_level0_row0\" class=\"row_heading level0 row0\" >0</th>\n",
       "                        <td id=\"T_25a1a_row0_col0\" class=\"data row0 col0\" >刘润生</td>\n",
       "            </tr>\n",
       "            <tr>\n",
       "                        <th id=\"T_25a1a_level0_row1\" class=\"row_heading level0 row1\" >1</th>\n",
       "                        <td id=\"T_25a1a_row1_col0\" class=\"data row1 col0\" >娄其鹤</td>\n",
       "            </tr>\n",
       "            <tr>\n",
       "                        <th id=\"T_25a1a_level0_row2\" class=\"row_heading level0 row2\" >2</th>\n",
       "                        <td id=\"T_25a1a_row2_col0\" class=\"data row2 col0\" >林涛</td>\n",
       "            </tr>\n",
       "            <tr>\n",
       "                        <th id=\"T_25a1a_level0_row3\" class=\"row_heading level0 row3\" >3</th>\n",
       "                        <td id=\"T_25a1a_row3_col0\" class=\"data row3 col0\" >赵永强</td>\n",
       "            </tr>\n",
       "            <tr>\n",
       "                        <th id=\"T_25a1a_level0_row4\" class=\"row_heading level0 row4\" >4</th>\n",
       "                        <td id=\"T_25a1a_row4_col0\" class=\"data row4 col0\" >李光</td>\n",
       "            </tr>\n",
       "            <tr>\n",
       "                        <th id=\"T_25a1a_level0_row5\" class=\"row_heading level0 row5\" >5</th>\n",
       "                        <td id=\"T_25a1a_row5_col0\" class=\"data row5 col0\" >林一轩</td>\n",
       "            </tr>\n",
       "            <tr>\n",
       "                        <th id=\"T_25a1a_level0_row6\" class=\"row_heading level0 row6\" >6</th>\n",
       "                        <td id=\"T_25a1a_row6_col0\" class=\"data row6 col0\" >刘皓</td>\n",
       "            </tr>\n",
       "            <tr>\n",
       "                        <th id=\"T_25a1a_level0_row7\" class=\"row_heading level0 row7\" >7</th>\n",
       "                        <td id=\"T_25a1a_row7_col0\" class=\"data row7 col0\" >高智益</td>\n",
       "            </tr>\n",
       "            <tr>\n",
       "                        <th id=\"T_25a1a_level0_row8\" class=\"row_heading level0 row8\" >8</th>\n",
       "                        <td id=\"T_25a1a_row8_col0\" class=\"data row8 col0\" >周晓楠</td>\n",
       "            </tr>\n",
       "            <tr>\n",
       "                        <th id=\"T_25a1a_level0_row9\" class=\"row_heading level0 row9\" >9</th>\n",
       "                        <td id=\"T_25a1a_row9_col0\" class=\"data row9 col0\" >叶妍</td>\n",
       "            </tr>\n",
       "            <tr>\n",
       "                        <th id=\"T_25a1a_level0_row10\" class=\"row_heading level0 row10\" >10</th>\n",
       "                        <td id=\"T_25a1a_row10_col0\" class=\"data row10 col0\" >陆醒晔</td>\n",
       "            </tr>\n",
       "            <tr>\n",
       "                        <th id=\"T_25a1a_level0_row11\" class=\"row_heading level0 row11\" >11</th>\n",
       "                        <td id=\"T_25a1a_row11_col0\" class=\"data row11 col0\" >罗辉</td>\n",
       "            </tr>\n",
       "            <tr>\n",
       "                        <th id=\"T_25a1a_level0_row12\" class=\"row_heading level0 row12\" >12</th>\n",
       "                        <td id=\"T_25a1a_row12_col0\" class=\"data row12 col0\" >赵洋</td>\n",
       "            </tr>\n",
       "    </tbody></table>"
      ],
      "text/plain": [
       "<pandas.io.formats.style.Styler at 0x7f626efef250>"
      ]
     },
     "execution_count": 14,
     "metadata": {},
     "output_type": "execute_result"
    }
   ],
   "source": [
    "# pandas-table-style!\n",
    "sgccPeopleDF.head(30).style.set_table_styles(\n",
    "[{'selector': 'tr:nth-of-type(odd)','props': [('background', 'eee')]},\n",
    " {'selector': 'tr:nth-of-type(even)','props': [('background', 'white')]},\n",
    " {'selector': 'th','props': [('background', '#606060'), \n",
    "                             ('color', 'white'),\n",
    "                             ('font-family', 'verdana')]},\n",
    " {'selector': 'td','props': [('font-family', 'verdana')]}\n",
    "])"
   ]
  },
  {
   "cell_type": "code",
   "execution_count": 15,
   "id": "abe79ff2",
   "metadata": {
    "ExecuteTime": {
     "end_time": "2022-11-17T06:10:38.738604Z",
     "start_time": "2022-11-17T06:10:38.729700Z"
    },
    "scrolled": true
   },
   "outputs": [
    {
     "data": {
      "text/html": [
       "<style  type=\"text/css\" >\n",
       "    #T_8a312_ tr:nth-of-type(odd) {\n",
       "          background: eee;\n",
       "    }    #T_8a312_ tr:nth-of-type(even) {\n",
       "          background: white;\n",
       "    }    #T_8a312_ th {\n",
       "          background: #606060;\n",
       "          color: white;\n",
       "          font-family: verdana;\n",
       "    }    #T_8a312_ td {\n",
       "          font-family: verdana;\n",
       "    }</style><table id=\"T_8a312_\" ><thead>    <tr>        <th class=\"blank level0\" ></th>        <th class=\"col_heading level0 col0\" >id</th>    </tr></thead><tbody>\n",
       "                <tr>\n",
       "                        <th id=\"T_8a312_level0_row0\" class=\"row_heading level0 row0\" >0</th>\n",
       "                        <td id=\"T_8a312_row0_col0\" class=\"data row0 col0\" >山东康威</td>\n",
       "            </tr>\n",
       "            <tr>\n",
       "                        <th id=\"T_8a312_level0_row1\" class=\"row_heading level0 row1\" >1</th>\n",
       "                        <td id=\"T_8a312_row1_col0\" class=\"data row1 col0\" >山东金码</td>\n",
       "            </tr>\n",
       "            <tr>\n",
       "                        <th id=\"T_8a312_level0_row2\" class=\"row_heading level0 row2\" >2</th>\n",
       "                        <td id=\"T_8a312_row2_col0\" class=\"data row2 col0\" >上海谷元</td>\n",
       "            </tr>\n",
       "            <tr>\n",
       "                        <th id=\"T_8a312_level0_row3\" class=\"row_heading level0 row3\" >3</th>\n",
       "                        <td id=\"T_8a312_row3_col0\" class=\"data row3 col0\" >福建和盛</td>\n",
       "            </tr>\n",
       "            <tr>\n",
       "                        <th id=\"T_8a312_level0_row4\" class=\"row_heading level0 row4\" >4</th>\n",
       "                        <td id=\"T_8a312_row4_col0\" class=\"data row4 col0\" >沈阳金建</td>\n",
       "            </tr>\n",
       "            <tr>\n",
       "                        <th id=\"T_8a312_level0_row5\" class=\"row_heading level0 row5\" >5</th>\n",
       "                        <td id=\"T_8a312_row5_col0\" class=\"data row5 col0\" >广州中合实创</td>\n",
       "            </tr>\n",
       "            <tr>\n",
       "                        <th id=\"T_8a312_level0_row6\" class=\"row_heading level0 row6\" >6</th>\n",
       "                        <td id=\"T_8a312_row6_col0\" class=\"data row6 col0\" >杭州图维</td>\n",
       "            </tr>\n",
       "            <tr>\n",
       "                        <th id=\"T_8a312_level0_row7\" class=\"row_heading level0 row7\" >7</th>\n",
       "                        <td id=\"T_8a312_row7_col0\" class=\"data row7 col0\" >西藏能智</td>\n",
       "            </tr>\n",
       "            <tr>\n",
       "                        <th id=\"T_8a312_level0_row8\" class=\"row_heading level0 row8\" >8</th>\n",
       "                        <td id=\"T_8a312_row8_col0\" class=\"data row8 col0\" >北京华大天元</td>\n",
       "            </tr>\n",
       "    </tbody></table>"
      ],
      "text/plain": [
       "<pandas.io.formats.style.Styler at 0x7f626efefd60>"
      ]
     },
     "execution_count": 15,
     "metadata": {},
     "output_type": "execute_result"
    }
   ],
   "source": [
    "# pandas-table-style!\n",
    "supplierCompanyDF.head(10).style.set_table_styles(\n",
    "[{'selector': 'tr:nth-of-type(odd)','props': [('background', 'eee')]},\n",
    " {'selector': 'tr:nth-of-type(even)','props': [('background', 'white')]},\n",
    " {'selector': 'th','props': [('background', '#606060'), \n",
    "                             ('color', 'white'),\n",
    "                             ('font-family', 'verdana')]},\n",
    " {'selector': 'td','props': [('font-family', 'verdana')]}\n",
    "])"
   ]
  },
  {
   "cell_type": "code",
   "execution_count": 16,
   "id": "428a4c41",
   "metadata": {
    "ExecuteTime": {
     "end_time": "2022-11-17T06:10:38.747633Z",
     "start_time": "2022-11-17T06:10:38.740460Z"
    },
    "scrolled": true
   },
   "outputs": [
    {
     "data": {
      "text/html": [
       "<style  type=\"text/css\" >\n",
       "    #T_ba23e_ tr:nth-of-type(odd) {\n",
       "          background: eee;\n",
       "    }    #T_ba23e_ tr:nth-of-type(even) {\n",
       "          background: white;\n",
       "    }    #T_ba23e_ th {\n",
       "          background: #606060;\n",
       "          color: white;\n",
       "          font-family: verdana;\n",
       "    }    #T_ba23e_ td {\n",
       "          font-family: verdana;\n",
       "    }</style><table id=\"T_ba23e_\" ><thead>    <tr>        <th class=\"blank level0\" ></th>        <th class=\"col_heading level0 col0\" >id</th>    </tr></thead><tbody>\n",
       "                <tr>\n",
       "                        <th id=\"T_ba23e_level0_row0\" class=\"row_heading level0 row0\" >0</th>\n",
       "                        <td id=\"T_ba23e_row0_col0\" class=\"data row0 col0\" >李春宇</td>\n",
       "            </tr>\n",
       "            <tr>\n",
       "                        <th id=\"T_ba23e_level0_row1\" class=\"row_heading level0 row1\" >1</th>\n",
       "                        <td id=\"T_ba23e_row1_col0\" class=\"data row1 col0\" >张贺</td>\n",
       "            </tr>\n",
       "            <tr>\n",
       "                        <th id=\"T_ba23e_level0_row2\" class=\"row_heading level0 row2\" >2</th>\n",
       "                        <td id=\"T_ba23e_row2_col0\" class=\"data row2 col0\" >王天行</td>\n",
       "            </tr>\n",
       "            <tr>\n",
       "                        <th id=\"T_ba23e_level0_row3\" class=\"row_heading level0 row3\" >3</th>\n",
       "                        <td id=\"T_ba23e_row3_col0\" class=\"data row3 col0\" >陈芳</td>\n",
       "            </tr>\n",
       "            <tr>\n",
       "                        <th id=\"T_ba23e_level0_row4\" class=\"row_heading level0 row4\" >4</th>\n",
       "                        <td id=\"T_ba23e_row4_col0\" class=\"data row4 col0\" >李龙</td>\n",
       "            </tr>\n",
       "            <tr>\n",
       "                        <th id=\"T_ba23e_level0_row5\" class=\"row_heading level0 row5\" >5</th>\n",
       "                        <td id=\"T_ba23e_row5_col0\" class=\"data row5 col0\" >李京</td>\n",
       "            </tr>\n",
       "            <tr>\n",
       "                        <th id=\"T_ba23e_level0_row6\" class=\"row_heading level0 row6\" >6</th>\n",
       "                        <td id=\"T_ba23e_row6_col0\" class=\"data row6 col0\" >解承丽</td>\n",
       "            </tr>\n",
       "            <tr>\n",
       "                        <th id=\"T_ba23e_level0_row7\" class=\"row_heading level0 row7\" >7</th>\n",
       "                        <td id=\"T_ba23e_row7_col0\" class=\"data row7 col0\" >史家欢</td>\n",
       "            </tr>\n",
       "            <tr>\n",
       "                        <th id=\"T_ba23e_level0_row8\" class=\"row_heading level0 row8\" >8</th>\n",
       "                        <td id=\"T_ba23e_row8_col0\" class=\"data row8 col0\" >王圣贺</td>\n",
       "            </tr>\n",
       "            <tr>\n",
       "                        <th id=\"T_ba23e_level0_row9\" class=\"row_heading level0 row9\" >9</th>\n",
       "                        <td id=\"T_ba23e_row9_col0\" class=\"data row9 col0\" >王继刚</td>\n",
       "            </tr>\n",
       "            <tr>\n",
       "                        <th id=\"T_ba23e_level0_row10\" class=\"row_heading level0 row10\" >10</th>\n",
       "                        <td id=\"T_ba23e_row10_col0\" class=\"data row10 col0\" >杨腾飞</td>\n",
       "            </tr>\n",
       "            <tr>\n",
       "                        <th id=\"T_ba23e_level0_row11\" class=\"row_heading level0 row11\" >11</th>\n",
       "                        <td id=\"T_ba23e_row11_col0\" class=\"data row11 col0\" >王坤鹏</td>\n",
       "            </tr>\n",
       "            <tr>\n",
       "                        <th id=\"T_ba23e_level0_row12\" class=\"row_heading level0 row12\" >12</th>\n",
       "                        <td id=\"T_ba23e_row12_col0\" class=\"data row12 col0\" >叶鹏</td>\n",
       "            </tr>\n",
       "            <tr>\n",
       "                        <th id=\"T_ba23e_level0_row13\" class=\"row_heading level0 row13\" >13</th>\n",
       "                        <td id=\"T_ba23e_row13_col0\" class=\"data row13 col0\" >董亮亮</td>\n",
       "            </tr>\n",
       "            <tr>\n",
       "                        <th id=\"T_ba23e_level0_row14\" class=\"row_heading level0 row14\" >14</th>\n",
       "                        <td id=\"T_ba23e_row14_col0\" class=\"data row14 col0\" >董泽民</td>\n",
       "            </tr>\n",
       "            <tr>\n",
       "                        <th id=\"T_ba23e_level0_row15\" class=\"row_heading level0 row15\" >15</th>\n",
       "                        <td id=\"T_ba23e_row15_col0\" class=\"data row15 col0\" >梁路璐</td>\n",
       "            </tr>\n",
       "            <tr>\n",
       "                        <th id=\"T_ba23e_level0_row16\" class=\"row_heading level0 row16\" >16</th>\n",
       "                        <td id=\"T_ba23e_row16_col0\" class=\"data row16 col0\" >王浩</td>\n",
       "            </tr>\n",
       "            <tr>\n",
       "                        <th id=\"T_ba23e_level0_row17\" class=\"row_heading level0 row17\" >17</th>\n",
       "                        <td id=\"T_ba23e_row17_col0\" class=\"data row17 col0\" >申端勇</td>\n",
       "            </tr>\n",
       "            <tr>\n",
       "                        <th id=\"T_ba23e_level0_row18\" class=\"row_heading level0 row18\" >18</th>\n",
       "                        <td id=\"T_ba23e_row18_col0\" class=\"data row18 col0\" >文华</td>\n",
       "            </tr>\n",
       "    </tbody></table>"
      ],
      "text/plain": [
       "<pandas.io.formats.style.Styler at 0x7f626efef760>"
      ]
     },
     "execution_count": 16,
     "metadata": {},
     "output_type": "execute_result"
    }
   ],
   "source": [
    "# pandas-table-style!\n",
    "supplierPeopleDF.head(30).style.set_table_styles(\n",
    "[{'selector': 'tr:nth-of-type(odd)','props': [('background', 'eee')]},\n",
    " {'selector': 'tr:nth-of-type(even)','props': [('background', 'white')]},\n",
    " {'selector': 'th','props': [('background', '#606060'), \n",
    "                             ('color', 'white'),\n",
    "                             ('font-family', 'verdana')]},\n",
    " {'selector': 'td','props': [('font-family', 'verdana')]}\n",
    "])"
   ]
  },
  {
   "cell_type": "code",
   "execution_count": 17,
   "id": "de8a5614",
   "metadata": {
    "ExecuteTime": {
     "end_time": "2022-11-17T06:10:38.765842Z",
     "start_time": "2022-11-17T06:10:38.749513Z"
    },
    "scrolled": true
   },
   "outputs": [
    {
     "data": {
      "text/html": [
       "<style  type=\"text/css\" >\n",
       "    #T_f7ede_ tr:nth-of-type(odd) {\n",
       "          background: eee;\n",
       "    }    #T_f7ede_ tr:nth-of-type(even) {\n",
       "          background: white;\n",
       "    }    #T_f7ede_ th {\n",
       "          background: #606060;\n",
       "          color: white;\n",
       "          font-family: verdana;\n",
       "    }    #T_f7ede_ td {\n",
       "          font-family: verdana;\n",
       "    }</style><table id=\"T_f7ede_\" ><thead>    <tr>        <th class=\"blank level0\" ></th>        <th class=\"col_heading level0 col0\" >id</th>    </tr></thead><tbody>\n",
       "                <tr>\n",
       "                        <th id=\"T_f7ede_level0_row0\" class=\"row_heading level0 row0\" >0</th>\n",
       "                        <td id=\"T_f7ede_row0_col0\" class=\"data row0 col0\" >北京管网</td>\n",
       "            </tr>\n",
       "            <tr>\n",
       "                        <th id=\"T_f7ede_level0_row1\" class=\"row_heading level0 row1\" >1</th>\n",
       "                        <td id=\"T_f7ede_row1_col0\" class=\"data row1 col0\" >电缆模块</td>\n",
       "            </tr>\n",
       "            <tr>\n",
       "                        <th id=\"T_f7ede_level0_row2\" class=\"row_heading level0 row2\" >2</th>\n",
       "                        <td id=\"T_f7ede_row2_col0\" class=\"data row2 col0\" >北京数据采录</td>\n",
       "            </tr>\n",
       "            <tr>\n",
       "                        <th id=\"T_f7ede_level0_row3\" class=\"row_heading level0 row3\" >3</th>\n",
       "                        <td id=\"T_f7ede_row3_col0\" class=\"data row3 col0\" >冀北数据采录</td>\n",
       "            </tr>\n",
       "            <tr>\n",
       "                        <th id=\"T_f7ede_level0_row4\" class=\"row_heading level0 row4\" >4</th>\n",
       "                        <td id=\"T_f7ede_row4_col0\" class=\"data row4 col0\" >pms2.0</td>\n",
       "            </tr>\n",
       "            <tr>\n",
       "                        <th id=\"T_f7ede_level0_row5\" class=\"row_heading level0 row5\" >5</th>\n",
       "                        <td id=\"T_f7ede_row5_col0\" class=\"data row5 col0\" >配网通信GIS</td>\n",
       "            </tr>\n",
       "            <tr>\n",
       "                        <th id=\"T_f7ede_level0_row6\" class=\"row_heading level0 row6\" >6</th>\n",
       "                        <td id=\"T_f7ede_row6_col0\" class=\"data row6 col0\" >GIS1.6      </td>\n",
       "            </tr>\n",
       "            <tr>\n",
       "                        <th id=\"T_f7ede_level0_row7\" class=\"row_heading level0 row7\" >7</th>\n",
       "                        <td id=\"T_f7ede_row7_col0\" class=\"data row7 col0\" >GIS1.5</td>\n",
       "            </tr>\n",
       "            <tr>\n",
       "                        <th id=\"T_f7ede_level0_row8\" class=\"row_heading level0 row8\" >8</th>\n",
       "                        <td id=\"T_f7ede_row8_col0\" class=\"data row8 col0\" >新疆管网</td>\n",
       "            </tr>\n",
       "            <tr>\n",
       "                        <th id=\"T_f7ede_level0_row9\" class=\"row_heading level0 row9\" >9</th>\n",
       "                        <td id=\"T_f7ede_row9_col0\" class=\"data row9 col0\" >江苏管网      </td>\n",
       "            </tr>\n",
       "    </tbody></table>"
      ],
      "text/plain": [
       "<pandas.io.formats.style.Styler at 0x7f626efde880>"
      ]
     },
     "execution_count": 17,
     "metadata": {},
     "output_type": "execute_result"
    }
   ],
   "source": [
    "# pandas-table-style!\n",
    "projectDF.head(20).style.set_table_styles(\n",
    "[{'selector': 'tr:nth-of-type(odd)','props': [('background', 'eee')]},\n",
    " {'selector': 'tr:nth-of-type(even)','props': [('background', 'white')]},\n",
    " {'selector': 'th','props': [('background', '#606060'), \n",
    "                             ('color', 'white'),\n",
    "                             ('font-family', 'verdana')]},\n",
    " {'selector': 'td','props': [('font-family', 'verdana')]}\n",
    "])"
   ]
  },
  {
   "cell_type": "code",
   "execution_count": 18,
   "id": "dc6ddc7a",
   "metadata": {
    "ExecuteTime": {
     "end_time": "2022-11-17T06:10:38.776327Z",
     "start_time": "2022-11-17T06:10:38.767667Z"
    },
    "scrolled": true
   },
   "outputs": [
    {
     "data": {
      "text/html": [
       "<style  type=\"text/css\" >\n",
       "    #T_9237b_ tr:nth-of-type(odd) {\n",
       "          background: eee;\n",
       "    }    #T_9237b_ tr:nth-of-type(even) {\n",
       "          background: white;\n",
       "    }    #T_9237b_ th {\n",
       "          background: #606060;\n",
       "          color: white;\n",
       "          font-family: verdana;\n",
       "    }    #T_9237b_ td {\n",
       "          font-family: verdana;\n",
       "    }</style><table id=\"T_9237b_\" ><thead>    <tr>        <th class=\"blank level0\" ></th>        <th class=\"col_heading level0 col0\" >id</th>    </tr></thead><tbody>\n",
       "                <tr>\n",
       "                        <th id=\"T_9237b_level0_row0\" class=\"row_heading level0 row0\" >0</th>\n",
       "                        <td id=\"T_9237b_row0_col0\" class=\"data row0 col0\" >华北大区</td>\n",
       "            </tr>\n",
       "            <tr>\n",
       "                        <th id=\"T_9237b_level0_row1\" class=\"row_heading level0 row1\" >1</th>\n",
       "                        <td id=\"T_9237b_row1_col0\" class=\"data row1 col0\" >“华东大区”</td>\n",
       "            </tr>\n",
       "            <tr>\n",
       "                        <th id=\"T_9237b_level0_row2\" class=\"row_heading level0 row2\" >2</th>\n",
       "                        <td id=\"T_9237b_row2_col0\" class=\"data row2 col0\" >物资部</td>\n",
       "            </tr>\n",
       "            <tr>\n",
       "                        <th id=\"T_9237b_level0_row3\" class=\"row_heading level0 row3\" >3</th>\n",
       "                        <td id=\"T_9237b_row3_col0\" class=\"data row3 col0\" >物联网中心</td>\n",
       "            </tr>\n",
       "            <tr>\n",
       "                        <th id=\"T_9237b_level0_row4\" class=\"row_heading level0 row4\" >4</th>\n",
       "                        <td id=\"T_9237b_row4_col0\" class=\"data row4 col0\" >厦门亿力吉奥</td>\n",
       "            </tr>\n",
       "            <tr>\n",
       "                        <th id=\"T_9237b_level0_row5\" class=\"row_heading level0 row5\" >5</th>\n",
       "                        <td id=\"T_9237b_row5_col0\" class=\"data row5 col0\" >人资部</td>\n",
       "            </tr>\n",
       "            <tr>\n",
       "                        <th id=\"T_9237b_level0_row6\" class=\"row_heading level0 row6\" >6</th>\n",
       "                        <td id=\"T_9237b_row6_col0\" class=\"data row6 col0\" >研发中心</td>\n",
       "            </tr>\n",
       "            <tr>\n",
       "                        <th id=\"T_9237b_level0_row7\" class=\"row_heading level0 row7\" >7</th>\n",
       "                        <td id=\"T_9237b_row7_col0\" class=\"data row7 col0\" >生技部</td>\n",
       "            </tr>\n",
       "            <tr>\n",
       "                        <th id=\"T_9237b_level0_row8\" class=\"row_heading level0 row8\" >8</th>\n",
       "                        <td id=\"T_9237b_row8_col0\" class=\"data row8 col0\" >综合办公中心</td>\n",
       "            </tr>\n",
       "            <tr>\n",
       "                        <th id=\"T_9237b_level0_row9\" class=\"row_heading level0 row9\" >9</th>\n",
       "                        <td id=\"T_9237b_row9_col0\" class=\"data row9 col0\" >测试部</td>\n",
       "            </tr>\n",
       "    </tbody></table>"
      ],
      "text/plain": [
       "<pandas.io.formats.style.Styler at 0x7f626efe3ee0>"
      ]
     },
     "execution_count": 18,
     "metadata": {},
     "output_type": "execute_result"
    }
   ],
   "source": [
    "# pandas-table-style!\n",
    "yiliDF.head(20).style.set_table_styles(\n",
    "[{'selector': 'tr:nth-of-type(odd)','props': [('background', 'eee')]},\n",
    " {'selector': 'tr:nth-of-type(even)','props': [('background', 'white')]},\n",
    " {'selector': 'th','props': [('background', '#606060'), \n",
    "                             ('color', 'white'),\n",
    "                             ('font-family', 'verdana')]},\n",
    " {'selector': 'td','props': [('font-family', 'verdana')]}\n",
    "])"
   ]
  },
  {
   "cell_type": "code",
   "execution_count": 19,
   "id": "29896514",
   "metadata": {
    "ExecuteTime": {
     "end_time": "2022-11-17T06:10:38.788010Z",
     "start_time": "2022-11-17T06:10:38.778274Z"
    },
    "scrolled": true
   },
   "outputs": [
    {
     "data": {
      "text/html": [
       "<style  type=\"text/css\" >\n",
       "    #T_2c876_ tr:nth-of-type(odd) {\n",
       "          background: eee;\n",
       "    }    #T_2c876_ tr:nth-of-type(even) {\n",
       "          background: white;\n",
       "    }    #T_2c876_ th {\n",
       "          background: #606060;\n",
       "          color: white;\n",
       "          font-family: verdana;\n",
       "    }    #T_2c876_ td {\n",
       "          font-family: verdana;\n",
       "    }</style><table id=\"T_2c876_\" ><thead>    <tr>        <th class=\"blank level0\" ></th>        <th class=\"col_heading level0 col0\" >id</th>    </tr></thead><tbody>\n",
       "                <tr>\n",
       "                        <th id=\"T_2c876_level0_row0\" class=\"row_heading level0 row0\" >0</th>\n",
       "                        <td id=\"T_2c876_row0_col0\" class=\"data row0 col0\" >典型应用框架</td>\n",
       "            </tr>\n",
       "            <tr>\n",
       "                        <th id=\"T_2c876_level0_row1\" class=\"row_heading level0 row1\" >1</th>\n",
       "                        <td id=\"T_2c876_row1_col0\" class=\"data row1 col0\" >图形客户端</td>\n",
       "            </tr>\n",
       "            <tr>\n",
       "                        <th id=\"T_2c876_level0_row2\" class=\"row_heading level0 row2\" >2</th>\n",
       "                        <td id=\"T_2c876_row2_col0\" class=\"data row2 col0\" >监控模块</td>\n",
       "            </tr>\n",
       "            <tr>\n",
       "                        <th id=\"T_2c876_level0_row3\" class=\"row_heading level0 row3\" >3</th>\n",
       "                        <td id=\"T_2c876_row3_col0\" class=\"data row3 col0\" >生产业务流程</td>\n",
       "            </tr>\n",
       "            <tr>\n",
       "                        <th id=\"T_2c876_level0_row4\" class=\"row_heading level0 row4\" >4</th>\n",
       "                        <td id=\"T_2c876_row4_col0\" class=\"data row4 col0\" >数据迁移工具</td>\n",
       "            </tr>\n",
       "            <tr>\n",
       "                        <th id=\"T_2c876_level0_row5\" class=\"row_heading level0 row5\" >5</th>\n",
       "                        <td id=\"T_2c876_row5_col0\" class=\"data row5 col0\" >项目实施</td>\n",
       "            </tr>\n",
       "            <tr>\n",
       "                        <th id=\"T_2c876_level0_row6\" class=\"row_heading level0 row6\" >6</th>\n",
       "                        <td id=\"T_2c876_row6_col0\" class=\"data row6 col0\" >管网辅助服务</td>\n",
       "            </tr>\n",
       "            <tr>\n",
       "                        <th id=\"T_2c876_level0_row7\" class=\"row_heading level0 row7\" >7</th>\n",
       "                        <td id=\"T_2c876_row7_col0\" class=\"data row7 col0\" >数据字典实施</td>\n",
       "            </tr>\n",
       "    </tbody></table>"
      ],
      "text/plain": [
       "<pandas.io.formats.style.Styler at 0x7f626efde640>"
      ]
     },
     "execution_count": 19,
     "metadata": {},
     "output_type": "execute_result"
    }
   ],
   "source": [
    "# pandas-table-style!\n",
    "developDF.head(20).style.set_table_styles(\n",
    "[{'selector': 'tr:nth-of-type(odd)','props': [('background', 'eee')]},\n",
    " {'selector': 'tr:nth-of-type(even)','props': [('background', 'white')]},\n",
    " {'selector': 'th','props': [('background', '#606060'), \n",
    "                             ('color', 'white'),\n",
    "                             ('font-family', 'verdana')]},\n",
    " {'selector': 'td','props': [('font-family', 'verdana')]}\n",
    "])"
   ]
  },
  {
   "cell_type": "code",
   "execution_count": 20,
   "id": "9fee0289",
   "metadata": {
    "ExecuteTime": {
     "end_time": "2022-11-17T06:10:38.800790Z",
     "start_time": "2022-11-17T06:10:38.790246Z"
    },
    "scrolled": true
   },
   "outputs": [
    {
     "data": {
      "text/html": [
       "<style  type=\"text/css\" >\n",
       "    #T_cc003_ tr:nth-of-type(odd) {\n",
       "          background: eee;\n",
       "    }    #T_cc003_ tr:nth-of-type(even) {\n",
       "          background: white;\n",
       "    }    #T_cc003_ th {\n",
       "          background: #606060;\n",
       "          color: white;\n",
       "          font-family: verdana;\n",
       "    }    #T_cc003_ td {\n",
       "          font-family: verdana;\n",
       "    }</style><table id=\"T_cc003_\" ><thead>    <tr>        <th class=\"blank level0\" ></th>        <th class=\"col_heading level0 col0\" >id</th>    </tr></thead><tbody>\n",
       "                <tr>\n",
       "                        <th id=\"T_cc003_level0_row0\" class=\"row_heading level0 row0\" >0</th>\n",
       "                        <td id=\"T_cc003_row0_col0\" class=\"data row0 col0\" >李朝阳</td>\n",
       "            </tr>\n",
       "            <tr>\n",
       "                        <th id=\"T_cc003_level0_row1\" class=\"row_heading level0 row1\" >1</th>\n",
       "                        <td id=\"T_cc003_row1_col0\" class=\"data row1 col0\" >施明泰</td>\n",
       "            </tr>\n",
       "            <tr>\n",
       "                        <th id=\"T_cc003_level0_row2\" class=\"row_heading level0 row2\" >2</th>\n",
       "                        <td id=\"T_cc003_row2_col0\" class=\"data row2 col0\" >杨成月</td>\n",
       "            </tr>\n",
       "            <tr>\n",
       "                        <th id=\"T_cc003_level0_row3\" class=\"row_heading level0 row3\" >3</th>\n",
       "                        <td id=\"T_cc003_row3_col0\" class=\"data row3 col0\" >赵光</td>\n",
       "            </tr>\n",
       "            <tr>\n",
       "                        <th id=\"T_cc003_level0_row4\" class=\"row_heading level0 row4\" >4</th>\n",
       "                        <td id=\"T_cc003_row4_col0\" class=\"data row4 col0\" >谈辉</td>\n",
       "            </tr>\n",
       "            <tr>\n",
       "                        <th id=\"T_cc003_level0_row5\" class=\"row_heading level0 row5\" >5</th>\n",
       "                        <td id=\"T_cc003_row5_col0\" class=\"data row5 col0\" >王四光</td>\n",
       "            </tr>\n",
       "            <tr>\n",
       "                        <th id=\"T_cc003_level0_row6\" class=\"row_heading level0 row6\" >6</th>\n",
       "                        <td id=\"T_cc003_row6_col0\" class=\"data row6 col0\" >庄雅莹</td>\n",
       "            </tr>\n",
       "            <tr>\n",
       "                        <th id=\"T_cc003_level0_row7\" class=\"row_heading level0 row7\" >7</th>\n",
       "                        <td id=\"T_cc003_row7_col0\" class=\"data row7 col0\" >于彤</td>\n",
       "            </tr>\n",
       "            <tr>\n",
       "                        <th id=\"T_cc003_level0_row8\" class=\"row_heading level0 row8\" >8</th>\n",
       "                        <td id=\"T_cc003_row8_col0\" class=\"data row8 col0\" >刘辉</td>\n",
       "            </tr>\n",
       "            <tr>\n",
       "                        <th id=\"T_cc003_level0_row9\" class=\"row_heading level0 row9\" >9</th>\n",
       "                        <td id=\"T_cc003_row9_col0\" class=\"data row9 col0\" >许洋</td>\n",
       "            </tr>\n",
       "            <tr>\n",
       "                        <th id=\"T_cc003_level0_row10\" class=\"row_heading level0 row10\" >10</th>\n",
       "                        <td id=\"T_cc003_row10_col0\" class=\"data row10 col0\" >林源</td>\n",
       "            </tr>\n",
       "            <tr>\n",
       "                        <th id=\"T_cc003_level0_row11\" class=\"row_heading level0 row11\" >11</th>\n",
       "                        <td id=\"T_cc003_row11_col0\" class=\"data row11 col0\" >吴献立</td>\n",
       "            </tr>\n",
       "            <tr>\n",
       "                        <th id=\"T_cc003_level0_row12\" class=\"row_heading level0 row12\" >12</th>\n",
       "                        <td id=\"T_cc003_row12_col0\" class=\"data row12 col0\" >苏文银</td>\n",
       "            </tr>\n",
       "            <tr>\n",
       "                        <th id=\"T_cc003_level0_row13\" class=\"row_heading level0 row13\" >13</th>\n",
       "                        <td id=\"T_cc003_row13_col0\" class=\"data row13 col0\" >潘立言</td>\n",
       "            </tr>\n",
       "            <tr>\n",
       "                        <th id=\"T_cc003_level0_row14\" class=\"row_heading level0 row14\" >14</th>\n",
       "                        <td id=\"T_cc003_row14_col0\" class=\"data row14 col0\" >金承武</td>\n",
       "            </tr>\n",
       "            <tr>\n",
       "                        <th id=\"T_cc003_level0_row15\" class=\"row_heading level0 row15\" >15</th>\n",
       "                        <td id=\"T_cc003_row15_col0\" class=\"data row15 col0\" >易鸣</td>\n",
       "            </tr>\n",
       "            <tr>\n",
       "                        <th id=\"T_cc003_level0_row16\" class=\"row_heading level0 row16\" >16</th>\n",
       "                        <td id=\"T_cc003_row16_col0\" class=\"data row16 col0\" >林黎明</td>\n",
       "            </tr>\n",
       "            <tr>\n",
       "                        <th id=\"T_cc003_level0_row17\" class=\"row_heading level0 row17\" >17</th>\n",
       "                        <td id=\"T_cc003_row17_col0\" class=\"data row17 col0\" >纪荣楦</td>\n",
       "            </tr>\n",
       "            <tr>\n",
       "                        <th id=\"T_cc003_level0_row18\" class=\"row_heading level0 row18\" >18</th>\n",
       "                        <td id=\"T_cc003_row18_col0\" class=\"data row18 col0\" >林翔</td>\n",
       "            </tr>\n",
       "            <tr>\n",
       "                        <th id=\"T_cc003_level0_row19\" class=\"row_heading level0 row19\" >19</th>\n",
       "                        <td id=\"T_cc003_row19_col0\" class=\"data row19 col0\" >何乐</td>\n",
       "            </tr>\n",
       "            <tr>\n",
       "                        <th id=\"T_cc003_level0_row20\" class=\"row_heading level0 row20\" >20</th>\n",
       "                        <td id=\"T_cc003_row20_col0\" class=\"data row20 col0\" >陈进彬</td>\n",
       "            </tr>\n",
       "            <tr>\n",
       "                        <th id=\"T_cc003_level0_row21\" class=\"row_heading level0 row21\" >21</th>\n",
       "                        <td id=\"T_cc003_row21_col0\" class=\"data row21 col0\" >张明鸣</td>\n",
       "            </tr>\n",
       "    </tbody></table>"
      ],
      "text/plain": [
       "<pandas.io.formats.style.Styler at 0x7f626efde0a0>"
      ]
     },
     "execution_count": 20,
     "metadata": {},
     "output_type": "execute_result"
    }
   ],
   "source": [
    "# pandas-table-style!\n",
    "yiliPeopleDF.head(30).style.set_table_styles(\n",
    "[{'selector': 'tr:nth-of-type(odd)','props': [('background', 'eee')]},\n",
    " {'selector': 'tr:nth-of-type(even)','props': [('background', 'white')]},\n",
    " {'selector': 'th','props': [('background', '#606060'), \n",
    "                             ('color', 'white'),\n",
    "                             ('font-family', 'verdana')]},\n",
    " {'selector': 'td','props': [('font-family', 'verdana')]}\n",
    "])"
   ]
  },
  {
   "cell_type": "code",
   "execution_count": 5,
   "id": "13f047bb",
   "metadata": {
    "ExecuteTime": {
     "end_time": "2022-11-17T09:16:19.924241Z",
     "start_time": "2022-11-17T09:16:19.241473Z"
    }
   },
   "outputs": [
    {
     "data": {
      "text/html": [
       "<style  type=\"text/css\" >\n",
       "    #T_2c3a4_ tr:nth-of-type(odd) {\n",
       "          background: eee;\n",
       "    }    #T_2c3a4_ tr:nth-of-type(even) {\n",
       "          background: white;\n",
       "    }    #T_2c3a4_ th {\n",
       "          background: #606060;\n",
       "          color: white;\n",
       "          font-family: verdana;\n",
       "    }    #T_2c3a4_ td {\n",
       "          font-family: verdana;\n",
       "    }</style><table id=\"T_2c3a4_\" ><thead>    <tr>        <th class=\"blank level0\" ></th>        <th class=\"col_heading level0 col0\" >src</th>        <th class=\"col_heading level0 col1\" >dst</th>        <th class=\"col_heading level0 col2\" >relationship</th>    </tr></thead><tbody>\n",
       "                <tr>\n",
       "                        <th id=\"T_2c3a4_level0_row0\" class=\"row_heading level0 row0\" >0</th>\n",
       "                        <td id=\"T_2c3a4_row0_col0\" class=\"data row0 col0\" >国网运检部</td>\n",
       "                        <td id=\"T_2c3a4_row0_col1\" class=\"data row0 col1\" >国家电网</td>\n",
       "                        <td id=\"T_2c3a4_row0_col2\" class=\"data row0 col2\" >nan</td>\n",
       "            </tr>\n",
       "            <tr>\n",
       "                        <th id=\"T_2c3a4_level0_row1\" class=\"row_heading level0 row1\" >1</th>\n",
       "                        <td id=\"T_2c3a4_row1_col0\" class=\"data row1 col0\" >信息产业集团</td>\n",
       "                        <td id=\"T_2c3a4_row1_col1\" class=\"data row1 col1\" >国家电网</td>\n",
       "                        <td id=\"T_2c3a4_row1_col2\" class=\"data row1 col2\" >nan</td>\n",
       "            </tr>\n",
       "            <tr>\n",
       "                        <th id=\"T_2c3a4_level0_row2\" class=\"row_heading level0 row2\" >2</th>\n",
       "                        <td id=\"T_2c3a4_row2_col0\" class=\"data row2 col0\" >北京电力公司</td>\n",
       "                        <td id=\"T_2c3a4_row2_col1\" class=\"data row2 col1\" >国家电网</td>\n",
       "                        <td id=\"T_2c3a4_row2_col2\" class=\"data row2 col2\" >nan</td>\n",
       "            </tr>\n",
       "            <tr>\n",
       "                        <th id=\"T_2c3a4_level0_row3\" class=\"row_heading level0 row3\" >3</th>\n",
       "                        <td id=\"T_2c3a4_row3_col0\" class=\"data row3 col0\" >湖北电力公司</td>\n",
       "                        <td id=\"T_2c3a4_row3_col1\" class=\"data row3 col1\" >国家电网</td>\n",
       "                        <td id=\"T_2c3a4_row3_col2\" class=\"data row3 col2\" >nan</td>\n",
       "            </tr>\n",
       "            <tr>\n",
       "                        <th id=\"T_2c3a4_level0_row4\" class=\"row_heading level0 row4\" >4</th>\n",
       "                        <td id=\"T_2c3a4_row4_col0\" class=\"data row4 col0\" >冀北电力公司</td>\n",
       "                        <td id=\"T_2c3a4_row4_col1\" class=\"data row4 col1\" >国家电网</td>\n",
       "                        <td id=\"T_2c3a4_row4_col2\" class=\"data row4 col2\" >nan</td>\n",
       "            </tr>\n",
       "            <tr>\n",
       "                        <th id=\"T_2c3a4_level0_row5\" class=\"row_heading level0 row5\" >5</th>\n",
       "                        <td id=\"T_2c3a4_row5_col0\" class=\"data row5 col0\" >华商管道公司</td>\n",
       "                        <td id=\"T_2c3a4_row5_col1\" class=\"data row5 col1\" >北京电力公司</td>\n",
       "                        <td id=\"T_2c3a4_row5_col2\" class=\"data row5 col2\" >nan</td>\n",
       "            </tr>\n",
       "            <tr>\n",
       "                        <th id=\"T_2c3a4_level0_row6\" class=\"row_heading level0 row6\" >6</th>\n",
       "                        <td id=\"T_2c3a4_row6_col0\" class=\"data row6 col0\" >信通分公司</td>\n",
       "                        <td id=\"T_2c3a4_row6_col1\" class=\"data row6 col1\" >北京电力公司</td>\n",
       "                        <td id=\"T_2c3a4_row6_col2\" class=\"data row6 col2\" >nan</td>\n",
       "            </tr>\n",
       "            <tr>\n",
       "                        <th id=\"T_2c3a4_level0_row7\" class=\"row_heading level0 row7\" >7</th>\n",
       "                        <td id=\"T_2c3a4_row7_col0\" class=\"data row7 col0\" >北京运检部</td>\n",
       "                        <td id=\"T_2c3a4_row7_col1\" class=\"data row7 col1\" >北京电力公司</td>\n",
       "                        <td id=\"T_2c3a4_row7_col2\" class=\"data row7 col2\" >nan</td>\n",
       "            </tr>\n",
       "            <tr>\n",
       "                        <th id=\"T_2c3a4_level0_row8\" class=\"row_heading level0 row8\" >8</th>\n",
       "                        <td id=\"T_2c3a4_row8_col0\" class=\"data row8 col0\" >亦庄电力公司</td>\n",
       "                        <td id=\"T_2c3a4_row8_col1\" class=\"data row8 col1\" >北京电力公司</td>\n",
       "                        <td id=\"T_2c3a4_row8_col2\" class=\"data row8 col2\" >nan</td>\n",
       "            </tr>\n",
       "            <tr>\n",
       "                        <th id=\"T_2c3a4_level0_row9\" class=\"row_heading level0 row9\" >9</th>\n",
       "                        <td id=\"T_2c3a4_row9_col0\" class=\"data row9 col0\" >检修分公司</td>\n",
       "                        <td id=\"T_2c3a4_row9_col1\" class=\"data row9 col1\" >北京电力公司</td>\n",
       "                        <td id=\"T_2c3a4_row9_col2\" class=\"data row9 col2\" >nan</td>\n",
       "            </tr>\n",
       "    </tbody></table>"
      ],
      "text/plain": [
       "<pandas.io.formats.style.Styler at 0x7fe654796520>"
      ]
     },
     "execution_count": 5,
     "metadata": {},
     "output_type": "execute_result"
    }
   ],
   "source": [
    "# pandas-table-style!\n",
    "sgccRelationShipDF.head(30).style.set_table_styles(\n",
    "[{'selector': 'tr:nth-of-type(odd)','props': [('background', 'eee')]},\n",
    " {'selector': 'tr:nth-of-type(even)','props': [('background', 'white')]},\n",
    " {'selector': 'th','props': [('background', '#606060'), \n",
    "                             ('color', 'white'),\n",
    "                             ('font-family', 'verdana')]},\n",
    " {'selector': 'td','props': [('font-family', 'verdana')]}\n",
    "])"
   ]
  },
  {
   "cell_type": "code",
   "execution_count": 21,
   "id": "83b878a1",
   "metadata": {
    "ExecuteTime": {
     "end_time": "2022-11-17T06:10:38.933082Z",
     "start_time": "2022-11-17T06:10:38.802674Z"
    }
   },
   "outputs": [
    {
     "name": "stderr",
     "output_type": "stream",
     "text": [
      "13it [00:00, 109.54it/s]\n"
     ]
    }
   ],
   "source": [
    "for i, row in tqdm(sgccPeopleDF.iterrows()):\n",
    "    sgcc_people_node = Node(\"sgcc_people\",name=row[sgccPeopleDF.columns[0]])\n",
    "    saoHei.merge(sgcc_people_node,\"sgcc_people\",\"name\")"
   ]
  },
  {
   "cell_type": "code",
   "execution_count": 22,
   "id": "2a656cb9",
   "metadata": {
    "ExecuteTime": {
     "end_time": "2022-11-17T06:10:39.012359Z",
     "start_time": "2022-11-17T06:10:38.934959Z"
    }
   },
   "outputs": [
    {
     "name": "stderr",
     "output_type": "stream",
     "text": [
      "9it [00:00, 125.09it/s]\n"
     ]
    }
   ],
   "source": [
    "for i, row in tqdm(supplierCompanyDF.iterrows()):\n",
    "    supplier_company_node = Node(\"supplier_company\",name=row[sgccCompanyDF.columns[0]])\n",
    "    saoHei.merge(supplier_company_node,\"supplier_company\",\"name\")"
   ]
  },
  {
   "cell_type": "code",
   "execution_count": 23,
   "id": "c8fe3628",
   "metadata": {
    "ExecuteTime": {
     "end_time": "2022-11-17T06:10:39.176044Z",
     "start_time": "2022-11-17T06:10:39.014482Z"
    }
   },
   "outputs": [
    {
     "name": "stderr",
     "output_type": "stream",
     "text": [
      "19it [00:00, 121.64it/s]\n"
     ]
    }
   ],
   "source": [
    "for i, row in tqdm(supplierPeopleDF.iterrows()):\n",
    "    supplier_people_node = Node(\"supplier_people\",name=row[sgccPeopleDF.columns[0]])\n",
    "    saoHei.merge(supplier_people_node,\"supplier_people\",\"name\")"
   ]
  },
  {
   "cell_type": "code",
   "execution_count": 24,
   "id": "9a5478bd",
   "metadata": {
    "ExecuteTime": {
     "end_time": "2022-11-17T06:10:39.273479Z",
     "start_time": "2022-11-17T06:10:39.178082Z"
    }
   },
   "outputs": [
    {
     "name": "stderr",
     "output_type": "stream",
     "text": [
      "10it [00:00, 113.77it/s]\n"
     ]
    }
   ],
   "source": [
    "for i, row in tqdm(yiliDF.iterrows()):\n",
    "    yili_department_node = Node(\"yili-Department\",name=row[yiliDF.columns[0]])\n",
    "    saoHei.merge(yili_department_node,\"yili-Department\",\"name\")"
   ]
  },
  {
   "cell_type": "code",
   "execution_count": 25,
   "id": "e09dea24",
   "metadata": {
    "ExecuteTime": {
     "end_time": "2022-11-17T06:10:39.365405Z",
     "start_time": "2022-11-17T06:10:39.275313Z"
    }
   },
   "outputs": [
    {
     "name": "stderr",
     "output_type": "stream",
     "text": [
      "10it [00:00, 118.72it/s]\n"
     ]
    }
   ],
   "source": [
    "for i, row in tqdm(projectDF.iterrows()):\n",
    "    project_node = Node(\"project\",name=row[projectDF.columns[0]])\n",
    "    saoHei.merge(project_node,\"project\",\"name\")"
   ]
  },
  {
   "cell_type": "code",
   "execution_count": 26,
   "id": "0ed2bdf8",
   "metadata": {
    "ExecuteTime": {
     "end_time": "2022-11-17T06:10:39.437531Z",
     "start_time": "2022-11-17T06:10:39.367541Z"
    }
   },
   "outputs": [
    {
     "name": "stderr",
     "output_type": "stream",
     "text": [
      "8it [00:00, 124.27it/s]\n"
     ]
    }
   ],
   "source": [
    "for i, row in tqdm(developDF.iterrows()):\n",
    "    develop_node = Node(\"develop\",name=row[developDF.columns[0]])\n",
    "    saoHei.merge(develop_node,\"develop\",\"name\")"
   ]
  },
  {
   "cell_type": "code",
   "execution_count": 27,
   "id": "505d51c1",
   "metadata": {
    "ExecuteTime": {
     "end_time": "2022-11-17T06:10:39.626331Z",
     "start_time": "2022-11-17T06:10:39.440025Z"
    }
   },
   "outputs": [
    {
     "name": "stderr",
     "output_type": "stream",
     "text": [
      "22it [00:00, 122.14it/s]\n"
     ]
    }
   ],
   "source": [
    "for i, row in tqdm(yiliPeopleDF.iterrows()):\n",
    "    yiliPeople_node = Node(\"yiliPeople\",name=row[yiliPeopleDF.columns[0]])\n",
    "    saoHei.merge(yiliPeople_node,\"yiliPeople\",\"name\")"
   ]
  },
  {
   "cell_type": "code",
   "execution_count": 28,
   "id": "d3c131f2",
   "metadata": {
    "ExecuteTime": {
     "end_time": "2022-11-17T06:10:39.725526Z",
     "start_time": "2022-11-17T06:10:39.630489Z"
    }
   },
   "outputs": [
    {
     "name": "stderr",
     "output_type": "stream",
     "text": [
      "11it [00:00, 123.60it/s]\n"
     ]
    }
   ],
   "source": [
    "for i, row in tqdm(sgccCompanyDF.iterrows()):\n",
    "    sgcc_company_node = Node(\"sgcc_company\",name=row[sgccCompanyDF.columns[0]])\n",
    "    saoHei.merge(sgcc_company_node,\"sgcc_company\",\"name\")"
   ]
  }
 ],
 "metadata": {
  "hide_input": false,
  "kernelspec": {
   "display_name": "Python 3 (ipykernel)",
   "language": "python",
   "name": "python3"
  },
  "language_info": {
   "codemirror_mode": {
    "name": "ipython",
    "version": 3
   },
   "file_extension": ".py",
   "mimetype": "text/x-python",
   "name": "python",
   "nbconvert_exporter": "python",
   "pygments_lexer": "ipython3",
   "version": "3.8.10"
  },
  "toc": {
   "base_numbering": 1,
   "nav_menu": {},
   "number_sections": true,
   "sideBar": true,
   "skip_h1_title": false,
   "title_cell": "Table of Contents",
   "title_sidebar": "Contents",
   "toc_cell": false,
   "toc_position": {},
   "toc_section_display": true,
   "toc_window_display": false
  }
 },
 "nbformat": 4,
 "nbformat_minor": 5
}
