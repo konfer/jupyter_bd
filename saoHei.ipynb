{
 "cells": [
  {
   "cell_type": "code",
   "execution_count": 1,
   "id": "1e7d4366",
   "metadata": {},
   "outputs": [],
   "source": [
    "import py2neo\n",
    "import tqdm\n",
    "import pandas as pd\n",
    "\n",
    "from tqdm import tqdm\n",
    "from py2neo import Graph,Node,Relationship,NodeMatcher,Subgraph"
   ]
  },
  {
   "cell_type": "code",
   "execution_count": 2,
   "id": "40571400",
   "metadata": {},
   "outputs": [],
   "source": [
    "# pandas-style!\n",
    "def color_negative_red(val):\n",
    "    color = 'red' if val < 0 else 'black' \n",
    "    return 'color: %s' % color \n",
    "# df.style.applymap(color_negative_red)"
   ]
  },
  {
   "cell_type": "code",
   "execution_count": 3,
   "id": "3c17694c",
   "metadata": {},
   "outputs": [],
   "source": [
    "# pandas-num-option!\n",
    "pd.options.display.max_columns = 50  # None -> No Restrictions\n",
    "pd.options.display.max_rows = 200    # None -> Be careful with this\n",
    "pd.options.display.max_colwidth = 100\n",
    "pd.options.display.precision = 3"
   ]
  },
  {
   "cell_type": "code",
   "execution_count": 4,
   "id": "4f5c89a2",
   "metadata": {},
   "outputs": [],
   "source": [
    "saoHei=Graph('http://hapark02:3447',user = 'neo4j', password = '123')"
   ]
  },
  {
   "cell_type": "code",
   "execution_count": 5,
   "id": "ba462568",
   "metadata": {},
   "outputs": [],
   "source": [
    "sgccCompanyDF = pd.read_csv('/usr/local/codeData/saoHei/sgcc-company.csv')"
   ]
  },
  {
   "cell_type": "code",
   "execution_count": 6,
   "id": "6c56053a",
   "metadata": {},
   "outputs": [],
   "source": [
    "sgccPeopleDF = pd.read_csv('/usr/local/codeData/saoHei/sgcc-people.csv')"
   ]
  },
  {
   "cell_type": "code",
   "execution_count": 7,
   "id": "d1e8fd98",
   "metadata": {},
   "outputs": [],
   "source": [
    "supplierCompanyDF = pd.read_csv('/usr/local/codeData/saoHei/supplier-company.csv')"
   ]
  },
  {
   "cell_type": "code",
   "execution_count": 8,
   "id": "514aad30",
   "metadata": {},
   "outputs": [],
   "source": [
    "supplierPeopleDF = pd.read_csv('/usr/local/codeData/saoHei/supplier-people.csv')"
   ]
  },
  {
   "cell_type": "code",
   "execution_count": 9,
   "id": "98c5ed30",
   "metadata": {},
   "outputs": [],
   "source": [
    "yiliDF = pd.read_csv('/usr/local/codeData/saoHei/yili-Department.csv')"
   ]
  },
  {
   "cell_type": "code",
   "execution_count": 10,
   "id": "980e8449",
   "metadata": {},
   "outputs": [],
   "source": [
    "yiliPeopleDF = pd.read_csv('/usr/local/codeData/saoHei/yili-people.csv')"
   ]
  },
  {
   "cell_type": "code",
   "execution_count": 11,
   "id": "0cad0e37",
   "metadata": {},
   "outputs": [],
   "source": [
    "projectDF = pd.read_csv('/usr/local/codeData/saoHei/project.csv')"
   ]
  },
  {
   "cell_type": "code",
   "execution_count": 12,
   "id": "4ec909bf",
   "metadata": {},
   "outputs": [],
   "source": [
    "developDF = pd.read_csv('/usr/local/codeData/saoHei/develop.csv')"
   ]
  },
  {
   "cell_type": "code",
   "execution_count": 13,
   "id": "c2ddb6fd",
   "metadata": {},
   "outputs": [],
   "source": [
    "sgccRelationShipDF = pd.read_csv('/usr/local/codeData/saoHei/sgcc-relationships.csv')"
   ]
  },
  {
   "cell_type": "code",
   "execution_count": 14,
   "id": "e6421960",
   "metadata": {},
   "outputs": [],
   "source": [
    "sgccPeopleRelationShipDF = pd.read_csv('/usr/local/codeData/saoHei/sgcc-people-relationships.csv')"
   ]
  },
  {
   "cell_type": "code",
   "execution_count": 15,
   "id": "67609030",
   "metadata": {},
   "outputs": [],
   "source": [
    "sgccPeopleCompanyRelationShipDF = pd.read_csv('/usr/local/codeData/saoHei/sgcc-people-company-relationships.csv')"
   ]
  },
  {
   "cell_type": "code",
   "execution_count": 16,
   "id": "5c15ffe6",
   "metadata": {},
   "outputs": [],
   "source": [
    "yiliRelationShipDF = pd.read_csv('/usr/local/codeData/saoHei/yili-relationships.csv')"
   ]
  },
  {
   "cell_type": "code",
   "execution_count": 17,
   "id": "e3170d64",
   "metadata": {},
   "outputs": [],
   "source": [
    "yiliPeopleCompanyRelationShipDF = pd.read_csv('/usr/local/codeData/saoHei/yili-people-company-relationships.csv')"
   ]
  },
  {
   "cell_type": "code",
   "execution_count": 18,
   "id": "75c9203a",
   "metadata": {},
   "outputs": [],
   "source": [
    "yiliPeopleRelationShipDF = pd.read_csv('/usr/local/codeData/saoHei/yili-people-relationship.csv')"
   ]
  },
  {
   "cell_type": "code",
   "execution_count": 19,
   "id": "cfc0a25e",
   "metadata": {},
   "outputs": [],
   "source": [
    "yiliSgccPeopleCompanyRelationShipDF = pd.read_csv('/usr/local/codeData/saoHei/yili-sgcc-people-company-relationships.csv')"
   ]
  },
  {
   "cell_type": "code",
   "execution_count": 20,
   "id": "eccbed91",
   "metadata": {
    "scrolled": true
   },
   "outputs": [
    {
     "data": {
      "text/html": [
       "<style  type=\"text/css\" >\n",
       "    #T_0ab2c_ tr:nth-of-type(odd) {\n",
       "          background: eee;\n",
       "    }    #T_0ab2c_ tr:nth-of-type(even) {\n",
       "          background: white;\n",
       "    }    #T_0ab2c_ th {\n",
       "          background: #606060;\n",
       "          color: white;\n",
       "          font-family: verdana;\n",
       "    }    #T_0ab2c_ td {\n",
       "          font-family: verdana;\n",
       "    }</style><table id=\"T_0ab2c_\" ><thead>    <tr>        <th class=\"blank level0\" ></th>        <th class=\"col_heading level0 col0\" >id</th>    </tr></thead><tbody>\n",
       "                <tr>\n",
       "                        <th id=\"T_0ab2c_level0_row0\" class=\"row_heading level0 row0\" >0</th>\n",
       "                        <td id=\"T_0ab2c_row0_col0\" class=\"data row0 col0\" >国家电网</td>\n",
       "            </tr>\n",
       "            <tr>\n",
       "                        <th id=\"T_0ab2c_level0_row1\" class=\"row_heading level0 row1\" >1</th>\n",
       "                        <td id=\"T_0ab2c_row1_col0\" class=\"data row1 col0\" >国网运检部</td>\n",
       "            </tr>\n",
       "            <tr>\n",
       "                        <th id=\"T_0ab2c_level0_row2\" class=\"row_heading level0 row2\" >2</th>\n",
       "                        <td id=\"T_0ab2c_row2_col0\" class=\"data row2 col0\" >信息产业集团</td>\n",
       "            </tr>\n",
       "            <tr>\n",
       "                        <th id=\"T_0ab2c_level0_row3\" class=\"row_heading level0 row3\" >3</th>\n",
       "                        <td id=\"T_0ab2c_row3_col0\" class=\"data row3 col0\" >北京电力公司</td>\n",
       "            </tr>\n",
       "            <tr>\n",
       "                        <th id=\"T_0ab2c_level0_row4\" class=\"row_heading level0 row4\" >4</th>\n",
       "                        <td id=\"T_0ab2c_row4_col0\" class=\"data row4 col0\" >华商管道公司</td>\n",
       "            </tr>\n",
       "            <tr>\n",
       "                        <th id=\"T_0ab2c_level0_row5\" class=\"row_heading level0 row5\" >5</th>\n",
       "                        <td id=\"T_0ab2c_row5_col0\" class=\"data row5 col0\" >检修分公司</td>\n",
       "            </tr>\n",
       "            <tr>\n",
       "                        <th id=\"T_0ab2c_level0_row6\" class=\"row_heading level0 row6\" >6</th>\n",
       "                        <td id=\"T_0ab2c_row6_col0\" class=\"data row6 col0\" >湖北电力公司</td>\n",
       "            </tr>\n",
       "            <tr>\n",
       "                        <th id=\"T_0ab2c_level0_row7\" class=\"row_heading level0 row7\" >7</th>\n",
       "                        <td id=\"T_0ab2c_row7_col0\" class=\"data row7 col0\" >冀北电力公司</td>\n",
       "            </tr>\n",
       "            <tr>\n",
       "                        <th id=\"T_0ab2c_level0_row8\" class=\"row_heading level0 row8\" >8</th>\n",
       "                        <td id=\"T_0ab2c_row8_col0\" class=\"data row8 col0\" >信通分公司</td>\n",
       "            </tr>\n",
       "            <tr>\n",
       "                        <th id=\"T_0ab2c_level0_row9\" class=\"row_heading level0 row9\" >9</th>\n",
       "                        <td id=\"T_0ab2c_row9_col0\" class=\"data row9 col0\" >北京运检部</td>\n",
       "            </tr>\n",
       "            <tr>\n",
       "                        <th id=\"T_0ab2c_level0_row10\" class=\"row_heading level0 row10\" >10</th>\n",
       "                        <td id=\"T_0ab2c_row10_col0\" class=\"data row10 col0\" >亦庄电力公司</td>\n",
       "            </tr>\n",
       "            <tr>\n",
       "                        <th id=\"T_0ab2c_level0_row11\" class=\"row_heading level0 row11\" >11</th>\n",
       "                        <td id=\"T_0ab2c_row11_col0\" class=\"data row11 col0\" >厦门亿力吉奥</td>\n",
       "            </tr>\n",
       "    </tbody></table>"
      ],
      "text/plain": [
       "<pandas.io.formats.style.Styler at 0x7f872b71d9a0>"
      ]
     },
     "execution_count": 20,
     "metadata": {},
     "output_type": "execute_result"
    }
   ],
   "source": [
    "# pandas-table-style!\n",
    "sgccCompanyDF.head(20).style.set_table_styles(\n",
    "[{'selector': 'tr:nth-of-type(odd)','props': [('background', 'eee')]},\n",
    " {'selector': 'tr:nth-of-type(even)','props': [('background', 'white')]},\n",
    " {'selector': 'th','props': [('background', '#606060'), \n",
    "                             ('color', 'white'),\n",
    "                             ('font-family', 'verdana')]},\n",
    " {'selector': 'td','props': [('font-family', 'verdana')]}\n",
    "])"
   ]
  },
  {
   "cell_type": "code",
   "execution_count": 21,
   "id": "976279e2",
   "metadata": {},
   "outputs": [
    {
     "data": {
      "text/html": [
       "<style  type=\"text/css\" >\n",
       "    #T_08af1_ tr:nth-of-type(odd) {\n",
       "          background: eee;\n",
       "    }    #T_08af1_ tr:nth-of-type(even) {\n",
       "          background: white;\n",
       "    }    #T_08af1_ th {\n",
       "          background: #606060;\n",
       "          color: white;\n",
       "          font-family: verdana;\n",
       "    }    #T_08af1_ td {\n",
       "          font-family: verdana;\n",
       "    }</style><table id=\"T_08af1_\" ><thead>    <tr>        <th class=\"blank level0\" ></th>        <th class=\"col_heading level0 col0\" >id</th>    </tr></thead><tbody>\n",
       "                <tr>\n",
       "                        <th id=\"T_08af1_level0_row0\" class=\"row_heading level0 row0\" >0</th>\n",
       "                        <td id=\"T_08af1_row0_col0\" class=\"data row0 col0\" >刘润生</td>\n",
       "            </tr>\n",
       "            <tr>\n",
       "                        <th id=\"T_08af1_level0_row1\" class=\"row_heading level0 row1\" >1</th>\n",
       "                        <td id=\"T_08af1_row1_col0\" class=\"data row1 col0\" >娄其鹤</td>\n",
       "            </tr>\n",
       "            <tr>\n",
       "                        <th id=\"T_08af1_level0_row2\" class=\"row_heading level0 row2\" >2</th>\n",
       "                        <td id=\"T_08af1_row2_col0\" class=\"data row2 col0\" >林涛</td>\n",
       "            </tr>\n",
       "            <tr>\n",
       "                        <th id=\"T_08af1_level0_row3\" class=\"row_heading level0 row3\" >3</th>\n",
       "                        <td id=\"T_08af1_row3_col0\" class=\"data row3 col0\" >赵永强</td>\n",
       "            </tr>\n",
       "            <tr>\n",
       "                        <th id=\"T_08af1_level0_row4\" class=\"row_heading level0 row4\" >4</th>\n",
       "                        <td id=\"T_08af1_row4_col0\" class=\"data row4 col0\" >李光</td>\n",
       "            </tr>\n",
       "            <tr>\n",
       "                        <th id=\"T_08af1_level0_row5\" class=\"row_heading level0 row5\" >5</th>\n",
       "                        <td id=\"T_08af1_row5_col0\" class=\"data row5 col0\" >林一轩</td>\n",
       "            </tr>\n",
       "            <tr>\n",
       "                        <th id=\"T_08af1_level0_row6\" class=\"row_heading level0 row6\" >6</th>\n",
       "                        <td id=\"T_08af1_row6_col0\" class=\"data row6 col0\" >刘皓</td>\n",
       "            </tr>\n",
       "            <tr>\n",
       "                        <th id=\"T_08af1_level0_row7\" class=\"row_heading level0 row7\" >7</th>\n",
       "                        <td id=\"T_08af1_row7_col0\" class=\"data row7 col0\" >高智益</td>\n",
       "            </tr>\n",
       "            <tr>\n",
       "                        <th id=\"T_08af1_level0_row8\" class=\"row_heading level0 row8\" >8</th>\n",
       "                        <td id=\"T_08af1_row8_col0\" class=\"data row8 col0\" >周晓楠</td>\n",
       "            </tr>\n",
       "            <tr>\n",
       "                        <th id=\"T_08af1_level0_row9\" class=\"row_heading level0 row9\" >9</th>\n",
       "                        <td id=\"T_08af1_row9_col0\" class=\"data row9 col0\" >叶妍</td>\n",
       "            </tr>\n",
       "            <tr>\n",
       "                        <th id=\"T_08af1_level0_row10\" class=\"row_heading level0 row10\" >10</th>\n",
       "                        <td id=\"T_08af1_row10_col0\" class=\"data row10 col0\" >陆醒晔</td>\n",
       "            </tr>\n",
       "            <tr>\n",
       "                        <th id=\"T_08af1_level0_row11\" class=\"row_heading level0 row11\" >11</th>\n",
       "                        <td id=\"T_08af1_row11_col0\" class=\"data row11 col0\" >罗辉</td>\n",
       "            </tr>\n",
       "            <tr>\n",
       "                        <th id=\"T_08af1_level0_row12\" class=\"row_heading level0 row12\" >12</th>\n",
       "                        <td id=\"T_08af1_row12_col0\" class=\"data row12 col0\" >赵洋</td>\n",
       "            </tr>\n",
       "    </tbody></table>"
      ],
      "text/plain": [
       "<pandas.io.formats.style.Styler at 0x7f8729981be0>"
      ]
     },
     "execution_count": 21,
     "metadata": {},
     "output_type": "execute_result"
    }
   ],
   "source": [
    "# pandas-table-style!\n",
    "sgccPeopleDF.head(30).style.set_table_styles(\n",
    "[{'selector': 'tr:nth-of-type(odd)','props': [('background', 'eee')]},\n",
    " {'selector': 'tr:nth-of-type(even)','props': [('background', 'white')]},\n",
    " {'selector': 'th','props': [('background', '#606060'), \n",
    "                             ('color', 'white'),\n",
    "                             ('font-family', 'verdana')]},\n",
    " {'selector': 'td','props': [('font-family', 'verdana')]}\n",
    "])"
   ]
  },
  {
   "cell_type": "code",
   "execution_count": 22,
   "id": "abe79ff2",
   "metadata": {
    "scrolled": true
   },
   "outputs": [
    {
     "data": {
      "text/html": [
       "<style  type=\"text/css\" >\n",
       "    #T_89de9_ tr:nth-of-type(odd) {\n",
       "          background: eee;\n",
       "    }    #T_89de9_ tr:nth-of-type(even) {\n",
       "          background: white;\n",
       "    }    #T_89de9_ th {\n",
       "          background: #606060;\n",
       "          color: white;\n",
       "          font-family: verdana;\n",
       "    }    #T_89de9_ td {\n",
       "          font-family: verdana;\n",
       "    }</style><table id=\"T_89de9_\" ><thead>    <tr>        <th class=\"blank level0\" ></th>        <th class=\"col_heading level0 col0\" >id</th>    </tr></thead><tbody>\n",
       "                <tr>\n",
       "                        <th id=\"T_89de9_level0_row0\" class=\"row_heading level0 row0\" >0</th>\n",
       "                        <td id=\"T_89de9_row0_col0\" class=\"data row0 col0\" >山东康威</td>\n",
       "            </tr>\n",
       "            <tr>\n",
       "                        <th id=\"T_89de9_level0_row1\" class=\"row_heading level0 row1\" >1</th>\n",
       "                        <td id=\"T_89de9_row1_col0\" class=\"data row1 col0\" >山东金码</td>\n",
       "            </tr>\n",
       "            <tr>\n",
       "                        <th id=\"T_89de9_level0_row2\" class=\"row_heading level0 row2\" >2</th>\n",
       "                        <td id=\"T_89de9_row2_col0\" class=\"data row2 col0\" >上海谷元</td>\n",
       "            </tr>\n",
       "            <tr>\n",
       "                        <th id=\"T_89de9_level0_row3\" class=\"row_heading level0 row3\" >3</th>\n",
       "                        <td id=\"T_89de9_row3_col0\" class=\"data row3 col0\" >福建和盛</td>\n",
       "            </tr>\n",
       "            <tr>\n",
       "                        <th id=\"T_89de9_level0_row4\" class=\"row_heading level0 row4\" >4</th>\n",
       "                        <td id=\"T_89de9_row4_col0\" class=\"data row4 col0\" >沈阳金建</td>\n",
       "            </tr>\n",
       "            <tr>\n",
       "                        <th id=\"T_89de9_level0_row5\" class=\"row_heading level0 row5\" >5</th>\n",
       "                        <td id=\"T_89de9_row5_col0\" class=\"data row5 col0\" >广州中合实创</td>\n",
       "            </tr>\n",
       "            <tr>\n",
       "                        <th id=\"T_89de9_level0_row6\" class=\"row_heading level0 row6\" >6</th>\n",
       "                        <td id=\"T_89de9_row6_col0\" class=\"data row6 col0\" >杭州图维</td>\n",
       "            </tr>\n",
       "            <tr>\n",
       "                        <th id=\"T_89de9_level0_row7\" class=\"row_heading level0 row7\" >7</th>\n",
       "                        <td id=\"T_89de9_row7_col0\" class=\"data row7 col0\" >西藏能智</td>\n",
       "            </tr>\n",
       "            <tr>\n",
       "                        <th id=\"T_89de9_level0_row8\" class=\"row_heading level0 row8\" >8</th>\n",
       "                        <td id=\"T_89de9_row8_col0\" class=\"data row8 col0\" >北京华大天元</td>\n",
       "            </tr>\n",
       "    </tbody></table>"
      ],
      "text/plain": [
       "<pandas.io.formats.style.Styler at 0x7f872b71d580>"
      ]
     },
     "execution_count": 22,
     "metadata": {},
     "output_type": "execute_result"
    }
   ],
   "source": [
    "# pandas-table-style!\n",
    "supplierCompanyDF.head(10).style.set_table_styles(\n",
    "[{'selector': 'tr:nth-of-type(odd)','props': [('background', 'eee')]},\n",
    " {'selector': 'tr:nth-of-type(even)','props': [('background', 'white')]},\n",
    " {'selector': 'th','props': [('background', '#606060'), \n",
    "                             ('color', 'white'),\n",
    "                             ('font-family', 'verdana')]},\n",
    " {'selector': 'td','props': [('font-family', 'verdana')]}\n",
    "])"
   ]
  },
  {
   "cell_type": "code",
   "execution_count": 23,
   "id": "428a4c41",
   "metadata": {
    "scrolled": true
   },
   "outputs": [
    {
     "data": {
      "text/html": [
       "<style  type=\"text/css\" >\n",
       "    #T_7b3a9_ tr:nth-of-type(odd) {\n",
       "          background: eee;\n",
       "    }    #T_7b3a9_ tr:nth-of-type(even) {\n",
       "          background: white;\n",
       "    }    #T_7b3a9_ th {\n",
       "          background: #606060;\n",
       "          color: white;\n",
       "          font-family: verdana;\n",
       "    }    #T_7b3a9_ td {\n",
       "          font-family: verdana;\n",
       "    }</style><table id=\"T_7b3a9_\" ><thead>    <tr>        <th class=\"blank level0\" ></th>        <th class=\"col_heading level0 col0\" >id</th>    </tr></thead><tbody>\n",
       "                <tr>\n",
       "                        <th id=\"T_7b3a9_level0_row0\" class=\"row_heading level0 row0\" >0</th>\n",
       "                        <td id=\"T_7b3a9_row0_col0\" class=\"data row0 col0\" >李春宇</td>\n",
       "            </tr>\n",
       "            <tr>\n",
       "                        <th id=\"T_7b3a9_level0_row1\" class=\"row_heading level0 row1\" >1</th>\n",
       "                        <td id=\"T_7b3a9_row1_col0\" class=\"data row1 col0\" >张贺</td>\n",
       "            </tr>\n",
       "            <tr>\n",
       "                        <th id=\"T_7b3a9_level0_row2\" class=\"row_heading level0 row2\" >2</th>\n",
       "                        <td id=\"T_7b3a9_row2_col0\" class=\"data row2 col0\" >王天行</td>\n",
       "            </tr>\n",
       "            <tr>\n",
       "                        <th id=\"T_7b3a9_level0_row3\" class=\"row_heading level0 row3\" >3</th>\n",
       "                        <td id=\"T_7b3a9_row3_col0\" class=\"data row3 col0\" >陈芳</td>\n",
       "            </tr>\n",
       "            <tr>\n",
       "                        <th id=\"T_7b3a9_level0_row4\" class=\"row_heading level0 row4\" >4</th>\n",
       "                        <td id=\"T_7b3a9_row4_col0\" class=\"data row4 col0\" >李龙</td>\n",
       "            </tr>\n",
       "            <tr>\n",
       "                        <th id=\"T_7b3a9_level0_row5\" class=\"row_heading level0 row5\" >5</th>\n",
       "                        <td id=\"T_7b3a9_row5_col0\" class=\"data row5 col0\" >李京</td>\n",
       "            </tr>\n",
       "            <tr>\n",
       "                        <th id=\"T_7b3a9_level0_row6\" class=\"row_heading level0 row6\" >6</th>\n",
       "                        <td id=\"T_7b3a9_row6_col0\" class=\"data row6 col0\" >解承丽</td>\n",
       "            </tr>\n",
       "            <tr>\n",
       "                        <th id=\"T_7b3a9_level0_row7\" class=\"row_heading level0 row7\" >7</th>\n",
       "                        <td id=\"T_7b3a9_row7_col0\" class=\"data row7 col0\" >史家欢</td>\n",
       "            </tr>\n",
       "            <tr>\n",
       "                        <th id=\"T_7b3a9_level0_row8\" class=\"row_heading level0 row8\" >8</th>\n",
       "                        <td id=\"T_7b3a9_row8_col0\" class=\"data row8 col0\" >王圣贺</td>\n",
       "            </tr>\n",
       "            <tr>\n",
       "                        <th id=\"T_7b3a9_level0_row9\" class=\"row_heading level0 row9\" >9</th>\n",
       "                        <td id=\"T_7b3a9_row9_col0\" class=\"data row9 col0\" >王继刚</td>\n",
       "            </tr>\n",
       "            <tr>\n",
       "                        <th id=\"T_7b3a9_level0_row10\" class=\"row_heading level0 row10\" >10</th>\n",
       "                        <td id=\"T_7b3a9_row10_col0\" class=\"data row10 col0\" >杨腾飞</td>\n",
       "            </tr>\n",
       "            <tr>\n",
       "                        <th id=\"T_7b3a9_level0_row11\" class=\"row_heading level0 row11\" >11</th>\n",
       "                        <td id=\"T_7b3a9_row11_col0\" class=\"data row11 col0\" >王坤鹏</td>\n",
       "            </tr>\n",
       "            <tr>\n",
       "                        <th id=\"T_7b3a9_level0_row12\" class=\"row_heading level0 row12\" >12</th>\n",
       "                        <td id=\"T_7b3a9_row12_col0\" class=\"data row12 col0\" >叶鹏</td>\n",
       "            </tr>\n",
       "            <tr>\n",
       "                        <th id=\"T_7b3a9_level0_row13\" class=\"row_heading level0 row13\" >13</th>\n",
       "                        <td id=\"T_7b3a9_row13_col0\" class=\"data row13 col0\" >董亮亮</td>\n",
       "            </tr>\n",
       "            <tr>\n",
       "                        <th id=\"T_7b3a9_level0_row14\" class=\"row_heading level0 row14\" >14</th>\n",
       "                        <td id=\"T_7b3a9_row14_col0\" class=\"data row14 col0\" >董泽民</td>\n",
       "            </tr>\n",
       "            <tr>\n",
       "                        <th id=\"T_7b3a9_level0_row15\" class=\"row_heading level0 row15\" >15</th>\n",
       "                        <td id=\"T_7b3a9_row15_col0\" class=\"data row15 col0\" >梁路璐</td>\n",
       "            </tr>\n",
       "            <tr>\n",
       "                        <th id=\"T_7b3a9_level0_row16\" class=\"row_heading level0 row16\" >16</th>\n",
       "                        <td id=\"T_7b3a9_row16_col0\" class=\"data row16 col0\" >王浩</td>\n",
       "            </tr>\n",
       "            <tr>\n",
       "                        <th id=\"T_7b3a9_level0_row17\" class=\"row_heading level0 row17\" >17</th>\n",
       "                        <td id=\"T_7b3a9_row17_col0\" class=\"data row17 col0\" >申端勇</td>\n",
       "            </tr>\n",
       "            <tr>\n",
       "                        <th id=\"T_7b3a9_level0_row18\" class=\"row_heading level0 row18\" >18</th>\n",
       "                        <td id=\"T_7b3a9_row18_col0\" class=\"data row18 col0\" >文华</td>\n",
       "            </tr>\n",
       "    </tbody></table>"
      ],
      "text/plain": [
       "<pandas.io.formats.style.Styler at 0x7f87299814f0>"
      ]
     },
     "execution_count": 23,
     "metadata": {},
     "output_type": "execute_result"
    }
   ],
   "source": [
    "# pandas-table-style!\n",
    "supplierPeopleDF.head(30).style.set_table_styles(\n",
    "[{'selector': 'tr:nth-of-type(odd)','props': [('background', 'eee')]},\n",
    " {'selector': 'tr:nth-of-type(even)','props': [('background', 'white')]},\n",
    " {'selector': 'th','props': [('background', '#606060'), \n",
    "                             ('color', 'white'),\n",
    "                             ('font-family', 'verdana')]},\n",
    " {'selector': 'td','props': [('font-family', 'verdana')]}\n",
    "])"
   ]
  },
  {
   "cell_type": "code",
   "execution_count": 24,
   "id": "de8a5614",
   "metadata": {
    "scrolled": true
   },
   "outputs": [
    {
     "data": {
      "text/html": [
       "<style  type=\"text/css\" >\n",
       "    #T_a52b2_ tr:nth-of-type(odd) {\n",
       "          background: eee;\n",
       "    }    #T_a52b2_ tr:nth-of-type(even) {\n",
       "          background: white;\n",
       "    }    #T_a52b2_ th {\n",
       "          background: #606060;\n",
       "          color: white;\n",
       "          font-family: verdana;\n",
       "    }    #T_a52b2_ td {\n",
       "          font-family: verdana;\n",
       "    }</style><table id=\"T_a52b2_\" ><thead>    <tr>        <th class=\"blank level0\" ></th>        <th class=\"col_heading level0 col0\" >id</th>    </tr></thead><tbody>\n",
       "                <tr>\n",
       "                        <th id=\"T_a52b2_level0_row0\" class=\"row_heading level0 row0\" >0</th>\n",
       "                        <td id=\"T_a52b2_row0_col0\" class=\"data row0 col0\" >北京管网</td>\n",
       "            </tr>\n",
       "            <tr>\n",
       "                        <th id=\"T_a52b2_level0_row1\" class=\"row_heading level0 row1\" >1</th>\n",
       "                        <td id=\"T_a52b2_row1_col0\" class=\"data row1 col0\" >电缆模块</td>\n",
       "            </tr>\n",
       "            <tr>\n",
       "                        <th id=\"T_a52b2_level0_row2\" class=\"row_heading level0 row2\" >2</th>\n",
       "                        <td id=\"T_a52b2_row2_col0\" class=\"data row2 col0\" >北京数据采录</td>\n",
       "            </tr>\n",
       "            <tr>\n",
       "                        <th id=\"T_a52b2_level0_row3\" class=\"row_heading level0 row3\" >3</th>\n",
       "                        <td id=\"T_a52b2_row3_col0\" class=\"data row3 col0\" >冀北数据采录</td>\n",
       "            </tr>\n",
       "            <tr>\n",
       "                        <th id=\"T_a52b2_level0_row4\" class=\"row_heading level0 row4\" >4</th>\n",
       "                        <td id=\"T_a52b2_row4_col0\" class=\"data row4 col0\" >pms2.0</td>\n",
       "            </tr>\n",
       "            <tr>\n",
       "                        <th id=\"T_a52b2_level0_row5\" class=\"row_heading level0 row5\" >5</th>\n",
       "                        <td id=\"T_a52b2_row5_col0\" class=\"data row5 col0\" >配网通信GIS</td>\n",
       "            </tr>\n",
       "            <tr>\n",
       "                        <th id=\"T_a52b2_level0_row6\" class=\"row_heading level0 row6\" >6</th>\n",
       "                        <td id=\"T_a52b2_row6_col0\" class=\"data row6 col0\" >GIS1.6      </td>\n",
       "            </tr>\n",
       "            <tr>\n",
       "                        <th id=\"T_a52b2_level0_row7\" class=\"row_heading level0 row7\" >7</th>\n",
       "                        <td id=\"T_a52b2_row7_col0\" class=\"data row7 col0\" >GIS1.5</td>\n",
       "            </tr>\n",
       "            <tr>\n",
       "                        <th id=\"T_a52b2_level0_row8\" class=\"row_heading level0 row8\" >8</th>\n",
       "                        <td id=\"T_a52b2_row8_col0\" class=\"data row8 col0\" >新疆管网</td>\n",
       "            </tr>\n",
       "            <tr>\n",
       "                        <th id=\"T_a52b2_level0_row9\" class=\"row_heading level0 row9\" >9</th>\n",
       "                        <td id=\"T_a52b2_row9_col0\" class=\"data row9 col0\" >江苏管网      </td>\n",
       "            </tr>\n",
       "    </tbody></table>"
      ],
      "text/plain": [
       "<pandas.io.formats.style.Styler at 0x7f87299810d0>"
      ]
     },
     "execution_count": 24,
     "metadata": {},
     "output_type": "execute_result"
    }
   ],
   "source": [
    "# pandas-table-style!\n",
    "projectDF.head(20).style.set_table_styles(\n",
    "[{'selector': 'tr:nth-of-type(odd)','props': [('background', 'eee')]},\n",
    " {'selector': 'tr:nth-of-type(even)','props': [('background', 'white')]},\n",
    " {'selector': 'th','props': [('background', '#606060'), \n",
    "                             ('color', 'white'),\n",
    "                             ('font-family', 'verdana')]},\n",
    " {'selector': 'td','props': [('font-family', 'verdana')]}\n",
    "])"
   ]
  },
  {
   "cell_type": "code",
   "execution_count": 25,
   "id": "dc6ddc7a",
   "metadata": {
    "scrolled": true
   },
   "outputs": [
    {
     "data": {
      "text/html": [
       "<style  type=\"text/css\" >\n",
       "    #T_fedc2_ tr:nth-of-type(odd) {\n",
       "          background: eee;\n",
       "    }    #T_fedc2_ tr:nth-of-type(even) {\n",
       "          background: white;\n",
       "    }    #T_fedc2_ th {\n",
       "          background: #606060;\n",
       "          color: white;\n",
       "          font-family: verdana;\n",
       "    }    #T_fedc2_ td {\n",
       "          font-family: verdana;\n",
       "    }</style><table id=\"T_fedc2_\" ><thead>    <tr>        <th class=\"blank level0\" ></th>        <th class=\"col_heading level0 col0\" >id</th>    </tr></thead><tbody>\n",
       "                <tr>\n",
       "                        <th id=\"T_fedc2_level0_row0\" class=\"row_heading level0 row0\" >0</th>\n",
       "                        <td id=\"T_fedc2_row0_col0\" class=\"data row0 col0\" >华北大区</td>\n",
       "            </tr>\n",
       "            <tr>\n",
       "                        <th id=\"T_fedc2_level0_row1\" class=\"row_heading level0 row1\" >1</th>\n",
       "                        <td id=\"T_fedc2_row1_col0\" class=\"data row1 col0\" >物资部</td>\n",
       "            </tr>\n",
       "            <tr>\n",
       "                        <th id=\"T_fedc2_level0_row2\" class=\"row_heading level0 row2\" >2</th>\n",
       "                        <td id=\"T_fedc2_row2_col0\" class=\"data row2 col0\" >物联网中心</td>\n",
       "            </tr>\n",
       "            <tr>\n",
       "                        <th id=\"T_fedc2_level0_row3\" class=\"row_heading level0 row3\" >3</th>\n",
       "                        <td id=\"T_fedc2_row3_col0\" class=\"data row3 col0\" >人资部</td>\n",
       "            </tr>\n",
       "            <tr>\n",
       "                        <th id=\"T_fedc2_level0_row4\" class=\"row_heading level0 row4\" >4</th>\n",
       "                        <td id=\"T_fedc2_row4_col0\" class=\"data row4 col0\" >研发中心</td>\n",
       "            </tr>\n",
       "            <tr>\n",
       "                        <th id=\"T_fedc2_level0_row5\" class=\"row_heading level0 row5\" >5</th>\n",
       "                        <td id=\"T_fedc2_row5_col0\" class=\"data row5 col0\" >生技部</td>\n",
       "            </tr>\n",
       "            <tr>\n",
       "                        <th id=\"T_fedc2_level0_row6\" class=\"row_heading level0 row6\" >6</th>\n",
       "                        <td id=\"T_fedc2_row6_col0\" class=\"data row6 col0\" >综合办</td>\n",
       "            </tr>\n",
       "            <tr>\n",
       "                        <th id=\"T_fedc2_level0_row7\" class=\"row_heading level0 row7\" >7</th>\n",
       "                        <td id=\"T_fedc2_row7_col0\" class=\"data row7 col0\" >测试部</td>\n",
       "            </tr>\n",
       "    </tbody></table>"
      ],
      "text/plain": [
       "<pandas.io.formats.style.Styler at 0x7f8729981ac0>"
      ]
     },
     "execution_count": 25,
     "metadata": {},
     "output_type": "execute_result"
    }
   ],
   "source": [
    "# pandas-table-style!\n",
    "yiliDF.head(20).style.set_table_styles(\n",
    "[{'selector': 'tr:nth-of-type(odd)','props': [('background', 'eee')]},\n",
    " {'selector': 'tr:nth-of-type(even)','props': [('background', 'white')]},\n",
    " {'selector': 'th','props': [('background', '#606060'), \n",
    "                             ('color', 'white'),\n",
    "                             ('font-family', 'verdana')]},\n",
    " {'selector': 'td','props': [('font-family', 'verdana')]}\n",
    "])"
   ]
  },
  {
   "cell_type": "code",
   "execution_count": 26,
   "id": "29896514",
   "metadata": {
    "scrolled": true
   },
   "outputs": [
    {
     "data": {
      "text/html": [
       "<style  type=\"text/css\" >\n",
       "    #T_87db4_ tr:nth-of-type(odd) {\n",
       "          background: eee;\n",
       "    }    #T_87db4_ tr:nth-of-type(even) {\n",
       "          background: white;\n",
       "    }    #T_87db4_ th {\n",
       "          background: #606060;\n",
       "          color: white;\n",
       "          font-family: verdana;\n",
       "    }    #T_87db4_ td {\n",
       "          font-family: verdana;\n",
       "    }</style><table id=\"T_87db4_\" ><thead>    <tr>        <th class=\"blank level0\" ></th>        <th class=\"col_heading level0 col0\" >id</th>    </tr></thead><tbody>\n",
       "                <tr>\n",
       "                        <th id=\"T_87db4_level0_row0\" class=\"row_heading level0 row0\" >0</th>\n",
       "                        <td id=\"T_87db4_row0_col0\" class=\"data row0 col0\" >典型应用框架</td>\n",
       "            </tr>\n",
       "            <tr>\n",
       "                        <th id=\"T_87db4_level0_row1\" class=\"row_heading level0 row1\" >1</th>\n",
       "                        <td id=\"T_87db4_row1_col0\" class=\"data row1 col0\" >图形客户端</td>\n",
       "            </tr>\n",
       "            <tr>\n",
       "                        <th id=\"T_87db4_level0_row2\" class=\"row_heading level0 row2\" >2</th>\n",
       "                        <td id=\"T_87db4_row2_col0\" class=\"data row2 col0\" >监控模块</td>\n",
       "            </tr>\n",
       "            <tr>\n",
       "                        <th id=\"T_87db4_level0_row3\" class=\"row_heading level0 row3\" >3</th>\n",
       "                        <td id=\"T_87db4_row3_col0\" class=\"data row3 col0\" >生产业务流程</td>\n",
       "            </tr>\n",
       "            <tr>\n",
       "                        <th id=\"T_87db4_level0_row4\" class=\"row_heading level0 row4\" >4</th>\n",
       "                        <td id=\"T_87db4_row4_col0\" class=\"data row4 col0\" >数据迁移工具</td>\n",
       "            </tr>\n",
       "            <tr>\n",
       "                        <th id=\"T_87db4_level0_row5\" class=\"row_heading level0 row5\" >5</th>\n",
       "                        <td id=\"T_87db4_row5_col0\" class=\"data row5 col0\" >项目实施</td>\n",
       "            </tr>\n",
       "            <tr>\n",
       "                        <th id=\"T_87db4_level0_row6\" class=\"row_heading level0 row6\" >6</th>\n",
       "                        <td id=\"T_87db4_row6_col0\" class=\"data row6 col0\" >管网辅助服务</td>\n",
       "            </tr>\n",
       "            <tr>\n",
       "                        <th id=\"T_87db4_level0_row7\" class=\"row_heading level0 row7\" >7</th>\n",
       "                        <td id=\"T_87db4_row7_col0\" class=\"data row7 col0\" >数据字典实施</td>\n",
       "            </tr>\n",
       "    </tbody></table>"
      ],
      "text/plain": [
       "<pandas.io.formats.style.Styler at 0x7f87299295b0>"
      ]
     },
     "execution_count": 26,
     "metadata": {},
     "output_type": "execute_result"
    }
   ],
   "source": [
    "# pandas-table-style!\n",
    "developDF.head(20).style.set_table_styles(\n",
    "[{'selector': 'tr:nth-of-type(odd)','props': [('background', 'eee')]},\n",
    " {'selector': 'tr:nth-of-type(even)','props': [('background', 'white')]},\n",
    " {'selector': 'th','props': [('background', '#606060'), \n",
    "                             ('color', 'white'),\n",
    "                             ('font-family', 'verdana')]},\n",
    " {'selector': 'td','props': [('font-family', 'verdana')]}\n",
    "])"
   ]
  },
  {
   "cell_type": "code",
   "execution_count": 27,
   "id": "9fee0289",
   "metadata": {
    "scrolled": true
   },
   "outputs": [
    {
     "data": {
      "text/html": [
       "<style  type=\"text/css\" >\n",
       "    #T_12915_ tr:nth-of-type(odd) {\n",
       "          background: eee;\n",
       "    }    #T_12915_ tr:nth-of-type(even) {\n",
       "          background: white;\n",
       "    }    #T_12915_ th {\n",
       "          background: #606060;\n",
       "          color: white;\n",
       "          font-family: verdana;\n",
       "    }    #T_12915_ td {\n",
       "          font-family: verdana;\n",
       "    }</style><table id=\"T_12915_\" ><thead>    <tr>        <th class=\"blank level0\" ></th>        <th class=\"col_heading level0 col0\" >id</th>    </tr></thead><tbody>\n",
       "                <tr>\n",
       "                        <th id=\"T_12915_level0_row0\" class=\"row_heading level0 row0\" >0</th>\n",
       "                        <td id=\"T_12915_row0_col0\" class=\"data row0 col0\" >李朝阳</td>\n",
       "            </tr>\n",
       "            <tr>\n",
       "                        <th id=\"T_12915_level0_row1\" class=\"row_heading level0 row1\" >1</th>\n",
       "                        <td id=\"T_12915_row1_col0\" class=\"data row1 col0\" >施明泰</td>\n",
       "            </tr>\n",
       "            <tr>\n",
       "                        <th id=\"T_12915_level0_row2\" class=\"row_heading level0 row2\" >2</th>\n",
       "                        <td id=\"T_12915_row2_col0\" class=\"data row2 col0\" >杨成月</td>\n",
       "            </tr>\n",
       "            <tr>\n",
       "                        <th id=\"T_12915_level0_row3\" class=\"row_heading level0 row3\" >3</th>\n",
       "                        <td id=\"T_12915_row3_col0\" class=\"data row3 col0\" >赵光</td>\n",
       "            </tr>\n",
       "            <tr>\n",
       "                        <th id=\"T_12915_level0_row4\" class=\"row_heading level0 row4\" >4</th>\n",
       "                        <td id=\"T_12915_row4_col0\" class=\"data row4 col0\" >谈辉</td>\n",
       "            </tr>\n",
       "            <tr>\n",
       "                        <th id=\"T_12915_level0_row5\" class=\"row_heading level0 row5\" >5</th>\n",
       "                        <td id=\"T_12915_row5_col0\" class=\"data row5 col0\" >王四光</td>\n",
       "            </tr>\n",
       "            <tr>\n",
       "                        <th id=\"T_12915_level0_row6\" class=\"row_heading level0 row6\" >6</th>\n",
       "                        <td id=\"T_12915_row6_col0\" class=\"data row6 col0\" >庄雅莹</td>\n",
       "            </tr>\n",
       "            <tr>\n",
       "                        <th id=\"T_12915_level0_row7\" class=\"row_heading level0 row7\" >7</th>\n",
       "                        <td id=\"T_12915_row7_col0\" class=\"data row7 col0\" >于彤</td>\n",
       "            </tr>\n",
       "            <tr>\n",
       "                        <th id=\"T_12915_level0_row8\" class=\"row_heading level0 row8\" >8</th>\n",
       "                        <td id=\"T_12915_row8_col0\" class=\"data row8 col0\" >刘辉</td>\n",
       "            </tr>\n",
       "            <tr>\n",
       "                        <th id=\"T_12915_level0_row9\" class=\"row_heading level0 row9\" >9</th>\n",
       "                        <td id=\"T_12915_row9_col0\" class=\"data row9 col0\" >许洋</td>\n",
       "            </tr>\n",
       "            <tr>\n",
       "                        <th id=\"T_12915_level0_row10\" class=\"row_heading level0 row10\" >10</th>\n",
       "                        <td id=\"T_12915_row10_col0\" class=\"data row10 col0\" >林源</td>\n",
       "            </tr>\n",
       "            <tr>\n",
       "                        <th id=\"T_12915_level0_row11\" class=\"row_heading level0 row11\" >11</th>\n",
       "                        <td id=\"T_12915_row11_col0\" class=\"data row11 col0\" >吴献立</td>\n",
       "            </tr>\n",
       "            <tr>\n",
       "                        <th id=\"T_12915_level0_row12\" class=\"row_heading level0 row12\" >12</th>\n",
       "                        <td id=\"T_12915_row12_col0\" class=\"data row12 col0\" >苏文银</td>\n",
       "            </tr>\n",
       "            <tr>\n",
       "                        <th id=\"T_12915_level0_row13\" class=\"row_heading level0 row13\" >13</th>\n",
       "                        <td id=\"T_12915_row13_col0\" class=\"data row13 col0\" >潘立言</td>\n",
       "            </tr>\n",
       "            <tr>\n",
       "                        <th id=\"T_12915_level0_row14\" class=\"row_heading level0 row14\" >14</th>\n",
       "                        <td id=\"T_12915_row14_col0\" class=\"data row14 col0\" >金承武</td>\n",
       "            </tr>\n",
       "            <tr>\n",
       "                        <th id=\"T_12915_level0_row15\" class=\"row_heading level0 row15\" >15</th>\n",
       "                        <td id=\"T_12915_row15_col0\" class=\"data row15 col0\" >易鸣</td>\n",
       "            </tr>\n",
       "            <tr>\n",
       "                        <th id=\"T_12915_level0_row16\" class=\"row_heading level0 row16\" >16</th>\n",
       "                        <td id=\"T_12915_row16_col0\" class=\"data row16 col0\" >林黎明</td>\n",
       "            </tr>\n",
       "            <tr>\n",
       "                        <th id=\"T_12915_level0_row17\" class=\"row_heading level0 row17\" >17</th>\n",
       "                        <td id=\"T_12915_row17_col0\" class=\"data row17 col0\" >纪荣楦</td>\n",
       "            </tr>\n",
       "            <tr>\n",
       "                        <th id=\"T_12915_level0_row18\" class=\"row_heading level0 row18\" >18</th>\n",
       "                        <td id=\"T_12915_row18_col0\" class=\"data row18 col0\" >林翔</td>\n",
       "            </tr>\n",
       "            <tr>\n",
       "                        <th id=\"T_12915_level0_row19\" class=\"row_heading level0 row19\" >19</th>\n",
       "                        <td id=\"T_12915_row19_col0\" class=\"data row19 col0\" >何乐</td>\n",
       "            </tr>\n",
       "            <tr>\n",
       "                        <th id=\"T_12915_level0_row20\" class=\"row_heading level0 row20\" >20</th>\n",
       "                        <td id=\"T_12915_row20_col0\" class=\"data row20 col0\" >陈进彬</td>\n",
       "            </tr>\n",
       "            <tr>\n",
       "                        <th id=\"T_12915_level0_row21\" class=\"row_heading level0 row21\" >21</th>\n",
       "                        <td id=\"T_12915_row21_col0\" class=\"data row21 col0\" >张明鸣</td>\n",
       "            </tr>\n",
       "    </tbody></table>"
      ],
      "text/plain": [
       "<pandas.io.formats.style.Styler at 0x7f8729929c40>"
      ]
     },
     "execution_count": 27,
     "metadata": {},
     "output_type": "execute_result"
    }
   ],
   "source": [
    "# pandas-table-style!\n",
    "yiliPeopleDF.head(30).style.set_table_styles(\n",
    "[{'selector': 'tr:nth-of-type(odd)','props': [('background', 'eee')]},\n",
    " {'selector': 'tr:nth-of-type(even)','props': [('background', 'white')]},\n",
    " {'selector': 'th','props': [('background', '#606060'), \n",
    "                             ('color', 'white'),\n",
    "                             ('font-family', 'verdana')]},\n",
    " {'selector': 'td','props': [('font-family', 'verdana')]}\n",
    "])"
   ]
  },
  {
   "cell_type": "code",
   "execution_count": 28,
   "id": "13f047bb",
   "metadata": {},
   "outputs": [
    {
     "data": {
      "text/html": [
       "<style  type=\"text/css\" >\n",
       "    #T_5c48b_ tr:nth-of-type(odd) {\n",
       "          background: eee;\n",
       "    }    #T_5c48b_ tr:nth-of-type(even) {\n",
       "          background: white;\n",
       "    }    #T_5c48b_ th {\n",
       "          background: #606060;\n",
       "          color: white;\n",
       "          font-family: verdana;\n",
       "    }    #T_5c48b_ td {\n",
       "          font-family: verdana;\n",
       "    }</style><table id=\"T_5c48b_\" ><thead>    <tr>        <th class=\"blank level0\" ></th>        <th class=\"col_heading level0 col0\" >src</th>        <th class=\"col_heading level0 col1\" >dst</th>        <th class=\"col_heading level0 col2\" >relationship</th>    </tr></thead><tbody>\n",
       "                <tr>\n",
       "                        <th id=\"T_5c48b_level0_row0\" class=\"row_heading level0 row0\" >0</th>\n",
       "                        <td id=\"T_5c48b_row0_col0\" class=\"data row0 col0\" >国网运检部</td>\n",
       "                        <td id=\"T_5c48b_row0_col1\" class=\"data row0 col1\" >国家电网</td>\n",
       "                        <td id=\"T_5c48b_row0_col2\" class=\"data row0 col2\" >隶属</td>\n",
       "            </tr>\n",
       "            <tr>\n",
       "                        <th id=\"T_5c48b_level0_row1\" class=\"row_heading level0 row1\" >1</th>\n",
       "                        <td id=\"T_5c48b_row1_col0\" class=\"data row1 col0\" >信息产业集团</td>\n",
       "                        <td id=\"T_5c48b_row1_col1\" class=\"data row1 col1\" >国家电网</td>\n",
       "                        <td id=\"T_5c48b_row1_col2\" class=\"data row1 col2\" >隶属</td>\n",
       "            </tr>\n",
       "            <tr>\n",
       "                        <th id=\"T_5c48b_level0_row2\" class=\"row_heading level0 row2\" >2</th>\n",
       "                        <td id=\"T_5c48b_row2_col0\" class=\"data row2 col0\" >北京电力公司</td>\n",
       "                        <td id=\"T_5c48b_row2_col1\" class=\"data row2 col1\" >国家电网</td>\n",
       "                        <td id=\"T_5c48b_row2_col2\" class=\"data row2 col2\" >隶属</td>\n",
       "            </tr>\n",
       "            <tr>\n",
       "                        <th id=\"T_5c48b_level0_row3\" class=\"row_heading level0 row3\" >3</th>\n",
       "                        <td id=\"T_5c48b_row3_col0\" class=\"data row3 col0\" >湖北电力公司</td>\n",
       "                        <td id=\"T_5c48b_row3_col1\" class=\"data row3 col1\" >国家电网</td>\n",
       "                        <td id=\"T_5c48b_row3_col2\" class=\"data row3 col2\" >隶属</td>\n",
       "            </tr>\n",
       "            <tr>\n",
       "                        <th id=\"T_5c48b_level0_row4\" class=\"row_heading level0 row4\" >4</th>\n",
       "                        <td id=\"T_5c48b_row4_col0\" class=\"data row4 col0\" >冀北电力公司</td>\n",
       "                        <td id=\"T_5c48b_row4_col1\" class=\"data row4 col1\" >国家电网</td>\n",
       "                        <td id=\"T_5c48b_row4_col2\" class=\"data row4 col2\" >隶属</td>\n",
       "            </tr>\n",
       "            <tr>\n",
       "                        <th id=\"T_5c48b_level0_row5\" class=\"row_heading level0 row5\" >5</th>\n",
       "                        <td id=\"T_5c48b_row5_col0\" class=\"data row5 col0\" >华商管道公司</td>\n",
       "                        <td id=\"T_5c48b_row5_col1\" class=\"data row5 col1\" >北京电力公司</td>\n",
       "                        <td id=\"T_5c48b_row5_col2\" class=\"data row5 col2\" >隶属</td>\n",
       "            </tr>\n",
       "            <tr>\n",
       "                        <th id=\"T_5c48b_level0_row6\" class=\"row_heading level0 row6\" >6</th>\n",
       "                        <td id=\"T_5c48b_row6_col0\" class=\"data row6 col0\" >信通分公司</td>\n",
       "                        <td id=\"T_5c48b_row6_col1\" class=\"data row6 col1\" >北京电力公司</td>\n",
       "                        <td id=\"T_5c48b_row6_col2\" class=\"data row6 col2\" >隶属</td>\n",
       "            </tr>\n",
       "            <tr>\n",
       "                        <th id=\"T_5c48b_level0_row7\" class=\"row_heading level0 row7\" >7</th>\n",
       "                        <td id=\"T_5c48b_row7_col0\" class=\"data row7 col0\" >北京运检部</td>\n",
       "                        <td id=\"T_5c48b_row7_col1\" class=\"data row7 col1\" >北京电力公司</td>\n",
       "                        <td id=\"T_5c48b_row7_col2\" class=\"data row7 col2\" >隶属</td>\n",
       "            </tr>\n",
       "            <tr>\n",
       "                        <th id=\"T_5c48b_level0_row8\" class=\"row_heading level0 row8\" >8</th>\n",
       "                        <td id=\"T_5c48b_row8_col0\" class=\"data row8 col0\" >亦庄电力公司</td>\n",
       "                        <td id=\"T_5c48b_row8_col1\" class=\"data row8 col1\" >北京电力公司</td>\n",
       "                        <td id=\"T_5c48b_row8_col2\" class=\"data row8 col2\" >隶属</td>\n",
       "            </tr>\n",
       "            <tr>\n",
       "                        <th id=\"T_5c48b_level0_row9\" class=\"row_heading level0 row9\" >9</th>\n",
       "                        <td id=\"T_5c48b_row9_col0\" class=\"data row9 col0\" >检修分公司</td>\n",
       "                        <td id=\"T_5c48b_row9_col1\" class=\"data row9 col1\" >北京电力公司</td>\n",
       "                        <td id=\"T_5c48b_row9_col2\" class=\"data row9 col2\" >隶属</td>\n",
       "            </tr>\n",
       "            <tr>\n",
       "                        <th id=\"T_5c48b_level0_row10\" class=\"row_heading level0 row10\" >10</th>\n",
       "                        <td id=\"T_5c48b_row10_col0\" class=\"data row10 col0\" >北京运检部</td>\n",
       "                        <td id=\"T_5c48b_row10_col1\" class=\"data row10 col1\" >检修分公司</td>\n",
       "                        <td id=\"T_5c48b_row10_col2\" class=\"data row10 col2\" >考核</td>\n",
       "            </tr>\n",
       "            <tr>\n",
       "                        <th id=\"T_5c48b_level0_row11\" class=\"row_heading level0 row11\" >11</th>\n",
       "                        <td id=\"T_5c48b_row11_col0\" class=\"data row11 col0\" >厦门亿力吉奥</td>\n",
       "                        <td id=\"T_5c48b_row11_col1\" class=\"data row11 col1\" >信息产业集团</td>\n",
       "                        <td id=\"T_5c48b_row11_col2\" class=\"data row11 col2\" >隶属</td>\n",
       "            </tr>\n",
       "    </tbody></table>"
      ],
      "text/plain": [
       "<pandas.io.formats.style.Styler at 0x7f87299290a0>"
      ]
     },
     "execution_count": 28,
     "metadata": {},
     "output_type": "execute_result"
    }
   ],
   "source": [
    "# pandas-table-style!\n",
    "sgccRelationShipDF.head(30).style.set_table_styles(\n",
    "[{'selector': 'tr:nth-of-type(odd)','props': [('background', 'eee')]},\n",
    " {'selector': 'tr:nth-of-type(even)','props': [('background', 'white')]},\n",
    " {'selector': 'th','props': [('background', '#606060'), \n",
    "                             ('color', 'white'),\n",
    "                             ('font-family', 'verdana')]},\n",
    " {'selector': 'td','props': [('font-family', 'verdana')]}\n",
    "])"
   ]
  },
  {
   "cell_type": "code",
   "execution_count": 29,
   "id": "4a8f409e",
   "metadata": {},
   "outputs": [
    {
     "data": {
      "text/html": [
       "<style  type=\"text/css\" >\n",
       "    #T_7c880_ tr:nth-of-type(odd) {\n",
       "          background: eee;\n",
       "    }    #T_7c880_ tr:nth-of-type(even) {\n",
       "          background: white;\n",
       "    }    #T_7c880_ th {\n",
       "          background: #606060;\n",
       "          color: white;\n",
       "          font-family: verdana;\n",
       "    }    #T_7c880_ td {\n",
       "          font-family: verdana;\n",
       "    }</style><table id=\"T_7c880_\" ><thead>    <tr>        <th class=\"blank level0\" ></th>        <th class=\"col_heading level0 col0\" >src</th>        <th class=\"col_heading level0 col1\" >dst</th>        <th class=\"col_heading level0 col2\" >relationship</th>    </tr></thead><tbody>\n",
       "                <tr>\n",
       "                        <th id=\"T_7c880_level0_row0\" class=\"row_heading level0 row0\" >0</th>\n",
       "                        <td id=\"T_7c880_row0_col0\" class=\"data row0 col0\" >高智益</td>\n",
       "                        <td id=\"T_7c880_row0_col1\" class=\"data row0 col1\" >刘皓</td>\n",
       "                        <td id=\"T_7c880_row0_col2\" class=\"data row0 col2\" >下属</td>\n",
       "            </tr>\n",
       "            <tr>\n",
       "                        <th id=\"T_7c880_level0_row1\" class=\"row_heading level0 row1\" >1</th>\n",
       "                        <td id=\"T_7c880_row1_col0\" class=\"data row1 col0\" >李光</td>\n",
       "                        <td id=\"T_7c880_row1_col1\" class=\"data row1 col1\" >刘皓</td>\n",
       "                        <td id=\"T_7c880_row1_col2\" class=\"data row1 col2\" >下属</td>\n",
       "            </tr>\n",
       "            <tr>\n",
       "                        <th id=\"T_7c880_level0_row2\" class=\"row_heading level0 row2\" >2</th>\n",
       "                        <td id=\"T_7c880_row2_col0\" class=\"data row2 col0\" >周晓楠</td>\n",
       "                        <td id=\"T_7c880_row2_col1\" class=\"data row2 col1\" >赵洋</td>\n",
       "                        <td id=\"T_7c880_row2_col2\" class=\"data row2 col2\" >下属</td>\n",
       "            </tr>\n",
       "            <tr>\n",
       "                        <th id=\"T_7c880_level0_row3\" class=\"row_heading level0 row3\" >3</th>\n",
       "                        <td id=\"T_7c880_row3_col0\" class=\"data row3 col0\" >高智益</td>\n",
       "                        <td id=\"T_7c880_row3_col1\" class=\"data row3 col1\" >周晓楠</td>\n",
       "                        <td id=\"T_7c880_row3_col2\" class=\"data row3 col2\" >考核</td>\n",
       "            </tr>\n",
       "            <tr>\n",
       "                        <th id=\"T_7c880_level0_row4\" class=\"row_heading level0 row4\" >4</th>\n",
       "                        <td id=\"T_7c880_row4_col0\" class=\"data row4 col0\" >林一轩</td>\n",
       "                        <td id=\"T_7c880_row4_col1\" class=\"data row4 col1\" >赵永强</td>\n",
       "                        <td id=\"T_7c880_row4_col2\" class=\"data row4 col2\" >借调专工</td>\n",
       "            </tr>\n",
       "            <tr>\n",
       "                        <th id=\"T_7c880_level0_row5\" class=\"row_heading level0 row5\" >5</th>\n",
       "                        <td id=\"T_7c880_row5_col0\" class=\"data row5 col0\" >刘皓</td>\n",
       "                        <td id=\"T_7c880_row5_col1\" class=\"data row5 col1\" >赵永强</td>\n",
       "                        <td id=\"T_7c880_row5_col2\" class=\"data row5 col2\" >借调专工</td>\n",
       "            </tr>\n",
       "    </tbody></table>"
      ],
      "text/plain": [
       "<pandas.io.formats.style.Styler at 0x7f8729929520>"
      ]
     },
     "execution_count": 29,
     "metadata": {},
     "output_type": "execute_result"
    }
   ],
   "source": [
    "# pandas-table-style!\n",
    "sgccPeopleRelationShipDF.head(30).style.set_table_styles(\n",
    "[{'selector': 'tr:nth-of-type(odd)','props': [('background', 'eee')]},\n",
    " {'selector': 'tr:nth-of-type(even)','props': [('background', 'white')]},\n",
    " {'selector': 'th','props': [('background', '#606060'), \n",
    "                             ('color', 'white'),\n",
    "                             ('font-family', 'verdana')]},\n",
    " {'selector': 'td','props': [('font-family', 'verdana')]}\n",
    "])"
   ]
  },
  {
   "cell_type": "code",
   "execution_count": 30,
   "id": "dd43d2d6",
   "metadata": {},
   "outputs": [
    {
     "data": {
      "text/html": [
       "<style  type=\"text/css\" >\n",
       "    #T_9713e_ tr:nth-of-type(odd) {\n",
       "          background: eee;\n",
       "    }    #T_9713e_ tr:nth-of-type(even) {\n",
       "          background: white;\n",
       "    }    #T_9713e_ th {\n",
       "          background: #606060;\n",
       "          color: white;\n",
       "          font-family: verdana;\n",
       "    }    #T_9713e_ td {\n",
       "          font-family: verdana;\n",
       "    }</style><table id=\"T_9713e_\" ><thead>    <tr>        <th class=\"blank level0\" ></th>        <th class=\"col_heading level0 col0\" >src</th>        <th class=\"col_heading level0 col1\" >dst</th>        <th class=\"col_heading level0 col2\" >relationship</th>    </tr></thead><tbody>\n",
       "                <tr>\n",
       "                        <th id=\"T_9713e_level0_row0\" class=\"row_heading level0 row0\" >0</th>\n",
       "                        <td id=\"T_9713e_row0_col0\" class=\"data row0 col0\" >娄其鹤</td>\n",
       "                        <td id=\"T_9713e_row0_col1\" class=\"data row0 col1\" >北京运检部</td>\n",
       "                        <td id=\"T_9713e_row0_col2\" class=\"data row0 col2\" >副主任</td>\n",
       "            </tr>\n",
       "            <tr>\n",
       "                        <th id=\"T_9713e_level0_row1\" class=\"row_heading level0 row1\" >1</th>\n",
       "                        <td id=\"T_9713e_row1_col0\" class=\"data row1 col0\" >林涛</td>\n",
       "                        <td id=\"T_9713e_row1_col1\" class=\"data row1 col1\" >北京运检部</td>\n",
       "                        <td id=\"T_9713e_row1_col2\" class=\"data row1 col2\" >副主任</td>\n",
       "            </tr>\n",
       "            <tr>\n",
       "                        <th id=\"T_9713e_level0_row2\" class=\"row_heading level0 row2\" >2</th>\n",
       "                        <td id=\"T_9713e_row2_col0\" class=\"data row2 col0\" >林涛</td>\n",
       "                        <td id=\"T_9713e_row2_col1\" class=\"data row2 col1\" >北京运检部</td>\n",
       "                        <td id=\"T_9713e_row2_col2\" class=\"data row2 col2\" >副主任</td>\n",
       "            </tr>\n",
       "            <tr>\n",
       "                        <th id=\"T_9713e_level0_row3\" class=\"row_heading level0 row3\" >3</th>\n",
       "                        <td id=\"T_9713e_row3_col0\" class=\"data row3 col0\" >赵永强</td>\n",
       "                        <td id=\"T_9713e_row3_col1\" class=\"data row3 col1\" >北京运检部</td>\n",
       "                        <td id=\"T_9713e_row3_col2\" class=\"data row3 col2\" >运行处处长</td>\n",
       "            </tr>\n",
       "            <tr>\n",
       "                        <th id=\"T_9713e_level0_row4\" class=\"row_heading level0 row4\" >4</th>\n",
       "                        <td id=\"T_9713e_row4_col0\" class=\"data row4 col0\" >林一轩</td>\n",
       "                        <td id=\"T_9713e_row4_col1\" class=\"data row4 col1\" >检修分公司</td>\n",
       "                        <td id=\"T_9713e_row4_col2\" class=\"data row4 col2\" >隶属</td>\n",
       "            </tr>\n",
       "            <tr>\n",
       "                        <th id=\"T_9713e_level0_row5\" class=\"row_heading level0 row5\" >5</th>\n",
       "                        <td id=\"T_9713e_row5_col0\" class=\"data row5 col0\" >刘皓</td>\n",
       "                        <td id=\"T_9713e_row5_col1\" class=\"data row5 col1\" >检修分公司</td>\n",
       "                        <td id=\"T_9713e_row5_col2\" class=\"data row5 col2\" >隶属</td>\n",
       "            </tr>\n",
       "            <tr>\n",
       "                        <th id=\"T_9713e_level0_row6\" class=\"row_heading level0 row6\" >6</th>\n",
       "                        <td id=\"T_9713e_row6_col0\" class=\"data row6 col0\" >赵洋</td>\n",
       "                        <td id=\"T_9713e_row6_col1\" class=\"data row6 col1\" >检修分公司</td>\n",
       "                        <td id=\"T_9713e_row6_col2\" class=\"data row6 col2\" >隶属</td>\n",
       "            </tr>\n",
       "            <tr>\n",
       "                        <th id=\"T_9713e_level0_row7\" class=\"row_heading level0 row7\" >7</th>\n",
       "                        <td id=\"T_9713e_row7_col0\" class=\"data row7 col0\" >刘润生</td>\n",
       "                        <td id=\"T_9713e_row7_col1\" class=\"data row7 col1\" >北京电力公司</td>\n",
       "                        <td id=\"T_9713e_row7_col2\" class=\"data row7 col2\" >副总经理</td>\n",
       "            </tr>\n",
       "            <tr>\n",
       "                        <th id=\"T_9713e_level0_row8\" class=\"row_heading level0 row8\" >8</th>\n",
       "                        <td id=\"T_9713e_row8_col0\" class=\"data row8 col0\" >罗辉</td>\n",
       "                        <td id=\"T_9713e_row8_col1\" class=\"data row8 col1\" >亦庄电力公司</td>\n",
       "                        <td id=\"T_9713e_row8_col2\" class=\"data row8 col2\" >隶属</td>\n",
       "            </tr>\n",
       "            <tr>\n",
       "                        <th id=\"T_9713e_level0_row9\" class=\"row_heading level0 row9\" >9</th>\n",
       "                        <td id=\"T_9713e_row9_col0\" class=\"data row9 col0\" >陆醒晔</td>\n",
       "                        <td id=\"T_9713e_row9_col1\" class=\"data row9 col1\" >北京电力公司</td>\n",
       "                        <td id=\"T_9713e_row9_col2\" class=\"data row9 col2\" >隶属</td>\n",
       "            </tr>\n",
       "            <tr>\n",
       "                        <th id=\"T_9713e_level0_row10\" class=\"row_heading level0 row10\" >10</th>\n",
       "                        <td id=\"T_9713e_row10_col0\" class=\"data row10 col0\" >叶妍</td>\n",
       "                        <td id=\"T_9713e_row10_col1\" class=\"data row10 col1\" >信通分公司</td>\n",
       "                        <td id=\"T_9713e_row10_col2\" class=\"data row10 col2\" >总工</td>\n",
       "            </tr>\n",
       "    </tbody></table>"
      ],
      "text/plain": [
       "<pandas.io.formats.style.Styler at 0x7f87299294f0>"
      ]
     },
     "execution_count": 30,
     "metadata": {},
     "output_type": "execute_result"
    }
   ],
   "source": [
    "# pandas-table-style!\n",
    "sgccPeopleCompanyRelationShipDF.head(30).style.set_table_styles(\n",
    "[{'selector': 'tr:nth-of-type(odd)','props': [('background', 'eee')]},\n",
    " {'selector': 'tr:nth-of-type(even)','props': [('background', 'white')]},\n",
    " {'selector': 'th','props': [('background', '#606060'), \n",
    "                             ('color', 'white'),\n",
    "                             ('font-family', 'verdana')]},\n",
    " {'selector': 'td','props': [('font-family', 'verdana')]}\n",
    "])"
   ]
  },
  {
   "cell_type": "code",
   "execution_count": 31,
   "id": "cd750a8a",
   "metadata": {},
   "outputs": [
    {
     "data": {
      "text/html": [
       "<style  type=\"text/css\" >\n",
       "    #T_9a066_ tr:nth-of-type(odd) {\n",
       "          background: eee;\n",
       "    }    #T_9a066_ tr:nth-of-type(even) {\n",
       "          background: white;\n",
       "    }    #T_9a066_ th {\n",
       "          background: #606060;\n",
       "          color: white;\n",
       "          font-family: verdana;\n",
       "    }    #T_9a066_ td {\n",
       "          font-family: verdana;\n",
       "    }</style><table id=\"T_9a066_\" ><thead>    <tr>        <th class=\"blank level0\" ></th>        <th class=\"col_heading level0 col0\" >src</th>        <th class=\"col_heading level0 col1\" >dst</th>        <th class=\"col_heading level0 col2\" >relationship</th>    </tr></thead><tbody>\n",
       "                <tr>\n",
       "                        <th id=\"T_9a066_level0_row0\" class=\"row_heading level0 row0\" >0</th>\n",
       "                        <td id=\"T_9a066_row0_col0\" class=\"data row0 col0\" >华北大区</td>\n",
       "                        <td id=\"T_9a066_row0_col1\" class=\"data row0 col1\" >厦门亿力吉奥</td>\n",
       "                        <td id=\"T_9a066_row0_col2\" class=\"data row0 col2\" >隶属</td>\n",
       "            </tr>\n",
       "            <tr>\n",
       "                        <th id=\"T_9a066_level0_row1\" class=\"row_heading level0 row1\" >1</th>\n",
       "                        <td id=\"T_9a066_row1_col0\" class=\"data row1 col0\" >物资部</td>\n",
       "                        <td id=\"T_9a066_row1_col1\" class=\"data row1 col1\" >厦门亿力吉奥</td>\n",
       "                        <td id=\"T_9a066_row1_col2\" class=\"data row1 col2\" >隶属</td>\n",
       "            </tr>\n",
       "            <tr>\n",
       "                        <th id=\"T_9a066_level0_row2\" class=\"row_heading level0 row2\" >2</th>\n",
       "                        <td id=\"T_9a066_row2_col0\" class=\"data row2 col0\" >物联网中心</td>\n",
       "                        <td id=\"T_9a066_row2_col1\" class=\"data row2 col1\" >厦门亿力吉奥</td>\n",
       "                        <td id=\"T_9a066_row2_col2\" class=\"data row2 col2\" >隶属</td>\n",
       "            </tr>\n",
       "            <tr>\n",
       "                        <th id=\"T_9a066_level0_row3\" class=\"row_heading level0 row3\" >3</th>\n",
       "                        <td id=\"T_9a066_row3_col0\" class=\"data row3 col0\" >人资部</td>\n",
       "                        <td id=\"T_9a066_row3_col1\" class=\"data row3 col1\" >厦门亿力吉奥</td>\n",
       "                        <td id=\"T_9a066_row3_col2\" class=\"data row3 col2\" >隶属</td>\n",
       "            </tr>\n",
       "            <tr>\n",
       "                        <th id=\"T_9a066_level0_row4\" class=\"row_heading level0 row4\" >4</th>\n",
       "                        <td id=\"T_9a066_row4_col0\" class=\"data row4 col0\" >研发中心</td>\n",
       "                        <td id=\"T_9a066_row4_col1\" class=\"data row4 col1\" >厦门亿力吉奥</td>\n",
       "                        <td id=\"T_9a066_row4_col2\" class=\"data row4 col2\" >隶属</td>\n",
       "            </tr>\n",
       "            <tr>\n",
       "                        <th id=\"T_9a066_level0_row5\" class=\"row_heading level0 row5\" >5</th>\n",
       "                        <td id=\"T_9a066_row5_col0\" class=\"data row5 col0\" >综合办</td>\n",
       "                        <td id=\"T_9a066_row5_col1\" class=\"data row5 col1\" >厦门亿力吉奥</td>\n",
       "                        <td id=\"T_9a066_row5_col2\" class=\"data row5 col2\" >隶属</td>\n",
       "            </tr>\n",
       "            <tr>\n",
       "                        <th id=\"T_9a066_level0_row6\" class=\"row_heading level0 row6\" >6</th>\n",
       "                        <td id=\"T_9a066_row6_col0\" class=\"data row6 col0\" >生技部</td>\n",
       "                        <td id=\"T_9a066_row6_col1\" class=\"data row6 col1\" >厦门亿力吉奥</td>\n",
       "                        <td id=\"T_9a066_row6_col2\" class=\"data row6 col2\" >隶属</td>\n",
       "            </tr>\n",
       "            <tr>\n",
       "                        <th id=\"T_9a066_level0_row7\" class=\"row_heading level0 row7\" >7</th>\n",
       "                        <td id=\"T_9a066_row7_col0\" class=\"data row7 col0\" >测试部</td>\n",
       "                        <td id=\"T_9a066_row7_col1\" class=\"data row7 col1\" >厦门亿力吉奥</td>\n",
       "                        <td id=\"T_9a066_row7_col2\" class=\"data row7 col2\" >隶属</td>\n",
       "            </tr>\n",
       "    </tbody></table>"
      ],
      "text/plain": [
       "<pandas.io.formats.style.Styler at 0x7f87299811f0>"
      ]
     },
     "execution_count": 31,
     "metadata": {},
     "output_type": "execute_result"
    }
   ],
   "source": [
    "# pandas-table-style!\n",
    "yiliRelationShipDF.head(30).style.set_table_styles(\n",
    "[{'selector': 'tr:nth-of-type(odd)','props': [('background', 'eee')]},\n",
    " {'selector': 'tr:nth-of-type(even)','props': [('background', 'white')]},\n",
    " {'selector': 'th','props': [('background', '#606060'), \n",
    "                             ('color', 'white'),\n",
    "                             ('font-family', 'verdana')]},\n",
    " {'selector': 'td','props': [('font-family', 'verdana')]}\n",
    "])"
   ]
  },
  {
   "cell_type": "code",
   "execution_count": 32,
   "id": "bc34f820",
   "metadata": {},
   "outputs": [
    {
     "data": {
      "text/html": [
       "<style  type=\"text/css\" >\n",
       "    #T_8d952_ tr:nth-of-type(odd) {\n",
       "          background: eee;\n",
       "    }    #T_8d952_ tr:nth-of-type(even) {\n",
       "          background: white;\n",
       "    }    #T_8d952_ th {\n",
       "          background: #606060;\n",
       "          color: white;\n",
       "          font-family: verdana;\n",
       "    }    #T_8d952_ td {\n",
       "          font-family: verdana;\n",
       "    }</style><table id=\"T_8d952_\" ><thead>    <tr>        <th class=\"blank level0\" ></th>        <th class=\"col_heading level0 col0\" >src</th>        <th class=\"col_heading level0 col1\" >dst</th>        <th class=\"col_heading level0 col2\" >relationship</th>    </tr></thead><tbody>\n",
       "                <tr>\n",
       "                        <th id=\"T_8d952_level0_row0\" class=\"row_heading level0 row0\" >0</th>\n",
       "                        <td id=\"T_8d952_row0_col0\" class=\"data row0 col0\" >谈辉</td>\n",
       "                        <td id=\"T_8d952_row0_col1\" class=\"data row0 col1\" >华北大区</td>\n",
       "                        <td id=\"T_8d952_row0_col2\" class=\"data row0 col2\" >主任</td>\n",
       "            </tr>\n",
       "            <tr>\n",
       "                        <th id=\"T_8d952_level0_row1\" class=\"row_heading level0 row1\" >1</th>\n",
       "                        <td id=\"T_8d952_row1_col0\" class=\"data row1 col0\" >潘立言</td>\n",
       "                        <td id=\"T_8d952_row1_col1\" class=\"data row1 col1\" >华北大区</td>\n",
       "                        <td id=\"T_8d952_row1_col2\" class=\"data row1 col2\" >主任助理</td>\n",
       "            </tr>\n",
       "            <tr>\n",
       "                        <th id=\"T_8d952_level0_row2\" class=\"row_heading level0 row2\" >2</th>\n",
       "                        <td id=\"T_8d952_row2_col0\" class=\"data row2 col0\" >吴献立</td>\n",
       "                        <td id=\"T_8d952_row2_col1\" class=\"data row2 col1\" >华北大区</td>\n",
       "                        <td id=\"T_8d952_row2_col2\" class=\"data row2 col2\" >片区经理</td>\n",
       "            </tr>\n",
       "            <tr>\n",
       "                        <th id=\"T_8d952_level0_row3\" class=\"row_heading level0 row3\" >3</th>\n",
       "                        <td id=\"T_8d952_row3_col0\" class=\"data row3 col0\" >王四光</td>\n",
       "                        <td id=\"T_8d952_row3_col1\" class=\"data row3 col1\" >物资部</td>\n",
       "                        <td id=\"T_8d952_row3_col2\" class=\"data row3 col2\" >主任</td>\n",
       "            </tr>\n",
       "            <tr>\n",
       "                        <th id=\"T_8d952_level0_row4\" class=\"row_heading level0 row4\" >4</th>\n",
       "                        <td id=\"T_8d952_row4_col0\" class=\"data row4 col0\" >林黎明</td>\n",
       "                        <td id=\"T_8d952_row4_col1\" class=\"data row4 col1\" >研发中心</td>\n",
       "                        <td id=\"T_8d952_row4_col2\" class=\"data row4 col2\" >副主任</td>\n",
       "            </tr>\n",
       "            <tr>\n",
       "                        <th id=\"T_8d952_level0_row5\" class=\"row_heading level0 row5\" >5</th>\n",
       "                        <td id=\"T_8d952_row5_col0\" class=\"data row5 col0\" >苏文银</td>\n",
       "                        <td id=\"T_8d952_row5_col1\" class=\"data row5 col1\" >研发中心</td>\n",
       "                        <td id=\"T_8d952_row5_col2\" class=\"data row5 col2\" >隶属</td>\n",
       "            </tr>\n",
       "            <tr>\n",
       "                        <th id=\"T_8d952_level0_row6\" class=\"row_heading level0 row6\" >6</th>\n",
       "                        <td id=\"T_8d952_row6_col0\" class=\"data row6 col0\" >刘辉</td>\n",
       "                        <td id=\"T_8d952_row6_col1\" class=\"data row6 col1\" >生技部</td>\n",
       "                        <td id=\"T_8d952_row6_col2\" class=\"data row6 col2\" >隶属</td>\n",
       "            </tr>\n",
       "            <tr>\n",
       "                        <th id=\"T_8d952_level0_row7\" class=\"row_heading level0 row7\" >7</th>\n",
       "                        <td id=\"T_8d952_row7_col0\" class=\"data row7 col0\" >纪荣楦</td>\n",
       "                        <td id=\"T_8d952_row7_col1\" class=\"data row7 col1\" >人资部</td>\n",
       "                        <td id=\"T_8d952_row7_col2\" class=\"data row7 col2\" >主任</td>\n",
       "            </tr>\n",
       "            <tr>\n",
       "                        <th id=\"T_8d952_level0_row8\" class=\"row_heading level0 row8\" >8</th>\n",
       "                        <td id=\"T_8d952_row8_col0\" class=\"data row8 col0\" >陈进彬</td>\n",
       "                        <td id=\"T_8d952_row8_col1\" class=\"data row8 col1\" >测试部</td>\n",
       "                        <td id=\"T_8d952_row8_col2\" class=\"data row8 col2\" >隶属</td>\n",
       "            </tr>\n",
       "            <tr>\n",
       "                        <th id=\"T_8d952_level0_row9\" class=\"row_heading level0 row9\" >9</th>\n",
       "                        <td id=\"T_8d952_row9_col0\" class=\"data row9 col0\" >林翔</td>\n",
       "                        <td id=\"T_8d952_row9_col1\" class=\"data row9 col1\" >综合办</td>\n",
       "                        <td id=\"T_8d952_row9_col2\" class=\"data row9 col2\" >隶属</td>\n",
       "            </tr>\n",
       "            <tr>\n",
       "                        <th id=\"T_8d952_level0_row10\" class=\"row_heading level0 row10\" >10</th>\n",
       "                        <td id=\"T_8d952_row10_col0\" class=\"data row10 col0\" >李朝阳</td>\n",
       "                        <td id=\"T_8d952_row10_col1\" class=\"data row10 col1\" >华北大区</td>\n",
       "                        <td id=\"T_8d952_row10_col2\" class=\"data row10 col2\" >分管领导</td>\n",
       "            </tr>\n",
       "            <tr>\n",
       "                        <th id=\"T_8d952_level0_row11\" class=\"row_heading level0 row11\" >11</th>\n",
       "                        <td id=\"T_8d952_row11_col0\" class=\"data row11 col0\" >赵光</td>\n",
       "                        <td id=\"T_8d952_row11_col1\" class=\"data row11 col1\" >研发中心</td>\n",
       "                        <td id=\"T_8d952_row11_col2\" class=\"data row11 col2\" >分管领导</td>\n",
       "            </tr>\n",
       "    </tbody></table>"
      ],
      "text/plain": [
       "<pandas.io.formats.style.Styler at 0x7f87299451f0>"
      ]
     },
     "execution_count": 32,
     "metadata": {},
     "output_type": "execute_result"
    }
   ],
   "source": [
    "# pandas-table-style!\n",
    "yiliPeopleCompanyRelationShipDF.head(30).style.set_table_styles(\n",
    "[{'selector': 'tr:nth-of-type(odd)','props': [('background', 'eee')]},\n",
    " {'selector': 'tr:nth-of-type(even)','props': [('background', 'white')]},\n",
    " {'selector': 'th','props': [('background', '#606060'), \n",
    "                             ('color', 'white'),\n",
    "                             ('font-family', 'verdana')]},\n",
    " {'selector': 'td','props': [('font-family', 'verdana')]}\n",
    "])"
   ]
  },
  {
   "cell_type": "code",
   "execution_count": 33,
   "id": "ae50c114",
   "metadata": {},
   "outputs": [
    {
     "data": {
      "text/html": [
       "<style  type=\"text/css\" >\n",
       "    #T_ff537_ tr:nth-of-type(odd) {\n",
       "          background: eee;\n",
       "    }    #T_ff537_ tr:nth-of-type(even) {\n",
       "          background: white;\n",
       "    }    #T_ff537_ th {\n",
       "          background: #606060;\n",
       "          color: white;\n",
       "          font-family: verdana;\n",
       "    }    #T_ff537_ td {\n",
       "          font-family: verdana;\n",
       "    }</style><table id=\"T_ff537_\" ><thead>    <tr>        <th class=\"blank level0\" ></th>        <th class=\"col_heading level0 col0\" >src</th>        <th class=\"col_heading level0 col1\" >dst</th>        <th class=\"col_heading level0 col2\" >relationship</th>    </tr></thead><tbody>\n",
       "                <tr>\n",
       "                        <th id=\"T_ff537_level0_row0\" class=\"row_heading level0 row0\" >0</th>\n",
       "                        <td id=\"T_ff537_row0_col0\" class=\"data row0 col0\" >林源</td>\n",
       "                        <td id=\"T_ff537_row0_col1\" class=\"data row0 col1\" >谈辉</td>\n",
       "                        <td id=\"T_ff537_row0_col2\" class=\"data row0 col2\" >下属</td>\n",
       "            </tr>\n",
       "            <tr>\n",
       "                        <th id=\"T_ff537_level0_row1\" class=\"row_heading level0 row1\" >1</th>\n",
       "                        <td id=\"T_ff537_row1_col0\" class=\"data row1 col0\" >何乐</td>\n",
       "                        <td id=\"T_ff537_row1_col1\" class=\"data row1 col1\" >谈辉</td>\n",
       "                        <td id=\"T_ff537_row1_col2\" class=\"data row1 col2\" >下属</td>\n",
       "            </tr>\n",
       "            <tr>\n",
       "                        <th id=\"T_ff537_level0_row2\" class=\"row_heading level0 row2\" >2</th>\n",
       "                        <td id=\"T_ff537_row2_col0\" class=\"data row2 col0\" >于彤</td>\n",
       "                        <td id=\"T_ff537_row2_col1\" class=\"data row2 col1\" >谈辉</td>\n",
       "                        <td id=\"T_ff537_row2_col2\" class=\"data row2 col2\" >下属</td>\n",
       "            </tr>\n",
       "            <tr>\n",
       "                        <th id=\"T_ff537_level0_row3\" class=\"row_heading level0 row3\" >3</th>\n",
       "                        <td id=\"T_ff537_row3_col0\" class=\"data row3 col0\" >易鸣</td>\n",
       "                        <td id=\"T_ff537_row3_col1\" class=\"data row3 col1\" >谈辉</td>\n",
       "                        <td id=\"T_ff537_row3_col2\" class=\"data row3 col2\" >下属</td>\n",
       "            </tr>\n",
       "            <tr>\n",
       "                        <th id=\"T_ff537_level0_row4\" class=\"row_heading level0 row4\" >4</th>\n",
       "                        <td id=\"T_ff537_row4_col0\" class=\"data row4 col0\" >金承武</td>\n",
       "                        <td id=\"T_ff537_row4_col1\" class=\"data row4 col1\" >谈辉</td>\n",
       "                        <td id=\"T_ff537_row4_col2\" class=\"data row4 col2\" >下属</td>\n",
       "            </tr>\n",
       "            <tr>\n",
       "                        <th id=\"T_ff537_level0_row5\" class=\"row_heading level0 row5\" >5</th>\n",
       "                        <td id=\"T_ff537_row5_col0\" class=\"data row5 col0\" >许洋</td>\n",
       "                        <td id=\"T_ff537_row5_col1\" class=\"data row5 col1\" >谈辉</td>\n",
       "                        <td id=\"T_ff537_row5_col2\" class=\"data row5 col2\" >下属</td>\n",
       "            </tr>\n",
       "            <tr>\n",
       "                        <th id=\"T_ff537_level0_row6\" class=\"row_heading level0 row6\" >6</th>\n",
       "                        <td id=\"T_ff537_row6_col0\" class=\"data row6 col0\" >庄雅莹</td>\n",
       "                        <td id=\"T_ff537_row6_col1\" class=\"data row6 col1\" >王四光</td>\n",
       "                        <td id=\"T_ff537_row6_col2\" class=\"data row6 col2\" >下属</td>\n",
       "            </tr>\n",
       "            <tr>\n",
       "                        <th id=\"T_ff537_level0_row7\" class=\"row_heading level0 row7\" >7</th>\n",
       "                        <td id=\"T_ff537_row7_col0\" class=\"data row7 col0\" >谈辉</td>\n",
       "                        <td id=\"T_ff537_row7_col1\" class=\"data row7 col1\" >李朝阳</td>\n",
       "                        <td id=\"T_ff537_row7_col2\" class=\"data row7 col2\" >提交回报审核</td>\n",
       "            </tr>\n",
       "    </tbody></table>"
      ],
      "text/plain": [
       "<pandas.io.formats.style.Styler at 0x7f8729945910>"
      ]
     },
     "execution_count": 33,
     "metadata": {},
     "output_type": "execute_result"
    }
   ],
   "source": [
    "# pandas-table-style!\n",
    "yiliPeopleRelationShipDF.head(30).style.set_table_styles(\n",
    "[{'selector': 'tr:nth-of-type(odd)','props': [('background', 'eee')]},\n",
    " {'selector': 'tr:nth-of-type(even)','props': [('background', 'white')]},\n",
    " {'selector': 'th','props': [('background', '#606060'), \n",
    "                             ('color', 'white'),\n",
    "                             ('font-family', 'verdana')]},\n",
    " {'selector': 'td','props': [('font-family', 'verdana')]}\n",
    "])"
   ]
  },
  {
   "cell_type": "code",
   "execution_count": 34,
   "id": "e45bb36c",
   "metadata": {},
   "outputs": [
    {
     "data": {
      "text/html": [
       "<style  type=\"text/css\" >\n",
       "    #T_bafd5_ tr:nth-of-type(odd) {\n",
       "          background: eee;\n",
       "    }    #T_bafd5_ tr:nth-of-type(even) {\n",
       "          background: white;\n",
       "    }    #T_bafd5_ th {\n",
       "          background: #606060;\n",
       "          color: white;\n",
       "          font-family: verdana;\n",
       "    }    #T_bafd5_ td {\n",
       "          font-family: verdana;\n",
       "    }</style><table id=\"T_bafd5_\" ><thead>    <tr>        <th class=\"blank level0\" ></th>        <th class=\"col_heading level0 col0\" >src</th>        <th class=\"col_heading level0 col1\" >dst</th>        <th class=\"col_heading level0 col2\" >relationship</th>    </tr></thead><tbody>\n",
       "                <tr>\n",
       "                        <th id=\"T_bafd5_level0_row0\" class=\"row_heading level0 row0\" >0</th>\n",
       "                        <td id=\"T_bafd5_row0_col0\" class=\"data row0 col0\" >李朝阳</td>\n",
       "                        <td id=\"T_bafd5_row0_col1\" class=\"data row0 col1\" >厦门亿力吉奥</td>\n",
       "                        <td id=\"T_bafd5_row0_col2\" class=\"data row0 col2\" >副总工</td>\n",
       "            </tr>\n",
       "            <tr>\n",
       "                        <th id=\"T_bafd5_level0_row1\" class=\"row_heading level0 row1\" >1</th>\n",
       "                        <td id=\"T_bafd5_row1_col0\" class=\"data row1 col0\" >杨成月</td>\n",
       "                        <td id=\"T_bafd5_row1_col1\" class=\"data row1 col1\" >厦门亿力吉奥</td>\n",
       "                        <td id=\"T_bafd5_row1_col2\" class=\"data row1 col2\" >原总工</td>\n",
       "            </tr>\n",
       "            <tr>\n",
       "                        <th id=\"T_bafd5_level0_row2\" class=\"row_heading level0 row2\" >2</th>\n",
       "                        <td id=\"T_bafd5_row2_col0\" class=\"data row2 col0\" >赵光</td>\n",
       "                        <td id=\"T_bafd5_row2_col1\" class=\"data row2 col1\" >厦门亿力吉奥</td>\n",
       "                        <td id=\"T_bafd5_row2_col2\" class=\"data row2 col2\" >副总工</td>\n",
       "            </tr>\n",
       "            <tr>\n",
       "                        <th id=\"T_bafd5_level0_row3\" class=\"row_heading level0 row3\" >3</th>\n",
       "                        <td id=\"T_bafd5_row3_col0\" class=\"data row3 col0\" >施明泰</td>\n",
       "                        <td id=\"T_bafd5_row3_col1\" class=\"data row3 col1\" >厦门亿力吉奥</td>\n",
       "                        <td id=\"T_bafd5_row3_col2\" class=\"data row3 col2\" >总经理</td>\n",
       "            </tr>\n",
       "            <tr>\n",
       "                        <th id=\"T_bafd5_level0_row4\" class=\"row_heading level0 row4\" >4</th>\n",
       "                        <td id=\"T_bafd5_row4_col0\" class=\"data row4 col0\" >张明鸣</td>\n",
       "                        <td id=\"T_bafd5_row4_col1\" class=\"data row4 col1\" >厦门亿力吉奥</td>\n",
       "                        <td id=\"T_bafd5_row4_col2\" class=\"data row4 col2\" >隶属</td>\n",
       "            </tr>\n",
       "    </tbody></table>"
      ],
      "text/plain": [
       "<pandas.io.formats.style.Styler at 0x7f8729945d60>"
      ]
     },
     "execution_count": 34,
     "metadata": {},
     "output_type": "execute_result"
    }
   ],
   "source": [
    "# pandas-table-style!\n",
    "yiliSgccPeopleCompanyRelationShipDF.head(30).style.set_table_styles(\n",
    "[{'selector': 'tr:nth-of-type(odd)','props': [('background', 'eee')]},\n",
    " {'selector': 'tr:nth-of-type(even)','props': [('background', 'white')]},\n",
    " {'selector': 'th','props': [('background', '#606060'), \n",
    "                             ('color', 'white'),\n",
    "                             ('font-family', 'verdana')]},\n",
    " {'selector': 'td','props': [('font-family', 'verdana')]}\n",
    "])"
   ]
  },
  {
   "cell_type": "code",
   "execution_count": 35,
   "id": "83b878a1",
   "metadata": {},
   "outputs": [
    {
     "name": "stderr",
     "output_type": "stream",
     "text": [
      "13it [00:00, 124.58it/s]\n"
     ]
    }
   ],
   "source": [
    "for i, row in tqdm(sgccPeopleDF.iterrows()):\n",
    "    sgcc_people_node = Node(\"sgcc_people\",name=row[sgccPeopleDF.columns[0]])\n",
    "    saoHei.merge(sgcc_people_node,\"sgcc_people\",\"name\")"
   ]
  },
  {
   "cell_type": "code",
   "execution_count": 36,
   "id": "2a656cb9",
   "metadata": {},
   "outputs": [
    {
     "name": "stderr",
     "output_type": "stream",
     "text": [
      "9it [00:00, 128.27it/s]\n"
     ]
    }
   ],
   "source": [
    "for i, row in tqdm(supplierCompanyDF.iterrows()):\n",
    "    supplier_company_node = Node(\"supplier_company\",name=row[sgccCompanyDF.columns[0]])\n",
    "    saoHei.merge(supplier_company_node,\"supplier_company\",\"name\")"
   ]
  },
  {
   "cell_type": "code",
   "execution_count": 37,
   "id": "c8fe3628",
   "metadata": {},
   "outputs": [
    {
     "name": "stderr",
     "output_type": "stream",
     "text": [
      "19it [00:00, 135.27it/s]\n"
     ]
    }
   ],
   "source": [
    "for i, row in tqdm(supplierPeopleDF.iterrows()):\n",
    "    supplier_people_node = Node(\"supplier_people\",name=row[sgccPeopleDF.columns[0]])\n",
    "    saoHei.merge(supplier_people_node,\"supplier_people\",\"name\")"
   ]
  },
  {
   "cell_type": "code",
   "execution_count": 38,
   "id": "9a5478bd",
   "metadata": {},
   "outputs": [
    {
     "name": "stderr",
     "output_type": "stream",
     "text": [
      "8it [00:00, 140.21it/s]\n"
     ]
    }
   ],
   "source": [
    "for i, row in tqdm(yiliDF.iterrows()):\n",
    "    yili_department_node = Node(\"yili-Department\",name=row[yiliDF.columns[0]])\n",
    "    saoHei.merge(yili_department_node,\"yili-Department\",\"name\")"
   ]
  },
  {
   "cell_type": "code",
   "execution_count": 39,
   "id": "e09dea24",
   "metadata": {},
   "outputs": [
    {
     "name": "stderr",
     "output_type": "stream",
     "text": [
      "10it [00:00, 136.54it/s]\n"
     ]
    }
   ],
   "source": [
    "for i, row in tqdm(projectDF.iterrows()):\n",
    "    project_node = Node(\"project\",name=row[projectDF.columns[0]])\n",
    "    saoHei.merge(project_node,\"project\",\"name\")"
   ]
  },
  {
   "cell_type": "code",
   "execution_count": 40,
   "id": "0ed2bdf8",
   "metadata": {},
   "outputs": [
    {
     "name": "stderr",
     "output_type": "stream",
     "text": [
      "8it [00:00, 143.39it/s]\n"
     ]
    }
   ],
   "source": [
    "for i, row in tqdm(developDF.iterrows()):\n",
    "    develop_node = Node(\"develop\",name=row[developDF.columns[0]])\n",
    "    saoHei.merge(develop_node,\"develop\",\"name\")"
   ]
  },
  {
   "cell_type": "code",
   "execution_count": 41,
   "id": "505d51c1",
   "metadata": {},
   "outputs": [
    {
     "name": "stderr",
     "output_type": "stream",
     "text": [
      "22it [00:00, 138.81it/s]\n"
     ]
    }
   ],
   "source": [
    "for i, row in tqdm(yiliPeopleDF.iterrows()):\n",
    "    yiliPeople_node = Node(\"yiliPeople\",name=row[yiliPeopleDF.columns[0]])\n",
    "    saoHei.merge(yiliPeople_node,\"yiliPeople\",\"name\")"
   ]
  },
  {
   "cell_type": "code",
   "execution_count": 42,
   "id": "d3c131f2",
   "metadata": {
    "scrolled": true
   },
   "outputs": [
    {
     "name": "stderr",
     "output_type": "stream",
     "text": [
      "12it [00:00, 138.26it/s]\n"
     ]
    }
   ],
   "source": [
    "for i, row in tqdm(sgccCompanyDF.iterrows()):\n",
    "    sgcc_company_node = Node(\"sgcc_company\",name=row[sgccCompanyDF.columns[0]])\n",
    "    saoHei.merge(sgcc_company_node,\"sgcc_company\",\"name\")"
   ]
  },
  {
   "cell_type": "code",
   "execution_count": 43,
   "id": "f05df336",
   "metadata": {},
   "outputs": [
    {
     "name": "stderr",
     "output_type": "stream",
     "text": [
      "12it [00:00, 76.50it/s]\n"
     ]
    }
   ],
   "source": [
    "for i, row in tqdm(sgccRelationShipDF.iterrows()):\n",
    "    \n",
    "    startNodeName, endNodeName ,relationType = [row[j] for j in range(3)]\n",
    "    startNode = saoHei.nodes.match(\"sgcc_company\", name = startNodeName).first()\n",
    "    endNode = saoHei.nodes.match(\"sgcc_company\", name = endNodeName).first()\n",
    "    sgcc_company_relationship = Relationship(startNode,relationType,endNode)\n",
    "    \n",
    "    saoHei.create(sgcc_company_relationship)"
   ]
  },
  {
   "cell_type": "code",
   "execution_count": 44,
   "id": "0eef8876",
   "metadata": {},
   "outputs": [
    {
     "name": "stderr",
     "output_type": "stream",
     "text": [
      "6it [00:00, 87.94it/s]\n"
     ]
    }
   ],
   "source": [
    "for i, row in tqdm(sgccPeopleRelationShipDF.iterrows()):\n",
    "    \n",
    "    startNodeName, endNodeName ,relationType = [row[j] for j in range(3)]\n",
    "    startNode = saoHei.nodes.match(\"sgcc_people\", name = startNodeName).first()\n",
    "    endNode = saoHei.nodes.match(\"sgcc_people\", name = endNodeName).first()\n",
    "    sgcc_people_relationship = Relationship(startNode,relationType,endNode)\n",
    "    \n",
    "    saoHei.create(sgcc_people_relationship)"
   ]
  },
  {
   "cell_type": "code",
   "execution_count": 45,
   "id": "624daa14",
   "metadata": {},
   "outputs": [
    {
     "name": "stderr",
     "output_type": "stream",
     "text": [
      "11it [00:00, 12.70it/s]\n"
     ]
    }
   ],
   "source": [
    "for i, row in tqdm(sgccPeopleCompanyRelationShipDF.iterrows()):\n",
    "    \n",
    "    startNodeName, endNodeName ,relationType = [row[j] for j in range(3)]\n",
    "    startNode = saoHei.nodes.match(\"sgcc_people\", name = startNodeName).first()\n",
    "    endNode = saoHei.nodes.match(\"sgcc_company\", name = endNodeName).first()\n",
    "    sgcc_people_company_relationship = Relationship(startNode,relationType,endNode)\n",
    "    \n",
    "    saoHei.create(sgcc_people_company_relationship)"
   ]
  },
  {
   "cell_type": "code",
   "execution_count": 46,
   "id": "45614945",
   "metadata": {},
   "outputs": [
    {
     "name": "stderr",
     "output_type": "stream",
     "text": [
      "8it [00:00, 82.77it/s]\n"
     ]
    }
   ],
   "source": [
    "for i, row in tqdm(yiliRelationShipDF.iterrows()):\n",
    "    \n",
    "    startNodeName, endNodeName ,relationType = [row[j] for j in range(3)]\n",
    "    startNode = saoHei.nodes.match(\"yili-Department\", name = startNodeName).first()\n",
    "    endNode = saoHei.nodes.match(\"sgcc_company\", name = endNodeName).first()\n",
    "    yili_department_relationship = Relationship(startNode,relationType,endNode)\n",
    "    \n",
    "    saoHei.create(yili_department_relationship)"
   ]
  },
  {
   "cell_type": "code",
   "execution_count": 47,
   "id": "09e631a2",
   "metadata": {},
   "outputs": [
    {
     "name": "stderr",
     "output_type": "stream",
     "text": [
      "12it [00:00, 65.91it/s]\n"
     ]
    }
   ],
   "source": [
    "for i, row in tqdm(yiliPeopleCompanyRelationShipDF.iterrows()):\n",
    "    \n",
    "    startNodeName, endNodeName ,relationType = [row[j] for j in range(3)]\n",
    "    startNode = saoHei.nodes.match(\"yiliPeople\", name = startNodeName).first()\n",
    "    endNode = saoHei.nodes.match(\"yili-Department\", name = endNodeName).first()\n",
    "   # print(startNodeName+\"|\"+endNodeName+\"|\"+relationType)\n",
    "    yili_people_company_relationship = Relationship(startNode,relationType,endNode)\n",
    "    \n",
    "    saoHei.create(yili_people_company_relationship)"
   ]
  },
  {
   "cell_type": "code",
   "execution_count": 48,
   "id": "d2465d57",
   "metadata": {},
   "outputs": [
    {
     "name": "stderr",
     "output_type": "stream",
     "text": [
      "8it [00:00, 61.09it/s]\n"
     ]
    }
   ],
   "source": [
    "for i, row in tqdm(yiliPeopleRelationShipDF.iterrows()):\n",
    "    \n",
    "    startNodeName, endNodeName ,relationType = [row[j] for j in range(3)]\n",
    "    startNode = saoHei.nodes.match(\"yiliPeople\", name = startNodeName).first()\n",
    "    endNode = saoHei.nodes.match(\"yiliPeople\", name = endNodeName).first()\n",
    "   # print(startNodeName+\"|\"+endNodeName+\"|\"+relationType)\n",
    "    yili_people_relationship = Relationship(startNode,relationType,endNode)\n",
    "    \n",
    "    saoHei.create(yili_people_relationship)"
   ]
  },
  {
   "cell_type": "code",
   "execution_count": null,
   "id": "e5d09ad4",
   "metadata": {},
   "outputs": [],
   "source": [
    "for i, row in tqdm(yiliSgccPeopleCompanyRelationShipDF.iterrows()):\n",
    "    \n",
    "    startNodeName, endNodeName ,relationType = [row[j] for j in range(3)]\n",
    "    startNode = saoHei.nodes.match(\"yiliPeople\", name = startNodeName).first()\n",
    "    endNode = saoHei.nodes.match(\"sgcc_company\", name = endNodeName).first()\n",
    "   # print(startNodeName+\"|\"+endNodeName+\"|\"+relationType)\n",
    "    yili_sgcc_people_company_relationship = Relationship(startNode,relationType,endNode)\n",
    "    \n",
    "    saoHei.create(yili_sgcc_people_company_relationship)"
   ]
  }
 ],
 "metadata": {
  "hide_input": false,
  "kernelspec": {
   "display_name": "Python 3 (ipykernel)",
   "language": "python",
   "name": "python3"
  },
  "language_info": {
   "codemirror_mode": {
    "name": "ipython",
    "version": 3
   },
   "file_extension": ".py",
   "mimetype": "text/x-python",
   "name": "python",
   "nbconvert_exporter": "python",
   "pygments_lexer": "ipython3",
   "version": "3.8.10"
  },
  "toc": {
   "base_numbering": 1,
   "nav_menu": {},
   "number_sections": true,
   "sideBar": true,
   "skip_h1_title": false,
   "title_cell": "Table of Contents",
   "title_sidebar": "Contents",
   "toc_cell": false,
   "toc_position": {},
   "toc_section_display": true,
   "toc_window_display": false
  }
 },
 "nbformat": 4,
 "nbformat_minor": 5
}
