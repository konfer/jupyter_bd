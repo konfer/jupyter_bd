{
 "cells": [
  {
   "cell_type": "code",
   "execution_count": 1,
   "metadata": {},
   "outputs": [],
   "source": [
    "%matplotlib inline\n",
    "import numpy as np\n",
    "import tensorflow as tf\n",
    "import matplotlib.pyplot as plt\n",
    "plt.rcParams[\"figure.figsize\"]=(14,8)"
   ]
  },
  {
   "cell_type": "code",
   "execution_count": 2,
   "metadata": {},
   "outputs": [
    {
     "data": {
      "image/png": "[encoded data removed]",
      "text/plain": [
       "<Figure size 432x288 with 1 Axes>"
      ]
     },
     "metadata": {},
     "output_type": "display_data"
    }
   ],
   "source": [
    "n_observations = 100\n",
    "xs = np.linspace(-3, 3, n_observations)\n",
    "ys = np.sin(xs) + np.random.uniform(-0.5, 0.5, n_observations)\n",
    "plt.scatter(xs, ys)\n",
    "plt.show()"
   ]
  },
  {
   "cell_type": "code",
   "execution_count": 3,
   "metadata": {},
   "outputs": [],
   "source": [
    "X=tf.placeholder(tf.float32,name='X')\n",
    "Y=tf.placeholder(tf.float32,name='Y')"
   ]
  },
  {
   "cell_type": "code",
   "execution_count": 4,
   "metadata": {},
   "outputs": [],
   "source": [
    "W=tf.Variable(tf.random_normal([1]),name='weight')\n",
    "b=tf.Variable(tf.random_normal([1]),name='bias')"
   ]
  },
  {
   "cell_type": "code",
   "execution_count": 7,
   "metadata": {},
   "outputs": [],
   "source": [
    "Y_pred=tf.add(tf.multiply(X,W),b)\n",
    "\n",
    "W_2 = tf.Variable(tf.random_normal([1]), name='weight_2')\n",
    "Y_pred = tf.add(tf.multiply(tf.pow(X, 2), W_2), Y_pred)\n",
    "W_3 = tf.Variable(tf.random_normal([1]), name='weight_3')\n",
    "Y_pred = tf.add(tf.multiply(tf.pow(X, 3), W_3), Y_pred)"
   ]
  },
  {
   "cell_type": "code",
   "execution_count": 8,
   "metadata": {},
   "outputs": [],
   "source": [
    "sample_num = xs.shape[0]\n",
    "loss = tf.reduce_sum(tf.pow(Y_pred - Y, 2)) / sample_num"
   ]
  },
  {
   "cell_type": "code",
   "execution_count": 9,
   "metadata": {},
   "outputs": [],
   "source": [
    "learning_rate = 0.01\n",
    "optimizer = tf.train.GradientDescentOptimizer(learning_rate).minimize(loss)"
   ]
  },
  {
   "cell_type": "code",
   "execution_count": 10,
   "metadata": {},
   "outputs": [
    {
     "name": "stdout",
     "output_type": "stream",
     "text": [
      "Epoch 0: 0.8825238407621054\n",
      "Epoch 20: 0.01587539213017237\n",
      "Epoch 40: 0.011353640465079744\n",
      "Epoch 60: 0.008198344698755734\n",
      "Epoch 80: 0.005980745117607853\n",
      "Epoch 100: 0.004421856413569003\n",
      "Epoch 120: 0.0033258895327037408\n",
      "Epoch 140: 0.0025553759812567377\n",
      "Epoch 160: 0.0020137292671032012\n",
      "Epoch 180: 0.001633059459635433\n",
      "Epoch 200: 0.001365637221345679\n",
      "Epoch 220: 0.0011778856719771458\n",
      "Epoch 240: 0.0010461796133238365\n",
      "Epoch 260: 0.0009538927571411904\n",
      "Epoch 280: 0.0008893214149421169\n",
      "Epoch 300: 0.0008442254648396386\n",
      "Epoch 320: 0.0008128065435059994\n",
      "Epoch 340: 0.0007909821121187122\n",
      "Epoch 360: 0.0007758800242534569\n",
      "Epoch 380: 0.000765479804581986\n",
      "Epoch 400: 0.0007583616802964599\n",
      "Epoch 420: 0.0007535284977659096\n",
      "Epoch 440: 0.0007502807109239939\n",
      "Epoch 460: 0.000748128123233181\n",
      "Epoch 480: 0.000746728334463067\n",
      "Epoch 500: 0.0007458423081030752\n",
      "Epoch 520: 0.0007453035224327565\n",
      "Epoch 540: 0.0007449971291701019\n",
      "Epoch 560: 0.0007448438635415755\n",
      "Epoch 580: 0.0007447884875105615\n",
      "Epoch 600: 0.0007447946394643168\n",
      "Epoch 620: 0.0007448374366824672\n",
      "Epoch 640: 0.0007448999489880049\n",
      "Epoch 660: 0.0007449717072619944\n",
      "Epoch 680: 0.0007450454203087809\n",
      "Epoch 700: 0.0007451168213046344\n",
      "Epoch 720: 0.0007451840769096308\n",
      "Epoch 740: 0.0007452455269599057\n",
      "Epoch 760: 0.0007453004921901396\n",
      "Epoch 780: 0.0007453496066234778\n",
      "Epoch 800: 0.0007453921561949528\n",
      "Epoch 820: 0.0007454297607733906\n",
      "Epoch 840: 0.0007454619002778174\n",
      "Epoch 860: 0.0007454896744327755\n",
      "Epoch 880: 0.0007455137813892065\n",
      "Epoch 900: 0.0007455343570846651\n",
      "Epoch 920: 0.0007455516397561723\n",
      "Epoch 940: 0.0007455664701780052\n",
      "Epoch 960: 0.0007455791798210498\n",
      "Epoch 980: 0.0007455898575869924\n"
     ]
    }
   ],
   "source": [
    "n_samples = xs.shape[0]\n",
    "with tf.Session() as sess:\n",
    "\t# 记得初始化所有变量\n",
    "\tsess.run(tf.global_variables_initializer()) \n",
    "\t\n",
    "\twriter = tf.summary.FileWriter('./graphs/polynomial_reg', sess.graph)\n",
    "\t\n",
    "\t# 训练模型\n",
    "\tfor i in range(1000):\n",
    "\t\ttotal_loss = 0\n",
    "\t\tfor x, y in zip(xs, ys):\n",
    "\t\t\t# 通过feed_dic把数据灌进去\n",
    "\t\t\t_, l = sess.run([optimizer, loss], feed_dict={X: x, Y:y}) \n",
    "\t\t\ttotal_loss += l\n",
    "\t\tif i%20 ==0:\n",
    "\t\t\tprint('Epoch {0}: {1}'.format(i, total_loss/n_samples))\n",
    "\n",
    "\t# 关闭writer\n",
    "\twriter.close()\n",
    "    # 取出w和b的值\n",
    "\tW, W_2, W_3, b = sess.run([W, W_2, W_3, b])"
   ]
  },
  {
   "cell_type": "code",
   "execution_count": 11,
   "metadata": {},
   "outputs": [
    {
     "name": "stdout",
     "output_type": "stream",
     "text": [
      "W:0.9126059\n",
      "W_2:0.015339507\n",
      "W_3:-0.09695014\n",
      "b:-0.089366734\n"
     ]
    }
   ],
   "source": [
    "print(\"W:\"+str(W[0]))\n",
    "print(\"W_2:\"+str(W_2[0]))\n",
    "print(\"W_3:\"+str(W_3[0]))\n",
    "print(\"b:\"+str(b[0]))"
   ]
  },
  {
   "cell_type": "code",
   "execution_count": 12,
   "metadata": {},
   "outputs": [
    {
     "data": {
      "image/png": "[encoded data removed]",
      "text/plain": [
       "<Figure size 432x288 with 1 Axes>"
      ]
     },
     "metadata": {},
     "output_type": "display_data"
    }
   ],
   "source": [
    "plt.plot(xs, ys, 'bo', label='Real data')\n",
    "plt.plot(xs, xs*W + np.power(xs,2)*W_2 + np.power(xs,3)*W_3 + b, 'r', label='Predicted data')\n",
    "plt.legend()\n",
    "plt.show()"
   ]
  },
  {
   "cell_type": "code",
   "execution_count": null,
   "metadata": {},
   "outputs": [],
   "source": []
  }
 ],
 "metadata": {
  "kernelspec": {
   "display_name": "Python 3",
   "language": "python",
   "name": "python3"
  },
  "language_info": {
   "codemirror_mode": {
    "name": "ipython",
    "version": 3
   },
   "file_extension": ".py",
   "mimetype": "text/x-python",
   "name": "python",
   "nbconvert_exporter": "python",
   "pygments_lexer": "ipython3",
   "version": "3.5.2"
  }
 },
 "nbformat": 4,
 "nbformat_minor": 2
}
