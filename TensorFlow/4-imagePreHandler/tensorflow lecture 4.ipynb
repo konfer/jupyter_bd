{
 "cells": [
  {
   "cell_type": "markdown",
   "metadata": {},
   "source": [
    "# 海量图像训练预处理\n",
    "by [@mingge](mingge_deng@brown.edu)<br>"
   ]
  },
  {
   "cell_type": "markdown",
   "metadata": {},
   "source": [
    "### TensorFlow 系统概述与IO瓶颈\n",
    "\n",
    "![alt text](tensorflow_system.png \"TensorFlow System\") \n",
    "\n",
    "1. Client\n",
    "2. Distributed Master\n",
    "3. Worker Service\n",
    "\n",
    "<b>For a Real problem, IO is always the bottleneck!!!</b>"
   ]
  },
  {
   "cell_type": "markdown",
   "metadata": {},
   "source": [
    "### TensorFlow 数据IO的三种方式\n",
    "\n",
    "\n",
    "<b>Freload data: constant</b>\n",
    "\n",
    " 数据直接嵌入graph， 由graph传入session中运行"
   ]
  },
  {
   "cell_type": "code",
   "execution_count": 1,
   "metadata": {},
   "outputs": [
    {
     "name": "stdout",
     "output_type": "stream",
     "text": [
      "[3 5 7]\n"
     ]
    }
   ],
   "source": [
    "import tensorflow as tf\n",
    "\n",
    "x = tf.constant([1,2,3], name='x')\n",
    "y = tf.constant([2,3,4], name='y')\n",
    "z = tf.add(x,y, name='z')\n",
    "with tf.Session() as sess:\n",
    "    print(sess.run(z))"
   ]
  },
  {
   "cell_type": "markdown",
   "metadata": {},
   "source": [
    "<b>Feeding: placeholder, feed_dict</b>\n",
    "\n",
    "由占位符代替数据，运行时填入数据"
   ]
  },
  {
   "cell_type": "code",
   "execution_count": 2,
   "metadata": {},
   "outputs": [
    {
     "name": "stdout",
     "output_type": "stream",
     "text": [
      "[3 5 7]\n"
     ]
    }
   ],
   "source": [
    "import tensorflow as tf\n",
    "\n",
    "x = tf.placeholder(tf.int16)\n",
    "y = tf.placeholder(tf.int16)\n",
    "z = tf.add(x,y, name='z')\n",
    "\n",
    "with tf.Session() as sess:\n",
    "    xs = [1,2,3]\n",
    "    ys = [2,3,4]\n",
    "    print(sess.run(z, feed_dict={x: xs, y: ys}))"
   ]
  },
  {
   "cell_type": "markdown",
   "metadata": {},
   "source": [
    "Pipeline: XXXReader, Queue\n",
    "\n",
    "Queue机制：\n",
    "1. producer-consumer pattern(生产消费模式)\n",
    "2. 独立于主线程执行\n",
    "3. 异步IO: reader.read(queue)  tf.train.batch()\n",
    "\n",
    "tf.TextLineReader()\n",
    "\n",
    "tf.WholeFileReader()\n",
    "\n",
    "tf.TFRecordReader()\n",
    "\n",
    "![alt text](file_queue.gif \"File Queue\") "
   ]
  },
  {
   "cell_type": "code",
   "execution_count": 3,
   "metadata": {},
   "outputs": [],
   "source": [
    "import tensorflow as tf"
   ]
  },
  {
   "cell_type": "code",
   "execution_count": 4,
   "metadata": {},
   "outputs": [],
   "source": [
    "filenames = tf.train.match_filenames_once('*.csv')\n",
    "filename_queue = tf.train.string_input_producer(filenames, shuffle=False, num_epochs=3)"
   ]
  },
  {
   "cell_type": "code",
   "execution_count": 5,
   "metadata": {},
   "outputs": [],
   "source": [
    "reader = tf.TextLineReader()\n",
    "_, value = reader.read(filename_queue)"
   ]
  },
  {
   "cell_type": "code",
   "execution_count": 6,
   "metadata": {},
   "outputs": [
    {
     "data": {
      "text/plain": [
       "1"
      ]
     },
     "execution_count": 6,
     "metadata": {},
     "output_type": "execute_result"
    }
   ],
   "source": [
    "value.value_index"
   ]
  },
  {
   "cell_type": "code",
   "execution_count": 7,
   "metadata": {},
   "outputs": [],
   "source": [
    "example, label = tf.decode_csv(value, record_defaults=[['null'], ['null']])"
   ]
  },
  {
   "cell_type": "code",
   "execution_count": 8,
   "metadata": {},
   "outputs": [],
   "source": [
    "init_op = tf.local_variables_initializer()"
   ]
  },
  {
   "cell_type": "code",
   "execution_count": 9,
   "metadata": {},
   "outputs": [
    {
     "data": {
      "text/plain": [
       "<bound method Variable.get_shape of <tf.Variable 'matching_filenames:0' shape=<unknown> dtype=string_ref>>"
      ]
     },
     "execution_count": 9,
     "metadata": {},
     "output_type": "execute_result"
    }
   ],
   "source": [
    "filenames.get_shape"
   ]
  },
  {
   "cell_type": "code",
   "execution_count": 10,
   "metadata": {},
   "outputs": [
    {
     "data": {
      "text/plain": [
       "0"
      ]
     },
     "execution_count": 10,
     "metadata": {},
     "output_type": "execute_result"
    }
   ],
   "source": [
    "example.value_index"
   ]
  },
  {
   "cell_type": "code",
   "execution_count": 11,
   "metadata": {},
   "outputs": [
    {
     "data": {
      "text/plain": [
       "1"
      ]
     },
     "execution_count": 11,
     "metadata": {},
     "output_type": "execute_result"
    }
   ],
   "source": [
    "label.value_index"
   ]
  },
  {
   "cell_type": "code",
   "execution_count": 12,
   "metadata": {
    "scrolled": true
   },
   "outputs": [
    {
     "name": "stdout",
     "output_type": "stream",
     "text": [
      "[b'A1', b'a1']\n",
      "[b'A2', b'a2']\n",
      "[b'A3', b'a3']\n",
      "[b'B1', b'b1']\n",
      "[b'B2', b'b2']\n",
      "[b'B3', b'b3']\n",
      "[b'C1', b'c1']\n",
      "[b'C2', b'c2']\n",
      "[b'c3', b'c3']\n",
      "[b'A1', b'a1']\n",
      "[b'A2', b'a2']\n",
      "[b'A3', b'a3']\n",
      "[b'B1', b'b1']\n",
      "[b'B2', b'b2']\n",
      "[b'B3', b'b3']\n",
      "[b'C1', b'c1']\n",
      "[b'C2', b'c2']\n",
      "[b'c3', b'c3']\n",
      "[b'A1', b'a1']\n",
      "[b'A2', b'a2']\n",
      "[b'A3', b'a3']\n",
      "[b'B1', b'b1']\n",
      "[b'B2', b'b2']\n",
      "[b'B3', b'b3']\n",
      "[b'C1', b'c1']\n",
      "[b'C2', b'c2']\n",
      "[b'c3', b'c3']\n",
      "Epochs complete!\n"
     ]
    }
   ],
   "source": [
    "\n",
    "## tf.train.shuffle_batch\n",
    "## example_batch, label_batch = tf.train.batch([exmaple, label], batch_size=5, capacity=3*batch_size)\n",
    "\n",
    "## record_list = [ tf.decode_csv(value, record_defaults=[['null'], ['null']]) for _ in range(2)]\n",
    "## example_batch, label_batch = tf.train.batch_join(record_list, batch_size=5)\n",
    "\n",
    "\n",
    "\n",
    "with tf.Session() as sess:\n",
    "    sess.run(init_op)\n",
    "    coord = tf.train.Coordinator() #线程管理协调器\n",
    "    threads = tf.train.start_queue_runners(coord=coord) #启动QueueRunner\n",
    "    \n",
    "    try:\n",
    "        while not coord.should_stop():\n",
    "            print(sess.run([example, label]))\n",
    "    except tf.errors.OutOfRangeError:\n",
    "        print('Epochs complete!')\n",
    "    finally:\n",
    "        coord.request_stop()\n",
    "    \"\"\"\n",
    "    for _ in range(9):\n",
    "        print(sess.run([example, label]))\n",
    "\n",
    "    coord.request_stop()\n",
    "    coord.join(threads)\n",
    "    \"\"\""
   ]
  },
  {
   "cell_type": "markdown",
   "metadata": {},
   "source": [
    "### TensorFlow 数据统一数据输入格式TFRecord\n",
    "\n",
    "why tfrecord, why not csv, jpg, png etc. ?\n",
    "\n",
    "<b>1. 统一不同输入文件的框架</b>\n",
    "\n",
    "<b>2. 节约空间（TFRecord压缩的二进制文件, protocal buffer序列化）</b>\n",
    "\n",
    "```c++\n",
    "message Example {\n",
    "  Features features = 1;\n",
    "};\n",
    "\n",
    "message Features {\n",
    "  map<string, Feature> feature = 1;\n",
    "};\n",
    "\n",
    "message Feature {\n",
    "  oneof kind {\n",
    "    BytesList bytes_list = 1;\n",
    "    FloatList float_list = 2;\n",
    "    Int64List int64_list = 3;\n",
    "  }\n",
    "};\n",
    "\n",
    "```"
   ]
  },
  {
   "cell_type": "markdown",
   "metadata": {},
   "source": [
    "#### 原始数据转为TFRecord存储"
   ]
  },
  {
   "cell_type": "code",
   "execution_count": 13,
   "metadata": {},
   "outputs": [
    {
     "ename": "FileNotFoundError",
     "evalue": "File b'train.csv' does not exist",
     "output_type": "error",
     "traceback": [
      "\u001b[0;31m---------------------------------------------------------------------------\u001b[0m",
      "\u001b[0;31mFileNotFoundError\u001b[0m                         Traceback (most recent call last)",
      "\u001b[0;32m<ipython-input-13-1cbe55c143e3>\u001b[0m in \u001b[0;36m<module>\u001b[0;34m()\u001b[0m\n\u001b[1;32m      4\u001b[0m \u001b[0;32mimport\u001b[0m \u001b[0mpandas\u001b[0m \u001b[0;32mas\u001b[0m \u001b[0mpd\u001b[0m\u001b[0;34m\u001b[0m\u001b[0m\n\u001b[1;32m      5\u001b[0m \u001b[0;34m\u001b[0m\u001b[0m\n\u001b[0;32m----> 6\u001b[0;31m \u001b[0mtrain_frame\u001b[0m \u001b[0;34m=\u001b[0m \u001b[0mpd\u001b[0m\u001b[0;34m.\u001b[0m\u001b[0mread_csv\u001b[0m\u001b[0;34m(\u001b[0m\u001b[0;34m\"train.csv\"\u001b[0m\u001b[0;34m)\u001b[0m\u001b[0;34m\u001b[0m\u001b[0m\n\u001b[0m\u001b[1;32m      7\u001b[0m \u001b[0mprint\u001b[0m\u001b[0;34m(\u001b[0m\u001b[0mtrain_frame\u001b[0m\u001b[0;34m.\u001b[0m\u001b[0mhead\u001b[0m\u001b[0;34m(\u001b[0m\u001b[0;34m)\u001b[0m\u001b[0;34m)\u001b[0m\u001b[0;34m\u001b[0m\u001b[0m\n\u001b[1;32m      8\u001b[0m \u001b[0mtrain_labels_frame\u001b[0m \u001b[0;34m=\u001b[0m \u001b[0mtrain_frame\u001b[0m\u001b[0;34m.\u001b[0m\u001b[0mpop\u001b[0m\u001b[0;34m(\u001b[0m\u001b[0mitem\u001b[0m\u001b[0;34m=\u001b[0m\u001b[0;34m\"label\"\u001b[0m\u001b[0;34m)\u001b[0m\u001b[0;34m\u001b[0m\u001b[0m\n",
      "\u001b[0;32m/usr/local/lib/python3.5/dist-packages/pandas/io/parsers.py\u001b[0m in \u001b[0;36mparser_f\u001b[0;34m(filepath_or_buffer, sep, delimiter, header, names, index_col, usecols, squeeze, prefix, mangle_dupe_cols, dtype, engine, converters, true_values, false_values, skipinitialspace, skiprows, nrows, na_values, keep_default_na, na_filter, verbose, skip_blank_lines, parse_dates, infer_datetime_format, keep_date_col, date_parser, dayfirst, iterator, chunksize, compression, thousands, decimal, lineterminator, quotechar, quoting, escapechar, comment, encoding, dialect, tupleize_cols, error_bad_lines, warn_bad_lines, skipfooter, skip_footer, doublequote, delim_whitespace, as_recarray, compact_ints, use_unsigned, low_memory, buffer_lines, memory_map, float_precision)\u001b[0m\n\u001b[1;32m    707\u001b[0m                     skip_blank_lines=skip_blank_lines)\n\u001b[1;32m    708\u001b[0m \u001b[0;34m\u001b[0m\u001b[0m\n\u001b[0;32m--> 709\u001b[0;31m         \u001b[0;32mreturn\u001b[0m \u001b[0m_read\u001b[0m\u001b[0;34m(\u001b[0m\u001b[0mfilepath_or_buffer\u001b[0m\u001b[0;34m,\u001b[0m \u001b[0mkwds\u001b[0m\u001b[0;34m)\u001b[0m\u001b[0;34m\u001b[0m\u001b[0m\n\u001b[0m\u001b[1;32m    710\u001b[0m \u001b[0;34m\u001b[0m\u001b[0m\n\u001b[1;32m    711\u001b[0m     \u001b[0mparser_f\u001b[0m\u001b[0;34m.\u001b[0m\u001b[0m__name__\u001b[0m \u001b[0;34m=\u001b[0m \u001b[0mname\u001b[0m\u001b[0;34m\u001b[0m\u001b[0m\n",
      "\u001b[0;32m/usr/local/lib/python3.5/dist-packages/pandas/io/parsers.py\u001b[0m in \u001b[0;36m_read\u001b[0;34m(filepath_or_buffer, kwds)\u001b[0m\n\u001b[1;32m    447\u001b[0m \u001b[0;34m\u001b[0m\u001b[0m\n\u001b[1;32m    448\u001b[0m     \u001b[0;31m# Create the parser.\u001b[0m\u001b[0;34m\u001b[0m\u001b[0;34m\u001b[0m\u001b[0m\n\u001b[0;32m--> 449\u001b[0;31m     \u001b[0mparser\u001b[0m \u001b[0;34m=\u001b[0m \u001b[0mTextFileReader\u001b[0m\u001b[0;34m(\u001b[0m\u001b[0mfilepath_or_buffer\u001b[0m\u001b[0;34m,\u001b[0m \u001b[0;34m**\u001b[0m\u001b[0mkwds\u001b[0m\u001b[0;34m)\u001b[0m\u001b[0;34m\u001b[0m\u001b[0m\n\u001b[0m\u001b[1;32m    450\u001b[0m \u001b[0;34m\u001b[0m\u001b[0m\n\u001b[1;32m    451\u001b[0m     \u001b[0;32mif\u001b[0m \u001b[0mchunksize\u001b[0m \u001b[0;32mor\u001b[0m \u001b[0miterator\u001b[0m\u001b[0;34m:\u001b[0m\u001b[0;34m\u001b[0m\u001b[0m\n",
      "\u001b[0;32m/usr/local/lib/python3.5/dist-packages/pandas/io/parsers.py\u001b[0m in \u001b[0;36m__init__\u001b[0;34m(self, f, engine, **kwds)\u001b[0m\n\u001b[1;32m    816\u001b[0m             \u001b[0mself\u001b[0m\u001b[0;34m.\u001b[0m\u001b[0moptions\u001b[0m\u001b[0;34m[\u001b[0m\u001b[0;34m'has_index_names'\u001b[0m\u001b[0;34m]\u001b[0m \u001b[0;34m=\u001b[0m \u001b[0mkwds\u001b[0m\u001b[0;34m[\u001b[0m\u001b[0;34m'has_index_names'\u001b[0m\u001b[0;34m]\u001b[0m\u001b[0;34m\u001b[0m\u001b[0m\n\u001b[1;32m    817\u001b[0m \u001b[0;34m\u001b[0m\u001b[0m\n\u001b[0;32m--> 818\u001b[0;31m         \u001b[0mself\u001b[0m\u001b[0;34m.\u001b[0m\u001b[0m_make_engine\u001b[0m\u001b[0;34m(\u001b[0m\u001b[0mself\u001b[0m\u001b[0;34m.\u001b[0m\u001b[0mengine\u001b[0m\u001b[0;34m)\u001b[0m\u001b[0;34m\u001b[0m\u001b[0m\n\u001b[0m\u001b[1;32m    819\u001b[0m \u001b[0;34m\u001b[0m\u001b[0m\n\u001b[1;32m    820\u001b[0m     \u001b[0;32mdef\u001b[0m \u001b[0mclose\u001b[0m\u001b[0;34m(\u001b[0m\u001b[0mself\u001b[0m\u001b[0;34m)\u001b[0m\u001b[0;34m:\u001b[0m\u001b[0;34m\u001b[0m\u001b[0m\n",
      "\u001b[0;32m/usr/local/lib/python3.5/dist-packages/pandas/io/parsers.py\u001b[0m in \u001b[0;36m_make_engine\u001b[0;34m(self, engine)\u001b[0m\n\u001b[1;32m   1047\u001b[0m     \u001b[0;32mdef\u001b[0m \u001b[0m_make_engine\u001b[0m\u001b[0;34m(\u001b[0m\u001b[0mself\u001b[0m\u001b[0;34m,\u001b[0m \u001b[0mengine\u001b[0m\u001b[0;34m=\u001b[0m\u001b[0;34m'c'\u001b[0m\u001b[0;34m)\u001b[0m\u001b[0;34m:\u001b[0m\u001b[0;34m\u001b[0m\u001b[0m\n\u001b[1;32m   1048\u001b[0m         \u001b[0;32mif\u001b[0m \u001b[0mengine\u001b[0m \u001b[0;34m==\u001b[0m \u001b[0;34m'c'\u001b[0m\u001b[0;34m:\u001b[0m\u001b[0;34m\u001b[0m\u001b[0m\n\u001b[0;32m-> 1049\u001b[0;31m             \u001b[0mself\u001b[0m\u001b[0;34m.\u001b[0m\u001b[0m_engine\u001b[0m \u001b[0;34m=\u001b[0m \u001b[0mCParserWrapper\u001b[0m\u001b[0;34m(\u001b[0m\u001b[0mself\u001b[0m\u001b[0;34m.\u001b[0m\u001b[0mf\u001b[0m\u001b[0;34m,\u001b[0m \u001b[0;34m**\u001b[0m\u001b[0mself\u001b[0m\u001b[0;34m.\u001b[0m\u001b[0moptions\u001b[0m\u001b[0;34m)\u001b[0m\u001b[0;34m\u001b[0m\u001b[0m\n\u001b[0m\u001b[1;32m   1050\u001b[0m         \u001b[0;32melse\u001b[0m\u001b[0;34m:\u001b[0m\u001b[0;34m\u001b[0m\u001b[0m\n\u001b[1;32m   1051\u001b[0m             \u001b[0;32mif\u001b[0m \u001b[0mengine\u001b[0m \u001b[0;34m==\u001b[0m \u001b[0;34m'python'\u001b[0m\u001b[0;34m:\u001b[0m\u001b[0;34m\u001b[0m\u001b[0m\n",
      "\u001b[0;32m/usr/local/lib/python3.5/dist-packages/pandas/io/parsers.py\u001b[0m in \u001b[0;36m__init__\u001b[0;34m(self, src, **kwds)\u001b[0m\n\u001b[1;32m   1693\u001b[0m         \u001b[0mkwds\u001b[0m\u001b[0;34m[\u001b[0m\u001b[0;34m'allow_leading_cols'\u001b[0m\u001b[0;34m]\u001b[0m \u001b[0;34m=\u001b[0m \u001b[0mself\u001b[0m\u001b[0;34m.\u001b[0m\u001b[0mindex_col\u001b[0m \u001b[0;32mis\u001b[0m \u001b[0;32mnot\u001b[0m \u001b[0;32mFalse\u001b[0m\u001b[0;34m\u001b[0m\u001b[0m\n\u001b[1;32m   1694\u001b[0m \u001b[0;34m\u001b[0m\u001b[0m\n\u001b[0;32m-> 1695\u001b[0;31m         \u001b[0mself\u001b[0m\u001b[0;34m.\u001b[0m\u001b[0m_reader\u001b[0m \u001b[0;34m=\u001b[0m \u001b[0mparsers\u001b[0m\u001b[0;34m.\u001b[0m\u001b[0mTextReader\u001b[0m\u001b[0;34m(\u001b[0m\u001b[0msrc\u001b[0m\u001b[0;34m,\u001b[0m \u001b[0;34m**\u001b[0m\u001b[0mkwds\u001b[0m\u001b[0;34m)\u001b[0m\u001b[0;34m\u001b[0m\u001b[0m\n\u001b[0m\u001b[1;32m   1696\u001b[0m \u001b[0;34m\u001b[0m\u001b[0m\n\u001b[1;32m   1697\u001b[0m         \u001b[0;31m# XXX\u001b[0m\u001b[0;34m\u001b[0m\u001b[0;34m\u001b[0m\u001b[0m\n",
      "\u001b[0;32mpandas/_libs/parsers.pyx\u001b[0m in \u001b[0;36mpandas._libs.parsers.TextReader.__cinit__\u001b[0;34m()\u001b[0m\n",
      "\u001b[0;32mpandas/_libs/parsers.pyx\u001b[0m in \u001b[0;36mpandas._libs.parsers.TextReader._setup_parser_source\u001b[0;34m()\u001b[0m\n",
      "\u001b[0;31mFileNotFoundError\u001b[0m: File b'train.csv' does not exist"
     ]
    }
   ],
   "source": [
    "## convert csv files to tfrecord\n",
    "import tensorflow as tf\n",
    "import numpy as np\n",
    "import pandas as pd\n",
    "\n",
    "train_frame = pd.read_csv(\"train.csv\")\n",
    "print(train_frame.head())\n",
    "train_labels_frame = train_frame.pop(item=\"label\")\n",
    "train_values = train_frame.values\n",
    "train_labels = train_labels_frame.values\n",
    "print(\"values shape: \", train_values.shape)\n",
    "print(\"labels shape:\", train_labels.shape)\n",
    "\n",
    "writer = tf.python_io.TFRecordWriter(\"csv_train.tfrecords\")\n",
    "\n",
    "for i in range(train_values.shape[0]):\n",
    "    image_raw = train_values[i].tostring()\n",
    "    example = tf.train.Example(\n",
    "        features=tf.train.Features(\n",
    "            feature={\n",
    "                \"image_raw\": tf.train.Feature(bytes_list=tf.train.BytesList(value=[image_raw])),\n",
    "                \"label\": tf.train.Feature(int64_list=tf.train.Int64List(value=[train_labels[i]]))\n",
    "            }\n",
    "        )\n",
    "    )\n",
    "    writer.write(record=example.SerializeToString())\n",
    "    \n",
    "writer.close()"
   ]
  },
  {
   "cell_type": "code",
   "execution_count": null,
   "metadata": {},
   "outputs": [],
   "source": [
    "### convert pics to tfrecord\n",
    "import matplotlib.pyplot as plt\n",
    "import matplotlib.image as mpimg\n",
    "import numpy as np\n",
    "import tensorflow as tf\n",
    "import pandas as pd\n",
    "\n",
    "def get_label_from_filename(filename):\n",
    "    return 1\n",
    "\n",
    "filenames = tf.train.match_filenames_once('.\\data\\*.png')\n",
    "\n",
    "writer = tf.python_io.TFRecordWriter('png_train.tfrecords')\n",
    "\n",
    "for filename in filenames:\n",
    "    img=mpimg.imread(filename)\n",
    "    print(\"{} shape is {}\".format(filename, img.shape))\n",
    "    img_raw = img.tostring()\n",
    "    label = get_label_from_filename(filename)\n",
    "    example = tf.train.Example(\n",
    "        features=tf.train.Features(\n",
    "            feature={\n",
    "                \"image_raw\": tf.train.Feature(bytes_list=tf.train.BytesList(value=[image_raw])),\n",
    "                \"label\": tf.train.Feature(int64_list=tf.train.Int64List(value=[label]))\n",
    "            }\n",
    "        )\n",
    "    )\n",
    "    writer.write(record=example.SerializeToString())\n",
    "    \n",
    "writer.close()"
   ]
  },
  {
   "cell_type": "markdown",
   "metadata": {},
   "source": [
    "#### TFRecord数据读取|"
   ]
  },
  {
   "cell_type": "code",
   "execution_count": null,
   "metadata": {},
   "outputs": [],
   "source": [
    "import tensorflow as tf\n",
    "\n",
    "reader = tf.TFRecordReader()\n",
    "filename_queue = tf.train.string_input_producer([\"csv_train.tfrecords\"])\n",
    "\n",
    "_, serialized_record = reader.read(filename_queue)\n",
    "\n",
    "features = tf.parse_single_example(\n",
    "    serialized_record,\n",
    "    features={\n",
    "        ## tf.FixedLenFeature return Tensor\n",
    "        ## tf.VarLenFeature return SparseTensor\n",
    "        \"image_raw\": tf.FixedLenFeature([], tf.string),\n",
    "        \"label\": tf.FixedLenFeature([], tf.int64),\n",
    "    })\n",
    "\n",
    "images = tf.decode_raw(features[\"image_raw\"], tf.uint8)\n",
    "labels = tf.cast(features[\"label\"], tf.int32)\n",
    "\n",
    "with tf.Session() as sess:\n",
    "    coord = tf.train.Coordinator()\n",
    "    threads = tf.train.start_queue_runners(sess=sess, coord=coord)\n",
    "    \n",
    "    for i in range(10):\n",
    "        image, label = sess.run([images, labels])\n"
   ]
  },
  {
   "cell_type": "markdown",
   "metadata": {},
   "source": [
    "### TensorFlow 图像处理函数"
   ]
  },
  {
   "cell_type": "markdown",
   "metadata": {},
   "source": [
    " #### encode/decode jpeg 和 png格式图像，i.e.，压缩或者还原为三维矩阵"
   ]
  },
  {
   "cell_type": "code",
   "execution_count": null,
   "metadata": {},
   "outputs": [],
   "source": [
    "import matplotlib.pyplot as plt\n",
    "import tensorflow as tf\n",
    "\n",
    "image_raw = tf.gfile.FastGFile(\"cat.jpg\", \"rb\").read()\n",
    "# img_data = tf.image.decode_png(image_raw)\n",
    "img_data = tf.image.decode_jpeg(image_raw)\n",
    "#img_data = tf.image.convert_image_dtype(img_data, dtype=tf.float32)\n",
    "encoded_image = tf.image.encode_jpeg(img_data)\n",
    "    \n",
    "with tf.Session() as sess:\n",
    "    plt.imshow(sess.run(img_data))\n",
    "    plt.show()\n",
    "\n",
    "    with tf.gfile.GFile(\"cat_float.jpeg\",\"wb\") as f:\n",
    "        f.write(sess.run(encoded_image))\n",
    "    "
   ]
  },
  {
   "cell_type": "markdown",
   "metadata": {},
   "source": [
    " #### 调整图像：To get a more robust model"
   ]
  },
  {
   "cell_type": "code",
   "execution_count": null,
   "metadata": {},
   "outputs": [],
   "source": [
    "# resized: method = {0:bilinear, 1:nearest neighbor, 2:Bicubic 3: Area}\n",
    "resized_img = tf.image.resize_images(img_data, 300, 300, method=0)\n",
    "\n",
    "# crop or pad\n",
    "croped_or_padded = tf.image.resize_image_with_crop_or_pad(img_data, 2000, 2000)\n",
    "central_cropped = tf.image.central_crop(img_data, 0.5)\n",
    "\n",
    "# flipped\n",
    "flipped = tf.image.flip_up_down(img_data)\n",
    "flipped = tf.image.flip_left_right(img_data)\n",
    "transposed = tf.image.transpose_image(img_data)\n",
    "flipped = tf.image.random_flip_up_down(img_data)\n",
    "\n",
    "# adjust brightness\n",
    "adjusted = tf.image.adjust_brightness(img_data, -0.5)\n",
    "adjusted = tf.image.adjust_brightness(img_data, 0.5)\n",
    "adjusted = tf.image.random_brightness(img_data, 0.5)\n",
    "\n",
    "# adjust constrast\n",
    "adjusted = tf.image.adjust_contrast(img_data, -5)\n",
    "adjusted = tf.image.adjust_contrast(img_data, 5)\n",
    "adjusted = tf.image.random_contrast(img_data, 1, 10)\n",
    "\n",
    "# adjust_hue, adjust_saturation etc..\n",
    "\n",
    "# standarize : mean=0, stddev=1\n",
    "adjusted = tf.image.per_image_whitening(img_data)\n",
    "\n",
    "# bounding_boxes\n",
    "\n",
    "batched = tf.expand_dims(\n",
    "    tf.image.convert_image_dtype(img_data, tf.float32), 0)\n",
    "boxes = tf.constant([[0.05, 0.05, 0.9, 0.7], [0.35,0.47,0.5,0.9]])\n",
    "result = tf.image.draw_bounding_boxes(batched, boxes)\n",
    "\n"
   ]
  }
 ],
 "metadata": {
  "kernelspec": {
   "display_name": "Python 3",
   "language": "python",
   "name": "python3"
  },
  "language_info": {
   "codemirror_mode": {
    "name": "ipython",
    "version": 3
   },
   "file_extension": ".py",
   "mimetype": "text/x-python",
   "name": "python",
   "nbconvert_exporter": "python",
   "pygments_lexer": "ipython3",
   "version": "3.5.2"
  }
 },
 "nbformat": 4,
 "nbformat_minor": 2
}
