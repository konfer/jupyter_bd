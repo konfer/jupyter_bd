{
 "cells": [
  {
   "cell_type": "markdown",
   "id": "e910342f",
   "metadata": {},
   "source": [
    "## 基于kashgari的命名实体识别"
   ]
  },
  {
   "cell_type": "markdown",
   "id": "7d49afc5",
   "metadata": {},
   "source": [
    "### 安装"
   ]
  },
  {
   "cell_type": "markdown",
   "id": "80db3b6d",
   "metadata": {},
   "source": [
    "前置准备\n",
    "gensim--3.8.1  \n",
    "tensorflow--2.5.0           \n",
    "tensorflow-addons--0.13.0\n",
    "scikit-learn--0.21.1 \n",
    "python-- 3.7.1   \n",
    "pandas--1.2.0 \n",
    "\n",
    "Kashgari 2.x 安装\n",
    "通过 github 压缩包下载安装 https://github.com/BrikerMan/Kashgari "
   ]
  },
  {
   "cell_type": "markdown",
   "id": "dab0f3c7",
   "metadata": {},
   "source": [
    "### 准备工作"
   ]
  },
  {
   "cell_type": "markdown",
   "id": "f3ed2609",
   "metadata": {},
   "source": [
    "加载人民日报标注数据"
   ]
  },
  {
   "cell_type": "code",
   "execution_count": 21,
   "id": "326fe787",
   "metadata": {
    "ExecuteTime": {
     "end_time": "2022-08-30T19:10:03.381992Z",
     "start_time": "2022-08-30T19:10:03.379414Z"
    }
   },
   "outputs": [],
   "source": [
    "from kashgari.corpus import ChineseDailyNerCorpus"
   ]
  },
  {
   "cell_type": "code",
   "execution_count": 22,
   "id": "13e8e62e",
   "metadata": {
    "ExecuteTime": {
     "end_time": "2022-08-30T19:10:05.370264Z",
     "start_time": "2022-08-30T19:10:03.388786Z"
    }
   },
   "outputs": [
    {
     "name": "stderr",
     "output_type": "stream",
     "text": [
      "2022-08-31 03:10:05,136 [DEBUG] kashgari - loaded 20864 samples from /home/yuanlin/.kashgari/datasets/china-people-daily-ner-corpus/example.train. Sample:\n",
      "x[0]: ['据', '说', '，', '小', '马', '尔', '蒂', '尼', '将', '专', '盯', '挪', '威', '队', '的', '尖', '刀', '弗', '洛', '。']\n",
      "y[0]: ['O', 'O', 'O', 'O', 'B-PER', 'I-PER', 'I-PER', 'I-PER', 'O', 'O', 'O', 'B-ORG', 'I-ORG', 'I-ORG', 'O', 'O', 'O', 'B-PER', 'I-PER', 'O']\n",
      "2022-08-31 03:10:05,209 [DEBUG] kashgari - loaded 2318 samples from /home/yuanlin/.kashgari/datasets/china-people-daily-ner-corpus/example.dev. Sample:\n",
      "x[0]: ['工', '作', '了', '一', '段', '时', '间', '后', '他', '又', '表', '示', '想', '接', '受', '培', '训', '，', '于', '是', '她', '又', '帮', '他', '挑', '选', '进', '什', '么', '职', '业', '培', '训', '班', '。']\n",
      "y[0]: ['O', 'O', 'O', 'O', 'O', 'O', 'O', 'O', 'O', 'O', 'O', 'O', 'O', 'O', 'O', 'O', 'O', 'O', 'O', 'O', 'O', 'O', 'O', 'O', 'O', 'O', 'O', 'O', 'O', 'O', 'O', 'O', 'O', 'O', 'O']\n",
      "2022-08-31 03:10:05,357 [DEBUG] kashgari - loaded 4636 samples from /home/yuanlin/.kashgari/datasets/china-people-daily-ner-corpus/example.test. Sample:\n",
      "x[0]: ['候', '诊', '的', '病', '人', '家', '属', '都', '投', '以', '好', '奇', '的', '目', '光', '，', '这', '么', '聪', '明', '的', '孩', '子', '为', '什', '么', '还', '针', '灸', '？']\n",
      "y[0]: ['O', 'O', 'O', 'O', 'O', 'O', 'O', 'O', 'O', 'O', 'O', 'O', 'O', 'O', 'O', 'O', 'O', 'O', 'O', 'O', 'O', 'O', 'O', 'O', 'O', 'O', 'O', 'O', 'O', 'O']\n"
     ]
    }
   ],
   "source": [
    "train_x, train_y = ChineseDailyNerCorpus.load_data('train')\n",
    "valid_x, valid_y = ChineseDailyNerCorpus.load_data('valid')\n",
    "test_x, test_y = ChineseDailyNerCorpus.load_data('test')"
   ]
  },
  {
   "cell_type": "code",
   "execution_count": 23,
   "id": "ef31e7e3",
   "metadata": {
    "ExecuteTime": {
     "end_time": "2022-08-30T19:10:05.377859Z",
     "start_time": "2022-08-30T19:10:05.372963Z"
    }
   },
   "outputs": [
    {
     "name": "stdout",
     "output_type": "stream",
     "text": [
      "20864 2318 4636\n"
     ]
    }
   ],
   "source": [
    "print(len(train_x),len(valid_x),len(test_x))"
   ]
  },
  {
   "cell_type": "code",
   "execution_count": 24,
   "id": "63a635a7",
   "metadata": {
    "ExecuteTime": {
     "end_time": "2022-08-30T19:10:06.143659Z",
     "start_time": "2022-08-30T19:10:05.379613Z"
    }
   },
   "outputs": [
    {
     "data": {
      "text/plain": [
       "(['本',\n",
       "  '报',\n",
       "  '平',\n",
       "  '壤',\n",
       "  '6',\n",
       "  '月',\n",
       "  '1',\n",
       "  '0',\n",
       "  '日',\n",
       "  '电',\n",
       "  '记',\n",
       "  '者',\n",
       "  '赵',\n",
       "  '嘉',\n",
       "  '鸣',\n",
       "  '报',\n",
       "  '道',\n",
       "  '：',\n",
       "  '朝',\n",
       "  '鲜',\n",
       "  '民',\n",
       "  '主',\n",
       "  '主',\n",
       "  '义',\n",
       "  '人',\n",
       "  '民',\n",
       "  '共',\n",
       "  '和',\n",
       "  '国',\n",
       "  '各',\n",
       "  '政',\n",
       "  '党',\n",
       "  '团',\n",
       "  '体',\n",
       "  '代',\n",
       "  '表',\n",
       "  '会',\n",
       "  '议',\n",
       "  '1',\n",
       "  '0',\n",
       "  '日',\n",
       "  '在',\n",
       "  '平',\n",
       "  '壤',\n",
       "  '举',\n",
       "  '行',\n",
       "  '，',\n",
       "  '会',\n",
       "  '议',\n",
       "  '向',\n",
       "  '韩',\n",
       "  '国',\n",
       "  '及',\n",
       "  '旅',\n",
       "  '居',\n",
       "  '海',\n",
       "  '外',\n",
       "  '侨',\n",
       "  '胞',\n",
       "  '各',\n",
       "  '政',\n",
       "  '党',\n",
       "  '、',\n",
       "  '团',\n",
       "  '体',\n",
       "  '郑',\n",
       "  '重',\n",
       "  '建',\n",
       "  '议',\n",
       "  '，',\n",
       "  '于',\n",
       "  '今',\n",
       "  '年',\n",
       "  '8',\n",
       "  '月',\n",
       "  '1',\n",
       "  '4',\n",
       "  '日',\n",
       "  '和',\n",
       "  '1',\n",
       "  '5',\n",
       "  '日',\n",
       "  '朝',\n",
       "  '鲜',\n",
       "  '半',\n",
       "  '岛',\n",
       "  '解',\n",
       "  '放',\n",
       "  '5',\n",
       "  '3',\n",
       "  '周',\n",
       "  '年',\n",
       "  '之',\n",
       "  '际',\n",
       "  '，',\n",
       "  '在',\n",
       "  '板',\n",
       "  '门',\n",
       "  '店',\n",
       "  '举',\n",
       "  '行',\n",
       "  '由',\n",
       "  '朝',\n",
       "  '鲜',\n",
       "  '半',\n",
       "  '岛',\n",
       "  '北',\n",
       "  '南',\n",
       "  '双',\n",
       "  '方',\n",
       "  '及',\n",
       "  '海',\n",
       "  '外',\n",
       "  '同',\n",
       "  '胞',\n",
       "  '共',\n",
       "  '同',\n",
       "  '参',\n",
       "  '加',\n",
       "  '的',\n",
       "  '“',\n",
       "  '争',\n",
       "  '取',\n",
       "  '民',\n",
       "  '族',\n",
       "  '和',\n",
       "  '解',\n",
       "  '、',\n",
       "  '团',\n",
       "  '结',\n",
       "  '和',\n",
       "  '统',\n",
       "  '一',\n",
       "  '大',\n",
       "  '庆',\n",
       "  '典',\n",
       "  '”',\n",
       "  '。'],\n",
       " ['O',\n",
       "  'O',\n",
       "  'B-LOC',\n",
       "  'I-LOC',\n",
       "  'O',\n",
       "  'O',\n",
       "  'O',\n",
       "  'O',\n",
       "  'O',\n",
       "  'O',\n",
       "  'O',\n",
       "  'O',\n",
       "  'B-PER',\n",
       "  'I-PER',\n",
       "  'I-PER',\n",
       "  'O',\n",
       "  'O',\n",
       "  'O',\n",
       "  'B-LOC',\n",
       "  'I-LOC',\n",
       "  'I-LOC',\n",
       "  'I-LOC',\n",
       "  'I-LOC',\n",
       "  'I-LOC',\n",
       "  'I-LOC',\n",
       "  'I-LOC',\n",
       "  'I-LOC',\n",
       "  'I-LOC',\n",
       "  'I-LOC',\n",
       "  'O',\n",
       "  'O',\n",
       "  'O',\n",
       "  'O',\n",
       "  'O',\n",
       "  'O',\n",
       "  'O',\n",
       "  'O',\n",
       "  'O',\n",
       "  'O',\n",
       "  'O',\n",
       "  'O',\n",
       "  'O',\n",
       "  'B-LOC',\n",
       "  'I-LOC',\n",
       "  'O',\n",
       "  'O',\n",
       "  'O',\n",
       "  'O',\n",
       "  'O',\n",
       "  'O',\n",
       "  'B-LOC',\n",
       "  'I-LOC',\n",
       "  'O',\n",
       "  'O',\n",
       "  'O',\n",
       "  'O',\n",
       "  'O',\n",
       "  'O',\n",
       "  'O',\n",
       "  'O',\n",
       "  'O',\n",
       "  'O',\n",
       "  'O',\n",
       "  'O',\n",
       "  'O',\n",
       "  'O',\n",
       "  'O',\n",
       "  'O',\n",
       "  'O',\n",
       "  'O',\n",
       "  'O',\n",
       "  'O',\n",
       "  'O',\n",
       "  'O',\n",
       "  'O',\n",
       "  'O',\n",
       "  'O',\n",
       "  'O',\n",
       "  'O',\n",
       "  'O',\n",
       "  'O',\n",
       "  'O',\n",
       "  'B-LOC',\n",
       "  'I-LOC',\n",
       "  'I-LOC',\n",
       "  'I-LOC',\n",
       "  'O',\n",
       "  'O',\n",
       "  'O',\n",
       "  'O',\n",
       "  'O',\n",
       "  'O',\n",
       "  'O',\n",
       "  'O',\n",
       "  'O',\n",
       "  'O',\n",
       "  'B-LOC',\n",
       "  'I-LOC',\n",
       "  'I-LOC',\n",
       "  'O',\n",
       "  'O',\n",
       "  'O',\n",
       "  'B-LOC',\n",
       "  'I-LOC',\n",
       "  'I-LOC',\n",
       "  'I-LOC',\n",
       "  'O',\n",
       "  'O',\n",
       "  'O',\n",
       "  'O',\n",
       "  'O',\n",
       "  'O',\n",
       "  'O',\n",
       "  'O',\n",
       "  'O',\n",
       "  'O',\n",
       "  'O',\n",
       "  'O',\n",
       "  'O',\n",
       "  'O',\n",
       "  'O',\n",
       "  'O',\n",
       "  'O',\n",
       "  'O',\n",
       "  'O',\n",
       "  'O',\n",
       "  'O',\n",
       "  'O',\n",
       "  'O',\n",
       "  'O',\n",
       "  'O',\n",
       "  'O',\n",
       "  'O',\n",
       "  'O',\n",
       "  'O',\n",
       "  'O',\n",
       "  'O',\n",
       "  'O'])"
      ]
     },
     "execution_count": 24,
     "metadata": {},
     "output_type": "execute_result"
    }
   ],
   "source": [
    "train_x[6],train_y[6]"
   ]
  },
  {
   "cell_type": "markdown",
   "id": "df4bcc3f",
   "metadata": {},
   "source": [
    "多种词向量选择："
   ]
  },
  {
   "cell_type": "markdown",
   "id": "08f0dca6",
   "metadata": {},
   "source": [
    "- BertEmbedding\n",
    "- WordEmbedding \n",
    "- GPT2Embedding"
   ]
  },
  {
   "cell_type": "code",
   "execution_count": 25,
   "id": "22b05a14",
   "metadata": {
    "ExecuteTime": {
     "end_time": "2022-08-30T19:10:06.205074Z",
     "start_time": "2022-08-30T19:10:06.145826Z"
    }
   },
   "outputs": [
    {
     "name": "stderr",
     "output_type": "stream",
     "text": [
      "2022-08-31 03:10:06,198 [DEBUG] kashgari - ------------------------------------------------\n",
      "2022-08-31 03:10:06,199 [DEBUG] kashgari - Loaded transformer model's vocab\n",
      "2022-08-31 03:10:06,200 [DEBUG] kashgari - config_path       : /usr/local/codeData/KG-July/3/chinese_L-12_H-768_A-12/bert_config.json\n",
      "2022-08-31 03:10:06,201 [DEBUG] kashgari - vocab_path      : /usr/local/codeData/KG-July/3/chinese_L-12_H-768_A-12/vocab.txt\n",
      "2022-08-31 03:10:06,201 [DEBUG] kashgari - checkpoint_path : /usr/local/codeData/KG-July/3/chinese_L-12_H-768_A-12/bert_model.ckpt\n",
      "2022-08-31 03:10:06,202 [DEBUG] kashgari - Top 50 words    : ['[PAD]', '[unused1]', '[unused2]', '[unused3]', '[unused4]', '[unused5]', '[unused6]', '[unused7]', '[unused8]', '[unused9]', '[unused10]', '[unused11]', '[unused12]', '[unused13]', '[unused14]', '[unused15]', '[unused16]', '[unused17]', '[unused18]', '[unused19]', '[unused20]', '[unused21]', '[unused22]', '[unused23]', '[unused24]', '[unused25]', '[unused26]', '[unused27]', '[unused28]', '[unused29]', '[unused30]', '[unused31]', '[unused32]', '[unused33]', '[unused34]', '[unused35]', '[unused36]', '[unused37]', '[unused38]', '[unused39]', '[unused40]', '[unused41]', '[unused42]', '[unused43]', '[unused44]', '[unused45]', '[unused46]', '[unused47]', '[unused48]', '[unused49]']\n",
      "2022-08-31 03:10:06,202 [DEBUG] kashgari - ------------------------------------------------\n"
     ]
    }
   ],
   "source": [
    "from kashgari.embeddings import BertEmbedding\n",
    "\n",
    "bert_embed = BertEmbedding('/usr/local/codeData/KG-July/3/chinese_L-12_H-768_A-12')"
   ]
  },
  {
   "cell_type": "markdown",
   "id": "df74a97e",
   "metadata": {},
   "source": [
    "可选模型："
   ]
  },
  {
   "cell_type": "markdown",
   "id": "852e69cc",
   "metadata": {},
   "source": [
    "- CNN_LSTM_Model\n",
    "- BiLSTM_Model\n",
    "- BiGRU_Model\n",
    "- BiGRU_CRF_Model"
   ]
  },
  {
   "cell_type": "code",
   "execution_count": 26,
   "id": "bbe12242",
   "metadata": {
    "ExecuteTime": {
     "end_time": "2022-08-30T19:10:06.210876Z",
     "start_time": "2022-08-30T19:10:06.208127Z"
    }
   },
   "outputs": [],
   "source": [
    "from kashgari.tasks.labeling import BiLSTM_CRF_Model\n",
    "\n",
    "ner_model = BiLSTM_CRF_Model(bert_embed,sequence_length=20)"
   ]
  },
  {
   "cell_type": "markdown",
   "id": "853c51ad",
   "metadata": {},
   "source": [
    " ```get_default_hyper_parameters()``` "
   ]
  },
  {
   "cell_type": "markdown",
   "id": "39fa712c",
   "metadata": {},
   "source": [
    "```python\n",
    "hyper = BiLSTM_CRF_Model.default_hyper_parameters()\n",
    "print(hyper)\n",
    "#{'layer_blstm': {'units': 128, 'return_sequences': True}, 'layer_dropout': {'rate': 0.4}, 'layer_time_distributed': {}, #'layer_activation': {'activation': 'softmax'}}\n",
    "hyper[\"layer_blstm\"][\"units\"] = 100 # 修改参数\n",
    "ner_model = BiLSTM_CRF_Model(bert_embed,sequence_length=20,hyper_parameters=hyper)\n",
    "```"
   ]
  },
  {
   "cell_type": "markdown",
   "id": "d4c90587",
   "metadata": {},
   "source": [
    "模型训练"
   ]
  },
  {
   "cell_type": "code",
   "execution_count": 27,
   "id": "f7ea3a54",
   "metadata": {
    "ExecuteTime": {
     "end_time": "2022-08-30T20:09:47.303332Z",
     "start_time": "2022-08-30T19:10:06.212606Z"
    },
    "scrolled": true
   },
   "outputs": [
    {
     "name": "stderr",
     "output_type": "stream",
     "text": [
      "Preparing text vocab dict: 100%|███████████████████████████████████████████████████████████████████████████████████████████████████████████████████████████████████████████| 20864/20864 [00:00<00:00, 90939.09it/s]\n",
      "Preparing text vocab dict: 100%|█████████████████████████████████████████████████████████████████████████████████████████████████████████████████████████████████████████████| 2318/2318 [00:00<00:00, 89378.34it/s]\n",
      "2022-08-31 03:10:06,481 [DEBUG] kashgari - --- Build vocab dict finished, Total: 3500 ---\n",
      "2022-08-31 03:10:06,481 [DEBUG] kashgari - Top-10: ['[PAD]', '[UNK]', '[CLS]', '[SEP]', '，', '的', '。', '国', '一', '、']\n",
      "Preparing text vocab dict: 100%|██████████████████████████████████████████████████████████████████████████████████████████████████████████████████████████████████████████| 20864/20864 [00:00<00:00, 143278.56it/s]\n",
      "Preparing text vocab dict: 100%|████████████████████████████████████████████████████████████████████████████████████████████████████████████████████████████████████████████| 2318/2318 [00:00<00:00, 142275.51it/s]\n",
      "2022-08-31 03:10:06,650 [DEBUG] kashgari - --- Build vocab dict finished, Total: 8 ---\n",
      "2022-08-31 03:10:06,650 [DEBUG] kashgari - Top-10: ['[PAD]', 'O', 'I-ORG', 'I-LOC', 'B-LOC', 'I-PER', 'B-ORG', 'B-PER']\n",
      "/home/yuanlin/.local/lib/python3.8/site-packages/tensorflow/python/autograph/impl/api.py:376: UserWarning: CRF decoding models have serialization issues in TF >=2.5 . Please see isse #2476\n",
      "  return py_builtins.overload_of(f)(*args)\n",
      "2022-08-31 03:10:13,518 [DEBUG] kashgari - fit input shape: (2, 8, 20)\n",
      "2022-08-31 03:10:13,519 [DEBUG] kashgari - fit input shape: (8, 20)\n"
     ]
    },
    {
     "name": "stdout",
     "output_type": "stream",
     "text": [
      "Epoch 1/5\n",
      "WARNING:tensorflow:From /home/yuanlin/.local/lib/python3.8/site-packages/tensorflow/python/ops/array_ops.py:5043: calling gather (from tensorflow.python.ops.array_ops) with validate_indices is deprecated and will be removed in a future version.\n",
      "Instructions for updating:\n",
      "The `validate_indices` argument has no effect. Indices are always validated on CPU and never validated on GPU.\n",
      "2608/2608 [==============================] - 735s 275ms/step - loss: 1.9165 - accuracy: 0.9614 - val_loss: 13.6085 - val_accuracy: 0.9722\n",
      "Epoch 2/5\n",
      "2608/2608 [==============================] - 715s 274ms/step - loss: 0.8526 - accuracy: 0.9753 - val_loss: 9.8178 - val_accuracy: 0.9317\n",
      "Epoch 3/5\n",
      "2608/2608 [==============================] - 712s 273ms/step - loss: 0.6696 - accuracy: 0.9779 - val_loss: 8.4371 - val_accuracy: 0.9272\n",
      "Epoch 4/5\n",
      "2608/2608 [==============================] - 707s 271ms/step - loss: 0.5708 - accuracy: 0.9795 - val_loss: 7.8732 - val_accuracy: 0.9193\n",
      "Epoch 5/5\n",
      "2608/2608 [==============================] - 705s 270ms/step - loss: 0.5040 - accuracy: 0.9810 - val_loss: 7.7204 - val_accuracy: 0.9185\n"
     ]
    },
    {
     "data": {
      "text/plain": [
       "<tensorflow.python.keras.callbacks.History at 0x7f46404586d0>"
      ]
     },
     "execution_count": 27,
     "metadata": {},
     "output_type": "execute_result"
    }
   ],
   "source": [
    "ner_model.fit(train_x,\n",
    "          train_y,\n",
    "          x_validate=valid_x,   \n",
    "          y_validate=valid_y,\n",
    "          epochs=5, batch_size=8)"
   ]
  },
  {
   "cell_type": "markdown",
   "id": "eaf93db1",
   "metadata": {
    "ExecuteTime": {
     "end_time": "2022-08-30T20:11:22.947237Z",
     "start_time": "2022-08-30T20:11:22.944847Z"
    }
   },
   "source": [
    "验证模型，此方法将打印出详细的验证报告："
   ]
  },
  {
   "cell_type": "code",
   "execution_count": 31,
   "id": "e829bb44",
   "metadata": {
    "ExecuteTime": {
     "end_time": "2022-08-30T20:13:04.868057Z",
     "start_time": "2022-08-30T20:11:39.771473Z"
    },
    "scrolled": true
   },
   "outputs": [
    {
     "name": "stderr",
     "output_type": "stream",
     "text": [
      "2022-08-31 04:11:39,854 [DEBUG] kashgari - predict seq_length: 20, input: (2, 4636, 20)\n"
     ]
    },
    {
     "name": "stdout",
     "output_type": "stream",
     "text": [
      "145/145 [==============================] - 84s 548ms/step\n"
     ]
    },
    {
     "name": "stderr",
     "output_type": "stream",
     "text": [
      "2022-08-31 04:13:04,103 [DEBUG] kashgari - predict output: (4636, 20)\n",
      "2022-08-31 04:13:04,104 [DEBUG] kashgari - predict output argmax: [[0 1 1 ... 1 1 1]\n",
      " [0 1 1 ... 1 1 1]\n",
      " [0 1 1 ... 1 1 1]\n",
      " ...\n",
      " [0 1 1 ... 1 1 1]\n",
      " [0 1 1 ... 1 1 1]\n",
      " [0 1 1 ... 4 3 1]]\n"
     ]
    },
    {
     "name": "stdout",
     "output_type": "stream",
     "text": [
      "\n",
      "           precision    recall  f1-score   support\n",
      "\n",
      "      LOC     0.8963    0.8910    0.8936      1862\n",
      "      ORG     0.8855    0.8214    0.8522      1271\n",
      "      PER     0.9662    0.9601    0.9632      1103\n",
      "\n",
      "micro avg     0.9118    0.8881    0.8998      4236\n",
      "macro avg     0.9113    0.8881    0.8993      4236\n",
      "\n"
     ]
    },
    {
     "data": {
      "text/plain": [
       "{'detail': {'LOC': {'precision': 0.8962722852512156,\n",
       "   'recall': 0.8909774436090225,\n",
       "   'f1-score': 0.8936170212765958,\n",
       "   'support': 1862},\n",
       "  'ORG': {'precision': 0.8854961832061069,\n",
       "   'recall': 0.8214004720692368,\n",
       "   'f1-score': 0.8522448979591837,\n",
       "   'support': 1271},\n",
       "  'PER': {'precision': 0.9662408759124088,\n",
       "   'recall': 0.9601087941976428,\n",
       "   'f1-score': 0.9631650750341064,\n",
       "   'support': 1103}},\n",
       " 'precision': 0.911257868301254,\n",
       " 'recall': 0.8881019830028328,\n",
       " 'f1-score': 0.8993128509645333,\n",
       " 'support': 4236}"
      ]
     },
     "execution_count": 31,
     "metadata": {},
     "output_type": "execute_result"
    }
   ],
   "source": [
    "ner_model.evaluate(test_x, test_y,truncating=True)"
   ]
  },
  {
   "cell_type": "markdown",
   "id": "a1937272",
   "metadata": {},
   "source": [
    "模型保存："
   ]
  },
  {
   "cell_type": "code",
   "execution_count": 32,
   "id": "26698b56",
   "metadata": {
    "ExecuteTime": {
     "end_time": "2022-08-30T20:13:06.367283Z",
     "start_time": "2022-08-30T20:13:04.870359Z"
    }
   },
   "outputs": [
    {
     "name": "stderr",
     "output_type": "stream",
     "text": [
      "/home/yuanlin/.local/lib/python3.8/site-packages/tensorflow/python/keras/utils/generic_utils.py:494: CustomMaskWarning: Custom mask layers require a config and must override get_config. When loading, the custom mask layer must be passed to the custom_objects argument.\n",
      "  warnings.warn('Custom mask layers require a config and must override '\n",
      "2022-08-31 04:13:06,363 [INFO] kashgari - model saved to /usr/local/CodeProject/CodePro/KG-July/ner.h5\n"
     ]
    },
    {
     "data": {
      "text/plain": [
       "'/usr/local/CodeProject/CodePro/KG-July/ner.h5'"
      ]
     },
     "execution_count": 32,
     "metadata": {},
     "output_type": "execute_result"
    }
   ],
   "source": [
    "ner_model.save('ner.h5')"
   ]
  },
  {
   "cell_type": "markdown",
   "id": "3b9755d2",
   "metadata": {},
   "source": [
    "h5 文件是层次数据格式第 5 代的版本（Hierarchical Data Format，HDF5），它是用于存储科学数据的一种文件格式和库文件，由美国超级计算与应用中心研发的文件格式，用以存储和组织大规模数据。目前由非营利组织 HDF 小组提供支持。h5 文件将包含：\n",
    "- 模型的结构，以便重构该模型\n",
    "- 模型的权重\n",
    "- 训练配置（损失函数，优化器等）\n",
    "- 优化器的状态，以便于从上次训练中断的地方开始"
   ]
  },
  {
   "cell_type": "markdown",
   "id": "ae3de20f",
   "metadata": {},
   "source": [
    "对新输入进行预测："
   ]
  },
  {
   "cell_type": "code",
   "execution_count": 33,
   "id": "1aae59e6",
   "metadata": {
    "ExecuteTime": {
     "end_time": "2022-08-30T20:13:06.372456Z",
     "start_time": "2022-08-30T20:13:06.369530Z"
    }
   },
   "outputs": [],
   "source": [
    "def ner_predict(input_sen,model):\n",
    "    ners = model.predict([[char for char in input_sen]])\n",
    "    return ners"
   ]
  },
  {
   "cell_type": "code",
   "execution_count": 34,
   "id": "deca3637",
   "metadata": {
    "ExecuteTime": {
     "end_time": "2022-08-30T20:13:22.779787Z",
     "start_time": "2022-08-30T20:13:06.374898Z"
    }
   },
   "outputs": [
    {
     "name": "stderr",
     "output_type": "stream",
     "text": [
      "/tmp/ipykernel_1094519/969091605.py:2: DeprecationWarning: The 'load_model' function is deprecated, use 'XX_Model.load_model' instead\n",
      "  loaded_model = kashgari.utils.load_model('ner.h5')\n",
      "2022-08-31 04:13:09,164 [DEBUG] kashgari - ------------------------------------------------\n",
      "2022-08-31 04:13:09,165 [DEBUG] kashgari - Loaded transformer model's vocab\n",
      "2022-08-31 04:13:09,166 [DEBUG] kashgari - config_path       : /usr/local/codeData/KG-July/3/chinese_L-12_H-768_A-12/bert_config.json\n",
      "2022-08-31 04:13:09,167 [DEBUG] kashgari - vocab_path      : /usr/local/codeData/KG-July/3/chinese_L-12_H-768_A-12/vocab.txt\n",
      "2022-08-31 04:13:09,167 [DEBUG] kashgari - checkpoint_path : /usr/local/codeData/KG-July/3/chinese_L-12_H-768_A-12/bert_model.ckpt\n",
      "2022-08-31 04:13:09,168 [DEBUG] kashgari - Top 50 words    : ['[PAD]', '[unused1]', '[unused2]', '[unused3]', '[unused4]', '[unused5]', '[unused6]', '[unused7]', '[unused8]', '[unused9]', '[unused10]', '[unused11]', '[unused12]', '[unused13]', '[unused14]', '[unused15]', '[unused16]', '[unused17]', '[unused18]', '[unused19]', '[unused20]', '[unused21]', '[unused22]', '[unused23]', '[unused24]', '[unused25]', '[unused26]', '[unused27]', '[unused28]', '[unused29]', '[unused30]', '[unused31]', '[unused32]', '[unused33]', '[unused34]', '[unused35]', '[unused36]', '[unused37]', '[unused38]', '[unused39]', '[unused40]', '[unused41]', '[unused42]', '[unused43]', '[unused44]', '[unused45]', '[unused46]', '[unused47]', '[unused48]', '[unused49]']\n",
      "2022-08-31 04:13:09,168 [DEBUG] kashgari - ------------------------------------------------\n",
      "2022-08-31 04:13:17,492 [WARNING] kashgari - Sequence length is None, will use the max length of the samples, which is 12\n",
      "2022-08-31 04:13:17,493 [DEBUG] kashgari - predict seq_length: None, input: (2, 1, 12)\n"
     ]
    },
    {
     "name": "stdout",
     "output_type": "stream",
     "text": [
      "1/1 [==============================] - 5s 5s/step\n"
     ]
    },
    {
     "name": "stderr",
     "output_type": "stream",
     "text": [
      "2022-08-31 04:13:22,775 [DEBUG] kashgari - predict output: (1, 12)\n",
      "2022-08-31 04:13:22,776 [DEBUG] kashgari - predict output argmax: [[0 6 2 2 1 1 1 1 1 1 1 0]]\n"
     ]
    },
    {
     "data": {
      "text/plain": [
       "[['B-ORG', 'I-ORG', 'I-ORG', 'O', 'O', 'O', 'O', 'O', 'O', 'O']]"
      ]
     },
     "execution_count": 34,
     "metadata": {},
     "output_type": "execute_result"
    }
   ],
   "source": [
    "import kashgari\n",
    "loaded_model = kashgari.utils.load_model('ner.h5')\n",
    "input_sen = \"新华社是个不错的单位\"\n",
    "ners = ner_predict(input_sen,loaded_model)\n",
    "ners"
   ]
  }
 ],
 "metadata": {
  "hide_input": false,
  "kernelspec": {
   "display_name": "Python 3 (ipykernel)",
   "language": "python",
   "name": "python3"
  },
  "language_info": {
   "codemirror_mode": {
    "name": "ipython",
    "version": 3
   },
   "file_extension": ".py",
   "mimetype": "text/x-python",
   "name": "python",
   "nbconvert_exporter": "python",
   "pygments_lexer": "ipython3",
   "version": "3.8.10"
  },
  "toc": {
   "base_numbering": 1,
   "nav_menu": {},
   "number_sections": true,
   "sideBar": true,
   "skip_h1_title": false,
   "title_cell": "Table of Contents",
   "title_sidebar": "Contents",
   "toc_cell": false,
   "toc_position": {},
   "toc_section_display": true,
   "toc_window_display": false
  }
 },
 "nbformat": 4,
 "nbformat_minor": 5
}
