{
 "cells": [
  {
   "cell_type": "markdown",
   "id": "974f36f8",
   "metadata": {},
   "source": [
    "pyltp 安装指南："
   ]
  },
  {
   "cell_type": "markdown",
   "id": "4512191f",
   "metadata": {},
   "source": [
    "使用whl轮子安装:  \n",
    "链接：https://pan.baidu.com/s/1Jbw6IjVbb-URZCHvh3FNDQ  \n",
    "提取码：i3le  "
   ]
  },
  {
   "cell_type": "markdown",
   "id": "513125dd",
   "metadata": {},
   "source": [
    "pyltp数据包安装:  \n",
    "pyltp要能实现分词、词性标注、命名实体识别，还需要安装数据包以及模型。请确保下载的模型版本与当前版本的 pyltp 对应，否则会导致程序无法正确加载模型。  \n",
    "模型下载地址：https://pan.baidu.com/share/link?shareid=1988562907&uk=2738088569#list/path=%2F  "
   ]
  },
  {
   "cell_type": "markdown",
   "id": "bda2b19d",
   "metadata": {},
   "source": [
    "参考资料：\n",
    "- https://gitee.com/v_wanglei/entity_relation_extraction/blob/master/%E5%AE%9E%E4%BD%93%E5%85%B3%E7%B3%BB%E6%8A%BD%E5%8F%96.md\n",
    "- https://www.docin.com/p-1715877509.html"
   ]
  },
  {
   "cell_type": "markdown",
   "id": "6a2b8d04",
   "metadata": {},
   "source": [
    "导包："
   ]
  },
  {
   "cell_type": "code",
   "execution_count": 1,
   "id": "d01fc258",
   "metadata": {},
   "outputs": [],
   "source": [
    "import sys\n",
    "import os\n",
    " \n",
    "from pyltp import Segmentor, Postagger, Parser, NamedEntityRecognizer"
   ]
  },
  {
   "cell_type": "code",
   "execution_count": 13,
   "id": "ca1aef49",
   "metadata": {},
   "outputs": [],
   "source": [
    "MODELDIR = \"ltp_data/\" # 注意斜杠方向\n",
    "segmentor = Segmentor(os.path.join(MODELDIR, \"cws.model\")) # 分词器\n",
    "#segmentor.load(os.path.join(MODELDIR, \"cws.model\"))\n",
    "\n",
    "postagger = Postagger(os.path.join(MODELDIR, \"pos.model\")) # 词性标注\n",
    "#postagger.load(os.path.join(MODELDIR, \"pos.model\"))\n",
    "\n",
    "recognizer = NamedEntityRecognizer(os.path.join(MODELDIR, \"ner.model\")) # 命名实体识别\n",
    "#recognizer.load(os.path.join(MODELDIR, \"ner.model\"))\n",
    "\n",
    "parser = Parser(os.path.join(MODELDIR, \"parser.model\")) # 依存句法分析\n",
    "#parser.load(os.path.join(MODELDIR, \"parser.model\"))"
   ]
  },
  {
   "cell_type": "markdown",
   "id": "2a290243",
   "metadata": {},
   "source": [
    "输入待分析的文本："
   ]
  },
  {
   "cell_type": "code",
   "execution_count": 69,
   "id": "a0067ac6",
   "metadata": {},
   "outputs": [],
   "source": [
    "#sentence = \"父亲此后前往哈佛大学求学\"\n",
    "#sentence = \"德国国防部正在制订行动计划的细节。\"\n",
    "sentence = \"德国政府于26日原则上决定参与有关军事行动\""
   ]
  },
  {
   "cell_type": "markdown",
   "id": "c65e3cb9",
   "metadata": {},
   "source": [
    "分词"
   ]
  },
  {
   "cell_type": "code",
   "execution_count": 70,
   "id": "b16416c9",
   "metadata": {},
   "outputs": [
    {
     "name": "stdout",
     "output_type": "stream",
     "text": [
      "德国\t政府\t于\t26日\t原则\t上\t决定\t参与\t有关\t军事\t行动\n"
     ]
    }
   ],
   "source": [
    "WORDS = segmentor.segment(sentence)\n",
    "print(\"\\t\".join(WORDS))"
   ]
  },
  {
   "cell_type": "markdown",
   "id": "e5cf0820",
   "metadata": {},
   "source": [
    "词性标注"
   ]
  },
  {
   "cell_type": "code",
   "execution_count": 71,
   "id": "ab8e3e04",
   "metadata": {},
   "outputs": [
    {
     "name": "stdout",
     "output_type": "stream",
     "text": [
      "ns\tn\tp\tnt\tn\tnd\tv\tv\tv\tn\tv\n"
     ]
    },
    {
     "data": {
      "text/plain": [
       "11"
      ]
     },
     "execution_count": 71,
     "metadata": {},
     "output_type": "execute_result"
    }
   ],
   "source": [
    "POSTAGS = postagger.postag(WORDS)\n",
    "print(\"\\t\".join(\"%s\" % postag for postag in POSTAGS))\n",
    "len(WORDS)"
   ]
  },
  {
   "cell_type": "markdown",
   "id": "1c6c8dbf",
   "metadata": {},
   "source": [
    "命名实体识别"
   ]
  },
  {
   "cell_type": "code",
   "execution_count": 72,
   "id": "107107dd",
   "metadata": {},
   "outputs": [
    {
     "name": "stdout",
     "output_type": "stream",
     "text": [
      "B-Ni\tE-Ni\tO\tO\tO\tO\tO\tO\tO\tO\tO\n"
     ]
    }
   ],
   "source": [
    "NETAGS = recognizer.recognize(WORDS, POSTAGS)\n",
    "print(\"\\t\".join(\"%s\" % netag for netag in NETAGS))"
   ]
  },
  {
   "cell_type": "markdown",
   "id": "d26e7899",
   "metadata": {},
   "source": [
    "依存句法分析"
   ]
  },
  {
   "cell_type": "code",
   "execution_count": 73,
   "id": "9943b920",
   "metadata": {},
   "outputs": [
    {
     "name": "stdout",
     "output_type": "stream",
     "text": [
      "2:ATT\t7:SBV\t7:ADV\t5:ATT\t6:ATT\t3:POB\t0:HED\t7:VOB\t11:ATT\t11:ATT\t8:VOB\n"
     ]
    },
    {
     "data": {
      "text/plain": [
       "11"
      ]
     },
     "execution_count": 73,
     "metadata": {},
     "output_type": "execute_result"
    }
   ],
   "source": [
    "ARCS = parser.parse(WORDS, POSTAGS) \n",
    "print(\"\\t\".join(\"%d:%s\" % (arc.head, arc.relation) for arc in ARCS))\n",
    "len(ARCS)"
   ]
  },
  {
   "cell_type": "markdown",
   "id": "8aa4814f",
   "metadata": {},
   "source": [
    "德国(1)   政府\t   于\t  26日\t 原则\t    上\t   决定\t  参与\t 有关\t   军事    行动  \n",
    "2:ATT\t7:SBV\t7:ADV\t5:ATT\t6:ATT\t3:POB\t0:HED\t7:VOB\t11:ATT\t11:ATT\t8:VOB"
   ]
  },
  {
   "cell_type": "markdown",
   "id": "16a13061",
   "metadata": {},
   "source": [
    "为句子中的每个词语维护一个保存句法依存儿子节点的字典："
   ]
  },
  {
   "cell_type": "code",
   "execution_count": 74,
   "id": "c1788b36",
   "metadata": {},
   "outputs": [],
   "source": [
    "def build_parse_child(arcs):\n",
    "    \"\"\"\n",
    "    Args:\n",
    "        arcs: 句法依存列表\n",
    "    \"\"\"\n",
    "    words_children = []\n",
    "    for index in range(len(arcs)):\n",
    "        word_children = {}\n",
    "        for arc_index,arc in enumerate(arcs):\n",
    "            if arc.head == index+1: # 默认 head 为 0 \n",
    "                if arc.relation in word_children:\n",
    "                    word_children[arc.relation].append(arc_index)\n",
    "                else:\n",
    "                    word_children[arc.relation] = [arc_index]\n",
    "        words_children.append(word_children)\n",
    "    return words_children"
   ]
  },
  {
   "cell_type": "code",
   "execution_count": 75,
   "id": "c7ad7539",
   "metadata": {},
   "outputs": [
    {
     "data": {
      "text/plain": [
       "[{},\n",
       " {'ATT': [0]},\n",
       " {'POB': [5]},\n",
       " {},\n",
       " {'ATT': [3]},\n",
       " {'ATT': [4]},\n",
       " {'SBV': [1], 'ADV': [2], 'VOB': [7]},\n",
       " {'VOB': [10]},\n",
       " {},\n",
       " {},\n",
       " {'ATT': [8, 9]}]"
      ]
     },
     "execution_count": 75,
     "metadata": {},
     "output_type": "execute_result"
    }
   ],
   "source": [
    "WORDS_CHILDREN = build_parse_child(ARCS)\n",
    "WORDS_CHILDREN # 每个元素为对应的单词及其儿子节点（加上相关关系）"
   ]
  },
  {
   "cell_type": "markdown",
   "id": "2f67b4ca",
   "metadata": {},
   "source": [
    "补全识别的部分实体："
   ]
  },
  {
   "cell_type": "markdown",
   "id": "49267487",
   "metadata": {},
   "source": [
    "比如：行动(VOB) -> 有关(ATT)   军事(ATT)   行动(VOB)"
   ]
  },
  {
   "cell_type": "code",
   "execution_count": 76,
   "id": "a81afbd8",
   "metadata": {},
   "outputs": [],
   "source": [
    "def get_complete_ner(word_index):\n",
    "    word_children = WORDS_CHILDREN[word_index]\n",
    "    prefix = \"\" # 前缀\n",
    "    if \"ATT\" in word_children:\n",
    "        for i in range(len(word_children[\"ATT\"])):\n",
    "            prefix += get_complete_ner(word_children[\"ATT\"][i])\n",
    "    postfix = \"\" # 后缀\n",
    "    if POSTAGS[word_index] == \"v\":\n",
    "        if \"VOB\" in word_children:\n",
    "            postfix += get_complete_ner(word_children[\"VOB\"][0])\n",
    "        if \"SBV\" in word_children:\n",
    "            postfix += get_complete_ner(word_children[\"SBV\"][0]) + prefix\n",
    "    return prefix + WORDS[word_index] + postfix"
   ]
  },
  {
   "cell_type": "markdown",
   "id": "443a91d1",
   "metadata": {},
   "source": [
    "对于给定的句子进行事实三元组抽取:"
   ]
  },
  {
   "cell_type": "code",
   "execution_count": 83,
   "id": "0e1a4a2f",
   "metadata": {},
   "outputs": [],
   "source": [
    "def extract_triple():\n",
    "    for index,pos in enumerate(POSTAGS):\n",
    "        # 抽取以谓词为中心的事实三元组\n",
    "        if pos == \"v\": # 如果为动词\n",
    "            word_children = WORDS_CHILDREN[index] # 取其对应的儿子节点\n",
    "            # 主谓宾，例：我送她一束花\n",
    "            if \"SBV\" in word_children and \"VOB\" in word_children:\n",
    "                e1 = get_complete_ner(word_children[\"SBV\"][0])\n",
    "                r = WORDS[index]\n",
    "                e2 = get_complete_ner(word_children[\"VOB\"][0])\n",
    "                print(\"主语谓语宾语关系\\t(%s, %s, %s)\\n\" % (e1, r, e2))\n",
    "            # 定语后置，动宾关系，例：位于火奴鲁鲁的大型私立学校\n",
    "            if ARCS[index].relation == \"ATT\":\n",
    "                if \"VOB\" in word_children:\n",
    "                    e1 = get_complete_ner(ARCS[index].head-1)\n",
    "                    r = WORDS[index]\n",
    "                    e2 = get_complete_ner(word_children[\"VOB\"][0])\n",
    "                    temp = r + e2\n",
    "                    if temp == e1[:len(temp)]:\n",
    "                        e1 = e1[len(temp):]\n",
    "                    if temp not in e1:\n",
    "                        print(\"定语后置动宾关系\\t(%s, %s, %s)\\n\" % (e1, r, e2))\n",
    "            # 含有介宾关系的主谓动补关系，例：哈立德居住在土耳其\n",
    "            if \"SBV\" in word_children and \"CMP\" in word_children:\n",
    "                e1 = get_complete_ner(word_children[\"SBV\"][0])\n",
    "                cmp_index = word_children[\"CMP\"][0]\n",
    "                r = WORDS[index] + WORDS[cmp_index]\n",
    "                if \"POB\" in WORDS_CHILDREN[cmp_index]:\n",
    "                    e2 = get_complete_ner(WORDS_CHILDREN[cmp_index][\"POB\"][0])\n",
    "                    print(\"介宾关系主谓动补\\t(%s, %s, %s)\\n\" % (e1, r, e2))\n",
    "        "
   ]
  },
  {
   "cell_type": "markdown",
   "id": "091e3c1f",
   "metadata": {},
   "source": [
    "批量实验："
   ]
  },
  {
   "cell_type": "code",
   "execution_count": 84,
   "id": "179c5222",
   "metadata": {},
   "outputs": [
    {
     "name": "stdout",
     "output_type": "stream",
     "text": [
      "原句 贝拉克·侯赛因·奥巴马的身世复杂，1961年8月4日出生在美国夏威夷州檀香山市，父亲是来自肯尼亚的留学生，母亲是堪萨斯州白人。\n",
      "主语谓语宾语关系\t(父亲, 是, 来自肯尼亚留学生)\n",
      "\n",
      "定语后置动宾关系\t(留学生, 来自, 肯尼亚)\n",
      "\n",
      "主语谓语宾语关系\t(母亲, 是, 堪萨斯州白人)\n",
      "\n",
      "原句 他们二人在就读夏威夷大学期间相识。\n",
      "定语后置动宾关系\t(期间, 就读, 夏威夷大学)\n",
      "\n",
      "原句 由于父亲此后前往哈佛大学求学，奥巴马从小由母亲抚养，奥巴马两岁多时，他的父母婚姻破裂。\n",
      "主语谓语宾语关系\t(父亲, 前往, 哈佛大学)\n",
      "\n",
      "原句 6岁时，奥巴马随母亲和继父前往印度尼西亚首都雅加达生活，并在当地的一所小学就读了两年。\n",
      "主语谓语宾语关系\t(奥巴马, 前往, 印度尼西亚首都雅加达)\n",
      "\n",
      "原句 四年后他的一家又回到夏威夷，与外祖父母住在一起，从五年级起，他就读于位于火奴鲁鲁的大型私立学校——普纳荷学校（中华民国第一任临时大总统孙文曾于此校就读）至12年级，于1979年毕业，若干年后母亲与继父离婚，他便随母迁居美国本土。\n",
      "主语谓语宾语关系\t(他一家, 回到, 夏威夷)\n",
      "\n",
      "介宾关系主谓动补\t(他, 就读于, 就读位于火奴鲁鲁大型私立学校普纳荷学校中华民国第一任临时大总统孙文)\n",
      "\n",
      "定语后置动宾关系\t(大型私立学校, 位于, 火奴鲁鲁)\n",
      "\n",
      "主语谓语宾语关系\t(他, 迁居, 美国本土)\n",
      "\n",
      "原句 青年时期，奥巴马因为自己的多种族背景，很难取得社会认同，十分自卑，他过了一段荒唐的日子，做了很多愚蠢的事，比如逃学、吸毒、泡妞等，成了一个不折不扣的“迷途叛逆少年”。\n",
      "主语谓语宾语关系\t(奥巴马, 取得, 社会认同)\n",
      "\n",
      "主语谓语宾语关系\t(他, 过, 一段荒唐日子)\n",
      "\n",
      "原句 十几岁的他成了一个瘾君子，曾以吸食大麻和可卡因来“将‘我是谁’的问题挤出脑袋”。\n",
      "主语谓语宾语关系\t(十几岁他, 成, 一个瘾君子)\n",
      "\n",
      "主语谓语宾语关系\t(来, 是, 谁)\n",
      "\n",
      "主语谓语宾语关系\t(问题, 挤出, 脑袋)\n",
      "\n",
      "原句 给青年的他带来深刻影响的不是他的父母亲，而是他的外祖父斯坦利·埃默·邓汉姆和外祖母斯坦利·安·邓汉姆，著名黑人诗人、记者和美国左翼活动家法兰克·米歇尔·戴维斯也是深刻影响青年奥巴马的人物，19世纪60年代戴维斯就成为奥巴马家里的常客。\n",
      "主语谓语宾语关系\t(带来深刻影响, 是, 他父母亲)\n",
      "\n",
      "主语谓语宾语关系\t(他外祖父斯坦利·埃默·邓汉姆, 是, 影响青年奥巴马人物)\n",
      "\n",
      "主语谓语宾语关系\t(戴维斯, 成为, 奥巴马家里常客)\n",
      "\n",
      "原句 面对猛烈的空中打击和地面进攻，极端组织“伊斯兰国”的大本营拉卡开始出现恐慌，正在加固城防和转移人员。\n",
      "定语后置动宾关系\t(大本营拉卡, 组织, 伊斯兰国)\n",
      "\n",
      "主语谓语宾语关系\t(组织伊斯兰国大本营拉卡, 开始, 出现恐慌)\n",
      "\n",
      "原句 拉卡市位于叙利亚北部，去年初遭“伊斯兰国”占领并作为大本营。\n",
      "主语谓语宾语关系\t(拉卡市, 位于, 叙利亚北部)\n",
      "\n",
      "原句 当地居民说，由于反“伊斯兰国”武装进逼以及俄罗斯和法国加强空袭，“伊斯兰国”人员近来开始强化防御，在通往这座城市的道路上挖了大量壕沟，他们还在城外堆放许多灌注汽油的轮胎，准备在受到进攻时点燃。\n",
      "主语谓语宾语关系\t(当地居民, 说, 进逼武装)\n",
      "\n",
      "主语谓语宾语关系\t(俄罗斯, 加强, 空袭)\n",
      "\n",
      "主语谓语宾语关系\t(伊斯兰国人员, 开始, 强化防御)\n",
      "\n",
      "定语后置动宾关系\t(道路, 通往, 这座城市)\n",
      "\n",
      "主语谓语宾语关系\t(他们, 堆放, 许多灌注汽油轮胎)\n",
      "\n",
      "定语后置动宾关系\t(时, 受到, 进攻)\n",
      "\n",
      "原句 由于空袭猛烈，“伊斯兰国”高层命令手下的武装人员撤离营地，躲入居民区，而且只能在小街小巷中移动，以避免被飞机发现，另外，他们下令，夜间禁止开汽车，拉卡原居民哈立德18日告诉美联社记者，10月下旬开始，“伊斯兰国”禁止当地居民逃难，而且最近强化了这一禁令，现在，居民人心惶惶，害怕被“伊斯兰国”用作“人体盾牌”，哈立德眼下居住在土耳其，不过仍与住在拉卡的亲戚朋友保持通信联系。\n",
      "主语谓语宾语关系\t(伊斯兰国高层命令手下武装人员, 撤离, 营地)\n",
      "\n",
      "主语谓语宾语关系\t(他们, 下令, 禁止)\n",
      "\n",
      "主语谓语宾语关系\t(拉卡原居民哈立德, 告诉, 美联社记者)\n",
      "\n",
      "主语谓语宾语关系\t(伊斯兰国, 禁止, 逃难)\n",
      "\n",
      "介宾关系主谓动补\t(哈立德, 居住在, 土耳其)\n",
      "\n",
      "原句 位于英国伦敦的“叙利亚人权观察”组织18日援引当地居民的话说，由于担心安全，“伊斯兰国”高层正在把家属从拉卡向伊拉克北部的摩苏尔市转移。\n",
      "主语谓语宾语关系\t(英国伦敦叙利亚人权观察组织, 援引, 当地居民话)\n",
      "\n",
      "原句 俄罗斯9月31日出兵，开始在叙利亚对“伊斯兰国”发动猛烈空袭，战果显著，俄总统弗拉基米尔·普京本月16日宣布，由于俄客机上月31日在埃及上空遭炸弹袭击而坠毁，俄方将强化在叙空袭行动，次日，国防部长谢尔盖·绍伊古宣布，俄将把空袭强度增为原来的两倍，并已制定针对“伊斯兰国”的新的空袭计划，决定动用远程战略轰炸机。\n",
      "主语谓语宾语关系\t(俄总统弗拉基米尔·普京, 宣布, 遭炸弹袭击俄客机)\n",
      "\n",
      "主语谓语宾语关系\t(俄客机, 遭, 炸弹袭击)\n",
      "\n",
      "主语谓语宾语关系\t(俄方, 强化, 空袭行动)\n",
      "\n",
      "主语谓语宾语关系\t(国防部长谢尔盖·绍伊古, 宣布, 增俄)\n",
      "\n",
      "原句 9月30日以来，俄军已经发动近1900次空袭，摧毁大约2700个“伊斯兰国”目标。\n",
      "主语谓语宾语关系\t(俄军, 发动, 空袭)\n",
      "\n",
      "原句 法国首都巴黎本月13日遭“伊斯兰国”人员恐怖袭击后，法方也强化空袭，派遣“戴高乐”号航空母舰前往叙利亚附近海域。\n",
      "主语谓语宾语关系\t(法国首都巴黎, 遭, 袭击伊斯兰国人员)\n",
      "\n",
      "定语后置动宾关系\t(法国首都巴黎后, 遭, 袭击伊斯兰国人员)\n",
      "\n",
      "主语谓语宾语关系\t(法方, 强化, 空袭)\n",
      "\n",
      "原句 17日，法国总统弗朗索瓦·奥朗德还与普京通话，双方同意，两国军队和情报部门将建立更加密切的接触和协调以打击恐怖组织。\n",
      "主语谓语宾语关系\t(双方, 同意, 建立密切接触两国军队)\n",
      "\n",
      "主语谓语宾语关系\t(两国军队, 建立, 密切接触)\n",
      "\n",
      "原句 在叙利亚，库尔德武装与多支阿拉伯人武装10月组成“叙利亚民主力量”联盟，联手对付“伊斯兰国”，这一联盟获得美国主导的打击“伊斯兰国”多国部队空袭支持，夺取了一些“伊斯兰国”控制的城镇并持续向拉卡推进，已经进抵卡拉以北大约50公里的艾因伊萨镇。\n",
      "主语谓语宾语关系\t(阿拉伯人武装, 组成, 叙利亚民主力量联盟)\n",
      "\n",
      "主语谓语宾语关系\t(库尔德武装, 对付, 伊斯兰国)\n",
      "\n",
      "主语谓语宾语关系\t(这一联盟, 获得, 主导美国打击空袭伊斯兰国多国部队)\n",
      "\n",
      "定语后置动宾关系\t(艾因伊萨镇, 抵, 卡拉以北大约50公里)\n",
      "\n",
      "原句 这一联盟正在向距离卡拉大约150公里的另一个镇逼近，如果夺取这个镇，他们打算从那里和艾因伊萨镇分头进攻拉卡。\n",
      "主语谓语宾语关系\t(他们, 打算, 进攻拉卡)\n",
      "\n",
      "原句 库尔德人穆斯塔法·巴勒说，如果夺回拉卡，将是对“伊斯兰国”的沉重打击，标志着这一极端组织势力在叙利亚的“末日开始到来”，不过，他同时说，即使有多国部队空中支援，“叙利亚民主力量”联盟实力有限，预计拉卡之战“将是一场旷日持久的恶战”，因而需要更多国际支持。\n",
      "主语谓语宾语关系\t(库尔德人穆斯塔法·巴勒, 说, 是对打击夺回拉卡)\n",
      "\n",
      "主语谓语宾语关系\t(夺回拉卡, 是, 对打击)\n",
      "\n",
      "主语谓语宾语关系\t(末日, 开始, 到来)\n",
      "\n",
      "主语谓语宾语关系\t(这一极端组织势力, 说, 有支援)\n",
      "\n",
      "主语谓语宾语关系\t(拉卡战, 是, 一场旷日持久恶战)\n",
      "\n",
      "原句 新华网快讯，国家主席习近平当地时间12月1日上午抵达哈拉雷，开始对津巴布韦进行国事访问。\n",
      "主语谓语宾语关系\t(新华网快讯, 抵达, 哈拉雷)\n",
      "\n",
      "原句 当地时间上午，国家主席习近平抵达津巴布韦首都哈拉雷，开启为期两天的国事访问，超过4万哈拉雷民众和华人华侨涌上街头，欢迎习主席和夫人的到来，期间有越来越多的民众加入欢迎队伍，表示中津一家亲。\n",
      "主语谓语宾语关系\t(国家主席习近平, 抵达, 津巴布韦首都哈拉雷)\n",
      "\n",
      "主语谓语宾语关系\t(4万哈拉雷民众, 涌, 街头)\n",
      "\n",
      "原句 据媒体11月30日报道，德国媒体11月28日报道称，联邦国防军领导层计划为联邦政府宣布的叙利亚行动派出千余名军人。\n",
      "主语谓语宾语关系\t(德国媒体, 称, 计划联邦国防军领导层)\n",
      "\n",
      "主语谓语宾语关系\t(宣布联邦政府叙利亚行动, 派出, 千名军人)\n",
      "\n",
      "原句 联邦国防军总监福尔克尔·维克对媒体说，“从军事角度看，派战机和军舰执行任务大概需要1200名军人。”\n",
      "主语谓语宾语关系\t(联邦国防军总监福尔克尔·维克, 说, 看)\n",
      "\n",
      "定语后置动宾关系\t(执行任务, 派, 战机)\n",
      "\n",
      "主语谓语宾语关系\t(派战机执行任务, 需要, 1200名军人)\n",
      "\n",
      "原句 在德国政府于26日原则上决定参与有关军事行动后，德国国防部正在制订行动计划的细节。\n",
      "主语谓语宾语关系\t(德国国防部, 制订, 行动计划细节)\n",
      "\n",
      "原句 维克说，行动“在获得授权后将迅速展开”，德国联邦政府希望仍能在年内获得授权。\n",
      "主语谓语宾语关系\t(维克, 说, 展开行动)\n",
      "\n",
      "定语后置动宾关系\t(后, 获得, 授权)\n",
      "\n",
      "主语谓语宾语关系\t(德国联邦政府, 希望, 获得授权)\n",
      "\n",
      "原句 具体来说，德国将派出若干架“狂风”战术侦察机和一艘军舰参与打击“伊斯兰国”极端组织。\n",
      "主语谓语宾语关系\t(德国, 派出, 参与打击伊斯兰国极端组织)\n",
      "\n",
      "原句 此外，德国还将为盟友提供加油机和卫星侦察数据。\n",
      "主语谓语宾语关系\t(德国, 提供, 加油机侦察数据)\n",
      "\n",
      "原句 在巴黎恐怖袭击发生近两周后，德国联邦政府决定应法国总统奥朗德的请求采取行动。\n",
      "主语谓语宾语关系\t(德国联邦政府, 决定, 采取行动)\n",
      "\n"
     ]
    }
   ],
   "source": [
    "with open(\"/usr/local/codeData/KG-July/4/input.txt\",\"r\",encoding=\"utf-8\") as f:\n",
    "    lines = f.readlines()\n",
    "for s in lines:\n",
    "    print(\"原句\",s.strip())\n",
    "    WORDS = segmentor.segment(s.strip())\n",
    "    POSTAGS = postagger.postag(WORDS)\n",
    "    ARCS = parser.parse(WORDS, POSTAGS) \n",
    "    WORDS_CHILDREN = build_parse_child(ARCS)\n",
    "    extract_triple()"
   ]
  }
 ],
 "metadata": {
  "hide_input": false,
  "kernelspec": {
   "display_name": "Python 3 (ipykernel)",
   "language": "python",
   "name": "python3"
  },
  "language_info": {
   "codemirror_mode": {
    "name": "ipython",
    "version": 3
   },
   "file_extension": ".py",
   "mimetype": "text/x-python",
   "name": "python",
   "nbconvert_exporter": "python",
   "pygments_lexer": "ipython3",
   "version": "3.8.10"
  },
  "toc": {
   "base_numbering": 1,
   "nav_menu": {},
   "number_sections": true,
   "sideBar": true,
   "skip_h1_title": false,
   "title_cell": "Table of Contents",
   "title_sidebar": "Contents",
   "toc_cell": false,
   "toc_position": {},
   "toc_section_display": true,
   "toc_window_display": false
  }
 },
 "nbformat": 4,
 "nbformat_minor": 5
}
