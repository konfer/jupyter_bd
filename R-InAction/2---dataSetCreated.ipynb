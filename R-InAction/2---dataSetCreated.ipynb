{
 "cells": [
  {
   "cell_type": "code",
   "execution_count": 1,
   "metadata": {
    "ExecuteTime": {
     "end_time": "2022-06-15T18:17:12.691394Z",
     "start_time": "2022-06-15T18:17:12.212Z"
    }
   },
   "outputs": [],
   "source": [
    "y <- matrix(1:20,nrow=5,ncol=4)"
   ]
  },
  {
   "cell_type": "code",
   "execution_count": 2,
   "metadata": {
    "ExecuteTime": {
     "end_time": "2022-06-15T18:17:12.755460Z",
     "start_time": "2022-06-15T18:17:12.216Z"
    }
   },
   "outputs": [
    {
     "data": {
      "text/html": [
       "<table class=\"dataframe\">\n",
       "<caption>A matrix: 5 × 4 of type int</caption>\n",
       "<tbody>\n",
       "\t<tr><td>1</td><td> 6</td><td>11</td><td>16</td></tr>\n",
       "\t<tr><td>2</td><td> 7</td><td>12</td><td>17</td></tr>\n",
       "\t<tr><td>3</td><td> 8</td><td>13</td><td>18</td></tr>\n",
       "\t<tr><td>4</td><td> 9</td><td>14</td><td>19</td></tr>\n",
       "\t<tr><td>5</td><td>10</td><td>15</td><td>20</td></tr>\n",
       "</tbody>\n",
       "</table>\n"
      ],
      "text/latex": [
       "A matrix: 5 × 4 of type int\n",
       "\\begin{tabular}{llll}\n",
       "\t 1 &  6 & 11 & 16\\\\\n",
       "\t 2 &  7 & 12 & 17\\\\\n",
       "\t 3 &  8 & 13 & 18\\\\\n",
       "\t 4 &  9 & 14 & 19\\\\\n",
       "\t 5 & 10 & 15 & 20\\\\\n",
       "\\end{tabular}\n"
      ],
      "text/markdown": [
       "\n",
       "A matrix: 5 × 4 of type int\n",
       "\n",
       "| 1 |  6 | 11 | 16 |\n",
       "| 2 |  7 | 12 | 17 |\n",
       "| 3 |  8 | 13 | 18 |\n",
       "| 4 |  9 | 14 | 19 |\n",
       "| 5 | 10 | 15 | 20 |\n",
       "\n"
      ],
      "text/plain": [
       "     [,1] [,2] [,3] [,4]\n",
       "[1,] 1     6   11   16  \n",
       "[2,] 2     7   12   17  \n",
       "[3,] 3     8   13   18  \n",
       "[4,] 4     9   14   19  \n",
       "[5,] 5    10   15   20  "
      ]
     },
     "metadata": {},
     "output_type": "display_data"
    }
   ],
   "source": [
    "y"
   ]
  },
  {
   "cell_type": "code",
   "execution_count": 3,
   "metadata": {
    "ExecuteTime": {
     "end_time": "2022-06-15T18:17:12.768841Z",
     "start_time": "2022-06-15T18:17:12.219Z"
    }
   },
   "outputs": [],
   "source": [
    "cells <- c(1,2,23,45)"
   ]
  },
  {
   "cell_type": "code",
   "execution_count": 4,
   "metadata": {
    "ExecuteTime": {
     "end_time": "2022-06-15T18:17:12.782757Z",
     "start_time": "2022-06-15T18:17:12.221Z"
    }
   },
   "outputs": [],
   "source": [
    "rnames <- c(\"R1\",\"R2\")"
   ]
  },
  {
   "cell_type": "code",
   "execution_count": 5,
   "metadata": {
    "ExecuteTime": {
     "end_time": "2022-06-15T18:17:12.796329Z",
     "start_time": "2022-06-15T18:17:12.223Z"
    }
   },
   "outputs": [],
   "source": [
    "cnames <- c(\"C1\",\"C2\")"
   ]
  },
  {
   "cell_type": "code",
   "execution_count": 6,
   "metadata": {
    "ExecuteTime": {
     "end_time": "2022-06-15T18:17:12.808492Z",
     "start_time": "2022-06-15T18:17:12.225Z"
    }
   },
   "outputs": [],
   "source": [
    "myMatrix <- matrix(cells,nrow=2,ncol=2,byrow=FALSE,\n",
    "                   dimnames=list(rnames,cnames))"
   ]
  },
  {
   "cell_type": "code",
   "execution_count": 7,
   "metadata": {
    "ExecuteTime": {
     "end_time": "2022-06-15T18:17:12.824941Z",
     "start_time": "2022-06-15T18:17:12.227Z"
    },
    "scrolled": true
   },
   "outputs": [
    {
     "data": {
      "text/html": [
       "<table class=\"dataframe\">\n",
       "<caption>A matrix: 2 × 2 of type dbl</caption>\n",
       "<thead>\n",
       "\t<tr><th></th><th scope=col>C1</th><th scope=col>C2</th></tr>\n",
       "</thead>\n",
       "<tbody>\n",
       "\t<tr><th scope=row>R1</th><td>1</td><td>23</td></tr>\n",
       "\t<tr><th scope=row>R2</th><td>2</td><td>45</td></tr>\n",
       "</tbody>\n",
       "</table>\n"
      ],
      "text/latex": [
       "A matrix: 2 × 2 of type dbl\n",
       "\\begin{tabular}{r|ll}\n",
       "  & C1 & C2\\\\\n",
       "\\hline\n",
       "\tR1 & 1 & 23\\\\\n",
       "\tR2 & 2 & 45\\\\\n",
       "\\end{tabular}\n"
      ],
      "text/markdown": [
       "\n",
       "A matrix: 2 × 2 of type dbl\n",
       "\n",
       "| <!--/--> | C1 | C2 |\n",
       "|---|---|---|\n",
       "| R1 | 1 | 23 |\n",
       "| R2 | 2 | 45 |\n",
       "\n"
      ],
      "text/plain": [
       "   C1 C2\n",
       "R1 1  23\n",
       "R2 2  45"
      ]
     },
     "metadata": {},
     "output_type": "display_data"
    }
   ],
   "source": [
    "myMatrix"
   ]
  },
  {
   "cell_type": "markdown",
   "metadata": {},
   "source": [
    "### array"
   ]
  },
  {
   "cell_type": "code",
   "execution_count": 8,
   "metadata": {
    "ExecuteTime": {
     "end_time": "2022-06-15T18:17:12.839445Z",
     "start_time": "2022-06-15T18:17:12.230Z"
    }
   },
   "outputs": [],
   "source": [
    "firstDim <- c(\"A1\",\"A2\")\n",
    "secondDim <- c(\"B1\",\"B2\",\"B3\")\n",
    "thirdDim <- c(\"C1\",\"C2\",\"C3\",\"C4\")"
   ]
  },
  {
   "cell_type": "code",
   "execution_count": 9,
   "metadata": {
    "ExecuteTime": {
     "end_time": "2022-06-15T18:17:12.850983Z",
     "start_time": "2022-06-15T18:17:12.232Z"
    }
   },
   "outputs": [],
   "source": [
    "arr <- array(1:24,c(2,3,4),dimnames=list(firstDim,secondDim,thirdDim))"
   ]
  },
  {
   "cell_type": "code",
   "execution_count": 10,
   "metadata": {
    "ExecuteTime": {
     "end_time": "2022-06-15T18:17:12.868745Z",
     "start_time": "2022-06-15T18:17:12.236Z"
    }
   },
   "outputs": [
    {
     "data": {
      "text/html": [
       "<style>\n",
       ".list-inline {list-style: none; margin:0; padding: 0}\n",
       ".list-inline>li {display: inline-block}\n",
       ".list-inline>li:not(:last-child)::after {content: \"\\00b7\"; padding: 0 .5ex}\n",
       "</style>\n",
       "<ol class=list-inline><li>1</li><li>2</li><li>3</li><li>4</li><li>5</li><li>6</li><li>7</li><li>8</li><li>9</li><li>10</li><li>11</li><li>12</li><li>13</li><li>14</li><li>15</li><li>16</li><li>17</li><li>18</li><li>19</li><li>20</li><li>21</li><li>22</li><li>23</li><li>24</li></ol>\n"
      ],
      "text/latex": [
       "\\begin{enumerate*}\n",
       "\\item 1\n",
       "\\item 2\n",
       "\\item 3\n",
       "\\item 4\n",
       "\\item 5\n",
       "\\item 6\n",
       "\\item 7\n",
       "\\item 8\n",
       "\\item 9\n",
       "\\item 10\n",
       "\\item 11\n",
       "\\item 12\n",
       "\\item 13\n",
       "\\item 14\n",
       "\\item 15\n",
       "\\item 16\n",
       "\\item 17\n",
       "\\item 18\n",
       "\\item 19\n",
       "\\item 20\n",
       "\\item 21\n",
       "\\item 22\n",
       "\\item 23\n",
       "\\item 24\n",
       "\\end{enumerate*}\n"
      ],
      "text/markdown": [
       "1. 1\n",
       "2. 2\n",
       "3. 3\n",
       "4. 4\n",
       "5. 5\n",
       "6. 6\n",
       "7. 7\n",
       "8. 8\n",
       "9. 9\n",
       "10. 10\n",
       "11. 11\n",
       "12. 12\n",
       "13. 13\n",
       "14. 14\n",
       "15. 15\n",
       "16. 16\n",
       "17. 17\n",
       "18. 18\n",
       "19. 19\n",
       "20. 20\n",
       "21. 21\n",
       "22. 22\n",
       "23. 23\n",
       "24. 24\n",
       "\n",
       "\n"
      ],
      "text/plain": [
       ", , C1\n",
       "\n",
       "   B1 B2 B3\n",
       "A1  1  3  5\n",
       "A2  2  4  6\n",
       "\n",
       ", , C2\n",
       "\n",
       "   B1 B2 B3\n",
       "A1  7  9 11\n",
       "A2  8 10 12\n",
       "\n",
       ", , C3\n",
       "\n",
       "   B1 B2 B3\n",
       "A1 13 15 17\n",
       "A2 14 16 18\n",
       "\n",
       ", , C4\n",
       "\n",
       "   B1 B2 B3\n",
       "A1 19 21 23\n",
       "A2 20 22 24\n"
      ]
     },
     "metadata": {},
     "output_type": "display_data"
    }
   ],
   "source": [
    "arr"
   ]
  },
  {
   "cell_type": "code",
   "execution_count": 11,
   "metadata": {
    "ExecuteTime": {
     "end_time": "2022-06-15T18:17:12.882275Z",
     "start_time": "2022-06-15T18:17:12.238Z"
    }
   },
   "outputs": [
    {
     "data": {
      "text/html": [
       "15"
      ],
      "text/latex": [
       "15"
      ],
      "text/markdown": [
       "15"
      ],
      "text/plain": [
       "[1] 15"
      ]
     },
     "metadata": {},
     "output_type": "display_data"
    }
   ],
   "source": [
    "arr[1,2,3]"
   ]
  },
  {
   "cell_type": "code",
   "execution_count": 12,
   "metadata": {
    "ExecuteTime": {
     "end_time": "2022-06-15T18:17:12.900194Z",
     "start_time": "2022-06-15T18:17:12.242Z"
    }
   },
   "outputs": [],
   "source": [
    "patientID <- c(1, 2, 3, 4) \n",
    "age <- c(25, 34, 28, 52) \n",
    "diabetes <- c(\"Type1\", \"Type2\", \"Type1\", \"Type1\") \n",
    "status <- c(\"Poor\", \"Improved\", \"Excellent\", \"Poor\") \n",
    "patientdata <- data.frame(patientID, age, diabetes, status)"
   ]
  },
  {
   "cell_type": "code",
   "execution_count": 13,
   "metadata": {
    "ExecuteTime": {
     "end_time": "2022-06-15T18:17:12.919583Z",
     "start_time": "2022-06-15T18:17:12.245Z"
    }
   },
   "outputs": [
    {
     "data": {
      "text/html": [
       "<table class=\"dataframe\">\n",
       "<caption>A data.frame: 4 × 4</caption>\n",
       "<thead>\n",
       "\t<tr><th scope=col>patientID</th><th scope=col>age</th><th scope=col>diabetes</th><th scope=col>status</th></tr>\n",
       "\t<tr><th scope=col>&lt;dbl&gt;</th><th scope=col>&lt;dbl&gt;</th><th scope=col>&lt;chr&gt;</th><th scope=col>&lt;chr&gt;</th></tr>\n",
       "</thead>\n",
       "<tbody>\n",
       "\t<tr><td>1</td><td>25</td><td>Type1</td><td>Poor     </td></tr>\n",
       "\t<tr><td>2</td><td>34</td><td>Type2</td><td>Improved </td></tr>\n",
       "\t<tr><td>3</td><td>28</td><td>Type1</td><td>Excellent</td></tr>\n",
       "\t<tr><td>4</td><td>52</td><td>Type1</td><td>Poor     </td></tr>\n",
       "</tbody>\n",
       "</table>\n"
      ],
      "text/latex": [
       "A data.frame: 4 × 4\n",
       "\\begin{tabular}{llll}\n",
       " patientID & age & diabetes & status\\\\\n",
       " <dbl> & <dbl> & <chr> & <chr>\\\\\n",
       "\\hline\n",
       "\t 1 & 25 & Type1 & Poor     \\\\\n",
       "\t 2 & 34 & Type2 & Improved \\\\\n",
       "\t 3 & 28 & Type1 & Excellent\\\\\n",
       "\t 4 & 52 & Type1 & Poor     \\\\\n",
       "\\end{tabular}\n"
      ],
      "text/markdown": [
       "\n",
       "A data.frame: 4 × 4\n",
       "\n",
       "| patientID &lt;dbl&gt; | age &lt;dbl&gt; | diabetes &lt;chr&gt; | status &lt;chr&gt; |\n",
       "|---|---|---|---|\n",
       "| 1 | 25 | Type1 | Poor      |\n",
       "| 2 | 34 | Type2 | Improved  |\n",
       "| 3 | 28 | Type1 | Excellent |\n",
       "| 4 | 52 | Type1 | Poor      |\n",
       "\n"
      ],
      "text/plain": [
       "  patientID age diabetes status   \n",
       "1 1         25  Type1    Poor     \n",
       "2 2         34  Type2    Improved \n",
       "3 3         28  Type1    Excellent\n",
       "4 4         52  Type1    Poor     "
      ]
     },
     "metadata": {},
     "output_type": "display_data"
    }
   ],
   "source": [
    "patientdata"
   ]
  },
  {
   "cell_type": "code",
   "execution_count": 14,
   "metadata": {
    "ExecuteTime": {
     "end_time": "2022-06-15T18:17:12.934184Z",
     "start_time": "2022-06-15T18:17:12.249Z"
    }
   },
   "outputs": [
    {
     "data": {
      "text/html": [
       "<style>\n",
       ".list-inline {list-style: none; margin:0; padding: 0}\n",
       ".list-inline>li {display: inline-block}\n",
       ".list-inline>li:not(:last-child)::after {content: \"\\00b7\"; padding: 0 .5ex}\n",
       "</style>\n",
       "<ol class=list-inline><li>34</li><li>52</li></ol>\n"
      ],
      "text/latex": [
       "\\begin{enumerate*}\n",
       "\\item 34\n",
       "\\item 52\n",
       "\\end{enumerate*}\n"
      ],
      "text/markdown": [
       "1. 34\n",
       "2. 52\n",
       "\n",
       "\n"
      ],
      "text/plain": [
       "[1] 34 52"
      ]
     },
     "metadata": {},
     "output_type": "display_data"
    }
   ],
   "source": [
    "patientdata$age[c(2,4)]"
   ]
  },
  {
   "cell_type": "code",
   "execution_count": 15,
   "metadata": {
    "ExecuteTime": {
     "end_time": "2022-06-15T18:17:12.948445Z",
     "start_time": "2022-06-15T18:17:12.252Z"
    }
   },
   "outputs": [
    {
     "data": {
      "text/html": [
       "<style>\n",
       ".list-inline {list-style: none; margin:0; padding: 0}\n",
       ".list-inline>li {display: inline-block}\n",
       ".list-inline>li:not(:last-child)::after {content: \"\\00b7\"; padding: 0 .5ex}\n",
       "</style>\n",
       "<ol class=list-inline><li>'Poor'</li><li>'Improved'</li><li>'Excellent'</li><li>'Poor'</li></ol>\n"
      ],
      "text/latex": [
       "\\begin{enumerate*}\n",
       "\\item 'Poor'\n",
       "\\item 'Improved'\n",
       "\\item 'Excellent'\n",
       "\\item 'Poor'\n",
       "\\end{enumerate*}\n"
      ],
      "text/markdown": [
       "1. 'Poor'\n",
       "2. 'Improved'\n",
       "3. 'Excellent'\n",
       "4. 'Poor'\n",
       "\n",
       "\n"
      ],
      "text/plain": [
       "[1] \"Poor\"      \"Improved\"  \"Excellent\" \"Poor\"     "
      ]
     },
     "metadata": {},
     "output_type": "display_data"
    }
   ],
   "source": [
    "patientdata$status"
   ]
  },
  {
   "cell_type": "code",
   "execution_count": 16,
   "metadata": {
    "ExecuteTime": {
     "end_time": "2022-06-15T18:17:12.962902Z",
     "start_time": "2022-06-15T18:17:12.255Z"
    }
   },
   "outputs": [],
   "source": [
    "attach(mtcars)"
   ]
  },
  {
   "cell_type": "code",
   "execution_count": 17,
   "metadata": {
    "ExecuteTime": {
     "end_time": "2022-06-15T18:17:12.981380Z",
     "start_time": "2022-06-15T18:17:12.258Z"
    }
   },
   "outputs": [
    {
     "data": {
      "text/plain": [
       "   Min. 1st Qu.  Median    Mean 3rd Qu.    Max. \n",
       "  10.40   15.43   19.20   20.09   22.80   33.90 "
      ]
     },
     "metadata": {},
     "output_type": "display_data"
    }
   ],
   "source": [
    "summary(mpg)"
   ]
  },
  {
   "cell_type": "code",
   "execution_count": 18,
   "metadata": {
    "ExecuteTime": {
     "end_time": "2022-06-15T18:17:13.184742Z",
     "start_time": "2022-06-15T18:17:12.261Z"
    }
   },
   "outputs": [
    {
     "data": {
      "image/png": "[encoded data removed]",
      "text/plain": [
       "plot without title"
      ]
     },
     "metadata": {
      "image/png": {
       "height": 420,
       "width": 420
      }
     },
     "output_type": "display_data"
    }
   ],
   "source": [
    "plot(mpg,disp)"
   ]
  },
  {
   "cell_type": "code",
   "execution_count": 19,
   "metadata": {
    "ExecuteTime": {
     "end_time": "2022-06-15T18:17:13.244724Z",
     "start_time": "2022-06-15T18:17:12.263Z"
    }
   },
   "outputs": [
    {
     "data": {
      "image/png": "[encoded data removed]",
      "text/plain": [
       "plot without title"
      ]
     },
     "metadata": {
      "image/png": {
       "height": 420,
       "width": 420
      }
     },
     "output_type": "display_data"
    }
   ],
   "source": [
    "plot(mpg,wt)"
   ]
  },
  {
   "cell_type": "code",
   "execution_count": 20,
   "metadata": {
    "ExecuteTime": {
     "end_time": "2022-06-15T18:17:13.257495Z",
     "start_time": "2022-06-15T18:17:12.266Z"
    }
   },
   "outputs": [],
   "source": [
    "detach(mtcars)"
   ]
  },
  {
   "cell_type": "code",
   "execution_count": 21,
   "metadata": {
    "ExecuteTime": {
     "end_time": "2022-06-15T18:17:13.344057Z",
     "start_time": "2022-06-15T18:17:12.268Z"
    },
    "scrolled": true
   },
   "outputs": [
    {
     "name": "stdout",
     "output_type": "stream",
     "text": [
      "   Min. 1st Qu.  Median    Mean 3rd Qu.    Max. \n",
      "  10.40   15.43   19.20   20.09   22.80   33.90 \n"
     ]
    },
    {
     "data": {
      "image/png": "[encoded data removed]",
      "text/plain": [
       "plot without title"
      ]
     },
     "metadata": {
      "image/png": {
       "height": 420,
       "width": 420
      }
     },
     "output_type": "display_data"
    },
    {
     "data": {
      "image/png": "[encoded data removed]",
      "text/plain": [
       "plot without title"
      ]
     },
     "metadata": {
      "image/png": {
       "height": 420,
       "width": 420
      }
     },
     "output_type": "display_data"
    }
   ],
   "source": [
    "with(mtcars,\n",
    "     {\n",
    "         print(summary(mpg))\n",
    "         plot(mpg,disp)\n",
    "         plot(mpg,wt)\n",
    "     })"
   ]
  },
  {
   "cell_type": "code",
   "execution_count": 22,
   "metadata": {
    "ExecuteTime": {
     "end_time": "2022-06-15T18:17:13.356457Z",
     "start_time": "2022-06-15T18:17:12.271Z"
    }
   },
   "outputs": [],
   "source": [
    "status <- c(\"Poor\",\"Improved\",\"Excellent\",\"Poor\")"
   ]
  },
  {
   "cell_type": "code",
   "execution_count": 23,
   "metadata": {
    "ExecuteTime": {
     "end_time": "2022-06-15T18:17:13.368298Z",
     "start_time": "2022-06-15T18:17:12.273Z"
    }
   },
   "outputs": [],
   "source": [
    "statusFactor <- factor(status,order=TRUE,\n",
    "                      levels=c(\"Poor\",\"Improved\",\"Excellent\"))"
   ]
  },
  {
   "cell_type": "code",
   "execution_count": 24,
   "metadata": {
    "ExecuteTime": {
     "end_time": "2022-06-15T18:17:13.385668Z",
     "start_time": "2022-06-15T18:17:12.276Z"
    }
   },
   "outputs": [
    {
     "data": {
      "text/html": [
       "<style>\n",
       ".list-inline {list-style: none; margin:0; padding: 0}\n",
       ".list-inline>li {display: inline-block}\n",
       ".list-inline>li:not(:last-child)::after {content: \"\\00b7\"; padding: 0 .5ex}\n",
       "</style>\n",
       "<ol class=list-inline><li>'Poor'</li><li>'Improved'</li><li>'Excellent'</li><li>'Poor'</li></ol>\n"
      ],
      "text/latex": [
       "\\begin{enumerate*}\n",
       "\\item 'Poor'\n",
       "\\item 'Improved'\n",
       "\\item 'Excellent'\n",
       "\\item 'Poor'\n",
       "\\end{enumerate*}\n"
      ],
      "text/markdown": [
       "1. 'Poor'\n",
       "2. 'Improved'\n",
       "3. 'Excellent'\n",
       "4. 'Poor'\n",
       "\n",
       "\n"
      ],
      "text/plain": [
       "[1] \"Poor\"      \"Improved\"  \"Excellent\" \"Poor\"     "
      ]
     },
     "metadata": {},
     "output_type": "display_data"
    }
   ],
   "source": [
    "status"
   ]
  },
  {
   "cell_type": "code",
   "execution_count": 27,
   "metadata": {
    "ExecuteTime": {
     "end_time": "2022-06-15T18:17:49.447643Z",
     "start_time": "2022-06-15T18:17:49.298Z"
    }
   },
   "outputs": [
    {
     "data": {
      "text/html": [
       "<dl>\n",
       "\t<dt>$levels</dt>\n",
       "\t\t<dd><style>\n",
       ".list-inline {list-style: none; margin:0; padding: 0}\n",
       ".list-inline>li {display: inline-block}\n",
       ".list-inline>li:not(:last-child)::after {content: \"\\00b7\"; padding: 0 .5ex}\n",
       "</style>\n",
       "<ol class=list-inline><li>'Poor'</li><li>'Improved'</li><li>'Excellent'</li></ol>\n",
       "</dd>\n",
       "\t<dt>$class</dt>\n",
       "\t\t<dd><style>\n",
       ".list-inline {list-style: none; margin:0; padding: 0}\n",
       ".list-inline>li {display: inline-block}\n",
       ".list-inline>li:not(:last-child)::after {content: \"\\00b7\"; padding: 0 .5ex}\n",
       "</style>\n",
       "<ol class=list-inline><li>'ordered'</li><li>'factor'</li></ol>\n",
       "</dd>\n",
       "</dl>\n"
      ],
      "text/latex": [
       "\\begin{description}\n",
       "\\item[\\$levels] \\begin{enumerate*}\n",
       "\\item 'Poor'\n",
       "\\item 'Improved'\n",
       "\\item 'Excellent'\n",
       "\\end{enumerate*}\n",
       "\n",
       "\\item[\\$class] \\begin{enumerate*}\n",
       "\\item 'ordered'\n",
       "\\item 'factor'\n",
       "\\end{enumerate*}\n",
       "\n",
       "\\end{description}\n"
      ],
      "text/markdown": [
       "$levels\n",
       ":   1. 'Poor'\n",
       "2. 'Improved'\n",
       "3. 'Excellent'\n",
       "\n",
       "\n",
       "\n",
       "$class\n",
       ":   1. 'ordered'\n",
       "2. 'factor'\n",
       "\n",
       "\n",
       "\n",
       "\n",
       "\n"
      ],
      "text/plain": [
       "$levels\n",
       "[1] \"Poor\"      \"Improved\"  \"Excellent\"\n",
       "\n",
       "$class\n",
       "[1] \"ordered\" \"factor\" \n"
      ]
     },
     "metadata": {},
     "output_type": "display_data"
    }
   ],
   "source": [
    "attributes(statusFactor)"
   ]
  },
  {
   "cell_type": "code",
   "execution_count": 28,
   "metadata": {
    "ExecuteTime": {
     "end_time": "2022-06-15T18:17:56.539904Z",
     "start_time": "2022-06-15T18:17:56.390Z"
    }
   },
   "outputs": [],
   "source": [
    "g <- \"My First List\" \n",
    "h <- c(25, 26, 18, 39) \n",
    "j <- matrix(1:10, nrow=5) \n",
    "k <- c(\"one\", \"two\", \"three\")"
   ]
  },
  {
   "cell_type": "code",
   "execution_count": 29,
   "metadata": {
    "ExecuteTime": {
     "end_time": "2022-06-15T18:17:57.238625Z",
     "start_time": "2022-06-15T18:17:57.095Z"
    }
   },
   "outputs": [],
   "source": [
    "myList <- list(title=g,element=list(h,j,k))"
   ]
  },
  {
   "cell_type": "code",
   "execution_count": 30,
   "metadata": {
    "ExecuteTime": {
     "end_time": "2022-06-15T18:17:57.737759Z",
     "start_time": "2022-06-15T18:17:57.590Z"
    }
   },
   "outputs": [
    {
     "data": {
      "text/html": [
       "'My First List'"
      ],
      "text/latex": [
       "'My First List'"
      ],
      "text/markdown": [
       "'My First List'"
      ],
      "text/plain": [
       "[1] \"My First List\""
      ]
     },
     "metadata": {},
     "output_type": "display_data"
    }
   ],
   "source": [
    "myList$title"
   ]
  },
  {
   "cell_type": "code",
   "execution_count": 31,
   "metadata": {
    "ExecuteTime": {
     "end_time": "2022-06-15T18:17:58.131849Z",
     "start_time": "2022-06-15T18:17:57.981Z"
    }
   },
   "outputs": [
    {
     "data": {
      "text/html": [
       "<ol>\n",
       "\t<li><style>\n",
       ".list-inline {list-style: none; margin:0; padding: 0}\n",
       ".list-inline>li {display: inline-block}\n",
       ".list-inline>li:not(:last-child)::after {content: \"\\00b7\"; padding: 0 .5ex}\n",
       "</style>\n",
       "<ol class=list-inline><li>25</li><li>26</li><li>18</li><li>39</li></ol>\n",
       "</li>\n",
       "\t<li><table class=\"dataframe\">\n",
       "<caption>A matrix: 5 × 2 of type int</caption>\n",
       "<tbody>\n",
       "\t<tr><td>1</td><td> 6</td></tr>\n",
       "\t<tr><td>2</td><td> 7</td></tr>\n",
       "\t<tr><td>3</td><td> 8</td></tr>\n",
       "\t<tr><td>4</td><td> 9</td></tr>\n",
       "\t<tr><td>5</td><td>10</td></tr>\n",
       "</tbody>\n",
       "</table>\n",
       "</li>\n",
       "\t<li><style>\n",
       ".list-inline {list-style: none; margin:0; padding: 0}\n",
       ".list-inline>li {display: inline-block}\n",
       ".list-inline>li:not(:last-child)::after {content: \"\\00b7\"; padding: 0 .5ex}\n",
       "</style>\n",
       "<ol class=list-inline><li>'one'</li><li>'two'</li><li>'three'</li></ol>\n",
       "</li>\n",
       "</ol>\n"
      ],
      "text/latex": [
       "\\begin{enumerate}\n",
       "\\item \\begin{enumerate*}\n",
       "\\item 25\n",
       "\\item 26\n",
       "\\item 18\n",
       "\\item 39\n",
       "\\end{enumerate*}\n",
       "\n",
       "\\item A matrix: 5 × 2 of type int\n",
       "\\begin{tabular}{ll}\n",
       "\t 1 &  6\\\\\n",
       "\t 2 &  7\\\\\n",
       "\t 3 &  8\\\\\n",
       "\t 4 &  9\\\\\n",
       "\t 5 & 10\\\\\n",
       "\\end{tabular}\n",
       "\n",
       "\\item \\begin{enumerate*}\n",
       "\\item 'one'\n",
       "\\item 'two'\n",
       "\\item 'three'\n",
       "\\end{enumerate*}\n",
       "\n",
       "\\end{enumerate}\n"
      ],
      "text/markdown": [
       "1. 1. 25\n",
       "2. 26\n",
       "3. 18\n",
       "4. 39\n",
       "\n",
       "\n",
       "\n",
       "2. \n",
       "A matrix: 5 × 2 of type int\n",
       "\n",
       "| 1 |  6 |\n",
       "| 2 |  7 |\n",
       "| 3 |  8 |\n",
       "| 4 |  9 |\n",
       "| 5 | 10 |\n",
       "\n",
       "\n",
       "3. 1. 'one'\n",
       "2. 'two'\n",
       "3. 'three'\n",
       "\n",
       "\n",
       "\n",
       "\n",
       "\n"
      ],
      "text/plain": [
       "[[1]]\n",
       "[1] 25 26 18 39\n",
       "\n",
       "[[2]]\n",
       "     [,1] [,2]\n",
       "[1,]    1    6\n",
       "[2,]    2    7\n",
       "[3,]    3    8\n",
       "[4,]    4    9\n",
       "[5,]    5   10\n",
       "\n",
       "[[3]]\n",
       "[1] \"one\"   \"two\"   \"three\"\n"
      ]
     },
     "metadata": {},
     "output_type": "display_data"
    }
   ],
   "source": [
    "myList$element"
   ]
  },
  {
   "cell_type": "code",
   "execution_count": 32,
   "metadata": {
    "ExecuteTime": {
     "end_time": "2022-06-15T18:17:58.516459Z",
     "start_time": "2022-06-15T18:17:58.370Z"
    },
    "scrolled": true
   },
   "outputs": [
    {
     "name": "stdout",
     "output_type": "stream",
     "text": [
      "[[1]]\n",
      "[1] 25 26 18 39\n",
      "\n",
      "[[2]]\n",
      "     [,1] [,2]\n",
      "[1,]    1    6\n",
      "[2,]    2    7\n",
      "[3,]    3    8\n",
      "[4,]    4    9\n",
      "[5,]    5   10\n",
      "\n",
      "[[3]]\n",
      "[1] \"one\"   \"two\"   \"three\"\n",
      "\n"
     ]
    }
   ],
   "source": [
    "with(myList,{\n",
    "    print(element)\n",
    "})"
   ]
  },
  {
   "cell_type": "code",
   "execution_count": 33,
   "metadata": {
    "ExecuteTime": {
     "end_time": "2022-06-15T18:24:10.707117Z",
     "start_time": "2022-06-15T18:24:10.551Z"
    }
   },
   "outputs": [
    {
     "ename": "ERROR",
     "evalue": "Error in find.package(pkgName, lib.loc, verbose = verbose): there is no package called ‘vcd’\n",
     "output_type": "error",
     "traceback": [
      "Error in find.package(pkgName, lib.loc, verbose = verbose): there is no package called ‘vcd’\nTraceback:\n",
      "1. help(package = \"vcd\")",
      "2. library(help = package, lib.loc = lib.loc, character.only = TRUE)",
      "3. find.package(pkgName, lib.loc, verbose = verbose)"
     ]
    }
   ],
   "source": [
    "help(package = \"vcd\")"
   ]
  },
  {
   "cell_type": "code",
   "execution_count": 35,
   "metadata": {
    "ExecuteTime": {
     "end_time": "2022-06-15T18:24:50.027135Z",
     "start_time": "2022-06-15T18:24:46.530Z"
    }
   },
   "outputs": [
    {
     "name": "stderr",
     "output_type": "stream",
     "text": [
      "Installing package into ‘/home/yuanlin/R/x86_64-pc-linux-gnu-library/4.2’\n",
      "(as ‘lib’ is unspecified)\n",
      "\n",
      "also installing the dependency ‘lmtest’\n",
      "\n",
      "\n",
      "Warning message in install.packages(\"vcd\"):\n",
      "“installation of package ‘lmtest’ had non-zero exit status”\n",
      "Warning message in install.packages(\"vcd\"):\n",
      "“installation of package ‘vcd’ had non-zero exit status”\n"
     ]
    }
   ],
   "source": [
    "install.packages(\"vcd\")"
   ]
  },
  {
   "cell_type": "code",
   "execution_count": null,
   "metadata": {},
   "outputs": [],
   "source": []
  }
 ],
 "metadata": {
  "hide_input": false,
  "kernelspec": {
   "display_name": "R",
   "language": "R",
   "name": "ir"
  },
  "language_info": {
   "codemirror_mode": "r",
   "file_extension": ".r",
   "mimetype": "text/x-r-source",
   "name": "R",
   "pygments_lexer": "r",
   "version": "4.2.0"
  },
  "toc": {
   "base_numbering": 1,
   "nav_menu": {},
   "number_sections": true,
   "sideBar": true,
   "skip_h1_title": false,
   "title_cell": "Table of Contents",
   "title_sidebar": "Contents",
   "toc_cell": false,
   "toc_position": {},
   "toc_section_display": true,
   "toc_window_display": false
  }
 },
 "nbformat": 4,
 "nbformat_minor": 2
}
