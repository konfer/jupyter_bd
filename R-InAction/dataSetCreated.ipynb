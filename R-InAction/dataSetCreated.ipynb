{
 "cells": [
  {
   "cell_type": "code",
   "execution_count": 2,
   "metadata": {},
   "outputs": [],
   "source": [
    "y <- matrix(1:20,nrow=5,ncol=4)"
   ]
  },
  {
   "cell_type": "code",
   "execution_count": 3,
   "metadata": {},
   "outputs": [
    {
     "data": {
      "text/html": [
       "<table>\n",
       "<tbody>\n",
       "\t<tr><td>1 </td><td> 6</td><td>11</td><td>16</td></tr>\n",
       "\t<tr><td>2 </td><td> 7</td><td>12</td><td>17</td></tr>\n",
       "\t<tr><td>3 </td><td> 8</td><td>13</td><td>18</td></tr>\n",
       "\t<tr><td>4 </td><td> 9</td><td>14</td><td>19</td></tr>\n",
       "\t<tr><td>5 </td><td>10</td><td>15</td><td>20</td></tr>\n",
       "</tbody>\n",
       "</table>\n"
      ],
      "text/latex": [
       "\\begin{tabular}{llll}\n",
       "\t 1  &  6 & 11 & 16\\\\\n",
       "\t 2  &  7 & 12 & 17\\\\\n",
       "\t 3  &  8 & 13 & 18\\\\\n",
       "\t 4  &  9 & 14 & 19\\\\\n",
       "\t 5  & 10 & 15 & 20\\\\\n",
       "\\end{tabular}\n"
      ],
      "text/markdown": [
       "\n",
       "| 1  |  6 | 11 | 16 | \n",
       "| 2  |  7 | 12 | 17 | \n",
       "| 3  |  8 | 13 | 18 | \n",
       "| 4  |  9 | 14 | 19 | \n",
       "| 5  | 10 | 15 | 20 | \n",
       "\n",
       "\n"
      ],
      "text/plain": [
       "     [,1] [,2] [,3] [,4]\n",
       "[1,] 1     6   11   16  \n",
       "[2,] 2     7   12   17  \n",
       "[3,] 3     8   13   18  \n",
       "[4,] 4     9   14   19  \n",
       "[5,] 5    10   15   20  "
      ]
     },
     "metadata": {},
     "output_type": "display_data"
    }
   ],
   "source": [
    "y"
   ]
  },
  {
   "cell_type": "code",
   "execution_count": 4,
   "metadata": {},
   "outputs": [],
   "source": [
    "cells <- c(1,2,23,45)"
   ]
  },
  {
   "cell_type": "code",
   "execution_count": 5,
   "metadata": {},
   "outputs": [],
   "source": [
    "rnames <- c(\"R1\",\"R2\")"
   ]
  },
  {
   "cell_type": "code",
   "execution_count": 6,
   "metadata": {},
   "outputs": [],
   "source": [
    "cnames <- c(\"C1\",\"C2\")"
   ]
  },
  {
   "cell_type": "code",
   "execution_count": 7,
   "metadata": {},
   "outputs": [],
   "source": [
    "myMatrix <- matrix(cells,nrow=2,ncol=2,byrow=FALSE,\n",
    "                   dimnames=list(rnames,cnames))"
   ]
  },
  {
   "cell_type": "code",
   "execution_count": 8,
   "metadata": {
    "scrolled": true
   },
   "outputs": [
    {
     "data": {
      "text/html": [
       "<table>\n",
       "<thead><tr><th></th><th scope=col>C1</th><th scope=col>C2</th></tr></thead>\n",
       "<tbody>\n",
       "\t<tr><th scope=row>R1</th><td>1 </td><td>23</td></tr>\n",
       "\t<tr><th scope=row>R2</th><td>2 </td><td>45</td></tr>\n",
       "</tbody>\n",
       "</table>\n"
      ],
      "text/latex": [
       "\\begin{tabular}{r|ll}\n",
       "  & C1 & C2\\\\\n",
       "\\hline\n",
       "\tR1 & 1  & 23\\\\\n",
       "\tR2 & 2  & 45\\\\\n",
       "\\end{tabular}\n"
      ],
      "text/markdown": [
       "\n",
       "| <!--/--> | C1 | C2 | \n",
       "|---|---|\n",
       "| R1 | 1  | 23 | \n",
       "| R2 | 2  | 45 | \n",
       "\n",
       "\n"
      ],
      "text/plain": [
       "   C1 C2\n",
       "R1 1  23\n",
       "R2 2  45"
      ]
     },
     "metadata": {},
     "output_type": "display_data"
    }
   ],
   "source": [
    "myMatrix"
   ]
  },
  {
   "cell_type": "markdown",
   "metadata": {},
   "source": [
    "### array"
   ]
  },
  {
   "cell_type": "code",
   "execution_count": 19,
   "metadata": {},
   "outputs": [],
   "source": [
    "firstDim <- c(\"A1\",\"A2\")\n",
    "secondDim <- c(\"B1\",\"B2\",\"B3\")\n",
    "thirdDim <- c(\"C1\",\"C2\",\"C3\",\"C4\")"
   ]
  },
  {
   "cell_type": "code",
   "execution_count": 20,
   "metadata": {},
   "outputs": [],
   "source": [
    "arr <- array(1:24,c(2,3,4),dimnames=list(firstDim,secondDim,thirdDim))"
   ]
  },
  {
   "cell_type": "code",
   "execution_count": 21,
   "metadata": {},
   "outputs": [
    {
     "data": {
      "text/html": [
       "<ol class=list-inline>\n",
       "\t<li>1</li>\n",
       "\t<li>2</li>\n",
       "\t<li>3</li>\n",
       "\t<li>4</li>\n",
       "\t<li>5</li>\n",
       "\t<li>6</li>\n",
       "\t<li>7</li>\n",
       "\t<li>8</li>\n",
       "\t<li>9</li>\n",
       "\t<li>10</li>\n",
       "\t<li>11</li>\n",
       "\t<li>12</li>\n",
       "\t<li>13</li>\n",
       "\t<li>14</li>\n",
       "\t<li>15</li>\n",
       "\t<li>16</li>\n",
       "\t<li>17</li>\n",
       "\t<li>18</li>\n",
       "\t<li>19</li>\n",
       "\t<li>20</li>\n",
       "\t<li>21</li>\n",
       "\t<li>22</li>\n",
       "\t<li>23</li>\n",
       "\t<li>24</li>\n",
       "</ol>\n"
      ],
      "text/latex": [
       "\\begin{enumerate*}\n",
       "\\item 1\n",
       "\\item 2\n",
       "\\item 3\n",
       "\\item 4\n",
       "\\item 5\n",
       "\\item 6\n",
       "\\item 7\n",
       "\\item 8\n",
       "\\item 9\n",
       "\\item 10\n",
       "\\item 11\n",
       "\\item 12\n",
       "\\item 13\n",
       "\\item 14\n",
       "\\item 15\n",
       "\\item 16\n",
       "\\item 17\n",
       "\\item 18\n",
       "\\item 19\n",
       "\\item 20\n",
       "\\item 21\n",
       "\\item 22\n",
       "\\item 23\n",
       "\\item 24\n",
       "\\end{enumerate*}\n"
      ],
      "text/markdown": [
       "1. 1\n",
       "2. 2\n",
       "3. 3\n",
       "4. 4\n",
       "5. 5\n",
       "6. 6\n",
       "7. 7\n",
       "8. 8\n",
       "9. 9\n",
       "10. 10\n",
       "11. 11\n",
       "12. 12\n",
       "13. 13\n",
       "14. 14\n",
       "15. 15\n",
       "16. 16\n",
       "17. 17\n",
       "18. 18\n",
       "19. 19\n",
       "20. 20\n",
       "21. 21\n",
       "22. 22\n",
       "23. 23\n",
       "24. 24\n",
       "\n",
       "\n"
      ],
      "text/plain": [
       ", , C1\n",
       "\n",
       "   B1 B2 B3\n",
       "A1  1  3  5\n",
       "A2  2  4  6\n",
       "\n",
       ", , C2\n",
       "\n",
       "   B1 B2 B3\n",
       "A1  7  9 11\n",
       "A2  8 10 12\n",
       "\n",
       ", , C3\n",
       "\n",
       "   B1 B2 B3\n",
       "A1 13 15 17\n",
       "A2 14 16 18\n",
       "\n",
       ", , C4\n",
       "\n",
       "   B1 B2 B3\n",
       "A1 19 21 23\n",
       "A2 20 22 24\n"
      ]
     },
     "metadata": {},
     "output_type": "display_data"
    }
   ],
   "source": [
    "arr"
   ]
  },
  {
   "cell_type": "code",
   "execution_count": 22,
   "metadata": {},
   "outputs": [
    {
     "data": {
      "text/html": [
       "15"
      ],
      "text/latex": [
       "15"
      ],
      "text/markdown": [
       "15"
      ],
      "text/plain": [
       "[1] 15"
      ]
     },
     "metadata": {},
     "output_type": "display_data"
    }
   ],
   "source": [
    "arr[1,2,3]"
   ]
  },
  {
   "cell_type": "code",
   "execution_count": 24,
   "metadata": {},
   "outputs": [],
   "source": [
    "patientID <- c(1, 2, 3, 4) \n",
    "age <- c(25, 34, 28, 52) \n",
    "diabetes <- c(\"Type1\", \"Type2\", \"Type1\", \"Type1\") \n",
    "status <- c(\"Poor\", \"Improved\", \"Excellent\", \"Poor\") \n",
    "patientdata <- data.frame(patientID, age, diabetes, status)"
   ]
  },
  {
   "cell_type": "code",
   "execution_count": 25,
   "metadata": {},
   "outputs": [
    {
     "data": {
      "text/html": [
       "<table>\n",
       "<thead><tr><th scope=col>patientID</th><th scope=col>age</th><th scope=col>diabetes</th><th scope=col>status</th></tr></thead>\n",
       "<tbody>\n",
       "\t<tr><td>1        </td><td>25       </td><td>Type1    </td><td>Poor     </td></tr>\n",
       "\t<tr><td>2        </td><td>34       </td><td>Type2    </td><td>Improved </td></tr>\n",
       "\t<tr><td>3        </td><td>28       </td><td>Type1    </td><td>Excellent</td></tr>\n",
       "\t<tr><td>4        </td><td>52       </td><td>Type1    </td><td>Poor     </td></tr>\n",
       "</tbody>\n",
       "</table>\n"
      ],
      "text/latex": [
       "\\begin{tabular}{r|llll}\n",
       " patientID & age & diabetes & status\\\\\n",
       "\\hline\n",
       "\t 1         & 25        & Type1     & Poor     \\\\\n",
       "\t 2         & 34        & Type2     & Improved \\\\\n",
       "\t 3         & 28        & Type1     & Excellent\\\\\n",
       "\t 4         & 52        & Type1     & Poor     \\\\\n",
       "\\end{tabular}\n"
      ],
      "text/markdown": [
       "\n",
       "patientID | age | diabetes | status | \n",
       "|---|---|---|---|\n",
       "| 1         | 25        | Type1     | Poor      | \n",
       "| 2         | 34        | Type2     | Improved  | \n",
       "| 3         | 28        | Type1     | Excellent | \n",
       "| 4         | 52        | Type1     | Poor      | \n",
       "\n",
       "\n"
      ],
      "text/plain": [
       "  patientID age diabetes status   \n",
       "1 1         25  Type1    Poor     \n",
       "2 2         34  Type2    Improved \n",
       "3 3         28  Type1    Excellent\n",
       "4 4         52  Type1    Poor     "
      ]
     },
     "metadata": {},
     "output_type": "display_data"
    }
   ],
   "source": [
    "patientdata"
   ]
  },
  {
   "cell_type": "code",
   "execution_count": 28,
   "metadata": {},
   "outputs": [
    {
     "data": {
      "text/html": [
       "<ol class=list-inline>\n",
       "\t<li>34</li>\n",
       "\t<li>52</li>\n",
       "</ol>\n"
      ],
      "text/latex": [
       "\\begin{enumerate*}\n",
       "\\item 34\n",
       "\\item 52\n",
       "\\end{enumerate*}\n"
      ],
      "text/markdown": [
       "1. 34\n",
       "2. 52\n",
       "\n",
       "\n"
      ],
      "text/plain": [
       "[1] 34 52"
      ]
     },
     "metadata": {},
     "output_type": "display_data"
    }
   ],
   "source": [
    "patientdata$age[c(2,4)]"
   ]
  },
  {
   "cell_type": "code",
   "execution_count": 29,
   "metadata": {},
   "outputs": [
    {
     "data": {
      "text/html": [
       "<ol class=list-inline>\n",
       "\t<li>Poor</li>\n",
       "\t<li>Improved</li>\n",
       "\t<li>Excellent</li>\n",
       "\t<li>Poor</li>\n",
       "</ol>\n",
       "\n",
       "<details>\n",
       "\t<summary style=display:list-item;cursor:pointer>\n",
       "\t\t<strong>Levels</strong>:\n",
       "\t</summary>\n",
       "\t<ol class=list-inline>\n",
       "\t\t<li>'Excellent'</li>\n",
       "\t\t<li>'Improved'</li>\n",
       "\t\t<li>'Poor'</li>\n",
       "\t</ol>\n",
       "</details>"
      ],
      "text/latex": [
       "\\begin{enumerate*}\n",
       "\\item Poor\n",
       "\\item Improved\n",
       "\\item Excellent\n",
       "\\item Poor\n",
       "\\end{enumerate*}\n",
       "\n",
       "\\emph{Levels}: \\begin{enumerate*}\n",
       "\\item 'Excellent'\n",
       "\\item 'Improved'\n",
       "\\item 'Poor'\n",
       "\\end{enumerate*}\n"
      ],
      "text/markdown": [
       "1. Poor\n",
       "2. Improved\n",
       "3. Excellent\n",
       "4. Poor\n",
       "\n",
       "\n",
       "\n",
       "**Levels**: 1. 'Excellent'\n",
       "2. 'Improved'\n",
       "3. 'Poor'\n",
       "\n",
       "\n"
      ],
      "text/plain": [
       "[1] Poor      Improved  Excellent Poor     \n",
       "Levels: Excellent Improved Poor"
      ]
     },
     "metadata": {},
     "output_type": "display_data"
    }
   ],
   "source": [
    "patientdata$status"
   ]
  },
  {
   "cell_type": "code",
   "execution_count": 30,
   "metadata": {},
   "outputs": [],
   "source": [
    "attach(mtcars)"
   ]
  },
  {
   "cell_type": "code",
   "execution_count": 31,
   "metadata": {},
   "outputs": [
    {
     "data": {
      "text/plain": [
       "   Min. 1st Qu.  Median    Mean 3rd Qu.    Max. \n",
       "  10.40   15.42   19.20   20.09   22.80   33.90 "
      ]
     },
     "metadata": {},
     "output_type": "display_data"
    }
   ],
   "source": [
    "summary(mpg)"
   ]
  },
  {
   "cell_type": "code",
   "execution_count": 32,
   "metadata": {},
   "outputs": [
    {
     "data": {
      "image/png": "[encoded data removed]",
      "text/plain": [
       "plot without title"
      ]
     },
     "metadata": {},
     "output_type": "display_data"
    }
   ],
   "source": [
    "plot(mpg,disp)"
   ]
  },
  {
   "cell_type": "code",
   "execution_count": 33,
   "metadata": {},
   "outputs": [
    {
     "data": {
      "image/png": "[encoded data removed]",
      "text/plain": [
       "plot without title"
      ]
     },
     "metadata": {},
     "output_type": "display_data"
    }
   ],
   "source": [
    "plot(mpg,wt)"
   ]
  },
  {
   "cell_type": "code",
   "execution_count": 34,
   "metadata": {},
   "outputs": [],
   "source": [
    "detach(mtcars)"
   ]
  },
  {
   "cell_type": "code",
   "execution_count": 36,
   "metadata": {
    "scrolled": true
   },
   "outputs": [
    {
     "name": "stdout",
     "output_type": "stream",
     "text": [
      "   Min. 1st Qu.  Median    Mean 3rd Qu.    Max. \n",
      "  10.40   15.42   19.20   20.09   22.80   33.90 \n"
     ]
    },
    {
     "data": {
      "image/png": "[encoded data removed]",
      "text/plain": [
       "plot without title"
      ]
     },
     "metadata": {},
     "output_type": "display_data"
    },
    {
     "data": {
      "image/png": "[encoded data removed]",
      "text/plain": [
       "plot without title"
      ]
     },
     "metadata": {},
     "output_type": "display_data"
    }
   ],
   "source": [
    "with(mtcars,\n",
    "     {\n",
    "         print(summary(mpg))\n",
    "         plot(mpg,disp)\n",
    "         plot(mpg,wt)\n",
    "     })"
   ]
  },
  {
   "cell_type": "code",
   "execution_count": 37,
   "metadata": {},
   "outputs": [],
   "source": [
    "status <- c(\"Poor\",\"Improved\",\"Excellent\",\"Poor\")"
   ]
  },
  {
   "cell_type": "code",
   "execution_count": 40,
   "metadata": {},
   "outputs": [],
   "source": [
    "statusFactor <- factor(status,order=TRUE,\n",
    "                      levels=c(\"Poor\",\"Improved\",\"Excellent\"))"
   ]
  },
  {
   "cell_type": "code",
   "execution_count": 41,
   "metadata": {},
   "outputs": [
    {
     "data": {
      "text/html": [
       "<ol class=list-inline>\n",
       "\t<li>'Poor'</li>\n",
       "\t<li>'Improved'</li>\n",
       "\t<li>'Excellent'</li>\n",
       "\t<li>'Poor'</li>\n",
       "</ol>\n"
      ],
      "text/latex": [
       "\\begin{enumerate*}\n",
       "\\item 'Poor'\n",
       "\\item 'Improved'\n",
       "\\item 'Excellent'\n",
       "\\item 'Poor'\n",
       "\\end{enumerate*}\n"
      ],
      "text/markdown": [
       "1. 'Poor'\n",
       "2. 'Improved'\n",
       "3. 'Excellent'\n",
       "4. 'Poor'\n",
       "\n",
       "\n"
      ],
      "text/plain": [
       "[1] \"Poor\"      \"Improved\"  \"Excellent\" \"Poor\"     "
      ]
     },
     "metadata": {},
     "output_type": "display_data"
    }
   ],
   "source": [
    "status"
   ]
  },
  {
   "cell_type": "code",
   "execution_count": 42,
   "metadata": {},
   "outputs": [
    {
     "ename": "ERROR",
     "evalue": "Error in eval(expr, envir, enclos): could not find function \"status.level\"\n",
     "output_type": "error",
     "traceback": [
      "Error in eval(expr, envir, enclos): could not find function \"status.level\"\nTraceback:\n"
     ]
    }
   ],
   "source": [
    "status.level()"
   ]
  },
  {
   "cell_type": "code",
   "execution_count": 44,
   "metadata": {},
   "outputs": [
    {
     "data": {
      "text/html": [
       "<dl>\n",
       "\t<dt>$levels</dt>\n",
       "\t\t<dd><ol class=list-inline>\n",
       "\t<li>'Poor'</li>\n",
       "\t<li>'Improved'</li>\n",
       "\t<li>'Excellent'</li>\n",
       "</ol>\n",
       "</dd>\n",
       "\t<dt>$class</dt>\n",
       "\t\t<dd><ol class=list-inline>\n",
       "\t<li>'ordered'</li>\n",
       "\t<li>'factor'</li>\n",
       "</ol>\n",
       "</dd>\n",
       "</dl>\n"
      ],
      "text/latex": [
       "\\begin{description}\n",
       "\\item[\\$levels] \\begin{enumerate*}\n",
       "\\item 'Poor'\n",
       "\\item 'Improved'\n",
       "\\item 'Excellent'\n",
       "\\end{enumerate*}\n",
       "\n",
       "\\item[\\$class] \\begin{enumerate*}\n",
       "\\item 'ordered'\n",
       "\\item 'factor'\n",
       "\\end{enumerate*}\n",
       "\n",
       "\\end{description}\n"
      ],
      "text/markdown": [
       "$levels\n",
       ":   1. 'Poor'\n",
       "2. 'Improved'\n",
       "3. 'Excellent'\n",
       "\n",
       "\n",
       "\n",
       "$class\n",
       ":   1. 'ordered'\n",
       "2. 'factor'\n",
       "\n",
       "\n",
       "\n",
       "\n",
       "\n"
      ],
      "text/plain": [
       "$levels\n",
       "[1] \"Poor\"      \"Improved\"  \"Excellent\"\n",
       "\n",
       "$class\n",
       "[1] \"ordered\" \"factor\" \n"
      ]
     },
     "metadata": {},
     "output_type": "display_data"
    }
   ],
   "source": [
    "attributes(statusFactor)"
   ]
  },
  {
   "cell_type": "code",
   "execution_count": 47,
   "metadata": {},
   "outputs": [],
   "source": [
    "g <- \"My First List\" \n",
    "h <- c(25, 26, 18, 39) \n",
    "j <- matrix(1:10, nrow=5) \n",
    "k <- c(\"one\", \"two\", \"three\")"
   ]
  },
  {
   "cell_type": "code",
   "execution_count": 58,
   "metadata": {},
   "outputs": [],
   "source": [
    "myList <- list(title=g,element=list(h,j,k))"
   ]
  },
  {
   "cell_type": "code",
   "execution_count": 59,
   "metadata": {},
   "outputs": [
    {
     "data": {
      "text/html": [
       "'My First List'"
      ],
      "text/latex": [
       "'My First List'"
      ],
      "text/markdown": [
       "'My First List'"
      ],
      "text/plain": [
       "[1] \"My First List\""
      ]
     },
     "metadata": {},
     "output_type": "display_data"
    }
   ],
   "source": [
    "myList$title"
   ]
  },
  {
   "cell_type": "code",
   "execution_count": 60,
   "metadata": {},
   "outputs": [
    {
     "data": {
      "text/html": [
       "<ol>\n",
       "\t<li><ol class=list-inline>\n",
       "\t<li>25</li>\n",
       "\t<li>26</li>\n",
       "\t<li>18</li>\n",
       "\t<li>39</li>\n",
       "</ol>\n",
       "</li>\n",
       "\t<li><table>\n",
       "<tbody>\n",
       "\t<tr><td>1 </td><td> 6</td></tr>\n",
       "\t<tr><td>2 </td><td> 7</td></tr>\n",
       "\t<tr><td>3 </td><td> 8</td></tr>\n",
       "\t<tr><td>4 </td><td> 9</td></tr>\n",
       "\t<tr><td>5 </td><td>10</td></tr>\n",
       "</tbody>\n",
       "</table>\n",
       "</li>\n",
       "\t<li><ol class=list-inline>\n",
       "\t<li>'one'</li>\n",
       "\t<li>'two'</li>\n",
       "\t<li>'three'</li>\n",
       "</ol>\n",
       "</li>\n",
       "</ol>\n"
      ],
      "text/latex": [
       "\\begin{enumerate}\n",
       "\\item \\begin{enumerate*}\n",
       "\\item 25\n",
       "\\item 26\n",
       "\\item 18\n",
       "\\item 39\n",
       "\\end{enumerate*}\n",
       "\n",
       "\\item \\begin{tabular}{ll}\n",
       "\t 1  &  6\\\\\n",
       "\t 2  &  7\\\\\n",
       "\t 3  &  8\\\\\n",
       "\t 4  &  9\\\\\n",
       "\t 5  & 10\\\\\n",
       "\\end{tabular}\n",
       "\n",
       "\\item \\begin{enumerate*}\n",
       "\\item 'one'\n",
       "\\item 'two'\n",
       "\\item 'three'\n",
       "\\end{enumerate*}\n",
       "\n",
       "\\end{enumerate}\n"
      ],
      "text/markdown": [
       "1. 1. 25\n",
       "2. 26\n",
       "3. 18\n",
       "4. 39\n",
       "\n",
       "\n",
       "\n",
       "2. \n",
       "| 1  |  6 | \n",
       "| 2  |  7 | \n",
       "| 3  |  8 | \n",
       "| 4  |  9 | \n",
       "| 5  | 10 | \n",
       "\n",
       "\n",
       "\n",
       "3. 1. 'one'\n",
       "2. 'two'\n",
       "3. 'three'\n",
       "\n",
       "\n",
       "\n",
       "\n",
       "\n"
      ],
      "text/plain": [
       "[[1]]\n",
       "[1] 25 26 18 39\n",
       "\n",
       "[[2]]\n",
       "     [,1] [,2]\n",
       "[1,]    1    6\n",
       "[2,]    2    7\n",
       "[3,]    3    8\n",
       "[4,]    4    9\n",
       "[5,]    5   10\n",
       "\n",
       "[[3]]\n",
       "[1] \"one\"   \"two\"   \"three\"\n"
      ]
     },
     "metadata": {},
     "output_type": "display_data"
    }
   ],
   "source": [
    "myList$element"
   ]
  },
  {
   "cell_type": "code",
   "execution_count": 61,
   "metadata": {
    "scrolled": true
   },
   "outputs": [
    {
     "name": "stdout",
     "output_type": "stream",
     "text": [
      "[[1]]\n",
      "[1] 25 26 18 39\n",
      "\n",
      "[[2]]\n",
      "     [,1] [,2]\n",
      "[1,]    1    6\n",
      "[2,]    2    7\n",
      "[3,]    3    8\n",
      "[4,]    4    9\n",
      "[5,]    5   10\n",
      "\n",
      "[[3]]\n",
      "[1] \"one\"   \"two\"   \"three\"\n",
      "\n"
     ]
    }
   ],
   "source": [
    "with(myList,\n",
    "     {\n",
    "         print(element)\n",
    "     })"
   ]
  },
  {
   "cell_type": "code",
   "execution_count": null,
   "metadata": {},
   "outputs": [],
   "source": []
  }
 ],
 "metadata": {
  "kernelspec": {
   "display_name": "R",
   "language": "R",
   "name": "ir"
  },
  "language_info": {
   "codemirror_mode": "r",
   "file_extension": ".r",
   "mimetype": "text/x-r-source",
   "name": "R",
   "pygments_lexer": "r",
   "version": "3.2.3"
  }
 },
 "nbformat": 4,
 "nbformat_minor": 2
}
